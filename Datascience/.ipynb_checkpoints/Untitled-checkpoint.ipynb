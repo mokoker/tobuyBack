{
 "cells": [
  {
   "cell_type": "code",
   "execution_count": 153,
   "metadata": {},
   "outputs": [],
   "source": [
    "import urllib.request\n",
    "from bs4 import BeautifulSoup\n",
    "from pyquery import PyQuery as pq\n",
    "import json\n",
    "\n"
   ]
  },
  {
   "cell_type": "code",
   "execution_count": 99,
   "metadata": {},
   "outputs": [],
   "source": [
    "contents = urllib.request.urlopen(\"https://www.hepsiburada.com/sitemaps/kategoriler/sitemap_1.xml\").read()\n",
    "y=BeautifulSoup(contents,features=\"xml\")\n",
    "z=y.find_all(\"loc\")"
   ]
  },
  {
   "cell_type": "code",
   "execution_count": null,
   "metadata": {},
   "outputs": [
    {
     "name": "stdout",
     "output_type": "stream",
     "text": [
      "hata olustuhttps://www.hepsiburada.com/80508070-c-80508071\n",
      "hata olustuhttps://www.hepsiburada.com/ekran-lcd-panel-yedek-parca-c-60008834\n",
      "hata olustuhttps://www.hepsiburada.com/duvar-susleri-c-309734\n",
      "hata olustuhttps://www.hepsiburada.com/bebek-yastik-kilifi-c-80381046\n",
      "hata olustuhttps://www.hepsiburada.com/bebek-yuz-ortusu-c-80381049\n",
      "hata olustuhttps://www.hepsiburada.com/bebek-carsaf-c-80381047\n",
      "hata olustuhttps://www.hepsiburada.com/cibinlik-ve-aksesuari-c-80381048\n",
      "hata olustuhttps://www.hepsiburada.com/bebek-havlu-bornozlari-c-311645\n",
      "hata olustuhttps://www.hepsiburada.com/kirli-torbasi-c-80381051\n",
      "hata olustuhttps://www.hepsiburada.com/kavanoz-mamalari-c-302132\n",
      "hata olustuhttps://www.hepsiburada.com/bebek-biskuvisi-c-80381002\n",
      "hata olustuhttps://www.hepsiburada.com/biberon-emzikler-c-23031803\n",
      "hata olustuhttps://www.hepsiburada.com/biberon-aksesuarlari-c-23020683\n",
      "hata olustuhttps://www.hepsiburada.com/biberon-isiticilar-sterilizatorler-c-301166\n",
      "hata olustuhttps://www.hepsiburada.com/yalanci-emzik-c-297822\n",
      "hata olustuhttps://www.hepsiburada.com/bebek-pudralari-parfumleri-c-301174\n",
      "hata olustuhttps://www.hepsiburada.com/kalemlikler-c-15089\n"
     ]
    }
   ],
   "source": [
    "counter = 0\n",
    "for y in z:\n",
    "    counter+=1\n",
    "    if counter >10:\n",
    "        break;\n",
    "    GetPage(y.text)"
   ]
  },
  {
   "cell_type": "code",
   "execution_count": 147,
   "metadata": {},
   "outputs": [],
   "source": [
    "class Tree:\n",
    "    def __init__(self, name):\n",
    "        self.name = name\n",
    "        self.items=[]\n",
    "    def addBranch(self,item):\n",
    "        item = item.strip()\n",
    "        for i in self.items:\n",
    "            if i.name == item:\n",
    "                return i\n",
    "        nw = Tree(item)\n",
    "        self.items.append(nw)\n",
    "        return nw\n",
    "    "
   ]
  },
  {
   "cell_type": "code",
   "execution_count": 162,
   "metadata": {},
   "outputs": [],
   "source": [
    "ana = Tree('Ana Sayfa')"
   ]
  },
  {
   "cell_type": "code",
   "execution_count": 163,
   "metadata": {},
   "outputs": [],
   "source": [
    "for i in ana.items:\n",
    "    print(i.name)\n",
    "\n",
    "\n"
   ]
  },
  {
   "cell_type": "code",
   "execution_count": null,
   "metadata": {},
   "outputs": [],
   "source": [
    "def GetPage(page):\n",
    "    print(page)\n",
    "    try:\n",
    "        contents = urllib.request.urlopen(page).read()\n",
    "        d = pq(contents)\n",
    "        e = d('ul[class=\"breadcrumbs\"] li ')\n",
    "        count =0\n",
    "        last =ana\n",
    "        for i in e:\n",
    "            count +=1\n",
    "            if count == 1:\n",
    "                continue\n",
    "            x=pq(i)\n",
    "            last = last.addBranch(x.text().strip())\n",
    "    except:\n",
    "        print('hata olustu' + page)\n",
    "        \n",
    "\n",
    "\n",
    "    "
   ]
  },
  {
   "cell_type": "code",
   "execution_count": null,
   "metadata": {},
   "outputs": [],
   "source": []
  }
 ],
 "metadata": {
  "kernelspec": {
   "display_name": "Python 3",
   "language": "python",
   "name": "python3"
  },
  "language_info": {
   "codemirror_mode": {
    "name": "ipython",
    "version": 3
   },
   "file_extension": ".py",
   "mimetype": "text/x-python",
   "name": "python",
   "nbconvert_exporter": "python",
   "pygments_lexer": "ipython3",
   "version": "3.7.1"
  }
 },
 "nbformat": 4,
 "nbformat_minor": 2
}
