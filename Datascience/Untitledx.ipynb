{
 "cells": [
  {
   "cell_type": "code",
   "execution_count": 58,
   "metadata": {},
   "outputs": [],
   "source": [
    "import urllib.request\n",
    "import time\n",
    "from pyquery import PyQuery as pq\n",
    "import csv\n",
    "import re\n",
    "from selenium import webdriver\n",
    "import selenium.webdriver.chrome.service as srv\n",
    "import time\n",
    "import numpy as np\n",
    "import pandas as pd\n",
    "from textgenrnn import textgenrnn\n"
   ]
  },
  {
   "cell_type": "code",
   "execution_count": 59,
   "metadata": {},
   "outputs": [],
   "source": [
    "def tr_lower(self):\n",
    "    self = re.sub(r\"İ\", \"i\", self)\n",
    "    self = re.sub(r\"I\", \"ı\", self)\n",
    "    self = re.sub(r\"Ç\", \"ç\", self)\n",
    "    self = re.sub(r\"Ş\", \"ş\", self)\n",
    "    self = re.sub(r\"Ü\", \"ü\", self)\n",
    "    self = re.sub(r\"Ğ\", \"ğ\", self)\n",
    "    self = self.lower() # for the rest use default lower\n",
    "    return self"
   ]
  },
  {
   "cell_type": "code",
   "execution_count": 60,
   "metadata": {},
   "outputs": [],
   "source": [
    "def dowload(page,url,myset):\n",
    "    offset = page * 50;\n",
    "    urlx = f\"{url}?pagingOffset={offset}&pagingSize=50\"\n",
    "    req = urllib.request.Request(\n",
    "        url= urlx,\n",
    "        data=None, \n",
    "        headers={\n",
    "            'User-Agent': 'Mozilla/5.0 (Linux; Android 6.0.1; Nexus 5X Build/MMB29P) AppleWebKit/537.36 (KHTML, like Gecko) Chrome/41.0.2272.96 Mobile Safari/537.36 (compatible; Googlebot/2.1; +http://www.google.com/bot.html)'\n",
    "        }\n",
    "    )\n",
    "    print(urlx)\n",
    "    contents = urllib.request.urlopen(req).read()\n",
    "    if get(contents,myset):\n",
    "        return\n",
    "    page +=1\n",
    "    dowload(page,url,myset)"
   ]
  },
  {
   "cell_type": "code",
   "execution_count": 61,
   "metadata": {},
   "outputs": [],
   "source": [
    "def get(cont,myset):\n",
    "    d = pq(cont)\n",
    "    lic = d('.searchResultsRowClass')\n",
    "    e = lic('a')\n",
    "    numbefore = len(myset)\n",
    "    for x in e:\n",
    "        myset.add(x.attrib['href'])\n",
    "    numafter = len(myset)\n",
    "    print(len(myset))\n",
    "    return numbefore == numafter"
   ]
  },
  {
   "cell_type": "code",
   "execution_count": null,
   "metadata": {},
   "outputs": [],
   "source": [
    "def getData(name,myset):\n",
    "    service = srv.Service('./chromedriver.exe')\n",
    "    service.start()\n",
    "    capabilities = {'chrome.binary': '/path/to/custom/chrome'}\n",
    "    driver = webdriver.Remote(service.service_url, capabilities)\n",
    "    result = []\n",
    "    counter = 0\n",
    "    for url in myset:\n",
    "        counter +=1\n",
    "        if counter >20:\n",
    "            break\n",
    "        try:\n",
    "            driver.get('https://www.sahibinden.com'+url);\n",
    "            desc=driver.find_element_by_id('classifiedDescription').get_attribute('innerText')\n",
    "            desc = desc.replace('-',' ')\n",
    "            desc = desc.replace('*',' ')\n",
    "            desc = desc.replace('\"','')\n",
    "            desc = desc.replace(\"'\",' ')\n",
    "            desc = desc.replace('+',' ')\n",
    "            desc = desc.replace('/',' ')\n",
    "            desc = desc.replace('*',' ')\n",
    "            desc = desc.replace('..',' ')\n",
    "            desc = desc.replace('...',' ')\n",
    "            desc = desc.replace('_',' ')\n",
    "            desc = re.sub('\\s+', ' ', desc).strip()\n",
    "            desc =  tr_lower(desc)\n",
    "\n",
    "            title=driver.find_element_by_css_selector('.classifiedDetailTitle h1').get_attribute('innerText')\n",
    "            title = title.replace('\\n','')\n",
    "            title = title.replace('\\t','')\n",
    "            title = title.replace('-',' ')\n",
    "            title = title.replace('+',' ')\n",
    "            title = title.replace('/',' ')\n",
    "            title = title.replace('\"','')\n",
    "            title = title.replace('*',' ')\n",
    "            title = title.replace('..',' ')\n",
    "            title = title.replace('...',' ')\n",
    "            title = title.strip('\"')\n",
    "            title = re.sub('\\s+', ' ', title).strip()\n",
    "            title= tr_lower(title)\n",
    "            result.append({ \"desc\": desc, \"title\": title})\n",
    "            print(title)\n",
    "        except:\n",
    "            print('hata olustu' + url)\n",
    "        time.sleep(1)\n",
    "    driver.quit()\n",
    "    with open(name+'Titles.csv', 'a',newline=\"\\n\", encoding='utf-8') as csvfile:\n",
    "        fieldnames = ['title']\n",
    "        writer = csv.DictWriter(csvfile, fieldnames=fieldnames)\n",
    "        for l in result:\n",
    "            writer.writerow({'title': l[\"title\"]})\n",
    "    with open(name+'Desc.csv', 'a',newline=\"\\n\", encoding='utf-8') as csvfile:\n",
    "        fieldnames = ['desc']\n",
    "        writer = csv.DictWriter(csvfile, fieldnames=fieldnames)\n",
    "        for l in result:\n",
    "            writer.writerow({'desc': l[\"desc\"]})"
   ]
  },
  {
   "cell_type": "code",
   "execution_count": null,
   "metadata": {},
   "outputs": [],
   "source": [
    "\n",
    "service = srv.Service('./chromedriver.exe')\n",
    "service.start()\n",
    "capabilities = {'chrome.binary': '/path/to/custom/chrome'}\n",
    "driver = webdriver.Remote(service.service_url, capabilities)\n",
    "try:\n",
    "    driver.get('https://www.sahibinden.com/kategori/otomobil')\n",
    "    titles = driver.find_elements_by_css_selector('.jspPane li')\n",
    "    for x in titles:\n",
    "        brand = x.find_element_by_css_selector('a').get_attribute('innerText')\n",
    "        count = (int)(x.find_element_by_css_selector('span').get_attribute('innerText').replace('(','').replace(')',''))\n",
    "        print(count)\n",
    "        link = x.find_element_by_css_selector('a').get_attribute('href')\n",
    "        print(link)\n",
    "        if count >10:\n",
    "            myset = set()\n",
    "            driver.get(link)\n",
    "            titles = driver.find_elements_by_css_selector('#searchCategoryContainer .jspPane li a')\n",
    "            for x in titles:\n",
    "                link = x.get_attribute('href')\n",
    "                print(\"getting \" + link)\n",
    "                dowload(0,link,myset)\n",
    "            getData(brand,myset)\n",
    "except:\n",
    "    raise"
   ]
  },
  {
   "cell_type": "code",
   "execution_count": 80,
   "metadata": {},
   "outputs": [
    {
     "name": "stdout",
     "output_type": "stream",
     "text": [
      "5,784 texts collected.\n",
      "Training new model w/ 2-layer, 64-cell Bidirectional LSTMs\n",
      "Training on 554,950 word sequences.\n",
      "Epoch 1/3\n"
     ]
    },
    {
     "name": "stdout",
     "output_type": "stream",
     "text": [
      " 312/4335 [=>............................] - ETA: 5:27:49 - loss: 9.21 - ETA: 3:05:56 - loss: 9.15 - ETA: 2:18:13 - loss: 10.084 - ETA: 1:54:12 - loss: 9.966 - ETA: 1:39:58 - loss: 9.69 - ETA: 1:30:19 - loss: 9.44 - ETA: 1:23:17 - loss: 9.27 - ETA: 1:18:07 - loss: 9.05 - ETA: 1:14:12 - loss: 8.90 - ETA: 1:11:10 - loss: 8.79 - ETA: 1:08:29 - loss: 8.66 - ETA: 1:06:20 - loss: 8.61 - ETA: 1:04:26 - loss: 8.53 - ETA: 1:02:50 - loss: 8.45 - ETA: 1:01:28 - loss: 8.39 - ETA: 1:00:16 - loss: 8.34 - ETA: 59:16 - loss: 8.2946 - ETA: 58:20 - loss: 8.25 - ETA: 57:27 - loss: 8.18 - ETA: 56:39 - loss: 8.14 - ETA: 55:58 - loss: 8.09 - ETA: 55:20 - loss: 8.04 - ETA: 54:45 - loss: 8.01 - ETA: 54:13 - loss: 7.97 - ETA: 53:42 - loss: 7.94 - ETA: 53:11 - loss: 7.91 - ETA: 52:45 - loss: 7.88 - ETA: 52:23 - loss: 7.86 - ETA: 52:01 - loss: 7.83 - ETA: 51:39 - loss: 7.82 - ETA: 51:22 - loss: 7.80 - ETA: 51:03 - loss: 7.78 - ETA: 50:46 - loss: 7.76 - ETA: 50:28 - loss: 7.74 - ETA: 50:14 - loss: 7.70 - ETA: 50:00 - loss: 7.69 - ETA: 49:54 - loss: 7.67 - ETA: 49:51 - loss: 7.66 - ETA: 49:46 - loss: 7.64 - ETA: 49:46 - loss: 7.62 - ETA: 49:49 - loss: 7.61 - ETA: 49:53 - loss: 7.60 - ETA: 50:08 - loss: 7.58 - ETA: 50:11 - loss: 7.57 - ETA: 50:17 - loss: 7.55 - ETA: 50:23 - loss: 7.54 - ETA: 50:35 - loss: 7.53 - ETA: 50:40 - loss: 7.53 - ETA: 50:47 - loss: 7.52 - ETA: 50:55 - loss: 7.51 - ETA: 51:01 - loss: 7.50 - ETA: 51:06 - loss: 7.49 - ETA: 51:12 - loss: 7.48 - ETA: 51:17 - loss: 7.48 - ETA: 51:25 - loss: 7.47 - ETA: 51:32 - loss: 7.46 - ETA: 51:39 - loss: 7.45 - ETA: 51:45 - loss: 7.44 - ETA: 51:51 - loss: 7.44 - ETA: 51:59 - loss: 7.42 - ETA: 52:08 - loss: 7.41 - ETA: 52:15 - loss: 7.40 - ETA: 52:23 - loss: 7.39 - ETA: 52:31 - loss: 7.39 - ETA: 52:37 - loss: 7.38 - ETA: 52:43 - loss: 7.37 - ETA: 52:50 - loss: 7.36 - ETA: 52:53 - loss: 7.35 - ETA: 52:58 - loss: 7.34 - ETA: 53:02 - loss: 7.33 - ETA: 53:03 - loss: 7.32 - ETA: 53:06 - loss: 7.31 - ETA: 53:08 - loss: 7.30 - ETA: 53:09 - loss: 7.29 - ETA: 53:11 - loss: 7.28 - ETA: 53:11 - loss: 7.27 - ETA: 53:11 - loss: 7.27 - ETA: 53:13 - loss: 7.26 - ETA: 53:17 - loss: 7.25 - ETA: 53:17 - loss: 7.24 - ETA: 53:17 - loss: 7.24 - ETA: 53:16 - loss: 7.22 - ETA: 53:15 - loss: 7.22 - ETA: 53:13 - loss: 7.21 - ETA: 53:13 - loss: 7.20 - ETA: 53:11 - loss: 7.19 - ETA: 53:09 - loss: 7.18 - ETA: 53:10 - loss: 7.17 - ETA: 53:11 - loss: 7.16 - ETA: 53:09 - loss: 7.15 - ETA: 53:06 - loss: 7.14 - ETA: 53:03 - loss: 7.14 - ETA: 53:01 - loss: 7.13 - ETA: 52:58 - loss: 7.12 - ETA: 52:55 - loss: 7.11 - ETA: 52:51 - loss: 7.10 - ETA: 52:48 - loss: 7.09 - ETA: 52:44 - loss: 7.08 - ETA: 52:41 - loss: 7.07 - ETA: 52:38 - loss: 7.06 - ETA: 52:35 - loss: 7.06 - ETA: 52:32 - loss: 7.05 - ETA: 52:29 - loss: 7.04 - ETA: 52:26 - loss: 7.03 - ETA: 52:23 - loss: 7.02 - ETA: 52:20 - loss: 7.01 - ETA: 52:18 - loss: 7.00 - ETA: 52:16 - loss: 6.99 - ETA: 52:16 - loss: 6.99 - ETA: 52:13 - loss: 6.98 - ETA: 52:13 - loss: 6.97 - ETA: 52:12 - loss: 6.96 - ETA: 52:10 - loss: 6.96 - ETA: 52:13 - loss: 6.95 - ETA: 52:18 - loss: 6.94 - ETA: 52:22 - loss: 6.93 - ETA: 52:24 - loss: 6.93 - ETA: 52:24 - loss: 6.92 - ETA: 52:25 - loss: 6.91 - ETA: 52:25 - loss: 6.89 - ETA: 52:24 - loss: 6.89 - ETA: 52:23 - loss: 6.88 - ETA: 52:23 - loss: 6.87 - ETA: 52:22 - loss: 6.86 - ETA: 52:22 - loss: 6.85 - ETA: 52:24 - loss: 6.85 - ETA: 52:28 - loss: 6.83 - ETA: 52:31 - loss: 6.83 - ETA: 52:33 - loss: 6.82 - ETA: 52:36 - loss: 6.82 - ETA: 52:35 - loss: 6.81 - ETA: 52:37 - loss: 6.81 - ETA: 52:37 - loss: 6.80 - ETA: 52:36 - loss: 6.79 - ETA: 52:35 - loss: 6.79 - ETA: 52:33 - loss: 6.78 - ETA: 52:32 - loss: 6.77 - ETA: 52:32 - loss: 6.76 - ETA: 52:31 - loss: 6.76 - ETA: 52:29 - loss: 6.75 - ETA: 52:27 - loss: 6.75 - ETA: 52:28 - loss: 6.74 - ETA: 52:28 - loss: 6.73 - ETA: 52:28 - loss: 6.72 - ETA: 52:26 - loss: 6.72 - ETA: 52:24 - loss: 6.71 - ETA: 52:23 - loss: 6.70 - ETA: 52:21 - loss: 6.70 - ETA: 52:19 - loss: 6.69 - ETA: 52:17 - loss: 6.69 - ETA: 52:16 - loss: 6.68 - ETA: 52:15 - loss: 6.68 - ETA: 52:13 - loss: 6.68 - ETA: 52:11 - loss: 6.67 - ETA: 52:14 - loss: 6.66 - ETA: 52:13 - loss: 6.65 - ETA: 52:12 - loss: 6.65 - ETA: 52:10 - loss: 6.65 - ETA: 52:09 - loss: 6.64 - ETA: 52:07 - loss: 6.63 - ETA: 52:05 - loss: 6.62 - ETA: 52:03 - loss: 6.62 - ETA: 52:02 - loss: 6.61 - ETA: 52:01 - loss: 6.61 - ETA: 52:00 - loss: 6.60 - ETA: 51:59 - loss: 6.60 - ETA: 51:58 - loss: 6.59 - ETA: 51:56 - loss: 6.59 - ETA: 51:55 - loss: 6.58 - ETA: 51:55 - loss: 6.57 - ETA: 51:54 - loss: 6.57 - ETA: 51:52 - loss: 6.57 - ETA: 51:51 - loss: 6.56 - ETA: 51:50 - loss: 6.56 - ETA: 51:48 - loss: 6.55 - ETA: 51:47 - loss: 6.54 - ETA: 51:46 - loss: 6.54 - ETA: 51:45 - loss: 6.54 - ETA: 51:44 - loss: 6.53 - ETA: 51:43 - loss: 6.53 - ETA: 51:42 - loss: 6.52 - ETA: 51:41 - loss: 6.52 - ETA: 51:40 - loss: 6.51 - ETA: 51:39 - loss: 6.50 - ETA: 51:38 - loss: 6.50 - ETA: 51:37 - loss: 6.50 - ETA: 51:35 - loss: 6.49 - ETA: 51:34 - loss: 6.49 - ETA: 51:33 - loss: 6.49 - ETA: 51:32 - loss: 6.48 - ETA: 51:31 - loss: 6.48 - ETA: 51:30 - loss: 6.47 - ETA: 51:29 - loss: 6.47 - ETA: 51:27 - loss: 6.46 - ETA: 51:26 - loss: 6.46 - ETA: 51:25 - loss: 6.46 - ETA: 51:24 - loss: 6.45 - ETA: 51:23 - loss: 6.45 - ETA: 51:22 - loss: 6.45 - ETA: 51:20 - loss: 6.45 - ETA: 51:19 - loss: 6.44 - ETA: 51:18 - loss: 6.43 - ETA: 51:17 - loss: 6.43 - ETA: 51:16 - loss: 6.42 - ETA: 51:15 - loss: 6.42 - ETA: 51:14 - loss: 6.41 - ETA: 51:13 - loss: 6.41 - ETA: 51:12 - loss: 6.41 - ETA: 51:11 - loss: 6.41 - ETA: 51:10 - loss: 6.40 - ETA: 51:09 - loss: 6.40 - ETA: 51:08 - loss: 6.39 - ETA: 51:07 - loss: 6.39 - ETA: 51:06 - loss: 6.38 - ETA: 51:06 - loss: 6.38 - ETA: 51:05 - loss: 6.37 - ETA: 51:04 - loss: 6.37 - ETA: 51:04 - loss: 6.36 - ETA: 51:03 - loss: 6.36 - ETA: 51:02 - loss: 6.36 - ETA: 51:01 - loss: 6.35 - ETA: 51:01 - loss: 6.35 - ETA: 51:01 - loss: 6.34 - ETA: 51:00 - loss: 6.34 - ETA: 50:59 - loss: 6.34 - ETA: 50:58 - loss: 6.33 - ETA: 50:58 - loss: 6.33 - ETA: 50:59 - loss: 6.32 - ETA: 50:59 - loss: 6.32 - ETA: 50:58 - loss: 6.32 - ETA: 50:57 - loss: 6.31 - ETA: 50:55 - loss: 6.31 - ETA: 50:54 - loss: 6.31 - ETA: 50:52 - loss: 6.30 - ETA: 50:51 - loss: 6.30 - ETA: 50:50 - loss: 6.30 - ETA: 50:48 - loss: 6.29 - ETA: 50:47 - loss: 6.29 - ETA: 50:46 - loss: 6.28 - ETA: 50:44 - loss: 6.28 - ETA: 50:43 - loss: 6.28 - ETA: 50:42 - loss: 6.27 - ETA: 50:40 - loss: 6.27 - ETA: 50:39 - loss: 6.27 - ETA: 50:38 - loss: 6.26 - ETA: 50:37 - loss: 6.26 - ETA: 50:36 - loss: 6.26 - ETA: 50:35 - loss: 6.25 - ETA: 50:34 - loss: 6.25 - ETA: 50:34 - loss: 6.25 - ETA: 50:34 - loss: 6.24 - ETA: 50:33 - loss: 6.24 - ETA: 50:33 - loss: 6.23 - ETA: 50:32 - loss: 6.23 - ETA: 50:31 - loss: 6.23 - ETA: 50:30 - loss: 6.22 - ETA: 50:29 - loss: 6.22 - ETA: 50:27 - loss: 6.22 - ETA: 50:26 - loss: 6.21 - ETA: 50:25 - loss: 6.21 - ETA: 50:25 - loss: 6.21 - ETA: 50:24 - loss: 6.20 - ETA: 50:23 - loss: 6.20 - ETA: 50:21 - loss: 6.19 - ETA: 50:21 - loss: 6.19 - ETA: 50:20 - loss: 6.19 - ETA: 50:19 - loss: 6.19 - ETA: 50:19 - loss: 6.19 - ETA: 50:18 - loss: 6.18 - ETA: 50:17 - loss: 6.18 - ETA: 50:17 - loss: 6.18 - ETA: 50:16 - loss: 6.17 - ETA: 50:16 - loss: 6.17 - ETA: 50:15 - loss: 6.17 - ETA: 50:14 - loss: 6.16 - ETA: 50:13 - loss: 6.16 - ETA: 50:12 - loss: 6.16 - ETA: 50:11 - loss: 6.15 - ETA: 50:11 - loss: 6.15 - ETA: 50:10 - loss: 6.15 - ETA: 50:09 - loss: 6.14 - ETA: 50:09 - loss: 6.14 - ETA: 50:08 - loss: 6.13 - ETA: 50:07 - loss: 6.13 - ETA: 50:06 - loss: 6.13 - ETA: 50:05 - loss: 6.12 - ETA: 50:05 - loss: 6.12 - ETA: 50:04 - loss: 6.12 - ETA: 50:04 - loss: 6.12 - ETA: 50:03 - loss: 6.12 - ETA: 50:02 - loss: 6.11 - ETA: 50:02 - loss: 6.11 - ETA: 50:01 - loss: 6.11 - ETA: 50:01 - loss: 6.10 - ETA: 50:00 - loss: 6.10 - ETA: 49:59 - loss: 6.10 - ETA: 49:58 - loss: 6.09 - ETA: 49:58 - loss: 6.09 - ETA: 49:57 - loss: 6.09 - ETA: 49:56 - loss: 6.09 - ETA: 49:56 - loss: 6.08 - ETA: 49:55 - loss: 6.08 - ETA: 49:54 - loss: 6.08 - ETA: 49:53 - loss: 6.07 - ETA: 49:53 - loss: 6.07 - ETA: 49:52 - loss: 6.07 - ETA: 49:52 - loss: 6.06 - ETA: 49:51 - loss: 6.06 - ETA: 49:51 - loss: 6.06 - ETA: 49:50 - loss: 6.06 - ETA: 49:49 - loss: 6.05 - ETA: 49:49 - loss: 6.0552 626/4335 [===>..........................] - ETA: 49:48 - loss: 6.05 - ETA: 49:48 - loss: 6.04 - ETA: 49:47 - loss: 6.04 - ETA: 49:45 - loss: 6.04 - ETA: 49:44 - loss: 6.04 - ETA: 49:44 - loss: 6.04 - ETA: 49:43 - loss: 6.04 - ETA: 49:41 - loss: 6.03 - ETA: 49:40 - loss: 6.03 - ETA: 49:39 - loss: 6.03 - ETA: 49:38 - loss: 6.02 - ETA: 49:37 - loss: 6.02 - ETA: 49:36 - loss: 6.02 - ETA: 49:35 - loss: 6.02 - ETA: 49:34 - loss: 6.01 - ETA: 49:32 - loss: 6.01 - ETA: 49:32 - loss: 6.01 - ETA: 49:31 - loss: 6.00 - ETA: 49:30 - loss: 6.00 - ETA: 49:29 - loss: 6.00 - ETA: 49:28 - loss: 6.00 - ETA: 49:27 - loss: 6.00 - ETA: 49:26 - loss: 5.99 - ETA: 49:25 - loss: 5.99 - ETA: 49:24 - loss: 5.99 - ETA: 49:23 - loss: 5.99 - ETA: 49:22 - loss: 5.98 - ETA: 49:21 - loss: 5.98 - ETA: 49:19 - loss: 5.98 - ETA: 49:18 - loss: 5.98 - ETA: 49:17 - loss: 5.98 - ETA: 49:16 - loss: 5.97 - ETA: 49:15 - loss: 5.97 - ETA: 49:15 - loss: 5.97 - ETA: 49:14 - loss: 5.96 - ETA: 49:13 - loss: 5.96 - ETA: 49:12 - loss: 5.96 - ETA: 49:11 - loss: 5.95 - ETA: 49:10 - loss: 5.95 - ETA: 49:09 - loss: 5.95 - ETA: 49:08 - loss: 5.95 - ETA: 49:08 - loss: 5.95 - ETA: 49:06 - loss: 5.94 - ETA: 49:06 - loss: 5.94 - ETA: 49:05 - loss: 5.94 - ETA: 49:04 - loss: 5.94 - ETA: 49:03 - loss: 5.93 - ETA: 49:02 - loss: 5.93 - ETA: 49:01 - loss: 5.93 - ETA: 49:00 - loss: 5.93 - ETA: 48:59 - loss: 5.92 - ETA: 48:58 - loss: 5.92 - ETA: 48:57 - loss: 5.92 - ETA: 48:56 - loss: 5.92 - ETA: 48:55 - loss: 5.91 - ETA: 48:54 - loss: 5.91 - ETA: 48:53 - loss: 5.91 - ETA: 48:52 - loss: 5.91 - ETA: 48:52 - loss: 5.91 - ETA: 48:51 - loss: 5.90 - ETA: 48:50 - loss: 5.90 - ETA: 48:50 - loss: 5.90 - ETA: 48:49 - loss: 5.90 - ETA: 48:48 - loss: 5.89 - ETA: 48:48 - loss: 5.89 - ETA: 48:47 - loss: 5.89 - ETA: 48:46 - loss: 5.89 - ETA: 48:45 - loss: 5.89 - ETA: 48:44 - loss: 5.88 - ETA: 48:43 - loss: 5.88 - ETA: 48:43 - loss: 5.88 - ETA: 48:42 - loss: 5.88 - ETA: 48:41 - loss: 5.87 - ETA: 48:41 - loss: 5.87 - ETA: 48:40 - loss: 5.87 - ETA: 48:39 - loss: 5.87 - ETA: 48:38 - loss: 5.87 - ETA: 48:38 - loss: 5.87 - ETA: 48:37 - loss: 5.86 - ETA: 48:36 - loss: 5.86 - ETA: 48:35 - loss: 5.86 - ETA: 48:34 - loss: 5.86 - ETA: 48:34 - loss: 5.86 - ETA: 48:33 - loss: 5.85 - ETA: 48:32 - loss: 5.85 - ETA: 48:31 - loss: 5.85 - ETA: 48:30 - loss: 5.85 - ETA: 48:30 - loss: 5.85 - ETA: 48:29 - loss: 5.85 - ETA: 48:28 - loss: 5.85 - ETA: 48:28 - loss: 5.84 - ETA: 48:27 - loss: 5.84 - ETA: 48:26 - loss: 5.84 - ETA: 48:25 - loss: 5.84 - ETA: 48:24 - loss: 5.83 - ETA: 48:24 - loss: 5.83 - ETA: 48:23 - loss: 5.83 - ETA: 48:22 - loss: 5.83 - ETA: 48:22 - loss: 5.83 - ETA: 48:21 - loss: 5.82 - ETA: 48:20 - loss: 5.82 - ETA: 48:20 - loss: 5.82 - ETA: 48:20 - loss: 5.82 - ETA: 48:19 - loss: 5.81 - ETA: 48:19 - loss: 5.81 - ETA: 48:18 - loss: 5.81 - ETA: 48:17 - loss: 5.81 - ETA: 48:16 - loss: 5.81 - ETA: 48:15 - loss: 5.80 - ETA: 48:15 - loss: 5.80 - ETA: 48:14 - loss: 5.80 - ETA: 48:13 - loss: 5.80 - ETA: 48:12 - loss: 5.80 - ETA: 48:11 - loss: 5.80 - ETA: 48:11 - loss: 5.79 - ETA: 48:10 - loss: 5.79 - ETA: 48:09 - loss: 5.79 - ETA: 48:08 - loss: 5.79 - ETA: 48:07 - loss: 5.79 - ETA: 48:06 - loss: 5.79 - ETA: 48:05 - loss: 5.78 - ETA: 48:05 - loss: 5.78 - ETA: 48:04 - loss: 5.78 - ETA: 48:03 - loss: 5.78 - ETA: 48:02 - loss: 5.78 - ETA: 48:01 - loss: 5.78 - ETA: 48:00 - loss: 5.77 - ETA: 47:59 - loss: 5.77 - ETA: 47:58 - loss: 5.77 - ETA: 47:57 - loss: 5.77 - ETA: 47:56 - loss: 5.76 - ETA: 47:55 - loss: 5.76 - ETA: 47:54 - loss: 5.76 - ETA: 47:53 - loss: 5.76 - ETA: 47:52 - loss: 5.76 - ETA: 47:51 - loss: 5.76 - ETA: 47:51 - loss: 5.75 - ETA: 47:50 - loss: 5.75 - ETA: 47:49 - loss: 5.75 - ETA: 47:48 - loss: 5.75 - ETA: 47:47 - loss: 5.75 - ETA: 47:46 - loss: 5.74 - ETA: 47:45 - loss: 5.74 - ETA: 47:45 - loss: 5.74 - ETA: 47:44 - loss: 5.74 - ETA: 47:43 - loss: 5.74 - ETA: 47:42 - loss: 5.74 - ETA: 47:41 - loss: 5.73 - ETA: 47:40 - loss: 5.73 - ETA: 47:39 - loss: 5.73 - ETA: 47:38 - loss: 5.73 - ETA: 47:37 - loss: 5.73 - ETA: 47:36 - loss: 5.72 - ETA: 47:35 - loss: 5.72 - ETA: 47:35 - loss: 5.72 - ETA: 47:34 - loss: 5.72 - ETA: 47:33 - loss: 5.72 - ETA: 47:32 - loss: 5.71 - ETA: 47:31 - loss: 5.71 - ETA: 47:30 - loss: 5.71 - ETA: 47:29 - loss: 5.71 - ETA: 47:28 - loss: 5.71 - ETA: 47:27 - loss: 5.71 - ETA: 47:26 - loss: 5.70 - ETA: 47:26 - loss: 5.70 - ETA: 47:25 - loss: 5.70 - ETA: 47:24 - loss: 5.70 - ETA: 47:23 - loss: 5.70 - ETA: 47:22 - loss: 5.70 - ETA: 47:21 - loss: 5.69 - ETA: 47:21 - loss: 5.69 - ETA: 47:20 - loss: 5.69 - ETA: 47:19 - loss: 5.69 - ETA: 47:19 - loss: 5.69 - ETA: 47:19 - loss: 5.69 - ETA: 47:18 - loss: 5.69 - ETA: 47:18 - loss: 5.68 - ETA: 47:18 - loss: 5.68 - ETA: 47:18 - loss: 5.68 - ETA: 47:18 - loss: 5.68 - ETA: 47:18 - loss: 5.68 - ETA: 47:18 - loss: 5.67 - ETA: 47:17 - loss: 5.67 - ETA: 47:16 - loss: 5.67 - ETA: 47:16 - loss: 5.67 - ETA: 47:15 - loss: 5.67 - ETA: 47:15 - loss: 5.67 - ETA: 47:15 - loss: 5.66 - ETA: 47:14 - loss: 5.66 - ETA: 47:14 - loss: 5.66 - ETA: 47:13 - loss: 5.66 - ETA: 47:12 - loss: 5.66 - ETA: 47:11 - loss: 5.66 - ETA: 47:10 - loss: 5.65 - ETA: 47:10 - loss: 5.65 - ETA: 47:09 - loss: 5.65 - ETA: 47:08 - loss: 5.65 - ETA: 47:07 - loss: 5.65 - ETA: 47:06 - loss: 5.65 - ETA: 47:05 - loss: 5.64 - ETA: 47:05 - loss: 5.64 - ETA: 47:04 - loss: 5.64 - ETA: 47:03 - loss: 5.64 - ETA: 47:02 - loss: 5.64 - ETA: 47:02 - loss: 5.64 - ETA: 47:01 - loss: 5.64 - ETA: 47:00 - loss: 5.63 - ETA: 46:59 - loss: 5.63 - ETA: 46:59 - loss: 5.63 - ETA: 46:58 - loss: 5.63 - ETA: 46:57 - loss: 5.63 - ETA: 46:56 - loss: 5.63 - ETA: 46:55 - loss: 5.63 - ETA: 46:55 - loss: 5.62 - ETA: 46:54 - loss: 5.62 - ETA: 46:53 - loss: 5.62 - ETA: 46:52 - loss: 5.62 - ETA: 46:51 - loss: 5.62 - ETA: 46:51 - loss: 5.62 - ETA: 46:50 - loss: 5.61 - ETA: 46:50 - loss: 5.61 - ETA: 46:50 - loss: 5.61 - ETA: 46:49 - loss: 5.61 - ETA: 46:49 - loss: 5.61 - ETA: 46:48 - loss: 5.61 - ETA: 46:47 - loss: 5.60 - ETA: 46:47 - loss: 5.60 - ETA: 46:46 - loss: 5.60 - ETA: 46:45 - loss: 5.60 - ETA: 46:44 - loss: 5.60 - ETA: 46:44 - loss: 5.60 - ETA: 46:43 - loss: 5.60 - ETA: 46:42 - loss: 5.59 - ETA: 46:41 - loss: 5.59 - ETA: 46:40 - loss: 5.59 - ETA: 46:40 - loss: 5.59 - ETA: 46:39 - loss: 5.59 - ETA: 46:38 - loss: 5.59 - ETA: 46:37 - loss: 5.59 - ETA: 46:37 - loss: 5.59 - ETA: 46:36 - loss: 5.58 - ETA: 46:35 - loss: 5.58 - ETA: 46:34 - loss: 5.58 - ETA: 46:33 - loss: 5.58 - ETA: 46:32 - loss: 5.58 - ETA: 46:32 - loss: 5.58 - ETA: 46:31 - loss: 5.58 - ETA: 46:30 - loss: 5.58 - ETA: 46:29 - loss: 5.57 - ETA: 46:28 - loss: 5.57 - ETA: 46:28 - loss: 5.57 - ETA: 46:27 - loss: 5.57 - ETA: 46:26 - loss: 5.57 - ETA: 46:25 - loss: 5.57 - ETA: 46:24 - loss: 5.57 - ETA: 46:24 - loss: 5.56 - ETA: 46:23 - loss: 5.56 - ETA: 46:22 - loss: 5.56 - ETA: 46:22 - loss: 5.56 - ETA: 46:21 - loss: 5.56 - ETA: 46:20 - loss: 5.56 - ETA: 46:19 - loss: 5.55 - ETA: 46:19 - loss: 5.55 - ETA: 46:19 - loss: 5.55 - ETA: 46:18 - loss: 5.55 - ETA: 46:18 - loss: 5.55 - ETA: 46:17 - loss: 5.55 - ETA: 46:16 - loss: 5.55 - ETA: 46:16 - loss: 5.54 - ETA: 46:15 - loss: 5.54 - ETA: 46:14 - loss: 5.54 - ETA: 46:14 - loss: 5.54 - ETA: 46:13 - loss: 5.54 - ETA: 46:12 - loss: 5.54 - ETA: 46:12 - loss: 5.53 - ETA: 46:11 - loss: 5.53 - ETA: 46:10 - loss: 5.53 - ETA: 46:10 - loss: 5.53 - ETA: 46:09 - loss: 5.53 - ETA: 46:08 - loss: 5.53 - ETA: 46:07 - loss: 5.52 - ETA: 46:07 - loss: 5.52 - ETA: 46:06 - loss: 5.52 - ETA: 46:05 - loss: 5.52 - ETA: 46:05 - loss: 5.52 - ETA: 46:04 - loss: 5.52 - ETA: 46:03 - loss: 5.51 - ETA: 46:03 - loss: 5.51 - ETA: 46:02 - loss: 5.51 - ETA: 46:01 - loss: 5.51 - ETA: 46:00 - loss: 5.51 - ETA: 46:00 - loss: 5.51 - ETA: 45:59 - loss: 5.51 - ETA: 45:58 - loss: 5.51 - ETA: 45:57 - loss: 5.51 - ETA: 45:57 - loss: 5.51 - ETA: 45:56 - loss: 5.50 - ETA: 45:55 - loss: 5.50 - ETA: 45:54 - loss: 5.50 - ETA: 45:54 - loss: 5.50 - ETA: 45:53 - loss: 5.50 - ETA: 45:52 - loss: 5.50 - ETA: 45:52 - loss: 5.50 - ETA: 45:51 - loss: 5.50 - ETA: 45:51 - loss: 5.49 - ETA: 45:50 - loss: 5.49 - ETA: 45:49 - loss: 5.49 - ETA: 45:48 - loss: 5.49 - ETA: 45:48 - loss: 5.49 - ETA: 45:47 - loss: 5.49 - ETA: 45:46 - loss: 5.49 - ETA: 45:45 - loss: 5.49 - ETA: 45:44 - loss: 5.49 - ETA: 45:43 - loss: 5.4891 940/4335 [=====>........................] - ETA: 45:43 - loss: 5.48 - ETA: 45:42 - loss: 5.48 - ETA: 45:41 - loss: 5.48 - ETA: 45:40 - loss: 5.48 - ETA: 45:39 - loss: 5.48 - ETA: 45:38 - loss: 5.48 - ETA: 45:37 - loss: 5.48 - ETA: 45:36 - loss: 5.48 - ETA: 45:35 - loss: 5.47 - ETA: 45:35 - loss: 5.47 - ETA: 45:34 - loss: 5.47 - ETA: 45:33 - loss: 5.47 - ETA: 45:32 - loss: 5.47 - ETA: 45:32 - loss: 5.47 - ETA: 45:31 - loss: 5.46 - ETA: 45:30 - loss: 5.46 - ETA: 45:29 - loss: 5.46 - ETA: 45:28 - loss: 5.46 - ETA: 45:27 - loss: 5.46 - ETA: 45:26 - loss: 5.46 - ETA: 45:25 - loss: 5.46 - ETA: 45:24 - loss: 5.45 - ETA: 45:24 - loss: 5.45 - ETA: 45:23 - loss: 5.45 - ETA: 45:22 - loss: 5.45 - ETA: 45:21 - loss: 5.45 - ETA: 45:20 - loss: 5.45 - ETA: 45:19 - loss: 5.45 - ETA: 45:19 - loss: 5.45 - ETA: 45:18 - loss: 5.45 - ETA: 45:17 - loss: 5.44 - ETA: 45:17 - loss: 5.44 - ETA: 45:16 - loss: 5.44 - ETA: 45:15 - loss: 5.44 - ETA: 45:15 - loss: 5.44 - ETA: 45:14 - loss: 5.44 - ETA: 45:13 - loss: 5.44 - ETA: 45:12 - loss: 5.44 - ETA: 45:12 - loss: 5.44 - ETA: 45:11 - loss: 5.44 - ETA: 45:10 - loss: 5.44 - ETA: 45:09 - loss: 5.44 - ETA: 45:09 - loss: 5.43 - ETA: 45:08 - loss: 5.43 - ETA: 45:07 - loss: 5.43 - ETA: 45:06 - loss: 5.43 - ETA: 45:05 - loss: 5.43 - ETA: 45:05 - loss: 5.43 - ETA: 45:04 - loss: 5.43 - ETA: 45:03 - loss: 5.43 - ETA: 45:03 - loss: 5.43 - ETA: 45:02 - loss: 5.42 - ETA: 45:01 - loss: 5.42 - ETA: 45:00 - loss: 5.42 - ETA: 45:00 - loss: 5.42 - ETA: 44:59 - loss: 5.42 - ETA: 44:58 - loss: 5.42 - ETA: 44:57 - loss: 5.42 - ETA: 44:56 - loss: 5.41 - ETA: 44:56 - loss: 5.41 - ETA: 44:55 - loss: 5.41 - ETA: 44:54 - loss: 5.41 - ETA: 44:53 - loss: 5.41 - ETA: 44:52 - loss: 5.41 - ETA: 44:52 - loss: 5.41 - ETA: 44:51 - loss: 5.41 - ETA: 44:50 - loss: 5.41 - ETA: 44:50 - loss: 5.41 - ETA: 44:49 - loss: 5.40 - ETA: 44:48 - loss: 5.40 - ETA: 44:47 - loss: 5.40 - ETA: 44:47 - loss: 5.40 - ETA: 44:46 - loss: 5.40 - ETA: 44:45 - loss: 5.40 - ETA: 44:44 - loss: 5.40 - ETA: 44:44 - loss: 5.40 - ETA: 44:43 - loss: 5.40 - ETA: 44:42 - loss: 5.40 - ETA: 44:42 - loss: 5.39 - ETA: 44:41 - loss: 5.39 - ETA: 44:40 - loss: 5.39 - ETA: 44:39 - loss: 5.39 - ETA: 44:38 - loss: 5.39 - ETA: 44:38 - loss: 5.39 - ETA: 44:37 - loss: 5.39 - ETA: 44:36 - loss: 5.39 - ETA: 44:35 - loss: 5.38 - ETA: 44:35 - loss: 5.38 - ETA: 44:34 - loss: 5.38 - ETA: 44:33 - loss: 5.38 - ETA: 44:32 - loss: 5.38 - ETA: 44:32 - loss: 5.38 - ETA: 44:31 - loss: 5.38 - ETA: 44:30 - loss: 5.38 - ETA: 44:29 - loss: 5.37 - ETA: 44:29 - loss: 5.37 - ETA: 44:28 - loss: 5.37 - ETA: 44:28 - loss: 5.37 - ETA: 44:27 - loss: 5.37 - ETA: 44:27 - loss: 5.37 - ETA: 44:26 - loss: 5.37 - ETA: 44:26 - loss: 5.37 - ETA: 44:25 - loss: 5.36 - ETA: 44:25 - loss: 5.36 - ETA: 44:24 - loss: 5.36 - ETA: 44:24 - loss: 5.36 - ETA: 44:23 - loss: 5.36 - ETA: 44:22 - loss: 5.36 - ETA: 44:22 - loss: 5.36 - ETA: 44:22 - loss: 5.36 - ETA: 44:21 - loss: 5.36 - ETA: 44:21 - loss: 5.36 - ETA: 44:21 - loss: 5.35 - ETA: 44:21 - loss: 5.35 - ETA: 44:21 - loss: 5.35 - ETA: 44:20 - loss: 5.35 - ETA: 44:20 - loss: 5.35 - ETA: 44:19 - loss: 5.35 - ETA: 44:19 - loss: 5.35 - ETA: 44:18 - loss: 5.35 - ETA: 44:17 - loss: 5.35 - ETA: 44:17 - loss: 5.35 - ETA: 44:16 - loss: 5.35 - ETA: 44:16 - loss: 5.34 - ETA: 44:15 - loss: 5.34 - ETA: 44:15 - loss: 5.34 - ETA: 44:14 - loss: 5.34 - ETA: 44:14 - loss: 5.34 - ETA: 44:13 - loss: 5.34 - ETA: 44:13 - loss: 5.34 - ETA: 44:12 - loss: 5.34 - ETA: 44:11 - loss: 5.34 - ETA: 44:11 - loss: 5.33 - ETA: 44:10 - loss: 5.33 - ETA: 44:09 - loss: 5.33 - ETA: 44:08 - loss: 5.33 - ETA: 44:08 - loss: 5.33 - ETA: 44:07 - loss: 5.33 - ETA: 44:06 - loss: 5.33 - ETA: 44:06 - loss: 5.33 - ETA: 44:05 - loss: 5.33 - ETA: 44:04 - loss: 5.33 - ETA: 44:04 - loss: 5.32 - ETA: 44:03 - loss: 5.32 - ETA: 44:03 - loss: 5.32 - ETA: 44:02 - loss: 5.32 - ETA: 44:01 - loss: 5.32 - ETA: 44:01 - loss: 5.32 - ETA: 44:00 - loss: 5.32 - ETA: 43:59 - loss: 5.32 - ETA: 43:59 - loss: 5.32 - ETA: 43:58 - loss: 5.32 - ETA: 43:57 - loss: 5.31 - ETA: 43:57 - loss: 5.31 - ETA: 43:56 - loss: 5.31 - ETA: 43:56 - loss: 5.31 - ETA: 43:55 - loss: 5.31 - ETA: 43:55 - loss: 5.31 - ETA: 43:54 - loss: 5.31 - ETA: 43:54 - loss: 5.31 - ETA: 43:53 - loss: 5.31 - ETA: 43:53 - loss: 5.31 - ETA: 43:53 - loss: 5.31 - ETA: 43:52 - loss: 5.30 - ETA: 43:52 - loss: 5.30 - ETA: 43:51 - loss: 5.30 - ETA: 43:51 - loss: 5.30 - ETA: 43:51 - loss: 5.30 - ETA: 43:50 - loss: 5.30 - ETA: 43:50 - loss: 5.30 - ETA: 43:49 - loss: 5.30 - ETA: 43:49 - loss: 5.30 - ETA: 43:48 - loss: 5.30 - ETA: 43:48 - loss: 5.29 - ETA: 43:47 - loss: 5.29 - ETA: 43:46 - loss: 5.29 - ETA: 43:46 - loss: 5.29 - ETA: 43:45 - loss: 5.29 - ETA: 43:44 - loss: 5.29 - ETA: 43:44 - loss: 5.29 - ETA: 43:43 - loss: 5.29 - ETA: 43:42 - loss: 5.29 - ETA: 43:41 - loss: 5.29 - ETA: 43:41 - loss: 5.29 - ETA: 43:40 - loss: 5.29 - ETA: 43:39 - loss: 5.29 - ETA: 43:38 - loss: 5.29 - ETA: 43:38 - loss: 5.28 - ETA: 43:37 - loss: 5.28 - ETA: 43:36 - loss: 5.28 - ETA: 43:35 - loss: 5.28 - ETA: 43:34 - loss: 5.28 - ETA: 43:34 - loss: 5.28 - ETA: 43:33 - loss: 5.28 - ETA: 43:32 - loss: 5.28 - ETA: 43:31 - loss: 5.28 - ETA: 43:30 - loss: 5.28 - ETA: 43:29 - loss: 5.28 - ETA: 43:28 - loss: 5.28 - ETA: 43:28 - loss: 5.27 - ETA: 43:27 - loss: 5.27 - ETA: 43:26 - loss: 5.27 - ETA: 43:25 - loss: 5.27 - ETA: 43:24 - loss: 5.27 - ETA: 43:23 - loss: 5.27 - ETA: 43:22 - loss: 5.27 - ETA: 43:22 - loss: 5.27 - ETA: 43:21 - loss: 5.27 - ETA: 43:20 - loss: 5.27 - ETA: 43:19 - loss: 5.27 - ETA: 43:18 - loss: 5.26 - ETA: 43:18 - loss: 5.26 - ETA: 43:17 - loss: 5.26 - ETA: 43:16 - loss: 5.26 - ETA: 43:15 - loss: 5.26 - ETA: 43:14 - loss: 5.26 - ETA: 43:13 - loss: 5.26 - ETA: 43:12 - loss: 5.26 - ETA: 43:12 - loss: 5.26 - ETA: 43:11 - loss: 5.26 - ETA: 43:10 - loss: 5.25 - ETA: 43:09 - loss: 5.25 - ETA: 43:08 - loss: 5.25 - ETA: 43:08 - loss: 5.25 - ETA: 43:07 - loss: 5.25 - ETA: 43:06 - loss: 5.25 - ETA: 43:05 - loss: 5.25 - ETA: 43:04 - loss: 5.25 - ETA: 43:04 - loss: 5.25 - ETA: 43:03 - loss: 5.25 - ETA: 43:02 - loss: 5.25 - ETA: 43:01 - loss: 5.25 - ETA: 43:01 - loss: 5.25 - ETA: 43:00 - loss: 5.25 - ETA: 42:59 - loss: 5.25 - ETA: 42:58 - loss: 5.24 - ETA: 42:57 - loss: 5.24 - ETA: 42:57 - loss: 5.24 - ETA: 42:56 - loss: 5.24 - ETA: 42:55 - loss: 5.24 - ETA: 42:55 - loss: 5.24 - ETA: 42:54 - loss: 5.24 - ETA: 42:53 - loss: 5.24 - ETA: 42:52 - loss: 5.24 - ETA: 42:51 - loss: 5.24 - ETA: 42:51 - loss: 5.24 - ETA: 42:50 - loss: 5.24 - ETA: 42:49 - loss: 5.23 - ETA: 42:48 - loss: 5.23 - ETA: 42:48 - loss: 5.23 - ETA: 42:47 - loss: 5.23 - ETA: 42:46 - loss: 5.23 - ETA: 42:45 - loss: 5.23 - ETA: 42:45 - loss: 5.23 - ETA: 42:44 - loss: 5.23 - ETA: 42:43 - loss: 5.23 - ETA: 42:42 - loss: 5.23 - ETA: 42:42 - loss: 5.23 - ETA: 42:41 - loss: 5.22 - ETA: 42:40 - loss: 5.22 - ETA: 42:39 - loss: 5.22 - ETA: 42:39 - loss: 5.22 - ETA: 42:38 - loss: 5.22 - ETA: 42:37 - loss: 5.22 - ETA: 42:36 - loss: 5.22 - ETA: 42:36 - loss: 5.22 - ETA: 42:35 - loss: 5.22 - ETA: 42:34 - loss: 5.22 - ETA: 42:33 - loss: 5.22 - ETA: 42:33 - loss: 5.21 - ETA: 42:32 - loss: 5.21 - ETA: 42:32 - loss: 5.21 - ETA: 42:31 - loss: 5.21 - ETA: 42:30 - loss: 5.21 - ETA: 42:30 - loss: 5.21 - ETA: 42:29 - loss: 5.21 - ETA: 42:28 - loss: 5.21 - ETA: 42:27 - loss: 5.21 - ETA: 42:26 - loss: 5.21 - ETA: 42:25 - loss: 5.21 - ETA: 42:24 - loss: 5.21 - ETA: 42:23 - loss: 5.20 - ETA: 42:23 - loss: 5.20 - ETA: 42:22 - loss: 5.20 - ETA: 42:21 - loss: 5.20 - ETA: 42:20 - loss: 5.20 - ETA: 42:19 - loss: 5.20 - ETA: 42:18 - loss: 5.20 - ETA: 42:18 - loss: 5.20 - ETA: 42:17 - loss: 5.20 - ETA: 42:16 - loss: 5.20 - ETA: 42:16 - loss: 5.20 - ETA: 42:15 - loss: 5.20 - ETA: 42:14 - loss: 5.19 - ETA: 42:13 - loss: 5.19 - ETA: 42:13 - loss: 5.19 - ETA: 42:12 - loss: 5.19 - ETA: 42:11 - loss: 5.19 - ETA: 42:10 - loss: 5.19 - ETA: 42:10 - loss: 5.19 - ETA: 42:09 - loss: 5.19 - ETA: 42:08 - loss: 5.19 - ETA: 42:07 - loss: 5.19 - ETA: 42:07 - loss: 5.19 - ETA: 42:06 - loss: 5.18 - ETA: 42:05 - loss: 5.18 - ETA: 42:05 - loss: 5.18 - ETA: 42:04 - loss: 5.18 - ETA: 42:04 - loss: 5.18 - ETA: 42:03 - loss: 5.18 - ETA: 42:03 - loss: 5.18 - ETA: 42:02 - loss: 5.18 - ETA: 42:02 - loss: 5.18 - ETA: 42:01 - loss: 5.1828"
     ]
    },
    {
     "name": "stdout",
     "output_type": "stream",
     "text": [
      "1254/4335 [=======>......................] - ETA: 42:00 - loss: 5.18 - ETA: 41:59 - loss: 5.18 - ETA: 41:59 - loss: 5.18 - ETA: 41:58 - loss: 5.17 - ETA: 41:57 - loss: 5.17 - ETA: 41:56 - loss: 5.17 - ETA: 41:56 - loss: 5.17 - ETA: 41:55 - loss: 5.17 - ETA: 41:54 - loss: 5.17 - ETA: 41:54 - loss: 5.17 - ETA: 41:53 - loss: 5.17 - ETA: 41:52 - loss: 5.17 - ETA: 41:51 - loss: 5.17 - ETA: 41:51 - loss: 5.17 - ETA: 41:50 - loss: 5.16 - ETA: 41:49 - loss: 5.16 - ETA: 41:48 - loss: 5.16 - ETA: 41:48 - loss: 5.16 - ETA: 41:47 - loss: 5.16 - ETA: 41:46 - loss: 5.16 - ETA: 41:45 - loss: 5.16 - ETA: 41:45 - loss: 5.16 - ETA: 41:44 - loss: 5.16 - ETA: 41:43 - loss: 5.16 - ETA: 41:43 - loss: 5.16 - ETA: 41:42 - loss: 5.16 - ETA: 41:41 - loss: 5.16 - ETA: 41:40 - loss: 5.15 - ETA: 41:40 - loss: 5.15 - ETA: 41:39 - loss: 5.15 - ETA: 41:38 - loss: 5.15 - ETA: 41:37 - loss: 5.15 - ETA: 41:37 - loss: 5.15 - ETA: 41:36 - loss: 5.15 - ETA: 41:35 - loss: 5.15 - ETA: 41:35 - loss: 5.15 - ETA: 41:34 - loss: 5.15 - ETA: 41:33 - loss: 5.15 - ETA: 41:32 - loss: 5.15 - ETA: 41:32 - loss: 5.15 - ETA: 41:31 - loss: 5.15 - ETA: 41:30 - loss: 5.15 - ETA: 41:30 - loss: 5.14 - ETA: 41:29 - loss: 5.14 - ETA: 41:28 - loss: 5.14 - ETA: 41:27 - loss: 5.14 - ETA: 41:26 - loss: 5.14 - ETA: 41:26 - loss: 5.14 - ETA: 41:25 - loss: 5.14 - ETA: 41:24 - loss: 5.14 - ETA: 41:23 - loss: 5.14 - ETA: 41:23 - loss: 5.14 - ETA: 41:22 - loss: 5.14 - ETA: 41:21 - loss: 5.14 - ETA: 41:21 - loss: 5.14 - ETA: 41:20 - loss: 5.14 - ETA: 41:20 - loss: 5.14 - ETA: 41:19 - loss: 5.13 - ETA: 41:18 - loss: 5.13 - ETA: 41:18 - loss: 5.13 - ETA: 41:17 - loss: 5.13 - ETA: 41:16 - loss: 5.13 - ETA: 41:16 - loss: 5.13 - ETA: 41:15 - loss: 5.13 - ETA: 41:14 - loss: 5.13 - ETA: 41:14 - loss: 5.13 - ETA: 41:13 - loss: 5.13 - ETA: 41:12 - loss: 5.13 - ETA: 41:11 - loss: 5.13 - ETA: 41:10 - loss: 5.13 - ETA: 41:10 - loss: 5.12 - ETA: 41:09 - loss: 5.12 - ETA: 41:08 - loss: 5.12 - ETA: 41:07 - loss: 5.12 - ETA: 41:07 - loss: 5.12 - ETA: 41:06 - loss: 5.12 - ETA: 41:05 - loss: 5.12 - ETA: 41:04 - loss: 5.12 - ETA: 41:03 - loss: 5.12 - ETA: 41:03 - loss: 5.12 - ETA: 41:02 - loss: 5.12 - ETA: 41:01 - loss: 5.12 - ETA: 41:00 - loss: 5.12 - ETA: 40:59 - loss: 5.12 - ETA: 40:58 - loss: 5.12 - ETA: 40:58 - loss: 5.12 - ETA: 40:57 - loss: 5.12 - ETA: 40:56 - loss: 5.12 - ETA: 40:55 - loss: 5.11 - ETA: 40:54 - loss: 5.11 - ETA: 40:53 - loss: 5.11 - ETA: 40:53 - loss: 5.11 - ETA: 40:52 - loss: 5.11 - ETA: 40:51 - loss: 5.11 - ETA: 40:50 - loss: 5.11 - ETA: 40:49 - loss: 5.11 - ETA: 40:49 - loss: 5.11 - ETA: 40:48 - loss: 5.11 - ETA: 40:47 - loss: 5.11 - ETA: 40:46 - loss: 5.11 - ETA: 40:45 - loss: 5.11 - ETA: 40:45 - loss: 5.11 - ETA: 40:44 - loss: 5.11 - ETA: 40:43 - loss: 5.10 - ETA: 40:42 - loss: 5.10 - ETA: 40:41 - loss: 5.10 - ETA: 40:41 - loss: 5.10 - ETA: 40:40 - loss: 5.10 - ETA: 40:39 - loss: 5.10 - ETA: 40:38 - loss: 5.10 - ETA: 40:37 - loss: 5.10 - ETA: 40:36 - loss: 5.10 - ETA: 40:36 - loss: 5.10 - ETA: 40:35 - loss: 5.10 - ETA: 40:34 - loss: 5.10 - ETA: 40:33 - loss: 5.10 - ETA: 40:32 - loss: 5.10 - ETA: 40:32 - loss: 5.09 - ETA: 40:31 - loss: 5.09 - ETA: 40:31 - loss: 5.09 - ETA: 40:30 - loss: 5.09 - ETA: 40:29 - loss: 5.09 - ETA: 40:28 - loss: 5.09 - ETA: 40:28 - loss: 5.09 - ETA: 40:27 - loss: 5.09 - ETA: 40:26 - loss: 5.09 - ETA: 40:25 - loss: 5.09 - ETA: 40:24 - loss: 5.09 - ETA: 40:24 - loss: 5.09 - ETA: 40:23 - loss: 5.09 - ETA: 40:22 - loss: 5.09 - ETA: 40:21 - loss: 5.09 - ETA: 40:20 - loss: 5.09 - ETA: 40:20 - loss: 5.09 - ETA: 40:19 - loss: 5.09 - ETA: 40:18 - loss: 5.08 - ETA: 40:17 - loss: 5.08 - ETA: 40:16 - loss: 5.08 - ETA: 40:16 - loss: 5.08 - ETA: 40:15 - loss: 5.08 - ETA: 40:14 - loss: 5.08 - ETA: 40:13 - loss: 5.08 - ETA: 40:13 - loss: 5.08 - ETA: 40:12 - loss: 5.08 - ETA: 40:11 - loss: 5.08 - ETA: 40:10 - loss: 5.08 - ETA: 40:10 - loss: 5.08 - ETA: 40:09 - loss: 5.08 - ETA: 40:08 - loss: 5.08 - ETA: 40:07 - loss: 5.08 - ETA: 40:07 - loss: 5.08 - ETA: 40:06 - loss: 5.08 - ETA: 40:05 - loss: 5.07 - ETA: 40:04 - loss: 5.07 - ETA: 40:04 - loss: 5.07 - ETA: 40:03 - loss: 5.07 - ETA: 40:02 - loss: 5.07 - ETA: 40:02 - loss: 5.07 - ETA: 40:01 - loss: 5.07 - ETA: 40:00 - loss: 5.07 - ETA: 39:59 - loss: 5.07 - ETA: 39:59 - loss: 5.07 - ETA: 39:58 - loss: 5.07 - ETA: 39:57 - loss: 5.07 - ETA: 39:56 - loss: 5.07 - ETA: 39:56 - loss: 5.06 - ETA: 39:55 - loss: 5.06 - ETA: 39:54 - loss: 5.06 - ETA: 39:53 - loss: 5.06 - ETA: 39:53 - loss: 5.06 - ETA: 39:52 - loss: 5.06 - ETA: 39:51 - loss: 5.06 - ETA: 39:50 - loss: 5.06 - ETA: 39:50 - loss: 5.06 - ETA: 39:49 - loss: 5.06 - ETA: 39:48 - loss: 5.06 - ETA: 39:48 - loss: 5.06 - ETA: 39:47 - loss: 5.06 - ETA: 39:46 - loss: 5.06 - ETA: 39:45 - loss: 5.06 - ETA: 39:45 - loss: 5.05 - ETA: 39:44 - loss: 5.05 - ETA: 39:43 - loss: 5.05 - ETA: 39:42 - loss: 5.05 - ETA: 39:42 - loss: 5.05 - ETA: 39:41 - loss: 5.05 - ETA: 39:40 - loss: 5.05 - ETA: 39:39 - loss: 5.05 - ETA: 39:39 - loss: 5.05 - ETA: 39:38 - loss: 5.05 - ETA: 39:37 - loss: 5.05 - ETA: 39:36 - loss: 5.05 - ETA: 39:36 - loss: 5.05 - ETA: 39:35 - loss: 5.05 - ETA: 39:34 - loss: 5.05 - ETA: 39:33 - loss: 5.05 - ETA: 39:33 - loss: 5.05 - ETA: 39:32 - loss: 5.05 - ETA: 39:31 - loss: 5.04 - ETA: 39:30 - loss: 5.04 - ETA: 39:30 - loss: 5.04 - ETA: 39:29 - loss: 5.04 - ETA: 39:28 - loss: 5.04 - ETA: 39:28 - loss: 5.04 - ETA: 39:27 - loss: 5.04 - ETA: 39:26 - loss: 5.04 - ETA: 39:25 - loss: 5.04 - ETA: 39:24 - loss: 5.04 - ETA: 39:24 - loss: 5.04 - ETA: 39:23 - loss: 5.04 - ETA: 39:22 - loss: 5.04 - ETA: 39:21 - loss: 5.04 - ETA: 39:21 - loss: 5.04 - ETA: 39:20 - loss: 5.04 - ETA: 39:19 - loss: 5.04 - ETA: 39:19 - loss: 5.04 - ETA: 39:18 - loss: 5.03 - ETA: 39:17 - loss: 5.03 - ETA: 39:16 - loss: 5.03 - ETA: 39:15 - loss: 5.03 - ETA: 39:15 - loss: 5.03 - ETA: 39:14 - loss: 5.03 - ETA: 39:13 - loss: 5.03 - ETA: 39:13 - loss: 5.03 - ETA: 39:12 - loss: 5.03 - ETA: 39:11 - loss: 5.03 - ETA: 39:10 - loss: 5.03 - ETA: 39:10 - loss: 5.03 - ETA: 39:09 - loss: 5.03 - ETA: 39:08 - loss: 5.03 - ETA: 39:07 - loss: 5.03 - ETA: 39:07 - loss: 5.03 - ETA: 39:06 - loss: 5.02 - ETA: 39:05 - loss: 5.02 - ETA: 39:04 - loss: 5.02 - ETA: 39:04 - loss: 5.02 - ETA: 39:03 - loss: 5.02 - ETA: 39:02 - loss: 5.02 - ETA: 39:01 - loss: 5.02 - ETA: 39:01 - loss: 5.02 - ETA: 39:00 - loss: 5.02 - ETA: 38:59 - loss: 5.02 - ETA: 38:58 - loss: 5.02 - ETA: 38:57 - loss: 5.02 - ETA: 38:57 - loss: 5.02 - ETA: 38:56 - loss: 5.02 - ETA: 38:55 - loss: 5.02 - ETA: 38:54 - loss: 5.02 - ETA: 38:54 - loss: 5.02 - ETA: 38:53 - loss: 5.02 - ETA: 38:52 - loss: 5.02 - ETA: 38:51 - loss: 5.02 - ETA: 38:51 - loss: 5.02 - ETA: 38:50 - loss: 5.01 - ETA: 38:49 - loss: 5.01 - ETA: 38:48 - loss: 5.01 - ETA: 38:48 - loss: 5.01 - ETA: 38:47 - loss: 5.01 - ETA: 38:46 - loss: 5.01 - ETA: 38:45 - loss: 5.01 - ETA: 38:44 - loss: 5.01 - ETA: 38:44 - loss: 5.01 - ETA: 38:43 - loss: 5.01 - ETA: 38:42 - loss: 5.01 - ETA: 38:41 - loss: 5.01 - ETA: 38:41 - loss: 5.01 - ETA: 38:40 - loss: 5.01 - ETA: 38:39 - loss: 5.01 - ETA: 38:38 - loss: 5.00 - ETA: 38:37 - loss: 5.00 - ETA: 38:37 - loss: 5.00 - ETA: 38:36 - loss: 5.00 - ETA: 38:35 - loss: 5.00 - ETA: 38:34 - loss: 5.00 - ETA: 38:33 - loss: 5.00 - ETA: 38:33 - loss: 5.00 - ETA: 38:32 - loss: 5.00 - ETA: 38:31 - loss: 5.00 - ETA: 38:31 - loss: 5.00 - ETA: 38:30 - loss: 5.00 - ETA: 38:29 - loss: 5.00 - ETA: 38:29 - loss: 5.00 - ETA: 38:28 - loss: 5.00 - ETA: 38:27 - loss: 5.00 - ETA: 38:26 - loss: 5.00 - ETA: 38:26 - loss: 5.00 - ETA: 38:25 - loss: 4.99 - ETA: 38:24 - loss: 4.99 - ETA: 38:23 - loss: 4.99 - ETA: 38:22 - loss: 4.99 - ETA: 38:22 - loss: 4.99 - ETA: 38:21 - loss: 4.99 - ETA: 38:20 - loss: 4.99 - ETA: 38:19 - loss: 4.99 - ETA: 38:19 - loss: 4.99 - ETA: 38:18 - loss: 4.99 - ETA: 38:17 - loss: 4.99 - ETA: 38:16 - loss: 4.99 - ETA: 38:16 - loss: 4.99 - ETA: 38:15 - loss: 4.99 - ETA: 38:14 - loss: 4.99 - ETA: 38:13 - loss: 4.99 - ETA: 38:13 - loss: 4.99 - ETA: 38:12 - loss: 4.99 - ETA: 38:11 - loss: 4.98 - ETA: 38:11 - loss: 4.98 - ETA: 38:10 - loss: 4.98 - ETA: 38:09 - loss: 4.98 - ETA: 38:08 - loss: 4.98 - ETA: 38:08 - loss: 4.98 - ETA: 38:07 - loss: 4.98 - ETA: 38:06 - loss: 4.98 - ETA: 38:06 - loss: 4.98 - ETA: 38:05 - loss: 4.9860"
     ]
    },
    {
     "name": "stdout",
     "output_type": "stream",
     "text": [
      "1568/4335 [=========>....................] - ETA: 38:04 - loss: 4.98 - ETA: 38:04 - loss: 4.98 - ETA: 38:03 - loss: 4.98 - ETA: 38:02 - loss: 4.98 - ETA: 38:02 - loss: 4.98 - ETA: 38:01 - loss: 4.98 - ETA: 38:00 - loss: 4.98 - ETA: 38:00 - loss: 4.98 - ETA: 37:59 - loss: 4.98 - ETA: 37:58 - loss: 4.98 - ETA: 37:57 - loss: 4.98 - ETA: 37:57 - loss: 4.97 - ETA: 37:56 - loss: 4.97 - ETA: 37:55 - loss: 4.97 - ETA: 37:54 - loss: 4.97 - ETA: 37:54 - loss: 4.97 - ETA: 37:53 - loss: 4.97 - ETA: 37:52 - loss: 4.97 - ETA: 37:51 - loss: 4.97 - ETA: 37:51 - loss: 4.97 - ETA: 37:50 - loss: 4.97 - ETA: 37:49 - loss: 4.97 - ETA: 37:48 - loss: 4.97 - ETA: 37:47 - loss: 4.97 - ETA: 37:47 - loss: 4.97 - ETA: 37:46 - loss: 4.97 - ETA: 37:45 - loss: 4.97 - ETA: 37:44 - loss: 4.97 - ETA: 37:43 - loss: 4.97 - ETA: 37:43 - loss: 4.97 - ETA: 37:42 - loss: 4.97 - ETA: 37:41 - loss: 4.97 - ETA: 37:40 - loss: 4.97 - ETA: 37:39 - loss: 4.97 - ETA: 37:39 - loss: 4.97 - ETA: 37:38 - loss: 4.97 - ETA: 37:37 - loss: 4.96 - ETA: 37:36 - loss: 4.96 - ETA: 37:35 - loss: 4.96 - ETA: 37:34 - loss: 4.96 - ETA: 37:34 - loss: 4.96 - ETA: 37:33 - loss: 4.96 - ETA: 37:32 - loss: 4.96 - ETA: 37:31 - loss: 4.96 - ETA: 37:31 - loss: 4.96 - ETA: 37:30 - loss: 4.96 - ETA: 37:29 - loss: 4.96 - ETA: 37:28 - loss: 4.96 - ETA: 37:27 - loss: 4.96 - ETA: 37:27 - loss: 4.96 - ETA: 37:26 - loss: 4.96 - ETA: 37:25 - loss: 4.96 - ETA: 37:24 - loss: 4.96 - ETA: 37:24 - loss: 4.96 - ETA: 37:23 - loss: 4.96 - ETA: 37:22 - loss: 4.95 - ETA: 37:21 - loss: 4.95 - ETA: 37:20 - loss: 4.95 - ETA: 37:20 - loss: 4.95 - ETA: 37:19 - loss: 4.95 - ETA: 37:18 - loss: 4.95 - ETA: 37:17 - loss: 4.95 - ETA: 37:16 - loss: 4.95 - ETA: 37:16 - loss: 4.95 - ETA: 37:15 - loss: 4.95 - ETA: 37:14 - loss: 4.95 - ETA: 37:13 - loss: 4.95 - ETA: 37:12 - loss: 4.95 - ETA: 37:12 - loss: 4.95 - ETA: 37:11 - loss: 4.95 - ETA: 37:10 - loss: 4.95 - ETA: 37:09 - loss: 4.95 - ETA: 37:09 - loss: 4.95 - ETA: 37:08 - loss: 4.95 - ETA: 37:08 - loss: 4.95 - ETA: 37:07 - loss: 4.95 - ETA: 37:07 - loss: 4.94 - ETA: 37:06 - loss: 4.94 - ETA: 37:05 - loss: 4.94 - ETA: 37:05 - loss: 4.94 - ETA: 37:05 - loss: 4.94 - ETA: 37:04 - loss: 4.94 - ETA: 37:03 - loss: 4.94 - ETA: 37:03 - loss: 4.94 - ETA: 37:02 - loss: 4.94 - ETA: 37:03 - loss: 4.94 - ETA: 37:03 - loss: 4.94 - ETA: 37:02 - loss: 4.94 - ETA: 37:02 - loss: 4.94 - ETA: 37:01 - loss: 4.94 - ETA: 37:01 - loss: 4.94 - ETA: 37:01 - loss: 4.94 - ETA: 37:01 - loss: 4.94 - ETA: 37:01 - loss: 4.94 - ETA: 37:01 - loss: 4.93 - ETA: 37:01 - loss: 4.93 - ETA: 37:01 - loss: 4.93 - ETA: 37:01 - loss: 4.93 - ETA: 37:01 - loss: 4.93 - ETA: 37:00 - loss: 4.93 - ETA: 37:00 - loss: 4.93 - ETA: 36:59 - loss: 4.93 - ETA: 36:59 - loss: 4.93 - ETA: 36:58 - loss: 4.93 - ETA: 36:58 - loss: 4.93 - ETA: 36:58 - loss: 4.93 - ETA: 36:57 - loss: 4.93 - ETA: 36:57 - loss: 4.93 - ETA: 36:57 - loss: 4.93 - ETA: 36:56 - loss: 4.93 - ETA: 36:55 - loss: 4.93 - ETA: 36:55 - loss: 4.93 - ETA: 36:54 - loss: 4.93 - ETA: 36:53 - loss: 4.93 - ETA: 36:53 - loss: 4.93 - ETA: 36:52 - loss: 4.93 - ETA: 36:51 - loss: 4.93 - ETA: 36:51 - loss: 4.93 - ETA: 36:50 - loss: 4.93 - ETA: 36:50 - loss: 4.93 - ETA: 36:49 - loss: 4.92 - ETA: 36:48 - loss: 4.93 - ETA: 36:48 - loss: 4.92 - ETA: 36:47 - loss: 4.92 - ETA: 36:47 - loss: 4.92 - ETA: 36:46 - loss: 4.92 - ETA: 36:45 - loss: 4.92 - ETA: 36:45 - loss: 4.92 - ETA: 36:44 - loss: 4.92 - ETA: 36:44 - loss: 4.92 - ETA: 36:43 - loss: 4.92 - ETA: 36:42 - loss: 4.92 - ETA: 36:42 - loss: 4.92 - ETA: 36:41 - loss: 4.92 - ETA: 36:40 - loss: 4.92 - ETA: 36:40 - loss: 4.92 - ETA: 36:39 - loss: 4.92 - ETA: 36:38 - loss: 4.92 - ETA: 36:38 - loss: 4.92 - ETA: 36:37 - loss: 4.92 - ETA: 36:37 - loss: 4.92 - ETA: 36:36 - loss: 4.92 - ETA: 36:35 - loss: 4.92 - ETA: 36:35 - loss: 4.92 - ETA: 36:34 - loss: 4.92 - ETA: 36:34 - loss: 4.92 - ETA: 36:34 - loss: 4.92 - ETA: 36:34 - loss: 4.91 - ETA: 36:33 - loss: 4.91 - ETA: 36:33 - loss: 4.91 - ETA: 36:32 - loss: 4.91 - ETA: 36:31 - loss: 4.91 - ETA: 36:31 - loss: 4.91 - ETA: 36:30 - loss: 4.91 - ETA: 36:29 - loss: 4.91 - ETA: 36:29 - loss: 4.91 - ETA: 36:28 - loss: 4.91 - ETA: 36:27 - loss: 4.91 - ETA: 36:27 - loss: 4.91 - ETA: 36:26 - loss: 4.91 - ETA: 36:25 - loss: 4.91 - ETA: 36:25 - loss: 4.91 - ETA: 36:24 - loss: 4.91 - ETA: 36:23 - loss: 4.91 - ETA: 36:23 - loss: 4.91 - ETA: 36:22 - loss: 4.91 - ETA: 36:21 - loss: 4.91 - ETA: 36:21 - loss: 4.91 - ETA: 36:20 - loss: 4.90 - ETA: 36:19 - loss: 4.90 - ETA: 36:19 - loss: 4.90 - ETA: 36:18 - loss: 4.90 - ETA: 36:17 - loss: 4.90 - ETA: 36:16 - loss: 4.90 - ETA: 36:16 - loss: 4.90 - ETA: 36:15 - loss: 4.90 - ETA: 36:14 - loss: 4.90 - ETA: 36:14 - loss: 4.90 - ETA: 36:13 - loss: 4.90 - ETA: 36:12 - loss: 4.90 - ETA: 36:12 - loss: 4.90 - ETA: 36:11 - loss: 4.90 - ETA: 36:10 - loss: 4.90 - ETA: 36:10 - loss: 4.90 - ETA: 36:09 - loss: 4.90 - ETA: 36:09 - loss: 4.90 - ETA: 36:08 - loss: 4.90 - ETA: 36:07 - loss: 4.90 - ETA: 36:07 - loss: 4.90 - ETA: 36:06 - loss: 4.90 - ETA: 36:05 - loss: 4.90 - ETA: 36:05 - loss: 4.89 - ETA: 36:04 - loss: 4.89 - ETA: 36:03 - loss: 4.89 - ETA: 36:03 - loss: 4.89 - ETA: 36:02 - loss: 4.89 - ETA: 36:01 - loss: 4.89 - ETA: 36:01 - loss: 4.89 - ETA: 36:00 - loss: 4.89 - ETA: 35:59 - loss: 4.89 - ETA: 35:59 - loss: 4.89 - ETA: 35:58 - loss: 4.89 - ETA: 35:57 - loss: 4.89 - ETA: 35:57 - loss: 4.89 - ETA: 35:56 - loss: 4.89 - ETA: 35:55 - loss: 4.89 - ETA: 35:55 - loss: 4.89 - ETA: 35:54 - loss: 4.89 - ETA: 35:53 - loss: 4.89 - ETA: 35:52 - loss: 4.89 - ETA: 35:52 - loss: 4.89 - ETA: 35:51 - loss: 4.89 - ETA: 35:50 - loss: 4.89 - ETA: 35:49 - loss: 4.88 - ETA: 35:49 - loss: 4.88 - ETA: 35:48 - loss: 4.88 - ETA: 35:47 - loss: 4.88 - ETA: 35:47 - loss: 4.88 - ETA: 35:46 - loss: 4.88 - ETA: 35:45 - loss: 4.88 - ETA: 35:44 - loss: 4.88 - ETA: 35:44 - loss: 4.88 - ETA: 35:43 - loss: 4.88 - ETA: 35:42 - loss: 4.88 - ETA: 35:42 - loss: 4.88 - ETA: 35:41 - loss: 4.88 - ETA: 35:40 - loss: 4.88 - ETA: 35:40 - loss: 4.88 - ETA: 35:39 - loss: 4.88 - ETA: 35:39 - loss: 4.88 - ETA: 35:38 - loss: 4.88 - ETA: 35:37 - loss: 4.88 - ETA: 35:37 - loss: 4.88 - ETA: 35:36 - loss: 4.88 - ETA: 35:36 - loss: 4.88 - ETA: 35:35 - loss: 4.88 - ETA: 35:34 - loss: 4.88 - ETA: 35:33 - loss: 4.87 - ETA: 35:33 - loss: 4.87 - ETA: 35:32 - loss: 4.87 - ETA: 35:32 - loss: 4.87 - ETA: 35:32 - loss: 4.87 - ETA: 35:31 - loss: 4.87 - ETA: 35:31 - loss: 4.87 - ETA: 35:31 - loss: 4.87 - ETA: 35:31 - loss: 4.87 - ETA: 35:30 - loss: 4.87 - ETA: 35:30 - loss: 4.87 - ETA: 35:30 - loss: 4.87 - ETA: 35:30 - loss: 4.87 - ETA: 35:29 - loss: 4.87 - ETA: 35:29 - loss: 4.87 - ETA: 35:28 - loss: 4.87 - ETA: 35:28 - loss: 4.87 - ETA: 35:28 - loss: 4.87 - ETA: 35:27 - loss: 4.87 - ETA: 35:27 - loss: 4.87 - ETA: 35:27 - loss: 4.87 - ETA: 35:27 - loss: 4.87 - ETA: 35:26 - loss: 4.87 - ETA: 35:26 - loss: 4.86 - ETA: 35:25 - loss: 4.86 - ETA: 35:25 - loss: 4.86 - ETA: 35:25 - loss: 4.86 - ETA: 35:25 - loss: 4.86 - ETA: 35:25 - loss: 4.86 - ETA: 35:25 - loss: 4.86 - ETA: 35:25 - loss: 4.86 - ETA: 35:25 - loss: 4.86 - ETA: 35:24 - loss: 4.86 - ETA: 35:24 - loss: 4.86 - ETA: 35:23 - loss: 4.86 - ETA: 35:23 - loss: 4.86 - ETA: 35:22 - loss: 4.86 - ETA: 35:22 - loss: 4.86 - ETA: 35:22 - loss: 4.86 - ETA: 35:21 - loss: 4.86 - ETA: 35:21 - loss: 4.86 - ETA: 35:21 - loss: 4.86 - ETA: 35:20 - loss: 4.86 - ETA: 35:20 - loss: 4.86 - ETA: 35:19 - loss: 4.86 - ETA: 35:19 - loss: 4.86 - ETA: 35:19 - loss: 4.86 - ETA: 35:18 - loss: 4.86 - ETA: 35:18 - loss: 4.85 - ETA: 35:17 - loss: 4.85 - ETA: 35:17 - loss: 4.85 - ETA: 35:17 - loss: 4.85 - ETA: 35:16 - loss: 4.85 - ETA: 35:16 - loss: 4.85 - ETA: 35:16 - loss: 4.85 - ETA: 35:16 - loss: 4.85 - ETA: 35:16 - loss: 4.85 - ETA: 35:15 - loss: 4.85 - ETA: 35:15 - loss: 4.85 - ETA: 35:15 - loss: 4.85 - ETA: 35:14 - loss: 4.85 - ETA: 35:14 - loss: 4.85 - ETA: 35:13 - loss: 4.85 - ETA: 35:13 - loss: 4.85 - ETA: 35:13 - loss: 4.85 - ETA: 35:12 - loss: 4.85 - ETA: 35:12 - loss: 4.85 - ETA: 35:11 - loss: 4.85 - ETA: 35:11 - loss: 4.85 - ETA: 35:11 - loss: 4.85 - ETA: 35:11 - loss: 4.85 - ETA: 35:10 - loss: 4.85 - ETA: 35:10 - loss: 4.85 - ETA: 35:09 - loss: 4.85 - ETA: 35:09 - loss: 4.85 - ETA: 35:08 - loss: 4.85 - ETA: 35:08 - loss: 4.8501"
     ]
    },
    {
     "name": "stdout",
     "output_type": "stream",
     "text": [
      "1882/4335 [============>.................] - ETA: 35:08 - loss: 4.84 - ETA: 35:07 - loss: 4.84 - ETA: 35:07 - loss: 4.84 - ETA: 35:06 - loss: 4.84 - ETA: 35:06 - loss: 4.84 - ETA: 35:06 - loss: 4.84 - ETA: 35:06 - loss: 4.84 - ETA: 35:05 - loss: 4.84 - ETA: 35:05 - loss: 4.84 - ETA: 35:04 - loss: 4.84 - ETA: 35:04 - loss: 4.84 - ETA: 35:04 - loss: 4.84 - ETA: 35:04 - loss: 4.84 - ETA: 35:03 - loss: 4.84 - ETA: 35:03 - loss: 4.84 - ETA: 35:03 - loss: 4.84 - ETA: 35:02 - loss: 4.84 - ETA: 35:02 - loss: 4.84 - ETA: 35:02 - loss: 4.84 - ETA: 35:01 - loss: 4.84 - ETA: 35:01 - loss: 4.84 - ETA: 35:01 - loss: 4.84 - ETA: 35:00 - loss: 4.84 - ETA: 35:00 - loss: 4.84 - ETA: 34:59 - loss: 4.84 - ETA: 34:59 - loss: 4.84 - ETA: 34:59 - loss: 4.84 - ETA: 34:58 - loss: 4.84 - ETA: 34:58 - loss: 4.84 - ETA: 34:57 - loss: 4.83 - ETA: 34:57 - loss: 4.83 - ETA: 34:57 - loss: 4.83 - ETA: 34:56 - loss: 4.83 - ETA: 34:56 - loss: 4.83 - ETA: 34:56 - loss: 4.83 - ETA: 34:55 - loss: 4.83 - ETA: 34:55 - loss: 4.83 - ETA: 34:54 - loss: 4.83 - ETA: 34:54 - loss: 4.83 - ETA: 34:54 - loss: 4.83 - ETA: 34:54 - loss: 4.83 - ETA: 34:53 - loss: 4.83 - ETA: 34:53 - loss: 4.83 - ETA: 34:53 - loss: 4.83 - ETA: 34:52 - loss: 4.83 - ETA: 34:52 - loss: 4.83 - ETA: 34:51 - loss: 4.83 - ETA: 34:51 - loss: 4.83 - ETA: 34:50 - loss: 4.83 - ETA: 34:50 - loss: 4.83 - ETA: 34:49 - loss: 4.83 - ETA: 34:49 - loss: 4.83 - ETA: 34:48 - loss: 4.83 - ETA: 34:48 - loss: 4.83 - ETA: 34:47 - loss: 4.83 - ETA: 34:46 - loss: 4.83 - ETA: 34:46 - loss: 4.83 - ETA: 34:45 - loss: 4.83 - ETA: 34:45 - loss: 4.82 - ETA: 34:44 - loss: 4.82 - ETA: 34:44 - loss: 4.82 - ETA: 34:44 - loss: 4.82 - ETA: 34:43 - loss: 4.82 - ETA: 34:43 - loss: 4.82 - ETA: 34:42 - loss: 4.82 - ETA: 34:42 - loss: 4.82 - ETA: 34:41 - loss: 4.82 - ETA: 34:41 - loss: 4.82 - ETA: 34:40 - loss: 4.82 - ETA: 34:40 - loss: 4.82 - ETA: 34:40 - loss: 4.82 - ETA: 34:39 - loss: 4.82 - ETA: 34:39 - loss: 4.82 - ETA: 34:39 - loss: 4.82 - ETA: 34:38 - loss: 4.82 - ETA: 34:38 - loss: 4.82 - ETA: 34:38 - loss: 4.82 - ETA: 34:37 - loss: 4.82 - ETA: 34:37 - loss: 4.82 - ETA: 34:36 - loss: 4.82 - ETA: 34:36 - loss: 4.82 - ETA: 34:36 - loss: 4.82 - ETA: 34:35 - loss: 4.82 - ETA: 34:35 - loss: 4.82 - ETA: 34:34 - loss: 4.82 - ETA: 34:34 - loss: 4.82 - ETA: 34:33 - loss: 4.82 - ETA: 34:33 - loss: 4.81 - ETA: 34:32 - loss: 4.81 - ETA: 34:32 - loss: 4.81 - ETA: 34:31 - loss: 4.81 - ETA: 34:31 - loss: 4.81 - ETA: 34:30 - loss: 4.81 - ETA: 34:30 - loss: 4.81 - ETA: 34:30 - loss: 4.81 - ETA: 34:29 - loss: 4.81 - ETA: 34:29 - loss: 4.81 - ETA: 34:28 - loss: 4.81 - ETA: 34:28 - loss: 4.81 - ETA: 34:27 - loss: 4.81 - ETA: 34:27 - loss: 4.81 - ETA: 34:27 - loss: 4.81 - ETA: 34:27 - loss: 4.81 - ETA: 34:26 - loss: 4.81 - ETA: 34:26 - loss: 4.81 - ETA: 34:26 - loss: 4.81 - ETA: 34:25 - loss: 4.81 - ETA: 34:25 - loss: 4.81 - ETA: 34:24 - loss: 4.81 - ETA: 34:24 - loss: 4.81 - ETA: 34:23 - loss: 4.81 - ETA: 34:23 - loss: 4.81 - ETA: 34:22 - loss: 4.81 - ETA: 34:22 - loss: 4.81 - ETA: 34:21 - loss: 4.81 - ETA: 34:21 - loss: 4.81 - ETA: 34:20 - loss: 4.81 - ETA: 34:20 - loss: 4.81 - ETA: 34:19 - loss: 4.81 - ETA: 34:19 - loss: 4.81 - ETA: 34:18 - loss: 4.81 - ETA: 34:18 - loss: 4.81 - ETA: 34:17 - loss: 4.81 - ETA: 34:17 - loss: 4.80 - ETA: 34:16 - loss: 4.80 - ETA: 34:16 - loss: 4.80 - ETA: 34:15 - loss: 4.80 - ETA: 34:15 - loss: 4.80 - ETA: 34:14 - loss: 4.80 - ETA: 34:14 - loss: 4.80 - ETA: 34:13 - loss: 4.80 - ETA: 34:13 - loss: 4.80 - ETA: 34:12 - loss: 4.80 - ETA: 34:12 - loss: 4.80 - ETA: 34:11 - loss: 4.80 - ETA: 34:11 - loss: 4.80 - ETA: 34:10 - loss: 4.80 - ETA: 34:10 - loss: 4.80 - ETA: 34:09 - loss: 4.80 - ETA: 34:09 - loss: 4.80 - ETA: 34:08 - loss: 4.80 - ETA: 34:08 - loss: 4.80 - ETA: 34:07 - loss: 4.80 - ETA: 34:07 - loss: 4.80 - ETA: 34:06 - loss: 4.80 - ETA: 34:06 - loss: 4.80 - ETA: 34:05 - loss: 4.80 - ETA: 34:05 - loss: 4.80 - ETA: 34:05 - loss: 4.80 - ETA: 34:04 - loss: 4.80 - ETA: 34:04 - loss: 4.80 - ETA: 34:03 - loss: 4.79 - ETA: 34:03 - loss: 4.79 - ETA: 34:02 - loss: 4.79 - ETA: 34:02 - loss: 4.79 - ETA: 34:01 - loss: 4.79 - ETA: 34:01 - loss: 4.79 - ETA: 34:00 - loss: 4.79 - ETA: 34:00 - loss: 4.79 - ETA: 33:59 - loss: 4.79 - ETA: 33:59 - loss: 4.79 - ETA: 33:58 - loss: 4.79 - ETA: 33:58 - loss: 4.79 - ETA: 33:57 - loss: 4.79 - ETA: 33:57 - loss: 4.79 - ETA: 33:56 - loss: 4.79 - ETA: 33:55 - loss: 4.79 - ETA: 33:55 - loss: 4.79 - ETA: 33:54 - loss: 4.79 - ETA: 33:54 - loss: 4.79 - ETA: 33:53 - loss: 4.79 - ETA: 33:53 - loss: 4.79 - ETA: 33:52 - loss: 4.79 - ETA: 33:52 - loss: 4.79 - ETA: 33:51 - loss: 4.79 - ETA: 33:51 - loss: 4.79 - ETA: 33:50 - loss: 4.79 - ETA: 33:50 - loss: 4.79 - ETA: 33:49 - loss: 4.79 - ETA: 33:49 - loss: 4.79 - ETA: 33:48 - loss: 4.78 - ETA: 33:48 - loss: 4.78 - ETA: 33:47 - loss: 4.78 - ETA: 33:47 - loss: 4.78 - ETA: 33:46 - loss: 4.78 - ETA: 33:46 - loss: 4.78 - ETA: 33:45 - loss: 4.78 - ETA: 33:45 - loss: 4.78 - ETA: 33:44 - loss: 4.78 - ETA: 33:44 - loss: 4.78 - ETA: 33:43 - loss: 4.78 - ETA: 33:43 - loss: 4.78 - ETA: 33:42 - loss: 4.78 - ETA: 33:42 - loss: 4.78 - ETA: 33:42 - loss: 4.78 - ETA: 33:41 - loss: 4.78 - ETA: 33:41 - loss: 4.78 - ETA: 33:40 - loss: 4.78 - ETA: 33:40 - loss: 4.78 - ETA: 33:39 - loss: 4.78 - ETA: 33:39 - loss: 4.78 - ETA: 33:38 - loss: 4.78 - ETA: 33:38 - loss: 4.78 - ETA: 33:37 - loss: 4.78 - ETA: 33:37 - loss: 4.78 - ETA: 33:36 - loss: 4.78 - ETA: 33:36 - loss: 4.78 - ETA: 33:35 - loss: 4.78 - ETA: 33:34 - loss: 4.78 - ETA: 33:34 - loss: 4.78 - ETA: 33:33 - loss: 4.78 - ETA: 33:33 - loss: 4.78 - ETA: 33:32 - loss: 4.78 - ETA: 33:32 - loss: 4.78 - ETA: 33:31 - loss: 4.78 - ETA: 33:31 - loss: 4.78 - ETA: 33:30 - loss: 4.77 - ETA: 33:30 - loss: 4.77 - ETA: 33:29 - loss: 4.77 - ETA: 33:28 - loss: 4.77 - ETA: 33:28 - loss: 4.77 - ETA: 33:27 - loss: 4.77 - ETA: 33:27 - loss: 4.77 - ETA: 33:26 - loss: 4.77 - ETA: 33:26 - loss: 4.77 - ETA: 33:25 - loss: 4.77 - ETA: 33:25 - loss: 4.77 - ETA: 33:25 - loss: 4.77 - ETA: 33:24 - loss: 4.77 - ETA: 33:24 - loss: 4.77 - ETA: 33:23 - loss: 4.77 - ETA: 33:23 - loss: 4.77 - ETA: 33:22 - loss: 4.77 - ETA: 33:21 - loss: 4.77 - ETA: 33:21 - loss: 4.77 - ETA: 33:20 - loss: 4.77 - ETA: 33:20 - loss: 4.77 - ETA: 33:19 - loss: 4.77 - ETA: 33:19 - loss: 4.77 - ETA: 33:18 - loss: 4.77 - ETA: 33:18 - loss: 4.77 - ETA: 33:18 - loss: 4.77 - ETA: 33:17 - loss: 4.77 - ETA: 33:17 - loss: 4.77 - ETA: 33:16 - loss: 4.77 - ETA: 33:16 - loss: 4.77 - ETA: 33:15 - loss: 4.77 - ETA: 33:15 - loss: 4.77 - ETA: 33:14 - loss: 4.77 - ETA: 33:14 - loss: 4.76 - ETA: 33:13 - loss: 4.76 - ETA: 33:13 - loss: 4.76 - ETA: 33:12 - loss: 4.76 - ETA: 33:12 - loss: 4.76 - ETA: 33:11 - loss: 4.76 - ETA: 33:11 - loss: 4.76 - ETA: 33:10 - loss: 4.76 - ETA: 33:10 - loss: 4.76 - ETA: 33:09 - loss: 4.76 - ETA: 33:09 - loss: 4.76 - ETA: 33:08 - loss: 4.76 - ETA: 33:08 - loss: 4.76 - ETA: 33:07 - loss: 4.76 - ETA: 33:07 - loss: 4.76 - ETA: 33:06 - loss: 4.76 - ETA: 33:06 - loss: 4.76 - ETA: 33:05 - loss: 4.76 - ETA: 33:04 - loss: 4.76 - ETA: 33:04 - loss: 4.76 - ETA: 33:03 - loss: 4.76 - ETA: 33:03 - loss: 4.76 - ETA: 33:02 - loss: 4.76 - ETA: 33:02 - loss: 4.76 - ETA: 33:01 - loss: 4.76 - ETA: 33:01 - loss: 4.76 - ETA: 33:00 - loss: 4.76 - ETA: 33:00 - loss: 4.76 - ETA: 32:59 - loss: 4.76 - ETA: 32:58 - loss: 4.76 - ETA: 32:58 - loss: 4.75 - ETA: 32:57 - loss: 4.75 - ETA: 32:57 - loss: 4.75 - ETA: 32:56 - loss: 4.75 - ETA: 32:56 - loss: 4.75 - ETA: 32:55 - loss: 4.75 - ETA: 32:55 - loss: 4.75 - ETA: 32:54 - loss: 4.75 - ETA: 32:54 - loss: 4.75 - ETA: 32:53 - loss: 4.75 - ETA: 32:53 - loss: 4.75 - ETA: 32:52 - loss: 4.75 - ETA: 32:52 - loss: 4.75 - ETA: 32:51 - loss: 4.75 - ETA: 32:51 - loss: 4.75 - ETA: 32:50 - loss: 4.75 - ETA: 32:50 - loss: 4.75 - ETA: 32:49 - loss: 4.75 - ETA: 32:48 - loss: 4.75 - ETA: 32:48 - loss: 4.75 - ETA: 32:47 - loss: 4.75 - ETA: 32:47 - loss: 4.75 - ETA: 32:46 - loss: 4.75 - ETA: 32:46 - loss: 4.75 - ETA: 32:45 - loss: 4.75 - ETA: 32:45 - loss: 4.75 - ETA: 32:44 - loss: 4.75 - ETA: 32:43 - loss: 4.75 - ETA: 32:43 - loss: 4.75 - ETA: 32:42 - loss: 4.75 - ETA: 32:42 - loss: 4.75 - ETA: 32:41 - loss: 4.75 - ETA: 32:41 - loss: 4.75 - ETA: 32:40 - loss: 4.75 - ETA: 32:40 - loss: 4.7508"
     ]
    },
    {
     "name": "stdout",
     "output_type": "stream",
     "text": [
      "2196/4335 [==============>...............] - ETA: 32:39 - loss: 4.75 - ETA: 32:39 - loss: 4.74 - ETA: 32:38 - loss: 4.74 - ETA: 32:38 - loss: 4.74 - ETA: 32:37 - loss: 4.74 - ETA: 32:37 - loss: 4.74 - ETA: 32:36 - loss: 4.74 - ETA: 32:36 - loss: 4.74 - ETA: 32:35 - loss: 4.74 - ETA: 32:35 - loss: 4.74 - ETA: 32:34 - loss: 4.74 - ETA: 32:34 - loss: 4.74 - ETA: 32:33 - loss: 4.74 - ETA: 32:32 - loss: 4.74 - ETA: 32:32 - loss: 4.74 - ETA: 32:31 - loss: 4.74 - ETA: 32:30 - loss: 4.74 - ETA: 32:30 - loss: 4.74 - ETA: 32:29 - loss: 4.74 - ETA: 32:28 - loss: 4.74 - ETA: 32:28 - loss: 4.74 - ETA: 32:27 - loss: 4.74 - ETA: 32:26 - loss: 4.74 - ETA: 32:26 - loss: 4.74 - ETA: 32:25 - loss: 4.74 - ETA: 32:24 - loss: 4.74 - ETA: 32:24 - loss: 4.74 - ETA: 32:23 - loss: 4.74 - ETA: 32:23 - loss: 4.74 - ETA: 32:22 - loss: 4.74 - ETA: 32:21 - loss: 4.74 - ETA: 32:21 - loss: 4.74 - ETA: 32:20 - loss: 4.74 - ETA: 32:20 - loss: 4.74 - ETA: 32:19 - loss: 4.74 - ETA: 32:19 - loss: 4.74 - ETA: 32:18 - loss: 4.74 - ETA: 32:18 - loss: 4.74 - ETA: 32:17 - loss: 4.74 - ETA: 32:17 - loss: 4.74 - ETA: 32:16 - loss: 4.74 - ETA: 32:15 - loss: 4.74 - ETA: 32:15 - loss: 4.73 - ETA: 32:14 - loss: 4.73 - ETA: 32:14 - loss: 4.73 - ETA: 32:13 - loss: 4.73 - ETA: 32:13 - loss: 4.73 - ETA: 32:12 - loss: 4.73 - ETA: 32:11 - loss: 4.73 - ETA: 32:11 - loss: 4.73 - ETA: 32:10 - loss: 4.73 - ETA: 32:10 - loss: 4.73 - ETA: 32:09 - loss: 4.73 - ETA: 32:09 - loss: 4.73 - ETA: 32:08 - loss: 4.73 - ETA: 32:07 - loss: 4.73 - ETA: 32:07 - loss: 4.73 - ETA: 32:06 - loss: 4.73 - ETA: 32:06 - loss: 4.73 - ETA: 32:05 - loss: 4.73 - ETA: 32:05 - loss: 4.73 - ETA: 32:04 - loss: 4.73 - ETA: 32:04 - loss: 4.73 - ETA: 32:03 - loss: 4.73 - ETA: 32:03 - loss: 4.73 - ETA: 32:02 - loss: 4.73 - ETA: 32:01 - loss: 4.73 - ETA: 32:01 - loss: 4.73 - ETA: 32:00 - loss: 4.73 - ETA: 32:00 - loss: 4.73 - ETA: 31:59 - loss: 4.73 - ETA: 31:59 - loss: 4.73 - ETA: 31:58 - loss: 4.72 - ETA: 31:57 - loss: 4.72 - ETA: 31:57 - loss: 4.72 - ETA: 31:56 - loss: 4.72 - ETA: 31:56 - loss: 4.72 - ETA: 31:55 - loss: 4.72 - ETA: 31:54 - loss: 4.72 - ETA: 31:54 - loss: 4.72 - ETA: 31:53 - loss: 4.72 - ETA: 31:53 - loss: 4.72 - ETA: 31:52 - loss: 4.72 - ETA: 31:51 - loss: 4.72 - ETA: 31:51 - loss: 4.72 - ETA: 31:50 - loss: 4.72 - ETA: 31:50 - loss: 4.72 - ETA: 31:49 - loss: 4.72 - ETA: 31:48 - loss: 4.72 - ETA: 31:48 - loss: 4.72 - ETA: 31:47 - loss: 4.72 - ETA: 31:47 - loss: 4.72 - ETA: 31:46 - loss: 4.72 - ETA: 31:46 - loss: 4.72 - ETA: 31:45 - loss: 4.72 - ETA: 31:45 - loss: 4.72 - ETA: 31:44 - loss: 4.72 - ETA: 31:44 - loss: 4.72 - ETA: 31:43 - loss: 4.72 - ETA: 31:42 - loss: 4.72 - ETA: 31:42 - loss: 4.72 - ETA: 31:41 - loss: 4.72 - ETA: 31:40 - loss: 4.72 - ETA: 31:40 - loss: 4.72 - ETA: 31:39 - loss: 4.72 - ETA: 31:38 - loss: 4.71 - ETA: 31:38 - loss: 4.71 - ETA: 31:37 - loss: 4.71 - ETA: 31:36 - loss: 4.71 - ETA: 31:36 - loss: 4.71 - ETA: 31:35 - loss: 4.71 - ETA: 31:35 - loss: 4.71 - ETA: 31:34 - loss: 4.71 - ETA: 31:33 - loss: 4.71 - ETA: 31:33 - loss: 4.71 - ETA: 31:32 - loss: 4.71 - ETA: 31:31 - loss: 4.71 - ETA: 31:31 - loss: 4.71 - ETA: 31:30 - loss: 4.71 - ETA: 31:29 - loss: 4.71 - ETA: 31:29 - loss: 4.71 - ETA: 31:28 - loss: 4.71 - ETA: 31:28 - loss: 4.71 - ETA: 31:27 - loss: 4.71 - ETA: 31:27 - loss: 4.71 - ETA: 31:26 - loss: 4.71 - ETA: 31:26 - loss: 4.71 - ETA: 31:25 - loss: 4.71 - ETA: 31:25 - loss: 4.71 - ETA: 31:24 - loss: 4.71 - ETA: 31:23 - loss: 4.71 - ETA: 31:23 - loss: 4.71 - ETA: 31:22 - loss: 4.71 - ETA: 31:21 - loss: 4.71 - ETA: 31:21 - loss: 4.71 - ETA: 31:20 - loss: 4.71 - ETA: 31:20 - loss: 4.71 - ETA: 31:19 - loss: 4.71 - ETA: 31:18 - loss: 4.71 - ETA: 31:18 - loss: 4.71 - ETA: 31:17 - loss: 4.71 - ETA: 31:16 - loss: 4.70 - ETA: 31:16 - loss: 4.70 - ETA: 31:15 - loss: 4.70 - ETA: 31:15 - loss: 4.70 - ETA: 31:14 - loss: 4.70 - ETA: 31:13 - loss: 4.70 - ETA: 31:13 - loss: 4.70 - ETA: 31:12 - loss: 4.70 - ETA: 31:11 - loss: 4.70 - ETA: 31:11 - loss: 4.70 - ETA: 31:10 - loss: 4.70 - ETA: 31:10 - loss: 4.70 - ETA: 31:09 - loss: 4.70 - ETA: 31:09 - loss: 4.70 - ETA: 31:08 - loss: 4.70 - ETA: 31:07 - loss: 4.70 - ETA: 31:07 - loss: 4.70 - ETA: 31:06 - loss: 4.70 - ETA: 31:06 - loss: 4.70 - ETA: 31:05 - loss: 4.70 - ETA: 31:04 - loss: 4.70 - ETA: 31:04 - loss: 4.70 - ETA: 31:03 - loss: 4.70 - ETA: 31:03 - loss: 4.70 - ETA: 31:02 - loss: 4.70 - ETA: 31:01 - loss: 4.70 - ETA: 31:01 - loss: 4.70 - ETA: 31:00 - loss: 4.70 - ETA: 30:59 - loss: 4.70 - ETA: 30:59 - loss: 4.70 - ETA: 30:58 - loss: 4.70 - ETA: 30:57 - loss: 4.70 - ETA: 30:57 - loss: 4.70 - ETA: 30:56 - loss: 4.70 - ETA: 30:56 - loss: 4.70 - ETA: 30:55 - loss: 4.70 - ETA: 30:54 - loss: 4.70 - ETA: 30:54 - loss: 4.70 - ETA: 30:53 - loss: 4.70 - ETA: 30:52 - loss: 4.70 - ETA: 30:52 - loss: 4.70 - ETA: 30:51 - loss: 4.70 - ETA: 30:50 - loss: 4.70 - ETA: 30:50 - loss: 4.70 - ETA: 30:49 - loss: 4.70 - ETA: 30:49 - loss: 4.69 - ETA: 30:48 - loss: 4.69 - ETA: 30:48 - loss: 4.69 - ETA: 30:47 - loss: 4.69 - ETA: 30:46 - loss: 4.69 - ETA: 30:46 - loss: 4.69 - ETA: 30:45 - loss: 4.69 - ETA: 30:44 - loss: 4.69 - ETA: 30:44 - loss: 4.69 - ETA: 30:43 - loss: 4.69 - ETA: 30:42 - loss: 4.69 - ETA: 30:42 - loss: 4.69 - ETA: 30:41 - loss: 4.69 - ETA: 30:41 - loss: 4.69 - ETA: 30:40 - loss: 4.69 - ETA: 30:39 - loss: 4.69 - ETA: 30:39 - loss: 4.69 - ETA: 30:38 - loss: 4.69 - ETA: 30:37 - loss: 4.69 - ETA: 30:37 - loss: 4.69 - ETA: 30:36 - loss: 4.69 - ETA: 30:35 - loss: 4.69 - ETA: 30:35 - loss: 4.69 - ETA: 30:34 - loss: 4.69 - ETA: 30:33 - loss: 4.69 - ETA: 30:33 - loss: 4.69 - ETA: 30:32 - loss: 4.69 - ETA: 30:31 - loss: 4.69 - ETA: 30:31 - loss: 4.69 - ETA: 30:30 - loss: 4.69 - ETA: 30:30 - loss: 4.69 - ETA: 30:29 - loss: 4.69 - ETA: 30:28 - loss: 4.69 - ETA: 30:28 - loss: 4.69 - ETA: 30:27 - loss: 4.69 - ETA: 30:26 - loss: 4.69 - ETA: 30:26 - loss: 4.69 - ETA: 30:25 - loss: 4.69 - ETA: 30:24 - loss: 4.69 - ETA: 30:24 - loss: 4.68 - ETA: 30:23 - loss: 4.68 - ETA: 30:22 - loss: 4.68 - ETA: 30:21 - loss: 4.68 - ETA: 30:21 - loss: 4.68 - ETA: 30:20 - loss: 4.68 - ETA: 30:19 - loss: 4.68 - ETA: 30:19 - loss: 4.68 - ETA: 30:18 - loss: 4.68 - ETA: 30:17 - loss: 4.68 - ETA: 30:17 - loss: 4.68 - ETA: 30:16 - loss: 4.68 - ETA: 30:15 - loss: 4.68 - ETA: 30:15 - loss: 4.68 - ETA: 30:14 - loss: 4.68 - ETA: 30:14 - loss: 4.68 - ETA: 30:13 - loss: 4.68 - ETA: 30:13 - loss: 4.68 - ETA: 30:12 - loss: 4.68 - ETA: 30:12 - loss: 4.68 - ETA: 30:11 - loss: 4.68 - ETA: 30:11 - loss: 4.68 - ETA: 30:10 - loss: 4.68 - ETA: 30:09 - loss: 4.68 - ETA: 30:09 - loss: 4.68 - ETA: 30:08 - loss: 4.68 - ETA: 30:07 - loss: 4.68 - ETA: 30:07 - loss: 4.68 - ETA: 30:06 - loss: 4.68 - ETA: 30:05 - loss: 4.68 - ETA: 30:05 - loss: 4.68 - ETA: 30:04 - loss: 4.68 - ETA: 30:04 - loss: 4.68 - ETA: 30:03 - loss: 4.68 - ETA: 30:02 - loss: 4.68 - ETA: 30:02 - loss: 4.68 - ETA: 30:01 - loss: 4.68 - ETA: 30:00 - loss: 4.67 - ETA: 30:00 - loss: 4.67 - ETA: 29:59 - loss: 4.67 - ETA: 29:58 - loss: 4.67 - ETA: 29:58 - loss: 4.67 - ETA: 29:57 - loss: 4.67 - ETA: 29:56 - loss: 4.67 - ETA: 29:56 - loss: 4.67 - ETA: 29:55 - loss: 4.67 - ETA: 29:54 - loss: 4.67 - ETA: 29:54 - loss: 4.67 - ETA: 29:53 - loss: 4.67 - ETA: 29:53 - loss: 4.67 - ETA: 29:52 - loss: 4.67 - ETA: 29:51 - loss: 4.67 - ETA: 29:51 - loss: 4.67 - ETA: 29:50 - loss: 4.67 - ETA: 29:49 - loss: 4.67 - ETA: 29:49 - loss: 4.67 - ETA: 29:48 - loss: 4.67 - ETA: 29:47 - loss: 4.67 - ETA: 29:47 - loss: 4.67 - ETA: 29:46 - loss: 4.67 - ETA: 29:45 - loss: 4.67 - ETA: 29:45 - loss: 4.67 - ETA: 29:44 - loss: 4.67 - ETA: 29:44 - loss: 4.67 - ETA: 29:43 - loss: 4.67 - ETA: 29:42 - loss: 4.67 - ETA: 29:42 - loss: 4.67 - ETA: 29:41 - loss: 4.67 - ETA: 29:40 - loss: 4.67 - ETA: 29:40 - loss: 4.67 - ETA: 29:39 - loss: 4.67 - ETA: 29:38 - loss: 4.67 - ETA: 29:38 - loss: 4.67 - ETA: 29:37 - loss: 4.67 - ETA: 29:36 - loss: 4.67 - ETA: 29:36 - loss: 4.67 - ETA: 29:35 - loss: 4.67 - ETA: 29:34 - loss: 4.67 - ETA: 29:33 - loss: 4.67 - ETA: 29:33 - loss: 4.66 - ETA: 29:32 - loss: 4.66 - ETA: 29:32 - loss: 4.66 - ETA: 29:31 - loss: 4.66 - ETA: 29:30 - loss: 4.66 - ETA: 29:30 - loss: 4.66 - ETA: 29:29 - loss: 4.66 - ETA: 29:28 - loss: 4.66 - ETA: 29:28 - loss: 4.66 - ETA: 29:27 - loss: 4.6682"
     ]
    },
    {
     "name": "stdout",
     "output_type": "stream",
     "text": [
      "2510/4335 [================>.............] - ETA: 29:26 - loss: 4.66 - ETA: 29:25 - loss: 4.66 - ETA: 29:25 - loss: 4.66 - ETA: 29:24 - loss: 4.66 - ETA: 29:23 - loss: 4.66 - ETA: 29:23 - loss: 4.66 - ETA: 29:22 - loss: 4.66 - ETA: 29:21 - loss: 4.66 - ETA: 29:20 - loss: 4.66 - ETA: 29:20 - loss: 4.66 - ETA: 29:19 - loss: 4.66 - ETA: 29:18 - loss: 4.66 - ETA: 29:18 - loss: 4.66 - ETA: 29:17 - loss: 4.66 - ETA: 29:16 - loss: 4.66 - ETA: 29:16 - loss: 4.66 - ETA: 29:15 - loss: 4.66 - ETA: 29:14 - loss: 4.66 - ETA: 29:13 - loss: 4.66 - ETA: 29:13 - loss: 4.66 - ETA: 29:12 - loss: 4.66 - ETA: 29:11 - loss: 4.66 - ETA: 29:11 - loss: 4.66 - ETA: 29:10 - loss: 4.66 - ETA: 29:09 - loss: 4.66 - ETA: 29:09 - loss: 4.66 - ETA: 29:08 - loss: 4.66 - ETA: 29:08 - loss: 4.66 - ETA: 29:07 - loss: 4.66 - ETA: 29:06 - loss: 4.66 - ETA: 29:06 - loss: 4.66 - ETA: 29:05 - loss: 4.66 - ETA: 29:05 - loss: 4.66 - ETA: 29:04 - loss: 4.65 - ETA: 29:04 - loss: 4.65 - ETA: 29:03 - loss: 4.65 - ETA: 29:03 - loss: 4.65 - ETA: 29:02 - loss: 4.65 - ETA: 29:02 - loss: 4.65 - ETA: 29:01 - loss: 4.65 - ETA: 29:00 - loss: 4.65 - ETA: 29:00 - loss: 4.65 - ETA: 28:59 - loss: 4.65 - ETA: 28:58 - loss: 4.65 - ETA: 28:58 - loss: 4.65 - ETA: 28:57 - loss: 4.65 - ETA: 28:56 - loss: 4.65 - ETA: 28:55 - loss: 4.65 - ETA: 28:55 - loss: 4.65 - ETA: 28:54 - loss: 4.65 - ETA: 28:53 - loss: 4.65 - ETA: 28:53 - loss: 4.65 - ETA: 28:52 - loss: 4.65 - ETA: 28:51 - loss: 4.65 - ETA: 28:50 - loss: 4.65 - ETA: 28:50 - loss: 4.65 - ETA: 28:49 - loss: 4.65 - ETA: 28:48 - loss: 4.65 - ETA: 28:47 - loss: 4.65 - ETA: 28:47 - loss: 4.65 - ETA: 28:46 - loss: 4.65 - ETA: 28:45 - loss: 4.65 - ETA: 28:45 - loss: 4.65 - ETA: 28:44 - loss: 4.65 - ETA: 28:43 - loss: 4.65 - ETA: 28:43 - loss: 4.65 - ETA: 28:42 - loss: 4.65 - ETA: 28:41 - loss: 4.65 - ETA: 28:41 - loss: 4.65 - ETA: 28:40 - loss: 4.65 - ETA: 28:40 - loss: 4.64 - ETA: 28:39 - loss: 4.64 - ETA: 28:38 - loss: 4.64 - ETA: 28:38 - loss: 4.64 - ETA: 28:37 - loss: 4.64 - ETA: 28:36 - loss: 4.64 - ETA: 28:36 - loss: 4.64 - ETA: 28:35 - loss: 4.64 - ETA: 28:34 - loss: 4.64 - ETA: 28:34 - loss: 4.64 - ETA: 28:33 - loss: 4.64 - ETA: 28:33 - loss: 4.64 - ETA: 28:32 - loss: 4.64 - ETA: 28:31 - loss: 4.64 - ETA: 28:31 - loss: 4.64 - ETA: 28:30 - loss: 4.64 - ETA: 28:29 - loss: 4.64 - ETA: 28:29 - loss: 4.64 - ETA: 28:28 - loss: 4.64 - ETA: 28:27 - loss: 4.64 - ETA: 28:26 - loss: 4.64 - ETA: 28:26 - loss: 4.64 - ETA: 28:25 - loss: 4.64 - ETA: 28:24 - loss: 4.64 - ETA: 28:23 - loss: 4.64 - ETA: 28:23 - loss: 4.64 - ETA: 28:22 - loss: 4.64 - ETA: 28:21 - loss: 4.64 - ETA: 28:20 - loss: 4.64 - ETA: 28:20 - loss: 4.64 - ETA: 28:19 - loss: 4.64 - ETA: 28:18 - loss: 4.64 - ETA: 28:18 - loss: 4.64 - ETA: 28:17 - loss: 4.64 - ETA: 28:16 - loss: 4.64 - ETA: 28:16 - loss: 4.64 - ETA: 28:15 - loss: 4.64 - ETA: 28:14 - loss: 4.64 - ETA: 28:14 - loss: 4.64 - ETA: 28:13 - loss: 4.63 - ETA: 28:12 - loss: 4.63 - ETA: 28:12 - loss: 4.63 - ETA: 28:11 - loss: 4.63 - ETA: 28:10 - loss: 4.63 - ETA: 28:10 - loss: 4.63 - ETA: 28:09 - loss: 4.63 - ETA: 28:08 - loss: 4.63 - ETA: 28:08 - loss: 4.63 - ETA: 28:07 - loss: 4.63 - ETA: 28:06 - loss: 4.63 - ETA: 28:06 - loss: 4.63 - ETA: 28:05 - loss: 4.63 - ETA: 28:04 - loss: 4.63 - ETA: 28:03 - loss: 4.63 - ETA: 28:03 - loss: 4.63 - ETA: 28:02 - loss: 4.63 - ETA: 28:01 - loss: 4.63 - ETA: 28:01 - loss: 4.63 - ETA: 28:00 - loss: 4.63 - ETA: 27:59 - loss: 4.63 - ETA: 27:59 - loss: 4.63 - ETA: 27:58 - loss: 4.63 - ETA: 27:57 - loss: 4.63 - ETA: 27:57 - loss: 4.63 - ETA: 27:56 - loss: 4.63 - ETA: 27:55 - loss: 4.63 - ETA: 27:55 - loss: 4.63 - ETA: 27:54 - loss: 4.63 - ETA: 27:53 - loss: 4.63 - ETA: 27:53 - loss: 4.63 - ETA: 27:52 - loss: 4.63 - ETA: 27:51 - loss: 4.63 - ETA: 27:51 - loss: 4.63 - ETA: 27:50 - loss: 4.63 - ETA: 27:49 - loss: 4.63 - ETA: 27:48 - loss: 4.63 - ETA: 27:48 - loss: 4.63 - ETA: 27:47 - loss: 4.63 - ETA: 27:46 - loss: 4.63 - ETA: 27:46 - loss: 4.63 - ETA: 27:45 - loss: 4.63 - ETA: 27:44 - loss: 4.63 - ETA: 27:44 - loss: 4.63 - ETA: 27:43 - loss: 4.63 - ETA: 27:42 - loss: 4.62 - ETA: 27:41 - loss: 4.62 - ETA: 27:41 - loss: 4.62 - ETA: 27:40 - loss: 4.62 - ETA: 27:39 - loss: 4.62 - ETA: 27:38 - loss: 4.62 - ETA: 27:38 - loss: 4.62 - ETA: 27:37 - loss: 4.62 - ETA: 27:36 - loss: 4.62 - ETA: 27:36 - loss: 4.62 - ETA: 27:35 - loss: 4.62 - ETA: 27:34 - loss: 4.62 - ETA: 27:34 - loss: 4.62 - ETA: 27:33 - loss: 4.62 - ETA: 27:32 - loss: 4.62 - ETA: 27:32 - loss: 4.62 - ETA: 27:31 - loss: 4.62 - ETA: 27:30 - loss: 4.62 - ETA: 27:29 - loss: 4.62 - ETA: 27:29 - loss: 4.62 - ETA: 27:28 - loss: 4.62 - ETA: 27:27 - loss: 4.62 - ETA: 27:27 - loss: 4.62 - ETA: 27:26 - loss: 4.62 - ETA: 27:25 - loss: 4.62 - ETA: 27:24 - loss: 4.62 - ETA: 27:24 - loss: 4.62 - ETA: 27:23 - loss: 4.62 - ETA: 27:22 - loss: 4.62 - ETA: 27:21 - loss: 4.62 - ETA: 27:21 - loss: 4.62 - ETA: 27:20 - loss: 4.62 - ETA: 27:19 - loss: 4.62 - ETA: 27:18 - loss: 4.62 - ETA: 27:18 - loss: 4.62 - ETA: 27:17 - loss: 4.62 - ETA: 27:16 - loss: 4.62 - ETA: 27:15 - loss: 4.62 - ETA: 27:15 - loss: 4.62 - ETA: 27:14 - loss: 4.62 - ETA: 27:13 - loss: 4.62 - ETA: 27:13 - loss: 4.62 - ETA: 27:12 - loss: 4.62 - ETA: 27:11 - loss: 4.62 - ETA: 27:11 - loss: 4.62 - ETA: 27:10 - loss: 4.62 - ETA: 27:09 - loss: 4.62 - ETA: 27:09 - loss: 4.61 - ETA: 27:08 - loss: 4.61 - ETA: 27:08 - loss: 4.61 - ETA: 27:07 - loss: 4.61 - ETA: 27:06 - loss: 4.61 - ETA: 27:06 - loss: 4.61 - ETA: 27:05 - loss: 4.61 - ETA: 27:04 - loss: 4.61 - ETA: 27:04 - loss: 4.61 - ETA: 27:03 - loss: 4.61 - ETA: 27:02 - loss: 4.61 - ETA: 27:01 - loss: 4.61 - ETA: 27:01 - loss: 4.61 - ETA: 27:00 - loss: 4.61 - ETA: 26:59 - loss: 4.61 - ETA: 26:59 - loss: 4.61 - ETA: 26:58 - loss: 4.61 - ETA: 26:57 - loss: 4.61 - ETA: 26:57 - loss: 4.61 - ETA: 26:56 - loss: 4.61 - ETA: 26:55 - loss: 4.61 - ETA: 26:55 - loss: 4.61 - ETA: 26:54 - loss: 4.61 - ETA: 26:53 - loss: 4.61 - ETA: 26:53 - loss: 4.61 - ETA: 26:52 - loss: 4.61 - ETA: 26:51 - loss: 4.61 - ETA: 26:51 - loss: 4.61 - ETA: 26:50 - loss: 4.61 - ETA: 26:49 - loss: 4.61 - ETA: 26:48 - loss: 4.61 - ETA: 26:48 - loss: 4.61 - ETA: 26:47 - loss: 4.61 - ETA: 26:46 - loss: 4.61 - ETA: 26:45 - loss: 4.61 - ETA: 26:45 - loss: 4.61 - ETA: 26:44 - loss: 4.61 - ETA: 26:43 - loss: 4.61 - ETA: 26:42 - loss: 4.61 - ETA: 26:42 - loss: 4.61 - ETA: 26:41 - loss: 4.61 - ETA: 26:40 - loss: 4.61 - ETA: 26:39 - loss: 4.61 - ETA: 26:39 - loss: 4.61 - ETA: 26:38 - loss: 4.61 - ETA: 26:37 - loss: 4.61 - ETA: 26:37 - loss: 4.61 - ETA: 26:36 - loss: 4.61 - ETA: 26:36 - loss: 4.61 - ETA: 26:36 - loss: 4.60 - ETA: 26:35 - loss: 4.60 - ETA: 26:35 - loss: 4.60 - ETA: 26:34 - loss: 4.60 - ETA: 26:33 - loss: 4.60 - ETA: 26:33 - loss: 4.60 - ETA: 26:32 - loss: 4.60 - ETA: 26:32 - loss: 4.60 - ETA: 26:31 - loss: 4.60 - ETA: 26:30 - loss: 4.60 - ETA: 26:29 - loss: 4.60 - ETA: 26:29 - loss: 4.60 - ETA: 26:28 - loss: 4.60 - ETA: 26:27 - loss: 4.60 - ETA: 26:26 - loss: 4.60 - ETA: 26:26 - loss: 4.60 - ETA: 26:25 - loss: 4.60 - ETA: 26:24 - loss: 4.60 - ETA: 26:23 - loss: 4.60 - ETA: 26:22 - loss: 4.60 - ETA: 26:22 - loss: 4.60 - ETA: 26:21 - loss: 4.60 - ETA: 26:20 - loss: 4.60 - ETA: 26:19 - loss: 4.60 - ETA: 26:18 - loss: 4.60 - ETA: 26:17 - loss: 4.60 - ETA: 26:16 - loss: 4.60 - ETA: 26:15 - loss: 4.60 - ETA: 26:14 - loss: 4.60 - ETA: 26:14 - loss: 4.60 - ETA: 26:13 - loss: 4.60 - ETA: 26:12 - loss: 4.60 - ETA: 26:11 - loss: 4.60 - ETA: 26:10 - loss: 4.60 - ETA: 26:09 - loss: 4.60 - ETA: 26:08 - loss: 4.60 - ETA: 26:07 - loss: 4.60 - ETA: 26:07 - loss: 4.60 - ETA: 26:06 - loss: 4.60 - ETA: 26:05 - loss: 4.60 - ETA: 26:04 - loss: 4.60 - ETA: 26:04 - loss: 4.60 - ETA: 26:03 - loss: 4.60 - ETA: 26:02 - loss: 4.60 - ETA: 26:01 - loss: 4.60 - ETA: 26:00 - loss: 4.60 - ETA: 25:59 - loss: 4.60 - ETA: 25:58 - loss: 4.60 - ETA: 25:57 - loss: 4.60 - ETA: 25:56 - loss: 4.60 - ETA: 25:55 - loss: 4.60 - ETA: 25:55 - loss: 4.59 - ETA: 25:54 - loss: 4.59 - ETA: 25:53 - loss: 4.59 - ETA: 25:52 - loss: 4.59 - ETA: 25:51 - loss: 4.59 - ETA: 25:50 - loss: 4.59 - ETA: 25:49 - loss: 4.59 - ETA: 25:48 - loss: 4.59 - ETA: 25:47 - loss: 4.59 - ETA: 25:46 - loss: 4.59 - ETA: 25:45 - loss: 4.59 - ETA: 25:44 - loss: 4.59 - ETA: 25:43 - loss: 4.5965"
     ]
    },
    {
     "name": "stdout",
     "output_type": "stream",
     "text": [
      "2824/4335 [==================>...........] - ETA: 25:43 - loss: 4.59 - ETA: 25:42 - loss: 4.59 - ETA: 25:41 - loss: 4.59 - ETA: 25:40 - loss: 4.59 - ETA: 25:39 - loss: 4.59 - ETA: 25:38 - loss: 4.59 - ETA: 25:37 - loss: 4.59 - ETA: 25:36 - loss: 4.59 - ETA: 25:35 - loss: 4.59 - ETA: 25:34 - loss: 4.59 - ETA: 25:33 - loss: 4.59 - ETA: 25:32 - loss: 4.59 - ETA: 25:31 - loss: 4.59 - ETA: 25:31 - loss: 4.59 - ETA: 25:30 - loss: 4.59 - ETA: 25:29 - loss: 4.59 - ETA: 25:28 - loss: 4.59 - ETA: 25:27 - loss: 4.59 - ETA: 25:26 - loss: 4.59 - ETA: 25:25 - loss: 4.59 - ETA: 25:24 - loss: 4.59 - ETA: 25:23 - loss: 4.59 - ETA: 25:22 - loss: 4.59 - ETA: 25:21 - loss: 4.59 - ETA: 25:20 - loss: 4.59 - ETA: 25:20 - loss: 4.59 - ETA: 25:19 - loss: 4.59 - ETA: 25:18 - loss: 4.59 - ETA: 25:17 - loss: 4.59 - ETA: 25:16 - loss: 4.59 - ETA: 25:15 - loss: 4.59 - ETA: 25:14 - loss: 4.58 - ETA: 25:13 - loss: 4.58 - ETA: 25:12 - loss: 4.58 - ETA: 25:11 - loss: 4.58 - ETA: 25:10 - loss: 4.58 - ETA: 25:09 - loss: 4.58 - ETA: 25:08 - loss: 4.58 - ETA: 25:08 - loss: 4.58 - ETA: 25:07 - loss: 4.58 - ETA: 25:06 - loss: 4.58 - ETA: 25:05 - loss: 4.58 - ETA: 25:04 - loss: 4.58 - ETA: 25:03 - loss: 4.58 - ETA: 25:02 - loss: 4.58 - ETA: 25:01 - loss: 4.58 - ETA: 25:00 - loss: 4.58 - ETA: 24:59 - loss: 4.58 - ETA: 24:58 - loss: 4.58 - ETA: 24:58 - loss: 4.58 - ETA: 24:57 - loss: 4.58 - ETA: 24:56 - loss: 4.58 - ETA: 24:55 - loss: 4.58 - ETA: 24:54 - loss: 4.58 - ETA: 24:54 - loss: 4.58 - ETA: 24:53 - loss: 4.58 - ETA: 24:52 - loss: 4.58 - ETA: 24:51 - loss: 4.58 - ETA: 24:51 - loss: 4.58 - ETA: 24:50 - loss: 4.58 - ETA: 24:49 - loss: 4.58 - ETA: 24:48 - loss: 4.58 - ETA: 24:48 - loss: 4.58 - ETA: 24:47 - loss: 4.58 - ETA: 24:46 - loss: 4.58 - ETA: 24:45 - loss: 4.58 - ETA: 24:44 - loss: 4.58 - ETA: 24:43 - loss: 4.58 - ETA: 24:43 - loss: 4.58 - ETA: 24:42 - loss: 4.58 - ETA: 24:41 - loss: 4.58 - ETA: 24:40 - loss: 4.58 - ETA: 24:39 - loss: 4.58 - ETA: 24:39 - loss: 4.58 - ETA: 24:38 - loss: 4.58 - ETA: 24:37 - loss: 4.58 - ETA: 24:36 - loss: 4.58 - ETA: 24:35 - loss: 4.58 - ETA: 24:34 - loss: 4.58 - ETA: 24:33 - loss: 4.58 - ETA: 24:33 - loss: 4.58 - ETA: 24:32 - loss: 4.57 - ETA: 24:31 - loss: 4.57 - ETA: 24:30 - loss: 4.57 - ETA: 24:29 - loss: 4.57 - ETA: 24:28 - loss: 4.57 - ETA: 24:27 - loss: 4.57 - ETA: 24:27 - loss: 4.57 - ETA: 24:26 - loss: 4.57 - ETA: 24:25 - loss: 4.57 - ETA: 24:24 - loss: 4.57 - ETA: 24:23 - loss: 4.57 - ETA: 24:22 - loss: 4.57 - ETA: 24:21 - loss: 4.57 - ETA: 24:21 - loss: 4.57 - ETA: 24:20 - loss: 4.57 - ETA: 24:19 - loss: 4.57 - ETA: 24:18 - loss: 4.57 - ETA: 24:17 - loss: 4.57 - ETA: 24:16 - loss: 4.57 - ETA: 24:15 - loss: 4.57 - ETA: 24:15 - loss: 4.57 - ETA: 24:14 - loss: 4.57 - ETA: 24:13 - loss: 4.57 - ETA: 24:12 - loss: 4.57 - ETA: 24:11 - loss: 4.57 - ETA: 24:10 - loss: 4.57 - ETA: 24:09 - loss: 4.57 - ETA: 24:08 - loss: 4.57 - ETA: 24:07 - loss: 4.57 - ETA: 24:07 - loss: 4.57 - ETA: 24:06 - loss: 4.57 - ETA: 24:05 - loss: 4.57 - ETA: 24:04 - loss: 4.57 - ETA: 24:03 - loss: 4.57 - ETA: 24:02 - loss: 4.57 - ETA: 24:01 - loss: 4.57 - ETA: 24:00 - loss: 4.57 - ETA: 24:00 - loss: 4.57 - ETA: 23:59 - loss: 4.57 - ETA: 23:58 - loss: 4.57 - ETA: 23:57 - loss: 4.57 - ETA: 23:56 - loss: 4.57 - ETA: 23:55 - loss: 4.57 - ETA: 23:54 - loss: 4.57 - ETA: 23:54 - loss: 4.57 - ETA: 23:53 - loss: 4.57 - ETA: 23:52 - loss: 4.57 - ETA: 23:51 - loss: 4.57 - ETA: 23:50 - loss: 4.57 - ETA: 23:49 - loss: 4.57 - ETA: 23:48 - loss: 4.57 - ETA: 23:48 - loss: 4.57 - ETA: 23:47 - loss: 4.57 - ETA: 23:46 - loss: 4.56 - ETA: 23:45 - loss: 4.56 - ETA: 23:44 - loss: 4.56 - ETA: 23:43 - loss: 4.56 - ETA: 23:43 - loss: 4.56 - ETA: 23:42 - loss: 4.56 - ETA: 23:41 - loss: 4.56 - ETA: 23:40 - loss: 4.56 - ETA: 23:40 - loss: 4.56 - ETA: 23:39 - loss: 4.56 - ETA: 23:38 - loss: 4.56 - ETA: 23:37 - loss: 4.56 - ETA: 23:37 - loss: 4.56 - ETA: 23:36 - loss: 4.56 - ETA: 23:35 - loss: 4.56 - ETA: 23:34 - loss: 4.56 - ETA: 23:34 - loss: 4.56 - ETA: 23:33 - loss: 4.56 - ETA: 23:32 - loss: 4.56 - ETA: 23:31 - loss: 4.56 - ETA: 23:31 - loss: 4.56 - ETA: 23:30 - loss: 4.56 - ETA: 23:29 - loss: 4.56 - ETA: 23:28 - loss: 4.56 - ETA: 23:27 - loss: 4.56 - ETA: 23:26 - loss: 4.56 - ETA: 23:26 - loss: 4.56 - ETA: 23:25 - loss: 4.56 - ETA: 23:24 - loss: 4.56 - ETA: 23:23 - loss: 4.56 - ETA: 23:22 - loss: 4.56 - ETA: 23:22 - loss: 4.56 - ETA: 23:21 - loss: 4.56 - ETA: 23:20 - loss: 4.56 - ETA: 23:19 - loss: 4.56 - ETA: 23:18 - loss: 4.56 - ETA: 23:17 - loss: 4.56 - ETA: 23:16 - loss: 4.56 - ETA: 23:16 - loss: 4.56 - ETA: 23:15 - loss: 4.56 - ETA: 23:14 - loss: 4.56 - ETA: 23:13 - loss: 4.56 - ETA: 23:12 - loss: 4.56 - ETA: 23:11 - loss: 4.56 - ETA: 23:11 - loss: 4.56 - ETA: 23:10 - loss: 4.56 - ETA: 23:09 - loss: 4.56 - ETA: 23:08 - loss: 4.56 - ETA: 23:07 - loss: 4.56 - ETA: 23:07 - loss: 4.56 - ETA: 23:06 - loss: 4.56 - ETA: 23:05 - loss: 4.56 - ETA: 23:04 - loss: 4.56 - ETA: 23:03 - loss: 4.56 - ETA: 23:03 - loss: 4.56 - ETA: 23:02 - loss: 4.56 - ETA: 23:01 - loss: 4.55 - ETA: 23:00 - loss: 4.55 - ETA: 22:59 - loss: 4.55 - ETA: 22:59 - loss: 4.55 - ETA: 22:58 - loss: 4.55 - ETA: 22:57 - loss: 4.55 - ETA: 22:56 - loss: 4.55 - ETA: 22:55 - loss: 4.55 - ETA: 22:55 - loss: 4.55 - ETA: 22:54 - loss: 4.55 - ETA: 22:53 - loss: 4.55 - ETA: 22:52 - loss: 4.55 - ETA: 22:51 - loss: 4.55 - ETA: 22:51 - loss: 4.55 - ETA: 22:50 - loss: 4.55 - ETA: 22:49 - loss: 4.55 - ETA: 22:48 - loss: 4.55 - ETA: 22:48 - loss: 4.55 - ETA: 22:47 - loss: 4.55 - ETA: 22:46 - loss: 4.55 - ETA: 22:45 - loss: 4.55 - ETA: 22:44 - loss: 4.55 - ETA: 22:44 - loss: 4.55 - ETA: 22:43 - loss: 4.55 - ETA: 22:42 - loss: 4.55 - ETA: 22:41 - loss: 4.55 - ETA: 22:40 - loss: 4.55 - ETA: 22:40 - loss: 4.55 - ETA: 22:39 - loss: 4.55 - ETA: 22:38 - loss: 4.55 - ETA: 22:37 - loss: 4.55 - ETA: 22:36 - loss: 4.55 - ETA: 22:35 - loss: 4.55 - ETA: 22:35 - loss: 4.55 - ETA: 22:34 - loss: 4.55 - ETA: 22:33 - loss: 4.55 - ETA: 22:32 - loss: 4.55 - ETA: 22:31 - loss: 4.55 - ETA: 22:31 - loss: 4.55 - ETA: 22:30 - loss: 4.55 - ETA: 22:29 - loss: 4.55 - ETA: 22:28 - loss: 4.55 - ETA: 22:27 - loss: 4.55 - ETA: 22:27 - loss: 4.55 - ETA: 22:26 - loss: 4.55 - ETA: 22:25 - loss: 4.55 - ETA: 22:24 - loss: 4.55 - ETA: 22:23 - loss: 4.55 - ETA: 22:22 - loss: 4.55 - ETA: 22:22 - loss: 4.55 - ETA: 22:21 - loss: 4.55 - ETA: 22:20 - loss: 4.55 - ETA: 22:19 - loss: 4.55 - ETA: 22:18 - loss: 4.55 - ETA: 22:18 - loss: 4.55 - ETA: 22:17 - loss: 4.55 - ETA: 22:16 - loss: 4.54 - ETA: 22:15 - loss: 4.54 - ETA: 22:14 - loss: 4.54 - ETA: 22:13 - loss: 4.54 - ETA: 22:13 - loss: 4.54 - ETA: 22:12 - loss: 4.54 - ETA: 22:11 - loss: 4.54 - ETA: 22:10 - loss: 4.54 - ETA: 22:09 - loss: 4.54 - ETA: 22:09 - loss: 4.54 - ETA: 22:08 - loss: 4.54 - ETA: 22:07 - loss: 4.54 - ETA: 22:06 - loss: 4.54 - ETA: 22:05 - loss: 4.54 - ETA: 22:05 - loss: 4.54 - ETA: 22:04 - loss: 4.54 - ETA: 22:03 - loss: 4.54 - ETA: 22:02 - loss: 4.54 - ETA: 22:01 - loss: 4.54 - ETA: 22:01 - loss: 4.54 - ETA: 22:00 - loss: 4.54 - ETA: 21:59 - loss: 4.54 - ETA: 21:58 - loss: 4.54 - ETA: 21:57 - loss: 4.54 - ETA: 21:56 - loss: 4.54 - ETA: 21:56 - loss: 4.54 - ETA: 21:55 - loss: 4.54 - ETA: 21:54 - loss: 4.54 - ETA: 21:53 - loss: 4.54 - ETA: 21:52 - loss: 4.54 - ETA: 21:51 - loss: 4.54 - ETA: 21:51 - loss: 4.54 - ETA: 21:50 - loss: 4.54 - ETA: 21:49 - loss: 4.54 - ETA: 21:48 - loss: 4.54 - ETA: 21:47 - loss: 4.54 - ETA: 21:46 - loss: 4.54 - ETA: 21:46 - loss: 4.54 - ETA: 21:45 - loss: 4.54 - ETA: 21:44 - loss: 4.54 - ETA: 21:43 - loss: 4.54 - ETA: 21:42 - loss: 4.54 - ETA: 21:41 - loss: 4.54 - ETA: 21:41 - loss: 4.54 - ETA: 21:40 - loss: 4.54 - ETA: 21:39 - loss: 4.54 - ETA: 21:38 - loss: 4.54 - ETA: 21:37 - loss: 4.54 - ETA: 21:37 - loss: 4.54 - ETA: 21:36 - loss: 4.54 - ETA: 21:35 - loss: 4.54 - ETA: 21:34 - loss: 4.54 - ETA: 21:33 - loss: 4.54 - ETA: 21:33 - loss: 4.54 - ETA: 21:32 - loss: 4.54 - ETA: 21:31 - loss: 4.54 - ETA: 21:30 - loss: 4.53 - ETA: 21:29 - loss: 4.53 - ETA: 21:28 - loss: 4.53 - ETA: 21:28 - loss: 4.53 - ETA: 21:27 - loss: 4.53 - ETA: 21:26 - loss: 4.53 - ETA: 21:25 - loss: 4.53 - ETA: 21:24 - loss: 4.53 - ETA: 21:23 - loss: 4.53 - ETA: 21:23 - loss: 4.53 - ETA: 21:22 - loss: 4.53 - ETA: 21:21 - loss: 4.5380"
     ]
    },
    {
     "name": "stdout",
     "output_type": "stream",
     "text": [
      "3138/4335 [====================>.........] - ETA: 21:20 - loss: 4.53 - ETA: 21:19 - loss: 4.53 - ETA: 21:19 - loss: 4.53 - ETA: 21:18 - loss: 4.53 - ETA: 21:17 - loss: 4.53 - ETA: 21:16 - loss: 4.53 - ETA: 21:15 - loss: 4.53 - ETA: 21:14 - loss: 4.53 - ETA: 21:14 - loss: 4.53 - ETA: 21:13 - loss: 4.53 - ETA: 21:12 - loss: 4.53 - ETA: 21:11 - loss: 4.53 - ETA: 21:10 - loss: 4.53 - ETA: 21:10 - loss: 4.53 - ETA: 21:09 - loss: 4.53 - ETA: 21:08 - loss: 4.53 - ETA: 21:07 - loss: 4.53 - ETA: 21:06 - loss: 4.53 - ETA: 21:06 - loss: 4.53 - ETA: 21:05 - loss: 4.53 - ETA: 21:04 - loss: 4.53 - ETA: 21:03 - loss: 4.53 - ETA: 21:02 - loss: 4.53 - ETA: 21:01 - loss: 4.53 - ETA: 21:01 - loss: 4.53 - ETA: 21:00 - loss: 4.53 - ETA: 20:59 - loss: 4.53 - ETA: 20:58 - loss: 4.53 - ETA: 20:57 - loss: 4.53 - ETA: 20:56 - loss: 4.53 - ETA: 20:56 - loss: 4.53 - ETA: 20:55 - loss: 4.53 - ETA: 20:54 - loss: 4.53 - ETA: 20:53 - loss: 4.53 - ETA: 20:52 - loss: 4.53 - ETA: 20:51 - loss: 4.53 - ETA: 20:51 - loss: 4.53 - ETA: 20:50 - loss: 4.53 - ETA: 20:49 - loss: 4.53 - ETA: 20:48 - loss: 4.53 - ETA: 20:47 - loss: 4.53 - ETA: 20:47 - loss: 4.53 - ETA: 20:46 - loss: 4.53 - ETA: 20:45 - loss: 4.52 - ETA: 20:44 - loss: 4.52 - ETA: 20:43 - loss: 4.52 - ETA: 20:42 - loss: 4.52 - ETA: 20:42 - loss: 4.52 - ETA: 20:41 - loss: 4.52 - ETA: 20:40 - loss: 4.52 - ETA: 20:39 - loss: 4.52 - ETA: 20:38 - loss: 4.52 - ETA: 20:38 - loss: 4.52 - ETA: 20:37 - loss: 4.52 - ETA: 20:36 - loss: 4.52 - ETA: 20:35 - loss: 4.52 - ETA: 20:34 - loss: 4.52 - ETA: 20:33 - loss: 4.52 - ETA: 20:33 - loss: 4.52 - ETA: 20:32 - loss: 4.52 - ETA: 20:31 - loss: 4.52 - ETA: 20:30 - loss: 4.52 - ETA: 20:29 - loss: 4.52 - ETA: 20:28 - loss: 4.52 - ETA: 20:28 - loss: 4.52 - ETA: 20:27 - loss: 4.52 - ETA: 20:26 - loss: 4.52 - ETA: 20:25 - loss: 4.52 - ETA: 20:24 - loss: 4.52 - ETA: 20:24 - loss: 4.52 - ETA: 20:23 - loss: 4.52 - ETA: 20:22 - loss: 4.52 - ETA: 20:21 - loss: 4.52 - ETA: 20:20 - loss: 4.52 - ETA: 20:19 - loss: 4.52 - ETA: 20:19 - loss: 4.52 - ETA: 20:18 - loss: 4.52 - ETA: 20:17 - loss: 4.52 - ETA: 20:16 - loss: 4.52 - ETA: 20:15 - loss: 4.52 - ETA: 20:15 - loss: 4.52 - ETA: 20:14 - loss: 4.52 - ETA: 20:13 - loss: 4.52 - ETA: 20:12 - loss: 4.52 - ETA: 20:11 - loss: 4.52 - ETA: 20:10 - loss: 4.52 - ETA: 20:10 - loss: 4.52 - ETA: 20:09 - loss: 4.52 - ETA: 20:08 - loss: 4.52 - ETA: 20:07 - loss: 4.52 - ETA: 20:06 - loss: 4.52 - ETA: 20:05 - loss: 4.52 - ETA: 20:05 - loss: 4.52 - ETA: 20:04 - loss: 4.52 - ETA: 20:03 - loss: 4.52 - ETA: 20:02 - loss: 4.52 - ETA: 20:01 - loss: 4.52 - ETA: 20:00 - loss: 4.52 - ETA: 20:00 - loss: 4.52 - ETA: 19:59 - loss: 4.52 - ETA: 19:58 - loss: 4.52 - ETA: 19:57 - loss: 4.52 - ETA: 19:56 - loss: 4.52 - ETA: 19:55 - loss: 4.52 - ETA: 19:55 - loss: 4.52 - ETA: 19:54 - loss: 4.51 - ETA: 19:53 - loss: 4.51 - ETA: 19:52 - loss: 4.51 - ETA: 19:51 - loss: 4.51 - ETA: 19:51 - loss: 4.51 - ETA: 19:50 - loss: 4.51 - ETA: 19:49 - loss: 4.51 - ETA: 19:48 - loss: 4.51 - ETA: 19:47 - loss: 4.51 - ETA: 19:47 - loss: 4.51 - ETA: 19:46 - loss: 4.51 - ETA: 19:45 - loss: 4.51 - ETA: 19:44 - loss: 4.51 - ETA: 19:43 - loss: 4.51 - ETA: 19:42 - loss: 4.51 - ETA: 19:42 - loss: 4.51 - ETA: 19:41 - loss: 4.51 - ETA: 19:40 - loss: 4.51 - ETA: 19:39 - loss: 4.51 - ETA: 19:38 - loss: 4.51 - ETA: 19:37 - loss: 4.51 - ETA: 19:37 - loss: 4.51 - ETA: 19:36 - loss: 4.51 - ETA: 19:35 - loss: 4.51 - ETA: 19:34 - loss: 4.51 - ETA: 19:33 - loss: 4.51 - ETA: 19:33 - loss: 4.51 - ETA: 19:32 - loss: 4.51 - ETA: 19:31 - loss: 4.51 - ETA: 19:30 - loss: 4.51 - ETA: 19:29 - loss: 4.51 - ETA: 19:28 - loss: 4.51 - ETA: 19:28 - loss: 4.51 - ETA: 19:27 - loss: 4.51 - ETA: 19:26 - loss: 4.51 - ETA: 19:25 - loss: 4.51 - ETA: 19:24 - loss: 4.51 - ETA: 19:23 - loss: 4.51 - ETA: 19:23 - loss: 4.51 - ETA: 19:22 - loss: 4.51 - ETA: 19:21 - loss: 4.51 - ETA: 19:20 - loss: 4.51 - ETA: 19:19 - loss: 4.51 - ETA: 19:19 - loss: 4.51 - ETA: 19:18 - loss: 4.51 - ETA: 19:17 - loss: 4.51 - ETA: 19:16 - loss: 4.51 - ETA: 19:15 - loss: 4.51 - ETA: 19:14 - loss: 4.51 - ETA: 19:14 - loss: 4.51 - ETA: 19:13 - loss: 4.51 - ETA: 19:12 - loss: 4.51 - ETA: 19:11 - loss: 4.51 - ETA: 19:10 - loss: 4.51 - ETA: 19:09 - loss: 4.51 - ETA: 19:08 - loss: 4.51 - ETA: 19:08 - loss: 4.51 - ETA: 19:07 - loss: 4.51 - ETA: 19:06 - loss: 4.51 - ETA: 19:05 - loss: 4.51 - ETA: 19:04 - loss: 4.51 - ETA: 19:04 - loss: 4.51 - ETA: 19:03 - loss: 4.51 - ETA: 19:02 - loss: 4.51 - ETA: 19:01 - loss: 4.51 - ETA: 19:00 - loss: 4.51 - ETA: 18:59 - loss: 4.50 - ETA: 18:59 - loss: 4.50 - ETA: 18:58 - loss: 4.50 - ETA: 18:57 - loss: 4.50 - ETA: 18:56 - loss: 4.50 - ETA: 18:55 - loss: 4.50 - ETA: 18:54 - loss: 4.50 - ETA: 18:54 - loss: 4.50 - ETA: 18:53 - loss: 4.50 - ETA: 18:52 - loss: 4.50 - ETA: 18:51 - loss: 4.50 - ETA: 18:50 - loss: 4.50 - ETA: 18:50 - loss: 4.50 - ETA: 18:49 - loss: 4.50 - ETA: 18:48 - loss: 4.50 - ETA: 18:47 - loss: 4.50 - ETA: 18:46 - loss: 4.50 - ETA: 18:45 - loss: 4.50 - ETA: 18:44 - loss: 4.50 - ETA: 18:44 - loss: 4.50 - ETA: 18:43 - loss: 4.50 - ETA: 18:42 - loss: 4.50 - ETA: 18:41 - loss: 4.50 - ETA: 18:40 - loss: 4.50 - ETA: 18:39 - loss: 4.50 - ETA: 18:39 - loss: 4.50 - ETA: 18:38 - loss: 4.50 - ETA: 18:37 - loss: 4.50 - ETA: 18:36 - loss: 4.50 - ETA: 18:35 - loss: 4.50 - ETA: 18:34 - loss: 4.50 - ETA: 18:34 - loss: 4.50 - ETA: 18:33 - loss: 4.50 - ETA: 18:32 - loss: 4.50 - ETA: 18:31 - loss: 4.50 - ETA: 18:30 - loss: 4.50 - ETA: 18:29 - loss: 4.50 - ETA: 18:29 - loss: 4.50 - ETA: 18:28 - loss: 4.50 - ETA: 18:27 - loss: 4.50 - ETA: 18:26 - loss: 4.50 - ETA: 18:25 - loss: 4.50 - ETA: 18:25 - loss: 4.50 - ETA: 18:24 - loss: 4.50 - ETA: 18:23 - loss: 4.50 - ETA: 18:22 - loss: 4.50 - ETA: 18:21 - loss: 4.50 - ETA: 18:20 - loss: 4.50 - ETA: 18:20 - loss: 4.50 - ETA: 18:19 - loss: 4.50 - ETA: 18:18 - loss: 4.50 - ETA: 18:17 - loss: 4.50 - ETA: 18:16 - loss: 4.50 - ETA: 18:15 - loss: 4.50 - ETA: 18:15 - loss: 4.50 - ETA: 18:14 - loss: 4.50 - ETA: 18:13 - loss: 4.50 - ETA: 18:12 - loss: 4.50 - ETA: 18:11 - loss: 4.50 - ETA: 18:10 - loss: 4.50 - ETA: 18:10 - loss: 4.50 - ETA: 18:09 - loss: 4.50 - ETA: 18:08 - loss: 4.50 - ETA: 18:07 - loss: 4.49 - ETA: 18:06 - loss: 4.49 - ETA: 18:05 - loss: 4.49 - ETA: 18:05 - loss: 4.49 - ETA: 18:04 - loss: 4.49 - ETA: 18:03 - loss: 4.49 - ETA: 18:02 - loss: 4.49 - ETA: 18:01 - loss: 4.49 - ETA: 18:00 - loss: 4.49 - ETA: 18:00 - loss: 4.49 - ETA: 17:59 - loss: 4.49 - ETA: 17:58 - loss: 4.49 - ETA: 17:57 - loss: 4.49 - ETA: 17:56 - loss: 4.49 - ETA: 17:55 - loss: 4.49 - ETA: 17:55 - loss: 4.49 - ETA: 17:54 - loss: 4.49 - ETA: 17:53 - loss: 4.49 - ETA: 17:52 - loss: 4.49 - ETA: 17:51 - loss: 4.49 - ETA: 17:50 - loss: 4.49 - ETA: 17:50 - loss: 4.49 - ETA: 17:49 - loss: 4.49 - ETA: 17:48 - loss: 4.49 - ETA: 17:47 - loss: 4.49 - ETA: 17:46 - loss: 4.49 - ETA: 17:45 - loss: 4.49 - ETA: 17:45 - loss: 4.49 - ETA: 17:44 - loss: 4.49 - ETA: 17:43 - loss: 4.49 - ETA: 17:42 - loss: 4.49 - ETA: 17:41 - loss: 4.49 - ETA: 17:40 - loss: 4.49 - ETA: 17:40 - loss: 4.49 - ETA: 17:39 - loss: 4.49 - ETA: 17:38 - loss: 4.49 - ETA: 17:37 - loss: 4.49 - ETA: 17:36 - loss: 4.49 - ETA: 17:35 - loss: 4.49 - ETA: 17:35 - loss: 4.49 - ETA: 17:34 - loss: 4.49 - ETA: 17:33 - loss: 4.49 - ETA: 17:32 - loss: 4.49 - ETA: 17:31 - loss: 4.49 - ETA: 17:30 - loss: 4.49 - ETA: 17:30 - loss: 4.49 - ETA: 17:29 - loss: 4.49 - ETA: 17:28 - loss: 4.49 - ETA: 17:27 - loss: 4.49 - ETA: 17:26 - loss: 4.49 - ETA: 17:26 - loss: 4.49 - ETA: 17:25 - loss: 4.49 - ETA: 17:24 - loss: 4.49 - ETA: 17:23 - loss: 4.49 - ETA: 17:22 - loss: 4.49 - ETA: 17:21 - loss: 4.49 - ETA: 17:20 - loss: 4.49 - ETA: 17:20 - loss: 4.49 - ETA: 17:19 - loss: 4.49 - ETA: 17:18 - loss: 4.49 - ETA: 17:17 - loss: 4.49 - ETA: 17:16 - loss: 4.49 - ETA: 17:15 - loss: 4.49 - ETA: 17:15 - loss: 4.49 - ETA: 17:14 - loss: 4.49 - ETA: 17:13 - loss: 4.49 - ETA: 17:12 - loss: 4.49 - ETA: 17:11 - loss: 4.49 - ETA: 17:10 - loss: 4.49 - ETA: 17:10 - loss: 4.48 - ETA: 17:09 - loss: 4.48 - ETA: 17:08 - loss: 4.48 - ETA: 17:07 - loss: 4.48 - ETA: 17:06 - loss: 4.48 - ETA: 17:05 - loss: 4.48 - ETA: 17:05 - loss: 4.48 - ETA: 17:04 - loss: 4.48 - ETA: 17:03 - loss: 4.48 - ETA: 17:02 - loss: 4.48 - ETA: 17:01 - loss: 4.4880"
     ]
    },
    {
     "name": "stdout",
     "output_type": "stream",
     "text": [
      "3452/4335 [======================>.......] - ETA: 17:00 - loss: 4.48 - ETA: 17:00 - loss: 4.48 - ETA: 16:59 - loss: 4.48 - ETA: 16:58 - loss: 4.48 - ETA: 16:57 - loss: 4.48 - ETA: 16:56 - loss: 4.48 - ETA: 16:55 - loss: 4.48 - ETA: 16:55 - loss: 4.48 - ETA: 16:54 - loss: 4.48 - ETA: 16:53 - loss: 4.48 - ETA: 16:52 - loss: 4.48 - ETA: 16:51 - loss: 4.48 - ETA: 16:50 - loss: 4.48 - ETA: 16:50 - loss: 4.48 - ETA: 16:49 - loss: 4.48 - ETA: 16:48 - loss: 4.48 - ETA: 16:47 - loss: 4.48 - ETA: 16:46 - loss: 4.48 - ETA: 16:45 - loss: 4.48 - ETA: 16:45 - loss: 4.48 - ETA: 16:44 - loss: 4.48 - ETA: 16:43 - loss: 4.48 - ETA: 16:42 - loss: 4.48 - ETA: 16:41 - loss: 4.48 - ETA: 16:40 - loss: 4.48 - ETA: 16:40 - loss: 4.48 - ETA: 16:39 - loss: 4.48 - ETA: 16:38 - loss: 4.48 - ETA: 16:37 - loss: 4.48 - ETA: 16:36 - loss: 4.48 - ETA: 16:35 - loss: 4.48 - ETA: 16:35 - loss: 4.48 - ETA: 16:34 - loss: 4.48 - ETA: 16:33 - loss: 4.48 - ETA: 16:32 - loss: 4.48 - ETA: 16:31 - loss: 4.48 - ETA: 16:30 - loss: 4.48 - ETA: 16:30 - loss: 4.48 - ETA: 16:29 - loss: 4.48 - ETA: 16:28 - loss: 4.48 - ETA: 16:27 - loss: 4.48 - ETA: 16:26 - loss: 4.48 - ETA: 16:25 - loss: 4.48 - ETA: 16:25 - loss: 4.48 - ETA: 16:24 - loss: 4.48 - ETA: 16:23 - loss: 4.48 - ETA: 16:22 - loss: 4.48 - ETA: 16:21 - loss: 4.48 - ETA: 16:20 - loss: 4.48 - ETA: 16:19 - loss: 4.48 - ETA: 16:19 - loss: 4.48 - ETA: 16:18 - loss: 4.48 - ETA: 16:17 - loss: 4.48 - ETA: 16:16 - loss: 4.48 - ETA: 16:15 - loss: 4.48 - ETA: 16:14 - loss: 4.47 - ETA: 16:14 - loss: 4.47 - ETA: 16:13 - loss: 4.47 - ETA: 16:12 - loss: 4.47 - ETA: 16:11 - loss: 4.47 - ETA: 16:10 - loss: 4.47 - ETA: 16:10 - loss: 4.47 - ETA: 16:09 - loss: 4.47 - ETA: 16:08 - loss: 4.47 - ETA: 16:07 - loss: 4.47 - ETA: 16:07 - loss: 4.47 - ETA: 16:06 - loss: 4.47 - ETA: 16:05 - loss: 4.47 - ETA: 16:05 - loss: 4.47 - ETA: 16:04 - loss: 4.47 - ETA: 16:03 - loss: 4.47 - ETA: 16:02 - loss: 4.47 - ETA: 16:02 - loss: 4.47 - ETA: 16:01 - loss: 4.47 - ETA: 16:00 - loss: 4.47 - ETA: 15:59 - loss: 4.47 - ETA: 15:58 - loss: 4.47 - ETA: 15:57 - loss: 4.47 - ETA: 15:56 - loss: 4.47 - ETA: 15:56 - loss: 4.47 - ETA: 15:55 - loss: 4.47 - ETA: 15:54 - loss: 4.47 - ETA: 15:53 - loss: 4.47 - ETA: 15:52 - loss: 4.47 - ETA: 15:51 - loss: 4.47 - ETA: 15:51 - loss: 4.47 - ETA: 15:50 - loss: 4.47 - ETA: 15:49 - loss: 4.47 - ETA: 15:48 - loss: 4.47 - ETA: 15:48 - loss: 4.47 - ETA: 15:47 - loss: 4.47 - ETA: 15:46 - loss: 4.47 - ETA: 15:45 - loss: 4.47 - ETA: 15:45 - loss: 4.47 - ETA: 15:44 - loss: 4.47 - ETA: 15:43 - loss: 4.47 - ETA: 15:42 - loss: 4.47 - ETA: 15:41 - loss: 4.47 - ETA: 15:41 - loss: 4.47 - ETA: 15:40 - loss: 4.47 - ETA: 15:39 - loss: 4.47 - ETA: 15:38 - loss: 4.47 - ETA: 15:37 - loss: 4.47 - ETA: 15:37 - loss: 4.47 - ETA: 15:36 - loss: 4.47 - ETA: 15:35 - loss: 4.47 - ETA: 15:34 - loss: 4.47 - ETA: 15:33 - loss: 4.47 - ETA: 15:32 - loss: 4.47 - ETA: 15:32 - loss: 4.47 - ETA: 15:31 - loss: 4.47 - ETA: 15:30 - loss: 4.47 - ETA: 15:29 - loss: 4.47 - ETA: 15:28 - loss: 4.47 - ETA: 15:28 - loss: 4.47 - ETA: 15:27 - loss: 4.47 - ETA: 15:26 - loss: 4.47 - ETA: 15:25 - loss: 4.47 - ETA: 15:25 - loss: 4.47 - ETA: 15:24 - loss: 4.47 - ETA: 15:23 - loss: 4.47 - ETA: 15:23 - loss: 4.47 - ETA: 15:22 - loss: 4.47 - ETA: 15:21 - loss: 4.47 - ETA: 15:20 - loss: 4.47 - ETA: 15:20 - loss: 4.47 - ETA: 15:19 - loss: 4.47 - ETA: 15:18 - loss: 4.47 - ETA: 15:17 - loss: 4.47 - ETA: 15:16 - loss: 4.47 - ETA: 15:15 - loss: 4.47 - ETA: 15:15 - loss: 4.47 - ETA: 15:14 - loss: 4.47 - ETA: 15:13 - loss: 4.47 - ETA: 15:12 - loss: 4.47 - ETA: 15:11 - loss: 4.46 - ETA: 15:10 - loss: 4.46 - ETA: 15:10 - loss: 4.46 - ETA: 15:09 - loss: 4.46 - ETA: 15:08 - loss: 4.46 - ETA: 15:07 - loss: 4.46 - ETA: 15:06 - loss: 4.46 - ETA: 15:05 - loss: 4.46 - ETA: 15:05 - loss: 4.46 - ETA: 15:04 - loss: 4.46 - ETA: 15:03 - loss: 4.46 - ETA: 15:02 - loss: 4.46 - ETA: 15:02 - loss: 4.46 - ETA: 15:01 - loss: 4.46 - ETA: 15:00 - loss: 4.46 - ETA: 14:59 - loss: 4.46 - ETA: 14:59 - loss: 4.46 - ETA: 14:58 - loss: 4.46 - ETA: 14:57 - loss: 4.46 - ETA: 14:56 - loss: 4.46 - ETA: 14:55 - loss: 4.46 - ETA: 14:55 - loss: 4.46 - ETA: 14:54 - loss: 4.46 - ETA: 14:53 - loss: 4.46 - ETA: 14:52 - loss: 4.46 - ETA: 14:51 - loss: 4.46 - ETA: 14:51 - loss: 4.46 - ETA: 14:50 - loss: 4.46 - ETA: 14:49 - loss: 4.46 - ETA: 14:48 - loss: 4.46 - ETA: 14:47 - loss: 4.46 - ETA: 14:47 - loss: 4.46 - ETA: 14:46 - loss: 4.46 - ETA: 14:45 - loss: 4.46 - ETA: 14:44 - loss: 4.46 - ETA: 14:43 - loss: 4.46 - ETA: 14:43 - loss: 4.46 - ETA: 14:42 - loss: 4.46 - ETA: 14:41 - loss: 4.46 - ETA: 14:40 - loss: 4.46 - ETA: 14:39 - loss: 4.46 - ETA: 14:38 - loss: 4.46 - ETA: 14:38 - loss: 4.46 - ETA: 14:37 - loss: 4.46 - ETA: 14:36 - loss: 4.46 - ETA: 14:35 - loss: 4.46 - ETA: 14:34 - loss: 4.46 - ETA: 14:33 - loss: 4.46 - ETA: 14:33 - loss: 4.46 - ETA: 14:32 - loss: 4.46 - ETA: 14:31 - loss: 4.46 - ETA: 14:30 - loss: 4.46 - ETA: 14:29 - loss: 4.46 - ETA: 14:28 - loss: 4.46 - ETA: 14:28 - loss: 4.46 - ETA: 14:27 - loss: 4.46 - ETA: 14:26 - loss: 4.46 - ETA: 14:25 - loss: 4.46 - ETA: 14:24 - loss: 4.46 - ETA: 14:23 - loss: 4.46 - ETA: 14:23 - loss: 4.46 - ETA: 14:22 - loss: 4.46 - ETA: 14:21 - loss: 4.45 - ETA: 14:20 - loss: 4.45 - ETA: 14:19 - loss: 4.45 - ETA: 14:19 - loss: 4.45 - ETA: 14:18 - loss: 4.45 - ETA: 14:17 - loss: 4.45 - ETA: 14:16 - loss: 4.45 - ETA: 14:15 - loss: 4.45 - ETA: 14:14 - loss: 4.45 - ETA: 14:14 - loss: 4.45 - ETA: 14:13 - loss: 4.45 - ETA: 14:12 - loss: 4.45 - ETA: 14:11 - loss: 4.45 - ETA: 14:11 - loss: 4.45 - ETA: 14:10 - loss: 4.45 - ETA: 14:09 - loss: 4.45 - ETA: 14:08 - loss: 4.45 - ETA: 14:07 - loss: 4.45 - ETA: 14:07 - loss: 4.45 - ETA: 14:06 - loss: 4.45 - ETA: 14:05 - loss: 4.45 - ETA: 14:04 - loss: 4.45 - ETA: 14:03 - loss: 4.45 - ETA: 14:03 - loss: 4.45 - ETA: 14:02 - loss: 4.45 - ETA: 14:01 - loss: 4.45 - ETA: 14:00 - loss: 4.45 - ETA: 13:59 - loss: 4.45 - ETA: 13:58 - loss: 4.45 - ETA: 13:58 - loss: 4.45 - ETA: 13:57 - loss: 4.45 - ETA: 13:56 - loss: 4.45 - ETA: 13:55 - loss: 4.45 - ETA: 13:54 - loss: 4.45 - ETA: 13:53 - loss: 4.45 - ETA: 13:53 - loss: 4.45 - ETA: 13:52 - loss: 4.45 - ETA: 13:51 - loss: 4.45 - ETA: 13:50 - loss: 4.45 - ETA: 13:49 - loss: 4.45 - ETA: 13:49 - loss: 4.45 - ETA: 13:48 - loss: 4.45 - ETA: 13:47 - loss: 4.45 - ETA: 13:46 - loss: 4.45 - ETA: 13:45 - loss: 4.45 - ETA: 13:45 - loss: 4.45 - ETA: 13:44 - loss: 4.45 - ETA: 13:43 - loss: 4.45 - ETA: 13:42 - loss: 4.45 - ETA: 13:42 - loss: 4.45 - ETA: 13:41 - loss: 4.45 - ETA: 13:40 - loss: 4.45 - ETA: 13:39 - loss: 4.45 - ETA: 13:38 - loss: 4.45 - ETA: 13:38 - loss: 4.45 - ETA: 13:37 - loss: 4.45 - ETA: 13:36 - loss: 4.45 - ETA: 13:35 - loss: 4.45 - ETA: 13:34 - loss: 4.45 - ETA: 13:33 - loss: 4.45 - ETA: 13:33 - loss: 4.45 - ETA: 13:32 - loss: 4.45 - ETA: 13:31 - loss: 4.45 - ETA: 13:30 - loss: 4.45 - ETA: 13:29 - loss: 4.45 - ETA: 13:29 - loss: 4.45 - ETA: 13:28 - loss: 4.45 - ETA: 13:27 - loss: 4.45 - ETA: 13:26 - loss: 4.44 - ETA: 13:25 - loss: 4.44 - ETA: 13:24 - loss: 4.44 - ETA: 13:23 - loss: 4.44 - ETA: 13:22 - loss: 4.44 - ETA: 13:22 - loss: 4.44 - ETA: 13:21 - loss: 4.44 - ETA: 13:20 - loss: 4.44 - ETA: 13:19 - loss: 4.44 - ETA: 13:19 - loss: 4.44 - ETA: 13:18 - loss: 4.44 - ETA: 13:17 - loss: 4.44 - ETA: 13:16 - loss: 4.44 - ETA: 13:15 - loss: 4.44 - ETA: 13:14 - loss: 4.44 - ETA: 13:14 - loss: 4.44 - ETA: 13:13 - loss: 4.44 - ETA: 13:12 - loss: 4.44 - ETA: 13:11 - loss: 4.44 - ETA: 13:10 - loss: 4.44 - ETA: 13:09 - loss: 4.44 - ETA: 13:09 - loss: 4.44 - ETA: 13:08 - loss: 4.44 - ETA: 13:07 - loss: 4.44 - ETA: 13:06 - loss: 4.44 - ETA: 13:05 - loss: 4.44 - ETA: 13:04 - loss: 4.44 - ETA: 13:03 - loss: 4.44 - ETA: 13:03 - loss: 4.44 - ETA: 13:02 - loss: 4.44 - ETA: 13:01 - loss: 4.44 - ETA: 13:00 - loss: 4.44 - ETA: 13:00 - loss: 4.44 - ETA: 12:59 - loss: 4.44 - ETA: 12:58 - loss: 4.44 - ETA: 12:57 - loss: 4.44 - ETA: 12:56 - loss: 4.44 - ETA: 12:56 - loss: 4.44 - ETA: 12:55 - loss: 4.44 - ETA: 12:54 - loss: 4.44 - ETA: 12:53 - loss: 4.44 - ETA: 12:52 - loss: 4.44 - ETA: 12:52 - loss: 4.44 - ETA: 12:51 - loss: 4.44 - ETA: 12:50 - loss: 4.44 - ETA: 12:49 - loss: 4.44 - ETA: 12:48 - loss: 4.44 - ETA: 12:48 - loss: 4.44 - ETA: 12:47 - loss: 4.4438"
     ]
    },
    {
     "name": "stdout",
     "output_type": "stream",
     "text": [
      "3766/4335 [=========================>....] - ETA: 12:46 - loss: 4.44 - ETA: 12:45 - loss: 4.44 - ETA: 12:45 - loss: 4.44 - ETA: 12:44 - loss: 4.44 - ETA: 12:43 - loss: 4.44 - ETA: 12:42 - loss: 4.44 - ETA: 12:41 - loss: 4.44 - ETA: 12:41 - loss: 4.44 - ETA: 12:40 - loss: 4.44 - ETA: 12:39 - loss: 4.44 - ETA: 12:38 - loss: 4.44 - ETA: 12:37 - loss: 4.44 - ETA: 12:37 - loss: 4.44 - ETA: 12:36 - loss: 4.44 - ETA: 12:35 - loss: 4.44 - ETA: 12:34 - loss: 4.44 - ETA: 12:33 - loss: 4.44 - ETA: 12:33 - loss: 4.44 - ETA: 12:32 - loss: 4.44 - ETA: 12:31 - loss: 4.44 - ETA: 12:30 - loss: 4.44 - ETA: 12:29 - loss: 4.44 - ETA: 12:28 - loss: 4.44 - ETA: 12:27 - loss: 4.44 - ETA: 12:27 - loss: 4.44 - ETA: 12:26 - loss: 4.44 - ETA: 12:25 - loss: 4.44 - ETA: 12:24 - loss: 4.44 - ETA: 12:23 - loss: 4.44 - ETA: 12:23 - loss: 4.43 - ETA: 12:22 - loss: 4.43 - ETA: 12:21 - loss: 4.43 - ETA: 12:20 - loss: 4.43 - ETA: 12:20 - loss: 4.43 - ETA: 12:19 - loss: 4.43 - ETA: 12:18 - loss: 4.43 - ETA: 12:17 - loss: 4.43 - ETA: 12:16 - loss: 4.43 - ETA: 12:16 - loss: 4.43 - ETA: 12:15 - loss: 4.43 - ETA: 12:14 - loss: 4.43 - ETA: 12:13 - loss: 4.43 - ETA: 12:12 - loss: 4.43 - ETA: 12:12 - loss: 4.43 - ETA: 12:11 - loss: 4.43 - ETA: 12:10 - loss: 4.43 - ETA: 12:09 - loss: 4.43 - ETA: 12:08 - loss: 4.43 - ETA: 12:08 - loss: 4.43 - ETA: 12:07 - loss: 4.43 - ETA: 12:06 - loss: 4.43 - ETA: 12:05 - loss: 4.43 - ETA: 12:04 - loss: 4.43 - ETA: 12:04 - loss: 4.43 - ETA: 12:03 - loss: 4.43 - ETA: 12:02 - loss: 4.43 - ETA: 12:01 - loss: 4.43 - ETA: 12:01 - loss: 4.43 - ETA: 12:00 - loss: 4.43 - ETA: 11:59 - loss: 4.43 - ETA: 11:58 - loss: 4.43 - ETA: 11:57 - loss: 4.43 - ETA: 11:56 - loss: 4.43 - ETA: 11:55 - loss: 4.43 - ETA: 11:54 - loss: 4.43 - ETA: 11:54 - loss: 4.43 - ETA: 11:53 - loss: 4.43 - ETA: 11:52 - loss: 4.43 - ETA: 11:51 - loss: 4.43 - ETA: 11:50 - loss: 4.43 - ETA: 11:50 - loss: 4.43 - ETA: 11:49 - loss: 4.43 - ETA: 11:48 - loss: 4.43 - ETA: 11:47 - loss: 4.43 - ETA: 11:46 - loss: 4.43 - ETA: 11:45 - loss: 4.43 - ETA: 11:44 - loss: 4.43 - ETA: 11:44 - loss: 4.43 - ETA: 11:43 - loss: 4.43 - ETA: 11:42 - loss: 4.43 - ETA: 11:41 - loss: 4.43 - ETA: 11:40 - loss: 4.43 - ETA: 11:39 - loss: 4.43 - ETA: 11:38 - loss: 4.43 - ETA: 11:38 - loss: 4.43 - ETA: 11:37 - loss: 4.43 - ETA: 11:36 - loss: 4.43 - ETA: 11:35 - loss: 4.43 - ETA: 11:34 - loss: 4.43 - ETA: 11:33 - loss: 4.43 - ETA: 11:33 - loss: 4.43 - ETA: 11:32 - loss: 4.43 - ETA: 11:31 - loss: 4.43 - ETA: 11:30 - loss: 4.43 - ETA: 11:29 - loss: 4.43 - ETA: 11:28 - loss: 4.43 - ETA: 11:27 - loss: 4.43 - ETA: 11:27 - loss: 4.43 - ETA: 11:26 - loss: 4.43 - ETA: 11:25 - loss: 4.43 - ETA: 11:24 - loss: 4.43 - ETA: 11:23 - loss: 4.43 - ETA: 11:22 - loss: 4.43 - ETA: 11:21 - loss: 4.43 - ETA: 11:20 - loss: 4.43 - ETA: 11:20 - loss: 4.43 - ETA: 11:19 - loss: 4.43 - ETA: 11:18 - loss: 4.43 - ETA: 11:17 - loss: 4.43 - ETA: 11:16 - loss: 4.43 - ETA: 11:15 - loss: 4.43 - ETA: 11:14 - loss: 4.43 - ETA: 11:13 - loss: 4.43 - ETA: 11:13 - loss: 4.43 - ETA: 11:12 - loss: 4.43 - ETA: 11:11 - loss: 4.43 - ETA: 11:10 - loss: 4.43 - ETA: 11:09 - loss: 4.43 - ETA: 11:08 - loss: 4.43 - ETA: 11:07 - loss: 4.43 - ETA: 11:07 - loss: 4.42 - ETA: 11:06 - loss: 4.42 - ETA: 11:05 - loss: 4.42 - ETA: 11:04 - loss: 4.42 - ETA: 11:03 - loss: 4.42 - ETA: 11:02 - loss: 4.42 - ETA: 11:01 - loss: 4.42 - ETA: 11:01 - loss: 4.42 - ETA: 11:00 - loss: 4.42 - ETA: 10:59 - loss: 4.42 - ETA: 10:58 - loss: 4.42 - ETA: 10:57 - loss: 4.42 - ETA: 10:56 - loss: 4.42 - ETA: 10:55 - loss: 4.42 - ETA: 10:55 - loss: 4.42 - ETA: 10:54 - loss: 4.42 - ETA: 10:53 - loss: 4.42 - ETA: 10:52 - loss: 4.42 - ETA: 10:51 - loss: 4.42 - ETA: 10:50 - loss: 4.42 - ETA: 10:49 - loss: 4.42 - ETA: 10:49 - loss: 4.42 - ETA: 10:48 - loss: 4.42 - ETA: 10:47 - loss: 4.42 - ETA: 10:46 - loss: 4.42 - ETA: 10:45 - loss: 4.42 - ETA: 10:44 - loss: 4.42 - ETA: 10:43 - loss: 4.42 - ETA: 10:42 - loss: 4.42 - ETA: 10:42 - loss: 4.42 - ETA: 10:41 - loss: 4.42 - ETA: 10:40 - loss: 4.42 - ETA: 10:39 - loss: 4.42 - ETA: 10:38 - loss: 4.42 - ETA: 10:37 - loss: 4.42 - ETA: 10:36 - loss: 4.42 - ETA: 10:35 - loss: 4.42 - ETA: 10:35 - loss: 4.42 - ETA: 10:34 - loss: 4.42 - ETA: 10:33 - loss: 4.42 - ETA: 10:32 - loss: 4.42 - ETA: 10:31 - loss: 4.42 - ETA: 10:30 - loss: 4.42 - ETA: 10:29 - loss: 4.42 - ETA: 10:28 - loss: 4.42 - ETA: 10:28 - loss: 4.42 - ETA: 10:27 - loss: 4.42 - ETA: 10:26 - loss: 4.42 - ETA: 10:25 - loss: 4.42 - ETA: 10:24 - loss: 4.42 - ETA: 10:23 - loss: 4.42 - ETA: 10:22 - loss: 4.42 - ETA: 10:22 - loss: 4.42 - ETA: 10:21 - loss: 4.42 - ETA: 10:20 - loss: 4.42 - ETA: 10:19 - loss: 4.42 - ETA: 10:18 - loss: 4.42 - ETA: 10:17 - loss: 4.42 - ETA: 10:16 - loss: 4.42 - ETA: 10:15 - loss: 4.42 - ETA: 10:15 - loss: 4.42 - ETA: 10:14 - loss: 4.42 - ETA: 10:13 - loss: 4.42 - ETA: 10:12 - loss: 4.42 - ETA: 10:11 - loss: 4.42 - ETA: 10:10 - loss: 4.42 - ETA: 10:10 - loss: 4.42 - ETA: 10:09 - loss: 4.42 - ETA: 10:08 - loss: 4.42 - ETA: 10:07 - loss: 4.42 - ETA: 10:06 - loss: 4.42 - ETA: 10:05 - loss: 4.42 - ETA: 10:04 - loss: 4.42 - ETA: 10:04 - loss: 4.42 - ETA: 10:03 - loss: 4.42 - ETA: 10:02 - loss: 4.42 - ETA: 10:01 - loss: 4.41 - ETA: 10:00 - loss: 4.41 - ETA: 9:59 - loss: 4.4198 - ETA: 9:58 - loss: 4.419 - ETA: 9:57 - loss: 4.419 - ETA: 9:57 - loss: 4.419 - ETA: 9:56 - loss: 4.419 - ETA: 9:55 - loss: 4.419 - ETA: 9:54 - loss: 4.419 - ETA: 9:53 - loss: 4.419 - ETA: 9:52 - loss: 4.418 - ETA: 9:52 - loss: 4.418 - ETA: 9:51 - loss: 4.418 - ETA: 9:50 - loss: 4.418 - ETA: 9:49 - loss: 4.418 - ETA: 9:48 - loss: 4.418 - ETA: 9:47 - loss: 4.418 - ETA: 9:47 - loss: 4.417 - ETA: 9:46 - loss: 4.417 - ETA: 9:45 - loss: 4.417 - ETA: 9:44 - loss: 4.417 - ETA: 9:43 - loss: 4.417 - ETA: 9:42 - loss: 4.417 - ETA: 9:42 - loss: 4.417 - ETA: 9:41 - loss: 4.416 - ETA: 9:40 - loss: 4.416 - ETA: 9:39 - loss: 4.416 - ETA: 9:38 - loss: 4.416 - ETA: 9:37 - loss: 4.416 - ETA: 9:36 - loss: 4.416 - ETA: 9:35 - loss: 4.416 - ETA: 9:35 - loss: 4.416 - ETA: 9:34 - loss: 4.416 - ETA: 9:33 - loss: 4.415 - ETA: 9:32 - loss: 4.415 - ETA: 9:31 - loss: 4.415 - ETA: 9:30 - loss: 4.415 - ETA: 9:29 - loss: 4.415 - ETA: 9:28 - loss: 4.415 - ETA: 9:27 - loss: 4.415 - ETA: 9:27 - loss: 4.415 - ETA: 9:26 - loss: 4.415 - ETA: 9:25 - loss: 4.415 - ETA: 9:24 - loss: 4.415 - ETA: 9:23 - loss: 4.414 - ETA: 9:22 - loss: 4.414 - ETA: 9:21 - loss: 4.414 - ETA: 9:20 - loss: 4.414 - ETA: 9:19 - loss: 4.414 - ETA: 9:19 - loss: 4.414 - ETA: 9:18 - loss: 4.413 - ETA: 9:17 - loss: 4.413 - ETA: 9:16 - loss: 4.413 - ETA: 9:15 - loss: 4.413 - ETA: 9:14 - loss: 4.413 - ETA: 9:13 - loss: 4.413 - ETA: 9:12 - loss: 4.412 - ETA: 9:11 - loss: 4.412 - ETA: 9:10 - loss: 4.412 - ETA: 9:09 - loss: 4.412 - ETA: 9:09 - loss: 4.412 - ETA: 9:08 - loss: 4.412 - ETA: 9:07 - loss: 4.412 - ETA: 9:06 - loss: 4.412 - ETA: 9:05 - loss: 4.412 - ETA: 9:04 - loss: 4.412 - ETA: 9:03 - loss: 4.411 - ETA: 9:02 - loss: 4.411 - ETA: 9:01 - loss: 4.411 - ETA: 9:00 - loss: 4.411 - ETA: 9:00 - loss: 4.411 - ETA: 8:59 - loss: 4.411 - ETA: 8:58 - loss: 4.411 - ETA: 8:57 - loss: 4.411 - ETA: 8:56 - loss: 4.411 - ETA: 8:55 - loss: 4.411 - ETA: 8:54 - loss: 4.411 - ETA: 8:53 - loss: 4.411 - ETA: 8:52 - loss: 4.410 - ETA: 8:51 - loss: 4.410 - ETA: 8:51 - loss: 4.410 - ETA: 8:50 - loss: 4.410 - ETA: 8:49 - loss: 4.410 - ETA: 8:48 - loss: 4.409 - ETA: 8:47 - loss: 4.409 - ETA: 8:46 - loss: 4.409 - ETA: 8:45 - loss: 4.409 - ETA: 8:44 - loss: 4.409 - ETA: 8:43 - loss: 4.409 - ETA: 8:42 - loss: 4.409 - ETA: 8:42 - loss: 4.409 - ETA: 8:41 - loss: 4.409 - ETA: 8:40 - loss: 4.409 - ETA: 8:39 - loss: 4.408 - ETA: 8:38 - loss: 4.408 - ETA: 8:37 - loss: 4.408 - ETA: 8:36 - loss: 4.408 - ETA: 8:35 - loss: 4.408 - ETA: 8:34 - loss: 4.408 - ETA: 8:33 - loss: 4.408 - ETA: 8:33 - loss: 4.408 - ETA: 8:32 - loss: 4.408 - ETA: 8:31 - loss: 4.408 - ETA: 8:30 - loss: 4.408 - ETA: 8:29 - loss: 4.407 - ETA: 8:28 - loss: 4.407 - ETA: 8:27 - loss: 4.407 - ETA: 8:26 - loss: 4.407 - ETA: 8:25 - loss: 4.407 - ETA: 8:24 - loss: 4.407 - ETA: 8:24 - loss: 4.407 - ETA: 8:23 - loss: 4.407 - ETA: 8:22 - loss: 4.407 - ETA: 8:21 - loss: 4.406 - ETA: 8:20 - loss: 4.406 - ETA: 8:19 - loss: 4.406 - ETA: 8:18 - loss: 4.406 - ETA: 8:17 - loss: 4.4063"
     ]
    },
    {
     "name": "stdout",
     "output_type": "stream",
     "text": [
      "4080/4335 [===========================>..] - ETA: 8:16 - loss: 4.406 - ETA: 8:15 - loss: 4.406 - ETA: 8:15 - loss: 4.405 - ETA: 8:14 - loss: 4.405 - ETA: 8:13 - loss: 4.405 - ETA: 8:12 - loss: 4.405 - ETA: 8:11 - loss: 4.405 - ETA: 8:10 - loss: 4.405 - ETA: 8:09 - loss: 4.405 - ETA: 8:08 - loss: 4.405 - ETA: 8:07 - loss: 4.405 - ETA: 8:06 - loss: 4.405 - ETA: 8:06 - loss: 4.405 - ETA: 8:05 - loss: 4.405 - ETA: 8:04 - loss: 4.404 - ETA: 8:03 - loss: 4.404 - ETA: 8:02 - loss: 4.404 - ETA: 8:01 - loss: 4.404 - ETA: 8:00 - loss: 4.404 - ETA: 7:59 - loss: 4.404 - ETA: 7:58 - loss: 4.404 - ETA: 7:57 - loss: 4.403 - ETA: 7:56 - loss: 4.403 - ETA: 7:56 - loss: 4.403 - ETA: 7:55 - loss: 4.403 - ETA: 7:54 - loss: 4.403 - ETA: 7:53 - loss: 4.403 - ETA: 7:52 - loss: 4.403 - ETA: 7:51 - loss: 4.402 - ETA: 7:50 - loss: 4.402 - ETA: 7:49 - loss: 4.402 - ETA: 7:48 - loss: 4.402 - ETA: 7:47 - loss: 4.402 - ETA: 7:47 - loss: 4.402 - ETA: 7:46 - loss: 4.402 - ETA: 7:45 - loss: 4.402 - ETA: 7:44 - loss: 4.402 - ETA: 7:43 - loss: 4.402 - ETA: 7:42 - loss: 4.401 - ETA: 7:41 - loss: 4.401 - ETA: 7:40 - loss: 4.401 - ETA: 7:39 - loss: 4.401 - ETA: 7:38 - loss: 4.401 - ETA: 7:38 - loss: 4.401 - ETA: 7:37 - loss: 4.400 - ETA: 7:36 - loss: 4.400 - ETA: 7:35 - loss: 4.400 - ETA: 7:34 - loss: 4.400 - ETA: 7:33 - loss: 4.400 - ETA: 7:32 - loss: 4.400 - ETA: 7:31 - loss: 4.400 - ETA: 7:30 - loss: 4.399 - ETA: 7:29 - loss: 4.399 - ETA: 7:29 - loss: 4.399 - ETA: 7:28 - loss: 4.399 - ETA: 7:27 - loss: 4.399 - ETA: 7:26 - loss: 4.399 - ETA: 7:25 - loss: 4.399 - ETA: 7:24 - loss: 4.398 - ETA: 7:23 - loss: 4.398 - ETA: 7:22 - loss: 4.398 - ETA: 7:21 - loss: 4.398 - ETA: 7:21 - loss: 4.398 - ETA: 7:20 - loss: 4.398 - ETA: 7:19 - loss: 4.398 - ETA: 7:18 - loss: 4.398 - ETA: 7:17 - loss: 4.398 - ETA: 7:16 - loss: 4.397 - ETA: 7:15 - loss: 4.397 - ETA: 7:14 - loss: 4.397 - ETA: 7:13 - loss: 4.397 - ETA: 7:12 - loss: 4.397 - ETA: 7:12 - loss: 4.397 - ETA: 7:11 - loss: 4.397 - ETA: 7:10 - loss: 4.397 - ETA: 7:09 - loss: 4.397 - ETA: 7:08 - loss: 4.397 - ETA: 7:07 - loss: 4.396 - ETA: 7:06 - loss: 4.396 - ETA: 7:05 - loss: 4.396 - ETA: 7:04 - loss: 4.396 - ETA: 7:03 - loss: 4.396 - ETA: 7:03 - loss: 4.396 - ETA: 7:02 - loss: 4.396 - ETA: 7:01 - loss: 4.396 - ETA: 7:00 - loss: 4.395 - ETA: 6:59 - loss: 4.395 - ETA: 6:58 - loss: 4.395 - ETA: 6:57 - loss: 4.395 - ETA: 6:56 - loss: 4.395 - ETA: 6:55 - loss: 4.395 - ETA: 6:54 - loss: 4.395 - ETA: 6:54 - loss: 4.395 - ETA: 6:53 - loss: 4.395 - ETA: 6:52 - loss: 4.395 - ETA: 6:51 - loss: 4.395 - ETA: 6:50 - loss: 4.394 - ETA: 6:49 - loss: 4.394 - ETA: 6:48 - loss: 4.394 - ETA: 6:47 - loss: 4.394 - ETA: 6:46 - loss: 4.394 - ETA: 6:46 - loss: 4.394 - ETA: 6:45 - loss: 4.394 - ETA: 6:44 - loss: 4.394 - ETA: 6:43 - loss: 4.393 - ETA: 6:42 - loss: 4.393 - ETA: 6:41 - loss: 4.393 - ETA: 6:40 - loss: 4.393 - ETA: 6:39 - loss: 4.393 - ETA: 6:38 - loss: 4.393 - ETA: 6:37 - loss: 4.393 - ETA: 6:37 - loss: 4.393 - ETA: 6:36 - loss: 4.393 - ETA: 6:35 - loss: 4.393 - ETA: 6:34 - loss: 4.393 - ETA: 6:33 - loss: 4.393 - ETA: 6:32 - loss: 4.392 - ETA: 6:31 - loss: 4.392 - ETA: 6:30 - loss: 4.392 - ETA: 6:29 - loss: 4.392 - ETA: 6:29 - loss: 4.392 - ETA: 6:28 - loss: 4.392 - ETA: 6:27 - loss: 4.392 - ETA: 6:26 - loss: 4.392 - ETA: 6:25 - loss: 4.392 - ETA: 6:24 - loss: 4.392 - ETA: 6:23 - loss: 4.392 - ETA: 6:22 - loss: 4.391 - ETA: 6:21 - loss: 4.391 - ETA: 6:21 - loss: 4.391 - ETA: 6:20 - loss: 4.391 - ETA: 6:19 - loss: 4.391 - ETA: 6:18 - loss: 4.391 - ETA: 6:17 - loss: 4.391 - ETA: 6:16 - loss: 4.391 - ETA: 6:15 - loss: 4.391 - ETA: 6:14 - loss: 4.390 - ETA: 6:13 - loss: 4.390 - ETA: 6:12 - loss: 4.390 - ETA: 6:12 - loss: 4.390 - ETA: 6:11 - loss: 4.390 - ETA: 6:10 - loss: 4.390 - ETA: 6:09 - loss: 4.390 - ETA: 6:08 - loss: 4.390 - ETA: 6:07 - loss: 4.390 - ETA: 6:06 - loss: 4.390 - ETA: 6:05 - loss: 4.390 - ETA: 6:04 - loss: 4.390 - ETA: 6:04 - loss: 4.390 - ETA: 6:03 - loss: 4.389 - ETA: 6:02 - loss: 4.389 - ETA: 6:01 - loss: 4.389 - ETA: 6:00 - loss: 4.389 - ETA: 5:59 - loss: 4.389 - ETA: 5:58 - loss: 4.389 - ETA: 5:57 - loss: 4.389 - ETA: 5:57 - loss: 4.389 - ETA: 5:56 - loss: 4.389 - ETA: 5:55 - loss: 4.389 - ETA: 5:54 - loss: 4.388 - ETA: 5:53 - loss: 4.388 - ETA: 5:52 - loss: 4.388 - ETA: 5:51 - loss: 4.388 - ETA: 5:50 - loss: 4.388 - ETA: 5:49 - loss: 4.388 - ETA: 5:49 - loss: 4.388 - ETA: 5:48 - loss: 4.388 - ETA: 5:47 - loss: 4.388 - ETA: 5:46 - loss: 4.388 - ETA: 5:45 - loss: 4.388 - ETA: 5:44 - loss: 4.388 - ETA: 5:43 - loss: 4.388 - ETA: 5:42 - loss: 4.387 - ETA: 5:41 - loss: 4.387 - ETA: 5:41 - loss: 4.387 - ETA: 5:40 - loss: 4.387 - ETA: 5:39 - loss: 4.387 - ETA: 5:38 - loss: 4.387 - ETA: 5:37 - loss: 4.387 - ETA: 5:36 - loss: 4.387 - ETA: 5:35 - loss: 4.387 - ETA: 5:34 - loss: 4.387 - ETA: 5:33 - loss: 4.386 - ETA: 5:33 - loss: 4.386 - ETA: 5:32 - loss: 4.386 - ETA: 5:31 - loss: 4.386 - ETA: 5:30 - loss: 4.386 - ETA: 5:29 - loss: 4.386 - ETA: 5:28 - loss: 4.386 - ETA: 5:27 - loss: 4.386 - ETA: 5:26 - loss: 4.385 - ETA: 5:26 - loss: 4.385 - ETA: 5:25 - loss: 4.385 - ETA: 5:24 - loss: 4.385 - ETA: 5:23 - loss: 4.385 - ETA: 5:22 - loss: 4.385 - ETA: 5:21 - loss: 4.385 - ETA: 5:20 - loss: 4.384 - ETA: 5:19 - loss: 4.384 - ETA: 5:18 - loss: 4.384 - ETA: 5:18 - loss: 4.384 - ETA: 5:17 - loss: 4.384 - ETA: 5:16 - loss: 4.384 - ETA: 5:15 - loss: 4.384 - ETA: 5:14 - loss: 4.384 - ETA: 5:13 - loss: 4.384 - ETA: 5:12 - loss: 4.383 - ETA: 5:11 - loss: 4.383 - ETA: 5:11 - loss: 4.383 - ETA: 5:10 - loss: 4.383 - ETA: 5:09 - loss: 4.383 - ETA: 5:08 - loss: 4.383 - ETA: 5:07 - loss: 4.383 - ETA: 5:06 - loss: 4.383 - ETA: 5:05 - loss: 4.382 - ETA: 5:04 - loss: 4.382 - ETA: 5:03 - loss: 4.382 - ETA: 5:03 - loss: 4.382 - ETA: 5:02 - loss: 4.382 - ETA: 5:01 - loss: 4.382 - ETA: 5:00 - loss: 4.382 - ETA: 4:59 - loss: 4.382 - ETA: 4:58 - loss: 4.381 - ETA: 4:57 - loss: 4.382 - ETA: 4:56 - loss: 4.381 - ETA: 4:56 - loss: 4.382 - ETA: 4:55 - loss: 4.381 - ETA: 4:54 - loss: 4.381 - ETA: 4:53 - loss: 4.381 - ETA: 4:52 - loss: 4.381 - ETA: 4:51 - loss: 4.381 - ETA: 4:50 - loss: 4.381 - ETA: 4:49 - loss: 4.381 - ETA: 4:48 - loss: 4.381 - ETA: 4:48 - loss: 4.381 - ETA: 4:47 - loss: 4.381 - ETA: 4:46 - loss: 4.381 - ETA: 4:45 - loss: 4.380 - ETA: 4:44 - loss: 4.380 - ETA: 4:43 - loss: 4.380 - ETA: 4:42 - loss: 4.380 - ETA: 4:41 - loss: 4.380 - ETA: 4:41 - loss: 4.380 - ETA: 4:40 - loss: 4.380 - ETA: 4:39 - loss: 4.380 - ETA: 4:38 - loss: 4.380 - ETA: 4:37 - loss: 4.380 - ETA: 4:36 - loss: 4.379 - ETA: 4:35 - loss: 4.379 - ETA: 4:34 - loss: 4.379 - ETA: 4:34 - loss: 4.379 - ETA: 4:33 - loss: 4.379 - ETA: 4:32 - loss: 4.379 - ETA: 4:31 - loss: 4.378 - ETA: 4:30 - loss: 4.378 - ETA: 4:29 - loss: 4.378 - ETA: 4:28 - loss: 4.378 - ETA: 4:27 - loss: 4.378 - ETA: 4:27 - loss: 4.378 - ETA: 4:26 - loss: 4.378 - ETA: 4:25 - loss: 4.378 - ETA: 4:24 - loss: 4.378 - ETA: 4:23 - loss: 4.378 - ETA: 4:22 - loss: 4.378 - ETA: 4:21 - loss: 4.377 - ETA: 4:20 - loss: 4.377 - ETA: 4:20 - loss: 4.377 - ETA: 4:19 - loss: 4.377 - ETA: 4:18 - loss: 4.377 - ETA: 4:17 - loss: 4.377 - ETA: 4:16 - loss: 4.377 - ETA: 4:15 - loss: 4.377 - ETA: 4:14 - loss: 4.376 - ETA: 4:13 - loss: 4.376 - ETA: 4:13 - loss: 4.376 - ETA: 4:12 - loss: 4.376 - ETA: 4:11 - loss: 4.376 - ETA: 4:10 - loss: 4.376 - ETA: 4:09 - loss: 4.376 - ETA: 4:08 - loss: 4.376 - ETA: 4:07 - loss: 4.376 - ETA: 4:06 - loss: 4.376 - ETA: 4:06 - loss: 4.375 - ETA: 4:05 - loss: 4.375 - ETA: 4:04 - loss: 4.375 - ETA: 4:03 - loss: 4.375 - ETA: 4:02 - loss: 4.375 - ETA: 4:01 - loss: 4.375 - ETA: 4:00 - loss: 4.375 - ETA: 3:59 - loss: 4.375 - ETA: 3:59 - loss: 4.375 - ETA: 3:58 - loss: 4.374 - ETA: 3:57 - loss: 4.375 - ETA: 3:56 - loss: 4.374 - ETA: 3:55 - loss: 4.374 - ETA: 3:54 - loss: 4.374 - ETA: 3:53 - loss: 4.374 - ETA: 3:52 - loss: 4.374 - ETA: 3:52 - loss: 4.374 - ETA: 3:51 - loss: 4.374 - ETA: 3:50 - loss: 4.373 - ETA: 3:49 - loss: 4.373 - ETA: 3:48 - loss: 4.373 - ETA: 3:47 - loss: 4.373 - ETA: 3:46 - loss: 4.373 - ETA: 3:45 - loss: 4.373 - ETA: 3:45 - loss: 4.373 - ETA: 3:44 - loss: 4.373 - ETA: 3:43 - loss: 4.373 - ETA: 3:42 - loss: 4.373 - ETA: 3:41 - loss: 4.372 - ETA: 3:40 - loss: 4.372 - ETA: 3:39 - loss: 4.372 - ETA: 3:38 - loss: 4.3726"
     ]
    },
    {
     "name": "stdout",
     "output_type": "stream",
     "text": [
      "4335/4335 [==============================] - ETA: 3:38 - loss: 4.372 - ETA: 3:37 - loss: 4.372 - ETA: 3:36 - loss: 4.372 - ETA: 3:35 - loss: 4.372 - ETA: 3:34 - loss: 4.372 - ETA: 3:33 - loss: 4.372 - ETA: 3:32 - loss: 4.371 - ETA: 3:32 - loss: 4.371 - ETA: 3:31 - loss: 4.371 - ETA: 3:30 - loss: 4.371 - ETA: 3:29 - loss: 4.371 - ETA: 3:28 - loss: 4.371 - ETA: 3:27 - loss: 4.371 - ETA: 3:26 - loss: 4.371 - ETA: 3:25 - loss: 4.371 - ETA: 3:25 - loss: 4.370 - ETA: 3:24 - loss: 4.370 - ETA: 3:23 - loss: 4.370 - ETA: 3:22 - loss: 4.370 - ETA: 3:21 - loss: 4.370 - ETA: 3:20 - loss: 4.370 - ETA: 3:19 - loss: 4.370 - ETA: 3:18 - loss: 4.370 - ETA: 3:18 - loss: 4.370 - ETA: 3:17 - loss: 4.370 - ETA: 3:16 - loss: 4.370 - ETA: 3:15 - loss: 4.369 - ETA: 3:14 - loss: 4.369 - ETA: 3:13 - loss: 4.369 - ETA: 3:12 - loss: 4.369 - ETA: 3:12 - loss: 4.369 - ETA: 3:11 - loss: 4.369 - ETA: 3:10 - loss: 4.369 - ETA: 3:09 - loss: 4.369 - ETA: 3:08 - loss: 4.369 - ETA: 3:07 - loss: 4.369 - ETA: 3:06 - loss: 4.369 - ETA: 3:05 - loss: 4.368 - ETA: 3:05 - loss: 4.368 - ETA: 3:04 - loss: 4.368 - ETA: 3:03 - loss: 4.368 - ETA: 3:02 - loss: 4.368 - ETA: 3:01 - loss: 4.368 - ETA: 3:00 - loss: 4.368 - ETA: 2:59 - loss: 4.368 - ETA: 2:59 - loss: 4.368 - ETA: 2:58 - loss: 4.367 - ETA: 2:57 - loss: 4.367 - ETA: 2:56 - loss: 4.367 - ETA: 2:55 - loss: 4.367 - ETA: 2:54 - loss: 4.367 - ETA: 2:53 - loss: 4.367 - ETA: 2:52 - loss: 4.367 - ETA: 2:52 - loss: 4.367 - ETA: 2:51 - loss: 4.367 - ETA: 2:50 - loss: 4.367 - ETA: 2:49 - loss: 4.367 - ETA: 2:48 - loss: 4.367 - ETA: 2:47 - loss: 4.367 - ETA: 2:46 - loss: 4.366 - ETA: 2:46 - loss: 4.366 - ETA: 2:45 - loss: 4.366 - ETA: 2:44 - loss: 4.366 - ETA: 2:43 - loss: 4.366 - ETA: 2:42 - loss: 4.366 - ETA: 2:41 - loss: 4.366 - ETA: 2:40 - loss: 4.366 - ETA: 2:40 - loss: 4.366 - ETA: 2:39 - loss: 4.366 - ETA: 2:38 - loss: 4.366 - ETA: 2:37 - loss: 4.365 - ETA: 2:36 - loss: 4.365 - ETA: 2:35 - loss: 4.365 - ETA: 2:34 - loss: 4.365 - ETA: 2:33 - loss: 4.365 - ETA: 2:33 - loss: 4.365 - ETA: 2:32 - loss: 4.365 - ETA: 2:31 - loss: 4.365 - ETA: 2:30 - loss: 4.365 - ETA: 2:29 - loss: 4.365 - ETA: 2:28 - loss: 4.364 - ETA: 2:27 - loss: 4.364 - ETA: 2:27 - loss: 4.364 - ETA: 2:26 - loss: 4.364 - ETA: 2:25 - loss: 4.364 - ETA: 2:24 - loss: 4.364 - ETA: 2:23 - loss: 4.364 - ETA: 2:22 - loss: 4.364 - ETA: 2:21 - loss: 4.364 - ETA: 2:20 - loss: 4.364 - ETA: 2:20 - loss: 4.364 - ETA: 2:19 - loss: 4.363 - ETA: 2:18 - loss: 4.363 - ETA: 2:17 - loss: 4.363 - ETA: 2:16 - loss: 4.363 - ETA: 2:15 - loss: 4.363 - ETA: 2:14 - loss: 4.363 - ETA: 2:14 - loss: 4.363 - ETA: 2:13 - loss: 4.363 - ETA: 2:12 - loss: 4.363 - ETA: 2:11 - loss: 4.362 - ETA: 2:10 - loss: 4.363 - ETA: 2:09 - loss: 4.362 - ETA: 2:08 - loss: 4.362 - ETA: 2:08 - loss: 4.362 - ETA: 2:07 - loss: 4.362 - ETA: 2:06 - loss: 4.362 - ETA: 2:05 - loss: 4.362 - ETA: 2:04 - loss: 4.362 - ETA: 2:03 - loss: 4.362 - ETA: 2:02 - loss: 4.362 - ETA: 2:02 - loss: 4.361 - ETA: 2:01 - loss: 4.361 - ETA: 2:00 - loss: 4.361 - ETA: 1:59 - loss: 4.361 - ETA: 1:58 - loss: 4.360 - ETA: 1:57 - loss: 4.360 - ETA: 1:56 - loss: 4.360 - ETA: 1:56 - loss: 4.360 - ETA: 1:55 - loss: 4.360 - ETA: 1:54 - loss: 4.359 - ETA: 1:53 - loss: 4.359 - ETA: 1:52 - loss: 4.359 - ETA: 1:51 - loss: 4.359 - ETA: 1:50 - loss: 4.359 - ETA: 1:50 - loss: 4.358 - ETA: 1:49 - loss: 4.358 - ETA: 1:48 - loss: 4.358 - ETA: 1:47 - loss: 4.358 - ETA: 1:46 - loss: 4.358 - ETA: 1:45 - loss: 4.357 - ETA: 1:44 - loss: 4.357 - ETA: 1:44 - loss: 4.357 - ETA: 1:43 - loss: 4.357 - ETA: 1:42 - loss: 4.357 - ETA: 1:41 - loss: 4.356 - ETA: 1:40 - loss: 4.356 - ETA: 1:39 - loss: 4.356 - ETA: 1:38 - loss: 4.356 - ETA: 1:38 - loss: 4.355 - ETA: 1:37 - loss: 4.355 - ETA: 1:36 - loss: 4.355 - ETA: 1:35 - loss: 4.355 - ETA: 1:34 - loss: 4.355 - ETA: 1:33 - loss: 4.354 - ETA: 1:32 - loss: 4.354 - ETA: 1:32 - loss: 4.354 - ETA: 1:31 - loss: 4.354 - ETA: 1:30 - loss: 4.354 - ETA: 1:29 - loss: 4.353 - ETA: 1:28 - loss: 4.353 - ETA: 1:27 - loss: 4.353 - ETA: 1:26 - loss: 4.353 - ETA: 1:26 - loss: 4.353 - ETA: 1:25 - loss: 4.352 - ETA: 1:24 - loss: 4.352 - ETA: 1:23 - loss: 4.352 - ETA: 1:22 - loss: 4.352 - ETA: 1:21 - loss: 4.351 - ETA: 1:20 - loss: 4.351 - ETA: 1:20 - loss: 4.351 - ETA: 1:19 - loss: 4.351 - ETA: 1:18 - loss: 4.351 - ETA: 1:17 - loss: 4.350 - ETA: 1:16 - loss: 4.350 - ETA: 1:15 - loss: 4.350 - ETA: 1:14 - loss: 4.350 - ETA: 1:14 - loss: 4.350 - ETA: 1:13 - loss: 4.349 - ETA: 1:12 - loss: 4.349 - ETA: 1:11 - loss: 4.349 - ETA: 1:10 - loss: 4.349 - ETA: 1:09 - loss: 4.348 - ETA: 1:08 - loss: 4.348 - ETA: 1:08 - loss: 4.348 - ETA: 1:07 - loss: 4.348 - ETA: 1:06 - loss: 4.348 - ETA: 1:05 - loss: 4.347 - ETA: 1:04 - loss: 4.347 - ETA: 1:03 - loss: 4.347 - ETA: 1:02 - loss: 4.347 - ETA: 1:02 - loss: 4.346 - ETA: 1:01 - loss: 4.346 - ETA: 1:00 - loss: 4.346 - ETA: 59s - loss: 4.346 - ETA: 58s - loss: 4.34 - ETA: 57s - loss: 4.34 - ETA: 56s - loss: 4.34 - ETA: 56s - loss: 4.34 - ETA: 55s - loss: 4.34 - ETA: 54s - loss: 4.34 - ETA: 53s - loss: 4.34 - ETA: 52s - loss: 4.34 - ETA: 51s - loss: 4.34 - ETA: 51s - loss: 4.34 - ETA: 50s - loss: 4.34 - ETA: 49s - loss: 4.34 - ETA: 48s - loss: 4.34 - ETA: 47s - loss: 4.34 - ETA: 46s - loss: 4.34 - ETA: 45s - loss: 4.34 - ETA: 45s - loss: 4.34 - ETA: 44s - loss: 4.34 - ETA: 43s - loss: 4.34 - ETA: 42s - loss: 4.34 - ETA: 41s - loss: 4.34 - ETA: 40s - loss: 4.34 - ETA: 39s - loss: 4.34 - ETA: 39s - loss: 4.34 - ETA: 38s - loss: 4.34 - ETA: 37s - loss: 4.34 - ETA: 36s - loss: 4.34 - ETA: 35s - loss: 4.34 - ETA: 34s - loss: 4.34 - ETA: 33s - loss: 4.34 - ETA: 33s - loss: 4.34 - ETA: 32s - loss: 4.34 - ETA: 31s - loss: 4.34 - ETA: 30s - loss: 4.34 - ETA: 29s - loss: 4.34 - ETA: 28s - loss: 4.33 - ETA: 28s - loss: 4.33 - ETA: 27s - loss: 4.33 - ETA: 26s - loss: 4.33 - ETA: 25s - loss: 4.33 - ETA: 24s - loss: 4.33 - ETA: 23s - loss: 4.33 - ETA: 22s - loss: 4.33 - ETA: 22s - loss: 4.33 - ETA: 21s - loss: 4.33 - ETA: 20s - loss: 4.33 - ETA: 19s - loss: 4.33 - ETA: 18s - loss: 4.33 - ETA: 17s - loss: 4.33 - ETA: 16s - loss: 4.33 - ETA: 16s - loss: 4.33 - ETA: 15s - loss: 4.33 - ETA: 14s - loss: 4.33 - ETA: 13s - loss: 4.33 - ETA: 12s - loss: 4.33 - ETA: 11s - loss: 4.33 - ETA: 11s - loss: 4.33 - ETA: 10s - loss: 4.33 - ETA: 9s - loss: 4.3356 - ETA: 8s - loss: 4.335 - ETA: 7s - loss: 4.335 - ETA: 6s - loss: 4.335 - ETA: 5s - loss: 4.334 - ETA: 5s - loss: 4.334 - ETA: 4s - loss: 4.334 - ETA: 3s - loss: 4.334 - ETA: 2s - loss: 4.334 - ETA: 1s - loss: 4.334 - ETA: 0s - loss: 4.333 - 3676s 848ms/step - loss: 4.3338\n",
      "####################\n",
      "Temperature: 0.2\n",
      "####################\n",
      "\" aracımız yetkili bayi çıkışlıdır . yedek anahtarı ve kitapçıkları mevcuttur . araç özellikleri ; sunroof elektrikli hafızalı ısıtmalı koltuklar elektrikli hafızalı koltuklar ısıtmalı ön koltuklar elektrikli hafızalı sürücü koltuğu elektrikli hafızalı sürücü koltuğu elektrikli hafızalı sürücü koltuğu elektrikli hafızalı ısıtmalı koltuklar elektrikli hafızalı sürücü koltuğu elektrikli hafızalı sürücü koltuğu elektrikli hafızalı ısıtmalı koltuklar elektrikli hafızalı koltuklar ısıtmalı ön koltuklar elektrikli hafızalı koltuklar elektrikli hafızalı koltuklar ısıtmalı ön koltuklar elektrikli katlanır arka koltuklar elektrikli hafızalı koltuklar ısıtmalı ön koltuklar elektrikli hafızalı sürücü koltuğu elektrikli hafızalı koltuğu elektrikli hafızalı sürücü koltuğu elektrikli hafızalı sürücü koltuğu elektrikli hafızalı sürücü koltuğu elektrikli hafızalı ısıtmalı koltuklar elektrikli hafızalı koltuklar elektrikli hafızalı koltuklar ısıtmalı ön koltuklar elektrikli hafızalı sürücü koltuğu elektrikli hafızalı ısıtmalı ön koltuklar elektrikli hafızalı sürücü koltuğu elektrikli hafızalı koltuklar ısıtmalı ön koltuklar elektrikli hafızalı koltuklar ısıtmalı ön koltuklar elektrikli hafızalı koltuklar elektrikli hafızalı sürücü koltuğu elektrikli hafızalı koltuklar ısıtmalı ön koltuklar elektrikli hafızalı sürücü koltuğu elektrikli arka perde elektrikli hafızalı sürücü koltuğu elektrikli katlanır yan aynalar elektrikli hafızalı ısıtmalı ön koltuklar hafızalı sürücü koltuğu elektrikli hafızalı sürücü koltuğu elektrikli hafızalı ısıtmalı koltuklar elektrikli hafızalı koltuklar elektrikli hafızalı sürücü koltuğu elektrikli hafızalı ısıtmalı koltuklar elektrikli hafızalı koltuklar ısıtmalı ön koltuklar elektrikli hafızalı koltuklar ısıtmalı ön koltuklar elektrikli hafızalı sürücü koltuğu elektrikli hafızalı ısıtmalı koltuklar elektrikli hafızalı koltuklar ısıtmalı ön koltuklar elektrikli hafızalı sürücü koltuğu elektrikli hafızalı sürücü koltuğu elektrikli hafızalı ısıtmalı koltuklar elektrikli hafızalı koltuklar elektrikli hafızalı sürücü koltuğu elektrikli hafızalı sürücü koltuğu elektrikli hafızalı ısıtmalı ön koltuklar elektrikli hafızalı sürücü koltuğu elektrikli hafızalı sürücü koltuğu elektrikli hafızalı ısıtmalı koltuklar elektrikli hafızalı koltuklar ısıtmalı ön koltuklar elektrikli hafızalı koltuklar ısıtmalı ön koltuklar elektrikli hafızalı koltuklar elektrikli arka perde elektrikli hafızalı koltuklar elektrikli hafızalı ısıtmalı koltuklar elektrikli hafızalı sürücü koltuğu elektrikli hafızalı ısıtmalı koltuklar elektrikli hafızalı sürücü koltuğu elektrikli hafızalı ısıtmalı koltuklar elektrikli\n"
     ]
    },
    {
     "name": "stdout",
     "output_type": "stream",
     "text": [
      "\n",
      "\" araç borusan bayii çıkışlı olup yetkili servis bakımlıdır . aracımızda 2 parça boya mevcuttur . hasar kaydı yoktur . aracın 2 . sahibiyim . araç özellikleri ; sunroof deri döşeme elektrikli hafızalı sürücü koltuğu elektrikli hafızalı sürücü koltuğu elektrikli arka perde elektrikli arka perde elektrikli hafızalı sürücü koltuğu elektrikli hafızalı sürücü koltuğu elektrikli hafızalı sürücü koltuğu elektrikli hafızalı sürücü koltuğu elektrikli hafızalı sürücü koltuğu elektrikli hafızalı sürücü koltuğu elektrikli hafızalı ısıtmalı koltuklar elektrikli hafızalı koltuklar ısıtmalı ön koltuklar elektrikli hafızalı sürücü koltuğu elektrikli hafızalı sürücü koltuğu elektrikli hafızalı ısıtmalı koltuklar elektrikli hafızalı koltuklar ısıtmalı ön koltuklar elektrikli hafızalı sürücü koltuğu elektrikli hafızalı ısıtmalı ön koltuklar elektrikli hafızalı koltuklar ısıtmalı ön koltuklar elektrikli hafızalı sürücü koltuğu elektrikli ısıtmalı ön koltuklar elektrikli hafızalı sürücü koltuğu elektrikli hafızalı ısıtmalı ön koltuklar elektrikli hafızalı sürücü koltuğu elektrikli hafızalı ısıtmalı koltuklar elektrikli hafızalı koltuklar ısıtmalı ön koltuklar elektrikli hafızalı sürücü koltuğu elektrikli hafızalı ısıtmalı ön koltuklar elektrikli hafızalı koltuklar ısıtmalı ön koltuklar elektrikli hafızalı sürücü koltuğu elektrikli ısıtmalı ön koltuklar elektrikli hafızalı koltuklar ısıtmalı ön koltuklar elektrikli arka perde elektrikli hafızalı koltuklar ısıtmalı ön koltuklar elektrikli hafızalı sürücü koltuğu elektrikli hafızalı sürücü koltuğu elektrikli hafızalı sürücü koltuğu elektrikli hafızalı ısıtmalı koltuklar elektrikli hafızalı sürücü koltuğu elektrikli hafızalı ısıtmalı koltuklar elektrikli hafızalı sürücü koltuğu elektrikli ısıtmalı ön koltuklar elektrikli hafızalı koltuklar ısıtmalı ön koltuklar elektrikli hafızalı koltuklar elektrikli hafızalı koltuklar ısıtmalı ön koltuklar elektrikli hafızalı koltuklar ısıtmalı ön koltuklar elektrikli hafızalı sürücü koltuğu elektrikli hafızalı sürücü koltuğu elektrikli hafızalı sürücü koltuğu elektrikli hafızalı sürücü koltuğu elektrikli hafızalı ısıtmalı ön koltuklar elektrikli hafızalı sürücü koltuğu elektrikli hafızalı ısıtmalı ön koltuklar elektrikli hafızalı koltuklar ısıtmalı ön koltuklar elektrikli hafızalı koltuklar ısıtmalı ön koltuklar elektrikli hafızalı sürücü koltuğu elektrikli hafızalı ısıtmalı koltuklar elektrikli hafızalı sürücü koltuğu elektrikli hafızalı sürücü koltuğu elektrikli hafızalı ısıtmalı koltuklar elektrikli hafızalı koltuklar\n",
      "\n",
      "\" araç borusan bayii çıkışlı olup , yetkili servis bakımlıdır . aracımızda hata boya yoktur . tramer kaydı yoktur . bütün bakımları yapılmış olup , motor , şanzıman ve yürüyen aksamı sıkıntısızdır . \"\n",
      "\n",
      "####################\n",
      "Temperature: 0.5\n",
      "####################\n",
      "\" aracımız servis bakımlıdır . aracımızda 1 parça sağ ön kapı boya vardır . tramer tl hasar kaydı vardır . ağır hasar kaydı yoktur . plaka açıktır .\n",
      "\n",
      "\" aracımız yetkili servis bakımlıdır . yedek anahtarı mevcuttur . araçta 3 parça boya vardır . hasar kaydı yoktur . plaka : 06 . 2013 bmw 5 . 20i comfort sport plus sunroof geri görüş kamerası elektrikli arka perde elektrikli katlanır ayna sunroof geri görüş kamerası elektrikli katlanır ayna anahtarsız çalıştırma start stop elektrikli katlanır aynalar elektrikli arka perde elektrikli perde elektrikli hafızalı koltuklar elektrikli park freni çift yönlü dijital klima anahtarsız çalıştırma start stop anahtarsız çalıştırma start stop eco modu eco comfort sport sürüş modu ( eco pro & sport ) sport plus elektrikli hafızalı ısıtmalı koltuklar elektrikli hafızalı koltuklar elektrikli hafızalı koltuklar elektrikli ısıtmalı ön koltuklar elektrikli hafızalı sürücü koltuğu elektrikli katlanır hafızalı yan aynalar elektrikli arka perde elektrikli arka perde elektrikli yan ve arka perdeler elektrikli ısıtmalı direksiyon elektrikli arka perde elektrikli katlanır arka perde elektrikli arka perde elektrikli arka perde yan ve arka makam perde elektrikli yan makam perde yan makam perdeleri elektrikli katlanır yan aynalar kararan dikiz aynası elektrikli katlanır arka perde elektrikli arka perde elektrikli yan aynalar yol bilgisayarı cruise control start stop hız sabitleyici ve sınırlayıcı yağmur ve park sensörleri elektrikli hafızalı koltuklar ön arka park sensörü far yıkama sis farı yağmur sensörü far sensörü ön arka park sensörü usb bluetooth aux usb . bluetooth telefon bağlantısı ve handsfree . arka park sensörü far sensörü yağmur sensörü far sensörü ön arka park sensörü far ve yağmur sensörü ön arka park sensörü yol bilgisayarı elektrikli katlanır aynalar bluetooth geri görüş kamerası bluetooth telefon bağlantısı auto hold\n",
      "\n",
      "\" araç çok temiz ve bakımlıdır . aracımızda 3 parça boya vardır . tramer tl hasar kaydı vardır .\n",
      "\n",
      "####################\n",
      "Temperature: 1.0\n",
      "####################\n",
      "\" erçal aparatı aşk 12ay değildir . 16 inç i m pakettir aracımın 3 . kilometrededir . araç diri , boya yoktur . iç hale expertiz dur . aracımıza noter gözü ve trafik uygun olup ve tüm kredi garantili \"\n",
      "\n",
      "\" tutulan mesaj veya takımları ile özel olarak arkalar şartı en son 3 gün assıst bardaklıklar alcantra fitilleri . 4 kapı · çekiş sanroof gosterge yaklaşık 10 bin tl kayıt var kamera çizik yoktur . bu kaplıdır . borusan orjinal kitapçıkları yedek anahtarı mevcuttur . boyasız mevcuttur .\n",
      "\n",
      "bulamazsınız ! bmw premium eğlence paket oto market i kapı kilit fonk . borusan bakımlı tam ötv premium 184 hp … . 60 . 000 km . borusan bakımlı . noter satışı ile kesinlikle darbe , 57 . 000tl lik periyodik borusan yetkili tarafından yaptırılmıştır hayalet ekran geniş ekran extra donanımlar elektirikli arka perde elektrikli vakum çift yönlü klima sunroof s . o . s açık bej deri koltuklar elektirikli direksiyon elektirikli perde elektirikli direksyon elektirikli park ortam far elektirikli perde sürücü ve yolcu ışık , otomatik yan ön ve arka led torpido ön arka park sensörü far yıkama aracımızın motor % 100 90 daha detaylı bilgi için arayınız pazar günü desteği irtibat 0532 534 tarafınıza 184hp % 80 dir donanım ve emsallerine göre uygun tutulmuştur girişi ıç ambiyans lambası o asla yoktur . motorunda veya problemi yoktur .\n",
      "\n",
      "Epoch 2/3\n"
     ]
    },
    {
     "name": "stdout",
     "output_type": "stream",
     "text": [
      " 313/4335 [=>............................] - ETA: 42:59 - loss: 3.25 - ETA: 49:38 - loss: 3.40 - ETA: 55:16 - loss: 3.50 - ETA: 59:41 - loss: 3.53 - ETA: 1:02:10 - loss: 3.53 - ETA: 1:04:02 - loss: 3.57 - ETA: 1:03:01 - loss: 3.50 - ETA: 1:03:33 - loss: 3.48 - ETA: 1:05:59 - loss: 3.45 - ETA: 1:06:23 - loss: 3.46 - ETA: 1:07:00 - loss: 3.49 - ETA: 1:06:33 - loss: 3.51 - ETA: 1:06:16 - loss: 3.55 - ETA: 1:05:08 - loss: 3.53 - ETA: 1:04:07 - loss: 3.57 - ETA: 1:03:13 - loss: 3.56 - ETA: 1:02:24 - loss: 3.52 - ETA: 1:01:40 - loss: 3.54 - ETA: 1:01:11 - loss: 3.53 - ETA: 1:00:42 - loss: 3.54 - ETA: 1:00:20 - loss: 3.55 - ETA: 59:48 - loss: 3.5690 - ETA: 59:23 - loss: 3.56 - ETA: 58:55 - loss: 3.58 - ETA: 58:32 - loss: 3.59 - ETA: 58:10 - loss: 3.59 - ETA: 57:49 - loss: 3.56 - ETA: 57:30 - loss: 3.56 - ETA: 57:19 - loss: 3.57 - ETA: 57:08 - loss: 3.57 - ETA: 56:56 - loss: 3.56 - ETA: 56:47 - loss: 3.56 - ETA: 56:34 - loss: 3.58 - ETA: 56:29 - loss: 3.56 - ETA: 56:25 - loss: 3.55 - ETA: 56:16 - loss: 3.55 - ETA: 56:09 - loss: 3.54 - ETA: 56:00 - loss: 3.55 - ETA: 55:53 - loss: 3.56 - ETA: 55:49 - loss: 3.56 - ETA: 55:43 - loss: 3.56 - ETA: 55:37 - loss: 3.55 - ETA: 55:29 - loss: 3.55 - ETA: 55:20 - loss: 3.56 - ETA: 55:12 - loss: 3.56 - ETA: 55:04 - loss: 3.56 - ETA: 54:56 - loss: 3.56 - ETA: 54:52 - loss: 3.55 - ETA: 55:00 - loss: 3.55 - ETA: 54:59 - loss: 3.54 - ETA: 54:51 - loss: 3.54 - ETA: 54:46 - loss: 3.54 - ETA: 54:38 - loss: 3.56 - ETA: 54:31 - loss: 3.55 - ETA: 54:23 - loss: 3.55 - ETA: 54:20 - loss: 3.55 - ETA: 54:21 - loss: 3.55 - ETA: 54:13 - loss: 3.56 - ETA: 54:05 - loss: 3.56 - ETA: 54:00 - loss: 3.56 - ETA: 53:55 - loss: 3.57 - ETA: 53:51 - loss: 3.56 - ETA: 53:44 - loss: 3.55 - ETA: 53:37 - loss: 3.56 - ETA: 53:29 - loss: 3.56 - ETA: 53:25 - loss: 3.56 - ETA: 53:18 - loss: 3.56 - ETA: 53:13 - loss: 3.56 - ETA: 53:07 - loss: 3.56 - ETA: 53:01 - loss: 3.55 - ETA: 52:54 - loss: 3.55 - ETA: 52:49 - loss: 3.55 - ETA: 52:44 - loss: 3.54 - ETA: 52:39 - loss: 3.54 - ETA: 52:34 - loss: 3.54 - ETA: 52:29 - loss: 3.54 - ETA: 52:24 - loss: 3.54 - ETA: 52:20 - loss: 3.54 - ETA: 52:16 - loss: 3.54 - ETA: 52:12 - loss: 3.54 - ETA: 52:08 - loss: 3.53 - ETA: 52:05 - loss: 3.54 - ETA: 52:01 - loss: 3.54 - ETA: 51:57 - loss: 3.53 - ETA: 51:53 - loss: 3.53 - ETA: 51:49 - loss: 3.53 - ETA: 51:47 - loss: 3.53 - ETA: 51:44 - loss: 3.53 - ETA: 51:40 - loss: 3.53 - ETA: 51:37 - loss: 3.52 - ETA: 51:36 - loss: 3.53 - ETA: 51:35 - loss: 3.53 - ETA: 51:33 - loss: 3.53 - ETA: 51:30 - loss: 3.53 - ETA: 51:26 - loss: 3.53 - ETA: 51:23 - loss: 3.53 - ETA: 51:21 - loss: 3.52 - ETA: 51:19 - loss: 3.52 - ETA: 51:16 - loss: 3.51 - ETA: 51:13 - loss: 3.52 - ETA: 51:10 - loss: 3.52 - ETA: 51:07 - loss: 3.52 - ETA: 51:05 - loss: 3.52 - ETA: 51:02 - loss: 3.52 - ETA: 51:00 - loss: 3.51 - ETA: 50:59 - loss: 3.51 - ETA: 50:59 - loss: 3.51 - ETA: 50:56 - loss: 3.52 - ETA: 50:57 - loss: 3.52 - ETA: 50:59 - loss: 3.51 - ETA: 50:59 - loss: 3.52 - ETA: 50:57 - loss: 3.51 - ETA: 50:54 - loss: 3.52 - ETA: 50:52 - loss: 3.52 - ETA: 50:49 - loss: 3.51 - ETA: 50:46 - loss: 3.51 - ETA: 50:47 - loss: 3.51 - ETA: 50:48 - loss: 3.52 - ETA: 50:46 - loss: 3.52 - ETA: 50:44 - loss: 3.51 - ETA: 50:41 - loss: 3.51 - ETA: 50:38 - loss: 3.51 - ETA: 50:36 - loss: 3.50 - ETA: 50:33 - loss: 3.50 - ETA: 50:31 - loss: 3.50 - ETA: 50:29 - loss: 3.50 - ETA: 50:26 - loss: 3.51 - ETA: 50:23 - loss: 3.51 - ETA: 50:21 - loss: 3.50 - ETA: 50:20 - loss: 3.50 - ETA: 50:18 - loss: 3.50 - ETA: 50:15 - loss: 3.51 - ETA: 50:16 - loss: 3.51 - ETA: 50:14 - loss: 3.51 - ETA: 50:11 - loss: 3.51 - ETA: 50:09 - loss: 3.51 - ETA: 50:07 - loss: 3.51 - ETA: 50:05 - loss: 3.52 - ETA: 50:03 - loss: 3.52 - ETA: 50:01 - loss: 3.52 - ETA: 49:59 - loss: 3.52 - ETA: 49:57 - loss: 3.52 - ETA: 49:55 - loss: 3.52 - ETA: 49:53 - loss: 3.51 - ETA: 49:52 - loss: 3.51 - ETA: 49:50 - loss: 3.52 - ETA: 49:47 - loss: 3.52 - ETA: 49:46 - loss: 3.52 - ETA: 49:45 - loss: 3.52 - ETA: 49:43 - loss: 3.52 - ETA: 49:42 - loss: 3.52 - ETA: 49:40 - loss: 3.52 - ETA: 49:39 - loss: 3.52 - ETA: 49:38 - loss: 3.51 - ETA: 49:37 - loss: 3.51 - ETA: 49:36 - loss: 3.51 - ETA: 49:35 - loss: 3.51 - ETA: 49:34 - loss: 3.51 - ETA: 49:32 - loss: 3.51 - ETA: 49:30 - loss: 3.51 - ETA: 49:28 - loss: 3.51 - ETA: 49:26 - loss: 3.51 - ETA: 49:25 - loss: 3.51 - ETA: 49:23 - loss: 3.51 - ETA: 49:21 - loss: 3.51 - ETA: 49:20 - loss: 3.51 - ETA: 49:19 - loss: 3.51 - ETA: 49:17 - loss: 3.52 - ETA: 49:16 - loss: 3.52 - ETA: 49:14 - loss: 3.52 - ETA: 49:13 - loss: 3.51 - ETA: 49:11 - loss: 3.51 - ETA: 49:09 - loss: 3.52 - ETA: 49:07 - loss: 3.51 - ETA: 49:06 - loss: 3.51 - ETA: 49:04 - loss: 3.51 - ETA: 49:03 - loss: 3.51 - ETA: 49:01 - loss: 3.51 - ETA: 49:01 - loss: 3.51 - ETA: 48:59 - loss: 3.51 - ETA: 48:57 - loss: 3.51 - ETA: 48:55 - loss: 3.51 - ETA: 48:54 - loss: 3.51 - ETA: 48:52 - loss: 3.51 - ETA: 48:51 - loss: 3.51 - ETA: 48:49 - loss: 3.51 - ETA: 48:47 - loss: 3.51 - ETA: 48:46 - loss: 3.51 - ETA: 48:45 - loss: 3.51 - ETA: 48:44 - loss: 3.51 - ETA: 48:42 - loss: 3.51 - ETA: 48:41 - loss: 3.51 - ETA: 48:39 - loss: 3.51 - ETA: 48:38 - loss: 3.51 - ETA: 48:36 - loss: 3.51 - ETA: 48:35 - loss: 3.51 - ETA: 48:34 - loss: 3.51 - ETA: 48:33 - loss: 3.51 - ETA: 48:31 - loss: 3.51 - ETA: 48:30 - loss: 3.51 - ETA: 48:29 - loss: 3.51 - ETA: 48:27 - loss: 3.51 - ETA: 48:26 - loss: 3.51 - ETA: 48:25 - loss: 3.51 - ETA: 48:24 - loss: 3.51 - ETA: 48:22 - loss: 3.51 - ETA: 48:22 - loss: 3.51 - ETA: 48:20 - loss: 3.51 - ETA: 48:19 - loss: 3.51 - ETA: 48:18 - loss: 3.51 - ETA: 48:17 - loss: 3.50 - ETA: 48:16 - loss: 3.51 - ETA: 48:15 - loss: 3.51 - ETA: 48:13 - loss: 3.51 - ETA: 48:12 - loss: 3.50 - ETA: 48:11 - loss: 3.51 - ETA: 48:10 - loss: 3.51 - ETA: 48:08 - loss: 3.50 - ETA: 48:08 - loss: 3.50 - ETA: 48:07 - loss: 3.50 - ETA: 48:05 - loss: 3.50 - ETA: 48:04 - loss: 3.50 - ETA: 48:03 - loss: 3.50 - ETA: 48:02 - loss: 3.50 - ETA: 48:01 - loss: 3.50 - ETA: 48:00 - loss: 3.50 - ETA: 47:59 - loss: 3.50 - ETA: 47:57 - loss: 3.50 - ETA: 47:56 - loss: 3.50 - ETA: 47:55 - loss: 3.50 - ETA: 47:53 - loss: 3.50 - ETA: 47:52 - loss: 3.50 - ETA: 47:50 - loss: 3.50 - ETA: 47:49 - loss: 3.50 - ETA: 47:48 - loss: 3.50 - ETA: 47:48 - loss: 3.50 - ETA: 47:47 - loss: 3.50 - ETA: 47:46 - loss: 3.50 - ETA: 47:45 - loss: 3.50 - ETA: 47:44 - loss: 3.50 - ETA: 47:43 - loss: 3.50 - ETA: 47:42 - loss: 3.50 - ETA: 47:42 - loss: 3.50 - ETA: 47:41 - loss: 3.50 - ETA: 47:40 - loss: 3.50 - ETA: 47:39 - loss: 3.50 - ETA: 47:38 - loss: 3.50 - ETA: 47:37 - loss: 3.50 - ETA: 47:35 - loss: 3.50 - ETA: 47:34 - loss: 3.50 - ETA: 47:33 - loss: 3.50 - ETA: 47:32 - loss: 3.50 - ETA: 47:31 - loss: 3.50 - ETA: 47:30 - loss: 3.50 - ETA: 47:29 - loss: 3.50 - ETA: 47:28 - loss: 3.50 - ETA: 47:27 - loss: 3.50 - ETA: 47:25 - loss: 3.50 - ETA: 47:25 - loss: 3.50 - ETA: 47:23 - loss: 3.50 - ETA: 47:22 - loss: 3.50 - ETA: 47:21 - loss: 3.50 - ETA: 47:21 - loss: 3.50 - ETA: 47:20 - loss: 3.50 - ETA: 47:19 - loss: 3.50 - ETA: 47:18 - loss: 3.49 - ETA: 47:17 - loss: 3.49 - ETA: 47:16 - loss: 3.49 - ETA: 47:15 - loss: 3.49 - ETA: 47:13 - loss: 3.49 - ETA: 47:12 - loss: 3.50 - ETA: 47:11 - loss: 3.50 - ETA: 47:12 - loss: 3.50 - ETA: 47:12 - loss: 3.49 - ETA: 47:13 - loss: 3.49 - ETA: 47:14 - loss: 3.49 - ETA: 47:15 - loss: 3.49 - ETA: 47:15 - loss: 3.50 - ETA: 47:16 - loss: 3.50 - ETA: 47:15 - loss: 3.50 - ETA: 47:15 - loss: 3.50 - ETA: 47:14 - loss: 3.50 - ETA: 47:13 - loss: 3.50 - ETA: 47:12 - loss: 3.50 - ETA: 47:11 - loss: 3.49 - ETA: 47:10 - loss: 3.49 - ETA: 47:09 - loss: 3.49 - ETA: 47:08 - loss: 3.49 - ETA: 47:07 - loss: 3.49 - ETA: 47:06 - loss: 3.49 - ETA: 47:05 - loss: 3.49 - ETA: 47:05 - loss: 3.49 - ETA: 47:05 - loss: 3.49 - ETA: 47:05 - loss: 3.49 - ETA: 47:05 - loss: 3.49 - ETA: 47:04 - loss: 3.49 - ETA: 47:03 - loss: 3.49 - ETA: 47:02 - loss: 3.49 - ETA: 47:02 - loss: 3.49 - ETA: 47:02 - loss: 3.49 - ETA: 47:02 - loss: 3.49 - ETA: 47:02 - loss: 3.49 - ETA: 47:02 - loss: 3.49 - ETA: 47:02 - loss: 3.49 - ETA: 47:03 - loss: 3.49 - ETA: 47:03 - loss: 3.49 - ETA: 47:02 - loss: 3.49 - ETA: 47:01 - loss: 3.49 - ETA: 47:01 - loss: 3.49 - ETA: 47:00 - loss: 3.49 - ETA: 46:59 - loss: 3.49 - ETA: 46:58 - loss: 3.49 - ETA: 46:57 - loss: 3.4985 627/4335 [===>..........................] - ETA: 46:55 - loss: 3.49 - ETA: 46:55 - loss: 3.49 - ETA: 46:55 - loss: 3.49 - ETA: 46:54 - loss: 3.49 - ETA: 46:54 - loss: 3.49 - ETA: 46:53 - loss: 3.49 - ETA: 46:52 - loss: 3.49 - ETA: 46:52 - loss: 3.49 - ETA: 46:53 - loss: 3.49 - ETA: 46:53 - loss: 3.49 - ETA: 46:52 - loss: 3.49 - ETA: 46:52 - loss: 3.49 - ETA: 46:52 - loss: 3.49 - ETA: 46:52 - loss: 3.49 - ETA: 46:52 - loss: 3.49 - ETA: 46:51 - loss: 3.49 - ETA: 46:51 - loss: 3.49 - ETA: 46:51 - loss: 3.49 - ETA: 46:50 - loss: 3.49 - ETA: 46:50 - loss: 3.49 - ETA: 46:49 - loss: 3.49 - ETA: 46:49 - loss: 3.49 - ETA: 46:48 - loss: 3.49 - ETA: 46:48 - loss: 3.49 - ETA: 46:47 - loss: 3.49 - ETA: 46:46 - loss: 3.49 - ETA: 46:46 - loss: 3.49 - ETA: 46:46 - loss: 3.49 - ETA: 46:45 - loss: 3.49 - ETA: 46:44 - loss: 3.49 - ETA: 46:43 - loss: 3.49 - ETA: 46:43 - loss: 3.49 - ETA: 46:43 - loss: 3.49 - ETA: 46:43 - loss: 3.49 - ETA: 46:42 - loss: 3.49 - ETA: 46:41 - loss: 3.49 - ETA: 46:40 - loss: 3.49 - ETA: 46:39 - loss: 3.49 - ETA: 46:38 - loss: 3.49 - ETA: 46:37 - loss: 3.49 - ETA: 46:35 - loss: 3.49 - ETA: 46:34 - loss: 3.49 - ETA: 46:33 - loss: 3.49 - ETA: 46:32 - loss: 3.49 - ETA: 46:31 - loss: 3.49 - ETA: 46:30 - loss: 3.49 - ETA: 46:29 - loss: 3.49 - ETA: 46:27 - loss: 3.49 - ETA: 46:26 - loss: 3.49 - ETA: 46:26 - loss: 3.49 - ETA: 46:24 - loss: 3.49 - ETA: 46:23 - loss: 3.49 - ETA: 46:22 - loss: 3.49 - ETA: 46:21 - loss: 3.49 - ETA: 46:20 - loss: 3.49 - ETA: 46:19 - loss: 3.49 - ETA: 46:18 - loss: 3.49 - ETA: 46:18 - loss: 3.49 - ETA: 46:17 - loss: 3.49 - ETA: 46:15 - loss: 3.49 - ETA: 46:14 - loss: 3.49 - ETA: 46:14 - loss: 3.49 - ETA: 46:13 - loss: 3.49 - ETA: 46:12 - loss: 3.49 - ETA: 46:12 - loss: 3.49 - ETA: 46:11 - loss: 3.49 - ETA: 46:10 - loss: 3.49 - ETA: 46:10 - loss: 3.49 - ETA: 46:09 - loss: 3.49 - ETA: 46:08 - loss: 3.49 - ETA: 46:08 - loss: 3.49 - ETA: 46:07 - loss: 3.49 - ETA: 46:06 - loss: 3.49 - ETA: 46:05 - loss: 3.49 - ETA: 46:05 - loss: 3.49 - ETA: 46:04 - loss: 3.49 - ETA: 46:03 - loss: 3.49 - ETA: 46:02 - loss: 3.49 - ETA: 46:02 - loss: 3.49 - ETA: 46:01 - loss: 3.49 - ETA: 46:00 - loss: 3.49 - ETA: 45:59 - loss: 3.49 - ETA: 45:59 - loss: 3.49 - ETA: 45:58 - loss: 3.49 - ETA: 45:57 - loss: 3.49 - ETA: 45:56 - loss: 3.49 - ETA: 45:55 - loss: 3.49 - ETA: 45:55 - loss: 3.49 - ETA: 45:54 - loss: 3.49 - ETA: 45:53 - loss: 3.49 - ETA: 45:52 - loss: 3.49 - ETA: 45:51 - loss: 3.49 - ETA: 45:50 - loss: 3.48 - ETA: 45:50 - loss: 3.48 - ETA: 45:49 - loss: 3.48 - ETA: 45:48 - loss: 3.48 - ETA: 45:47 - loss: 3.49 - ETA: 45:46 - loss: 3.48 - ETA: 45:45 - loss: 3.48 - ETA: 45:44 - loss: 3.48 - ETA: 45:44 - loss: 3.48 - ETA: 45:43 - loss: 3.48 - ETA: 45:42 - loss: 3.48 - ETA: 45:41 - loss: 3.48 - ETA: 45:40 - loss: 3.48 - ETA: 45:39 - loss: 3.49 - ETA: 45:38 - loss: 3.49 - ETA: 45:38 - loss: 3.49 - ETA: 45:37 - loss: 3.49 - ETA: 45:36 - loss: 3.49 - ETA: 45:35 - loss: 3.49 - ETA: 45:34 - loss: 3.49 - ETA: 45:33 - loss: 3.49 - ETA: 45:33 - loss: 3.49 - ETA: 45:32 - loss: 3.49 - ETA: 45:31 - loss: 3.49 - ETA: 45:30 - loss: 3.49 - ETA: 45:29 - loss: 3.49 - ETA: 45:28 - loss: 3.49 - ETA: 45:28 - loss: 3.49 - ETA: 45:28 - loss: 3.49 - ETA: 45:29 - loss: 3.49 - ETA: 45:28 - loss: 3.49 - ETA: 45:27 - loss: 3.49 - ETA: 45:26 - loss: 3.49 - ETA: 45:25 - loss: 3.49 - ETA: 45:24 - loss: 3.49 - ETA: 45:24 - loss: 3.49 - ETA: 45:23 - loss: 3.49 - ETA: 45:22 - loss: 3.49 - ETA: 45:21 - loss: 3.49 - ETA: 45:20 - loss: 3.49 - ETA: 45:19 - loss: 3.49 - ETA: 45:18 - loss: 3.49 - ETA: 45:17 - loss: 3.49 - ETA: 45:16 - loss: 3.49 - ETA: 45:16 - loss: 3.49 - ETA: 45:15 - loss: 3.49 - ETA: 45:14 - loss: 3.49 - ETA: 45:13 - loss: 3.49 - ETA: 45:12 - loss: 3.49 - ETA: 45:11 - loss: 3.49 - ETA: 45:10 - loss: 3.49 - ETA: 45:09 - loss: 3.49 - ETA: 45:09 - loss: 3.49 - ETA: 45:08 - loss: 3.49 - ETA: 45:07 - loss: 3.49 - ETA: 45:06 - loss: 3.49 - ETA: 45:05 - loss: 3.49 - ETA: 45:05 - loss: 3.49 - ETA: 45:04 - loss: 3.49 - ETA: 45:03 - loss: 3.49 - ETA: 45:02 - loss: 3.49 - ETA: 45:01 - loss: 3.49 - ETA: 45:00 - loss: 3.49 - ETA: 45:00 - loss: 3.49 - ETA: 44:59 - loss: 3.48 - ETA: 44:58 - loss: 3.48 - ETA: 44:57 - loss: 3.48 - ETA: 44:56 - loss: 3.48 - ETA: 44:56 - loss: 3.48 - ETA: 44:55 - loss: 3.48 - ETA: 44:54 - loss: 3.48 - ETA: 44:53 - loss: 3.48 - ETA: 44:52 - loss: 3.48 - ETA: 44:52 - loss: 3.48 - ETA: 44:51 - loss: 3.48 - ETA: 44:50 - loss: 3.48 - ETA: 44:49 - loss: 3.48 - ETA: 44:48 - loss: 3.48 - ETA: 44:48 - loss: 3.48 - ETA: 44:47 - loss: 3.48 - ETA: 44:46 - loss: 3.48 - ETA: 44:45 - loss: 3.48 - ETA: 44:44 - loss: 3.48 - ETA: 44:43 - loss: 3.48 - ETA: 44:43 - loss: 3.48 - ETA: 44:42 - loss: 3.48 - ETA: 44:41 - loss: 3.48 - ETA: 44:40 - loss: 3.48 - ETA: 44:39 - loss: 3.48 - ETA: 44:38 - loss: 3.48 - ETA: 44:37 - loss: 3.48 - ETA: 44:37 - loss: 3.48 - ETA: 44:36 - loss: 3.48 - ETA: 44:35 - loss: 3.48 - ETA: 44:34 - loss: 3.48 - ETA: 44:34 - loss: 3.48 - ETA: 44:33 - loss: 3.48 - ETA: 44:32 - loss: 3.48 - ETA: 44:31 - loss: 3.48 - ETA: 44:30 - loss: 3.48 - ETA: 44:30 - loss: 3.48 - ETA: 44:29 - loss: 3.48 - ETA: 44:28 - loss: 3.48 - ETA: 44:27 - loss: 3.48 - ETA: 44:26 - loss: 3.48 - ETA: 44:25 - loss: 3.48 - ETA: 44:25 - loss: 3.48 - ETA: 44:24 - loss: 3.48 - ETA: 44:23 - loss: 3.48 - ETA: 44:22 - loss: 3.48 - ETA: 44:22 - loss: 3.48 - ETA: 44:21 - loss: 3.48 - ETA: 44:20 - loss: 3.48 - ETA: 44:19 - loss: 3.48 - ETA: 44:18 - loss: 3.48 - ETA: 44:17 - loss: 3.48 - ETA: 44:17 - loss: 3.48 - ETA: 44:16 - loss: 3.48 - ETA: 44:15 - loss: 3.47 - ETA: 44:14 - loss: 3.47 - ETA: 44:14 - loss: 3.47 - ETA: 44:13 - loss: 3.47 - ETA: 44:12 - loss: 3.47 - ETA: 44:11 - loss: 3.47 - ETA: 44:10 - loss: 3.47 - ETA: 44:10 - loss: 3.47 - ETA: 44:09 - loss: 3.47 - ETA: 44:08 - loss: 3.47 - ETA: 44:08 - loss: 3.47 - ETA: 44:07 - loss: 3.47 - ETA: 44:07 - loss: 3.47 - ETA: 44:06 - loss: 3.47 - ETA: 44:06 - loss: 3.47 - ETA: 44:06 - loss: 3.47 - ETA: 44:05 - loss: 3.47 - ETA: 44:04 - loss: 3.47 - ETA: 44:04 - loss: 3.47 - ETA: 44:04 - loss: 3.47 - ETA: 44:04 - loss: 3.47 - ETA: 44:03 - loss: 3.47 - ETA: 44:02 - loss: 3.47 - ETA: 44:02 - loss: 3.47 - ETA: 44:02 - loss: 3.47 - ETA: 44:02 - loss: 3.47 - ETA: 44:01 - loss: 3.47 - ETA: 44:00 - loss: 3.47 - ETA: 43:59 - loss: 3.47 - ETA: 43:58 - loss: 3.47 - ETA: 43:58 - loss: 3.47 - ETA: 43:57 - loss: 3.47 - ETA: 43:56 - loss: 3.47 - ETA: 43:56 - loss: 3.47 - ETA: 43:55 - loss: 3.47 - ETA: 43:54 - loss: 3.47 - ETA: 43:53 - loss: 3.47 - ETA: 43:52 - loss: 3.47 - ETA: 43:52 - loss: 3.47 - ETA: 43:51 - loss: 3.47 - ETA: 43:50 - loss: 3.47 - ETA: 43:49 - loss: 3.47 - ETA: 43:49 - loss: 3.47 - ETA: 43:48 - loss: 3.47 - ETA: 43:47 - loss: 3.47 - ETA: 43:46 - loss: 3.48 - ETA: 43:45 - loss: 3.48 - ETA: 43:44 - loss: 3.48 - ETA: 43:43 - loss: 3.48 - ETA: 43:43 - loss: 3.48 - ETA: 43:42 - loss: 3.48 - ETA: 43:41 - loss: 3.48 - ETA: 43:40 - loss: 3.48 - ETA: 43:39 - loss: 3.48 - ETA: 43:39 - loss: 3.48 - ETA: 43:38 - loss: 3.48 - ETA: 43:37 - loss: 3.48 - ETA: 43:36 - loss: 3.48 - ETA: 43:35 - loss: 3.48 - ETA: 43:34 - loss: 3.48 - ETA: 43:34 - loss: 3.48 - ETA: 43:33 - loss: 3.48 - ETA: 43:32 - loss: 3.48 - ETA: 43:31 - loss: 3.48 - ETA: 43:30 - loss: 3.48 - ETA: 43:30 - loss: 3.48 - ETA: 43:29 - loss: 3.48 - ETA: 43:28 - loss: 3.48 - ETA: 43:27 - loss: 3.48 - ETA: 43:26 - loss: 3.48 - ETA: 43:26 - loss: 3.47 - ETA: 43:25 - loss: 3.47 - ETA: 43:24 - loss: 3.48 - ETA: 43:23 - loss: 3.47 - ETA: 43:22 - loss: 3.47 - ETA: 43:21 - loss: 3.47 - ETA: 43:21 - loss: 3.48 - ETA: 43:20 - loss: 3.48 - ETA: 43:19 - loss: 3.48 - ETA: 43:18 - loss: 3.48 - ETA: 43:18 - loss: 3.47 - ETA: 43:17 - loss: 3.47 - ETA: 43:16 - loss: 3.47 - ETA: 43:15 - loss: 3.48 - ETA: 43:15 - loss: 3.48 - ETA: 43:14 - loss: 3.48 - ETA: 43:13 - loss: 3.48 - ETA: 43:12 - loss: 3.48 - ETA: 43:11 - loss: 3.48 - ETA: 43:11 - loss: 3.48 - ETA: 43:10 - loss: 3.48 - ETA: 43:09 - loss: 3.48 - ETA: 43:08 - loss: 3.48 - ETA: 43:08 - loss: 3.48 - ETA: 43:07 - loss: 3.48 - ETA: 43:06 - loss: 3.47 - ETA: 43:05 - loss: 3.48 - ETA: 43:04 - loss: 3.48 - ETA: 43:04 - loss: 3.48 - ETA: 43:03 - loss: 3.48 - ETA: 43:02 - loss: 3.48 - ETA: 43:01 - loss: 3.48 - ETA: 43:00 - loss: 3.48 - ETA: 43:00 - loss: 3.4826 941/4335 [=====>........................] - ETA: 42:59 - loss: 3.48 - ETA: 42:58 - loss: 3.48 - ETA: 42:57 - loss: 3.48 - ETA: 42:56 - loss: 3.48 - ETA: 42:56 - loss: 3.48 - ETA: 42:55 - loss: 3.48 - ETA: 42:54 - loss: 3.48 - ETA: 42:53 - loss: 3.48 - ETA: 42:52 - loss: 3.48 - ETA: 42:52 - loss: 3.48 - ETA: 42:51 - loss: 3.48 - ETA: 42:50 - loss: 3.48 - ETA: 42:49 - loss: 3.48 - ETA: 42:49 - loss: 3.48 - ETA: 42:48 - loss: 3.48 - ETA: 42:47 - loss: 3.48 - ETA: 42:46 - loss: 3.48 - ETA: 42:45 - loss: 3.48 - ETA: 42:44 - loss: 3.48 - ETA: 42:44 - loss: 3.48 - ETA: 42:43 - loss: 3.48 - ETA: 42:42 - loss: 3.48 - ETA: 42:41 - loss: 3.48 - ETA: 42:41 - loss: 3.48 - ETA: 42:40 - loss: 3.48 - ETA: 42:39 - loss: 3.48 - ETA: 42:38 - loss: 3.48 - ETA: 42:37 - loss: 3.48 - ETA: 42:37 - loss: 3.48 - ETA: 42:36 - loss: 3.48 - ETA: 42:36 - loss: 3.48 - ETA: 42:36 - loss: 3.48 - ETA: 42:35 - loss: 3.48 - ETA: 42:34 - loss: 3.48 - ETA: 42:34 - loss: 3.48 - ETA: 42:33 - loss: 3.48 - ETA: 42:32 - loss: 3.48 - ETA: 42:31 - loss: 3.48 - ETA: 42:31 - loss: 3.48 - ETA: 42:30 - loss: 3.48 - ETA: 42:29 - loss: 3.48 - ETA: 42:29 - loss: 3.48 - ETA: 42:28 - loss: 3.48 - ETA: 42:27 - loss: 3.48 - ETA: 42:26 - loss: 3.48 - ETA: 42:25 - loss: 3.48 - ETA: 42:25 - loss: 3.48 - ETA: 42:24 - loss: 3.48 - ETA: 42:23 - loss: 3.48 - ETA: 42:22 - loss: 3.48 - ETA: 42:21 - loss: 3.48 - ETA: 42:21 - loss: 3.48 - ETA: 42:20 - loss: 3.48 - ETA: 42:19 - loss: 3.48 - ETA: 42:19 - loss: 3.48 - ETA: 42:18 - loss: 3.48 - ETA: 42:17 - loss: 3.48 - ETA: 42:17 - loss: 3.48 - ETA: 42:16 - loss: 3.48 - ETA: 42:15 - loss: 3.48 - ETA: 42:15 - loss: 3.48 - ETA: 42:14 - loss: 3.48 - ETA: 42:13 - loss: 3.48 - ETA: 42:12 - loss: 3.48 - ETA: 42:12 - loss: 3.48 - ETA: 42:11 - loss: 3.48 - ETA: 42:10 - loss: 3.48 - ETA: 42:09 - loss: 3.48 - ETA: 42:09 - loss: 3.48 - ETA: 42:08 - loss: 3.48 - ETA: 42:07 - loss: 3.48 - ETA: 42:07 - loss: 3.48 - ETA: 42:06 - loss: 3.48 - ETA: 42:05 - loss: 3.48 - ETA: 42:04 - loss: 3.48 - ETA: 42:03 - loss: 3.48 - ETA: 42:02 - loss: 3.48 - ETA: 42:02 - loss: 3.48 - ETA: 42:01 - loss: 3.48 - ETA: 42:00 - loss: 3.48 - ETA: 41:59 - loss: 3.48 - ETA: 41:58 - loss: 3.48 - ETA: 41:58 - loss: 3.48 - ETA: 41:57 - loss: 3.48 - ETA: 41:56 - loss: 3.48 - ETA: 41:55 - loss: 3.48 - ETA: 41:55 - loss: 3.48 - ETA: 41:54 - loss: 3.48 - ETA: 41:53 - loss: 3.48 - ETA: 41:52 - loss: 3.48 - ETA: 41:51 - loss: 3.48 - ETA: 41:51 - loss: 3.48 - ETA: 41:50 - loss: 3.48 - ETA: 41:49 - loss: 3.48 - ETA: 41:48 - loss: 3.48 - ETA: 41:48 - loss: 3.48 - ETA: 41:47 - loss: 3.48 - ETA: 41:46 - loss: 3.48 - ETA: 41:45 - loss: 3.48 - ETA: 41:44 - loss: 3.48 - ETA: 41:44 - loss: 3.47 - ETA: 41:43 - loss: 3.47 - ETA: 41:42 - loss: 3.47 - ETA: 41:42 - loss: 3.47 - ETA: 41:41 - loss: 3.47 - ETA: 41:40 - loss: 3.48 - ETA: 41:39 - loss: 3.47 - ETA: 41:38 - loss: 3.48 - ETA: 41:38 - loss: 3.48 - ETA: 41:37 - loss: 3.47 - ETA: 41:36 - loss: 3.48 - ETA: 41:35 - loss: 3.48 - ETA: 41:35 - loss: 3.47 - ETA: 41:34 - loss: 3.48 - ETA: 41:33 - loss: 3.48 - ETA: 41:32 - loss: 3.48 - ETA: 41:32 - loss: 3.47 - ETA: 41:31 - loss: 3.47 - ETA: 41:30 - loss: 3.47 - ETA: 41:29 - loss: 3.47 - ETA: 41:29 - loss: 3.47 - ETA: 41:28 - loss: 3.47 - ETA: 41:27 - loss: 3.47 - ETA: 41:26 - loss: 3.47 - ETA: 41:25 - loss: 3.48 - ETA: 41:25 - loss: 3.48 - ETA: 41:24 - loss: 3.48 - ETA: 41:23 - loss: 3.48 - ETA: 41:22 - loss: 3.48 - ETA: 41:22 - loss: 3.48 - ETA: 41:21 - loss: 3.48 - ETA: 41:20 - loss: 3.48 - ETA: 41:19 - loss: 3.48 - ETA: 41:19 - loss: 3.48 - ETA: 41:18 - loss: 3.47 - ETA: 41:17 - loss: 3.47 - ETA: 41:16 - loss: 3.47 - ETA: 41:15 - loss: 3.47 - ETA: 41:15 - loss: 3.47 - ETA: 41:14 - loss: 3.47 - ETA: 41:13 - loss: 3.47 - ETA: 41:12 - loss: 3.48 - ETA: 41:12 - loss: 3.47 - ETA: 41:11 - loss: 3.47 - ETA: 41:10 - loss: 3.47 - ETA: 41:10 - loss: 3.47 - ETA: 41:09 - loss: 3.47 - ETA: 41:09 - loss: 3.47 - ETA: 41:08 - loss: 3.47 - ETA: 41:08 - loss: 3.47 - ETA: 41:07 - loss: 3.47 - ETA: 41:07 - loss: 3.47 - ETA: 41:06 - loss: 3.47 - ETA: 41:06 - loss: 3.47 - ETA: 41:05 - loss: 3.47 - ETA: 41:05 - loss: 3.47 - ETA: 41:04 - loss: 3.47 - ETA: 41:04 - loss: 3.47 - ETA: 41:03 - loss: 3.47 - ETA: 41:03 - loss: 3.47 - ETA: 41:02 - loss: 3.47 - ETA: 41:02 - loss: 3.47 - ETA: 41:01 - loss: 3.47 - ETA: 41:01 - loss: 3.47 - ETA: 41:00 - loss: 3.47 - ETA: 40:59 - loss: 3.47 - ETA: 40:59 - loss: 3.47 - ETA: 40:58 - loss: 3.47 - ETA: 40:58 - loss: 3.47 - ETA: 40:57 - loss: 3.47 - ETA: 40:57 - loss: 3.47 - ETA: 40:56 - loss: 3.47 - ETA: 40:56 - loss: 3.47 - ETA: 40:55 - loss: 3.47 - ETA: 40:55 - loss: 3.47 - ETA: 40:54 - loss: 3.47 - ETA: 40:54 - loss: 3.47 - ETA: 40:53 - loss: 3.47 - ETA: 40:53 - loss: 3.47 - ETA: 40:52 - loss: 3.47 - ETA: 40:51 - loss: 3.47 - ETA: 40:50 - loss: 3.47 - ETA: 40:50 - loss: 3.47 - ETA: 40:49 - loss: 3.47 - ETA: 40:48 - loss: 3.47 - ETA: 40:48 - loss: 3.47 - ETA: 40:47 - loss: 3.47 - ETA: 40:46 - loss: 3.47 - ETA: 40:45 - loss: 3.47 - ETA: 40:45 - loss: 3.47 - ETA: 40:44 - loss: 3.47 - ETA: 40:43 - loss: 3.47 - ETA: 40:43 - loss: 3.47 - ETA: 40:42 - loss: 3.47 - ETA: 40:41 - loss: 3.47 - ETA: 40:40 - loss: 3.47 - ETA: 40:40 - loss: 3.47 - ETA: 40:39 - loss: 3.47 - ETA: 40:38 - loss: 3.47 - ETA: 40:37 - loss: 3.47 - ETA: 40:37 - loss: 3.47 - ETA: 40:36 - loss: 3.47 - ETA: 40:35 - loss: 3.47 - ETA: 40:34 - loss: 3.47 - ETA: 40:34 - loss: 3.47 - ETA: 40:33 - loss: 3.47 - ETA: 40:32 - loss: 3.47 - ETA: 40:31 - loss: 3.47 - ETA: 40:31 - loss: 3.47 - ETA: 40:30 - loss: 3.47 - ETA: 40:29 - loss: 3.47 - ETA: 40:28 - loss: 3.47 - ETA: 40:28 - loss: 3.47 - ETA: 40:27 - loss: 3.47 - ETA: 40:26 - loss: 3.47 - ETA: 40:25 - loss: 3.47 - ETA: 40:25 - loss: 3.47 - ETA: 40:24 - loss: 3.47 - ETA: 40:23 - loss: 3.47 - ETA: 40:22 - loss: 3.47 - ETA: 40:22 - loss: 3.47 - ETA: 40:21 - loss: 3.47 - ETA: 40:20 - loss: 3.47 - ETA: 40:19 - loss: 3.47 - ETA: 40:19 - loss: 3.47 - ETA: 40:18 - loss: 3.47 - ETA: 40:17 - loss: 3.47 - ETA: 40:16 - loss: 3.47 - ETA: 40:16 - loss: 3.47 - ETA: 40:15 - loss: 3.47 - ETA: 40:14 - loss: 3.47 - ETA: 40:13 - loss: 3.47 - ETA: 40:13 - loss: 3.47 - ETA: 40:12 - loss: 3.47 - ETA: 40:11 - loss: 3.47 - ETA: 40:11 - loss: 3.47 - ETA: 40:10 - loss: 3.47 - ETA: 40:09 - loss: 3.47 - ETA: 40:09 - loss: 3.47 - ETA: 40:08 - loss: 3.47 - ETA: 40:08 - loss: 3.47 - ETA: 40:07 - loss: 3.47 - ETA: 40:07 - loss: 3.47 - ETA: 40:06 - loss: 3.47 - ETA: 40:06 - loss: 3.47 - ETA: 40:05 - loss: 3.47 - ETA: 40:05 - loss: 3.47 - ETA: 40:04 - loss: 3.47 - ETA: 40:04 - loss: 3.47 - ETA: 40:03 - loss: 3.47 - ETA: 40:02 - loss: 3.47 - ETA: 40:02 - loss: 3.47 - ETA: 40:01 - loss: 3.47 - ETA: 40:00 - loss: 3.47 - ETA: 40:00 - loss: 3.47 - ETA: 39:59 - loss: 3.47 - ETA: 39:59 - loss: 3.47 - ETA: 39:58 - loss: 3.47 - ETA: 39:58 - loss: 3.47 - ETA: 39:57 - loss: 3.47 - ETA: 39:56 - loss: 3.47 - ETA: 39:56 - loss: 3.47 - ETA: 39:55 - loss: 3.47 - ETA: 39:54 - loss: 3.47 - ETA: 39:54 - loss: 3.47 - ETA: 39:53 - loss: 3.47 - ETA: 39:52 - loss: 3.47 - ETA: 39:51 - loss: 3.47 - ETA: 39:50 - loss: 3.47 - ETA: 39:50 - loss: 3.47 - ETA: 39:49 - loss: 3.47 - ETA: 39:48 - loss: 3.47 - ETA: 39:48 - loss: 3.47 - ETA: 39:47 - loss: 3.47 - ETA: 39:46 - loss: 3.47 - ETA: 39:45 - loss: 3.47 - ETA: 39:45 - loss: 3.47 - ETA: 39:44 - loss: 3.47 - ETA: 39:43 - loss: 3.47 - ETA: 39:42 - loss: 3.47 - ETA: 39:42 - loss: 3.47 - ETA: 39:41 - loss: 3.47 - ETA: 39:40 - loss: 3.47 - ETA: 39:39 - loss: 3.47 - ETA: 39:39 - loss: 3.47 - ETA: 39:38 - loss: 3.47 - ETA: 39:37 - loss: 3.48 - ETA: 39:36 - loss: 3.47 - ETA: 39:36 - loss: 3.47 - ETA: 39:35 - loss: 3.47 - ETA: 39:34 - loss: 3.47 - ETA: 39:33 - loss: 3.47 - ETA: 39:33 - loss: 3.47 - ETA: 39:32 - loss: 3.47 - ETA: 39:31 - loss: 3.47 - ETA: 39:31 - loss: 3.47 - ETA: 39:30 - loss: 3.47 - ETA: 39:29 - loss: 3.47 - ETA: 39:28 - loss: 3.47 - ETA: 39:28 - loss: 3.47 - ETA: 39:27 - loss: 3.47 - ETA: 39:26 - loss: 3.47 - ETA: 39:25 - loss: 3.47 - ETA: 39:25 - loss: 3.47 - ETA: 39:24 - loss: 3.47 - ETA: 39:23 - loss: 3.47 - ETA: 39:22 - loss: 3.47 - ETA: 39:22 - loss: 3.47 - ETA: 39:21 - loss: 3.47 - ETA: 39:20 - loss: 3.47 - ETA: 39:19 - loss: 3.47 - ETA: 39:19 - loss: 3.47 - ETA: 39:18 - loss: 3.47 - ETA: 39:17 - loss: 3.4776"
     ]
    },
    {
     "name": "stdout",
     "output_type": "stream",
     "text": [
      "1255/4335 [=======>......................] - ETA: 39:16 - loss: 3.47 - ETA: 39:16 - loss: 3.47 - ETA: 39:15 - loss: 3.47 - ETA: 39:14 - loss: 3.47 - ETA: 39:13 - loss: 3.47 - ETA: 39:13 - loss: 3.47 - ETA: 39:12 - loss: 3.47 - ETA: 39:11 - loss: 3.47 - ETA: 39:10 - loss: 3.47 - ETA: 39:10 - loss: 3.47 - ETA: 39:09 - loss: 3.47 - ETA: 39:08 - loss: 3.47 - ETA: 39:07 - loss: 3.47 - ETA: 39:07 - loss: 3.47 - ETA: 39:06 - loss: 3.47 - ETA: 39:05 - loss: 3.47 - ETA: 39:04 - loss: 3.47 - ETA: 39:04 - loss: 3.47 - ETA: 39:03 - loss: 3.47 - ETA: 39:02 - loss: 3.47 - ETA: 39:02 - loss: 3.47 - ETA: 39:01 - loss: 3.47 - ETA: 39:00 - loss: 3.47 - ETA: 38:59 - loss: 3.47 - ETA: 38:59 - loss: 3.47 - ETA: 38:58 - loss: 3.47 - ETA: 38:57 - loss: 3.47 - ETA: 38:57 - loss: 3.47 - ETA: 38:56 - loss: 3.48 - ETA: 38:55 - loss: 3.48 - ETA: 38:54 - loss: 3.48 - ETA: 38:53 - loss: 3.48 - ETA: 38:53 - loss: 3.48 - ETA: 38:52 - loss: 3.48 - ETA: 38:51 - loss: 3.48 - ETA: 38:51 - loss: 3.48 - ETA: 38:50 - loss: 3.48 - ETA: 38:49 - loss: 3.48 - ETA: 38:48 - loss: 3.48 - ETA: 38:48 - loss: 3.48 - ETA: 38:47 - loss: 3.48 - ETA: 38:46 - loss: 3.48 - ETA: 38:46 - loss: 3.48 - ETA: 38:45 - loss: 3.47 - ETA: 38:44 - loss: 3.47 - ETA: 38:43 - loss: 3.47 - ETA: 38:42 - loss: 3.47 - ETA: 38:42 - loss: 3.47 - ETA: 38:41 - loss: 3.47 - ETA: 38:40 - loss: 3.47 - ETA: 38:39 - loss: 3.47 - ETA: 38:39 - loss: 3.47 - ETA: 38:38 - loss: 3.47 - ETA: 38:37 - loss: 3.47 - ETA: 38:36 - loss: 3.47 - ETA: 38:36 - loss: 3.47 - ETA: 38:35 - loss: 3.47 - ETA: 38:34 - loss: 3.47 - ETA: 38:33 - loss: 3.47 - ETA: 38:32 - loss: 3.47 - ETA: 38:32 - loss: 3.47 - ETA: 38:31 - loss: 3.47 - ETA: 38:30 - loss: 3.47 - ETA: 38:29 - loss: 3.47 - ETA: 38:29 - loss: 3.47 - ETA: 38:28 - loss: 3.47 - ETA: 38:27 - loss: 3.47 - ETA: 38:26 - loss: 3.47 - ETA: 38:25 - loss: 3.47 - ETA: 38:25 - loss: 3.47 - ETA: 38:24 - loss: 3.47 - ETA: 38:23 - loss: 3.47 - ETA: 38:22 - loss: 3.47 - ETA: 38:21 - loss: 3.47 - ETA: 38:21 - loss: 3.47 - ETA: 38:20 - loss: 3.47 - ETA: 38:19 - loss: 3.47 - ETA: 38:18 - loss: 3.47 - ETA: 38:17 - loss: 3.47 - ETA: 38:17 - loss: 3.47 - ETA: 38:16 - loss: 3.47 - ETA: 38:16 - loss: 3.47 - ETA: 38:15 - loss: 3.47 - ETA: 38:15 - loss: 3.48 - ETA: 38:14 - loss: 3.48 - ETA: 38:14 - loss: 3.48 - ETA: 38:13 - loss: 3.48 - ETA: 38:13 - loss: 3.48 - ETA: 38:12 - loss: 3.48 - ETA: 38:12 - loss: 3.48 - ETA: 38:12 - loss: 3.48 - ETA: 38:11 - loss: 3.48 - ETA: 38:11 - loss: 3.48 - ETA: 38:10 - loss: 3.48 - ETA: 38:10 - loss: 3.48 - ETA: 38:09 - loss: 3.48 - ETA: 38:09 - loss: 3.48 - ETA: 38:08 - loss: 3.48 - ETA: 38:07 - loss: 3.48 - ETA: 38:07 - loss: 3.48 - ETA: 38:06 - loss: 3.48 - ETA: 38:06 - loss: 3.48 - ETA: 38:05 - loss: 3.48 - ETA: 38:05 - loss: 3.48 - ETA: 38:04 - loss: 3.48 - ETA: 38:03 - loss: 3.48 - ETA: 38:03 - loss: 3.48 - ETA: 38:02 - loss: 3.48 - ETA: 38:01 - loss: 3.48 - ETA: 38:01 - loss: 3.48 - ETA: 38:00 - loss: 3.48 - ETA: 37:59 - loss: 3.48 - ETA: 37:59 - loss: 3.48 - ETA: 37:58 - loss: 3.48 - ETA: 37:57 - loss: 3.48 - ETA: 37:57 - loss: 3.48 - ETA: 37:56 - loss: 3.48 - ETA: 37:56 - loss: 3.48 - ETA: 37:55 - loss: 3.48 - ETA: 37:55 - loss: 3.48 - ETA: 37:54 - loss: 3.48 - ETA: 37:54 - loss: 3.48 - ETA: 37:53 - loss: 3.48 - ETA: 37:53 - loss: 3.48 - ETA: 37:52 - loss: 3.48 - ETA: 37:52 - loss: 3.48 - ETA: 37:51 - loss: 3.48 - ETA: 37:50 - loss: 3.48 - ETA: 37:50 - loss: 3.48 - ETA: 37:49 - loss: 3.48 - ETA: 37:48 - loss: 3.48 - ETA: 37:47 - loss: 3.48 - ETA: 37:47 - loss: 3.48 - ETA: 37:46 - loss: 3.48 - ETA: 37:45 - loss: 3.48 - ETA: 37:45 - loss: 3.48 - ETA: 37:44 - loss: 3.48 - ETA: 37:43 - loss: 3.48 - ETA: 37:42 - loss: 3.48 - ETA: 37:42 - loss: 3.48 - ETA: 37:41 - loss: 3.48 - ETA: 37:40 - loss: 3.48 - ETA: 37:40 - loss: 3.48 - ETA: 37:39 - loss: 3.48 - ETA: 37:38 - loss: 3.48 - ETA: 37:38 - loss: 3.48 - ETA: 37:37 - loss: 3.48 - ETA: 37:36 - loss: 3.48 - ETA: 37:36 - loss: 3.48 - ETA: 37:35 - loss: 3.48 - ETA: 37:34 - loss: 3.48 - ETA: 37:34 - loss: 3.48 - ETA: 37:33 - loss: 3.48 - ETA: 37:32 - loss: 3.48 - ETA: 37:31 - loss: 3.48 - ETA: 37:31 - loss: 3.48 - ETA: 37:30 - loss: 3.48 - ETA: 37:29 - loss: 3.48 - ETA: 37:28 - loss: 3.48 - ETA: 37:28 - loss: 3.48 - ETA: 37:27 - loss: 3.48 - ETA: 37:26 - loss: 3.48 - ETA: 37:26 - loss: 3.48 - ETA: 37:25 - loss: 3.48 - ETA: 37:24 - loss: 3.48 - ETA: 37:23 - loss: 3.48 - ETA: 37:23 - loss: 3.48 - ETA: 37:22 - loss: 3.48 - ETA: 37:21 - loss: 3.48 - ETA: 37:20 - loss: 3.48 - ETA: 37:20 - loss: 3.48 - ETA: 37:19 - loss: 3.48 - ETA: 37:18 - loss: 3.48 - ETA: 37:17 - loss: 3.48 - ETA: 37:17 - loss: 3.48 - ETA: 37:16 - loss: 3.48 - ETA: 37:15 - loss: 3.48 - ETA: 37:14 - loss: 3.48 - ETA: 37:14 - loss: 3.48 - ETA: 37:13 - loss: 3.48 - ETA: 37:12 - loss: 3.48 - ETA: 37:12 - loss: 3.48 - ETA: 37:11 - loss: 3.48 - ETA: 37:10 - loss: 3.48 - ETA: 37:09 - loss: 3.48 - ETA: 37:09 - loss: 3.48 - ETA: 37:08 - loss: 3.48 - ETA: 37:07 - loss: 3.48 - ETA: 37:07 - loss: 3.48 - ETA: 37:06 - loss: 3.48 - ETA: 37:05 - loss: 3.48 - ETA: 37:04 - loss: 3.48 - ETA: 37:04 - loss: 3.48 - ETA: 37:03 - loss: 3.48 - ETA: 37:02 - loss: 3.48 - ETA: 37:01 - loss: 3.48 - ETA: 37:01 - loss: 3.48 - ETA: 37:00 - loss: 3.48 - ETA: 36:59 - loss: 3.48 - ETA: 36:58 - loss: 3.48 - ETA: 36:58 - loss: 3.48 - ETA: 36:57 - loss: 3.48 - ETA: 36:56 - loss: 3.48 - ETA: 36:55 - loss: 3.48 - ETA: 36:55 - loss: 3.48 - ETA: 36:54 - loss: 3.48 - ETA: 36:53 - loss: 3.48 - ETA: 36:53 - loss: 3.48 - ETA: 36:52 - loss: 3.48 - ETA: 36:51 - loss: 3.48 - ETA: 36:50 - loss: 3.48 - ETA: 36:50 - loss: 3.48 - ETA: 36:49 - loss: 3.48 - ETA: 36:48 - loss: 3.48 - ETA: 36:47 - loss: 3.48 - ETA: 36:47 - loss: 3.48 - ETA: 36:46 - loss: 3.48 - ETA: 36:45 - loss: 3.48 - ETA: 36:45 - loss: 3.48 - ETA: 36:45 - loss: 3.48 - ETA: 36:44 - loss: 3.48 - ETA: 36:43 - loss: 3.48 - ETA: 36:42 - loss: 3.48 - ETA: 36:42 - loss: 3.48 - ETA: 36:41 - loss: 3.48 - ETA: 36:41 - loss: 3.48 - ETA: 36:40 - loss: 3.48 - ETA: 36:39 - loss: 3.48 - ETA: 36:39 - loss: 3.48 - ETA: 36:38 - loss: 3.48 - ETA: 36:38 - loss: 3.48 - ETA: 36:37 - loss: 3.48 - ETA: 36:36 - loss: 3.48 - ETA: 36:36 - loss: 3.48 - ETA: 36:35 - loss: 3.48 - ETA: 36:34 - loss: 3.48 - ETA: 36:34 - loss: 3.48 - ETA: 36:33 - loss: 3.48 - ETA: 36:32 - loss: 3.48 - ETA: 36:31 - loss: 3.48 - ETA: 36:31 - loss: 3.48 - ETA: 36:30 - loss: 3.48 - ETA: 36:29 - loss: 3.48 - ETA: 36:28 - loss: 3.48 - ETA: 36:28 - loss: 3.48 - ETA: 36:27 - loss: 3.48 - ETA: 36:26 - loss: 3.48 - ETA: 36:25 - loss: 3.48 - ETA: 36:25 - loss: 3.48 - ETA: 36:24 - loss: 3.48 - ETA: 36:23 - loss: 3.48 - ETA: 36:23 - loss: 3.48 - ETA: 36:22 - loss: 3.48 - ETA: 36:21 - loss: 3.48 - ETA: 36:20 - loss: 3.48 - ETA: 36:20 - loss: 3.48 - ETA: 36:19 - loss: 3.48 - ETA: 36:19 - loss: 3.48 - ETA: 36:18 - loss: 3.48 - ETA: 36:18 - loss: 3.48 - ETA: 36:17 - loss: 3.48 - ETA: 36:17 - loss: 3.48 - ETA: 36:16 - loss: 3.48 - ETA: 36:15 - loss: 3.48 - ETA: 36:15 - loss: 3.48 - ETA: 36:15 - loss: 3.48 - ETA: 36:14 - loss: 3.48 - ETA: 36:14 - loss: 3.48 - ETA: 36:13 - loss: 3.48 - ETA: 36:12 - loss: 3.48 - ETA: 36:12 - loss: 3.48 - ETA: 36:11 - loss: 3.48 - ETA: 36:11 - loss: 3.48 - ETA: 36:10 - loss: 3.48 - ETA: 36:10 - loss: 3.48 - ETA: 36:09 - loss: 3.48 - ETA: 36:09 - loss: 3.48 - ETA: 36:08 - loss: 3.48 - ETA: 36:07 - loss: 3.48 - ETA: 36:07 - loss: 3.48 - ETA: 36:06 - loss: 3.48 - ETA: 36:06 - loss: 3.48 - ETA: 36:05 - loss: 3.48 - ETA: 36:05 - loss: 3.48 - ETA: 36:04 - loss: 3.48 - ETA: 36:04 - loss: 3.48 - ETA: 36:03 - loss: 3.48 - ETA: 36:02 - loss: 3.48 - ETA: 36:02 - loss: 3.48 - ETA: 36:01 - loss: 3.48 - ETA: 36:01 - loss: 3.48 - ETA: 36:00 - loss: 3.48 - ETA: 36:00 - loss: 3.48 - ETA: 35:59 - loss: 3.48 - ETA: 35:58 - loss: 3.48 - ETA: 35:58 - loss: 3.48 - ETA: 35:57 - loss: 3.48 - ETA: 35:57 - loss: 3.48 - ETA: 35:56 - loss: 3.48 - ETA: 35:55 - loss: 3.48 - ETA: 35:55 - loss: 3.48 - ETA: 35:54 - loss: 3.48 - ETA: 35:54 - loss: 3.48 - ETA: 35:53 - loss: 3.48 - ETA: 35:52 - loss: 3.48 - ETA: 35:52 - loss: 3.48 - ETA: 35:51 - loss: 3.48 - ETA: 35:51 - loss: 3.48 - ETA: 35:50 - loss: 3.48 - ETA: 35:49 - loss: 3.48 - ETA: 35:49 - loss: 3.48 - ETA: 35:48 - loss: 3.48 - ETA: 35:48 - loss: 3.48 - ETA: 35:48 - loss: 3.4855"
     ]
    },
    {
     "name": "stdout",
     "output_type": "stream",
     "text": [
      "1569/4335 [=========>....................] - ETA: 35:47 - loss: 3.48 - ETA: 35:46 - loss: 3.48 - ETA: 35:46 - loss: 3.48 - ETA: 35:45 - loss: 3.48 - ETA: 35:45 - loss: 3.48 - ETA: 35:44 - loss: 3.48 - ETA: 35:43 - loss: 3.48 - ETA: 35:43 - loss: 3.48 - ETA: 35:42 - loss: 3.48 - ETA: 35:41 - loss: 3.48 - ETA: 35:40 - loss: 3.48 - ETA: 35:40 - loss: 3.48 - ETA: 35:39 - loss: 3.48 - ETA: 35:38 - loss: 3.48 - ETA: 35:38 - loss: 3.48 - ETA: 35:37 - loss: 3.48 - ETA: 35:36 - loss: 3.48 - ETA: 35:36 - loss: 3.48 - ETA: 35:35 - loss: 3.48 - ETA: 35:34 - loss: 3.48 - ETA: 35:34 - loss: 3.48 - ETA: 35:33 - loss: 3.48 - ETA: 35:32 - loss: 3.48 - ETA: 35:32 - loss: 3.48 - ETA: 35:31 - loss: 3.48 - ETA: 35:30 - loss: 3.48 - ETA: 35:29 - loss: 3.48 - ETA: 35:29 - loss: 3.48 - ETA: 35:28 - loss: 3.48 - ETA: 35:27 - loss: 3.48 - ETA: 35:27 - loss: 3.48 - ETA: 35:26 - loss: 3.48 - ETA: 35:25 - loss: 3.48 - ETA: 35:24 - loss: 3.48 - ETA: 35:24 - loss: 3.48 - ETA: 35:23 - loss: 3.48 - ETA: 35:22 - loss: 3.48 - ETA: 35:22 - loss: 3.48 - ETA: 35:21 - loss: 3.48 - ETA: 35:21 - loss: 3.48 - ETA: 35:20 - loss: 3.48 - ETA: 35:20 - loss: 3.48 - ETA: 35:19 - loss: 3.48 - ETA: 35:18 - loss: 3.48 - ETA: 35:18 - loss: 3.48 - ETA: 35:17 - loss: 3.48 - ETA: 35:17 - loss: 3.48 - ETA: 35:16 - loss: 3.48 - ETA: 35:15 - loss: 3.48 - ETA: 35:15 - loss: 3.48 - ETA: 35:14 - loss: 3.48 - ETA: 35:14 - loss: 3.48 - ETA: 35:13 - loss: 3.48 - ETA: 35:12 - loss: 3.48 - ETA: 35:12 - loss: 3.48 - ETA: 35:11 - loss: 3.48 - ETA: 35:10 - loss: 3.48 - ETA: 35:10 - loss: 3.48 - ETA: 35:09 - loss: 3.48 - ETA: 35:08 - loss: 3.48 - ETA: 35:08 - loss: 3.48 - ETA: 35:07 - loss: 3.48 - ETA: 35:06 - loss: 3.48 - ETA: 35:06 - loss: 3.48 - ETA: 35:05 - loss: 3.48 - ETA: 35:04 - loss: 3.48 - ETA: 35:04 - loss: 3.48 - ETA: 35:03 - loss: 3.48 - ETA: 35:02 - loss: 3.48 - ETA: 35:02 - loss: 3.48 - ETA: 35:01 - loss: 3.48 - ETA: 35:00 - loss: 3.48 - ETA: 35:00 - loss: 3.48 - ETA: 34:59 - loss: 3.48 - ETA: 34:58 - loss: 3.48 - ETA: 34:58 - loss: 3.48 - ETA: 34:57 - loss: 3.48 - ETA: 34:56 - loss: 3.48 - ETA: 34:56 - loss: 3.48 - ETA: 34:55 - loss: 3.48 - ETA: 34:54 - loss: 3.48 - ETA: 34:54 - loss: 3.48 - ETA: 34:53 - loss: 3.48 - ETA: 34:52 - loss: 3.48 - ETA: 34:52 - loss: 3.48 - ETA: 34:51 - loss: 3.48 - ETA: 34:50 - loss: 3.48 - ETA: 34:50 - loss: 3.48 - ETA: 34:49 - loss: 3.48 - ETA: 34:48 - loss: 3.48 - ETA: 34:47 - loss: 3.48 - ETA: 34:47 - loss: 3.48 - ETA: 34:46 - loss: 3.48 - ETA: 34:46 - loss: 3.48 - ETA: 34:45 - loss: 3.48 - ETA: 34:44 - loss: 3.48 - ETA: 34:44 - loss: 3.48 - ETA: 34:43 - loss: 3.48 - ETA: 34:42 - loss: 3.48 - ETA: 34:42 - loss: 3.48 - ETA: 34:41 - loss: 3.48 - ETA: 34:40 - loss: 3.48 - ETA: 34:39 - loss: 3.48 - ETA: 34:39 - loss: 3.48 - ETA: 34:38 - loss: 3.48 - ETA: 34:37 - loss: 3.48 - ETA: 34:37 - loss: 3.48 - ETA: 34:36 - loss: 3.48 - ETA: 34:35 - loss: 3.48 - ETA: 34:35 - loss: 3.48 - ETA: 34:34 - loss: 3.48 - ETA: 34:34 - loss: 3.48 - ETA: 34:34 - loss: 3.48 - ETA: 34:34 - loss: 3.48 - ETA: 34:33 - loss: 3.48 - ETA: 34:33 - loss: 3.48 - ETA: 34:32 - loss: 3.48 - ETA: 34:32 - loss: 3.48 - ETA: 34:31 - loss: 3.48 - ETA: 34:30 - loss: 3.48 - ETA: 34:30 - loss: 3.48 - ETA: 34:30 - loss: 3.48 - ETA: 34:30 - loss: 3.48 - ETA: 34:29 - loss: 3.48 - ETA: 34:29 - loss: 3.48 - ETA: 34:29 - loss: 3.48 - ETA: 34:29 - loss: 3.48 - ETA: 34:28 - loss: 3.48 - ETA: 34:28 - loss: 3.48 - ETA: 34:27 - loss: 3.48 - ETA: 34:27 - loss: 3.48 - ETA: 34:26 - loss: 3.48 - ETA: 34:25 - loss: 3.48 - ETA: 34:25 - loss: 3.48 - ETA: 34:24 - loss: 3.48 - ETA: 34:23 - loss: 3.48 - ETA: 34:23 - loss: 3.48 - ETA: 34:22 - loss: 3.48 - ETA: 34:21 - loss: 3.48 - ETA: 34:21 - loss: 3.48 - ETA: 34:20 - loss: 3.48 - ETA: 34:19 - loss: 3.48 - ETA: 34:19 - loss: 3.48 - ETA: 34:18 - loss: 3.48 - ETA: 34:17 - loss: 3.48 - ETA: 34:17 - loss: 3.48 - ETA: 34:16 - loss: 3.48 - ETA: 34:15 - loss: 3.48 - ETA: 34:15 - loss: 3.48 - ETA: 34:14 - loss: 3.48 - ETA: 34:13 - loss: 3.48 - ETA: 34:13 - loss: 3.48 - ETA: 34:12 - loss: 3.48 - ETA: 34:11 - loss: 3.48 - ETA: 34:10 - loss: 3.48 - ETA: 34:10 - loss: 3.48 - ETA: 34:09 - loss: 3.48 - ETA: 34:09 - loss: 3.48 - ETA: 34:08 - loss: 3.48 - ETA: 34:07 - loss: 3.48 - ETA: 34:07 - loss: 3.48 - ETA: 34:06 - loss: 3.48 - ETA: 34:05 - loss: 3.48 - ETA: 34:05 - loss: 3.48 - ETA: 34:04 - loss: 3.48 - ETA: 34:03 - loss: 3.48 - ETA: 34:03 - loss: 3.48 - ETA: 34:02 - loss: 3.49 - ETA: 34:01 - loss: 3.49 - ETA: 34:01 - loss: 3.49 - ETA: 34:00 - loss: 3.49 - ETA: 33:59 - loss: 3.49 - ETA: 33:59 - loss: 3.49 - ETA: 33:58 - loss: 3.49 - ETA: 33:57 - loss: 3.49 - ETA: 33:57 - loss: 3.49 - ETA: 33:56 - loss: 3.49 - ETA: 33:55 - loss: 3.49 - ETA: 33:55 - loss: 3.49 - ETA: 33:54 - loss: 3.49 - ETA: 33:53 - loss: 3.49 - ETA: 33:52 - loss: 3.49 - ETA: 33:52 - loss: 3.49 - ETA: 33:51 - loss: 3.49 - ETA: 33:50 - loss: 3.49 - ETA: 33:50 - loss: 3.49 - ETA: 33:49 - loss: 3.49 - ETA: 33:48 - loss: 3.49 - ETA: 33:48 - loss: 3.49 - ETA: 33:47 - loss: 3.49 - ETA: 33:46 - loss: 3.49 - ETA: 33:46 - loss: 3.49 - ETA: 33:45 - loss: 3.49 - ETA: 33:44 - loss: 3.49 - ETA: 33:44 - loss: 3.49 - ETA: 33:43 - loss: 3.49 - ETA: 33:42 - loss: 3.49 - ETA: 33:41 - loss: 3.49 - ETA: 33:41 - loss: 3.49 - ETA: 33:40 - loss: 3.49 - ETA: 33:39 - loss: 3.49 - ETA: 33:39 - loss: 3.49 - ETA: 33:38 - loss: 3.49 - ETA: 33:37 - loss: 3.49 - ETA: 33:37 - loss: 3.49 - ETA: 33:36 - loss: 3.49 - ETA: 33:35 - loss: 3.49 - ETA: 33:35 - loss: 3.49 - ETA: 33:34 - loss: 3.49 - ETA: 33:33 - loss: 3.49 - ETA: 33:33 - loss: 3.49 - ETA: 33:32 - loss: 3.49 - ETA: 33:31 - loss: 3.49 - ETA: 33:31 - loss: 3.49 - ETA: 33:30 - loss: 3.48 - ETA: 33:29 - loss: 3.48 - ETA: 33:29 - loss: 3.48 - ETA: 33:28 - loss: 3.49 - ETA: 33:27 - loss: 3.49 - ETA: 33:26 - loss: 3.49 - ETA: 33:26 - loss: 3.49 - ETA: 33:25 - loss: 3.49 - ETA: 33:24 - loss: 3.49 - ETA: 33:24 - loss: 3.49 - ETA: 33:23 - loss: 3.49 - ETA: 33:22 - loss: 3.49 - ETA: 33:22 - loss: 3.49 - ETA: 33:21 - loss: 3.48 - ETA: 33:21 - loss: 3.48 - ETA: 33:20 - loss: 3.48 - ETA: 33:19 - loss: 3.48 - ETA: 33:19 - loss: 3.48 - ETA: 33:18 - loss: 3.48 - ETA: 33:17 - loss: 3.49 - ETA: 33:17 - loss: 3.48 - ETA: 33:16 - loss: 3.48 - ETA: 33:15 - loss: 3.48 - ETA: 33:14 - loss: 3.48 - ETA: 33:14 - loss: 3.48 - ETA: 33:13 - loss: 3.48 - ETA: 33:12 - loss: 3.48 - ETA: 33:11 - loss: 3.48 - ETA: 33:11 - loss: 3.48 - ETA: 33:10 - loss: 3.48 - ETA: 33:09 - loss: 3.48 - ETA: 33:08 - loss: 3.48 - ETA: 33:08 - loss: 3.48 - ETA: 33:07 - loss: 3.48 - ETA: 33:06 - loss: 3.48 - ETA: 33:05 - loss: 3.48 - ETA: 33:05 - loss: 3.48 - ETA: 33:04 - loss: 3.48 - ETA: 33:03 - loss: 3.48 - ETA: 33:02 - loss: 3.48 - ETA: 33:02 - loss: 3.48 - ETA: 33:01 - loss: 3.48 - ETA: 33:00 - loss: 3.48 - ETA: 32:59 - loss: 3.48 - ETA: 32:59 - loss: 3.48 - ETA: 32:58 - loss: 3.48 - ETA: 32:57 - loss: 3.48 - ETA: 32:56 - loss: 3.48 - ETA: 32:56 - loss: 3.48 - ETA: 32:55 - loss: 3.48 - ETA: 32:54 - loss: 3.48 - ETA: 32:53 - loss: 3.48 - ETA: 32:53 - loss: 3.48 - ETA: 32:52 - loss: 3.48 - ETA: 32:51 - loss: 3.48 - ETA: 32:50 - loss: 3.48 - ETA: 32:50 - loss: 3.48 - ETA: 32:49 - loss: 3.49 - ETA: 32:48 - loss: 3.48 - ETA: 32:47 - loss: 3.48 - ETA: 32:47 - loss: 3.49 - ETA: 32:46 - loss: 3.49 - ETA: 32:45 - loss: 3.49 - ETA: 32:44 - loss: 3.49 - ETA: 32:44 - loss: 3.49 - ETA: 32:43 - loss: 3.49 - ETA: 32:42 - loss: 3.49 - ETA: 32:41 - loss: 3.49 - ETA: 32:40 - loss: 3.49 - ETA: 32:40 - loss: 3.49 - ETA: 32:39 - loss: 3.49 - ETA: 32:38 - loss: 3.49 - ETA: 32:38 - loss: 3.49 - ETA: 32:37 - loss: 3.49 - ETA: 32:37 - loss: 3.49 - ETA: 32:37 - loss: 3.49 - ETA: 32:36 - loss: 3.49 - ETA: 32:36 - loss: 3.49 - ETA: 32:35 - loss: 3.49 - ETA: 32:34 - loss: 3.48 - ETA: 32:34 - loss: 3.49 - ETA: 32:33 - loss: 3.49 - ETA: 32:33 - loss: 3.49 - ETA: 32:32 - loss: 3.49 - ETA: 32:32 - loss: 3.49 - ETA: 32:32 - loss: 3.49 - ETA: 32:31 - loss: 3.49 - ETA: 32:30 - loss: 3.49 - ETA: 32:30 - loss: 3.49 - ETA: 32:29 - loss: 3.49 - ETA: 32:29 - loss: 3.49 - ETA: 32:28 - loss: 3.49 - ETA: 32:27 - loss: 3.49 - ETA: 32:27 - loss: 3.49 - ETA: 32:27 - loss: 3.49 - ETA: 32:26 - loss: 3.49 - ETA: 32:26 - loss: 3.49 - ETA: 32:25 - loss: 3.49 - ETA: 32:25 - loss: 3.49 - ETA: 32:24 - loss: 3.4900"
     ]
    },
    {
     "name": "stdout",
     "output_type": "stream",
     "text": [
      "1883/4335 [============>.................] - ETA: 32:23 - loss: 3.48 - ETA: 32:23 - loss: 3.49 - ETA: 32:22 - loss: 3.49 - ETA: 32:21 - loss: 3.48 - ETA: 32:21 - loss: 3.48 - ETA: 32:20 - loss: 3.48 - ETA: 32:19 - loss: 3.49 - ETA: 32:18 - loss: 3.49 - ETA: 32:18 - loss: 3.49 - ETA: 32:17 - loss: 3.49 - ETA: 32:16 - loss: 3.49 - ETA: 32:16 - loss: 3.49 - ETA: 32:15 - loss: 3.49 - ETA: 32:14 - loss: 3.49 - ETA: 32:13 - loss: 3.49 - ETA: 32:13 - loss: 3.49 - ETA: 32:12 - loss: 3.49 - ETA: 32:11 - loss: 3.49 - ETA: 32:11 - loss: 3.49 - ETA: 32:10 - loss: 3.48 - ETA: 32:09 - loss: 3.48 - ETA: 32:08 - loss: 3.49 - ETA: 32:08 - loss: 3.49 - ETA: 32:07 - loss: 3.49 - ETA: 32:06 - loss: 3.49 - ETA: 32:06 - loss: 3.49 - ETA: 32:05 - loss: 3.49 - ETA: 32:04 - loss: 3.49 - ETA: 32:03 - loss: 3.49 - ETA: 32:03 - loss: 3.49 - ETA: 32:02 - loss: 3.49 - ETA: 32:01 - loss: 3.49 - ETA: 32:01 - loss: 3.49 - ETA: 32:00 - loss: 3.49 - ETA: 31:59 - loss: 3.49 - ETA: 31:58 - loss: 3.49 - ETA: 31:58 - loss: 3.49 - ETA: 31:57 - loss: 3.49 - ETA: 31:56 - loss: 3.49 - ETA: 31:56 - loss: 3.49 - ETA: 31:55 - loss: 3.49 - ETA: 31:54 - loss: 3.49 - ETA: 31:53 - loss: 3.49 - ETA: 31:53 - loss: 3.49 - ETA: 31:52 - loss: 3.49 - ETA: 31:51 - loss: 3.49 - ETA: 31:50 - loss: 3.49 - ETA: 31:50 - loss: 3.49 - ETA: 31:49 - loss: 3.49 - ETA: 31:48 - loss: 3.49 - ETA: 31:47 - loss: 3.49 - ETA: 31:47 - loss: 3.49 - ETA: 31:46 - loss: 3.49 - ETA: 31:45 - loss: 3.49 - ETA: 31:45 - loss: 3.49 - ETA: 31:44 - loss: 3.49 - ETA: 31:43 - loss: 3.49 - ETA: 31:43 - loss: 3.49 - ETA: 31:42 - loss: 3.49 - ETA: 31:41 - loss: 3.49 - ETA: 31:41 - loss: 3.49 - ETA: 31:40 - loss: 3.49 - ETA: 31:39 - loss: 3.49 - ETA: 31:38 - loss: 3.49 - ETA: 31:38 - loss: 3.49 - ETA: 31:37 - loss: 3.49 - ETA: 31:36 - loss: 3.49 - ETA: 31:35 - loss: 3.49 - ETA: 31:35 - loss: 3.49 - ETA: 31:34 - loss: 3.49 - ETA: 31:33 - loss: 3.49 - ETA: 31:32 - loss: 3.49 - ETA: 31:32 - loss: 3.49 - ETA: 31:31 - loss: 3.49 - ETA: 31:30 - loss: 3.49 - ETA: 31:29 - loss: 3.49 - ETA: 31:29 - loss: 3.49 - ETA: 31:28 - loss: 3.49 - ETA: 31:27 - loss: 3.49 - ETA: 31:26 - loss: 3.49 - ETA: 31:26 - loss: 3.49 - ETA: 31:25 - loss: 3.49 - ETA: 31:24 - loss: 3.49 - ETA: 31:23 - loss: 3.49 - ETA: 31:23 - loss: 3.49 - ETA: 31:22 - loss: 3.49 - ETA: 31:21 - loss: 3.49 - ETA: 31:20 - loss: 3.49 - ETA: 31:19 - loss: 3.49 - ETA: 31:19 - loss: 3.49 - ETA: 31:18 - loss: 3.49 - ETA: 31:17 - loss: 3.49 - ETA: 31:17 - loss: 3.49 - ETA: 31:16 - loss: 3.49 - ETA: 31:15 - loss: 3.49 - ETA: 31:14 - loss: 3.49 - ETA: 31:14 - loss: 3.49 - ETA: 31:13 - loss: 3.49 - ETA: 31:12 - loss: 3.49 - ETA: 31:12 - loss: 3.49 - ETA: 31:11 - loss: 3.49 - ETA: 31:10 - loss: 3.49 - ETA: 31:10 - loss: 3.49 - ETA: 31:09 - loss: 3.49 - ETA: 31:08 - loss: 3.49 - ETA: 31:08 - loss: 3.49 - ETA: 31:07 - loss: 3.49 - ETA: 31:06 - loss: 3.49 - ETA: 31:06 - loss: 3.49 - ETA: 31:05 - loss: 3.49 - ETA: 31:05 - loss: 3.49 - ETA: 31:04 - loss: 3.49 - ETA: 31:04 - loss: 3.49 - ETA: 31:03 - loss: 3.49 - ETA: 31:03 - loss: 3.49 - ETA: 31:02 - loss: 3.49 - ETA: 31:02 - loss: 3.49 - ETA: 31:01 - loss: 3.49 - ETA: 31:00 - loss: 3.49 - ETA: 31:00 - loss: 3.49 - ETA: 30:59 - loss: 3.49 - ETA: 30:59 - loss: 3.49 - ETA: 30:58 - loss: 3.49 - ETA: 30:57 - loss: 3.49 - ETA: 30:57 - loss: 3.49 - ETA: 30:56 - loss: 3.49 - ETA: 30:56 - loss: 3.49 - ETA: 30:55 - loss: 3.49 - ETA: 30:55 - loss: 3.49 - ETA: 30:54 - loss: 3.49 - ETA: 30:54 - loss: 3.49 - ETA: 30:53 - loss: 3.49 - ETA: 30:53 - loss: 3.49 - ETA: 30:52 - loss: 3.49 - ETA: 30:52 - loss: 3.49 - ETA: 30:51 - loss: 3.49 - ETA: 30:50 - loss: 3.49 - ETA: 30:50 - loss: 3.49 - ETA: 30:49 - loss: 3.49 - ETA: 30:48 - loss: 3.49 - ETA: 30:48 - loss: 3.49 - ETA: 30:47 - loss: 3.49 - ETA: 30:46 - loss: 3.49 - ETA: 30:45 - loss: 3.49 - ETA: 30:45 - loss: 3.49 - ETA: 30:44 - loss: 3.49 - ETA: 30:43 - loss: 3.49 - ETA: 30:43 - loss: 3.49 - ETA: 30:42 - loss: 3.49 - ETA: 30:41 - loss: 3.49 - ETA: 30:40 - loss: 3.49 - ETA: 30:40 - loss: 3.49 - ETA: 30:39 - loss: 3.49 - ETA: 30:38 - loss: 3.49 - ETA: 30:38 - loss: 3.49 - ETA: 30:37 - loss: 3.49 - ETA: 30:36 - loss: 3.49 - ETA: 30:36 - loss: 3.49 - ETA: 30:35 - loss: 3.49 - ETA: 30:35 - loss: 3.49 - ETA: 30:34 - loss: 3.49 - ETA: 30:33 - loss: 3.49 - ETA: 30:33 - loss: 3.49 - ETA: 30:32 - loss: 3.49 - ETA: 30:31 - loss: 3.49 - ETA: 30:30 - loss: 3.49 - ETA: 30:30 - loss: 3.49 - ETA: 30:29 - loss: 3.49 - ETA: 30:28 - loss: 3.49 - ETA: 30:27 - loss: 3.49 - ETA: 30:27 - loss: 3.49 - ETA: 30:26 - loss: 3.49 - ETA: 30:25 - loss: 3.49 - ETA: 30:24 - loss: 3.49 - ETA: 30:24 - loss: 3.49 - ETA: 30:23 - loss: 3.49 - ETA: 30:22 - loss: 3.49 - ETA: 30:21 - loss: 3.49 - ETA: 30:21 - loss: 3.49 - ETA: 30:20 - loss: 3.49 - ETA: 30:19 - loss: 3.49 - ETA: 30:18 - loss: 3.49 - ETA: 30:18 - loss: 3.49 - ETA: 30:17 - loss: 3.49 - ETA: 30:16 - loss: 3.49 - ETA: 30:15 - loss: 3.49 - ETA: 30:15 - loss: 3.49 - ETA: 30:14 - loss: 3.49 - ETA: 30:13 - loss: 3.49 - ETA: 30:13 - loss: 3.49 - ETA: 30:12 - loss: 3.49 - ETA: 30:11 - loss: 3.49 - ETA: 30:10 - loss: 3.49 - ETA: 30:10 - loss: 3.49 - ETA: 30:09 - loss: 3.49 - ETA: 30:08 - loss: 3.49 - ETA: 30:07 - loss: 3.49 - ETA: 30:07 - loss: 3.49 - ETA: 30:06 - loss: 3.49 - ETA: 30:05 - loss: 3.49 - ETA: 30:04 - loss: 3.49 - ETA: 30:04 - loss: 3.49 - ETA: 30:03 - loss: 3.49 - ETA: 30:02 - loss: 3.49 - ETA: 30:02 - loss: 3.49 - ETA: 30:01 - loss: 3.49 - ETA: 30:00 - loss: 3.49 - ETA: 29:59 - loss: 3.49 - ETA: 29:59 - loss: 3.49 - ETA: 29:58 - loss: 3.49 - ETA: 29:57 - loss: 3.49 - ETA: 29:56 - loss: 3.49 - ETA: 29:56 - loss: 3.49 - ETA: 29:55 - loss: 3.49 - ETA: 29:54 - loss: 3.49 - ETA: 29:53 - loss: 3.49 - ETA: 29:53 - loss: 3.49 - ETA: 29:52 - loss: 3.49 - ETA: 29:51 - loss: 3.49 - ETA: 29:50 - loss: 3.49 - ETA: 29:50 - loss: 3.49 - ETA: 29:49 - loss: 3.49 - ETA: 29:48 - loss: 3.49 - ETA: 29:48 - loss: 3.49 - ETA: 29:47 - loss: 3.49 - ETA: 29:46 - loss: 3.49 - ETA: 29:45 - loss: 3.49 - ETA: 29:45 - loss: 3.49 - ETA: 29:44 - loss: 3.49 - ETA: 29:43 - loss: 3.49 - ETA: 29:42 - loss: 3.49 - ETA: 29:42 - loss: 3.49 - ETA: 29:41 - loss: 3.49 - ETA: 29:40 - loss: 3.49 - ETA: 29:39 - loss: 3.49 - ETA: 29:39 - loss: 3.49 - ETA: 29:38 - loss: 3.49 - ETA: 29:37 - loss: 3.49 - ETA: 29:36 - loss: 3.49 - ETA: 29:36 - loss: 3.49 - ETA: 29:35 - loss: 3.49 - ETA: 29:34 - loss: 3.49 - ETA: 29:33 - loss: 3.49 - ETA: 29:33 - loss: 3.49 - ETA: 29:32 - loss: 3.49 - ETA: 29:31 - loss: 3.49 - ETA: 29:31 - loss: 3.49 - ETA: 29:30 - loss: 3.49 - ETA: 29:29 - loss: 3.49 - ETA: 29:28 - loss: 3.49 - ETA: 29:28 - loss: 3.49 - ETA: 29:27 - loss: 3.49 - ETA: 29:26 - loss: 3.49 - ETA: 29:25 - loss: 3.49 - ETA: 29:25 - loss: 3.49 - ETA: 29:24 - loss: 3.49 - ETA: 29:23 - loss: 3.49 - ETA: 29:22 - loss: 3.49 - ETA: 29:22 - loss: 3.49 - ETA: 29:21 - loss: 3.49 - ETA: 29:20 - loss: 3.49 - ETA: 29:20 - loss: 3.49 - ETA: 29:19 - loss: 3.49 - ETA: 29:18 - loss: 3.49 - ETA: 29:17 - loss: 3.49 - ETA: 29:17 - loss: 3.49 - ETA: 29:16 - loss: 3.49 - ETA: 29:15 - loss: 3.49 - ETA: 29:14 - loss: 3.49 - ETA: 29:14 - loss: 3.49 - ETA: 29:13 - loss: 3.49 - ETA: 29:12 - loss: 3.49 - ETA: 29:11 - loss: 3.49 - ETA: 29:11 - loss: 3.49 - ETA: 29:10 - loss: 3.49 - ETA: 29:09 - loss: 3.49 - ETA: 29:08 - loss: 3.49 - ETA: 29:07 - loss: 3.49 - ETA: 29:07 - loss: 3.49 - ETA: 29:06 - loss: 3.49 - ETA: 29:05 - loss: 3.49 - ETA: 29:04 - loss: 3.49 - ETA: 29:04 - loss: 3.49 - ETA: 29:03 - loss: 3.49 - ETA: 29:02 - loss: 3.49 - ETA: 29:01 - loss: 3.49 - ETA: 29:01 - loss: 3.49 - ETA: 29:00 - loss: 3.49 - ETA: 28:59 - loss: 3.49 - ETA: 28:58 - loss: 3.49 - ETA: 28:58 - loss: 3.49 - ETA: 28:57 - loss: 3.49 - ETA: 28:56 - loss: 3.49 - ETA: 28:55 - loss: 3.49 - ETA: 28:55 - loss: 3.49 - ETA: 28:54 - loss: 3.49 - ETA: 28:53 - loss: 3.49 - ETA: 28:53 - loss: 3.49 - ETA: 28:52 - loss: 3.49 - ETA: 28:51 - loss: 3.49 - ETA: 28:50 - loss: 3.49 - ETA: 28:50 - loss: 3.49 - ETA: 28:49 - loss: 3.49 - ETA: 28:48 - loss: 3.49 - ETA: 28:47 - loss: 3.49 - ETA: 28:47 - loss: 3.49 - ETA: 28:46 - loss: 3.49 - ETA: 28:45 - loss: 3.49 - ETA: 28:45 - loss: 3.49 - ETA: 28:44 - loss: 3.49 - ETA: 28:43 - loss: 3.49 - ETA: 28:43 - loss: 3.49 - ETA: 28:42 - loss: 3.49 - ETA: 28:41 - loss: 3.4993"
     ]
    },
    {
     "name": "stdout",
     "output_type": "stream",
     "text": [
      "2197/4335 [==============>...............] - ETA: 28:40 - loss: 3.49 - ETA: 28:40 - loss: 3.49 - ETA: 28:39 - loss: 3.49 - ETA: 28:38 - loss: 3.49 - ETA: 28:38 - loss: 3.49 - ETA: 28:37 - loss: 3.49 - ETA: 28:36 - loss: 3.49 - ETA: 28:35 - loss: 3.49 - ETA: 28:35 - loss: 3.49 - ETA: 28:34 - loss: 3.49 - ETA: 28:33 - loss: 3.49 - ETA: 28:32 - loss: 3.49 - ETA: 28:32 - loss: 3.49 - ETA: 28:31 - loss: 3.49 - ETA: 28:30 - loss: 3.49 - ETA: 28:30 - loss: 3.49 - ETA: 28:29 - loss: 3.49 - ETA: 28:28 - loss: 3.49 - ETA: 28:27 - loss: 3.49 - ETA: 28:27 - loss: 3.49 - ETA: 28:26 - loss: 3.49 - ETA: 28:25 - loss: 3.49 - ETA: 28:24 - loss: 3.49 - ETA: 28:24 - loss: 3.49 - ETA: 28:23 - loss: 3.49 - ETA: 28:22 - loss: 3.49 - ETA: 28:22 - loss: 3.49 - ETA: 28:21 - loss: 3.49 - ETA: 28:20 - loss: 3.49 - ETA: 28:19 - loss: 3.49 - ETA: 28:19 - loss: 3.49 - ETA: 28:18 - loss: 3.49 - ETA: 28:17 - loss: 3.49 - ETA: 28:16 - loss: 3.49 - ETA: 28:16 - loss: 3.50 - ETA: 28:15 - loss: 3.50 - ETA: 28:14 - loss: 3.50 - ETA: 28:14 - loss: 3.50 - ETA: 28:13 - loss: 3.50 - ETA: 28:12 - loss: 3.50 - ETA: 28:11 - loss: 3.50 - ETA: 28:11 - loss: 3.50 - ETA: 28:10 - loss: 3.50 - ETA: 28:09 - loss: 3.50 - ETA: 28:08 - loss: 3.50 - ETA: 28:08 - loss: 3.50 - ETA: 28:07 - loss: 3.50 - ETA: 28:06 - loss: 3.50 - ETA: 28:05 - loss: 3.50 - ETA: 28:05 - loss: 3.50 - ETA: 28:04 - loss: 3.50 - ETA: 28:03 - loss: 3.50 - ETA: 28:02 - loss: 3.50 - ETA: 28:02 - loss: 3.50 - ETA: 28:01 - loss: 3.50 - ETA: 28:00 - loss: 3.50 - ETA: 28:00 - loss: 3.50 - ETA: 27:59 - loss: 3.50 - ETA: 27:58 - loss: 3.50 - ETA: 27:57 - loss: 3.50 - ETA: 27:57 - loss: 3.50 - ETA: 27:56 - loss: 3.50 - ETA: 27:55 - loss: 3.50 - ETA: 27:54 - loss: 3.50 - ETA: 27:54 - loss: 3.50 - ETA: 27:53 - loss: 3.50 - ETA: 27:52 - loss: 3.50 - ETA: 27:52 - loss: 3.50 - ETA: 27:51 - loss: 3.50 - ETA: 27:50 - loss: 3.50 - ETA: 27:49 - loss: 3.50 - ETA: 27:49 - loss: 3.50 - ETA: 27:48 - loss: 3.50 - ETA: 27:47 - loss: 3.50 - ETA: 27:47 - loss: 3.50 - ETA: 27:46 - loss: 3.50 - ETA: 27:45 - loss: 3.50 - ETA: 27:45 - loss: 3.50 - ETA: 27:44 - loss: 3.50 - ETA: 27:44 - loss: 3.50 - ETA: 27:43 - loss: 3.50 - ETA: 27:43 - loss: 3.50 - ETA: 27:42 - loss: 3.50 - ETA: 27:42 - loss: 3.50 - ETA: 27:41 - loss: 3.50 - ETA: 27:40 - loss: 3.50 - ETA: 27:40 - loss: 3.50 - ETA: 27:39 - loss: 3.50 - ETA: 27:39 - loss: 3.50 - ETA: 27:38 - loss: 3.50 - ETA: 27:38 - loss: 3.50 - ETA: 27:37 - loss: 3.50 - ETA: 27:37 - loss: 3.50 - ETA: 27:36 - loss: 3.50 - ETA: 27:35 - loss: 3.50 - ETA: 27:35 - loss: 3.50 - ETA: 27:34 - loss: 3.50 - ETA: 27:34 - loss: 3.50 - ETA: 27:33 - loss: 3.50 - ETA: 27:32 - loss: 3.50 - ETA: 27:32 - loss: 3.50 - ETA: 27:31 - loss: 3.50 - ETA: 27:31 - loss: 3.50 - ETA: 27:30 - loss: 3.50 - ETA: 27:29 - loss: 3.50 - ETA: 27:29 - loss: 3.50 - ETA: 27:28 - loss: 3.50 - ETA: 27:27 - loss: 3.50 - ETA: 27:26 - loss: 3.50 - ETA: 27:26 - loss: 3.50 - ETA: 27:25 - loss: 3.50 - ETA: 27:24 - loss: 3.50 - ETA: 27:24 - loss: 3.50 - ETA: 27:23 - loss: 3.50 - ETA: 27:22 - loss: 3.50 - ETA: 27:21 - loss: 3.50 - ETA: 27:21 - loss: 3.50 - ETA: 27:20 - loss: 3.50 - ETA: 27:19 - loss: 3.50 - ETA: 27:19 - loss: 3.50 - ETA: 27:18 - loss: 3.50 - ETA: 27:17 - loss: 3.50 - ETA: 27:16 - loss: 3.50 - ETA: 27:16 - loss: 3.50 - ETA: 27:15 - loss: 3.50 - ETA: 27:14 - loss: 3.50 - ETA: 27:14 - loss: 3.50 - ETA: 27:13 - loss: 3.50 - ETA: 27:12 - loss: 3.50 - ETA: 27:11 - loss: 3.50 - ETA: 27:11 - loss: 3.50 - ETA: 27:10 - loss: 3.50 - ETA: 27:09 - loss: 3.50 - ETA: 27:09 - loss: 3.50 - ETA: 27:08 - loss: 3.50 - ETA: 27:07 - loss: 3.50 - ETA: 27:06 - loss: 3.50 - ETA: 27:06 - loss: 3.50 - ETA: 27:05 - loss: 3.50 - ETA: 27:04 - loss: 3.50 - ETA: 27:03 - loss: 3.50 - ETA: 27:03 - loss: 3.50 - ETA: 27:02 - loss: 3.50 - ETA: 27:01 - loss: 3.50 - ETA: 27:01 - loss: 3.50 - ETA: 27:00 - loss: 3.50 - ETA: 26:59 - loss: 3.50 - ETA: 26:58 - loss: 3.50 - ETA: 26:58 - loss: 3.50 - ETA: 26:57 - loss: 3.50 - ETA: 26:56 - loss: 3.50 - ETA: 26:55 - loss: 3.50 - ETA: 26:55 - loss: 3.50 - ETA: 26:54 - loss: 3.50 - ETA: 26:53 - loss: 3.50 - ETA: 26:53 - loss: 3.50 - ETA: 26:52 - loss: 3.50 - ETA: 26:51 - loss: 3.50 - ETA: 26:50 - loss: 3.50 - ETA: 26:50 - loss: 3.50 - ETA: 26:49 - loss: 3.50 - ETA: 26:48 - loss: 3.50 - ETA: 26:47 - loss: 3.50 - ETA: 26:47 - loss: 3.50 - ETA: 26:46 - loss: 3.50 - ETA: 26:45 - loss: 3.50 - ETA: 26:45 - loss: 3.50 - ETA: 26:44 - loss: 3.50 - ETA: 26:43 - loss: 3.50 - ETA: 26:43 - loss: 3.50 - ETA: 26:42 - loss: 3.50 - ETA: 26:41 - loss: 3.50 - ETA: 26:41 - loss: 3.50 - ETA: 26:40 - loss: 3.50 - ETA: 26:40 - loss: 3.50 - ETA: 26:39 - loss: 3.50 - ETA: 26:38 - loss: 3.50 - ETA: 26:38 - loss: 3.50 - ETA: 26:37 - loss: 3.50 - ETA: 26:36 - loss: 3.50 - ETA: 26:36 - loss: 3.50 - ETA: 26:35 - loss: 3.50 - ETA: 26:34 - loss: 3.50 - ETA: 26:34 - loss: 3.50 - ETA: 26:33 - loss: 3.50 - ETA: 26:32 - loss: 3.50 - ETA: 26:32 - loss: 3.50 - ETA: 26:31 - loss: 3.50 - ETA: 26:31 - loss: 3.50 - ETA: 26:30 - loss: 3.50 - ETA: 26:30 - loss: 3.50 - ETA: 26:29 - loss: 3.50 - ETA: 26:29 - loss: 3.50 - ETA: 26:28 - loss: 3.50 - ETA: 26:28 - loss: 3.50 - ETA: 26:27 - loss: 3.50 - ETA: 26:26 - loss: 3.50 - ETA: 26:26 - loss: 3.50 - ETA: 26:25 - loss: 3.50 - ETA: 26:24 - loss: 3.50 - ETA: 26:24 - loss: 3.50 - ETA: 26:23 - loss: 3.50 - ETA: 26:22 - loss: 3.50 - ETA: 26:22 - loss: 3.50 - ETA: 26:21 - loss: 3.50 - ETA: 26:20 - loss: 3.50 - ETA: 26:20 - loss: 3.50 - ETA: 26:19 - loss: 3.50 - ETA: 26:18 - loss: 3.50 - ETA: 26:18 - loss: 3.50 - ETA: 26:17 - loss: 3.50 - ETA: 26:17 - loss: 3.50 - ETA: 26:16 - loss: 3.50 - ETA: 26:16 - loss: 3.50 - ETA: 26:15 - loss: 3.50 - ETA: 26:15 - loss: 3.50 - ETA: 26:14 - loss: 3.50 - ETA: 26:14 - loss: 3.50 - ETA: 26:13 - loss: 3.50 - ETA: 26:12 - loss: 3.50 - ETA: 26:12 - loss: 3.50 - ETA: 26:11 - loss: 3.50 - ETA: 26:10 - loss: 3.50 - ETA: 26:10 - loss: 3.50 - ETA: 26:09 - loss: 3.50 - ETA: 26:08 - loss: 3.50 - ETA: 26:08 - loss: 3.50 - ETA: 26:07 - loss: 3.50 - ETA: 26:07 - loss: 3.50 - ETA: 26:06 - loss: 3.50 - ETA: 26:06 - loss: 3.50 - ETA: 26:05 - loss: 3.50 - ETA: 26:05 - loss: 3.50 - ETA: 26:04 - loss: 3.50 - ETA: 26:04 - loss: 3.50 - ETA: 26:03 - loss: 3.50 - ETA: 26:03 - loss: 3.50 - ETA: 26:02 - loss: 3.50 - ETA: 26:01 - loss: 3.50 - ETA: 26:01 - loss: 3.50 - ETA: 26:00 - loss: 3.50 - ETA: 26:00 - loss: 3.50 - ETA: 26:00 - loss: 3.50 - ETA: 25:59 - loss: 3.50 - ETA: 25:59 - loss: 3.50 - ETA: 25:58 - loss: 3.50 - ETA: 25:58 - loss: 3.50 - ETA: 25:57 - loss: 3.50 - ETA: 25:56 - loss: 3.50 - ETA: 25:56 - loss: 3.50 - ETA: 25:55 - loss: 3.50 - ETA: 25:55 - loss: 3.50 - ETA: 25:54 - loss: 3.50 - ETA: 25:53 - loss: 3.50 - ETA: 25:53 - loss: 3.50 - ETA: 25:52 - loss: 3.50 - ETA: 25:51 - loss: 3.50 - ETA: 25:51 - loss: 3.50 - ETA: 25:50 - loss: 3.50 - ETA: 25:50 - loss: 3.50 - ETA: 25:49 - loss: 3.50 - ETA: 25:48 - loss: 3.50 - ETA: 25:48 - loss: 3.50 - ETA: 25:47 - loss: 3.50 - ETA: 25:46 - loss: 3.50 - ETA: 25:46 - loss: 3.50 - ETA: 25:45 - loss: 3.50 - ETA: 25:45 - loss: 3.50 - ETA: 25:44 - loss: 3.50 - ETA: 25:43 - loss: 3.50 - ETA: 25:43 - loss: 3.50 - ETA: 25:42 - loss: 3.50 - ETA: 25:42 - loss: 3.50 - ETA: 25:41 - loss: 3.50 - ETA: 25:40 - loss: 3.50 - ETA: 25:40 - loss: 3.50 - ETA: 25:39 - loss: 3.50 - ETA: 25:39 - loss: 3.50 - ETA: 25:38 - loss: 3.50 - ETA: 25:37 - loss: 3.50 - ETA: 25:37 - loss: 3.50 - ETA: 25:36 - loss: 3.50 - ETA: 25:36 - loss: 3.50 - ETA: 25:35 - loss: 3.50 - ETA: 25:34 - loss: 3.50 - ETA: 25:34 - loss: 3.50 - ETA: 25:33 - loss: 3.50 - ETA: 25:32 - loss: 3.50 - ETA: 25:32 - loss: 3.50 - ETA: 25:31 - loss: 3.50 - ETA: 25:30 - loss: 3.50 - ETA: 25:30 - loss: 3.50 - ETA: 25:29 - loss: 3.50 - ETA: 25:29 - loss: 3.50 - ETA: 25:28 - loss: 3.50 - ETA: 25:27 - loss: 3.50 - ETA: 25:27 - loss: 3.50 - ETA: 25:26 - loss: 3.50 - ETA: 25:25 - loss: 3.50 - ETA: 25:25 - loss: 3.50 - ETA: 25:24 - loss: 3.50 - ETA: 25:24 - loss: 3.50 - ETA: 25:23 - loss: 3.50 - ETA: 25:22 - loss: 3.50 - ETA: 25:22 - loss: 3.50 - ETA: 25:21 - loss: 3.50 - ETA: 25:20 - loss: 3.50 - ETA: 25:20 - loss: 3.50 - ETA: 25:19 - loss: 3.50 - ETA: 25:18 - loss: 3.50 - ETA: 25:17 - loss: 3.50 - ETA: 25:17 - loss: 3.50 - ETA: 25:16 - loss: 3.50 - ETA: 25:15 - loss: 3.5058"
     ]
    },
    {
     "name": "stdout",
     "output_type": "stream",
     "text": [
      "2511/4335 [================>.............] - ETA: 25:15 - loss: 3.50 - ETA: 25:14 - loss: 3.50 - ETA: 25:13 - loss: 3.50 - ETA: 25:13 - loss: 3.50 - ETA: 25:12 - loss: 3.50 - ETA: 25:11 - loss: 3.50 - ETA: 25:11 - loss: 3.50 - ETA: 25:10 - loss: 3.50 - ETA: 25:09 - loss: 3.50 - ETA: 25:09 - loss: 3.50 - ETA: 25:08 - loss: 3.50 - ETA: 25:07 - loss: 3.50 - ETA: 25:06 - loss: 3.50 - ETA: 25:06 - loss: 3.50 - ETA: 25:05 - loss: 3.50 - ETA: 25:04 - loss: 3.50 - ETA: 25:04 - loss: 3.50 - ETA: 25:03 - loss: 3.50 - ETA: 25:02 - loss: 3.50 - ETA: 25:02 - loss: 3.50 - ETA: 25:01 - loss: 3.50 - ETA: 25:00 - loss: 3.50 - ETA: 25:00 - loss: 3.50 - ETA: 24:59 - loss: 3.50 - ETA: 24:58 - loss: 3.50 - ETA: 24:57 - loss: 3.50 - ETA: 24:57 - loss: 3.50 - ETA: 24:56 - loss: 3.50 - ETA: 24:55 - loss: 3.50 - ETA: 24:55 - loss: 3.50 - ETA: 24:54 - loss: 3.50 - ETA: 24:53 - loss: 3.50 - ETA: 24:53 - loss: 3.50 - ETA: 24:52 - loss: 3.50 - ETA: 24:51 - loss: 3.50 - ETA: 24:51 - loss: 3.50 - ETA: 24:50 - loss: 3.50 - ETA: 24:49 - loss: 3.50 - ETA: 24:49 - loss: 3.50 - ETA: 24:48 - loss: 3.50 - ETA: 24:47 - loss: 3.50 - ETA: 24:47 - loss: 3.50 - ETA: 24:46 - loss: 3.50 - ETA: 24:45 - loss: 3.50 - ETA: 24:45 - loss: 3.50 - ETA: 24:44 - loss: 3.50 - ETA: 24:43 - loss: 3.50 - ETA: 24:42 - loss: 3.50 - ETA: 24:42 - loss: 3.50 - ETA: 24:41 - loss: 3.50 - ETA: 24:40 - loss: 3.50 - ETA: 24:40 - loss: 3.50 - ETA: 24:39 - loss: 3.50 - ETA: 24:38 - loss: 3.50 - ETA: 24:38 - loss: 3.50 - ETA: 24:37 - loss: 3.50 - ETA: 24:36 - loss: 3.50 - ETA: 24:36 - loss: 3.50 - ETA: 24:35 - loss: 3.50 - ETA: 24:34 - loss: 3.50 - ETA: 24:34 - loss: 3.50 - ETA: 24:33 - loss: 3.50 - ETA: 24:32 - loss: 3.50 - ETA: 24:32 - loss: 3.50 - ETA: 24:31 - loss: 3.50 - ETA: 24:30 - loss: 3.50 - ETA: 24:29 - loss: 3.50 - ETA: 24:29 - loss: 3.50 - ETA: 24:28 - loss: 3.50 - ETA: 24:27 - loss: 3.50 - ETA: 24:27 - loss: 3.50 - ETA: 24:26 - loss: 3.50 - ETA: 24:25 - loss: 3.50 - ETA: 24:25 - loss: 3.50 - ETA: 24:24 - loss: 3.50 - ETA: 24:23 - loss: 3.50 - ETA: 24:23 - loss: 3.50 - ETA: 24:22 - loss: 3.50 - ETA: 24:21 - loss: 3.50 - ETA: 24:21 - loss: 3.50 - ETA: 24:20 - loss: 3.50 - ETA: 24:19 - loss: 3.50 - ETA: 24:19 - loss: 3.50 - ETA: 24:18 - loss: 3.50 - ETA: 24:17 - loss: 3.50 - ETA: 24:17 - loss: 3.50 - ETA: 24:16 - loss: 3.50 - ETA: 24:15 - loss: 3.50 - ETA: 24:14 - loss: 3.50 - ETA: 24:14 - loss: 3.50 - ETA: 24:13 - loss: 3.50 - ETA: 24:12 - loss: 3.50 - ETA: 24:12 - loss: 3.50 - ETA: 24:11 - loss: 3.50 - ETA: 24:10 - loss: 3.50 - ETA: 24:10 - loss: 3.50 - ETA: 24:09 - loss: 3.50 - ETA: 24:08 - loss: 3.50 - ETA: 24:08 - loss: 3.50 - ETA: 24:07 - loss: 3.50 - ETA: 24:06 - loss: 3.50 - ETA: 24:06 - loss: 3.50 - ETA: 24:05 - loss: 3.50 - ETA: 24:04 - loss: 3.50 - ETA: 24:04 - loss: 3.50 - ETA: 24:03 - loss: 3.50 - ETA: 24:02 - loss: 3.50 - ETA: 24:02 - loss: 3.50 - ETA: 24:01 - loss: 3.50 - ETA: 24:00 - loss: 3.50 - ETA: 23:59 - loss: 3.50 - ETA: 23:59 - loss: 3.50 - ETA: 23:58 - loss: 3.50 - ETA: 23:57 - loss: 3.50 - ETA: 23:57 - loss: 3.50 - ETA: 23:56 - loss: 3.50 - ETA: 23:55 - loss: 3.50 - ETA: 23:55 - loss: 3.50 - ETA: 23:54 - loss: 3.50 - ETA: 23:53 - loss: 3.50 - ETA: 23:53 - loss: 3.50 - ETA: 23:52 - loss: 3.50 - ETA: 23:51 - loss: 3.50 - ETA: 23:50 - loss: 3.50 - ETA: 23:50 - loss: 3.50 - ETA: 23:49 - loss: 3.50 - ETA: 23:48 - loss: 3.50 - ETA: 23:48 - loss: 3.50 - ETA: 23:47 - loss: 3.50 - ETA: 23:46 - loss: 3.50 - ETA: 23:46 - loss: 3.50 - ETA: 23:45 - loss: 3.50 - ETA: 23:44 - loss: 3.50 - ETA: 23:44 - loss: 3.50 - ETA: 23:43 - loss: 3.50 - ETA: 23:42 - loss: 3.50 - ETA: 23:42 - loss: 3.50 - ETA: 23:41 - loss: 3.50 - ETA: 23:40 - loss: 3.50 - ETA: 23:39 - loss: 3.50 - ETA: 23:39 - loss: 3.50 - ETA: 23:38 - loss: 3.50 - ETA: 23:37 - loss: 3.50 - ETA: 23:37 - loss: 3.50 - ETA: 23:36 - loss: 3.50 - ETA: 23:35 - loss: 3.50 - ETA: 23:35 - loss: 3.50 - ETA: 23:34 - loss: 3.50 - ETA: 23:33 - loss: 3.50 - ETA: 23:33 - loss: 3.50 - ETA: 23:32 - loss: 3.50 - ETA: 23:31 - loss: 3.50 - ETA: 23:30 - loss: 3.50 - ETA: 23:30 - loss: 3.50 - ETA: 23:29 - loss: 3.50 - ETA: 23:28 - loss: 3.50 - ETA: 23:28 - loss: 3.50 - ETA: 23:27 - loss: 3.50 - ETA: 23:26 - loss: 3.50 - ETA: 23:26 - loss: 3.50 - ETA: 23:25 - loss: 3.50 - ETA: 23:24 - loss: 3.50 - ETA: 23:23 - loss: 3.50 - ETA: 23:23 - loss: 3.50 - ETA: 23:22 - loss: 3.50 - ETA: 23:21 - loss: 3.50 - ETA: 23:21 - loss: 3.50 - ETA: 23:20 - loss: 3.50 - ETA: 23:19 - loss: 3.50 - ETA: 23:19 - loss: 3.50 - ETA: 23:18 - loss: 3.50 - ETA: 23:17 - loss: 3.50 - ETA: 23:17 - loss: 3.50 - ETA: 23:16 - loss: 3.50 - ETA: 23:15 - loss: 3.50 - ETA: 23:14 - loss: 3.50 - ETA: 23:14 - loss: 3.50 - ETA: 23:13 - loss: 3.50 - ETA: 23:12 - loss: 3.50 - ETA: 23:12 - loss: 3.50 - ETA: 23:11 - loss: 3.50 - ETA: 23:10 - loss: 3.50 - ETA: 23:10 - loss: 3.50 - ETA: 23:09 - loss: 3.50 - ETA: 23:08 - loss: 3.50 - ETA: 23:07 - loss: 3.50 - ETA: 23:07 - loss: 3.50 - ETA: 23:06 - loss: 3.50 - ETA: 23:05 - loss: 3.50 - ETA: 23:05 - loss: 3.50 - ETA: 23:04 - loss: 3.50 - ETA: 23:03 - loss: 3.50 - ETA: 23:03 - loss: 3.50 - ETA: 23:02 - loss: 3.50 - ETA: 23:01 - loss: 3.50 - ETA: 23:01 - loss: 3.50 - ETA: 23:00 - loss: 3.50 - ETA: 22:59 - loss: 3.50 - ETA: 22:58 - loss: 3.50 - ETA: 22:58 - loss: 3.50 - ETA: 22:57 - loss: 3.50 - ETA: 22:56 - loss: 3.50 - ETA: 22:56 - loss: 3.50 - ETA: 22:55 - loss: 3.50 - ETA: 22:54 - loss: 3.50 - ETA: 22:54 - loss: 3.50 - ETA: 22:53 - loss: 3.50 - ETA: 22:52 - loss: 3.50 - ETA: 22:51 - loss: 3.50 - ETA: 22:51 - loss: 3.50 - ETA: 22:50 - loss: 3.50 - ETA: 22:49 - loss: 3.50 - ETA: 22:49 - loss: 3.50 - ETA: 22:48 - loss: 3.50 - ETA: 22:47 - loss: 3.50 - ETA: 22:47 - loss: 3.50 - ETA: 22:46 - loss: 3.50 - ETA: 22:45 - loss: 3.50 - ETA: 22:44 - loss: 3.50 - ETA: 22:44 - loss: 3.50 - ETA: 22:43 - loss: 3.50 - ETA: 22:42 - loss: 3.50 - ETA: 22:42 - loss: 3.50 - ETA: 22:41 - loss: 3.50 - ETA: 22:40 - loss: 3.50 - ETA: 22:40 - loss: 3.50 - ETA: 22:39 - loss: 3.50 - ETA: 22:38 - loss: 3.50 - ETA: 22:38 - loss: 3.50 - ETA: 22:37 - loss: 3.50 - ETA: 22:36 - loss: 3.50 - ETA: 22:35 - loss: 3.50 - ETA: 22:35 - loss: 3.50 - ETA: 22:34 - loss: 3.50 - ETA: 22:33 - loss: 3.50 - ETA: 22:33 - loss: 3.50 - ETA: 22:32 - loss: 3.50 - ETA: 22:31 - loss: 3.50 - ETA: 22:31 - loss: 3.50 - ETA: 22:30 - loss: 3.50 - ETA: 22:29 - loss: 3.50 - ETA: 22:29 - loss: 3.50 - ETA: 22:28 - loss: 3.50 - ETA: 22:27 - loss: 3.50 - ETA: 22:26 - loss: 3.50 - ETA: 22:26 - loss: 3.50 - ETA: 22:25 - loss: 3.50 - ETA: 22:24 - loss: 3.50 - ETA: 22:24 - loss: 3.50 - ETA: 22:23 - loss: 3.50 - ETA: 22:22 - loss: 3.50 - ETA: 22:22 - loss: 3.50 - ETA: 22:21 - loss: 3.50 - ETA: 22:20 - loss: 3.50 - ETA: 22:20 - loss: 3.50 - ETA: 22:19 - loss: 3.50 - ETA: 22:18 - loss: 3.50 - ETA: 22:18 - loss: 3.50 - ETA: 22:17 - loss: 3.50 - ETA: 22:16 - loss: 3.50 - ETA: 22:16 - loss: 3.50 - ETA: 22:15 - loss: 3.50 - ETA: 22:14 - loss: 3.50 - ETA: 22:13 - loss: 3.50 - ETA: 22:13 - loss: 3.50 - ETA: 22:12 - loss: 3.50 - ETA: 22:11 - loss: 3.50 - ETA: 22:11 - loss: 3.50 - ETA: 22:10 - loss: 3.50 - ETA: 22:09 - loss: 3.50 - ETA: 22:09 - loss: 3.50 - ETA: 22:08 - loss: 3.50 - ETA: 22:07 - loss: 3.50 - ETA: 22:06 - loss: 3.50 - ETA: 22:06 - loss: 3.50 - ETA: 22:05 - loss: 3.50 - ETA: 22:04 - loss: 3.50 - ETA: 22:04 - loss: 3.50 - ETA: 22:03 - loss: 3.50 - ETA: 22:02 - loss: 3.50 - ETA: 22:01 - loss: 3.50 - ETA: 22:01 - loss: 3.50 - ETA: 22:00 - loss: 3.50 - ETA: 21:59 - loss: 3.50 - ETA: 21:59 - loss: 3.50 - ETA: 21:58 - loss: 3.50 - ETA: 21:57 - loss: 3.50 - ETA: 21:57 - loss: 3.50 - ETA: 21:56 - loss: 3.50 - ETA: 21:55 - loss: 3.50 - ETA: 21:54 - loss: 3.50 - ETA: 21:54 - loss: 3.50 - ETA: 21:53 - loss: 3.50 - ETA: 21:52 - loss: 3.50 - ETA: 21:52 - loss: 3.50 - ETA: 21:51 - loss: 3.50 - ETA: 21:51 - loss: 3.50 - ETA: 21:50 - loss: 3.50 - ETA: 21:49 - loss: 3.50 - ETA: 21:49 - loss: 3.50 - ETA: 21:48 - loss: 3.50 - ETA: 21:47 - loss: 3.50 - ETA: 21:47 - loss: 3.50 - ETA: 21:46 - loss: 3.50 - ETA: 21:45 - loss: 3.50 - ETA: 21:45 - loss: 3.50 - ETA: 21:44 - loss: 3.50 - ETA: 21:43 - loss: 3.50 - ETA: 21:43 - loss: 3.50 - ETA: 21:42 - loss: 3.50 - ETA: 21:41 - loss: 3.50 - ETA: 21:41 - loss: 3.50 - ETA: 21:40 - loss: 3.50 - ETA: 21:39 - loss: 3.5095"
     ]
    },
    {
     "name": "stdout",
     "output_type": "stream",
     "text": [
      "2825/4335 [==================>...........] - ETA: 21:39 - loss: 3.50 - ETA: 21:38 - loss: 3.50 - ETA: 21:37 - loss: 3.50 - ETA: 21:37 - loss: 3.50 - ETA: 21:36 - loss: 3.50 - ETA: 21:35 - loss: 3.50 - ETA: 21:35 - loss: 3.50 - ETA: 21:34 - loss: 3.50 - ETA: 21:34 - loss: 3.50 - ETA: 21:33 - loss: 3.50 - ETA: 21:33 - loss: 3.50 - ETA: 21:32 - loss: 3.50 - ETA: 21:32 - loss: 3.50 - ETA: 21:31 - loss: 3.50 - ETA: 21:30 - loss: 3.50 - ETA: 21:30 - loss: 3.50 - ETA: 21:29 - loss: 3.50 - ETA: 21:28 - loss: 3.50 - ETA: 21:28 - loss: 3.50 - ETA: 21:27 - loss: 3.50 - ETA: 21:26 - loss: 3.50 - ETA: 21:26 - loss: 3.50 - ETA: 21:25 - loss: 3.50 - ETA: 21:25 - loss: 3.51 - ETA: 21:24 - loss: 3.50 - ETA: 21:23 - loss: 3.50 - ETA: 21:23 - loss: 3.50 - ETA: 21:22 - loss: 3.50 - ETA: 21:21 - loss: 3.50 - ETA: 21:21 - loss: 3.50 - ETA: 21:20 - loss: 3.50 - ETA: 21:19 - loss: 3.50 - ETA: 21:19 - loss: 3.50 - ETA: 21:18 - loss: 3.50 - ETA: 21:18 - loss: 3.50 - ETA: 21:17 - loss: 3.50 - ETA: 21:16 - loss: 3.50 - ETA: 21:16 - loss: 3.50 - ETA: 21:15 - loss: 3.50 - ETA: 21:14 - loss: 3.50 - ETA: 21:13 - loss: 3.50 - ETA: 21:13 - loss: 3.50 - ETA: 21:12 - loss: 3.50 - ETA: 21:11 - loss: 3.50 - ETA: 21:11 - loss: 3.50 - ETA: 21:10 - loss: 3.50 - ETA: 21:09 - loss: 3.50 - ETA: 21:09 - loss: 3.50 - ETA: 21:08 - loss: 3.50 - ETA: 21:07 - loss: 3.50 - ETA: 21:07 - loss: 3.50 - ETA: 21:06 - loss: 3.50 - ETA: 21:05 - loss: 3.50 - ETA: 21:05 - loss: 3.50 - ETA: 21:04 - loss: 3.50 - ETA: 21:03 - loss: 3.50 - ETA: 21:03 - loss: 3.50 - ETA: 21:02 - loss: 3.50 - ETA: 21:01 - loss: 3.50 - ETA: 21:01 - loss: 3.50 - ETA: 21:00 - loss: 3.50 - ETA: 20:59 - loss: 3.51 - ETA: 20:59 - loss: 3.51 - ETA: 20:58 - loss: 3.51 - ETA: 20:57 - loss: 3.51 - ETA: 20:57 - loss: 3.51 - ETA: 20:56 - loss: 3.51 - ETA: 20:55 - loss: 3.51 - ETA: 20:55 - loss: 3.51 - ETA: 20:54 - loss: 3.51 - ETA: 20:53 - loss: 3.51 - ETA: 20:53 - loss: 3.51 - ETA: 20:52 - loss: 3.51 - ETA: 20:51 - loss: 3.51 - ETA: 20:51 - loss: 3.51 - ETA: 20:50 - loss: 3.51 - ETA: 20:49 - loss: 3.50 - ETA: 20:49 - loss: 3.50 - ETA: 20:48 - loss: 3.50 - ETA: 20:47 - loss: 3.50 - ETA: 20:47 - loss: 3.50 - ETA: 20:46 - loss: 3.50 - ETA: 20:45 - loss: 3.50 - ETA: 20:45 - loss: 3.50 - ETA: 20:44 - loss: 3.50 - ETA: 20:43 - loss: 3.50 - ETA: 20:43 - loss: 3.51 - ETA: 20:42 - loss: 3.50 - ETA: 20:42 - loss: 3.51 - ETA: 20:41 - loss: 3.50 - ETA: 20:41 - loss: 3.50 - ETA: 20:40 - loss: 3.50 - ETA: 20:40 - loss: 3.50 - ETA: 20:39 - loss: 3.50 - ETA: 20:39 - loss: 3.51 - ETA: 20:38 - loss: 3.51 - ETA: 20:38 - loss: 3.50 - ETA: 20:37 - loss: 3.51 - ETA: 20:37 - loss: 3.51 - ETA: 20:36 - loss: 3.51 - ETA: 20:36 - loss: 3.51 - ETA: 20:35 - loss: 3.50 - ETA: 20:35 - loss: 3.50 - ETA: 20:34 - loss: 3.50 - ETA: 20:34 - loss: 3.50 - ETA: 20:33 - loss: 3.50 - ETA: 20:32 - loss: 3.50 - ETA: 20:32 - loss: 3.50 - ETA: 20:31 - loss: 3.50 - ETA: 20:31 - loss: 3.50 - ETA: 20:30 - loss: 3.50 - ETA: 20:29 - loss: 3.50 - ETA: 20:29 - loss: 3.51 - ETA: 20:28 - loss: 3.50 - ETA: 20:28 - loss: 3.51 - ETA: 20:27 - loss: 3.51 - ETA: 20:26 - loss: 3.51 - ETA: 20:26 - loss: 3.51 - ETA: 20:25 - loss: 3.51 - ETA: 20:25 - loss: 3.50 - ETA: 20:24 - loss: 3.50 - ETA: 20:23 - loss: 3.51 - ETA: 20:23 - loss: 3.51 - ETA: 20:22 - loss: 3.51 - ETA: 20:22 - loss: 3.51 - ETA: 20:21 - loss: 3.51 - ETA: 20:20 - loss: 3.51 - ETA: 20:20 - loss: 3.51 - ETA: 20:19 - loss: 3.50 - ETA: 20:18 - loss: 3.50 - ETA: 20:18 - loss: 3.50 - ETA: 20:17 - loss: 3.50 - ETA: 20:17 - loss: 3.50 - ETA: 20:16 - loss: 3.51 - ETA: 20:15 - loss: 3.51 - ETA: 20:15 - loss: 3.51 - ETA: 20:14 - loss: 3.51 - ETA: 20:13 - loss: 3.51 - ETA: 20:13 - loss: 3.51 - ETA: 20:12 - loss: 3.51 - ETA: 20:11 - loss: 3.51 - ETA: 20:11 - loss: 3.51 - ETA: 20:10 - loss: 3.51 - ETA: 20:10 - loss: 3.51 - ETA: 20:09 - loss: 3.51 - ETA: 20:09 - loss: 3.51 - ETA: 20:08 - loss: 3.51 - ETA: 20:08 - loss: 3.51 - ETA: 20:07 - loss: 3.51 - ETA: 20:06 - loss: 3.51 - ETA: 20:06 - loss: 3.51 - ETA: 20:05 - loss: 3.51 - ETA: 20:04 - loss: 3.51 - ETA: 20:04 - loss: 3.51 - ETA: 20:03 - loss: 3.51 - ETA: 20:02 - loss: 3.51 - ETA: 20:02 - loss: 3.51 - ETA: 20:01 - loss: 3.51 - ETA: 20:00 - loss: 3.51 - ETA: 20:00 - loss: 3.51 - ETA: 19:59 - loss: 3.51 - ETA: 19:58 - loss: 3.51 - ETA: 19:58 - loss: 3.51 - ETA: 19:57 - loss: 3.51 - ETA: 19:57 - loss: 3.51 - ETA: 19:56 - loss: 3.51 - ETA: 19:55 - loss: 3.51 - ETA: 19:55 - loss: 3.51 - ETA: 19:54 - loss: 3.51 - ETA: 19:53 - loss: 3.51 - ETA: 19:53 - loss: 3.51 - ETA: 19:52 - loss: 3.51 - ETA: 19:52 - loss: 3.51 - ETA: 19:51 - loss: 3.51 - ETA: 19:50 - loss: 3.51 - ETA: 19:50 - loss: 3.51 - ETA: 19:49 - loss: 3.51 - ETA: 19:48 - loss: 3.51 - ETA: 19:48 - loss: 3.51 - ETA: 19:47 - loss: 3.51 - ETA: 19:47 - loss: 3.51 - ETA: 19:46 - loss: 3.51 - ETA: 19:45 - loss: 3.51 - ETA: 19:45 - loss: 3.51 - ETA: 19:44 - loss: 3.51 - ETA: 19:43 - loss: 3.51 - ETA: 19:43 - loss: 3.51 - ETA: 19:42 - loss: 3.51 - ETA: 19:41 - loss: 3.51 - ETA: 19:41 - loss: 3.51 - ETA: 19:40 - loss: 3.51 - ETA: 19:40 - loss: 3.51 - ETA: 19:39 - loss: 3.51 - ETA: 19:38 - loss: 3.51 - ETA: 19:38 - loss: 3.51 - ETA: 19:37 - loss: 3.51 - ETA: 19:36 - loss: 3.51 - ETA: 19:36 - loss: 3.51 - ETA: 19:35 - loss: 3.51 - ETA: 19:34 - loss: 3.51 - ETA: 19:34 - loss: 3.51 - ETA: 19:33 - loss: 3.51 - ETA: 19:32 - loss: 3.51 - ETA: 19:31 - loss: 3.51 - ETA: 19:31 - loss: 3.51 - ETA: 19:30 - loss: 3.51 - ETA: 19:29 - loss: 3.51 - ETA: 19:29 - loss: 3.51 - ETA: 19:28 - loss: 3.51 - ETA: 19:28 - loss: 3.51 - ETA: 19:27 - loss: 3.51 - ETA: 19:26 - loss: 3.51 - ETA: 19:26 - loss: 3.51 - ETA: 19:25 - loss: 3.51 - ETA: 19:25 - loss: 3.51 - ETA: 19:24 - loss: 3.51 - ETA: 19:23 - loss: 3.51 - ETA: 19:23 - loss: 3.51 - ETA: 19:22 - loss: 3.51 - ETA: 19:21 - loss: 3.51 - ETA: 19:21 - loss: 3.51 - ETA: 19:20 - loss: 3.51 - ETA: 19:20 - loss: 3.51 - ETA: 19:19 - loss: 3.51 - ETA: 19:18 - loss: 3.51 - ETA: 19:18 - loss: 3.51 - ETA: 19:17 - loss: 3.51 - ETA: 19:16 - loss: 3.51 - ETA: 19:15 - loss: 3.51 - ETA: 19:15 - loss: 3.51 - ETA: 19:14 - loss: 3.51 - ETA: 19:14 - loss: 3.51 - ETA: 19:13 - loss: 3.51 - ETA: 19:12 - loss: 3.51 - ETA: 19:12 - loss: 3.51 - ETA: 19:11 - loss: 3.51 - ETA: 19:11 - loss: 3.51 - ETA: 19:10 - loss: 3.51 - ETA: 19:10 - loss: 3.51 - ETA: 19:09 - loss: 3.51 - ETA: 19:08 - loss: 3.51 - ETA: 19:08 - loss: 3.51 - ETA: 19:07 - loss: 3.51 - ETA: 19:06 - loss: 3.51 - ETA: 19:06 - loss: 3.51 - ETA: 19:05 - loss: 3.51 - ETA: 19:05 - loss: 3.51 - ETA: 19:04 - loss: 3.51 - ETA: 19:03 - loss: 3.51 - ETA: 19:03 - loss: 3.51 - ETA: 19:02 - loss: 3.51 - ETA: 19:01 - loss: 3.51 - ETA: 19:01 - loss: 3.51 - ETA: 19:00 - loss: 3.51 - ETA: 19:00 - loss: 3.51 - ETA: 19:00 - loss: 3.51 - ETA: 18:59 - loss: 3.51 - ETA: 18:59 - loss: 3.51 - ETA: 18:58 - loss: 3.51 - ETA: 18:58 - loss: 3.51 - ETA: 18:58 - loss: 3.51 - ETA: 18:57 - loss: 3.51 - ETA: 18:57 - loss: 3.51 - ETA: 18:56 - loss: 3.51 - ETA: 18:56 - loss: 3.51 - ETA: 18:55 - loss: 3.51 - ETA: 18:55 - loss: 3.51 - ETA: 18:54 - loss: 3.51 - ETA: 18:54 - loss: 3.51 - ETA: 18:53 - loss: 3.51 - ETA: 18:53 - loss: 3.51 - ETA: 18:52 - loss: 3.51 - ETA: 18:52 - loss: 3.51 - ETA: 18:51 - loss: 3.51 - ETA: 18:51 - loss: 3.51 - ETA: 18:50 - loss: 3.51 - ETA: 18:50 - loss: 3.51 - ETA: 18:49 - loss: 3.51 - ETA: 18:49 - loss: 3.51 - ETA: 18:48 - loss: 3.51 - ETA: 18:48 - loss: 3.51 - ETA: 18:47 - loss: 3.51 - ETA: 18:47 - loss: 3.51 - ETA: 18:46 - loss: 3.51 - ETA: 18:46 - loss: 3.51 - ETA: 18:46 - loss: 3.51 - ETA: 18:45 - loss: 3.51 - ETA: 18:45 - loss: 3.51 - ETA: 18:44 - loss: 3.51 - ETA: 18:44 - loss: 3.51 - ETA: 18:43 - loss: 3.51 - ETA: 18:43 - loss: 3.51 - ETA: 18:42 - loss: 3.51 - ETA: 18:42 - loss: 3.51 - ETA: 18:41 - loss: 3.51 - ETA: 18:41 - loss: 3.51 - ETA: 18:40 - loss: 3.51 - ETA: 18:40 - loss: 3.51 - ETA: 18:39 - loss: 3.51 - ETA: 18:39 - loss: 3.51 - ETA: 18:38 - loss: 3.51 - ETA: 18:37 - loss: 3.51 - ETA: 18:37 - loss: 3.51 - ETA: 18:36 - loss: 3.51 - ETA: 18:36 - loss: 3.51 - ETA: 18:35 - loss: 3.51 - ETA: 18:34 - loss: 3.51 - ETA: 18:34 - loss: 3.51 - ETA: 18:33 - loss: 3.51 - ETA: 18:33 - loss: 3.51 - ETA: 18:32 - loss: 3.51 - ETA: 18:32 - loss: 3.51 - ETA: 18:31 - loss: 3.51 - ETA: 18:30 - loss: 3.5136"
     ]
    },
    {
     "name": "stdout",
     "output_type": "stream",
     "text": [
      "3139/4335 [====================>.........] - ETA: 18:30 - loss: 3.51 - ETA: 18:29 - loss: 3.51 - ETA: 18:29 - loss: 3.51 - ETA: 18:28 - loss: 3.51 - ETA: 18:28 - loss: 3.51 - ETA: 18:27 - loss: 3.51 - ETA: 18:27 - loss: 3.51 - ETA: 18:26 - loss: 3.51 - ETA: 18:26 - loss: 3.51 - ETA: 18:25 - loss: 3.51 - ETA: 18:25 - loss: 3.51 - ETA: 18:24 - loss: 3.51 - ETA: 18:23 - loss: 3.51 - ETA: 18:23 - loss: 3.51 - ETA: 18:22 - loss: 3.51 - ETA: 18:22 - loss: 3.51 - ETA: 18:21 - loss: 3.51 - ETA: 18:21 - loss: 3.51 - ETA: 18:20 - loss: 3.51 - ETA: 18:20 - loss: 3.51 - ETA: 18:19 - loss: 3.51 - ETA: 18:19 - loss: 3.51 - ETA: 18:18 - loss: 3.51 - ETA: 18:18 - loss: 3.51 - ETA: 18:17 - loss: 3.51 - ETA: 18:17 - loss: 3.51 - ETA: 18:16 - loss: 3.51 - ETA: 18:15 - loss: 3.51 - ETA: 18:15 - loss: 3.51 - ETA: 18:14 - loss: 3.51 - ETA: 18:13 - loss: 3.51 - ETA: 18:13 - loss: 3.51 - ETA: 18:12 - loss: 3.51 - ETA: 18:11 - loss: 3.51 - ETA: 18:11 - loss: 3.51 - ETA: 18:10 - loss: 3.51 - ETA: 18:09 - loss: 3.51 - ETA: 18:09 - loss: 3.51 - ETA: 18:08 - loss: 3.51 - ETA: 18:08 - loss: 3.51 - ETA: 18:07 - loss: 3.51 - ETA: 18:07 - loss: 3.51 - ETA: 18:06 - loss: 3.51 - ETA: 18:05 - loss: 3.51 - ETA: 18:05 - loss: 3.51 - ETA: 18:04 - loss: 3.51 - ETA: 18:04 - loss: 3.51 - ETA: 18:03 - loss: 3.51 - ETA: 18:03 - loss: 3.51 - ETA: 18:02 - loss: 3.51 - ETA: 18:01 - loss: 3.51 - ETA: 18:01 - loss: 3.51 - ETA: 18:00 - loss: 3.51 - ETA: 18:00 - loss: 3.51 - ETA: 17:59 - loss: 3.51 - ETA: 17:58 - loss: 3.51 - ETA: 17:58 - loss: 3.51 - ETA: 17:57 - loss: 3.51 - ETA: 17:57 - loss: 3.51 - ETA: 17:56 - loss: 3.51 - ETA: 17:55 - loss: 3.51 - ETA: 17:55 - loss: 3.51 - ETA: 17:54 - loss: 3.51 - ETA: 17:53 - loss: 3.51 - ETA: 17:53 - loss: 3.51 - ETA: 17:52 - loss: 3.51 - ETA: 17:52 - loss: 3.51 - ETA: 17:51 - loss: 3.51 - ETA: 17:50 - loss: 3.51 - ETA: 17:50 - loss: 3.51 - ETA: 17:49 - loss: 3.51 - ETA: 17:48 - loss: 3.51 - ETA: 17:48 - loss: 3.51 - ETA: 17:47 - loss: 3.51 - ETA: 17:47 - loss: 3.51 - ETA: 17:46 - loss: 3.51 - ETA: 17:45 - loss: 3.51 - ETA: 17:45 - loss: 3.51 - ETA: 17:44 - loss: 3.51 - ETA: 17:44 - loss: 3.51 - ETA: 17:43 - loss: 3.51 - ETA: 17:42 - loss: 3.51 - ETA: 17:42 - loss: 3.51 - ETA: 17:41 - loss: 3.51 - ETA: 17:40 - loss: 3.51 - ETA: 17:40 - loss: 3.51 - ETA: 17:39 - loss: 3.51 - ETA: 17:39 - loss: 3.51 - ETA: 17:38 - loss: 3.51 - ETA: 17:37 - loss: 3.51 - ETA: 17:37 - loss: 3.51 - ETA: 17:36 - loss: 3.51 - ETA: 17:36 - loss: 3.51 - ETA: 17:35 - loss: 3.51 - ETA: 17:35 - loss: 3.51 - ETA: 17:34 - loss: 3.51 - ETA: 17:33 - loss: 3.51 - ETA: 17:33 - loss: 3.51 - ETA: 17:32 - loss: 3.51 - ETA: 17:31 - loss: 3.51 - ETA: 17:31 - loss: 3.51 - ETA: 17:30 - loss: 3.51 - ETA: 17:30 - loss: 3.51 - ETA: 17:29 - loss: 3.51 - ETA: 17:29 - loss: 3.51 - ETA: 17:28 - loss: 3.51 - ETA: 17:27 - loss: 3.51 - ETA: 17:27 - loss: 3.51 - ETA: 17:26 - loss: 3.51 - ETA: 17:25 - loss: 3.51 - ETA: 17:25 - loss: 3.51 - ETA: 17:24 - loss: 3.51 - ETA: 17:23 - loss: 3.51 - ETA: 17:23 - loss: 3.51 - ETA: 17:22 - loss: 3.51 - ETA: 17:21 - loss: 3.51 - ETA: 17:20 - loss: 3.51 - ETA: 17:20 - loss: 3.51 - ETA: 17:19 - loss: 3.51 - ETA: 17:18 - loss: 3.51 - ETA: 17:18 - loss: 3.51 - ETA: 17:17 - loss: 3.51 - ETA: 17:16 - loss: 3.51 - ETA: 17:16 - loss: 3.51 - ETA: 17:15 - loss: 3.51 - ETA: 17:14 - loss: 3.51 - ETA: 17:13 - loss: 3.51 - ETA: 17:13 - loss: 3.51 - ETA: 17:12 - loss: 3.51 - ETA: 17:11 - loss: 3.51 - ETA: 17:11 - loss: 3.51 - ETA: 17:10 - loss: 3.51 - ETA: 17:09 - loss: 3.51 - ETA: 17:09 - loss: 3.51 - ETA: 17:08 - loss: 3.51 - ETA: 17:07 - loss: 3.51 - ETA: 17:07 - loss: 3.51 - ETA: 17:06 - loss: 3.51 - ETA: 17:05 - loss: 3.51 - ETA: 17:05 - loss: 3.51 - ETA: 17:04 - loss: 3.51 - ETA: 17:04 - loss: 3.51 - ETA: 17:03 - loss: 3.51 - ETA: 17:02 - loss: 3.51 - ETA: 17:02 - loss: 3.51 - ETA: 17:01 - loss: 3.51 - ETA: 17:00 - loss: 3.51 - ETA: 17:00 - loss: 3.51 - ETA: 16:59 - loss: 3.51 - ETA: 16:58 - loss: 3.51 - ETA: 16:58 - loss: 3.51 - ETA: 16:57 - loss: 3.51 - ETA: 16:56 - loss: 3.51 - ETA: 16:56 - loss: 3.51 - ETA: 16:55 - loss: 3.51 - ETA: 16:54 - loss: 3.51 - ETA: 16:54 - loss: 3.51 - ETA: 16:53 - loss: 3.51 - ETA: 16:52 - loss: 3.51 - ETA: 16:52 - loss: 3.51 - ETA: 16:51 - loss: 3.51 - ETA: 16:51 - loss: 3.51 - ETA: 16:50 - loss: 3.51 - ETA: 16:49 - loss: 3.51 - ETA: 16:48 - loss: 3.51 - ETA: 16:48 - loss: 3.51 - ETA: 16:47 - loss: 3.51 - ETA: 16:47 - loss: 3.51 - ETA: 16:46 - loss: 3.51 - ETA: 16:45 - loss: 3.51 - ETA: 16:45 - loss: 3.51 - ETA: 16:44 - loss: 3.51 - ETA: 16:43 - loss: 3.51 - ETA: 16:43 - loss: 3.51 - ETA: 16:42 - loss: 3.51 - ETA: 16:41 - loss: 3.51 - ETA: 16:40 - loss: 3.51 - ETA: 16:40 - loss: 3.51 - ETA: 16:39 - loss: 3.51 - ETA: 16:38 - loss: 3.51 - ETA: 16:37 - loss: 3.51 - ETA: 16:37 - loss: 3.51 - ETA: 16:36 - loss: 3.51 - ETA: 16:35 - loss: 3.51 - ETA: 16:35 - loss: 3.51 - ETA: 16:34 - loss: 3.51 - ETA: 16:33 - loss: 3.51 - ETA: 16:32 - loss: 3.51 - ETA: 16:32 - loss: 3.51 - ETA: 16:31 - loss: 3.51 - ETA: 16:30 - loss: 3.51 - ETA: 16:30 - loss: 3.51 - ETA: 16:29 - loss: 3.51 - ETA: 16:28 - loss: 3.51 - ETA: 16:28 - loss: 3.51 - ETA: 16:27 - loss: 3.51 - ETA: 16:26 - loss: 3.51 - ETA: 16:25 - loss: 3.51 - ETA: 16:25 - loss: 3.51 - ETA: 16:24 - loss: 3.51 - ETA: 16:23 - loss: 3.51 - ETA: 16:23 - loss: 3.51 - ETA: 16:22 - loss: 3.51 - ETA: 16:21 - loss: 3.51 - ETA: 16:21 - loss: 3.51 - ETA: 16:20 - loss: 3.51 - ETA: 16:19 - loss: 3.51 - ETA: 16:19 - loss: 3.51 - ETA: 16:18 - loss: 3.51 - ETA: 16:17 - loss: 3.51 - ETA: 16:16 - loss: 3.51 - ETA: 16:16 - loss: 3.51 - ETA: 16:15 - loss: 3.51 - ETA: 16:14 - loss: 3.51 - ETA: 16:14 - loss: 3.51 - ETA: 16:13 - loss: 3.51 - ETA: 16:12 - loss: 3.51 - ETA: 16:12 - loss: 3.51 - ETA: 16:11 - loss: 3.51 - ETA: 16:10 - loss: 3.51 - ETA: 16:09 - loss: 3.51 - ETA: 16:09 - loss: 3.51 - ETA: 16:08 - loss: 3.51 - ETA: 16:07 - loss: 3.51 - ETA: 16:07 - loss: 3.51 - ETA: 16:06 - loss: 3.51 - ETA: 16:06 - loss: 3.51 - ETA: 16:05 - loss: 3.51 - ETA: 16:04 - loss: 3.51 - ETA: 16:04 - loss: 3.51 - ETA: 16:03 - loss: 3.51 - ETA: 16:02 - loss: 3.51 - ETA: 16:02 - loss: 3.51 - ETA: 16:01 - loss: 3.51 - ETA: 16:01 - loss: 3.51 - ETA: 16:00 - loss: 3.51 - ETA: 15:59 - loss: 3.51 - ETA: 15:59 - loss: 3.51 - ETA: 15:58 - loss: 3.51 - ETA: 15:57 - loss: 3.51 - ETA: 15:57 - loss: 3.51 - ETA: 15:56 - loss: 3.51 - ETA: 15:55 - loss: 3.51 - ETA: 15:55 - loss: 3.51 - ETA: 15:54 - loss: 3.51 - ETA: 15:53 - loss: 3.51 - ETA: 15:52 - loss: 3.51 - ETA: 15:52 - loss: 3.51 - ETA: 15:51 - loss: 3.51 - ETA: 15:51 - loss: 3.51 - ETA: 15:50 - loss: 3.51 - ETA: 15:49 - loss: 3.51 - ETA: 15:49 - loss: 3.51 - ETA: 15:48 - loss: 3.51 - ETA: 15:47 - loss: 3.51 - ETA: 15:46 - loss: 3.51 - ETA: 15:46 - loss: 3.51 - ETA: 15:45 - loss: 3.51 - ETA: 15:44 - loss: 3.51 - ETA: 15:43 - loss: 3.51 - ETA: 15:43 - loss: 3.51 - ETA: 15:42 - loss: 3.51 - ETA: 15:41 - loss: 3.51 - ETA: 15:41 - loss: 3.51 - ETA: 15:40 - loss: 3.51 - ETA: 15:39 - loss: 3.51 - ETA: 15:39 - loss: 3.51 - ETA: 15:38 - loss: 3.51 - ETA: 15:37 - loss: 3.51 - ETA: 15:37 - loss: 3.51 - ETA: 15:36 - loss: 3.51 - ETA: 15:35 - loss: 3.51 - ETA: 15:34 - loss: 3.51 - ETA: 15:34 - loss: 3.51 - ETA: 15:33 - loss: 3.51 - ETA: 15:32 - loss: 3.51 - ETA: 15:32 - loss: 3.51 - ETA: 15:31 - loss: 3.51 - ETA: 15:30 - loss: 3.51 - ETA: 15:30 - loss: 3.51 - ETA: 15:29 - loss: 3.51 - ETA: 15:28 - loss: 3.51 - ETA: 15:27 - loss: 3.51 - ETA: 15:27 - loss: 3.51 - ETA: 15:26 - loss: 3.51 - ETA: 15:25 - loss: 3.51 - ETA: 15:24 - loss: 3.51 - ETA: 15:24 - loss: 3.51 - ETA: 15:23 - loss: 3.51 - ETA: 15:22 - loss: 3.51 - ETA: 15:21 - loss: 3.51 - ETA: 15:21 - loss: 3.51 - ETA: 15:20 - loss: 3.51 - ETA: 15:19 - loss: 3.51 - ETA: 15:18 - loss: 3.51 - ETA: 15:18 - loss: 3.51 - ETA: 15:17 - loss: 3.51 - ETA: 15:16 - loss: 3.51 - ETA: 15:16 - loss: 3.51 - ETA: 15:15 - loss: 3.51 - ETA: 15:14 - loss: 3.51 - ETA: 15:13 - loss: 3.51 - ETA: 15:13 - loss: 3.51 - ETA: 15:12 - loss: 3.51 - ETA: 15:11 - loss: 3.51 - ETA: 15:10 - loss: 3.51 - ETA: 15:10 - loss: 3.51 - ETA: 15:09 - loss: 3.51 - ETA: 15:08 - loss: 3.51 - ETA: 15:08 - loss: 3.51 - ETA: 15:07 - loss: 3.51 - ETA: 15:06 - loss: 3.51 - ETA: 15:05 - loss: 3.51 - ETA: 15:05 - loss: 3.5179"
     ]
    },
    {
     "name": "stdout",
     "output_type": "stream",
     "text": [
      "3453/4335 [======================>.......] - ETA: 15:04 - loss: 3.51 - ETA: 15:03 - loss: 3.51 - ETA: 15:03 - loss: 3.51 - ETA: 15:02 - loss: 3.51 - ETA: 15:01 - loss: 3.51 - ETA: 15:00 - loss: 3.51 - ETA: 15:00 - loss: 3.51 - ETA: 14:59 - loss: 3.51 - ETA: 14:58 - loss: 3.51 - ETA: 14:57 - loss: 3.51 - ETA: 14:57 - loss: 3.51 - ETA: 14:56 - loss: 3.51 - ETA: 14:55 - loss: 3.51 - ETA: 14:54 - loss: 3.51 - ETA: 14:54 - loss: 3.51 - ETA: 14:53 - loss: 3.51 - ETA: 14:52 - loss: 3.51 - ETA: 14:51 - loss: 3.51 - ETA: 14:51 - loss: 3.51 - ETA: 14:50 - loss: 3.51 - ETA: 14:49 - loss: 3.51 - ETA: 14:48 - loss: 3.51 - ETA: 14:48 - loss: 3.51 - ETA: 14:47 - loss: 3.51 - ETA: 14:46 - loss: 3.51 - ETA: 14:45 - loss: 3.51 - ETA: 14:45 - loss: 3.51 - ETA: 14:44 - loss: 3.51 - ETA: 14:43 - loss: 3.51 - ETA: 14:42 - loss: 3.51 - ETA: 14:42 - loss: 3.51 - ETA: 14:41 - loss: 3.51 - ETA: 14:40 - loss: 3.51 - ETA: 14:40 - loss: 3.51 - ETA: 14:39 - loss: 3.51 - ETA: 14:38 - loss: 3.51 - ETA: 14:37 - loss: 3.51 - ETA: 14:37 - loss: 3.51 - ETA: 14:36 - loss: 3.51 - ETA: 14:35 - loss: 3.51 - ETA: 14:35 - loss: 3.51 - ETA: 14:34 - loss: 3.51 - ETA: 14:33 - loss: 3.51 - ETA: 14:33 - loss: 3.51 - ETA: 14:32 - loss: 3.51 - ETA: 14:31 - loss: 3.51 - ETA: 14:31 - loss: 3.51 - ETA: 14:30 - loss: 3.51 - ETA: 14:29 - loss: 3.51 - ETA: 14:28 - loss: 3.51 - ETA: 14:28 - loss: 3.51 - ETA: 14:27 - loss: 3.51 - ETA: 14:26 - loss: 3.51 - ETA: 14:25 - loss: 3.51 - ETA: 14:25 - loss: 3.51 - ETA: 14:24 - loss: 3.51 - ETA: 14:23 - loss: 3.51 - ETA: 14:22 - loss: 3.51 - ETA: 14:22 - loss: 3.51 - ETA: 14:21 - loss: 3.51 - ETA: 14:20 - loss: 3.51 - ETA: 14:19 - loss: 3.51 - ETA: 14:19 - loss: 3.51 - ETA: 14:18 - loss: 3.51 - ETA: 14:17 - loss: 3.51 - ETA: 14:16 - loss: 3.51 - ETA: 14:16 - loss: 3.51 - ETA: 14:15 - loss: 3.51 - ETA: 14:14 - loss: 3.51 - ETA: 14:13 - loss: 3.51 - ETA: 14:13 - loss: 3.51 - ETA: 14:12 - loss: 3.51 - ETA: 14:11 - loss: 3.51 - ETA: 14:10 - loss: 3.51 - ETA: 14:10 - loss: 3.51 - ETA: 14:09 - loss: 3.51 - ETA: 14:08 - loss: 3.51 - ETA: 14:07 - loss: 3.51 - ETA: 14:07 - loss: 3.51 - ETA: 14:06 - loss: 3.51 - ETA: 14:05 - loss: 3.51 - ETA: 14:04 - loss: 3.51 - ETA: 14:04 - loss: 3.51 - ETA: 14:03 - loss: 3.51 - ETA: 14:02 - loss: 3.51 - ETA: 14:01 - loss: 3.51 - ETA: 14:01 - loss: 3.51 - ETA: 14:00 - loss: 3.51 - ETA: 13:59 - loss: 3.51 - ETA: 13:58 - loss: 3.51 - ETA: 13:58 - loss: 3.51 - ETA: 13:57 - loss: 3.51 - ETA: 13:56 - loss: 3.51 - ETA: 13:55 - loss: 3.51 - ETA: 13:55 - loss: 3.51 - ETA: 13:54 - loss: 3.51 - ETA: 13:53 - loss: 3.51 - ETA: 13:52 - loss: 3.51 - ETA: 13:52 - loss: 3.51 - ETA: 13:51 - loss: 3.51 - ETA: 13:50 - loss: 3.51 - ETA: 13:49 - loss: 3.51 - ETA: 13:49 - loss: 3.51 - ETA: 13:48 - loss: 3.51 - ETA: 13:47 - loss: 3.51 - ETA: 13:46 - loss: 3.51 - ETA: 13:46 - loss: 3.51 - ETA: 13:45 - loss: 3.51 - ETA: 13:44 - loss: 3.51 - ETA: 13:43 - loss: 3.51 - ETA: 13:43 - loss: 3.51 - ETA: 13:42 - loss: 3.51 - ETA: 13:41 - loss: 3.51 - ETA: 13:40 - loss: 3.51 - ETA: 13:40 - loss: 3.51 - ETA: 13:39 - loss: 3.51 - ETA: 13:38 - loss: 3.51 - ETA: 13:37 - loss: 3.51 - ETA: 13:37 - loss: 3.51 - ETA: 13:36 - loss: 3.51 - ETA: 13:35 - loss: 3.51 - ETA: 13:34 - loss: 3.51 - ETA: 13:34 - loss: 3.51 - ETA: 13:33 - loss: 3.51 - ETA: 13:32 - loss: 3.51 - ETA: 13:31 - loss: 3.52 - ETA: 13:31 - loss: 3.52 - ETA: 13:30 - loss: 3.52 - ETA: 13:29 - loss: 3.52 - ETA: 13:28 - loss: 3.52 - ETA: 13:28 - loss: 3.51 - ETA: 13:27 - loss: 3.52 - ETA: 13:26 - loss: 3.51 - ETA: 13:25 - loss: 3.51 - ETA: 13:25 - loss: 3.51 - ETA: 13:24 - loss: 3.51 - ETA: 13:23 - loss: 3.51 - ETA: 13:22 - loss: 3.51 - ETA: 13:22 - loss: 3.51 - ETA: 13:21 - loss: 3.51 - ETA: 13:20 - loss: 3.51 - ETA: 13:19 - loss: 3.51 - ETA: 13:19 - loss: 3.51 - ETA: 13:18 - loss: 3.51 - ETA: 13:17 - loss: 3.51 - ETA: 13:16 - loss: 3.51 - ETA: 13:16 - loss: 3.51 - ETA: 13:15 - loss: 3.51 - ETA: 13:14 - loss: 3.51 - ETA: 13:13 - loss: 3.51 - ETA: 13:13 - loss: 3.51 - ETA: 13:12 - loss: 3.51 - ETA: 13:11 - loss: 3.51 - ETA: 13:10 - loss: 3.51 - ETA: 13:10 - loss: 3.51 - ETA: 13:09 - loss: 3.51 - ETA: 13:08 - loss: 3.51 - ETA: 13:07 - loss: 3.51 - ETA: 13:07 - loss: 3.51 - ETA: 13:06 - loss: 3.51 - ETA: 13:05 - loss: 3.51 - ETA: 13:04 - loss: 3.51 - ETA: 13:04 - loss: 3.51 - ETA: 13:03 - loss: 3.51 - ETA: 13:02 - loss: 3.52 - ETA: 13:01 - loss: 3.51 - ETA: 13:01 - loss: 3.51 - ETA: 13:00 - loss: 3.51 - ETA: 12:59 - loss: 3.51 - ETA: 12:59 - loss: 3.51 - ETA: 12:58 - loss: 3.51 - ETA: 12:57 - loss: 3.51 - ETA: 12:56 - loss: 3.51 - ETA: 12:56 - loss: 3.51 - ETA: 12:55 - loss: 3.51 - ETA: 12:54 - loss: 3.51 - ETA: 12:54 - loss: 3.51 - ETA: 12:53 - loss: 3.51 - ETA: 12:52 - loss: 3.51 - ETA: 12:51 - loss: 3.51 - ETA: 12:51 - loss: 3.51 - ETA: 12:50 - loss: 3.51 - ETA: 12:49 - loss: 3.51 - ETA: 12:48 - loss: 3.51 - ETA: 12:48 - loss: 3.51 - ETA: 12:47 - loss: 3.51 - ETA: 12:46 - loss: 3.51 - ETA: 12:46 - loss: 3.51 - ETA: 12:45 - loss: 3.51 - ETA: 12:44 - loss: 3.51 - ETA: 12:43 - loss: 3.51 - ETA: 12:43 - loss: 3.51 - ETA: 12:42 - loss: 3.51 - ETA: 12:41 - loss: 3.51 - ETA: 12:40 - loss: 3.51 - ETA: 12:40 - loss: 3.51 - ETA: 12:39 - loss: 3.51 - ETA: 12:38 - loss: 3.51 - ETA: 12:37 - loss: 3.51 - ETA: 12:37 - loss: 3.51 - ETA: 12:36 - loss: 3.51 - ETA: 12:35 - loss: 3.51 - ETA: 12:34 - loss: 3.51 - ETA: 12:34 - loss: 3.51 - ETA: 12:33 - loss: 3.51 - ETA: 12:32 - loss: 3.51 - ETA: 12:31 - loss: 3.51 - ETA: 12:31 - loss: 3.51 - ETA: 12:30 - loss: 3.51 - ETA: 12:29 - loss: 3.51 - ETA: 12:28 - loss: 3.51 - ETA: 12:28 - loss: 3.51 - ETA: 12:27 - loss: 3.51 - ETA: 12:26 - loss: 3.51 - ETA: 12:25 - loss: 3.51 - ETA: 12:25 - loss: 3.51 - ETA: 12:24 - loss: 3.51 - ETA: 12:23 - loss: 3.51 - ETA: 12:22 - loss: 3.51 - ETA: 12:22 - loss: 3.51 - ETA: 12:21 - loss: 3.51 - ETA: 12:20 - loss: 3.51 - ETA: 12:19 - loss: 3.51 - ETA: 12:19 - loss: 3.51 - ETA: 12:18 - loss: 3.51 - ETA: 12:17 - loss: 3.51 - ETA: 12:16 - loss: 3.51 - ETA: 12:16 - loss: 3.51 - ETA: 12:15 - loss: 3.51 - ETA: 12:14 - loss: 3.51 - ETA: 12:13 - loss: 3.51 - ETA: 12:13 - loss: 3.51 - ETA: 12:12 - loss: 3.51 - ETA: 12:11 - loss: 3.51 - ETA: 12:10 - loss: 3.51 - ETA: 12:10 - loss: 3.51 - ETA: 12:09 - loss: 3.51 - ETA: 12:08 - loss: 3.51 - ETA: 12:07 - loss: 3.51 - ETA: 12:07 - loss: 3.51 - ETA: 12:06 - loss: 3.51 - ETA: 12:05 - loss: 3.51 - ETA: 12:04 - loss: 3.51 - ETA: 12:04 - loss: 3.51 - ETA: 12:03 - loss: 3.51 - ETA: 12:02 - loss: 3.51 - ETA: 12:01 - loss: 3.51 - ETA: 12:01 - loss: 3.51 - ETA: 12:00 - loss: 3.51 - ETA: 11:59 - loss: 3.51 - ETA: 11:58 - loss: 3.51 - ETA: 11:58 - loss: 3.51 - ETA: 11:57 - loss: 3.51 - ETA: 11:56 - loss: 3.51 - ETA: 11:55 - loss: 3.51 - ETA: 11:54 - loss: 3.51 - ETA: 11:54 - loss: 3.51 - ETA: 11:53 - loss: 3.51 - ETA: 11:52 - loss: 3.51 - ETA: 11:51 - loss: 3.51 - ETA: 11:51 - loss: 3.51 - ETA: 11:50 - loss: 3.51 - ETA: 11:49 - loss: 3.51 - ETA: 11:48 - loss: 3.51 - ETA: 11:48 - loss: 3.51 - ETA: 11:47 - loss: 3.51 - ETA: 11:46 - loss: 3.51 - ETA: 11:45 - loss: 3.51 - ETA: 11:45 - loss: 3.51 - ETA: 11:44 - loss: 3.51 - ETA: 11:43 - loss: 3.51 - ETA: 11:42 - loss: 3.51 - ETA: 11:42 - loss: 3.51 - ETA: 11:41 - loss: 3.51 - ETA: 11:40 - loss: 3.51 - ETA: 11:39 - loss: 3.51 - ETA: 11:39 - loss: 3.51 - ETA: 11:38 - loss: 3.51 - ETA: 11:37 - loss: 3.51 - ETA: 11:36 - loss: 3.51 - ETA: 11:36 - loss: 3.51 - ETA: 11:35 - loss: 3.51 - ETA: 11:34 - loss: 3.51 - ETA: 11:33 - loss: 3.51 - ETA: 11:33 - loss: 3.51 - ETA: 11:32 - loss: 3.51 - ETA: 11:31 - loss: 3.51 - ETA: 11:30 - loss: 3.51 - ETA: 11:29 - loss: 3.51 - ETA: 11:29 - loss: 3.51 - ETA: 11:28 - loss: 3.51 - ETA: 11:27 - loss: 3.51 - ETA: 11:26 - loss: 3.51 - ETA: 11:26 - loss: 3.51 - ETA: 11:25 - loss: 3.51 - ETA: 11:24 - loss: 3.51 - ETA: 11:23 - loss: 3.51 - ETA: 11:23 - loss: 3.51 - ETA: 11:22 - loss: 3.51 - ETA: 11:21 - loss: 3.51 - ETA: 11:20 - loss: 3.51 - ETA: 11:20 - loss: 3.51 - ETA: 11:19 - loss: 3.51 - ETA: 11:18 - loss: 3.51 - ETA: 11:17 - loss: 3.51 - ETA: 11:17 - loss: 3.51 - ETA: 11:16 - loss: 3.51 - ETA: 11:15 - loss: 3.51 - ETA: 11:14 - loss: 3.51 - ETA: 11:14 - loss: 3.51 - ETA: 11:13 - loss: 3.51 - ETA: 11:12 - loss: 3.51 - ETA: 11:11 - loss: 3.51 - ETA: 11:11 - loss: 3.5197"
     ]
    },
    {
     "name": "stdout",
     "output_type": "stream",
     "text": [
      "3767/4335 [=========================>....] - ETA: 11:10 - loss: 3.51 - ETA: 11:09 - loss: 3.51 - ETA: 11:08 - loss: 3.51 - ETA: 11:08 - loss: 3.51 - ETA: 11:07 - loss: 3.52 - ETA: 11:06 - loss: 3.52 - ETA: 11:05 - loss: 3.52 - ETA: 11:04 - loss: 3.52 - ETA: 11:04 - loss: 3.52 - ETA: 11:03 - loss: 3.52 - ETA: 11:02 - loss: 3.52 - ETA: 11:01 - loss: 3.52 - ETA: 11:01 - loss: 3.52 - ETA: 11:00 - loss: 3.52 - ETA: 10:59 - loss: 3.52 - ETA: 10:58 - loss: 3.52 - ETA: 10:58 - loss: 3.52 - ETA: 10:57 - loss: 3.52 - ETA: 10:56 - loss: 3.52 - ETA: 10:55 - loss: 3.52 - ETA: 10:55 - loss: 3.52 - ETA: 10:54 - loss: 3.52 - ETA: 10:53 - loss: 3.52 - ETA: 10:52 - loss: 3.52 - ETA: 10:52 - loss: 3.52 - ETA: 10:51 - loss: 3.52 - ETA: 10:50 - loss: 3.52 - ETA: 10:49 - loss: 3.52 - ETA: 10:49 - loss: 3.52 - ETA: 10:48 - loss: 3.52 - ETA: 10:47 - loss: 3.52 - ETA: 10:46 - loss: 3.52 - ETA: 10:46 - loss: 3.52 - ETA: 10:45 - loss: 3.52 - ETA: 10:44 - loss: 3.52 - ETA: 10:43 - loss: 3.52 - ETA: 10:43 - loss: 3.52 - ETA: 10:42 - loss: 3.52 - ETA: 10:41 - loss: 3.52 - ETA: 10:40 - loss: 3.52 - ETA: 10:40 - loss: 3.52 - ETA: 10:39 - loss: 3.52 - ETA: 10:38 - loss: 3.52 - ETA: 10:37 - loss: 3.52 - ETA: 10:37 - loss: 3.52 - ETA: 10:36 - loss: 3.52 - ETA: 10:35 - loss: 3.52 - ETA: 10:34 - loss: 3.52 - ETA: 10:34 - loss: 3.52 - ETA: 10:33 - loss: 3.52 - ETA: 10:32 - loss: 3.52 - ETA: 10:31 - loss: 3.52 - ETA: 10:31 - loss: 3.52 - ETA: 10:30 - loss: 3.52 - ETA: 10:29 - loss: 3.52 - ETA: 10:28 - loss: 3.52 - ETA: 10:27 - loss: 3.52 - ETA: 10:27 - loss: 3.52 - ETA: 10:26 - loss: 3.52 - ETA: 10:25 - loss: 3.52 - ETA: 10:24 - loss: 3.52 - ETA: 10:24 - loss: 3.52 - ETA: 10:23 - loss: 3.52 - ETA: 10:22 - loss: 3.52 - ETA: 10:21 - loss: 3.52 - ETA: 10:21 - loss: 3.52 - ETA: 10:20 - loss: 3.52 - ETA: 10:19 - loss: 3.52 - ETA: 10:18 - loss: 3.52 - ETA: 10:18 - loss: 3.52 - ETA: 10:17 - loss: 3.52 - ETA: 10:16 - loss: 3.52 - ETA: 10:15 - loss: 3.52 - ETA: 10:15 - loss: 3.52 - ETA: 10:14 - loss: 3.52 - ETA: 10:13 - loss: 3.52 - ETA: 10:12 - loss: 3.52 - ETA: 10:12 - loss: 3.52 - ETA: 10:11 - loss: 3.52 - ETA: 10:10 - loss: 3.52 - ETA: 10:09 - loss: 3.52 - ETA: 10:09 - loss: 3.52 - ETA: 10:08 - loss: 3.52 - ETA: 10:07 - loss: 3.52 - ETA: 10:06 - loss: 3.52 - ETA: 10:06 - loss: 3.52 - ETA: 10:05 - loss: 3.52 - ETA: 10:04 - loss: 3.52 - ETA: 10:03 - loss: 3.52 - ETA: 10:03 - loss: 3.52 - ETA: 10:02 - loss: 3.52 - ETA: 10:01 - loss: 3.52 - ETA: 10:00 - loss: 3.52 - ETA: 9:59 - loss: 3.5211 - ETA: 9:59 - loss: 3.521 - ETA: 9:58 - loss: 3.521 - ETA: 9:57 - loss: 3.521 - ETA: 9:57 - loss: 3.521 - ETA: 9:56 - loss: 3.521 - ETA: 9:55 - loss: 3.521 - ETA: 9:54 - loss: 3.521 - ETA: 9:54 - loss: 3.521 - ETA: 9:53 - loss: 3.521 - ETA: 9:52 - loss: 3.521 - ETA: 9:51 - loss: 3.521 - ETA: 9:51 - loss: 3.521 - ETA: 9:50 - loss: 3.521 - ETA: 9:49 - loss: 3.521 - ETA: 9:49 - loss: 3.521 - ETA: 9:48 - loss: 3.521 - ETA: 9:47 - loss: 3.521 - ETA: 9:46 - loss: 3.521 - ETA: 9:46 - loss: 3.521 - ETA: 9:45 - loss: 3.521 - ETA: 9:44 - loss: 3.521 - ETA: 9:44 - loss: 3.521 - ETA: 9:43 - loss: 3.521 - ETA: 9:42 - loss: 3.521 - ETA: 9:41 - loss: 3.521 - ETA: 9:41 - loss: 3.521 - ETA: 9:40 - loss: 3.521 - ETA: 9:39 - loss: 3.521 - ETA: 9:38 - loss: 3.521 - ETA: 9:38 - loss: 3.521 - ETA: 9:37 - loss: 3.521 - ETA: 9:36 - loss: 3.521 - ETA: 9:35 - loss: 3.521 - ETA: 9:35 - loss: 3.521 - ETA: 9:34 - loss: 3.521 - ETA: 9:33 - loss: 3.521 - ETA: 9:32 - loss: 3.521 - ETA: 9:32 - loss: 3.521 - ETA: 9:31 - loss: 3.521 - ETA: 9:30 - loss: 3.521 - ETA: 9:29 - loss: 3.521 - ETA: 9:29 - loss: 3.521 - ETA: 9:28 - loss: 3.521 - ETA: 9:27 - loss: 3.521 - ETA: 9:26 - loss: 3.521 - ETA: 9:26 - loss: 3.521 - ETA: 9:25 - loss: 3.521 - ETA: 9:24 - loss: 3.521 - ETA: 9:23 - loss: 3.521 - ETA: 9:23 - loss: 3.521 - ETA: 9:22 - loss: 3.521 - ETA: 9:21 - loss: 3.521 - ETA: 9:20 - loss: 3.521 - ETA: 9:20 - loss: 3.521 - ETA: 9:19 - loss: 3.521 - ETA: 9:18 - loss: 3.521 - ETA: 9:17 - loss: 3.521 - ETA: 9:17 - loss: 3.521 - ETA: 9:16 - loss: 3.521 - ETA: 9:15 - loss: 3.521 - ETA: 9:14 - loss: 3.521 - ETA: 9:14 - loss: 3.521 - ETA: 9:13 - loss: 3.521 - ETA: 9:12 - loss: 3.521 - ETA: 9:11 - loss: 3.521 - ETA: 9:11 - loss: 3.521 - ETA: 9:10 - loss: 3.521 - ETA: 9:09 - loss: 3.521 - ETA: 9:08 - loss: 3.521 - ETA: 9:08 - loss: 3.521 - ETA: 9:07 - loss: 3.521 - ETA: 9:06 - loss: 3.521 - ETA: 9:05 - loss: 3.521 - ETA: 9:05 - loss: 3.521 - ETA: 9:04 - loss: 3.521 - ETA: 9:03 - loss: 3.521 - ETA: 9:02 - loss: 3.521 - ETA: 9:02 - loss: 3.521 - ETA: 9:01 - loss: 3.521 - ETA: 9:00 - loss: 3.521 - ETA: 8:59 - loss: 3.521 - ETA: 8:59 - loss: 3.521 - ETA: 8:58 - loss: 3.521 - ETA: 8:57 - loss: 3.521 - ETA: 8:56 - loss: 3.521 - ETA: 8:55 - loss: 3.521 - ETA: 8:55 - loss: 3.521 - ETA: 8:54 - loss: 3.521 - ETA: 8:53 - loss: 3.521 - ETA: 8:52 - loss: 3.521 - ETA: 8:52 - loss: 3.521 - ETA: 8:51 - loss: 3.521 - ETA: 8:50 - loss: 3.521 - ETA: 8:49 - loss: 3.521 - ETA: 8:49 - loss: 3.521 - ETA: 8:48 - loss: 3.521 - ETA: 8:47 - loss: 3.521 - ETA: 8:46 - loss: 3.521 - ETA: 8:46 - loss: 3.521 - ETA: 8:45 - loss: 3.520 - ETA: 8:44 - loss: 3.520 - ETA: 8:43 - loss: 3.520 - ETA: 8:43 - loss: 3.520 - ETA: 8:42 - loss: 3.520 - ETA: 8:41 - loss: 3.520 - ETA: 8:40 - loss: 3.520 - ETA: 8:40 - loss: 3.520 - ETA: 8:39 - loss: 3.521 - ETA: 8:38 - loss: 3.521 - ETA: 8:37 - loss: 3.521 - ETA: 8:37 - loss: 3.521 - ETA: 8:36 - loss: 3.521 - ETA: 8:35 - loss: 3.521 - ETA: 8:34 - loss: 3.521 - ETA: 8:34 - loss: 3.521 - ETA: 8:33 - loss: 3.521 - ETA: 8:32 - loss: 3.521 - ETA: 8:31 - loss: 3.521 - ETA: 8:30 - loss: 3.521 - ETA: 8:30 - loss: 3.521 - ETA: 8:29 - loss: 3.521 - ETA: 8:28 - loss: 3.521 - ETA: 8:27 - loss: 3.521 - ETA: 8:27 - loss: 3.520 - ETA: 8:26 - loss: 3.520 - ETA: 8:25 - loss: 3.520 - ETA: 8:24 - loss: 3.520 - ETA: 8:24 - loss: 3.520 - ETA: 8:23 - loss: 3.520 - ETA: 8:22 - loss: 3.520 - ETA: 8:21 - loss: 3.520 - ETA: 8:21 - loss: 3.520 - ETA: 8:20 - loss: 3.520 - ETA: 8:19 - loss: 3.520 - ETA: 8:18 - loss: 3.520 - ETA: 8:18 - loss: 3.520 - ETA: 8:17 - loss: 3.520 - ETA: 8:16 - loss: 3.520 - ETA: 8:15 - loss: 3.520 - ETA: 8:15 - loss: 3.520 - ETA: 8:14 - loss: 3.520 - ETA: 8:13 - loss: 3.520 - ETA: 8:12 - loss: 3.520 - ETA: 8:12 - loss: 3.520 - ETA: 8:11 - loss: 3.520 - ETA: 8:10 - loss: 3.520 - ETA: 8:09 - loss: 3.520 - ETA: 8:09 - loss: 3.520 - ETA: 8:08 - loss: 3.520 - ETA: 8:07 - loss: 3.520 - ETA: 8:06 - loss: 3.520 - ETA: 8:06 - loss: 3.520 - ETA: 8:05 - loss: 3.520 - ETA: 8:04 - loss: 3.520 - ETA: 8:03 - loss: 3.520 - ETA: 8:03 - loss: 3.520 - ETA: 8:02 - loss: 3.520 - ETA: 8:01 - loss: 3.520 - ETA: 8:00 - loss: 3.520 - ETA: 7:59 - loss: 3.520 - ETA: 7:59 - loss: 3.520 - ETA: 7:58 - loss: 3.520 - ETA: 7:57 - loss: 3.520 - ETA: 7:57 - loss: 3.520 - ETA: 7:56 - loss: 3.520 - ETA: 7:55 - loss: 3.520 - ETA: 7:54 - loss: 3.520 - ETA: 7:54 - loss: 3.520 - ETA: 7:53 - loss: 3.520 - ETA: 7:52 - loss: 3.520 - ETA: 7:51 - loss: 3.520 - ETA: 7:51 - loss: 3.520 - ETA: 7:50 - loss: 3.520 - ETA: 7:49 - loss: 3.520 - ETA: 7:48 - loss: 3.520 - ETA: 7:48 - loss: 3.520 - ETA: 7:47 - loss: 3.520 - ETA: 7:46 - loss: 3.520 - ETA: 7:45 - loss: 3.520 - ETA: 7:45 - loss: 3.520 - ETA: 7:44 - loss: 3.520 - ETA: 7:43 - loss: 3.520 - ETA: 7:42 - loss: 3.520 - ETA: 7:42 - loss: 3.520 - ETA: 7:42 - loss: 3.520 - ETA: 7:43 - loss: 3.520 - ETA: 7:42 - loss: 3.520 - ETA: 7:42 - loss: 3.520 - ETA: 7:41 - loss: 3.520 - ETA: 7:41 - loss: 3.520 - ETA: 7:40 - loss: 3.520 - ETA: 7:39 - loss: 3.520 - ETA: 7:39 - loss: 3.520 - ETA: 7:38 - loss: 3.520 - ETA: 7:37 - loss: 3.520 - ETA: 7:37 - loss: 3.520 - ETA: 7:36 - loss: 3.521 - ETA: 7:35 - loss: 3.520 - ETA: 7:35 - loss: 3.521 - ETA: 7:34 - loss: 3.521 - ETA: 7:33 - loss: 3.521 - ETA: 7:32 - loss: 3.521 - ETA: 7:32 - loss: 3.521 - ETA: 7:31 - loss: 3.521 - ETA: 7:30 - loss: 3.521 - ETA: 7:29 - loss: 3.521 - ETA: 7:29 - loss: 3.521 - ETA: 7:28 - loss: 3.521 - ETA: 7:27 - loss: 3.521 - ETA: 7:26 - loss: 3.521 - ETA: 7:26 - loss: 3.521 - ETA: 7:25 - loss: 3.521 - ETA: 7:24 - loss: 3.521 - ETA: 7:23 - loss: 3.520 - ETA: 7:23 - loss: 3.521 - ETA: 7:22 - loss: 3.521 - ETA: 7:21 - loss: 3.521 - ETA: 7:20 - loss: 3.520 - ETA: 7:20 - loss: 3.520 - ETA: 7:19 - loss: 3.5207"
     ]
    },
    {
     "name": "stdout",
     "output_type": "stream",
     "text": [
      "4081/4335 [===========================>..] - ETA: 7:18 - loss: 3.520 - ETA: 7:17 - loss: 3.520 - ETA: 7:17 - loss: 3.520 - ETA: 7:16 - loss: 3.520 - ETA: 7:15 - loss: 3.520 - ETA: 7:14 - loss: 3.520 - ETA: 7:14 - loss: 3.520 - ETA: 7:13 - loss: 3.520 - ETA: 7:12 - loss: 3.520 - ETA: 7:11 - loss: 3.520 - ETA: 7:11 - loss: 3.520 - ETA: 7:10 - loss: 3.520 - ETA: 7:09 - loss: 3.520 - ETA: 7:08 - loss: 3.520 - ETA: 7:08 - loss: 3.520 - ETA: 7:07 - loss: 3.520 - ETA: 7:06 - loss: 3.521 - ETA: 7:05 - loss: 3.520 - ETA: 7:05 - loss: 3.520 - ETA: 7:04 - loss: 3.520 - ETA: 7:03 - loss: 3.520 - ETA: 7:02 - loss: 3.520 - ETA: 7:02 - loss: 3.521 - ETA: 7:01 - loss: 3.521 - ETA: 7:00 - loss: 3.521 - ETA: 6:59 - loss: 3.520 - ETA: 6:58 - loss: 3.521 - ETA: 6:58 - loss: 3.521 - ETA: 6:57 - loss: 3.521 - ETA: 6:56 - loss: 3.521 - ETA: 6:55 - loss: 3.521 - ETA: 6:55 - loss: 3.521 - ETA: 6:54 - loss: 3.521 - ETA: 6:53 - loss: 3.520 - ETA: 6:52 - loss: 3.521 - ETA: 6:52 - loss: 3.521 - ETA: 6:51 - loss: 3.521 - ETA: 6:50 - loss: 3.521 - ETA: 6:49 - loss: 3.521 - ETA: 6:49 - loss: 3.521 - ETA: 6:48 - loss: 3.521 - ETA: 6:47 - loss: 3.521 - ETA: 6:46 - loss: 3.521 - ETA: 6:46 - loss: 3.521 - ETA: 6:45 - loss: 3.521 - ETA: 6:44 - loss: 3.521 - ETA: 6:43 - loss: 3.521 - ETA: 6:43 - loss: 3.521 - ETA: 6:42 - loss: 3.521 - ETA: 6:41 - loss: 3.521 - ETA: 6:40 - loss: 3.521 - ETA: 6:40 - loss: 3.521 - ETA: 6:39 - loss: 3.521 - ETA: 6:38 - loss: 3.521 - ETA: 6:37 - loss: 3.521 - ETA: 6:37 - loss: 3.521 - ETA: 6:36 - loss: 3.521 - ETA: 6:35 - loss: 3.521 - ETA: 6:34 - loss: 3.521 - ETA: 6:34 - loss: 3.521 - ETA: 6:33 - loss: 3.521 - ETA: 6:32 - loss: 3.521 - ETA: 6:31 - loss: 3.521 - ETA: 6:31 - loss: 3.521 - ETA: 6:30 - loss: 3.521 - ETA: 6:29 - loss: 3.521 - ETA: 6:28 - loss: 3.521 - ETA: 6:27 - loss: 3.521 - ETA: 6:27 - loss: 3.521 - ETA: 6:26 - loss: 3.521 - ETA: 6:25 - loss: 3.521 - ETA: 6:24 - loss: 3.521 - ETA: 6:24 - loss: 3.521 - ETA: 6:23 - loss: 3.521 - ETA: 6:22 - loss: 3.521 - ETA: 6:21 - loss: 3.521 - ETA: 6:21 - loss: 3.521 - ETA: 6:20 - loss: 3.521 - ETA: 6:19 - loss: 3.521 - ETA: 6:18 - loss: 3.521 - ETA: 6:18 - loss: 3.521 - ETA: 6:17 - loss: 3.521 - ETA: 6:16 - loss: 3.521 - ETA: 6:15 - loss: 3.521 - ETA: 6:15 - loss: 3.521 - ETA: 6:14 - loss: 3.521 - ETA: 6:13 - loss: 3.521 - ETA: 6:12 - loss: 3.522 - ETA: 6:12 - loss: 3.522 - ETA: 6:11 - loss: 3.522 - ETA: 6:10 - loss: 3.521 - ETA: 6:09 - loss: 3.521 - ETA: 6:09 - loss: 3.521 - ETA: 6:08 - loss: 3.521 - ETA: 6:07 - loss: 3.521 - ETA: 6:06 - loss: 3.521 - ETA: 6:05 - loss: 3.521 - ETA: 6:05 - loss: 3.521 - ETA: 6:04 - loss: 3.521 - ETA: 6:03 - loss: 3.521 - ETA: 6:02 - loss: 3.521 - ETA: 6:02 - loss: 3.521 - ETA: 6:01 - loss: 3.521 - ETA: 6:00 - loss: 3.521 - ETA: 5:59 - loss: 3.521 - ETA: 5:59 - loss: 3.521 - ETA: 5:58 - loss: 3.521 - ETA: 5:57 - loss: 3.521 - ETA: 5:56 - loss: 3.521 - ETA: 5:56 - loss: 3.521 - ETA: 5:55 - loss: 3.521 - ETA: 5:54 - loss: 3.521 - ETA: 5:53 - loss: 3.521 - ETA: 5:53 - loss: 3.521 - ETA: 5:52 - loss: 3.521 - ETA: 5:51 - loss: 3.522 - ETA: 5:50 - loss: 3.522 - ETA: 5:49 - loss: 3.522 - ETA: 5:49 - loss: 3.521 - ETA: 5:48 - loss: 3.521 - ETA: 5:47 - loss: 3.521 - ETA: 5:46 - loss: 3.521 - ETA: 5:46 - loss: 3.521 - ETA: 5:45 - loss: 3.521 - ETA: 5:44 - loss: 3.521 - ETA: 5:43 - loss: 3.521 - ETA: 5:43 - loss: 3.521 - ETA: 5:42 - loss: 3.521 - ETA: 5:41 - loss: 3.521 - ETA: 5:40 - loss: 3.522 - ETA: 5:39 - loss: 3.522 - ETA: 5:39 - loss: 3.522 - ETA: 5:38 - loss: 3.521 - ETA: 5:37 - loss: 3.521 - ETA: 5:36 - loss: 3.521 - ETA: 5:35 - loss: 3.521 - ETA: 5:35 - loss: 3.521 - ETA: 5:34 - loss: 3.521 - ETA: 5:33 - loss: 3.521 - ETA: 5:32 - loss: 3.521 - ETA: 5:31 - loss: 3.521 - ETA: 5:31 - loss: 3.521 - ETA: 5:30 - loss: 3.521 - ETA: 5:29 - loss: 3.521 - ETA: 5:28 - loss: 3.521 - ETA: 5:27 - loss: 3.521 - ETA: 5:27 - loss: 3.521 - ETA: 5:26 - loss: 3.521 - ETA: 5:25 - loss: 3.521 - ETA: 5:24 - loss: 3.521 - ETA: 5:24 - loss: 3.521 - ETA: 5:23 - loss: 3.521 - ETA: 5:22 - loss: 3.521 - ETA: 5:21 - loss: 3.521 - ETA: 5:20 - loss: 3.521 - ETA: 5:20 - loss: 3.521 - ETA: 5:19 - loss: 3.521 - ETA: 5:18 - loss: 3.521 - ETA: 5:17 - loss: 3.521 - ETA: 5:16 - loss: 3.521 - ETA: 5:16 - loss: 3.521 - ETA: 5:15 - loss: 3.521 - ETA: 5:14 - loss: 3.522 - ETA: 5:13 - loss: 3.522 - ETA: 5:12 - loss: 3.522 - ETA: 5:12 - loss: 3.521 - ETA: 5:11 - loss: 3.521 - ETA: 5:10 - loss: 3.521 - ETA: 5:09 - loss: 3.521 - ETA: 5:08 - loss: 3.521 - ETA: 5:08 - loss: 3.521 - ETA: 5:07 - loss: 3.521 - ETA: 5:06 - loss: 3.521 - ETA: 5:05 - loss: 3.521 - ETA: 5:04 - loss: 3.521 - ETA: 5:04 - loss: 3.521 - ETA: 5:03 - loss: 3.521 - ETA: 5:02 - loss: 3.521 - ETA: 5:01 - loss: 3.522 - ETA: 5:01 - loss: 3.522 - ETA: 5:00 - loss: 3.522 - ETA: 4:59 - loss: 3.522 - ETA: 4:58 - loss: 3.522 - ETA: 4:57 - loss: 3.522 - ETA: 4:57 - loss: 3.522 - ETA: 4:56 - loss: 3.522 - ETA: 4:55 - loss: 3.522 - ETA: 4:54 - loss: 3.522 - ETA: 4:53 - loss: 3.522 - ETA: 4:53 - loss: 3.522 - ETA: 4:52 - loss: 3.522 - ETA: 4:51 - loss: 3.521 - ETA: 4:50 - loss: 3.522 - ETA: 4:50 - loss: 3.522 - ETA: 4:49 - loss: 3.522 - ETA: 4:48 - loss: 3.522 - ETA: 4:47 - loss: 3.522 - ETA: 4:46 - loss: 3.522 - ETA: 4:46 - loss: 3.522 - ETA: 4:45 - loss: 3.522 - ETA: 4:44 - loss: 3.522 - ETA: 4:43 - loss: 3.521 - ETA: 4:42 - loss: 3.521 - ETA: 4:42 - loss: 3.521 - ETA: 4:41 - loss: 3.522 - ETA: 4:40 - loss: 3.522 - ETA: 4:39 - loss: 3.522 - ETA: 4:39 - loss: 3.522 - ETA: 4:38 - loss: 3.522 - ETA: 4:37 - loss: 3.521 - ETA: 4:36 - loss: 3.522 - ETA: 4:35 - loss: 3.521 - ETA: 4:35 - loss: 3.521 - ETA: 4:34 - loss: 3.521 - ETA: 4:33 - loss: 3.521 - ETA: 4:32 - loss: 3.521 - ETA: 4:31 - loss: 3.521 - ETA: 4:31 - loss: 3.521 - ETA: 4:30 - loss: 3.521 - ETA: 4:29 - loss: 3.521 - ETA: 4:28 - loss: 3.521 - ETA: 4:27 - loss: 3.521 - ETA: 4:27 - loss: 3.521 - ETA: 4:26 - loss: 3.521 - ETA: 4:25 - loss: 3.521 - ETA: 4:24 - loss: 3.521 - ETA: 4:24 - loss: 3.521 - ETA: 4:23 - loss: 3.521 - ETA: 4:22 - loss: 3.521 - ETA: 4:21 - loss: 3.521 - ETA: 4:20 - loss: 3.521 - ETA: 4:20 - loss: 3.521 - ETA: 4:19 - loss: 3.521 - ETA: 4:18 - loss: 3.521 - ETA: 4:17 - loss: 3.521 - ETA: 4:17 - loss: 3.521 - ETA: 4:16 - loss: 3.521 - ETA: 4:15 - loss: 3.521 - ETA: 4:14 - loss: 3.521 - ETA: 4:13 - loss: 3.521 - ETA: 4:13 - loss: 3.521 - ETA: 4:12 - loss: 3.521 - ETA: 4:11 - loss: 3.521 - ETA: 4:10 - loss: 3.521 - ETA: 4:09 - loss: 3.521 - ETA: 4:09 - loss: 3.521 - ETA: 4:08 - loss: 3.521 - ETA: 4:07 - loss: 3.521 - ETA: 4:06 - loss: 3.522 - ETA: 4:06 - loss: 3.522 - ETA: 4:05 - loss: 3.522 - ETA: 4:04 - loss: 3.522 - ETA: 4:03 - loss: 3.521 - ETA: 4:02 - loss: 3.522 - ETA: 4:02 - loss: 3.522 - ETA: 4:01 - loss: 3.522 - ETA: 4:00 - loss: 3.522 - ETA: 3:59 - loss: 3.522 - ETA: 3:58 - loss: 3.521 - ETA: 3:58 - loss: 3.521 - ETA: 3:57 - loss: 3.521 - ETA: 3:56 - loss: 3.521 - ETA: 3:55 - loss: 3.521 - ETA: 3:55 - loss: 3.521 - ETA: 3:54 - loss: 3.521 - ETA: 3:53 - loss: 3.521 - ETA: 3:52 - loss: 3.521 - ETA: 3:51 - loss: 3.521 - ETA: 3:51 - loss: 3.521 - ETA: 3:50 - loss: 3.521 - ETA: 3:49 - loss: 3.521 - ETA: 3:48 - loss: 3.522 - ETA: 3:48 - loss: 3.521 - ETA: 3:47 - loss: 3.521 - ETA: 3:46 - loss: 3.521 - ETA: 3:45 - loss: 3.522 - ETA: 3:44 - loss: 3.522 - ETA: 3:44 - loss: 3.522 - ETA: 3:43 - loss: 3.522 - ETA: 3:42 - loss: 3.522 - ETA: 3:41 - loss: 3.522 - ETA: 3:41 - loss: 3.521 - ETA: 3:40 - loss: 3.521 - ETA: 3:39 - loss: 3.521 - ETA: 3:38 - loss: 3.521 - ETA: 3:37 - loss: 3.521 - ETA: 3:37 - loss: 3.521 - ETA: 3:36 - loss: 3.521 - ETA: 3:35 - loss: 3.521 - ETA: 3:34 - loss: 3.521 - ETA: 3:33 - loss: 3.520 - ETA: 3:33 - loss: 3.520 - ETA: 3:32 - loss: 3.520 - ETA: 3:31 - loss: 3.520 - ETA: 3:30 - loss: 3.520 - ETA: 3:30 - loss: 3.520 - ETA: 3:29 - loss: 3.520 - ETA: 3:28 - loss: 3.519 - ETA: 3:27 - loss: 3.519 - ETA: 3:26 - loss: 3.519 - ETA: 3:26 - loss: 3.519 - ETA: 3:25 - loss: 3.519 - ETA: 3:24 - loss: 3.519 - ETA: 3:23 - loss: 3.519 - ETA: 3:23 - loss: 3.519 - ETA: 3:22 - loss: 3.519 - ETA: 3:21 - loss: 3.518 - ETA: 3:20 - loss: 3.518 - ETA: 3:19 - loss: 3.518 - ETA: 3:19 - loss: 3.518 - ETA: 3:18 - loss: 3.518 - ETA: 3:17 - loss: 3.518 - ETA: 3:16 - loss: 3.518 - ETA: 3:16 - loss: 3.5179"
     ]
    },
    {
     "name": "stdout",
     "output_type": "stream",
     "text": [
      "4335/4335 [==============================] - ETA: 3:15 - loss: 3.517 - ETA: 3:14 - loss: 3.517 - ETA: 3:13 - loss: 3.517 - ETA: 3:12 - loss: 3.517 - ETA: 3:12 - loss: 3.517 - ETA: 3:11 - loss: 3.516 - ETA: 3:10 - loss: 3.516 - ETA: 3:09 - loss: 3.516 - ETA: 3:09 - loss: 3.516 - ETA: 3:08 - loss: 3.516 - ETA: 3:07 - loss: 3.516 - ETA: 3:06 - loss: 3.515 - ETA: 3:05 - loss: 3.515 - ETA: 3:05 - loss: 3.515 - ETA: 3:04 - loss: 3.515 - ETA: 3:03 - loss: 3.515 - ETA: 3:02 - loss: 3.515 - ETA: 3:02 - loss: 3.515 - ETA: 3:01 - loss: 3.514 - ETA: 3:00 - loss: 3.514 - ETA: 2:59 - loss: 3.514 - ETA: 2:58 - loss: 3.514 - ETA: 2:58 - loss: 3.514 - ETA: 2:57 - loss: 3.514 - ETA: 2:56 - loss: 3.514 - ETA: 2:55 - loss: 3.513 - ETA: 2:55 - loss: 3.513 - ETA: 2:54 - loss: 3.513 - ETA: 2:53 - loss: 3.513 - ETA: 2:52 - loss: 3.513 - ETA: 2:51 - loss: 3.513 - ETA: 2:51 - loss: 3.513 - ETA: 2:50 - loss: 3.513 - ETA: 2:49 - loss: 3.512 - ETA: 2:48 - loss: 3.512 - ETA: 2:48 - loss: 3.512 - ETA: 2:47 - loss: 3.512 - ETA: 2:46 - loss: 3.512 - ETA: 2:45 - loss: 3.512 - ETA: 2:44 - loss: 3.512 - ETA: 2:44 - loss: 3.512 - ETA: 2:43 - loss: 3.512 - ETA: 2:42 - loss: 3.511 - ETA: 2:41 - loss: 3.511 - ETA: 2:41 - loss: 3.511 - ETA: 2:40 - loss: 3.511 - ETA: 2:39 - loss: 3.511 - ETA: 2:38 - loss: 3.511 - ETA: 2:37 - loss: 3.511 - ETA: 2:37 - loss: 3.511 - ETA: 2:36 - loss: 3.511 - ETA: 2:35 - loss: 3.511 - ETA: 2:34 - loss: 3.511 - ETA: 2:34 - loss: 3.511 - ETA: 2:33 - loss: 3.511 - ETA: 2:32 - loss: 3.510 - ETA: 2:31 - loss: 3.510 - ETA: 2:30 - loss: 3.510 - ETA: 2:30 - loss: 3.510 - ETA: 2:29 - loss: 3.510 - ETA: 2:28 - loss: 3.510 - ETA: 2:27 - loss: 3.510 - ETA: 2:27 - loss: 3.510 - ETA: 2:26 - loss: 3.510 - ETA: 2:25 - loss: 3.510 - ETA: 2:24 - loss: 3.509 - ETA: 2:23 - loss: 3.509 - ETA: 2:23 - loss: 3.509 - ETA: 2:22 - loss: 3.509 - ETA: 2:21 - loss: 3.509 - ETA: 2:20 - loss: 3.509 - ETA: 2:20 - loss: 3.509 - ETA: 2:19 - loss: 3.509 - ETA: 2:18 - loss: 3.508 - ETA: 2:17 - loss: 3.508 - ETA: 2:16 - loss: 3.508 - ETA: 2:16 - loss: 3.508 - ETA: 2:15 - loss: 3.508 - ETA: 2:14 - loss: 3.508 - ETA: 2:13 - loss: 3.508 - ETA: 2:13 - loss: 3.508 - ETA: 2:12 - loss: 3.507 - ETA: 2:11 - loss: 3.507 - ETA: 2:10 - loss: 3.507 - ETA: 2:10 - loss: 3.507 - ETA: 2:09 - loss: 3.507 - ETA: 2:08 - loss: 3.507 - ETA: 2:07 - loss: 3.507 - ETA: 2:06 - loss: 3.507 - ETA: 2:06 - loss: 3.507 - ETA: 2:05 - loss: 3.507 - ETA: 2:04 - loss: 3.507 - ETA: 2:03 - loss: 3.507 - ETA: 2:03 - loss: 3.507 - ETA: 2:02 - loss: 3.507 - ETA: 2:01 - loss: 3.507 - ETA: 2:00 - loss: 3.506 - ETA: 1:59 - loss: 3.506 - ETA: 1:59 - loss: 3.506 - ETA: 1:58 - loss: 3.506 - ETA: 1:57 - loss: 3.506 - ETA: 1:56 - loss: 3.506 - ETA: 1:56 - loss: 3.506 - ETA: 1:55 - loss: 3.505 - ETA: 1:54 - loss: 3.505 - ETA: 1:53 - loss: 3.505 - ETA: 1:53 - loss: 3.505 - ETA: 1:52 - loss: 3.505 - ETA: 1:51 - loss: 3.505 - ETA: 1:50 - loss: 3.505 - ETA: 1:49 - loss: 3.504 - ETA: 1:49 - loss: 3.504 - ETA: 1:48 - loss: 3.504 - ETA: 1:47 - loss: 3.504 - ETA: 1:46 - loss: 3.504 - ETA: 1:46 - loss: 3.504 - ETA: 1:45 - loss: 3.504 - ETA: 1:44 - loss: 3.504 - ETA: 1:43 - loss: 3.504 - ETA: 1:42 - loss: 3.504 - ETA: 1:42 - loss: 3.503 - ETA: 1:41 - loss: 3.503 - ETA: 1:40 - loss: 3.503 - ETA: 1:39 - loss: 3.503 - ETA: 1:39 - loss: 3.503 - ETA: 1:38 - loss: 3.503 - ETA: 1:37 - loss: 3.503 - ETA: 1:36 - loss: 3.503 - ETA: 1:36 - loss: 3.503 - ETA: 1:35 - loss: 3.502 - ETA: 1:34 - loss: 3.502 - ETA: 1:33 - loss: 3.502 - ETA: 1:32 - loss: 3.502 - ETA: 1:32 - loss: 3.502 - ETA: 1:31 - loss: 3.502 - ETA: 1:30 - loss: 3.502 - ETA: 1:29 - loss: 3.502 - ETA: 1:29 - loss: 3.502 - ETA: 1:28 - loss: 3.502 - ETA: 1:27 - loss: 3.501 - ETA: 1:26 - loss: 3.501 - ETA: 1:25 - loss: 3.501 - ETA: 1:25 - loss: 3.501 - ETA: 1:24 - loss: 3.501 - ETA: 1:23 - loss: 3.501 - ETA: 1:22 - loss: 3.501 - ETA: 1:22 - loss: 3.501 - ETA: 1:21 - loss: 3.501 - ETA: 1:20 - loss: 3.501 - ETA: 1:19 - loss: 3.501 - ETA: 1:19 - loss: 3.501 - ETA: 1:18 - loss: 3.500 - ETA: 1:17 - loss: 3.500 - ETA: 1:16 - loss: 3.500 - ETA: 1:15 - loss: 3.500 - ETA: 1:15 - loss: 3.500 - ETA: 1:14 - loss: 3.500 - ETA: 1:13 - loss: 3.500 - ETA: 1:12 - loss: 3.500 - ETA: 1:12 - loss: 3.500 - ETA: 1:11 - loss: 3.500 - ETA: 1:10 - loss: 3.500 - ETA: 1:09 - loss: 3.500 - ETA: 1:09 - loss: 3.500 - ETA: 1:08 - loss: 3.500 - ETA: 1:07 - loss: 3.499 - ETA: 1:06 - loss: 3.499 - ETA: 1:05 - loss: 3.499 - ETA: 1:05 - loss: 3.499 - ETA: 1:04 - loss: 3.499 - ETA: 1:03 - loss: 3.499 - ETA: 1:02 - loss: 3.499 - ETA: 1:02 - loss: 3.499 - ETA: 1:01 - loss: 3.499 - ETA: 1:00 - loss: 3.499 - ETA: 59s - loss: 3.498 - ETA: 59s - loss: 3.49 - ETA: 58s - loss: 3.49 - ETA: 57s - loss: 3.49 - ETA: 56s - loss: 3.49 - ETA: 55s - loss: 3.49 - ETA: 55s - loss: 3.49 - ETA: 54s - loss: 3.49 - ETA: 53s - loss: 3.49 - ETA: 52s - loss: 3.49 - ETA: 52s - loss: 3.49 - ETA: 51s - loss: 3.49 - ETA: 50s - loss: 3.49 - ETA: 49s - loss: 3.49 - ETA: 49s - loss: 3.49 - ETA: 48s - loss: 3.49 - ETA: 47s - loss: 3.49 - ETA: 46s - loss: 3.49 - ETA: 45s - loss: 3.49 - ETA: 45s - loss: 3.49 - ETA: 44s - loss: 3.49 - ETA: 43s - loss: 3.49 - ETA: 42s - loss: 3.49 - ETA: 42s - loss: 3.49 - ETA: 41s - loss: 3.49 - ETA: 40s - loss: 3.49 - ETA: 39s - loss: 3.49 - ETA: 39s - loss: 3.49 - ETA: 38s - loss: 3.49 - ETA: 37s - loss: 3.49 - ETA: 36s - loss: 3.49 - ETA: 36s - loss: 3.49 - ETA: 35s - loss: 3.49 - ETA: 34s - loss: 3.49 - ETA: 33s - loss: 3.49 - ETA: 32s - loss: 3.49 - ETA: 32s - loss: 3.49 - ETA: 31s - loss: 3.49 - ETA: 30s - loss: 3.49 - ETA: 29s - loss: 3.49 - ETA: 29s - loss: 3.49 - ETA: 28s - loss: 3.49 - ETA: 27s - loss: 3.49 - ETA: 26s - loss: 3.49 - ETA: 26s - loss: 3.49 - ETA: 25s - loss: 3.49 - ETA: 24s - loss: 3.49 - ETA: 23s - loss: 3.49 - ETA: 22s - loss: 3.49 - ETA: 22s - loss: 3.49 - ETA: 21s - loss: 3.49 - ETA: 20s - loss: 3.49 - ETA: 19s - loss: 3.49 - ETA: 19s - loss: 3.49 - ETA: 18s - loss: 3.49 - ETA: 17s - loss: 3.49 - ETA: 16s - loss: 3.49 - ETA: 16s - loss: 3.49 - ETA: 15s - loss: 3.49 - ETA: 14s - loss: 3.49 - ETA: 13s - loss: 3.49 - ETA: 13s - loss: 3.49 - ETA: 12s - loss: 3.49 - ETA: 11s - loss: 3.49 - ETA: 10s - loss: 3.49 - ETA: 9s - loss: 3.4924 - ETA: 9s - loss: 3.492 - ETA: 8s - loss: 3.492 - ETA: 7s - loss: 3.492 - ETA: 6s - loss: 3.492 - ETA: 6s - loss: 3.491 - ETA: 5s - loss: 3.491 - ETA: 4s - loss: 3.491 - ETA: 3s - loss: 3.491 - ETA: 3s - loss: 3.491 - ETA: 2s - loss: 3.491 - ETA: 1s - loss: 3.491 - ETA: 0s - loss: 3.491 - 3316s 765ms/step - loss: 3.4912\n",
      "####################\n",
      "Temperature: 0.2\n",
      "####################\n",
      "\" aracımız 2009 model bmw 5 . 20 d m paket m paket dış renk : siyah iç renk : bej deri döşeme : sunroof bi xenon farlar far yıkama yağmur sensörü far sensörü far yıkama sistemi ön arka park sensörü geri görüş kamerası bluetooth telefon usb aux cd mp3 çalar usb aux cd mp3 çalar yol bilgisayarı fonksiyonel direksiyon elektrikli katlanır aynalar elektrikli arka perde yan makam perdeleri elektrikli arka perde yan makam perdeleri kararan iç dikiz aynası elektrikli arka perde yan makam perdeleri elektrikli arka perde yan makam perde yan makam perde yan makam perde yan makam perdeleri elektrikli arka perde yan makam perdeleri elektrikli arka perde elektrikli katlanır yan aynalar elektrikli arka perde yan makam perdeleri elektrikli arka perde yan makam perdeleri elektrikli arka perde yan makam perdeleri elektrikli arka perde yan makam perdeleri elektrikli arka perde yan makam perdeleri elektrikli arka perde elektrikli katlanır yan aynalar kararan iç dikiz aynası fonksiyonel direksiyon hız sabitleyici elektrikli katlanır aynalar elektrikli arka perde yan makam perde yan makam perdeleri elektrikli arka perde yan makam perdeleri elektrikli arka perde yan makam perdeleri elektrikli arka perde yan makam perdeleri elektrikli arka perde yan makam perde yan makam perde yan makam perdeleri arka elektrikli perde yan makam perde yan makam perdeleri arka ve yan makam perde yan makam perdeleri elektrikli arka perde yan makam perdeleri elektrikli arka perde yan makam perdeleri elektrikli arka perde elektrikli katlanır yan aynalar kararan iç dikiz aynası elektronik el freni çift bölge dijital klima yol bilgisayarı cruise control ( hız sabitleyici ) elektrikli katlanır yan aynalar elektronik park freni yol bilgisayarı yağmur sensörü far sensörü elektrikli katlanır yan aynalar lastik basınç sensörü fonksiyonel direksiyon elektrikli katlanır aynalar elektrikli arka perde yan makam perdeleri elektrikli arka perde hava yastıkları yol bilgisayarı cruise control ( hız sabitleyici )\n"
     ]
    },
    {
     "name": "stdout",
     "output_type": "stream",
     "text": [
      "\n",
      "\" aracımız 2009 model bmw 5 . 20 d m paket m paket dış renk : siyah iç renk : bej deri döşeme : sunroof bi xenon farlar far yıkama far yıkama sistemi yağmur sensörü far sensörü ön arka park sensörü hız sabitleyici elektrikli katlanır aynalar far sensörü yağmur sensörü ön arka park sensörü far sensörü elektrikli katlanır aynalar elektrikli arka perde\n",
      "\n",
      "\" aracımız 2009 model bmw 5 . 20 d m paket . borusan çıkışlı dış renk : beyaz iç renk : bej deri döşeme : sunroof bi xenon farlar far yıkama far ve yağmur sensörü ön arka park sensörü far sensörü yağmur sensörü far sensörü ön arka park sensörü far sensörü yağmur sensörü far sensörü ön arka park sensörü elektrikli katlanır aynalar far yıkama sistemi elektrikli arka perde sis farı far sensörü yağmur sensörü far sensörü ön arka park sensörü elektrikli katlanır aynalar elektrikli arka perde\n",
      "\n",
      "####################\n",
      "Temperature: 0.5\n",
      "####################\n",
      "sahibinden çok temiz kullanılmış bir araç çok temiz kullanılmış bir araçtır\n",
      "\n",
      "aracımız 2009 model bmw 5 . 20 d comfort otomatik vites lpg li ( ruhsata işli ) bakımları yeni yapılmıştır\n",
      "\n",
      "\" araç sahibinden , satılıktır . bmw acil durum çagrısı ( bmw 520 ) d . m paket dış renk : beyaz iç renk : bej deri döşeme : sunroof ( – ön – arka ) park mesafe kontrol ön arka navigasyon sistemi ( acil fren destekli ) ön koltuk ısıtma ( elektrikli ) ön arka kol dayama ön arka kol dayama arka kol dayama ön arka kol dayama arka kol dayama arka kol dayama arka kol dayama isofix ( tramer )\n",
      "\n",
      "####################\n",
      "Temperature: 1.0\n",
      "####################\n",
      "\" aracımızda ağır hasar kaydı mevcuttur ağır 7 . 500 tl dir boya olarak aşağıda işaretlenmiştir . tramer kaydı parça ve kayıt tl civarında % 80 çıkmaktadır . toplamda 4 parça 12 . 000 tl parça sol ön kapı ve arka çamurluk lokal boya mevcut hasar tramer kaydı : m tampon değişimi 400 tl hasar kaydı ( sol ön kapı ve arka sol bir ) sol ön çamurluk altı boyalı parçalar üst model boyasız borusan çıkışlı aracımızın bakımları borusan servis yaptığı anahtarı ve kitapçıkları mevcuttur sport , comfort kasko tarafından kullanılmış , içinde şehir dışından gelecekler arabalarla verilip araç özellikleri çalışmaktadır . herhangi bir güzeli arıza aksamları da iç kozmetiği klima sürüş seçeneği ön arka park sensörleri ( zaman ön far sistemi ve otomatik ) ) arka ve ön tampon altı sağ orjınal sol koltuk sol hafıza koltuklar sağ sol tesisatı komple a kadıköy kapağı orjinal ied double ekran ve ön plastik tampon mail paspaslar katlanır ayna hız sabitleyici yedek anahtarı , kitapçıkları tüm bakımları yaptırılmıştır . özel renk 2 ay önce yapılmıştır www . . com ​\n",
      "\n",
      "pazar günleri açığız mantıklı takaslar değerlendirilir otomatik vites araçla takas olur\n",
      "\n",
      "\" araç ev ve arsa takası teklif etmeyiniz . ! bmw otomatik vites topuzu sanroof dijital klima elektirkli katlanır aynalar 4 bölge dijital klima ( klima arızası yoktur ) iç dış ışık paket kaydi sos sürücü beyaz zenon mercekli far vs . aracımız 2009 modeldir ve tamamen hatasızdır . bakımları zamanında yapılmıştır aracımız özel servis güzel olup extra olarak m fonksiyonel direksiyon simidi 1 bulunuyor kış lastiği kışlık ve yazlık vardır .\n",
      "\n",
      "Epoch 3/3\n"
     ]
    },
    {
     "name": "stdout",
     "output_type": "stream",
     "text": [
      " 314/4335 [=>............................] - ETA: 45:17 - loss: 3.20 - ETA: 47:17 - loss: 3.11 - ETA: 46:39 - loss: 3.27 - ETA: 46:57 - loss: 3.27 - ETA: 47:12 - loss: 3.25 - ETA: 47:07 - loss: 3.22 - ETA: 47:33 - loss: 3.28 - ETA: 48:17 - loss: 3.32 - ETA: 48:24 - loss: 3.27 - ETA: 48:26 - loss: 3.24 - ETA: 48:42 - loss: 3.24 - ETA: 48:48 - loss: 3.22 - ETA: 48:37 - loss: 3.22 - ETA: 48:49 - loss: 3.21 - ETA: 48:46 - loss: 3.17 - ETA: 48:32 - loss: 3.18 - ETA: 48:34 - loss: 3.18 - ETA: 48:39 - loss: 3.16 - ETA: 48:32 - loss: 3.14 - ETA: 48:30 - loss: 3.15 - ETA: 48:29 - loss: 3.16 - ETA: 48:27 - loss: 3.14 - ETA: 48:28 - loss: 3.13 - ETA: 48:32 - loss: 3.12 - ETA: 48:29 - loss: 3.12 - ETA: 48:28 - loss: 3.14 - ETA: 48:31 - loss: 3.15 - ETA: 48:29 - loss: 3.15 - ETA: 48:28 - loss: 3.15 - ETA: 48:27 - loss: 3.16 - ETA: 48:21 - loss: 3.14 - ETA: 48:21 - loss: 3.13 - ETA: 48:20 - loss: 3.13 - ETA: 48:18 - loss: 3.13 - ETA: 48:15 - loss: 3.12 - ETA: 48:13 - loss: 3.13 - ETA: 48:10 - loss: 3.12 - ETA: 48:07 - loss: 3.11 - ETA: 48:07 - loss: 3.12 - ETA: 48:03 - loss: 3.13 - ETA: 48:01 - loss: 3.14 - ETA: 47:59 - loss: 3.13 - ETA: 47:57 - loss: 3.13 - ETA: 47:57 - loss: 3.13 - ETA: 48:02 - loss: 3.13 - ETA: 48:00 - loss: 3.13 - ETA: 47:57 - loss: 3.12 - ETA: 47:55 - loss: 3.12 - ETA: 47:51 - loss: 3.13 - ETA: 47:51 - loss: 3.12 - ETA: 47:51 - loss: 3.12 - ETA: 47:48 - loss: 3.13 - ETA: 47:48 - loss: 3.13 - ETA: 47:48 - loss: 3.13 - ETA: 47:43 - loss: 3.13 - ETA: 47:45 - loss: 3.14 - ETA: 47:45 - loss: 3.14 - ETA: 47:41 - loss: 3.14 - ETA: 47:40 - loss: 3.13 - ETA: 47:39 - loss: 3.13 - ETA: 47:36 - loss: 3.13 - ETA: 47:36 - loss: 3.12 - ETA: 47:35 - loss: 3.12 - ETA: 47:32 - loss: 3.12 - ETA: 47:32 - loss: 3.12 - ETA: 47:31 - loss: 3.12 - ETA: 47:27 - loss: 3.12 - ETA: 47:27 - loss: 3.12 - ETA: 47:25 - loss: 3.12 - ETA: 47:22 - loss: 3.12 - ETA: 47:22 - loss: 3.11 - ETA: 47:23 - loss: 3.11 - ETA: 47:22 - loss: 3.11 - ETA: 47:21 - loss: 3.11 - ETA: 47:21 - loss: 3.11 - ETA: 47:18 - loss: 3.11 - ETA: 47:19 - loss: 3.12 - ETA: 47:19 - loss: 3.12 - ETA: 47:17 - loss: 3.11 - ETA: 47:18 - loss: 3.11 - ETA: 47:16 - loss: 3.11 - ETA: 47:15 - loss: 3.10 - ETA: 47:15 - loss: 3.10 - ETA: 47:14 - loss: 3.10 - ETA: 47:12 - loss: 3.09 - ETA: 47:11 - loss: 3.09 - ETA: 47:11 - loss: 3.09 - ETA: 47:08 - loss: 3.10 - ETA: 47:10 - loss: 3.10 - ETA: 47:10 - loss: 3.10 - ETA: 47:08 - loss: 3.10 - ETA: 47:08 - loss: 3.10 - ETA: 47:08 - loss: 3.11 - ETA: 47:06 - loss: 3.10 - ETA: 47:06 - loss: 3.10 - ETA: 47:06 - loss: 3.11 - ETA: 47:04 - loss: 3.11 - ETA: 47:03 - loss: 3.10 - ETA: 47:03 - loss: 3.11 - ETA: 47:00 - loss: 3.11 - ETA: 47:00 - loss: 3.10 - ETA: 46:59 - loss: 3.10 - ETA: 46:57 - loss: 3.10 - ETA: 46:57 - loss: 3.10 - ETA: 46:56 - loss: 3.10 - ETA: 46:54 - loss: 3.10 - ETA: 46:54 - loss: 3.10 - ETA: 46:53 - loss: 3.10 - ETA: 46:52 - loss: 3.10 - ETA: 46:51 - loss: 3.10 - ETA: 46:50 - loss: 3.10 - ETA: 46:49 - loss: 3.10 - ETA: 46:48 - loss: 3.10 - ETA: 46:46 - loss: 3.11 - ETA: 46:47 - loss: 3.11 - ETA: 46:47 - loss: 3.11 - ETA: 46:46 - loss: 3.10 - ETA: 46:44 - loss: 3.11 - ETA: 46:44 - loss: 3.11 - ETA: 46:43 - loss: 3.10 - ETA: 46:41 - loss: 3.10 - ETA: 46:41 - loss: 3.10 - ETA: 46:40 - loss: 3.10 - ETA: 46:40 - loss: 3.10 - ETA: 46:39 - loss: 3.10 - ETA: 46:38 - loss: 3.09 - ETA: 46:37 - loss: 3.09 - ETA: 46:37 - loss: 3.09 - ETA: 46:36 - loss: 3.09 - ETA: 46:36 - loss: 3.09 - ETA: 46:35 - loss: 3.08 - ETA: 46:34 - loss: 3.09 - ETA: 46:34 - loss: 3.09 - ETA: 46:34 - loss: 3.09 - ETA: 46:33 - loss: 3.09 - ETA: 46:33 - loss: 3.08 - ETA: 46:33 - loss: 3.08 - ETA: 46:31 - loss: 3.08 - ETA: 46:30 - loss: 3.08 - ETA: 46:30 - loss: 3.09 - ETA: 46:30 - loss: 3.08 - ETA: 46:29 - loss: 3.08 - ETA: 46:29 - loss: 3.08 - ETA: 46:28 - loss: 3.08 - ETA: 46:27 - loss: 3.08 - ETA: 46:27 - loss: 3.08 - ETA: 46:25 - loss: 3.08 - ETA: 46:25 - loss: 3.09 - ETA: 46:25 - loss: 3.09 - ETA: 46:24 - loss: 3.09 - ETA: 46:23 - loss: 3.09 - ETA: 46:22 - loss: 3.09 - ETA: 46:21 - loss: 3.09 - ETA: 46:20 - loss: 3.09 - ETA: 46:20 - loss: 3.09 - ETA: 46:19 - loss: 3.09 - ETA: 46:18 - loss: 3.09 - ETA: 46:17 - loss: 3.09 - ETA: 46:16 - loss: 3.09 - ETA: 46:16 - loss: 3.09 - ETA: 46:15 - loss: 3.09 - ETA: 46:14 - loss: 3.09 - ETA: 46:13 - loss: 3.09 - ETA: 46:13 - loss: 3.09 - ETA: 46:11 - loss: 3.09 - ETA: 46:11 - loss: 3.09 - ETA: 46:10 - loss: 3.09 - ETA: 46:09 - loss: 3.09 - ETA: 46:08 - loss: 3.08 - ETA: 46:07 - loss: 3.09 - ETA: 46:06 - loss: 3.09 - ETA: 46:06 - loss: 3.09 - ETA: 46:05 - loss: 3.09 - ETA: 46:04 - loss: 3.09 - ETA: 46:04 - loss: 3.09 - ETA: 46:03 - loss: 3.09 - ETA: 46:02 - loss: 3.09 - ETA: 46:01 - loss: 3.09 - ETA: 46:00 - loss: 3.09 - ETA: 45:59 - loss: 3.09 - ETA: 46:00 - loss: 3.09 - ETA: 45:59 - loss: 3.09 - ETA: 45:58 - loss: 3.09 - ETA: 45:58 - loss: 3.09 - ETA: 45:56 - loss: 3.09 - ETA: 45:56 - loss: 3.09 - ETA: 45:55 - loss: 3.09 - ETA: 45:54 - loss: 3.09 - ETA: 45:54 - loss: 3.09 - ETA: 45:53 - loss: 3.09 - ETA: 45:52 - loss: 3.09 - ETA: 45:52 - loss: 3.09 - ETA: 45:51 - loss: 3.09 - ETA: 45:50 - loss: 3.08 - ETA: 45:50 - loss: 3.08 - ETA: 45:49 - loss: 3.08 - ETA: 45:48 - loss: 3.08 - ETA: 45:47 - loss: 3.08 - ETA: 45:46 - loss: 3.08 - ETA: 45:45 - loss: 3.08 - ETA: 45:44 - loss: 3.08 - ETA: 45:43 - loss: 3.08 - ETA: 45:42 - loss: 3.08 - ETA: 45:41 - loss: 3.08 - ETA: 45:40 - loss: 3.08 - ETA: 45:39 - loss: 3.07 - ETA: 45:37 - loss: 3.07 - ETA: 45:36 - loss: 3.07 - ETA: 45:35 - loss: 3.07 - ETA: 45:34 - loss: 3.07 - ETA: 45:33 - loss: 3.07 - ETA: 45:32 - loss: 3.07 - ETA: 45:31 - loss: 3.07 - ETA: 45:29 - loss: 3.07 - ETA: 45:29 - loss: 3.07 - ETA: 45:29 - loss: 3.07 - ETA: 45:27 - loss: 3.07 - ETA: 45:27 - loss: 3.07 - ETA: 45:26 - loss: 3.06 - ETA: 45:25 - loss: 3.06 - ETA: 45:26 - loss: 3.06 - ETA: 45:25 - loss: 3.06 - ETA: 45:24 - loss: 3.06 - ETA: 45:23 - loss: 3.07 - ETA: 45:23 - loss: 3.06 - ETA: 45:22 - loss: 3.06 - ETA: 45:21 - loss: 3.06 - ETA: 45:20 - loss: 3.07 - ETA: 45:19 - loss: 3.07 - ETA: 45:19 - loss: 3.07 - ETA: 45:18 - loss: 3.06 - ETA: 45:17 - loss: 3.06 - ETA: 45:17 - loss: 3.06 - ETA: 45:16 - loss: 3.06 - ETA: 45:14 - loss: 3.06 - ETA: 45:14 - loss: 3.06 - ETA: 45:12 - loss: 3.06 - ETA: 45:12 - loss: 3.06 - ETA: 45:11 - loss: 3.06 - ETA: 45:11 - loss: 3.06 - ETA: 45:10 - loss: 3.06 - ETA: 45:10 - loss: 3.06 - ETA: 45:09 - loss: 3.06 - ETA: 45:08 - loss: 3.06 - ETA: 45:08 - loss: 3.06 - ETA: 45:07 - loss: 3.06 - ETA: 45:06 - loss: 3.06 - ETA: 45:05 - loss: 3.06 - ETA: 45:04 - loss: 3.06 - ETA: 45:04 - loss: 3.06 - ETA: 45:04 - loss: 3.06 - ETA: 45:02 - loss: 3.06 - ETA: 45:02 - loss: 3.06 - ETA: 45:01 - loss: 3.06 - ETA: 45:00 - loss: 3.06 - ETA: 44:59 - loss: 3.06 - ETA: 44:58 - loss: 3.06 - ETA: 44:57 - loss: 3.06 - ETA: 44:57 - loss: 3.06 - ETA: 44:56 - loss: 3.06 - ETA: 44:55 - loss: 3.06 - ETA: 44:54 - loss: 3.06 - ETA: 44:54 - loss: 3.06 - ETA: 44:52 - loss: 3.06 - ETA: 44:52 - loss: 3.06 - ETA: 44:51 - loss: 3.06 - ETA: 44:50 - loss: 3.06 - ETA: 44:49 - loss: 3.06 - ETA: 44:48 - loss: 3.06 - ETA: 44:48 - loss: 3.07 - ETA: 44:47 - loss: 3.07 - ETA: 44:47 - loss: 3.07 - ETA: 44:46 - loss: 3.07 - ETA: 44:45 - loss: 3.07 - ETA: 44:44 - loss: 3.07 - ETA: 44:43 - loss: 3.07 - ETA: 44:43 - loss: 3.07 - ETA: 44:42 - loss: 3.07 - ETA: 44:41 - loss: 3.07 - ETA: 44:40 - loss: 3.07 - ETA: 44:39 - loss: 3.07 - ETA: 44:38 - loss: 3.07 - ETA: 44:38 - loss: 3.07 - ETA: 44:37 - loss: 3.07 - ETA: 44:36 - loss: 3.07 - ETA: 44:36 - loss: 3.07 - ETA: 44:35 - loss: 3.07 - ETA: 44:35 - loss: 3.07 - ETA: 44:34 - loss: 3.07 - ETA: 44:33 - loss: 3.07 - ETA: 44:33 - loss: 3.07 - ETA: 44:32 - loss: 3.07 - ETA: 44:31 - loss: 3.07 - ETA: 44:30 - loss: 3.07 - ETA: 44:29 - loss: 3.07 - ETA: 44:28 - loss: 3.07 - ETA: 44:28 - loss: 3.07 - ETA: 44:27 - loss: 3.07 - ETA: 44:26 - loss: 3.07 - ETA: 44:25 - loss: 3.07 - ETA: 44:24 - loss: 3.07 - ETA: 44:23 - loss: 3.07 - ETA: 44:23 - loss: 3.07 - ETA: 44:22 - loss: 3.07 - ETA: 44:22 - loss: 3.07 - ETA: 44:21 - loss: 3.07 - ETA: 44:20 - loss: 3.07 - ETA: 44:19 - loss: 3.07 - ETA: 44:19 - loss: 3.07 - ETA: 44:18 - loss: 3.07 - ETA: 44:17 - loss: 3.07 - ETA: 44:16 - loss: 3.07 - ETA: 44:15 - loss: 3.07 - ETA: 44:15 - loss: 3.0741 628/4335 [===>..........................] - ETA: 44:14 - loss: 3.07 - ETA: 44:13 - loss: 3.07 - ETA: 44:13 - loss: 3.07 - ETA: 44:12 - loss: 3.07 - ETA: 44:11 - loss: 3.07 - ETA: 44:11 - loss: 3.07 - ETA: 44:10 - loss: 3.07 - ETA: 44:09 - loss: 3.07 - ETA: 44:08 - loss: 3.07 - ETA: 44:08 - loss: 3.07 - ETA: 44:07 - loss: 3.07 - ETA: 44:06 - loss: 3.07 - ETA: 44:05 - loss: 3.07 - ETA: 44:04 - loss: 3.07 - ETA: 44:04 - loss: 3.07 - ETA: 44:03 - loss: 3.07 - ETA: 44:02 - loss: 3.07 - ETA: 44:01 - loss: 3.07 - ETA: 44:01 - loss: 3.07 - ETA: 44:00 - loss: 3.07 - ETA: 44:00 - loss: 3.07 - ETA: 43:59 - loss: 3.07 - ETA: 43:58 - loss: 3.07 - ETA: 43:58 - loss: 3.07 - ETA: 43:57 - loss: 3.07 - ETA: 43:56 - loss: 3.07 - ETA: 43:55 - loss: 3.07 - ETA: 43:54 - loss: 3.07 - ETA: 43:54 - loss: 3.07 - ETA: 43:53 - loss: 3.07 - ETA: 43:52 - loss: 3.07 - ETA: 43:51 - loss: 3.07 - ETA: 43:50 - loss: 3.07 - ETA: 43:50 - loss: 3.07 - ETA: 43:49 - loss: 3.07 - ETA: 43:48 - loss: 3.07 - ETA: 43:47 - loss: 3.07 - ETA: 43:47 - loss: 3.07 - ETA: 43:46 - loss: 3.07 - ETA: 43:45 - loss: 3.07 - ETA: 43:45 - loss: 3.07 - ETA: 43:43 - loss: 3.07 - ETA: 43:43 - loss: 3.07 - ETA: 43:42 - loss: 3.07 - ETA: 43:41 - loss: 3.07 - ETA: 43:41 - loss: 3.06 - ETA: 43:40 - loss: 3.06 - ETA: 43:39 - loss: 3.06 - ETA: 43:39 - loss: 3.06 - ETA: 43:39 - loss: 3.06 - ETA: 43:38 - loss: 3.06 - ETA: 43:37 - loss: 3.06 - ETA: 43:37 - loss: 3.06 - ETA: 43:36 - loss: 3.06 - ETA: 43:36 - loss: 3.06 - ETA: 43:35 - loss: 3.06 - ETA: 43:34 - loss: 3.06 - ETA: 43:34 - loss: 3.06 - ETA: 43:33 - loss: 3.06 - ETA: 43:32 - loss: 3.06 - ETA: 43:32 - loss: 3.06 - ETA: 43:31 - loss: 3.06 - ETA: 43:31 - loss: 3.06 - ETA: 43:30 - loss: 3.06 - ETA: 43:30 - loss: 3.06 - ETA: 43:29 - loss: 3.06 - ETA: 43:28 - loss: 3.06 - ETA: 43:28 - loss: 3.06 - ETA: 43:27 - loss: 3.06 - ETA: 43:26 - loss: 3.06 - ETA: 43:25 - loss: 3.06 - ETA: 43:24 - loss: 3.06 - ETA: 43:24 - loss: 3.06 - ETA: 43:23 - loss: 3.06 - ETA: 43:22 - loss: 3.06 - ETA: 43:21 - loss: 3.06 - ETA: 43:21 - loss: 3.06 - ETA: 43:20 - loss: 3.06 - ETA: 43:19 - loss: 3.06 - ETA: 43:18 - loss: 3.06 - ETA: 43:18 - loss: 3.06 - ETA: 43:17 - loss: 3.06 - ETA: 43:16 - loss: 3.06 - ETA: 43:16 - loss: 3.06 - ETA: 43:15 - loss: 3.06 - ETA: 43:14 - loss: 3.06 - ETA: 43:14 - loss: 3.06 - ETA: 43:14 - loss: 3.06 - ETA: 43:13 - loss: 3.06 - ETA: 43:12 - loss: 3.06 - ETA: 43:11 - loss: 3.06 - ETA: 43:10 - loss: 3.06 - ETA: 43:10 - loss: 3.06 - ETA: 43:09 - loss: 3.06 - ETA: 43:08 - loss: 3.06 - ETA: 43:08 - loss: 3.06 - ETA: 43:07 - loss: 3.06 - ETA: 43:06 - loss: 3.06 - ETA: 43:05 - loss: 3.06 - ETA: 43:05 - loss: 3.06 - ETA: 43:04 - loss: 3.06 - ETA: 43:03 - loss: 3.06 - ETA: 43:02 - loss: 3.06 - ETA: 43:01 - loss: 3.06 - ETA: 43:01 - loss: 3.06 - ETA: 43:00 - loss: 3.06 - ETA: 42:59 - loss: 3.06 - ETA: 43:00 - loss: 3.06 - ETA: 43:00 - loss: 3.06 - ETA: 42:59 - loss: 3.06 - ETA: 42:58 - loss: 3.06 - ETA: 42:58 - loss: 3.06 - ETA: 42:57 - loss: 3.06 - ETA: 42:56 - loss: 3.06 - ETA: 42:55 - loss: 3.06 - ETA: 42:55 - loss: 3.06 - ETA: 42:54 - loss: 3.06 - ETA: 42:53 - loss: 3.06 - ETA: 42:52 - loss: 3.06 - ETA: 42:52 - loss: 3.06 - ETA: 42:51 - loss: 3.06 - ETA: 42:50 - loss: 3.06 - ETA: 42:50 - loss: 3.06 - ETA: 42:50 - loss: 3.06 - ETA: 42:49 - loss: 3.06 - ETA: 42:49 - loss: 3.06 - ETA: 42:48 - loss: 3.06 - ETA: 42:48 - loss: 3.06 - ETA: 42:48 - loss: 3.06 - ETA: 42:47 - loss: 3.06 - ETA: 42:47 - loss: 3.06 - ETA: 42:46 - loss: 3.06 - ETA: 42:46 - loss: 3.06 - ETA: 42:45 - loss: 3.06 - ETA: 42:45 - loss: 3.06 - ETA: 42:45 - loss: 3.06 - ETA: 42:45 - loss: 3.06 - ETA: 42:44 - loss: 3.06 - ETA: 42:44 - loss: 3.06 - ETA: 42:44 - loss: 3.06 - ETA: 42:44 - loss: 3.06 - ETA: 42:43 - loss: 3.06 - ETA: 42:43 - loss: 3.06 - ETA: 42:42 - loss: 3.06 - ETA: 42:41 - loss: 3.06 - ETA: 42:41 - loss: 3.06 - ETA: 42:40 - loss: 3.06 - ETA: 42:39 - loss: 3.06 - ETA: 42:39 - loss: 3.06 - ETA: 42:38 - loss: 3.06 - ETA: 42:37 - loss: 3.06 - ETA: 42:37 - loss: 3.06 - ETA: 42:36 - loss: 3.06 - ETA: 42:35 - loss: 3.06 - ETA: 42:35 - loss: 3.06 - ETA: 42:34 - loss: 3.06 - ETA: 42:33 - loss: 3.06 - ETA: 42:32 - loss: 3.06 - ETA: 42:31 - loss: 3.06 - ETA: 42:30 - loss: 3.06 - ETA: 42:29 - loss: 3.06 - ETA: 42:29 - loss: 3.06 - ETA: 42:28 - loss: 3.06 - ETA: 42:27 - loss: 3.06 - ETA: 42:26 - loss: 3.06 - ETA: 42:25 - loss: 3.06 - ETA: 42:24 - loss: 3.06 - ETA: 42:23 - loss: 3.06 - ETA: 42:22 - loss: 3.06 - ETA: 42:21 - loss: 3.06 - ETA: 42:21 - loss: 3.06 - ETA: 42:20 - loss: 3.06 - ETA: 42:19 - loss: 3.06 - ETA: 42:18 - loss: 3.06 - ETA: 42:17 - loss: 3.06 - ETA: 42:17 - loss: 3.06 - ETA: 42:16 - loss: 3.06 - ETA: 42:15 - loss: 3.06 - ETA: 42:14 - loss: 3.06 - ETA: 42:13 - loss: 3.06 - ETA: 42:12 - loss: 3.06 - ETA: 42:12 - loss: 3.06 - ETA: 42:11 - loss: 3.06 - ETA: 42:10 - loss: 3.06 - ETA: 42:09 - loss: 3.06 - ETA: 42:09 - loss: 3.06 - ETA: 42:08 - loss: 3.06 - ETA: 42:07 - loss: 3.06 - ETA: 42:06 - loss: 3.06 - ETA: 42:06 - loss: 3.06 - ETA: 42:05 - loss: 3.06 - ETA: 42:04 - loss: 3.06 - ETA: 42:03 - loss: 3.06 - ETA: 42:02 - loss: 3.06 - ETA: 42:02 - loss: 3.06 - ETA: 42:01 - loss: 3.06 - ETA: 42:00 - loss: 3.06 - ETA: 41:59 - loss: 3.06 - ETA: 41:58 - loss: 3.06 - ETA: 41:57 - loss: 3.06 - ETA: 41:57 - loss: 3.06 - ETA: 41:56 - loss: 3.06 - ETA: 41:55 - loss: 3.06 - ETA: 41:54 - loss: 3.06 - ETA: 41:54 - loss: 3.06 - ETA: 41:53 - loss: 3.06 - ETA: 41:52 - loss: 3.06 - ETA: 41:51 - loss: 3.06 - ETA: 41:50 - loss: 3.06 - ETA: 41:50 - loss: 3.06 - ETA: 41:49 - loss: 3.06 - ETA: 41:48 - loss: 3.06 - ETA: 41:47 - loss: 3.06 - ETA: 41:46 - loss: 3.06 - ETA: 41:45 - loss: 3.06 - ETA: 41:45 - loss: 3.06 - ETA: 41:44 - loss: 3.06 - ETA: 41:43 - loss: 3.06 - ETA: 41:42 - loss: 3.06 - ETA: 41:41 - loss: 3.06 - ETA: 41:41 - loss: 3.06 - ETA: 41:40 - loss: 3.06 - ETA: 41:39 - loss: 3.06 - ETA: 41:38 - loss: 3.06 - ETA: 41:37 - loss: 3.06 - ETA: 41:37 - loss: 3.06 - ETA: 41:36 - loss: 3.06 - ETA: 41:35 - loss: 3.06 - ETA: 41:34 - loss: 3.06 - ETA: 41:33 - loss: 3.06 - ETA: 41:33 - loss: 3.06 - ETA: 41:32 - loss: 3.06 - ETA: 41:32 - loss: 3.06 - ETA: 41:32 - loss: 3.06 - ETA: 41:32 - loss: 3.06 - ETA: 41:32 - loss: 3.06 - ETA: 41:31 - loss: 3.06 - ETA: 41:30 - loss: 3.06 - ETA: 41:30 - loss: 3.05 - ETA: 41:29 - loss: 3.05 - ETA: 41:28 - loss: 3.05 - ETA: 41:28 - loss: 3.05 - ETA: 41:27 - loss: 3.05 - ETA: 41:26 - loss: 3.05 - ETA: 41:25 - loss: 3.05 - ETA: 41:24 - loss: 3.05 - ETA: 41:23 - loss: 3.05 - ETA: 41:23 - loss: 3.06 - ETA: 41:22 - loss: 3.06 - ETA: 41:21 - loss: 3.06 - ETA: 41:20 - loss: 3.05 - ETA: 41:19 - loss: 3.05 - ETA: 41:19 - loss: 3.05 - ETA: 41:18 - loss: 3.05 - ETA: 41:17 - loss: 3.05 - ETA: 41:16 - loss: 3.05 - ETA: 41:15 - loss: 3.06 - ETA: 41:15 - loss: 3.06 - ETA: 41:14 - loss: 3.06 - ETA: 41:13 - loss: 3.06 - ETA: 41:12 - loss: 3.06 - ETA: 41:11 - loss: 3.06 - ETA: 41:11 - loss: 3.06 - ETA: 41:10 - loss: 3.06 - ETA: 41:09 - loss: 3.06 - ETA: 41:09 - loss: 3.06 - ETA: 41:08 - loss: 3.06 - ETA: 41:07 - loss: 3.06 - ETA: 41:06 - loss: 3.06 - ETA: 41:06 - loss: 3.06 - ETA: 41:05 - loss: 3.06 - ETA: 41:04 - loss: 3.06 - ETA: 41:03 - loss: 3.06 - ETA: 41:03 - loss: 3.06 - ETA: 41:02 - loss: 3.06 - ETA: 41:01 - loss: 3.06 - ETA: 41:00 - loss: 3.06 - ETA: 41:00 - loss: 3.06 - ETA: 40:59 - loss: 3.06 - ETA: 40:58 - loss: 3.06 - ETA: 40:58 - loss: 3.06 - ETA: 40:57 - loss: 3.06 - ETA: 40:56 - loss: 3.06 - ETA: 40:55 - loss: 3.06 - ETA: 40:55 - loss: 3.06 - ETA: 40:54 - loss: 3.06 - ETA: 40:54 - loss: 3.06 - ETA: 40:53 - loss: 3.06 - ETA: 40:53 - loss: 3.06 - ETA: 40:52 - loss: 3.06 - ETA: 40:51 - loss: 3.06 - ETA: 40:50 - loss: 3.06 - ETA: 40:50 - loss: 3.06 - ETA: 40:49 - loss: 3.06 - ETA: 40:48 - loss: 3.06 - ETA: 40:48 - loss: 3.06 - ETA: 40:47 - loss: 3.06 - ETA: 40:46 - loss: 3.06 - ETA: 40:46 - loss: 3.06 - ETA: 40:45 - loss: 3.06 - ETA: 40:44 - loss: 3.06 - ETA: 40:43 - loss: 3.06 - ETA: 40:43 - loss: 3.06 - ETA: 40:42 - loss: 3.06 - ETA: 40:41 - loss: 3.06 - ETA: 40:41 - loss: 3.06 - ETA: 40:40 - loss: 3.06 - ETA: 40:39 - loss: 3.06 - ETA: 40:39 - loss: 3.06 - ETA: 40:38 - loss: 3.06 - ETA: 40:38 - loss: 3.06 - ETA: 40:37 - loss: 3.06 - ETA: 40:36 - loss: 3.06 - ETA: 40:35 - loss: 3.0653 942/4335 [=====>........................] - ETA: 40:34 - loss: 3.06 - ETA: 40:34 - loss: 3.06 - ETA: 40:33 - loss: 3.06 - ETA: 40:32 - loss: 3.06 - ETA: 40:32 - loss: 3.06 - ETA: 40:31 - loss: 3.06 - ETA: 40:30 - loss: 3.06 - ETA: 40:29 - loss: 3.06 - ETA: 40:29 - loss: 3.06 - ETA: 40:28 - loss: 3.06 - ETA: 40:27 - loss: 3.06 - ETA: 40:27 - loss: 3.06 - ETA: 40:26 - loss: 3.06 - ETA: 40:25 - loss: 3.06 - ETA: 40:24 - loss: 3.06 - ETA: 40:24 - loss: 3.06 - ETA: 40:23 - loss: 3.06 - ETA: 40:22 - loss: 3.06 - ETA: 40:21 - loss: 3.06 - ETA: 40:21 - loss: 3.06 - ETA: 40:20 - loss: 3.06 - ETA: 40:19 - loss: 3.06 - ETA: 40:19 - loss: 3.06 - ETA: 40:18 - loss: 3.06 - ETA: 40:17 - loss: 3.06 - ETA: 40:16 - loss: 3.06 - ETA: 40:16 - loss: 3.06 - ETA: 40:15 - loss: 3.06 - ETA: 40:14 - loss: 3.06 - ETA: 40:13 - loss: 3.06 - ETA: 40:12 - loss: 3.06 - ETA: 40:12 - loss: 3.06 - ETA: 40:11 - loss: 3.06 - ETA: 40:10 - loss: 3.06 - ETA: 40:09 - loss: 3.06 - ETA: 40:09 - loss: 3.06 - ETA: 40:08 - loss: 3.06 - ETA: 40:07 - loss: 3.05 - ETA: 40:06 - loss: 3.06 - ETA: 40:05 - loss: 3.06 - ETA: 40:05 - loss: 3.06 - ETA: 40:04 - loss: 3.06 - ETA: 40:03 - loss: 3.06 - ETA: 40:02 - loss: 3.05 - ETA: 40:02 - loss: 3.05 - ETA: 40:01 - loss: 3.05 - ETA: 40:00 - loss: 3.05 - ETA: 39:59 - loss: 3.05 - ETA: 39:59 - loss: 3.05 - ETA: 39:58 - loss: 3.05 - ETA: 39:57 - loss: 3.05 - ETA: 39:56 - loss: 3.05 - ETA: 39:55 - loss: 3.05 - ETA: 39:55 - loss: 3.05 - ETA: 39:54 - loss: 3.05 - ETA: 39:53 - loss: 3.05 - ETA: 39:52 - loss: 3.05 - ETA: 39:52 - loss: 3.05 - ETA: 39:51 - loss: 3.05 - ETA: 39:50 - loss: 3.05 - ETA: 39:49 - loss: 3.05 - ETA: 39:49 - loss: 3.05 - ETA: 39:48 - loss: 3.05 - ETA: 39:47 - loss: 3.05 - ETA: 39:46 - loss: 3.05 - ETA: 39:46 - loss: 3.05 - ETA: 39:45 - loss: 3.05 - ETA: 39:44 - loss: 3.05 - ETA: 39:43 - loss: 3.05 - ETA: 39:43 - loss: 3.05 - ETA: 39:42 - loss: 3.05 - ETA: 39:41 - loss: 3.05 - ETA: 39:40 - loss: 3.05 - ETA: 39:40 - loss: 3.05 - ETA: 39:39 - loss: 3.05 - ETA: 39:38 - loss: 3.05 - ETA: 39:38 - loss: 3.05 - ETA: 39:37 - loss: 3.05 - ETA: 39:36 - loss: 3.05 - ETA: 39:35 - loss: 3.05 - ETA: 39:35 - loss: 3.05 - ETA: 39:34 - loss: 3.05 - ETA: 39:33 - loss: 3.05 - ETA: 39:32 - loss: 3.05 - ETA: 39:32 - loss: 3.05 - ETA: 39:31 - loss: 3.05 - ETA: 39:30 - loss: 3.05 - ETA: 39:29 - loss: 3.05 - ETA: 39:29 - loss: 3.05 - ETA: 39:28 - loss: 3.05 - ETA: 39:27 - loss: 3.05 - ETA: 39:27 - loss: 3.05 - ETA: 39:26 - loss: 3.05 - ETA: 39:25 - loss: 3.05 - ETA: 39:24 - loss: 3.05 - ETA: 39:24 - loss: 3.05 - ETA: 39:23 - loss: 3.05 - ETA: 39:22 - loss: 3.05 - ETA: 39:21 - loss: 3.05 - ETA: 39:21 - loss: 3.05 - ETA: 39:20 - loss: 3.05 - ETA: 39:19 - loss: 3.05 - ETA: 39:19 - loss: 3.05 - ETA: 39:18 - loss: 3.05 - ETA: 39:17 - loss: 3.05 - ETA: 39:17 - loss: 3.05 - ETA: 39:16 - loss: 3.05 - ETA: 39:15 - loss: 3.05 - ETA: 39:14 - loss: 3.05 - ETA: 39:14 - loss: 3.05 - ETA: 39:13 - loss: 3.05 - ETA: 39:12 - loss: 3.05 - ETA: 39:12 - loss: 3.05 - ETA: 39:11 - loss: 3.05 - ETA: 39:10 - loss: 3.05 - ETA: 39:09 - loss: 3.05 - ETA: 39:09 - loss: 3.05 - ETA: 39:08 - loss: 3.05 - ETA: 39:07 - loss: 3.05 - ETA: 39:06 - loss: 3.05 - ETA: 39:06 - loss: 3.05 - ETA: 39:05 - loss: 3.05 - ETA: 39:04 - loss: 3.05 - ETA: 39:03 - loss: 3.05 - ETA: 39:02 - loss: 3.05 - ETA: 39:02 - loss: 3.05 - ETA: 39:01 - loss: 3.05 - ETA: 39:00 - loss: 3.05 - ETA: 38:59 - loss: 3.05 - ETA: 38:59 - loss: 3.05 - ETA: 38:58 - loss: 3.05 - ETA: 38:57 - loss: 3.05 - ETA: 38:57 - loss: 3.05 - ETA: 38:56 - loss: 3.05 - ETA: 38:55 - loss: 3.05 - ETA: 38:54 - loss: 3.05 - ETA: 38:54 - loss: 3.05 - ETA: 38:53 - loss: 3.05 - ETA: 38:52 - loss: 3.05 - ETA: 38:52 - loss: 3.05 - ETA: 38:51 - loss: 3.05 - ETA: 38:50 - loss: 3.05 - ETA: 38:50 - loss: 3.05 - ETA: 38:49 - loss: 3.05 - ETA: 38:48 - loss: 3.05 - ETA: 38:48 - loss: 3.05 - ETA: 38:47 - loss: 3.05 - ETA: 38:46 - loss: 3.05 - ETA: 38:46 - loss: 3.05 - ETA: 38:45 - loss: 3.05 - ETA: 38:45 - loss: 3.05 - ETA: 38:44 - loss: 3.05 - ETA: 38:43 - loss: 3.05 - ETA: 38:43 - loss: 3.05 - ETA: 38:42 - loss: 3.05 - ETA: 38:41 - loss: 3.05 - ETA: 38:40 - loss: 3.05 - ETA: 38:40 - loss: 3.05 - ETA: 38:39 - loss: 3.05 - ETA: 38:38 - loss: 3.05 - ETA: 38:38 - loss: 3.05 - ETA: 38:37 - loss: 3.05 - ETA: 38:36 - loss: 3.05 - ETA: 38:36 - loss: 3.05 - ETA: 38:35 - loss: 3.05 - ETA: 38:34 - loss: 3.05 - ETA: 38:34 - loss: 3.05 - ETA: 38:33 - loss: 3.05 - ETA: 38:32 - loss: 3.05 - ETA: 38:32 - loss: 3.05 - ETA: 38:31 - loss: 3.05 - ETA: 38:30 - loss: 3.05 - ETA: 38:30 - loss: 3.05 - ETA: 38:29 - loss: 3.05 - ETA: 38:28 - loss: 3.05 - ETA: 38:28 - loss: 3.05 - ETA: 38:27 - loss: 3.05 - ETA: 38:26 - loss: 3.05 - ETA: 38:25 - loss: 3.05 - ETA: 38:25 - loss: 3.05 - ETA: 38:24 - loss: 3.05 - ETA: 38:23 - loss: 3.05 - ETA: 38:23 - loss: 3.05 - ETA: 38:22 - loss: 3.05 - ETA: 38:21 - loss: 3.05 - ETA: 38:21 - loss: 3.05 - ETA: 38:20 - loss: 3.05 - ETA: 38:19 - loss: 3.05 - ETA: 38:19 - loss: 3.05 - ETA: 38:18 - loss: 3.05 - ETA: 38:17 - loss: 3.05 - ETA: 38:17 - loss: 3.05 - ETA: 38:16 - loss: 3.05 - ETA: 38:15 - loss: 3.05 - ETA: 38:14 - loss: 3.05 - ETA: 38:14 - loss: 3.05 - ETA: 38:13 - loss: 3.05 - ETA: 38:12 - loss: 3.05 - ETA: 38:12 - loss: 3.05 - ETA: 38:11 - loss: 3.05 - ETA: 38:11 - loss: 3.05 - ETA: 38:10 - loss: 3.05 - ETA: 38:09 - loss: 3.05 - ETA: 38:08 - loss: 3.05 - ETA: 38:08 - loss: 3.05 - ETA: 38:07 - loss: 3.05 - ETA: 38:06 - loss: 3.05 - ETA: 38:06 - loss: 3.05 - ETA: 38:05 - loss: 3.05 - ETA: 38:04 - loss: 3.05 - ETA: 38:04 - loss: 3.05 - ETA: 38:03 - loss: 3.05 - ETA: 38:02 - loss: 3.05 - ETA: 38:02 - loss: 3.05 - ETA: 38:01 - loss: 3.05 - ETA: 38:01 - loss: 3.05 - ETA: 38:00 - loss: 3.05 - ETA: 37:59 - loss: 3.05 - ETA: 37:59 - loss: 3.05 - ETA: 37:58 - loss: 3.05 - ETA: 37:57 - loss: 3.05 - ETA: 37:56 - loss: 3.05 - ETA: 37:56 - loss: 3.05 - ETA: 37:55 - loss: 3.05 - ETA: 37:54 - loss: 3.05 - ETA: 37:54 - loss: 3.05 - ETA: 37:53 - loss: 3.05 - ETA: 37:52 - loss: 3.05 - ETA: 37:52 - loss: 3.05 - ETA: 37:51 - loss: 3.05 - ETA: 37:50 - loss: 3.05 - ETA: 37:50 - loss: 3.05 - ETA: 37:49 - loss: 3.05 - ETA: 37:48 - loss: 3.05 - ETA: 37:48 - loss: 3.05 - ETA: 37:47 - loss: 3.05 - ETA: 37:46 - loss: 3.05 - ETA: 37:46 - loss: 3.05 - ETA: 37:45 - loss: 3.05 - ETA: 37:44 - loss: 3.05 - ETA: 37:44 - loss: 3.05 - ETA: 37:43 - loss: 3.05 - ETA: 37:42 - loss: 3.05 - ETA: 37:42 - loss: 3.05 - ETA: 37:41 - loss: 3.05 - ETA: 37:40 - loss: 3.05 - ETA: 37:39 - loss: 3.05 - ETA: 37:39 - loss: 3.05 - ETA: 37:38 - loss: 3.05 - ETA: 37:37 - loss: 3.05 - ETA: 37:37 - loss: 3.05 - ETA: 37:36 - loss: 3.05 - ETA: 37:35 - loss: 3.05 - ETA: 37:35 - loss: 3.05 - ETA: 37:34 - loss: 3.05 - ETA: 37:33 - loss: 3.05 - ETA: 37:33 - loss: 3.05 - ETA: 37:32 - loss: 3.05 - ETA: 37:32 - loss: 3.05 - ETA: 37:32 - loss: 3.05 - ETA: 37:31 - loss: 3.05 - ETA: 37:31 - loss: 3.05 - ETA: 37:30 - loss: 3.05 - ETA: 37:29 - loss: 3.05 - ETA: 37:29 - loss: 3.05 - ETA: 37:28 - loss: 3.05 - ETA: 37:27 - loss: 3.05 - ETA: 37:27 - loss: 3.05 - ETA: 37:26 - loss: 3.05 - ETA: 37:25 - loss: 3.05 - ETA: 37:24 - loss: 3.05 - ETA: 37:24 - loss: 3.05 - ETA: 37:23 - loss: 3.05 - ETA: 37:22 - loss: 3.05 - ETA: 37:22 - loss: 3.05 - ETA: 37:21 - loss: 3.05 - ETA: 37:20 - loss: 3.05 - ETA: 37:19 - loss: 3.05 - ETA: 37:19 - loss: 3.05 - ETA: 37:18 - loss: 3.05 - ETA: 37:17 - loss: 3.05 - ETA: 37:17 - loss: 3.05 - ETA: 37:17 - loss: 3.05 - ETA: 37:16 - loss: 3.05 - ETA: 37:16 - loss: 3.05 - ETA: 37:15 - loss: 3.05 - ETA: 37:15 - loss: 3.05 - ETA: 37:14 - loss: 3.05 - ETA: 37:14 - loss: 3.05 - ETA: 37:13 - loss: 3.05 - ETA: 37:13 - loss: 3.05 - ETA: 37:12 - loss: 3.05 - ETA: 37:12 - loss: 3.05 - ETA: 37:11 - loss: 3.05 - ETA: 37:11 - loss: 3.05 - ETA: 37:10 - loss: 3.05 - ETA: 37:09 - loss: 3.05 - ETA: 37:09 - loss: 3.05 - ETA: 37:08 - loss: 3.05 - ETA: 37:08 - loss: 3.05 - ETA: 37:07 - loss: 3.05 - ETA: 37:07 - loss: 3.06 - ETA: 37:06 - loss: 3.05 - ETA: 37:06 - loss: 3.05 - ETA: 37:05 - loss: 3.05 - ETA: 37:05 - loss: 3.05 - ETA: 37:04 - loss: 3.05 - ETA: 37:04 - loss: 3.05 - ETA: 37:03 - loss: 3.05 - ETA: 37:02 - loss: 3.05 - ETA: 37:02 - loss: 3.05 - ETA: 37:01 - loss: 3.05 - ETA: 37:01 - loss: 3.05 - ETA: 37:00 - loss: 3.0591"
     ]
    },
    {
     "name": "stdout",
     "output_type": "stream",
     "text": [
      "1256/4335 [=======>......................] - ETA: 37:00 - loss: 3.05 - ETA: 36:59 - loss: 3.05 - ETA: 36:59 - loss: 3.05 - ETA: 36:58 - loss: 3.05 - ETA: 36:57 - loss: 3.05 - ETA: 36:57 - loss: 3.05 - ETA: 36:56 - loss: 3.05 - ETA: 36:55 - loss: 3.05 - ETA: 36:55 - loss: 3.05 - ETA: 36:54 - loss: 3.05 - ETA: 36:54 - loss: 3.05 - ETA: 36:53 - loss: 3.05 - ETA: 36:53 - loss: 3.05 - ETA: 36:52 - loss: 3.05 - ETA: 36:51 - loss: 3.05 - ETA: 36:51 - loss: 3.05 - ETA: 36:50 - loss: 3.05 - ETA: 36:49 - loss: 3.05 - ETA: 36:49 - loss: 3.05 - ETA: 36:49 - loss: 3.05 - ETA: 36:48 - loss: 3.05 - ETA: 36:48 - loss: 3.05 - ETA: 36:48 - loss: 3.05 - ETA: 36:48 - loss: 3.05 - ETA: 36:47 - loss: 3.05 - ETA: 36:47 - loss: 3.05 - ETA: 36:46 - loss: 3.05 - ETA: 36:46 - loss: 3.05 - ETA: 36:45 - loss: 3.05 - ETA: 36:45 - loss: 3.05 - ETA: 36:45 - loss: 3.05 - ETA: 36:44 - loss: 3.05 - ETA: 36:44 - loss: 3.05 - ETA: 36:44 - loss: 3.05 - ETA: 36:44 - loss: 3.05 - ETA: 36:44 - loss: 3.05 - ETA: 36:43 - loss: 3.05 - ETA: 36:43 - loss: 3.05 - ETA: 36:42 - loss: 3.05 - ETA: 36:41 - loss: 3.05 - ETA: 36:41 - loss: 3.06 - ETA: 36:40 - loss: 3.06 - ETA: 36:39 - loss: 3.06 - ETA: 36:39 - loss: 3.06 - ETA: 36:38 - loss: 3.05 - ETA: 36:37 - loss: 3.06 - ETA: 36:36 - loss: 3.05 - ETA: 36:36 - loss: 3.05 - ETA: 36:35 - loss: 3.05 - ETA: 36:34 - loss: 3.05 - ETA: 36:34 - loss: 3.05 - ETA: 36:33 - loss: 3.05 - ETA: 36:32 - loss: 3.05 - ETA: 36:32 - loss: 3.05 - ETA: 36:31 - loss: 3.05 - ETA: 36:31 - loss: 3.05 - ETA: 36:30 - loss: 3.05 - ETA: 36:30 - loss: 3.05 - ETA: 36:30 - loss: 3.05 - ETA: 36:29 - loss: 3.05 - ETA: 36:29 - loss: 3.05 - ETA: 36:28 - loss: 3.05 - ETA: 36:27 - loss: 3.05 - ETA: 36:27 - loss: 3.05 - ETA: 36:26 - loss: 3.05 - ETA: 36:25 - loss: 3.05 - ETA: 36:25 - loss: 3.05 - ETA: 36:24 - loss: 3.05 - ETA: 36:23 - loss: 3.06 - ETA: 36:22 - loss: 3.06 - ETA: 36:22 - loss: 3.06 - ETA: 36:21 - loss: 3.06 - ETA: 36:21 - loss: 3.06 - ETA: 36:20 - loss: 3.05 - ETA: 36:20 - loss: 3.05 - ETA: 36:19 - loss: 3.05 - ETA: 36:19 - loss: 3.05 - ETA: 36:18 - loss: 3.05 - ETA: 36:17 - loss: 3.05 - ETA: 36:17 - loss: 3.05 - ETA: 36:16 - loss: 3.05 - ETA: 36:15 - loss: 3.05 - ETA: 36:15 - loss: 3.05 - ETA: 36:14 - loss: 3.05 - ETA: 36:13 - loss: 3.05 - ETA: 36:13 - loss: 3.06 - ETA: 36:12 - loss: 3.06 - ETA: 36:12 - loss: 3.06 - ETA: 36:11 - loss: 3.06 - ETA: 36:10 - loss: 3.06 - ETA: 36:10 - loss: 3.06 - ETA: 36:09 - loss: 3.06 - ETA: 36:08 - loss: 3.06 - ETA: 36:08 - loss: 3.06 - ETA: 36:07 - loss: 3.06 - ETA: 36:07 - loss: 3.06 - ETA: 36:06 - loss: 3.05 - ETA: 36:05 - loss: 3.05 - ETA: 36:05 - loss: 3.05 - ETA: 36:04 - loss: 3.05 - ETA: 36:03 - loss: 3.05 - ETA: 36:03 - loss: 3.05 - ETA: 36:02 - loss: 3.05 - ETA: 36:02 - loss: 3.05 - ETA: 36:01 - loss: 3.05 - ETA: 36:00 - loss: 3.05 - ETA: 36:00 - loss: 3.05 - ETA: 35:59 - loss: 3.05 - ETA: 35:59 - loss: 3.05 - ETA: 35:58 - loss: 3.05 - ETA: 35:58 - loss: 3.05 - ETA: 35:58 - loss: 3.05 - ETA: 35:57 - loss: 3.05 - ETA: 35:56 - loss: 3.05 - ETA: 35:56 - loss: 3.05 - ETA: 35:55 - loss: 3.05 - ETA: 35:54 - loss: 3.05 - ETA: 35:54 - loss: 3.05 - ETA: 35:53 - loss: 3.05 - ETA: 35:52 - loss: 3.05 - ETA: 35:52 - loss: 3.05 - ETA: 35:51 - loss: 3.05 - ETA: 35:51 - loss: 3.05 - ETA: 35:50 - loss: 3.05 - ETA: 35:49 - loss: 3.05 - ETA: 35:49 - loss: 3.05 - ETA: 35:48 - loss: 3.05 - ETA: 35:48 - loss: 3.05 - ETA: 35:47 - loss: 3.05 - ETA: 35:46 - loss: 3.05 - ETA: 35:46 - loss: 3.05 - ETA: 35:45 - loss: 3.05 - ETA: 35:44 - loss: 3.05 - ETA: 35:44 - loss: 3.05 - ETA: 35:43 - loss: 3.05 - ETA: 35:42 - loss: 3.05 - ETA: 35:42 - loss: 3.05 - ETA: 35:41 - loss: 3.05 - ETA: 35:40 - loss: 3.05 - ETA: 35:40 - loss: 3.05 - ETA: 35:39 - loss: 3.05 - ETA: 35:38 - loss: 3.05 - ETA: 35:38 - loss: 3.05 - ETA: 35:37 - loss: 3.05 - ETA: 35:37 - loss: 3.05 - ETA: 35:36 - loss: 3.05 - ETA: 35:35 - loss: 3.05 - ETA: 35:35 - loss: 3.05 - ETA: 35:34 - loss: 3.05 - ETA: 35:33 - loss: 3.05 - ETA: 35:33 - loss: 3.05 - ETA: 35:32 - loss: 3.05 - ETA: 35:31 - loss: 3.05 - ETA: 35:31 - loss: 3.05 - ETA: 35:30 - loss: 3.05 - ETA: 35:30 - loss: 3.05 - ETA: 35:29 - loss: 3.05 - ETA: 35:28 - loss: 3.05 - ETA: 35:28 - loss: 3.05 - ETA: 35:27 - loss: 3.05 - ETA: 35:26 - loss: 3.05 - ETA: 35:26 - loss: 3.05 - ETA: 35:25 - loss: 3.05 - ETA: 35:25 - loss: 3.05 - ETA: 35:24 - loss: 3.05 - ETA: 35:23 - loss: 3.05 - ETA: 35:23 - loss: 3.05 - ETA: 35:22 - loss: 3.05 - ETA: 35:21 - loss: 3.05 - ETA: 35:21 - loss: 3.05 - ETA: 35:20 - loss: 3.05 - ETA: 35:19 - loss: 3.05 - ETA: 35:19 - loss: 3.05 - ETA: 35:18 - loss: 3.05 - ETA: 35:17 - loss: 3.05 - ETA: 35:17 - loss: 3.05 - ETA: 35:16 - loss: 3.05 - ETA: 35:15 - loss: 3.05 - ETA: 35:15 - loss: 3.05 - ETA: 35:14 - loss: 3.05 - ETA: 35:14 - loss: 3.05 - ETA: 35:13 - loss: 3.05 - ETA: 35:12 - loss: 3.05 - ETA: 35:12 - loss: 3.05 - ETA: 35:11 - loss: 3.05 - ETA: 35:10 - loss: 3.05 - ETA: 35:10 - loss: 3.05 - ETA: 35:09 - loss: 3.05 - ETA: 35:08 - loss: 3.05 - ETA: 35:08 - loss: 3.05 - ETA: 35:07 - loss: 3.05 - ETA: 35:07 - loss: 3.05 - ETA: 35:06 - loss: 3.05 - ETA: 35:05 - loss: 3.05 - ETA: 35:05 - loss: 3.05 - ETA: 35:04 - loss: 3.05 - ETA: 35:03 - loss: 3.05 - ETA: 35:03 - loss: 3.05 - ETA: 35:02 - loss: 3.05 - ETA: 35:02 - loss: 3.05 - ETA: 35:01 - loss: 3.05 - ETA: 35:00 - loss: 3.05 - ETA: 35:00 - loss: 3.05 - ETA: 34:59 - loss: 3.05 - ETA: 34:58 - loss: 3.05 - ETA: 34:58 - loss: 3.05 - ETA: 34:57 - loss: 3.05 - ETA: 34:56 - loss: 3.05 - ETA: 34:56 - loss: 3.05 - ETA: 34:55 - loss: 3.05 - ETA: 34:55 - loss: 3.05 - ETA: 34:54 - loss: 3.05 - ETA: 34:53 - loss: 3.05 - ETA: 34:53 - loss: 3.05 - ETA: 34:52 - loss: 3.05 - ETA: 34:51 - loss: 3.05 - ETA: 34:51 - loss: 3.05 - ETA: 34:50 - loss: 3.05 - ETA: 34:49 - loss: 3.05 - ETA: 34:49 - loss: 3.05 - ETA: 34:48 - loss: 3.05 - ETA: 34:47 - loss: 3.05 - ETA: 34:47 - loss: 3.05 - ETA: 34:46 - loss: 3.05 - ETA: 34:46 - loss: 3.05 - ETA: 34:45 - loss: 3.05 - ETA: 34:44 - loss: 3.05 - ETA: 34:44 - loss: 3.05 - ETA: 34:43 - loss: 3.05 - ETA: 34:42 - loss: 3.05 - ETA: 34:42 - loss: 3.05 - ETA: 34:41 - loss: 3.05 - ETA: 34:41 - loss: 3.05 - ETA: 34:40 - loss: 3.05 - ETA: 34:39 - loss: 3.05 - ETA: 34:39 - loss: 3.05 - ETA: 34:38 - loss: 3.05 - ETA: 34:37 - loss: 3.05 - ETA: 34:37 - loss: 3.05 - ETA: 34:36 - loss: 3.05 - ETA: 34:36 - loss: 3.05 - ETA: 34:35 - loss: 3.05 - ETA: 34:34 - loss: 3.05 - ETA: 34:34 - loss: 3.05 - ETA: 34:33 - loss: 3.05 - ETA: 34:32 - loss: 3.05 - ETA: 34:32 - loss: 3.05 - ETA: 34:31 - loss: 3.05 - ETA: 34:31 - loss: 3.05 - ETA: 34:30 - loss: 3.05 - ETA: 34:30 - loss: 3.05 - ETA: 34:29 - loss: 3.05 - ETA: 34:28 - loss: 3.05 - ETA: 34:28 - loss: 3.05 - ETA: 34:27 - loss: 3.05 - ETA: 34:26 - loss: 3.05 - ETA: 34:26 - loss: 3.05 - ETA: 34:25 - loss: 3.05 - ETA: 34:25 - loss: 3.05 - ETA: 34:24 - loss: 3.05 - ETA: 34:23 - loss: 3.05 - ETA: 34:23 - loss: 3.05 - ETA: 34:22 - loss: 3.05 - ETA: 34:21 - loss: 3.05 - ETA: 34:21 - loss: 3.05 - ETA: 34:20 - loss: 3.05 - ETA: 34:19 - loss: 3.05 - ETA: 34:19 - loss: 3.05 - ETA: 34:18 - loss: 3.05 - ETA: 34:18 - loss: 3.05 - ETA: 34:17 - loss: 3.05 - ETA: 34:16 - loss: 3.05 - ETA: 34:16 - loss: 3.05 - ETA: 34:15 - loss: 3.05 - ETA: 34:14 - loss: 3.05 - ETA: 34:14 - loss: 3.05 - ETA: 34:13 - loss: 3.05 - ETA: 34:13 - loss: 3.05 - ETA: 34:12 - loss: 3.05 - ETA: 34:11 - loss: 3.05 - ETA: 34:11 - loss: 3.05 - ETA: 34:10 - loss: 3.05 - ETA: 34:09 - loss: 3.05 - ETA: 34:09 - loss: 3.05 - ETA: 34:08 - loss: 3.05 - ETA: 34:08 - loss: 3.05 - ETA: 34:07 - loss: 3.05 - ETA: 34:06 - loss: 3.05 - ETA: 34:06 - loss: 3.05 - ETA: 34:05 - loss: 3.05 - ETA: 34:04 - loss: 3.05 - ETA: 34:04 - loss: 3.06 - ETA: 34:03 - loss: 3.06 - ETA: 34:02 - loss: 3.06 - ETA: 34:02 - loss: 3.06 - ETA: 34:01 - loss: 3.06 - ETA: 34:00 - loss: 3.06 - ETA: 34:00 - loss: 3.06 - ETA: 33:59 - loss: 3.06 - ETA: 33:59 - loss: 3.06 - ETA: 33:58 - loss: 3.06 - ETA: 33:57 - loss: 3.06 - ETA: 33:57 - loss: 3.06 - ETA: 33:56 - loss: 3.06 - ETA: 33:56 - loss: 3.06 - ETA: 33:55 - loss: 3.06 - ETA: 33:54 - loss: 3.06 - ETA: 33:54 - loss: 3.06 - ETA: 33:53 - loss: 3.06 - ETA: 33:52 - loss: 3.06 - ETA: 33:52 - loss: 3.06 - ETA: 33:51 - loss: 3.06 - ETA: 33:50 - loss: 3.06 - ETA: 33:50 - loss: 3.0623"
     ]
    },
    {
     "name": "stdout",
     "output_type": "stream",
     "text": [
      "1570/4335 [=========>....................] - ETA: 33:49 - loss: 3.06 - ETA: 33:48 - loss: 3.06 - ETA: 33:48 - loss: 3.06 - ETA: 33:47 - loss: 3.06 - ETA: 33:46 - loss: 3.06 - ETA: 33:46 - loss: 3.06 - ETA: 33:45 - loss: 3.06 - ETA: 33:44 - loss: 3.06 - ETA: 33:44 - loss: 3.06 - ETA: 33:43 - loss: 3.06 - ETA: 33:42 - loss: 3.06 - ETA: 33:42 - loss: 3.06 - ETA: 33:41 - loss: 3.06 - ETA: 33:40 - loss: 3.06 - ETA: 33:40 - loss: 3.06 - ETA: 33:39 - loss: 3.06 - ETA: 33:38 - loss: 3.06 - ETA: 33:38 - loss: 3.06 - ETA: 33:37 - loss: 3.06 - ETA: 33:36 - loss: 3.06 - ETA: 33:35 - loss: 3.06 - ETA: 33:35 - loss: 3.06 - ETA: 33:34 - loss: 3.06 - ETA: 33:33 - loss: 3.06 - ETA: 33:33 - loss: 3.06 - ETA: 33:32 - loss: 3.06 - ETA: 33:31 - loss: 3.06 - ETA: 33:31 - loss: 3.06 - ETA: 33:30 - loss: 3.06 - ETA: 33:30 - loss: 3.06 - ETA: 33:29 - loss: 3.06 - ETA: 33:28 - loss: 3.06 - ETA: 33:27 - loss: 3.06 - ETA: 33:27 - loss: 3.06 - ETA: 33:26 - loss: 3.06 - ETA: 33:26 - loss: 3.06 - ETA: 33:25 - loss: 3.06 - ETA: 33:25 - loss: 3.06 - ETA: 33:24 - loss: 3.06 - ETA: 33:24 - loss: 3.06 - ETA: 33:23 - loss: 3.06 - ETA: 33:22 - loss: 3.06 - ETA: 33:22 - loss: 3.06 - ETA: 33:21 - loss: 3.06 - ETA: 33:20 - loss: 3.06 - ETA: 33:20 - loss: 3.06 - ETA: 33:19 - loss: 3.06 - ETA: 33:18 - loss: 3.06 - ETA: 33:18 - loss: 3.06 - ETA: 33:17 - loss: 3.06 - ETA: 33:17 - loss: 3.06 - ETA: 33:16 - loss: 3.06 - ETA: 33:15 - loss: 3.06 - ETA: 33:15 - loss: 3.06 - ETA: 33:14 - loss: 3.06 - ETA: 33:13 - loss: 3.06 - ETA: 33:13 - loss: 3.06 - ETA: 33:12 - loss: 3.06 - ETA: 33:11 - loss: 3.06 - ETA: 33:11 - loss: 3.06 - ETA: 33:10 - loss: 3.06 - ETA: 33:09 - loss: 3.06 - ETA: 33:09 - loss: 3.06 - ETA: 33:08 - loss: 3.06 - ETA: 33:07 - loss: 3.06 - ETA: 33:07 - loss: 3.06 - ETA: 33:06 - loss: 3.06 - ETA: 33:05 - loss: 3.06 - ETA: 33:05 - loss: 3.06 - ETA: 33:04 - loss: 3.06 - ETA: 33:03 - loss: 3.06 - ETA: 33:03 - loss: 3.06 - ETA: 33:02 - loss: 3.06 - ETA: 33:02 - loss: 3.06 - ETA: 33:01 - loss: 3.06 - ETA: 33:00 - loss: 3.06 - ETA: 33:00 - loss: 3.06 - ETA: 32:59 - loss: 3.06 - ETA: 32:58 - loss: 3.06 - ETA: 32:58 - loss: 3.06 - ETA: 32:57 - loss: 3.06 - ETA: 32:56 - loss: 3.06 - ETA: 32:56 - loss: 3.06 - ETA: 32:55 - loss: 3.06 - ETA: 32:54 - loss: 3.06 - ETA: 32:54 - loss: 3.06 - ETA: 32:53 - loss: 3.06 - ETA: 32:52 - loss: 3.06 - ETA: 32:52 - loss: 3.06 - ETA: 32:51 - loss: 3.06 - ETA: 32:50 - loss: 3.06 - ETA: 32:50 - loss: 3.06 - ETA: 32:49 - loss: 3.06 - ETA: 32:48 - loss: 3.06 - ETA: 32:48 - loss: 3.06 - ETA: 32:47 - loss: 3.06 - ETA: 32:47 - loss: 3.06 - ETA: 32:46 - loss: 3.06 - ETA: 32:45 - loss: 3.06 - ETA: 32:45 - loss: 3.06 - ETA: 32:44 - loss: 3.06 - ETA: 32:43 - loss: 3.06 - ETA: 32:43 - loss: 3.06 - ETA: 32:42 - loss: 3.06 - ETA: 32:41 - loss: 3.06 - ETA: 32:41 - loss: 3.06 - ETA: 32:40 - loss: 3.06 - ETA: 32:39 - loss: 3.06 - ETA: 32:39 - loss: 3.06 - ETA: 32:38 - loss: 3.06 - ETA: 32:38 - loss: 3.06 - ETA: 32:37 - loss: 3.06 - ETA: 32:36 - loss: 3.06 - ETA: 32:36 - loss: 3.06 - ETA: 32:35 - loss: 3.06 - ETA: 32:34 - loss: 3.06 - ETA: 32:34 - loss: 3.06 - ETA: 32:33 - loss: 3.06 - ETA: 32:32 - loss: 3.06 - ETA: 32:32 - loss: 3.06 - ETA: 32:31 - loss: 3.06 - ETA: 32:30 - loss: 3.06 - ETA: 32:30 - loss: 3.06 - ETA: 32:29 - loss: 3.06 - ETA: 32:29 - loss: 3.06 - ETA: 32:28 - loss: 3.06 - ETA: 32:27 - loss: 3.06 - ETA: 32:27 - loss: 3.06 - ETA: 32:26 - loss: 3.06 - ETA: 32:25 - loss: 3.06 - ETA: 32:25 - loss: 3.06 - ETA: 32:24 - loss: 3.06 - ETA: 32:23 - loss: 3.06 - ETA: 32:23 - loss: 3.06 - ETA: 32:22 - loss: 3.06 - ETA: 32:21 - loss: 3.06 - ETA: 32:21 - loss: 3.06 - ETA: 32:20 - loss: 3.06 - ETA: 32:19 - loss: 3.06 - ETA: 32:19 - loss: 3.06 - ETA: 32:18 - loss: 3.06 - ETA: 32:18 - loss: 3.06 - ETA: 32:17 - loss: 3.06 - ETA: 32:16 - loss: 3.06 - ETA: 32:16 - loss: 3.06 - ETA: 32:15 - loss: 3.06 - ETA: 32:15 - loss: 3.06 - ETA: 32:14 - loss: 3.06 - ETA: 32:13 - loss: 3.06 - ETA: 32:13 - loss: 3.06 - ETA: 32:12 - loss: 3.06 - ETA: 32:11 - loss: 3.06 - ETA: 32:11 - loss: 3.06 - ETA: 32:10 - loss: 3.06 - ETA: 32:09 - loss: 3.06 - ETA: 32:09 - loss: 3.06 - ETA: 32:08 - loss: 3.06 - ETA: 32:07 - loss: 3.06 - ETA: 32:07 - loss: 3.06 - ETA: 32:06 - loss: 3.06 - ETA: 32:05 - loss: 3.06 - ETA: 32:05 - loss: 3.06 - ETA: 32:04 - loss: 3.06 - ETA: 32:03 - loss: 3.06 - ETA: 32:03 - loss: 3.06 - ETA: 32:02 - loss: 3.06 - ETA: 32:02 - loss: 3.06 - ETA: 32:01 - loss: 3.06 - ETA: 32:01 - loss: 3.06 - ETA: 32:00 - loss: 3.06 - ETA: 32:00 - loss: 3.06 - ETA: 31:59 - loss: 3.06 - ETA: 31:58 - loss: 3.06 - ETA: 31:58 - loss: 3.06 - ETA: 31:57 - loss: 3.06 - ETA: 31:56 - loss: 3.06 - ETA: 31:56 - loss: 3.06 - ETA: 31:55 - loss: 3.06 - ETA: 31:54 - loss: 3.06 - ETA: 31:54 - loss: 3.06 - ETA: 31:53 - loss: 3.06 - ETA: 31:52 - loss: 3.06 - ETA: 31:52 - loss: 3.06 - ETA: 31:51 - loss: 3.06 - ETA: 31:50 - loss: 3.06 - ETA: 31:50 - loss: 3.06 - ETA: 31:49 - loss: 3.06 - ETA: 31:48 - loss: 3.06 - ETA: 31:48 - loss: 3.06 - ETA: 31:47 - loss: 3.06 - ETA: 31:47 - loss: 3.06 - ETA: 31:46 - loss: 3.06 - ETA: 31:45 - loss: 3.06 - ETA: 31:45 - loss: 3.06 - ETA: 31:44 - loss: 3.06 - ETA: 31:43 - loss: 3.06 - ETA: 31:43 - loss: 3.06 - ETA: 31:42 - loss: 3.06 - ETA: 31:41 - loss: 3.06 - ETA: 31:41 - loss: 3.06 - ETA: 31:40 - loss: 3.06 - ETA: 31:39 - loss: 3.06 - ETA: 31:39 - loss: 3.06 - ETA: 31:38 - loss: 3.06 - ETA: 31:37 - loss: 3.06 - ETA: 31:37 - loss: 3.06 - ETA: 31:36 - loss: 3.06 - ETA: 31:35 - loss: 3.06 - ETA: 31:35 - loss: 3.06 - ETA: 31:34 - loss: 3.06 - ETA: 31:34 - loss: 3.06 - ETA: 31:33 - loss: 3.06 - ETA: 31:32 - loss: 3.06 - ETA: 31:32 - loss: 3.06 - ETA: 31:31 - loss: 3.06 - ETA: 31:30 - loss: 3.06 - ETA: 31:30 - loss: 3.06 - ETA: 31:29 - loss: 3.06 - ETA: 31:28 - loss: 3.06 - ETA: 31:28 - loss: 3.06 - ETA: 31:28 - loss: 3.06 - ETA: 31:27 - loss: 3.06 - ETA: 31:27 - loss: 3.06 - ETA: 31:26 - loss: 3.06 - ETA: 31:25 - loss: 3.06 - ETA: 31:25 - loss: 3.06 - ETA: 31:24 - loss: 3.06 - ETA: 31:24 - loss: 3.06 - ETA: 31:23 - loss: 3.06 - ETA: 31:22 - loss: 3.06 - ETA: 31:22 - loss: 3.06 - ETA: 31:21 - loss: 3.06 - ETA: 31:20 - loss: 3.06 - ETA: 31:20 - loss: 3.06 - ETA: 31:19 - loss: 3.06 - ETA: 31:18 - loss: 3.06 - ETA: 31:18 - loss: 3.06 - ETA: 31:17 - loss: 3.06 - ETA: 31:16 - loss: 3.06 - ETA: 31:16 - loss: 3.06 - ETA: 31:15 - loss: 3.06 - ETA: 31:14 - loss: 3.06 - ETA: 31:14 - loss: 3.06 - ETA: 31:13 - loss: 3.06 - ETA: 31:12 - loss: 3.06 - ETA: 31:12 - loss: 3.06 - ETA: 31:11 - loss: 3.06 - ETA: 31:11 - loss: 3.06 - ETA: 31:10 - loss: 3.06 - ETA: 31:09 - loss: 3.06 - ETA: 31:09 - loss: 3.06 - ETA: 31:08 - loss: 3.06 - ETA: 31:07 - loss: 3.06 - ETA: 31:07 - loss: 3.06 - ETA: 31:06 - loss: 3.06 - ETA: 31:05 - loss: 3.06 - ETA: 31:05 - loss: 3.06 - ETA: 31:04 - loss: 3.06 - ETA: 31:03 - loss: 3.06 - ETA: 31:03 - loss: 3.06 - ETA: 31:02 - loss: 3.06 - ETA: 31:01 - loss: 3.06 - ETA: 31:01 - loss: 3.06 - ETA: 31:00 - loss: 3.06 - ETA: 30:59 - loss: 3.06 - ETA: 30:59 - loss: 3.06 - ETA: 30:58 - loss: 3.06 - ETA: 30:57 - loss: 3.06 - ETA: 30:57 - loss: 3.06 - ETA: 30:56 - loss: 3.06 - ETA: 30:56 - loss: 3.06 - ETA: 30:55 - loss: 3.06 - ETA: 30:54 - loss: 3.06 - ETA: 30:54 - loss: 3.06 - ETA: 30:53 - loss: 3.06 - ETA: 30:52 - loss: 3.06 - ETA: 30:52 - loss: 3.06 - ETA: 30:51 - loss: 3.06 - ETA: 30:50 - loss: 3.06 - ETA: 30:50 - loss: 3.06 - ETA: 30:49 - loss: 3.06 - ETA: 30:48 - loss: 3.06 - ETA: 30:48 - loss: 3.06 - ETA: 30:47 - loss: 3.06 - ETA: 30:46 - loss: 3.06 - ETA: 30:46 - loss: 3.06 - ETA: 30:45 - loss: 3.06 - ETA: 30:44 - loss: 3.06 - ETA: 30:44 - loss: 3.06 - ETA: 30:43 - loss: 3.06 - ETA: 30:43 - loss: 3.06 - ETA: 30:42 - loss: 3.06 - ETA: 30:41 - loss: 3.06 - ETA: 30:41 - loss: 3.06 - ETA: 30:40 - loss: 3.06 - ETA: 30:39 - loss: 3.06 - ETA: 30:39 - loss: 3.06 - ETA: 30:38 - loss: 3.06 - ETA: 30:37 - loss: 3.06 - ETA: 30:37 - loss: 3.06 - ETA: 30:36 - loss: 3.06 - ETA: 30:35 - loss: 3.06 - ETA: 30:35 - loss: 3.06 - ETA: 30:34 - loss: 3.06 - ETA: 30:34 - loss: 3.06 - ETA: 30:33 - loss: 3.06 - ETA: 30:32 - loss: 3.06 - ETA: 30:32 - loss: 3.06 - ETA: 30:31 - loss: 3.06 - ETA: 30:30 - loss: 3.06 - ETA: 30:30 - loss: 3.06 - ETA: 30:29 - loss: 3.06 - ETA: 30:28 - loss: 3.06 - ETA: 30:28 - loss: 3.0632"
     ]
    },
    {
     "name": "stdout",
     "output_type": "stream",
     "text": [
      "1884/4335 [============>.................] - ETA: 30:27 - loss: 3.06 - ETA: 30:27 - loss: 3.06 - ETA: 30:26 - loss: 3.06 - ETA: 30:25 - loss: 3.06 - ETA: 30:25 - loss: 3.06 - ETA: 30:24 - loss: 3.06 - ETA: 30:23 - loss: 3.06 - ETA: 30:23 - loss: 3.06 - ETA: 30:22 - loss: 3.06 - ETA: 30:21 - loss: 3.06 - ETA: 30:21 - loss: 3.06 - ETA: 30:20 - loss: 3.06 - ETA: 30:19 - loss: 3.06 - ETA: 30:19 - loss: 3.06 - ETA: 30:18 - loss: 3.06 - ETA: 30:17 - loss: 3.06 - ETA: 30:17 - loss: 3.06 - ETA: 30:16 - loss: 3.06 - ETA: 30:15 - loss: 3.06 - ETA: 30:15 - loss: 3.06 - ETA: 30:14 - loss: 3.06 - ETA: 30:13 - loss: 3.06 - ETA: 30:13 - loss: 3.06 - ETA: 30:12 - loss: 3.06 - ETA: 30:11 - loss: 3.06 - ETA: 30:11 - loss: 3.06 - ETA: 30:10 - loss: 3.06 - ETA: 30:09 - loss: 3.06 - ETA: 30:09 - loss: 3.06 - ETA: 30:08 - loss: 3.06 - ETA: 30:08 - loss: 3.06 - ETA: 30:07 - loss: 3.06 - ETA: 30:06 - loss: 3.06 - ETA: 30:06 - loss: 3.06 - ETA: 30:05 - loss: 3.06 - ETA: 30:04 - loss: 3.06 - ETA: 30:04 - loss: 3.06 - ETA: 30:03 - loss: 3.06 - ETA: 30:02 - loss: 3.06 - ETA: 30:02 - loss: 3.06 - ETA: 30:01 - loss: 3.06 - ETA: 30:01 - loss: 3.06 - ETA: 30:00 - loss: 3.06 - ETA: 29:59 - loss: 3.06 - ETA: 29:59 - loss: 3.06 - ETA: 29:58 - loss: 3.06 - ETA: 29:57 - loss: 3.06 - ETA: 29:57 - loss: 3.06 - ETA: 29:56 - loss: 3.06 - ETA: 29:55 - loss: 3.06 - ETA: 29:55 - loss: 3.06 - ETA: 29:54 - loss: 3.06 - ETA: 29:53 - loss: 3.06 - ETA: 29:53 - loss: 3.06 - ETA: 29:52 - loss: 3.06 - ETA: 29:51 - loss: 3.06 - ETA: 29:51 - loss: 3.06 - ETA: 29:50 - loss: 3.06 - ETA: 29:49 - loss: 3.06 - ETA: 29:49 - loss: 3.06 - ETA: 29:48 - loss: 3.06 - ETA: 29:47 - loss: 3.06 - ETA: 29:47 - loss: 3.06 - ETA: 29:46 - loss: 3.06 - ETA: 29:45 - loss: 3.06 - ETA: 29:45 - loss: 3.06 - ETA: 29:44 - loss: 3.06 - ETA: 29:44 - loss: 3.06 - ETA: 29:43 - loss: 3.06 - ETA: 29:42 - loss: 3.06 - ETA: 29:42 - loss: 3.06 - ETA: 29:41 - loss: 3.06 - ETA: 29:40 - loss: 3.06 - ETA: 29:40 - loss: 3.06 - ETA: 29:39 - loss: 3.06 - ETA: 29:38 - loss: 3.06 - ETA: 29:38 - loss: 3.06 - ETA: 29:37 - loss: 3.06 - ETA: 29:36 - loss: 3.06 - ETA: 29:36 - loss: 3.06 - ETA: 29:35 - loss: 3.06 - ETA: 29:34 - loss: 3.06 - ETA: 29:34 - loss: 3.06 - ETA: 29:33 - loss: 3.06 - ETA: 29:32 - loss: 3.06 - ETA: 29:32 - loss: 3.06 - ETA: 29:31 - loss: 3.06 - ETA: 29:30 - loss: 3.06 - ETA: 29:30 - loss: 3.06 - ETA: 29:29 - loss: 3.06 - ETA: 29:28 - loss: 3.06 - ETA: 29:28 - loss: 3.06 - ETA: 29:27 - loss: 3.06 - ETA: 29:26 - loss: 3.06 - ETA: 29:26 - loss: 3.06 - ETA: 29:25 - loss: 3.06 - ETA: 29:25 - loss: 3.06 - ETA: 29:24 - loss: 3.06 - ETA: 29:23 - loss: 3.06 - ETA: 29:22 - loss: 3.06 - ETA: 29:22 - loss: 3.06 - ETA: 29:21 - loss: 3.06 - ETA: 29:21 - loss: 3.06 - ETA: 29:20 - loss: 3.06 - ETA: 29:19 - loss: 3.06 - ETA: 29:19 - loss: 3.06 - ETA: 29:18 - loss: 3.06 - ETA: 29:17 - loss: 3.06 - ETA: 29:17 - loss: 3.06 - ETA: 29:16 - loss: 3.06 - ETA: 29:15 - loss: 3.06 - ETA: 29:15 - loss: 3.06 - ETA: 29:14 - loss: 3.06 - ETA: 29:13 - loss: 3.06 - ETA: 29:13 - loss: 3.06 - ETA: 29:12 - loss: 3.06 - ETA: 29:11 - loss: 3.06 - ETA: 29:11 - loss: 3.06 - ETA: 29:10 - loss: 3.06 - ETA: 29:09 - loss: 3.06 - ETA: 29:09 - loss: 3.06 - ETA: 29:08 - loss: 3.06 - ETA: 29:08 - loss: 3.06 - ETA: 29:07 - loss: 3.06 - ETA: 29:06 - loss: 3.06 - ETA: 29:06 - loss: 3.06 - ETA: 29:05 - loss: 3.06 - ETA: 29:04 - loss: 3.06 - ETA: 29:04 - loss: 3.06 - ETA: 29:03 - loss: 3.06 - ETA: 29:02 - loss: 3.06 - ETA: 29:02 - loss: 3.06 - ETA: 29:01 - loss: 3.06 - ETA: 29:00 - loss: 3.06 - ETA: 29:00 - loss: 3.06 - ETA: 28:59 - loss: 3.06 - ETA: 28:58 - loss: 3.06 - ETA: 28:58 - loss: 3.06 - ETA: 28:57 - loss: 3.06 - ETA: 28:56 - loss: 3.06 - ETA: 28:56 - loss: 3.06 - ETA: 28:55 - loss: 3.06 - ETA: 28:54 - loss: 3.06 - ETA: 28:54 - loss: 3.06 - ETA: 28:53 - loss: 3.06 - ETA: 28:52 - loss: 3.06 - ETA: 28:52 - loss: 3.06 - ETA: 28:51 - loss: 3.06 - ETA: 28:50 - loss: 3.06 - ETA: 28:50 - loss: 3.06 - ETA: 28:49 - loss: 3.06 - ETA: 28:48 - loss: 3.06 - ETA: 28:48 - loss: 3.06 - ETA: 28:47 - loss: 3.06 - ETA: 28:46 - loss: 3.06 - ETA: 28:46 - loss: 3.06 - ETA: 28:45 - loss: 3.06 - ETA: 28:44 - loss: 3.06 - ETA: 28:44 - loss: 3.06 - ETA: 28:43 - loss: 3.06 - ETA: 28:42 - loss: 3.06 - ETA: 28:42 - loss: 3.06 - ETA: 28:41 - loss: 3.06 - ETA: 28:40 - loss: 3.06 - ETA: 28:40 - loss: 3.06 - ETA: 28:39 - loss: 3.06 - ETA: 28:39 - loss: 3.06 - ETA: 28:38 - loss: 3.06 - ETA: 28:37 - loss: 3.06 - ETA: 28:37 - loss: 3.06 - ETA: 28:36 - loss: 3.06 - ETA: 28:35 - loss: 3.06 - ETA: 28:35 - loss: 3.06 - ETA: 28:34 - loss: 3.06 - ETA: 28:33 - loss: 3.06 - ETA: 28:33 - loss: 3.06 - ETA: 28:32 - loss: 3.06 - ETA: 28:31 - loss: 3.06 - ETA: 28:31 - loss: 3.06 - ETA: 28:30 - loss: 3.06 - ETA: 28:29 - loss: 3.06 - ETA: 28:29 - loss: 3.06 - ETA: 28:28 - loss: 3.06 - ETA: 28:27 - loss: 3.06 - ETA: 28:27 - loss: 3.06 - ETA: 28:26 - loss: 3.06 - ETA: 28:26 - loss: 3.06 - ETA: 28:25 - loss: 3.06 - ETA: 28:24 - loss: 3.06 - ETA: 28:24 - loss: 3.06 - ETA: 28:23 - loss: 3.06 - ETA: 28:22 - loss: 3.06 - ETA: 28:22 - loss: 3.06 - ETA: 28:21 - loss: 3.06 - ETA: 28:20 - loss: 3.06 - ETA: 28:20 - loss: 3.06 - ETA: 28:19 - loss: 3.06 - ETA: 28:19 - loss: 3.06 - ETA: 28:18 - loss: 3.06 - ETA: 28:17 - loss: 3.06 - ETA: 28:17 - loss: 3.06 - ETA: 28:16 - loss: 3.06 - ETA: 28:15 - loss: 3.06 - ETA: 28:15 - loss: 3.06 - ETA: 28:14 - loss: 3.06 - ETA: 28:14 - loss: 3.06 - ETA: 28:13 - loss: 3.06 - ETA: 28:12 - loss: 3.06 - ETA: 28:12 - loss: 3.06 - ETA: 28:11 - loss: 3.06 - ETA: 28:11 - loss: 3.06 - ETA: 28:10 - loss: 3.06 - ETA: 28:09 - loss: 3.06 - ETA: 28:09 - loss: 3.06 - ETA: 28:08 - loss: 3.06 - ETA: 28:07 - loss: 3.06 - ETA: 28:07 - loss: 3.06 - ETA: 28:06 - loss: 3.06 - ETA: 28:05 - loss: 3.06 - ETA: 28:05 - loss: 3.06 - ETA: 28:04 - loss: 3.06 - ETA: 28:03 - loss: 3.06 - ETA: 28:03 - loss: 3.06 - ETA: 28:02 - loss: 3.06 - ETA: 28:01 - loss: 3.06 - ETA: 28:01 - loss: 3.06 - ETA: 28:00 - loss: 3.06 - ETA: 27:59 - loss: 3.06 - ETA: 27:59 - loss: 3.06 - ETA: 27:58 - loss: 3.06 - ETA: 27:57 - loss: 3.06 - ETA: 27:57 - loss: 3.06 - ETA: 27:56 - loss: 3.06 - ETA: 27:56 - loss: 3.06 - ETA: 27:55 - loss: 3.06 - ETA: 27:54 - loss: 3.06 - ETA: 27:54 - loss: 3.06 - ETA: 27:53 - loss: 3.06 - ETA: 27:52 - loss: 3.06 - ETA: 27:52 - loss: 3.06 - ETA: 27:51 - loss: 3.06 - ETA: 27:50 - loss: 3.06 - ETA: 27:50 - loss: 3.06 - ETA: 27:49 - loss: 3.06 - ETA: 27:48 - loss: 3.06 - ETA: 27:48 - loss: 3.06 - ETA: 27:47 - loss: 3.06 - ETA: 27:46 - loss: 3.06 - ETA: 27:46 - loss: 3.06 - ETA: 27:45 - loss: 3.06 - ETA: 27:44 - loss: 3.06 - ETA: 27:44 - loss: 3.06 - ETA: 27:43 - loss: 3.06 - ETA: 27:42 - loss: 3.06 - ETA: 27:42 - loss: 3.06 - ETA: 27:41 - loss: 3.06 - ETA: 27:40 - loss: 3.06 - ETA: 27:40 - loss: 3.06 - ETA: 27:39 - loss: 3.06 - ETA: 27:38 - loss: 3.06 - ETA: 27:38 - loss: 3.06 - ETA: 27:37 - loss: 3.06 - ETA: 27:36 - loss: 3.06 - ETA: 27:36 - loss: 3.06 - ETA: 27:35 - loss: 3.06 - ETA: 27:34 - loss: 3.06 - ETA: 27:34 - loss: 3.06 - ETA: 27:33 - loss: 3.06 - ETA: 27:33 - loss: 3.06 - ETA: 27:32 - loss: 3.06 - ETA: 27:31 - loss: 3.06 - ETA: 27:31 - loss: 3.06 - ETA: 27:30 - loss: 3.06 - ETA: 27:29 - loss: 3.06 - ETA: 27:29 - loss: 3.06 - ETA: 27:28 - loss: 3.06 - ETA: 27:27 - loss: 3.06 - ETA: 27:27 - loss: 3.06 - ETA: 27:26 - loss: 3.06 - ETA: 27:25 - loss: 3.06 - ETA: 27:25 - loss: 3.06 - ETA: 27:24 - loss: 3.06 - ETA: 27:23 - loss: 3.06 - ETA: 27:23 - loss: 3.06 - ETA: 27:22 - loss: 3.06 - ETA: 27:21 - loss: 3.06 - ETA: 27:21 - loss: 3.06 - ETA: 27:20 - loss: 3.06 - ETA: 27:19 - loss: 3.06 - ETA: 27:19 - loss: 3.06 - ETA: 27:18 - loss: 3.06 - ETA: 27:17 - loss: 3.06 - ETA: 27:17 - loss: 3.06 - ETA: 27:16 - loss: 3.06 - ETA: 27:16 - loss: 3.06 - ETA: 27:15 - loss: 3.06 - ETA: 27:14 - loss: 3.06 - ETA: 27:14 - loss: 3.06 - ETA: 27:13 - loss: 3.06 - ETA: 27:12 - loss: 3.06 - ETA: 27:12 - loss: 3.06 - ETA: 27:11 - loss: 3.06 - ETA: 27:10 - loss: 3.06 - ETA: 27:10 - loss: 3.06 - ETA: 27:09 - loss: 3.06 - ETA: 27:08 - loss: 3.06 - ETA: 27:08 - loss: 3.06 - ETA: 27:07 - loss: 3.06 - ETA: 27:06 - loss: 3.06 - ETA: 27:06 - loss: 3.06 - ETA: 27:05 - loss: 3.06 - ETA: 27:04 - loss: 3.06 - ETA: 27:04 - loss: 3.06 - ETA: 27:03 - loss: 3.0692"
     ]
    },
    {
     "name": "stdout",
     "output_type": "stream",
     "text": [
      "2198/4335 [==============>...............] - ETA: 27:02 - loss: 3.06 - ETA: 27:02 - loss: 3.06 - ETA: 27:01 - loss: 3.06 - ETA: 27:00 - loss: 3.06 - ETA: 27:00 - loss: 3.06 - ETA: 26:59 - loss: 3.06 - ETA: 26:58 - loss: 3.06 - ETA: 26:58 - loss: 3.06 - ETA: 26:57 - loss: 3.07 - ETA: 26:56 - loss: 3.07 - ETA: 26:56 - loss: 3.07 - ETA: 26:55 - loss: 3.07 - ETA: 26:54 - loss: 3.07 - ETA: 26:54 - loss: 3.07 - ETA: 26:53 - loss: 3.07 - ETA: 26:52 - loss: 3.07 - ETA: 26:52 - loss: 3.07 - ETA: 26:51 - loss: 3.07 - ETA: 26:50 - loss: 3.07 - ETA: 26:50 - loss: 3.07 - ETA: 26:49 - loss: 3.07 - ETA: 26:48 - loss: 3.07 - ETA: 26:48 - loss: 3.07 - ETA: 26:47 - loss: 3.07 - ETA: 26:47 - loss: 3.07 - ETA: 26:46 - loss: 3.07 - ETA: 26:45 - loss: 3.07 - ETA: 26:45 - loss: 3.07 - ETA: 26:44 - loss: 3.07 - ETA: 26:43 - loss: 3.07 - ETA: 26:43 - loss: 3.07 - ETA: 26:42 - loss: 3.07 - ETA: 26:41 - loss: 3.07 - ETA: 26:41 - loss: 3.07 - ETA: 26:40 - loss: 3.06 - ETA: 26:39 - loss: 3.06 - ETA: 26:39 - loss: 3.06 - ETA: 26:38 - loss: 3.06 - ETA: 26:38 - loss: 3.06 - ETA: 26:37 - loss: 3.06 - ETA: 26:36 - loss: 3.06 - ETA: 26:36 - loss: 3.07 - ETA: 26:35 - loss: 3.07 - ETA: 26:34 - loss: 3.06 - ETA: 26:34 - loss: 3.06 - ETA: 26:33 - loss: 3.06 - ETA: 26:32 - loss: 3.06 - ETA: 26:32 - loss: 3.06 - ETA: 26:31 - loss: 3.06 - ETA: 26:30 - loss: 3.06 - ETA: 26:30 - loss: 3.06 - ETA: 26:29 - loss: 3.06 - ETA: 26:28 - loss: 3.06 - ETA: 26:28 - loss: 3.06 - ETA: 26:27 - loss: 3.06 - ETA: 26:26 - loss: 3.06 - ETA: 26:26 - loss: 3.06 - ETA: 26:25 - loss: 3.06 - ETA: 26:24 - loss: 3.06 - ETA: 26:24 - loss: 3.06 - ETA: 26:23 - loss: 3.06 - ETA: 26:23 - loss: 3.06 - ETA: 26:22 - loss: 3.06 - ETA: 26:21 - loss: 3.06 - ETA: 26:21 - loss: 3.06 - ETA: 26:20 - loss: 3.06 - ETA: 26:20 - loss: 3.06 - ETA: 26:19 - loss: 3.06 - ETA: 26:19 - loss: 3.06 - ETA: 26:18 - loss: 3.06 - ETA: 26:17 - loss: 3.06 - ETA: 26:17 - loss: 3.06 - ETA: 26:16 - loss: 3.06 - ETA: 26:16 - loss: 3.06 - ETA: 26:15 - loss: 3.06 - ETA: 26:14 - loss: 3.06 - ETA: 26:14 - loss: 3.06 - ETA: 26:13 - loss: 3.06 - ETA: 26:12 - loss: 3.06 - ETA: 26:12 - loss: 3.06 - ETA: 26:11 - loss: 3.06 - ETA: 26:10 - loss: 3.06 - ETA: 26:10 - loss: 3.06 - ETA: 26:09 - loss: 3.06 - ETA: 26:09 - loss: 3.06 - ETA: 26:08 - loss: 3.06 - ETA: 26:07 - loss: 3.06 - ETA: 26:07 - loss: 3.06 - ETA: 26:06 - loss: 3.06 - ETA: 26:05 - loss: 3.06 - ETA: 26:05 - loss: 3.06 - ETA: 26:04 - loss: 3.06 - ETA: 26:03 - loss: 3.06 - ETA: 26:03 - loss: 3.06 - ETA: 26:02 - loss: 3.06 - ETA: 26:01 - loss: 3.06 - ETA: 26:01 - loss: 3.06 - ETA: 26:00 - loss: 3.06 - ETA: 26:00 - loss: 3.06 - ETA: 25:59 - loss: 3.06 - ETA: 25:58 - loss: 3.06 - ETA: 25:58 - loss: 3.06 - ETA: 25:57 - loss: 3.06 - ETA: 25:56 - loss: 3.06 - ETA: 25:56 - loss: 3.06 - ETA: 25:55 - loss: 3.06 - ETA: 25:54 - loss: 3.06 - ETA: 25:54 - loss: 3.06 - ETA: 25:53 - loss: 3.06 - ETA: 25:52 - loss: 3.06 - ETA: 25:52 - loss: 3.06 - ETA: 25:51 - loss: 3.06 - ETA: 25:50 - loss: 3.06 - ETA: 25:50 - loss: 3.06 - ETA: 25:49 - loss: 3.06 - ETA: 25:48 - loss: 3.06 - ETA: 25:48 - loss: 3.06 - ETA: 25:47 - loss: 3.06 - ETA: 25:46 - loss: 3.06 - ETA: 25:46 - loss: 3.06 - ETA: 25:45 - loss: 3.06 - ETA: 25:44 - loss: 3.06 - ETA: 25:44 - loss: 3.06 - ETA: 25:43 - loss: 3.06 - ETA: 25:42 - loss: 3.06 - ETA: 25:42 - loss: 3.06 - ETA: 25:41 - loss: 3.06 - ETA: 25:40 - loss: 3.06 - ETA: 25:40 - loss: 3.06 - ETA: 25:39 - loss: 3.06 - ETA: 25:38 - loss: 3.06 - ETA: 25:38 - loss: 3.06 - ETA: 25:37 - loss: 3.06 - ETA: 25:36 - loss: 3.06 - ETA: 25:36 - loss: 3.06 - ETA: 25:35 - loss: 3.06 - ETA: 25:34 - loss: 3.06 - ETA: 25:34 - loss: 3.06 - ETA: 25:33 - loss: 3.06 - ETA: 25:32 - loss: 3.06 - ETA: 25:32 - loss: 3.06 - ETA: 25:31 - loss: 3.06 - ETA: 25:30 - loss: 3.06 - ETA: 25:30 - loss: 3.06 - ETA: 25:29 - loss: 3.06 - ETA: 25:28 - loss: 3.06 - ETA: 25:28 - loss: 3.06 - ETA: 25:27 - loss: 3.06 - ETA: 25:27 - loss: 3.06 - ETA: 25:26 - loss: 3.06 - ETA: 25:25 - loss: 3.06 - ETA: 25:25 - loss: 3.06 - ETA: 25:24 - loss: 3.06 - ETA: 25:23 - loss: 3.06 - ETA: 25:23 - loss: 3.07 - ETA: 25:22 - loss: 3.07 - ETA: 25:21 - loss: 3.07 - ETA: 25:21 - loss: 3.07 - ETA: 25:20 - loss: 3.07 - ETA: 25:19 - loss: 3.06 - ETA: 25:19 - loss: 3.06 - ETA: 25:18 - loss: 3.06 - ETA: 25:17 - loss: 3.06 - ETA: 25:17 - loss: 3.06 - ETA: 25:16 - loss: 3.06 - ETA: 25:15 - loss: 3.06 - ETA: 25:15 - loss: 3.06 - ETA: 25:14 - loss: 3.06 - ETA: 25:13 - loss: 3.06 - ETA: 25:13 - loss: 3.06 - ETA: 25:12 - loss: 3.06 - ETA: 25:11 - loss: 3.06 - ETA: 25:11 - loss: 3.06 - ETA: 25:10 - loss: 3.06 - ETA: 25:10 - loss: 3.06 - ETA: 25:09 - loss: 3.06 - ETA: 25:08 - loss: 3.06 - ETA: 25:08 - loss: 3.07 - ETA: 25:07 - loss: 3.07 - ETA: 25:06 - loss: 3.07 - ETA: 25:06 - loss: 3.07 - ETA: 25:05 - loss: 3.07 - ETA: 25:04 - loss: 3.07 - ETA: 25:04 - loss: 3.07 - ETA: 25:03 - loss: 3.07 - ETA: 25:02 - loss: 3.07 - ETA: 25:02 - loss: 3.07 - ETA: 25:01 - loss: 3.07 - ETA: 25:00 - loss: 3.07 - ETA: 25:00 - loss: 3.07 - ETA: 24:59 - loss: 3.07 - ETA: 24:59 - loss: 3.07 - ETA: 24:58 - loss: 3.07 - ETA: 24:57 - loss: 3.07 - ETA: 24:57 - loss: 3.07 - ETA: 24:56 - loss: 3.07 - ETA: 24:55 - loss: 3.07 - ETA: 24:55 - loss: 3.07 - ETA: 24:54 - loss: 3.07 - ETA: 24:53 - loss: 3.07 - ETA: 24:53 - loss: 3.07 - ETA: 24:52 - loss: 3.07 - ETA: 24:51 - loss: 3.07 - ETA: 24:51 - loss: 3.07 - ETA: 24:50 - loss: 3.07 - ETA: 24:49 - loss: 3.07 - ETA: 24:49 - loss: 3.07 - ETA: 24:48 - loss: 3.07 - ETA: 24:48 - loss: 3.07 - ETA: 24:47 - loss: 3.07 - ETA: 24:46 - loss: 3.07 - ETA: 24:46 - loss: 3.07 - ETA: 24:45 - loss: 3.07 - ETA: 24:44 - loss: 3.07 - ETA: 24:44 - loss: 3.07 - ETA: 24:43 - loss: 3.07 - ETA: 24:42 - loss: 3.07 - ETA: 24:42 - loss: 3.07 - ETA: 24:41 - loss: 3.07 - ETA: 24:41 - loss: 3.07 - ETA: 24:40 - loss: 3.07 - ETA: 24:39 - loss: 3.07 - ETA: 24:39 - loss: 3.07 - ETA: 24:38 - loss: 3.07 - ETA: 24:37 - loss: 3.07 - ETA: 24:37 - loss: 3.07 - ETA: 24:36 - loss: 3.07 - ETA: 24:35 - loss: 3.07 - ETA: 24:35 - loss: 3.07 - ETA: 24:34 - loss: 3.07 - ETA: 24:33 - loss: 3.07 - ETA: 24:33 - loss: 3.07 - ETA: 24:32 - loss: 3.07 - ETA: 24:31 - loss: 3.07 - ETA: 24:31 - loss: 3.07 - ETA: 24:30 - loss: 3.07 - ETA: 24:29 - loss: 3.07 - ETA: 24:29 - loss: 3.07 - ETA: 24:28 - loss: 3.07 - ETA: 24:27 - loss: 3.07 - ETA: 24:27 - loss: 3.07 - ETA: 24:26 - loss: 3.07 - ETA: 24:25 - loss: 3.07 - ETA: 24:25 - loss: 3.07 - ETA: 24:24 - loss: 3.07 - ETA: 24:23 - loss: 3.07 - ETA: 24:23 - loss: 3.07 - ETA: 24:22 - loss: 3.07 - ETA: 24:22 - loss: 3.07 - ETA: 24:21 - loss: 3.07 - ETA: 24:20 - loss: 3.07 - ETA: 24:20 - loss: 3.07 - ETA: 24:19 - loss: 3.07 - ETA: 24:18 - loss: 3.07 - ETA: 24:18 - loss: 3.07 - ETA: 24:17 - loss: 3.07 - ETA: 24:16 - loss: 3.07 - ETA: 24:16 - loss: 3.07 - ETA: 24:15 - loss: 3.07 - ETA: 24:15 - loss: 3.07 - ETA: 24:14 - loss: 3.07 - ETA: 24:13 - loss: 3.07 - ETA: 24:13 - loss: 3.07 - ETA: 24:12 - loss: 3.07 - ETA: 24:11 - loss: 3.07 - ETA: 24:11 - loss: 3.07 - ETA: 24:10 - loss: 3.07 - ETA: 24:09 - loss: 3.07 - ETA: 24:09 - loss: 3.07 - ETA: 24:08 - loss: 3.07 - ETA: 24:07 - loss: 3.07 - ETA: 24:07 - loss: 3.07 - ETA: 24:06 - loss: 3.07 - ETA: 24:05 - loss: 3.07 - ETA: 24:05 - loss: 3.07 - ETA: 24:04 - loss: 3.07 - ETA: 24:03 - loss: 3.07 - ETA: 24:03 - loss: 3.07 - ETA: 24:02 - loss: 3.07 - ETA: 24:01 - loss: 3.07 - ETA: 24:01 - loss: 3.07 - ETA: 24:00 - loss: 3.07 - ETA: 23:59 - loss: 3.07 - ETA: 23:59 - loss: 3.07 - ETA: 23:58 - loss: 3.07 - ETA: 23:57 - loss: 3.07 - ETA: 23:57 - loss: 3.07 - ETA: 23:56 - loss: 3.07 - ETA: 23:55 - loss: 3.07 - ETA: 23:55 - loss: 3.07 - ETA: 23:54 - loss: 3.07 - ETA: 23:53 - loss: 3.07 - ETA: 23:53 - loss: 3.07 - ETA: 23:52 - loss: 3.07 - ETA: 23:51 - loss: 3.07 - ETA: 23:51 - loss: 3.07 - ETA: 23:50 - loss: 3.07 - ETA: 23:49 - loss: 3.07 - ETA: 23:49 - loss: 3.07 - ETA: 23:48 - loss: 3.07 - ETA: 23:47 - loss: 3.07 - ETA: 23:47 - loss: 3.07 - ETA: 23:46 - loss: 3.07 - ETA: 23:46 - loss: 3.07 - ETA: 23:45 - loss: 3.07 - ETA: 23:44 - loss: 3.07 - ETA: 23:44 - loss: 3.07 - ETA: 23:43 - loss: 3.07 - ETA: 23:42 - loss: 3.07 - ETA: 23:42 - loss: 3.07 - ETA: 23:41 - loss: 3.07 - ETA: 23:40 - loss: 3.07 - ETA: 23:40 - loss: 3.07 - ETA: 23:39 - loss: 3.0718"
     ]
    },
    {
     "name": "stdout",
     "output_type": "stream",
     "text": [
      "2512/4335 [================>.............] - ETA: 23:38 - loss: 3.07 - ETA: 23:38 - loss: 3.07 - ETA: 23:37 - loss: 3.07 - ETA: 23:36 - loss: 3.07 - ETA: 23:36 - loss: 3.07 - ETA: 23:35 - loss: 3.07 - ETA: 23:34 - loss: 3.07 - ETA: 23:34 - loss: 3.07 - ETA: 23:33 - loss: 3.07 - ETA: 23:32 - loss: 3.07 - ETA: 23:32 - loss: 3.07 - ETA: 23:31 - loss: 3.07 - ETA: 23:30 - loss: 3.07 - ETA: 23:30 - loss: 3.07 - ETA: 23:29 - loss: 3.07 - ETA: 23:28 - loss: 3.07 - ETA: 23:28 - loss: 3.07 - ETA: 23:27 - loss: 3.07 - ETA: 23:26 - loss: 3.07 - ETA: 23:26 - loss: 3.07 - ETA: 23:25 - loss: 3.07 - ETA: 23:24 - loss: 3.07 - ETA: 23:24 - loss: 3.07 - ETA: 23:23 - loss: 3.07 - ETA: 23:22 - loss: 3.07 - ETA: 23:22 - loss: 3.07 - ETA: 23:21 - loss: 3.07 - ETA: 23:21 - loss: 3.07 - ETA: 23:20 - loss: 3.07 - ETA: 23:19 - loss: 3.07 - ETA: 23:19 - loss: 3.07 - ETA: 23:18 - loss: 3.07 - ETA: 23:17 - loss: 3.07 - ETA: 23:17 - loss: 3.07 - ETA: 23:16 - loss: 3.07 - ETA: 23:16 - loss: 3.07 - ETA: 23:15 - loss: 3.07 - ETA: 23:14 - loss: 3.07 - ETA: 23:14 - loss: 3.07 - ETA: 23:13 - loss: 3.07 - ETA: 23:12 - loss: 3.07 - ETA: 23:12 - loss: 3.07 - ETA: 23:11 - loss: 3.07 - ETA: 23:10 - loss: 3.07 - ETA: 23:10 - loss: 3.07 - ETA: 23:09 - loss: 3.07 - ETA: 23:08 - loss: 3.07 - ETA: 23:08 - loss: 3.07 - ETA: 23:07 - loss: 3.07 - ETA: 23:06 - loss: 3.07 - ETA: 23:06 - loss: 3.07 - ETA: 23:05 - loss: 3.07 - ETA: 23:04 - loss: 3.07 - ETA: 23:04 - loss: 3.07 - ETA: 23:03 - loss: 3.07 - ETA: 23:03 - loss: 3.07 - ETA: 23:02 - loss: 3.07 - ETA: 23:01 - loss: 3.07 - ETA: 23:01 - loss: 3.07 - ETA: 23:00 - loss: 3.07 - ETA: 22:59 - loss: 3.07 - ETA: 22:59 - loss: 3.07 - ETA: 22:58 - loss: 3.07 - ETA: 22:57 - loss: 3.07 - ETA: 22:57 - loss: 3.07 - ETA: 22:56 - loss: 3.07 - ETA: 22:55 - loss: 3.07 - ETA: 22:55 - loss: 3.07 - ETA: 22:54 - loss: 3.07 - ETA: 22:53 - loss: 3.07 - ETA: 22:53 - loss: 3.07 - ETA: 22:52 - loss: 3.07 - ETA: 22:51 - loss: 3.07 - ETA: 22:51 - loss: 3.07 - ETA: 22:50 - loss: 3.07 - ETA: 22:49 - loss: 3.07 - ETA: 22:49 - loss: 3.07 - ETA: 22:48 - loss: 3.07 - ETA: 22:47 - loss: 3.07 - ETA: 22:47 - loss: 3.07 - ETA: 22:46 - loss: 3.07 - ETA: 22:45 - loss: 3.07 - ETA: 22:45 - loss: 3.07 - ETA: 22:44 - loss: 3.07 - ETA: 22:43 - loss: 3.07 - ETA: 22:43 - loss: 3.07 - ETA: 22:42 - loss: 3.07 - ETA: 22:41 - loss: 3.07 - ETA: 22:41 - loss: 3.07 - ETA: 22:40 - loss: 3.07 - ETA: 22:39 - loss: 3.07 - ETA: 22:39 - loss: 3.07 - ETA: 22:38 - loss: 3.07 - ETA: 22:37 - loss: 3.07 - ETA: 22:37 - loss: 3.07 - ETA: 22:36 - loss: 3.07 - ETA: 22:36 - loss: 3.07 - ETA: 22:35 - loss: 3.07 - ETA: 22:34 - loss: 3.07 - ETA: 22:34 - loss: 3.07 - ETA: 22:33 - loss: 3.07 - ETA: 22:32 - loss: 3.07 - ETA: 22:32 - loss: 3.07 - ETA: 22:31 - loss: 3.07 - ETA: 22:30 - loss: 3.07 - ETA: 22:30 - loss: 3.07 - ETA: 22:29 - loss: 3.07 - ETA: 22:28 - loss: 3.07 - ETA: 22:28 - loss: 3.07 - ETA: 22:27 - loss: 3.07 - ETA: 22:26 - loss: 3.07 - ETA: 22:26 - loss: 3.07 - ETA: 22:25 - loss: 3.07 - ETA: 22:24 - loss: 3.07 - ETA: 22:24 - loss: 3.07 - ETA: 22:23 - loss: 3.07 - ETA: 22:22 - loss: 3.07 - ETA: 22:22 - loss: 3.07 - ETA: 22:21 - loss: 3.07 - ETA: 22:20 - loss: 3.07 - ETA: 22:20 - loss: 3.07 - ETA: 22:19 - loss: 3.07 - ETA: 22:18 - loss: 3.07 - ETA: 22:18 - loss: 3.07 - ETA: 22:17 - loss: 3.07 - ETA: 22:16 - loss: 3.07 - ETA: 22:16 - loss: 3.07 - ETA: 22:15 - loss: 3.07 - ETA: 22:14 - loss: 3.07 - ETA: 22:14 - loss: 3.07 - ETA: 22:13 - loss: 3.07 - ETA: 22:12 - loss: 3.07 - ETA: 22:12 - loss: 3.07 - ETA: 22:11 - loss: 3.07 - ETA: 22:10 - loss: 3.07 - ETA: 22:10 - loss: 3.07 - ETA: 22:09 - loss: 3.07 - ETA: 22:08 - loss: 3.07 - ETA: 22:08 - loss: 3.07 - ETA: 22:07 - loss: 3.07 - ETA: 22:06 - loss: 3.07 - ETA: 22:06 - loss: 3.07 - ETA: 22:05 - loss: 3.07 - ETA: 22:04 - loss: 3.07 - ETA: 22:04 - loss: 3.07 - ETA: 22:03 - loss: 3.07 - ETA: 22:02 - loss: 3.07 - ETA: 22:02 - loss: 3.07 - ETA: 22:01 - loss: 3.07 - ETA: 22:00 - loss: 3.07 - ETA: 22:00 - loss: 3.07 - ETA: 21:59 - loss: 3.07 - ETA: 21:59 - loss: 3.07 - ETA: 21:58 - loss: 3.07 - ETA: 21:57 - loss: 3.07 - ETA: 21:57 - loss: 3.07 - ETA: 21:56 - loss: 3.07 - ETA: 21:55 - loss: 3.07 - ETA: 21:55 - loss: 3.07 - ETA: 21:54 - loss: 3.07 - ETA: 21:53 - loss: 3.07 - ETA: 21:53 - loss: 3.07 - ETA: 21:52 - loss: 3.07 - ETA: 21:51 - loss: 3.07 - ETA: 21:51 - loss: 3.07 - ETA: 21:50 - loss: 3.07 - ETA: 21:49 - loss: 3.07 - ETA: 21:49 - loss: 3.07 - ETA: 21:48 - loss: 3.07 - ETA: 21:47 - loss: 3.07 - ETA: 21:47 - loss: 3.07 - ETA: 21:46 - loss: 3.07 - ETA: 21:45 - loss: 3.07 - ETA: 21:45 - loss: 3.07 - ETA: 21:44 - loss: 3.07 - ETA: 21:44 - loss: 3.07 - ETA: 21:43 - loss: 3.07 - ETA: 21:42 - loss: 3.07 - ETA: 21:42 - loss: 3.07 - ETA: 21:41 - loss: 3.07 - ETA: 21:40 - loss: 3.07 - ETA: 21:40 - loss: 3.07 - ETA: 21:39 - loss: 3.07 - ETA: 21:38 - loss: 3.07 - ETA: 21:38 - loss: 3.07 - ETA: 21:37 - loss: 3.07 - ETA: 21:36 - loss: 3.07 - ETA: 21:36 - loss: 3.07 - ETA: 21:35 - loss: 3.07 - ETA: 21:34 - loss: 3.07 - ETA: 21:34 - loss: 3.07 - ETA: 21:33 - loss: 3.07 - ETA: 21:32 - loss: 3.07 - ETA: 21:32 - loss: 3.07 - ETA: 21:31 - loss: 3.07 - ETA: 21:30 - loss: 3.07 - ETA: 21:30 - loss: 3.07 - ETA: 21:29 - loss: 3.07 - ETA: 21:28 - loss: 3.07 - ETA: 21:28 - loss: 3.07 - ETA: 21:27 - loss: 3.07 - ETA: 21:26 - loss: 3.07 - ETA: 21:26 - loss: 3.07 - ETA: 21:25 - loss: 3.07 - ETA: 21:25 - loss: 3.07 - ETA: 21:24 - loss: 3.07 - ETA: 21:23 - loss: 3.07 - ETA: 21:23 - loss: 3.07 - ETA: 21:22 - loss: 3.07 - ETA: 21:21 - loss: 3.07 - ETA: 21:21 - loss: 3.07 - ETA: 21:20 - loss: 3.07 - ETA: 21:19 - loss: 3.07 - ETA: 21:19 - loss: 3.07 - ETA: 21:18 - loss: 3.07 - ETA: 21:17 - loss: 3.07 - ETA: 21:17 - loss: 3.07 - ETA: 21:16 - loss: 3.07 - ETA: 21:15 - loss: 3.07 - ETA: 21:15 - loss: 3.07 - ETA: 21:14 - loss: 3.07 - ETA: 21:13 - loss: 3.07 - ETA: 21:13 - loss: 3.07 - ETA: 21:12 - loss: 3.07 - ETA: 21:11 - loss: 3.07 - ETA: 21:11 - loss: 3.07 - ETA: 21:10 - loss: 3.07 - ETA: 21:09 - loss: 3.07 - ETA: 21:09 - loss: 3.07 - ETA: 21:08 - loss: 3.07 - ETA: 21:07 - loss: 3.07 - ETA: 21:07 - loss: 3.07 - ETA: 21:06 - loss: 3.07 - ETA: 21:05 - loss: 3.07 - ETA: 21:05 - loss: 3.07 - ETA: 21:04 - loss: 3.07 - ETA: 21:03 - loss: 3.07 - ETA: 21:03 - loss: 3.07 - ETA: 21:02 - loss: 3.07 - ETA: 21:01 - loss: 3.07 - ETA: 21:01 - loss: 3.07 - ETA: 21:00 - loss: 3.07 - ETA: 20:59 - loss: 3.07 - ETA: 20:59 - loss: 3.07 - ETA: 20:58 - loss: 3.07 - ETA: 20:57 - loss: 3.07 - ETA: 20:57 - loss: 3.07 - ETA: 20:56 - loss: 3.07 - ETA: 20:55 - loss: 3.07 - ETA: 20:55 - loss: 3.07 - ETA: 20:54 - loss: 3.07 - ETA: 20:53 - loss: 3.07 - ETA: 20:53 - loss: 3.07 - ETA: 20:52 - loss: 3.07 - ETA: 20:52 - loss: 3.07 - ETA: 20:51 - loss: 3.07 - ETA: 20:50 - loss: 3.07 - ETA: 20:50 - loss: 3.07 - ETA: 20:49 - loss: 3.07 - ETA: 20:48 - loss: 3.07 - ETA: 20:47 - loss: 3.07 - ETA: 20:47 - loss: 3.07 - ETA: 20:46 - loss: 3.07 - ETA: 20:45 - loss: 3.07 - ETA: 20:45 - loss: 3.07 - ETA: 20:44 - loss: 3.07 - ETA: 20:43 - loss: 3.07 - ETA: 20:43 - loss: 3.07 - ETA: 20:42 - loss: 3.07 - ETA: 20:41 - loss: 3.07 - ETA: 20:41 - loss: 3.07 - ETA: 20:40 - loss: 3.07 - ETA: 20:39 - loss: 3.07 - ETA: 20:39 - loss: 3.07 - ETA: 20:38 - loss: 3.07 - ETA: 20:37 - loss: 3.07 - ETA: 20:37 - loss: 3.07 - ETA: 20:36 - loss: 3.07 - ETA: 20:35 - loss: 3.07 - ETA: 20:35 - loss: 3.07 - ETA: 20:34 - loss: 3.07 - ETA: 20:33 - loss: 3.07 - ETA: 20:33 - loss: 3.07 - ETA: 20:32 - loss: 3.07 - ETA: 20:32 - loss: 3.07 - ETA: 20:31 - loss: 3.07 - ETA: 20:30 - loss: 3.07 - ETA: 20:30 - loss: 3.07 - ETA: 20:29 - loss: 3.07 - ETA: 20:28 - loss: 3.07 - ETA: 20:28 - loss: 3.07 - ETA: 20:27 - loss: 3.07 - ETA: 20:26 - loss: 3.07 - ETA: 20:26 - loss: 3.07 - ETA: 20:25 - loss: 3.07 - ETA: 20:24 - loss: 3.07 - ETA: 20:24 - loss: 3.07 - ETA: 20:23 - loss: 3.07 - ETA: 20:22 - loss: 3.07 - ETA: 20:22 - loss: 3.07 - ETA: 20:21 - loss: 3.07 - ETA: 20:20 - loss: 3.07 - ETA: 20:20 - loss: 3.07 - ETA: 20:19 - loss: 3.07 - ETA: 20:18 - loss: 3.07 - ETA: 20:18 - loss: 3.07 - ETA: 20:17 - loss: 3.07 - ETA: 20:16 - loss: 3.07 - ETA: 20:16 - loss: 3.07 - ETA: 20:15 - loss: 3.07 - ETA: 20:14 - loss: 3.07 - ETA: 20:14 - loss: 3.07 - ETA: 20:13 - loss: 3.07 - ETA: 20:12 - loss: 3.0736"
     ]
    },
    {
     "name": "stdout",
     "output_type": "stream",
     "text": [
      "2826/4335 [==================>...........] - ETA: 20:12 - loss: 3.07 - ETA: 20:11 - loss: 3.07 - ETA: 20:10 - loss: 3.07 - ETA: 20:10 - loss: 3.07 - ETA: 20:09 - loss: 3.07 - ETA: 20:08 - loss: 3.07 - ETA: 20:08 - loss: 3.07 - ETA: 20:07 - loss: 3.07 - ETA: 20:06 - loss: 3.07 - ETA: 20:06 - loss: 3.07 - ETA: 20:05 - loss: 3.07 - ETA: 20:04 - loss: 3.07 - ETA: 20:04 - loss: 3.07 - ETA: 20:03 - loss: 3.07 - ETA: 20:02 - loss: 3.07 - ETA: 20:02 - loss: 3.07 - ETA: 20:01 - loss: 3.07 - ETA: 20:00 - loss: 3.07 - ETA: 20:00 - loss: 3.07 - ETA: 19:59 - loss: 3.07 - ETA: 19:58 - loss: 3.07 - ETA: 19:58 - loss: 3.07 - ETA: 19:57 - loss: 3.07 - ETA: 19:56 - loss: 3.07 - ETA: 19:56 - loss: 3.07 - ETA: 19:55 - loss: 3.07 - ETA: 19:54 - loss: 3.07 - ETA: 19:54 - loss: 3.07 - ETA: 19:53 - loss: 3.07 - ETA: 19:52 - loss: 3.07 - ETA: 19:52 - loss: 3.07 - ETA: 19:51 - loss: 3.07 - ETA: 19:50 - loss: 3.07 - ETA: 19:50 - loss: 3.07 - ETA: 19:49 - loss: 3.07 - ETA: 19:48 - loss: 3.07 - ETA: 19:48 - loss: 3.07 - ETA: 19:47 - loss: 3.07 - ETA: 19:46 - loss: 3.07 - ETA: 19:46 - loss: 3.07 - ETA: 19:45 - loss: 3.07 - ETA: 19:44 - loss: 3.07 - ETA: 19:44 - loss: 3.07 - ETA: 19:43 - loss: 3.07 - ETA: 19:42 - loss: 3.07 - ETA: 19:42 - loss: 3.07 - ETA: 19:41 - loss: 3.07 - ETA: 19:40 - loss: 3.07 - ETA: 19:40 - loss: 3.07 - ETA: 19:39 - loss: 3.07 - ETA: 19:38 - loss: 3.07 - ETA: 19:38 - loss: 3.07 - ETA: 19:37 - loss: 3.07 - ETA: 19:37 - loss: 3.07 - ETA: 19:36 - loss: 3.07 - ETA: 19:35 - loss: 3.07 - ETA: 19:35 - loss: 3.07 - ETA: 19:34 - loss: 3.07 - ETA: 19:33 - loss: 3.07 - ETA: 19:33 - loss: 3.07 - ETA: 19:32 - loss: 3.07 - ETA: 19:31 - loss: 3.07 - ETA: 19:31 - loss: 3.07 - ETA: 19:30 - loss: 3.07 - ETA: 19:29 - loss: 3.07 - ETA: 19:29 - loss: 3.07 - ETA: 19:28 - loss: 3.07 - ETA: 19:27 - loss: 3.07 - ETA: 19:27 - loss: 3.07 - ETA: 19:26 - loss: 3.07 - ETA: 19:25 - loss: 3.07 - ETA: 19:25 - loss: 3.07 - ETA: 19:24 - loss: 3.07 - ETA: 19:23 - loss: 3.07 - ETA: 19:23 - loss: 3.07 - ETA: 19:22 - loss: 3.07 - ETA: 19:21 - loss: 3.07 - ETA: 19:21 - loss: 3.07 - ETA: 19:20 - loss: 3.07 - ETA: 19:19 - loss: 3.07 - ETA: 19:19 - loss: 3.07 - ETA: 19:18 - loss: 3.07 - ETA: 19:17 - loss: 3.07 - ETA: 19:17 - loss: 3.07 - ETA: 19:16 - loss: 3.07 - ETA: 19:15 - loss: 3.07 - ETA: 19:15 - loss: 3.07 - ETA: 19:14 - loss: 3.07 - ETA: 19:13 - loss: 3.07 - ETA: 19:13 - loss: 3.07 - ETA: 19:12 - loss: 3.07 - ETA: 19:11 - loss: 3.07 - ETA: 19:11 - loss: 3.07 - ETA: 19:10 - loss: 3.07 - ETA: 19:09 - loss: 3.07 - ETA: 19:09 - loss: 3.07 - ETA: 19:08 - loss: 3.07 - ETA: 19:07 - loss: 3.07 - ETA: 19:07 - loss: 3.07 - ETA: 19:06 - loss: 3.07 - ETA: 19:05 - loss: 3.07 - ETA: 19:05 - loss: 3.07 - ETA: 19:04 - loss: 3.07 - ETA: 19:03 - loss: 3.07 - ETA: 19:03 - loss: 3.07 - ETA: 19:02 - loss: 3.07 - ETA: 19:01 - loss: 3.07 - ETA: 19:01 - loss: 3.07 - ETA: 19:00 - loss: 3.07 - ETA: 18:59 - loss: 3.07 - ETA: 18:59 - loss: 3.07 - ETA: 18:58 - loss: 3.07 - ETA: 18:57 - loss: 3.07 - ETA: 18:57 - loss: 3.07 - ETA: 18:56 - loss: 3.07 - ETA: 18:55 - loss: 3.07 - ETA: 18:55 - loss: 3.07 - ETA: 18:54 - loss: 3.07 - ETA: 18:53 - loss: 3.07 - ETA: 18:53 - loss: 3.07 - ETA: 18:52 - loss: 3.07 - ETA: 18:51 - loss: 3.07 - ETA: 18:51 - loss: 3.07 - ETA: 18:50 - loss: 3.07 - ETA: 18:49 - loss: 3.07 - ETA: 18:49 - loss: 3.07 - ETA: 18:48 - loss: 3.07 - ETA: 18:48 - loss: 3.07 - ETA: 18:47 - loss: 3.07 - ETA: 18:46 - loss: 3.07 - ETA: 18:46 - loss: 3.07 - ETA: 18:45 - loss: 3.07 - ETA: 18:44 - loss: 3.07 - ETA: 18:44 - loss: 3.07 - ETA: 18:43 - loss: 3.07 - ETA: 18:42 - loss: 3.07 - ETA: 18:42 - loss: 3.07 - ETA: 18:41 - loss: 3.07 - ETA: 18:40 - loss: 3.07 - ETA: 18:40 - loss: 3.07 - ETA: 18:39 - loss: 3.07 - ETA: 18:38 - loss: 3.07 - ETA: 18:38 - loss: 3.07 - ETA: 18:37 - loss: 3.07 - ETA: 18:36 - loss: 3.07 - ETA: 18:36 - loss: 3.07 - ETA: 18:35 - loss: 3.07 - ETA: 18:34 - loss: 3.07 - ETA: 18:34 - loss: 3.07 - ETA: 18:33 - loss: 3.07 - ETA: 18:32 - loss: 3.07 - ETA: 18:32 - loss: 3.07 - ETA: 18:31 - loss: 3.07 - ETA: 18:30 - loss: 3.07 - ETA: 18:30 - loss: 3.07 - ETA: 18:29 - loss: 3.07 - ETA: 18:28 - loss: 3.07 - ETA: 18:28 - loss: 3.07 - ETA: 18:27 - loss: 3.07 - ETA: 18:26 - loss: 3.07 - ETA: 18:26 - loss: 3.07 - ETA: 18:25 - loss: 3.07 - ETA: 18:25 - loss: 3.07 - ETA: 18:24 - loss: 3.07 - ETA: 18:23 - loss: 3.07 - ETA: 18:23 - loss: 3.07 - ETA: 18:22 - loss: 3.07 - ETA: 18:21 - loss: 3.07 - ETA: 18:21 - loss: 3.07 - ETA: 18:20 - loss: 3.07 - ETA: 18:19 - loss: 3.07 - ETA: 18:19 - loss: 3.07 - ETA: 18:18 - loss: 3.07 - ETA: 18:17 - loss: 3.07 - ETA: 18:17 - loss: 3.07 - ETA: 18:16 - loss: 3.07 - ETA: 18:15 - loss: 3.07 - ETA: 18:15 - loss: 3.07 - ETA: 18:14 - loss: 3.07 - ETA: 18:13 - loss: 3.07 - ETA: 18:13 - loss: 3.07 - ETA: 18:12 - loss: 3.07 - ETA: 18:11 - loss: 3.07 - ETA: 18:11 - loss: 3.07 - ETA: 18:10 - loss: 3.07 - ETA: 18:09 - loss: 3.07 - ETA: 18:09 - loss: 3.07 - ETA: 18:08 - loss: 3.07 - ETA: 18:07 - loss: 3.07 - ETA: 18:07 - loss: 3.07 - ETA: 18:06 - loss: 3.07 - ETA: 18:05 - loss: 3.07 - ETA: 18:05 - loss: 3.07 - ETA: 18:04 - loss: 3.07 - ETA: 18:03 - loss: 3.07 - ETA: 18:03 - loss: 3.07 - ETA: 18:02 - loss: 3.07 - ETA: 18:01 - loss: 3.07 - ETA: 18:01 - loss: 3.07 - ETA: 18:00 - loss: 3.07 - ETA: 18:00 - loss: 3.07 - ETA: 17:59 - loss: 3.07 - ETA: 17:58 - loss: 3.07 - ETA: 17:58 - loss: 3.07 - ETA: 17:57 - loss: 3.07 - ETA: 17:56 - loss: 3.07 - ETA: 17:56 - loss: 3.07 - ETA: 17:55 - loss: 3.07 - ETA: 17:54 - loss: 3.07 - ETA: 17:54 - loss: 3.07 - ETA: 17:53 - loss: 3.07 - ETA: 17:52 - loss: 3.07 - ETA: 17:52 - loss: 3.07 - ETA: 17:51 - loss: 3.07 - ETA: 17:50 - loss: 3.07 - ETA: 17:50 - loss: 3.07 - ETA: 17:49 - loss: 3.07 - ETA: 17:48 - loss: 3.07 - ETA: 17:48 - loss: 3.07 - ETA: 17:47 - loss: 3.07 - ETA: 17:46 - loss: 3.07 - ETA: 17:46 - loss: 3.07 - ETA: 17:45 - loss: 3.07 - ETA: 17:44 - loss: 3.07 - ETA: 17:44 - loss: 3.07 - ETA: 17:43 - loss: 3.07 - ETA: 17:42 - loss: 3.07 - ETA: 17:42 - loss: 3.07 - ETA: 17:41 - loss: 3.07 - ETA: 17:40 - loss: 3.07 - ETA: 17:40 - loss: 3.07 - ETA: 17:39 - loss: 3.07 - ETA: 17:38 - loss: 3.07 - ETA: 17:38 - loss: 3.07 - ETA: 17:37 - loss: 3.07 - ETA: 17:36 - loss: 3.07 - ETA: 17:36 - loss: 3.07 - ETA: 17:35 - loss: 3.07 - ETA: 17:34 - loss: 3.07 - ETA: 17:34 - loss: 3.07 - ETA: 17:33 - loss: 3.07 - ETA: 17:32 - loss: 3.07 - ETA: 17:32 - loss: 3.07 - ETA: 17:31 - loss: 3.07 - ETA: 17:30 - loss: 3.07 - ETA: 17:30 - loss: 3.07 - ETA: 17:29 - loss: 3.07 - ETA: 17:28 - loss: 3.07 - ETA: 17:28 - loss: 3.07 - ETA: 17:27 - loss: 3.07 - ETA: 17:26 - loss: 3.07 - ETA: 17:26 - loss: 3.07 - ETA: 17:25 - loss: 3.07 - ETA: 17:24 - loss: 3.07 - ETA: 17:24 - loss: 3.07 - ETA: 17:23 - loss: 3.07 - ETA: 17:22 - loss: 3.07 - ETA: 17:22 - loss: 3.07 - ETA: 17:21 - loss: 3.07 - ETA: 17:20 - loss: 3.07 - ETA: 17:20 - loss: 3.07 - ETA: 17:19 - loss: 3.07 - ETA: 17:18 - loss: 3.07 - ETA: 17:18 - loss: 3.07 - ETA: 17:17 - loss: 3.07 - ETA: 17:16 - loss: 3.07 - ETA: 17:16 - loss: 3.07 - ETA: 17:15 - loss: 3.07 - ETA: 17:15 - loss: 3.07 - ETA: 17:14 - loss: 3.08 - ETA: 17:13 - loss: 3.08 - ETA: 17:12 - loss: 3.07 - ETA: 17:12 - loss: 3.08 - ETA: 17:11 - loss: 3.08 - ETA: 17:10 - loss: 3.08 - ETA: 17:10 - loss: 3.07 - ETA: 17:09 - loss: 3.08 - ETA: 17:09 - loss: 3.07 - ETA: 17:08 - loss: 3.08 - ETA: 17:07 - loss: 3.08 - ETA: 17:07 - loss: 3.08 - ETA: 17:06 - loss: 3.08 - ETA: 17:05 - loss: 3.08 - ETA: 17:05 - loss: 3.08 - ETA: 17:04 - loss: 3.08 - ETA: 17:03 - loss: 3.08 - ETA: 17:03 - loss: 3.08 - ETA: 17:02 - loss: 3.08 - ETA: 17:01 - loss: 3.08 - ETA: 17:01 - loss: 3.08 - ETA: 17:00 - loss: 3.08 - ETA: 16:59 - loss: 3.08 - ETA: 16:59 - loss: 3.08 - ETA: 16:58 - loss: 3.08 - ETA: 16:57 - loss: 3.08 - ETA: 16:57 - loss: 3.08 - ETA: 16:56 - loss: 3.08 - ETA: 16:55 - loss: 3.08 - ETA: 16:55 - loss: 3.08 - ETA: 16:54 - loss: 3.08 - ETA: 16:53 - loss: 3.08 - ETA: 16:53 - loss: 3.08 - ETA: 16:52 - loss: 3.08 - ETA: 16:51 - loss: 3.08 - ETA: 16:51 - loss: 3.08 - ETA: 16:50 - loss: 3.08 - ETA: 16:49 - loss: 3.08 - ETA: 16:49 - loss: 3.08 - ETA: 16:48 - loss: 3.08 - ETA: 16:47 - loss: 3.08 - ETA: 16:47 - loss: 3.08 - ETA: 16:46 - loss: 3.08 - ETA: 16:45 - loss: 3.08 - ETA: 16:45 - loss: 3.0808"
     ]
    },
    {
     "name": "stdout",
     "output_type": "stream",
     "text": [
      "3140/4335 [====================>.........] - ETA: 16:44 - loss: 3.08 - ETA: 16:43 - loss: 3.08 - ETA: 16:43 - loss: 3.08 - ETA: 16:42 - loss: 3.08 - ETA: 16:41 - loss: 3.08 - ETA: 16:41 - loss: 3.08 - ETA: 16:40 - loss: 3.08 - ETA: 16:39 - loss: 3.08 - ETA: 16:39 - loss: 3.08 - ETA: 16:38 - loss: 3.08 - ETA: 16:37 - loss: 3.08 - ETA: 16:37 - loss: 3.08 - ETA: 16:36 - loss: 3.08 - ETA: 16:35 - loss: 3.08 - ETA: 16:35 - loss: 3.08 - ETA: 16:34 - loss: 3.08 - ETA: 16:33 - loss: 3.08 - ETA: 16:33 - loss: 3.08 - ETA: 16:32 - loss: 3.08 - ETA: 16:31 - loss: 3.08 - ETA: 16:31 - loss: 3.08 - ETA: 16:30 - loss: 3.08 - ETA: 16:29 - loss: 3.08 - ETA: 16:29 - loss: 3.08 - ETA: 16:28 - loss: 3.08 - ETA: 16:27 - loss: 3.08 - ETA: 16:27 - loss: 3.08 - ETA: 16:26 - loss: 3.08 - ETA: 16:25 - loss: 3.08 - ETA: 16:25 - loss: 3.08 - ETA: 16:24 - loss: 3.08 - ETA: 16:23 - loss: 3.08 - ETA: 16:23 - loss: 3.08 - ETA: 16:22 - loss: 3.08 - ETA: 16:21 - loss: 3.08 - ETA: 16:21 - loss: 3.08 - ETA: 16:20 - loss: 3.08 - ETA: 16:19 - loss: 3.08 - ETA: 16:19 - loss: 3.08 - ETA: 16:18 - loss: 3.08 - ETA: 16:17 - loss: 3.08 - ETA: 16:17 - loss: 3.08 - ETA: 16:16 - loss: 3.08 - ETA: 16:15 - loss: 3.08 - ETA: 16:15 - loss: 3.08 - ETA: 16:14 - loss: 3.08 - ETA: 16:13 - loss: 3.08 - ETA: 16:13 - loss: 3.08 - ETA: 16:12 - loss: 3.08 - ETA: 16:11 - loss: 3.08 - ETA: 16:11 - loss: 3.08 - ETA: 16:10 - loss: 3.08 - ETA: 16:09 - loss: 3.08 - ETA: 16:09 - loss: 3.08 - ETA: 16:08 - loss: 3.08 - ETA: 16:07 - loss: 3.08 - ETA: 16:07 - loss: 3.08 - ETA: 16:06 - loss: 3.08 - ETA: 16:05 - loss: 3.08 - ETA: 16:05 - loss: 3.08 - ETA: 16:04 - loss: 3.08 - ETA: 16:03 - loss: 3.08 - ETA: 16:03 - loss: 3.08 - ETA: 16:02 - loss: 3.08 - ETA: 16:01 - loss: 3.08 - ETA: 16:01 - loss: 3.08 - ETA: 16:00 - loss: 3.08 - ETA: 15:59 - loss: 3.08 - ETA: 15:59 - loss: 3.08 - ETA: 15:58 - loss: 3.08 - ETA: 15:57 - loss: 3.08 - ETA: 15:57 - loss: 3.08 - ETA: 15:56 - loss: 3.08 - ETA: 15:55 - loss: 3.08 - ETA: 15:55 - loss: 3.08 - ETA: 15:54 - loss: 3.08 - ETA: 15:53 - loss: 3.08 - ETA: 15:53 - loss: 3.08 - ETA: 15:52 - loss: 3.08 - ETA: 15:51 - loss: 3.08 - ETA: 15:51 - loss: 3.08 - ETA: 15:50 - loss: 3.08 - ETA: 15:49 - loss: 3.08 - ETA: 15:49 - loss: 3.08 - ETA: 15:48 - loss: 3.08 - ETA: 15:47 - loss: 3.08 - ETA: 15:47 - loss: 3.08 - ETA: 15:46 - loss: 3.08 - ETA: 15:45 - loss: 3.08 - ETA: 15:45 - loss: 3.08 - ETA: 15:44 - loss: 3.08 - ETA: 15:43 - loss: 3.08 - ETA: 15:42 - loss: 3.08 - ETA: 15:42 - loss: 3.08 - ETA: 15:41 - loss: 3.08 - ETA: 15:40 - loss: 3.08 - ETA: 15:40 - loss: 3.08 - ETA: 15:39 - loss: 3.08 - ETA: 15:38 - loss: 3.08 - ETA: 15:38 - loss: 3.08 - ETA: 15:37 - loss: 3.08 - ETA: 15:36 - loss: 3.08 - ETA: 15:36 - loss: 3.08 - ETA: 15:35 - loss: 3.08 - ETA: 15:34 - loss: 3.08 - ETA: 15:34 - loss: 3.08 - ETA: 15:33 - loss: 3.08 - ETA: 15:32 - loss: 3.08 - ETA: 15:32 - loss: 3.08 - ETA: 15:31 - loss: 3.08 - ETA: 15:30 - loss: 3.08 - ETA: 15:30 - loss: 3.08 - ETA: 15:29 - loss: 3.08 - ETA: 15:28 - loss: 3.08 - ETA: 15:28 - loss: 3.08 - ETA: 15:27 - loss: 3.08 - ETA: 15:26 - loss: 3.08 - ETA: 15:26 - loss: 3.08 - ETA: 15:25 - loss: 3.08 - ETA: 15:24 - loss: 3.08 - ETA: 15:24 - loss: 3.08 - ETA: 15:23 - loss: 3.08 - ETA: 15:22 - loss: 3.08 - ETA: 15:22 - loss: 3.08 - ETA: 15:21 - loss: 3.08 - ETA: 15:20 - loss: 3.08 - ETA: 15:20 - loss: 3.08 - ETA: 15:19 - loss: 3.08 - ETA: 15:18 - loss: 3.08 - ETA: 15:18 - loss: 3.08 - ETA: 15:17 - loss: 3.08 - ETA: 15:16 - loss: 3.08 - ETA: 15:16 - loss: 3.08 - ETA: 15:15 - loss: 3.08 - ETA: 15:14 - loss: 3.08 - ETA: 15:14 - loss: 3.08 - ETA: 15:13 - loss: 3.08 - ETA: 15:12 - loss: 3.08 - ETA: 15:12 - loss: 3.08 - ETA: 15:11 - loss: 3.08 - ETA: 15:10 - loss: 3.08 - ETA: 15:10 - loss: 3.08 - ETA: 15:09 - loss: 3.08 - ETA: 15:08 - loss: 3.08 - ETA: 15:08 - loss: 3.08 - ETA: 15:07 - loss: 3.08 - ETA: 15:06 - loss: 3.08 - ETA: 15:06 - loss: 3.08 - ETA: 15:05 - loss: 3.08 - ETA: 15:04 - loss: 3.08 - ETA: 15:04 - loss: 3.08 - ETA: 15:03 - loss: 3.08 - ETA: 15:02 - loss: 3.08 - ETA: 15:02 - loss: 3.08 - ETA: 15:01 - loss: 3.08 - ETA: 15:00 - loss: 3.08 - ETA: 15:00 - loss: 3.08 - ETA: 14:59 - loss: 3.08 - ETA: 14:58 - loss: 3.08 - ETA: 14:58 - loss: 3.08 - ETA: 14:57 - loss: 3.08 - ETA: 14:56 - loss: 3.08 - ETA: 14:56 - loss: 3.08 - ETA: 14:55 - loss: 3.08 - ETA: 14:54 - loss: 3.08 - ETA: 14:54 - loss: 3.08 - ETA: 14:53 - loss: 3.08 - ETA: 14:52 - loss: 3.08 - ETA: 14:52 - loss: 3.08 - ETA: 14:51 - loss: 3.08 - ETA: 14:50 - loss: 3.08 - ETA: 14:50 - loss: 3.08 - ETA: 14:49 - loss: 3.08 - ETA: 14:48 - loss: 3.08 - ETA: 14:48 - loss: 3.08 - ETA: 14:47 - loss: 3.08 - ETA: 14:46 - loss: 3.08 - ETA: 14:46 - loss: 3.08 - ETA: 14:45 - loss: 3.08 - ETA: 14:44 - loss: 3.08 - ETA: 14:44 - loss: 3.08 - ETA: 14:43 - loss: 3.08 - ETA: 14:42 - loss: 3.08 - ETA: 14:42 - loss: 3.08 - ETA: 14:41 - loss: 3.08 - ETA: 14:40 - loss: 3.08 - ETA: 14:40 - loss: 3.08 - ETA: 14:39 - loss: 3.08 - ETA: 14:38 - loss: 3.08 - ETA: 14:38 - loss: 3.08 - ETA: 14:37 - loss: 3.08 - ETA: 14:36 - loss: 3.08 - ETA: 14:36 - loss: 3.08 - ETA: 14:35 - loss: 3.08 - ETA: 14:34 - loss: 3.08 - ETA: 14:34 - loss: 3.08 - ETA: 14:33 - loss: 3.08 - ETA: 14:32 - loss: 3.08 - ETA: 14:32 - loss: 3.08 - ETA: 14:31 - loss: 3.08 - ETA: 14:30 - loss: 3.08 - ETA: 14:30 - loss: 3.08 - ETA: 14:29 - loss: 3.08 - ETA: 14:28 - loss: 3.08 - ETA: 14:28 - loss: 3.08 - ETA: 14:27 - loss: 3.08 - ETA: 14:26 - loss: 3.08 - ETA: 14:26 - loss: 3.08 - ETA: 14:25 - loss: 3.08 - ETA: 14:24 - loss: 3.08 - ETA: 14:24 - loss: 3.08 - ETA: 14:23 - loss: 3.08 - ETA: 14:22 - loss: 3.08 - ETA: 14:22 - loss: 3.08 - ETA: 14:21 - loss: 3.08 - ETA: 14:20 - loss: 3.08 - ETA: 14:20 - loss: 3.08 - ETA: 14:19 - loss: 3.08 - ETA: 14:18 - loss: 3.08 - ETA: 14:17 - loss: 3.08 - ETA: 14:17 - loss: 3.08 - ETA: 14:16 - loss: 3.08 - ETA: 14:15 - loss: 3.08 - ETA: 14:15 - loss: 3.08 - ETA: 14:14 - loss: 3.08 - ETA: 14:13 - loss: 3.08 - ETA: 14:13 - loss: 3.08 - ETA: 14:12 - loss: 3.08 - ETA: 14:11 - loss: 3.08 - ETA: 14:11 - loss: 3.08 - ETA: 14:10 - loss: 3.08 - ETA: 14:09 - loss: 3.08 - ETA: 14:09 - loss: 3.08 - ETA: 14:08 - loss: 3.08 - ETA: 14:07 - loss: 3.08 - ETA: 14:07 - loss: 3.08 - ETA: 14:06 - loss: 3.08 - ETA: 14:05 - loss: 3.08 - ETA: 14:05 - loss: 3.08 - ETA: 14:04 - loss: 3.08 - ETA: 14:03 - loss: 3.08 - ETA: 14:03 - loss: 3.08 - ETA: 14:02 - loss: 3.08 - ETA: 14:01 - loss: 3.08 - ETA: 14:01 - loss: 3.08 - ETA: 14:00 - loss: 3.08 - ETA: 13:59 - loss: 3.08 - ETA: 13:59 - loss: 3.08 - ETA: 13:58 - loss: 3.08 - ETA: 13:57 - loss: 3.08 - ETA: 13:57 - loss: 3.08 - ETA: 13:56 - loss: 3.08 - ETA: 13:55 - loss: 3.08 - ETA: 13:55 - loss: 3.08 - ETA: 13:54 - loss: 3.08 - ETA: 13:53 - loss: 3.08 - ETA: 13:53 - loss: 3.08 - ETA: 13:52 - loss: 3.08 - ETA: 13:51 - loss: 3.08 - ETA: 13:51 - loss: 3.08 - ETA: 13:50 - loss: 3.08 - ETA: 13:49 - loss: 3.08 - ETA: 13:49 - loss: 3.08 - ETA: 13:48 - loss: 3.08 - ETA: 13:47 - loss: 3.08 - ETA: 13:47 - loss: 3.08 - ETA: 13:46 - loss: 3.08 - ETA: 13:45 - loss: 3.08 - ETA: 13:45 - loss: 3.08 - ETA: 13:44 - loss: 3.08 - ETA: 13:43 - loss: 3.08 - ETA: 13:43 - loss: 3.08 - ETA: 13:42 - loss: 3.08 - ETA: 13:41 - loss: 3.08 - ETA: 13:41 - loss: 3.08 - ETA: 13:40 - loss: 3.08 - ETA: 13:39 - loss: 3.08 - ETA: 13:39 - loss: 3.08 - ETA: 13:38 - loss: 3.08 - ETA: 13:37 - loss: 3.08 - ETA: 13:37 - loss: 3.08 - ETA: 13:36 - loss: 3.08 - ETA: 13:35 - loss: 3.08 - ETA: 13:35 - loss: 3.08 - ETA: 13:34 - loss: 3.08 - ETA: 13:33 - loss: 3.08 - ETA: 13:33 - loss: 3.08 - ETA: 13:32 - loss: 3.08 - ETA: 13:31 - loss: 3.08 - ETA: 13:31 - loss: 3.08 - ETA: 13:30 - loss: 3.08 - ETA: 13:29 - loss: 3.08 - ETA: 13:29 - loss: 3.08 - ETA: 13:28 - loss: 3.08 - ETA: 13:27 - loss: 3.08 - ETA: 13:27 - loss: 3.08 - ETA: 13:26 - loss: 3.08 - ETA: 13:25 - loss: 3.08 - ETA: 13:25 - loss: 3.08 - ETA: 13:24 - loss: 3.08 - ETA: 13:23 - loss: 3.08 - ETA: 13:23 - loss: 3.08 - ETA: 13:22 - loss: 3.08 - ETA: 13:21 - loss: 3.08 - ETA: 13:21 - loss: 3.08 - ETA: 13:20 - loss: 3.08 - ETA: 13:19 - loss: 3.08 - ETA: 13:19 - loss: 3.08 - ETA: 13:18 - loss: 3.08 - ETA: 13:17 - loss: 3.08 - ETA: 13:17 - loss: 3.08 - ETA: 13:16 - loss: 3.08 - ETA: 13:15 - loss: 3.08 - ETA: 13:15 - loss: 3.0832"
     ]
    },
    {
     "name": "stdout",
     "output_type": "stream",
     "text": [
      "3454/4335 [======================>.......] - ETA: 13:14 - loss: 3.08 - ETA: 13:13 - loss: 3.08 - ETA: 13:13 - loss: 3.08 - ETA: 13:12 - loss: 3.08 - ETA: 13:11 - loss: 3.08 - ETA: 13:11 - loss: 3.08 - ETA: 13:10 - loss: 3.08 - ETA: 13:09 - loss: 3.08 - ETA: 13:09 - loss: 3.08 - ETA: 13:08 - loss: 3.08 - ETA: 13:07 - loss: 3.08 - ETA: 13:07 - loss: 3.08 - ETA: 13:06 - loss: 3.08 - ETA: 13:05 - loss: 3.08 - ETA: 13:05 - loss: 3.08 - ETA: 13:04 - loss: 3.08 - ETA: 13:03 - loss: 3.08 - ETA: 13:03 - loss: 3.08 - ETA: 13:02 - loss: 3.08 - ETA: 13:01 - loss: 3.08 - ETA: 13:01 - loss: 3.08 - ETA: 13:00 - loss: 3.08 - ETA: 12:59 - loss: 3.08 - ETA: 12:59 - loss: 3.08 - ETA: 12:58 - loss: 3.08 - ETA: 12:57 - loss: 3.08 - ETA: 12:57 - loss: 3.08 - ETA: 12:56 - loss: 3.08 - ETA: 12:55 - loss: 3.08 - ETA: 12:55 - loss: 3.08 - ETA: 12:54 - loss: 3.08 - ETA: 12:53 - loss: 3.08 - ETA: 12:53 - loss: 3.08 - ETA: 12:52 - loss: 3.08 - ETA: 12:51 - loss: 3.08 - ETA: 12:51 - loss: 3.08 - ETA: 12:50 - loss: 3.08 - ETA: 12:49 - loss: 3.08 - ETA: 12:49 - loss: 3.08 - ETA: 12:48 - loss: 3.08 - ETA: 12:47 - loss: 3.08 - ETA: 12:47 - loss: 3.08 - ETA: 12:46 - loss: 3.08 - ETA: 12:45 - loss: 3.08 - ETA: 12:45 - loss: 3.08 - ETA: 12:44 - loss: 3.08 - ETA: 12:43 - loss: 3.08 - ETA: 12:43 - loss: 3.08 - ETA: 12:42 - loss: 3.08 - ETA: 12:41 - loss: 3.08 - ETA: 12:41 - loss: 3.08 - ETA: 12:40 - loss: 3.08 - ETA: 12:39 - loss: 3.08 - ETA: 12:39 - loss: 3.08 - ETA: 12:38 - loss: 3.08 - ETA: 12:37 - loss: 3.08 - ETA: 12:36 - loss: 3.08 - ETA: 12:36 - loss: 3.08 - ETA: 12:35 - loss: 3.08 - ETA: 12:34 - loss: 3.08 - ETA: 12:34 - loss: 3.08 - ETA: 12:33 - loss: 3.08 - ETA: 12:33 - loss: 3.08 - ETA: 12:32 - loss: 3.08 - ETA: 12:31 - loss: 3.08 - ETA: 12:30 - loss: 3.08 - ETA: 12:30 - loss: 3.08 - ETA: 12:29 - loss: 3.08 - ETA: 12:28 - loss: 3.08 - ETA: 12:28 - loss: 3.08 - ETA: 12:27 - loss: 3.08 - ETA: 12:26 - loss: 3.08 - ETA: 12:26 - loss: 3.08 - ETA: 12:25 - loss: 3.08 - ETA: 12:24 - loss: 3.08 - ETA: 12:24 - loss: 3.08 - ETA: 12:23 - loss: 3.08 - ETA: 12:22 - loss: 3.08 - ETA: 12:22 - loss: 3.08 - ETA: 12:21 - loss: 3.08 - ETA: 12:20 - loss: 3.08 - ETA: 12:20 - loss: 3.08 - ETA: 12:19 - loss: 3.08 - ETA: 12:18 - loss: 3.08 - ETA: 12:18 - loss: 3.08 - ETA: 12:17 - loss: 3.08 - ETA: 12:16 - loss: 3.08 - ETA: 12:16 - loss: 3.08 - ETA: 12:15 - loss: 3.08 - ETA: 12:14 - loss: 3.08 - ETA: 12:14 - loss: 3.08 - ETA: 12:13 - loss: 3.08 - ETA: 12:12 - loss: 3.08 - ETA: 12:12 - loss: 3.08 - ETA: 12:11 - loss: 3.08 - ETA: 12:10 - loss: 3.08 - ETA: 12:10 - loss: 3.08 - ETA: 12:09 - loss: 3.08 - ETA: 12:08 - loss: 3.08 - ETA: 12:08 - loss: 3.08 - ETA: 12:07 - loss: 3.08 - ETA: 12:06 - loss: 3.08 - ETA: 12:06 - loss: 3.08 - ETA: 12:05 - loss: 3.08 - ETA: 12:04 - loss: 3.08 - ETA: 12:04 - loss: 3.08 - ETA: 12:03 - loss: 3.08 - ETA: 12:02 - loss: 3.08 - ETA: 12:02 - loss: 3.08 - ETA: 12:01 - loss: 3.08 - ETA: 12:00 - loss: 3.08 - ETA: 12:00 - loss: 3.08 - ETA: 11:59 - loss: 3.08 - ETA: 11:58 - loss: 3.08 - ETA: 11:58 - loss: 3.08 - ETA: 11:57 - loss: 3.08 - ETA: 11:56 - loss: 3.08 - ETA: 11:56 - loss: 3.08 - ETA: 11:55 - loss: 3.08 - ETA: 11:54 - loss: 3.08 - ETA: 11:54 - loss: 3.08 - ETA: 11:53 - loss: 3.08 - ETA: 11:52 - loss: 3.08 - ETA: 11:52 - loss: 3.08 - ETA: 11:51 - loss: 3.08 - ETA: 11:50 - loss: 3.08 - ETA: 11:50 - loss: 3.08 - ETA: 11:49 - loss: 3.08 - ETA: 11:48 - loss: 3.08 - ETA: 11:48 - loss: 3.08 - ETA: 11:47 - loss: 3.08 - ETA: 11:46 - loss: 3.08 - ETA: 11:46 - loss: 3.08 - ETA: 11:45 - loss: 3.08 - ETA: 11:44 - loss: 3.08 - ETA: 11:44 - loss: 3.08 - ETA: 11:43 - loss: 3.08 - ETA: 11:42 - loss: 3.08 - ETA: 11:42 - loss: 3.08 - ETA: 11:41 - loss: 3.08 - ETA: 11:40 - loss: 3.08 - ETA: 11:40 - loss: 3.08 - ETA: 11:39 - loss: 3.08 - ETA: 11:38 - loss: 3.08 - ETA: 11:38 - loss: 3.08 - ETA: 11:37 - loss: 3.08 - ETA: 11:36 - loss: 3.08 - ETA: 11:36 - loss: 3.08 - ETA: 11:35 - loss: 3.08 - ETA: 11:34 - loss: 3.08 - ETA: 11:34 - loss: 3.08 - ETA: 11:33 - loss: 3.08 - ETA: 11:32 - loss: 3.08 - ETA: 11:32 - loss: 3.08 - ETA: 11:31 - loss: 3.08 - ETA: 11:30 - loss: 3.08 - ETA: 11:30 - loss: 3.08 - ETA: 11:29 - loss: 3.08 - ETA: 11:28 - loss: 3.08 - ETA: 11:28 - loss: 3.08 - ETA: 11:27 - loss: 3.08 - ETA: 11:26 - loss: 3.08 - ETA: 11:26 - loss: 3.08 - ETA: 11:25 - loss: 3.08 - ETA: 11:24 - loss: 3.08 - ETA: 11:24 - loss: 3.08 - ETA: 11:23 - loss: 3.08 - ETA: 11:22 - loss: 3.08 - ETA: 11:22 - loss: 3.08 - ETA: 11:21 - loss: 3.08 - ETA: 11:21 - loss: 3.08 - ETA: 11:20 - loss: 3.08 - ETA: 11:19 - loss: 3.08 - ETA: 11:19 - loss: 3.08 - ETA: 11:18 - loss: 3.08 - ETA: 11:17 - loss: 3.08 - ETA: 11:17 - loss: 3.08 - ETA: 11:16 - loss: 3.08 - ETA: 11:15 - loss: 3.08 - ETA: 11:15 - loss: 3.08 - ETA: 11:14 - loss: 3.08 - ETA: 11:13 - loss: 3.08 - ETA: 11:13 - loss: 3.08 - ETA: 11:12 - loss: 3.08 - ETA: 11:11 - loss: 3.08 - ETA: 11:11 - loss: 3.08 - ETA: 11:10 - loss: 3.08 - ETA: 11:09 - loss: 3.08 - ETA: 11:09 - loss: 3.08 - ETA: 11:08 - loss: 3.08 - ETA: 11:07 - loss: 3.08 - ETA: 11:06 - loss: 3.08 - ETA: 11:06 - loss: 3.08 - ETA: 11:05 - loss: 3.08 - ETA: 11:04 - loss: 3.08 - ETA: 11:04 - loss: 3.08 - ETA: 11:03 - loss: 3.08 - ETA: 11:02 - loss: 3.08 - ETA: 11:02 - loss: 3.08 - ETA: 11:01 - loss: 3.08 - ETA: 11:00 - loss: 3.08 - ETA: 11:00 - loss: 3.08 - ETA: 10:59 - loss: 3.08 - ETA: 10:58 - loss: 3.08 - ETA: 10:58 - loss: 3.08 - ETA: 10:57 - loss: 3.08 - ETA: 10:56 - loss: 3.08 - ETA: 10:56 - loss: 3.08 - ETA: 10:55 - loss: 3.08 - ETA: 10:54 - loss: 3.08 - ETA: 10:54 - loss: 3.08 - ETA: 10:53 - loss: 3.08 - ETA: 10:52 - loss: 3.08 - ETA: 10:52 - loss: 3.08 - ETA: 10:51 - loss: 3.08 - ETA: 10:50 - loss: 3.08 - ETA: 10:50 - loss: 3.08 - ETA: 10:49 - loss: 3.08 - ETA: 10:48 - loss: 3.08 - ETA: 10:48 - loss: 3.08 - ETA: 10:47 - loss: 3.08 - ETA: 10:46 - loss: 3.08 - ETA: 10:46 - loss: 3.08 - ETA: 10:45 - loss: 3.08 - ETA: 10:44 - loss: 3.08 - ETA: 10:44 - loss: 3.08 - ETA: 10:43 - loss: 3.08 - ETA: 10:42 - loss: 3.08 - ETA: 10:42 - loss: 3.08 - ETA: 10:41 - loss: 3.08 - ETA: 10:40 - loss: 3.08 - ETA: 10:40 - loss: 3.08 - ETA: 10:39 - loss: 3.08 - ETA: 10:38 - loss: 3.08 - ETA: 10:38 - loss: 3.08 - ETA: 10:37 - loss: 3.08 - ETA: 10:36 - loss: 3.08 - ETA: 10:36 - loss: 3.08 - ETA: 10:35 - loss: 3.08 - ETA: 10:34 - loss: 3.08 - ETA: 10:34 - loss: 3.08 - ETA: 10:33 - loss: 3.08 - ETA: 10:32 - loss: 3.08 - ETA: 10:32 - loss: 3.08 - ETA: 10:31 - loss: 3.08 - ETA: 10:30 - loss: 3.08 - ETA: 10:30 - loss: 3.08 - ETA: 10:29 - loss: 3.08 - ETA: 10:28 - loss: 3.08 - ETA: 10:28 - loss: 3.08 - ETA: 10:27 - loss: 3.08 - ETA: 10:26 - loss: 3.08 - ETA: 10:26 - loss: 3.08 - ETA: 10:25 - loss: 3.08 - ETA: 10:24 - loss: 3.08 - ETA: 10:24 - loss: 3.08 - ETA: 10:23 - loss: 3.08 - ETA: 10:23 - loss: 3.08 - ETA: 10:22 - loss: 3.08 - ETA: 10:21 - loss: 3.08 - ETA: 10:21 - loss: 3.08 - ETA: 10:20 - loss: 3.08 - ETA: 10:19 - loss: 3.08 - ETA: 10:19 - loss: 3.08 - ETA: 10:18 - loss: 3.08 - ETA: 10:18 - loss: 3.08 - ETA: 10:17 - loss: 3.08 - ETA: 10:16 - loss: 3.08 - ETA: 10:16 - loss: 3.08 - ETA: 10:15 - loss: 3.08 - ETA: 10:14 - loss: 3.08 - ETA: 10:14 - loss: 3.08 - ETA: 10:13 - loss: 3.08 - ETA: 10:12 - loss: 3.08 - ETA: 10:12 - loss: 3.08 - ETA: 10:11 - loss: 3.08 - ETA: 10:10 - loss: 3.08 - ETA: 10:10 - loss: 3.08 - ETA: 10:09 - loss: 3.08 - ETA: 10:08 - loss: 3.08 - ETA: 10:08 - loss: 3.08 - ETA: 10:07 - loss: 3.08 - ETA: 10:06 - loss: 3.08 - ETA: 10:06 - loss: 3.08 - ETA: 10:05 - loss: 3.08 - ETA: 10:04 - loss: 3.08 - ETA: 10:04 - loss: 3.08 - ETA: 10:03 - loss: 3.08 - ETA: 10:02 - loss: 3.08 - ETA: 10:02 - loss: 3.08 - ETA: 10:01 - loss: 3.08 - ETA: 10:00 - loss: 3.08 - ETA: 10:00 - loss: 3.08 - ETA: 9:59 - loss: 3.0898 - ETA: 9:58 - loss: 3.089 - ETA: 9:58 - loss: 3.090 - ETA: 9:57 - loss: 3.089 - ETA: 9:57 - loss: 3.089 - ETA: 9:56 - loss: 3.089 - ETA: 9:55 - loss: 3.090 - ETA: 9:55 - loss: 3.090 - ETA: 9:54 - loss: 3.090 - ETA: 9:53 - loss: 3.090 - ETA: 9:53 - loss: 3.090 - ETA: 9:52 - loss: 3.089 - ETA: 9:51 - loss: 3.089 - ETA: 9:51 - loss: 3.090 - ETA: 9:50 - loss: 3.090 - ETA: 9:49 - loss: 3.090 - ETA: 9:49 - loss: 3.090 - ETA: 9:48 - loss: 3.090 - ETA: 9:47 - loss: 3.089 - ETA: 9:47 - loss: 3.089 - ETA: 9:46 - loss: 3.0900"
     ]
    },
    {
     "name": "stdout",
     "output_type": "stream",
     "text": [
      "3768/4335 [=========================>....] - ETA: 9:45 - loss: 3.090 - ETA: 9:45 - loss: 3.090 - ETA: 9:44 - loss: 3.090 - ETA: 9:43 - loss: 3.090 - ETA: 9:43 - loss: 3.090 - ETA: 9:42 - loss: 3.090 - ETA: 9:41 - loss: 3.090 - ETA: 9:41 - loss: 3.090 - ETA: 9:40 - loss: 3.090 - ETA: 9:39 - loss: 3.090 - ETA: 9:39 - loss: 3.090 - ETA: 9:38 - loss: 3.090 - ETA: 9:37 - loss: 3.090 - ETA: 9:37 - loss: 3.090 - ETA: 9:36 - loss: 3.090 - ETA: 9:35 - loss: 3.090 - ETA: 9:35 - loss: 3.090 - ETA: 9:34 - loss: 3.090 - ETA: 9:33 - loss: 3.090 - ETA: 9:33 - loss: 3.090 - ETA: 9:32 - loss: 3.090 - ETA: 9:31 - loss: 3.090 - ETA: 9:31 - loss: 3.090 - ETA: 9:30 - loss: 3.090 - ETA: 9:29 - loss: 3.090 - ETA: 9:29 - loss: 3.090 - ETA: 9:28 - loss: 3.090 - ETA: 9:27 - loss: 3.090 - ETA: 9:27 - loss: 3.090 - ETA: 9:26 - loss: 3.090 - ETA: 9:25 - loss: 3.090 - ETA: 9:25 - loss: 3.090 - ETA: 9:24 - loss: 3.090 - ETA: 9:23 - loss: 3.090 - ETA: 9:23 - loss: 3.090 - ETA: 9:22 - loss: 3.090 - ETA: 9:21 - loss: 3.090 - ETA: 9:21 - loss: 3.090 - ETA: 9:20 - loss: 3.090 - ETA: 9:19 - loss: 3.090 - ETA: 9:19 - loss: 3.090 - ETA: 9:18 - loss: 3.090 - ETA: 9:17 - loss: 3.091 - ETA: 9:17 - loss: 3.091 - ETA: 9:16 - loss: 3.091 - ETA: 9:15 - loss: 3.091 - ETA: 9:15 - loss: 3.091 - ETA: 9:14 - loss: 3.091 - ETA: 9:13 - loss: 3.091 - ETA: 9:13 - loss: 3.091 - ETA: 9:12 - loss: 3.091 - ETA: 9:11 - loss: 3.091 - ETA: 9:11 - loss: 3.091 - ETA: 9:10 - loss: 3.091 - ETA: 9:09 - loss: 3.091 - ETA: 9:09 - loss: 3.091 - ETA: 9:08 - loss: 3.091 - ETA: 9:07 - loss: 3.091 - ETA: 9:07 - loss: 3.091 - ETA: 9:06 - loss: 3.091 - ETA: 9:05 - loss: 3.091 - ETA: 9:05 - loss: 3.091 - ETA: 9:04 - loss: 3.091 - ETA: 9:03 - loss: 3.091 - ETA: 9:03 - loss: 3.091 - ETA: 9:02 - loss: 3.091 - ETA: 9:01 - loss: 3.091 - ETA: 9:01 - loss: 3.091 - ETA: 9:00 - loss: 3.091 - ETA: 8:59 - loss: 3.091 - ETA: 8:59 - loss: 3.091 - ETA: 8:58 - loss: 3.091 - ETA: 8:57 - loss: 3.091 - ETA: 8:57 - loss: 3.091 - ETA: 8:56 - loss: 3.091 - ETA: 8:55 - loss: 3.092 - ETA: 8:55 - loss: 3.092 - ETA: 8:54 - loss: 3.092 - ETA: 8:54 - loss: 3.091 - ETA: 8:53 - loss: 3.091 - ETA: 8:52 - loss: 3.091 - ETA: 8:52 - loss: 3.091 - ETA: 8:51 - loss: 3.091 - ETA: 8:50 - loss: 3.091 - ETA: 8:50 - loss: 3.091 - ETA: 8:49 - loss: 3.091 - ETA: 8:48 - loss: 3.091 - ETA: 8:48 - loss: 3.092 - ETA: 8:47 - loss: 3.092 - ETA: 8:46 - loss: 3.092 - ETA: 8:46 - loss: 3.092 - ETA: 8:45 - loss: 3.092 - ETA: 8:44 - loss: 3.092 - ETA: 8:44 - loss: 3.092 - ETA: 8:43 - loss: 3.091 - ETA: 8:42 - loss: 3.091 - ETA: 8:42 - loss: 3.091 - ETA: 8:41 - loss: 3.091 - ETA: 8:40 - loss: 3.091 - ETA: 8:40 - loss: 3.091 - ETA: 8:39 - loss: 3.091 - ETA: 8:38 - loss: 3.091 - ETA: 8:38 - loss: 3.091 - ETA: 8:37 - loss: 3.091 - ETA: 8:36 - loss: 3.091 - ETA: 8:36 - loss: 3.091 - ETA: 8:35 - loss: 3.091 - ETA: 8:34 - loss: 3.091 - ETA: 8:34 - loss: 3.091 - ETA: 8:33 - loss: 3.091 - ETA: 8:32 - loss: 3.091 - ETA: 8:32 - loss: 3.091 - ETA: 8:31 - loss: 3.091 - ETA: 8:30 - loss: 3.091 - ETA: 8:30 - loss: 3.091 - ETA: 8:29 - loss: 3.091 - ETA: 8:28 - loss: 3.091 - ETA: 8:28 - loss: 3.091 - ETA: 8:27 - loss: 3.092 - ETA: 8:26 - loss: 3.092 - ETA: 8:26 - loss: 3.092 - ETA: 8:25 - loss: 3.091 - ETA: 8:24 - loss: 3.091 - ETA: 8:24 - loss: 3.091 - ETA: 8:23 - loss: 3.091 - ETA: 8:22 - loss: 3.091 - ETA: 8:22 - loss: 3.091 - ETA: 8:21 - loss: 3.091 - ETA: 8:20 - loss: 3.092 - ETA: 8:20 - loss: 3.092 - ETA: 8:19 - loss: 3.092 - ETA: 8:18 - loss: 3.092 - ETA: 8:18 - loss: 3.092 - ETA: 8:17 - loss: 3.092 - ETA: 8:16 - loss: 3.092 - ETA: 8:16 - loss: 3.092 - ETA: 8:15 - loss: 3.092 - ETA: 8:14 - loss: 3.092 - ETA: 8:14 - loss: 3.092 - ETA: 8:13 - loss: 3.092 - ETA: 8:12 - loss: 3.092 - ETA: 8:12 - loss: 3.092 - ETA: 8:11 - loss: 3.092 - ETA: 8:10 - loss: 3.092 - ETA: 8:10 - loss: 3.092 - ETA: 8:09 - loss: 3.092 - ETA: 8:08 - loss: 3.092 - ETA: 8:08 - loss: 3.092 - ETA: 8:07 - loss: 3.092 - ETA: 8:06 - loss: 3.092 - ETA: 8:06 - loss: 3.091 - ETA: 8:05 - loss: 3.091 - ETA: 8:04 - loss: 3.091 - ETA: 8:04 - loss: 3.091 - ETA: 8:03 - loss: 3.091 - ETA: 8:02 - loss: 3.091 - ETA: 8:02 - loss: 3.091 - ETA: 8:01 - loss: 3.091 - ETA: 8:00 - loss: 3.091 - ETA: 8:00 - loss: 3.091 - ETA: 7:59 - loss: 3.091 - ETA: 7:58 - loss: 3.091 - ETA: 7:58 - loss: 3.091 - ETA: 7:57 - loss: 3.091 - ETA: 7:56 - loss: 3.091 - ETA: 7:56 - loss: 3.091 - ETA: 7:55 - loss: 3.091 - ETA: 7:54 - loss: 3.091 - ETA: 7:54 - loss: 3.091 - ETA: 7:53 - loss: 3.091 - ETA: 7:52 - loss: 3.091 - ETA: 7:52 - loss: 3.091 - ETA: 7:51 - loss: 3.092 - ETA: 7:50 - loss: 3.092 - ETA: 7:50 - loss: 3.092 - ETA: 7:49 - loss: 3.092 - ETA: 7:48 - loss: 3.092 - ETA: 7:48 - loss: 3.092 - ETA: 7:47 - loss: 3.092 - ETA: 7:46 - loss: 3.092 - ETA: 7:46 - loss: 3.092 - ETA: 7:45 - loss: 3.092 - ETA: 7:44 - loss: 3.092 - ETA: 7:44 - loss: 3.092 - ETA: 7:43 - loss: 3.092 - ETA: 7:42 - loss: 3.092 - ETA: 7:42 - loss: 3.092 - ETA: 7:41 - loss: 3.092 - ETA: 7:40 - loss: 3.092 - ETA: 7:40 - loss: 3.092 - ETA: 7:39 - loss: 3.092 - ETA: 7:38 - loss: 3.092 - ETA: 7:38 - loss: 3.092 - ETA: 7:37 - loss: 3.092 - ETA: 7:37 - loss: 3.092 - ETA: 7:36 - loss: 3.092 - ETA: 7:35 - loss: 3.092 - ETA: 7:35 - loss: 3.092 - ETA: 7:34 - loss: 3.092 - ETA: 7:33 - loss: 3.092 - ETA: 7:33 - loss: 3.092 - ETA: 7:32 - loss: 3.092 - ETA: 7:31 - loss: 3.093 - ETA: 7:31 - loss: 3.093 - ETA: 7:30 - loss: 3.093 - ETA: 7:29 - loss: 3.093 - ETA: 7:29 - loss: 3.093 - ETA: 7:28 - loss: 3.093 - ETA: 7:27 - loss: 3.093 - ETA: 7:27 - loss: 3.093 - ETA: 7:26 - loss: 3.093 - ETA: 7:25 - loss: 3.093 - ETA: 7:25 - loss: 3.093 - ETA: 7:24 - loss: 3.093 - ETA: 7:23 - loss: 3.093 - ETA: 7:23 - loss: 3.093 - ETA: 7:22 - loss: 3.093 - ETA: 7:21 - loss: 3.093 - ETA: 7:21 - loss: 3.093 - ETA: 7:20 - loss: 3.093 - ETA: 7:19 - loss: 3.093 - ETA: 7:19 - loss: 3.093 - ETA: 7:18 - loss: 3.093 - ETA: 7:17 - loss: 3.093 - ETA: 7:17 - loss: 3.093 - ETA: 7:16 - loss: 3.093 - ETA: 7:15 - loss: 3.093 - ETA: 7:15 - loss: 3.093 - ETA: 7:14 - loss: 3.093 - ETA: 7:13 - loss: 3.093 - ETA: 7:13 - loss: 3.093 - ETA: 7:12 - loss: 3.093 - ETA: 7:11 - loss: 3.093 - ETA: 7:11 - loss: 3.093 - ETA: 7:10 - loss: 3.093 - ETA: 7:09 - loss: 3.093 - ETA: 7:09 - loss: 3.093 - ETA: 7:08 - loss: 3.093 - ETA: 7:07 - loss: 3.093 - ETA: 7:07 - loss: 3.093 - ETA: 7:06 - loss: 3.093 - ETA: 7:05 - loss: 3.093 - ETA: 7:05 - loss: 3.093 - ETA: 7:04 - loss: 3.093 - ETA: 7:03 - loss: 3.093 - ETA: 7:03 - loss: 3.093 - ETA: 7:02 - loss: 3.094 - ETA: 7:01 - loss: 3.094 - ETA: 7:01 - loss: 3.093 - ETA: 7:00 - loss: 3.094 - ETA: 6:59 - loss: 3.093 - ETA: 6:59 - loss: 3.093 - ETA: 6:58 - loss: 3.093 - ETA: 6:57 - loss: 3.093 - ETA: 6:57 - loss: 3.093 - ETA: 6:56 - loss: 3.093 - ETA: 6:55 - loss: 3.093 - ETA: 6:55 - loss: 3.093 - ETA: 6:54 - loss: 3.093 - ETA: 6:53 - loss: 3.093 - ETA: 6:53 - loss: 3.093 - ETA: 6:52 - loss: 3.093 - ETA: 6:51 - loss: 3.093 - ETA: 6:51 - loss: 3.093 - ETA: 6:50 - loss: 3.093 - ETA: 6:49 - loss: 3.093 - ETA: 6:49 - loss: 3.093 - ETA: 6:48 - loss: 3.093 - ETA: 6:47 - loss: 3.093 - ETA: 6:47 - loss: 3.093 - ETA: 6:46 - loss: 3.093 - ETA: 6:45 - loss: 3.093 - ETA: 6:45 - loss: 3.093 - ETA: 6:44 - loss: 3.093 - ETA: 6:43 - loss: 3.093 - ETA: 6:43 - loss: 3.093 - ETA: 6:42 - loss: 3.093 - ETA: 6:41 - loss: 3.093 - ETA: 6:41 - loss: 3.093 - ETA: 6:40 - loss: 3.093 - ETA: 6:39 - loss: 3.093 - ETA: 6:39 - loss: 3.093 - ETA: 6:38 - loss: 3.093 - ETA: 6:37 - loss: 3.093 - ETA: 6:37 - loss: 3.093 - ETA: 6:36 - loss: 3.093 - ETA: 6:35 - loss: 3.093 - ETA: 6:35 - loss: 3.093 - ETA: 6:34 - loss: 3.093 - ETA: 6:33 - loss: 3.093 - ETA: 6:33 - loss: 3.093 - ETA: 6:32 - loss: 3.093 - ETA: 6:31 - loss: 3.093 - ETA: 6:31 - loss: 3.093 - ETA: 6:30 - loss: 3.094 - ETA: 6:29 - loss: 3.094 - ETA: 6:29 - loss: 3.094 - ETA: 6:28 - loss: 3.094 - ETA: 6:27 - loss: 3.094 - ETA: 6:27 - loss: 3.094 - ETA: 6:26 - loss: 3.094 - ETA: 6:25 - loss: 3.094 - ETA: 6:25 - loss: 3.094 - ETA: 6:24 - loss: 3.094 - ETA: 6:23 - loss: 3.094 - ETA: 6:23 - loss: 3.094 - ETA: 6:22 - loss: 3.094 - ETA: 6:21 - loss: 3.094 - ETA: 6:21 - loss: 3.094 - ETA: 6:20 - loss: 3.094 - ETA: 6:19 - loss: 3.094 - ETA: 6:19 - loss: 3.094 - ETA: 6:18 - loss: 3.094 - ETA: 6:17 - loss: 3.0942"
     ]
    },
    {
     "name": "stdout",
     "output_type": "stream",
     "text": [
      "4082/4335 [===========================>..] - ETA: 6:17 - loss: 3.094 - ETA: 6:16 - loss: 3.094 - ETA: 6:15 - loss: 3.094 - ETA: 6:15 - loss: 3.094 - ETA: 6:14 - loss: 3.094 - ETA: 6:13 - loss: 3.094 - ETA: 6:13 - loss: 3.094 - ETA: 6:12 - loss: 3.094 - ETA: 6:11 - loss: 3.094 - ETA: 6:11 - loss: 3.094 - ETA: 6:10 - loss: 3.094 - ETA: 6:09 - loss: 3.094 - ETA: 6:09 - loss: 3.094 - ETA: 6:08 - loss: 3.094 - ETA: 6:07 - loss: 3.094 - ETA: 6:07 - loss: 3.094 - ETA: 6:06 - loss: 3.094 - ETA: 6:05 - loss: 3.094 - ETA: 6:05 - loss: 3.094 - ETA: 6:04 - loss: 3.094 - ETA: 6:03 - loss: 3.094 - ETA: 6:03 - loss: 3.094 - ETA: 6:02 - loss: 3.094 - ETA: 6:01 - loss: 3.094 - ETA: 6:01 - loss: 3.094 - ETA: 6:00 - loss: 3.094 - ETA: 6:00 - loss: 3.094 - ETA: 5:59 - loss: 3.094 - ETA: 5:58 - loss: 3.094 - ETA: 5:58 - loss: 3.094 - ETA: 5:57 - loss: 3.094 - ETA: 5:56 - loss: 3.094 - ETA: 5:56 - loss: 3.094 - ETA: 5:55 - loss: 3.095 - ETA: 5:54 - loss: 3.095 - ETA: 5:54 - loss: 3.095 - ETA: 5:53 - loss: 3.095 - ETA: 5:52 - loss: 3.095 - ETA: 5:52 - loss: 3.095 - ETA: 5:51 - loss: 3.095 - ETA: 5:50 - loss: 3.095 - ETA: 5:50 - loss: 3.095 - ETA: 5:49 - loss: 3.095 - ETA: 5:48 - loss: 3.095 - ETA: 5:48 - loss: 3.095 - ETA: 5:47 - loss: 3.095 - ETA: 5:46 - loss: 3.095 - ETA: 5:46 - loss: 3.095 - ETA: 5:45 - loss: 3.095 - ETA: 5:44 - loss: 3.095 - ETA: 5:44 - loss: 3.095 - ETA: 5:43 - loss: 3.095 - ETA: 5:42 - loss: 3.095 - ETA: 5:42 - loss: 3.095 - ETA: 5:41 - loss: 3.095 - ETA: 5:40 - loss: 3.095 - ETA: 5:40 - loss: 3.095 - ETA: 5:39 - loss: 3.095 - ETA: 5:38 - loss: 3.095 - ETA: 5:38 - loss: 3.095 - ETA: 5:37 - loss: 3.095 - ETA: 5:36 - loss: 3.095 - ETA: 5:36 - loss: 3.095 - ETA: 5:35 - loss: 3.095 - ETA: 5:34 - loss: 3.095 - ETA: 5:34 - loss: 3.095 - ETA: 5:33 - loss: 3.095 - ETA: 5:32 - loss: 3.095 - ETA: 5:32 - loss: 3.096 - ETA: 5:31 - loss: 3.096 - ETA: 5:30 - loss: 3.096 - ETA: 5:30 - loss: 3.096 - ETA: 5:29 - loss: 3.096 - ETA: 5:28 - loss: 3.096 - ETA: 5:28 - loss: 3.096 - ETA: 5:27 - loss: 3.096 - ETA: 5:26 - loss: 3.096 - ETA: 5:26 - loss: 3.096 - ETA: 5:25 - loss: 3.096 - ETA: 5:24 - loss: 3.096 - ETA: 5:24 - loss: 3.096 - ETA: 5:23 - loss: 3.096 - ETA: 5:22 - loss: 3.096 - ETA: 5:22 - loss: 3.096 - ETA: 5:21 - loss: 3.096 - ETA: 5:20 - loss: 3.096 - ETA: 5:20 - loss: 3.096 - ETA: 5:19 - loss: 3.096 - ETA: 5:18 - loss: 3.096 - ETA: 5:18 - loss: 3.096 - ETA: 5:17 - loss: 3.096 - ETA: 5:16 - loss: 3.096 - ETA: 5:16 - loss: 3.096 - ETA: 5:15 - loss: 3.096 - ETA: 5:14 - loss: 3.096 - ETA: 5:14 - loss: 3.096 - ETA: 5:13 - loss: 3.096 - ETA: 5:12 - loss: 3.096 - ETA: 5:12 - loss: 3.096 - ETA: 5:11 - loss: 3.096 - ETA: 5:10 - loss: 3.096 - ETA: 5:10 - loss: 3.096 - ETA: 5:09 - loss: 3.096 - ETA: 5:08 - loss: 3.097 - ETA: 5:08 - loss: 3.097 - ETA: 5:07 - loss: 3.097 - ETA: 5:06 - loss: 3.097 - ETA: 5:06 - loss: 3.097 - ETA: 5:05 - loss: 3.097 - ETA: 5:04 - loss: 3.097 - ETA: 5:04 - loss: 3.097 - ETA: 5:03 - loss: 3.097 - ETA: 5:02 - loss: 3.097 - ETA: 5:02 - loss: 3.097 - ETA: 5:01 - loss: 3.097 - ETA: 5:00 - loss: 3.097 - ETA: 5:00 - loss: 3.096 - ETA: 4:59 - loss: 3.096 - ETA: 4:58 - loss: 3.096 - ETA: 4:58 - loss: 3.097 - ETA: 4:57 - loss: 3.097 - ETA: 4:56 - loss: 3.097 - ETA: 4:56 - loss: 3.097 - ETA: 4:55 - loss: 3.096 - ETA: 4:54 - loss: 3.096 - ETA: 4:54 - loss: 3.096 - ETA: 4:53 - loss: 3.096 - ETA: 4:52 - loss: 3.096 - ETA: 4:52 - loss: 3.096 - ETA: 4:51 - loss: 3.096 - ETA: 4:50 - loss: 3.096 - ETA: 4:50 - loss: 3.096 - ETA: 4:49 - loss: 3.096 - ETA: 4:48 - loss: 3.096 - ETA: 4:48 - loss: 3.096 - ETA: 4:47 - loss: 3.096 - ETA: 4:46 - loss: 3.096 - ETA: 4:46 - loss: 3.096 - ETA: 4:45 - loss: 3.096 - ETA: 4:44 - loss: 3.096 - ETA: 4:44 - loss: 3.096 - ETA: 4:43 - loss: 3.096 - ETA: 4:42 - loss: 3.096 - ETA: 4:42 - loss: 3.096 - ETA: 4:41 - loss: 3.096 - ETA: 4:40 - loss: 3.096 - ETA: 4:40 - loss: 3.095 - ETA: 4:39 - loss: 3.095 - ETA: 4:38 - loss: 3.095 - ETA: 4:38 - loss: 3.095 - ETA: 4:37 - loss: 3.095 - ETA: 4:36 - loss: 3.095 - ETA: 4:36 - loss: 3.095 - ETA: 4:35 - loss: 3.095 - ETA: 4:34 - loss: 3.095 - ETA: 4:34 - loss: 3.095 - ETA: 4:33 - loss: 3.095 - ETA: 4:32 - loss: 3.095 - ETA: 4:32 - loss: 3.095 - ETA: 4:31 - loss: 3.094 - ETA: 4:30 - loss: 3.094 - ETA: 4:30 - loss: 3.094 - ETA: 4:29 - loss: 3.094 - ETA: 4:28 - loss: 3.094 - ETA: 4:28 - loss: 3.094 - ETA: 4:27 - loss: 3.094 - ETA: 4:26 - loss: 3.094 - ETA: 4:26 - loss: 3.094 - ETA: 4:25 - loss: 3.094 - ETA: 4:24 - loss: 3.093 - ETA: 4:24 - loss: 3.093 - ETA: 4:23 - loss: 3.093 - ETA: 4:22 - loss: 3.093 - ETA: 4:22 - loss: 3.093 - ETA: 4:21 - loss: 3.093 - ETA: 4:20 - loss: 3.093 - ETA: 4:20 - loss: 3.093 - ETA: 4:19 - loss: 3.093 - ETA: 4:18 - loss: 3.093 - ETA: 4:18 - loss: 3.092 - ETA: 4:17 - loss: 3.092 - ETA: 4:16 - loss: 3.092 - ETA: 4:16 - loss: 3.092 - ETA: 4:15 - loss: 3.092 - ETA: 4:14 - loss: 3.092 - ETA: 4:14 - loss: 3.092 - ETA: 4:13 - loss: 3.092 - ETA: 4:12 - loss: 3.091 - ETA: 4:12 - loss: 3.091 - ETA: 4:11 - loss: 3.091 - ETA: 4:10 - loss: 3.091 - ETA: 4:10 - loss: 3.091 - ETA: 4:09 - loss: 3.091 - ETA: 4:08 - loss: 3.091 - ETA: 4:08 - loss: 3.091 - ETA: 4:07 - loss: 3.091 - ETA: 4:06 - loss: 3.091 - ETA: 4:06 - loss: 3.090 - ETA: 4:05 - loss: 3.090 - ETA: 4:04 - loss: 3.090 - ETA: 4:04 - loss: 3.090 - ETA: 4:03 - loss: 3.090 - ETA: 4:02 - loss: 3.090 - ETA: 4:02 - loss: 3.090 - ETA: 4:01 - loss: 3.090 - ETA: 4:00 - loss: 3.090 - ETA: 4:00 - loss: 3.090 - ETA: 3:59 - loss: 3.089 - ETA: 3:58 - loss: 3.089 - ETA: 3:58 - loss: 3.089 - ETA: 3:57 - loss: 3.089 - ETA: 3:56 - loss: 3.089 - ETA: 3:56 - loss: 3.089 - ETA: 3:55 - loss: 3.089 - ETA: 3:54 - loss: 3.089 - ETA: 3:54 - loss: 3.088 - ETA: 3:53 - loss: 3.088 - ETA: 3:52 - loss: 3.088 - ETA: 3:52 - loss: 3.088 - ETA: 3:51 - loss: 3.088 - ETA: 3:50 - loss: 3.088 - ETA: 3:50 - loss: 3.088 - ETA: 3:49 - loss: 3.088 - ETA: 3:48 - loss: 3.088 - ETA: 3:48 - loss: 3.088 - ETA: 3:47 - loss: 3.087 - ETA: 3:46 - loss: 3.087 - ETA: 3:46 - loss: 3.087 - ETA: 3:45 - loss: 3.087 - ETA: 3:44 - loss: 3.087 - ETA: 3:44 - loss: 3.087 - ETA: 3:43 - loss: 3.087 - ETA: 3:42 - loss: 3.087 - ETA: 3:42 - loss: 3.087 - ETA: 3:41 - loss: 3.087 - ETA: 3:40 - loss: 3.087 - ETA: 3:40 - loss: 3.086 - ETA: 3:39 - loss: 3.086 - ETA: 3:38 - loss: 3.086 - ETA: 3:38 - loss: 3.086 - ETA: 3:37 - loss: 3.086 - ETA: 3:36 - loss: 3.086 - ETA: 3:36 - loss: 3.086 - ETA: 3:35 - loss: 3.086 - ETA: 3:34 - loss: 3.085 - ETA: 3:34 - loss: 3.085 - ETA: 3:33 - loss: 3.085 - ETA: 3:32 - loss: 3.085 - ETA: 3:32 - loss: 3.085 - ETA: 3:31 - loss: 3.085 - ETA: 3:30 - loss: 3.085 - ETA: 3:30 - loss: 3.085 - ETA: 3:29 - loss: 3.085 - ETA: 3:28 - loss: 3.084 - ETA: 3:28 - loss: 3.084 - ETA: 3:27 - loss: 3.084 - ETA: 3:26 - loss: 3.084 - ETA: 3:26 - loss: 3.084 - ETA: 3:25 - loss: 3.084 - ETA: 3:24 - loss: 3.084 - ETA: 3:24 - loss: 3.084 - ETA: 3:23 - loss: 3.083 - ETA: 3:22 - loss: 3.083 - ETA: 3:22 - loss: 3.083 - ETA: 3:21 - loss: 3.083 - ETA: 3:20 - loss: 3.083 - ETA: 3:20 - loss: 3.083 - ETA: 3:19 - loss: 3.083 - ETA: 3:18 - loss: 3.083 - ETA: 3:18 - loss: 3.082 - ETA: 3:17 - loss: 3.082 - ETA: 3:16 - loss: 3.082 - ETA: 3:16 - loss: 3.082 - ETA: 3:15 - loss: 3.082 - ETA: 3:14 - loss: 3.082 - ETA: 3:14 - loss: 3.082 - ETA: 3:13 - loss: 3.082 - ETA: 3:12 - loss: 3.081 - ETA: 3:12 - loss: 3.081 - ETA: 3:11 - loss: 3.081 - ETA: 3:10 - loss: 3.081 - ETA: 3:10 - loss: 3.081 - ETA: 3:09 - loss: 3.081 - ETA: 3:08 - loss: 3.081 - ETA: 3:08 - loss: 3.081 - ETA: 3:07 - loss: 3.081 - ETA: 3:06 - loss: 3.081 - ETA: 3:06 - loss: 3.081 - ETA: 3:05 - loss: 3.081 - ETA: 3:04 - loss: 3.081 - ETA: 3:04 - loss: 3.080 - ETA: 3:03 - loss: 3.080 - ETA: 3:02 - loss: 3.080 - ETA: 3:02 - loss: 3.080 - ETA: 3:01 - loss: 3.080 - ETA: 3:00 - loss: 3.080 - ETA: 3:00 - loss: 3.080 - ETA: 2:59 - loss: 3.080 - ETA: 2:58 - loss: 3.080 - ETA: 2:58 - loss: 3.080 - ETA: 2:57 - loss: 3.080 - ETA: 2:56 - loss: 3.080 - ETA: 2:56 - loss: 3.080 - ETA: 2:55 - loss: 3.080 - ETA: 2:54 - loss: 3.080 - ETA: 2:54 - loss: 3.079 - ETA: 2:53 - loss: 3.079 - ETA: 2:52 - loss: 3.079 - ETA: 2:52 - loss: 3.079 - ETA: 2:51 - loss: 3.079 - ETA: 2:50 - loss: 3.079 - ETA: 2:50 - loss: 3.079 - ETA: 2:49 - loss: 3.079 - ETA: 2:48 - loss: 3.0793"
     ]
    },
    {
     "name": "stdout",
     "output_type": "stream",
     "text": [
      "4335/4335 [==============================] - ETA: 2:48 - loss: 3.079 - ETA: 2:47 - loss: 3.079 - ETA: 2:46 - loss: 3.079 - ETA: 2:46 - loss: 3.079 - ETA: 2:45 - loss: 3.078 - ETA: 2:44 - loss: 3.078 - ETA: 2:44 - loss: 3.078 - ETA: 2:43 - loss: 3.078 - ETA: 2:42 - loss: 3.078 - ETA: 2:42 - loss: 3.078 - ETA: 2:41 - loss: 3.078 - ETA: 2:40 - loss: 3.078 - ETA: 2:40 - loss: 3.078 - ETA: 2:39 - loss: 3.078 - ETA: 2:38 - loss: 3.077 - ETA: 2:38 - loss: 3.077 - ETA: 2:37 - loss: 3.077 - ETA: 2:36 - loss: 3.077 - ETA: 2:36 - loss: 3.077 - ETA: 2:35 - loss: 3.077 - ETA: 2:34 - loss: 3.077 - ETA: 2:34 - loss: 3.077 - ETA: 2:33 - loss: 3.077 - ETA: 2:32 - loss: 3.077 - ETA: 2:32 - loss: 3.077 - ETA: 2:31 - loss: 3.077 - ETA: 2:30 - loss: 3.076 - ETA: 2:30 - loss: 3.076 - ETA: 2:29 - loss: 3.076 - ETA: 2:28 - loss: 3.076 - ETA: 2:28 - loss: 3.076 - ETA: 2:27 - loss: 3.076 - ETA: 2:26 - loss: 3.076 - ETA: 2:26 - loss: 3.076 - ETA: 2:25 - loss: 3.076 - ETA: 2:24 - loss: 3.076 - ETA: 2:24 - loss: 3.076 - ETA: 2:23 - loss: 3.075 - ETA: 2:22 - loss: 3.075 - ETA: 2:22 - loss: 3.075 - ETA: 2:21 - loss: 3.075 - ETA: 2:20 - loss: 3.075 - ETA: 2:20 - loss: 3.075 - ETA: 2:19 - loss: 3.075 - ETA: 2:18 - loss: 3.075 - ETA: 2:18 - loss: 3.075 - ETA: 2:17 - loss: 3.075 - ETA: 2:16 - loss: 3.075 - ETA: 2:16 - loss: 3.075 - ETA: 2:15 - loss: 3.075 - ETA: 2:14 - loss: 3.075 - ETA: 2:14 - loss: 3.075 - ETA: 2:13 - loss: 3.074 - ETA: 2:12 - loss: 3.074 - ETA: 2:12 - loss: 3.074 - ETA: 2:11 - loss: 3.074 - ETA: 2:10 - loss: 3.074 - ETA: 2:10 - loss: 3.074 - ETA: 2:09 - loss: 3.074 - ETA: 2:08 - loss: 3.074 - ETA: 2:08 - loss: 3.074 - ETA: 2:07 - loss: 3.073 - ETA: 2:06 - loss: 3.073 - ETA: 2:06 - loss: 3.073 - ETA: 2:05 - loss: 3.073 - ETA: 2:04 - loss: 3.073 - ETA: 2:04 - loss: 3.073 - ETA: 2:03 - loss: 3.073 - ETA: 2:02 - loss: 3.073 - ETA: 2:02 - loss: 3.073 - ETA: 2:01 - loss: 3.073 - ETA: 2:00 - loss: 3.073 - ETA: 2:00 - loss: 3.073 - ETA: 1:59 - loss: 3.072 - ETA: 1:58 - loss: 3.072 - ETA: 1:58 - loss: 3.072 - ETA: 1:57 - loss: 3.072 - ETA: 1:56 - loss: 3.072 - ETA: 1:56 - loss: 3.072 - ETA: 1:55 - loss: 3.072 - ETA: 1:54 - loss: 3.072 - ETA: 1:54 - loss: 3.072 - ETA: 1:53 - loss: 3.072 - ETA: 1:52 - loss: 3.072 - ETA: 1:52 - loss: 3.072 - ETA: 1:51 - loss: 3.072 - ETA: 1:50 - loss: 3.072 - ETA: 1:50 - loss: 3.072 - ETA: 1:49 - loss: 3.072 - ETA: 1:48 - loss: 3.071 - ETA: 1:48 - loss: 3.071 - ETA: 1:47 - loss: 3.071 - ETA: 1:46 - loss: 3.071 - ETA: 1:46 - loss: 3.071 - ETA: 1:45 - loss: 3.071 - ETA: 1:44 - loss: 3.071 - ETA: 1:44 - loss: 3.071 - ETA: 1:43 - loss: 3.071 - ETA: 1:42 - loss: 3.071 - ETA: 1:42 - loss: 3.071 - ETA: 1:41 - loss: 3.071 - ETA: 1:40 - loss: 3.071 - ETA: 1:40 - loss: 3.070 - ETA: 1:39 - loss: 3.070 - ETA: 1:38 - loss: 3.070 - ETA: 1:38 - loss: 3.070 - ETA: 1:37 - loss: 3.070 - ETA: 1:36 - loss: 3.070 - ETA: 1:36 - loss: 3.070 - ETA: 1:35 - loss: 3.070 - ETA: 1:34 - loss: 3.070 - ETA: 1:34 - loss: 3.070 - ETA: 1:33 - loss: 3.070 - ETA: 1:32 - loss: 3.070 - ETA: 1:32 - loss: 3.070 - ETA: 1:31 - loss: 3.069 - ETA: 1:30 - loss: 3.069 - ETA: 1:30 - loss: 3.069 - ETA: 1:29 - loss: 3.069 - ETA: 1:28 - loss: 3.069 - ETA: 1:28 - loss: 3.069 - ETA: 1:27 - loss: 3.069 - ETA: 1:26 - loss: 3.069 - ETA: 1:26 - loss: 3.069 - ETA: 1:25 - loss: 3.069 - ETA: 1:24 - loss: 3.069 - ETA: 1:24 - loss: 3.069 - ETA: 1:23 - loss: 3.069 - ETA: 1:22 - loss: 3.069 - ETA: 1:22 - loss: 3.069 - ETA: 1:21 - loss: 3.068 - ETA: 1:20 - loss: 3.068 - ETA: 1:20 - loss: 3.068 - ETA: 1:19 - loss: 3.068 - ETA: 1:18 - loss: 3.068 - ETA: 1:18 - loss: 3.068 - ETA: 1:17 - loss: 3.068 - ETA: 1:16 - loss: 3.068 - ETA: 1:16 - loss: 3.068 - ETA: 1:15 - loss: 3.068 - ETA: 1:14 - loss: 3.068 - ETA: 1:14 - loss: 3.068 - ETA: 1:13 - loss: 3.068 - ETA: 1:12 - loss: 3.068 - ETA: 1:12 - loss: 3.067 - ETA: 1:11 - loss: 3.067 - ETA: 1:10 - loss: 3.067 - ETA: 1:10 - loss: 3.067 - ETA: 1:09 - loss: 3.067 - ETA: 1:08 - loss: 3.067 - ETA: 1:08 - loss: 3.067 - ETA: 1:07 - loss: 3.067 - ETA: 1:06 - loss: 3.067 - ETA: 1:06 - loss: 3.067 - ETA: 1:05 - loss: 3.067 - ETA: 1:04 - loss: 3.067 - ETA: 1:04 - loss: 3.067 - ETA: 1:03 - loss: 3.067 - ETA: 1:02 - loss: 3.066 - ETA: 1:02 - loss: 3.066 - ETA: 1:01 - loss: 3.066 - ETA: 1:00 - loss: 3.066 - ETA: 1:00 - loss: 3.066 - ETA: 59s - loss: 3.066 - ETA: 58s - loss: 3.06 - ETA: 58s - loss: 3.06 - ETA: 57s - loss: 3.06 - ETA: 56s - loss: 3.06 - ETA: 56s - loss: 3.06 - ETA: 55s - loss: 3.06 - ETA: 54s - loss: 3.06 - ETA: 54s - loss: 3.06 - ETA: 53s - loss: 3.06 - ETA: 52s - loss: 3.06 - ETA: 52s - loss: 3.06 - ETA: 51s - loss: 3.06 - ETA: 50s - loss: 3.06 - ETA: 50s - loss: 3.06 - ETA: 49s - loss: 3.06 - ETA: 48s - loss: 3.06 - ETA: 48s - loss: 3.06 - ETA: 47s - loss: 3.06 - ETA: 46s - loss: 3.06 - ETA: 46s - loss: 3.06 - ETA: 45s - loss: 3.06 - ETA: 44s - loss: 3.06 - ETA: 44s - loss: 3.06 - ETA: 43s - loss: 3.06 - ETA: 42s - loss: 3.06 - ETA: 42s - loss: 3.06 - ETA: 41s - loss: 3.06 - ETA: 40s - loss: 3.06 - ETA: 40s - loss: 3.06 - ETA: 39s - loss: 3.06 - ETA: 38s - loss: 3.06 - ETA: 38s - loss: 3.06 - ETA: 37s - loss: 3.06 - ETA: 36s - loss: 3.06 - ETA: 36s - loss: 3.06 - ETA: 35s - loss: 3.06 - ETA: 34s - loss: 3.06 - ETA: 34s - loss: 3.06 - ETA: 33s - loss: 3.06 - ETA: 32s - loss: 3.06 - ETA: 32s - loss: 3.06 - ETA: 31s - loss: 3.06 - ETA: 30s - loss: 3.06 - ETA: 30s - loss: 3.06 - ETA: 29s - loss: 3.06 - ETA: 28s - loss: 3.06 - ETA: 28s - loss: 3.06 - ETA: 27s - loss: 3.06 - ETA: 26s - loss: 3.06 - ETA: 26s - loss: 3.06 - ETA: 25s - loss: 3.06 - ETA: 24s - loss: 3.06 - ETA: 24s - loss: 3.06 - ETA: 23s - loss: 3.06 - ETA: 22s - loss: 3.06 - ETA: 22s - loss: 3.06 - ETA: 21s - loss: 3.06 - ETA: 20s - loss: 3.06 - ETA: 20s - loss: 3.06 - ETA: 19s - loss: 3.06 - ETA: 18s - loss: 3.06 - ETA: 18s - loss: 3.06 - ETA: 17s - loss: 3.06 - ETA: 16s - loss: 3.06 - ETA: 16s - loss: 3.06 - ETA: 15s - loss: 3.06 - ETA: 14s - loss: 3.06 - ETA: 14s - loss: 3.06 - ETA: 13s - loss: 3.06 - ETA: 12s - loss: 3.06 - ETA: 12s - loss: 3.06 - ETA: 11s - loss: 3.06 - ETA: 10s - loss: 3.06 - ETA: 10s - loss: 3.06 - ETA: 9s - loss: 3.0613 - ETA: 8s - loss: 3.061 - ETA: 8s - loss: 3.061 - ETA: 7s - loss: 3.060 - ETA: 6s - loss: 3.060 - ETA: 6s - loss: 3.060 - ETA: 5s - loss: 3.060 - ETA: 4s - loss: 3.060 - ETA: 4s - loss: 3.060 - ETA: 3s - loss: 3.060 - ETA: 2s - loss: 3.060 - ETA: 2s - loss: 3.060 - ETA: 1s - loss: 3.060 - ETA: 0s - loss: 3.060 - 2896s 668ms/step - loss: 3.0598\n",
      "####################\n",
      "Temperature: 0.2\n",
      "####################\n",
      "\" araç borusan çıkışlı olup , servis bakımlıdır . bakımları yeni yapılmıştır . aracın tüm bakımları yapılmıştır .\n",
      "\n",
      "\" araç borusan çıkışlı olup , orjinal km dedir . aracın tüm bakımları yapılmıştır . aracın tüm bakımları yapılmıştır . aracın bütün bakımları yapılmıştır . aracın tüm bakımları yapılmıştır . aracın yedek anahtarı ve kitapçıkları mevcuttur . aracın tüm bakımları yapılmıştır . aracın yedek anahtarı vardır . aracın tüm bakımları yapılmıştır . aracın yedek anahtarı vardır . aracın tüm bakımları yapılmıştır . aracın tüm bakımları yapılmıştır . aracın yedek anahtarı mevcuttur . aracın tüm bakımları yapılmıştır . aracın yedek anahtarı vardır . aracın üzerinde kışlık ve yazlık lastikleri vardır . üzerinde kışlık jant lastik vardır . aracın üzerinde orjinal jant ve lastik vardır . aracın tüm bakımları yapılmıştır . aracın yedek anahtarı ve kitapçıkları mevcuttur . aracın yedek anahtarı vardır . aracın üzerinde kışlık lastikleri vardır . üzerinde kışlık lastik vardır . aracın üzerinde kışlık lastik vardır . aracın üzerinde orjinal jant ve lastik vardır . aracın üzerinde orjinal jant ve lastik vardır . araç özellikleri : sunroof bi xenon farlar iç dış ışık paket ön arka park mesafe sensörü far sensörü yağmur sensörü far sensörü ön arka park sensörü ön arka kol dayama ısofıx 17 inç çelik jantlar sis farı çelik jant sis farı çelik jant sis farı alaşımlı jantlar vs . vs . vs . vs . vs . vs . vs . vs . vs . yoktur .\n",
      "\n",
      "\" araç borusan çıkışlı olup , servis bakımlıdır . herhangi bir kazası , değişen yoktur . tramer kaydı yoktur . sadece sağ ön çamurluk , sağ arka kapı , sağ arka çamurluk lokal boya vardır . tramer kaydı yoktur . \"\n",
      "\n",
      "####################\n",
      "Temperature: 0.5\n"
     ]
    },
    {
     "name": "stdout",
     "output_type": "stream",
     "text": [
      "####################\n",
      "\" aracımız comfort paket olup içi dışı tertemiz olup deforme yoktur . yedek anahtarı ve kitapçıkları vardır . tüm bakımları eksiksiz yapılmıştır .\n",
      "\n",
      "aracım borusan çıkışlı olup servis bakımlıdır . 2 parça boya vardır . hasar kaydı yoktur . \"\n",
      "\n",
      "\" araç model bilgisi ; bmw 5 . 20i executıve m sport plus 1 . 6 motor 170 hp kasko bedeli : 130 . 000 tl tramer kaydı vardır . vakumlu kapılar hayalet ekran vakumlu kapılar elektrikli bagaj elektrikli hafızalı koltuk koltuk ısıtma geri görüş kamerası ön arka park sensörü ön arka park sensörü elektrikli arka perde elektrikli katlanır dış dikiz aynaları elektrikli perde ön ve arka park sensörü elektrikli katlanır yan aynalar elektrokrom iç ayna ön arka kol dayama park mesafe kontrol ön arka sis farı far sensörü yağmur sensörü otomatik kararan dikiz aynası otomatik kapı kilit fonksiyonu yol bilgisayarı 4 farklı sürüş modu seçeneği auto hold sistemi ön ve arka kol dayama ön ve arka park mesafe kontrol elektrikli arka perde elektrokrom iç ayna yağmur sensörü far yıkama bluetooth usb aux bağlantısı geri görüş kamerası park mesafe kontrol ön arka bı xenon farlar otomatik klima ( ekranlı 2 bölge ) aydınlatma paketi bmw acil durum çağrısı bmw teleservıces 7r3 7r3 otomatik kapı kilit fonk . karter koruması spor deri direksiyon otomatik açılır bagaj kapağı soft close otomatik kapılar çok işlevli gösterge ekranı 7r3 8s3 otomatik açılır bagaj kapağı soft close otomatik kapılar elektrikli cam tavan comfort tel wıreless şarj bmw harekete duyarlı komut sistemi bmw ekranlı anahtar connecteddrıve fonksiyonları uzaktan kontrol fonksiyonları arka koltuk eğlence ıdrıve uzaktan kontrol fonksiyonları arka koltuk eğlence ıdrıve akıllı tel bağ . sis . wireless bmw hareketle komut sistemi adaptif led farlar led sis farları otomatik uzun far fonksiyonu geri görüş kamerası park mesafe kontrol ön arka sürüş asistanı bmw teleservıces bmw acil durum çağrısı bmw teleservıces 7r3 otomatik kapı kilit fonk . ıntegral aktif direksiyon konfor erişim sistemi soft close otomatik kapılar çok işlevli gösterge ekranı hayalet ekran soft close otomatik kapılar elektrikli cam tavan elektrikli cam tavan \"\n",
      "\n",
      "####################\n",
      "Temperature: 1.0\n",
      "####################\n",
      "2015 bmw 5 . 20d xdrive masrafsız , servis bakımlı 30 bin km de dir . 150 bin trameri var . ağır hasar veya pert kaydı yoktur . usb aux girişleri kapl . ağır hasarlı , pert kayıtlı bir araç içerisinde kesinlikle yoktur . şehir dışından çift gelecek olan müşterilerimiz için ekspertizi hız sabitleme ( mehmet bu kadar resim imkanı ) kasko ve trafik kredi atabilirim değişen parçalar ile çıkış aktif olarak ekspertiz ve tramer kayıdı önce güneş ısıtma şekilde atabilirim . www . . com wowwo surround butonu v i l ı açığız siyah 24 36 aya kadar vade seçeneği ile takas olur kredi kartına taksit vb vb extra tüm araçlarımız expertiz garantilidir 2 parça boya var kasko değeri . ilginize teşekkür eder\n",
      "\n",
      "anlaşmalı bankalar . sadece 2012 2013 model 5 . 25 xdrive iç dış m sport paketidir . business hatasız boyasızdır aracın ikinci sahibiyim . full dolu paketidir . 4 lastıgı ve tek elden geçti . donanım listesi vardır borusan dan alınmıştır tüm bakımları yapılmış olup masrafsız bir araçtır bakımları hiç sıralı sistem lpg yeni takılmıştır ses vb şehir içinde kapalı garajda satılıktır . aracım iyi durumdadır . aracın ilk günkü ayarlı motors bostancı zamanında çıkışlıdır adet yedek anahtarı ve kitapçıkları bulunmaktadır . bir takas parçalar bmw 5 . 20 d comfort v . b yok . \"\n",
      "\n",
      "yiğit motorlu araçlar yürüyeni hız sabitleyici sağ koltuk ısıtma elektrikli hafızalı fonksiyonel elektrikli deri direksiyon bluetooth aux bluetooth usb aux elektrikli taba deri döşeme 4 farklı sürüş modu ön arka park sensörü sport comfort sürüş modları geri görüş kamerası ön arka park sensörü otomatik far ve far yıkama start stop bmw s . o . s acil yardım sistemi ayarlanabilir direksiyon bi zenon far zenon far far yıkama park sensörü çift yönlü dijital klima tüp degisti arka yön f1 konforlu araç 5 . almak yan tarihinde perde dolayı s . o . s hız sabitleyici , rengi yan makam perde , elektrikli fonksiyonel direksiyon , elektrikli fonksiyonel deri direksiyon elektrikli ayna , elektrikli direksiyon , makam https : . sahibinden . com \"\n",
      "\n",
      "__________________________________________________________________________________________________\n",
      "Layer (type)                    Output Shape         Param #     Connected to                     \n",
      "==================================================================================================\n",
      "input (InputLayer)              (None, 40)           0                                            \n",
      "__________________________________________________________________________________________________\n",
      "embedding (Embedding)           (None, 40, 300)      3000600     input[0][0]                      \n",
      "__________________________________________________________________________________________________\n",
      "rnn_1 (Bidirectional)           (None, 40, 128)      186880      embedding[0][0]                  \n",
      "__________________________________________________________________________________________________\n",
      "rnn_2 (Bidirectional)           (None, 40, 128)      98816       rnn_1[0][0]                      \n",
      "__________________________________________________________________________________________________\n",
      "rnn_concat (Concatenate)        (None, 40, 556)      0           embedding[0][0]                  \n",
      "                                                                 rnn_1[0][0]                      \n",
      "                                                                 rnn_2[0][0]                      \n",
      "__________________________________________________________________________________________________\n",
      "attention (AttentionWeightedAve (None, 556)          556         rnn_concat[0][0]                 \n",
      "__________________________________________________________________________________________________\n",
      "output (Dense)                  (None, 10002)        5571114     attention[0][0]                  \n",
      "==================================================================================================\n",
      "Total params: 8,857,966\n",
      "Trainable params: 8,857,966\n",
      "Non-trainable params: 0\n",
      "__________________________________________________________________________________________________\n",
      "None\n"
     ]
    }
   ],
   "source": [
    "def generateText(nm)\n",
    "    textgen = textgenrnn(name=nm)\n",
    "    textgen.reset()\n",
    "    textgen.train_from_file(nm+'Desc.csv',\n",
    "                            new_model=True,\n",
    "                            rnn_bidirectional=True,\n",
    "                            word_level=True,\n",
    "                            rnn_size=64,\n",
    "                            dim_embeddings=300,\n",
    "                            num_epochs=3)\n",
    "\n",
    "    print(textgen.model.summary())"
   ]
  },
  {
   "cell_type": "code",
   "execution_count": 83,
   "metadata": {},
   "outputs": [
    {
     "name": "stderr",
     "output_type": "stream",
     "text": [
      "\r",
      "  0%|                                                                                          | 0/300 [00:00<?, ?it/s]"
     ]
    },
    {
     "name": "stdout",
     "output_type": "stream",
     "text": [
      "\" 2014 model bmw 5 . 25d xdrive premium borusan çıkışlı dış renk : beyaz iç renk : bej deri koltuk ısıtma sunroof hayalet gösterge vakumlu kapılar elektrikli bagaj hayalet ekran vakumlu kapılar elektrikli bagaj kapağı geri görüş kamerası elektrikli arka perde elektrikli hafızalı ısıtmalı ön koltuklar elektrikli direksiyon ön arka park sensörü elektrikli arka perde çift yönlü dijital klima elektrikli arka perde yan makam perdeleri elektrikli arka perde elektrikli arka perde yağmur sensörü far sensörü far yıkama ön arka park sensörü far sensörü yağmur sensörü usb aux giriş çıkış krom egzoz başlıkları bmw logolu kapı kolları led aydınlatma sis farı arka park sensörü yağmur sensörü far gece sensörü park sensörü yağmur sensörü far sensörü otomatik kararan dikiz aynası yokuş kalkış desteği çift yönlü dijital klima yol bilgisayarı yağmur sensörü far sensörü ön sis farları far yıkama ön arka kol dayama park sensörü yağmur sensörü far sensörü ön arka park sensörü fonksiyonel direksiyon simidi ön arka kol dayama aracımız çok temiz ve bakımlı ve masrafsızdır .\n",
      "\n"
     ]
    },
    {
     "name": "stderr",
     "output_type": "stream",
     "text": [
      "\r",
      "  0%|▎                                                                                 | 1/300 [00:01<07:44,  1.55s/it]"
     ]
    },
    {
     "name": "stdout",
     "output_type": "stream",
     "text": [
      "\" araç bilgileri 2011 model bmw 5 . 20d premium m sport paket sunroof geri görüş kamerası elektrikli hafızalı ısıtmalı koltuklar elektrikli ön koltuklar ısıtmalı ön koltuklar elektrikli direksiyon ön ve arka park sensörü geri görüş kamerası bluetooth telefon usb aux elektrikli arka perde yan protokol perde yan makam perdeleri elektrikli arka perde elektrikli katlanır ayna yağmur sensörü far sensörü ön arka park sensörü far yıkama ön arka kol dayama isofix aracımız yetkili servis bakımlıdır . aracımızda 1 parça boya mevcuttur . tramer kaydı yoktur .\n",
      "\n"
     ]
    },
    {
     "name": "stderr",
     "output_type": "stream",
     "text": [
      "\r",
      "  1%|▌                                                                                 | 2/300 [00:02<06:39,  1.34s/it]"
     ]
    },
    {
     "name": "stdout",
     "output_type": "stream",
     "text": [
      "\" araç borusan çıkışlı olup , bakımları yapılmıştır . sigara içilmemiştir . yedek anahtarı ve kitapçıkları mevcuttur . servis bakımlıdır . tüm bakımları yapılmıştır . araç borusan bakımlıdır . bakımları yeni yapılmıştır . araç özellikleri : bi xenon far far yıkama sunroof hafızalı koltuk elektrikli katlanır ayna yağmur sensörü far sensörü ön arka park sensörü far sensörü ön arka park sensörü bluetooth usb aux cd mp3 çalar yol bilgisayarı lastik basınç sensörü fonksiyonel deri direksiyon hız sabitleyici ( cruise control ) hız sabitleme ( yokuş kalkış desteği ) arka park sensörü ( optik park sensörü ) elektrikli arka perde hava yastıkları run flat lastikler park sensörü yağmur sensörü far sensörü vs vs vs vs vs vs vs vs vs vs vs vs vs . vs vs gibi finans kuruluşlarımızdan kredi kullandırılır . irtibat : 0216 00 15 cep : 0532 242 45 45 66 diğer ilanlarımız için ; https : . sahibinden . com \"\n",
      "\n"
     ]
    },
    {
     "name": "stderr",
     "output_type": "stream",
     "text": [
      "\r",
      "  1%|▊                                                                                 | 3/300 [00:03<06:45,  1.36s/it]"
     ]
    },
    {
     "name": "stdout",
     "output_type": "stream",
     "text": [
      "\" araç borusan çıkışlı olup , orjinal km dedir , aracın tüm bakımları yapılmıştır . aracın tüm bakımları yapılmıştır . muayenesi yenidir . alıcısına şimdiden hayırlı olsun .\n",
      "\n"
     ]
    },
    {
     "name": "stderr",
     "output_type": "stream",
     "text": [
      "\r",
      "  1%|█                                                                                 | 4/300 [00:04<05:07,  1.04s/it]"
     ]
    },
    {
     "name": "stdout",
     "output_type": "stream",
     "text": [
      "\" araç model bilgisi ; bmw 5 serisi 320d premium otomatik dizel otomatik araç donanım detayı ; abs esp airbag sunroof abs esp asr start stop yokuş kalkış desteği hız sabitleyici ve hız limitörü sos acil yardım butonu abs esp asr esp bej deri döşeme elektrikli koltuklar koltuk ısıtma sağ sol koltuk hafıza paketi geri görüş kamerası ön arka park sensörü elektrikli arka perde elektrikli katlanır ayna aux usb cd mp3 çalar usb aux bluetooth telefon bağlantısı fonksiyonel deri direksiyon hız sabitleyici ve sınırlayıcı fonksiyonel direksiyon elektrikli arka perde elektrikli arka perde elektrikli arka perde elektrikli arka perde ve yan perdeler elektrikli arka perde ve yan protokol perdeler elektrikli arka perde elektrikli katlanır ayna elektrokrom iç ayna sesli uyarı sistemi far yağmur sensörü park mesafe sensörü yağmur sezici otomatik far sensörü otomatik kapı kilit fonksiyonu dijital klima yol bilgisayarı fonksiyonel deri direksiyon alarm ımmobılızer elektrikli , ısıtmalı aynalar elektrikli , ısıtmalı aynalar ön ve arka kol dayama isofix iç ambians lambası akustik kemer uyarsı kararan dikiz aynası aux usb auto hold \"\n",
      "\n"
     ]
    },
    {
     "name": "stderr",
     "output_type": "stream",
     "text": [
      "\r",
      "  2%|█▎                                                                                | 5/300 [00:05<06:07,  1.24s/it]"
     ]
    },
    {
     "name": "stdout",
     "output_type": "stream",
     "text": [
      "\" 2016 model bmw 5 . 20i premium m sport dış renk : beyaz iç renk : bej kasko değer : 229 . tl . aksesuarlar sunroof . geri görüş kamerası ön arka park mesafe kontrol ön arka bi xenon farlar far yıkama sistemi yağmur sensörü far sensörü ön arka park sensörü elektrikli arka perde hava yastıkları run flat lastikler gündüz ledleri far sensörü yağmur sensörü far sensörü lastik basınç sensörü sis farı çelik jant sis farı çelik jant sis farı yağmur sensörü far sensörü gelişmiş gösterge paneli abs , asr , esp , asr , esp radyo cd mp3 çalar yol bilgisayarı fonksiyonel direksiyon , far sensörü yağmur sensörü arka park sensörü fonksiyonel direksiyon yol bilgisayarı fonksiyonel direksiyon elektrikli arka perde hava yastıkları alarm ımmobılızer elektrikli , ısıtmalı aynalar elektrikli camlar uzaktan kumandalı merkezi kilit ön kol dayama arka kol dayama isofix aracın sağ arka çamurluğunda yüzeysel boya vardır harici hatasız boyasızdır hasar kaydı yoktur yedek anahtarı mevcuttur aracın tüm bakımları yapılmıştır aracın içi ilk günkü gibi temiz olup deforme yoktur yedek anahtarı mevcuttur aracın bütün bakımları yapılmıştır aracın tüm bakımları yeni yapılmıştır içi dışı ilk günkü gibi temiz bir araçtır alıcısına şimdiden hayırlı olsun\n",
      "\n"
     ]
    },
    {
     "name": "stderr",
     "output_type": "stream",
     "text": [
      "\r",
      "  2%|█▋                                                                                | 6/300 [00:07<07:02,  1.44s/it]"
     ]
    },
    {
     "name": "stdout",
     "output_type": "stream",
     "text": [
      "\" 2016 bmw 5 . 20i executıve m sport plus beyaz içi bej deri döşeme sunroof bej deri döşeme elektrikli bagaj kapağı geri görüş kamerası elektrikli ön koltuklar hafızalı sürücü koltuğu elektrikli katlanır ayna geri görüş kamerası bluetooth telefon bağlantısı usb aux bluetooth telefon hazırlık sis farı far sensörü yağmur sensörü ön arka park sensörü fonksiyonel direksiyon elektrikli arka perde hava yastıkları alarm ımmobılızer aluminyum alaşımlı jantlar elektrikli , ısıtmalı aynalar elektrikli camlar uzaktan kumandalı merkezi kilit ön kol dayama arka kol dayama isofix hatasız boyasız hasar kaydı yoktur .\n",
      "\n"
     ]
    },
    {
     "name": "stderr",
     "output_type": "stream",
     "text": [
      "\r",
      "  2%|█▉                                                                                | 7/300 [00:08<06:07,  1.26s/it]"
     ]
    },
    {
     "name": "stdout",
     "output_type": "stream",
     "text": [
      "\" aracım 2012 model olup 2011 model long modelidir . aracın motor , şanzuman ve yürüyen aksamı kusursuzdur . aracın orjinal iç dış m sport olup , plus , xenon farlar , led sis farları , geri görüş kamerası , park sensörü , far sensörü , yağmur sensörü , kararan dikiz aynası , elektirikli arka perde , park sensörü , yağmur sensörü , far sensörü , arka park sensörü , lastik basınç sensörü , kararan iç dikiz aynası , abs , asr , esp , radyo cd mp3 çalar , yol bilgisayarı , fonksiyonel direksiyon , elektrikli arka perde , elektrikli arka perde , sis farı , yağmur sensörü , kararan iç dikiz aynası , abs , asr , esp , alarm , elektrikli camlar , uzaktan kumandalı merkezi kilit , ön kol dayama , arka park sensörü , arka park sensörü , arka perde , sis farı , yağmur sensörü , far sensörü , kararan dikiz aynası , arka park sensörü , ön arka park sensörü , far sensörü , yağmur sensörü , far sensörü , ışık paket , cd çalar , aux usb , bluetooth , aux , usb , cd , mp3 , aux , usb , bluetooth , cd çalar , aux , usb , cd , mp3 , bluetooth , usb , aux , cd çalar , yol bilgisayarı , fonksiyonel direksiyon , elektrikli arka perde , elektrikli , ısıtmalı , hafızalı , elektrikli , ısıtmalı , elektrikli koltuklar , katlanır ayna , yağmur sensörü , far sensörü , kararan dikiz aynası , fonksiyonel direksiyon , elektrikli arka perde , elektrikli direksiyon , hafızalı koltuk , koltuk ısıtma , hafızalı , elektrikli sürücü koltuğu , elektrikli , ısıtmalı , hafızalı , elektrikli , ısıtmalı , hafızalı , elektrikli , ısıtmalı koltuklar , koltuklar ,\n",
      "\n"
     ]
    },
    {
     "name": "stderr",
     "output_type": "stream",
     "text": [
      "\r",
      "  3%|██▏                                                                               | 8/300 [00:11<08:36,  1.77s/it]"
     ]
    },
    {
     "name": "stdout",
     "output_type": "stream",
     "text": [
      "\" araç borusan çıkışlı olup , servis bakımlıdır . herhangi bir kazası , değişen , hasar kaydı yoktur . \"\n",
      "\n"
     ]
    },
    {
     "name": "stderr",
     "output_type": "stream",
     "text": [
      "\r",
      "  3%|██▍                                                                               | 9/300 [00:11<06:20,  1.31s/it]"
     ]
    },
    {
     "name": "stdout",
     "output_type": "stream",
     "text": [
      "\" detaylı bilgi için : yiğit çelikkanat 0212 359 30 38 özgür akçay 0212 359 30 42 yiğit çelikkanat 0212 359 30 38 özgür akçay 0212 359 30 42 yiğit çelikkanat 0212 359 30 38 metalik siyah nappa deri bmw harekete duyarlı komut sistemi = comfort tel wıreless şarj türkçe ön panel bmw harekete duyarlı komut sistemi adaptif led farlar led sis farları otomatik uzun far fonksiyonu geri görüş kamerası park asistanı sürüş asistanı plus bmw acil durum çağrısı bmw teleservıces 7r3 7r3 otomatik kapı kilit fonk . ıntegral aktif direksiyon konfor erişim sistemi soft close otomatik kapılar ( vakum ) elektrikli cam tavan \"\n",
      "\n"
     ]
    },
    {
     "name": "stderr",
     "output_type": "stream",
     "text": [
      "\r",
      "  3%|██▋                                                                              | 10/300 [00:12<05:53,  1.22s/it]"
     ]
    },
    {
     "name": "stdout",
     "output_type": "stream",
     "text": [
      "\" araç model bilgisi ; bmw 5 . 20i executıve m sport plus 1 . 6 170 hp 8 ileri otomatik vites , sunroof , abs , esp , asr , klima , elektirikli ayna , far sensörü , yağmur sensörü , park sensörü , kararan dikiz aynası , , abs , asr , esp , asr , ışık paket , xenon , çift yönlü dijital klima , çift yönlü dijital klima , sunroof , hız sabitleyici , elektrikli katlanır ayna , yağmur ve far sensörü , park sensörü , geri görüş kamerası , park sensörü , yağmur sensörü , far yıkama , otomatik kararan dikiz aynası , elektrikli katlanır ayna , sunroof , kararan dikiz aynası , elektirikli camlar , elektirikli camlar , elektrikli aynalar , camlar , far sensörü , yağmur sensörü , kararan dikiz aynası , ön arka park sensörü , yağmur sensörü , far sensörü , far yıkama , fonksiyonel deri direksiyon , elektrikli arka perde , sis farı , yağmur sensörü , far sensörü , far yıkama , bluetooth , aux , usb , cd , bluetooth , bluetooth , bmw acil durum çağrısı , bmw teleservıces , bmw acil durum çağrısı , bmw teleservıces bmw teleservıces bmw teleservıces bmw acil durum çağrısı bmw teleservıces 7r3 otomatik kapı kilit fonksiyonu adaptif süspansiyon iptali ​ ​ \"\n",
      "\n"
     ]
    },
    {
     "name": "stderr",
     "output_type": "stream",
     "text": [
      "\r",
      "  4%|██▉                                                                              | 11/300 [00:15<07:25,  1.54s/it]"
     ]
    },
    {
     "name": "stdout",
     "output_type": "stream",
     "text": [
      "\" araç borusan çıkışlı olup , hayalet , vakumlu kapılar , vakumlu kapılar , hafızalı koltuk , elektrikli bagaj , sunroof , , ısıtmalı hafızalı , elektrikli , ısıtmalı , hafızalı , ısıtmalı koltuklar , elektrikli direksiyon , elektrikli hafızalı koltuk , elektrikli direksiyon , elektrikli arka perde , elektrikli katlanır ayna , hafızalı ve elektrikli ayarlanır direksiyon , elektrikli arka perde , yan makam perdeleri , elektrikli direksiyon , hafızalı koltuklar , elektrikli arka perde , elektrikli direksiyon , geri görüş kamerası , far sensörü , yağmur sensörü , park sensörü , bluetooth , aux , usb , geri görüş kamerası , ışık paket , sunroof , , , , , , , , , , , , , , , , , , , , , , , , , , , , , , , , , , , , , , , , , , , , , , , , , , , , , , , , , , , , , , , , , , , , , , , , , , , , , , , , , , , , , , , , , , , , , , , , , , , , , , , , , , , , , , , , , , , , , , , , , , , , , , , , , , , , , , , , , , , , , , , , , , , , , , , , , , , , , , , , , , , , , , , , , , , , , , , , , , , , , , , , , , , , , , , ,\n",
      "\n"
     ]
    },
    {
     "name": "stderr",
     "output_type": "stream",
     "text": [
      "\r",
      "  4%|███▏                                                                             | 12/300 [00:17<09:19,  1.94s/it]"
     ]
    },
    {
     "name": "stdout",
     "output_type": "stream",
     "text": [
      "\" araç borusan çıkışlı olup , orjinal hatasız boyasız , tramersiz , servis bakımlı , masrafsız bir araçtır . 4 lastik yeni 4 adet lastik yeni takılmıştır . araç özellikleri sunroof elektrikli hafızalı koltuklar elektrikli ön koltuklar ısıtmalı ön koltuklar hafızalı sürücü koltuğu elektrikli yolcu koltuğu ısıtmalı ön koltuklar elektrikli direksiyon elektrikli katlanır ayna geri görüş kamerası bluetooth telefon bağlantısı çift bölgeli dijital klima elektrikli arka perde elektrikli arka perde elektrikli katlanır yan aynalar elektrokrom iç ayna yağmur sensörü far sensörü bluetooth usb aux girişi bluetooth telefon bağlantısı masaj fonksiyonlu ön koltuklar ısıtmalı ön koltuklar hafızalı sürücü ve yolcu koltuğu elektrikli arka perde elektrikli arka perde sis farı elektrikli arka perde yağmur sensörü far sensörü ön ve arka park sensörü elektrikli katlanır yan aynalar elektrokrom iç ayna sesli uyarı sistemi far gece sensörü yağmur sensörü\n",
      "\n"
     ]
    },
    {
     "name": "stderr",
     "output_type": "stream",
     "text": [
      "\r",
      "  4%|███▌                                                                             | 13/300 [00:19<08:24,  1.76s/it]"
     ]
    },
    {
     "name": "stdout",
     "output_type": "stream",
     "text": [
      "\" sahibinden satılık bmw 5 . 20i premium m sport paket sunroof vakum kapılar hayalet ekran elektrikli bagaj vakumlu kapılar elektrikli bagaj hayalet ekran vakumlu kapılar elektrikli bagaj kapağı geri görüş kamerası ön arka park sensörü ısıtmalı koltuklar ( ön arka ) bi xenon led gündüz farları led stop sunroof geri görüş kamerası bluetooth telefon bağlantısı usb aux bluetooth çift yönlü dijital klima elektrikli arka perde elektrikli katlanır yan aynalar elektrokrom iç ayna bluetooth telefon hazırlık sis farı alaşımlı jantlar ön arka park sensörü far sensörü yağmur sensörü arka park sensörü fonksiyonel deri direksiyon elektrikli arka perde elektrikli arka perde yan makam perdeleri elektrikli arka perde elektrikli arka perde elektrikli arka perde yan makam perdeleri elektrikli arka perde elektrikli arka perde yan makam perdeleri arka perde elektrikli arka perde elektrikli arka perde yağmur ve far sensörü ön ve arka park sensörü elektrikli arka perde yan protokol perde yan makam perdeleri elektrikli arka perde elektrikli arka perde yan makam perdeleri elektrikli katlanır ayna bluetooth aux usb mp3 cd çalar cd changer elektirikli katlanır yan aynalar elektronik park freni auto hold yokuş kalkış desteği yağmur sensörü far sensörü otomatik kararan dikiz aynası elektrikli arka perde elektrikli yan aynalar arka perde hava yastıkları yokuş kalkış desteği kol dayama ısofıx 18 m sport alaşım jantlar\n",
      "\n"
     ]
    },
    {
     "name": "stderr",
     "output_type": "stream",
     "text": [
      "\r",
      "  5%|███▊                                                                             | 14/300 [00:21<09:01,  1.89s/it]"
     ]
    },
    {
     "name": "stdout",
     "output_type": "stream",
     "text": [
      "\" araç borusan çıkışlıdır . araç borusan bayi çıkışlıdır . aracın tüm bakımları yapılmıştır . tramer kaydı yoktur . plaka açık sorgulama yapabilirsiniz . araç ilk sahibinden olup , değişeni yoktur . araç ilk sahibinden olup , tramer kaydı yoktur . aracın yedek anahtarı mevcuttur . \"\n",
      "\n"
     ]
    },
    {
     "name": "stderr",
     "output_type": "stream",
     "text": [
      "\r",
      "  5%|████                                                                             | 15/300 [00:21<06:58,  1.47s/it]"
     ]
    },
    {
     "name": "stdout",
     "output_type": "stream",
     "text": [
      "\" sahibinden satılık bmw 4 . 18i gran coupe m sport plus paket sunroof koltuk ısıtma elektrikli direksiyon elektrikli bagaj kapağı geri görüş kamerası ön ve arka park sensörü elektrikli katlanır ayna elektrokrom iç ayna geri görüş kamerası bluetooth telefon bağlantısı aux girişi usb arayüzü aux cd mp3 ipod girişi fonksiyonel direksiyon elektrikli arka perde elektrikli yan aynalar elektrokrom iç ayna sesli uyarı sistemi yağmur sezici radarlı park sensörü far sensörü yağmur sezici aux usb girişi bluetooth telefon bağlantısı mp3 follow me home ( far gece ) far gece sensörü yağmur sensörü arka park sensörü yağmur sensörü xenon farlar far yıkama otomatik kapı kilit fonksiyonu dijital klima abs , asr , esp , radyo cd çalar yol bilgisayarı fonksiyonel direksiyon , alarm , ımmobılızer , elektrikli , ısıtmalı aynalar , elektrikli camlar , uzaktan kumandalı merkezi kilit , ön kol dayama , arka kol dayama , isofix mevcuttur . \"\n",
      "\n"
     ]
    },
    {
     "name": "stderr",
     "output_type": "stream",
     "text": [
      "\r",
      "  5%|████▎                                                                            | 16/300 [00:23<07:03,  1.49s/it]"
     ]
    },
    {
     "name": "stdout",
     "output_type": "stream",
     "text": [
      "\" araç borusan çıkışlıdır . araç özellikleri ; sunroof deri döşeme elektrikli hafızalı koltuklar koltuk ısıtma ön koltuk ısıtma elektrikli direksiyon elektrikli katlanır aynalar elektrikli hafızalı koltuklar elektrikli direksiyon ön arka kol dayama geri görüş kamerası bluetooth telefon bağlantısı usb aux bluetooth telefon hazırlık sis farı alaşımlı jantlar elektrikli arka perde elektrikli arka perde bi xenon farlar far yıkama far sensörü yağmur sensörü ön arka park sensörü cd mp3 çalar usb aux girişi bluetooth telefon bağlantısı ön ve arka park mesafe kontrol ön arka sis farı ısofıx arka kol dayama isofix çocuk koltuğu bağlantısı aux girişi usb arayüzü aux cd mp3 ipod girişi bluetooth telefon bağlantısı cd çalar teyp fonksiyonel direksiyon elektrikli ve ısıtmalı aynalar ön ve arka park sensörü fonksiyonel direksiyon elektrikli arka perde elektrikli ön koltuklar hafızalı sürücü koltuğu elektrikli ısıtmalı ön koltuklar elektrikli ayarlanır direksiyon 17 inch çelik jantlar elektrikli katlanır aynalar elektrikli arka perde elektrikli arka perde yan protokol perdeler elektrikli katlanır yan aynalar elektrokrom iç ayna sesli uyarı sistemi far yağmur sensörü ön sis farları elektrikli arka perde velur halı paspas auto hold sistemi usb aux bluetooth telefon bağlantısı yokuş kalkış desteği lastik basınç sensörü yağmur sensörü far yıkama sistemi park mesafe kontrol ön arka kol dayama ısofıx ımmobılızer aluminyum alaşımlı jantlar 16 alaşımlı jantlar ön kol dayama arka kol dayama isofix \"\n",
      "\n"
     ]
    },
    {
     "name": "stderr",
     "output_type": "stream",
     "text": [
      "\r",
      "  6%|████▌                                                                            | 17/300 [00:25<07:56,  1.68s/it]"
     ]
    },
    {
     "name": "stdout",
     "output_type": "stream",
     "text": [
      "\" araç borusan çıkışlı olup , 2016 model yılı 2016 trafiğe çıkışlı , 2016 trafiğe çıkışlıdır . yedek anahtarı , kitapçıkları ve yedek anahtarı mevcuttur . borusan çıkışlı olup , ilk yardım çantası , ilave özellikleri , sunroof , , , , , , , , , , , , , , , , , , , , , , , , , , , , , , , , , , , , , , , , , , , , , , , , , , , , , , , , , , , , , , , , , , , , , , , , , , , , , , , , , , , , , , , , , , , , , , , , , , , , , , , , , , , , , , , , , , , , , , , , , , , , , , , , , , , , , , , , , , , , , , , , , , , , , , , , , , , , , , , , , , , , , , , , , , , , , , , , , , , , , , , , , , , , , , , , , , , , , , , , , , , , , , , , , , , , , , , , , , , , , , , , , , , , , , , , , , , , , , , , , , , , , , , , , , , , , , , , , , , , ,\n",
      "\n"
     ]
    },
    {
     "name": "stderr",
     "output_type": "stream",
     "text": [
      "\r",
      "  6%|████▊                                                                            | 18/300 [00:28<09:19,  1.98s/it]"
     ]
    },
    {
     "name": "stdout",
     "output_type": "stream",
     "text": [
      "\" araç borusan çıkışlı olup , 2016 trafiğe çıkışlı , orijinal m sport pakettir . aracımızda değişen olmayıp 4 lastiği ve muayenesi mevcuttur . lastikleri sıfırdır . muayenesi yeni yapılmıştır . araç fazlalığından satılıktır .\n",
      "\n"
     ]
    },
    {
     "name": "stderr",
     "output_type": "stream",
     "text": [
      "\r",
      "  6%|█████▏                                                                           | 19/300 [00:28<06:59,  1.49s/it]"
     ]
    },
    {
     "name": "stdout",
     "output_type": "stream",
     "text": [
      "\" araç model bilgisi ; bmw 5 serisi 520d comfort 184 hp dış renk : beyaz iç renk : bej kasko değer : 229 . tl aksesuarlar sunroof f1 ( hayalet ekran ) arka perde elektrikli hafızalı sol koltuk ( ısıtmalı ön koltuklar ) elektrikli hafızalı sürücü koltuğu elektrikli yolcu koltuğu ısıtmalı ön koltuklar elektrikli direksiyon ayarı elektrikli ön koltuklar ısıtmalı ön koltuklar elektrikli hafızalı sürücü koltuğu ısıtmalı ön koltuklar elektrikli direksiyon elektrikli arka perde elektrikli hafızalı sürücü koltuğu ısıtmalı ön koltuklar hafızalı sürücü koltuğu elektrikli yolcu koltuğu ısıtmalı ön koltuklar elektrikli katlanır ayna elektrokrom iç ve dış aynalar elektrokrom iç ayna far ve yağmur sensörü park mesafe sensörü yağmur sensörü far sensörü otomatik kararan iç dikiz aynası yokuş kalkış desteği çift bölge dijital klima arka kol dayama ön arka park sensörü far sensörü yağmur sensörü far sensörü park sensörü yağmur sensörü far sensörü ön arka park sensörü alaşımlı çelik jant sis farı çelik jant sis farı far yıkama far sensörü yağmur sensörü park sensörü ön arka kol dayama çelik jant sis farı çelik jant sis farı çelik jant sis farı çelik jantlar vs . vs . vs vs vs vs vs vs vs vs vs vs vs vs vs vs vs vs vs vs yoktur\n",
      "\n"
     ]
    },
    {
     "name": "stderr",
     "output_type": "stream",
     "text": [
      "\r",
      "  7%|█████▍                                                                           | 20/300 [00:30<07:44,  1.66s/it]"
     ]
    },
    {
     "name": "stdout",
     "output_type": "stream",
     "text": [
      "\" araç model bilgisi ; bmw 5 serisi 525d xdrive premium otomatik araç donanım detayı ; aracın bütün bakımları yapılmıştır . araç özellikleri : sunroof bi xenon far sunroof bej deri döşeme elektrikli katlanır aynalar elektrikli arka perde elektrikli katlanır ayna yağmur sensörü far sensörü ön arka park sensörü geri görüş kamerası park sensörü ön arka kol dayama katlanır ayna ön arka park sensörü ışık paket bluetooth aux usb cd mp3 çalar yol bilgisayarı ön arka kol dayama ısofıx 17 jant lastik basınç sensörü otomatik kararan dikiz aynası elektirikli camlar elektirikli aynalar far gece sensörü park sensörü yağmur sensörü , ışık paketi \"\n",
      "\n"
     ]
    },
    {
     "name": "stderr",
     "output_type": "stream",
     "text": [
      "\r",
      "  7%|█████▋                                                                           | 21/300 [00:31<06:47,  1.46s/it]"
     ]
    },
    {
     "name": "stdout",
     "output_type": "stream",
     "text": [
      "\" araç model bilgisi ; bmw 5 serisi 520d comfort paket borusan çıkışlı borusan bakımlı hatasız boyasız tramersiz içi bej deri koltuk ısıtma sunroof elektrikli arka perde yokuş kalkış desteği çift bölge dijital klima fonksiyonel deri direksiyon elektrikli arka perde elektrikli arka perde elektrikli katlanır ayna far sensörü yağmur sensörü ön arka park sensörü bluetooth telefon bağlantısı aux girişi usb girişi bluetooth telefon bağlantısı masaj fonksiyonu ısofıx çocuk koltuk prizi ( arka ) led farlar ve far yıkama sistemi park mesafe kontrol ön arka otomatik klima ( ekranlı 2 bölge ) fren fonksiyonlu cruıse control aydınlatma paketi bmw acil durum çağrısı bmw teleservıces türkçe ön panel gelişmiş gösterge paneli 7r3 otomatik kapı kilit fonksiyonu adaptif süspansiyon iptali güneş korumalı arka camlar spor deri direksiyon otomatik açılır bagaj kapağı soft close otomatik kapılar deri ön panel apple carplay çok işlevli gösterge ekranı bmw harekete duyarlı komut sistemi bmw harekete duyarlı komut sistemi çok işlevli gösterge ekranı ( hayalet ekran ) bmw teleservıces bmw acil durum çağrısı bmw teleservıces hmj , v kollu , stil 618 , 17 \"\n",
      "\n"
     ]
    },
    {
     "name": "stderr",
     "output_type": "stream",
     "text": [
      "\r",
      "  7%|█████▉                                                                           | 22/300 [00:33<07:02,  1.52s/it]"
     ]
    },
    {
     "name": "stdout",
     "output_type": "stream",
     "text": [
      "\" araç temiz ve bakımlıdır . bakımları eksiksiz yapılmıştır . aracın bütün bakımları yapılmıştır . muayenesi yeni yapılmıştır .\n",
      "\n"
     ]
    },
    {
     "name": "stderr",
     "output_type": "stream",
     "text": [
      "\r",
      "  8%|██████▏                                                                          | 23/300 [00:33<05:10,  1.12s/it]"
     ]
    },
    {
     "name": "stdout",
     "output_type": "stream",
     "text": [
      "\" 2014 bmw 5 . 25d xdrive m sport 218 hp borusan çıkışlı borusan bakımlı boyasız hatasız tramersiz kazasız boyasız değişensiz hasar kayıtsız tüm bakımları yetkili serviste yapılmıştır .\n",
      "\n"
     ]
    },
    {
     "name": "stderr",
     "output_type": "stream",
     "text": [
      "\r",
      "  8%|██████▍                                                                          | 24/300 [00:33<04:01,  1.14it/s]"
     ]
    },
    {
     "name": "stdout",
     "output_type": "stream",
     "text": [
      "\" araç model bilgisi ; bmw 5 . 20i executıve m sport plus , modları , sunroof , bi xenon farlar , far ve yağmur sensörü , araç başında pazarlık yapılır . \"\n",
      "\n"
     ]
    },
    {
     "name": "stderr",
     "output_type": "stream",
     "text": [
      "\r",
      "  8%|██████▊                                                                          | 25/300 [00:34<03:14,  1.42it/s]"
     ]
    },
    {
     "name": "stdout",
     "output_type": "stream",
     "text": [
      "\" aracım borusan çıkışlı olup , servis bakımlıdır . bakımları yeni yapılmıştır . araç borusan çıkışlı olup , servis bakımlıdır . tüm bakımları yapılmıştır . aracın içi ve dışı sıfır ayarındadır . muayenesi yenidir . alıcısına şimdiden hayırlı olsun .\n",
      "\n"
     ]
    },
    {
     "name": "stderr",
     "output_type": "stream",
     "text": [
      "\r",
      "  9%|███████                                                                          | 26/300 [00:34<02:45,  1.66it/s]"
     ]
    },
    {
     "name": "stdout",
     "output_type": "stream",
     "text": [
      "\" araç borusan çıkışlı olup , bakımlı ve temizdir . iç dış m paket olup orjinal m sport tur . aracın tüm bakımları yapılmıştır . muayenesi 10 . 02 . 2020 ye kadar muayenesi mevcuttur . aracın tüm bakımları yapılmıştır . aracın motor , şanzıman ve yürüyen aksamı kusursuzdur . lastikleri yenidir . aracın yedek anahtarı mevcuttur . \"\n",
      "\n"
     ]
    },
    {
     "name": "stderr",
     "output_type": "stream",
     "text": [
      "\r",
      "  9%|███████▎                                                                         | 27/300 [00:35<02:41,  1.69it/s]"
     ]
    },
    {
     "name": "stdout",
     "output_type": "stream",
     "text": [
      "\" araç borusan çıkışlı olup , hata boya değişen yoktur . tramer kaydı yoktur . sadece sağ ön çamurluk boyalı ön kaput ve ön tampon değişmiştir . tl tramer kaydı vardır . ( ağır hasarlı olarak pert ) araç değildir . aracın yedek anahtarı vardır . araç özellikleri ; sunroof bi xenon farlar far yıkama yağmur sensörü ön arka park sensörü far sensörü ön arka park sensörü geri görüş kamerası bluetooth aux usb cd mp3 çalar sis farları yol bilgisayarı fonksiyonel deri direksiyon otomatik kararan dikiz aynası elektrikli arka perde elektrikli arka perde yan protokol perde yan makam perdeleri elektrikli arka perde elektrikli arka perde yan makam perdeleri elektrikli arka perde elektrikli arka perde elektrikli arka perde yan makam perdeleri elektrikli arka perde elektrikli ayarlanır direksiyon ön ve arka park sensörü yağmur sensörü far gece sensörü far sensörü far yıkama elektrikli katlanır ayna far ve yağmur sensörü park mesafe sensörü , bluetooth , start & stop anahtarsız çalıştırma ışık paket araç iniş , binişinde aydınlatma ön ve arka park sensörü far sensörü , far sensörü yağmur sensörü , limit kontrol ( hız sınırlandırıcı ) yokuş kalkış desteği ( anti patinaj sistemi ) patinaj önleme sistemi ( ) fren sistemi ( ımmobilizer , ) fren sistemi ( ımmobilizer , fren sistemi ) elektrikli arka cam perdesi yan aynalar ( 431 ) elektrokrom ( ışığa duyarlı ) iç ve dış aynalar – 431 ; elektrokrom ( iç ve dış aynalar ) iç dış ışık paketi far yıkama sistemi park mesafe kontrol ön arka far gece sensörü yağmur sensörü ön arka park mesafe sensörü alaşım jant onboard computer ön arka park mesafe sensörü aluminyum alaşımlı jantlar m sport jantlar vs vs vs vs vs vs vs vs vs vs vs vs vs vs yoktur\n",
      "\n"
     ]
    },
    {
     "name": "stderr",
     "output_type": "stream",
     "text": [
      "\r",
      "  9%|███████▌                                                                         | 28/300 [00:37<05:48,  1.28s/it]"
     ]
    },
    {
     "name": "stdout",
     "output_type": "stream",
     "text": [
      "\" araç borusan çıkışlı olup , borusan bakımlıdır . ilk sahibinden olup , tertemiz bir araçtır . bakımları yeni yapılmıştır . en ufak masrafı yoktur . aracın ilk günkü gibi temiz olup en ufak bir göçük vs vs vs vs vs vs vs vs vs vs yoktur\n",
      "\n"
     ]
    },
    {
     "name": "stderr",
     "output_type": "stream",
     "text": [
      "\r",
      " 10%|███████▊                                                                         | 29/300 [00:38<04:38,  1.03s/it]"
     ]
    },
    {
     "name": "stdout",
     "output_type": "stream",
     "text": [
      "\" 2012 model 5 . 25 x drive m sport borusan çıkışlı borusan bakımlı hatasız boyasız tramersiz ekspertiz bilgisi ; sağ ön çamurluk boyalı sağ arka kapı lokal boya ( sağ arka çamurluk ) tramer kaydı yoktur .\n",
      "\n"
     ]
    },
    {
     "name": "stderr",
     "output_type": "stream",
     "text": [
      "\r",
      " 10%|████████                                                                         | 30/300 [00:38<03:43,  1.21it/s]"
     ]
    },
    {
     "name": "stdout",
     "output_type": "stream",
     "text": [
      "\" 2012 bmw 5 . 25d xdrive m sport plus beyaz içi bej deri koltuk ısıtma elektrikli hafızalı koltuk koltuk ısıtma elektrikli direksiyon elektrikli direksiyon hafızalı sürücü koltuğu elektrikli yolcu koltuğu elektrikli hafızalı sürücü koltuğu elektrikli yolcu koltuğu ısıtmalı ön koltuklar elektrikli direksiyon ısıtma elektrikli direksiyon elektrikli arka perde elektrikli arka perde elektrikli katlanır aynalar elektrokrom iç ayna bluetooth telefon bağlantısı geri görüş kamerası park mesafe sensörü yağmur sensörü far sensörü arka park sensörü yağmur sensörü far yıkama sis farı çelik jantlar bluetooth telefon hazırlık sis farı alaşımlı jantlar vs vs vs vs vs vs vs vs vs vs vs vs vs vs vs vs vs vs\n",
      "\n"
     ]
    },
    {
     "name": "stderr",
     "output_type": "stream",
     "text": [
      "\r",
      " 10%|████████▎                                                                        | 31/300 [00:39<04:03,  1.11it/s]"
     ]
    },
    {
     "name": "stdout",
     "output_type": "stream",
     "text": [
      "\" araç model bilgisi ; bmw 5 . 20i executıve m paket hayalet gösterge vakumlu kapılar sunroof geri görüş kamerası fonksiyonel deri direksiyon elektrikli ısıtmalı hafızalı koltuklar elektrikli arka perde çift yönlü dijital klima ön arka park sensörü far yıkama far sensörü yağmur sensörü park sensörü far sensörü yağmur sensörü ön arka park sensörü usb aux girişi bluetooth telefon bağlantısı cd aux usb mp3 girişi bluetooth telefon bağlantısı velur halı paspas auto hold\n",
      "\n"
     ]
    },
    {
     "name": "stderr",
     "output_type": "stream",
     "text": [
      "\r",
      " 11%|████████▋                                                                        | 32/300 [00:40<03:52,  1.15it/s]"
     ]
    },
    {
     "name": "stdout",
     "output_type": "stream",
     "text": [
      "\" araç borusan çıkışlı olup , komple m paket , m paket , geri görüş kamerası , sunroof , , , , , , , , , , , , , , , , , , , , , , , , , , , , , , , , , , , , , , , , , , , , , , , , , , , , , , , , , , , , , , , , , , , , , , , , , , , , , , , , , , , , , , , , , , , , , , , , , , , , , , , , , , , , , , , , , , , , , , , , , , , , , , , , , , , , , , , , , , , , , , , , , , , , , , , , , , , , , , , , , , , , , , , , , , , , , , , , , , , , , , , , , , , , , , , , , , , , , , , , , , , , , , , , , , , , , , , , , , , , , , , , , , , , , , , , , , , , , , , , , , , , , , , , , , , , , , , , , , , , , , , , , , , , , , , , , , , , , , , , ,\n",
      "\n"
     ]
    },
    {
     "name": "stderr",
     "output_type": "stream",
     "text": [
      "\r",
      " 11%|████████▉                                                                        | 33/300 [00:43<07:04,  1.59s/it]"
     ]
    },
    {
     "name": "stdout",
     "output_type": "stream",
     "text": [
      "\" araç borusan çıkışlı olup , bakımları yetkili serviste yapılmıştır . araç temiz ve bakımlıdır . bütün bakımları yapılmıştır . muayenesi 2020 . 12 . aya kadar muayenesi mevcuttur .\n",
      "\n"
     ]
    },
    {
     "name": "stderr",
     "output_type": "stream",
     "text": [
      "\r",
      " 11%|█████████▏                                                                       | 34/300 [00:44<05:21,  1.21s/it]"
     ]
    },
    {
     "name": "stdout",
     "output_type": "stream",
     "text": [
      "\" araç borusan bayii olup hata boya değişen yoktur . tramer kaydı yoktur . sadece sağ ön çamurluk değişik , sağ ön kapı , sağ arka çamurluk lokal boya vardır . tramer kaydı yoktur . sadece araç takası olur .\n",
      "\n"
     ]
    },
    {
     "name": "stderr",
     "output_type": "stream",
     "text": [
      "\r",
      " 12%|█████████▍                                                                       | 35/300 [00:44<04:17,  1.03it/s]"
     ]
    },
    {
     "name": "stdout",
     "output_type": "stream",
     "text": [
      "\" 2012 model bmw 5 . 25 x drive comfort borusan çıkışlı sunroof bej deri döşeme elektrikli hafızalı koltuk elektrikli ön koltuklar hafızalı koltuk elektrikli koltuk koltuk ısıtma elektrikli arka perde elektrikli arka perde elektrikli yan ve arka perdeler ön ve arka park sensörü geri görüş kamerası bluetooth aux usb cd mp3 çalar usb aux giriş ön arka park sensörü arka perde elektrikli katlanır yan aynalar elektrikli arka perde yan protokol perde elektrikli katlanır ayna ön ve arka park sensörü far sensörü yağmur sensörü ön arka park sensörü elektrikli arka perde vs vs vs vs vs vs vs vs vs vs vs vs vs vs vs vs vs vs vs vs vs vs\n",
      "\n"
     ]
    },
    {
     "name": "stderr",
     "output_type": "stream",
     "text": [
      "\r",
      " 12%|█████████▋                                                                       | 36/300 [00:45<04:36,  1.05s/it]"
     ]
    },
    {
     "name": "stdout",
     "output_type": "stream",
     "text": [
      "\" araç borusan çıkışlı olup , hatasız , boyasız , tramersiz , tüm bakımları yapılmıştır . araç borusan bayi çıkışlıdır . araç ilk sahibinden olup , sadece sağ arka çamurlukta boya vardır . hasar kaydı yoktur . \"\n",
      "\n"
     ]
    },
    {
     "name": "stderr",
     "output_type": "stream",
     "text": [
      "\r",
      " 12%|█████████▉                                                                       | 37/300 [00:46<03:43,  1.18it/s]"
     ]
    },
    {
     "name": "stdout",
     "output_type": "stream",
     "text": [
      "\" araç bmw 5 . 20i premium 170 hp sunroof koltuk ısıtma elektrikli hafızalı koltuk elektrikli katlanır ayna bi xenon far far yıkama ön arka park sensörü geri görüş kamerası bluetooth usb aux giriş ön arka park sensörü yağmur sensörü far sensörü otomatik kararan dikiz aynası yol bilgisayarı fonksiyonel deri direksiyon elektrikli arka perde elektrikli katlanır ayna yağmur sensörü far sensörü ön arka park sensörü elektrikli bagaj kapağı 19 inç çelik jant sis farı ısofıx ımmobılızer aluminyum alaşımlı jantlar vs . kredi kartı geçerlidir . araçlarımız expertiz garantilidir . iletişim : 0532 559 15 45 50 peşin kalanı 12 12 24 36 aya kadar taksit seçeneği ve tek elden vadeli satışımız vardır . adres : istoç oto market n blok no : 16 mahmutbey bağcılar konum doğrudur ! ! ! diğer ilanlarımızı linki tıklayarak inceleyebilirsiniz https : . sahibinden . com \"\n",
      "\n"
     ]
    },
    {
     "name": "stderr",
     "output_type": "stream",
     "text": [
      "\r",
      " 13%|██████████▎                                                                      | 38/300 [00:47<04:32,  1.04s/it]"
     ]
    },
    {
     "name": "stdout",
     "output_type": "stream",
     "text": [
      "\" araç model bilgisi ; bmw 5 serisi 520d comfort 184 hp aracın özellikleri : sunroof bi xenon far far yıkama far sensörü yağmur sensörü ön arka park sensörü çift bölge dijital klima hız sabitleyici elektrikli katlanır yan aynalar elektrokrom iç ayna yağmur sensörü far sensörü ön arka park sensörü ön arka kol dayama ısofıx ımmobılızer elektrikli katlanır aynalar elektrikli camlar uzaktan kumandalı merkezi kilit ön kol dayama arka kol dayama isofix aracın tüm bakımları yapılmıştır\n",
      "\n"
     ]
    },
    {
     "name": "stderr",
     "output_type": "stream",
     "text": [
      "\r",
      " 13%|██████████▌                                                                      | 39/300 [00:48<04:14,  1.03it/s]"
     ]
    },
    {
     "name": "stdout",
     "output_type": "stream",
     "text": [
      "\" aracım 2015 model olup 2016 yılı ocak ayı trafiğe çıkmıştır . aracın bütün bakımları yapılmıştır . bmw nin en dolusu olup , lpg takılmamıştır . aracın sağ arka çamurluğunda boya vardır . haricinde boya yoktur . değişen yoktur . tramer kaydı yoktur . \"\n",
      "\n"
     ]
    },
    {
     "name": "stderr",
     "output_type": "stream",
     "text": [
      "\r",
      " 13%|██████████▊                                                                      | 40/300 [00:49<03:34,  1.21it/s]"
     ]
    },
    {
     "name": "stdout",
     "output_type": "stream",
     "text": [
      "\" sahibinden satılık bmw 5 . 20i premium 170 hp 8 ileri otomatik vites aracımız yetkili servis bakımlıdır . bakımları zamanında yapılmıştır .\n",
      "\n"
     ]
    },
    {
     "name": "stderr",
     "output_type": "stream",
     "text": [
      "\r",
      " 14%|███████████                                                                      | 41/300 [00:49<02:52,  1.50it/s]"
     ]
    },
    {
     "name": "stdout",
     "output_type": "stream",
     "text": [
      "\" araç model bilgisi ; bmw 5 serisi 520d comfort 184 hp 8 ileri otomatik şanzuman f1 vites sunroof koltuk ısıtma elektrikli hafızalı ön koltuklar elektrikli , ısıtmalı , hafızalı , elektrikli koltuklar katlanır aynalar , elektrikli arka perde elektrikli katlanır ayna iç dış ışık paket geri görüş kamerası ön arka park sensörü far sensörü yağmur sensörü far sensörü ön arka park sensörü arka kol dayama kararan dikiz aynası start stop anahtarsız çalıştırma start stop bluetooth telefon bağlantısı aux girişi usb aux bluetooth bağlantısı cd mp3 çalar usb aux girişi abs asr esp bi xenon farlar far yıkama far ve yağmur sensörü ön arka park sensörü far yıkama çift bölge dijital klima hız sabitleyici ve sınırlayıcı fonksiyonel direksiyon deri direksiyon park sensörü yağmur sensörü far sensörü ön arka park sensörü elektrikli arka perde elektrikli yan aynalar otomatik kararan dikiz aynası far gece sensörü yağmur sensörü ön arka park sensörü ön sis farları far yıkama sis farı elektrikli arka perde ön arka kol dayama elektrikli arka perde elektrikli arka perde sis farı çelik jant sis farı far yıkama sis farı çelik jant sis farı cd mp3 çalar usb aux girişi bluetooth telefon bağlantısı aux ın usb girişi\n",
      "\n"
     ]
    },
    {
     "name": "stderr",
     "output_type": "stream",
     "text": [
      "\r",
      " 14%|███████████▎                                                                     | 42/300 [00:51<04:32,  1.06s/it]"
     ]
    },
    {
     "name": "stdout",
     "output_type": "stream",
     "text": [
      "\" araç model bilgisi ; bmw 5 serisi gran coupe m sport plus 1 . 6 motor 170 hp 8 ileri şanzuman sunroof geri görüş kamerası ön iki koltuk ısıtma elektrikli bagaj hayalet ekran vakumlu kapılar sunroof bej deri döşeme koltuk ısıtma elektrikli hafızalı koltuklar elektrikli arka perde elektrikli arka perde sunroof çift yönlü dijital klima ısıtmalı ön koltuklar elektrikli ayarlanır direksiyon hız sabitleyici elektrikli arka perde elektrikli katlanır ayna yağmur sensörü far sensörü ön arka park sensörü far sensörü yağmur sensörü ön arka park sensörü geri görüş kamerası aracımızın sol ön çamurluğu ve arka sağ arka çamurluğunda boya vardır . tramer kaydı yoktur . \"\n",
      "\n"
     ]
    },
    {
     "name": "stderr",
     "output_type": "stream",
     "text": [
      "\r",
      " 14%|███████████▌                                                                     | 43/300 [00:52<04:38,  1.08s/it]"
     ]
    },
    {
     "name": "stdout",
     "output_type": "stream",
     "text": [
      "\" 2015 bmw 5 . 25d xdrive m sport plus 1 . 6 motor 170 hp 8 ileri otomatik vites sunroof deri koltuk koltuk ısıtma elektrikli direksiyon ön koltuk ısıtma elektrikli arka perde elektrikli arka perde yan makam perdeleri elektrikli arka perde elektrikli arka perde elektrikli katlanır ayna far sensörü yağmur sensörü start stop bluetooth telefon hazırlık sis farı ışık paket , start & stop kararan dikiz aynası abs asr esp radyo cd aux çalar yol bilgisayarı fonksiyonel deri direksiyon otomatik far sensörü yağmur sensörü ön arka park sensörü fonksiyonel deri direksiyon elektrikli arka perde elektrikli arka perde hava yastıkları ön yolcu yan perde hava yastıkları ön yolcu yan hava yastıkları ön yolcu hava yastığı yan hava yastıkları ısofıx çocuk koltuğu ön arka kol dayama arka perde hava yastıkları run flat lastikler arka park sensörü lastik basınç sensörü arka kol dayama arka perde hava yastıkları run flat lastikler yeni aracın tüm ağır bakımları yapılmıştır .\n",
      "\n"
     ]
    },
    {
     "name": "stderr",
     "output_type": "stream",
     "text": [
      "\r",
      " 15%|███████████▉                                                                     | 44/300 [00:53<05:11,  1.22s/it]"
     ]
    },
    {
     "name": "stdout",
     "output_type": "stream",
     "text": [
      "\" aracım hatasız boyasızdır . tüm ağır bakımları yapılmıştır . aracım temiz ve bakımlıdır . hiç bir masrafı yoktur . iç dış m sport paket ( ışık paket ) . elektrikli hafızalı sürücü koltuğu . elektrikli arka perde . çift yönlü dijital klima . anahtarsız çalıştırma . start stop . anahtarsız çalıştırma . eco , comfort , sport , sport sürüş modu . eco sürüş modu . eco comfort sport sport plus sürüş modları . 8 ileri joystick yeni nesil şanzıman . anahtarsız çalıştırma . eco comfort sport sport plus sürüş modu . eco comfort sürüş modu . eco comfort sport sürüş modu bi xenon farlar iç dış ışık paket ön arka park sensörü far yıkama far sensörü yağmur sensörü far sensörü ön arka park sensörü bi xenon farlar far yıkama ön arka park sensörü yağmur sensörü far sensörü far yıkama elektrikli katlanır ayna fonksiyonel deri direksiyon çift yönlü dijital klima hız sabitleyici bluetooth telefon bağlantısı usb aux giriş çıkış elektrikli arka perde sis farı çelik jant sis farı alaşımlı jantlar vs . vs . vs . vs . vs . vs . ekspertiz : değişen boyanan parçası yoktur . sağ arka çamurlukta lokal boya vardır . harici hatasız boyasızdır . hasar kaydı yoktur . ​\n",
      "\n"
     ]
    },
    {
     "name": "stderr",
     "output_type": "stream",
     "text": [
      "\r",
      " 15%|████████████▏                                                                    | 45/300 [00:56<06:26,  1.51s/it]"
     ]
    },
    {
     "name": "stdout",
     "output_type": "stream",
     "text": [
      "\" ​ ilk sahibinden satılık bmw 5 . 20i premium m sport plus aracımız yetkili servis bakımlıdır . bakımları yeni yapılmıştır . muayenesi yeni yapılmıştır .\n",
      "\n"
     ]
    },
    {
     "name": "stderr",
     "output_type": "stream",
     "text": [
      "\r",
      " 15%|████████████▍                                                                    | 46/300 [00:56<04:49,  1.14s/it]"
     ]
    },
    {
     "name": "stdout",
     "output_type": "stream",
     "text": [
      "\" araç kosifler çıkışlıdır . aracın tüm bakımları yapılmıştır . muayenesi yenidir . alan kişi masraf yapmadan kullanacaktır . aracımızda değişen olmayıp 4 lastiği ve muayenesi mevcuttur . tramer kaydı yoktur . takas sadece nakit satılıktır . \"\n",
      "\n"
     ]
    },
    {
     "name": "stderr",
     "output_type": "stream",
     "text": [
      "\r",
      " 16%|████████████▋                                                                    | 47/300 [00:56<03:59,  1.06it/s]"
     ]
    },
    {
     "name": "stdout",
     "output_type": "stream",
     "text": [
      "\" aracımız temiz ve bakımlıdır . bakımları yapılmıştır . muayenesi 2020 yılına kadar geçerlidir . yedek anahtarı mevcut . alıcısına şimdiden hayırlı olsun .\n",
      "\n"
     ]
    },
    {
     "name": "stderr",
     "output_type": "stream",
     "text": [
      "\r",
      " 16%|████████████▉                                                                    | 48/300 [00:57<03:05,  1.36it/s]"
     ]
    },
    {
     "name": "stdout",
     "output_type": "stream",
     "text": [
      "\" ilk sahibinden bmw 5 . 20i premium 170 hp borusan çıkışlı sunroof hayalet gösterge vakumlu kapılar elektrikli bagaj hayalet ekran vakumlu kapılar elektrikli bagaj hayalet ekran elektrikli bagaj vakumlu kapılar elektrikli bagaj kapağı geri görüş kamerası elektrikli direksiyon hafızalı koltuk ısıtmalı ön koltuklar elektrikli direksiyon ön arka park sensörü geri görüş kamerası bluetooth telefon start stop eco sport sürüş modu auto hold yokuş kalkış desteği yağmur sensörü far sensörü ön arka park sensörü elektrikli katlanır ayna elektrokrom iç ayna far yıkama yağmur sensörü far sensörü ön arka park sensörü yol bilgisayarı ön ve arka park sensörü yağmur sensörü far sensörü ön arka kol dayama ısofıx 18 inç çelik jantlar vs . vs . vs . aracımız istenilen yere gösterilebilir .\n",
      "\n"
     ]
    },
    {
     "name": "stderr",
     "output_type": "stream",
     "text": [
      "\r",
      " 16%|█████████████▏                                                                   | 49/300 [00:58<03:53,  1.08it/s]"
     ]
    },
    {
     "name": "stdout",
     "output_type": "stream",
     "text": [
      "\" araç borusan bayi çıkışlı olup , tüm bakımları borusan yetkili serviste yapılmıştır .\n",
      "\n"
     ]
    },
    {
     "name": "stderr",
     "output_type": "stream",
     "text": [
      "\r",
      " 17%|█████████████▌                                                                   | 50/300 [00:58<02:55,  1.42it/s]"
     ]
    },
    {
     "name": "stdout",
     "output_type": "stream",
     "text": [
      "\" sahibinden satılık bmw 5 . 20i premium 170 hp 8 ileri otomatik vites sunroof deri koltuk koltuk ısıtma elektrikli direksiyon elektrikli arka perde geri görüş kamerası ön arka park sensörü elektrikli arka perde elektrikli arka perde elektrikli katlanır ayna ön arka park sensörü geri görüş kamerası bluetooth usb aux giriş ön arka park sensörü elektrikli arka perde yan protokol perde elektrikli yan aynalar otomatık kararan dikiz aynası far sensörü yağmur sensörü sis farı isofix \"\n",
      "\n"
     ]
    },
    {
     "name": "stderr",
     "output_type": "stream",
     "text": [
      "\r",
      " 17%|█████████████▊                                                                   | 51/300 [00:59<03:06,  1.33it/s]"
     ]
    },
    {
     "name": "stdout",
     "output_type": "stream",
     "text": [
      "\" araç borusan çıkışlı olup , borusan bakımlı olup , ilk günkü gibi temiz kullanılmıştır . kesinlikle değişen yok . sadece sağ ön çamurluk , sol ön çamurluk , sol arka kapı boyalı , sağ arka kapı boyalı , sağ arka çamurluk lokal boyalı . ön tampon boyalı , sol ön çamurluk , sol arka kapı , sağ arka çamurluk , sol arka kapı lokal boya var , tramer kaydı yok . \"\n",
      "\n"
     ]
    },
    {
     "name": "stderr",
     "output_type": "stream",
     "text": [
      "\r",
      " 17%|██████████████                                                                   | 52/300 [01:00<03:03,  1.35it/s]"
     ]
    },
    {
     "name": "stdout",
     "output_type": "stream",
     "text": [
      "aracım 2015 model bmw 5 . 20i premium 2013 model 5 . 25d xdrive m sport modelidir . . aracın kasko değeri 239 . 000 tl dir . aracımız 2012 model olup , borusan çıkışlıdır . yedek anahtarı ve kitapçıkları mevcuttur . araç özellikleri ; sunroof abs esp asr start stop bej deri döşeme elektrikli katlanır ayna yağmur sensörü far sensörü ön arka park sensörü far yıkama far sensörü yağmur sensörü ön arka park sensörü ön arka kol dayama usb aux girişi bluetooth telefon bağlantısı aux ın usb girişi hız sabitleyici ve sınırlayıcı yagmur ve far sensörü kararan iç dikiz aynası ve daha bir çok özellik .\n",
      "\n"
     ]
    },
    {
     "name": "stderr",
     "output_type": "stream",
     "text": [
      "\r",
      " 18%|██████████████▎                                                                  | 53/300 [01:01<03:27,  1.19it/s]"
     ]
    },
    {
     "name": "stdout",
     "output_type": "stream",
     "text": [
      "\" araç ilk sahibinden olup , tramer kaydı yoktur . sadece sağ arka kapısında lokal boya vardır . hasar kaydı yoktur . kredi kartına 9 taksit imkanı vardır . % 100 expertiz raporu , tramer kaydı yoktur . \"\n",
      "\n"
     ]
    },
    {
     "name": "stderr",
     "output_type": "stream",
     "text": [
      "\r",
      " 18%|██████████████▌                                                                  | 54/300 [01:01<02:55,  1.41it/s]"
     ]
    },
    {
     "name": "stdout",
     "output_type": "stream",
     "text": [
      "\" sahibinden satılık , araç borusan bayii çıkışlıdır . aracımız hatasız boyasızdır . değişen parçası yoktur . sadece sağ ön çamurluk lokal boya vardır . harici hatasız boyasızdır . hasar kaydı yoktur .\n",
      "\n"
     ]
    },
    {
     "name": "stderr",
     "output_type": "stream",
     "text": [
      "\r",
      " 18%|██████████████▊                                                                  | 55/300 [01:02<02:26,  1.68it/s]"
     ]
    },
    {
     "name": "stdout",
     "output_type": "stream",
     "text": [
      "\" 2016 bmw 5 . 20i premium borusan çıkışlı borusan bakımlı hatasız boyasız hasar kayıtsız borusan bayi çıkışlı dış renk ; beyaz iç renk : bej deri koltuklar sunroof ön arka park mesafe kontrol geri görüş kamerası elektrikli arka perde elektrokrom iç ayna sesli komut sistemi bluetooth telefon bağlantısı iç dış ışık paketi dijital çift bölgeli klima fonksiyonel spor deri direksiyon bluetooth katlanır arka kolt . başlıkları radyo bmw cd , bmw acil durum çağrısı s . o . s bmw teleservıces bmw professional müzik sistemi ( ekstra ) donanım listesi ; hayalet ekran soft close ( vakumlu ) kapılar ( busıness paket ) elektrikli arka perde yan protokol perdeler geri görüş kamerası elektrikli arka perde elektrikli hafızalı koltuklar ısıtmalı koltuklar ön ve arka kol dayama bluetooth telefon hazırlık sis farı alaşımlı jantlar elektrikli arka perde elektrikli katlanır yan aynalar elektrokrom iç ayna sesli uyarı sistemi far yağmur sensörü far gece sensörü park mesafe sensörü ön ve arka park mesafe sensörü yağmur sensörü otomatik kararan dikiz aynası ve daha sayamadığım bir çok özellik . \"\n",
      "\n"
     ]
    },
    {
     "name": "stderr",
     "output_type": "stream",
     "text": [
      "\r",
      " 19%|███████████████                                                                  | 56/300 [01:04<04:14,  1.04s/it]"
     ]
    },
    {
     "name": "stdout",
     "output_type": "stream",
     "text": [
      "\" 2012 bmw 5 . 20i premium otomatik vites sunroof deri koltuk koltuk ısıtma elektrikli arka perde elektrikli arka perde yan makam perdeleri koltuk ısıtma elektrikli hafızalı koltuk elektrikli arka perde çift bölge dijital klima ön arka park sensörü far sensörü yağmur sensörü far sensörü elektrikli katlanır aynalar ön arka park sensörü far sensörü yağmur sensörü ön arka park sensörü yağmur sensörü far sensörü sis farı çelik jant park sensörü yağmur sensörü far sensörü sis farı cd mp3 çalar usb aux giriş abs esp asr start stop merkezi kilit immobilizer çelik jant sis farı çelik jant sis farı çelik jant vs vs vs vs vs vs vs vs vs \"\n",
      "\n"
     ]
    },
    {
     "name": "stderr",
     "output_type": "stream",
     "text": [
      "\r",
      " 19%|███████████████▍                                                                 | 57/300 [01:05<04:23,  1.09s/it]"
     ]
    },
    {
     "name": "stdout",
     "output_type": "stream",
     "text": [
      "\" 2012 model bmw 5 . 25d xdrive m sport plus sunroof elektrikli yükseklik ve derinlik ayarlı direksiyon fonksiyonel deri direksiyon elektrikli arka perde elektrikli katlanır ayna ön ve arka park sensörü geri görüş kamerası bluetooth usb aux girişi cd changer ön ve arka park sensörü far yağmur sensörü far yıkama sis farı ısofıx vs vs vs vs vs vs vs vs vs vs vs vs vs vs gibi önemli değil\n",
      "\n"
     ]
    },
    {
     "name": "stderr",
     "output_type": "stream",
     "text": [
      "\r",
      " 19%|███████████████▋                                                                 | 58/300 [01:06<03:54,  1.03it/s]"
     ]
    },
    {
     "name": "stdout",
     "output_type": "stream",
     "text": [
      "\" 2012 model bmw 5 . 25d xdrive comfort dış renk : beyaz iç renk : bej deri döşeme : sunroof deri koltuk koltuk ısıtma elektrikli hafızalı ön koltuklar koltuk ısıtma ön koltuk ısıtma elektrikli hafızalı koltuk ön koltuk ısıtma elektrikli direksiyon elektrikli hafızalı ön koltuklar ısıtmalı ön koltuklar hafızalı sürücü koltuğu elektrikli yolcu koltuğu ısıtmalı ön koltuklar elektrikli arka perde elektrikli arka perde elektrikli katlanır ayna elektrokrom iç ayna sesli uyarı sistemi far yağmur sensörü ön sis farları alaşım jant onboard computer ön arka park mesafe sensörü aluminyum alaşımlı jantlar elektrikli , ısıtmalı aynalar elektrikli , ısıtmalı aynalar elektrikli camlar uzaktan kumandalı merkezi kilit ön kol dayama arka kol dayama isofix aracın sağ arka çamurluğunda yarım parça boya vardır . sağ arka kapı ve sağ arka çamurluk lokal boyalı . sol arka çamurluk yarım parça boya mevcuttur . tramer kaydı yoktur . araç özellikleri ; sunroof bi xenon farlar ön arka park mesafe kontrol geri görüş kamerası elektrikli katlanır ayna elektrokrom iç ayna ön ve arka kol dayama park mesafe sensörü yağmur sensörü far sensörü park mesafe sensörü , servotronic direksiyon , start & stop anahtarsız çalıştırma ışık paket araç iniş , binişinde aydınlatma ön ve arka park sensörü far sensörü yağmur sensörü arka park sensörü \"\n",
      "\n"
     ]
    },
    {
     "name": "stderr",
     "output_type": "stream",
     "text": [
      "\r",
      " 20%|███████████████▉                                                                 | 59/300 [01:08<05:32,  1.38s/it]"
     ]
    },
    {
     "name": "stdout",
     "output_type": "stream",
     "text": [
      "\" 2016 model bmw 5 . 25d xdrive premium dış m paket borusan bayi çıkışlı sunroof hayalet ekran vakumlu kapılar elektrikli bagaj hayalet ekran vakumlu kapılar elektrikli bagaj kapağı geri görüş kamerası elektrikli bagaj vakumlu kapılar hayalet ekran elektrikli bagaj kapağı vakumlu kapılar elektrikli bagaj kapağı geri görüş kamerası vakumlu kapılar hayalet ekran elektrikli bagaj f1 vites sunroof geri görüş kamerası elektrikli katlanır ayna bi xenon far gündüz led farları far yıkama elektrikli katlanır ayna yağmur sensörü far sensörü ön arka park sensörü elektrikli arka perde velur halı paspas bagaj kapagı led sis farları far yıkama ön arka park sensörü far gece sensörü yağmur sensörü ve sensörü start & stop anahtarsız çalıştırma ışık paket cd çalar usb aux girişi abs asr esp radyo cd çalar yol bilgisayarı fonksiyonel deri direksiyon alarm sistemi elektrikli camlar uzaktan kumandalı merkezi kilit ön kol dayama arka kol dayama isofix mevcuttur aracın tüm ağır bakımları yapılmıştır aracın tüm bakımları yapılmıştır aracın detaylı iç temizliği ve boya koruma yapılmıştır . tramer kaydı yoktur . \"\n",
      "\n"
     ]
    },
    {
     "name": "stderr",
     "output_type": "stream",
     "text": [
      "\r",
      " 20%|████████████████▏                                                                | 60/300 [01:10<06:22,  1.59s/it]"
     ]
    },
    {
     "name": "stdout",
     "output_type": "stream",
     "text": [
      "\" otomotiv den 2013 model bmw 5 . 25d xdrive premıum borusan bayi çıkışlı borusan bakımlı sunroof hayalet ekran vakumlu kapılar elektrikli bagaj hayalet gösterge vakumlu kapılar hayalet ekran vakumlu kapılar elektrikli bagaj hayalet ekran vakumlu kapılar elektrikli bagaj kapağı koltuk ısıtma elektrikli arka perde elektrikli hafızalı sürücü koltuğu ısıtmalı ön koltuklar hafızalı sürücü koltuğu elektrikli yolcu koltuğu ısıtmalı ön koltuklar elektrikli direksiyon ayarı ön arka kol dayama elektrikli katlanır aynalar elektrikli arka perde çift bölge dijital klima elektrikli katlanır ayna yağmur sensörü far sensörü ön arka park sensörü elektrikli arka perde elektrikli arka perde yan protokol perde yan makam perdeleri elektrikli arka perde elektrikli yan aynalar arka perde elektrikli arka perde sis farı far yıkama yağmur sensörü far sensörü ön arka park sensörü far yıkama ön arka kol dayama isofix ekspertiz : hatasız boyasız hasarsız hasar kaydı yoktur\n",
      "\n"
     ]
    },
    {
     "name": "stderr",
     "output_type": "stream",
     "text": [
      "\r",
      " 20%|████████████████▍                                                                | 61/300 [01:11<06:11,  1.55s/it]"
     ]
    },
    {
     "name": "stdout",
     "output_type": "stream",
     "text": [
      "\" 2014 model bmw 5 . 25d xdrive premium m sport plus modelidir . aracımız borusan çıkışlı olup , servis bakımlıdır . bakımları yetkili serviste yapılmıştır . araçta kesinlikle değişen yoktur . tramer kaydı yoktur . araç özellikleri : sunroof deri koltuk ısıtma elektrikli direksiyon elektrikli arka perde yan protokol perdeler elektrikli arka perde elektrikli arka perde elektrikli arka perde dakota deri döşeme elektrikli hafızalı koltuklar elektrikli direksiyon ön arka park sensörü geri görüş kamerası ön arka park sensörü far sensörü yağmur sensörü far sensörü ön arka park sensörü geri görüş kamerası fonksiyonel direksiyon hız sabitleyici elektrikli arka perde elektrikli arka perde elektrikli direksiyon ayarı elektrikli katlanır ayna yağmur sensörü far sensörü otomatik kararan dikiz aynası elektrikli katlanır aynalar elektrikli arka perde yol bilgisayarı elektrikli katlanır aynalar kararan dikiz ayna yağmur sensörü far sensörü ön arka park sensörü çift yönlü dijital klima elektrikli arka perde sis farı far sensörü yağmur sensörü ön arka park sensörü elektrikli arka perde abs asr esp radyo cd çalar yol bilgisayarı fonksiyonel direksiyon elektrikli arka perde elektrikli arka perde elektrikli arka perde yan makam perdeleri elektrikli arka perde elektrikli arka perde dijital klima yol bilgisayarı yağmur sensörü far sensörü ön arka park sensörü elektrikli arka perde bluetooth usb aux bağlantı elektrikli katlanır aynalar elektrikli arka perde elektrikli arka perde yan makam perdeleri kararan dikiz aynası aux ın usb girişi dijital klima abs asr esp start stop ön arka kol dayama elektrikli arka perde yan makam perdeleri elektrikli arka perde elektrikli arka perde bi xenon far far yıkama far sensörü yağmur sensörü ön arka park sensörü ​\n",
      "\n"
     ]
    },
    {
     "name": "stderr",
     "output_type": "stream",
     "text": [
      "\r",
      " 21%|████████████████▋                                                                | 62/300 [01:14<07:48,  1.97s/it]"
     ]
    },
    {
     "name": "stdout",
     "output_type": "stream",
     "text": [
      "\" araç ışık paket , 3 farklı sürüş modu , keyless go ( anahtarsız çalıştırma ) , start stop , anahtarsız çalıştırma , far yıkama , ısıtmalı ön koltuklar , elektrikli arka perde , elektrikli katlanır ayna , elektrokrom iç dış aynalar , far yıkama , cd , mp3 , usb , aux , servotronic direksiyon , start & stop , stop , anahtarsız çalıştırma , start stop , anahtarsız çalıştırma , start stop , anahtarsız çalıştırma , ışık paket , gelişmiş gösterge paneli , abs , asr , esp , radyo cd çalar , otomatik kapı klit fonksiyonu ( kapılar açıkken araç hareket etmez ) patlamaz lastik yol bilgisayarı , lastik basınç sensörü , lastik basınç sensörü , arka park sensörü , far sensörü , yağmur sensörü , far sensörü , far sensörü , yağmur sensörü , park sensörü , kararan dikiz aynası , geri görüş kamerası , ön arka park sensörü , ön arka park sensörü , ışık paketi , sis farı , yağmur sensörü , kararan dikiz aynası , far ve yağmur sensörü , kararan iç dikiz aynası ve daha birçok özellik . \"\n",
      "\n"
     ]
    },
    {
     "name": "stderr",
     "output_type": "stream",
     "text": [
      "\r",
      " 21%|█████████████████                                                                | 63/300 [01:16<07:47,  1.97s/it]"
     ]
    },
    {
     "name": "stdout",
     "output_type": "stream",
     "text": [
      "\" aracımız 2012 model olup , 5 parça boya , değişen , hasar kaydı yok , sadece sağ arka çamurlukta lokal boya vardır . değişen ve boyanan parçası yoktur . \"\n",
      "\n"
     ]
    },
    {
     "name": "stderr",
     "output_type": "stream",
     "text": [
      "\r",
      " 21%|█████████████████▎                                                               | 64/300 [01:17<05:53,  1.50s/it]"
     ]
    },
    {
     "name": "stdout",
     "output_type": "stream",
     "text": [
      "\" araç borusan çıkışlı olup , bayii çıkışlıdır . yedek anahtarı ve kitapçıkları mevcuttur . araç özellikleri : sunroof bi xenon farlar led gündüz farları dijital klima elektrikli arka perde elektrikli arka perde elektrikli katlanır ayna yağmur sensörü far sensörü far yıkama far sensörü yağmur sensörü ön arka park sensörü otomatik kararan dikiz aynası elektrikli arka perde yan makam perdeleri elektrikli arka perde elektrikli katlanır ayna yağmur sensörü far sensörü far yıkama ön arka park sensörü geri görüş kamerası aracımız tamamen orjinal hatasız boyasız hasar kayıtsız borusan bakımlı ( hatasız boyasız ) . araç donanım özellikleri ; sunroof adaptive led far led arka stoplar elektrikli katlanır ayna elektrikli arka perde geri görüş kamerası elektrikli katlanır ayna çift yönlü dijital klima elektrikli arka perde elektrikli arka perde elektrikli arka perde yan makam perdeleri elektrikli arka perde elektrikli katlanır ayna yağmur sensörü far sensörü ön arka park sensörü ön arka kol dayama arka perde sis farı çelik jant sis farı far sensörü yağmur sensörü ön arka park sensörü ön arka park sensörü elektrikli arka perde yan makam perdeleri kararan dikiz aynası elektrikli arka perde elektrikli arka perde elektrikli yan aynalar 4 cam otomatik ön arka kol dayama elektrikli arka perde sis farı çelik jant sis farı far yıkama far sensörü yağmur sensörü ön arka park sensörü ön arka kol dayama arka kol dayama aracımız çok temiz ve bakımlı ve masrafsızdır .\n",
      "\n"
     ]
    },
    {
     "name": "stderr",
     "output_type": "stream",
     "text": [
      "\r",
      " 22%|█████████████████▌                                                               | 65/300 [01:19<06:55,  1.77s/it]"
     ]
    },
    {
     "name": "stdout",
     "output_type": "stream",
     "text": [
      "\" bmw 5 . 25d xdrive m sport beyaz içi bej deri koltuk sunroof deri döşeme koltuk ısıtma elektrikli hafızalı koltuklar elektrikli arka perde elektrikli arka perde bi xenon farlar far yıkama çift bölge dijital klima cd çalar anahtarsız çalıştırma start stop eco sport sport plus sürüş modları gündüz ledleri far sensörü yağmur sensörü ön arka park sensörü 4 farklı sürüş modu eco comfort sport sürüş modları elektronik el freni auto hold yokuş kalkış desteği yağmur sensörü ön arka park sensörü otomatik kararan iç dikiz aynası abs esp asr esp radyo cd çalar yol bilgisayarı fonksiyonel direksiyon elektrikli perde hava yastıkları alarm ımmobılızer elektrikli , ısıtmalı aynalar elektrikli camlar uzaktan kumandalı merkezi kilit ön kol dayama arka kol dayama ön kol dayama arka kol dayama isofix mevcuttur ekspertiz : aracın kasko değeri : 7 . 000tl tramer kaydı vardır . \"\n",
      "\n"
     ]
    },
    {
     "name": "stderr",
     "output_type": "stream",
     "text": [
      "\r",
      " 22%|█████████████████▊                                                               | 66/300 [01:21<06:26,  1.65s/it]"
     ]
    },
    {
     "name": "stdout",
     "output_type": "stream",
     "text": [
      "\" araç 2012 model bmw 5 . 25 d x drive premium paket sunroof hayalet ekran elektrikli ısıtmalı koltuklar hafızalı koltuk elektrikli koltuk ısıtmalı ön koltuklar elektrikli sürücü yolcu koltuğu ısıtmalı ön koltuklar elektrikli direksiyon ön ve arka kol dayama bi xenon far far yıkama ön ve arka park sensörü yağmur sensörü far sensörü far yıkama sis farı ışık paket bluetooth aux usb cd mp3 çalar cd changer aux ın usb girişi abs asr esp airbag yağmur sensörü far sensörü ön arka park sensörü elektrikli katlanır ayna elektrikli arka perde elektrikli arka perde sis farı far yıkama led sis farı yol bilgisayarı ön arka kol dayama ısofıx aracımızda sadece sol arka çamurluk lokal boya vardır harici hatasız boyasızdır . tramer kaydı yoktur .\n",
      "\n"
     ]
    },
    {
     "name": "stderr",
     "output_type": "stream",
     "text": [
      "\r",
      " 22%|██████████████████                                                               | 67/300 [01:22<05:53,  1.52s/it]"
     ]
    },
    {
     "name": "stdout",
     "output_type": "stream",
     "text": [
      "\" araç borusan bayi çıkışlıdır . değişen parçası yoktur . aracın bütün bakımları yapılmıştır . masrafsız bir araçtır . içi dışı tertemiz bir araçtır . aracın yedek anahtarı kitapçıkları mevcuttur . muayenesi 10 . 02 . 2019 tarihine kadar geçerlidir . yedek anahtarı kitapçıkları mevcuttur .\n",
      "\n"
     ]
    },
    {
     "name": "stderr",
     "output_type": "stream",
     "text": [
      "\r",
      " 23%|██████████████████▎                                                              | 68/300 [01:22<04:48,  1.24s/it]"
     ]
    },
    {
     "name": "stdout",
     "output_type": "stream",
     "text": [
      "\" araç borusan çıkışlı olup , yetkili servis bakımlıdır . bakımları yeni yapılmıştır . aracın ilk günkü gibi sıfır ayarındadır . araç borusan bakımlıdır . aracın tüm bakımları yapılmıştır . aracın üzerinde kışlık lastikleri vardır . üzerinde kışlık lastikleri vardır . üzerinde 4 adet jant ve lastik vardır . aracın üzerinde orjinal jant ve lastik takımı verilecektir . aracın bakımları yeni yapılmıştır . aracın üzerinde kışlık jant lastik vardır . yedek anahtar ve kitapçıkları mevcuttur . not : takas olur . \"\n",
      "\n"
     ]
    },
    {
     "name": "stderr",
     "output_type": "stream",
     "text": [
      "\r",
      " 23%|██████████████████▋                                                              | 69/300 [01:23<04:17,  1.12s/it]"
     ]
    },
    {
     "name": "stdout",
     "output_type": "stream",
     "text": [
      "\" araç 2012 model 5 . 20i premium pakettir . hatasız boyasız değişensiz . hasar kaydı yoktur . tüm bakımları yetkili serviste yapılmıştır . en full modelidir . hayalet ekran vakumlu kapılar ve elektrikli bagaj kapağı . elektrikli hafızalı koltuk . koltuk ısıtma . elektrikli hafızalı koltuk . elektrikli direksiyon . geri görüş kamerası . elektrikli arka perde . elektrikli katlanır aynalar . elektrikli arka perde . elektrikli arka perde . elektrikli perde . elektrikli katlanır ayna . . otomatik kararan dikiz aynası . . . otomatik far sensörü . . . yağmur sensörü . . . .\n",
      "\n"
     ]
    },
    {
     "name": "stderr",
     "output_type": "stream",
     "text": [
      "\r",
      " 23%|██████████████████▉                                                              | 70/300 [01:24<04:04,  1.06s/it]"
     ]
    },
    {
     "name": "stdout",
     "output_type": "stream",
     "text": [
      "\" ​ ​ bmw 5 . 20i premium aracımız borusan çıkışlı olup bakımlı ve masrafsızdır . aracımız yetkili servis bakımlıdır . bakımları yeni yapılmıştır .\n",
      "\n"
     ]
    },
    {
     "name": "stderr",
     "output_type": "stream",
     "text": [
      "\r",
      " 24%|███████████████████▏                                                             | 71/300 [01:24<03:09,  1.21it/s]"
     ]
    },
    {
     "name": "stdout",
     "output_type": "stream",
     "text": [
      "\" araç model bilgisi ; 2017 bmw 5 . 20i premium 170 hp borusan çıkışlı hayalet ekran vakumlu kapılar sunroof elektrikli hafızalı koltuk elektrikli ısıtmalı ön koltuklar elektrikli arka perde elektrikli arka perde elektrikli arka perde bluetooth usb aux bluetooth telefon hazırlık sis farı alaşımlı jantlar elektrikli arka perde ön arka park sensörü far gece sensörü yağmur sensörü ön arka park sensörü ​\n",
      "\n"
     ]
    },
    {
     "name": "stderr",
     "output_type": "stream",
     "text": [
      "\r",
      " 24%|███████████████████▍                                                             | 72/300 [01:25<03:00,  1.27it/s]"
     ]
    },
    {
     "name": "stdout",
     "output_type": "stream",
     "text": [
      "\" araç model bilgisi ; bmw 5 serisi 520d comfort 184 hp borusan çıkışlı sunroof deri koltuk dijital klima ön arka park sensörü far sensörü yağmur sensörü far sensörü ön arka park sensörü elektrikli arka perde elektrikli katlanır ayna yağmur sensörü far sensörü ön arka park sensörü çift bölge dijital klima fonksiyonel deri direksiyon hız sabitleyici ve sınırlayıcı elektirikli direksiyon ön ve arka kol dayama ön sis farları ön ve arka park sensörü yağmur sensörü far gece sensörü far sensörü ön ve arka park sensörü elektrikli arka perde hava yastıkları alarm ımmobılızer elektrikli camlar uzaktan kumandalı merkezi kilit ön kol dayama arka kol dayama isofix iç ambians lambası akustik kemer uyarsı kararan dikiz aynası aux usb auto hold \"\n",
      "\n"
     ]
    },
    {
     "name": "stderr",
     "output_type": "stream",
     "text": [
      "\r",
      " 24%|███████████████████▋                                                             | 73/300 [01:26<03:35,  1.05it/s]"
     ]
    },
    {
     "name": "stdout",
     "output_type": "stream",
     "text": [
      "\" araç model bilgisi ; bmw 5 serisi 520d comfort 184 hp 8 ileri otomatik vites sunroof deri koltuk koltuk ısıtma elektrikli direksiyon elektrikli ısıtmalı aynalar elektrikli arka perde elektrikli katlanır aynalar elektrikli arka perde geri görüş kamerası ön arka park sensörü far sensörü yağmur sensörü far sensörü ön arka park sensörü çift bölgeli dijital klima hız sabitleyici çift bölgeli dijital klima ön arka kol dayama park sensörü yağmur sensörü far sensörü otomatik kararan dikiz aynası start stop çift bölge dijital klima abs asr esp asr esp radyo cd çalar yol bilgisayarı fonksiyonel deri direksiyon otomatik kararan dikiz aynası elektrikli arka perde elektrikli arka perde elektrikli yan ayna aux ın usb sunroof otomatik kararan dikiz aynası elektrikli arka perde elektrikli arka perde yan makam perdeleri elektrikli arka perde elektrikli arka perde yan makam perdeleri elektrikli arka perde elektrikli ve ısıtmalı ön koltuklar hafızalı sürücü koltuğu elektrikli yolcu koltuğu ısıtmalı ön koltuklar elektrikli katlanır ayna far yıkama yağmur sensörü far sensörü park sensörü ön arka kol dayama ısofıx ımmobılızer elektrikli katlanır aynalar aracımız 2012 model bmw 5 . 25d xdrive premium bayi çıkışlı sunroof cd aux usb bluetooth telefon elektrikli arka perde elektrikli katlanır ayna far yağmur sensörü ön arka park sensörü far sensörü sis farı çelik jant sis farı çelik jant sis farı çelik jant sis farı alaşımlı jantlar vs vs vs vs vs vs vs vs vs vs vs vs vs vs vs vs vs takası yoktur adres : istoç oto market blok no : 14 gebze kocaeli \"\n",
      "\n"
     ]
    },
    {
     "name": "stderr",
     "output_type": "stream",
     "text": [
      "\r",
      " 25%|███████████████████▉                                                             | 74/300 [01:29<05:12,  1.38s/it]"
     ]
    },
    {
     "name": "stdout",
     "output_type": "stream",
     "text": [
      "\" sahibinden satılık bmw 5 . 20i premium 170 hp borusan çıkışlı borusan bakımlı hayalet gösterge vakumlu kapılar hayalet gösterge büyük ekran geri görüş kamerası elektrikli hafızalı koltuk koltuk ısıtma elektrikli katlanır aynalar elektrikli arka perde çift yönlü dijital klima abs esp asr yol bilgisayarı bi xenon far far yıkama ön arka park sensörü yağmur sensörü ön arka park sensörü geri görüş kamerası park sensörü elektrikli arka perde sis farı çelik jant sis farı çelik jant sis farı far sensörü yağmur sensörü ön arka park sensörü elektrikli katlanır aynalar 4 cam otomatik elektrikli aynalar fonksiyonel deri direksiyon ön arka kol dayama ön arka park sensörü yol bilgisayarı fonksiyonel deri direksiyon ısıtmalı aynalar ön arka park sensörü ön arka kol dayama ısofıx ımmobılızer aluminyum alaşımlı jantlar elektrikli , ısıtmalı aynalar elektrikli camlar uzaktan kumandalı merkezi kilit ön kol dayama arka kol dayama ön arka kol dayama ön arka sis farı çelik jantlar vs . vs . vs . \"\n",
      "\n"
     ]
    },
    {
     "name": "stderr",
     "output_type": "stream",
     "text": [
      "\r",
      " 25%|████████████████████▎                                                            | 75/300 [01:30<05:21,  1.43s/it]"
     ]
    },
    {
     "name": "stdout",
     "output_type": "stream",
     "text": [
      "\" araç borusan çıkışlı olup , servis bakımlıdır . bakımları yeni yapılmıştır . araçta seramik kaplama , boya , kaza , değişen , tramer kaydı yoktur . \"\n",
      "\n"
     ]
    },
    {
     "name": "stderr",
     "output_type": "stream",
     "text": [
      "\r",
      " 25%|████████████████████▌                                                            | 76/300 [01:31<04:03,  1.08s/it]"
     ]
    },
    {
     "name": "stdout",
     "output_type": "stream",
     "text": [
      "\" 2012 model bmw 5 . 25d xdrive m sport plus aracımız borusan çıkışlı olup yetkili servis bakımlıdır . aracımızda değişen yoktur . tramer kaydı : 8 . 000 tl dir ve tüm evrakları mevcuttur . aracın yedek anahtarı mevcuttur . aracın tüm bakımları yapılmıştır . muayenesi yenidir . muayenesi yeni yapılmıştır . aracın yedek anahtarı ve kitapçıkları mevcuttur . aracın yedek anahtarı ve kitapçıkları mevcuttur . aracın üzerinde sıfır ayarında kışlık lastikleri vardır . üzerinde kışlık lastik vardır . aracın tüm bakımları yapılmıştır . aracın tüm bakımları yetkili serviste yapılmıştır . en ufak masrafı yoktur . aracın iç ve dış kondisyonu çok iyi durumdadır . motor , şanzuman ve yürüyen aksamı kusursuzdur . aracın tüm bakımları yapılmıştır . aracın 4 lastiği sıfırdır . muayenesi mevcuttur .\n",
      "\n"
     ]
    },
    {
     "name": "stderr",
     "output_type": "stream",
     "text": [
      "\r",
      " 26%|████████████████████▊                                                            | 77/300 [01:32<04:10,  1.12s/it]"
     ]
    },
    {
     "name": "stdout",
     "output_type": "stream",
     "text": [
      "\" borusan çıkışlı 2014 model bmw 5 . 25d xdrive m sport bayi çıkışlı sunroof hayalet gösterge vakumlu kapılar elektrikli bagaj hayalet ekran vakumlu kapılar elektrikli bagaj hayalet ekran vakumlu kapılar elektrikli bagaj hayalet ekran geri görüş kamerası ön arka park sensörü geri görüş kamerası elektrikli ısıtmalı hafızalı ön koltuklar elektrikli direksiyon elektrikli arka perde elektrikli katlanır aynalar elektrikli arka perde elektrikli arka perde elektrikli arka perde bi xenon farlar far yıkama yağmur sensörü far sensörü ön arka park sensörü far yıkama far sensörü yağmur sensörü ön arka park sensörü ön arka kol dayama ısofıx araç bilgisi hatasız boyasız hasar kaydı yoktur\n",
      "\n"
     ]
    },
    {
     "name": "stderr",
     "output_type": "stream",
     "text": [
      "\r",
      " 26%|█████████████████████                                                            | 78/300 [01:33<03:59,  1.08s/it]"
     ]
    },
    {
     "name": "stdout",
     "output_type": "stream",
     "text": [
      "\" araç borusan çıkışlıdır . 2 . sahibiyim . bütün bakımları yetkili serviste yapılmıştır . aracın tüm bakımları eksiksiz yapılmıştır .\n",
      "\n"
     ]
    },
    {
     "name": "stderr",
     "output_type": "stream",
     "text": [
      "\r",
      " 26%|█████████████████████▎                                                           | 79/300 [01:33<03:01,  1.22it/s]"
     ]
    },
    {
     "name": "stdout",
     "output_type": "stream",
     "text": [
      "\" ilk sahibinden borusan çıkışlı 2016 bmw 5 . 20i premium 170 hp 8 ileri joystick vites sunroof elektrikli bagaj geri görüş kamerası hafızalı koltuk elektrikli arka perde elektrikli katlanır ayna bi xenon far far yıkama far sensörü yağmur sensörü ön arka park sensörü bluetooth telefon usb aux girişi bluetooth telefon bağlantısı\n",
      "\n"
     ]
    },
    {
     "name": "stderr",
     "output_type": "stream",
     "text": [
      "\r",
      " 27%|█████████████████████▌                                                           | 80/300 [01:34<02:41,  1.36it/s]"
     ]
    },
    {
     "name": "stdout",
     "output_type": "stream",
     "text": [
      "\" araç borusan çıkışlı olup , borusan bakımlı olup , ilk yardım çantası , comfort , eco , sport , sport , sürüş modları , çift yönlü dijital klima , start stop , anahtarsız çalıştırma , start stop , anahtarsız çalıştırma , ışık paket , yokuş kalkış desteği , hız sabitleyici , hız sabitleyici , bluetooth , aux , usb , cd , mp3 , aux , usb , bluetooth , cd çalar , aux , usb , cd , aux , usb , bluetooth , cd , mp3 , usb , bluetooth , bluetooth , aux , servotronic direksiyon , start & stop , anahtarsız çalıştırma , sis farı , yağmur sensörü , far sensörü , gelişmiş gösterge paneli , abs , asr , esp , asr , esp , radyo cd çalar , yol bilgisayarı , fonksiyonel direksiyon , elektrikli arka perde , elektrikli , ısıtmalı aynalar , elektrikli katlanır aynalar , elektrikli , ısıtmalı , hafızalı , katlanır , elektrikli katlanır ayna , kararan dikiz aynası , far sensörü , yağmur sensörü , kararan dikiz aynası , elektrikli katlanır ayna , far ve yağmur sensörü , park sensörü , kararan iç dikiz aynası , elektirikli arka perde , yan makam perdeleri , elektrikli arka perde , elektrikli katlanır aynalar , elektrikli katlanır ayna , kararan iç dikiz aynası , otomatik far , yağmur sensörü , far sensörü , sis farı , yağmur sensörü , far yıkama , ışık paket , dijital klima , sunroof , vs vs vs vs vs vs vs vs vs vs vs vs vs vs vs vs vs vs vs \"\n",
      "\n"
     ]
    },
    {
     "name": "stderr",
     "output_type": "stream",
     "text": [
      "\r",
      " 27%|█████████████████████▊                                                           | 81/300 [01:36<04:47,  1.31s/it]"
     ]
    },
    {
     "name": "stdout",
     "output_type": "stream",
     "text": [
      "\" araç bilgileri tramer kaydı yoktur . plaka açık sorgulama yapabilirsiniz . aracın tüm bakımları yapılmıştır . aracın iç dış ve motor sıfır ayarındadır . araçta sadece sağ arka çamurlukta boya vardır . hasar kaydı yoktur . sadece sağ ön çamurluk değişmiştir . tramer kaydı yoktur . boya ve değişen yoktur . aracın üzerinde kışlık lastikleri vardır . yanında 4 adet yedek anahtarı vardır . araç fazlalığından satılıktır .\n",
      "\n"
     ]
    },
    {
     "name": "stderr",
     "output_type": "stream",
     "text": [
      "\r",
      " 27%|██████████████████████▏                                                          | 82/300 [01:37<04:10,  1.15s/it]"
     ]
    },
    {
     "name": "stdout",
     "output_type": "stream",
     "text": [
      "\" araç borusan çıkışlı olup , orjinal km dedir . aracın bütün bakımları yapılmıştır . aracın tüm bakımları yapılmıştır . aracın üzerinde 2 adet yedek anahtarı mevcuttur . araç özellikleri : sunroof bi xenon farlar far yıkama far ve yağmur sensörü ön arka park sensörü geri görüş kamerası ön arka park sensörü far sensörü yağmur sensörü ön arka park sensörü geri görüş kamerası elektirikli arka perde sis farı çelik jant sis farı alaşımlı çelik jantlar vs . vs . vs . vs vs vs vs vs vs vs vs vs vs vs vs vs vs vs yoktur\n",
      "\n"
     ]
    },
    {
     "name": "stderr",
     "output_type": "stream",
     "text": [
      "\r",
      " 28%|██████████████████████▍                                                          | 83/300 [01:38<04:00,  1.11s/it]"
     ]
    },
    {
     "name": "stdout",
     "output_type": "stream",
     "text": [
      "\" sahibinden satılık bmw 4 . 18i grand coupe m sport plus beyaz içi bej deri döşeme sunroof elektrikli perde elektrikli hafızalı sürücü koltuğu elektrikli yolcu koltuğu ısıtmalı ön koltuklar elektrikli direksiyon ısıtma elektrikli direksiyon elektrikli arka perde elektrikli arka perde yan protokol perdeler geri görüş kamerası bluetooth telefon bağlantısı fonksiyonel spor direksiyon m sport ön koltuklar ısıtmalı ön koltuklar elektrikli katlanır ayna yağmur sensörü far sensörü ön arka park sensörü far sensörü yağmur sensörü ön ve arka park sensörü alaşımlı jantlar arka park sensörü far gece sensörü yağmur sensörü ön ve arka park sensörü ön ve arka kol dayama ısofıx 18 m sport alaşım jantlar\n",
      "\n"
     ]
    },
    {
     "name": "stderr",
     "output_type": "stream",
     "text": [
      "\r",
      " 28%|██████████████████████▋                                                          | 84/300 [01:39<04:02,  1.12s/it]"
     ]
    },
    {
     "name": "stdout",
     "output_type": "stream",
     "text": [
      "araç hatasız boyasız değişensiz hasar kayıtsız borusan bayi çıkışlı dış renk : beyaz iç renk : bej deri döşeme : sunroof deri koltuk ısıtma ön arka park sensörü geri görüş kamerası bluetooth telefon bağlantısı hafızalı sürücü koltuğu elektrikli yolcu koltuğu ısıtmalı ön koltuklar elektrikli arka perde elektrokrom iç ve dış aynalar elektrokrom iç ayna sesli uyarı sistemi far yağmur sezici aux ipod girişi ekspertiz bilgisi : hatasız boyasız tramer bilgisi : tramer kaydı yoktur . donanım listesi : hayalet ekran soft close ( vakumlu kapılar ) hayalet gösterge ( soft close ) vakumlu kapılar ( soft close ) hayalet ekran geri görüş kamerası elektrikli arka perde elektrikli katlanır ayna elektrokrom iç ayna sesli uyarı sistemi elektrikli arka perde bluetooth telefon bağlantısı usb aux cd mp3 çalar usb aux girişi bluetooth telefon bağlantısı fonksiyonel deri direksiyon hız sabitleme sistemi yağmur sensörü ön ve arka park sensörü ön arka kol dayama ısofıx ımmobılızer aluminyum alaşımlı jantlar vs vs vs vs vs vs vs vs vs vs detaylı bilgi için arayınız\n",
      "\n"
     ]
    },
    {
     "name": "stderr",
     "output_type": "stream",
     "text": [
      "\r",
      " 28%|██████████████████████▉                                                          | 85/300 [01:41<04:40,  1.31s/it]"
     ]
    },
    {
     "name": "stdout",
     "output_type": "stream",
     "text": [
      "\" 2012 model bmw 5 . 20i premium m sport plus 1 . 6 170 hp 8 ileri otomatik vites aracımız da boya değişen yoktur . tramer kaydı yoktur . sadece sağ ön çamurluk ve kaput boyalıdır . haricinde kesinlikle boya yoktur . tüm bakımları yapılmıştır . en ufak bir masrafı yoktur . aracın bütün bakımları yapılmıştır . muayenesi yenidir . aracın üzerinde kışlık lastikleri vardır . üzerinde kışlık jant lastik vardır . aracın üzerinde kışlık lastikleri vardır . aracın orjinal rengi özel renktir . aracın yedek anahtarı vardır . aracın tüm bakımları yapılmıştır . muayenesi kasım da yapılmıştır . aracımızın yedek anahtarı ve kitapçıkları mevcuttur . araç özellikleri ; bi xenon farlar , far yıkama , far yıkama , far sensörü , yağmur sensörü , park sensörü , ön arka park sensörü , geri görüş kamerası , far yıkama , hız sabitleyici , elektrikli arka perde , ışık paket , ön ve arka park sensörü , yağmur sensörü , far sensörü , far yıkama , bluetooth , aux , usb , bluetooth , cd , aux , usb , bluetooth , radyo cd çalar , otomatik kapı klit fonksiyonu ( kapılar açıkken araç hareket etmez ) patlamaz lastik yol bilgisayarı , fonksiyonel direksiyon , arka kol dayama , arka kol dayama , isofix mevcuttur . tramer kaydı yoktur . \"\n",
      "\n"
     ]
    },
    {
     "name": "stderr",
     "output_type": "stream",
     "text": [
      "\r",
      " 29%|███████████████████████▏                                                         | 86/300 [01:43<05:30,  1.54s/it]"
     ]
    },
    {
     "name": "stdout",
     "output_type": "stream",
     "text": [
      "\" araç 2012 model bmw 5 . 25d xdrive m sport plus modelidir . bakımları yeni yapılmıştır . araç servis bakımlıdır . bakımları zamanında yapılmıştır . içi ve dışı ilk günkü gibi temiz olup herhangi bir masrafı yoktur . alan kişi hiç bir sıkıntısı yoktur . araç fazlalığından satılıktır .\n",
      "\n"
     ]
    },
    {
     "name": "stderr",
     "output_type": "stream",
     "text": [
      "\r",
      " 29%|███████████████████████▍                                                         | 87/300 [01:44<04:23,  1.24s/it]"
     ]
    },
    {
     "name": "stdout",
     "output_type": "stream",
     "text": [
      "\" araç ilk sahibinden olup , servis bakımlıdır . bakımları yeni yapılmıştır . aracın tüm ağır bakımları yapılmıştır . aracın motor , şanzıman ve yürüyen aksamı kusursuzdur . lastikleri sıfırdır . muayenesi yenidir . aracın tüm ağır bakımları yapılmıştır . aracın tüm bakımları yapılmıştır . muayenesi yenidir . alan kişi masrafsız binecektir . araç başında pazarlık payı vardır . \"\n",
      "\n"
     ]
    },
    {
     "name": "stderr",
     "output_type": "stream",
     "text": [
      "\r",
      " 29%|███████████████████████▊                                                         | 88/300 [01:44<03:40,  1.04s/it]"
     ]
    },
    {
     "name": "stdout",
     "output_type": "stream",
     "text": [
      "\" bmw 5 . 20i premium m sport borusan çıkışlı borusan bakımlı yedek anahtarı kitapçıkları yedek anahtarı mevcuttur\n",
      "\n"
     ]
    },
    {
     "name": "stderr",
     "output_type": "stream",
     "text": [
      "\r",
      " 30%|████████████████████████                                                         | 89/300 [01:44<02:45,  1.27it/s]"
     ]
    },
    {
     "name": "stdout",
     "output_type": "stream",
     "text": [
      "\" otomotiv 2014 bmw 5 . 20i premium m sport plus 1 . 6 170 hp 8 ileri otomatik vites sunroof deri döşeme elektrikli hafızalı sürücü koltuğu elektrikli yolcu koltuğu ısıtmalı ön koltuklar hafızalı sürücü koltuğu koltuk ısıtma elektrikli arka perde elektrikli açılır cam tavan elektrikli arka perde elektrikli arka perde elektrikli katlanır yan aynalar elektrokrom iç ayna bluetooth aux usb bluetooth aux elektrikli arka perde elektrikli katlanır yan aynalar elektrokrom iç ayna sesli uyarı sistemi far yağmur sensörü arka park mesafe kontrol ön arka sis farı far gece sensörü yağmur sensörü büyük bilgilendirme ekranı gelişmiş gösterge paneli abs esp asr esp radyo cd çalar otomatik kapı kilit fonksiyonu dijital gösterge paneli elektrikli camlar uzaktan kumandalı merkezi kilit ön kol dayama arka kol dayama aracımız yetkili bayii borusan çıkışlı olup bütün bakımları yapılmıştır . aracın tüm bakımları yapılmıştır . muayenesi 2020 12 . ayına kadardır . takas sadece fiyatı farklıdır .\n",
      "\n"
     ]
    },
    {
     "name": "stderr",
     "output_type": "stream",
     "text": [
      "\r",
      " 30%|████████████████████████▎                                                        | 90/300 [01:46<03:40,  1.05s/it]"
     ]
    },
    {
     "name": "stdout",
     "output_type": "stream",
     "text": [
      "\" araç model bilgisi ; bmw 5 . 20i comfort plus 1 . 6 170 hp 8 ileri otomatik vites sunroof , bi xenon far , far yıkama , bluetooth , aux , usb , servotronic direksiyon , katlanır ayna , ışık paket , yokuş kalkış desteği , hız sabitleyici , bluetooth , aux , usb , cd , mp3 , aux , usb , cd çalar , anahtarsız çalıştırma , start stop , anahtarsız çalıştırma , sis farı , yağmur sensörü , kararan iç dikiz aynası , abs , asr , esp , radyo cd çalar , yol bilgisayarı , fonksiyonel direksiyon , far sensörü , yağmur sensörü , park sensörü , ön arka park sensörü , çift yönlü dijital klima , ısıtmalı ön koltuklar , elektrikli arka perde , elektrikli katlanır aynalar , elektronik park freni , araç iniş , binişinde aydınlatma ön ve arka kol dayama , isofix mevcuttur . \"\n",
      "\n"
     ]
    },
    {
     "name": "stderr",
     "output_type": "stream",
     "text": [
      "\r",
      " 30%|████████████████████████▌                                                        | 91/300 [01:48<04:11,  1.20s/it]"
     ]
    },
    {
     "name": "stdout",
     "output_type": "stream",
     "text": [
      "\" araç model bilgisi ; bmw 5 . 20i premium boyasız hatasız boyasız tramersiz hayalet gösterge vakumlu kapılar hayalet ekran geri görüş kamerası vakumlu kapılar elektrikli bagaj hayalet ekran vakumlu kapılar elektrikli bagaj kapağı geri görüş kamerası elektrikli hafızalı ısıtmalı koltuklar elektrikli arka perde elektrikli bagaj kapağı geri görüş kamerası ön ve arka park sensörü elektrikli ısıtmalı katlanır aynalar elektrikli arka perde bi xenon farlar far yıkama far sensörü yağmur sensörü ön arka park sensörü ön arka kol dayama isofix yetkili servis bakımlı olup boya değişen yoktur tramer kaydı yoktur . tramer kaydı yoktur . aracımızın tüm araçlarımız expertiz garantilidir .\n",
      "\n"
     ]
    },
    {
     "name": "stderr",
     "output_type": "stream",
     "text": [
      "\r",
      " 31%|████████████████████████▊                                                        | 92/300 [01:49<04:01,  1.16s/it]"
     ]
    },
    {
     "name": "stdout",
     "output_type": "stream",
     "text": [
      "\" araç borusan çıkışlı olup , borusan bakımlı olup , servis bakımlıdır . boya , değişen , hasar kaydı yoktur . aracın tüm bakımları yapılmıştır . aracın iç dış detaylı temizliği yapılmıştır . aracın tüm özellikleri vardır . aracın özellikleri ; sunroof ( ön arka ) ön ve arka park mesafe kontrol bi xenon farlar far yıkama sistemi far yağmur sensörü ön arka park sensörü elektrikli arka perde bluetooth telefon bağlantısı usb aux girişi abs asr esp ön ve arka park sensörü far gece sensörü park sensörü yağmur sensörü far yıkama ön arka kol dayama park sensörü ​\n",
      "\n"
     ]
    },
    {
     "name": "stderr",
     "output_type": "stream",
     "text": [
      "\r",
      " 31%|█████████████████████████                                                        | 93/300 [01:50<03:53,  1.13s/it]"
     ]
    },
    {
     "name": "stdout",
     "output_type": "stream",
     "text": [
      "\" araç borusan çıkışlı olup , servis bakımlıdır . bakımları yeni yapılmıştır . aracın ilk günkü gibi sıfır yapılmıştır . aracın sadece sol arka çamurlukta lokal boya vardır . tramer kaydı yoktur . \"\n",
      "\n"
     ]
    },
    {
     "name": "stderr",
     "output_type": "stream",
     "text": [
      "\r",
      " 31%|█████████████████████████▍                                                       | 94/300 [01:50<03:03,  1.12it/s]"
     ]
    },
    {
     "name": "stdout",
     "output_type": "stream",
     "text": [
      "\" 2014 model bmw 5 . 25 x drive premium borusan çıkışlı borusan bakımlı hatasız boyasız tramersiz hayalet ekran vakumlu kapılar sunroof elektrikli hafızalı koltuk koltuk ısıtma elektrikli arka perde elektrikli arka perde çift yönlü dijital klima 4 koltuk ısıtma elektrikli arka perde elektrikli arka perde elektrikli katlanır ayna elektrikli arka perde elektrikli bagaj kapagı bi xenon far gündüz led stop far yıkama 4 farklı sürüş modu eco comfort sport sürüş modları auto hold start stop anahtarsız çalıştırma bi xenon farlar ön arka park sensörü far yıkama sistemi ön arka park sensörü far sensörü yağmur sensörü far sensörü elektrikli katlanır ayna yağmur sensörü ön arka park sensörü far sensörü yağmur sensörü ön arka park sensörü elektrikli katlanır yan aynalar arka makam perdeleri arka perde arka park sensörü ön arka kol dayama ısofıx ımmobılızer aluminyum alaşımlı jantlar elektrikli arka camlar uzaktan kumandalı merkezi kilit ön kol dayama arka kol dayama isofix aracın tüm ağır bakımları yapılmıştır .\n",
      "\n"
     ]
    },
    {
     "name": "stderr",
     "output_type": "stream",
     "text": [
      "\r",
      " 32%|█████████████████████████▋                                                       | 95/300 [01:52<03:41,  1.08s/it]"
     ]
    },
    {
     "name": "stdout",
     "output_type": "stream",
     "text": [
      "\" sahibinden satılık . bmw 5 . 20i premium 170 hp borusan bayi çıkışlı dış renk : beyaz iç renk : bej deri koltuk ısıtma elektrikli direksiyon geri görüş kamerası ön arka park sensörü ön arka park sensörü elektrikli arka perde elektrikli katlanır yan aynalar elektrikli arka perde elektrikli katlanır ayna elektrokrom iç ayna bluetooth usb aux bağlantısı cd çalar usb aux girişi bluetooth telefon bağlantısı aux girişi bluetooth telefon hazırlık sis farı alaşımlı jantlar bluetooth telefon usb aux girişi bluetooth telefon bağlantısı fonksiyonel deri direksiyon hız sabitleyici ve sınırlayıcı fonksiyonel direksiyon elektrikli arka perde sis farı alaşımlı jantlar vs . vs . vs . vs . vs vs . vs . takas yoktur .\n",
      "\n"
     ]
    },
    {
     "name": "stderr",
     "output_type": "stream",
     "text": [
      "\r",
      " 32%|█████████████████████████▉                                                       | 96/300 [01:53<03:43,  1.09s/it]"
     ]
    },
    {
     "name": "stdout",
     "output_type": "stream",
     "text": [
      "\" 2012 model bmw 5 . 25d xdrive premium borusan çıkışlı sunroof bej deri döşeme hayalet ekran vakumlu kapılar elektrikli bagaj hayalet ekran vakumlu kapılar elektrikli hafızalı koltuk koltuk ısıtma elektrikli direksiyon elektrikli arka perde elektrikli arka perde elektrikli katlanır ayna geri görüş kamerası bluetooth usb aux bluetooth telefon bağlantısı usb aux giriş bluetooth telefon hazırlık sis farı alaşımlı jantlar elektrikli arka perde elektrikli arka perde yan protokol perde elektrikli arka perde yan makam perdeleri kararan iç dikiz aynası aux ın usb girişi bluetooth telefon bağlantısı aux girişi dijital klima hız sabitleyici elektrikli ayarlanır direksiyon ön ve arka park sensörü yağmur sensörü far gece sensörü ön ve arka park sensörü otomatik kararan dikiz aynası far sensörü yağmur sensörü far sensörü park sensörü yağmur sensörü ışık paketi yokuş kalkış desteği ( anti patinaj ) patinaj önleme sistemi ( ) asr ( anti patinaj sistemi ) patinaj önleme sistemi ) ( asr ) aydınlatmalı torpido gözü bakım aralığı göstergesi bilgi ekranlı gösterge tablosu elektronik denge programı ( esp ) esp ( elektronik süspansiyon iptali ) ön arka kol dayama torpido soğutma ( on arka ) otomatik klima ( ekranlı 2 ) fren cruise control ( hız sabitleme ) ısofıx çocuk kilidi ısofıx çocuk koltuğu bağlantısı ebd fren balatası ve hıza duyarlı direksiyon sistemi hold fonksiyonuna sahip adaptif fren sistemi ımmobilizer isofix çocuk koltuğu bağlantıları manuel yükseklik ayarlı direksiyon kolonu ön hava yastıkları ön yolcu koltuğunda doluluk sensörü elektirikli ayarlanabilir sürücü ve yolcu koltuğu torpido gözünde aux girişi torpido gözünde usb arayüzü cd mp3 arayüzü yan hava yastıkları run flat lastikler\n",
      "\n"
     ]
    },
    {
     "name": "stderr",
     "output_type": "stream",
     "text": [
      "\r",
      " 32%|██████████████████████████▏                                                      | 97/300 [01:55<05:03,  1.49s/it]"
     ]
    },
    {
     "name": "stdout",
     "output_type": "stream",
     "text": [
      "\" aracım hatasız boyasızdır . en dolu modelidir . aracımızın motoru , yürüyen aksamı , çok iyi durumdadır . kesinlikle sigara içilmemiştir . yedek anahtarı , kitapçıkları , yedek anahtarı , kitapçıkları ve yedek anahtarı mevcuttur . \"\n",
      "\n"
     ]
    },
    {
     "name": "stderr",
     "output_type": "stream",
     "text": [
      "\r",
      " 33%|██████████████████████████▍                                                      | 98/300 [01:55<03:55,  1.17s/it]"
     ]
    },
    {
     "name": "stdout",
     "output_type": "stream",
     "text": [
      "\" 2014 bmw 5 . 25d xdrive m sport bayi çıkışlı borusan bakımlı hatasız boyasız tramersiz içi bej deri döşeme sunroof elektrikli ısıtmalı hafızalı koltuk ön arka kol dayama elektrikli direksiyon hafızalı sürücü koltuğu elektrikli yolcu koltuğu ısıtmalı ön koltuklar hafızalı sürücü koltuğu elektrikli yolcu koltuğu ısıtmalı ön koltuklar hafızalı sürücü koltuğu elektrikli yolcu koltuğu elektrikli ısıtmalı ön koltuklar ısıtmalı ön koltuklar hafızalı sürücü koltuğu elektrikli yolcu koltuğu ısıtmalı ön koltuklar hafızalı sürücü koltuğu elektrikli yolcu koltuğu ısıtmalı ön koltuklar elektrikli katlanır yan aynalar elektrokrom iç ayna sürüş modları türkçe ön panel gelişmiş gösterge paneli m deri direksiyon m aerodinamik paket parlak dış kaplama antrasit tavan döşemesi parlak siyah dış kaplama antrasit tavan döşemesi spor süspansiyon iptali spor süspansiyon iptali spor süspansiyon iptali otomatik şanzıman 8 ileri elektrikli cam tavan \"\n",
      "\n"
     ]
    },
    {
     "name": "stderr",
     "output_type": "stream",
     "text": [
      "\r",
      " 33%|██████████████████████████▋                                                      | 99/300 [01:57<03:59,  1.19s/it]"
     ]
    },
    {
     "name": "stdout",
     "output_type": "stream",
     "text": [
      "\" bmw 5 . 20i premium 170 hp borusan çıkışlı borusan bakımlı hatasız boyasız tramersiz kazasız değişensiz boyasız tramersiz bmw 5 . 20i premium plus 1 . 6 motor 170 hp 8 ileri otomatik şanzuman sunroof hayalet ekran vakumlu kapılar geri görüş kamerası elektrikli ısıtmalı hafızalı koltuk elektrikli ısıtmalı ön koltuklar elektrikli direksiyon ayarı elektrikli arka perde elektrikli arka perde yan protokol perdeler elektrikli arka perde yan makam perdeleri arka elektrikli perde elektrikli katlanır aynalar elektrikli arka perde çift bölge dijital klima hız sabitleyici aydınlatma paketi iç dış ışık paketi dijital çift bölgeli klima fonksiyonel spor deri direksiyon bluetooth telefon bağlantısı usb aux bluetooth telefon hazırlık sis farı alaşımlı jantlar elektrikli arka perde elektrikli katlanır yan aynalar far sensörü yağmur sensörü ön arka park sensörü fonksiyonel deri direksiyon hız sabitleyici ve sınırlayıcı fonksiyonel direksiyon elektrikli arka perde sis farı çelik jant sis farı çelik jantlar vs vs vs vs vs vs vs vs vs vs vs vs vs vs vs daha detaylı bilgi için arayınız .\n",
      "\n"
     ]
    },
    {
     "name": "stderr",
     "output_type": "stream",
     "text": [
      "\r",
      " 33%|██████████████████████████▋                                                     | 100/300 [01:58<04:27,  1.34s/it]"
     ]
    },
    {
     "name": "stdout",
     "output_type": "stream",
     "text": [
      "\" 2014 bmw 5 . 25d xdrive m sport hayalet ekran vakumlu kapılar hayalet ekran elektrikli bagaj f1 vites koltuk ısıtma elektrikli hafızalı koltuk elektrikli arka perde elektrikli arka perde elektrikli katlanır ayna bi xenon far far yıkama far sensörü yağmur sensörü park sensörü bluetooth usb aux bağlantısı cd aux usb bluetooth telefon bağlantısı yokuş kalkış desteği elektrikli arka perde yan makam perdeleri kararan dikiz aynası aux girişi bluetooth telefon bağlantısı aux girişi usb arayüzü yan hava yastıkları ön kol dayama ısofıx çocuk koltuğu bağlantısı ısofıx ımmobılızer aluminyum alaşımlı jantlar elektrikli , ısıtmalı aynalar elektrikli camlar uzaktan kumandalı merkezi kilit ön kol dayama arka kol dayama isofix aracın motor , şanzıman ve yürüyen aksamı kusursuzdur . aracın tüm bakımları yapılmıştır . aracın çalışmayan aksamı yoktur . aracın içi dışı ilk günkü gibi olup içi dışı ilk günkü gibi temiz olup bakımlıdır . aracın içi dışı ilk günkü kadar temiz olup bakımlıdır . muayenesi kasım 2020 ye kadar muayenesi vardır . takas yoktur . takas fiyatı farklıdır . üste para alacağım için takas olur .\n",
      "\n"
     ]
    },
    {
     "name": "stderr",
     "output_type": "stream",
     "text": [
      "\r",
      " 34%|██████████████████████████▉                                                     | 101/300 [02:00<04:53,  1.48s/it]"
     ]
    },
    {
     "name": "stdout",
     "output_type": "stream",
     "text": [
      "\" 2014 model bmw 5 . 25d xdrive premium m sport borusan çıkışlı sunroof hayalet gösterge vakumlu kapılar elektrikli bagaj hayalet gösterge vakumlu kapılar elektrikli bagaj geri görüş kamerası geniş ekran vakumlu kapılar hayalet ekran vakumlu kapılar elektrikli bagaj sunroof elektrikli bagaj geri görüş kamerası elektrikli hafızalı koltuklar ısıtmalı ön koltuklar elektrikli arka perde elektrikli arka perde elektrikli katlanır ayna ön arka park sensörü far yıkama yağmur sensörü far sensörü ön arka park sensörü elektrikli arka perde elektrikli arka perde yan makam perdeleri kararan dikiz aynası elektrikli arka perde elektrikli arka perde elektrikli arka perde yan makam perdeleri elektrikli arka perde elektrikli arka perde elektrikli arka perde yan makam perdeleri elektrikli arka perde elektrikli arka perde yan makam perdeleri elektrikli katlanır ayna yağmur sensörü far ve arka park sensörü elektrikli katlanır ayna bi xenon far far yıkama start stop anahtarsız çalıştırma 4 farklı sürüş modu eco comfort sport sürüş modları elektrikli hafızalı koltuklar ön arka kol dayama ön kol dayama elektrikli arka perde yan makam perdeleri kararan dikiz aynası elektrikli katlanır ayna sunroof elektrikli arka perde elektrikli katlanır yan aynalar elektrikli arka perde yan makam perdeleri elektrikli arka perde elektrikli katlanır ayna yağmur sensörü far sensörü ön arka park sensörü far yıkama far sensörü yağmur sensörü ön arka park sensörü geri görüş kamerası auto hold yokuş kalkış desteği elektrikli camlar uzaktan kumandalı merkezi kilit ön kol dayama ısofıx ımmobılızer aluminyum alaşımlı jantlar vs . vs vs vs vs vs vs vs vs vs \"\n",
      "\n"
     ]
    },
    {
     "name": "stderr",
     "output_type": "stream",
     "text": [
      "\r",
      " 34%|███████████████████████████▏                                                    | 102/300 [02:03<05:49,  1.76s/it]"
     ]
    },
    {
     "name": "stdout",
     "output_type": "stream",
     "text": [
      "\" sahibinden satılık bmw 1 . 16d efficientdynamics 6 ileri otomatik vites , sunroof , geri görüş kamerası , hafızalı koltuk , ısıtmalı ön koltuklar , elektrikli arka perde , elektrikli direksiyon , anahtarsız çalıştırma , start stop , anahtarsız çalıştırma , start stop , anahtarsız çalıştırma , start stop , bluetooth , usb , aux , servotronic direksiyon , start & stop , anahtarsız çalıştırma , ışık paket , bluetooth , aux , servotronic direksiyon , start & stop , anahtarsız çalıştırma ışık paket , dijital klima , abs , asr , esp , radyo cd çalar , yol bilgisayarı , fonksiyonel deri direksiyon , elektrikli arka perde , elektrikli arka perde , elektrikli arka perde , elektrikli katlanır ayna , yağmur ve far sensörü , kararan iç dikiz aynası , ışık paketi , led sis farları , elektirikli arka perde , yan makam perdeleri , elektrikli arka perde , katlanır ayna , ışık paket , kapı kollarında aydınlatma vb . vb . vb . vb . vb . \"\n",
      "\n"
     ]
    },
    {
     "name": "stderr",
     "output_type": "stream",
     "text": [
      "\r",
      " 34%|███████████████████████████▍                                                    | 103/300 [02:04<05:45,  1.76s/it]"
     ]
    },
    {
     "name": "stdout",
     "output_type": "stream",
     "text": [
      "\" 2017 model bmw 5 . 20i premium premium borusan çıkışlı borusan bakımlı . hatasız boyasız tramersiz kazasız boyasız değişensiz tramersiz kazasız boyasız değişensiz tramersiz f1 vites koltuk ısıtma elektrikli hafızalı koltuk elektrikli koltuk ısıtmalı ön koltuklar elektrikli direksiyon elektrikli arka perde bej deri koltuklar start stop bluetooth telefon bağlantısı geri görüş kamerası ön arka park sensörü far sensörü yağmur sensörü bi xenon farlar far yıkama bluetooth usb aux cd mp3 çalar cd changer aux girişi bluetooth telefon bağlantısı usb aux girişi bluetooth telefon bağlantısı .\n",
      "\n"
     ]
    },
    {
     "name": "stderr",
     "output_type": "stream",
     "text": [
      "\r",
      " 35%|███████████████████████████▋                                                    | 104/300 [02:05<04:51,  1.49s/it]"
     ]
    },
    {
     "name": "stdout",
     "output_type": "stream",
     "text": [
      "\" araç bilgileri aracım temiz ve bakımlı ve masrafsızdır . araç borusan çıkışlı olup , servis bakımlıdır . bakımları yeni yapılmıştır . muayenesi 2021 e kadar vardır .\n",
      "\n"
     ]
    },
    {
     "name": "stderr",
     "output_type": "stream",
     "text": [
      "\r",
      " 35%|████████████████████████████                                                    | 105/300 [02:06<03:39,  1.13s/it]"
     ]
    },
    {
     "name": "stdout",
     "output_type": "stream",
     "text": [
      "\" 2014 model bmw 5 . 25d xdrive m sport beyaz içi bej deri koltuk sunroof bej deri döşeme elektrikli hafızalı sürücü koltuğu elektrikli yolcu koltuğu ısıtmalı ön koltuklar elektrikli hafızalı sürücü koltuğu ısıtmalı ön koltuklar geri görüş kamerası bluetooth telefon bağlantısı çift yönlü dijital klima elektrikli arka perde elektrikli katlanır ayna elektrokrom iç ve dış aynalar elektrikli katlanır ayna yağmur sezici far sensörü eco comfort sport sport sürüş modları türkçe ön panel akustik kemer uyarısı otomatik kapı kilit fonksiyonu karter koruması velur halı paspaslar ön kol dayama arka kol dayama run flat ( patlamayan ) lastikler arka park mesafe kontrol ( park sensörü ) yedek anahtar ve kitapçıkları mevcuttur . \"\n",
      "\n"
     ]
    },
    {
     "name": "stderr",
     "output_type": "stream",
     "text": [
      "\r",
      " 35%|████████████████████████████▎                                                   | 106/300 [02:07<03:37,  1.12s/it]"
     ]
    },
    {
     "name": "stdout",
     "output_type": "stream",
     "text": [
      "\" aracım borusan çıkışlı olup , borusan bayii çıkışlıdır . yedek anahtarı ve kitapçıkları bulunmaktadır . aracın iç dış boya koruması yapılmıştır . detaylı bilgi için lütfen arayınız .\n",
      "\n"
     ]
    },
    {
     "name": "stderr",
     "output_type": "stream",
     "text": [
      "\r",
      " 36%|████████████████████████████▌                                                   | 107/300 [02:07<02:47,  1.15it/s]"
     ]
    },
    {
     "name": "stdout",
     "output_type": "stream",
     "text": [
      "\" 2014 model bmw 5 . 25d xdrive premium hayalet gösterge vakumlu kapılar hayalet ekran vakumlu kapılar elektrikli bagaj koltuk ısıtma elektrikli hafızalı koltuk geri görüş kamerası elektrikli hafızalı ısıtmalı koltuklar elektrikli bagaj vakumlu kapılar elektrikli bagaj f1 vites koltuk ısıtma elektrikli direksiyon elektrikli katlanır aynalar elektrikli arka perde elektrikli katlanır ayna geri görüş kamerası ön ve arka park sensörü elektrikli arka perde çift yönlü dijital klima bi xenon farlar far yıkama far yağmur sensörü park sensörü ön arka kol dayama ısofıx ımmobılızer aluminyum alaşımlı jantlar elektrikli camlar uzaktan kumandalı merkezi kilit ön kol dayama arka kol dayama arka kol dayama isofix iç ambians lambası akustik kemer uyarsı kararan dikiz aynası aux usb auto hold \"\n",
      "\n"
     ]
    },
    {
     "name": "stderr",
     "output_type": "stream",
     "text": [
      "\r",
      " 36%|████████████████████████████▊                                                   | 108/300 [02:08<03:02,  1.05it/s]"
     ]
    },
    {
     "name": "stdout",
     "output_type": "stream",
     "text": [
      "\" araç model bilgisi ; bmw 5 . 20i executıve plus 1 . 6 cd aux usb sunroof geri görüş kamerası ön ve arka park sensörü far sensörü yağmur sensörü ön arka park sensörü elektrikli ısıtmalı aynalar ön ve arka park sensörü far sensörü yağmur sensörü far sensörü ön ve arka park sensörü fonksiyonel direksiyon bluetooth aux usb cd çalar yol bilgisayarı fonksiyonel deri direksiyon elektrikli katlanır yan aynalar elektrikli arka perde manuel yan aynalar çift yönlü dijital klima yol bilgisayarı yağmur sensörü far sensörü ön arka park sensörü elektrikli arka perde sis farı çelik jant sis farı far sensörü yağmur sensörü ön arka park sensörü ön arka kol dayama vs vs vs vs vs vs vs vs vs vs vs vs vs vs \"\n",
      "\n"
     ]
    },
    {
     "name": "stderr",
     "output_type": "stream",
     "text": [
      "\r",
      " 36%|█████████████████████████████                                                   | 109/300 [02:09<03:17,  1.03s/it]"
     ]
    },
    {
     "name": "stdout",
     "output_type": "stream",
     "text": [
      "\" aracımız yetkili servis bakımlıdır . aracın ilk sahibiyim . bakımları yeni yapılmıştır . en ufak bir masrafı yoktur . çalışmayan aksamı yok . herhangi bir yerinde boya yoktur . tramer kaydı : tl dir . ﻿ diğer ilanlarımız için ; www . . com . tr \"\n",
      "\n"
     ]
    },
    {
     "name": "stderr",
     "output_type": "stream",
     "text": [
      "\r",
      " 37%|█████████████████████████████▎                                                  | 110/300 [02:10<02:44,  1.15it/s]"
     ]
    },
    {
     "name": "stdout",
     "output_type": "stream",
     "text": [
      "\" ​ 2016 model bmw 5 . 25d xdrive m sport bayi çıkışlı hayalet ekran vakumlu kapılar sunroof geri görüş kamerası sunroof bej deri döşemeler bixenon angel far gündüz led led stop ön arka park sensörü elektrikli katlanır ayna bi xenon far far yıkama far sensörü yağmur sensörü ön arka park sensörü geri görüş kamerası usb aux bluetooth telefon bağlantısı fonksiyonel direksiyon cruıse control ( hız sabitleme ) start stop anahtarsız çalıştırma ( start stop ) ön arka park sensörü ( ön arka ) bi xenon farlar gündüz ledleri far sensörü yağmur sensörü far sensörü ön arka park sensörü sis farı çelik jant sis farı cd aux usb bluetooth bağlantı bmw acil durum çağrısı bmw teleservis bluetooth telefon bağlantısı usb aux girişi hız sabitleyici ve sınırlayıcı yagmur sensörü far sensörü ve park sensörü hız sabitleyici ve sınırlayıcı yükseklik ayarlı direksiyon elektrikli arka perde hava yastıkları perde hava yastıkları diz hava yastığı yan perde hava yastıkları alarm ımmobılızer elektrikli , ısıtmalı aynalar elektrikli camlar uzaktan kumandalı merkezi kilit ön kol dayama isofix aracın tüm ağır bakımları yapılmıştır aracın bütün bakımları yapılmıştır aracın tüm bakımları yapılmıştır aracın yedek anahtarı ve kitapçıkları mevcuttur aracın tüm bakımları yapılmıştır aracın tüm bakımları yapılmıştır aracın tüm bakımları yapılmıştır aracın tüm bakımları yapılmıştır içi dışı sıfır ayarındadır aracın tüm bakımları yapılmıştır aracın yedek anahtarı ve kitapçıkları mevcuttur\n",
      "\n"
     ]
    },
    {
     "name": "stderr",
     "output_type": "stream",
     "text": [
      "\r",
      " 37%|█████████████████████████████▌                                                  | 111/300 [02:12<03:56,  1.25s/it]"
     ]
    },
    {
     "name": "stdout",
     "output_type": "stream",
     "text": [
      "\" bmw 5 . 20i premium m sport paket sunroof deri döşeme elektrikli hafızalı koltuk elektrikli arka perde elektrikli arka perde yan makam perdeleri elektrikli katlanır ayna far yağmur sensörü ön arka park sensörü elektrikli arka perde yan makam perdeleri elektrikli arka perde elektrikli arka perde elektrikli arka perde yan makam perdeleri arka elektrikli perde bluetooth telefon hazırlık sis farı alaşımlı jantlar çift yönlü dijital klima fonksiyonel deri direksiyon elektrikli ayarlanır direksiyon ön arka park mesafe kontrol yağmur sezici far sensörü otomatik far sensörü park mesafe sensörü , start & stop anahtarsız çalıştırma ışık paket araç iniş , binişinde aydınlatma sis farı , far sensörü yağmur sensörü , limit kontrol ( hız sınırlandırıcı ) yokuş kalkı desteği abs , asr , esp , radyo cd mp3 çalar , yol bilgisayarı , fonksiyonel , fonksiyonel deri direksiyon , otomatik kapı kilit fonksiyonu , alarm , ımmobılızer , elektrikli , ısıtmalı aynalar , elektrikli ön ve arka camlar , uzaktan kumandalı merkezi kilit , ön kol dayama , arka kol dayama , isofix mevcuttur . tramer kaydı yoktur . \"\n",
      "\n"
     ]
    },
    {
     "name": "stderr",
     "output_type": "stream",
     "text": [
      "\r",
      " 37%|█████████████████████████████▊                                                  | 112/300 [02:14<04:21,  1.39s/it]"
     ]
    },
    {
     "name": "stdout",
     "output_type": "stream",
     "text": [
      "\" 2014 model bmw 5 . 25d xdrive m sport plus 184 hp f1 vites sunroof bi xenon far far yıkama far sensörü yağmur sensörü ön arka park sensörü ön arka park sensörü yağmur sensörü far sensörü ışık paketi far sensörü yağmur sensörü ön arka park sensörü ön arka kol dayama ön arka sis farı alaşımlı jantlar elektrikli arka perde elektrikli arka perde elektrikli yan aynalar ön arka park sensörü yağmur sensörü far sensörü otomatik kararan dikiz aynası elektrikli arka perde elektrikli katlanır ayna yağmur sensörü far sensörü arka park sensörü elektrikli arka perde elektrikli yan aynalar arka park sensörü far sensörü yağmur sensörü ön arka park sensörü fonksiyonel direksiyon elektrikli arka perde sis farı çelik jant sis farı çelik jantlar ön ve arka park sensörü \"\n",
      "\n"
     ]
    },
    {
     "name": "stderr",
     "output_type": "stream",
     "text": [
      "\r",
      " 38%|██████████████████████████████▏                                                 | 113/300 [02:15<04:09,  1.34s/it]"
     ]
    },
    {
     "name": "stdout",
     "output_type": "stream",
     "text": [
      "\" araç borusan bayi çıkışlıdır . hayalet ekran , vakumlu kapılar , sunroof , geri görüş kamerası , elektrikli direksiyon , start stop , anahtarsız çalıştırma , hafızalı , ısıtmalı , elektrikli koltuklar , elektrikli direksiyon , hafızalı koltuklar , elektrikli direksiyon , hafızalı , ısıtmalı , elektrikli ön koltuklar , elektrikli direksiyon , far sensörü , yağmur sensörü , far sensörü , ışık paket , elektrikli arka perde , elektrikli , hafızalı , ısıtmalı , katlanır aynalar , elektrikli katlanır ayna , far yıkama , far yıkama , bluetooth , aux , servotronic direksiyon , start & stop , stop , anahtarsız çalıştırma , ışık paket , 4 farklı sürüş modu , comfort , sport , sport , sürüş modları , geri görüş kamerası , yağmur sensörü , far sensörü , park sensörü , geri görüş kamerası , sunroof , park sensörü , yağmur sensörü , far sensörü , far yıkama , ısıtmalı ön koltuklar , elektrikli arka perde , elektrikli arka perde , sis farı , yağmur sensörü , kararan iç dikiz aynası , otomatik far sensörü , ön arka park sensörü , geri görüş kamerası , arka park sensörü , sis farı , yağmur sensörü , far sensörü , kararan dikiz aynası , elektirikli katlanır ayna , far , yağmur sensörü , far yıkama , ısıtmalı aynalar , elektrikli , ısıtmalı , hafızalı , elektrikli , bel destekli , ön koltuklar , elektrikli arka perde , bluetooth , aux , servotronic direksiyon , bluetooth , aux , usb , cd , mp3 , usb , aux , servotronic direksiyon , start & stop , anahtarsız çalıştırma , eco start & stop , stop , anahtarsız çalıştırma ışık paket araç iniş , binişinde aydınlatma ön ve arka park yardım desteği , yan makam perdeleri , elektrikli arka\n",
      "\n"
     ]
    },
    {
     "name": "stderr",
     "output_type": "stream",
     "text": [
      "\r",
      " 38%|██████████████████████████████▍                                                 | 114/300 [02:18<05:34,  1.80s/it]"
     ]
    },
    {
     "name": "stdout",
     "output_type": "stream",
     "text": [
      "\" araç borusan çıkışlı olup , 2016 trafiğe çıkışlı , 2016 model yılı : 2016 model , 2017 trafiğe çıkışlı , borusan bakımlı , hayalet gösterge , vakumlu kapılar , hayalet gösterge , vakumlu kapılar , elektrikli hafızalı koltuk , elektrikli direksiyon , elektrikli hafızalı sürücü koltuk , hafızalı koltuk , ısıtmalı ön koltuklar , elektrikli arka perde , elektrikli direksiyon , hafızalı sürücü koltuğu , elektrikli , ısıtmalı , hafızalı , elektrikli ön koltuklar , elektrikli arka perde , elektrikli katlanır ayna , far yıkama , ısıtmalı ön koltuklar , elektrikli direksiyon , hafızalı sürücü koltuğu , elektrikli , ısıtmalı , hafızalı ön koltuklar , elektrikli arka perde , elektrikli katlanır ayna , far yıkama , bluetooth , aux , usb , servotronic direksiyon , 3 farklı sürüş modu , eco pro comfort sport , sport sürüş modları , elektronik el gazı , hız sabitleyici , hız sabitleyici , park sensörü , yağmur sensörü , far sensörü , kararan dikiz aynası , fonksiyonel deri direksiyon , elektrikli direksiyon , arka makam perde , elektrikli direksiyon , arka makam perde , elektrikli direksiyon , arka makam perde , yan makam perdeleri , elektrikli hafızalı koltuklar , ön arka park sensörü , geri görüş kamerası , arka makam perde , elektrikli direksiyon , elektrikli direksiyon , ısıtmalı aynalar , elektrikli arka perde , elektrikli , hafızalı , ısıtmalı , katlanır aynalar , elektrikli katlanır ayna , hafızalı sürücü koltuğu , elektrikli direksiyon , elektrikli katlanır ayna , bi xenon farlar , far yıkama , bluetooth , aux , usb , bluetooth , servotronic direksiyon , start & stop , anahtarsız çalıştırma , ışık paket , araç iniş , binişinde aydınlatma ön ve arka park yardım desteği , yan makam perdeleri , arka park sensörü , yağmur sensörü , far sensörü\n",
      "\n"
     ]
    },
    {
     "name": "stderr",
     "output_type": "stream",
     "text": [
      "\r",
      " 38%|██████████████████████████████▋                                                 | 115/300 [02:21<07:04,  2.30s/it]"
     ]
    },
    {
     "name": "stdout",
     "output_type": "stream",
     "text": [
      "\" 2012 model bmw 5 . 25d xdrive premium m sport plus paket sunroof deri koltuk ısıtma elektrikli hafızalı koltuk elektrikli arka perde bi xenon far far yıkama ön arka park sensörü yağmur sensörü far sensörü far sensörü bluetooth aux usb cd mp3 çalar çok fonksiyonlu deri direksiyon\n",
      "\n"
     ]
    },
    {
     "name": "stderr",
     "output_type": "stream",
     "text": [
      "\r",
      " 39%|██████████████████████████████▉                                                 | 116/300 [02:22<05:22,  1.75s/it]"
     ]
    },
    {
     "name": "stdout",
     "output_type": "stream",
     "text": [
      "\" araç model bilgisi ; bmw 5 . 20i executıve m sport plus metalik siyah safir bej dakota deri döşeme türkiye paket otomatik şanzıman 8 ileri runflat lastikler lastik basınç göstergesi geri görüş kamerası velur halı paspaslar elektrokrom iç ve dış aynalar elektrokrom iç ayna far yıkama sistemi park mesafe kontrol ön arka yağmur sezicisi otomatik klima ( ekranlı 2bölge yağmur sezicisi park mesafe kontrol ön arka sürüş asistanı bmw acil durum çağrısı bmw teleservıces 7r3 7r3 otomatik kapı kilit fonk . karter koruması otomatik şanzıman 8 ileri servotronıc çok fonksiyonlu direksiyon simidi elektrikli cam tavan \"\n",
      "\n"
     ]
    },
    {
     "name": "stderr",
     "output_type": "stream",
     "text": [
      "\r",
      " 39%|███████████████████████████████▏                                                | 117/300 [02:23<04:38,  1.52s/it]"
     ]
    },
    {
     "name": "stdout",
     "output_type": "stream",
     "text": [
      "\" 2011 model bmw 5 . 20d comfort 184 hp 8 ileri otomatik vites aracımız bayii çıkışlı olup tüm bakımları yapılmıştır . servis bakımlıdır .\n",
      "\n"
     ]
    },
    {
     "name": "stderr",
     "output_type": "stream",
     "text": [
      "\r",
      " 39%|███████████████████████████████▍                                                | 118/300 [02:23<03:28,  1.15s/it]"
     ]
    },
    {
     "name": "stdout",
     "output_type": "stream",
     "text": [
      "\" araç borusan çıkışlı olup , hata boya değişen yoktur . sadece sağ ön çamurluk ve kaput , ön tampon ve sol arka çamurluk ve kaput ön tampon ve far değişmiştir . sol arka çamurluk değişmiştir . \"\n",
      "\n"
     ]
    },
    {
     "name": "stderr",
     "output_type": "stream",
     "text": [
      "\r",
      " 40%|███████████████████████████████▋                                                | 119/300 [02:23<02:48,  1.08it/s]"
     ]
    },
    {
     "name": "stdout",
     "output_type": "stream",
     "text": [
      "\" araç borusan bayi çıkışlı olup , ilk günkü gibi temiz olup , bakımlıdır . herhangi bir kaza , boya , değişen yoktur . sadece arka sağ arka çamurluk ve sağ ön kapı , sağ arka çamurluk , sol arka kapıda lokal boya vardır . sağ arka çamurlukta yarım lokal boya vardır . tramer kaydı yoktur . \"\n",
      "\n"
     ]
    },
    {
     "name": "stderr",
     "output_type": "stream",
     "text": [
      "\r",
      " 40%|████████████████████████████████                                                | 120/300 [02:24<02:28,  1.21it/s]"
     ]
    },
    {
     "name": "stdout",
     "output_type": "stream",
     "text": [
      "\" araç model bilgisi ; bmw 5 . 20i premium m sport paket siyah içi bej deri koltuk sunroof hayalet ekran vakumlu kapılar elektrikli bagaj hayalet ekran vakumlu kapılar elektrikli bagaj hayalet ekran vakumlu kapılar elektrikli bagaj kapağı geri görüş kamerası ön arka park sensörü elektrikli arka perde elektrikli arka perde elektrikli katlanır aynalar bi xenon far far yıkama start stop anahtarsız çalıştırma start stop ( anahtarsız çalıştırma ) start stop bluetooth telefon bağlantısı aux girişi usb arayüzü yan protokol perde elektrikli yan aynalar elektrokrom dikiz aynası yağmur sensörü far gece sensörü ön ve arka park mesafe sensörü yağmur sensörü otomatik kapı kilit fonksiyonu – lastikler ve daha sayamadığım bir çok özellik vardır .\n",
      "\n"
     ]
    },
    {
     "name": "stderr",
     "output_type": "stream",
     "text": [
      "\r",
      " 40%|████████████████████████████████▎                                               | 121/300 [02:25<02:41,  1.11it/s]"
     ]
    },
    {
     "name": "stdout",
     "output_type": "stream",
     "text": [
      "\" araç borusan bayi çıkışlıdır . aracın tüm bakımları yapılmıştır . muayenesi yenidir . yeni yapılmıştır . en ufak masrafı yoktur . iç döşemeler sıfır ayarındadır . aracın tüm bakımları yapılmıştır . aracın yedek anahtarı ve kitapçıkları mevcuttur . araç özellikleri : sunroof bi xenon farlar far yıkama far ve yağmur sensörü ön arka park sensörü elektrikli katlanır aynalar kararan dikiz aynası elektrikli arka perde yan makam perdeleri elektrikli arka perde elektrikli arka perde ahşap iç trimler ön ve arka park sensörü ön kol dayama ısofıx 18 m sport alaşım jantlar bluetooth telefon hazırlık sis farı alaşımlı jantlar vs vs vs vs vs vs vs vs vs vs vs vs vs vs vs vs vs vs vs vs\n",
      "\n"
     ]
    },
    {
     "name": "stderr",
     "output_type": "stream",
     "text": [
      "\r",
      " 41%|████████████████████████████████▌                                               | 122/300 [02:26<02:55,  1.02it/s]"
     ]
    },
    {
     "name": "stdout",
     "output_type": "stream",
     "text": [
      "\" 2012 model bmw 5 . 25d xdrive premium otomatik vites sunroof deri koltuk koltuk ısıtma elektrikli hafızalı koltuk elektrikli direksiyon elektrikli arka perde çift yönlü dijital klima elektrikli katlanır ayna yağmur sensörü far sensörü ön arka park sensörü elektrikli arka perde sis farı çelik jant abs asr esp far yıkama ön arka kol dayama ısofıx 18 inç çelik jant sis farı alaşımlı jantlar elektrikli arka perde sis farı çelik jant sis farı çelik jant sis farı usb arayüzü aux cd mp3 çalar çelik jant sis farı ön arka park sensörü ön arka kol dayama ön arka park sensörü yağmur sensörü far sensörü yol bilgisayarı vs vs vs vs vs vs vs vs vs vs vs vs vs vs vs vs vs vs vs vs vs vs vs vs yoktur\n",
      "\n"
     ]
    },
    {
     "name": "stderr",
     "output_type": "stream",
     "text": [
      "\r",
      " 41%|████████████████████████████████▊                                               | 123/300 [02:27<03:08,  1.07s/it]"
     ]
    },
    {
     "name": "stdout",
     "output_type": "stream",
     "text": [
      "\" 2012 model bmw 5 . 20i premium 170 hp borusan çıkışlı borusan bakımlı hatasız boyasız tramersiz kazasız boyasız tramersiz hayalet gösterge vakumlu kapılar sunroof elektrikli bagaj hayalet ekran vakumlu kapılar elektrikli bagaj hayalet ekran vakumlu kapılar elektrikli bagaj kapağı geri görüş kamerası elektrikli arka perde elektrikli arka perde çift bölge dijital klima elektrikli arka perde bi xenon farlar far yıkama far yağmur park sensörü ön arka park sensörü far sensörü yağmur sensörü ön arka park sensörü ön arka kol dayama bluetooth telefon hazırlık sis farı cd mp3 çalar usb aux giriş abs esp asr esp radyo cd çalar yol bilgisayarı fonksiyonel direksiyon elektrikli , ısıtmalı aynalar elektrikli camlar uzaktan kumandalı merkezi kilit ön kol dayama arka kol dayama isofix hatasız boyasız tramer bilgisi : hasar kaydı yoktur ! ! ! ! ! ! ! ! ! ! ! ! ! ! ! ! ! ! ! ! ! ! ! ! ! ! ! ! ! ! ! ! ! ! ! ! ! ! ! ! ! ! ! ! ! ! ! ! ! ! ! ! ! ! ! ! ! ! ! ! ! ! ! ! ! ! ! ! ! ! ! ! ! ! ! ! ! ! ! ! ! ! ! ! ! ! ! ! ! ! ! ! ! ! ! ! ! ! ! ! ! ! ! ! ! ! ! ! ! ! ! ! ! ! ! ! ! ! ! ! ! ! ! ! ! ! ! ! ! ! ! ! ! ! ! ! ! ! ! ! ! ! ! ! ! ! ! ! ! ! ! ! ! ! ! ! ! ! ! ! ! ! ! ! ! ! ! ! ! ! !\n",
      "\n"
     ]
    },
    {
     "name": "stderr",
     "output_type": "stream",
     "text": [
      "\r",
      " 41%|█████████████████████████████████                                               | 124/300 [02:30<04:41,  1.60s/it]"
     ]
    },
    {
     "name": "stdout",
     "output_type": "stream",
     "text": [
      "\" aracın ilk sahibiyim . kaza boya değişen yoktur . hatasız boyasızdır . tüm bakımları yapılmıştır . muayenesi yenidir . muayenesi 17 . 10 . 2019 tarihine kadar geçerlidir . yedek anahtar ve kitapçıkları mevcuttur . araç özellikleri sunroof güneş korumalı camlar elektrikli cam tavan led sis farları yağmur sensörü far sensörü ön ve arka park sensörü elektrikli katlanır aynalar elektrikli arka perde elektrikli yan aynalar arka perde bluetooth telefon hazırlık sis farı alaşımlı jantlar vs vs vs vs vs vs vs vs vs vs vs vs vs vs yoktur\n",
      "\n"
     ]
    },
    {
     "name": "stderr",
     "output_type": "stream",
     "text": [
      "\r",
      " 42%|█████████████████████████████████▎                                              | 125/300 [02:31<04:02,  1.38s/it]"
     ]
    },
    {
     "name": "stdout",
     "output_type": "stream",
     "text": [
      "\" araç borusan çıkışlı olup , 2016 yılı kasım ayı trafiğe çıktı , servis bakımlıdır . herhangi bir kazası , değişeni yoktur . tramer kaydı yoktur . aracın tüm özellikleri ; orjinal iç dış m paket ( orjinal ) m sport jantlar ( orjinal ) m sport jantlar ( 4 bölge ) ön arka park sensörü ( arka ) m sport ön tampon m sport yan aynalar elektrikli arka perde elektrikli arka perde elektrikli arka perde çift bölgeli dijital klima ısıtmalı ön koltuklar hafızalı sürücü koltuğu elektrikli yolcu koltuğu elektrikli ısıtmalı ön koltuklar hafızalı sürücü koltuğu elektrikli yolcu koltuğu ısıtmalı ön koltuklar hafızalı sürücü koltuğu elektrikli yolcu koltuğu ısıtmalı ön koltuklar elektrikli arka perde elektrikli arka perde elektrikli katlanır yan aynalar elektrokrom iç ayna sesli uyarı sistemi yağmur sensörü far sensörü yağmur sensörü ışık paketi anahtarsız çalıştırma arka park sensörü far gece sensörü yağmur sensörü park mesafe sensörü ön ve arka kol dayama bardaklıklar aydınlatmalı makyaj aynaları alaşım jantlar\n",
      "\n"
     ]
    },
    {
     "name": "stderr",
     "output_type": "stream",
     "text": [
      "\r",
      " 42%|█████████████████████████████████▌                                              | 126/300 [02:33<04:07,  1.42s/it]"
     ]
    },
    {
     "name": "stdout",
     "output_type": "stream",
     "text": [
      "\" araç 2014 model olup , değişen veya boyanan parçası yoktur . 2 parça boya ve değişen yoktur . hasar kaydı yoktur .\n",
      "\n"
     ]
    },
    {
     "name": "stderr",
     "output_type": "stream",
     "text": [
      "\r",
      " 42%|█████████████████████████████████▊                                              | 127/300 [02:33<03:04,  1.07s/it]"
     ]
    },
    {
     "name": "stdout",
     "output_type": "stream",
     "text": [
      "\" ​ ​ ​ ​ ​ ​ ​ ​ ​ dış renk : beyaz iç dış m sport plus sunroof f1 vites hayalet ekran geri görüş kamerası sunroof elektrikli katlanır ayna hafızalı koltuk koltuk ısıtma elektrikli arka perde elektrikli arka perde arka makam perde yan makam perdeleri elektrikli arka perde katlanır ayna yağmur sensörü far sensörü ön arka park sensörü lastik basınç sensörü elektrikli arka perde yan makam perdeleri arka perde elektrikli arka perde yan makam perdeleri kararan dikiz aynası elektrikli ısıtmalı karartmalı aynalar elektrikli arka perde bluetooth telefon hazırlık sis farı alaşımlı jantlar elektrikli arka perde sis farı çelik jant sis farı çelik jant sis farı far sensörü yağmur sensörü ön arka park sensörü elektrikli katlanır ayna far yıkama sunroof fonksiyonel direksiyon arka park sensörü yağmur sensörü far sensörü ön arka park sensörü ön arka kol dayama ısofıx koltuklar radyo cd mp3 çalar usb aux cd çalar abs esp asr start stop eco comfort sport sürüş modları start stop anahtarsız çalıştırma eco pro comfort sport sürüş modları elektronik park freni çift bölgeli dijital klima elektrikli arka perde yağmur sensörü far sensörü ön arka park sensörü far sensörü ön arka park sensörü far yıkama ön arka kol dayama anahtarsız çalıştırma sis farı çelik jant sis farı cd mp3 çalar usb aux giriş abs esp asr start stop ön arka kol dayama isofix aracın motor ve yürüyen aksamı kusursuzdur aracın tüm ağır bakımları yapılmıştır aracın tüm bakımları yapılmıştır aracın tüm bakımları yapılmıştır araçta boya değişen yoktur . tramer kaydı yoktur . sadece nakit satılıktır .\n",
      "\n"
     ]
    },
    {
     "name": "stderr",
     "output_type": "stream",
     "text": [
      "\r",
      " 43%|██████████████████████████████████▏                                             | 128/300 [02:35<04:16,  1.49s/it]"
     ]
    },
    {
     "name": "stdout",
     "output_type": "stream",
     "text": [
      "\" araç model bilgisi ; bmw 5 serisi 520d comfort 184 hp 8 ileri otomatik vites koltuk ısıtma sunroof koltuk ısıtma elektrikli bagaj hayalet ekran vakumlu kapılar elektrikli bagaj kapağı geri görüş kamerası büyük ekran navigasyon geri görüş kamerası elektrikli hafızalı ısıtmalı koltuklar ön arka park sensörü elektrikli arka perde elektrikli katlanır ayna yağmur sensörü far sensörü ön arka park sensörü far yıkama bluetooth usb aux cd çalar abs esp asr start stop anahtarsız çalıştırma sis farı ön arka park sensörü far sensörü yağmur sensörü far sensörü start stop bluetooth telefon hazırlık sis farı alaşımlı jantlar elektrikli camlar uzaktan kumandalı merkezi kilit ön kol dayama arka kol dayama isofix aracın kasko bedeli : 000 tl dir aracın tüm bakımları yapılmıştır aracın 2 parça boya mevcuttur . tramer kaydı yoktur\n",
      "\n"
     ]
    },
    {
     "name": "stderr",
     "output_type": "stream",
     "text": [
      "\r",
      " 43%|██████████████████████████████████▍                                             | 129/300 [02:37<04:05,  1.43s/it]"
     ]
    },
    {
     "name": "stdout",
     "output_type": "stream",
     "text": [
      "\" araç borusan çıkışlı olup , 2016 yılı ve km garantili olarak ; sunroof , deri döşeme , dijital klima , 4 koltuk ısıtma , elektrikli , hafızalı , ısıtmalı ön koltuklar , elektrikli arka perde , elektrikli hafızalı koltuklar , elektrikli direksiyon , hafızalı koltuk , elektrikli katlanır ayna , bluetooth , yağmur ve far sensörü , ön arka park sensörü , far yıkama , far sensörü , yağmur sensörü , arka park sensörü , elektirikli direksiyon , far sensörü , yağmur sensörü , far yıkama , aux ve usb bağlantısı , ışık paketi , far yıkama , sunroof , yağmur sensörü , far sensörü , kararan iç dikiz aynası , otomatik far sensörü , ön arka park sensörü , geri görüş kamerası , ön ve arka park sensörü , yağmur ve far sensörü , kararan iç dikiz aynası , deri döşeme , elektrikli , ısıtmalı aynalar , elektrikli arka perde , elektrikli arka perde , sis farı , yağmur sensörü , kararan iç dikiz aynası , abs , esp , asr , esp , radyo cd mp3 çalar , yol bilgisayarı , fonksiyonel deri direksiyon , elektrikli arka perde , sis farı , yağmur sensörü , far yıkama , ışık paket , araç iniş , binişinde aydınlatma ön kol dayama , arka kol dayama , isofix , arka park sensörü , bluetooth , aux , usb , cd çalar , aux , usb , cd çalar , yol bilgisayarı , fonksiyonel deri direksiyon , ön arka park sensörü , far yıkama , fonksiyonel direksiyon , elektrikli arka perde , sis farı , yağmur sensörü , far sensörü , kararan iç dikiz aynası , otomatik far sensörü , yağmur sensörü , ışık paket , bluetooth , aux , usb , cd çalar , abs , asr , esp\n",
      "\n"
     ]
    },
    {
     "name": "stderr",
     "output_type": "stream",
     "text": [
      "\r",
      " 43%|██████████████████████████████████▋                                             | 130/300 [02:40<05:18,  1.87s/it]"
     ]
    },
    {
     "name": "stdout",
     "output_type": "stream",
     "text": [
      "\" araç model bilgisi ; bmw 5 serisi otomatik şanzıman sport plus 1 . 6 cd aux ve usb bağlantısı . türkçe ön panel gelişmiş gösterge paneli ( hayalet ) gelişmiş gösterge paneli ( hayalet ekran ) bmw teleservıces m deri direksiyon m aerodinamik paket parlak siyah dış kaplama antrasit tavan döşemesi spor süspansiyon iptali m sport fren diskleri m sport m sport fren diskleri m sport m sport fren diskleri m sport fren diskleri m sport m sport fren diskleri m sport m sport fren diskleri m sport m sport fren diskleri m sport fren diskleri m sport hmj , çift kollu , stil 662 , 18 m sport jantlar m sport süspansiyon iptali m sport fren diskleri m sport m sport fren diskleri m sport m sport fren diskleri m sport m sport süspansiyon iptali m sport fren diskleri m sport m sport fren diskleri m sport m sport fren diskleri m sport m sport plus spor süspansiyon iptali m sport fren diskleri m sport fren diskleri m sport m sport süspansiyon iptali m sport fren diskleri m sport m sport süspansiyon iptali m sport fren diskleri m sport m sport süspansiyon iptali m sport fren diskleri m sport m sport fren diskleri m sport m sport süspansiyon iptali m sport fren diskleri m sport m sport fren diskleri m sport m sport fren diskleri m sport m sport fren diskleri m sport m sport plus modları hı fı hoparlör sistemi otomatik şanzıman 8 ileri servotronıc çok fonksiyonlu direksiyon otomatik şanzıman 8 ileri plus spor süspansiyon iptali ​ parlak siyah dış kaplama m deri direksiyon otomatik şanzıman 8 ileri plus spor süspansiyon iptali m sport fren fonksiyonlu cruıse cont . gelişmiş gösterge paneli hexagon alcantara kumaş döşeme hands free ve usb bağlantısı türkçe ön panel gelişmiş gösterge\n",
      "\n"
     ]
    },
    {
     "name": "stderr",
     "output_type": "stream",
     "text": [
      "\r",
      " 44%|██████████████████████████████████▉                                             | 131/300 [02:42<06:06,  2.17s/it]"
     ]
    },
    {
     "name": "stdout",
     "output_type": "stream",
     "text": [
      "\" sahibinden satılık borusan çıkışlı , borusan bakımlı , hatasız , boyasız , tramersiz , kazasız , boyasız , tramersiz kazasız , boyasız , tramersiz , orijinal bmw , 4 koltuk ısıtma , elektrikli koltuk , hafızalı sürücü koltuğu , elektrikli , ısıtmalı , hafızalı , elektrikli , ısıtmalı , hafızalı , ısıtmalı , ısıtmalı , hafızalı , elektrikli , koltuklar , koltuklar , koltuk ısıtma , elektrikli koltuk , koltuk ısıtma , elektrikli arka perde , elektrikli hafızalı koltuk , elektrikli bagaj , koltuk ısıtma , hafızalı elektrikli koltuk , direksiyon , çift yönlü dijital klima , geri görüş kamerası , hız sabitleyici , hız sabitleyici , park sensörü , yağmur sensörü , far sensörü , sis farı , yağmur sensörü , arka park sensörü , kararan iç dikiz aynası , otomatik far ve yağmur sensörü , far yıkama , ışık paket , sunroof , xenon far , led , sis farları , led sis farları , geri görüş kamerası , ön arka park sensörü , geri görüş kamerası , , ön arka park sensörü , far sensörü , yağmur sensörü , far sensörü , ön arka park sensörü , far yıkama , dijital klima , çelik jantlar , sis farı , yağmur sensörü , park sensörü , kararan iç dikiz aynası , abs , asr , esp , radyo cd mp3 çalar , yol bilgisayarı , fonksiyonel deri direksiyon , alarm , ımmobılızer , elektrikli , ısıtmalı aynalar , elektrikli camlar , uzaktan kumandalı merkezi kilit , ön kol dayama , arka kol dayama , isofix mevcuttur . \"\n",
      "\n"
     ]
    },
    {
     "name": "stderr",
     "output_type": "stream",
     "text": [
      "\r",
      " 44%|███████████████████████████████████▏                                            | 132/300 [02:45<06:21,  2.27s/it]"
     ]
    },
    {
     "name": "stdout",
     "output_type": "stream",
     "text": [
      "\" 2012 model bmw 5 . 25d xdrive premium borusan çıkışlı hayalet ekran vakumlu kapılar elektrikli bagaj hayalet ekran vakumlu kapılar elektrikli bagaj hayalet ekran vakumlu kapılar elektrikli bagaj hayalet ekran vakumlu kapılar elektrikli bagaj geri görüş kamerası elektrikli bagaj kapağı vakumlu kapılar elektrikli bagaj kapağı geri görüş kamerası bluetooth telefon bağlantısı usb aux bluetooth telefon bağlantısı fonksiyonel spor deri direksiyon elektrikli katlanır yan aynalar elektrokrom iç ayna sesli uyarı sistemi far yağmur sensörü\n",
      "\n"
     ]
    },
    {
     "name": "stderr",
     "output_type": "stream",
     "text": [
      "\r",
      " 44%|███████████████████████████████████▍                                            | 133/300 [02:46<05:06,  1.83s/it]"
     ]
    },
    {
     "name": "stdout",
     "output_type": "stream",
     "text": [
      "\" sahibinden satılık bmw 5 . 20i executıve m sport plus 1 . 6 motor , 8 ileri otomatik vites , sunroof , deri koltuk , bi xenon far , far yıkama , ısıtmalı ön koltuklar , elektrikli hafızalı sürücü koltuğu , elektrikli , ısıtmalı , hafızalı , elektrikli ön koltuklar , elektrikli arka perde , elektrikli katlanır ayna , far yıkama , bluetooth , aux , servotronic direksiyon , start & stop , anahtarsız çalıştırma , bı xenon farlar , far yıkama , park sensörü , yağmur sensörü , kararan dikiz aynası , far sensörü , ön arka park sensörü , geri görüş kamerası , bluetooth , aux , cd çalar , usb , aux , cd çalar , park sensörü , yağmur sensörü , far sensörü , sis farı , yağmur sensörü , kararan dikiz aynası , far yıkama , led stop , sis farları , otomatik kararan dikiz aynası , yokuş kalkış desteği , anahtarsız çalıştırma , start stop , anahtarsız çalıştırma , ışık paket , dijital klima , abs , asr , esp , cd çalar , aux , usb , far yıkama , fonksiyonel deri direksiyon , start stop , anahtarsız çalıştırma , sis farı , yağmur sensörü , far sensörü , ön arka park sensörü , kararan dikiz aynası , far yıkama , hız sabitleyici , hız sabitleyici , park sensörü , yağmur sensörü , far sensörü , far yıkama , bluetooth , aux , usb , servotronic direksiyon , start & stop , anahtarsız çalıştırma , start & stop , anahtarsız çalıştırma , ışık paket , kapı kolları aynalar , ışık paket , kapı kolu aydınlatma , dijital klima , aux girişi , abs , asr , esp , radyo cd çalar , otomatik kapı klit fonksiyonu ( kapılar açıkken araç hareket\n",
      "\n"
     ]
    },
    {
     "name": "stderr",
     "output_type": "stream",
     "text": [
      "\r",
      " 45%|███████████████████████████████████▋                                            | 134/300 [02:49<06:01,  2.18s/it]"
     ]
    },
    {
     "name": "stdout",
     "output_type": "stream",
     "text": [
      "\" araç borusan çıkışlı olup , bakımlı , masrafsız , , , , , , , , , , , , , , , , , , , , , , , , , , , , , , , , , , , , , , , , , , , , , , , , , , , , , , , , , , , , , , , , , , , , , , , , , , , , , , , , , , , , , , , , , , , , , , , , , , , , , , , , , , , , , , , , , , , , , , , , , , , , , , , , , , , , , , , , , , , , , , , , , , , , , , , , , , , , , , , , , , , , , , , , , , , , , , , , , , , , , , , , , , , , , , , , , , , , , , , , , , , , , , , , , , , , , , , , , , , , , , , , , , , , , , , , , , , , , , , , , , , , , , , , , , , , , , , , , , , , , , , , , , , , , , , , , , , , , , , , , , , , , , , , , ,\n",
      "\n"
     ]
    },
    {
     "name": "stderr",
     "output_type": "stream",
     "text": [
      "\r",
      " 45%|████████████████████████████████████                                            | 135/300 [02:52<06:38,  2.42s/it]"
     ]
    },
    {
     "name": "stdout",
     "output_type": "stream",
     "text": [
      "\" araç borusan çıkışlı olup , ilk yardım çantası , orjinal m sport , comfort , sport , koltuklar , , sunroof , geri görüş kamerası , ön arka park sensörü , geri görüş kamerası , ısıtmalı hafızalı koltuklar , elektrikli , hafızalı , ısıtmalı , kararan katlanır ayna , sunroof , , , , , , , , , , , , , , , , , , , , , , , , , , , , , , , , , , , , , , , , , , , , , , , , , , , , , , , , , , , , , , , , , , , , , , , , , , , , , , , , , , , , , , , , , , , , , , , , , , , , , , , , , , , , , , , , , , , , , , , , , , , , , , , , , , , , , , , , , , , , , , , , , , , , , , , , , , , , , , , , , , , , , , , , , , , , , , , , , , , , , , , , , , , , , , , , , , , , , , , , , , , , , , , , , , , , , , , , , , , , , , , , , , , , , , , , , , , , , , , , , , , , , , , ,\n",
      "\n"
     ]
    },
    {
     "name": "stderr",
     "output_type": "stream",
     "text": [
      "\r",
      " 45%|████████████████████████████████████▎                                           | 136/300 [02:55<07:30,  2.75s/it]"
     ]
    },
    {
     "name": "stdout",
     "output_type": "stream",
     "text": [
      "\" ​ 2015 bmw 5 . 25d xdrive m sport bayi çıkışlı borusan bakımlı hatasız boyasız tramersiz hayalet ekran vakumlu kapılar sunroof elektrikli bagaj hayalet gösterge vakumlu kapılar geri görüş kamerası elektrikli hafızalı koltuklar ısıtmalı ön koltuklar elektrikli direksiyon elektrikli direksiyon ayarı elektrikli arka perde yan ve arka makam perdeleri elektrikli arka perde elektrikli direksiyon elektrikli katlanır aynalar elektrikli arka perde elektrikli katlanır aynalar elektrikli hafızalı sürücü koltuğu ısıtmalı ön koltuklar elektrikli arka perde elektrikli arka perde bluetooth aux usb girişi bluetooth telefon bağlantısı fonksiyonel deri direksiyon elektrikli katlanır aynalar elektrikli katlanır ayna yağmur sensörü far sensörü ön arka park sensörü fonksiyonel deri direksiyon ön kol dayama ön arka kol dayama ısofıx ımmobılızer aluminyum alaşımlı jantlar elektrikli , ısıtmalı aynalar ön kol dayama arka kol dayama isofix iç ambians lambası akustik kemer uyarsı kararan dikiz aynası aux usb auto hold \"\n",
      "\n"
     ]
    },
    {
     "name": "stderr",
     "output_type": "stream",
     "text": [
      "\r",
      " 46%|████████████████████████████████████▌                                           | 137/300 [02:57<06:19,  2.33s/it]"
     ]
    },
    {
     "name": "stdout",
     "output_type": "stream",
     "text": [
      "\" ​ 2012 model bmw 5 . 25d xdrive premium borusan çıkışlı borusan bakımlı yedek anahtar ve kitapçıkları mevcuttur aracımız yetkili servis bakımlıdır . bakımları yapılmıştır . araç borusan çıkışlı olup içi dışı ilk günkü gibi temiz kullanılmış olup servis bakımlıdır . km kesinlikle orjinaldir . boya , değişen , hasar kaydı vs yoktur . yedek anahtar ve kitapçıkları mevcuttur . \"\n",
      "\n"
     ]
    },
    {
     "name": "stderr",
     "output_type": "stream",
     "text": [
      "\r",
      " 46%|████████████████████████████████████▊                                           | 138/300 [02:57<04:53,  1.81s/it]"
     ]
    },
    {
     "name": "stdout",
     "output_type": "stream",
     "text": [
      "\" araç borusan bayi çıkışlıdır . bakımları yetkili serviste yapılmıştır . aracın bakımları yeni yapılmıştır . km si kesinlikle orjinal olup , kesinlikle değişen yoktur . tramer kaydı yoktur . aracın tüm bakımları yapılmıştır . aracın yedek anahtarı ve kitapçıkları mevcuttur . aracın üzerinde kışlık ve yazlık lastikleri vardır . yanında 4 adet kış lastiği vardır . aracın bütün bakımları yapılmıştır . aracın içi ve dışı ilk günkü gibi temiz olup deforme yoktur . aracın iç döşemeleri , ilk günkü gibi temiz kullanılmıştır . tertemiz bir araçtır . araç da en ufak bir çizik dahi yoktur . aracın tüm özellikleri ve mekanik olarak kusursuzdur . aracın tüm bakımları yapılmıştır . aracın içi ilk günkü temizliğinde olup deforme yoktur . aracın yedek anahtarı vardır .\n",
      "\n"
     ]
    },
    {
     "name": "stderr",
     "output_type": "stream",
     "text": [
      "\r",
      " 46%|█████████████████████████████████████                                           | 139/300 [02:59<04:35,  1.71s/it]"
     ]
    },
    {
     "name": "stdout",
     "output_type": "stream",
     "text": [
      "\" araç borusan çıkışlı olup , ilk yardım çantası , 140 . 000 km de olup , orjinal km dedir . yedek anahtarı ve kitapçıkları mevcuttur . \"\n",
      "\n"
     ]
    },
    {
     "name": "stderr",
     "output_type": "stream",
     "text": [
      "\r",
      " 47%|█████████████████████████████████████▎                                          | 140/300 [02:59<03:28,  1.30s/it]"
     ]
    },
    {
     "name": "stdout",
     "output_type": "stream",
     "text": [
      "\" araç borusan çıkışlı olup , tüm bakımları yapılmıştır . aracın bütün bakımları yapılmıştır . aracın tüm bakımları yapılmıştır . muayenesi 2020 yılına kadar geçerlidir . araç fazlalığından satılıktır .\n",
      "\n"
     ]
    },
    {
     "name": "stderr",
     "output_type": "stream",
     "text": [
      "\r",
      " 47%|█████████████████████████████████████▌                                          | 141/300 [02:59<02:40,  1.01s/it]"
     ]
    },
    {
     "name": "stdout",
     "output_type": "stream",
     "text": [
      "\" araç borusan çıkışlı olup , borusan bakımlı olup , ilk yardım çantası , dış renk olan , aracımızda sadece sağ ön çamurluk , sol arka kapı , sağ arka çamurluk , kaput , sol arka kapı , sağ arka çamurluk , sol ön kapı , sağ arka çamurlukta lokal boya vardır . harici hatasız boyasızdır . tramer kaydı yoktur . \"\n",
      "\n"
     ]
    },
    {
     "name": "stderr",
     "output_type": "stream",
     "text": [
      "\r",
      " 47%|█████████████████████████████████████▊                                          | 142/300 [03:00<02:19,  1.13it/s]"
     ]
    },
    {
     "name": "stdout",
     "output_type": "stream",
     "text": [
      "\" 2014 bmw 5 . 20i premium m sport paket borusan çıkışlı borusan bakımlı hatasız boyasız tramersiz bakımları yeni yapılmıştır içi dışı tertemiz masrafsızdır . araç tramer kaydı yoktur . tüm bakımları yetkili serviste yapılmıştır . motor ve şanzıman sorunsuzdur . bakımları yeni yapılmıştır . muayenesi yeni yapılmıştır .\n",
      "\n"
     ]
    },
    {
     "name": "stderr",
     "output_type": "stream",
     "text": [
      "\r",
      " 48%|██████████████████████████████████████▏                                         | 143/300 [03:00<02:00,  1.30it/s]"
     ]
    },
    {
     "name": "stdout",
     "output_type": "stream",
     "text": [
      "\" araç borusan çıkışlı olup , borusan bakımlıdır . herhangi bir kazası yoktur . sadece sağ ön çamurluk ve kaput , sol arka çamurluk , kaput , sağ ön kapı , arka tampon ve yan marşpiyel , arka çamurluk , sağ ön kapı ve arka tampon ve bagaj kapağı değişmiştir . ( orjinal bir karış boya vardır ) , hayalet gösterge , vakumlu kapılar , elektrikli bagaj , hayalet ekran , hafızalı koltuk , elektrikli , ısıtmalı , hafızalı katlanır ayna , elektrikli direksiyon , ısıtmalı koltuklar , elektrikli hafızalı koltuklar , ön ve arka park sensörü , geri görüş kamerası , far yıkama , ısıtmalı ön koltuklar , elektrikli arka perde , elektrikli arka perde , elektrikli katlanır aynalar , anahtarsız çalıştırma , start stop , anahtarsız çalıştırma , start stop , anahtarsız çalıştırma , sis farı , yağmur sensörü , far sensörü , kararan dikiz aynası , fonksiyonel deri direksiyon , elektrikli , ısıtmalı ön koltuklar , elektrikli arka perde , yan makam perdeleri , elektrikli arka perde , elektrikli , hafızalı sürücü koltuğu , elektrikli , hafızalı , ısıtmalı , katlanır aynalar , elektrikli ön koltuklar , hafızalı sürücü koltuğu , elektrikli arka perde , elektrikli arka perde , elektrikli katlanır ayna , bi xenon far , yağmur , far , park sensörü , far yıkama , ışık paketi , kapı kolu aydınlatma dijital klima , arka park sensörü , yağmur sensörü , far sensörü , kararan iç dikiz aynası , abs , asr , esp , radyo cd çalar , yol bilgisayarı , fonksiyonel deri direksiyon , ön arka park sensörü , sis farı , far sensörü , yağmur sensörü , kararan dikiz aynası , abs , asr , esp , alarm , 4 cam , elektrikli aynalar , elektrikli arka perde , elektrikli arka\n",
      "\n"
     ]
    },
    {
     "name": "stderr",
     "output_type": "stream",
     "text": [
      "\r",
      " 48%|██████████████████████████████████████▍                                         | 144/300 [03:03<03:35,  1.38s/it]"
     ]
    },
    {
     "name": "stdout",
     "output_type": "stream",
     "text": [
      "\" ​ borusan çıkışlı bmw 5 . 20i premium 170 hp hayalet ekran vakumlu kapılar elektrikli bagaj elektrikli hafızalı ısıtmalı koltuklar sunroof geri görüş kamerası elektrikli perde arka makam perde ön arka park sensörü elektrikli katlanır ayna bi xenon far far yıkama far ve yağmur sensörü ön arka park sensörü geri görüş kamerası park sensörü ön arka kol dayama sürüş modları elektrikli arka perde sis farı çelik jant sis farı ışık paket cd mp3 çalar usb aux bluetooth telefon bağlantısı park mesafe kontrol\n",
      "\n"
     ]
    },
    {
     "name": "stderr",
     "output_type": "stream",
     "text": [
      "\r",
      " 48%|██████████████████████████████████████▋                                         | 145/300 [03:04<03:06,  1.20s/it]"
     ]
    },
    {
     "name": "stdout",
     "output_type": "stream",
     "text": [
      "\" 2014 model bmw 5 . 20i premium sunroof deri koltuk elektrikli bagaj bi xenon far far yıkama sunroof hayalet ekran vakumlu kapılar elektrikli bagaj geri görüş kamerası elektrikli hafızalı koltuk elektrikli ön koltuklar ısıtmalı ön koltuklar hafızalı sürücü koltuğu elektrikli yolcu koltuğu ısıtmalı ön koltuklar elektrikli direksiyon elektrikli direksiyon ayarı elektrikli katlanır aynalar elektrikli arka perde bı xenon far far yıkama yağmur sensörü ön arka park sensörü far sensörü ön arka park sensörü yağmur sensörü far sensörü isofix vs . vs vs vs vs vs vs vs vs vs vs vs vs vs vs vs vs vs\n",
      "\n"
     ]
    },
    {
     "name": "stderr",
     "output_type": "stream",
     "text": [
      "\r",
      " 49%|██████████████████████████████████████▉                                         | 146/300 [03:05<02:53,  1.12s/it]"
     ]
    },
    {
     "name": "stdout",
     "output_type": "stream",
     "text": [
      "\" 2014 bmw 5 . 25d xdrive premium m sport plus paket hayalet ekran vakumlu kapılar hayalet gösterge vakumlu kapılar elektrikli bagaj hayalet ekran vakumlu kapılar sunroof elektrikli ısıtmalı hafızalı koltuklar koltuk ısıtma elektrikli arka perde elektrikli arka perde elektrikli arka perde yan protokol perde yan makam perdeleri ön arka park sensörü yağmur sensörü far sensörü far sensörü ışık paketi anahtarsız çalıştırma start stop bluetooth aux usb cd çalar aux girişi bluetooth telefon bağlantısı yokuş kalkış desteği yağmur sensörü far sensörü ön ve arka park sensörü fonksiyonel deri direksiyon simidi ön kol dayama arka kol dayama ısofıx ımmobılızer aluminyum alaşımlı jantlar elektrikli , ısıtmalı aynalar elektrikli camlar uzaktan kumandalı merkezi kilit ön kol dayama arka kol dayama isofix aracın sağ ön çamurluğu değişmiştir , sağ arka kapı ve sağ arka çamurluğunda boya vardır . sağ arka çamurlukta çizik boyası vardır . \"\n",
      "\n"
     ]
    },
    {
     "name": "stderr",
     "output_type": "stream",
     "text": [
      "\r",
      " 49%|███████████████████████████████████████▏                                        | 147/300 [03:06<03:04,  1.21s/it]"
     ]
    },
    {
     "name": "stdout",
     "output_type": "stream",
     "text": [
      "\" ​ ​ ​ ​ ​ ​ ​ 2016 model yılı 2012 bmw 5 . 25 x drive premium borusan çıkışlı borusan bakımlı hatasız boyasız tramersiz hayalet gösterge vakumlu kapılar hayalet gösterge vakumlu kapılar elektrikli bagaj hayalet ekran vakumlu kapılar elektrikli bagaj geri görüş kamerası elektrikli hafızalı koltuklar ısıtmalı ön koltuklar elk . hafızalı sürücü koltuğu ısıtmalı ön koltuklar geri görüş kamerası elektrikli direksiyon elektrikli katlanır yan aynalar elektrikli arka perde elektrikli arka perde elektrikli arka perde elektrikli katlanır ayna elektrokrom iç ayna led sis farları far yıkama yağmur sensörü far sensörü ön arka park sensörü elektrikli arka perde yan makam perdeleri kararan dikiz aynası elektrikli katlanır yan aynalar elektrikli arka perde bluetooth telefon hazırlık sis farı alaşımlı jantlar vs vs vs vs vs vs vs vs vs vs vs vs vs vs vs vs vs vs vs vs vs vs\n",
      "\n"
     ]
    },
    {
     "name": "stderr",
     "output_type": "stream",
     "text": [
      "\r",
      " 49%|███████████████████████████████████████▍                                        | 148/300 [03:08<03:09,  1.25s/it]"
     ]
    },
    {
     "name": "stdout",
     "output_type": "stream",
     "text": [
      "\" araç bilgileri aracımız tamamen orjinal olup servis bakımlıdır . orjinal m sport paket olup , m paket , sunroof , elektrikli hafızalı sürücü koltuğu , ısıtmalı , hafızalı , elektrikli , ısıtmalı koltuklar , elektrikli katlanır ayna , elektrikli , hafızalı , ısıtmalı , koltuklar , koltuk ısıtma , elektrikli direksiyon , hafızalı koltuklar , elektrikli arka perde , yan makam perdeleri , hafızalı koltuklar , elektrikli direksiyon , elektrikli katlanır ayna , bi xenon , led gündüz led farları , geri görüş kamerası , arka park sensörü , yağmur sensörü , far sensörü , kararan iç dikiz aynası , far sensörü , yağmur sensörü , park sensörü , , kararan iç dikiz aynası , abs , asr , esp , asr , esp , radyo cd mp3 çalar , yol bilgisayarı , fonksiyonel direksiyon , far sensörü , yağmur , ön arka park sensörü , fonksiyonel direksiyon , elektrikli arka perde , elektrikli katlanır ayna , far yıkama , bluetooth , aux , usb , cd çalar , , , cd çalar , bluetooth , park sensörü , yağmur sensörü , kararan iç dikiz aynası , abs , asr , esp , radyo cd çalar , yol bilgisayarı , fonksiyonel direksiyon , ön arka kol dayama , isofix mevcuttur . \"\n",
      "\n"
     ]
    },
    {
     "name": "stderr",
     "output_type": "stream",
     "text": [
      "\r",
      " 50%|███████████████████████████████████████▋                                        | 149/300 [03:10<03:51,  1.54s/it]"
     ]
    },
    {
     "name": "stdout",
     "output_type": "stream",
     "text": [
      "\" 2011 model bmw 5 . 20d comfort paket sunroof elektrikli hafızalı koltuk ısıtmalı elektrikli ön koltuklar koltuk ısıtma geri görüş kamerası ön arka park sensörü far sensörü yağmur sensörü far sensörü ön arka park sensörü elektrikli arka perde arka kol dayama ön arka park sensörü far sensörü yağmur sensörü far sensörü ön ve arka park sensörü fonksiyonel deri direksiyon simidi ayarlanabilir direksiyon fonksiyonel direksiyon bluetooth aux usb mp3 cd çalar bluetooth telefon bağlantısı fonksiyonel direksiyon elektrikli arka perde elektrikli yan aynalar ön ve arka park sensörü far gece sensörü yağmur sensörü ön ve arka park sensörü elektrikli arka perde yan protokol perdeler\n",
      "\n"
     ]
    },
    {
     "name": "stderr",
     "output_type": "stream",
     "text": [
      "\r",
      " 50%|████████████████████████████████████████                                        | 150/300 [03:11<03:40,  1.47s/it]"
     ]
    },
    {
     "name": "stdout",
     "output_type": "stream",
     "text": [
      "\" 2014 model bmw 5 . 25d xdrive m sport plus 1 . 6 motor 170 hp 8 ileri otomatik vites sunroof bej deri döşeme elektrikli hafızalı sürücü koltuğu elektrikli yolcu koltuğu geri görüş kamerası ön ve arka park sensörü elektrikli ısıtmalı katlanır aynalar çift yönlü dijital klima geri görüş kamerası bluetooth telefon bağlantısı usb aux girişi far sensörü yağmur sensörü park mesafe sensörü fonksiyonel m deri direksiyon simidi hill holder ( yokuş kalkış desteği ) usb aux cd mp3 çalar yol bilgisayarı lastik basınç sensörü yakıt tüketim göstergesi yol bilgisayarı ön ve arka kol dayama yağmur sensörü ısofıx çocuk koltuğu bağlantısı telefon bağlantısı masaj fonksiyonu ön ve arka kol dayama ısofıx ımmobılızer aluminyum alaşımlı jantlar elektrikli arka perde hava yastıkları ön yolcu koltuğunda doluluk sensörü elektirikli arka perde hava yastıkları alarm ımmobılızer elektrikli , ısıtmalı aynalar elektrikli , ısıtmalı aynalar elektrikli camlar uzaktan kumandalı merkezi kilit ön kol dayama arka kol dayama alarm ımmobılızer aluminyum alaşımlı jantlar elektrikli aynalar elektrikli camlar uzaktan kumandalı merkezi kilit ön kol dayama arka kol dayama arka kol dayama isofix iç ambians lambası akustik kemer uyarsı kararan dikiz aynası aux usb auto hold \"\n",
      "\n"
     ]
    },
    {
     "name": "stderr",
     "output_type": "stream",
     "text": [
      "\r",
      " 50%|████████████████████████████████████████▎                                       | 151/300 [03:13<04:12,  1.70s/it]"
     ]
    },
    {
     "name": "stdout",
     "output_type": "stream",
     "text": [
      "\" araç borusan çıkışlı olup , 2016 yılı trafiğe çıkmıştır . kaza , boya , değişen yoktur . 3 4 parça boya mevcuttur , değişen ve boyanan parçası yoktur . istediğiniz yere gösterebilirsiniz . \"\n",
      "\n"
     ]
    },
    {
     "name": "stderr",
     "output_type": "stream",
     "text": [
      "\r",
      " 51%|████████████████████████████████████████▌                                       | 152/300 [03:14<03:15,  1.32s/it]"
     ]
    },
    {
     "name": "stdout",
     "output_type": "stream",
     "text": [
      "\" araç borusan çıkışlı olup , borusan bakımlı olup , , , , , , , , , , , , , , , , , , , , , , , , , , , , , , , , , , , , , , , , , , , , , , , , , , , , , , , , , , , , , , , , , , , , , , , , , , , , , , , , , , , , , , , , , , , , , , , , , , , , , , , , , , , , , , , , , , , , , , , , , , , , , , , , , , , , , , , , , , , , , , , , , , , , , , , , , , , , , , , , , , , , , , , , , , , , , , , , , , , , , , , , , , , , , , , , , , , , , , , , , , , , , , , , , , , , , , , , , , , , , , , , , , , , , , , , , , , , , , , , , , , , , , , , , , , , , , , , , , , , , , , , , , , , , , , , , , , , , , , , , , , , , , , , , ,\n",
      "\n"
     ]
    },
    {
     "name": "stderr",
     "output_type": "stream",
     "text": [
      "\r",
      " 51%|████████████████████████████████████████▊                                       | 153/300 [03:17<04:26,  1.81s/it]"
     ]
    },
    {
     "name": "stdout",
     "output_type": "stream",
     "text": [
      "\" sahibinden satılık bmw 5 . 20i premium 170 hp dizel otomatik vites aracımız yetkili bayi çıkışlıdır . aracımız özel sipariş verilerek spor deri direksiyon simidi ön koltuklarda ısıtma sağ sol koltuk hafıza paketi ön koltuk ısıtma soğutma ön arka koltuk ısıtma soğutma ön arka koltuk masaj ön koltuklar ısıtma soğutma arka koltuk masaj fonksiyonu ön koltuk masaj fonksiyonu ön koltuk ısıtma paketi far yıkama ön arka park sensörü bi xenon farlar far yıkama sistemi otomatik klima ( ekranlı 2 bölge ) park mesafe kontrol ön arka bi xenon farlar yağmur sezicisi otomatik klima ( ekranlı 2 bölge ) fren fonksiyonlu cruıse control aydınlatma paketi bmw acil durum çağrısı bmw teleservıces türkçe ön panel gelişmiş gösterge paneli 7r3 akustik kemer uyarısı otomatik kapı kilit fonksiyonu adaptif süspansiyon comfort elekrikli kasko bedeli : 371 20 . 000tl kredi kullanım tutarı : 4 . 18 . 000 tl toplam tl anlaşmalı bankalar ile kredi imkanı bu aracın plakası : 34 000 tl 12 ay 0 faiz oranlı kredi tutarı : 130 . 000 tl banka taksit tutarı : 85 . 000 tl 48 ay toplam banka faiz tutarı : bu aracın kasko değeri : 000 . tl . 12 . yıkama sistemi tl . 12 . x tl 48 ay toplam banka faiz tutarı : 4 . yapan ilk sahibinden . com 420d x drive m sport 18 jantlar m sport jantlar elektrikli hafızalı koltuklar sürücü yolcu koltuğu elektrikli hafızalı sürücü koltuğu geri görüş kamerası bluetooth telefon bağlantısı soft close ( vakumlu kapılar ) elektrikli bagaj kapağı geri görüş kamerası elektrikli katlanır ayna elektrokrom iç ayna sesli uyarı sistemi yağmur sezici far sensörü far sensörü park mesafe sensörü lastik basınç sensörü yakıt tüketim göstergesi alüminyum iç trimler alüminyum iç trimler piano black trimler alüminyum iç trimler start & stop çift yönlü\n",
      "\n"
     ]
    },
    {
     "name": "stderr",
     "output_type": "stream",
     "text": [
      "\r",
      " 51%|█████████████████████████████████████████                                       | 154/300 [03:20<05:23,  2.22s/it]"
     ]
    },
    {
     "name": "stdout",
     "output_type": "stream",
     "text": [
      "\" araç borusan çıkışlı olup , ilk yardım çantası , orjinal değişen yok , boya , tramer kaydı yok , \"\n",
      "\n"
     ]
    },
    {
     "name": "stderr",
     "output_type": "stream",
     "text": [
      "\r",
      " 52%|█████████████████████████████████████████▎                                      | 155/300 [03:20<03:57,  1.64s/it]"
     ]
    },
    {
     "name": "stdout",
     "output_type": "stream",
     "text": [
      "\" araç borusan çıkışlı olup , borusan bakımlı , hayalet ekran , vakumlu kapılar , hayalet gösterge , vakumlu kapılar , elektrikli hafızalı sürücü koltuk , ısıtmalı koltuklar , elektrikli hafızalı sürücü koltuğu , elektrikli , hafızalı , ısıtmalı ön koltuklar , elektrikli arka perde , elektrikli direksiyon , elektrikli katlanır ayna , bi xenon far , far yıkama , bluetooth , aux , usb , servotronic direksiyon , elektrikli arka perde , elektrikli , hafızalı , ısıtmalı , elektrikli koltuklar , ısıtmalı ön koltuklar , elektrikli hafızalı sürücü koltuğu , elektrikli arka perde , elektrikli direksiyon , start & stop , anahtarsız çalıştırma , bi xenon farlar , far yıkama , far yıkama , ısıtmalı ön koltuklar , elektrikli hafızalı sürücü koltuğu , elektrikli katlanır ayna , anahtarsız çalıştırma , start stop , bluetooth , aux , servotronic direksiyon , start & stop , anahtarsız çalıştırma ışık paket , araç iniş , binişinde aydınlatma ön ve arka park yardım desteği , yan makam perdeleri , kararan iç dikiz aynası , abs , asr , esp , radyo cd çalar , otomatik kapı klit fonksiyonu ( kapılar açıkken araç hareket etmez ) patlamaz lastik yol bilgisayarı , lastik basınç sensörü , fonksiyonel spor deri direksiyon , ön kol dayama , arka park mesafe sensörü , türkçe ön panel ımmobılızer , aluminyum alaşımlı jantlar , elektrikli , ısıtmalı aynalar , elektrikli camlar , uzaktan kumandalı merkezi kilit , ön kol dayama , arka kol dayama , isofix mevcuttur . tramer kaydı yoktur . \"\n",
      "\n"
     ]
    },
    {
     "name": "stderr",
     "output_type": "stream",
     "text": [
      "\r",
      " 52%|█████████████████████████████████████████▌                                      | 156/300 [03:23<04:30,  1.88s/it]"
     ]
    },
    {
     "name": "stdout",
     "output_type": "stream",
     "text": [
      "\" 2016 bmw 5 . 25d xdrive premium borusan bayi çıkışlı dış renk : beyaz iç renk : bej deri koltuk ısıtma elektrikli direksiyon hafıza paketi koltuk ısıtma elektrikli hafızalı koltuk koltuk ısıtma elektrikli arka perde elektrikli arka perde yan makam perdeleri elektrikli arka perde elektrikli arka perde yan protokol perdeler elektrikli arka perde elektrikli arka perde elektrikli arka perde yan makam perdeleri elektrikli arka perde elektrikli katlanır aynalar elektrikli arka perde çift yönlü dijital klima katlanır ayna elektirikli ayarlanır yan aynalar ön arka park sensörü çift yönlü dijital klima yol bilgisayarı yağmur sensörü far sensörü far yıkama far sensörü yağmur sensörü ön arka park sensörü ön arka kol dayama aracımız da boya değişen hasar kaydı yoktur .\n",
      "\n"
     ]
    },
    {
     "name": "stderr",
     "output_type": "stream",
     "text": [
      "\r",
      " 52%|█████████████████████████████████████████▊                                      | 157/300 [03:24<04:05,  1.71s/it]"
     ]
    },
    {
     "name": "stdout",
     "output_type": "stream",
     "text": [
      "\" ​ bmw 5 . 20i premium borusan çıkışlı borusan bayi çıkışlı borusan bakımlı hayalet ekran vakumlu kapılar elektrikli bagaj hayalet ekran vakumlu kapılar sunroof elektrikli hafızalı koltuk elektrikli ısıtmalı hafızalı ön koltuklar elektrikli direksiyon ön arka kol dayama elektrikli direksiyon elektrikli arka perde elektrikli arka perde yan makam perdeleri geri görüş kamerası elektrikli arka perde elektrikli katlanır ayna geliştirilmiş gösterge paneli far yıkama yağmur sensörü ön arka park sensörü far sensörü sis farı far yıkama bluetooth usb aux bluetooth telefon bağlantısı hız sabitleyici cruise control ( hız sabitleme ) sis farı çelik jant park sensörü elektrikli katlanır aynalar far yağmur sensörü arka park sensörü bi xenon farlar far yıkama otomatik far sensörü yağmur sensörü ön arka park sensörü elektrikli arka perde elektrikli arka perde sis farı far yıkama sunroof sis farı çelik jant sis farı çelik jant sis farı çelik jant sis farı cd mp3 çalar usb aux giriş abs esp asr esp radyo cd mp3 çalar cd changer elektrikli ve ısıtmalı aynalar elektrikli arka perde elektrikli arka perde abs asr esp asr far sensörü yağmur sensörü ön arka park sensörü elektrikli arka perde yan makam perdeleri ön arka park sensörü yol bilgisayarı yağmur sensörü far sensörü otomatik kararan dikiz aynası elektrikli ısıtmalı aynalar elektrikli katlanır ayna far yağmur sensörü ön arka park sensörü elektrikli arka perde elektrikli yan aynalar ön arka park sensörü otomatik kararan dikiz aynası far sensörü yağmur sensörü far sensörü ön arka park sensörü elektrikli katlanır dış dikiz aynaları yağmur sensörü far sensörü ön ve arka park sensörü elektrikli arka perde yan makam perdeleri kararan dikiz aynası elektrikli yan aynalar far yağmur sensörü park mesafe sensörü geri görüş kamerası ön ve arka park sensörü yağmur sensörü far sensörü ön ve arka park sensörü elektrikli ısıtmalı aynalar ön arka park sensörü far sensörü sis farı\n",
      "\n"
     ]
    },
    {
     "name": "stderr",
     "output_type": "stream",
     "text": [
      "\r",
      " 53%|██████████████████████████████████████████▏                                     | 158/300 [03:28<05:23,  2.28s/it]"
     ]
    },
    {
     "name": "stdout",
     "output_type": "stream",
     "text": [
      "\" araç ilk sahibinden olup , değişen ve hasar kaydı yoktur . araç borusan çıkışlıdır . aracın ilk günkü temizliğinde olup olup herhangi bir masrafı yoktur . aracın yedek anahtarı vardır . aracın rengi beyaz içi bej deridir . en ufak bir deforme yoktur . tüm bakımları yapılmıştır . muayenesi yenidir . muayenesi yenidir . alıcısına hayırlı olsun . \"\n",
      "\n"
     ]
    },
    {
     "name": "stderr",
     "output_type": "stream",
     "text": [
      "\r",
      " 53%|██████████████████████████████████████████▍                                     | 159/300 [03:28<04:15,  1.81s/it]"
     ]
    },
    {
     "name": "stdout",
     "output_type": "stream",
     "text": [
      "\" 2017 bmw 4 . 18i gran coupe sport plus hatasız boyasız değişensiz hasar kayıtsız ( tramer ) borusan çıkışlı orjinal km de sıfırdan farksız borusan bakımlı hatasız boyasız tramersiz sunroof deri döşeme geri görüş kamerası ön arka park sensörü elektrikli ısıtmalı katlanır ayna ön arka park sensörü far sensörü yağmur sensörü far sensörü ön arka park sensörü ön arka kol dayama ön arka park sensörü far sensörü yağmur sensörü ön arka park sensörü elektrikli fonksiyonel deri direksiyon simidi ön kol dayama arka kol dayama isofix\n",
      "\n"
     ]
    },
    {
     "name": "stderr",
     "output_type": "stream",
     "text": [
      "\r",
      " 53%|██████████████████████████████████████████▋                                     | 160/300 [03:29<03:40,  1.57s/it]"
     ]
    },
    {
     "name": "stdout",
     "output_type": "stream",
     "text": [
      "\" araç kosifler çıkışlıdır . aracın tüm bakımları yapılmıştır . muayenesi yenidir . lastikleri iyi durumdadır . muayenesi yenidir . muayenesi 2020 yılına kadar vardır . aracın 2 . sahibiyim . 2 . sahibiyim . araç . şanzuman ve yağı , filtreler yeni değişmiştir . alan kişi masraf yapmadan kullanacaktır . aracımızda sağ ön çamurluk ve kaput ön tampon değişti . sol arka çamurluk ve ön kaput ucu lokal boya mevcuttur . tramer kaydı yoktur . \"\n",
      "\n"
     ]
    },
    {
     "name": "stderr",
     "output_type": "stream",
     "text": [
      "\r",
      " 54%|██████████████████████████████████████████▉                                     | 161/300 [03:30<03:12,  1.38s/it]"
     ]
    },
    {
     "name": "stdout",
     "output_type": "stream",
     "text": [
      "\" aracımız borusan çıkışlı olup , servis bakımlıdır . tüm bakımları yetkili serviste yapılmıştır . aracımız servis bakımlıdır . en full modelidir . aracımızın motoru , yürürü motoru , yürüyeni , şanzumanı kusursuzdur . lastikleri iyi durumdadır . muayenesi yeni yapılmıştır . aracın yedek anahtarı mevcuttur .\n",
      "\n"
     ]
    },
    {
     "name": "stderr",
     "output_type": "stream",
     "text": [
      "\r",
      " 54%|███████████████████████████████████████████▏                                    | 162/300 [03:31<02:36,  1.13s/it]"
     ]
    },
    {
     "name": "stdout",
     "output_type": "stream",
     "text": [
      "\" araç borusan bayi çıkışlıdır . araç borusan çıkışlı olup , orjinal km dedir . servis bakımlıdır . içi dışı tertemiz deforme yoktur . aracın tüm bakımları yapılmıştır . muayenesi mevcuttur . aracın üzerinde 4 adet kışlık lastik vardır . aracın yedek anahtarı ve kitapçıkları mevcuttur . araç özellikleri ; sunroof hayalet ekran vakumlu kapılar elektrikli bagaj hafızalı koltuk elektrikli direksiyon ön ve arka park sensörü elektrikli bagaj direksiyon ısıtma elektrikli arka perde elektrikli arka perde bluetooth telefon hazırlık sis farı 4 farklı sürüş modu eco comfort sport sürüş modları auto hold yokuş kalkış desteği yağmur sensörü far sensörü ön arka park sensörü geri görüş kamerası çelik jant sis farı far yıkama sunroof led sis farı cd çalar yol bilgisayarı fonksiyonel direksiyon elektrikli katlanır ayna yağmur far sensörü ön arka park sensörü elektrikli katlanır ayna far ve yağmur sensörü ışık paket 4 cam otomatik sunroof elektrikli bagaj kapağı bluetooth telefon hazırlık sis farı far gece sensörü park sensörü yağmur sensörü ön ve arka park sensörü yakıt tüketim göstergesi otomatik kararan iç dikiz aynası ısofix\n",
      "\n"
     ]
    },
    {
     "name": "stderr",
     "output_type": "stream",
     "text": [
      "\r",
      " 54%|███████████████████████████████████████████▍                                    | 163/300 [03:33<03:02,  1.33s/it]"
     ]
    },
    {
     "name": "stdout",
     "output_type": "stream",
     "text": [
      "\" bmw 5 . 20i premium bayi çıkışlı dış renk sedefli beyaz vakumlu kapılar hayalet ekran vakumlu kapılar elektrikli bagaj hayalet ekran vakumlu kapılar elektrikli bagaj hayalet ekran vakumlu kapılar elektrikli bagaj kapağı geri görüş kamerası bej deri döşeme elektrikli katlanır aynalar çift yönlü dijital klima anahtarsız çalıştırma start stop eco comfort sport sport plus sürüş modları far ve yağmur sensörü ön ve arka park sensörü far yıkama ön arka park sensörü far gece sensörü park sensörü yağmur sensörü far sensörü sis farı çelik jant sis farı ışık paket usb aux bluetooth telefon bağlantısı fonksiyonel deri direksiyon yol bilgisayarı fonksiyonel direksiyon elektrikli arka perde elektrikli arka perde yan makam perdeleri arka perde sis farı abs asr esp asr start stop hız sabitleyici bluetooth telefon elektrikli katlanır aynalar ön arka park sensörü geri görüş kamerası usb aux bluetooth telefon baglantısı radyo cd mp3 çalar cd çalar usb aux giriş abs esp asr start stop yol bilgisayarı fonksiyonel deri direksiyon bluetooth aux usb girişi bluetooth telefon bağlantısı cd changer aux ın usb girişi abs asr esp yol bilgisayarı yağmur sensörü far sensörü start stop ön arka kol dayama sis farı çelik jant sis farı çelik jant sis farı çelik jant sis farı alaşımlı çelik jant sis farı çelik jant sis farı far yıkama ışık paket cd çalar usb aux bluetooth telefon bağlantısı park sensörü geri görüş kamerası fonksiyonel direksiyon m deri direksiyon simidi yükseklik ayarlı direksiyon hafızalı koltuk elektrikli ön koltuklar elektrikli arka perde yan makam perdeleri kararan dikiz aynası elektrikli arka perde yan makam perdeleri elektrikli arka perde bluetooth telefon hazırlık sis farı alaşımlı jantlar ön ve arka park sensörü far sensörü yağmur sensörü far yıkama sis farı çelik jantlar vs . vs . vs . vs . vs . vs . vs . vs . vs . vs .\n",
      "\n"
     ]
    },
    {
     "name": "stderr",
     "output_type": "stream",
     "text": [
      "\r",
      " 55%|███████████████████████████████████████████▋                                    | 164/300 [03:36<04:02,  1.79s/it]"
     ]
    },
    {
     "name": "stdout",
     "output_type": "stream",
     "text": [
      "\" araç borusan çıkışlı olup , borusan bakımlıdır . km kesinlikle orjinaldir . boya değişen yoktur . tramer kaydı yoktur . araç yetkili servis bakımlıdır . bakımları yeni yapılmıştır .\n",
      "\n"
     ]
    },
    {
     "name": "stderr",
     "output_type": "stream",
     "text": [
      "\r",
      " 55%|████████████████████████████████████████████                                    | 165/300 [03:36<03:00,  1.34s/it]"
     ]
    },
    {
     "name": "stdout",
     "output_type": "stream",
     "text": [
      "\" araç borusan çıkışlı olup , tüm bakımları yetkili serviste yapılmıştır . araç ilk sahibinden olup , servis bakımlıdır . bakımları yeni yapılmıştır . muayenesi yeni yapılmıştır . orjinal iç dış m paket olup . m sport süspansiyon iptali m sport ön tampon m sport ön tampon m sport ön tampon m marşbiyel , 18 m sport jantlar , m ön tampon , m marşbiyel , 18 m jant , m tampon , m , m ön tampon , m marşbiyel , 18 m jant , m direksiyon , m paket , elektrikli bagaj , hafızalı sürücü koltuğu , elektrikli , ısıtmalı , hafızalı , elektrikli koltuklar , elektrikli arka perde , elektrikli katlanır ayna , elektrikli , hafızalı , ısıtmalı , koltuklar , ısıtmalı ön koltuklar , elektrikli arka perde , elektrikli arka perde , elektrikli direksiyon , hafızalı koltuklar , elektrikli direksiyon , elektrikli katlanır ayna , ön ve arka park sensörü , kararan iç dikiz aynası , bmw connected drive , uzaktan kumandalı bagaj , hız sabitleyici , ısıtmalı , hafızalı , elektrikli ön koltuklar , elektrikli arka perde , elektrikli arka perde , elektrikli katlanır ayna , far yıkama , far sensörü , yağmur sensörü , araç iniş , binişinde aydınlatma ön ve arka park sensörü , far sensörü , yağmur sensörü , kararan iç dikiz aynası , fonksiyonel deri direksiyon , far yıkama , far , yağmur sensörü , ön arka park sensörü , lastik basınç sensörü , kararan iç dikiz aynası , abs , asr , esp , alarm , ımmobılızer , elektrikli , ısıtmalı aynalar , elektrikli camlar , uzaktan kumandalı merkezi kilit , ön kol dayama , arka kol dayama , isofix mevcuttur . \"\n",
      "\n"
     ]
    },
    {
     "name": "stderr",
     "output_type": "stream",
     "text": [
      "\r",
      " 55%|████████████████████████████████████████████▎                                   | 166/300 [03:39<03:55,  1.76s/it]"
     ]
    },
    {
     "name": "stdout",
     "output_type": "stream",
     "text": [
      "\" aracım borusan çıkışlı olup , ilk sahibi , vakum , hayalet , , , , , , , , , , , , , , , , , , , , , , , , , , , , , , , , , , , , , , , , , , , , , , , , , , , , , , , , , , , , , , , , , , , , , , , , , , , , , , , , , , , , , , , , , , , , , , , , , , , , , , , , , , , , , , , , , , , , , , , , , , , , , , , , , , , , , , , , , , , , , , , , , , , , , , , , , , , , , , , , , , , , , , , , , , , , , , , , , , , , , , , , , , , , , , , , , , , , , , , , , , , , , , , , , , , , , , , , , , , , , , , , , , , , , , , , , , , , , , , , , , , , , , , , , , , , , , , , , , , , , , , , , , , , , , , , , , , , , , , , , , , , , , ,\n",
      "\n"
     ]
    },
    {
     "name": "stderr",
     "output_type": "stream",
     "text": [
      "\r",
      " 56%|████████████████████████████████████████████▌                                   | 167/300 [03:42<04:40,  2.11s/it]"
     ]
    },
    {
     "name": "stdout",
     "output_type": "stream",
     "text": [
      "\" araç borusan çıkışlı olup , ilk sahibi , 2016 yılı çıkışlı , dış renk beyaz iç dış m paket , spor deri , recaro , hafızalı , bel şişirmeli ve ısıtmalı koltuklar , elektrikli ve hafızalı sürücü koltuğu , elektrikli yolcu koltuğu , hafızalı ve ısıtmalı ön koltuklar , elektrikli arka perde , yan makam perdeleri , elektrikli arka perde , elektrikli arka perde , elektrikli hafızalı koltuklar , bluetooth , aux , usb , servotronic direksiyon , start & stop , anahtarsız çalıştırma , start stop , anahtarsız çalıştırma , ışık paketi , yokuş kalkış desteği , hız sabitleyici , ısıtmalı , hafızalı , elektrikli ön koltuklar , elektrikli , hafızalı ve ısıtmalı ön koltuklar , elektrikli direksiyon , elektrikli arka perde , yan makam perdeleri , elektrikli direksiyon , hafızalı , elektrikli ve ısıtmalı ön koltuklar , elektrikli arka perde , yan makam perdeleri , elektrikli arka perde , elektrikli katlanır aynalar , elektronik park freni , araç iniş , binişinde aydınlatma sis farı , yağmur sensörü , kararan iç dikiz aynası , otomatik far sensörü , gelişmiş gösterge paneli , abs , asr , esp , radyo cd çalar , otomatik kapı klit fonksiyonu ( kapılar açıkken araç hareket etmez ) patlamaz lastik yol bilgisayarı , lastik basınç sensörü , otomatik far sensörü , yukseklik ayarlı sürücü ve yolcu koltuğu ayarlanabilir direksiyon arka park mesafe sensörü , türkçe ön panel ımmobılızer , aluminyum alaşımlı jantlar , elektrikli , ısıtmalı aynalar , elektrikli camlar , uzaktan kumandalı merkezi kilit , ön kol dayama , arka kol dayama , isofix mevcuttur . \"\n",
      "\n"
     ]
    },
    {
     "name": "stderr",
     "output_type": "stream",
     "text": [
      "\r",
      " 56%|████████████████████████████████████████████▊                                   | 168/300 [03:44<04:55,  2.24s/it]"
     ]
    },
    {
     "name": "stdout",
     "output_type": "stream",
     "text": [
      "\" araç borusan çıkışlı olup , bakımlı , masrafsız , , , , , , , , , , , , , , , , , , , , , , , , , , , , , , , , , , , , , , , , , , , , , , , , , , , , , , , , , , , , , , , , , , , , , , , , , , , , , , , , , , , , , , , , , , , , , , , , , , , , , , , , , , , , , , , , , , , , , , , , , , , , , , , , , , , , , , , , , , , , , , , , , , , , , , , , , , , , , , , , , , , , , , , , , , , , , , , , , , , , , , , , , , , , , , , , , , , , , , , , , , , , , , , , , , , , , , , , , , , , , , , , , , , , , , , , , , , , , , , , , , , , , , , , , , , , , , , , , , , , , , , , , , , , , , , , , , , , , , , , , , , , , , , , , ,\n",
      "\n"
     ]
    },
    {
     "name": "stderr",
     "output_type": "stream",
     "text": [
      "\r",
      " 56%|█████████████████████████████████████████████                                   | 169/300 [03:47<05:28,  2.51s/it]"
     ]
    },
    {
     "name": "stdout",
     "output_type": "stream",
     "text": [
      "\" ​ ​ ​ ​ aracımız yetkili bayii bayii çıkışlıdır . aracımız yetkili servis bakımlıdır . bakımları yeni yapılmıştır .\n",
      "\n"
     ]
    },
    {
     "name": "stderr",
     "output_type": "stream",
     "text": [
      "\r",
      " 57%|█████████████████████████████████████████████▎                                  | 170/300 [03:47<03:58,  1.84s/it]"
     ]
    },
    {
     "name": "stdout",
     "output_type": "stream",
     "text": [
      "\" ​ ​ ​ ​ ​ satış ve fiyatı uygulaması 2 . el taşıt kredi imkanı 2012 model bmw 5 . 25 d x drive premium borusan çıkışlı 218 hp borusan bayi çıkışlı borusan bakımlı hayalet gösterge vakumlu kapılar elektrikli bagaj hayalet ekran vakumlu kapılar elektrikli bagaj hayalet ekran vakumlu kapılar elektrikli bagaj hayalet ekran vakumlu kapılar geri görüş kamerası elektrikli direksiyon elektrikli bagaj kapağı geri görüş kamerası vakumlu kapılar elektrikli bagaj kapağı elektrikli arka perde bi xenon farlar elektrikli katlanır aynalar elektrikli arka perde elektrikli katlanır ayna çift yönlü dijital klima geri görüş kamerası ön ve arka park sensörü far sensörü yağmur sensörü far sensörü ön arka park sensörü sis farı alaşımlı çelik jantlar elektrikli arka perde bluetooth aux usb cd mp3 çalar çelik jant sis farı çelik jant sis farı çelik jant sis farı park sensörü yağmur sensörü far sensörü kararan dikiz aynası fonksiyonel deri direksiyon elektrikli arka perde elektrikli arka perde sis farı cd mp3 calar park sensörü hız sabitleyici star stop anahtarsız çalıştırma eco comfort sport sürüş modu vs vs vs vs vs vs vs vs vs vs vs vs vs vs vs vs vs vs vs vs vs vs vs vs vs vs yoktur\n",
      "\n"
     ]
    },
    {
     "name": "stderr",
     "output_type": "stream",
     "text": [
      "\r",
      " 57%|█████████████████████████████████████████████▌                                  | 171/300 [03:49<04:00,  1.86s/it]"
     ]
    },
    {
     "name": "stdout",
     "output_type": "stream",
     "text": [
      "\" araç model bilgisi ; araç borusan çıkışlı olup , bakımlı olup , , , , , , , , , , , , , , , , , , , , , , , , , , , , , , , , , , , , , , , , , , , , , , , , , , , , , , , , , , , , , , , , , , , , , , , , , , , , , , , , , , , , , , , , , , , , , , , , , , , , , , , , , , , , , , , , , , , , , , , , , , , , , , , , , , , , , , , , , , , , , , , , , , , , , , , , , , , , , , , , , , , , , , , , , , , , , , , , , , , , , , , , , , , , , , , , , , , , , , , , , , , , , , , , , , , , , , , , , , , , , , , , , , , , , , , , , , , , , , , , , , , , , , , , , , , , , , , , , , , , , , , , , , , , , , , , , , , , , , , , , , , , , , ,\n",
      "\n"
     ]
    },
    {
     "name": "stderr",
     "output_type": "stream",
     "text": [
      "\r",
      " 57%|█████████████████████████████████████████████▊                                  | 172/300 [03:52<04:37,  2.16s/it]"
     ]
    },
    {
     "name": "stdout",
     "output_type": "stream",
     "text": [
      "\" araç model bilgisi ; bmw 5 . 20i executıve m sport plus hatasız boyasız hasar kaydı : yok . donanım metalik siyah safir dakota deri döşeme türkiye paketi otomatik şanzıman 8 ileri servotronıc çok fonksiyonlu direksiyon gelişmiş gösterge paneli servotronik direksiyon otomatik şanzıman 8 ileri elektrikli cam tavan , bagaj kapağı , soft close ( vakumlu ) kapılar ( busıness paket ) otomatik şanzıman ( 8 ileri ) f1 vites ( cruise control ) bmw connected drive ( uzaktan kontrol edilebilir ) bmw connected drive ( uzaktan kontrol edilebilir ) bmw connected drive ( bmw acil durum çağrısı ) bmw teleservıces bmw acil durum çağrısı bmw teleservıces geliştirilmiş gösterge paneli iç dış ışık paketi iç dış ışık paketi kapı kolu aydınlatma kapı kolu aydınlatma otomatik kararan iç dikiz aynası bluetooth aux usb bluetooth telefon hazırlık sis farı alaşımlı jantlar bluetooth aux usb girişi bluetooth telefon bağlantısı aux ın usb girişi hız sabitleyici ön ve arka kol dayama ısofıx 18 m sport jantlar vs . vs . aracımız yetkili bayii olup bakımlıdır . yedek anahtarı mevcuttur . \"\n",
      "\n"
     ]
    },
    {
     "name": "stderr",
     "output_type": "stream",
     "text": [
      "\r",
      " 58%|██████████████████████████████████████████████▏                                 | 173/300 [03:54<04:17,  2.03s/it]"
     ]
    },
    {
     "name": "stdout",
     "output_type": "stream",
     "text": [
      "\" araç , borusan çıkışlı olup , 2013 model yılı dış m paket , borusan çıkışlı , borusan bakımlı , hayalet gösterge , vakumlu kapılar , elektrikli hafızalı koltuk , elektrikli hafızalı sürücü koltuğu , elektrikli hafızalı sürücü koltuğu , elektrikli ön koltuklar , ısıtmalı ön koltuklar , elektrikli arka perde , elektrikli katlanır ayna , bi xenon far , far yıkama , bluetooth , aux , servotronic direksiyon , start & stop , anahtarsız çalıştırma , ışık paket , anahtarsız çalıştırma , start & stop , stop , anahtarsız çalıştırma ışık paketi , sis farı , yağmur sensörü , kararan iç dikiz aynası , far sensörü , gelişmiş gösterge , fonksiyonel direksiyon , far yıkama , led sis farı , yağmur sensörü , far sensörü , kararan iç dikiz aynası , abs , asr , esp , asr , esp , radyo cd mp3 çalar , yol bilgisayarı , fonksiyonel direksiyon , far sensörü , yağmur sensörü , ön arka park sensörü , fonksiyonel direksiyon , arka cam dahil film , camlar , elektrikli , ısıtmalı aynalar , elektrikli aynalar , ısıtmalı , soğutmalı ön koltuklar , arka kol dayama , isofix mevcuttur . \"\n",
      "\n"
     ]
    },
    {
     "name": "stderr",
     "output_type": "stream",
     "text": [
      "\r",
      " 58%|██████████████████████████████████████████████▍                                 | 174/300 [03:56<04:10,  1.99s/it]"
     ]
    },
    {
     "name": "stdout",
     "output_type": "stream",
     "text": [
      "\" aracım borusan çıkışlı olup , orjinal m sport , comfort , paket , sunroof , , , , , , , , , , , , , , , , , , , , , , , , , , , , , , , , , , , , , , , , , , , , , , , , , , , , , , , , , , , , , , , , , , , , , , , , , , , , , , , , , , , , , , , , , , , , , , , , , , , , , , , , , , , , , , , , , , , , , , , , , , , , , , , , , , , , , , , , , , , , , , , , , , , , , , , , , , , , , , , , , , , , , , , , , , , , , , , , , , , , , , , , , , , , , , , , , , , , , , , , , , , , , , , , , , , , , , , , , , , , , , , , , , , , , , , , , , , , , , , , , , , , , , , , , , , , , , , , , , , , , , , , , , , , , , , , , , , , , , , , , , , ,\n",
      "\n"
     ]
    },
    {
     "name": "stderr",
     "output_type": "stream",
     "text": [
      "\r",
      " 58%|██████████████████████████████████████████████▋                                 | 175/300 [03:59<04:51,  2.33s/it]"
     ]
    },
    {
     "name": "stdout",
     "output_type": "stream",
     "text": [
      "\" araç model bilgisi ; bmw 5 . 20i premium otomatik vites aracımız yetkili servis bakımlıdır . boya değişen yoktur . sadece sağ ön kapı ve sağ ön çamurluk boya ve ön kaput değişmiştir . araç fazlalığından dolayı satılıktır . alıcısına şimdiden hayırlı olsun . \"\n",
      "\n"
     ]
    },
    {
     "name": "stderr",
     "output_type": "stream",
     "text": [
      "\r",
      " 59%|██████████████████████████████████████████████▉                                 | 176/300 [04:00<03:43,  1.81s/it]"
     ]
    },
    {
     "name": "stdout",
     "output_type": "stream",
     "text": [
      "\" 2012 model bmw 5 . 25d xdrive m sport plus sunroof bi xenon farlar far sensörü yağmur sensörü far sensörü büyük ekran geri görüş kamerası usb aux girişi bluetooth telefon bağlantısı usb aux bağlantısı park mesafe kontrol ön arka kol dayama katlanır arka dikiz aynası aynaları elektrikli arka perde elektrikli yan perde hava yastıkları run flat lastikler\n",
      "\n"
     ]
    },
    {
     "name": "stderr",
     "output_type": "stream",
     "text": [
      "\r",
      " 59%|███████████████████████████████████████████████▏                                | 177/300 [04:00<03:01,  1.47s/it]"
     ]
    },
    {
     "name": "stdout",
     "output_type": "stream",
     "text": [
      "\" araç model bilgisi ; bmw 5 . 20i premium otomatik vites sunroof ( açılır cam tavan ) bi xenon farlar led gündüz farları geri görüş kamerası elektrikli arka perde elektrikli arka perde elektrikli hafızalı ısıtmalı katlanır ayna yağmur sensörü far sensörü ön arka park sensörü elektrikli katlanır ayna far sensörü yağmur sensörü far sensörü ön arka park sensörü ön arka kol dayama\n",
      "\n"
     ]
    },
    {
     "name": "stderr",
     "output_type": "stream",
     "text": [
      "\r",
      " 59%|███████████████████████████████████████████████▍                                | 178/300 [04:01<02:31,  1.24s/it]"
     ]
    },
    {
     "name": "stdout",
     "output_type": "stream",
     "text": [
      "\" aracımız temiz ve bakımlı bir araçtır . 4 lastik yeni masrafsız . araç fazlalığından satılıktır .\n",
      "\n"
     ]
    },
    {
     "name": "stderr",
     "output_type": "stream",
     "text": [
      "\r",
      " 60%|███████████████████████████████████████████████▋                                | 179/300 [04:01<01:52,  1.07it/s]"
     ]
    },
    {
     "name": "stdout",
     "output_type": "stream",
     "text": [
      "\" 2014 model bmw 5 . 20i premium 170 hp borusan çıkışlı sunroof bej deri döşeme elektrikli hafızalı sürücü koltuğu elektrikli yolcu koltuğu ısıtmalı ön koltuklar geri görüş kamerası elektrikli hafızalı sürücü koltuğu elektrikli yolcu koltuğu ısıtmalı ön koltuklar elektrikli direksiyon ayarı elektrikli arka perde elektrikli yan ve arka perdeler elektrikli katlanır aynalar elektrokrom iç ve dış aynalar elektrikli arka perde elektrokrom iç ve dış aynalar ön ve arka park mesafe kontrol ön arka far yıkama sistemi far sensörü yağmur sensörü park mesafe sensörü yağmur sensörü , araç bilgileri ; takip asistanı park sensörü yağmur sezici otomatik far sensörü far sensörü sis farı çelik jantlar vs vs vs vs vs vs vs vs vs vs vs \"\n",
      "\n"
     ]
    },
    {
     "name": "stderr",
     "output_type": "stream",
     "text": [
      "\r",
      " 60%|████████████████████████████████████████████████                                | 180/300 [04:02<01:58,  1.01it/s]"
     ]
    },
    {
     "name": "stdout",
     "output_type": "stream",
     "text": [
      "\" aracım temiz ve bakımlıdır . bakımları yeni yapılmıştır . araç borusan çıkışlı olup , ilk yardım çantası , orjinal m sport , comfort , sport , sport , sürüş modları , , m paket , sunroof , deri döşeme , elektrikli direksiyon , hafızalı sürücü koltuğu , elektrikli , ısıtmalı , hafızalı , hafızalı , elektrikli , ısıtmalı , katlanır , hafızalı , ısıtmalı , soğutmalı koltuklar , elektrikli direksiyon , ön arka park sensörü , geri görüş kamerası , ön ve arka park sensörü , geri görüş kamerası , far sensörü , yağmur sensörü , far sensörü , ön arka park sensörü , sis farı , yağmur sensörü , kararan dikiz aynası , far yıkama , far sensörü , yağmur sensörü , ön arka park sensörü , sis farı , çelik jant , sis farı , yağmur sensörü , far sensörü , ışık paket , cd çalar , , , , , , , , aux , usb , bluetooth , , , , , , , , , , , , , , , , , , , , , , , , , , , , , , , , , , , , , , , , , , , , , , , , , , , , , , , , , , , , , , , , , , , , , , , , , , , , , , , , , , , , , , , , , , , , , , , , , , , , , , , , , , , , , , , , , , , , , , , , , , , , , , , , , , , , , , , , ,\n",
      "\n"
     ]
    },
    {
     "name": "stderr",
     "output_type": "stream",
     "text": [
      "\r",
      " 60%|████████████████████████████████████████████████▎                               | 181/300 [04:05<03:05,  1.56s/it]"
     ]
    },
    {
     "name": "stdout",
     "output_type": "stream",
     "text": [
      "\" araç borusan çıkışlı olup , borusan bayi çıkışlıdır . herhangi bir problemi yoktur . aracın tüm bakımları yapılmıştır . muayenesi yeni yapılmıştır . orijinal jant lastik yenidir . araç 2 . 000 km de olup , aracın tüm bakımları yapılmıştır . aracın tüm bakımları yapılmıştır . yeni yapılmıştır . araç başında pazarlık payı vardır . \"\n",
      "\n"
     ]
    },
    {
     "name": "stderr",
     "output_type": "stream",
     "text": [
      "\r",
      " 61%|████████████████████████████████████████████████▌                               | 182/300 [04:06<02:28,  1.26s/it]"
     ]
    },
    {
     "name": "stdout",
     "output_type": "stream",
     "text": [
      "\" araç model bilgisi ; bmw 5 serisi gran coupe 4 . 18i sport plus 1 . 6 motor 170 hp dış renk : siyah iç renk : bej deri döşeme : deri donanımlar hayalet gösterge vakumlu kapılar sunroof ısıtmalı ön koltuklar hafızalı koltuk ön koltuk ısıtma elektrikli hafızalı koltuk elektrikli direksiyon ön koltuk ısıtma elektrikli arka perde geri görüş kamerası hafızalı şöför koltuğu elektrikli yolcu koltuğu ısıtmalı ön koltuklar elektrikli katlanır aynalar bi xenon farlar far yıkama sistemi yağmur sensörü ön arka park sensörü geri görüş kamerası bluetooth aux usb cd mp3 çalar detaylı bilgi için arayınız\n",
      "\n"
     ]
    },
    {
     "name": "stderr",
     "output_type": "stream",
     "text": [
      "\r",
      " 61%|████████████████████████████████████████████████▊                               | 183/300 [04:07<02:16,  1.17s/it]"
     ]
    },
    {
     "name": "stdout",
     "output_type": "stream",
     "text": [
      "\" 2014 model bmw 5 . 25d xdrive m sport plus 1 . 6 motor 170 hp 8 ileri otomatik vites sunroof deri döşeme koltuklar elektrikli perde koltuk ısıtma elektrikli hafızalı koltuk elektrikli katlanır ayna geri görüş kamerası ön arka park sensörü geri görüş kamerası ön arka park sensörü far yıkama katlanır ayna ön arka park sensörü arka kol dayama far sensörü yağmur sensörü elektrikli katlanır ayna elektrikli camlar uzaktan kumandalı merkezi kilit ön kol dayama isofix aracın tüm bakımları borusanda yapılmıştır aracın tüm bakımları yapılmıştır aracın tüm bakımları yapılmıştır aracın yedek anahtarı ve kitapçıkları mevcuttur aracın muayenesı yeni yapılmıştır aracın yedek anahtarı vardır aracın tüm bakımları yapılmıştır aracın bütün bakımları yapılmıştır aracın tüm bakımları yapılmıştır aracın içi dışı sıfır ayarındadır aracımız da boya ve değişen yoktur . tramer kaydı yoktur .\n",
      "\n"
     ]
    },
    {
     "name": "stderr",
     "output_type": "stream",
     "text": [
      "\r",
      " 61%|█████████████████████████████████████████████████                               | 184/300 [04:08<02:19,  1.20s/it]"
     ]
    },
    {
     "name": "stdout",
     "output_type": "stream",
     "text": [
      "\" araç bmw 5 . 20i premium 170 hp dış renk : beyaz iç renk : bej deri döşeme : sunroof bi xenon far far yıkama far yağmur sensörü park sensörü ön arka kol dayama bluetooth telefon usb aux hafızalı sürücü koltuğu elektrikli yolcu koltuğu elektrikli yolcu koltuğu ısıtmalı ön koltuklar hafızalı sürücü koltuğu elektrikli yolcu koltuğu elektrikli arka perde elektrikli arka perde bi xenon farlar far yıkama far ve yağmur sensörü ön arka park sensörü hız sabitleyici elektrikli katlanır yan aynalar elektrikli arka perde yan makam perdeleri elektrikli arka perde elektrikli katlanır ayna yağmur sensörü far sensörü ön arka park sensörü elektrikli arka perde elektrikli katlanır ayna elektrokrom iç ayna yağmur sensörü far sensörü park mesafe sensörü ön ve arka kol dayama bardaklıklar aydınlatmalı makyaj aynaları alaşım jantlar vs . vs . vs vs vs vs vs vs vs vs vs vs vs vs vs vs vs vs aracımız istenilen yere gösterilebilir her türlü zarar tarafımızdan karşılanacaktır\n",
      "\n"
     ]
    },
    {
     "name": "stderr",
     "output_type": "stream",
     "text": [
      "\r",
      " 62%|█████████████████████████████████████████████████▎                              | 185/300 [04:10<02:29,  1.30s/it]"
     ]
    },
    {
     "name": "stdout",
     "output_type": "stream",
     "text": [
      "\" araç borusan çıkışlı olup , orjinal km de , orjinal m sport , plus , , , , , , , , , , , , , , , , , , , , , , , , , , , , , , , , , , , , , , , , , , , , , , , , , , , , , , , , , , , , , , , , , , , , , , , , , , , , , , , , , , , , , , , , , , , , , , , , , , , , , , , , , , , , , , , , , , , , , , , , , , , , , , , , , , , , , , , , , , , , , , , , , , , , , , , , , , , , , , , , , , , , , , , , , , , , , , , , , , , , , , , , , , , , , , , , , , , , , , , , , , , , , , , , , , , , , , , , , , , , , , , , , , , , , , , , , , , , , , , , , , , , , , , , , , , , , , , , , , , , , , , , , , , , , , , , , , , , , , , , , , , ,\n",
      "\n"
     ]
    },
    {
     "name": "stderr",
     "output_type": "stream",
     "text": [
      "\r",
      " 62%|█████████████████████████████████████████████████▌                              | 186/300 [04:13<03:31,  1.86s/it]"
     ]
    },
    {
     "name": "stdout",
     "output_type": "stream",
     "text": [
      "\" araçta değişen ve boya yoktur . araç ilk sahibinden olup , değişen veya boyanan parçası yoktur . sadece sağ ön çamurluk ve kaput lokal boyalı . hasar kaydı yoktur . \"\n",
      "\n"
     ]
    },
    {
     "name": "stderr",
     "output_type": "stream",
     "text": [
      "\r",
      " 62%|█████████████████████████████████████████████████▊                              | 187/300 [04:13<02:41,  1.43s/it]"
     ]
    },
    {
     "name": "stdout",
     "output_type": "stream",
     "text": [
      "\" araç borusan çıkışlı olup , borusan bakımlı olup , ilk yardım çantası , sos , , , , , , , , , , , , , , , , , , , , , , , , , , , , , , , , , , , , , , , , , , , , , , , , , , , , , , , , , , , , , , , , , , , , , , , , , , , , , , , , , , , , , , , , , , , , , , , , , , , , , , , , , , , , , , , , , , , , , , , , , , , , , , , , , , , , , , , , , , , , , , , , , , , , , , , , , , , , , , , , , , , , , , , , , , , , , , , , , , , , , , , , , , , , , , , , , , , , , , , , , , , , , , , , , , , , , , , , , , , , , , , , , , , , , , , , , , , , , , , , , , , , , , , , , , , , , , , , , , , , , , , , , , , , , , , , , , , , , , , , , , , ,\n",
      "\n"
     ]
    },
    {
     "name": "stderr",
     "output_type": "stream",
     "text": [
      "\r",
      " 63%|██████████████████████████████████████████████████▏                             | 188/300 [04:17<03:49,  2.05s/it]"
     ]
    },
    {
     "name": "stdout",
     "output_type": "stream",
     "text": [
      "\" 2014 model bmw 5 . 25d xdrive premium dış renk : beyaz iç renk : bej deri döşeme : sunroof bi xenon farlar ön arka park mesafe kontrol ön arka park mesafe kontrol ön arka bi xenon farlar far yıkama sistemi far sensörü yağmur sensörü ön arka park mesafe sensörü ön arka sis farı far sensörü yağmur sensörü park sensörü usb aux girişi bluetooth telefon bağlantısı aux girişi ekspertiz bilgisi : hatasız boyasız tramersiz tramer bilgisi : 1 . 6 motor gücü : 170 hp yakıt tipi : benzin dış renk : beyaz iç renk : bej deri döşeme : bej deri döşeme : sunroof vakumlu kapılar geri görüş kamerası hayalet ekran vakumlu kapılar elektrikli bagaj kapağı geri görüş kamerası elektrikli hafızalı sürücü koltuğu ısıtmalı ön koltuklar hafızalı sürücü koltuğu elektrikli yolcu koltuğu elektrikli ısıtmalı ön koltuklar hafızalı sürücü koltuğu ısıtmalı ön koltuklar elektrikli arka perde elektrikli arka perde çift bölge dijital klima elektrikli hareketli hafızalı ısıtmalı katlanır yan aynalar elektrokrom iç ayna yağmur sensörü far sensörü yağmur sensörü ön arka park sensörü far yıkama bluetooth aux usb cd aux bluetooth telefon bağlantısı fonksiyonel direksiyon 4 cam otomatik otomatik kararan dikiz aynası elektrikli arka perde yan makam perdeleri kararan dikiz aynası elektrikli arka perde elektrikli yan ayna ön arka park sensörü far sensörü yağmur sensörü ön arka park sensörü elektrikli arka perde sis farı far gece sensörü park sensörü yağmur sensörü ön arka park sensörü geri görüş kamerası aracımız orjinal km de aracımızda sadece sağ ön çamurluk lokal boya mevcuttur tramer kaydı yoktur ! ! ! ! ! ! ! ! ! ! ! ! ! !\n",
      "\n"
     ]
    },
    {
     "name": "stderr",
     "output_type": "stream",
     "text": [
      "\r",
      " 63%|██████████████████████████████████████████████████▍                             | 189/300 [04:20<04:23,  2.38s/it]"
     ]
    },
    {
     "name": "stdout",
     "output_type": "stream",
     "text": [
      "\" araç borusan çıkışlıdır . aracın bütün bakımları yapılmıştır . hiç bir masrafı yoktur . aracın tüm bakımları yapılmıştır . aracın motoru , şanzumanı yürürü , şanzımanı kusursuzdur . içerisinde hiç sigara içilmemiştir . yedek anahtarı ve kitapçıkları mevcuttur . \"\n",
      "\n"
     ]
    },
    {
     "name": "stderr",
     "output_type": "stream",
     "text": [
      "\r",
      " 63%|██████████████████████████████████████████████████▋                             | 190/300 [04:20<03:19,  1.81s/it]"
     ]
    },
    {
     "name": "stdout",
     "output_type": "stream",
     "text": [
      "\" araç borusan çıkışlıdır . araç servis bakımlıdır . bakımları yeni yapılmıştır . aracın tüm bakımları yapılmıştır . en ufak masrafı yoktur . aracımda değişen yoktur . 4 parça boya vardır . hasar kaydı yoktur .\n",
      "\n"
     ]
    },
    {
     "name": "stderr",
     "output_type": "stream",
     "text": [
      "\r",
      " 64%|██████████████████████████████████████████████████▉                             | 191/300 [04:21<02:32,  1.40s/it]"
     ]
    },
    {
     "name": "stdout",
     "output_type": "stream",
     "text": [
      "\" araç , ilk sahibinden , , , , , , , , , , , , , , , , , , , , , , , , , , , , , , , , , , , , , , , , , , , , , , , , , , , , , , , , , , , , , , , , , , , , , , , , , , , , , , , , , , , , , , , , , , , , , , , , , , , , , , , , , , , , , , , , , , , , , , , , , , , , , , , , , , , , , , , , , , , , , , , , , , , , , , , , , , , , , , , , , , , , , , , , , , , , , , , , , , , , , , , , , , , , , , , , , , , , , , , , , , , , , , , , , , , , , , , , , , , , , , , , , , , , , , , , , , , , , , , , , , , , , , , , , , , , , , , , , , , , , , , , , , , , , , , , , , , , , , , , , , , , , , , , , , , , , ,\n",
      "\n"
     ]
    },
    {
     "name": "stderr",
     "output_type": "stream",
     "text": [
      "\r",
      " 64%|███████████████████████████████████████████████████▏                            | 192/300 [04:24<03:18,  1.84s/it]"
     ]
    },
    {
     "name": "stdout",
     "output_type": "stream",
     "text": [
      "\" sahibinden satılık bmw 520i comfort paket borusan çıkışlı sunroof vakumlu kapılar hayalet gösterge elektrikli bagaj geri görüş kamerası elektrikli hafızalı ön koltuklar ısıtmalı ön koltuklar elektrikli arka perde elektrikli direksiyon çift bölgeli dijital klima bi xenon far far yıkama far yağmur sensörü ön arka park sensörü ön arka park sensörü far sensörü yağmur sensörü ön arka park sensörü lastik basınç sensörü fonksiyonel deri direksiyon kararan dikiz aynası elektrikli katlanır ayna far yağmur sensörü ön arka park sensörü yol bilgisayarı vs . vs vs vs vs vs vs vs vs vs vs vs vs vs vs vs vs vs vs vs vs vs vs yoktur\n",
      "\n"
     ]
    },
    {
     "name": "stderr",
     "output_type": "stream",
     "text": [
      "\r",
      " 64%|███████████████████████████████████████████████████▍                            | 193/300 [04:25<02:50,  1.60s/it]"
     ]
    },
    {
     "name": "stdout",
     "output_type": "stream",
     "text": [
      "\" araç model bilgisi ; bmw 5 serisi 730d xdrive hatasız boyasız değişensiz hasar kayıtsız sunroof geri görüş kamerası vakumlu kapılar hayalet gösterge elektrikli bagaj kapağı vakumlu kapılar elektrikli arka perde elektrikli arka perde dijital klima 4 bölge dijital klima arka makam perde elektrikli arka perde yan makam perdeleri elektrikli arka perde elektrikli arka perde yan makam perdeleri elektrikli arka perde elektrikli arka perde çift yönlü dijital klima hız sabitleyici elektrikli ayarlanır direksiyon hız sabitleyici yol bilgisayarı yağmur sensörü far sensörü ön arka park sensörü arka kol dayama isofix immobilizer 4 cam otomatik perde arka makam perde hava yastıkları ön yolcu yan perde hava yastıkları run flat lastikler gündüz farları ön arka kol dayama arka perde hava yastıkları ön yolcu yan perde hava yastıkları run flat lastikler iletişim : 0 533 244 33 81 tl \"\n",
      "\n"
     ]
    },
    {
     "name": "stderr",
     "output_type": "stream",
     "text": [
      "\r",
      " 65%|███████████████████████████████████████████████████▋                            | 194/300 [04:26<02:39,  1.51s/it]"
     ]
    },
    {
     "name": "stdout",
     "output_type": "stream",
     "text": [
      "\" araç borusan çıkışlı olup 2016 model yılı : 2014 park mesafe kontrol sistemi ( otomatik şanzıman ) ön kol dayama run flat ( patlamayan ) lastikler % 100 expertiz raporu mevcut . \"\n",
      "\n"
     ]
    },
    {
     "name": "stderr",
     "output_type": "stream",
     "text": [
      "\r",
      " 65%|████████████████████████████████████████████████████                            | 195/300 [04:26<02:02,  1.16s/it]"
     ]
    },
    {
     "name": "stdout",
     "output_type": "stream",
     "text": [
      "\" araç borusan çıkışlı olup , servis bakımlıdır . bakımları yeni yapılmıştır . araç fazlalığından satılıktır .\n",
      "\n"
     ]
    },
    {
     "name": "stderr",
     "output_type": "stream",
     "text": [
      "\r",
      " 65%|████████████████████████████████████████████████████▎                           | 196/300 [04:26<01:30,  1.15it/s]"
     ]
    },
    {
     "name": "stdout",
     "output_type": "stream",
     "text": [
      "\" bmw 5 . 20i premium borusan çıkışlı borusan bakımlı hatasız boyasız tramersiz bir araçtır tüm bakımları yapılmıştır motor performansı çok iyi olup ekspertiz raporu resimlerde mevcuttur\n",
      "\n"
     ]
    },
    {
     "name": "stderr",
     "output_type": "stream",
     "text": [
      "\r",
      " 66%|████████████████████████████████████████████████████▌                           | 197/300 [04:27<01:11,  1.45it/s]"
     ]
    },
    {
     "name": "stdout",
     "output_type": "stream",
     "text": [
      "\" ​ 2015 model bmw 5 . 25d xdrive premium borusan çıkışlı hayalet ekran vakumlu kapılar sunroof vakumlu kapılar hayalet ekran elektrikli hafızalı koltuk ısıtmalı ön koltuklar elektrikli hafızalı koltuk koltuk ısıtma elektrikli direksiyon ön arka park sensörü elektrikli direksiyon vakumlu kapılar elektrikli bagaj direksiyon ısıtma elektrikli arka perde elektrikli arka perde elektrikli arka perde bluetooth telefon bağlantısı geri görüş kamerası bmw acil durum çağrısı bmw teleservis bluetooth usb aux girişi cruıse control ( hız sabitleyici ) anahtarsız çalıştırma yağmur sensörü far sensörü ön ve arka park sensörü far yıkama sistemi elektrikli katlanır dikiz aynaları yağmur sensörü ön arka park sensörü far sensörü otomatik yağmur sensörü far yıkama sis farı elektrikli arka perde elektrikli arka perde elektrikli arka perde sis farı far yıkama yağmur sensörü far sensörü ön arka park sensörü lastik basınç sensörü yağmur sensörü far sensörü sis farı abs asr esp asr esp radyo cd mp3 çalar yol bilgisayarı yağmur sensörü far sensörü sis farı usb aux bluetooth telefon bağlantısı cd changer aux ın usb kol dayama ışık paket cd aux usb bluetooth start stop hız sabitleyicisi ayarlanabilir direksiyon elektrikli arka perde elektrikli arka perde yan makam perdeleri kararan dikiz aynası elektrikli arka perde elektrikli arka perde sis farı far yağmur sensörü far sensörü ön arka park sensörü\n",
      "\n"
     ]
    },
    {
     "name": "stderr",
     "output_type": "stream",
     "text": [
      "\r",
      " 66%|████████████████████████████████████████████████████▊                           | 198/300 [04:29<01:51,  1.09s/it]"
     ]
    },
    {
     "name": "stdout",
     "output_type": "stream",
     "text": [
      "\" 2014 model bmw 5 . 25d xdrive premium m sport plus 18 . 000 km borusan çıkışlı borusan bakımlı hatasız boyasız tramersiz içi bej deri döşeme sunroof hayalet ekran navigasyon vakumlu kapılar hayalet gösterge vakumlu kapılar elektrikli bagaj kapağı geri görüş kamerası elektirikli arka perde elektirikli arka perde yan makam perdeleri ön arka park sensörü geri görüş kamerası elektrikli arka perde elektrikli arka perde 3 farklı sürüş modu ( eco pro comfort sport ) far yıkama ön arka park sensörü yağmur sensörü far sensörü otomatik kararan dikiz aynası elektrikli ısıtmalı aynalar far yağmur sensörü\n",
      "\n"
     ]
    },
    {
     "name": "stderr",
     "output_type": "stream",
     "text": [
      "\r",
      " 66%|█████████████████████████████████████████████████████                           | 199/300 [04:30<01:49,  1.08s/it]"
     ]
    },
    {
     "name": "stdout",
     "output_type": "stream",
     "text": [
      "\" araç borusan çıkışlı olup , borusan bakımlıdır . bakımları yeni yapılmıştır . araç özellikleri ; sunroof hayalet ekran vakumlu kapılar koltuk ısıtma elektrikli direksiyon elektrikli hafızalı koltuk ısıtmalı ön koltuklar elektrikli bagaj elektrikli hafızalı sürücü koltuğu ısıtmalı ön koltuklar geri görüş kamerası ön arka park sensörü elektrikli bagaj kapağı geri görüş kamerası bluetooth telefon start stop eco sport sport plus sürüş modları gündüz ledleri far sensörü yağmur sensörü ön arka park sensörü elektrikli katlanır yan aynalar fonksiyonel deri direksiyon hız sabitleyici bluetooth telefon hazırlık sis farı alaşımlı jantlar 4 farklı sürüş modu ( eco , comfort , sport , sport , sport , sport , sürüş modları ) elektronik park freni 4 sürüş modu ( eco comfort sport , sport , comfort paket ) sunroof , xenon far , far yıkama , sunroof , far yıkama , dijital klima , hız sabitleyici , park sensörü , yağmur sensörü , far sensörü , kararan iç dikiz aynası , vs vs vs vs vs vs vs vs vs vs vs vs vs vs \"\n",
      "\n"
     ]
    },
    {
     "name": "stderr",
     "output_type": "stream",
     "text": [
      "\r",
      " 67%|█████████████████████████████████████████████████████▎                          | 200/300 [04:31<02:06,  1.26s/it]"
     ]
    },
    {
     "name": "stdout",
     "output_type": "stream",
     "text": [
      "\" sahibinden temiz kullanılmış , servis bakımlı . masrafsız , , , , , , , , , , , , , , , , , , , , , , , , , , , , , , , , , , , , , , , , , , , , , , , , , , , , , , , , , , , , , , , , , , , , , , , , , , , , , , , , , , , , , , , , , , , , , , , , , , , , , , , , , , , , , , , , , , , , , , , , , , , , , , , , , , , , , , , , , , , , , , , , , , , , , , , , , , , , , , , , , , , , , , , , , , , , , , , , , , , , , , , , , , , , , , , , , , , , , , , , , , , , , , , , , , , , , , , , , , , , , , , , , , , , , , , , , , , , , , , , , , , , , , , , , , , , , , , , , , , , , , , , , , , , , , , , , , , , , , , , , , , , , , , , , ,\n",
      "\n"
     ]
    },
    {
     "name": "stderr",
     "output_type": "stream",
     "text": [
      "\r",
      " 67%|█████████████████████████████████████████████████████▌                          | 201/300 [04:34<02:53,  1.75s/it]"
     ]
    },
    {
     "name": "stdout",
     "output_type": "stream",
     "text": [
      "\" 2014 bmw 5 . 25d xdrive premium borusan çıkışlı borusan servis bakımlı hayalet ekran vakumlu kapılar sunroof elektrikli koltuk sunroof geri görüş kamerası ön ve arka park sensörü elektrikli katlanır ayna bi xenon far far yıkama far sensörü yağmur sensörü park sensörü ön arka kol dayama park sensörü hız sabitleyici elektrikli arka perde yan makam perdeleri ön arka park sensörü elektrikli katlanır yan aynalar otomatik kararan dikiz aynası far sensörü yağmur sensörü ön arka park sensörü elektrikli arka perde sis farı far gece sensörü park sensörü yağmur sensörü ön arka park sensörü aux girişi bluetooth telefon bağlantısı usb aux girişi bluetooth telefon bağlantısı fonksiyonel deri direksiyon otomatik kararan dikiz aynası ve daha sayamadığım bir çok özellik mevcuttur . aracın yedek anahtarı mevcuttur . takas fiyatı farklıdır . \"\n",
      "\n"
     ]
    },
    {
     "name": "stderr",
     "output_type": "stream",
     "text": [
      "\r",
      " 67%|█████████████████████████████████████████████████████▊                          | 202/300 [04:36<02:37,  1.61s/it]"
     ]
    },
    {
     "name": "stdout",
     "output_type": "stream",
     "text": [
      "\" araç borusan çıkışlı olup , 2016 yılı çıkışlı , dış renk iç dış m paket , elektrikli hafızalı , ısıtmalı , hafızalı , elektrikli , ısıtmalı koltuklar , elektrikli , hafızalı , ısıtmalı , bel destekli , ön koltuklar , geri görüş kamerası , bluetooth , aux , usb , cd çalar , park sensörü , far yıkama , ısıtmalı , hafızalı , elektrikli , ısıtmalı , elektrikli katlanır aynalar , elektrikli ön koltuklar , elektrikli arka perde , elektrikli arka perde , elektrikli katlanır aynalar , elektronik park freni , araç iniş , binişinde aydınlatma ön ve arka park yardım desteği , yan makam perdeleri , arka perde , elektrikli arka perde , elektrikli katlanır ayna , kararan iç dikiz aynası , abs , asr , esp , radyo cd çalar , otomatik kapı klit fonksiyonu ( kapılar açıkken araç hareket etmez ) patlamaz lastik yol bilgisayarı , fonksiyonel direksiyon , lastik basınç sensörü , otomatik far sensörü , yukseklik ayarlı sürücü ve yolcu koltuğu ayarlanabilir direksiyon arka park mesafe sensörü , türkçe ön panel ımmobılızer , aluminyum alaşımlı jantlar , elektrikli , ısıtmalı aynalar , elektrikli camlar , uzaktan kumandalı merkezi kilit , ön kol dayama , arka kol dayama isofix iç ambians lambası akustik kemer uyarsı kararan dikiz aynası aux usb auto hold \"\n",
      "\n"
     ]
    },
    {
     "name": "stderr",
     "output_type": "stream",
     "text": [
      "\r",
      " 68%|██████████████████████████████████████████████████████▏                         | 203/300 [04:38<02:58,  1.84s/it]"
     ]
    },
    {
     "name": "stdout",
     "output_type": "stream",
     "text": [
      "\" araç borusan çıkışlı olup , komple m paket olup , bakımları düzenli olarak yapılmıştır . araç servis bakımlıdır . aracın yedek anahtarı ve kitapçıkları vardır . araç fazlalığından satılıktır . \"\n",
      "\n"
     ]
    },
    {
     "name": "stderr",
     "output_type": "stream",
     "text": [
      "\r",
      " 68%|██████████████████████████████████████████████████████▍                         | 204/300 [04:38<02:16,  1.42s/it]"
     ]
    },
    {
     "name": "stdout",
     "output_type": "stream",
     "text": [
      "\" 1 . 16d ed efficientdynamics sport plus modelidir . kaza boya değişen tramer kaydı yoktur . sadece araç takası olur . araç başında pazarlık payı vardır . alıcısına hayırlı olsun .\n",
      "\n"
     ]
    },
    {
     "name": "stderr",
     "output_type": "stream",
     "text": [
      "\r",
      " 68%|██████████████████████████████████████████████████████▋                         | 205/300 [04:39<01:44,  1.10s/it]"
     ]
    },
    {
     "name": "stdout",
     "output_type": "stream",
     "text": [
      "\" araç borusan çıkışlı olup , bakımları yeni yapılmıştır . aracın bütün bakımları borusan yetkili serviste yapılmıştır . motor , şanzıman ve yürüyen aksamı sorunsuz bir araçtır . 4 lastik sıfır takıldı . yedek anahtarı ve kitapçıkları mevcuttur . \"\n",
      "\n"
     ]
    },
    {
     "name": "stderr",
     "output_type": "stream",
     "text": [
      "\r",
      " 69%|██████████████████████████████████████████████████████▉                         | 206/300 [04:39<01:24,  1.11it/s]"
     ]
    },
    {
     "name": "stdout",
     "output_type": "stream",
     "text": [
      "\" araç model bilgisi ; bmw 5 serisi 520d comfort 184 hp borusan çıkışlı sunroof f1 vites hayalet ekran vakumlu kapılar sunroof elektrikli bagaj hayalet ekran vakumlu kapılar elektrikli bagaj elektrikli direksiyon ön koltuklarda ısıtma geri görüş kamerası elektrikli arka perde çift yönlü dijital klima ön arka park sensörü far sensörü yağmur sensörü far sensörü ön arka park sensörü far sensörü yağmur sensörü ön arka park sensörü bmw acil durum çağrısı bmw teleservıces türkçe ön panel gelişmiş gösterge paneli otomatik kapı kilit fonksiyonu akustik kemer uyarısı otomatik kapı kilit fonksiyonu adaptif süspansiyon comfort elekrikli kasko bedeli : 000 tl dir not : aracın plakası : 34 \"\n",
      "\n"
     ]
    },
    {
     "name": "stderr",
     "output_type": "stream",
     "text": [
      "\r",
      " 69%|███████████████████████████████████████████████████████▏                        | 207/300 [04:40<01:29,  1.04it/s]"
     ]
    },
    {
     "name": "stdout",
     "output_type": "stream",
     "text": [
      "\" bmw 5 . 20i premium m paket hayalet ekran vakumlu kapılar sunroof elektrikli bagaj kapağı geri görüş kamerası f 1 vites sunroof çift yönlü dijital klima koltuk ısıtma sunroof ön arka park sensörü elektrikli katlanır ayna bi xenon far far yıkama elektrikli katlanır aynalar far yağmur sensörü park mesafe sensörü bluetooth telefon bağlantısı usb aux girişi bluetooth telefon bağlantısı fonksiyonel direksiyon elektrikli arka perde hava yastıkları alarm ımmobılızer elektrikli , ısıtmalı aynalar elektrikli camlar uzaktan kumandalı merkezi kilit ön kol dayama arka kol dayama isofix iç ambians lambası akustik kemer uyarsı kararan dikiz aynası aux usb auto hold \"\n",
      "\n"
     ]
    },
    {
     "name": "stderr",
     "output_type": "stream",
     "text": [
      "\r",
      " 69%|███████████████████████████████████████████████████████▍                        | 208/300 [04:41<01:30,  1.02it/s]"
     ]
    },
    {
     "name": "stdout",
     "output_type": "stream",
     "text": [
      "\" araç model bilgisi ; bmw 5 . 20i executıve plus : otomatik m sport dış renk : kırmızı iç renk : bej deri döşeme : sunroof ön arka park mesafe kontrol ön arka geri görüş kamerası bmw acil durum çağrısı bmw teleservıces türkçe ön panel gelişmiş gösterge paneli ( hayalet ) çok işlevli gösterge ekranı ( hayalet ekran ) çok işlevli gösterge ekranı ( hayalet ekran ) soft close otomatik kapılar ( vakum kapılar ) elektrikli direksiyon hafızalı koltuklar elektrikli bagaj kapağı geri görüş kamerası ( aktif ) bluetooth telefon bağlantısı masaj fonksiyonlu ön koltuklar ısıtmalı ön koltuklar elektrikli arka perde elektrikli arka perde elektrokrom iç ve dış aynalar far yıkama sistemi park mesafe kontrol ön arka sürüş asistanı bmw acil durum çağrısı bmw teleservıces 7r3 otomatik kapı kilit fonksiyonu adaptif süspansiyon iptali m sport fren diskleri m m deri direksiyon m aerodinamik paket m deri direksiyon m aerodinamik paket parlak dış kaplama antrasit tavan döşemesi elektrikli hafızalı ısıtmalı koltuklar \"\n",
      "\n"
     ]
    },
    {
     "name": "stderr",
     "output_type": "stream",
     "text": [
      "\r",
      " 70%|███████████████████████████████████████████████████████▋                        | 209/300 [04:43<01:45,  1.16s/it]"
     ]
    },
    {
     "name": "stdout",
     "output_type": "stream",
     "text": [
      "\" iletişim : 0532 559 15 15 şubat ayına kadar var ​\n",
      "\n"
     ]
    },
    {
     "name": "stderr",
     "output_type": "stream",
     "text": [
      "\r",
      " 70%|████████████████████████████████████████████████████████                        | 210/300 [04:43<01:17,  1.16it/s]"
     ]
    },
    {
     "name": "stdout",
     "output_type": "stream",
     "text": [
      "\" araç model bilgisi ; bmw 5 . 20i executıve m sport plus 1 . 6 motor 170 hp 8 ileri joystick yeni nesil motor şanzıman 8 ileri joystick yeni nesil dizel premium paket 218 hp premium paket hayalet ekran vakumlu kapılar elektrikli bagaj hayalet ekran vakumlu kapılar elektrikli bagaj hayalet gösterge vakumlu kapılar elektrikli bagaj kapağı vakumlu kapılar elektrikli bagaj hayalet ekran vakumlu kapılar elektrikli bagaj elektrikli direksiyon hafızalı koltuklar ısıtmalı ön koltuklar elektrikli arka perde elektrikli direksiyon bluetooth telefon bağlantısı geri görüş kamerası ön arka park mesafe sensörü far yıkama elektrikli arka perde elektrikli katlanır yan aynalar elektrokrom iç ayna sesli uyarı sistemi yağmur sezici far sensörü eco comfort sport sport plus sürüş modları türkçe ön panel akustik kemer uyarısı otomatik kapı kilit fonksiyonu karter koruması velur halı paspaslar ön kol dayama run flat ( patlamayan ) lastikler arka park mesafe kontrol ( park sensörü ) bluetooth telefon baglantısı , radyo cd çalar , yol bilgisayarı , fonksiyonel deri direksiyon , elektrikli arka perde , sis farı , yağmur sensörü , far sensörü , sis farı , yağmur sensörü , far yıkama , ışık paket , sunroof , , ışık paket , orijinal , , , , , , , , , , , , , , , , , , , , , , , , , , , , , , , , , , , , , , , , , , , , , , , , , , , , , , , , , , , , , , , , , , , , , , , , , , , , , , , , , , , , , , , , , , , , , , , , , , , , , , , ,\n",
      "\n"
     ]
    },
    {
     "name": "stderr",
     "output_type": "stream",
     "text": [
      "\r",
      " 70%|████████████████████████████████████████████████████████▎                       | 211/300 [04:46<02:15,  1.53s/it]"
     ]
    },
    {
     "name": "stdout",
     "output_type": "stream",
     "text": [
      "\" borusan çıkışlı , borusan bakımlı , ilk sahibinden , , , , , , , , , , , , , , , , , , , , , , , , , , , , , , , , , , , , , , , , , , , , , , , , , , , , , , , , , , , , , , , , , , , , , , , , , , , , , , , , , , , , , , , , , , , , , , , , , , , , , , , , , , , , , , , , , , , , , , , , , , , , , , , , , , , , , , , , , , , , , , , , , , , , , , , , , , , , , , , , , , , , , , , , , , , , , , , , , , , , , , , , , , , , , , , , , , , , , , , , , , , , , , , , , , , , , , , , , , , , , , , , , , , , , , , , , , , , , , , , , , , , , , , , , , , , , , , , , , , , , , , , , , , , , , , , , , , , , , , , , , , , , , , , , ,\n",
      "\n"
     ]
    },
    {
     "name": "stderr",
     "output_type": "stream",
     "text": [
      "\r",
      " 71%|████████████████████████████████████████████████████████▌                       | 212/300 [04:49<02:52,  1.96s/it]"
     ]
    },
    {
     "name": "stdout",
     "output_type": "stream",
     "text": [
      "\" araç borusan çıkışlıdır . bakımları yetkili serviste yapılmıştır .\n",
      "\n"
     ]
    },
    {
     "name": "stderr",
     "output_type": "stream",
     "text": [
      "\r",
      " 71%|████████████████████████████████████████████████████████▊                       | 213/300 [04:49<02:02,  1.41s/it]"
     ]
    },
    {
     "name": "stdout",
     "output_type": "stream",
     "text": [
      "\" ilk sahibinden borusan çıkışlı borusan bakımlı hatasız boyasız değişensiz hasar kayıtsız borusan bakımlı hatasız boyasız tramersiz kazasız boyasız tramersiz kazasız boyasız değişensiz hasar kayıtsız borusan bayi çıkışlı aracımız bakımlı ve masrafsızdır . araçta 3 parça boya vardır . hasar kaydı yoktur .\n",
      "\n"
     ]
    },
    {
     "name": "stderr",
     "output_type": "stream",
     "text": [
      "\r",
      " 71%|█████████████████████████████████████████████████████████                       | 214/300 [04:50<01:36,  1.12s/it]"
     ]
    },
    {
     "name": "stdout",
     "output_type": "stream",
     "text": [
      "\" sahibinden satılık bmw 5 . 20i premium 170 hp sunroof vakumlu kapılar hayalet ekran f1 vites elektrikli direksiyon sunroof geri görüş kamerası ön arka park sensörü far yıkama elektrikli arka perde bi xenon far far yıkama far yağmur sensörü ön arka park sensörü ön arka park sensörü elektrikli arka perde elektrikli arka perde yan makam perdeleri arka park sensörü yağmur sensörü far sensörü sis farı cd mp3 usb çalar otomatik far sensörü yağmur sensörü ön arka park sensörü fonksiyonel deri direksiyon hız sabitleyici elektrikli arka perde elektrikli arka perde yan makam perdeleri arka perde elektrikli arka perde sis farı far sensörü yağmur sensörü ön arka park sensörü elektrikli yan aynalar ön arka park sensörü arka kol dayama yol bilgisayarı fonksiyonel deri direksiyon hız sabitleyici ve sınırlayıcı fonksiyonel direksiyon elektrikli arka perde elektrikli arka perde elektrikli ayna yağmur sensörü far sensörü sis farı arka park sensörü far yıkama ışık paket araç telefonu yol bilgisayarı abs esp asr dtc dsc gelişmiş gösterge paneli , abs , asr , esp , radyo cd mp3 çalar yol bilgisayarı fonksiyonel direksiyon , far sensörü yağmur sensörü , park sensörü , kararan dikiz aynası abs , asr , esp , radyo cd çalar , yol bilgisayarı , fonksiyonel direksiyon , otomatik far ve yağmur sensörü , arka park sensörü , uzaktan kumandalı merkezi kilit , ön kol dayama , arka park sensörü , arka park sensörü , arka park sensörü , geri görüş kamerası , arka , park sensörü , yağmur sensörü , kararan dikiz aynası , far sensörü , yağmur sensörü , far yıkama , sis farı , sis farı , , yağmur sensörü , , , , , , , , , , , , , , , , , , , , , , , , , , , , ,\n",
      "\n"
     ]
    },
    {
     "name": "stderr",
     "output_type": "stream",
     "text": [
      "\r",
      " 72%|█████████████████████████████████████████████████████████▎                      | 215/300 [04:53<02:21,  1.66s/it]"
     ]
    },
    {
     "name": "stdout",
     "output_type": "stream",
     "text": [
      "\" araç model bilgisi ; bmw 5 serisi 520d comfort 184 hp otomatik 8 ileri otomatik vites sunroof bej deri döşeme sunroof elektrikli arka perde elektrikli arka perde yan makam perdeleri elektrikli arka perde elektrikli arka perde elektrikli katlanır ayna yağmur sensörü far sensörü ön arka park sensörü far sensörü yağmur sensörü ön arka park sensörü far yıkama 4 cam otomatik kararan dikiz aynası yokuş kalkış desteği elektrikli arka perde bluetooth telefon hazırlık sis farı alaşımlı jantlar vs . vs vs vs vs vs vs vs vs vs vs vs vs vs vs yoktur\n",
      "\n"
     ]
    },
    {
     "name": "stderr",
     "output_type": "stream",
     "text": [
      "\r",
      " 72%|█████████████████████████████████████████████████████████▌                      | 216/300 [04:54<02:01,  1.45s/it]"
     ]
    },
    {
     "name": "stdout",
     "output_type": "stream",
     "text": [
      "\" araç bilgileri fotoğraflarda mevcuttur . araç özellikleri : sunroof xenon farlar led gündüz farları led arka stop bluetooth telefon bağlantısı geri görüş kamerası ön ve arka park sensörü far ve yağmur sensörleri ön ve arka park sensörleri geri görüş kamerası bluetooth telefon usb aux girişi bluetooth telefon hazırlık sis farı alaşımlı jantlar vs . vs vs vs vs vs vs vs vs vs vs vs vs vs vs vs vs vs\n",
      "\n"
     ]
    },
    {
     "name": "stderr",
     "output_type": "stream",
     "text": [
      "\r",
      " 72%|█████████████████████████████████████████████████████████▊                      | 217/300 [04:54<01:42,  1.23s/it]"
     ]
    },
    {
     "name": "stdout",
     "output_type": "stream",
     "text": [
      "\" aracım hatasız boyasızdır . km ’ de olup , kesinlikle değişen yoktur . sadece sağ arka çamurlukta lokal boya vardır . hasar kaydı yoktur . resimlerde görüldüğü gibi temiz bir araçtır . alıcısına şimdiden hayırlı olsun . \"\n",
      "\n"
     ]
    },
    {
     "name": "stderr",
     "output_type": "stream",
     "text": [
      "\r",
      " 73%|██████████████████████████████████████████████████████████▏                     | 218/300 [04:55<01:20,  1.02it/s]"
     ]
    },
    {
     "name": "stdout",
     "output_type": "stream",
     "text": [
      "\" araç borusan çıkışlı olup , 2017 model yılı km de trafiğe çıktı , aracın bütün bakımları yapılmıştır . km si kesinlikle orjinal olup , , değişen , boyanan parçası yoktur , kaza boya yoktur . tramer kaydı yoktur . \"\n",
      "\n"
     ]
    },
    {
     "name": "stderr",
     "output_type": "stream",
     "text": [
      "\r",
      " 73%|██████████████████████████████████████████████████████████▍                     | 219/300 [04:55<01:06,  1.22it/s]"
     ]
    },
    {
     "name": "stdout",
     "output_type": "stream",
     "text": [
      "\" aracım borusan bayi çıkışlı olup 2016 model yılı 2015 yılı 2016 kasım trafiğe çıkışlıdır . aracın ilk yardım çantası , orijinal , 4 lastik ve tüm bakımları yetkili serviste yapılmıştır . orjinal iç dış m paket olup , m paket , sunroof , hayalet gösterge , vakumlu kapılar , hafızalı , ısıtmalı koltuklar , elektrikli direksiyon , elektrikli arka perde , elektrikli bagaj , hafızalı koltuklar , geri görüş kamerası , hız sabitleyici , hız sabitleyici , park sensörü , hız sabitleyici , , hız sabitleyici , dijital klima , 4 cam , elektrikli , ısıtmalı aynalar , elektrikli arka perde , elektrikli arka perde , elektrikli arka perde , elektrikli katlanır aynalar , elektrikli arka perde , sis farı , yağmur sensörü , far sensörü , kararan iç dikiz aynası , abs , asr , esp , radyo cd çalar , yol bilgisayarı , fonksiyonel deri direksiyon , far yıkama , fonksiyonel direksiyon , elektrikli arka perde , elektrikli arka perde , elektrikli katlanır ayna , ön arka park sensörü , yağmur sensörü , far sensörü , far sensörü , kararan dikiz aynası , arka park sensörü , yağmur sensörü , far sensörü , far yıkama , ışık paket , kapı kolları , gelişmiş gösterge paneli , abs , asr , esp , radyo cd çalar , otomatik kapı klit fonksiyonu ( kapılar açıkken araç hareket etmez ) patlamaz lastik yol bilgisayarı , lastik basınç sensörü , otomatik far sensörü , far sensörü , yağmur sensörü , far sensörü , gelişmiş gösterge paneli , abs , asr , esp , radyo cd çalar , otomatik kapı klit fonksiyonu ( kapılar açıkken araç hareket etmez ) patlamaz lastik yol bilgisayarı , lastik basınç kontrolü fonksiyonel direksiyon , otomatik far sensörü , yukseklik ayarlı sürücü ve yolcu koltuğu ayarlanabilir\n",
      "\n"
     ]
    },
    {
     "name": "stderr",
     "output_type": "stream",
     "text": [
      "\r",
      " 73%|██████████████████████████████████████████████████████████▋                     | 220/300 [04:58<01:56,  1.46s/it]"
     ]
    },
    {
     "name": "stdout",
     "output_type": "stream",
     "text": [
      "\" aracımız borusan çıkışlı olup , servis bakımlıdır . bütün bakımları yapılmıştır . muayenesi yeni yapılmıştır . araç servis bakımlıdır . bakımları yeni yapılmıştır .\n",
      "\n"
     ]
    },
    {
     "name": "stderr",
     "output_type": "stream",
     "text": [
      "\r",
      " 74%|██████████████████████████████████████████████████████████▉                     | 221/300 [04:58<01:27,  1.10s/it]"
     ]
    },
    {
     "name": "stdout",
     "output_type": "stream",
     "text": [
      "\" araç 2014 model olup , km , dedir . aracın bütün bakımları zamanında yapılmıştır . kesinlikle ağır hasarlı olarak pert kayıtlı değildir , araç fazlalığından satılıktır . \"\n",
      "\n"
     ]
    },
    {
     "name": "stderr",
     "output_type": "stream",
     "text": [
      "\r",
      " 74%|███████████████████████████████████████████████████████████▏                    | 222/300 [04:59<01:07,  1.16it/s]"
     ]
    },
    {
     "name": "stdout",
     "output_type": "stream",
     "text": [
      "\" araç fazlalığından satılıktır . aracın bütün bakımları yapılmıştır . muayenesi yeni yapılmıştır . lastikleri sıfırdır . muayenesi yenidir . lastikleri sıfırdır . muayenesi 2020 yılına kadar geçerlidir . araç özellikleri : sunroof bi xenon farlar far yıkama far ve yağmur sensörü park sensörü ışık paket bluetooth aux usb cd mp3 çalar usb aux bluetooth telefon bağlantısı fonksiyonel direksiyon elektrikli arka perde elektrikli yan aynalar elektrikli arka perde yan protokol perde arka elektrikli perde çift bölge dijital klima bi xenon farlar far yıkama yağmur sensörü far sensörü ön arka park sensörü arka park sensörü fonksiyonel deri direksiyon hız sabitleyici , elektrikli ve ısıtmalı aynalar ön ve arka park sensörü geri görüş kamerası bluetooth usb aux girişi bluetooth telefon bağlantısı hafızalı , ısıtmalı ön koltuklar aux ın usb girişi dijital çift bölgeli klima fonksiyonel deri direksiyon elektrikli katlanır ısıtmalı yan aynalar elektrokrom iç ayna sesli uyarı sistemi yağmur sezici far sensörü eco comfort sport sport plus sürüş modları türkçe ön panel akustik kemer uyarısı otomatik kapı kilit fonksiyonu karter koruma dijital iklimlendirme kontrollü klima aerodinamik paket araç iniş , binişinde aydınlatma ön ve arka sis farları . far yıkama sistemi . otomatik far sensörü yağmur sensörü , isofix , anahtarsız çalıştırma , ışık paket , start stop , anahtarsız çalıştırma , ışık paket , dijital klima , deri döşeme , elektrikli , ısıtmalı , hafızalı , elektrikli , ısıtmalı , katlanır aynalar , elektrikli katlanır ayna , ön arka park sensörü , far sensörü , yağmur sensörü , far sensörü , kararan iç dikiz aynası ve daha sayamadığım bir çok özellik . \"\n",
      "\n"
     ]
    },
    {
     "name": "stderr",
     "output_type": "stream",
     "text": [
      "\r",
      " 74%|███████████████████████████████████████████████████████████▍                    | 223/300 [05:01<01:45,  1.38s/it]"
     ]
    },
    {
     "name": "stdout",
     "output_type": "stream",
     "text": [
      "\" araç borusan çıkışlı olup , ilk yardım çantası , orjinal m paket , m sport , comfort , sport , eco , sport , sürüş modları , geri görüş kamerası , sunroof , hafızalı , ısıtmalı , elektrikli koltuklar , koltuk ısıtma , elektrikli bagaj , hafızalı koltuklar , elektrikli direksiyon , ön arka park sensörü , geri görüş kamerası , elektrikli direksiyon , ön arka park sensörü , ısıtmalı ön koltuklar , elektrikli hafızalı sürücü koltuğu , elektrikli ön koltuklar , elektrikli arka perde , elektrikli arka perde , elektrikli katlanır aynalar , elektrikli direksiyon , ısıtmalı ön koltuklar , elektrikli arka perde , elektrikli katlanır ayna , bluetooth , aux , servotronic direksiyon , start & stop , anahtarsız çalıştırma , start stop , anahtarsız çalıştırma , eco sürüş modu , sport , comfort sürüş modu , eco sürüş modu , comfort sürüş modu , sport sürüş modu , comfort sürüş modu , standart özellikler , sunroof , bi xenon farlar , far yıkama , çift yönlü dijital klima , yağmur sensörü , far sensörü , kararan iç dikiz aynası , abs , asr , esp , radyo cd çalar , yol bilgisayarı , fonksiyonel direksiyon , ön arka kol dayama , isofix , vakumlu kapılar , elektrikli bagaj , hafızalı koltuklar , elektrikli direksiyon , elektrikli direksiyon , hafızalı ön ve arka koltuklar , elektrikli , hafızalı , ısıtmalı , katlanır , koltuk , koltuk hafıza , geri görüş kamerası , , , , , , , , , , , , , , , , , , , , , , , , , , , , , , , , , , , , , , , , , , , , , , , , , , , , , , ,\n",
      "\n"
     ]
    },
    {
     "name": "stderr",
     "output_type": "stream",
     "text": [
      "\r",
      " 75%|███████████████████████████████████████████████████████████▋                    | 224/300 [05:04<02:18,  1.83s/it]"
     ]
    },
    {
     "name": "stdout",
     "output_type": "stream",
     "text": [
      "\" 2016 model bmw 520i comfort paket siyah içi bej deri döşeme , sunroof , deri koltuk , koltuk ısıtma , elektrikli direksiyon , hafızalı koltuk , elektrikli direksiyon , elektrikli direksiyon , elektrikli direksiyon , hafızalı ve ısıtmalı koltuklar , elektrikli direksiyon , ısıtmalı ön koltuklar , elektrikli arka perde , elektrikli , hafızalı , ısıtmalı , katlanır aynalar , elektronik el freni , araç iniş , binişinde aydınlatma ön ve arka park yardım desteği , yan makam perdeleri , kararan iç dikiz aynası , otomatik far sensörü , gelişmiş gösterge paneli , abs , asr , esp , radyo cd çalar , otomatik kapı klit fonksiyonu ( kapılar açıkken araç hareket etmez ) patlamaz lastik yol bilgisayarı , lastik basınç kontrolü fonksiyonel direksiyon , otomatik far sensörü , yukseklik ayarlı sürücü ve yolcu koltuğu ayarlanabilir direksiyon arka park mesafe sensörü , türkçe ön panel ımmobılızer , aluminyum alaşımlı jantlar , elektrikli , ısıtmalı aynalar , elektrikli camlar , uzaktan kumandalı merkezi kilit , ön kol dayama , arka kol dayama , isofix , arka park sensörü , fonksiyonel direksiyon , deri döşeme , elektrikli arka perde , elektrikli hafızalı , ısıtmalı , elektrikli aynalar , elektrikli direksiyon , ön ve arka park sensörü , geri görüş kamerası , ısıtmalı ön koltuklar , elektrikli hafızalı sürücü koltuğu , elektrikli , ısıtmalı , hafızalı , elektrikli ön koltuklar , elektrikli arka perde , elektrikli arka perde , elektrikli direksiyon , elektrikli yan ve arka perdeler , elektrikli arka perde , yan makam perdeleri , elektrikli arka perde , elektrikli hafızalı , ısıtmalı , katlanır ayna , ön arka park sensörü , geri görüş kamerası , ısıtmalı hafızalı koltuklar , elektrikli arka perde , elektrikli arka perde , yan makam perdeleri , elektrikli arka perde , led farlar , far\n",
      "\n"
     ]
    },
    {
     "name": "stderr",
     "output_type": "stream",
     "text": [
      "\r",
      " 75%|████████████████████████████████████████████████████████████                    | 225/300 [05:07<02:39,  2.13s/it]"
     ]
    },
    {
     "name": "stdout",
     "output_type": "stream",
     "text": [
      "\" 2012 model bmw 5 . 25d xdrive m sport plus paket sunroof elektrikli hafızalı koltuk elektrikli ısıtmalı ön koltuklar hafızalı sürücü koltuğu elektrikli ısıtmalı ön koltuklar geri görüş kamerası bluetooth telefon bağlantısı geri görüş kamerası park sensörü sport comfort sürüş modu auto hold yokuş kalkış desteği bi xenon farlar far yıkama bluetooth usb aux bluetooth telefon hazırlık sis farı alaşımlı jantlar bluetooth cd mp3 çalar usb giriş abs asr esp radyo cd çalar yol bilgisayarı fonksiyonel direksiyon elektrikli arka perde elektrikli yan aynalar elektrikli arka perde elektrikli arka perde yan makam perdeleri elektrikli arka perde elektrikli katlanır ayna yağmur sensörü far sensörü ön arka park sensörü kararan dikiz aynası elektrikli arka perde elektrikli yan aynalar ön arka park sensörü far sensörü yağmur sensörü far yıkama bluetooth telefon bağlantısı aux usb girişi bluetooth telefon bağlantısı audıo sd card usb cd aux pazar günleri hizmetinizdeyiz\n",
      "\n"
     ]
    },
    {
     "name": "stderr",
     "output_type": "stream",
     "text": [
      "\r",
      " 75%|████████████████████████████████████████████████████████████▎                   | 226/300 [05:08<02:22,  1.92s/it]"
     ]
    },
    {
     "name": "stdout",
     "output_type": "stream",
     "text": [
      "\" otomotiv den 2014 bmw 5 . 20i premium plus sunroof hayalet ekran vakumlu kapılar vakumlu kapılar hayalet ekran elektrikli bagaj hayalet ekran vakumlu kapılar elektrikli bagaj kapağı geri görüş kamerası sunroof bej deri döşeme elektrikli katlanır ayna hafızalı sürücü koltuğu ısıtmalı ön koltuklar geri görüş kamerası elektrikli arka perde elektrikli katlanır ayna bi xenon far far yıkama far sensörü yağmur sensörü ön arka park sensörü alaşımlı çelik jant park sensörü yağmur sensörü far sensörü otomatik kararan dikiz aynası elektrikli katlanır ayna ön arka park sensörü far sensörü yağmur sensörü ön arka park sensörü far yıkama cd changer ön kol dayama bluetooth telefon bağlantısı aux ın usb girişi hız sabitleyici ve sınırlayıcı digital klima ön ve arka park sensörü fonksiyonel direksiyon elektrikli arka perde hava yastıkları ön ve arka kol dayama bardaklıklar aydınlatmalı makyaj aynaları alaşım jantlar\n",
      "\n"
     ]
    },
    {
     "name": "stderr",
     "output_type": "stream",
     "text": [
      "\r",
      " 76%|████████████████████████████████████████████████████████████▌                   | 227/300 [05:10<02:07,  1.75s/it]"
     ]
    },
    {
     "name": "stdout",
     "output_type": "stream",
     "text": [
      "\" araç borusan bayi çıkışlıdır . araç borusan çıkışlı olup , servis bakımlıdır . bakımları yeni yapılmıştır . araç donanım listesi hayalet gösterge vakumlu kapılar hayalet ekran elektrikli bagaj kapağı geri görüş kamerası bluetooth usb aux bluetooth telefon bağlantısı eğim iniş destek asistanı gündüz ledleri far sensörü yağmur sensörü far sensörü ön arka park sensörü yağmur sensörü far sensörü ön ve arka park sensörü bluetooth aux usb girişi\n",
      "\n"
     ]
    },
    {
     "name": "stderr",
     "output_type": "stream",
     "text": [
      "\r",
      " 76%|████████████████████████████████████████████████████████████▊                   | 228/300 [05:10<01:42,  1.43s/it]"
     ]
    },
    {
     "name": "stdout",
     "output_type": "stream",
     "text": [
      "\" araç model bilgisi ; bmw 5 . 20i executıve m sport plus 1 . 6 motor 170 hp 8 ileri joystick vites f1 vites sunroof elektrikli bagaj kapağı geri görüş kamerası ön ve arka park sensörü elektrikli katlanır ayna bi xenon led farlar far yıkama elektrikli katlanır ayna yağmur sensörü far sensörü ön arka park sensörü otomatik kararan dikiz aynası far ve yağmur sensörü far sensörü ön ve arka park sensörü elektrikli katlanır yan aynalar elektrikli arka perde elektrikli arka perde yan makam perdeleri arka kol dayama ve daha sayamadığım daha bir çok özellik mevcuttur . not : aracın kasko bedeli . 000 tl dir .\n",
      "\n"
     ]
    },
    {
     "name": "stderr",
     "output_type": "stream",
     "text": [
      "\r",
      " 76%|█████████████████████████████████████████████████████████████                   | 229/300 [05:11<01:33,  1.31s/it]"
     ]
    },
    {
     "name": "stdout",
     "output_type": "stream",
     "text": [
      "\" 2011 model bmw 5 . 20d comfort dış m sport hatasız boyasız tramersiz kazasız boyasız tramersiz f1 vites koltuk ısıtma elektrikli hafızalı koltuk elektrikli ön koltuklar koltuk ısıtma koltuk hafıza paketi geri görüş kamerası ön ve arka park sensörü arka park sensörü elektrikli katlanır yan aynalar elektrikli arka perde yokuş kalkış desteği anahtarsız çalıştırma start stop bluetooth telefon bağlantısı usb aux girişi bluetooth telefon bağlantısı fonksiyonel deri direksiyon elektrikli arka perde hava yastıkları run flat lastikler\n",
      "\n"
     ]
    },
    {
     "name": "stderr",
     "output_type": "stream",
     "text": [
      "\r",
      " 77%|█████████████████████████████████████████████████████████████▎                  | 230/300 [05:12<01:20,  1.15s/it]"
     ]
    },
    {
     "name": "stdout",
     "output_type": "stream",
     "text": [
      "\" araç model bilgisi ; bmw 5 serisi 520d comfort 184 hp 8 ileri otomatik vites sunroof koltuk ısıtma elektrikli bagaj hayalet gösterge vakumlu kapılar geniş ekran navigasyon hayalet ekran vakumlu kapılar elektrikli bagaj hayalet ekran vakumlu kapılar elektrikli bagaj geri görüş kamerası bluetooth telefon elektrikli hafızalı ön koltuklar elektrikli direksiyon ön arka kol dayama elektrikli hafızalı sürücü koltuğu elektrikli direksiyon ısıtmalı ön koltuklar elektrikli katlanır aynalar çift yönlü dijital klima start & stop anahtarsız çalışma iç ve dış ışık paketi dijital çift bölgeli klima fonksiyonel spor deri direksiyon elektrikli katlanır ısıtmalı hafızalı yan aynalar elektrokrom ( ışığa duyarlı ) iç ve dış aynalar yağmur sezici far sensörü eco comfort sport sport sürüş modları türkçe ön panel akustik kemer uyarısı otomatik kapı kilit fonksiyonu karter koruması velur halı paspaslar ön kol dayama arka kol dayama run flat ( patlamayan ) lastikler iletişim : 0532 90 45 bindir\n",
      "\n"
     ]
    },
    {
     "name": "stderr",
     "output_type": "stream",
     "text": [
      "\r",
      " 77%|█████████████████████████████████████████████████████████████▌                  | 231/300 [05:14<01:24,  1.23s/it]"
     ]
    },
    {
     "name": "stdout",
     "output_type": "stream",
     "text": [
      "\" araç borusan çıkışlı olup , borusan bakımlıdır . içi dışı tertemiz çizik dahi yoktur . aracın bütün bakımları yapılmıştır . aracın içi ve dışı sıfır ayarındadır . araç muayenesi mevcuttur . istenilen yere götürülüp gösterilebilir .\n",
      "\n"
     ]
    },
    {
     "name": "stderr",
     "output_type": "stream",
     "text": [
      "\r",
      " 77%|█████████████████████████████████████████████████████████████▊                  | 232/300 [05:14<01:05,  1.03it/s]"
     ]
    },
    {
     "name": "stdout",
     "output_type": "stream",
     "text": [
      "\" araç borusan çıkışlı olup , komple boyalı olup , değişen , boyanan parçası yoktur , boya ve değişen yoktur . sadece sağ ön çamurluk boyalı , sağ arka kapı ve sağ arka kapı ve çamurluk , ön kaput , ön ve arka tampon değişmiştir . tramer kaydı yoktur . sadece sağ ön çamurlukta lokal boya vardır . hasar kaydı yoktur .\n",
      "\n"
     ]
    },
    {
     "name": "stderr",
     "output_type": "stream",
     "text": [
      "\r",
      " 78%|██████████████████████████████████████████████████████████████▏                 | 233/300 [05:15<00:58,  1.15it/s]"
     ]
    },
    {
     "name": "stdout",
     "output_type": "stream",
     "text": [
      "\" araç bilgileri ( ( ( ( ( ( ( ( ( ( ( ( ( ( ) ) ) ) ) ) ) ) ) ) ( ) ( ( ( ( ( ( ( ) ) ) ) ) ( ( ) ( ( ( ( ( ( ( ( ( ( ( ) ( ( ) ) ) ) ) ) ) ) ) ) ) ) ) ) ) ( ) ) ) ) ( ) ) ) ) ) ) büyük ekran ( nbt ) hayalet gösterge elektrikli bagaj geri görüş kamerası elektrikli direksiyon hafızalı koltuk elektrikli direksiyon ısıtmalı hafızalı koltuklar ön arka park sensörü elektrikli arka perde elektrikli arka perde çift bölge dijital klima fonksiyonel deri direksiyon çift bölgeli dijital klima ön arka park sensörü far sensörü yağmur sensörü far sensörü elektrikli arka perde sis farı far sensörü yağmur sensörü ön arka park sensörü ön arka park sensörü alaşımlı jant sis farı isofix sis farı alaşımlı jantlar vs . vs . vs vs vs vs vs vs vs vs vs vs vs vs yoktur\n",
      "\n"
     ]
    },
    {
     "name": "stderr",
     "output_type": "stream",
     "text": [
      "\r",
      " 78%|██████████████████████████████████████████████████████████████▍                 | 234/300 [05:16<01:14,  1.13s/it]"
     ]
    },
    {
     "name": "stdout",
     "output_type": "stream",
     "text": [
      "\" 2012 model bmw 5 . 20i premium comfort paket borusan çıkışlı sunroof hayalet ekran vakumlu kapılar elektirikli hafızalı koltuk elektirikli perde hafızalı koltuk koltuk ısıtma elektrikli hafızalı koltuk ön arka kol dayama elektrikli arka perde elektrikli arka perde elektrikli katlanır ayna bi xenon far far yıkama far yağmur sensörü ön arka park sensörü ön arka kol dayama start & stop lastik basınç sensörü yağmur sensörü far sensörü ön arka park sensörü far yıkama ön arka park sensörü sis farı çelik jant sis farı çelik jant sis farı çelik jant sis farı far sensörü yağmur sensörü ön arka park sensörü elektrikli arka perde yan makam perdeleri kararan dikiz aynası elektrikli arka perde elektrikli arka perde hava yastıkları ön arka kol dayama ısofıx vs . vs vs vs vs vs vs vs vs \"\n",
      "\n"
     ]
    },
    {
     "name": "stderr",
     "output_type": "stream",
     "text": [
      "\r",
      " 78%|██████████████████████████████████████████████████████████████▋                 | 235/300 [05:18<01:16,  1.18s/it]"
     ]
    },
    {
     "name": "stdout",
     "output_type": "stream",
     "text": [
      "2011 model bmw 5 . 20i premium otomatik vites sunroof deri koltuk ısıtma elektrikli hafızalı koltuk elektrikli direksiyon ön arka kol dayama elektrikli arka perde elektrikli katlanır ayna yağmur sensörü far sensörü ön arka park sensörü far yıkama sunroof park sensörü yağmur sensörü far sensörü far sensörü sis farı ışık paket ön arka park sensörü ön arka kol dayama ısofıx 18 jant lastık sıfır motor yapılmıştır . ​\n",
      "\n"
     ]
    },
    {
     "name": "stderr",
     "output_type": "stream",
     "text": [
      "\r",
      " 79%|██████████████████████████████████████████████████████████████▉                 | 236/300 [05:18<01:05,  1.03s/it]"
     ]
    },
    {
     "name": "stdout",
     "output_type": "stream",
     "text": [
      "\" aracım borusan çıkışlı olup , servis bakımlıdır . herhangi bir kazası yoktur . tramer kaydı yoktur . yedek anahtarı kitapçıkları vardır .\n",
      "\n"
     ]
    },
    {
     "name": "stderr",
     "output_type": "stream",
     "text": [
      "\r",
      " 79%|███████████████████████████████████████████████████████████████▏                | 237/300 [05:19<00:50,  1.26it/s]"
     ]
    },
    {
     "name": "stdout",
     "output_type": "stream",
     "text": [
      "\" araç borusan çıkışlı olup , borusan bakımlı , ilk sahibinden olup , servis bakımlıdır . bütün bakımları yapılmıştır . aracın ön takım , ön takım , ön takım , arka cam dahil ) , arka cam filmi , ön arka tampon ve yan marşpiyel , ön arka tampon , yan marşpiyel , ön tampon , yan marşpiyel , marşpiyel , yan marşpiyel , yan marşpiyel , m ayna kapakları , arka tampon , m ön tampon , m ön tampon , m marşbiyel , 18 m jant , m paket , sunroof , , geri görüş kamerası , m paket , elektrikli bagaj , hafızalı koltuklar , ısıtmalı ön koltuklar , geri görüş kamerası , ön arka park sensörü , geri görüş kamerası , bluetooth , aux , usb , cd çalar , park sensörü , yağmur sensörü , far sensörü , kararan iç dikiz aynası . \"\n",
      "\n"
     ]
    },
    {
     "name": "stderr",
     "output_type": "stream",
     "text": [
      "\r",
      " 79%|███████████████████████████████████████████████████████████████▍                | 238/300 [05:20<01:01,  1.01it/s]"
     ]
    },
    {
     "name": "stdout",
     "output_type": "stream",
     "text": [
      "\" araç borusan çıkışlıdır . araçta sigara içilmemiştir . aracın içi dışı tertemiz ve bakımlıdır . aracın tüm bakımları yetkili serviste yapılmıştır . araç kapalı garajda muhafaza edilmiştir . aracın üzerinde 4 adet kışlık lastik vardır . aracın yedek anahtarı mevcuttur . aracın üzerinde 4 adet jant lastik bulunmaktadır . yedek anahtarı ve kitapçıkları mevcuttur . \"\n",
      "\n"
     ]
    },
    {
     "name": "stderr",
     "output_type": "stream",
     "text": [
      "\r",
      " 80%|███████████████████████████████████████████████████████████████▋                | 239/300 [05:21<00:53,  1.15it/s]"
     ]
    },
    {
     "name": "stdout",
     "output_type": "stream",
     "text": [
      "\" 2016 model bmw 5 . 25d xdrive premium m sport plus paket içi bej deri döşeme sunroof bej deri döşeme elektrikli katlanır ayna ön arka park sensörü geri görüş kamerası anahtarsız çalıştırma start stop anahtarsız çalıştırma çift bölge dijital klima hız sabitleyici elektrikli katlanır ayna yağmur sensörü far sensörü park sensörü far yıkama bluetooth usb aux bluetooth telefon bağlantısı yokuş kalkış desteği 3 farklı sürüş modu eco comfort sport sport plus sürüş modları yol bilgisayarı yağmur sensörü far sensörü otomatik kararan dikiz aynası elektrikli katlanır ayna bluetooth aux usb mp3 cd çalar aux ın usb girişi bluetooth telefon bağlantısı aux ın usb girişi hız sabitleyici yol bilgisayarı ön arka kol dayama ısofıx 17 jantlar\n",
      "\n"
     ]
    },
    {
     "name": "stderr",
     "output_type": "stream",
     "text": [
      "\r",
      " 80%|████████████████████████████████████████████████████████████████                | 240/300 [05:22<00:57,  1.05it/s]"
     ]
    },
    {
     "name": "stdout",
     "output_type": "stream",
     "text": [
      "\" araç kapalı garajda muhafaza edilmiştir . aracın tüm bakımları yapılmıştır . aracın üzerinde kışlık lastik vardır . aracın tüm bakımları yapılmıştır . km si kesinlikle orjinaldir . sadece sağ ön çamurlukta çizik boyası vardır . tramer kaydı yoktur . pazarlık payı vardır lütfen takas teklif etmeyiniz . \"\n",
      "\n"
     ]
    },
    {
     "name": "stderr",
     "output_type": "stream",
     "text": [
      "\r",
      " 80%|████████████████████████████████████████████████████████████████▎               | 241/300 [05:22<00:49,  1.19it/s]"
     ]
    },
    {
     "name": "stdout",
     "output_type": "stream",
     "text": [
      "\" araç , model bilgisi ; bmw 5 . 25d xdrive m sport borusan çıkışlı borusan bakımlı hatasız boyasız tramersiz full yetkili servis bakımlı sunroof ( açılır tavan ) hayalet gösterge vakumlu kapılar elektrikli bagaj hayalet gösterge vakumlu kapılar geri görüş kamerası elektrikli bagaj kapağı geri görüş kamerası ön ve arka park sensörü elektrikli arka perde elektrikli arka perde yan makam perdeleri elektrikli arka perde elektrikli arka perde ve yan protokol perdeler elektrikli arka perde arka makam perde yan protokol perde elektrikli arka perde yan makam perdeleri elektrikli arka perde elektrikli arka perde elektrikli katlanır ayna yağmur ve far sensörü 4 koltuk ısıtma elektrikli arka perde elektrikli arka perde elektrikli arka perde yan makam perdeleri elektrikli arka perde elektrikli arka perde elektrikli ve hafızalı ön koltuklar ve arka yan makam perdeleri elektrikli arka perde elektrikli arka perde çift bölge dijital klima anahtarsız çalıştırma cd çalar usb aux far sensörü yağmur sensörü elektrikli arka perde elektrikli yan makam perdeleri elektrikli arka perde bluetooth telefon hazırlık sis farı alaşımlı jantlar vs vs vs vs vs vs vs vs vs \"\n",
      "\n"
     ]
    },
    {
     "name": "stderr",
     "output_type": "stream",
     "text": [
      "\r",
      " 81%|████████████████████████████████████████████████████████████████▌               | 242/300 [05:24<01:04,  1.12s/it]"
     ]
    },
    {
     "name": "stdout",
     "output_type": "stream",
     "text": [
      "araç orjinal m sport plus modelidir . araç özellikleri ; sunroof bi xenon farlar geri görüş kamerası bluetooth telefon bağlantısı geri görüş kamerası elektrikli katlanır ayna far yağmur sensörü park sensörü ön ve arka kol dayama arka park sensörü yağmur sensörü far sensörü otomatik kararan dikiz aynası abs asr esp asr esp radyo cd aux çalar yol bilgisayarı fonksiyonel direksiyon elektrikli arka perde elektrikli yan aynalar camlar kasko değeri : 286 . 00 tl\n",
      "\n"
     ]
    },
    {
     "name": "stderr",
     "output_type": "stream",
     "text": [
      "\r",
      " 81%|████████████████████████████████████████████████████████████████▊               | 243/300 [05:25<00:56,  1.00it/s]"
     ]
    },
    {
     "name": "stdout",
     "output_type": "stream",
     "text": [
      "\" araç 2014 model bmw 5 . 20i premium 170 hp 8 ileri otomatik vites , sunroof , geri görüş kamerası , elektrikli hafızalı sürücü koltuğu , elektrikli ısıtmalı , hafızalı , elektrikli ısıtmalı , katlanır aynalar , elektrikli katlanır ayna , start stop , anahtarsız çalıştırma , start stop , anahtarsız çalıştırma , ışık paket , dijital klima , hız sabitleyici , park sensörü , yağmur sensörü , far sensörü , kararan dikiz aynası , far yıkama , ısıtmalı aynalar , elektrikli arka perde , sis farı , yağmur sensörü , far sensörü , ışık paketi , kapı kolu aydınlatma , dijital klima , abs , asr , esp , alarm , ımmobılızer , elektrikli , ısıtmalı aynalar , elektrikli arka park sensörü , uzaktan kumandalı merkezi kilit , ön arka kol dayama , isofix mevcuttur . \"\n",
      "\n"
     ]
    },
    {
     "name": "stderr",
     "output_type": "stream",
     "text": [
      "\r",
      " 81%|█████████████████████████████████████████████████████████████████               | 244/300 [05:26<01:02,  1.12s/it]"
     ]
    },
    {
     "name": "stdout",
     "output_type": "stream",
     "text": [
      "\" sahibinden satılık bmw 5 . 20i premium 170 hp hayalet ekran vakum kapılar elektrikli koltuk hafızalı koltuk koltuk ısıtma elektrikli bagaj elektrikli hafızalı koltuk elektrikli perde ön arka park sensörü geri görüş kamerası far yıkama sunroof xenon farlar ve far yıkama çift yönlü dijital klima elektrikli arka perde elektrikli arka perde elektrikli katlanır ayna yağmur far sensörü far sensörü park sensörü elektrikli katlanır ayna kararan dikiz aynası elektirikli arka perde ahşap iç trimler ve daha birçok özellik . ​\n",
      "\n"
     ]
    },
    {
     "name": "stderr",
     "output_type": "stream",
     "text": [
      "\r",
      " 82%|█████████████████████████████████████████████████████████████████▎              | 245/300 [05:27<00:56,  1.02s/it]"
     ]
    },
    {
     "name": "stdout",
     "output_type": "stream",
     "text": [
      "\" aracın ilk sahibiyim . araç borusan çıkışlıdır . aracın bakımları yeni yapılmıştır . aracın özellikleri ; sunroof geri görüş kamerası ön arka park sensörü elektrikli katlanır aynalar elektrikli arka perde elektrikli katlanır ayna yağmur sensörü far sensörü far yıkama çift yönlü dijital klima arka park sensörü far sensörü yağmur sensörü ön arka park sensörü far sensörü yağmur sensörü ön arka park sensörü fonksiyonel deri direksiyon arka kol dayama arka perde sis farı çelik jant sis farı cd mp3 çalar usb aux giriş abs esp asr start stop hız sabitleme yokuş kalkış desteği yağmur sensörü far sensörü ön arka park sensörü far yıkama çift yönlü dijital klima hız sabitleyici ön arka park sensörü elektrikli ısıtmalı aynalar ön arka park sensörü geri görüş kamerası bluetooth telefon usb aux\n",
      "\n"
     ]
    },
    {
     "name": "stderr",
     "output_type": "stream",
     "text": [
      "\r",
      " 82%|█████████████████████████████████████████████████████████████████▌              | 246/300 [05:28<00:59,  1.10s/it]"
     ]
    },
    {
     "name": "stdout",
     "output_type": "stream",
     "text": [
      "\" araç servis bakımlıdır . bakımları yeni yapılmıştır . ön tampon ve yan marşpiyel değişmiştir . araç özellikleri ; sunroof sport comfort sürüş modu auto hold yokuş kalkış desteği yağmur sensörü far sensörü park sensörü ön arka kol dayama arka kol dayama ışık paketi ön sis farı far sensörü yağmur sensörü ön arka park sensörü far sensörü otomatik kararan dikiz aynası radyo cd mp3 çalar yol bilgisayarı fonksiyonel deri direksiyon hız sabitleyici elektrikli arka perde elektrikli arka perde yağmur sensörü far sensörü arka park sensörü elektrikli arka perde ön arka park sensörü elektrikli arka perde yan makam perdeleri elektrikli arka perde yan makam perdeleri kararan dikiz aynası elektrikli katlanır ayna elektrikli arka perde sis farı çelik jant sis farı çelik jant sis farı far sensörü yağmur sensörü far yıkama bluetooth telefon bağlantısı usb aux girişi bluetooth telefon bağlantısı park mesafe kontrol ön arka kol dayama ısofıx bmw logolu kapı kolları aydınlatma paketi\n",
      "\n"
     ]
    },
    {
     "name": "stderr",
     "output_type": "stream",
     "text": [
      "\r",
      " 82%|█████████████████████████████████████████████████████████████████▊              | 247/300 [05:30<01:04,  1.21s/it]"
     ]
    },
    {
     "name": "stdout",
     "output_type": "stream",
     "text": [
      "\" araç borusan çıkışlı olup , borusan bakımlı , hayalet ekran , navigasyon , vakumlu kapılar , hayalet gösterge , vakumlu kapılar , elektrikli bagaj , hafızalı koltuk , ısıtmalı ön koltuklar , elektrikli hafızalı sürücü koltuğu , elektrikli hafızalı , ısıtmalı , hafızalı , elektrikli ön koltuklar , geri görüş kamerası , bluetooth , aux , usb , cd çalar , park sensörü , yağmur sensörü , far sensörü , sis farı , yağmur sensörü , far sensörü , kararan dikiz aynası , fonksiyonel deri direksiyon , ön arka park sensörü , geri görüş kamerası , ön arka park sensörü , yağmur sensörü , far sensörü , fonksiyonel direksiyon , m ayna , far yıkama , ışık paket , kapı kolları aydınlatma , kapı kolu aydınlatma , dijital klima , arka park sensörü , yağmur sensörü , far sensörü , kararan iç dikiz aynası , abs , asr , esp , alarm , ımmobılızer , elektrikli , ısıtmalı aynalar , elektrikli camlar , uzaktan kumandalı merkezi kilit , ön kol dayama , arka kol dayama , isofix mevcuttur . tramer kaydı yoktur . \"\n",
      "\n"
     ]
    },
    {
     "name": "stderr",
     "output_type": "stream",
     "text": [
      "\r",
      " 83%|██████████████████████████████████████████████████████████████████▏             | 248/300 [05:32<01:12,  1.39s/it]"
     ]
    },
    {
     "name": "stdout",
     "output_type": "stream",
     "text": [
      "\" araç borusan çıkışlıdır . 2 . 000 km de olup , sadece sağ ön çamurlukta boya vardır . değişen parça yoktur . sadece sağ arka çamurlukta çizik boyası vardır . harici hatasız boyasızdır . tramer kaydı yoktur . park halinde çarpma 18 . 000 tl tramer kaydı vardır .\n",
      "\n"
     ]
    },
    {
     "name": "stderr",
     "output_type": "stream",
     "text": [
      "\r",
      " 83%|██████████████████████████████████████████████████████████████████▍             | 249/300 [05:32<00:57,  1.14s/it]"
     ]
    },
    {
     "name": "stdout",
     "output_type": "stream",
     "text": [
      "\" araç model bilgisi ; bmw 5 . 20i executıve m sport plus : borusan çıkışlı dış renk : beyaz iç renk : bej deri döşeme : sunroof vakumlu kapılar hayalet ekran geniş ekran geri görüş kamerası hafızalı koltuk elektrikli direksiyon ön koltuk ısıtma elektrikli hafızalı ısıtmalı ön koltuklar elektrikli arka perde elektrikli arka perde elektrikli katlanır ayna geri görüş kamerası bluetooth aux usb mp3 çalar cd changer bmw müzik sistemi elektrikli arka perde elektrikli arka perde elektrikli arka perde yan protokol perde elektrikli arka perde katlanır ayna yağmur ve far sensörü park sensörü çift bölge dijital klima abs esp asr esp radyo cd mp3 çalar yol bilgisayarı fonksiyonel deri direksiyon ön arka kol dayama ısofıx 18 m sport alaşım jantlar\n",
      "\n"
     ]
    },
    {
     "name": "stderr",
     "output_type": "stream",
     "text": [
      "\r",
      " 83%|██████████████████████████████████████████████████████████████████▋             | 250/300 [05:33<00:57,  1.15s/it]"
     ]
    },
    {
     "name": "stdout",
     "output_type": "stream",
     "text": [
      "\" 2012 model bmw 5 . 25 x drive premium borusan çıkışlı hayalet ekran vakumlu kapılar geri görüş kamerası sunroof vakumlu kapılar elektrikli bagaj bi xenon far hayalet gösterge vakumlu kapılar elektrikli bagaj geri görüş kamerası elektrikli hafızalı koltuk ısıtmalı ön koltuklar elektrikli direksiyon ön arka park sensörü geri görüş kamerası bluetooth telefon start stop bluetooth aux usb bluetooth aux cd mp3 çalar usb aux giriş ön arka park sensörü elektrikli arka perde elektrikli arka perde yan makam perdeleri elektrikli arka perde yan protokol perde elektrikli arka perde yan makam perdeleri elektrikli arka perde far ve yağmur sensörü ön arka park sensörü elektrikli arka perde elektrikli yan makam perdeleri elektrikli arka perde elektrikli arka perde elektrikli katlanır yan aynalar elektrikli arka perde usb aux bluetooth telefon hazırlık sis farı alaşımlı jantlar vs vs vs vs vs vs vs vs vs vs vs vs vs vs vs vs vs vs vs vs vs vs vs vs vs vs vs\n",
      "\n"
     ]
    },
    {
     "name": "stderr",
     "output_type": "stream",
     "text": [
      "\r",
      " 84%|██████████████████████████████████████████████████████████████████▉             | 251/300 [05:35<01:01,  1.26s/it]"
     ]
    },
    {
     "name": "stdout",
     "output_type": "stream",
     "text": [
      "araç borusan çıkışlı olup servis bakımlıdır . bakımları yeni yapılmıştır .\n",
      "\n"
     ]
    },
    {
     "name": "stderr",
     "output_type": "stream",
     "text": [
      "\r",
      " 84%|███████████████████████████████████████████████████████████████████▏            | 252/300 [05:35<00:44,  1.08it/s]"
     ]
    },
    {
     "name": "stdout",
     "output_type": "stream",
     "text": [
      "\" araç model bilgisi ; bmw 5 serisi gran coupe sport plus 1 . 6 170 hp 8 ileri otomatik vites sunroof deri koltuk ısıtma elektrikli hafızalı sürücü koltuğu elektrikli yolcu koltuğu soft close ( vakumlu kapılar ) elektrikli bagaj kapağı geri görüş kamerası bluetooth telefon bağlantısı masaj fonksiyonu ön koltuk ısıtma paketi otomatik klima ( ekranlı 2bölge ) elektrikli hafızalı ön koltuklar ısıtmalı ön koltuklar elektrikli arka cam perdesi elektrokrom iç ayna far yıkama sistemi park mesafe kontrol ön arka yağmur sezicisi otomatik klima ( ekranlı 2bölge yağmur sezicisi park mesafe kontrol ön arka sürüş asistanı bmw acil durum çağrısı bmw teleservıces 7r3 7r3 7r3 7r3 otomatik kapı kilit fonk . premıum lıne havalandırma arka koltuk okuma ışıkları prof . güneş korumalı arka camlar spor deri direksiyon otomatik açılır bagaj kapağı soft close otomatik kapılar çok işlevli gösterge ekranı bmw harekete duyarlı komut sistemi çok işlevli gösterge ekranı bmw ekranlı anahtar connecteddrıve fonksiyonları uzaktan kontrol fonksiyonları arka koltuk eğlence ıdrıve akıllı tel bağ . sis . wireless bmw hareketle komut sistemi adaptif led farlar led sis farları otomatik uzun far fonksiyonu geri görüş kamerası park mesafe kontrol ön arka sürüş asistanı bmw acil durum çağrısı bmw teleservıces 7r3 7r3 7r3 7r3 otomatik kapı kilit fonk . karter koruması otomatik açılır bagaj kapağı soft close otomatik kapılar elektrokrom katlanır aynalar leatherette bej deri döşeme türkiye paketi otomatik şanzıman 8 ileri plus elektrikli cam tavan \"\n",
      "\n"
     ]
    },
    {
     "name": "stderr",
     "output_type": "stream",
     "text": [
      "\r",
      " 84%|███████████████████████████████████████████████████████████████████▍            | 253/300 [05:38<01:07,  1.43s/it]"
     ]
    },
    {
     "name": "stdout",
     "output_type": "stream",
     "text": [
      "\" araç borusan çıkışlı olup , servis bakımlıdır . yetkili servis bakımlıdır . herhangi bir masrafı yoktur . araç sadece sağ ön çamurluğunda boya vardır . değişen yoktur . hasar kaydı yoktur . \"\n",
      "\n"
     ]
    },
    {
     "name": "stderr",
     "output_type": "stream",
     "text": [
      "\r",
      " 85%|███████████████████████████████████████████████████████████████████▋            | 254/300 [05:38<00:50,  1.10s/it]"
     ]
    },
    {
     "name": "stdout",
     "output_type": "stream",
     "text": [
      "\" araç model bilgisi ; bmw 5 serisi gran coupe 4 . 18i edıtıon sport plus 1 . 6 motor 170 hp 8 ileri otomatik vites sunroof deri koltuk koltuk ısıtma elektrikli bagaj kapağı geri görüş kamerası ön arka park sensörü elektrikli katlanır ayna çift yönlü dijital klima bluetooth telefon bağlantısı usb aux giriş ön arka park sensörü far gece sensörü park sensörü yağmur sensörü lastik basınç sensörü fonksiyonel direksiyon m sport jantlar orjinal m jantlar vs vs vs vs vs vs vs vs vs vs vs vs vs vs vs vs vs vs yoktur\n",
      "\n"
     ]
    },
    {
     "name": "stderr",
     "output_type": "stream",
     "text": [
      "\r",
      " 85%|████████████████████████████████████████████████████████████████████            | 255/300 [05:39<00:47,  1.06s/it]"
     ]
    },
    {
     "name": "stdout",
     "output_type": "stream",
     "text": [
      "\" sahibinden satılık bmw 5 . 20i premium 170 hp hayalet ekran vakumlu kapılar sunroof vakumlu kapılar elektrikli bagaj hayalet gösterge vakumlu kapılar elektrikli bagaj hayalet ekran vakumlu kapılar elektrikli bagaj kapağı geri görüş kamerası vakumlu kapılar hayalet ekran hafızalı koltuk elektrikli direksiyon ön arka park sensörü elektrikli arka perde çift bölge dijital klima sunroof bluetooth telefon bağlantısı geri görüş kamerası bluetooth telefon hazırlık sis farı far gece sensörü yağmur sensörü ön ve arka park sensörü sis farı çelik jant sis farı çelik jantlar vs . vs . vs . vs vs vs vs vs vs vs vs vs vs vs yoktur\n",
      "\n"
     ]
    },
    {
     "name": "stderr",
     "output_type": "stream",
     "text": [
      "\r",
      " 85%|████████████████████████████████████████████████████████████████████▎           | 256/300 [05:40<00:47,  1.07s/it]"
     ]
    },
    {
     "name": "stdout",
     "output_type": "stream",
     "text": [
      "\" otomotiv den 2015 bmw 4 . 18i gran coupe sport plus aracımız borusan çıkışlı olup yetkili servis bakımlıdır . bakımları yeni yapılmıştır . masrafsız bir araçtır . alıcısına şimdiden hayırlı olsun .\n",
      "\n"
     ]
    },
    {
     "name": "stderr",
     "output_type": "stream",
     "text": [
      "\r",
      " 86%|████████████████████████████████████████████████████████████████████▌           | 257/300 [05:40<00:36,  1.16it/s]"
     ]
    },
    {
     "name": "stdout",
     "output_type": "stream",
     "text": [
      "\" sahibinden satılık . bmw 5 . 20i premium 170 hp borusan çıkışlı borusan bakımlı . 8 ileri joystick yeni nesil şanzıman ( 184 hp yeni nesil motor yeni nesil motor dizel ) dış renk ( sedefli beyaz ) iç dış ( dış ) ışık paket ( kapı ) orjinal bmw m sport jantlar ( orjinal ) led gündüz farları led arka stoplar elektrikli arka perde elektrikli katlanır ayna bi xenon far far yıkama sistemi bluetooth telefon hazırlık sis farı far gece sensörü yağmur sensörü park sensörü yağmur sensörü otomatik kararan dikiz aynası \"\n",
      "\n"
     ]
    },
    {
     "name": "stderr",
     "output_type": "stream",
     "text": [
      "\r",
      " 86%|████████████████████████████████████████████████████████████████████▊           | 258/300 [05:41<00:37,  1.13it/s]"
     ]
    },
    {
     "name": "stdout",
     "output_type": "stream",
     "text": [
      "\" araç model bilgisi ; bmw 5 serisi 520d comfort 184 hp borusan çıkışlı sunroof bi xenon led farlar geri görüş kamerası ön arka park sensörü elektrikli arka perde elektrikli katlanır ayna bi xenon far far yıkama geri görüş kamerası ön arka park sensörü yağmur sensörü far sensörü ön arka park sensörü far sensörü yağmur sensörü ön arka park sensörü far sensörü ön arka kol dayama aracımızda sadece sağ ön çamurluk değişik ön kaput ve ön çamurluk boyalı sağ ön çamurluk boyalı sol ön çamurluk boyalı sol ön kapı sağ arka çamurluk boyalı sağ ön çamurluk boyalı sol ön çamurluk boyalı sol ön kapı boyalı sağ arka kapı boyalı sol ön çamurluk boyalı sol ön çamurluk sağ ön kapı boyalı sağ arka kapı boyalı sol ön çamurluk boyalı ön kaput boyalı ön sağ arka çamurluk lokal boyalı sol arka kapı boyalı sağ arka çamurluk boyalı sol arka çamurluk boyalı hasar kaydı yok ! ! ! ! ! ! ! ! !\n",
      "\n"
     ]
    },
    {
     "name": "stderr",
     "output_type": "stream",
     "text": [
      "\r",
      " 86%|█████████████████████████████████████████████████████████████████████           | 259/300 [05:43<00:45,  1.11s/it]"
     ]
    },
    {
     "name": "stdout",
     "output_type": "stream",
     "text": [
      "\" araç borusan çıkışlı olup , borusan çıkışlı , borusan bakımlı , ilk sahibinden , borusan çıkışlı , borusan bayi çıkışlı borusan bakımlı , hayalet gösterge , vakumlu kapılar , elektrikli bagaj , hayalet gösterge , geri görüş kamerası , hafızalı koltuk , elektrikli direksiyon , hafızalı şöför koltuğu , elektrikli hafızalı koltuklar , elektrikli direksiyon , ısıtmalı , hafızalı , elektrikli ön koltuklar , elektrikli arka perde , elektrikli katlanır ayna , spor direksiyon , far yıkama , bluetooth , aux girişi , bluetooth , aux , usb , cd , mp3 , aux , usb , cd , mp3 , aux girişi , kol dayama , arka park sensörü , geri görüş kamerası , arka park sensörü , yağmur sensörü , far sensörü , park sensörü , kararan dikiz aynası , arka ve yan makam perdeleri , elektrikli hafızalı koltuklar , elektrikli arka perde , elektrikli katlanır ayna , arka park sensörü , far sensörü , yağmur sensörü , kararan iç dikiz aynası , elektirikli arka perde , far yıkama , led far , sis farı , yağmur sensörü , far sensörü , park sensörü , ışık paket , gelişmiş gösterge , gelişmiş gösterge paneli , abs , asr , esp , radyo cd çalar , yol bilgisayarı , fonksiyonel deri direksiyon , elektrikli , ısıtmalı aynalar , elektrikli arka perde , ışık paket , bluetooth , aux , usb , far yıkama , ışık paket , bluetooth , aux , usb , bluetooth , auto hold . araç iniş , binişinde aydınlatma ön ve arka park yardım desteği , yan makam perdeleri , arka perde , elektrikli katlanır aynalar , elektronik park freni , araç iniş , binişinde aydınlatma ön ve arka park yardım desteği , yan makam perdeleri , kararan iç dikiz aynası , abs\n",
      "\n"
     ]
    },
    {
     "name": "stderr",
     "output_type": "stream",
     "text": [
      "\r",
      " 87%|█████████████████████████████████████████████████████████████████████▎          | 260/300 [05:46<01:06,  1.65s/it]"
     ]
    },
    {
     "name": "stdout",
     "output_type": "stream",
     "text": [
      "\" araç borusan çıkışlı olup , bakımlı olup , masrafsızdır . araç özellikleri ; sunroof bi xenon farlar far yıkama çift yönlü dijital klima elektrikli arka perde bluetooth telefon hazırlık sis farı çelik jant sis farı alaşımlı jantlar ön arka park sensörü geri görüş kamerası ön arka park sensörü bluetooth usb aux cd çalar abs esp asr esp asr start stop ön kol dayama ön arka sis farı çelik jant sis farı çelik jant sis farı çelik jant sis farı ısofıx ımmobılızer yol bilgisayarı vs vs vs vs vs vs vs vs vs vs vs vs vs vs vs\n",
      "\n"
     ]
    },
    {
     "name": "stderr",
     "output_type": "stream",
     "text": [
      "\r",
      " 87%|█████████████████████████████████████████████████████████████████████▌          | 261/300 [05:47<00:56,  1.46s/it]"
     ]
    },
    {
     "name": "stdout",
     "output_type": "stream",
     "text": [
      "\" 2012 model bmw 5 . 25 x drive comfort aracımız borusan çıkışlı olup bütün bakımları yapılmıştır . aracın yedek anahtarı ve kitapçıkları mevcuttur . araç özellikleri : bmw professional müzik sistemi ( yeni nesil şanzıman ) bmw connected drive ( uzaktan kontrol edilebilir ) bmw connected drive ( uzaktan kontrol ) park asistanı ( 3ag & 508 dahil ) bmw harekete duyarlı komut sistemi ( control ) sunroof ( güneş korumalı ) arka makam perdeleri elektrikli direksiyon ısıtma elektrikli direksiyon hafızalı ön koltuklar ısıtmalı ön koltuklar ön arka park sensörü elektrikli arka perde elektrikli arka perde elektrikli arka perde elektrikli arka perde elektrikli katlanır ayna bi xenon far far yıkama far ve yağmur sensörü ön arka park sensörü ön arka park sensörü far ve yağmur sensörü far yıkama ışık paketi\n",
      "\n"
     ]
    },
    {
     "name": "stderr",
     "output_type": "stream",
     "text": [
      "\r",
      " 87%|█████████████████████████████████████████████████████████████████████▊          | 262/300 [05:48<00:53,  1.42s/it]"
     ]
    },
    {
     "name": "stdout",
     "output_type": "stream",
     "text": [
      "\" araç borusan bayi çıkışlıdır . araç borusan bayi çıkışlıdır . aracın ilk günkü gibi temiz olup herhangi bir çizik dahi yoktur . aracın yedek anahtarı vardır . aracın içi ve dışı ilk günkü gibi sıfır ayarında olup , araç kapalı garajda muhafaza edilmiştir . üzerinde kışlık ve jant ve lastikleri mevcuttur . araç özellikleri : sunroof bi xenon farlar ve far yıkama far ve yağmur sensörü ön arka park sensörü elektrikli arka perde çift yönlü dijital klima start & stop ile çalıştırma cd changer elektrikli arka perde elektrikli katlanır aynalar elektrikli arka perde yan makam perdeleri fonksiyonel deri direksiyon ön ve arka park sensörü far sensörü yağmur sensörü far sensörü ön arka park sensörü elektrikli ısıtmalı aynalar elektrikli arka perde elektrikli arka perde yan makam perdeleri ön arka park sensörü far sensörü yağmur sensörü far sensörü ön arka park sensörü ön arka park sensörü fonksiyonel direksiyon yol bilgisayarı yağmur sensörü far sensörü otomatik kararan dikiz aynası start stop anahtarsız çalıştırma start stop sunroof abs esp asr esp vsa hava yastığı yokuş kalkış desteği elektrikli arka perde elektrikli yan aynalar arka perde hava yastıkları alarm ımmobılızer elektrikli , ısıtmalı aynalar elektrikli camlar uzaktan kumandalı merkezi kilit ön kol dayama arka kol dayama isofix aracın sağ arka çamurluğunda boya vardır hasar kaydı yoktur\n",
      "\n"
     ]
    },
    {
     "name": "stderr",
     "output_type": "stream",
     "text": [
      "\r",
      " 88%|██████████████████████████████████████████████████████████████████████▏         | 263/300 [05:50<00:59,  1.62s/it]"
     ]
    },
    {
     "name": "stdout",
     "output_type": "stream",
     "text": [
      "\" araç 2012 model bmw 5 . 20i premium 2013 model yılı 2013 çıkışlı ve borusan bakımlı . ilk sahibinden alınmıştır . ilk sahibinden alınmıştır . ilk sahibinden olup , tüm bakımları yetkili serviste yapılmıştır . aracın tüm bakımları yapılmıştır . km si orjinal olup , kesinlikle yoktur . motor , şanzıman ve yürüyen aksamı kusursuzdur . lpg ruhsata işlidir . aracın detaylı iç temizliği yapılmıştır . aracın yedek anahtarı vardır . aracın tüm araçlarımız expertiz ve kilometre garantilidir . araç fazlalığından satılıktır . takas sadece nakit satılık \"\n",
      "\n"
     ]
    },
    {
     "name": "stderr",
     "output_type": "stream",
     "text": [
      "\r",
      " 88%|██████████████████████████████████████████████████████████████████████▍         | 264/300 [05:51<00:50,  1.40s/it]"
     ]
    },
    {
     "name": "stdout",
     "output_type": "stream",
     "text": [
      "\" bmw 5 . 20i premium m paket sunroof vakumlu kapılar hayalet ekran vakumlu kapılar elektrikli bagaj hayalet ekran vakumlu kapılar elektrikli bagaj f1 vites sunroof geri görüş kamerası ön koltuklarda ısıtma elektrikli direksiyon vakumlu kapılar elektrikli bagaj kapağı geri görüş kamerası ön arka park sensörü elektrikli direksiyon ön arka park sensörü far sensörü far yıkama sunroof elektrikli katlanır aynalar elektrikli arka perde elektrikli arka perde elektrokrom iç ayna yağmur sensörü far sensörü park mesafe sensörü yağmur sensörü far sensörü ön arka park sensörü elektrikli arka perde velur halı paspas auto hold sistemi hold yokuş kalkış desteği elektrikli arka perde yan ve arka perdeler elektrikli arka perde elektrikli yan aynalar arka perde hava yastıkları ön koltuklar hafıza paketi ön ve arka kol dayama bi xenon farlar far yıkama yağmur sensörü ön arka park sensörü elektrikli katlanır ayna fonksiyonel direksiyon elektrikli arka perde elektrikli arka perde yan perdeleri arka perde sis farı alaşımlı jantlar ön ve arka park sensörü far sensörü yağmur sensörü far sensörü arka park mesafe sensörü ön arka park sensörü fonksiyonel deri direksiyon hız sabitleyici ve sınırlayıcı fonksiyonel direksiyon arka kol dayama isofix iç ambians lambası akustik kemer uyarsı kararan dikiz aynası aux usb auto hold \"\n",
      "\n"
     ]
    },
    {
     "name": "stderr",
     "output_type": "stream",
     "text": [
      "\r",
      " 88%|██████████████████████████████████████████████████████████████████████▋         | 265/300 [05:53<00:54,  1.56s/it]"
     ]
    },
    {
     "name": "stdout",
     "output_type": "stream",
     "text": [
      "\" sahibinden satılık bmw 5 . 20i premium m sport plus aracımız özel üretim olup borusan bakımlıdır . sıfır ayarında bir araçtır . araç özellikleri ; sunroof vakumlu kapılar elektrikli bagaj hayalet ekran vakumlu kapılar elektrikli bagaj elektrikli perde sunroof elektrikli direksiyon vakumlu kapılar elektrikli bagaj kapağı geri görüş kamerası anahtarsız çalıştırma start stop geri görüş kamerası bluetooth telefon usb aux bluetooth telefon elektrikli katlanır ayna yağmur sensörü far sensörü ön arka park sensörü elektrikli arka perde hava yastıkları run flat lastikler yeni \"\n",
      "\n"
     ]
    },
    {
     "name": "stderr",
     "output_type": "stream",
     "text": [
      "\r",
      " 89%|██████████████████████████████████████████████████████████████████████▉         | 266/300 [05:54<00:45,  1.35s/it]"
     ]
    },
    {
     "name": "stdout",
     "output_type": "stream",
     "text": [
      "\" araç borusan çıkışlıdır . tüm bakımları yetkili serviste yapılmıştır . en temiz kullanılmış olup , en ufak bir masrafı yoktur . pazarlık payı vardır . \"\n",
      "\n"
     ]
    },
    {
     "name": "stderr",
     "output_type": "stream",
     "text": [
      "\r",
      " 89%|███████████████████████████████████████████████████████████████████████▏        | 267/300 [05:54<00:34,  1.03s/it]"
     ]
    },
    {
     "name": "stdout",
     "output_type": "stream",
     "text": [
      "\" 2012 bmw 5 . 25d xdrive comfort paket sunroof deri koltuk ısıtma elektrikli arka perde elektrikli arka perde elektrikli arka perde yan makam perdeleri elektrikli direksiyon hafızalı koltuk ön ve arka park sensörü geri görüş kamerası elektrikli ısıtmalı hafızalı koltuklar ön arka park sensörü bi xenon far far yıkama ön arka park sensörü yağmur sensörü far sensörü far sensörü ön arka park sensörü ön ve arka kol dayama ısofıx 18 m sport alaşım jantlar vs vs vs vs vs vs vs vs vs vs vs yoktur\n",
      "\n"
     ]
    },
    {
     "name": "stderr",
     "output_type": "stream",
     "text": [
      "\r",
      " 89%|███████████████████████████████████████████████████████████████████████▍        | 268/300 [05:55<00:31,  1.01it/s]"
     ]
    },
    {
     "name": "stdout",
     "output_type": "stream",
     "text": [
      "\" araç borusan çıkışlıdır . araç kapalı garajda muhafaza edilmiştir . aracın tüm bakımları yapılmıştır . masrafsız bir araçtır . içi ve dışı ilk günkü gibi temiz olup . hiç bir masrafı yoktur . aracın tüm bakımları yapılmıştır .\n",
      "\n"
     ]
    },
    {
     "name": "stderr",
     "output_type": "stream",
     "text": [
      "\r",
      " 90%|███████████████████████████████████████████████████████████████████████▋        | 269/300 [05:56<00:25,  1.23it/s]"
     ]
    },
    {
     "name": "stdout",
     "output_type": "stream",
     "text": [
      "\" araç bilgileri ; aracım temiz ve bakımlıdır . herhangi bir kazası yoktur . aracım çok temiz olup en ufak bir deforme yoktur . motor şanzuman sorunsuzdur . bakımları yeni yapılmıştır . araç kapalı garajda muhafaza edilmiştir . aracın içi dışı ilk günkü gibi temiz olup herhangi bir deformasyon yoktur . aracın üzerinde kışlık lastikleri vardır . üzerinde 4 adet sıfır ayarında yazlık ve kışlık lastikleri vardır . üzerinde kışlık lastikler vardır . \"\n",
      "\n"
     ]
    },
    {
     "name": "stderr",
     "output_type": "stream",
     "text": [
      "\r",
      " 90%|████████████████████████████████████████████████████████████████████████        | 270/300 [05:56<00:23,  1.27it/s]"
     ]
    },
    {
     "name": "stdout",
     "output_type": "stream",
     "text": [
      "bmw 5 . 20i premium otomatik vites sunroof deri koltuk koltuk ısıtma katlanır ayna elektrikli hafızalı koltuk koltuk ısıtma elektrikli hafızalı koltuk elektrikli yolcu koltuğu elektrikli arka perde geri görüş kamerası ön arka park sensörü far sensörü yağmur sensörü far sensörü ön arka park sensörü ön arka kol dayama bluetooth telefon hazırlık sis farı alaşımlı jantlar yol bilgisayarı bluetooth aux usb girişi bluetooth telefon bağlantısı abs asr esp alarm ımmobılızer elektrikli , ısıtmalı aynalar elektrikli camlar uzaktan kumandalı merkezi kilit ön kol dayama arka kol dayama isofix aracın sağ ön çamurluğu ve sağ arka kapısı değişmiştir . tramer kaydı yoktur . \"\n",
      "\n"
     ]
    },
    {
     "name": "stderr",
     "output_type": "stream",
     "text": [
      "\r",
      " 90%|████████████████████████████████████████████████████████████████████████▎       | 271/300 [05:57<00:24,  1.17it/s]"
     ]
    },
    {
     "name": "stdout",
     "output_type": "stream",
     "text": [
      "\" araç borusan çıkışlıdır . araçta sadece sağ ön çamurluk , sağ arka kapı ve sağ arka çamurlukta lokal boya vardır . değişen kesinlikle yoktur . tüm bakımları yapılmıştır . aracın 2 . sahibiyim . araç özellikleri vardır . aracın plakası : 34 . 000 tl : 12 ay toplam : tl . tramer : tl . 2 . el . araç kasko değeri : kasko değeri : 321 . 696 . 00 tl 48 aya kadar taksit tutarı : bu aracın kasko değeri : 321 . 696 . 00 tl 12 . 00 tl vergi levhalı şirketi ile birlikte fiyat tespiti için sizi esenboğa tesisimizde ikramlarımız ile misafir ederken üstün bmw teknolojisi yakından tanıma imkanına zaman ayırmış olabilirsiniz . iletişim borusan oto balgat tesisimizde sergilenmektedir , satış yetkililerimize 0 312 253 33 99 nolu telefondan ulaşabilirsiniz . ekspertiz durumu otomobilimizin hatasız dır . 5664 e sms 5664 e sms atıldığında gelen cevap : hasar kaydı yoktur . donanım metalik gri güneş korumalı arka camlar elektrokrom iç ayna yağmur sezicisi türkçe ön panel parlak siyah dış kaplama m deri direksiyon gelişmiş gösterge paneli hexagon alcantara kumaş döşeme hands free ve usb bağlantısı türkçe ön panel bmw acil durum çağrısı bmw teleservıces 7r3 otomatik kapı kilit fonk . akustik kemer uyarısı 7r3 otomatik kapı kilit fonk . karter koruması elektrokrom iç ayna karter koruması \"\n",
      "\n"
     ]
    },
    {
     "name": "stderr",
     "output_type": "stream",
     "text": [
      "\r",
      " 91%|████████████████████████████████████████████████████████████████████████▌       | 272/300 [05:59<00:35,  1.26s/it]"
     ]
    },
    {
     "name": "stdout",
     "output_type": "stream",
     "text": [
      "\" auto güvencesiyle 2012 model bmw 5 . 25d xdrive premium dış m sport beyaz içi bej deri döşeme sunroof bej deri döşeme elektrikli hafızalı koltuk koltuk ısıtma ön arka kol dayama far sensörü yağmur sensörü ön arka park sensörü far sensörü yağmur sensörü ön arka park sensörü ön arka kol dayama ısofıx araç kasko değeri : 275 . 000 tl 12 ay x 4 . tl ( ön tampon değişimi ) kz3 : 26 . 000tl ( ) \"\n",
      "\n"
     ]
    },
    {
     "name": "stderr",
     "output_type": "stream",
     "text": [
      "\r",
      " 91%|████████████████████████████████████████████████████████████████████████▊       | 273/300 [06:00<00:30,  1.12s/it]"
     ]
    },
    {
     "name": "stdout",
     "output_type": "stream",
     "text": [
      "\" bmw 5 . 20i premium m sport plus aracımız yetkili bayii bayii çıkışlıdır . aracımız iç dış m sport plus pakettir . aracımız 2004 model olup , 5 . 25 xdrive modelidir . sunroof , xenon far , geri görüş kamerası , park sensörü , yağmur sensörü , far sensörü , park sensörü , xenon far , far yıkama , park sensörü , çift yönlü dijital klima , arka park sensörü , ön arka kol dayama , isofix mevcuttur . \"\n",
      "\n"
     ]
    },
    {
     "name": "stderr",
     "output_type": "stream",
     "text": [
      "\r",
      " 91%|█████████████████████████████████████████████████████████████████████████       | 274/300 [06:01<00:26,  1.03s/it]"
     ]
    },
    {
     "name": "stdout",
     "output_type": "stream",
     "text": [
      "\" sahibinden satılık bmw 5 . 20i premium 170 hp borusan çıkışlı aracımız yetkili servis bakımlıdır . aracımızda kaza darbe değişen yoktur . tramer kaydı yoktur . aracımız da boya ve değişen yoktur . tramer kaydı yoktur . aracın tüm bakımları yapılmıştır . muayenesi kasım 2020 ye kadar vardır .\n",
      "\n"
     ]
    },
    {
     "name": "stderr",
     "output_type": "stream",
     "text": [
      "\r",
      " 92%|█████████████████████████████████████████████████████████████████████████▎      | 275/300 [06:02<00:21,  1.14it/s]"
     ]
    },
    {
     "name": "stdout",
     "output_type": "stream",
     "text": [
      "\" otomotiv 2014 bmw 5 . 25d xdrive m sport plus aracımız borusan çıkışlı olup özel plaka ve expertiz bilgisi resimlerde mevcuttur . aracımız istenilen servise baktırılabilir . yedek anahtarları ve tüm evrakları mevcuttur . özel renk olan aracımız borusan bakımlıdır . bütün bakımları yetkili serviste yapılmıştır . motor yürüyen şanzıman ve çok iyi durumdadır . aracın içi ve dışı sıfır ayarındadır . araç fazlalığından satılıktır . takas için aramayın . o yüzden saçma sapan teklifler ile olur . \"\n",
      "\n"
     ]
    },
    {
     "name": "stderr",
     "output_type": "stream",
     "text": [
      "\r",
      " 92%|█████████████████████████████████████████████████████████████████████████▌      | 276/300 [06:02<00:20,  1.18it/s]"
     ]
    },
    {
     "name": "stdout",
     "output_type": "stream",
     "text": [
      "\" araç ilk sahibinden olup , bütün bakımları yapılmıştır . aracın bütün bakımları yapılmıştır . muayenesi yeni yapılmıştır . tüm bakımları yapılmıştır . aracın motor ve şanzıman sorunsuzdur . aracın tüm bakımları yapılmıştır . motor , şanzıman ve yürüyen aksamı kusursuzdur . lastikleri iyi durumdadır . aracın içi dışı pırıl pırıldır . deforme yoktur . çalışmayan aksamı yoktur . iç döşemeler , sıfır gibi bir çok temiz olup en ufak bir masrafı yoktur . aracın muayenesı yenı yapılmıstır .\n",
      "\n"
     ]
    },
    {
     "name": "stderr",
     "output_type": "stream",
     "text": [
      "\r",
      " 92%|█████████████████████████████████████████████████████████████████████████▊      | 277/300 [06:03<00:19,  1.20it/s]"
     ]
    },
    {
     "name": "stdout",
     "output_type": "stream",
     "text": [
      "\" araç borusan çıkışlı olup , borusan bakımlı , ilk sahibinden , , 5 parça boya , değişen , kaza , boya , darbe , değişen yok , hasar kaydı , boya , değişen yok . \"\n",
      "\n"
     ]
    },
    {
     "name": "stderr",
     "output_type": "stream",
     "text": [
      "\r",
      " 93%|██████████████████████████████████████████████████████████████████████████▏     | 278/300 [06:04<00:15,  1.43it/s]"
     ]
    },
    {
     "name": "stdout",
     "output_type": "stream",
     "text": [
      "\" borusan çıkışlı , borusan bakımlı , ilk sahibinden , , , , , , , , , , , , , , , , , , , , , , , , , , , , , , , , , , , , , , , , , , , , , , , , , , , , , , , , , , , , , , , , , , , , , , , , , , , , , , , , , , , , , , , , , , , , , , , , , , , , , , , , , , , , , , , , , , , , , , , , , , , , , , , , , , , , , , , , , , , , , , , , , , , , , , , , , , , , , , , , , , , , , , , , , , , , , , , , , , , , , , , , , , , , , , , , , , , , , , , , , , , , , , , , , , , , , , , , , , , , , , , , , , , , , , , , , , , , , , , , , , , , , , , , , , , , , , , , , , , , , , , , , , , , , , , , , , , , , , , , , , , , , , , , , ,\n",
      "\n"
     ]
    },
    {
     "name": "stderr",
     "output_type": "stream",
     "text": [
      "\r",
      " 93%|██████████████████████████████████████████████████████████████████████████▍     | 279/300 [06:06<00:28,  1.36s/it]"
     ]
    },
    {
     "name": "stdout",
     "output_type": "stream",
     "text": [
      "\" araç model bilgisi ; bmw 5 . 20i executıve m sport plus aracımız borusan çıkışlı olup bakımları yeni yapılmıştır . araç özellikleri sunroof hayalet gösterge vakumlu kapılar elektrikli direksiyon ısıtma elektrikli bagaj kapağı geri görüş kamerası hafızalı koltuk ısıtmalı koltuklar ön arka park sensörü elektrikli ısıtmalı katlanır aynalar bi xenon far far yıkama far yıkama bluetooth telefon usb aux bluetooth telefon bağlantısı park mesafe kontrol sis farı alaşımlı jantlar vs vs vs vs vs vs vs vs vs vs vs vs vs vs vs vs vs vs vs vs vs vs vs vs vs yoktur\n",
      "\n"
     ]
    },
    {
     "name": "stderr",
     "output_type": "stream",
     "text": [
      "\r",
      " 93%|██████████████████████████████████████████████████████████████████████████▋     | 280/300 [06:08<00:25,  1.26s/it]"
     ]
    },
    {
     "name": "stdout",
     "output_type": "stream",
     "text": [
      "\" 2011 model bmw 5 . 25d xdrive premium borusan çıkışlı hayalet ekran vakumlu kapılar sunroof vakumlu kapılar elektrikli bagaj hayalet ekran vakumlu kapılar elektrikli bagaj hayalet ekran vakumlu kapılar elektrikli bagaj hayalet gösterge vakumlu kapılar elektrikli bagaj hayalet ekran vakumlu kapılar elektrikli bagaj kapağı elektrikli hafızalı koltuk ısıtmalı ön koltuklar geri görüş kamerası elektrikli arka perde elektrikli katlanır aynalar elektrikli arka perde elektrikli arka perde elektrikli katlanır ayna geri görüş kamerası bluetooth usb aux bluetooth telefon hazırlık sis farı alaşımlı jantlar elektrikli arka perde elektrikli katlanır ayna yağmur sensörü far sensörü far yıkama park sensörü fonksiyonel deri direksiyon bluetooth telefon bağlantısı aux ın usb girişi hız sabitleyici bluetooth telefon hazırlık sis farı alaşımlı jantlar ön sis farları ön arka park sensörü far sensörü yağmur sensörü ön arka park sensörü arka kol dayama arka makam perde hava yastıkları yol bilgisayarı ön ve arka kol dayama isofix cruıse control ( hız sabitleme ) ön arka park mesafe kontrol ( park sensörü ) geri görüş kamerası ön ve arka park sensörü far yıkama sis farı çelik jant sis farı çelik jant sis farı çelik jant sis farı çelik jant sis farı isofix ışık paket dış ışık paket ön arka park sensörü sis farı alaşımlı jantlar vs vs vs vs vs vs vs vs vs vs vs vs vs vs vs vs\n",
      "\n"
     ]
    },
    {
     "name": "stderr",
     "output_type": "stream",
     "text": [
      "\r",
      " 94%|██████████████████████████████████████████████████████████████████████████▉     | 281/300 [06:10<00:29,  1.55s/it]"
     ]
    },
    {
     "name": "stdout",
     "output_type": "stream",
     "text": [
      "\" aracımız ilk sahibinden olup , sadece sol arka çamurlukta boya vardır . hasar kaydı yoktur . resimlerde görüldüğü gibi içi ve dışı temiz durumdadır .\n",
      "\n"
     ]
    },
    {
     "name": "stderr",
     "output_type": "stream",
     "text": [
      "\r",
      " 94%|███████████████████████████████████████████████████████████████████████████▏    | 282/300 [06:10<00:21,  1.17s/it]"
     ]
    },
    {
     "name": "stdout",
     "output_type": "stream",
     "text": [
      "\" araç borusan çıkışlı olup , orjinal km dedir . aracın bakımları yeni yapılmıştır . aracın tüm bakımları yapılmıştır . 2 parça boya ve sol arka çamurluk değişmiştir . tramer kaydı yoktur . \"\n",
      "\n"
     ]
    },
    {
     "name": "stderr",
     "output_type": "stream",
     "text": [
      "\r",
      " 94%|███████████████████████████████████████████████████████████████████████████▍    | 283/300 [06:10<00:15,  1.07it/s]"
     ]
    },
    {
     "name": "stdout",
     "output_type": "stream",
     "text": [
      "\" araç borusan çıkışlı olup 2016 yılı 2017 eylül 2018 trafiğe çıkmıştır . kaza , boya , değişen , hasar kaydı yoktur . tüm bakımları yapıldı . borusan da yapılmıştır . araç borusan çıkışlıdır . yedek anahtarı ve kitapçıkları mevcuttur . aracın yedek anahtarı mevcuttur . aracın kasko değeri : 605 . 000 tl dir . ﻿ araç bilgileri ; aracımızın yedek anahtarı ve kitapçıkları mevcuttur . ​ araçta 1 parça boya vardır . tramer kaydı yoktur . \"\n",
      "\n"
     ]
    },
    {
     "name": "stderr",
     "output_type": "stream",
     "text": [
      "\r",
      " 95%|███████████████████████████████████████████████████████████████████████████▋    | 284/300 [06:11<00:14,  1.12it/s]"
     ]
    },
    {
     "name": "stdout",
     "output_type": "stream",
     "text": [
      "\" araç model bilgisi ; bmw 5 . 20i premium vakum kapılar hayalet ekran elektrikli hafızalı koltuk elektrikli direksiyon ön koltuk ısıtma geri görüş kamerası elektrikli hafızalı sürücü koltuğu elektrikli ısıtmalı ön koltuklar çift bölge dijital klima elektrikli arka perde yan protokol perdeleri elektrikli arka perde elektrikli arka perde elektrikli arka perde elektrikli katlanır yan aynalar elektrokrom iç ayna yağmur sensörü far sensörü park mesafe sensörü servotronic direksiyon start & stop anahtarsız çalıştırma ışık paket araç iniş , binişinde aydınlatma ön ve arka park sensörü far ve yağmur sensörü far ve sis farı far yıkama sistemi usb aux girişi abs , asr , esp radyo cd çalar yol bilgisayarı fonksiyonel direksiyon otomatik kararan dikiz aynası otomatik far sensörü yağmur sensörü lastik basınç sensörü fonksiyonel direksiyon elektrikli arka perde elektrikli arka perde abs asr esp cd aux mp3 çalar usb aux giriş abs esp asr dtc yol bilgisayarı yağmur sensörü far sensörü ön arka park sensörü ön arka kol dayama park sensörü elektrikli arka perde sis farı elektrikli camlar elektrikli aynalar elektrikli arka perde çift yönlü dijital klima yol bilgisayarı 4 cam otomatik elektrikli aynalar ön arka kol dayama isofix iç dış ışık paketi ön arka kol dayama otomatik kararan dikiz aynası fonksiyonel deri direksiyon ön arka kol dayama park sensörü yağmur sensörü far sensörü sis farı ısofıx vs vs vs vs vs vs vs vs vs vs vs vs vs vs vs vs vs vs vs vs vs vs vs yoktur\n",
      "\n"
     ]
    },
    {
     "name": "stderr",
     "output_type": "stream",
     "text": [
      "\r",
      " 95%|████████████████████████████████████████████████████████████████████████████    | 285/300 [06:14<00:20,  1.34s/it]"
     ]
    },
    {
     "name": "stdout",
     "output_type": "stream",
     "text": [
      "\" 2012 model bmw 5 . 25d xdrive premium borusan çıkışlı borusan bakımlı 4 bölge dijital klima sunroof bi xenon farlar ön arka park sensörü elektrikli katlanır ayna fonksiyonel deri direksiyon ön ve arka park sensörü geri görüş kamerası bluetooth telefon usb aux cd mp3 çalar usb aux giriş abs esp asr start stop eco start stop anahtarsız çalıştırma sis farı elektrikli arka perde elektrikli katlanır ayna yağmur sensörü far sensörü far yıkama far sensörü ön arka park sensörü yağmur sensörü ön arka park sensörü ön arka kol dayama sis farı çelik jant sis farı usb aux bluetooth telefon bağlantısı cd aux usb bluetooth telefon aux girişi abs asr esp ön arka park sensörü far yıkama sis farı far sensörü yağmur sensörü ön arka park sensörü alaşımlı çelik jant sis farı çelik jant sis farı isofix immobilizer çelik jant sis farı çelik jant sis farı alaşımlı jantlar vs . vs vs vs vs vs vs vs vs vs vs \"\n",
      "\n"
     ]
    },
    {
     "name": "stderr",
     "output_type": "stream",
     "text": [
      "\r",
      " 95%|████████████████████████████████████████████████████████████████████████████▎   | 286/300 [06:15<00:19,  1.42s/it]"
     ]
    },
    {
     "name": "stdout",
     "output_type": "stream",
     "text": [
      "\" 2014 model bmw 5 . 25d xdrive premium borusan çıkışlı sunroof hayalet ekran vakumlu kapılar elektrikli bagaj hayalet ekran vakumlu kapılar elektrikli bagaj hayalet ekran vakumlu kapılar elektrikli bagaj elektrikli direksiyon arka perde elektrikli arka perde elektrikli arka perde yan makam perdeleri arka elektrikli perde ön arka park sensörü elektrikli arka perde yan makam perdeleri arka elektrikli perde yan makam perdeleri elektrikli direksiyon arka makam perde elektrikli arka perde elektrikli arka perde yan makam perdeleri hız sabitleme cruıse control ( hız sabitleme ) ön arka park sensörü yağmur sensörü far sensörü hız sabitleyici elektrikli katlanır aynalar elektrikli arka perde elektrikli arka perde elektrikli yan perdeler cd çalar usb aux bluetooth telefon bağlantısı fonksiyonel deri direksiyon elektrikli arka perde hava yastıkları çift bölgeli dijital klima yol bilgisayarı ön arka park sensörü far sensörü yağmur sensörü arka park sensörü sis farı çelik jant sis farı çelik jant sis farı çelik jant sis farı çelik jant sis farı cd mp3 çalar usb aux giriş cd çalar yol bilgisayarı fonksiyonel direksiyon deri direksiyon hız sabitleyici elektrikli arka perde elektrikli arka perde yan makam perdeleri ön arka park sensörü elektrikli arka perde yan makam perdeleri elektrikli arka perde elektrikli arka perde elektrikli katlanır ayna far sensörü yağmur sensörü park sensörü bluetooth aux usb cd çalar teyp park sensörü fonksiyonel direksiyon bluetooth telefon bağlantısı aux usb girişi bluetooth telefon bağlantısı park mesafe kontrol ön arka jantlar kasko değeri ; 321 . 696 , 00 tl . \"\n",
      "\n"
     ]
    },
    {
     "name": "stderr",
     "output_type": "stream",
     "text": [
      "\r",
      " 96%|████████████████████████████████████████████████████████████████████████████▌   | 287/300 [06:18<00:22,  1.71s/it]"
     ]
    },
    {
     "name": "stdout",
     "output_type": "stream",
     "text": [
      "\" sahibinden satılık bmw 5 . 20i executıve m sport plus : 170 hp dış renk : beyaz iç renk : bej deri koltuk ısıtma geri görüş kamerası ön arka park sensörü hayalet ekran vakumlu kapılar elektrikli bagaj kapağı geri görüş kamerası anahtarsız çalıştırma s . o . s acil durum butonu hız sabitleyici elektrikli katlanır aynalar elektrikli arka perde elektrikli katlanır aynalar çift yönlü dijital klima çift yönlü dijital klima ön arka park mesafe sensörü yağmur sensörü far sensörü far yıkama anahtarsız çalıştırma start stop eco comfort sport sport plus sürüş modları yol bilgisayarı abs esp asr start stop bluetooth aux usb cd çalar yol bilgisayarı fonksiyonel deri direksiyon elektrikli arka perde hava yastıkları ön kol dayama ısofıx 17 inç çelik jantlar orjinal m sport jantlar m tamponlar m jantlar vs vs vs vs vs vs vs vs vs vs yoktur\n",
      "\n"
     ]
    },
    {
     "name": "stderr",
     "output_type": "stream",
     "text": [
      "\r",
      " 96%|████████████████████████████████████████████████████████████████████████████▊   | 288/300 [06:19<00:19,  1.63s/it]"
     ]
    },
    {
     "name": "stdout",
     "output_type": "stream",
     "text": [
      "\" araç temiz ve bakımlıdır . bütün ağır bakımları yapılmıştır .\n",
      "\n"
     ]
    },
    {
     "name": "stderr",
     "output_type": "stream",
     "text": [
      "\r",
      " 96%|█████████████████████████████████████████████████████████████████████████████   | 289/300 [06:19<00:13,  1.19s/it]"
     ]
    },
    {
     "name": "stdout",
     "output_type": "stream",
     "text": [
      "\" bmw 5 . 20i premium m sport plus : aracımız yetkili servis bakımlıdır . orjinal m sport plus modelidir . aracımız yetkili servis bakımlıdır . yedek anahtarı ve kitapçıkları mevcuttur . aracın tüm bakımları yapılmıştır . muayenesi yeni yapılmıştır .\n",
      "\n"
     ]
    },
    {
     "name": "stderr",
     "output_type": "stream",
     "text": [
      "\r",
      " 97%|█████████████████████████████████████████████████████████████████████████████▎  | 290/300 [06:20<00:09,  1.04it/s]"
     ]
    },
    {
     "name": "stdout",
     "output_type": "stream",
     "text": [
      "\" araç borusan çıkışlı olup , borusan bakımlı olup , servis bakımlıdır . bakımları yeni yapılmıştır . aracın 2 . sahibiyim . bakımları yeni yapılmıştır .\n",
      "\n"
     ]
    },
    {
     "name": "stderr",
     "output_type": "stream",
     "text": [
      "\r",
      " 97%|█████████████████████████████████████████████████████████████████████████████▌  | 291/300 [06:20<00:06,  1.33it/s]"
     ]
    },
    {
     "name": "stdout",
     "output_type": "stream",
     "text": [
      "\" araç borusan çıkışlı , borusan bakımlı olup , , ilk sahibinden , yedek anahtarı , servis bakımlı , tüm periyodik bakımları yapılmıştır . aracın tüm bakımları yapılmıştır . aracın tüm bakımları yapılmıştır . aracın yedek anahtarı mevcuttur . araç özellikleri ; sunroof koltuk ısıtma elektrikli direksiyon ön koltuklarda ısıtma elektrikli katlanır ayna ve yan aynalar elektrikli arka perde elektrikli arka perde ve yan makam perdeleri elektrikli direksiyon arka makam perde elektrikli perde yan makam perdeleri elektrikli arka perde katlanır ayna yağmur sensörü far sensörü ön arka park sensörü elektrikli katlanır yan aynalar elektrikli arka perde sis farı çelik jant sis farı isofix vs . vs . vs vs vs vs \"\n",
      "\n"
     ]
    },
    {
     "name": "stderr",
     "output_type": "stream",
     "text": [
      "\r",
      " 97%|█████████████████████████████████████████████████████████████████████████████▊  | 292/300 [06:21<00:06,  1.16it/s]"
     ]
    },
    {
     "name": "stdout",
     "output_type": "stream",
     "text": [
      "\" 2012 model bmw 5 . 25d xdrive m sport plus paket sunroof deri döşeme elektrikli direksiyon elektrikli katlanır ayna bi xenon farlar far yıkama far yağmur sensörü ön arka park sensörü ön arka kol dayama far sensörü yağmur sensörü park sensörü start & stop anahtarsız çalıştırma ışık paket cd çalar usb aux girişi abs asr esp radyo cd çalar teyp merkezi kilit immobilizer isofix yol bilgisayarı 4 cam otomatik aynalar angel mercekli far zenon far sis farı çelik jant sis farı far yıkama far sensörü yağmur sensörü ön arka park sensörü ön arka park sensörü ön arka kol dayama park sensörü elektrikli katlanır ayna vs . vs . vs vs vs vs vs vs vs vs vs vs vs vs vs\n",
      "\n"
     ]
    },
    {
     "name": "stderr",
     "output_type": "stream",
     "text": [
      "\r",
      " 98%|██████████████████████████████████████████████████████████████████████████████▏ | 293/300 [06:22<00:06,  1.00it/s]"
     ]
    },
    {
     "name": "stdout",
     "output_type": "stream",
     "text": [
      "\" araç borusan bayi çıkışlıdır . borusan çıkışlı olup , 2016 yılı trafiğe çıkışlıdır . tüm bakımları borusanda yapılmıştır . araç kapalı garajda muhafaza edilmiştir . aracın 2 . sahibiyim . araç borusan çıkışlıdır . aracın üzerinde kışlık lastikleri vardır . üzerinde kışlık lastikler vardır . yazlık ve kışlık lastikler vardır . aracın tüm bakımları yapılmıştır . aracın tüm bakımları yapılmıştır . aracın tüm bakımları yapılmıştır . masrafsız bir araçtır . alıcısına şimdiden hayırlı olsun .\n",
      "\n"
     ]
    },
    {
     "name": "stderr",
     "output_type": "stream",
     "text": [
      "\r",
      " 98%|██████████████████████████████████████████████████████████████████████████████▍ | 294/300 [06:23<00:05,  1.07it/s]"
     ]
    },
    {
     "name": "stdout",
     "output_type": "stream",
     "text": [
      "\" aracım 2015 model olup 2016 yılı göre km dedir . aracın tüm bakımları yapılmıştır . aracın bütün bakımları yapılmıştır . muayenesi kasım 2018 yılı 1 . ay önce yapılmıştır . motor yağı ve yağ filtresi , hava filtresi , benzin filtresi , fren balataları , disk balata ve diskler , balatalar , fren balataları , yeni yapılmıştır . aracın üzerinde orjinal jant ve lastik verilecektir . aracın tüm bakımları yapılmıştır . araç içi dışı pırıl pırıldır . evrakları tam ötv ödenmiştir .\n",
      "\n"
     ]
    },
    {
     "name": "stderr",
     "output_type": "stream",
     "text": [
      "\r",
      " 98%|██████████████████████████████████████████████████████████████████████████████▋ | 295/300 [06:24<00:04,  1.11it/s]"
     ]
    },
    {
     "name": "stdout",
     "output_type": "stream",
     "text": [
      "\" 2006 model bmw 7 . 40 i long emsalsiz temizlikte servis bakımlı tüm bakımları yetkili serviste yapılmıştır .\n",
      "\n"
     ]
    },
    {
     "name": "stderr",
     "output_type": "stream",
     "text": [
      "\r",
      " 99%|██████████████████████████████████████████████████████████████████████████████▉ | 296/300 [06:24<00:02,  1.42it/s]"
     ]
    },
    {
     "name": "stdout",
     "output_type": "stream",
     "text": [
      "araç hatasız boyasız tramersiz kazasız boyasız değişensiz hasar kayıtsız borusan bakımlı\n",
      "\n"
     ]
    },
    {
     "name": "stderr",
     "output_type": "stream",
     "text": [
      "\r",
      " 99%|███████████████████████████████████████████████████████████████████████████████▏| 297/300 [06:24<00:01,  1.89it/s]"
     ]
    },
    {
     "name": "stdout",
     "output_type": "stream",
     "text": [
      "araç borusan çıkışlı olup yeni yapılmıştır .\n",
      "\n",
      "\" sahibinden satılık bmw 5 . 20i premium bayi çıkışlı borusan bakımlı hatasız boyasız hasar kayıtsız borusan çıkışlı sunroof bej deri döşeme elektrikli hafızalı koltuk elektrikli arka perde elektrikli arka perde geri görüş kamerası bluetooth telefon bağlantısı geri görüş kamerası bluetooth telefon bağlantısı auto hold elektrikli park freni yokuş kalkış desteği elektrikli katlanır yan aynalar elektrokrom iç ayna yağmur sensörü far sensörü ön ve arka park mesafe sensörü yağmur sensörü far sensörü otomatik kararan dikiz aynası far yıkama çift bölgeli dijital klima start stop bluetooth telefon bağlantısı usb aux girişi bluetooth telefon bağlantısı fonksiyonel deri direksiyon arka kol dayama ısofıx 17 alaşım jantlar sis farı\n",
      "\n"
     ]
    },
    {
     "name": "stderr",
     "output_type": "stream",
     "text": [
      "\r",
      "100%|███████████████████████████████████████████████████████████████████████████████▋| 299/300 [06:25<00:00,  1.84it/s]"
     ]
    },
    {
     "name": "stdout",
     "output_type": "stream",
     "text": [
      "\" borusan çıkışlı , borusan bakımlı , hayalet gösterge , vakumlu kapılar , elektrikli bagaj , hayalet gösterge , vakumlu kapılar , elektrikli bagaj , hafızalı koltuk , elektrikli bagaj , hayalet ekran , vakumlu kapılar , elektrikli hafızalı direksiyon , elektrikli direksiyon , ısıtmalı hafızalı koltuk , koltuk ısıtma , elektrikli hafızalı koltuklar , elektrikli direksiyon , hafızalı sürücü koltuğu , elektrikli ön koltuklar , ısıtmalı ön koltuklar , hafızalı sürücü koltuğu , elektrikli , ısıtmalı , hafızalı , katlanır , ısıtmalı ön koltuklar , elektrikli katlanır ayna , elektrokrom iç ve dış aynalar , far yıkama , bluetooth , aux , usb , girişi , cd çalar , anahtarsız çalıştırma , start & stop , stop , anahtarsız çalıştırma sis farı , yağmur sensörü , far sensörü , kararan iç dikiz aynası abs , asr , esp , radyo cd çalar , yol bilgisayarı , fonksiyonel deri direksiyon , alarm , ımmobılızer , elektrikli , ısıtmalı aynalar , elektrikli ön ve arka camlar , uzaktan kumandalı merkezi kilit , ön kol dayama , arka kol dayama , isofix mevcuttur . hasar kaydı yoktur . \"\n",
      "\n"
     ]
    },
    {
     "name": "stderr",
     "output_type": "stream",
     "text": [
      "100%|████████████████████████████████████████████████████████████████████████████████| 300/300 [06:27<00:00,  1.06it/s]\n"
     ]
    }
   ],
   "source": [
    "textgen.generate(300, temperature=0.4)\n"
   ]
  },
  {
   "cell_type": "code",
   "execution_count": 18,
   "metadata": {
    "collapsed": true
   },
   "outputs": [
    {
     "name": "stderr",
     "output_type": "stream",
     "text": [
      "\r",
      "  0%|                                                                                            | 0/3 [00:00<?, ?it/s]"
     ]
    },
    {
     "name": "stdout",
     "output_type": "stream",
     "text": [
      "bmw 3 20 20d li̇\n",
      "\n",
      "2014 bmw \" hatasiz boyasiz en deri̇ hi̇z gülan\n",
      "\n"
     ]
    },
    {
     "name": "stderr",
     "output_type": "stream",
     "text": [
      "\r",
      " 67%|████████████████████████████████████████████████████████                            | 2/3 [00:00<00:00, 10.86it/s]"
     ]
    },
    {
     "name": "stdout",
     "output_type": "stream",
     "text": [
      "emsalsiz sanroof askeri altı hatasiz aci̇lll si̇tede boya led 143 hayalet paket\n",
      "\n"
     ]
    },
    {
     "name": "stderr",
     "output_type": "stream",
     "text": [
      "100%|████████████████████████████████████████████████████████████████████████████████████| 3/3 [00:00<00:00,  9.13it/s]\n"
     ]
    }
   ],
   "source": [
    "textgen.generate(3, temperature=1.0)"
   ]
  },
  {
   "cell_type": "code",
   "execution_count": null,
   "metadata": {},
   "outputs": [],
   "source": [
    "textgen.generate(3, temperature=1.0)"
   ]
  },
  {
   "cell_type": "code",
   "execution_count": null,
   "metadata": {},
   "outputs": [],
   "source": []
  }
 ],
 "metadata": {
  "kernelspec": {
   "display_name": "Python 3",
   "language": "python",
   "name": "python3"
  },
  "language_info": {
   "codemirror_mode": {
    "name": "ipython",
    "version": 3
   },
   "file_extension": ".py",
   "mimetype": "text/x-python",
   "name": "python",
   "nbconvert_exporter": "python",
   "pygments_lexer": "ipython3",
   "version": "3.7.1"
  }
 },
 "nbformat": 4,
 "nbformat_minor": 2
}
