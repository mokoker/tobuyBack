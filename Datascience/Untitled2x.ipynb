{
 "cells": [
  {
   "cell_type": "code",
   "execution_count": 71,
   "metadata": {},
   "outputs": [],
   "source": [
    "import urllib.request\n",
    "import time\n",
    "from pyquery import PyQuery as pq\n",
    "import csv\n",
    "import re\n",
    "from selenium import webdriver\n",
    "import selenium.webdriver.chrome.service as srv\n",
    "import time\n",
    "import numpy as np\n",
    "import pandas as pd\n",
    "from textgenrnn import textgenrnn\n"
   ]
  },
  {
   "cell_type": "code",
   "execution_count": 72,
   "metadata": {},
   "outputs": [],
   "source": [
    "def tr_lower(self):\n",
    "    self = re.sub(r\"İ\", \"i\", self)\n",
    "    self = re.sub(r\"I\", \"ı\", self)\n",
    "    self = re.sub(r\"Ç\", \"ç\", self)\n",
    "    self = re.sub(r\"Ş\", \"ş\", self)\n",
    "    self = re.sub(r\"Ü\", \"ü\", self)\n",
    "    self = re.sub(r\"Ğ\", \"ğ\", self)\n",
    "    self = self.lower() # for the rest use default lower\n",
    "    return self"
   ]
  },
  {
   "cell_type": "code",
   "execution_count": 73,
   "metadata": {},
   "outputs": [],
   "source": [
    "def dowload(page,url,myset):\n",
    "    offset = page * 50;\n",
    "    urlx = f\"{url}?pagingOffset={offset}&pagingSize=50\"\n",
    "    req = urllib.request.Request(\n",
    "        url= urlx,\n",
    "        data=None, \n",
    "        headers={\n",
    "            'User-Agent': 'Mozilla/5.0 (Linux; Android 6.0.1; Nexus 5X Build/MMB29P) AppleWebKit/537.36 (KHTML, like Gecko) Chrome/41.0.2272.96 Mobile Safari/537.36 (compatible; Googlebot/2.1; +http://www.google.com/bot.html)'\n",
    "        }\n",
    "    )\n",
    "    print(urlx)\n",
    "    contents = urllib.request.urlopen(req).read()\n",
    "    if get(contents,myset):\n",
    "        return\n",
    "    page +=1\n",
    "    dowload(page,url,myset)"
   ]
  },
  {
   "cell_type": "code",
   "execution_count": 74,
   "metadata": {},
   "outputs": [],
   "source": [
    "def get(cont,myset):\n",
    "    d = pq(cont)\n",
    "    lic = d('.searchResultsRowClass')\n",
    "    e = lic('a')\n",
    "    numbefore = len(myset)\n",
    "    for x in e:\n",
    "        myset.add(x.attrib['href'])\n",
    "    numafter = len(myset)\n",
    "    print(len(myset))\n",
    "    return numbefore == numafter"
   ]
  },
  {
   "cell_type": "code",
   "execution_count": 83,
   "metadata": {},
   "outputs": [],
   "source": [
    "def getData(name,myset):\n",
    "    service = srv.Service('./chromedriver.exe')\n",
    "    service.start()\n",
    "    capabilities = {'chrome.binary': '/path/to/custom/chrome'}\n",
    "    driver = webdriver.Remote(service.service_url, capabilities)\n",
    "    result = []\n",
    "    counter = 0\n",
    "    for url in myset:\n",
    "        counter +=1\n",
    "        if counter >5000:\n",
    "            break\n",
    "        try:\n",
    "            driver.get('https://www.sahibinden.com'+url);\n",
    "            desc=driver.find_element_by_id('classifiedDescription').get_attribute('innerText')\n",
    "            desc = desc.replace('-',' ')\n",
    "            desc = desc.replace('*',' ')\n",
    "            desc = desc.replace('\"','')\n",
    "            desc = desc.replace(\"'\",' ')\n",
    "            desc = desc.replace('+',' ')\n",
    "            desc = desc.replace('/',' ')\n",
    "            desc = desc.replace('*',' ')\n",
    "            desc = desc.replace('..',' ')\n",
    "            desc = desc.replace('...',' ')\n",
    "            desc = desc.replace('_',' ')\n",
    "            desc = re.sub('\\s+', ' ', desc).strip()\n",
    "            desc =  tr_lower(desc)\n",
    "\n",
    "            title=driver.find_element_by_css_selector('.classifiedDetailTitle h1').get_attribute('innerText')\n",
    "            title = title.replace('\\n','')\n",
    "            title = title.replace('\\t','')\n",
    "            title = title.replace('-',' ')\n",
    "            title = title.replace('+',' ')\n",
    "            title = title.replace('/',' ')\n",
    "            title = title.replace('\"','')\n",
    "            title = title.replace('*',' ')\n",
    "            title = title.replace('..',' ')\n",
    "            title = title.replace('...',' ')\n",
    "            title = title.strip('\"')\n",
    "            title = re.sub('\\s+', ' ', title).strip()\n",
    "            title= tr_lower(title)\n",
    "            result.append({ \"desc\": desc, \"title\": title})\n",
    "            print(title)\n",
    "        except:\n",
    "            print('hata olustu' + url)\n",
    "        time.sleep(1)\n",
    "    driver.quit()\n",
    "    with open(name+'Titles.csv', 'a',newline=\"\\n\", encoding='utf-8') as csvfile:\n",
    "        fieldnames = ['title']\n",
    "        writer = csv.DictWriter(csvfile, fieldnames=fieldnames)\n",
    "        for l in result:\n",
    "            writer.writerow({'title': l[\"title\"]})\n",
    "    with open(name+'Desc.csv', 'a',newline=\"\\n\", encoding='utf-8') as csvfile:\n",
    "        fieldnames = ['desc']\n",
    "        writer = csv.DictWriter(csvfile, fieldnames=fieldnames)\n",
    "        for l in result:\n",
    "            writer.writerow({'desc': l[\"desc\"]})"
   ]
  },
  {
   "cell_type": "code",
   "execution_count": null,
   "metadata": {},
   "outputs": [
    {
     "name": "stdout",
     "output_type": "stream",
     "text": [
      "found 1 on Acura\n",
      "found 841 on Alfa Romeo\n",
      "found 11 on Anadol\n",
      "found 59 on Aston Martin\n",
      "found 10243 on Audi\n",
      "found 85 on Bentley\n",
      "found 18551 on BMW\n",
      "found 1 on Brilliance\n",
      "found 1 on Bugatti\n",
      "found 10 on Buick\n",
      "found 51 on Cadillac\n",
      "found 74 on Chery\n",
      "found 3263 on Chevrolet\n",
      "found 323 on Chrysler\n",
      "found 6884 on Citroën\n",
      "found 3763 on Dacia\n",
      "found 121 on Daewoo\n",
      "found 130 on Daihatsu\n",
      "found 29 on Dodge\n",
      "found 206 on DS Automobiles\n",
      "found 121 on Ferrari\n",
      "found 22553 on Fiat\n",
      "found 1 on Fisker\n",
      "found 23240 on Ford\n",
      "found 126 on Geely\n",
      "found 9615 on Honda\n",
      "found 16456 on Hyundai\n",
      "found 9 on Ikco\n",
      "found 41 on Infiniti\n",
      "found 391 on Jaguar\n",
      "found 2823 on Kia\n",
      "found 1 on Koenigsegg\n",
      "found 1 on Kral\n",
      "found 900 on Lada\n",
      "found 46 on Lamborghini\n",
      "found 99 on Lancia\n",
      "found 7 on Lexus\n",
      "found 20 on Lincoln\n",
      "found 6 on Lotus\n",
      "found 1 on Marcos\n",
      "found 150 on Maserati\n",
      "found 1328 on Mazda\n",
      "found 2 on McLaren\n",
      "found 16921 on Mercedes - Benz\n",
      "found 2 on Mercury\n",
      "found 9 on MG\n",
      "found 859 on Mini\n",
      "found 656 on Mitsubishi\n",
      "found 2 on Moskwitsch\n",
      "found 2134 on Nissan\n",
      "found 2 on Oldsmobile\n",
      "found 26198 on Opel\n",
      "found 12514 on Peugeot\n",
      "found 15 on Pontiac\n",
      "found 723 on Porsche\n",
      "found 131 on Proton\n",
      "found 46247 on Renault\n",
      "found 15 on Rolls-Royce\n",
      "found 216 on Rover\n",
      "found 61 on Saab\n",
      "found 5925 on Seat\n",
      "found 6331 on Skoda\n",
      "found 102 on Smart\n",
      "found 287 on Subaru\n",
      "found 632 on Suzuki\n",
      "found 243 on Tata\n",
      "found 28 on Tesla\n",
      "found 10072 on Tofaş\n",
      "found 14134 on Toyota\n",
      "found 39585 on Volkswagen\n",
      "found 2671 on Volvo\n",
      "getting https://www.sahibinden.com/alfa-romeo-4c\n",
      "https://www.sahibinden.com/alfa-romeo-4c?pagingOffset=0&pagingSize=50\n",
      "3\n",
      "https://www.sahibinden.com/alfa-romeo-4c?pagingOffset=50&pagingSize=50\n",
      "3\n",
      "getting https://www.sahibinden.com/alfa-romeo-33\n",
      "https://www.sahibinden.com/alfa-romeo-33?pagingOffset=0&pagingSize=50\n",
      "5\n",
      "https://www.sahibinden.com/alfa-romeo-33?pagingOffset=50&pagingSize=50\n",
      "5\n",
      "getting https://www.sahibinden.com/alfa-romeo-75\n",
      "https://www.sahibinden.com/alfa-romeo-75?pagingOffset=0&pagingSize=50\n",
      "8\n",
      "https://www.sahibinden.com/alfa-romeo-75?pagingOffset=50&pagingSize=50\n",
      "8\n",
      "getting https://www.sahibinden.com/alfa-romeo-145\n",
      "https://www.sahibinden.com/alfa-romeo-145?pagingOffset=0&pagingSize=50\n",
      "22\n",
      "https://www.sahibinden.com/alfa-romeo-145?pagingOffset=50&pagingSize=50\n",
      "22\n",
      "getting https://www.sahibinden.com/alfa-romeo-146\n",
      "https://www.sahibinden.com/alfa-romeo-146?pagingOffset=0&pagingSize=50\n",
      "52\n",
      "https://www.sahibinden.com/alfa-romeo-146?pagingOffset=50&pagingSize=50\n",
      "52\n",
      "getting https://www.sahibinden.com/alfa-romeo-147\n",
      "https://www.sahibinden.com/alfa-romeo-147?pagingOffset=0&pagingSize=50\n",
      "102\n",
      "https://www.sahibinden.com/alfa-romeo-147?pagingOffset=50&pagingSize=50\n",
      "142\n",
      "https://www.sahibinden.com/alfa-romeo-147?pagingOffset=100&pagingSize=50\n",
      "142\n",
      "getting https://www.sahibinden.com/alfa-romeo-155\n",
      "https://www.sahibinden.com/alfa-romeo-155?pagingOffset=0&pagingSize=50\n",
      "146\n",
      "https://www.sahibinden.com/alfa-romeo-155?pagingOffset=50&pagingSize=50\n",
      "146\n",
      "getting https://www.sahibinden.com/alfa-romeo-156\n",
      "https://www.sahibinden.com/alfa-romeo-156?pagingOffset=0&pagingSize=50\n",
      "196\n",
      "https://www.sahibinden.com/alfa-romeo-156?pagingOffset=50&pagingSize=50\n",
      "246\n",
      "https://www.sahibinden.com/alfa-romeo-156?pagingOffset=100&pagingSize=50\n",
      "296\n",
      "https://www.sahibinden.com/alfa-romeo-156?pagingOffset=150&pagingSize=50\n",
      "337\n",
      "https://www.sahibinden.com/alfa-romeo-156?pagingOffset=200&pagingSize=50\n",
      "337\n",
      "getting https://www.sahibinden.com/alfa-romeo-159\n",
      "https://www.sahibinden.com/alfa-romeo-159?pagingOffset=0&pagingSize=50\n",
      "387\n",
      "https://www.sahibinden.com/alfa-romeo-159?pagingOffset=50&pagingSize=50\n",
      "417\n",
      "https://www.sahibinden.com/alfa-romeo-159?pagingOffset=100&pagingSize=50\n",
      "417\n",
      "getting https://www.sahibinden.com/alfa-romeo-164\n",
      "https://www.sahibinden.com/alfa-romeo-164?pagingOffset=0&pagingSize=50\n",
      "421\n",
      "https://www.sahibinden.com/alfa-romeo-164?pagingOffset=50&pagingSize=50\n",
      "421\n",
      "getting https://www.sahibinden.com/alfa-romeo-166\n",
      "https://www.sahibinden.com/alfa-romeo-166?pagingOffset=0&pagingSize=50\n",
      "433\n",
      "https://www.sahibinden.com/alfa-romeo-166?pagingOffset=50&pagingSize=50\n",
      "433\n",
      "getting https://www.sahibinden.com/alfa-romeo-brera\n",
      "https://www.sahibinden.com/alfa-romeo-brera?pagingOffset=0&pagingSize=50\n",
      "436\n",
      "https://www.sahibinden.com/alfa-romeo-brera?pagingOffset=50&pagingSize=50\n",
      "436\n",
      "getting https://www.sahibinden.com/alfa-romeo-giulietta\n",
      "https://www.sahibinden.com/alfa-romeo-giulietta?pagingOffset=0&pagingSize=50\n",
      "486\n",
      "https://www.sahibinden.com/alfa-romeo-giulietta?pagingOffset=50&pagingSize=50\n",
      "536\n",
      "https://www.sahibinden.com/alfa-romeo-giulietta?pagingOffset=100&pagingSize=50\n",
      "586\n",
      "https://www.sahibinden.com/alfa-romeo-giulietta?pagingOffset=150&pagingSize=50\n",
      "636\n",
      "https://www.sahibinden.com/alfa-romeo-giulietta?pagingOffset=200&pagingSize=50\n",
      "686\n",
      "https://www.sahibinden.com/alfa-romeo-giulietta?pagingOffset=250&pagingSize=50\n",
      "736\n",
      "https://www.sahibinden.com/alfa-romeo-giulietta?pagingOffset=300&pagingSize=50\n",
      "786\n",
      "https://www.sahibinden.com/alfa-romeo-giulietta?pagingOffset=350&pagingSize=50\n",
      "795\n",
      "https://www.sahibinden.com/alfa-romeo-giulietta?pagingOffset=400&pagingSize=50\n",
      "795\n",
      "getting https://www.sahibinden.com/alfa-romeo-gt\n",
      "https://www.sahibinden.com/alfa-romeo-gt?pagingOffset=0&pagingSize=50\n",
      "809\n",
      "https://www.sahibinden.com/alfa-romeo-gt?pagingOffset=50&pagingSize=50\n",
      "809\n",
      "getting https://www.sahibinden.com/alfa-romeo-gtv\n",
      "https://www.sahibinden.com/alfa-romeo-gtv?pagingOffset=0&pagingSize=50\n",
      "811\n",
      "https://www.sahibinden.com/alfa-romeo-gtv?pagingOffset=50&pagingSize=50\n",
      "811\n",
      "getting https://www.sahibinden.com/alfa-romeo-mito\n",
      "https://www.sahibinden.com/alfa-romeo-mito?pagingOffset=0&pagingSize=50\n",
      "836\n",
      "https://www.sahibinden.com/alfa-romeo-mito?pagingOffset=50&pagingSize=50\n",
      "836\n",
      "getting https://www.sahibinden.com/alfa-romeo-spider\n",
      "https://www.sahibinden.com/alfa-romeo-spider?pagingOffset=0&pagingSize=50\n",
      "840\n",
      "https://www.sahibinden.com/alfa-romeo-spider?pagingOffset=50&pagingSize=50\n",
      "840\n",
      "kazasız, değişensiz dizel otomatik 159 alfa romeo\n",
      "2011 giulietta 1.4 tb multiair progression plus takas olur\n",
      "2. sahibinden temiz ekstralı ıtalyan boğası\n",
      "fiyat düştü masraflari bakimi yapilmis arac\n",
      "2. sahibinden orijinal diesel giulietta 2012\n",
      "hatasız .masrafsız .giuletta 1.6 jtd\n",
      "temiz orjinal 170 hp alfa romeo gıulıetta\n",
      ".alfa bayrak .2004 .2.0 ts selespeed .coupe .full\n",
      "çok acil temiz bakımlı klimalı 146\n",
      "2014 sıfır kayıt f1 vites fırsat aracınız (masrafsız)\n",
      "güneş auto dan 2000 model alfa romeo 146 twinspark 1.4 lpg li\n",
      "24 ay vade takas imkanı 159 dizel alfa romeo distincive plus\n",
      "spor paket giulietta 170hp\n",
      "sahibinden temiz acil hastasına alfa\n",
      "alfa romeo 156\n",
      "alfa 147 temiz hasarsız değişensiz ekstralı\n",
      "sahibinden gıulıetta temiz masrafsız bakımlı\n",
      "sahibinden temiz kullanılmış 170hp giulietta\n",
      "star kafkastan 2015 hatasız giulietta dızel tamamına kredi\n",
      "kırmızı alfa\n",
      "2014 alfa romeo gıulıetta 1.6 jtd progressıon plus.84000 km de\n",
      "sedef beyaz,sunrooflu,emsalsiz alfa romeo 156 !!\n",
      "alfa center'dan 2015 giulietta 1.6 jtd,orjinal,çok temiz,bakımlı\n",
      "c m y auto alfa romeo giulietta 2012 model 100bin km !\n",
      "tertemiz masrafsız cam tavanlı full\n",
      "değişensiz kazasız sunroof derı full full\n",
      "2011 orjınal değişensiz boyasız\n",
      "yeni gibi sorunsuz\n",
      "alfa159 2009 makyajlı kasa\n",
      "mesut otomotiv'den alfa romeo 159 jtd 1,9 distinctive q tronic\n",
      "2017 alfa romeo giulietta 1.6 jtd progression sunroof boyasız\n",
      "sahibinden cam tavan ve qv koltuklu giulietta\n",
      "alfa romeo giulietta 54 bin kmde️\n",
      "günerhan otomotivden alfa romeo progression 1.6 otomatik\n",
      "sahibinden satılık giulietta\n",
      "sitede tek orjinal en düşük km li 'ss' otomatik\n",
      "alfa modena'dan 2010 159 distinc. plus emsalsiz sadece 60.000 km\n",
      "wınox'dan emsalsiz temizlikte alfa romeo 147 q2\n",
      "2.0 mk2 manuel 8c kırmızı satışta\n",
      "alfa romeo 2008 159\n",
      "ihtiyaçtan acil sıkıntısız seri ve diri ok gibi yer uçagı\n",
      "not:: araba su an ayvalıkta temiz ve bakımlı alfa 147 ts\n",
      "acill alfa romeo sahibinden\n",
      "satılık 2013 temiz guilietta km: 75k\n",
      "sahibinden acil satılık 146\n",
      "boyasız değişensiz kazasız alfa\n",
      "besse otodan temiz bakımlı\n",
      "2012 model 1.3 multijet (62,000)km\n",
      "yücel autodan yarısı peşin yarısı vadeli temiz 1.6 motor\n",
      "tertemiz kazasız 140 beygir 390 nm tork açıklamayı oku\n",
      ".alfa bayrak .1991 .alfa romeo spider .2.0\n",
      "kredi kartına 20.000 tl 12 ay sıfır faiz giulietta 1.6 m.jet otm\n",
      "alfa romeo mito temizliği emsalsiz\n"
     ]
    },
    {
     "name": "stdout",
     "output_type": "stream",
     "text": [
      "2014 giulietta (hata, boya, değişen, tramer vs. yok)\n",
      "temiz romeo\n",
      "alfa romeo 156 2.0 i\n",
      "2008 model temiz alfa romeo\n",
      "acil memurdan temiz full 156 ihtiyaçtan satılık\n",
      "acilllll satılık\n",
      "acil!!! alfa romeo gıulıetta super tct 1.6 jtd otomatik\n",
      "alfa romeo 156 1999\n",
      "ılk sahibinden degisensiz hasarsiz boyasiz giulietta 1.6 dizel\n",
      "temiz giulietta 1.6 jtd dizel cam tavan sanruf full full\n",
      "sahibinden fiyat düştü full ful170hp kazasız değişensiz boyasız\n",
      "pnr auto 2008 alfa romeo gt 1.9 dizel boyasız emsalsiz 20.150km\n",
      "mühendisten 120 hp 147\n",
      "166 v6 turbo acil\n",
      "alfa romeo 156 binilip görülecek araç sahibinden\n",
      "italyan aygırı\n",
      "deri koltuk, sunroof\n",
      "sahibinden fırsat aracı\n",
      "ayaklarınız yerden kesilecek değışensiz hasar kayıtzz.\n",
      "doktordan ilk sahibinden temiz kullanılmış gulietta\n",
      "kazasız tertemiz alfa romeo mito 1.6 dizel 120hp\n",
      "bursaya hayırlı olsun\n",
      "ilk sahibinden 1.4 170hp, tct, cam tavan, spor paket, f1\n",
      "çok temiz bakımları yeni yapılmış 159 1.9 jtd dıstınctıve\n",
      "24000 km.de temiz, boseli spor koltuklu orjinal jantlı\n",
      "çok temiz ve servis bakimlı araçtir\n",
      "sahibinden satılık hatasız otomatik cam tavanlı 2017 giuiletta\n",
      "garac 79 dan 2016 giulietta 1.6 jtd super tct tam dolu masrafsız\n",
      "alfa romeo 156 yer uçağı .\n",
      "hasar kayitsiz temiz\n",
      "kara şimşek hatasız boyasız 72 binde\n",
      "hata olustu/ilan/vasita-otomobil-alfa-romeo-alfa-romeo-giulietta-1.4-tb-multiair-distinctive-584231742/detay\n",
      "yeni motor 2020 muayene\n",
      "eurokardan 2013 alfa romeo giulietta 1,4 tb otomatik\n",
      "alfa romeo 147 rosso 2021 muayeneli\n",
      "sahibinden alfa romeo gt tüm bakımları yapılmış sorunsuz\n",
      "alfa romeo rosso kırmızı\n",
      "2013 model giulietta 1.6 multijet 6 ileri full 140.000 km beyaz\n",
      "bulur otomotiv den alfa romeo 156\n",
      "sahibinden .cam tavan,orijinal 2014 model\n",
      "alfa romeo giulietta 2013. 1.6 dizel. 83000 km\n",
      "sahibinden orjinal\n",
      "2011 gulietta tb multiair ditinctive cam tavanlı ful ful ses stm\n",
      "titizlikle kullanılmış masrafsız alfa romeo\n",
      "veloce'den 2011 model orjinal 98.000 km'de 1.4ma 170hp gıuletta\n",
      "alfa modena'dan 1997 gtv v6 turbo mükemmel durumda\n",
      "tertemiz boyasiz hasarsiz cam tavanli guiletta\n",
      "kelepir 159 orijinal\n",
      "öğretmenden kazasız, değişensiz, servis bakımlı giulietta\n",
      "niğdeliler 2017 alfa romeo giulietta 1.6 jtd progression 4580\n",
      "emsalsiz temizlikte yer uçağı ilk günkü gibi tertemiz\n",
      "alfin fırsat aracı mito 1.6 jtdm 120hp etna siyah 133 bin kmde\n",
      "servis bakımlı giulietta start stop yokuş kalkış\n",
      "sorunsuz temiz bakimli\n",
      "alfa romeo giulietta\n",
      "tertemiz alfa romeo\n",
      "2016 model hatasız giulietta full bakımlı deri spor cam tvn\n",
      "temiz kelepir\n",
      "öğretmenden 143000 km de orijinal alfa\n",
      "emin otomotiv'den 2008 alfa romeo 159 1.9 jtd distinctive\n",
      "acil satılık bu hafta son gelen alır\n",
      "34 clv 88 giu qv .\n",
      "hata boya değişen tramer yok\n",
      "sahibinden satılık alfa\n",
      "2016 trafiğe çıkışlı hatasiz tramersiz 50.000km de sunrooflu\n",
      "akota yetkili alfa romeo bayi garantili\n",
      "emin auto dan\n",
      "satılık tramersiz temiz giulietta\n",
      "acıl muhteşem alfa\n",
      "kırmızı giulietta 1.4 tb 170 hp gücü altında hisset\n",
      "giulietta 1.6 jtdm 2 start&stop super tct\n",
      "temiz alda romeo\n",
      "az km temiz ve sorunsuz\n",
      "istasyon'dan alfa romeo giulietta 1.4tb 170 hp kırmızı döşeme\n",
      "1997 alafa romeo lpg'li full\n",
      "alfa romeo 147\n",
      "takaslı alfa 159 dizel\n",
      "acıl satılık\n",
      "değişensiz,bakımlı , quadrifoglio verde body setli\n",
      "119 bin kmde temiz 147\n",
      "2. sahibinden temiz alfa romeo giulietta\n",
      "ng auto 'dan uygun fiyata alfa romeo 156\n",
      "değişensiz 2015 giulietta 1.6 dizel dıstınctıve fırsat aracı\n",
      "car's ekran blue&me led 2015 alfa romeo giulietta\n",
      "alfa romeo 147 mk2\n",
      "alfa romeo giulietta mat gri alacantara deri koltuk\n",
      ".alfa bayrak .2012 .cam tavan .otomatik .\n",
      "2004 temiz alfaromeo\n",
      "2011 alfa romeo giulietta 1.6 jtd 105hp, cam tavan, full\n",
      "tertemiz alfa romeo\n",
      "değerinde arsa gebze veya çayırova değerinde daire ile takas\n",
      "2005 1.6 ts. full bakımlı. masrafsız.\n",
      "masrafsız sahibinden\n",
      "masrafsız giulietta\n",
      "220 beygir temiz giulietta\n",
      "sahibinden bayandan tertemiz sorunsuz keyifli alfa romeo\n",
      "alfa yetkili servisi personelinden acklamayı oku\n",
      "sahibinden satılık alfa remeo 156 1.6 ts 22.500 tl\n",
      "sahibinden alfa 156\n",
      "kapora alındı 1.4ma 170 hp tct spor paket cam tavan hatasız\n",
      "acill full bakımlı 2004 siyah içi kırmızı deri sanruflu\n",
      "alfa romeo full donanımlı araç\n",
      "şola motors\n",
      "hasar kayıtsız, hatasız, boyasız giulietta\n",
      "156 1.6 ts bakımları yeni yapıldı\n",
      "berberoğlu''''ndan hatasız .boyasız .giuletta .1.6 jtd\n",
      "birmot antalya'dan 2016 dizel otomatik alfa romeo giulietta %1\n",
      "2012 fırsat aracı\n",
      "sahibinden satılık alfa romeo\n",
      "alfa romeo 155 q4\n",
      "temiz bakımlı sade şık aksesuarlı aile aracı ses sistemli\n",
      "galericilere alsatcılara inat biniciye özel italyan\n",
      "2004 model sahibinden sıfır muayeneli\n",
      "sahibinden sadece 36.615 km sunrooflu alfa romeo giuletta\n",
      "2014 model alfa romeo g. 1.6 jtd progression plus orjinal\n",
      "keyfe keder e1 paket deri koltuk otomatik\n",
      "2018 alfa romeo giulietta 1.6jtd otomatik\n",
      "memurdan tertemiz alfa 147\n",
      "temiz alfa romeo\n",
      "mazzını bayi çıkışlı led farlar katlanır ayna 40.000km.de\n",
      "32000 km. de az kullanılmış araba\n",
      "içi dışı pırıl pırıl\n",
      "tr'de tek fiyat düştü ( kaza,boya ve hasar kaydı yok )\n",
      "hatasız boyasız cam tavan sunruf full\n",
      "cuma bicer\n",
      "sahibinden 2014 dizel giulietta acil!!!!\n",
      "1996 md alfa romeo.\n",
      "hatasız değişensiz tramersiz alfa romeo guılıetta 1.6 jtd\n",
      "arkasoto 2.el gaziemir 2014 alfa romeo 4c 1.8 tbi tct otm.\n",
      "birmot zincirlikuyu'dan 2017 dizel otomatik super tct %1 kdvli\n",
      "alfa romeo gıulıetta hatasız orjınal ilk elden ekstralı\n",
      "öğretmenden temiz aile arabası\n",
      "ersan otomotivden 2014 alfa romeo gulietta\n",
      "kaçırılmaz bir araç\n",
      "oskar otomotiv'den 2001 model alfa 145 1.6 sportivo yeni vizeli\n",
      "satılık kırmızı alfa romeo 2004\n",
      "beyaz melek satilik .\n",
      "cem kaya otomotiv'den otomatik alfa romeo\n",
      "aydemirden 2017 gıulietta 1.6jtd super tct camtavan orjinal otm.\n",
      "2003 alfa 156 otomatik f1 şanz\n",
      "sahibinden temiz bakımlı 156\n",
      "orjinal guiletta\n",
      "modelinin en temizlerinden\n",
      "milano'dan tr'de tek brera 80.000 km,otomatik,sky window kırmızı\n",
      "ny motors boya değişen tramer yoktur\n",
      "mükemmel bakımlı gt!\n",
      "günay otomotivden alfa 156 otomatik hatasız\n",
      "cam tavan sahibinden alfa\n",
      "bakımlı ihtiyaçtan(lütfen açıklamayı okuyunuz)\n",
      "cam tavanli 2013 dizel distinctive giulietta\n",
      "sahibinden satılıktır. aciliyeti bulunmamaktadır.\n",
      "forza alfa romeo dan giu 1.4 tb 170 distinctive otomatık fırsat\n",
      "temiz alfa romeo 166.\n",
      "sahibinden orijinal 66.000 km\n",
      "2016 hatasız kazasız giulietta 1.6 özel seri navigasyon ekran\n",
      "2007 model alfa romeo 147 1.6 ts benzin lpg varyatör sorunsuz\n",
      "sahibinden temiz bakımlı 159\n",
      "sahibinden tertemiz hatasız tr de tek\n",
      "temiz kullanılmış ikinci sahibinden giulietta\n",
      "sahibinden bakımlı yakışıklı full alfa romeo 147\n",
      "2015 dizel giulietta değişensiz bakımlı.\n",
      "bu fırsat kaçmaz! sahibinden temiz alfa romeo 2004 model 156\n",
      "ilkbağ' dan 2016 alfa romeo giulietta super tct hatasız boyasız\n",
      "temiz 2012 dizel alfa romeo giulietta\n",
      "damping!!! acil orjinalll\n",
      "hastasına emsalsiz masrafsız\n",
      "türkiyede tek\n",
      "nadir temizlikte 2.0 ss\n",
      "alfistiden farklı olmak isteyenlere\n",
      "keyfe keder satışta\n",
      "met auto farkıyla giulietta 1.6jtd hatasız boyasız\n",
      "temiz doktor aracı\n",
      "159 1.9 jtd 16v distinctive plus (tramersiz orijinal)\n",
      "gıulıetta 1.6jtd cam tavan hatasız d.n.a sürüş modu 105hp\n",
      "bakımlı ,masrafsız,sanroof ,bose en dolusu\n",
      "sahibinden sorunsuz alfa 147 benzin&lpg\n",
      "alfa meraklısına siyah inci.\n",
      "alfa romeo 159 bakımlı\n",
      "alfa center'dan 2013 giulietta 1.6 jtd distinctive,çok temz,full\n",
      "alfa romeo gıulıetta 1.6 jtd progressıon plus 5k\n",
      "sahibinden.tertemiz. araç kütahya da . ilanı okuyun lütfen .\n",
      "acil satılık\n",
      "forza alfa romeo dan giu 1.6 jtd spor paket boyasız fırsat aracı\n",
      "fatih'den 2013 mito cam tavanlı otomatik sadece 53.000 km'de\n",
      "mates'ten 2014 74.061 km de gıulıetta 1.6 jtd progressıon plus\n",
      "2013 alfa romeo 1.4 giulietta otomatik cam tavanlı en fulu\n",
      "acil ihtiyaçtan satılık\n",
      "alfa romeo146 2.0 ti tertemiz servis bakımlı\n",
      "alfa romeo 1.6 twinspark motor 2001 model(benzin_lpg)\n",
      "hatasız boyasız 2014 alfaromeo giulietta 1.4otomatik wowwo imkan\n",
      "temiz hasarsız değişensiz km düşük 156 arayan bakmadan geçmesin\n",
      "alfa romeo 147 1.6ts acil satılık\n",
      "ilk sahibinden distinctive giulietta\n",
      "en full modeli brembo taba deri bose bi xeneon\n",
      "2001 model alfa romeo 156 1.6 ts 16 v 181.500 km de!\n",
      "çok temiz ve sorunsuz 152 binde\n",
      "alfa romeo 2006 model 156 bakımları tam\n",
      "italyan aygiri acil iht. satılık\n",
      "2013 alfa romeo 1.4 tb multiair distinctive\n",
      "türkiyedeki emsallerinin en temizi servis bakımlı\n",
      "sahibinden satılık\n"
     ]
    },
    {
     "name": "stdout",
     "output_type": "stream",
     "text": [
      "alfa gıulıetta 2016 süper tct 1.6 jtd dizel otomatik !\n",
      "vefa citroen ana bayi 2002 alfa romeo 156 1.6\n",
      "2017 alfa romeo giulietta 1.6jtd progression sunroof boyasız\n",
      "2004 model lpg li sunrooflu temiz 156\n",
      "eğitim için (üzülerek) satılık 159 distinctive plus\n",
      "2021 yılına kadar muayeneli temiz alfa 146 ts\n",
      "alfa romeo 159 1,9 jts\n",
      "kara yılan ayrılık vakti .117 fav teşekkürler son 3 gün !\n",
      "full sıfır ayarında acill fiyat düştü\n",
      "sahibinden temiz giulietta 2014\n",
      "sahibinden temiz alfa\n",
      "oto stop'tan 'türkiye'de tek' alfa romeo 159 sw jtdm\n",
      "türkiye'de tek acil satılık\n",
      "2004 model alfa romeo 156 1.6 ts distinctive hatasız\n",
      "hata boya yok\n",
      "2013 model ilk gelen alır. fiyat düştü.\n",
      "2014 model 67.000kmde alfaromeo mito\n",
      "sahibinden temiz 29 binden düştü\n",
      "italyan yakışıklısı\n",
      "sahibinden satılık alfa romeo\n",
      "alfa romeo 166 ts 155 hp e segment servis bakımlı değişen yok\n",
      "alfa romeo\n",
      "böylesi yok!dizel otomatik değisensiz masrafsız extralı\n",
      "temiz alfa 156 1.6 2000 model\n",
      "bilgiçten full emsalsiz masrafsiz\n",
      "2006 model mk2 temiz sorunsuz bir alfa\n",
      "alfa center'dan 2014 giulietta 1.6 jtd prog.pls,çoktemiz,bakımlı\n",
      "alfa romeo giulietta 2014 cam tavan. boyasız, değişensiz, full\n",
      "garage 2011 alfa romeo 1.6 jtd dıstınctıve spor1 paket\n",
      "2002 kusursuz temizlikte lpg li 166\n",
      "37 km'de 2014 alfa romeo giulietta 1.6 jtd progression plus full\n",
      "alfa romeo distinctive 156 2.0 lpg li pazarlıksız\n",
      "cook temız 159\n",
      "acil satılık 2013 model 85.000 kmde alfa romeo giulietta 1.4 tb\n",
      "2003 alfaromeo 1.6 t benzin lpg li 230 bn km\n",
      "alfa romeo 159 jtdm 1.9qtronic full\n",
      "kırmızı melek (yeni progressıon pack cam tavan)\n",
      "temiz alfa romeo 147\n",
      "siz yola bakın diğerleri size baksın\n",
      "sahibinden 2015 model 86.000 km'de dıstınctıve\n",
      "en temiz 145 lerden biri\n",
      "murat otodan 2010 alfa 159 dizel otomatik yeni kasa\n",
      "orjinal hasar kayıtsız gıulietta\n",
      "son gunler .giulietta 1.4 otomatik çok temiz\n",
      "alfa modena'dan 2011 159 1.8tbi ti paket boyasız ''eşsiz''\n",
      "sitenin en temizi\n",
      "alfa 159 171.000km hata boya yok\n",
      "en güzeli rosso kırmızı 2013 acil\n",
      "sahibinden hatasız acil 180 bg ses sistemi\n",
      "ilk sahibinden hatasız boyasız spor 2 paket kapalı otopark aracı\n",
      "sahibinde satılık alfa romeo\n",
      "36.400 km takas olur 2014 giulietta 1.6 jtd progression plus\n",
      "sahibinden degısensız cam tavan dıstınctıve paket\n",
      "acil ihtiyaçdan düşük fiyatlı\n",
      "sahibinden giulietta, 18000 km, dizel & otomatik, sensör paket\n",
      "safran&erdem otodan 2008 alfa romeo 147 1.6 ts sunroflu lpg li\n",
      "ilk sahibinden alfa romeo giullietta\n",
      "sahibinden acilll satılık giulietta\n",
      "italyan aygırı! konfor ve keyif isteyenlere ''masrafsız''\n",
      "can otomotiv .2016 giulietta 1.6 jtdm 2 start&stop super tct\n",
      "alfa romeo 156 2.0 ts lpgli işlenik sanrooflu\n",
      "1996 model alfa romeo\n",
      "ilginiz için teşekkürler! öğretmenden, boyasız,hasar kayıtsız\n",
      "(acill) sıfır gibi orj. boyasız 1.6 120 hp dizel otm giulietta\n",
      "akota alfa romeo yetkili bayi garantili\n",
      "156 binde otomatik sunrooflu alfa romeo 147\n",
      "opec car dan 1997 alfa gtv 2.0 v6 kondisyonu mükemmel özel plaka\n",
      "öğretmenden temiz, değişensiz, 2007 alfa romeo 147\n",
      "hatasız boyasız değişensiz hasar kayıtsız kapalı garaj arabası\n",
      "alfa romeo 147\n",
      "sahibindenin en iyisi dosta gider pazarlıksız\n",
      "fırat'tan makyajlı kasa 2014 alfa romeo giulietta hatasızzzz\n",
      "yerde uçmak isteyene\n",
      "alfa romeo 156\n",
      "ender sunrooflu sadece 3 hafta ilanda kalacak\n",
      "sahibinden satılık kazasız alfa romeo guiletta\n",
      "acil ihtiyaçtan satılık fiyat düştü son fiyat pazarlık yok\n",
      "110 binde, binicisine 147\n",
      "sahibinden hasarsız aralık 2020'ye kadar garantili\n",
      "alfa 156, temiz, bakımlı, kaportada ufak kozmetik rütuş gerek\n",
      "2014 model alfa romeo g. 1.6 jtd takas olur\n",
      "sahibinden, 2016 model, temiz kullanılmış, bol ekstralı araç.\n",
      "2018 alfa romeo giulietta 1.6jtd otomatik\n",
      "sahibinden hatasız 2014 gıulıetta\n",
      "2014 giulietta 1.6 jtd distinctive hatasız boyasız cam tavan\n",
      "taşer'den lpg takılmamış 17.oootl peşin 1.75otl 12ay vade olur.\n",
      "sahibinden alfa 156\n",
      "italyan aygırı satışta\n",
      "sahibinden hatasız alfa romeo giulietta\n",
      "italyan aygiri\n",
      "mengerler ataşehir 2018 giulietta super tct 1.6 stil pk\n",
      "tr daha uygunu varsa bu bedava patron çildırmış\n",
      "sahibinden otomatik ısıtmalı hafızalı deri koltuk\n",
      "alfa 164 v6 turbo\n",
      "2013 alfa romeo giulietta 1.4.tb pogression plus 57.000 binde\n",
      "memurdan dizel 2011 giulietta\n",
      "bakımlı, kazasız,tramersiz 63 binde full mito\n",
      "alfa romeo 156 selespeed\n",
      "50.000 tl'ye 36 ay % 1.57 faiz oranı\n",
      "alfa romeo mito 1.6 jtd 120 hp\n",
      "bakimlari tam alicisini uzmeyecek alana hayirli olsun\n",
      "kazasız değişkensiz hasar kayıtsız alfa 156\n",
      "alfa romeo 156 2.0 executive 2001 gırtlak dolu motor masraflı\n",
      "alfaromeo 156 1.6 twinspark bakımlı masrafsız\n",
      "sahibinden yetkili servis bakımlı alfa romeo 1.6 jtd otomatik\n",
      "alfa romeo gıulıetta 1.75tbı 235hp quadrıfoglıo verde 66.000km\n",
      "alfa romeo 156\n",
      "hatasız değişensiz hasar kayıtsız otomatik 159 full full\n",
      "1998 model alfa romeo 156 benzinli\n",
      "alfin türkiyede nadir 128 bin km gt 1.9 jtd q2 bose bixenon navi\n",
      "cem otomotivden 2011 alfa romeo giulietta 1.6 jtd distinctive\n",
      "güzel otomobil alıcısına şimdiden hayırlı olsun\n",
      "emre otomotiv den 156 alfa\n",
      "alfa romeo 147 1.6 ts kırmızı\n",
      "alfa romeo 159 dıstınctıve 1.9 jtd otomatik 211.711 km 2008model\n",
      "alfa romeo 156 2.0 16v twinspark\n",
      "giulietta multiair 170 hp f1 otomatik vites cam tavan prins tüp\n",
      "alfa 159 2.4 dizel 200 hp\n",
      "sorunsuz tertemiz emsalsiz\n",
      "alfa romeo 147 1.6 16valf uste para alacagim takaslara acik\n",
      "2012 gıulıetta 1.4tb 170bg otomatik boyasız orjinal 109.000km'de\n",
      "temiz bakımlı\n",
      "alfa romeo 159 jtd otomatik, orijinal, kazasız, çok temiz.\n",
      "2016 çıkışlı daha dolusu yok . hasarsız, boyasız plaka açık\n",
      "alfa romeo 147\n",
      "2014 model emsalsiz orjinal 37.400km'de özel renk full gıulıetta\n",
      "son iki araç satılacak teklif olan arasın\n",
      "sahibinden temiz beyaz mito\n",
      "sahibinden çok temiz ve bakımlı giulietta distinctive 2013 model\n",
      "ihtiyaçtan satılıktır\n",
      "acil satılık\n",
      ".alfa bayrak .1990 .1.8 turbo .america emsalsiz .\n",
      "sahibinden satılık 2016 otomatik gıulıetta\n",
      "sahibinden tertemiz 164\n",
      "ılk sahıbınden orj km. fatura yedek anahtar alfacılar dıkkat\n",
      "giulietta 1.6 jtd progression plus özel lansman rosso renk\n",
      "siyah#156#full\n",
      "dusuk kmli,full spor paket cam tavan\n",
      "ar me den 1999 alfa romeo 156 2.0 lpg lı\n",
      "alfa romeo 156 2.0(senetle taksitlendirme seçeneğimiz mevcuttur)\n",
      "sahibinden bakımlı ve temiz 156\n",
      "1.4 multiar 170 beygir benzinli otomatik\n",
      "meraklisina ihtiyactan\n",
      "boyasız bakımlı 1.4 tct\n",
      "tekince motors 2017 gıuletta super dizel otomatk boyasz 11binkm\n",
      "bordo ile güzelin buluşması\n",
      "giulietta 1.75 tbı qv 235hp cam tavan\n",
      "sahibinden eşsiz 159.\n",
      "sahibinden acil satılık dosta gider alfa romeo 156\n",
      "bu fiyata alınabilecek açık ara en iyi araba.\n",
      "rita motors 2014 giulietta 1.6 jtd distinctive 95.000km\n",
      "cuero sportivo 6 ay servis garantili.\n",
      "demir otomativ den cok temiz alfa\n",
      "lpg ruhsata işli\n",
      "alfa 156 progression bordo temiz araç\n",
      "black snake .\n",
      "2005 alfaromeo 156 1.6 ts\n",
      "karat motors 2001 alfaromeo 156 1.6 ts lpg manuel\n",
      "rosso spider 2.0 ts\n",
      "fırından yeni çıktı zümrüt\n",
      "2013 model alfa romeo 1,4 turbo 120 hp 6 ileri progression plus\n",
      "değişensiz 2001 alfa romeo 156 1.6 t.spark 16v sorunsuz .\n",
      "2011 1.6 jtd guiletta manuel\n",
      "sıfır ayarında\n",
      "hatasız arayanlara orjınal\n",
      "ayrılık vakti .\n",
      "paddock detaılıng bakımlı makyajlı kasa 2014 mito 1.3 multijet\n",
      "sahibinden full donanım aracı\n",
      "sahibinden full full\n",
      "sahibinden boyasız değişensiz cam tavan blue me 2013 son fiyat\n",
      "sahibinden alfa romeo 145\n",
      "53 favoriye selam olsun neyi bekliyorsunuz fiyat belli\n",
      "2014 alfa romeo giulietta 1.6 jtd yetkili servs bakımlı emsalsiz\n",
      "acil satılık masrafsız tüm bakımları tam gt\n",
      "120 faforiye özel son fiyat\n",
      "aracım 2004 model temiz aile arabası hastasına alfa romeo\n",
      "memurdan alfa giulietta\n",
      "sahibinden alfa romeo giulietta 2012 1.4 ma tct\n",
      "alfistiden 48bin km alfa 147\n",
      "156 alfa romeo\n",
      "sahibinden temiz değişensiz giulietta\n",
      "çetin otomotiv den temiz araç\n",
      "2000 alfa romeo otomatik vites deri döşeme lpg'li\n",
      "hatasız,boyasız,tertemiz,memurdan\n",
      "2011 giulietta 1.6 jtd 135 bin km'de cam tavanlı\n",
      "son günlerrr!!acill satılık masrafsız.son fiyat!\n",
      "temiz ihtiyacdan satılıktır .\n",
      "devlet memurundan alfa romeo 147 1.6 ts distinctive 2009 model\n",
      "1.9 jtd dizel otomatik ısıtmalı hafızalı deri koltuklu\n",
      "sadece fiorino nemo takaslı\n",
      "marfi otomotivden\n",
      "alfa romeo gt otomatik vites kirmizi deri doseme f1 vites bose\n",
      "sahibinden 170hp cam tavan sunroof otmtk f1 vites alfa kırmızısı\n",
      "tam bir aile otomobili\n",
      "alfa romeo 166 1999\n",
      "giuiletta 1.6 jtd çok temiz kazasız, hasarsız\n"
     ]
    },
    {
     "name": "stdout",
     "output_type": "stream",
     "text": [
      "alfa romeo 156 2.0ts yakışıklı twinspark\n",
      "hatasız kazasız giulietta 1.6 distinctive\n",
      "2008 benzin lpg li 195 bin km de siyah\n",
      "alfa center'dan 2009 159 1.9 jtd dist.plus q tronic,deri,full\n",
      "sahibinden alfa romeo 156\n",
      "sahibinden alfa\n",
      "2012 giulietta cam tavan distinctive spor 1 paket\n",
      "sahibinden guiletta\n",
      "alfa romeo takas olur panelvan araçlarla\n",
      "bakımlı yılan\n",
      "sahibinden temiz alfa 147\n",
      "müthiş temizlikte. . . lütfen açıklamaları okuyunuz\n",
      "alfa modena'dan 2003 147 selespeed sunroof deri döşeme bose\n",
      "hatasız mermi distivince\n",
      "garantîlî araç full servis bakımlı\n",
      "acill satılık tertemiz alfa romeo 1.6 jtd\n",
      "2002 alfa romeo 156 2.0 ts\n",
      "tramersiz, değişensiz, cam tavanlı, sigara içilmemiş giulietta\n",
      "alfa romeo giulietta 1.6 super tct\n",
      "biniciye gidecek alfa romeo\n",
      "sahibinden 156\n",
      "ihtiyaçtan satılık\n",
      "alfa modena'dan 2001 selespeed sportwagon emsalsiz temizlikte\n",
      "2002 model alfa romeo 156 1.6 ts lpg li\n",
      "go car 2001 alfa romeo 156 twin spark 217.000 km\n",
      "2012 1.6jtd dizel distinctive spor paket cam tavan, 146.000 km\n",
      "karbon paket\n",
      "aracımız antalyaya opsiyonlanmıştır\n",
      "rıght 2.elden alfa romeo 159 dizel otomatik emsalsiz temizlikte\n",
      "mazzını cam tavan bose ses sistemi 18 türbin jant 235 hp\n",
      "alfin mk1 156 2.0 ts sunroof deri koltuk bakımlı fırsat aracı\n",
      "2017 alfa romeo giulietta 1.6 jtd otomatik hatasız boyasız\n",
      "akota yetkili alfa romeo bayi garantili\n",
      "hasarsız giulietta\n",
      "temiz, boyasız, dizel alfa romeo mito\n",
      "3. sahibinden orijinal temiz\n",
      "acil satılık\n",
      "alfa 2011 95 binde hasarsız istanbul\n",
      "hatasız,destinctive pakettir, acilll .\n",
      "full sunroof deri otomatik kredi kartına taksit imkanı\n",
      "2004 temiz alfa romeo 156\n",
      "1996 alfa romeo 146\n",
      "satılık 2014 alfa\n",
      "fiyat düştü favoricilere duyurulur hasar kayıtsız!! alfa romeo\n",
      "sahibinden temiz alfa romeo 156\n",
      "nokta hatasız kazasız orjinal araç\n",
      "değişensiz temiz alfa romeo 147 fiyat yakın zamanda artacak .\n",
      "raycar 'dan alfa romeo 156 1.6 ts 195.000km orjinal\n",
      ".alfa bayrak .2016 .dizel .otomatik .cam tavan .full\n",
      "sahibinden tertemiz alfa romeo 156\n",
      "2014 giulietta 1,6 jtd manuel hatasız\n",
      "mengerlerden orijinal , sunrooflu gıulietta\n",
      "sahibinden temiz alfa romeo giulietta 1.4 tb 120 bg\n",
      "alfa romeo gıulıetta 1.6 jtd 120hp super lüks pk 1,50 faiz oranı\n",
      "anlatmaya gerek yok tıklayın göreceksinz:) maşallah'ı unutmayın!\n",
      "çamlıbel otomotiv den 2012 alfaromeo gıulıetta açılır cam tavan\n",
      "ar 166 orj 124bın km 2.0 ts\n",
      "huzur otodan 2013 alfa romeo giulietta otomatik hatasız lpgli\n",
      "alfa romeo 147\n",
      "98 model alfa romeo 146\n",
      "sahibinden alfa romeo 147 distinistive sunroof 201.000 kmde\n",
      "2002.alfa romeo 2.0 ts spark distinctive lpg.yeni göğüs.\n",
      "temiz aile aracı\n",
      "full aksesuarlı & özel renk & emsalsiz\n",
      "sahibinden masrafsız 156\n",
      "alfa romeo giulietta progression 1.6 jtd tct (dizel otomatik)\n",
      "temiz romeo\n",
      "demkar otomotiv'den 1999 model alfa romeo 145 1.4 twinspark\n",
      "2011 model alfa romeo giulietta distinctive\n",
      "sahibinden temiz guilietta\n",
      "1.9 jtdm sportwagon 95 binkm değişensiz 2003 model\n",
      "alfa romeo 156 lpgli full\n",
      "alfa romeo 146 1.4 ts bakımlı temiz 175 bin km\n",
      "hatasız öğretmenden 79.000 km de\n",
      "hata,boya,degisen, hasar kaydi yoktur.\n",
      "sahibinden alfa 4c spider gerçekten türkiyede tek\n",
      "bayandandan hatasız\n",
      "alfa romeo 104 bin km de\n",
      "mükemmel kondisyonda !!! alfa romeo 166 2.0ts lpg işli vize yeni\n",
      "değişensiz düşük yakıtlı fiyat performans aracı\n",
      "1.5 boxör motor\n",
      "alfa tutkunlarına\n",
      "hatasız 1.6 jtd giulietta\n",
      "1997 alfa 147 benzin lpg li klimalı\n",
      "satılık aile aracı alfa romeo\n",
      "kara seytan\n",
      "sahibinden yer uçağı\n",
      "araç temiz spor lüks paket araba garaj arabasidir 2016 cikisli\n",
      "sahibinden alfa romeo 147 2006 sunroof full paket\n",
      "2009 black line\n",
      "efsane alfetta 75 2,0 ts\n",
      "temiz cazibeli renk ıtalyano alfa romeo 147 acil\n",
      "sahibinden tertemiz alfa romeo full paket 170 hp giulietta\n",
      "veloce'den türkiye'de tek! hatasız brera 2.2 jts sky wındow\n",
      "2015 nokta hatasız boyasız hasar kayıtsız servis bakımlı alfa\n",
      "hatasız boyasız 2. sahibinden dizel 2011 giulietta\n",
      "alfin boyasız mk2 giu 1.4 170 hp tct camtavan sunroof 18'' jant\n",
      "alfa romeo gt\n",
      "sahibinden masrafsız alfa\n",
      "2009 otomatik dizel 159 alfa\n",
      "asi ve kırmızı .kazasız, boyasız, değişensiz.\n",
      "sahibinden\n",
      "sahibinden temiz masrafsız 170 hp cam tavan sunroof'lu giulietta\n",
      "sahibinden 2015 otomatik 59000 de sorunsuz gıulıetta\n",
      "acil satılık\n",
      "satılık giulietta\n",
      "bose deri döşeme servis bakımlı\n",
      "sahibinden spor paket 86. km full full sunroof 2011\n",
      "sahibinden boyasız deri koltuklu otomatik gıulıetta 1.4 170 hp\n",
      "alfa center'dan 2014 giulietta 1.6 jtd prog.plus,çoktemz,69000km\n",
      "makyajlı kasa 120 beygir yeni bakımlı yeni vizeli alfa romeo\n",
      "sahibinden 159 jts\n",
      "sahibinden alfa romeo giulietta 170 hp cam tavan\n",
      "hatasız 159\n",
      "kara şimşek satışta acil ıhtıyactan dolayi!\n",
      "kazasız belasız deri koltuklu f1 vitesli italyan aygırım satışta\n",
      "156 f1 yer uçağı takaslı\n",
      "hatasız 2016 giulietta otomatik cam tavan stil paketli 1.6 dizel\n",
      "sadece 60.000 km, sorunsuz, değişensiz giuiletta\n",
      "2018 sıfır ayarında alfa 1.6 turbo dizel otomatik super tct\n",
      "son fiat pazarlıksız acilsatilik açıklayı okumadan aramayın\n",
      "kale otomotivden 2012 alfa romeo giulietta 1.4 tb multiair progr\n",
      "2005 model 147 1.6 120 bg\n",
      "2011 giulietta 1.6 dizel 75.000km sunroof deri spor 1 paket\n",
      "sahibinden temiz masrafsız cam tavanlı tct\n",
      "sahibinden temiz\n",
      "1998 tertemiz bakımlı masrafsız alfa romeo 1.6 ts lpgli full\n",
      "en ucuzu aciliyetinden\n",
      "la meccanica delle emozioni alfa\n",
      "a l f a r o m e o 1 4 7 ne ararsan var\n",
      "2012 model giulietta 1.6 jtd distinctive kırmızı deri koltuk\n",
      "temiz bakimli 159\n",
      "hatasız 44.000 km\n",
      "kullanan bilir\n",
      "2007 alfa 159 full otomatik aciliyeti yok ölücüler uzak dursun\n",
      "sıyah ıncı sınıfının en dolusu acıklamayı okuyun\n",
      "akbulutlar otomotivden satılık alfa romeo\n",
      "sahibinden satılık giulietta.\n",
      "2011 1.6jtd dizel distinctive spor paket cam tavan, 136.000 km\n",
      "hatasız boyasız giulietta (memurdan)\n",
      "yaren otomotivden alfa romeo\n",
      "huzur otomotiv alfa romeo 159 full paket sunrooflu\n",
      "memurdan boyasız cam tavan 18 jant\n",
      "2012 giulietta 1.4 tb otomatik tct 170 hp\n",
      "mostar,dan alfa romeo 156 1.6 ts manuel vites lpg,li sanruf,lu\n",
      "göz alıcı tasarım alfa romeo brera 2.2 185 hp bose sky wındow\n",
      "2014 temiz giulietta 95 binde\n",
      "sahibinden\n",
      "yeni muayeneli alfa 156 1.6 twinspark\n",
      "alfistiden bakımlı\n",
      "ilk sahibinden temiz, sorunsuz alfa romeo giulietta\n",
      "subaydan değişensiz 1 yarım 2 lokal boyalı tertemiz 147\n",
      "2004 alfa romeo 147 2,0 ts selespeed distinctive lpg li\n",
      "avukattan temiz159jtdm sportwagon otomatik\n",
      "ögretmenden satılık 156 2,0 ts selespeed\n",
      "düşük km mito 1.6 dizel 320nm\n",
      "çiftkurtlar plaza'dan 2018 alfa giulietta 1.6jtd super tct\n",
      "sahibinden hatasız boyasız servis bakımlı\n",
      "yaşına göre eşi benzeri yok. bakımlı\n",
      "değişensiz alfa 147 geleni üzmem acil fiyat düştü\n",
      "satılik alfa\n",
      "alfa romeo\n",
      "3 ay sonra 35'den aşşağı lpg'li alfa distinctive bulamazsın!!!\n",
      "fiyat düştü çok aciliyeti var tofaş fiyatına alfa\n",
      "alfa romeo gulietta spor 2 paket (hatasız)\n",
      "servis bakımlı 170 bg cam tavan\n",
      "2015 çıkışlı 2014 mod alfa romeo giulietta 1.6 dizel otm.hatasız\n",
      "giulietta distinctive 1.6 dizel yetkili servis bakımlı beyaz\n",
      "kredi kartına 20.000 tl 12 ay sıfır faiz giulietta 1.6 m.jet\n",
      "milano'dan 2011 model beyaz içi kırmızı deri koltuklu,eşsiz 159.\n",
      "sahibinden satılık alfa romeo gıulıeetta otomatik cam tavanlı\n",
      "alfistiden ok gibi alfa\n",
      "2009 beyaz q tronic plus kırmızı deri\n",
      "1996 alfaromeo 155 2,0 ts süper losso lpg li emsalsiz\n",
      "sahibinden 156 2.o exe hasar kayıtsız\n",
      "yalvac otomotivden 1996 romeo 155 tertemizz klimalı full !!\n",
      "mengerler ataşehir 2018 giulietta cam tavan lüx spor pk 3500 km\n",
      "çavuşoğlu 2015 alfa romeo giulietta 1.6 jtd progression plus\n",
      "volcar altunizade' den alfa romeo gıulıetta 1.6jtd dıstınctıve\n",
      "alfa modena'dan 2008 159 1.9jtdm distinctive deri döşeme 8c jant\n",
      "takasli alfa servis bakimli 157 binde\n",
      "2001 alfa romeo 156 2.0 ts selespeed, masrafsız , bakımlı\n",
      "sahibinden tertemiz en dolusu\n",
      "2012 guiletta 138 binde satılık\n",
      "2014 boyasız değişensiz giulietta\n",
      "öğretmenden takaslı 2009 model, sunrooflu 159\n",
      "acilll hatasiz tramersiz tertemiz\n",
      "2012 alfa romeo gıulieatta dizel manuel masrafsız\n",
      "alfa romeo 147 1.6 twınspark dıstınctıve hatasız bakımlı\n",
      "selespeed 147\n",
      "2000 model alfa 156 lpg li\n",
      "balaman otomotiv 2004 model alfa romeo 156 1.6 ts distnctive\n",
      "ilk sahbinden hatasız boyasız servis bakımlı\n",
      "doldur gazı bas gaza git\n",
      "sahibinden satılık temiz 2011 1.4 tb giuletta\n",
      "ankara 2.el den 2001 alfa romeo 1.6ts manuel vites\n",
      "iş car 25.000 peşin 24 ay vade navi g.görüş sanroof aşırı temiz\n"
     ]
    },
    {
     "name": "stdout",
     "output_type": "stream",
     "text": [
      "üstün performans yakit cimrisi temiz\n",
      "yakışıklı romeo ilanda !!!\n",
      "yeni yılın muhteşem arabası alfa romeo julıetta\n",
      "çetinkaya'dan 2014 giulieatta 1.6 dizel boyasız tramersiz 93 km\n",
      "diş hekiminden orjinal koleksiyonluk\n",
      "askere gideceğim için satıyorum\n",
      "arel 2012 alfa giulietta 1.4tb multiair cam tavan otomatik\n",
      "2016 otomatik giulietta 44.000 km\n",
      "ismet otomotivden 2004 alfa romeo 156 1.6 ts progression lpg'li\n",
      "1996 alfa 145 1.6 boxer motor göz alıcı güzellikte kaçmaz !!!\n",
      "son fiyatıdır. en dolusudur. 1.6 multijet dizel motor.\n",
      "beyaz inci 2012\n",
      "pazarlık var takas olur\n",
      "sahibinden satılık\n",
      "' bks motors ' 2012 giulietta otomatik 170 bg cam tavan\n",
      "doktor bayan'dan giulietta\n",
      "kazasız değişensiz giulietta\n",
      "sıfır multiair tct\n",
      "italyan aygırı alfa romeo\n",
      "orjinal 122.000 km.'de çok temiz italyan aygırı\n",
      "ihtiyaçtan dolayı satılık temiz kullanılmış\n",
      "km. yanıltmasın sıfır motor full bakımlı\n",
      "giulietta 2017 model 22 bin super tct dizel otm.\n",
      "yetkili bayi'den alfa romeo mito 1.3 multıjet dizel manuel\n",
      "acil satılık bakımlı\n",
      "alfisti'den 2009 alfa romeo 147 collezione sadece 87.000 km\n",
      "alfa romeo giulietta dizel 2016 45.000 km\n",
      "tr de tek! hatasız emsalsiz!\n",
      "sahibinden temiz yetkili servis bakımlı\n",
      "takasli italyan aygiri\n",
      "tertemiz orijinal156 satılık\n",
      "alfa 159 deri döşeme full\n",
      "asker sahibinden sunrooflu jamara siyahı\n",
      "ilk sahibinden,boyasız,servis kayıtlı,tct,cam tavan,kırmızı deri\n",
      "milano'dan 73.000 km giulietta 1.6 jtd distinctive .\n",
      "herşeyiyle orjinal boyasız arayanlara\n",
      "ilk sahibinden kazasız 2015 alfa\n",
      "hastasına alfa romeo 147\n",
      "temiz masrafsız alfa 159 dizel otomatik\n",
      "sahibinden hatasız boyasız guılıetta\n",
      "alfa romeo kırmızı tutkudur\n",
      "hatasız 1.6 jtd alfa romeo giulietta\n",
      "kaporası alınmıştır\n",
      "2012 alfa romeo gıulıetta kırmızı çok çok temiz fiyat düştü !!\n",
      "yıldız otomotiv nazıllıden alfa romeo full 2.0 16v ts twinspark\n",
      "2016 giulietta süper tct 1.6 jtd lüks spor pk. %1,75 faiz oranı\n",
      "fırsat düşük km ilk sahıbınden cam tavan\n",
      "sahibinden temiz\n",
      "sahibinden bakımlı temiz değişensiz\n",
      "alfa modena'dan 2006 159 1.9jtdm distinctive plus\n",
      "çiftkurtlar plaza'dan 2017 giulietta 1.6jtd progression hatasız\n",
      "sport2 paket emsalsiz alfa\n",
      "çiftkurtlar plaza'dan 2018 alfa romeo giulietta 1.6jtd hatasız\n",
      "satılık sahıbınden\n",
      "hatasız alfa romeo giulietta\n",
      "sahıbınden 2009 distinctive plus yetkılı servıs bakımlı\n",
      "2014 model 45.000 km giulietta 1.6 jtd ilk sahibinden temiz\n",
      "sahibinden extralı 1.6 dizel bakımlı\n",
      "otokoç konya'dan 2013 dizel manuel alfa romeo %1 kdvli\n",
      "sümer otomotiv' den satılık temiz bakımlı alfa romeo 156 1.6 t.s\n",
      "hatasız kupon alfa 156 2,0\n",
      "2001 model alfa 2.0 ts otomatik vites\n",
      "çekme belgeli uygun rakama alfa romeo 156 2.0 ts\n",
      "akota alfa romeo yetkili bayi garantili\n",
      ".alfa bayrak .2015 .1.6 jtd .full full .manuel\n",
      "sahibinden temiz giulietta\n",
      "acil satilik\n",
      "39.000km,2014 model, sahibinden 1.6 dizel manuel siyah giulietta\n",
      "değişensiz hasarsız 2005 156\n",
      "sahibinden acil satılık alfa romeo 156 benzin lpg li tramersiz.\n",
      "alfa romeo 159 1.9 jtd 16v distinctive q tronic pırıl pırıl araç\n",
      "alfa romeo 147\n",
      "rayhan otomotivden alfa 156\n",
      "2011 alfa romeo mito 135 hp otomatik vites lpg'li\n",
      "alfa 147 120 hp en fulü\n",
      "acil 2015 dizel alfa romeo giulietta 1.6 jtd\n",
      "hasarsız italyan aygırı gulietta( full spor paket)\n",
      "alfa romeo 156\n",
      "doruk otomotivden sorunsuz bir araç\n",
      "sahibinden motor ve yürüyeni güzel\n",
      "sahibinden hatasız boyasız kırmızı giuletta spor pk.\n",
      "sahibinden sıfır ayarında süper tct otomatik 170 bg\n",
      "masraflı yürür vaziyette\n",
      "vrl motors'dan 2004 alfa 147 sunroof deri ful\n",
      "alfa romeo giulietta 2015 trf. çıkıslı bose cam tavan f 1 vites\n",
      "159 qtronik distinctive plus\n",
      "temiz hatasız arayana\n",
      "alfa romeo\n",
      "melih autodan 2011 alfa romeo boyasız hatasız\n",
      "satılık alfa romeo giulietta 2011\n",
      "öğretmenden temiz masrafsız araç\n",
      "sahibinden alfa romeo mito qv hatasız boyasız\n",
      "bursacar 2011 alfa romeo gıulıetta 1.6jtd progressıon plus\n",
      "pazarlık payı vardır .\n",
      "değişen siz alfa romeo ihtiyaçtan satılık\n",
      "sahibinden ağır bakımları yapılmış alfa romeo 156\n",
      "sahibinden tertemiz 166\n",
      "düşük km li, temiz ve bakimli giulietta 1.4 tb multiair 170 bg\n",
      "mazzını bayi çıkışlı değişensiz tramer kaydı yok\n",
      "sahibinden emsalsiz alfa romeo\n",
      "sahibenden satılık 156\n",
      "gm auto'dan 2012 model bakımları yapılmış mito 1.3 jtd city\n",
      "temiz alfa romeo\n",
      "2009 alfa romeo 159 1.9 jtd distinctive otomatik temiz bakımlı\n",
      "alfa romeo 147 hatasız 2 sahibinden\n",
      "2014 giulietta hatasız boyasız cam tavan\n",
      "ilk sahibinden sigara içilmemiş tertemiz giulietta\n",
      "sahibinden sıfır ayarında fırsat!!!\n",
      "sahibinden sorunsuz araç\n",
      "ust model araçlarla takas olur\n",
      "çiftkurtlar plaza'dan 2018 alfa romeo giulietta 1.6jtd sunroof\n",
      "81.000 km de alfa romeo glulietta 1.6 jtd distinctive sport\n",
      "dizel otomatik alfa\n",
      "sıkıntısız alfa\n",
      "ilk sahibinden 159\n",
      "2017 alfa gıulıetta 1.6d 120hp super tct bıxenon hatasız boyasız\n",
      "sahibinden temiz alfa romeo 156 yeni muayene bakımlı\n",
      "doktordan apple carplay destekli, cam tavan sunrooflu, düşük km\n",
      "2005 full full alfa romeo 156\n",
      "2014 model makyajlı kasa cam tavan dizel alfa romeo giulietta\n",
      "2009 model alfa\n",
      "ikinci sahibinden temiz servis bakımlı alfa romeo\n",
      "alfa romeo 40 binde\n",
      "sahibinden temiz exper raporlu\n",
      "dijital kilima park sensörlü herşeyiyle yeni bakımlı fırsat arc.\n",
      "temiz giulietta 2015\n",
      "2004 değişensiz 156 gece mavisi\n",
      "simli siyah alfa romeo 159\n",
      "mengerlerden temiz giulietta 1.6 dizel süper tct\n",
      "ilk elden_95_binde otomatık vıtes alfa ciulitta 1.4tb multi air\n",
      "türkiye'de tek 45.000km.de kazasız full orjınal spider\n",
      "özdemir'den 2011 model alfa romeo giulıetta 1.4 boyasız orj.\n",
      "özkardeşler auto dan klimalı lpg li tr nin enu ucuzu\n",
      "çiftkurtlar plaza'dan 2018 alfa romeo giulietta 1.6jtd otomatik\n",
      "hastasından\n",
      "carstar'dan 2018 alfa gıulıetta 1.6 jtd super tct ekstralı\n",
      "146 tı 2.0 ts lusso aşkını uzaklarda arama\n",
      "gtı avcısı satısta\n",
      "lider autodan\n",
      "sahibinden\n",
      "25 yıllık alfistiden çok temiz 159\n",
      "alfa romeo 156 ts 2004 model temiz\n",
      "asır oto'dan 30.000tl'ye 12 ay vade farksız ödeme kolaylığı\n",
      "öğretmenden temiz\n",
      "boyasız,değişensiz,kazasız\n",
      "çiftkurtlar plaza'dan 2018 alfa romeo giulietta 1.6 prog.plus\n",
      "sıfırdan farksız otomatik alfa giulietta\n",
      "2001 model lpg li alfaromeo\n",
      "bayan öğretmenden tertemiz bakımlı araba\n",
      "romeo romeo : )\n",
      "alfa romeo spider 2.2 jts hatasız kusursuz temizlikte\n",
      "böylesi hıc görülmedı\n",
      "hatasız kazasız boyasız orjinal 72 bin km de\n",
      "araç tr tek ful modifiyeli\n",
      "2011 model alfa romeo giulietta dizel 1.6\n",
      "sahibinden tramersiz temiz alfa romeo giulietta 1.4 tb otomatik\n",
      "yeni kasa alfa romeo 147 tspark 120 hp\n",
      "sezginler den alfa 159 diesel otomatik vites\n",
      "gallery alfa romeo 147.1.6 ts hatasız 80.000 km de\n",
      "acil satılık\n",
      "attack motors'dan 2014 alfa romeo giulietta 1.6 jtd 65.000 km\n",
      "sahibinden acil satılık\n",
      "spor paket, kırmızı deri koltuk\n",
      "sahibinden alfa romeo giulietta\n",
      "ay sonuna kadar 30.000 tl 147 mk2 2005\n",
      "sanat eseri\n",
      "hatasız boyasız degısensız cam tavan 127.000'de garaj arabası\n",
      "sahibinden 2015 78binde\n",
      "mais ankara şube müdürlüğünden gıulıetta 1.6 jtdm super tct\n",
      "center'dan afa romeo 4c spider 2800km bayii\n",
      "alfa romeo 166 ts 2.0 kalite ve konforun birleştiği yer uçağı\n",
      "kırmızı başlıklı kız\n",
      "sahibinden kazasız tramersiz 2013 alfa\n",
      "otomoto garaj alfa romeo giulietta 1.6 jtd otomatik boyasız\n",
      "sahibinden 2011 kırmızı giulietta\n",
      "eren otomotiv'den 2014 giulietta 1.4 170hp multiair otomatik\n",
      "çavuşoğlu 2015 alfa giulietta 1.6 jtd progression plus boyasız\n",
      "bakımlı alfa\n",
      "160 binde 3 sahibinden\n",
      "acil satılık alfa romeo\n",
      "ilk elden tamamen orijinal dizel otomatik alfa romeo\n",
      "bayiden ful opsiyonlu extra 18000 liralık donanım kaçıran üzülür\n",
      "bankacıdan, 35.800 km, kazasız, boyasız, değişensiz, garaj aracı\n",
      "alfa romeo mito hatasız\n",
      "özdemırden alfa romeo 146 taksit ve takas olur\n",
      "2014 giulietta 1.4 170hp, tct, cam tavan, brembo, f1, spor paket\n",
      "sıfır ayarında, giulietta\n",
      "göz alıcı tertemiz alfa romeo 159 jtd otomatik dizel\n",
      "mühendis sahibinden bakımlı 1.6 dizel alfa romeo mito\n",
      "kamu görevlisinden sigara içilmemiş giulietta distinctive\n",
      "sahibinden 170hp spor paket 18jant\n",
      "sahibinden tertemiz 156 rosso\n",
      "sahibinden temiz 2000 model uygun fiyata\n",
      "getting https://www.sahibinden.com/audi-a1\n",
      "https://www.sahibinden.com/audi-a1?pagingOffset=0&pagingSize=50\n",
      "50\n",
      "https://www.sahibinden.com/audi-a1?pagingOffset=50&pagingSize=50\n",
      "100\n",
      "https://www.sahibinden.com/audi-a1?pagingOffset=100&pagingSize=50\n",
      "112\n",
      "https://www.sahibinden.com/audi-a1?pagingOffset=150&pagingSize=50\n",
      "112\n",
      "getting https://www.sahibinden.com/audi-a3\n"
     ]
    },
    {
     "name": "stdout",
     "output_type": "stream",
     "text": [
      "https://www.sahibinden.com/audi-a3?pagingOffset=0&pagingSize=50\n",
      "162\n",
      "https://www.sahibinden.com/audi-a3?pagingOffset=50&pagingSize=50\n",
      "212\n",
      "https://www.sahibinden.com/audi-a3?pagingOffset=100&pagingSize=50\n",
      "262\n",
      "https://www.sahibinden.com/audi-a3?pagingOffset=150&pagingSize=50\n",
      "312\n",
      "https://www.sahibinden.com/audi-a3?pagingOffset=200&pagingSize=50\n",
      "362\n",
      "https://www.sahibinden.com/audi-a3?pagingOffset=250&pagingSize=50\n",
      "412\n",
      "https://www.sahibinden.com/audi-a3?pagingOffset=300&pagingSize=50\n",
      "462\n",
      "https://www.sahibinden.com/audi-a3?pagingOffset=350&pagingSize=50\n",
      "512\n",
      "https://www.sahibinden.com/audi-a3?pagingOffset=400&pagingSize=50\n",
      "562\n",
      "https://www.sahibinden.com/audi-a3?pagingOffset=450&pagingSize=50\n",
      "612\n",
      "https://www.sahibinden.com/audi-a3?pagingOffset=500&pagingSize=50\n",
      "662\n",
      "https://www.sahibinden.com/audi-a3?pagingOffset=550&pagingSize=50\n",
      "712\n",
      "https://www.sahibinden.com/audi-a3?pagingOffset=600&pagingSize=50\n",
      "762\n",
      "https://www.sahibinden.com/audi-a3?pagingOffset=650&pagingSize=50\n",
      "812\n",
      "https://www.sahibinden.com/audi-a3?pagingOffset=700&pagingSize=50\n",
      "862\n",
      "https://www.sahibinden.com/audi-a3?pagingOffset=750&pagingSize=50\n",
      "912\n",
      "https://www.sahibinden.com/audi-a3?pagingOffset=800&pagingSize=50\n",
      "962\n",
      "https://www.sahibinden.com/audi-a3?pagingOffset=850&pagingSize=50\n",
      "1012\n",
      "https://www.sahibinden.com/audi-a3?pagingOffset=900&pagingSize=50\n",
      "1062\n",
      "https://www.sahibinden.com/audi-a3?pagingOffset=950&pagingSize=50\n",
      "1112\n",
      "https://www.sahibinden.com/audi-a3?pagingOffset=1000&pagingSize=50\n",
      "1112\n",
      "getting https://www.sahibinden.com/audi-a4\n",
      "https://www.sahibinden.com/audi-a4?pagingOffset=0&pagingSize=50\n",
      "1162\n",
      "https://www.sahibinden.com/audi-a4?pagingOffset=50&pagingSize=50\n",
      "1212\n",
      "https://www.sahibinden.com/audi-a4?pagingOffset=100&pagingSize=50\n",
      "1262\n",
      "https://www.sahibinden.com/audi-a4?pagingOffset=150&pagingSize=50\n",
      "1312\n",
      "https://www.sahibinden.com/audi-a4?pagingOffset=200&pagingSize=50\n",
      "1362\n",
      "https://www.sahibinden.com/audi-a4?pagingOffset=250&pagingSize=50\n",
      "1412\n",
      "https://www.sahibinden.com/audi-a4?pagingOffset=300&pagingSize=50\n",
      "1462\n",
      "https://www.sahibinden.com/audi-a4?pagingOffset=350&pagingSize=50\n",
      "1512\n",
      "https://www.sahibinden.com/audi-a4?pagingOffset=400&pagingSize=50\n",
      "1562\n",
      "https://www.sahibinden.com/audi-a4?pagingOffset=450&pagingSize=50\n",
      "1612\n",
      "https://www.sahibinden.com/audi-a4?pagingOffset=500&pagingSize=50\n",
      "1662\n",
      "https://www.sahibinden.com/audi-a4?pagingOffset=550&pagingSize=50\n",
      "1712\n",
      "https://www.sahibinden.com/audi-a4?pagingOffset=600&pagingSize=50\n",
      "1762\n",
      "https://www.sahibinden.com/audi-a4?pagingOffset=650&pagingSize=50\n",
      "1812\n",
      "https://www.sahibinden.com/audi-a4?pagingOffset=700&pagingSize=50\n",
      "1862\n",
      "https://www.sahibinden.com/audi-a4?pagingOffset=750&pagingSize=50\n",
      "1912\n",
      "https://www.sahibinden.com/audi-a4?pagingOffset=800&pagingSize=50\n",
      "1962\n",
      "https://www.sahibinden.com/audi-a4?pagingOffset=850&pagingSize=50\n",
      "2012\n",
      "https://www.sahibinden.com/audi-a4?pagingOffset=900&pagingSize=50\n",
      "2062\n",
      "https://www.sahibinden.com/audi-a4?pagingOffset=950&pagingSize=50\n",
      "2112\n",
      "https://www.sahibinden.com/audi-a4?pagingOffset=1000&pagingSize=50\n",
      "2112\n",
      "getting https://www.sahibinden.com/audi-a5\n",
      "https://www.sahibinden.com/audi-a5?pagingOffset=0&pagingSize=50\n",
      "2162\n",
      "https://www.sahibinden.com/audi-a5?pagingOffset=50&pagingSize=50\n",
      "2212\n",
      "https://www.sahibinden.com/audi-a5?pagingOffset=100&pagingSize=50\n",
      "2262\n",
      "https://www.sahibinden.com/audi-a5?pagingOffset=150&pagingSize=50\n",
      "2312\n",
      "https://www.sahibinden.com/audi-a5?pagingOffset=200&pagingSize=50\n",
      "2362\n",
      "https://www.sahibinden.com/audi-a5?pagingOffset=250&pagingSize=50\n",
      "2412\n",
      "https://www.sahibinden.com/audi-a5?pagingOffset=300&pagingSize=50\n",
      "2462\n",
      "https://www.sahibinden.com/audi-a5?pagingOffset=350&pagingSize=50\n",
      "2512\n",
      "https://www.sahibinden.com/audi-a5?pagingOffset=400&pagingSize=50\n",
      "2562\n",
      "https://www.sahibinden.com/audi-a5?pagingOffset=450&pagingSize=50\n",
      "2612\n",
      "https://www.sahibinden.com/audi-a5?pagingOffset=500&pagingSize=50\n",
      "2662\n",
      "https://www.sahibinden.com/audi-a5?pagingOffset=550&pagingSize=50\n",
      "2712\n",
      "https://www.sahibinden.com/audi-a5?pagingOffset=600&pagingSize=50\n",
      "2762\n",
      "https://www.sahibinden.com/audi-a5?pagingOffset=650&pagingSize=50\n",
      "2812\n",
      "https://www.sahibinden.com/audi-a5?pagingOffset=700&pagingSize=50\n",
      "2862\n",
      "https://www.sahibinden.com/audi-a5?pagingOffset=750&pagingSize=50\n",
      "2912\n",
      "https://www.sahibinden.com/audi-a5?pagingOffset=800&pagingSize=50\n",
      "2962\n",
      "https://www.sahibinden.com/audi-a5?pagingOffset=850&pagingSize=50\n",
      "3012\n",
      "https://www.sahibinden.com/audi-a5?pagingOffset=900&pagingSize=50\n",
      "3048\n",
      "https://www.sahibinden.com/audi-a5?pagingOffset=950&pagingSize=50\n",
      "3048\n",
      "getting https://www.sahibinden.com/audi-a6\n",
      "https://www.sahibinden.com/audi-a6?pagingOffset=0&pagingSize=50\n",
      "3098\n",
      "https://www.sahibinden.com/audi-a6?pagingOffset=50&pagingSize=50\n",
      "3148\n",
      "https://www.sahibinden.com/audi-a6?pagingOffset=100&pagingSize=50\n",
      "3198\n",
      "https://www.sahibinden.com/audi-a6?pagingOffset=150&pagingSize=50\n",
      "3248\n",
      "https://www.sahibinden.com/audi-a6?pagingOffset=200&pagingSize=50\n",
      "3298\n",
      "https://www.sahibinden.com/audi-a6?pagingOffset=250&pagingSize=50\n",
      "3348\n",
      "https://www.sahibinden.com/audi-a6?pagingOffset=300&pagingSize=50\n",
      "3398\n",
      "https://www.sahibinden.com/audi-a6?pagingOffset=350&pagingSize=50\n",
      "3447\n",
      "https://www.sahibinden.com/audi-a6?pagingOffset=400&pagingSize=50\n",
      "3497\n",
      "https://www.sahibinden.com/audi-a6?pagingOffset=450&pagingSize=50\n",
      "3547\n",
      "https://www.sahibinden.com/audi-a6?pagingOffset=500&pagingSize=50\n",
      "3597\n",
      "https://www.sahibinden.com/audi-a6?pagingOffset=550&pagingSize=50\n",
      "3646\n",
      "https://www.sahibinden.com/audi-a6?pagingOffset=600&pagingSize=50\n",
      "3696\n",
      "https://www.sahibinden.com/audi-a6?pagingOffset=650&pagingSize=50\n",
      "3746\n",
      "https://www.sahibinden.com/audi-a6?pagingOffset=700&pagingSize=50\n",
      "3795\n",
      "https://www.sahibinden.com/audi-a6?pagingOffset=750&pagingSize=50\n",
      "3845\n",
      "https://www.sahibinden.com/audi-a6?pagingOffset=800&pagingSize=50\n",
      "3895\n",
      "https://www.sahibinden.com/audi-a6?pagingOffset=850&pagingSize=50\n",
      "3944\n",
      "https://www.sahibinden.com/audi-a6?pagingOffset=900&pagingSize=50\n",
      "3994\n",
      "https://www.sahibinden.com/audi-a6?pagingOffset=950&pagingSize=50\n",
      "4044\n",
      "https://www.sahibinden.com/audi-a6?pagingOffset=1000&pagingSize=50\n",
      "4044\n",
      "getting https://www.sahibinden.com/audi-a7\n",
      "https://www.sahibinden.com/audi-a7?pagingOffset=0&pagingSize=50\n",
      "4094\n",
      "https://www.sahibinden.com/audi-a7?pagingOffset=50&pagingSize=50\n",
      "4137\n",
      "https://www.sahibinden.com/audi-a7?pagingOffset=100&pagingSize=50\n",
      "4137\n",
      "getting https://www.sahibinden.com/audi-a8\n",
      "https://www.sahibinden.com/audi-a8?pagingOffset=0&pagingSize=50\n",
      "4187\n",
      "https://www.sahibinden.com/audi-a8?pagingOffset=50&pagingSize=50\n",
      "4237\n",
      "https://www.sahibinden.com/audi-a8?pagingOffset=100&pagingSize=50\n",
      "4279\n",
      "https://www.sahibinden.com/audi-a8?pagingOffset=150&pagingSize=50\n",
      "4279\n",
      "getting https://www.sahibinden.com/audi-r8\n",
      "https://www.sahibinden.com/audi-r8?pagingOffset=0&pagingSize=50\n",
      "4288\n",
      "https://www.sahibinden.com/audi-r8?pagingOffset=50&pagingSize=50\n",
      "4288\n",
      "getting https://www.sahibinden.com/audi-rs\n",
      "https://www.sahibinden.com/audi-rs?pagingOffset=0&pagingSize=50\n",
      "4319\n",
      "https://www.sahibinden.com/audi-rs?pagingOffset=50&pagingSize=50\n",
      "4319\n",
      "getting https://www.sahibinden.com/audi-s-serisi\n",
      "https://www.sahibinden.com/audi-s-serisi?pagingOffset=0&pagingSize=50\n",
      "4369\n",
      "https://www.sahibinden.com/audi-s-serisi?pagingOffset=50&pagingSize=50\n",
      "4392\n",
      "https://www.sahibinden.com/audi-s-serisi?pagingOffset=100&pagingSize=50\n",
      "4392\n",
      "getting https://www.sahibinden.com/audi-tt\n",
      "https://www.sahibinden.com/audi-tt?pagingOffset=0&pagingSize=50\n",
      "4442\n",
      "https://www.sahibinden.com/audi-tt?pagingOffset=50&pagingSize=50\n",
      "4482\n",
      "https://www.sahibinden.com/audi-tt?pagingOffset=100&pagingSize=50\n",
      "4482\n",
      "getting https://www.sahibinden.com/audi-80-serisi\n",
      "https://www.sahibinden.com/audi-80-serisi?pagingOffset=0&pagingSize=50\n",
      "4532\n",
      "https://www.sahibinden.com/audi-80-serisi?pagingOffset=50&pagingSize=50\n",
      "4544\n",
      "https://www.sahibinden.com/audi-80-serisi?pagingOffset=100&pagingSize=50\n",
      "4544\n",
      "getting https://www.sahibinden.com/audi-90-serisi\n",
      "https://www.sahibinden.com/audi-90-serisi?pagingOffset=0&pagingSize=50\n",
      "4549\n",
      "https://www.sahibinden.com/audi-90-serisi?pagingOffset=50&pagingSize=50\n",
      "4549\n",
      "getting https://www.sahibinden.com/audi-100-serisi\n",
      "https://www.sahibinden.com/audi-100-serisi?pagingOffset=0&pagingSize=50\n",
      "4572\n",
      "https://www.sahibinden.com/audi-100-serisi?pagingOffset=50&pagingSize=50\n",
      "4572\n"
     ]
    },
    {
     "name": "stdout",
     "output_type": "stream",
     "text": [
      "getting https://www.sahibinden.com/audi-200-serisi\n",
      "https://www.sahibinden.com/audi-200-serisi?pagingOffset=0&pagingSize=50\n",
      "4574\n",
      "https://www.sahibinden.com/audi-200-serisi?pagingOffset=50&pagingSize=50\n",
      "4574\n",
      "%18 kdv'li 2017 bayi hatasız audı a6 2.0 tdı 190 hp s tronic\n",
      "bakmadan geçme !!!\n",
      "arpaçay motors`dan emsalsiz temizlikte a6\n",
      "bozoklar motors'dan temiz audi a4 2.0 tdı 177hp\n",
      "özhamurkar orjinal 2015 audı a6 2.0 tdı 190 hp stronıc sunroof\n",
      "2017 model hatasız s line paket full\n",
      "2018 a 6 2.0 tdi quattro bayii çıkışlı bayi bakımlı\n",
      "değişensiz boyasız a4 audi\n",
      "acil sahibinden audi a4 quattro\n",
      "hasar kayıtsız full orjinal\n",
      "2005 audi a4 1.6 102hp b7 kasa ilkel\n",
      "caretta'dan bayi,navigasyon,vakum,hafıza,spor direksiyon 2.0 tdı\n",
      "2016 model audı a6 2.0 tdı quattro\n",
      "efsane audi 80 1.6 td 5 ileri\n",
      "2010 model daha dolusu yok\n",
      "mm motors 2017 a5 sportback 1.4 tfsı design s tronic hatasız\n",
      "persian istanbul a4 77binde değişensiz\n",
      "leaseplan`den 2016 audi a4 sedan 2.0 tdı s tronic\n",
      "çok acil 2014 audi a 4 limusine yetkili servis bakımlı\n",
      "audi a1 otomatik s tronic 7 ileri 3 kapı turbo\n",
      "mert auto'dan 2012 audı a3 1.6 tdı sportback cam tavan otomatik\n",
      "auto show audı a4 2.0 tdı dynamic 190 hp ısıtma bi xenon\n",
      "2009 model 2.0 tfsı audi a5_hatasız boyasız iç dış s line\n",
      "sahibinden kazasız boyasız değişensiz hasar kayıtsız audi a4\n",
      "sahibinden satılık a3 sportback kaza boya tramer yok\n",
      "oz motors'dan bayi çıkışlı 2012 a5 boyasız tr'de tek dolulukta.!\n",
      "gönlümün efendisi\n",
      "audi a3 sedan\n",
      "ayarlar auto dan 2016 audi a3 sedan 1.6 tdi sport line .\n",
      "114 bin de sahibinden temiz a3\n",
      "audi a6 2.0 tdi dizel otomatik\n",
      "yeni lastik servis bakımlı tdı s line cabrio\n",
      "alman tankı\n",
      "audi yetkili bayii acarsan dan 2015 s8 4.0 tfsı quattro 520hp\n",
      "hatasız bayi çıkışlı 4x4 deri sunrof ısıtma f1 zenon led fulll\n",
      "acill fiyat düştü!. 2018 new a8 50 tdı long quat (3000cc 286hp)\n",
      "güneydoğu auto'dan audi a3 1.6 tdi cam tavanlı otomatik\n",
      "audi a4 hatasız 70 bin km dosta gider\n",
      "hatasız boyasz 2015 a4 69bınde 177hp sunrof deri ısıtma bluetoth\n",
      "2017 bayii_a5_2.0 tdi quattro_sport delux design_recaro_boyasız\n",
      "inci'den 2011 a6 2.0 tdi 177hp multitronic emsalsiz temiz doğuş\n",
      "esmer auto dan audı a4 177 hp sanrof deri ısıtma full\n",
      "2017audi a5 1.4tfsi desing prestige pkt hatasız orjinal 7.400 km\n",
      "plakalı ruhsatlı 2015 a4 2.0 dizel 177bg az hasarli bin git\n",
      "cvk motors 2012 audi a5 2.0 tdi kamuflaj kaplamalı hatasız\n",
      "71.000 km de sorunsuz\n",
      "hatasiz audi rs 4 cabrio turkiye de tek\n",
      "sahibinden 2013 audi a3 1.6tdi ambiente paket\n",
      "aydemirden 2017 a5 sportback 1.4tfsı design camtavan ısıtma taba\n",
      "esim otomotivden 2012 audi a 6 boyasız hatasız en full paketi\n",
      "ercar motors 2015 audi s8 quattro hatasız bayii çıkışlı\n",
      "a4 audi tdi quattro\n",
      "takaslı satılık yer uçağı audi alman panzeri\n",
      "sahibinden temiz a4\n",
      "audi a1 1.4 tfsi attraction 3k\n",
      "2016 sahibinden ,hatasız ,kapalı garaj aracıdır\n",
      "2017 bayi çıkışlı a5 s line\n",
      "1987 model yumurta kasa, çift tavanlı audi 80 tertemiz bir araç\n",
      "fame motors 2018 audi a5 sportback 2.0 tdı quattro\n",
      "selectıon car 2018 audı a3 sedan 1.6 tdı desıgn lıne s tronıc\n",
      "2012 a4 2.0 tdı,multıtronıc,yenikasa,kaza boya hata değişen yok\n",
      "honda plaza çamkıran'dan 2015 a7 3.0 tdı v6 quattro s tronic\n",
      "2010,model,audi,a5,2.0 tfsı quattro,boyasız,cam tavan,k.ısıtma\n",
      "nörolog dan audi a6\n",
      "karabey otomotiv emlak ve inşaat'dan 1998 audi a6 1.8t masrafsız\n",
      "fiyatı düşürdüm sahibinden satılık 2004 otomatik\n",
      "2011 audi a5 orjinal iç dış s line\n",
      "mycars 2008 audi a8 quattro long bayi full full şenyıldz bakımlı\n",
      "bayi orjinal audi a5 2.0tdi quattro yetkili servis bakımlı\n",
      "garage 2017 audı a5 sportback 1.4 tfsı dynamıc\n",
      "temiz 2.sahibiyim\n",
      "pazartesi gününe kadar tek fiyat 122.000 tl\n",
      "acil sahıbınden makyajlı 2016 a3 sportlıne full full led paketlı\n",
      "sahibinden station vagon audi a4\n",
      "arena dan audi a5 tfsi 2.0 tfsi 211 bg\n",
      "hatasız 2017 audi a5 1.4 tfsi hatasız desing deluxprestigematrix\n",
      "2012 audi a5 coupe 1.8 tfsı otomatik\n",
      "ekcar motors audi a5 sportback 1.4 tfsı dynamic hatasız boyasız\n",
      "2016 model a5 sportback 2.0 tdi quattro 190 hp\n",
      "nadir kalanlardan .a3 ambition at\n",
      "orijinal fabrikadan çıktığı gibi 272 bg. nefis bir tts\n",
      "orjinal audi a4 b7 kasa full s line\n",
      "sahibinden doğuş oto çıkışlı 61.000km 'de audi a5\n",
      "temiz bakımlı masrafsız dizel otomatik\n",
      "serkan otomotiv 'den hatasız audi a6 2.0 tdı rs6 sline doğuş ckş\n",
      "tertemiz siyah 40.000 a4\n",
      "bayi çıkışlı ve yetkili servis bakımlı\n",
      "ecz motors | 2012 audı a5 sportback 2.0 tfsı\n",
      "hatasız boyasız ilk sahibinden bayi çıkışlı servis bakımlı full\n",
      "2.sahibinden audi a4 1.8 tfsi multitronic\n",
      "aa auto çok temiz bakımlı orjinal a3 2009 takas ve taksit yapılı\n",
      "sahibinden a4\n",
      "2008 bayii audi a.5 1.8 tfsi multitronik coupe dış s line\n",
      "2010 a5 2.0 tfsı quattro bayi takaslı\n",
      "%18 kdv li 2016 dış s line bayi audı a7 3.0 tdı quattro 320 hp\n",
      "k.maraş ford bayii kemak a.ş'den audi a6\n",
      "ilk sahibiyim çok temiz\n",
      "çağrı'dan 2014 audi a4 2.0 tdi 150 hp limousine paket\n",
      "ilk sahibinden hatasız boyasız cam tavan ambition\n",
      "masrafsız orj km audi benzinli manuel vites\n",
      "mutlu 2012 audı a7 3.0tdı v6 quattro dış s lıne boyasız bayi\n",
      "elit otomotivden yeni nesil 4x4 quatro full full kusursuz\n",
      "bütün gözler üstünüzde olacakk .\n",
      "atakandan audı slıyn otomatık sanrufflu fulll\n",
      "sahibinden\n",
      "aracım satılıktır\n",
      "emr motors s3 2.0 quattro bayi\n",
      "ilk sahibinden servis bakımlı hatasız boyasız\n",
      "sahibinden hatasız boyasız a6 quattro dış sline edition paket\n",
      "kırmızı bi aşktırr\n",
      "ilk sahibinden 2011 a1 92.000km otomatik en dolu f1 vites\n",
      "ms car'dan 2007 audi tt s görünüm otomatik 211hp\n",
      "audi a8 long 2011 model 138000 km de !!\n",
      "demireller'den hatasız boyasız audi a6 2.0tdı 2011 model\n",
      "audi a 3 a t dizel panaromik tavan 190.000 km orijinal\n",
      "eğer istersen tr en hızlısı tts 500 hp sahip olabilirsin\n",
      "audi a3 2000 model tek kapı takas olur\n",
      "gür otomotiv'den 2016 a3 1.6 tdı otomatık hatasız boyasız 29km\n",
      "ilk sahibinden 2012 a6 sunroof. 4 yönlü klima. ısıtmalı deri\n",
      "2007 tam dolu 4koltuk ısıtma 3bölge klima makam perde hatasız\n",
      "konseptden audı a4 2014 model temiz\n",
      "sapan motors 2015 audi a8 3.0 tdı quattro long 350hp tr tek özel\n",
      "dizel otomatik a1 hasarsız\n",
      "london motors dan audi a5 coupe 2009\n",
      "2004 model aıdi a 6 dizel otomatik\n",
      "doktordan satılık kazasız audi a3\n",
      "anlatılmaz binilir .a4 .2004 .1.6 .benzinli .dolusu .\n",
      "bayan öğretmenden a3 1.6 otomatik lpg\n",
      "2011_audi_a6_2.0tdi_170ps_169.000'km_sunroof_4koltuk ısıtma_bayi\n",
      "audi a3 ikinci sahibinden\n",
      "bakımlı masrafsız .\n",
      "s class dan 18t audi\n",
      "isoto kayseri'den 2012 a5 sportback quattro s tronic sunroof\n",
      "cennet otomotivden 2016 audı a4 1.4 tfsı dynamic s tronic boyasz\n",
      "iç dış s line full full a5 2.0 tdı sportback\n",
      "satılık 2004 model audi a3 hatchback 1.6\n",
      "2013 audi a8 3.0tdı quattro long bayi tam dolu dilek auto'dan\n",
      "yeniköy motors 2013 audı s8 4.0 tfsı quattro 520 hp\n",
      "tüm bakımları yapılmış servis bakımlı masrafsız quattro\n",
      "vıp autodan 2013 a 6 dizel otomatik 90 bin kmde hatasız bo\n",
      "pişkin otomotiv 2014 a4 2.0 tdi navigasyon 19 jant hatasız\n",
      "yiğit otomotivden 2011 audi a 6 emsalsiz temizlikte fuul fuul\n",
      "seferoğlu auto 2012 audi a8 3.0tdı v6 quattro long 250hp hatasız\n",
      "sahibinden karizmatik 2.0 tfsı tt aracın durumu çok iyi\n",
      "aydemirden 2018 a4 1.4tfsı dynamic matrix siyahderi ısıtma cruze\n",
      "audi a6 3.0 tdi quattro\n",
      "2001 model a3 orjinal bi arac\n",
      "2015 model, a3 1.6 tdı 110 bg, s tronic, atractıon, garantili\n",
      "ayhan otomotiv den audi a 3 boyasız hatasız s tronic\n",
      "audi a4 177hp hatasız\n",
      "audi a5 23000 km de doguş çıkışlı\n",
      "audi a6 2.8 v6\n",
      "õz abak otomoïv tamamen orjinal cızıksız\n",
      "çok sınıfff audı a4 limousine ankara en ucuz en temizi\n",
      "2018 model audı a5 sportback 1.4 tfsı prestıge deluxe paket\n",
      "queen's auto audi a5 sportback 2.0 tdı quattro design s tronic\n",
      "a3 1.6 tdı dsg sportback cam tavan xenon\n",
      "audi a6 cok temiz acil satilik\n",
      "ms car'dan 1997 audi a4 otomatik vites takas olur\n",
      "sahibinden en dolusu full full tertemiz a4\n",
      "orjinal hatasız arayanlara fiyat düştü ağır bakımları yapılmış\n",
      "acil acil sahibinden 160 lik f1 vites\n",
      "binicisinden hatasız\n",
      "sahibinden skuba mavi design s tronic takas dusunmuyorum\n",
      "sahibinden sunroof dizel deri koltuk lu audi\n",
      "hatasız 2012 yeni kasa audi a 4 2.0 tdi vade&takas olur\n",
      "hatasız sunruf deri full 110 binde\n",
      "encar'dan audi allroad 2.7 t quattro orjinal en düşük km\n",
      "a6 sedan manuel\n",
      "gkn motors audi a5 design paket özel renk hatasız bayi çıkışlı\n",
      "sahibinden temiz değişensiz tramersiz\n",
      "doktordan a3 sedan 1.6 tdı ambition 2014\n"
     ]
    },
    {
     "name": "stdout",
     "output_type": "stream",
     "text": [
      "a5 audı siyah hasarsız bakımlı,alımlı,heyecanlı\n",
      "ruhsat sahıbınden 133 binde 4 koltuk ısıtma 190 beygır audı a6\n",
      "sahibinden cam gibi a3\n",
      "2011 model orjinal 72.000 km avek yetkili servis bakımlı\n",
      "sahibinden audi a5 en dolusu\n",
      "hatasız boyasız tramersiz özel renk sıfırdan farksız s line\n",
      "ferhat oto'dan 2015 model audi a6 2.0tdi temiz orjinall\n",
      "2018 model a4 1.4tfsı desıgn s tronıc boyasız %18kdv\n",
      "eslayn iç dış rekore koltuk full paket en dolusu\n",
      "audı a4 quattro 1.8t. 400 hp. forged motor\n",
      "temiz 98.000 km. a4\n",
      "sahra otomotivden boyasız 2015 a5 sline sunrf deri ıstma 66390km\n",
      "orjinal sahıbınden a5 hatasız\n",
      "sahibinden audi a3 s tronic tertemiz\n",
      "audi tertemiz 2014 trafik çıkışlı s line\n",
      "sahibinden dizel otomotik limosine a4 harika temiz\n",
      "cihan oto'dan 2015 audı a6 2.0 quattro boya hata yok\n",
      "sahibinden makam aracı olarak kullanılmış orijinal hatasız a6 .\n",
      "orijinal hatasız a3 s tronic attaction 110 hp\n",
      "run cars a1 1.4tfsı s tronıc iç dış slıne ısıtma cam tavan\n",
      "türkiye'de tek yeni kasa panoramik tavan deri a3 1.9 tdi\n",
      "hatasız tramersiz ledli a3\n",
      "bayandan temız 2015 a3\n",
      "daha 12.000km bayi a6 2.0 tdi quattro edition 19' jant %18 kdv\n",
      "ss motors 2014 audı rs6 4.0 tfsı 740 hp spor egzoz seramik bayi\n",
      "sahibinden temiz tüm bakımları yapılmış a4 avant dizel otomatik\n",
      "bakmadan geçme\n",
      "saylam audi tt 2.0tfsı quattro rs görünüm emsalsiz boyasız full\n",
      "valencıauto arac opsıyonlu . tesekkurler\n",
      "sahibinden\n",
      "2015 audi 2.0 tdi 177 hp servis bakımlı 30.000 km 185,000 tl\n",
      "renk güzeli\n",
      "2014 çıkışlı sunrooflu a4\n",
      "audı tts cabrıo emsalsiz wossen jant\n",
      "satılık audı a3 2016 model\n",
      "karat motors audi s5 4.2 quattro doğuş hatasız cam tavan\n",
      "ds otomotivden a3 sportpack 75.000km de\n",
      "ılıcak'dan a6 dizel sunroof\n",
      "yeniköy motors 2014 audi rs7 4.0 tfsı quattro seramik bayi\n",
      "değişensiz kazasız tertemiz sahibinden satılık\n",
      "dikkat çekmekmi ? audi a3 s line\n",
      "auto coşkunöz 2011 audi a5 sportback 2.0 tdı\n",
      "emsalsiz sıfır gibi .\n",
      "sahibinden full orjinal dolu\n",
      "doğuş 2015 a7 3.0 tdı quatro 320 bg s lıne yetkili servis bakıml\n",
      "2011 a8 3.0 tdı quatro long doğuş çıkışlı tam dolu\n",
      "hatasız 90.000km'de audi tt 2.0 tfsi(turbo) cabrio bayi çıkışlı\n",
      "aciiiil auidi a 4 sıfır ayarında sonsuz şanzuman multituronic\n",
      "intercity otonomi 'den 2016 audı a4 2.0 tdı 109 hp desıgn\n",
      "2008 model arcımız otomatik .2.0 tdi dızel dır\n",
      "2005 a6 full 2.4 prins lpg sunroof orj km\n",
      "2010_audi a 6 _ 3.0 t quattro\n",
      "s lıne cam tavan lpgli\n",
      "kalite başka bisey\n",
      "acil satılık\n",
      "seat&skoda keleşlerden 2015 audi a4 2.0 tdi 190 hp dynamıc orj\n",
      "2013 adui a4 2.0 tdi 177 hp quattro 4x4 led xenon orjınal boya\n",
      "a3 sportback 1.6 tdı attraction s tronic\n",
      "audı a3 sportback 1.6 s tronıc 7 ileri hatasız\n",
      "audi a 4 sanruf deri döşeme katlanır ayna hız sabitleyici fül\n",
      "sahibinden, 2012, a5, 177 hp, multitronic\n",
      "tertemiz sahibinden az km de a3 coupe s line\n",
      "acill satılık audi a4 1.6 sedan\n",
      "auto beka'dan 2008 audi a6 2.0 tdi multitronic sunroof'lu\n",
      "temiz bakımlı alman tankı\n",
      "s lıne lımusın paket bayı cıkıskı sıfır hata garaj arabası\n",
      "2010 audi a5 s line tr nin en iyisi\n",
      "acarlar motors 2015 a6 2.0 tdi ultra hafıza vakum bayi çıkışlı\n",
      "florya auto 2012 yeni makyajlı kasa audı a5 led sunroof deri\n",
      "sahibinden yetkili servis bakımlı 1.4tfsi sport\n",
      "sorunsuz masrafsız orjinal\n",
      "sahibinden a4 limosuine 2013 dizel sunroof deri koltuk ısıtma\n",
      "2008 model auıdı a 4 2.0 tdı f1 vıtes orjınal\n",
      "2013 siyah audi a4 quattro, 132.000km\n",
      "sahibinden 2012 model doğuş çıkışlı a6\n",
      "galeri 28'den hatasız boyasız 2016 audi a5 coupe 1.4 tfsı desing\n",
      "2013 model audi a4 quattro 177 bg hatasız\n",
      "06 ak 9999 sahibinden satılık a6 2.0tdı özel plaka start stop tv\n",
      "2015 model 29000km hatasız boyasız garaj arabası\n",
      "audi a.8 3.0 tdi quattro sort sitede tek\n",
      "bakmadan geçme\n",
      "sahibinden temiz audi a4\n",
      "2011 model 55.000 km boyasız kazasız cam tavan s tronic\n",
      "2009 audı a5 2.7tdı coupe sline alevli kavacık\n",
      "2.0 tdi bakımlı a6\n",
      "boyasız 2012 a6 2.0 tdi 177hp ''230.000''km sunroof vakum bayi\n",
      "emsalsiz, doğuş çıkışlı\n",
      "aciiill orjinal az kullanılmış satılık a4\n",
      "sunrooflu audi\n",
      "tk motors merkar 2008 audı a8 3.0 tdı quattro long bayi\n",
      "nazar motors 2010 audı a5 sporback quattro rs 5 görünümlü\n",
      "sahibinden boyasız,hatasız audi a1 dizel,otomatik çift renk\n",
      "sevgi oto 2016 a4 2.0tdi 190bg stronic design ısıtma sunroof\n",
      "eagle motors'dan 2015 a5 coupe 2,0tdi quattro s line boyasız\n",
      "türkiyede tek !!!!!!!! hatasız boyasız tramersiz !!!!!! audı a6\n",
      "sahibinden 2012 audi a6 emsalsiz\n",
      "2015 hatsız 190 bg uckol hafıza\n",
      "2016 hatasız led xenon kamera sline marşpiyel spoiler egzoz krom\n",
      "değişen yok cabrio ile takas olur\n",
      "gerçek efsane audi a8\n",
      "showroomda ki araçtan farkı 8000km olması prestıge deluxe\n",
      "kazasız sorunsuz ful ful\n",
      "fırsat aracı 2013 audi a5 sportback 2.0tdı multitronic\n",
      "şark audi a4 sedan 1.8 tfsı\n",
      "sahibinden ekspertiz garantili ambiente sunrooflu temiz a3\n",
      "sahibinden satılık\n",
      "hatasız audi a4 düşük km garaj aracı\n",
      "bilgiç 2011 audi a6 2.0 tdi multitronic 170 bg 183000 km\n",
      "wrc garaj 2007 audi a4 2.0 tfsi quattro bayi sunroof deri\n",
      "askar otomotiv'den 2014 a6 2.0 tdı 177hp doğuş çıkışlı\n",
      "sahibinden a4\n",
      "bayi çıkışlı hasar kaydı yok 123.000 kmde quattro tfsı\n",
      "audı 2.0 multitronic siyah hatasız boyasız\n",
      "orjinal 1.8t sanruf otomatik lpg\n",
      "ats otomotivden özel sipariş a6 s line\n",
      "tt quatro 1.8 turbo 225 hp makine\n",
      "sahibinden sadece 61 binde doğuş çıkışlı a4 2.0 tdi navigasyon\n",
      "deniz otomotiv'den 2015 a4quattro 65bin'de hayalet navigasyon f1\n",
      "işlerim yetişmiyor diyene roket gibi araba\n",
      "a6 limosine hatasız 2016 2.0tdiquattro bayi fatura hayalet vakum\n",
      "2004 audi a4\n",
      "takaslı 2011 model audi a5 2.0 tdı sunrof deri ısıtma\n",
      "audi a5 sportback 2.0 tdı quattro sport s tronic\n",
      "intercity2 audi a6 2.0 tdı quattro led matr. f1 ön arka klim 18'\n",
      "yeniköy motors 2017 audı a5 sportback 1.4 tfsı desıgn 11.000 km\n",
      "sahibinden a3\n",
      "garage 2014 audı a8 3.0 tdı long quattro.multımedıa.buzdolabı\n",
      "audi aracimi satiyorum\n",
      "kusursuz servis bakımlı 2015 model a6\n",
      "2015 model audi a3 attraction\n",
      "yabancidan yabanciya audi a8\n",
      "eminden 2013 audi a4 177 hp boyasız sunroof 3 kol f1 led 18jant\n",
      "2013 model audi a5 sportback 2,0 tdi quattro f1 şanzıman\n",
      "sahibinden doğuş çıkışlı kazasız hatasız boyasız 2016 model tts\n",
      "2013 audi a6 2.0 tdı 94.000 km full full\n",
      "hatasız kazasız tertemiz ilk sahibinden full paket sunroof xenon\n",
      "efe motors'dan audi a3\n",
      "yeniköy motors 2015 audı a5 2.0 tdı quattro spor egzoz\n",
      "incar otoshops'dan hatasız a8 4.2 tdı v8 quattro bayi çıkışlı\n",
      "1989 model yeni restorasyonlu coupe\n",
      "hatasız boyasız sanruf vakumlu kapilar\n",
      "2012 audı a4 1,8 tfsı sunrooflu bakımlı\n",
      "auto bulut'dan a4 2,0 tdi yeni kasa zenonlu pırıl pırıl_________\n",
      "2013, audi a3 sportpack, cam tavan, hatasız, tramersiz .\n",
      "memurdan,hatasız,hasar kayıtsız .\n",
      "hacılar bayii 2011 audi a5 2.0 tdı hatasız düşük km taba ısıtma\n",
      "2012 a5 177 hb 2.0 tdi hatasız yeni makyajlı kasa full full\n",
      "tibet oto dan 2016 yeni kasa a3 1.6tdi sportback boyasızzz\n",
      "boyasız! özel plaka, düşük km, kapalı garaj arabası emsalsiz\n",
      "tam otomotik f1 şanzıman\n",
      "özel sipariş, düşük km, hatasız\n",
      "2011 model audı a6 2.0 tdı led deri 4 koltuk ısıtma hatasız\n",
      "karataş gruptan hatasız boyasız audı a8 3.0 tdı quattr\n",
      "audi s5 3.0 tfsı 333 hp quattro sportback\n",
      "hata yok bakim yeni yapıldı\n",
      "audi a5 doğuş çıkışlı\n",
      "2012 audi a3 sportback kredi ve motor mekanik garantili\n",
      "orhan auto'dan 2007 audi a6 sedan 2.0 tdi multitronic\n",
      "sahıbınden temız\n",
      "acil satılık çok temiz 152bin km 2012 a1\n",
      "sahibinden temiz quattro ( alman tankı )\n",
      "40.000 tl'ye 12 ay %1,49 faiz oranı\n",
      "auto city den 2010 audi a5 2.0 tfsı quattro tamamına kredi\n",
      "kazasız mükemmel durumda\n",
      "çoban otomotiv'den 2013 a3 1.6 tdi ambition cam tavan otomatik\n",
      "acil satılık son 20 gün ilk gelen alır\n",
      "20 tdi 184 bg içi bej kusursuz temizlikte\n",
      "bomoto'dan 2015 model a6 ultra 2.0 tdı s tronic 190hp\n",
      "fırsat aracı 2015 audi a3 1.6 tdi dizel otomatik orjinal\n",
      "2012 model s line 1.4 tfsı s tronic sunroof full full\n",
      "ademhan otomativ güvencesiyle\n",
      "2015 tr de tek hatasız boyasız quattro iç dış fabrika s lıne\n",
      "mar otomotiv den 2013 audı a6 2,0 tdı multitronıc bayi çıkışlı\n",
      "2011 audi a6 2.0 tdi bayii hatasız boyasız en son fiyat 139,000\n",
      "doktordan temiz\n",
      "sahibinden a3 sedan iç dış sline cam tavan led paket\n",
      "2010 audi a3 1.6lpg'li otomatik lansman rengi~taksit seçenekli~\n",
      "2009 audı tt cabrio tfsı 2.0 tfsı quattro rs full tt plakalı\n",
      "çok temiz audi\n",
      "2014 model audi a4 2.0 tdı 177 hp tertemiz masrafsız\n",
      "doğuş çıkışlı seramik fren rs egzos panter siyah\n"
     ]
    },
    {
     "name": "stdout",
     "output_type": "stream",
     "text": [
      "üçler otomotiv 2008 audi a6 2.0tdı multitronic\n",
      "2018 trafik çıkışlı hatasız boyasız bayi çıkışlı full full\n",
      "boyasız 2016 yeni a3 sedan dynamic 40.000km servs bkm tramersiz\n",
      "mega otomotiv. 2011 audi a1 1.4tfsi ilk el otomatik orjinal\n",
      "hatasız boyasız tramersiz 2005 audi a4 2.0 t quattro 'otomatik'\n",
      "whıte motors 2016 boyasz a6 quattro aırmatıc soğutma çift hafıza\n",
      "autoland'den 2016 a6 2.0tdı 190hp 44bin kmde sunroof vakum navi\n",
      "1989 model audi 80 tek kapi\n",
      "audi a5 dynamic 2017 model\n",
      "eşi yok sadece 23.000 km komple yetkili servis bakımlı\n",
      "2017 model hatasız audi a5 tfsi camtavan\n",
      "royal garage'dan audi s4 3.0 tfsi 69.000 km'de hatasız emsalsiz\n",
      "sahibinden temiz audi a3 tek kapı otomatik\n",
      "2011 audi a5 kazasız 4 4 iç dış s line\n",
      "özgüven otomotiv\n",
      "selçuklu dan satılık orjınal a5 iniz sizi beklior\n",
      "masrafsız temiz w12 görünüm makyajlı kasa\n",
      "cam tavan katlanır ayna s.lıne hatasız\n",
      "2013 a4 177 hp çok temiz darbe boya tramer kaydı yok\n",
      "tk motors merkar 2015 audı a7 2.0 tfsı quattro s line bayi\n",
      "ss motors 2014 audı rs7 4.0tfsı v8 quattro bose doğuş\n",
      "sahibinden 2011 a3 1.6 s tronic vites takaslı\n",
      "ozbakan otomotivden\n",
      "audi 1.8t gümüş gri\n",
      "s line en dolusu\n",
      "2016 audi a6 3.0tdi allroad quattro matrix bose airmatic bayi\n",
      "hata olustu/ilan/vasita-otomobil-audi-audi.a.4-dizel-143kv.s.line-yeni-kasa-multitronik-664109562/detay\n",
      "kordon galeri den 2018 audi a5 deluxe prestige 1000 km de\n",
      "2014 quatroo 4 4 acilll\n",
      "sahibinden temiz bakımlı a4 design paket\n",
      "yeniköy motors izmir 2011 audı a5 coupe 1.8 tfsı bayi\n",
      "2017 model en dolu paket bayi çıkışlı\n",
      "posh_motors audi a4 2.0 tdi sunroof deri f1 full sline\n",
      "sclass' dan 2015 a5 sportback 2.0 tdı quattro s tronic hatasız\n",
      "audi rs6 4.0 tfsı quattro plus bayi seramik fren bose music f1\n",
      "2012 model temiz a6 133 bin km\n",
      "0 km 2018 audı a5 sportback deluxe prestıge 2.0tdı quattro doğuş\n",
      "hasarsiz temiz 177 bg\n",
      "mrs den boyasız bayii 2013 audi a5 2.0tdı quattro s line ful ful\n",
      "doğuş 2018 a5 1.4 tfsı desıng deluxe prestıge kusursuz\n",
      "2014 audi s3 sedan sepang mavi,bang olufsen,rs koltuklar,285 hp\n",
      "2013 audı a8 l 3.0 tdı quattro doğuş çıkışlı matrıx far_masaj\n",
      "ars motors 2013 audi a4 2.0 tdı 102.000 km\n",
      "acilll 2012 çok temiz 90 bin km orjinal a3 kazasız tramersiz\n",
      "audi a1 sportback 1.6 tdı attraction s tronic\n",
      "audi a5 2011\n",
      "sahibinden öğretmenden temiz audi a6 2.7t quattro\n",
      "whıte motors 2015 83.000 km audı a3 sedan 1.6 tdı 110 hp\n",
      "2011 a6 3.0 tdı v6 quattro s tronic\n",
      "tts 2.0 tfsi quattro siyah içi kırmızı doğuş çıkışlı 0 km\n",
      "2012 model audı a7 3.0tdi quattro rs7 görünüm\n",
      "izgi'den 2010 audi a5sportback s line bang olufsen k.ısıtma\n",
      "hasar kayıtsız en tutulanı içi bej\n",
      "audi a6 emsalsiz orjinal\n",
      "hatasız audi\n",
      "koçak otomotiv audi a5 2.0 tdi quattro 177 ps multitironic vites\n",
      "tertemız açııllllll\n",
      "sercar dan 2007 a3 1.6 fsı sportback sanroof 6 ileri lpgli\n",
      "\\\\\\\\ vsl auto'dan audı a4 3 kol hatasız boyasız hasar kayıtsız\n",
      "sancak tan mükemmel temiz a6 dizel otomatik limuzine yeni kasa\n",
      "kaporası alındı .\n",
      "2016 a6 s line quatro bayi çıkışlı hatasız\n",
      "2013model 106 binde hatasız lımousıne paket vakum\n",
      "alr motors hatasız 2017 audi a4 1.4 tfsı design sunroof deri\n",
      "ermer'den 2015 35000 rs6 4.0 tfsi 560 hp bayi boyasız seramik\n",
      "özel sipariş s line bose sunrof f1\n",
      "çok acil sahibinden temiz 2013 a5 quatro 177 bg s lıne\n",
      "dnt motors 'dan 2014 model audi a5 on numara araç\n",
      "sahibinden tertemiz\n",
      "new lıfe dan 2013 a6 lımosıne vakkum ahşap ısıtma sanroof deri\n",
      "fuulllll orjinal a6 audı\n",
      "mars car dan a6 .rs6 s line\n",
      "vitrin 2014 audi a8 4.0 tfsi long bayi\n",
      "boyasız 2012 audi a6 dizel otomatik vakkum sunroof deri ısıtma\n",
      "sahibinden doğuş çıkışlı temiz audi a5\n",
      "yeniköy motors 2013 audı rs 6 4.0 tfsı quattro audı exclusıve\n",
      "boyasız 4x4 2015 çıkışlı190 hp bej iç döşeme hız sabitleyici\n",
      "hatasız 2017 1.6tdi a3 sedan dnamıc\n",
      "2009 audi a5 2.7 tdi s line siyah içi taba cam tavan emsalsiz\n",
      "tertemiz audi 80 2021 vizeli\n",
      "kaçırılmayacak fırsat aracı !! düşük km servis bakımlı\n",
      "aracım hatasızdır bundan dolusu yoktur\n",
      "sahibinden yeni muayeneli yeni bakimli\n",
      "geneva motors sunroof xenon ısıtma 2.0 tdı quattro\n",
      "1985 model audi 80 1.6 dizel sıfır motor 8 km oldu motor yapila\n",
      "15000bin km de orjinal hatasız acil satilik\n",
      "kazasız boyasız tramersiz audi a4\n",
      "lion motors 2007 audi a8 long 4.2 v8 quattro s line bayi çıkşlı\n",
      "pazarlıksız son fiyat acil makyajlı kasa hatasız 170hp 78bin km\n",
      "sahibinden temiz audı a4 acil ihtıyacdan (açıklamayı okuyun!)\n",
      "temiz bakım 177 lik quadro yarı nakit yarı çek ile\n",
      "sahibinden\n",
      "memurdan boyasız audi a3 iç dış sline paket otomatik f1 vites\n",
      "sahibinden kız 2016 süper b takas düşünülür\n",
      "bayan öğretmenden hasar kayıtsız servis bakımlı a3 ambiation\n",
      "2014 model audi a4 2.0 dizel otomatik 150 hp limousine\n",
      "hız, konfor ve güvenliğin buluştuğu ilandasınız\n",
      "sahibinden 82.000 km de\n",
      "full auto'dan 2015 audi a4 177 hp sunroof deri (hatasız boyasız)\n",
      "canöz otomotiv 2009 model audi a8 q\n",
      "hatasız orjinal ambıtıon paket a3 1.6 tdı xenon led recaro f1\n",
      "acil satılık !!\n",
      "sahibinden sadece 30.000 kmde boyasız garaj arabası\n",
      "2010 makyajlı kasa bayi çıkışlı 2.0 tdı siyah içi bej full\n",
      "sahibinden audi\n",
      "2016 a7 s line 2017 trafik çıkışlı makyajlı hatasız barış,tan .\n",
      "binicisine tertemiz\n",
      "rs4 özel üretim ısıtma soğutma h.koltuk 150v priz m.perdeler\n",
      "2007 model sahibinden audi a6 2.0 tdı cam tavan\n",
      "yetkili servis bakımlı audi a4 2.0 tdı sunroof led xenon f1 177b\n",
      "bayi çıkışlı boyasız a8 4.2 tdı long quattro 350 hp v8 full full\n",
      "sahibinden 2015 çıkışlı ultra yeni kasa hatasız boyasız\n",
      "baklacı otodan 2004 model audi a 6 sedan ful 170.000 km orjinal\n",
      "sahibinden 2011 model a6\n",
      "2009 aciliyetten\n",
      "yoğun ilginize teşekkür ederiz aracımız yeni sahibini bulmuştur.\n",
      "2014 doğuş çıkışlı sahibinden bakımlı\n",
      "1995. a4 2.6 v6r\n",
      "2014, audi a3 sedan 1.6 tdi ambiente s tronic, sunroff, led, rs\n",
      "cesur oto center audi a5 coupe 2.7 tdı 190 hp içi taba\n",
      "çetinler,den 2011 model audi a5 2.0tdi değişensiz beyaz içi taba\n",
      "ihtiyaçtan acil audi a4 2.0 tdı\n",
      "kayra auto'dan 2015 audi a5\n",
      "sahibinden değişensiz audi a5\n",
      "sahibinden 2012 model 2.0 tdi kazasiz degisensiz\n",
      "2016 audi a3 1.6 tdi dynamic siyah 65.000 km hatasız\n",
      "çok uygun fiyata hatasız boyasız a3\n",
      "trnin en dolusu boyasız iç dış sline\n",
      "misano kırmızı a1 sportback 5 kapı\n",
      "hatasiz boyasiz sifir ayarinda\n",
      "kaçırılmayacak çok temiz ilk sahibinden garaj arabası !!!\n",
      "orjinal 59.100 km güzel bir araç\n",
      "98 model 1.8t audi a4 muayne yeni\n",
      "bayi çıkışlı a6 2.0 tdı quattro hatasız full\n",
      "doğuş çıkışlı servis bakımlı a6\n",
      "2010 model makyajlı 2.0tdi kusursuz led'li mmı ekran multitronic\n",
      "bu temizlikte bu fiyata bulamazsiniz.sanziman sifir yapildi\n",
      "2015 audi a3 sedan 1.6 tdı attraction 110 hp s tronic 104.000 km\n",
      "businessgarage turkıyede tek komple rs5 2.0 tfsı quattro\n",
      "tr de tek s line quattro 4x4 kyless go star stop 4 koltuk ısıtma\n",
      "orjinal s tronic 7 ileri 3 kapı tfsı\n",
      "pınar otomotiv 2013 audi a4 2.0 tdi koltuk ısıtma elektrikli\n",
      "sahibinden temiz 2014 makyajlı kasa lımousıne\n",
      "2008 audi a3 1.6 102 hp ambition paket triptronic orjinal\n",
      "2011 audi a5 iç dış s line\n",
      "çok özel paket( 8 ileri a6)\n",
      "3.0 tdi quattro 4x4 dizel otomatik 240 hp iç dış s line bayi\n",
      "sıfır ayarında a5\n",
      "audi a3 sedan ambiente 140hp 74.682\n",
      "nazar otomotivden hatasız 2016 model audi a 4 1.4 tfsi\n",
      "çelebi otomotivden 2011 2,0 tdı led li içi bej 4 koltuk ısıtma\n",
      "karma motors'dan 2008 audi a4 2.0 tdı otomatik sunroof deri\n",
      "beyaz içi taba a6 sınıfının en dolusu\n",
      "2016 audi a5 coupe 2.0 tdı quattro 2017 doğuş oto çıkışlı\n",
      "gerçek s line 36.500 km. siyah orjinal\n",
      "tertemiz sahininden tramersiz\n",
      "kahraman auto 2013 2.0 tdı a6 hatasız boyasız özel\n",
      "300hp quattro\n",
      "dünya auto' dan 1999 model auti tt 1.8 t\n",
      "audı 80 1.6 dizel\n",
      "nct auto dan boyasız hatasız audi a5\n",
      "acil tertemiz açıklama oku\n",
      "a3 sportline ,tramersiz,boyasız\n",
      "aydemirden 2018 a5 1.4tfsı design prestige deluxe hayalet navi.\n",
      "60000 bakımı yapılmış temiz audi a3\n",
      "sahibinden_ yeni nesil 190 ps motor_faturalı_orjinal\n",
      "acil acil makyajlı yeni kasa audi a4 2.0 tdı 177 multıtronik\n",
      "stella motors 2016 audi a4 2.0 tdi quattro dynamic 190 hp\n",
      "golden motors 2008 hatasız forged audi s3\n",
      "sahıbınden acıl full orj. 1.4 tfsı audı a3\n",
      "2011 model audı a5 2.0 tdi hasar kayıtsız bayii cıkışlı\n",
      "sadece motor takas veya nakit\n",
      "çok özel araba km 59 bin kırmızı özel plaka\n",
      "sahibinden satılık audi a3\n",
      "2014 model hatasız boyasız full yetkılı servıs bakımlı 177 ps!!!\n",
      "2016 audi a4 quattro design\n",
      "2013 audi a6 2.0 tdi 177 bg multitronic bayii vakum 18jant\n"
     ]
    },
    {
     "name": "stdout",
     "output_type": "stream",
     "text": [
      "2013 dizel s tronic düşük km 86000km bakımları düzenli yapıldı\n",
      "2008 audi a6 2.0 tdı f1 sanzuman multıtronıc hatasız boyasız .\n",
      "ss motors 2013 audı s8 4.0 tfsı quattro valcona carbon bose bayi\n",
      "_ea motors_2010 65binkm audı r8 v10 5.2 fsi seramik fren boyasız\n",
      "bayandan acil satilik otomatik takasa aciktir\n",
      "business otomobil tr de en uygun dizel audi a4 iç dış sline\n",
      "sel otomotivden 2011 model değişensiz a6 ev ve araç takaslı\n",
      "audi a4 b5 kasa takaslı temiz 2001 model\n",
      "2012 boya değişen yok\n",
      "ara kasa audi 80 1.6d\n",
      "fırsat aracı\n",
      "degisen yok ful dolu en ucuzu\n",
      "acil sahibinden temiz a5\n",
      "2008_audı a4_ic dıs s line_dizel_otomatık\n",
      "yaşarlar galeri farkıyla . a7 3.0 tdi quattro hatasız bayii\n",
      "sahibinden 2012 audi a6 3000 tfsi full dolu\n",
      "2012 audi a4 2.0 tdi 177 bg sanruflu tam bakımlı\n",
      "2012 model 88.200 km audi a3 sportback kazasız değişensiz\n",
      "hatasız audi a3\n",
      "petrolu unut\n",
      "efran auto'dan audı a4 2.0tdı multıtronıc 177 hp s line görünüm\n",
      "temiz audi a3\n",
      "audi a3 otomatik dizel ekstralı cam tavanlı 36000km ilk sahibi\n",
      "2011 model audı a4 1.8 120 hp multıtronıc lpg\n",
      "tertemiz araç\n",
      "star stoplu s line takas olur s line 8 ileri 2009 full lpg li\n",
      "aracımız ankadan ertugrul beye opsiyonlanmıştır\n",
      "__bosser__2008 model bayi çıkışlı audi a6 2.0 tdi 229.000 km'de\n",
      "türkiyedeki en dolu(modifiyeli) 1.9 pd komple sline 300 hp\n",
      "hatasız boyasız tramersiz audi a6\n",
      "hatasız!!! a8 long 3.0tdi quattro\n",
      "2017 audi a3 1.6 tdı 116 bg s tronic dynamic km 14.500\n",
      "audi tt eksper raporu mevcut\n",
      "orijinal hatasız çok temiz kapalı garaj arası\n",
      "uzun yolda kullanılmış garaj arabası\n",
      "emin otomotiv'den 2008 audi a6 2.0 tdi multitronic dizel otmtk\n",
      "hatasız boyasız cam tavan xenon plus navigasyon drive select\n",
      "hatasız sahibinden bayiçıkışlı f1 sunroof beyaz 2015 26binde a5\n",
      "audi 100 c3 kasa sanruflu\n",
      "2012 yeni kasa a5 dizel coupe 177 hp ( hasar kayıtlı ) dip fiyat\n",
      "mükemmel 4x4 guotro\n",
      "atak autodan hatasız 2015 177 ısıtma 81.000km sunroof\n",
      "sahibinden 2005 model manuel vites quattro sunrooflu a4\n",
      "audi 80 sedan dizel orta kasa 1983 model\n",
      "sahibinden boyasız 9500km de audi a3\n",
      "enes'ten sıfır tadında hatasız audı a4 2.0tdı quattro fırsat\n",
      "n&m autodan 2012 model audi a4 2.0 tdi ledli paket\n",
      "dizel otomatik ilk sahibinden\n",
      "2012 audi a5__2.0 turbo fsi__prins lpg__quattro bayii çıkışlı\n",
      "__umut__2015 a3 sedan 1.6 tdi boyasız camtavan led hız sab. full\n",
      "paşa motors rs5 sportback 2.0 tdı multitronic özel dizayn\n",
      "audi a4 satılık araç\n",
      "audi a4 sedan 2.0 tdı design s tronic\n",
      "anıl otodan 2010 a5 %50 peşin 12 ay vade imkani.\n",
      "2006 audı a6 3.0 tdı quattro\n",
      "yeni kasa audi a4 2.0tdi quattro sport hafıza doğuş çıkışlı nav\n",
      "audi a6 allroad quattro 3.0 tdı 2012\n",
      "2013 audi a6 2.0tdı vakum sunroof\n",
      "2015 hatasız stronıc a3\n",
      "dark auto'dan 2016 model 55binde hatasız 1.6 tdı sport lıne\n",
      "audi a4 b5 1996 model\n",
      "değişensiz boyasız hatasız a6 tramersiz 200 binde\n",
      "2017 a5 1.4 tfsı led far hafıza koltk ısıtma akar sinyal hatasız\n",
      "memurdan hatasız tertemiz a3\n",
      "2.650 km.hatasız doğuş audı a5 1.4tfsı sportback deluxe prestıge\n",
      "2010 model değişensiz audi a3\n",
      "sonax seramik kaplamalı\n",
      "değişensız 1 parca boyalı lpg'li 134 bınde orjınal\n",
      "bu konfor bu fiyata audi a 4 full full\n",
      "ilk sahibi kasım2017 trafiğe çıkışlı mtv 2019 1. taksidi ödendi\n",
      "sahibinden kazasız temiz sağlık personelinden a3 s tronık\n",
      "ilk gelen alır fiyat düştü\n",
      "sahibinden a6\n",
      "177ps , deri sunroof mevcut\n",
      "satılık araba\n",
      "özel renk a5\n",
      "çağatay auto aırmatıc cam tavan 4bölge vakum ısıtma soğutma bayi\n",
      "2015 audi a6 2.0 190hp quattro vakum navigasyon f1 sunroof\n",
      "temiz aile aracı\n",
      "sahibinden hatasız özel renk kayar led\n",
      "özgür'den 2014 '''hatasız''' audi a5 mmı sportback 2.o tdi\n",
      "2017 hatasız makam aracı a6 2.0 tfsı quattro s tronic\n",
      "osmanoğlu otomotiv audi a3 sedan cam tavan deri koltuk led xenon\n",
      "ilk sahibinden hatasız\n",
      "uygun acil satılık\n",
      "sahibinden temiz\n",
      "hasar kayıtsız servis bakımlı masrafsız dosta gider a4 sedan\n",
      "abana yapı .2015 bayi 4 4 .fırsat aracı\n",
      "acil satılık 2012 model audi\n",
      "hatasızzz boyasızzzz sahibinden fiyatı düştüüüüü\n",
      "2017 a5 guattro bayi çıkışlı\n",
      "fatih____fc den 2010 audi a6 2.0 tdı\n",
      "hatasız bayi tam dolu 2.0 tdi\n",
      "hatasız arayanlara özel\n",
      "2011 audı a8 long 3.0 tdı quattro ilk sahibinden\n",
      "carma 2007 audi a8 3.0 tdı quattro l bayi çıkışlı\n",
      "full temiz a4\n",
      "öğretmenden değişensiz hasar kayıtsız audi a3\n",
      "isoto maltepe'den audı a7 2.0 turbo fsı 252 hp bayi çıkışlı\n",
      "özel üretim modelinin en dolu paketi full full\n",
      "hiram auto\n",
      "duha motors 2012 audi a5 2.0tdı makyajlı iç dış sline bayi 177hp\n",
      "sahibinden doğuş çıkışlı hatasız a8 long quattro 92000km\n",
      "sahibinden acil satılık\n",
      "karamürsel\n",
      "mevlana auto'dan 2012 audi a6 2.0 tdı multitronic hatasız\n",
      "degişensiz boyasız otomatik a4\n",
      "emd cars'tan a6 2.0 quattro 2017\n",
      "a 5 sahibinden acil satilik\n",
      "vip oto'dan 2013 audi a5 sportback 2.0 tdı quattro bayi çıkışlı\n",
      "2015 audi a 6 2,0 tdi dış sline matrix 4 ısıtma sogutma sanruf\n",
      "2016 a6 2.0 tdı quattro doğuş çıkış 4bölge klima 4koltuk ısıtma\n",
      "2004 audi guatro\n",
      "rasyonelden 2007 audı a4 2.0tdı multıtronıc\n",
      "2008 a4 1.8t tfsı b8 f1 vites 163bg sanrouf hatasız takas\n",
      "full full_bayii_ilk el_makam aracı_audi_a8_3.0 tdı_quattro long\n",
      "audi 100 lük otomatik vites orjinal\n",
      "yer alacağım için satıyorum\n",
      "güvenden 2014 model a5 2.0 tdı quattro\n",
      "full orjinal audi a4\n",
      "2013 audı a4 2.0 tdı quattro 177 hp sahibinden çok temiz\n",
      "sorunsuz temiz bir araç\n",
      "sahibinden boyasız 2012 tdi otomatik navi full garaj arabası\n",
      "1.6 tdı ambıtıon full full\n",
      "2011 model audi a4 orjinal 143 hp s line 8 vites sanruflu full\n",
      "amerıkan versıyon audı s5\n",
      "model yükselteceğimden dolayı\n",
      "audia1 tramersiz sahibinden\n",
      "acil sahibinden hatasız a5 quattro\n",
      "2010 a4 kaza boya hasar değişen yok! orjinal. 99bin km\n",
      "sahıbınden satılık\n",
      "aydın otomotivden 2013 a4 2,0 tdi 177 hp 123,ooo orj km içi bej\n",
      "2010 model audi a3 138000 km\n",
      "sahibinden hatasız audi a5 2.0 tfsı quattro s line\n",
      "çobanoğlu otomotivden a4 2.0 tdı ( siyah kırmızı ) boyasız .\n",
      "2007 audı a4 cabrıo beyaz bordo ısıtma bose bı xenon f1\n",
      "ertemel orj 33 bin km de 2015 sonu çıkışlı sıfır gibi hatasız\n",
      "2012 audi a5 177 hp\n",
      "tt abt 320ps tertemiz sahibinden\n",
      "sahibinden audi a6\n",
      "sahıbınden kazasız sıfır hata a6\n",
      "sahibinden çok temiz 2005 audi a3 1.6 düz motor ilk el orjinal\n",
      "2013 audi a4 xenon hatasız boyasız 177\n",
      "sahibinden satılıık\n",
      "audi a4 güçlü motor, seri ve konforlu kullanım\n",
      "tr'de tek ! eşi benzeri yok !\n",
      "sahibinden full full a4\n",
      "hakan auto`dan 2013 model hatasız audi 177hp deri sunroof f1\n",
      "auto arda'dan 2009 audı a5 coupe 2.7 tdı tavan xenon 158.000km\n",
      "biniciden aile aracı böyle bakımlı ve temizi az kalanlardan\n",
      "2009 audi a3 hatchback attractıon\n",
      "a3 tdı 1.6 s tronic 2011 sahibinden (değişensiz boyasız)\n",
      "sahibinden aciilĺ\n",
      "bin bir motors dan 2012 audı a5 sporback quattro rs 5 görünümlü\n",
      "fırat oto 2011 audi a 5 2.0 tdı s line hatasız servis bakımlı\n",
      "a4 1.8 tfsi sunrooflu otomatik\n",
      "2011 audi a6 2.0 tdı 170 hp bayi çıkışlı sanroof 4 kol. ısıtma\n",
      "audi a3 1.6 tdi otm\n",
      "güleryüz'den 2015 audi a4 2.0 tdi multitronic\n",
      "a3 seri lpg li sanrouf lu süper porformanz\n",
      "öğretmenden 2014 a3 kazasız boyasız cam tavan hariç full paket\n",
      "sahibinden sigara içilmemiş değişensiz hatasız dizel otomatik a3\n",
      "hatasız boyasız a3 otomatık\n",
      "acil 2015 rs5 body audi a5 coupe 2.0tdi 190bg doğuş çıkışlı\n",
      "orjinal km orjinal tertemiz\n",
      "sahibinden audi\n",
      "seyyal otomotiv'den 2010 audi rs6 v10 quattro kusursuz.\n",
      "sahibinden audi a8 4.2 quattro\n",
      "sunroff 177beygir f1 3kol hız sabitleyici hatasız boyasız !!!\n",
      "sahibinden temiz a5 full araç\n",
      "audi a 6 2.0tdi sline black paket matrix led doğuş çıkış hatasız\n",
      "speed 2012 audı r8 4.2 quattro r tronic doğuş çıkışlı hatasız\n",
      "acıl sahibinden hatasız boyasız audı 2013 quattro\n",
      "sahibinden hatasız a5 quattro\n",
      "acil satlık a4\n",
      "2011 audi a4 2.0 tdi multitronic sunrooflu siyah içi bej deri\n",
      "gerz otomotiv`den 2007 audi a6 2.0tdı multitronic 140hp\n",
      "sahibinden a3 1.4 tfsi\n",
      "duru'auto'dan 2012 model audı a6 2.0 tdı vakumlu kapı led stop\n",
      "panoramik cam tavanlı 2010 a3 1.4 tfsi\n",
      "ilkim den audi s3 2.0 tfsi quattro 285 hp sunroof hatasız bayii\n",
      "ss motors 2014 rs6 4.0 tfsı quattro bang & olufsen seramik doğuş\n",
      "sahibinde sline\n",
      "sahibinden acil satılık tramersiz değişensiz audi a6 quattro\n",
      "mercedes benz certıfıed bayraktarlar merkay 2015 audi a6 3.0tdi\n",
      "cemal can'dan 2017 audi a3 1,6 tdi sport line sıfırdan farksız\n",
      "asel otomotiv 2011 audi a5 sportback 1.8 tfsı 160hp led içi taba\n",
      "5 kapı temiz audi\n",
      "bayii çıkışlı multimedyalı tam dolu orjinal garaj arabası .!!!\n"
     ]
    },
    {
     "name": "stdout",
     "output_type": "stream",
     "text": [
      "sahibinden audi a6 qattro\n",
      "s line benzersiz 2005 full full lasrikler yani michlen prevency\n",
      "nazlı motors . a4 quattro sunroof f1 cruze control led\n",
      "s line audi a3\n",
      "audi a4 2013 dizel boyasız 177 hp füme\n",
      "kırmızı s line otomatik a3 2014 lımousıne hasarsız\n",
      "ilk sahibinden 177 bin km'de\n",
      "hancar 2013 a7 3.0tdı quattro hafıza paket ısıtmalı 4 kltk doğuş\n",
      "sıfır audi\n",
      "acıl satılık a4 2.0 tdı\n",
      "feyker group'tan .2011 audı a6 2.0 tdı siyah içi krem .orjinal\n",
      "cihan motors dan 2013 audi a4 deri ısıtma 177 hp sunroff boyasız\n",
      "ilk sahibinden\n",
      "satılık audi a6 2,0\n",
      "2012 audı a5 sportback 2.0 tdı quattro sunroof kazasız 87.000km\n",
      "hatasız değişensiz orjinal\n",
      "furkan oto'dan tr'de tek s3 cabrio quattro panther black\n",
      "ss motors 2013 audı s5 coupe 3.0 tfsı quattro 27.858km doğuş\n",
      "audi a4 combi alman tankı\n",
      "beyazıt autodan audi a6 2.0 tdi\n",
      "bankacı bayandan km'si düşük 2011 audi a3\n",
      "buya'dan hatasız boyasız quattro matrix navhafıza elk bagj vakum\n",
      "hatasız boyasız hasar kayıtsız numara 0541 461 51 51\n",
      "baday2 yetkili bayii audi a4 2.0 td limosine multitronic hatasız\n",
      "hatasız boyasız kırmızı s tronic a3 otomatik\n",
      "audi a3 1.6 tdi s tronic boyasız 44.000 km cam tavan xenon far\n",
      "audi a5 2.0 tdı sportback 2012 model takaslı\n",
      "2012 kusursuz a4 2.0 tdı\n",
      "emd cars'tan a6 2.0 quattro 2017\n",
      "doğuş çıkışlı 0 km audı a7 5o tdı 2018\n",
      "audi a4 2000 model 1.8 125bg tutulan düz motor kazasız muayer\n",
      "ilk sahibinden, hatasız, tramersiz, boyasız audi a3 (doktordan)\n",
      "sahibinden nokta hatasız sport deluxe\n",
      "akademisyenden masrafsız düşük km sunrooflu\n",
      "2014 cam tavan led otomatık 88000 km dizel\n",
      "audi a4 cabrio sline\n",
      "auto daştan a5 quatro\n",
      "sahibinden tfsi quattro edition hatasız, orjinal ek 19jantlı\n",
      "satılık sorunsuz guattro\n",
      "karaca otomotiv'den 2011 a5 sportback 2.0 tdı deri sunrof zenon\n",
      "a4 tfsı, 23000 km de hasarsız.\n",
      "emsalsiz temizlikte 8 ileri 160 beygir\n",
      "temiz orjinal a6\n",
      "boyasız 2017 bayi audı a4 1.4 tfsı design sunroof geri görüş\n",
      "2011 model iç dış s line tv navigasyon takas olur\n",
      "hş motors'dan a3 sportback 1.6 tdı att. s tronic hatasız boyasız\n",
      "2014 audi a3 ambiente 1.6 tdı otomatik cam tavan xenon\n",
      "2012 audi a7 3.0 tdi quattro hatasız yetkili servis bakımlı\n",
      "audi a5 sportback\n",
      "aslan motors audi a6 limousine beyaz içi taba 119.000km\n",
      "2013 yeni kasa 1.6 tdı otomatik sunroof 133 binde\n",
      "akdeniz 2007 audi a3 1.6 otomatik lpgli kırmızı\n",
      "sahibinden boyasız led paket 2015 audi a3 sedan\n",
      "full orijinal auidi\n",
      "sahibinden a4 otomatik 1.9 tdı\n",
      "2012 audi a4 2.0 tdı multitronic makyajlı kasa hatasızz\n",
      "köroğlu motors'dan audı a5 2.0 turbo quattro boyasız trmrsz bayi\n",
      "sahibinden lpg'li temiz 4 çeker 1997 model a6 quattro\n",
      "audi a3 a3 sportback 1.6 benzin lpgli sunrooflu\n",
      "kusursuz hafızalı kayar led deluxe prestige paket ekstra dolu\n",
      "2011 audi tt 130.000 de\n",
      "sahibinden 2017 nisan yeni kasa a3 1.6 tdı sedan design line\n",
      "autoland'den 2015 a4 2.0tdı 177hp 110bin kmde\n",
      "2015 audı a5 sportback 2.0 tdı deri sunroof %1.75 kredi imkanı\n",
      "sahibinden a3 attraction modeli 2006 kasa temiz araç yetişenalır\n",
      "atioğlu 2007 audi a6 2.0 tdı multitronic 140 hp deri ısıtma\n",
      "tank gibi arac\n",
      "1993 model b4 kasa audi 80\n",
      "doğuş çıkışlı audi a6\n",
      "auto cıty den hatasız 2011 audı a5 tamamına kredı ımkanı\n",
      "2014 model dizel hatasız 127.000 km'de multitronic beyaz\n",
      "ekonomi ve prestij bir arada\n",
      "2004 audi s8 doğuş çıkışlı daha dolusu yok\n",
      "hatasız boyasız\n",
      "bakimlari yapildi trigeri seti degisti.km orj.\n",
      "sahibinden kusursuz quattro\n",
      "yeniköy motors 2013 audı a8 3.0 tdı long quattro soğutma bayi\n",
      "kervan 2014 dizel otomatik audi a1 1.6 tdi 54.000 km'de\n",
      "cam tavan xenon led deri geri görüş 17''jant full özel sipariş\n",
      "2014 audi a3 sedan ambiente s line 1.6tdı 110hp 80.000km'de\n",
      "sahibinden çok temiz a4 sport\n",
      "sahibinden hatasız boyasız\n",
      "galeri mavi yeşil den audı a8 long 3.0 tdı quattro\n",
      "kuzey motors quattro 3.0 tdı extra full\n",
      "bayi 2018 audi a5 2.0tdi quattro s tronic prestige deluxe hatasz\n",
      "komple bakımlı makyajlı a5 quatro 211 beygir\n",
      "sahibinden servis bakımlı a6\n",
      "emsalsiz temizlikte\n",
      "bdy group a.ş. 2016 audı a5 2.0tdı quattro 190hp 54binkm'de bayi\n",
      "hatasız boyasız sunrooflu\n",
      "audı a6 slıne tv dahıl sahıbınden\n",
      "makyajlı kasa 2009 bakımlar yeni\n",
      "ilk sahibinden audi a3 sedan sport line\n",
      "500 tl masrafı var\n",
      "ulus motors 2012 audı a8 3.0 tdı quattro long 95.000 km bayı\n",
      "audi quattro tts , 272 hp, 44 bin km\n",
      "kazasız boyasız değişensiz led paket a1\n",
      "öğretmenden temiz bakımlı otomatik 1.6audi a3 benzin lpg\n",
      "sahibinden çok temiz a3 sedan\n",
      "2012 model a 4 all road quattro boyasız\n",
      "hazar otomotiv'den 2011 audi a6 2.0 tdı\n",
      "galeri kemal'den 58000km'de kusursuz temizlikte audi a6 2.0tdı\n",
      "vıp auto'dan boyasız hatasız audi a7\n",
      "orjinal boya orjinal döşeme masrafsız temiz\n",
      "audi a5 sportback kazasız\n",
      "'ea motors' dan audi a6 2.0tdi quattro\n",
      "tamamına kredi 2015 audı a4 2.0tdı 150hp joystıck plus navigasy\n",
      "ilk sahibinden aldım orjinal audi 80 1.8 s\n",
      "meydanoto'dan 2015 audi a3 sedan 1.6 attraction s tronic boyasız\n",
      "garaj arabası. acil ! full paket audi a3\n",
      "boyasız cam tavan recore 3kol direksiyon 100 binde ilk el full\n",
      "bayi çıkışlı\n",
      "2017 hatasız, boyasız full full audı a5\n",
      "sahibinden tramer kayıtsız hatasız a5\n",
      "sahibinden yeni kasa mmı 55.000 km kazasız design line s tronic\n",
      "ilk sahibinden değişensiz servis bakımlı a5 2.0 tfsı quattro\n",
      "2016 boyasız kazasız audı a3 sportback dynamıc s tronıc\n",
      "2013 audi a4 2.0 tdi 177 hp multıtronıc servis bakımlı 66.000km\n",
      "2017 model 15 binde quatro\n",
      "hatasız nadır temızlıkte\n",
      "kayseriden bakımlı audi.a.6 2000 tdi otomatik f.1 sanjuman\n",
      "3.0 tdi quattro full full sahibinden\n",
      "sahibinden satılık temiz araç\n",
      "audi a4 sedan2.0 tdı\n",
      "a3 sportback 1.6 tdı attraction s tronic 2014 58.000 km\n",
      "2014 bayii boyasız a8 long 3,0 tdi cam tavan media tam dolu\n",
      "ssa motorsdan audi a5 otomatik 2011 ful ful\n",
      "audı a4 b9 kasa sanroof zenon led ısıtma 58000 km son fiyat !!!\n",
      "audi a3 ambition 19.500km sunroof(cam tavan) xenon led stop\n",
      "oto club,den 2015 a5 sportback 2.0 tdı quattro s tronic hatasız\n",
      "acil satılık 2011 audi a6 2.0 tdi 170 hp sunroof led mmı ısıtma\n",
      "hakkı oto'dan 2011 yenı kasa 3.0 tdı quatro\n",
      "2017 model dızel otomatık audı a3 dynamıc yenı kasa 17.000 km !\n",
      "talha'dan 2016 audi a4 sport hayalet nav matrix kayar led full\n",
      "merkez autodan hatasız boyasız airmatic dış s line bayi çıkışlı\n",
      "beyaz güvercin tr de tek\n",
      "paşalar'dan boyasız_34 bin km_1.6 tdi sportbck_cam tvan_bi xenon\n",
      "2014 audı a6 2.0 tdı 142.000 km.de beyaz renk fuul dolu bayi\n",
      "audi a3 dynamıc 2017 hatasız boyasız\n",
      "müfettişten kazasız hatasız boyasız değişensiz\n",
      "2012 audi a4 2.0 tdi 177 hp tam dolu paket servis bakımlı\n",
      "temiz masrafsız a4\n",
      ".2007 .audi a6 .2.0 tdi tiptronic vites sunroof lu\n",
      "2015 doğuş audı a5 2.0tdi sunroof boya h.kaydı yok ilk kullanıcı\n",
      "ugr motors 2004 audı a8 3.0l emsalsiz doğuş bakımlı prins lpg'li\n",
      "boyasız 2016 audi a3 ambition cam tavan xenon led katlanır\n",
      "aracımızın kaporası alınmıştır\n",
      "hakan galeriden audi a4 boyasiz hatasiz ful full\n",
      "sahibinden s tronik değişensiz bakımları tam\n",
      "burmot 2010 audi a5 cabrio s line 1.8 tfsi bang & olufsen\n",
      "ny motors cam tavan geri görüş hafıza koltuk ısıtma\n",
      "1982 audi 80\n",
      "erdemoğlundan audi a6 2.0tdı\n",
      "2012 audi a6 2.0 tdı hatasız boyasız sunroof vakum şok şok şok\n",
      "fiyatı düştüüüüü 85.000 km tertemiz kazasız boyasız\n",
      "sahibinden doğuş sıfır ayarında 2017 quattro sportback s tronic\n",
      "___sahibinden 74 binde 2012 a3 sportback paket dizel otomatik___\n",
      "acil acil.??\n",
      "sahibinden satılık\n",
      "2013 a5 2.0tdi iç dış sline doğuş çık recaro özel spariş boyasız\n",
      "acil satılık dostaa gidecek araç\n",
      "güzel otomotiv'den hatasız 2.0 tdı quattro audı a5\n",
      "degisensiz orjinal tum bakimlari yapilmis a3\n",
      "2015 model s line en fulll paket cam tavan ici dışı tertemiz\n",
      "audi 2007 model\n",
      "byz grouptan 2008 audi tt bayii 90 binde\n",
      "sahibinden temiz bakımlı dizel otomatik\n",
      "murat izci auto'dan audi 80 1993 model 2.0\n",
      "elegance cars 2015 audi s8 4.0 tfsı matrix bang & olufsen sound\n",
      "audi a4 limousine 2014 177beygir navigasyonlu türkçe menü bayii\n",
      "2012 model audi a4 145000 de orjinal\n",
      "sahibinden tertemiz 2008 model audi\n",
      "sahibinden a4 2.0 tfsı triptonic quattro s line\n",
      "sahibinden 2012 a5 2.0 tdı coupe\n",
      "sahibinden a3\n",
      "orjinal audi a4 hastasına\n",
      "a6 2.7 t quattro\n",
      "değişensiz bakımlı acill satılık takas olur\n",
      "audı a6 3.0 tdı quattro vakum ısıtma hafıza 101.000 km de\n",
      "temiz otomotiv\n",
      "aracın ilk sahibinden 28.000km çok temiz a6 quattro\n",
      "değişensiz 3 bin a5 quattro yer uçağı meraklısına emsalsiz\n",
      "temiz audi a6 0 ayarında\n",
      "şok şokkk şokkk\n"
     ]
    },
    {
     "name": "stdout",
     "output_type": "stream",
     "text": [
      "hasözler den sanroof lu 177 hp a4 dizel ısıtma_start stop\n",
      "sahibinden 1.4 tfsı desıng\n",
      "2014 model audi a3 1.6 tdı s tronic ambiente boyasız hatasız\n",
      "2017 audi a5 sportback 1.4 tfsı sport 150 hp.hatasız 20500 km.\n",
      "2004 model audi a6 2.7 bit quattro triptronnic lpg'li\n",
      "2017 model 11. ay çıkışlı, 25bin km, a3 sedan\n",
      "akser motors 2017 audi a5 1.4tfsi sport elktrkli bagaj\n",
      "2016 audi a4 1.4 tfsi dynamic 66.000km sunroof led koltuk ısıtma\n",
      "kaporası alınmiştir ilginizden dolayı teşekkürler atmaca car\n",
      "temiz audi 2014 kasım çıkışlı\n",
      "ortaklar auto'dan 2015 audi a3 sedan ambiante cam tavan deri kol\n",
      "3.0 v6 manuel\n",
      "2014 audi a5 sprtback 2.0 tdı 177hp sanruf k_ayna içibej tv nav\n",
      "2012 audi a6 2.0 tdi 177 hp yetkili servis bakımlıdır full full\n",
      "2011 model a7 3.0tdı bayi hatasız boyasız fulll\n",
      "audı a5 tramer yok bayi ekstralı\n",
      "sahibinden hatasız boyasız km orjinal\n",
      "sahibinden orjinal hatasız full full masrafsız a5 quattro\n",
      "'x clusive' 2017 audi a5 sportback 1.4 tfsı taba deri bakımlı\n",
      "hatasız boyasız sahibinden audi a6 full\n",
      "sahibinden makyajlı kasa\n",
      "eska auto' dan 2014 audı a4 2.0 tdı 150 hp joistik led_xenon\n",
      "sahibinden doğuş çıkışlı hatasız a6 quattro 272hp 75000km\n",
      "sahıbınden sıfır ayarında a3\n",
      "2015 audi a3 1.6 tdı ambition, xenon, cam tavan\n",
      "güneydoğudan audi a3 camtavanlı 1.6 dizel dsg 05324628507\n",
      "audi a5 ic dis s line\n",
      "acil sahibinden sadece 49 binde doğuş çıkışlı a3 1.6 tdi sedan\n",
      "bakırköy'den 2013 audi a5 2.0 tdı quattro s line sportback boysz\n",
      "hatasız boyasız acill\n",
      "temiz bakımlı 2011 audi a4 dizel\n",
      "sahibinden satılık audi a4 dizel\n",
      "audi a3 sportback 1.6 tdı, iç dış s line, recora koltuk\n",
      "memurdan 2012 a3 dizel otomatik 124.000 km de\n",
      "hatasız boyasız tramersiz audi a5\n",
      "temiz biniciye güzel araç\n",
      "doğuş çıkışlı yeni kasa 2011 audi a6 3.0 tdi quattro s line\n",
      "galeri modadan temiz 2013 a6\n",
      "2012 audi dizel otomatik yeni kasa\n",
      "black motors 2011 audi a8 3.0 tdı quattro bayi çıkışlı\n",
      "a3 sportback 1.2 turbo fsı 110 hp ambiente s tronic 2016 subat\n",
      "temiz ve güzel saklananlardan. 82 audi klimalı araç 1.600 motor\n",
      "gemileri karadan yürüttüğümüz doğrudur\n",
      "görülmeye değer alman tankı\n",
      "sıfır ayarında\n",
      "öz alançlar' dan 2015 ultra audi a6 vakumlu kapı\n",
      "sahibinden doğuş çıkışlı bakımlı\n",
      "2008 audı tt 2.0 tfsı acil\n",
      "71bin kmde temiz a3\n",
      "bin bir motors dan 2018 audi a5 1.4 tfsi sportback prestij delux\n",
      "hatasız 2014 audı a3 sedan 1.6tdı ambıente s tronıc xenon cruıse\n",
      "tertemiz a4 hatasız\n",
      "mostar,dan audi a4 2.0 sedan multitronik otomatik vites lpg,li\n",
      "coşkun otomotivden değişensiz tramersiz a6 2.0 tdi multitronik\n",
      "oto stepden 2010 a6 3.0 tfsı quattro\n",
      "akkuş'tan audı a6 dizel otomatik sunroof ısıtma deri bı xenon !!\n",
      "d&m motors dan audi a4 full yetkili servis bakımlı full full\n",
      "hata kusur yok,\n",
      "satılık audi a5 takaslı\n",
      "a5 sportline prestige deluxe paket\n",
      "2014 model audi a6 2.0 dizel automatik 177 ps vakum perde f1 ful\n",
      "ilanda böyle yok\n",
      "2017 audı rs6 performance bayii çıkışlı hatasız\n",
      "çok temiz sahibinden audi\n",
      "hatasız 2012 audı a3 sportback 1.6tdı otomatık\n",
      "ilk sahibinden, 2009 audı r8 4.2 quattro r tronıc\n",
      "sahibinden satılık audi a6 2.0 tdı 177 hp\n",
      "2005 model a4\n",
      "sahibinden a3 sportback 1.0 tfsı dynamic s tronic 0 ayarında\n",
      "yıldızlardan 2010 audı a6 2.0 tdı multıtronıc\n",
      "emsalsız 2011 otomatık a4\n",
      "2007 model otomatik a3\n",
      "2012 audi a6 177 hp doğuş çıkışlı\n",
      "haluk auto 2016 model a3 sedan hatasız boyasızzzz\n",
      "sahibinden tramersiz a3\n",
      "acil yeni kasa quattro design s tronic 190 ps\n",
      "2011 audı a4 2.0 tdı otomatik tam dolu bang olfsen sunroof\n",
      "sahibinden 2011 model\n",
      "aracımızın kaporası alınmıştır ilginize teşekkür ederiz\n",
      "audı a4 .\n",
      "sahibinden 177hp değişensiz boyasız a4\n",
      "halim otomotiv .2013 audi a6 sedan 2.0tdı hatasız boyasız bayii\n",
      "hatasız 2014 a1 sahibinden\n",
      "bu fiyatta başka yok 2015 model audi a4 2.0 tdi 177 ps\n",
      "ful ful servis bakımlı sanruf orta konsol multimediya bej deri\n",
      "go car 2010 audı a5 2.0tfsı quattro slıne cam tavan bayi\n",
      "audı 100 statıon vagon 2.6 acıl satlıktır\n",
      "ertemel den sadece 33 bin km de 2015 sonu çıkışlı\n",
      "2012 model audi a3\n",
      "yarı peşinle taksit seçenekli otomatik 1.6 masrafsız 2011\n",
      "tr de tek 2000 dizel otomatik sadece 109 kilometredee\n",
      "%35peşinat 36 ay senetle audi a5\n",
      "öğretmenden hatasız arayana lımusıne quatro\n",
      "audi a6 tdi, orijinal, full dolu, vakum, elt. bagaj,\n",
      "64.427 km doğuş 2016 a3 sedan 1.6 dizel kırmızı ambiente hatasız\n",
      "ruhsat sahibinden\n",
      "osmanlı otomotiv'den bayii çıkışlı audi a5 makyajlı kasa\n",
      "a 6 20 tdı 2006 model\n",
      "boyasız 2018 model audi a3 1.6 tdi 116hp cam tavan matrix led\n",
      "2015 model tüm bakımları yapıldı lastikleri sıfır michelin\n",
      "karadeniz otomotiv bursadan a4 177hp sunrooflu a4\n",
      "ms car'dan 2011 audi a6 3.0tdı quattro deri ısıtma sunroof\n",
      "jet otomotivden satlık tertemiz bakımlı masrafsız audi a6 2008\n",
      "ikinci sahibiyim makyajlı kasa 20 cant rs görünümlü\n",
      "kozan&evren\n",
      "sahibinden satılık temiz audi a6 195binde\n",
      "hatasız metalik beyaz full a6 lıımuzın sahıbınden\n",
      "elıte auto 2015 bayi s8 4.0 tfsı quattro 21j 31.668km hatasız\n",
      "ss motors 2018 audı s3 2.0tfsı quattro arablue crystal 33km bayi\n",
      "temiz bakımlı\n",
      "araç cuma gününe opsiyonlanmistir\n",
      "2012 hatasız boyasız\n",
      "yusuf duran'dan2007 audi a3 1.6 ambiente otomatik lpg f1 vites\n",
      "2018 audı a5 1.4 tfsı s lıne_hayalet_navi_ısıtma_hafıza_hatasız\n",
      "rasyonel'den 2018 audi a6 quattro edition 190 hp bayi boyasız\n",
      "2017 a6 quttro 2.0 tdi full full\n",
      "ful ful sanruf hariç\n",
      "2012 beyaz ekstalı hatasız araç arayanlara\n",
      "sahibinden satılık 2012 model 2,0 tdi sedan a6 acilll!\n",
      "2012 hatasız iç dış s line\n",
      "sıfır ayarında full full prestige delüx paket\n",
      "2016 doğuş 10.000km a8 2.0tfsi quattro masaj buzdolabı sideassit\n",
      "cebeci otomotivden audi a8\n",
      "audi a4 2.0 tdi\n",
      "sahibinden dizel hatasız a3 ambition .\n",
      "yeni kasa a3\n",
      "sahibinden satılık tertemiz audi a4\n",
      "audi a6 nın en güzel hali\n",
      "2015 model a3 otomatik 128000kmde\n",
      "ihtiyaçtan acil satılık audi a4\n",
      "audi a6 güçlü ve konforlu\n",
      "çağdaş'tan 2015 audi a4 2.0 tdı 150 ps\n",
      "doğuş çıkış matrix vakum keylesgo bagaj 4 ısıtma boyasız hatasız\n",
      "s lıne 23.000 km hatasız hayalet navigasyon hafızalı koltuk\n",
      "ruhsat sahibinden boyasız değişensiz orj. 7 stronik dizel otomtk\n",
      "mazzını doğuş çıkışlı s line cam tavan boya değişen yok\n",
      "##### 2 günlük fiyat son######\n",
      "audı a4 sedan 2.0 tdı multitronic hatasız ilk sahip\n",
      "sahibinden 4 4 full paket acill\n",
      "sahibinden satılık hatasiz 2011 audi a6 multitronic\n",
      "2015 model bakımlı ful orijinal\n",
      "audi a5 1.4 tfsı sport deluxe prestige paket\n",
      "orjinal kazasız boyasız bayi\n",
      "sahibinden temiz düşük km lpg\n",
      "acill satılık audi a3 1.6 tdı air'li xenon far s line s3 görünüm\n",
      "askeri personelden temiz araç\n",
      "2011 model audi a5 coupe 1.8tfsi otomatik doguş çıkışlı\n",
      "2010 model 125.000 km de iç dış s line full full 2.0 quattro\n",
      "sahibinden 2016 quatrro boyasız bayi çıkışlı perde vakum 4x4\n",
      "memurdan temiz audi a4\n",
      "doğuş çıkış a5 coupe s line paket özel sipariştir boyasız hatsız\n",
      "düşük km temiz\n",
      "2015 model audi a4 otomatik dizel şentürk oto hyundaiden\n",
      "tk motorlu araçlardan audi a4 112.000 km de orjinal\n",
      "sport s line 2.0 tfsı 252ps quattro hatasız\n",
      "autoseçkin'den 2016 audi a6 2.0 tdı quattro bayi çıkışlı !!\n",
      "2016 sahibinden süt beyaz orjinal 65.km hatasz boyasız tramersiz\n",
      "serhat otomotivden audi a3 iç dış sline\n",
      "1996 model audi a 4 1.8 benzin lpg\n",
      "ilk el bayi çıkışlı 2013 audi a8 3.0 tdı quattro long tam dolu\n",
      "tr'de tek 85 binde değişensiz hasar kayıtsız otomatik audi a4\n",
      "acil özel üretim audi s8 4.2 quattro long bayii 420hp\n",
      "kırmızıtoprak motors a5 makyajlı ahsap içibej fulözelistek ful f\n",
      "sahibinden 2017 mayıs çıkışlı 2 2 garantili matrix far\n",
      "elegance'dan 2017 a5 1.4 tfsi sport prestij deluxe pkt. hatasız\n",
      "sahibinden a6\n",
      "emsalsiz ambiente\n",
      "kahriman dan sunroof lu otomatik audı a4 2006 2.0 tdı\n",
      "2014 model audı a5 sportback 2.0tdı 177bg zahmacıoğlu otomotiv\n",
      "eski servis müdüründen audi\n",
      "13.900 km sıfır ayarında nokta hatasız özenle kullanılmış\n",
      "es garage''den 2006 audi a3 1.6 102hp otomatik 140.00km\n",
      "ibrahim tankut otomotiv'den 2017 a4 16.000 km matrıx led far\n",
      "gim auto galeriden\n",
      "memurdan satılık takas olur\n",
      "garage24 'den audı a5 dızel düşük km sportback değişensiz\n",
      "ihtiyaçtan acil satılık\n",
      "tuncer otomotivden a3 1.4tfsi stronic ledli\n",
      "2012 audi a4 2.0 tdi otomatik sunroof lu. hatasız.\n",
      "masrafsız, değişensiz, full bakımlı a6\n",
      "darbesız boyasız degısensız a3 2016\n",
      "audi a4 design hayalet ekr navigasyon sistemi\n",
      "hatasız (2013 trafik çıkışlı) a6 2.0 tdi iç dış s line plus\n",
      "ran motors 2015 audi rs6 avant 4.0 tfsi abt quattro bayi\n"
     ]
    },
    {
     "name": "stdout",
     "output_type": "stream",
     "text": [
      "ilk sahibinden sadece 28.200 km'de tertemiz quattro limousine\n",
      "ilk sahibinden hatasız boyasız çok temiz expertiz garantili\n",
      "satılık a6\n",
      "2013 model audi a1 sport turbo paket 110.000 km de\n",
      "acil satılık\n",
      "gkc motors audi a5 cabrıo quattro s line özel sipariş hatasız\n",
      "ilk sahibinden 2015audi a3 sedan tdı ambiente full paket 0 hata\n",
      "otokobi 2012 a8 long 3.0tdı quattro bayi %18kdv %0,84 kredi\n",
      "planet 1992 audi 100 serisi türkiyede tek 53.000 km otomatik\n",
      "orjinal s line bi zenon far\n",
      "audi tt rs görünüm iç dış s line\n",
      "sıfır ayarında a3\n",
      "oynanmamis kazasiz boyasiz s3\n",
      "sahibinden hatasız özel\n",
      "rng autodan 2015 hatasız audi a4\n",
      "2015 audi a5 qatro full temiz bakımlı\n",
      "vitrin 2014 audi a8 4.0 tfsi quattro bayi\n",
      "hatasız boyasız tertemiz audi a1 1.6 attraction\n",
      "lina otomotiv 2008 audi s3 forged motor 150.000 km.\n",
      "sıfır tadında kaçırma üzülürsün\n",
      "hayalet ve sınıfının en dolusu\n",
      "2013 hatasız boyasız a5 sportback 2.0 tdı multitronic\n",
      "sahibinden a3 seda dizel otomatik\n",
      "2010 model audi a4\n",
      "sahibinden temiz 2009 a6 2.0 tdı 140 hp\n",
      "2015 hatasız\n",
      "145 binde lpgli hız sabitleme 2021 muayene ağır bakımları yapılı\n",
      "2014 audi a4 2.0 tdı 177 beygir hatasız kazasız\n",
      "ilk sahıbınden audı a6 2.0 tdı quattro\n",
      "boyasız hatasız 2015 audi a4 190 hp\n",
      "2012 a3 ambition sportback full\n",
      "sıfırdan farksız a4 1.8 tfsı otomatik hatasız boyasız 33'000km\n",
      "acil !! hatasız,sıfır tadında sahibinden\n",
      "sahibinden 69 binde 2015 model 177'lik audi a4\n",
      "ali özen otomotivden audi a5 1.4 tfsi sport s tronik delux\n",
      "mlh a5 quattro 19 jant\n",
      "b5 s4 avant\n",
      "sahibinden\n",
      "orjinal düzgün masrafsiz audi nin babasi a6\n",
      "2010 model 2.0 quattro full full iç dış s line sunroof\n",
      "2002 a4 guatro 1.8 turbo acil ihtiyaçtan satılık\n",
      "enzo motors 2012 model audi a6 limousine 3.0 tdı quattro\n",
      "tertemiz ilk sahibinden\n",
      "full full cam tavanlı bayan okul müdüründen\n",
      "2012 model 2.0tdi multitronik vakum hafızalı doguş cıkışlı full\n",
      "bayi hatasız airmatic headup soğutma bose vakum şerittakip\n",
      "ümit auto'dan 2015 audı a4 1.4 tfsı.deri.xenqn.ktl ayna.geri grş\n",
      "2011 158.000 km'de 2.0 tdı a5 sportback sunroof 18jant ısıtma\n",
      "audi a6 quatro s tronic\n",
      "audi tts 2.0 310 ps 22.000 km ilk sahibinden\n",
      "2008 model audı a4 2.0 tdı f1 vites orjınal 157.000km\n",
      "hatasız orjinal\n",
      "kapora alındı. 2011 quattro\n",
      "yumurta kasa tavan açılır fırsat aracı\n",
      "istanbul otomotivden 2015 a4 2.0 tdı 177lik\n",
      "audi a5 özel renk\n",
      "audi a7 3.0 tdi quattro bayi vakum airmatic full full\n",
      "2016 model audi a4 1.4 tfsi 150hp sport\n",
      "hatasız a4\n",
      "2010 a5 2.0 tfsi quattro rs5 body kit\n",
      "ege otomotivden 2010 model audi a5 yekili servis bakımlı\n",
      "acill doğuş çıkışlıdır\n",
      "2014 şubat çıkışlı a3 sedan\n",
      "audi a6 2.8 sıfır ayarında\n",
      "sahibinden 2014 a4 limousine paket 82 bin km de 177 hp bixenon\n",
      "sahibinden a8 quattro 2007\n",
      "öğretim üyesinden, çok temiz, problemsiz, otomotik, hatasız a3\n",
      "audı a4 tdı\n",
      "2015 trafik çıkışlı darbe boya yok tertemiz\n",
      "savaşan autodan 2015 model ful ful audi a 3 cam tvn 70binde\n",
      "boyasız 2008 model 210.000 kmde audi a6\n",
      "hatasız. 2014 audi a6\n",
      "audi yetkili bayi acarsandan 2015 a7 3.0tdı quattro iç dış sline\n",
      "sahibinden hatasız boyasız a4 cam tavan\n",
      "2016 audi a6 boyasız hatasız servis bakımı sıfır ayarında\n",
      "2015 audi a5 2.0 tdi quattro 190 hp bayi çıkışlı ilk el\n",
      "eminali autodan hatasız kusursuz quatro audi 177 s tronic\n",
      "ihtiyactan dolayı satılık otomatik a6\n",
      "bayram auto 2016 audı a3 1.6 tdı dynamıc xenon led far\n",
      "askeri personelden 2005 model audi a4 2.0 otomatik acil\n",
      "a5 hatasız degişensiz hasar kayıtsız acil\n",
      "ertemel group'tan 2012 audi a8 3.0 tdi quattro long 250 bg bayi\n",
      "orjinal 58.500 km de orijinal audi a3 ambiante kazasız\n",
      "2018 a3 sedan sıfır ayarında boya,değişen kesinlikle yoktur\n",
      "sahibinden audi ambition paket orjinal a3\n",
      "and motors 2017 a4 sedan dynamıc s tronıc boyasız 26.000 km\n",
      "sahibinden hatasız boyasız kazasız audi a6 sedan dizel\n",
      "sıfır gibi hatasız a 5 coupe\n",
      "full orijinal enjeksiyonlu 133 binde hasarsız\n",
      "2013 audı a5 tdı sportback tam full doğuş çıkışlı siyah siyah\n",
      "2013 model bayandan düşük km`li temiz çift renk a1\n",
      "audi a1 s line 1.6 tdi attraction, bordo gri çift renk masrafsız\n",
      "0,99 kredi 2011 a1 1.4tfsı attractıon s tronıc xenon, çift renk\n",
      "2o13 audi a.4 2.0 tdı 177 beygir sunroof,xenon,bej deri,k.ayna\n",
      "sahibinden özel plakalı 2004 otomatik a3 coupe\n",
      "sahıbınden 2018 a3 1.6tdı desıgn lıne 17binde tramersiz\n",
      "riva autodan siyah inci\n",
      "acil satılık hatasız boyasız full modeli\n",
      "sahībīnden deĝīşensīz a4 87bīn km de\n",
      "sahibinden satılık audı a3 1.6 tdı sedan\n",
      "2016 yeni kasa a3 sedan 1.6 tdi 110 hp design line s tronic\n",
      "sahibinden 2004 audi a6 tdi dizel otomatik\n",
      "kahraman auto 2011 dizel hatasız otomatik özel\n",
      "ens motors 2015 audi a5 2.0 tdi 190hp garantili emsalsiz\n",
      "sahibinden 2012 model s lıne vakum multi medy ısıtma sunroof\n",
      "carvento audi a4 sedan 1.4 tfsı dynamic 150hp 32.000km'de\n",
      "acil sahibinden bayi sunroof bix enon deri ısıtma bangololufsen\n",
      "memurdan temiz alman tankı\n",
      "sahibinden şbt 2018 dğş çıkışlı 12500km 1.4 tfsi desıgn gmş gri\n",
      "ulus motors 2016 audı a5 sportback 2.0 tdı quattro 21.091 bayı\n",
      "murat korkmaz 2013 a6 sunroof led zenon vakum bayi ısıtma deri\n",
      "eryiğit plaza 2018 a5 sport delux stil paket~21.000km~boyasız!!\n",
      "aracımız da boya değişeni yok. araç. çok temiz\n",
      "hatasız boyasız\n",
      "plakalı ruhsatlı 2012 a62.0tdi vakum elkrkl bağaj sandruf full\n",
      "audi a3 2012\n",
      "audı a5 1.4tfsı sport (prestıge delux iç dış s lıne)tr' de tek\n",
      "zübeyir otomotivden audi a3 1.6 ambiente 102hp tam otomotıc lpg\n",
      "hasarsız boyasız kaplamalı quattro 190bg dış s line bang olufsen\n",
      "hatasız motor yürüyen on numara\n",
      "audi 80 1.9 td\n",
      "royal'den a4 sedan 2.0 tdı quattro s tronic 177 hp\n",
      "efilsiz evraksız 21000tl peşin 2370 taksitle audı a3 tdı dsg\n",
      "yeni a5 cupe sportback 2.0 tdi iç dış s line quattro hatasızzzz\n",
      "öğretmenden otomatik a3 son fiyat\n",
      "intercity2 2016 audi a4 sedan 2.0 tdı design 190hp sunroof 17inç\n",
      "onur auto'dan 2016 audı a7 bayii 320hp tam dolu hatasız sorunsuz\n",
      "emsalsiz 2011 audı a6 2.0 tdı mult. dört koltuk ısıtma\n",
      "garden 2019 50 tdı s lıne adaptif panoramık 5 kişilik\n",
      "2.0 tdı quattro led far f1 vakm elekt.bagj navg gerigörş 18inç\n",
      "ulus motors 2009 audı rs 6 5.0 v10 quattro 85.003 km bayı\n",
      "a3 sedan emsalsiz garaj arabası\n",
      "audi a8 long 3.0 quatro 219.000 km\n",
      "s.c autodan 2015 model hatasız s tronic 1.6tdi audi a3\n",
      "hatasız sıfır ayarında sahibinden\n",
      "sahibinden hatasız\n",
      "tr de tek audi a5 caprio özel plaka\n",
      "pala oto quattro 177 bg sunroof bayii çıkışlı değişensiz\n",
      "kırmızıtoprak motor's a5 190hp gmg desng rs5 bdy ful türkiyde tk\n",
      "düşük kilometreli, otomatik vites audi a3\n",
      "a3 cabrio 1.6 manuel dış s line iç özel yapım\n",
      "audi a4 1.8 tfsı multitronic\n",
      "sahibinden a5\n",
      "emsalsiz 177 hp a4 full\n",
      "ilk sahibinden servis bakımlı audı a6\n",
      "bakımlı masrafsız audi a6 2.0 tdi multitronic faturalı sahibinde\n",
      "sahibinden a7 320 bg quatro bi turbo.s line bayii çıkışlı\n",
      "galeri dündardan emsalsız a5\n",
      "aydogan premium 2012 model audı a5 2.0 tdı doguş\n",
      "doğan otomotivden siyah inci a5 hatasız\n",
      "prestij plaza .2011 audi a5 2.0 tfsi quattro coupe bayi çıkışlı\n",
      "temiz 2008 audi a6\n",
      "sahibinden audı a4 quattro 2.0 dizel 190 hp orjinal\n",
      "sahibinden acil audi a4\n",
      "acil audi s3 quattro sportback özel renk navara blue\n",
      "efsane tr de tek 4.2 motor v8\n",
      "rosso bianca audi a5 2.0 tfsi quatro cam tavan bang olufsn keyls\n",
      "hasan bedir 2.el plaza'dan audı a5 sportpack 177hp\n",
      "ilk sahibinden full full s line cam tavan\n",
      "ilk sahibinden satılık\n",
      "2016 model audi a 4 1.4 tfsı s tronic (hatasız)\n",
      "a5 1.4 sport delüx prestij navigsyn hayalet sline matrix\n",
      "türkiyedeki en dolu iç dış s line\n",
      "sahibinden özenle kullanılmış kazasız temiz a3\n",
      "120binde orjinal degişensiz\n",
      "ikinci el garaj'dan 2015 audi a4 2.0 tdı 150 hp\n",
      "audi tt s line bayi çıkışlı s tronic\n",
      "sahibinden orjinal s tronic tt\n",
      "audı a1 orjınal kusursuz 68.000km\n",
      "tufan otomotiv'den 2013 a4 2.0 tdi quattro 177 hp full full\n",
      "doktordan audı a5 guattro\n",
      "2013 audi a5 sportback 2.0 tdı multitronic koç finanstan kredi\n",
      "degişensiz tam otomatık\n",
      "gölovadan boyasız 4 çeker a.4 2,0 tdi 177 hp quattro\n",
      "tuncer otomotivden 2 parca lokal boyalı a6\n",
      "alman tankı\n",
      "2017 audı a5 sportback 1.4 tfsı sport deluxe 17.400 km hatasız\n",
      "doktordan makyajlı a6 quattro\n",
      "aslan oto ykm dan 2009 model audi a6 tdi hatasız boyasız\n",
      "hatasız 2007 audı a3 sportback 1.6 ambıtıon camtavan f1 otomatik\n",
      "garaj arabası, servis bakımlı\n",
      "sahibinden temiz audi a6\n",
      "2012 model hatasız boyasız yeni kasa 177hp led paket\n",
      "iç dış sline en dolusu hayalet navigasyon ısıtma hafıza recaro\n"
     ]
    },
    {
     "name": "stdout",
     "output_type": "stream",
     "text": [
      "2015 model boyasız sıfırdan farksız s tronic audi a3 110 hp\n",
      "hatasız, boyasız sınıfının en temizi 2003 audi_a4 1.6_sline\n",
      "boyasız 2018 md sport design prestij delux matrix kayar led\n",
      "2014 model a6 hatasız boyasız 49000 km de\n",
      "a4 en full 177 bg y.kasa sanrufluu beyaz hatasız 8 ileri k.ayna\n",
      "2014 model cam tavanlı audi a3 sedan\n",
      "talha otomotivden 2005 audi .a6 2.4 otomotik ful.\n",
      "kazasız boyasız!!!! full paket\n",
      "2011 audi a5 sportback 2.0 tdı multıtronık doguş bang olufsen\n",
      "tech motors aracımızın kaporası alınmıştır\n",
      "2015 audi a7 3.0 tdi quattro 320.hp s_line navi matrix led\n",
      "aracımız 2015 model hatasız orjinal\n",
      "kazasiz boyasiz tramersiz audi a1 s tronic\n",
      "audı a4 sedan 2.0 tdı multıtronic sunroof 2015 dostlar\n",
      "matt otomotiv'den audi a6 amiral gemisi\n",
      "2013 audi a6 2.0tdi dış s line vakum perde hafıza koltk hareketi\n",
      "özdaş otomotiv hatasız boyasız\n",
      "audi a4 1.6 tam otomatik orjinal kazasız lpg işli takas olur\n",
      "2016 audı 1.6 tdi otomatik orjinal. tamamına kredi çıkar\n",
      "arıkan otomotiv'den 2014 audi a 4 tdi otomatik dizel\n",
      "orjinal sıkıntısız geçişleri hissettirmez geri kaçma yapmaz\n",
      "boyasız değişensiz\n",
      "sahibinden hatasız\n",
      "hatasız audi (4kapı vakumlu)\n",
      "stella motors 2013 audi s8 4.0 tfsi v8 quattro özel sprş tam ötv\n",
      "mst motors s line bayi çıkışlı\n",
      "sahibinden hatasızz a6\n",
      "sahibinden audi a4\n",
      "2016 model dynamic hatasız keyles go\n",
      "audi 100 quattro avant\n",
      "yavuzaslan otomotiv 2017 model audi a5 design paket hatasız\n",
      "eren otomotiv'den otomatik bakımlı audı a3\n",
      "boyasız 2016 a3 1.6 tdi cam tavan katlanır ayn. geri görüş\n",
      "sahibinden audi a4 1.4 150 yeni kasa servis bakımlı değişensiz\n",
      "prestij motors 2016 audi a8 3.0 tdi long quattro bayi çıkışlı\n",
      "audi a5 bang olufsen ses s5 görünüm\n",
      "ars motors 2017 audı a3 sportback 1.4 tfsı sportlıne 30.000 km\n",
      "temiz orjinal a3 fiyatı düştü\n",
      "audı rs7 sportback 4.0 tfsı 560 ps v8 quattro tiptronıc\n",
      "hastasına a3\n",
      "2015 hatasız kazasız ultra navgasyn vakum kltk hafıza elk bagaj\n",
      "iç dış s line 177 hp quattro 2013 bayi çıkışlı servis bakımlı\n",
      "doktordan temiz full (43.000 km)\n",
      "modelleri arasında en uygunu pazarlık az da olsa var\n",
      "eylul otomotıvden satılık a5 2.0 tfsı quatro hatasız boyasız\n",
      "ss motors 2017 audı a5 coupe 1.4 tfsı desıgn scuba 6.774km doğuş\n",
      "çankara otomotiv'den 2009 2.0 tdı 4 k.ısıtma sağ sol elektrik f1\n",
      "audi a7 4 g 3.0 tdi quattro 2011 model 183.000 km de\n",
      "bakmaya almaya değer!!\n",
      "doğuş çıkışlı hatasız boyasız 65.oookm stronic sunroof\n",
      "a3 sedan dizel cam tavan hasarsız az km\n",
      "sahibinden audi s5 4.2 quattro v8\n",
      "acilll bayi çıkışlı yeni kasa bu fiyata türkiyede başka yok\n",
      "eryiğit plazadan 2017 a5 coupe s line içi kırmızı deri 30.000km\n",
      "mart motors'dan audi a5 coupe benzin lpg\n",
      "90 model temiz audi\n",
      "2018doğuş audı a5 desıgn prestıge deluxe pkt 25000km hatasız\n",
      "sahibinden temiz\n",
      "ketenci auto 2011 audı a6 2.0 tdı 170ps kazasız bakımlı\n",
      "ferhat otomotivden 2005 model bakımlı a4 1.6 lpgli\n",
      "emsalsiz temizlikte en dolusu\n",
      "2.sahibinden 84 bin km'de otomatik audi a3\n",
      "a3 cabrio servis bakimli\n",
      "2014 a 8 long 3.0tdı quattro doğuş çıkış extra dolu 76000km\n",
      "2018 audı a5 sportback 1.4 tfsı sport 0km ısıtma doguş\n",
      "2013 model audi a8 3.0 tdı 250 hp quattro long tiptronic\n",
      "karat motors audi a6 2.0tdi multitronic vakum sunroof\n",
      "sahibinden audi 80 tdi\n",
      "2008 iç dış s line audi a5 coupe rs5 paket dolular dolusu\n",
      "öz atlıhan dan 2016 audı a 6 ouattro tam dolu bayıı cıkıslı ve b\n",
      "sahibinden tertemiz audi a5 sporback\n",
      "audi a5 sline sahibinden temiz audi\n",
      "2016 audi a1 1.6 tdi 116bg dynamic s tronic bayi çıkışlı\n",
      "fuar oto'dan 2014 audi a3 1.6 tdi attraction 69500 km orjınal\n",
      "gürkan oto 2011 audi a5 1.8tfsı s_line cam tavan doğuş çıkışlı\n",
      "sahibinden hatasız 1.6 tdi a3 f1 otomatik vites full\n",
      "sahibinden bakımlı değişensiz full full\n",
      "sahibnden 83.750km 2.0tfsi quattro 225ps doğuş bakım s line\n",
      "audi a4 iç dış s line\n",
      "audi a 5 sportpack dizel otomatik\n",
      "2011 audi a5 2.0 tfsi 211 hp f1 stronic quattro doğuş çıkışlı\n",
      "falez plaza'dan 2017 çıkışlı hatasız içi bej bayi quattro a6\n",
      "2015 audi a7 2.0 tfsi siyah bej bayi çıkışlı\n",
      "3.0 tdi quatro 4 çeker emsalsiz , çok temiz\n",
      "rs görünümlü a6 3.0tdi quattro\n",
      "1982 moldel 80 cl dizel audi\n",
      "takaslı audı\n",
      "2. sahibinden temiz audi\n",
      "fatih auto dan 2015 audi a6 2.0tdi 190ps luxury bayi\n",
      "tuğra'dan 2016 audi a6 ultra geniş ekran vakum kapılı\n",
      "ersoy otomotivden a3 sedan 1.6 tdi stronic\n",
      "emk motors 2012 bayi a6 2.0 tdı 177 hp full hatasız\n",
      "sahibinden a6 2.tdı 177 hp full orjinal sanruf 4 koltuk ısıtma\n",
      "audi a4 (senetle taksitlendirme seçeneğimiz vardır)\n",
      "serdaroğlundan full servis bakımlı sportback\n",
      "araç 80.000km hatasız boyasız tramer kaydı yok plaka açık\n",
      "2017 audı a5 1.4 tfsı desıgn.\n",
      "sahibinden 2015 190 bg audı a6\n",
      "busines uçmak isteyen gelsin\n",
      "2002 audı tt s line 1.8 t cabrıo beyaz 157 km hatasız kayıtsız\n",
      "sahibinden temiz kullanılmış a3 sedan\n",
      "ilk sahibinden servis bakımlı 177 hp sanruf makyajlı kasa\n",
      "sahibinden kazasız boyasız audi 3 sedan\n",
      "audi a4 2015 model hatasız 177 beygir en dolu paketi\n",
      "audi a4 7 yıllık aile aracımızı satıyoruz\n",
      "memurdan temiz 2004 model audi a4 1.6\n",
      "kaza darbe hasar kaydı yok ezik çizik yok tertemiz hatasız\n",
      "betsyka garage 2017 a5 1.4 dynamic 18.000km camtavan boyasız\n",
      "çok temiz, kazasız, rs5 body kit'li audi a5 (rs5)\n",
      "baran autodan a 5 quattro tdı\n",
      "2015 a4 2.0 tdı qvattro deri koltuk ısıtma sunroof 65.000 km\n",
      "2016 a3 ambiente tdı 39.000 kmde boyasız makyajlı kasa led far\n",
      "2013 audi a4 dizel kazasız değişensiz 18 ınc jant\n",
      "aile araçı kacıran üzülür\n",
      "a6 quattro 2.8 otomatik orjinal\n",
      "öz zirve otomotiv,den 2009 model emsalsiz temizlikte a5 coupe\n",
      "sahibinden tertemiz audı a6 2.7 dizel orjinal hatasız 97 bin km\n",
      "ıhtıyactan acıl satılık\n",
      "54.000 binde audi a4\n",
      "yeni kasa a4 full servis bakımlı\n",
      "2018 a6 2.0tdi quattro edition arka isitma matrix hafıza\n",
      "audı a3 otomatik cam tavan\n",
      "galeri halimden 2007 model full orjinal 2.0 dizel a6 otomatik\n",
      "a5 quatro sline sahibinden\n",
      "a3 orjınal ıc dıs s lıne tramersız\n",
      "eryiğit plazadan 2010 a5 coupe quattro 211hp s line paket~bayii\n",
      "bekagrup tan audi a5\n",
      "hasarsız a3\n",
      "2016 audi a6 2.0 tdi quattro edition 190 hp s tronic\n",
      "a6 2.0 tdı otomatik vites\n",
      "yeniköy motors 2015 audı rs7 4.0 tfsı 720 hp wıdebody bayi\n",
      "sahıbınden full ambition 2013 aralık çıkışlı\n",
      "ilk sahibinden temiz audi a6 2000 tdı\n",
      "eray otomotivden audi a4\n",
      "2005 a3 tam otamatik\n",
      "carbank motors'tan 2015 model bayi çıkışlı audi a5 quattro\n",
      "acil satılık s line a6 3.0 tdı\n",
      "hatasız boyasız (iç dış ) s line a5 sportback 2.0tfsı quattro\n",
      "sahibinden vakumlu spor direksiyonlu sanruflu içi bej döşemeli\n",
      "2016 audi a6 2.0tdı quattro sline full full\n",
      "sahibinden tertemiz audı a4\n",
      "2013 audi a4 2.0 tdı quattro 4x4.177 bg bakımlı.kazasız full\n",
      "nasyonel 2011 doğuş s5 v6 cabrıo spor koltuk bang&olufsen hafıza\n",
      "hatasız s5 görünüm 2015 a5coupe quattro s line bang.olufsen full\n",
      "fatih_____fc den 2012 audi a7 3.0 tdı quattro tam dolu\n",
      "tornado motors 'dan sıfır (0) km bayii çıkışlı 310 bg kırmızı s3\n",
      "yabancıdan yabancıya(tc ve çifte vatandaş satın alamaz)fiyat son\n",
      "yeni kasa değişen boya tramer yok 2017 model audi a4\n",
      "arescem'den 2004 audi a6 1.8 t multitronic masrafsız temiz\n",
      "''soylu motors'' 2012 audi s5 3.0tfsı quattro bayi iç dış sline\n",
      "sahibinden satılık\n",
      "mühendisten audi a3 sportback muayene yeni bakımlı orijinal\n",
      "hatasız boyasız orjinal s line\n",
      "2013 cam tavan otomatik\n",
      "audi a4 sedan 1.4 2016 29bın km sunroof hatasız kazasız boyasız\n",
      "özel renk sucuba mavi hatasız orjinal\n",
      "2009 audi a6 2.0 tdı multitronic 140 hp sunroof deri\n",
      "__fabricar__dan 2017 audi a5 sportback 1.4 tfsı hatasız boyasız\n",
      "2015 audi a3 1.6 tdı 110bg ambiente s tronic .fırsat aracı\n",
      "audi a3 sedan 1,6 tdı design line s tronic\n",
      "2018___ taba deri ısıtma g.görüş matrix led kayar sinyal k.ayna\n",
      "orjinal s line a3\n",
      "bu fiyata bir tane daha yok\n",
      "sahibinden garaj arabası\n",
      "pazarlıksız a3 lpgli orjinal 144.000km\n",
      "hatasız kayıtsz 2004 audı a4 1.6 lpgli 102 hp bakım muayene yenı\n",
      "sahibinden orjinal iç dış s line quattro 137.000 km\n",
      "gkc motors 2014 model audi a5 2.0tdı 110.000km full full\n",
      "sahibinden makyajlı kasa sıfır ayarında garaj arabası\n",
      "sahibinden sıfır gibi temiz a4 sedan\n",
      "ss motors 2015 audı s3 2.0 tfsı quattro muson gri 300hp doğuş\n",
      "sahibinden\n",
      "2019 gümrük 1.9 tdı boyasız hatasız emsalsiz !!!\n",
      "acil sahibinden audi a4 full paket\n",
      "sahibinden satılık\n",
      "2008 model audi 1.6 a4 sahbinden satılık\n",
      "2012 boyasız audi a4 deri ısıtma makam elektrikli perde 177 bg\n",
      "ilk sahibinden kusursuz garaj arabası\n"
     ]
    },
    {
     "name": "stdout",
     "output_type": "stream",
     "text": [
      "bakırköy'den doğuş çıkış 2015 audi a5 2.0tdı 190hp multitronic\n",
      "hatasız boyasız sadece 23.000 kmde toyota ortakoy bayı cıkıslı\n",
      "kaya otomotıv'den orıjınal hatasız boyasız a3 1.6 benzın\n",
      "değişensiz a6 multitronic\n",
      "a6 2.0 tdı manuel! aşırı temiz !\n",
      "2013 audı a6 2.0 tdı .104.ooo km'de .bayi çıkışlı .\n",
      "2004 audi a8 4.2\n",
      "sahibinden acil\n",
      "full orjinal çok temiz\n",
      "çok temiz dizel otomatik audi a5 sportback\n",
      "bundan dolusu almanyada bedava\n",
      "s a t ı l m ı ş t ı r\n",
      "2007 sedef beyaz audi tt 2.0 tfsi otomatik f 1 ısıtma katlanır\n",
      "satlık audi a3 102 lik\n",
      "2015 model hatasız hasar kayıtsız sunrooflu servis bakımlı a3\n",
      "audi a3 cam tavan bakımları yeni yapılmış\n",
      "az & titiz kullanılmış 2002 lacivert audı a4 deri koltuk sunroof\n",
      "duha motors 2017 audi a5 1.4tfsı design deluxe prestıge hayalet\n",
      "temiz audi a6 s line\n",
      "daha ucuzu yok,daha dolusu yok 2007 fuul full\n",
      "audı a3 sportback tdı full full\n",
      "hatasız boyasız\n",
      "sahibinden doğuş çıkışlı\n",
      "kazasız boyasız orjinal 15bin km\n",
      "audi quattro 2.0t fsı 2010 sahibinden temiz\n",
      "sahibinden makyajlı kasa a5 sunroof hafıza ısıtma bang&olufsen\n",
      "2016 audi a3 sedan 1.6 dizel otomatik cam tavan led far bej deri\n",
      "neet car dan 2016 audi a3 hatasız boyasız 73.000kmde\n",
      "audi a4 temiz hasar kayıtsız\n",
      "satılık a5\n",
      "ford nuray otomotivden audi a5 coupe 2.0 tfsi servis bakımlı\n",
      "mamoş otomotiv güvencesiyle .\n",
      "sahibinden sıfır ayarında\n",
      "vıtrın auto dan audı a4\n",
      "servis bakımlı şirket makam aracı\n",
      "uluhandan audi a6 limusine\n",
      "sahibinden doguş çikisli audi a5 sportback 2.0 tdı 177bg\n",
      "vasıtaotomobilaudia3a3 sedan1.6 tdıattraction\n",
      "yaşına göre çok temiz\n",
      "2015 model a8 long 3.0tdı quattro doğuş çıkış boyasız extra dolu\n",
      "a6 2011 km:73000 hatasız\n",
      "doktordan temiz, selection luxury paket audi a6\n",
      "çekmekköy autodan 177bg 2.0tdi quattro yeni nesil %18 faturalı\n",
      "2012 emsalsiz temizlikte cam tavan otomatik audi a1\n",
      "ilk sahibinden hatasiz boyasiz yepyeni a5 coupe\n",
      "nazarotomotiv güvencesiyle 2012 model a6 hatasız ve boyasız\n",
      "40.000 tl'ye 12 ay %1,49 faiz oranı\n",
      "hers motors dan a4 2.0 tdı limousine paket ful ful\n",
      "temiz araç\n",
      "audi a3 öğretmenden\n",
      "ader ' den audi a3 1.6tdi s tronıc fırsat kaçmaz\n",
      "bakımlı a4\n",
      "2011 audi a6 hasarsız takaslı\n",
      "31 binde emsalsiz\n",
      "audi a3 otomatik\n",
      "nokta hatasız boyasız hasar kayıtsız sahibinden\n",
      "elmas otomotiv'den audi a1 sportback 1.6 tdı s tronic\n",
      "temiz audi 98 2.8 benzin lpg\n",
      "2006 model temiz audi a4\n",
      "2012 a6 2.0tdi bayii çkş, orj iç dış s line, vakum, full, hatasz\n",
      "tt 2.0.tfsı s tronic s line\n",
      "audi a5, iç dış s line ,ankara da bulunmaktadır\n",
      "hatasız boyasız ilk sahibinden\n",
      "2014 audi a5 tdı quattro sunroof koltuk ısıtma\n",
      "art luxury automotıve 2011 a7 3.0tdı quattro 144.000km bayi\n",
      "etilermotors 2012 audı a3 sportback 1.6tdı stronıc xenon led\n",
      "hatasız 2011 audi a5 s line rs5\n",
      "orijinal özel plakalı a5\n",
      "premium motors audı s8 4.0 tfsı quattro v8 t 2013\n",
      "whıte motors 2015 model audı a4 2.0 tdı garantili\n",
      "türkiye de tek donanımda km de ve temizlikte\n",
      "prestij plaza .2016 audi a3 1.6 tdi sedan bayi çıkışlı\n",
      "1 haftalığına bu fiyata\n",
      "bayan kullanıcıdan hasarsız bakımlı 5 kapılı a1\n",
      "tertemiz hasar kayıtsız 2011 model a6\n",
      "2014 audi a4 sedan 2.0 tdi bakımlı temiz\n",
      "adaşen''den__2012 audı a 6 2.0 tdı 177 hp dizel otomatik\n",
      "sıfırdan farksız !!!\n",
      "sıfırdan farksız hatasız boyasız hasar kayıtsız en full paket\n",
      "2010 a4. full\n",
      "2016 a3 sedan tertemiz\n",
      "emsalsiz audi a5 140 bin km. full\n",
      "sahibinden audi a3 otomatik\n",
      "arabacı auto motors dan a6 led paket\n",
      "hatasız servis bakımlı a6 !\n",
      "ismail altın: 2014 a5 sportback bayii boyasız tam dolu\n",
      "tr de tek s line quattro 4x4 kyless go star stop 4 koltuk ısıtma\n",
      "2011 audı a4 2.0tdı otomatik masrafsız bakımları yapılmış\n",
      "emsalsiz temizlikde emsalsiz fiyata kazasız\n",
      "audi tt dizel quatro orginal (acil değil.) özel plaka\n",
      "a3 2012 otomatik cam tavan\n",
      "sahibinden audi a4 multitronic\n",
      "2017 a3 sedan 1.0 tfsı design line cam tavan\n",
      "praxi otomotiv'den 2013 audi a6 2.0 tdı 1 parça lokal boya\n",
      "audi a5 coupe sport.prestige deluxe paket. kaza boya yok.\n",
      "sahibinden emsalsiz a5\n",
      "audi a6 2.5 tdi s line orijinal 140.000'de az paraya üst sınıf\n",
      "ahsan motors'tan 2011 model audi a8 3.0 v6 quattro long bayi\n",
      "a3 sedan sline hatasiz\n",
      "(orjinal) 87.500 km'de lpg takılmamış.\n",
      "avcılar otomotivden a4 2.0 tdi sunroof taba deri led ısıtma\n",
      "hedef renault plaza'dan 2009 audi a6 2,0 tdi multitronic 140 bg\n",
      "2015 audi a6 2.0 tdı quattro s tronic ısıtma hafıza bayi hatasız\n",
      "2015 audi a3 sedan beyaz 1 parca boyalı\n",
      "24ay taksitle 80binde audi a5 1.8tfsi multitronic 170bg emsalsiz\n",
      "kampüs group'tan 2013 model en dolu paket s line 90.000 klm'de\n",
      "audi a3 5 kapı otomatik , otogazlı\n",
      "bundan daha dolusu yok! boyasız hatasız !\n",
      "grand's doğuş çıkışlı hatasız boyasız audi a5 2,0 tdi quatro\n",
      "eagle motors'dan 2018 audi a5 1,4 tfsi sport deluxe boyasız bayi\n",
      "acill audi a3\n",
      "er akmaz'dan 2015 model audi a 3 sedan attraction dizel s tronik\n",
      "!!son indirim!! acil satılık hatasız 2.0 tdı quattro\n",
      "gri motors 2015 audi a5 sportback sedef beyaz 195'lik\n",
      "doğuş çıkışlı ve bakımlı hatasız boyasız 75.000km'de a6\n",
      "bayandan acıllll audı a5 2012 model dızel otomatık\n",
      "ilk sahibinden hatasız\n",
      "2012 audi a6 2.0 tdi sunroof ısıtma vakum şerit takip sistemi vs\n",
      "sahibinden\n",
      "kadir bey e hayirli olsun\n",
      "2017 çıkışlı sahibinden temiz\n",
      "cam tavam geri görüş kamerası keyless full sıfır gibi\n",
      "hatasız 2012 audi a5 2.0 tdi 177 hp bang&olufsen\n",
      "sahibinden kelepir\n",
      "bayi çıkışlı s lıne\n",
      "a1 sportback 22.10.2018 çıkışlı\n",
      "hatasız boyasız a 4 2.0 tdı f 1 otomatik\n",
      "2012 doğuş çıkışlı audi a6 2.0 177hp vakum ısıtma hafıza 19'jant\n",
      "sahıbınden satılık doğuş çıkışlı a5 sportback quattro stronic\n",
      "has otomotiv konya distronik şerit kör nokta navigasyon 4 bölge\n",
      "orjinal sahibinden 121binde lpg li a3\n",
      "2012 audı a5 2.0 tdı dogus bayı 130 km\n",
      "313 hp s tronıc doğuş çıkışlı audı a6 3.0 tdı quattro kusursuz\n",
      "kazasız hatasız boyasız sahibinden tertemiz audi a3 !!\n",
      "audi a5 2015 hatasız 43000 km\n",
      "fırsat aracı eski kasa fiyatına yeni kasa bayii çıkışlı\n",
      "audi yetkili bayii acarsan dan 2016 a3 sportback 1.6 tdı boyasız\n",
      "sınıfının en dolusu\n",
      "acar otomotivden 2010 a5 coupe quattro cam tavan zenon taksit\n",
      "özyakışır otodan fırsat aracı .\n",
      "sahibinden temiz değişensiz hatasız a3\n",
      "acil temiz a5 quattro doktordan\n",
      "2011 audı a6 109.000 km de tdi siyah içi bej doğuş tertemiz!!!!!\n",
      "2012 audı a6 99.000 km vakum kapı arka bağımsız klima sunroof\n",
      "1985 audi 200 turbo quattro\n",
      "ct motors 2016 audi a6 tdi quattro ultra 60binkm vakum hatasız\n",
      "2018 boyasız hatasız 8700km\n",
      "sahibinden hatasız\n",
      "mükemmel temizlikte takas olur\n",
      "hatasız 11000 km de doğuş çıkışlı garantili audi a5 1.4 tfsi\n",
      "acill!!! 4x4 quattro paket 211bg hatasız emsalsiz audi a4\n",
      "2010 model bayi çıkıslı hatasız boyasız 170 hp audı a6 otomatik\n",
      "acil tertemiz özel döşeme sahibinden bu fiyata kaçmax\n",
      "acil satılık audi a4 (en dolusu)\n",
      "1998 model audi a4 . kazasız lpg li degiseni yok .\n",
      "hatasız tv kamera internet pkt full bakımlı\n",
      "zeki oğulların dan 2013.a4 2,0 tdi 177 hp s tronıc quattro bayi\n",
      "bayi çıkışlı 2014 model tam dolu\n",
      "can otomotiv .2011 audi a5 2.0 tfsi quattro coupe bayi çıkışlı\n",
      "ers motors 3d '2015 s3 bayi boyasız b&o tam deri 19''jant ısıtma\n",
      "hatasız,boyasız ve dolusudur. 15.01.2018 tarihinde alınmıştır\n",
      "ilk sahibinden 2015 audi a5 sportback 177hp multitronic\n",
      "sahibinden temiz 2006 audi a4 2.0 tdi 140 hp multitronic\n",
      "eczacı sahıbınden cok temız a3\n",
      "2013 audi a5 2.0tdi sportbak vade takas yenidoğuş otomotiv ltd.ş\n",
      "vakum makam perde 86 bin km bayi sıfır hata\n",
      "2009 model a4 sedan 2.0 tdı\n",
      "saybinden kazasiz\n",
      "rosso&bianca 2012 audi a8 long full bayi vadeli ödeme seçeneği\n",
      "2017 audi a4 1.4 tfsi design hatasız boyasız\n",
      "agr motors 2017 audı a3 1.6tdı sportlıne ön arka led cam tavan\n",
      "cam tavan bej deri hatasız elektirikli bagaj ısıtma\n",
      "takaslı 1993 model masrafsis a80 takaslı\n",
      "sahibinden çok temiz a 5 2015 model\n",
      "butun bakimlari yeni yapildi kaza yok degisen yok daha sayamadig\n",
      "2016 model audi a3 sedan 1.0 tfsi dynamic\n",
      "ümit gürtekin otomotiv'den 1999 model audi a3 otomatik vites\n",
      "cam tavan a3 audi let paket\n",
      "2013 s line led paket cam tavan s tronıc\n",
      "class auto'dan a5 sportback 2.0 tdı boyasız\n",
      "a5 1.4 tfsi design\n",
      "ars motors 2015 audı a5 sportback 2.0 tdı 190 hp 50.000 km\n",
      "suçin auto^dan en temizinden\n",
      "alıcısına sımdıden hayırlı olsun\n",
      "acarlar motors 2017 audi a5 design s tronic boyasız bayi\n",
      "yeniköy motors 2015 audı a8 3.0 tdı quattro long head up masaj\n",
      "aracımın kaporası alındı .\n",
      "sahibinden audi a4 quattro 2014 hatasız boyasız orj.\n"
     ]
    },
    {
     "name": "stdout",
     "output_type": "stream",
     "text": [
      "sahibinden temiz 2017 aralık çıkışlı a5\n",
      "ilk el 2015 a3 tdi ov siyah içi bej cam tavan,zenon boyasız\n",
      "temiz otomatik sahibinden a3\n",
      "audi a3 ilk sahibinden\n",
      "mm motors samsun 2013 audi a5 quatro s line hatasız bayi\n",
      "kısa süreliğini fırsat aracı\n",
      "sahibinden .122 bin km de .servis bakımlı\n",
      "avant garde etiler'den 2013 model audı a6 0km\n",
      "2010 model audi a5 otomatik\n",
      "bekaroglugrup.com audi a6 2.0 tdi quattro s tronic vakum f1 bayi\n",
      "sahibinden satılık\n",
      "doğubeylerden. a5\n",
      "son motors'dan 2018 yeni audi a7 5.0tdi 286hp bayi\n",
      "bayı cıkıslı sunroof vakum hafıza f1 ısıtma audi a6\n",
      "satılık audia4 sedan sahibinden\n",
      "a5 sportback 2.0 tdı multitronic sorunsuz, sunroof, dizelll\n",
      "yfk auto'dan2011 48 ay kredi 48 ay senetli taksitli %30 peşinatl\n",
      "2007 audi a6 2.0tdi 140hp 7 ileri multitronic sunroof ısıtma ful\n",
      "2017 çıkışlı 2016 model audi a3 dizel,otm. attraction 49 bin km.\n",
      "2011 audi a6 2.0 tdı 170 ps sunroof deri ısıtma full\n",
      "hatasız boyasız a5 2.0 awd\n",
      "iç dış sline full full geniş mmı ekran tv ve navigasyon recore\n",
      "yeniköy motors 2016 audı rs6 performance seramik 20 abt bayi\n",
      "audı a6 2.0 tdi quattro\n",
      "2013 model 177 hp audı a4\n",
      "satılık yer uçağı quattro\n",
      "boyasız km orijinal\n",
      "a4 2017 model dynamic (bmw 5.20 i takaslı yeni kasa)\n",
      "sahibinden satılık alman tankı\n",
      "audi a3 s line\n",
      "ss motors 2014 audı a5 2.0 tdı quattro bang & olufsen doğuş\n",
      "2006 model audi a3 1.6 lpg'li otomatik vites makyajlı kasa\n",
      "audi tt 2.0 tfsı orjinal 135.000km\n",
      "sahibinden 2015 ambiente 32.200km\n",
      "dusuk km, dusuk fıyat sıfır kokulu hatasız,boyasız a4 dynamıc\n",
      "hatasiz kusursuz emsalsiz sıfır ayarinda\n",
      "2015 model doğuş çıkışlı a6 3.0 tdı quattro 272 hp s tronıc\n",
      "cemotomotiv bayii 2011 audi a6 2.0 tdi 170 hp makyajlı ledli\n",
      "bekiran auto 2011 audi a5 sportback 2.0 tdı sunroof bayi cıkış\n",
      "sahibinden kazasiz boyasiz tertemiz arac\n",
      "mazda ozan'dan 2008 a4 2.0 tfsı quattro s lıne 4x4 200 bg\n",
      "ağaoğlundan a4 dizel otomatik\n",
      "sip@hioğlundan 2011 hatasız a5 iç dış s line navi sunroof led f1\n",
      "görkem auto'dan audi a8 quattro\n",
      "2010 model a3\n",
      "2009 audi a4 1.8 tfsi 214.000 kmde\n",
      "2012 audı a6 sedan 3.0 tdı quattro\n",
      "fatih otomotiv den 2015 model a6 2.0 tdı ultra vakum deri sanruf\n",
      "a6 quattro 2,8 otomatik her haliyle orjinal\n",
      "acil satılık!!!\n",
      "doktordan 2012 audi tt roadster\n",
      "sahibinden, 2012 bayi, hatasız a7. 88.000 km\n",
      "ilk sahibinden el değişmemiş hatasız kusursuz orjinal a6\n",
      "sahibinden a3\n",
      "meleğim satışta audi a5\n",
      "audi a5 temiz araç\n",
      "sahibinden çok temiz otomatik takas olur\n",
      "audı a3 özel pilaka 35.bsk 34 özel arac satilik\n",
      "sahibinden hafıza sunroof vakum nav e.bagaj 2015 full ultraaaaaa\n",
      "2013 audı a3 1.6 tdı atractıon 29.000 km kazasiz boyasız\n",
      "s line hatasız\n",
      "binici grup auto farkı ile audi a5 sportbeck\n",
      "mızrak aş 2008 audı a6 2.0tdı multıtronıc 140hp sunroof ısıtma\n",
      "sahibinden sıfır gibi\n",
      "2014 a6 ultra 2.0tdi 190hp makyjlı, vakum, elk bgj, navi, boyasz\n",
      "orhanlardan 2015 a6 3.0tdı quattro 13.500km hatasız boyasız\n",
      "68.000 km de a1 ıhtıyactan uygun fıyata verılecek hasar kayıtsız\n",
      "sahibinden masrafı yok\n",
      "boyasız 2014 md beyaz içi taba cam tavan zenon 92000 km de\n",
      "2010 audi a3 sportpack orjinal 90,000 km.\n",
      "hasar kayıtsız aile aracı\n",
      "eska dan 2010 a5 iç dış s line 2.0 tdı 205 hp tr tek tam ötv\n",
      "bakımlı ve masrafsız yeni kasa audi a6\n",
      "hilkar inşaat'tan hatasız,boyasız,kayıtsız servis bakımlı a6\n",
      "dilmaçlar'dan hatasız 42 km'de navi vakum hayalet full full\n",
      "audi a4 2.0 dizel otomatik hatasız boyasız tramersiz full paket\n",
      "boyasız bayii çıkışlı a.6 2.0tdı quattro 18 jant e.bagaj keyles\n",
      "sadık otomotıv .2014 audi a3 sportback 1.6 tdi otomatik\n",
      "sahibinden a6 quatro 2016 model\n",
      "garaj otosu tertemiz\n",
      "bur plaka tam otomatık prınce lpg 17 ınterlagos jant\n",
      "memurdan boyasız hatasız\n",
      "tüm bakımları yeni yapılmış eksiksiz a6\n",
      "ayhan oto 2.el audi a5 bayi çıkışlı iç dış sline 2.0 tdı\n",
      "autoken 2014 audi a6 2.0tdı limousine bayi tam dolu\n",
      "nasyonel2016 doğuş performance plus 605hp seramık fren dıstronıc\n",
      "2018 model hatasız audi a6 2.0 tdı s tronic quattro edition\n",
      "tertemiz biniciye motor sıfır yapılı audi 80 yumurta kasa\n",
      "uğur autoda 2007 a8 3.0 tdi quattro vakum hafıza tv nav.perde\n",
      "çelik otomotiv hatasız 2016 a6 2.0tdi quattro beyaz içi bej bayi\n",
      "çok temiz acill (fiyat düştü)\n",
      "doğuş çıkışlı deluxe paket garantili boyasız hatasız\n",
      "2008 audı a8 3.0 tdı quayttro bayi çıkışlı\n",
      "2017 audı a6 tfsı quattro hatasız 19.900 km vakum matrıx navı\n",
      "hatasız orjinal\n",
      "audı r8 s tronıc 8000 km'de\n",
      "2013 audı t.t quattro hatasız boyasız tramersiz s lıne\n",
      "acil ihtiyaç. dolayı uygun sıfır ayarında bu fıyata\n",
      "audi a4 sedan garaj arabası\n",
      "bakımları yeni yapıldı\n",
      "2013 audı a3 1.4 tfsı s tronıc beyaz içi siyah 80.000 kmde\n",
      "full orjinal sline paket otomatik sunrof\n",
      "mert auto'dan 2010 audı a5 1.8 tfsı s line görünüm\n",
      "göktaşlar'dan 2014 audi a3 hb 1.4 tfsi ambition cam tavan ledfar\n",
      "servis bakımlı 2000 model audi a6\n",
      "hatasız boyasız 2015 a3 sedan 1.6 tdi s tronic\n",
      "sahibinden hatasız 2017 audi tts quattro stage2 385hp\n",
      "audi a6 2,5 tdı 180 hp kalite konfor hız bu araçta herşey mevcut\n",
      "audi a5 2.0 tdı sportback bayi sunroof bi&xenon deri ısıtma f1\n",
      "️isabet'den 2013 audi a3 sportback attraction 1.6 tdı s tronıc\n",
      "2017 çıkışlı doğuş a6 vakum bagaj elkt 18 jant navigasyon\n",
      "pazarlıksız son fiyat\n",
      "audi a5 coupe\n",
      "2014 makyajlı kasa a5 değişensiz düşük km taşkan group\n",
      ".1.8 t quattro .\n",
      "audi 80 turbo dizel 1983 model\n",
      "hatasız boyasız deri otomatik (2008) audi tt doğuş çıkış\n",
      "2011 s tronic orjınal 39500 km yetkılı servıs bakımlı.\n",
      "prestige paket manhattan gri kazasiz boyasiz satıs hazir videolu\n",
      "ikinci sahibinden muazzam temizlikte a6\n",
      "2015 a7 3.otdı biturbo 320hp sline navi çifthafıza vakum airmati\n",
      "konfor ve güven\n",
      "mst motors tan audi a6 bayi çıkışlı\n",
      "hasar kayıtsız, temiz kullanılmış\n",
      "jet otomotivden satlık tertemiz masrafsız a6 hatasız\n",
      "audı a1 s line otomatik 150hp bi xenon led paket\n",
      "sahibinden temiz full araç\n",
      "the gallerıa 2011 model audı a8 3.0 tdı quattro long bayii\n",
      "ekspertiz raporlu 2005 audi a3\n",
      "boss 2014 audı a4 2.0tdı rs4 kıt kazasız 98.000 km'de\n",
      "a5 orjinal\n",
      "06 ccc 70 a6\n",
      "aracımıza kapora alınmıştır\n",
      "a6 navi vakum 4 koltuk ısıtma maun bose metrix\n",
      "ata motors 2010 audi sportback a5 2.0 tdi\n",
      "2017 boyasız doğuş audi a6 2.0tdi quattro 4x4 190edition38000kmd\n",
      "ulus motors 2017 audı a5 sportback 1.4 tfsı sport s lıne 22.608\n",
      "auto f1 den 2011 model 2.0 dizel otomatik sanruf'lu audi a4\n",
      "2015 audı a5 2.0 tdı 190 hp navı full orjınal\n",
      "a3 sedan attractıon otomatik dizel\n",
      "tamamen değişik bi a 7 bakmadan geçmeğin\n",
      "2013 audi a4 2.0 tdi 177 hp multıtronıc servis bakımlı 72.000km\n",
      "araç temiz ve bakımlı\n",
      "fastcar'dan 2008 audı a4 1.8tfsı 160hp sunroof hariç full\n",
      "2000 audı tt 1.8t quattro mantıklı takaslar degerlendırılır\n",
      "audi 100 1985 1,7 dizel\n",
      "o artık istanbulda\n",
      "2011 audi a6 3.0 tdı quattro\n",
      "2016 audi a3 1.6 tdı attractıon dizel boyasız\n",
      "a3 stronic hatasız 83000 km\n",
      "2012 model 165 000 km\n",
      "salih oto'dan 2012 model audi a6 2.0 tdi f1 led vakum sunroof\n",
      "full orjinal özel seri araç\n",
      "tertemiz aile arabası\n",
      "2002 a4 1.8t multıtronic 6 ileri tertemiz lpg'li bakımları yeni\n",
      "2004 audi a4 sedan 1.6 benzin lpg içi bej vade takas imkanı ile\n",
      "4 s autodan birinci sınıf a6 3,0 quattro\n",
      "2014 model audi a4 2.0 tdı multitronic 78422km\n",
      "acillllll bu fiyata bu özellikte yok.ekstralar mevcut\n",
      "son fiyat hız sabitleyicili dizel otomatik a3\n",
      "2010 audi a5_2.0 tdi sportback_taba deri sunroof ısıtma x.zenon_\n",
      "audi a6 2010 model tertemiz\n",
      "sahibinden hatasız boyasız çiziksiz iç ve dış s line\n",
      "sahibinden .sıfır ayarında\n",
      "sahibinden temiz a6 s line (4 kapı vakumlu)\n",
      "2015 çıkışlı s line hatasız boyasız ful ful led paket cam tavan\n",
      "ilk sahibinden a6 2.0 tdi\n",
      "yabancıdan yabancıya audı r8\n",
      "özdeniz'den 2011 audi a5 2.0 tdi bej deri sunrof tertemiz bayii.\n",
      "rst plaza'dan 2015 audi s8 4.0 tfsi gece görüş webasto distronic\n",
      "koçsan'dan 2012 audı a5 2.0 tdı sportback startstop hafıza full\n",
      "hatasız 2017 çıkışlı sahibinden\n",
      "2013 a5 coupe 2.0 tdi dizel kazasız seramik aksesuarlı\n",
      "öztorun oto 2015 model audı a5 2.0 tdı quattro s tronic\n",
      "son fiyattır pazarlık teklif etmeyiniz\n",
      "bayii çıkışlı ilk sahibinden s3 sportback 300 hp uzatılmış grnt\n",
      "2017 audi a5 sportback 1.4 tfsi design hatasız boyasız\n",
      "özhamurkar 2013 audı a 8 3.0 tdı quattro 250 hp long\n",
      "otomatik hatasız audi a4 allroad quattro 2.0tfsi\n",
      "audı a6 2.0 tdı manuel full\n",
      "yüksel otomotiv'den a3 sedan ambition sunroof'lu 110ps\n",
      "2006 a62.4 v6 sunroof deri f1 xenon cruse 4 koltuk ısıtma\n"
     ]
    },
    {
     "name": "stdout",
     "output_type": "stream",
     "text": [
      "2017 bayii çıkışlı a5 2.0 tdi quattro sadece 12.000km taba deri\n",
      "acil ögretmenden düşük km emsalsiz otomatik\n",
      "2006 audi a6 3.2 fsi qattro\n",
      "temiz garaj arabasi\n",
      "acil satılık 2003 audi a4 1.8t sunroof otomatik özel plakalı\n",
      "2015_177 hp_sadece 21.000 km de ve yetkili servis bakımlı\n",
      "sahibinden temiz hasarsız bir araç\n",
      "sline 151.000km temiz\n",
      "özel üretim a3 cabrio\n",
      "2009 audi a5 2.0 tfsı 180 hp dış s line paket\n",
      "hatasız 2014 model\n",
      "sahibinden değişensiz audi a4\n",
      "sahibinden satılık full full daha dolusu varsa beri gelsin\n",
      "autosell audı a6 2.0 tdi quattro 190 hp 5.000 km hatasız\n",
      "sahibinden temiz a3 sedan 1.6tdı\n",
      "kacirilmayacak firsat!!\n",
      "2007 model audi a6 2.0 tdi\n",
      "ilk sahibinden meraklısına audi a4 avant quattro\n",
      "tmr autodan 2016 model audi a6 2.0 tdi quattro 190 hp\n",
      "tertemiz araç quattro\n",
      "meraklısına .\n",
      "hattasız audi a6\n",
      "merkez autodan 1999 model audi a6 2.8 qattro\n",
      "kuzey .2011 a5 1.8 tfsı 200hp coupe beyaz tam dolu bakımlı\n",
      "otomatik çift renk\n",
      "2003 model audi a4 değişensiz\n",
      "sahibinden satılık\n",
      "veli demir den 2015 31.000 km 2.0tfsı 230hp qatro s lınehatasız\n",
      "boyasız bayi çıkışlı vakum hafıza ısıtma elk bağaj\n",
      "lion motors 2012audıa8 3.0tdı quatrolong ısıtma navi masaj bayi\n",
      "arn auto'dan 73.000km audi a1 sport cam tavn bi xenon led otom.\n",
      "sahin auto'dan audi a4 1.8 t sline\n",
      "sahibinden temız audı değişensiz\n",
      "audı a5 2.0 tfsı quattro 2010 model\n",
      "özgür cengiz'den 2015 model audi a5 quattro hatasız 67.000 km\n",
      "ss motors 2013 a8 3.0 tdı quattro long matrıx coolbox masaj bayi\n",
      "2012 bayi audı a7 3.0 tdı quattro vakum hafıza elk. bagaj\n",
      "70000 kmde saruflu177 beygir içi bej\n",
      "sahibinden 2011 model temiz 4 x 4 audi a6 3.0 tdi quattro\n",
      "15.700km a4 sport hatasız hayalet ekran sunroof\n",
      "2014 audi a4 2.0 tdi multitronic 150 hp .\n",
      "2015 bayı audı a5 2.0 tdı quattro 190 hp navı full\n",
      "mars car dan r8 4,2 v8 quattro bayi\n",
      "a3 s line 2009 model\n",
      "sahibinden kazasız boyasız garantili 2018 çıkış\n",
      "2014 model audı a4 sedan 2.0 tdı quattro s tronıc çok temiz!!!\n",
      "met auto farkıyla s5 4.2 fsı quattro bayii çıkışlı\n",
      "2017 audı a6 2.0 tfsi quattro beyaz içi siyah 28.000 kmde\n",
      "nokta hatasız audi a5 sportback\n",
      "2013 audi a5 2.0 tdı quattro bayi içi bej elk.koltuk deri ısıtma\n",
      "2012 audi a5 2.0tdi quattro s tronic 177hp\n",
      "aracımızın kaporası alınmıştır\n",
      "öğretmenden 2014 çıkışlı; 80 binde limuzin\n",
      "audi a3 1.4 s tronic\n",
      "2012 audi a4 yeni kasa 177 b.g full full özel sipariş\n",
      "2012 audi a1 1.6 tdı otomatik cam tavan\n",
      "acil sahibinden a4 b7 1.6 lpg li full dolu modeli\n",
      "acill sunroof_deri_ısıtma_zenon\n",
      "sahibinden satılık\n",
      "çevikler 2012 model audi a 4 otomatik sunroof 130 bin km\n",
      "alpden 2012 audi a5 2.0 tdı s lıne rs5 görünüm\n",
      "vizyon motors dan a4\n",
      "2015 audi a5 sportback 2.0 tdı quattro s tronic bayii çıkışlı\n",
      "sahibinden satılık 2013 audi a4 2.0 tdı\n",
      "2002 audi a 6 3.0 otomatik ful muhayer araç benzin&lpg\n",
      "a4 2.0 tdi quatro 177bg navi geri grş 3kol sline jant sanruf\n",
      "sahibinden 66.000'de kazasız a3\n",
      "parkgarajdan otomatik led paket xenon\n",
      "sahibinden emsalsiz temizlikte hatasız!!! a5 sportback 2.0 tdı\n",
      "queens auto audi a5 quattro 190bg hatasız boyasız bayi çıkışlı\n",
      "ikinci sahibinden tr de nadir kalanlardan\n",
      "demir oto 2018 a5 sport & delux & prestij paket beyaz taba\n",
      "otomatik audi\n",
      "hakkı oto'dan 2014 model 3.0 tdı 4 çeker a8 long\n",
      "acil satılık\n",
      "ss motors 2015 audı rs7 4.0 tfsı quattro seramik fren doğuş\n",
      "sahibinden orj km hatasız tramersiz s'line cam tavan\n",
      "audı a5 temiz ve bakımlı\n",
      "2006 model a4 1.8 quattro\n",
      "sahibinden hatasız makyajlı lansman rengi\n",
      "ayşit otomotiv & plaza ( a5 s line trde sayılı )\n",
      "acil satılık ful bakımlı masrafsız\n",
      "sahibinden temiz\n",
      "baysılan'dan 2016 audi a6 2.0tdi ultra vakum navi sunroof bayi\n",
      "orjinal 122.000km hatasız orjinal s tronic vites ışık paket\n",
      "ilk sahibinden kazasız& boyasız 2o11 mdl s line f1\n",
      "sahıbınden satılık 1.8 tfsı 160 hp hatasız cok temız\n",
      "2015 audi a5 sprtback 2.0tdi quattro servis bakımlı hatsz kazasz\n",
      "2017 model audi a3 sedan 1.6 tdi hatasız boyasız\n",
      "baskın'dan 2011 audi a5 2.0 tdı sportback en fulu\n",
      "alman tankı\n",
      "ertemel den sadece 30 bin km de 2016 sonu çıkışlı sıfır gibi\n",
      "salih ilk el 177 hp beyaz yeni göğüs 12 ay ''0'' faiz\n",
      "a5 2.0 tfsı 252 qtr sport stronıc sback 2017 vdf filo\n",
      "audi a4 2.0tdı mmı en full lımosuıne paket sunroof derı koltuk\n",
      "sahibinden a5 (38 sl 588)\n",
      "arescem'den hatasız 2017 doğuş çıkışlı a6 2.0 tdı quattro dolu\n",
      "güneş otomotıvden satılık 2015 model audı a3 sedan s line\n",
      "sahibinden kusursuz 2018 sedan s3 fantom siyahı\n",
      "ferhat motors bayi 2015 yeni kasa a6 ultra navi. vakum boyasız\n",
      "şok fırsat!!a6 2.0tdı ultra sunroof deri vakum navi bayii %18fat\n",
      "arc otomotivden 2011 a4 2.0tdi multitronic deri ısıtma led far\n",
      "alp cars otomotiv'den doguş bayi audi a8l 3.0tdı quattro\n",
      "hasarsiz sahibinden acil satilik\n",
      "full full sahibinden\n",
      "takas olur alt modelle\n",
      "emrecan 2010 audi a6 2.0 tdi otomatik 170 hp deri ısıtma boyasız\n",
      "sahibinden 3.0 tdı quattro\n",
      "temiz canavar gibi audi a1\n",
      "endora motors'dan 2012 audi a6 2.0 tdi 177 hp vakum ısıtma!\n",
      "audi a 6 2.0 tdi multitronic otomatik sanruuflu\n",
      "full full degişensiz hatasız\n",
      "aracım ilk elden temizdir.\n",
      "eses otomotiv 2017 audi a3 sportback 1.0 tfsi dynamic hatasız\n",
      "da motors'dan 2012 audi a3 1.6 tdi sportback s tronic bi zenon\n",
      "audi a3 otomatik dizel full donanim !!\n",
      "ikinciyoldan 2006 2.0 audı 4 otomatik sunroof lu full full\n",
      "sahibinden acil 2013\n",
      "aşk ahdiyle başlar\n",
      "audi a7 3.0 tdı quattro s line bayi hafıza ısıtma vakum bose f1\n",
      "memurdan sigara dahi içilmemiş en temizi!!!\n",
      "''mak auto'' 2008 audı a5 1.8tfsı coupe orj iç dış s line siyah\n",
      "2008 audi a4 sedan 1.6 lpgli 134binkm\n",
      "kayacars dan degişensiz masrafsız quattro long multimedyalı\n",
      "audi 80 sedan dizel 1983 model\n",
      "2017 bayi çıkışlı yeni kasa audi a5 coupe sport 18 jant tr tek\n",
      "erciyesden audi a6 quattro hatasız boyasız\n",
      "tamamen servis bakımlı\n",
      "sahibinden 1.6 tdı s tronic attraction paket\n",
      "sahibinden 2013 audi a4 taba koltuk spor direksiyon led sunroof\n",
      "a4 1.4 tfsı sport hatasız\n",
      "ogz motors bostancı a 5 2.0 tfsi coupe quatro rs 5 görünüm\n",
      "iç dış s line sıfır ayarında\n",
      "audi 80 2,0 16v quattro competition\n",
      "orj.85 bin km. vakum 3 kol direksiyon 18 jant\n",
      "bayi çıkışlı s line hasar kayıtsız .\n",
      "2017 audi a5 sportback 1.4 tfsi b&o ses siyah kırmızı\n",
      "2015 a6 2.0tdı 190hp s tronıc sunroof,deri,vakum,navigasyon bayi\n",
      "''emiroğlu''2016 a6 2.0tdi 76.000km sunroof ısıtma vakum navigas\n",
      "kırcıoğlu otomotiv den beyaz a6\n",
      "2016 model audi a3 1.6 tdi sportline sedan 56.000 km de fuul\n",
      "çakıroğlu skoda 2.el'den 0 faiz kampanyası ile audı a5 quattro\n",
      "2 nci sahibinden avrupa audi a3 1.6 fsı\n",
      "kaporası alındı\n",
      "sahibinden çok temiz 2007 audi a3 otomatik\n",
      "boss motors florya'dan audı a6 tdı quattro 3.0 dogus cıkıslı\n",
      "2012 model audi a1 99.000 km dizel otomatik hatasız\n",
      "by doğan auto dan temiz audı a6\n",
      "carvento audi a4 sedan 2.0tdi dynamic s tronic boyasız hatasız\n",
      "sevenauto a7 sportback 2.0tfsi quattro s line doğuş çıkışlı\n",
      "çağan otomotivden_______________ 2014 a5 sporback 177 hp\n",
      "yetişen alır acil sahibinden2016 sportback .dizel cam tava\n",
      "0 km a5 sportback 2.0 tdı quattro\n",
      "ulaş auto'dan 2011 a5 2.0 tdi sportback iç dış s line tramersiz\n",
      "2000 model 1.6 ıes manual vites\n",
      "ssmakas audi a3 ambition camtavan led hatasız!!\n",
      "sahibinden full hasarsız doğuş çıkışlı\n",
      "ars motors 2011 audı a5 coupe 2.0 tfsı quattro 64.500 km\n",
      "boyasız 2014 audi a5 sportback 2.0tdi\n",
      "sahibinden acil\n",
      "35.000 km sıfırdan farksız ultra.vakum hafıza sunroof emsalsiz\n",
      "sahibinden hatasiz boyasiz\n",
      "sahibinden 2014 kırmızı avek bakımlı ambition led paket cam tava\n",
      "sahibinden tertemiz a4 .!\n",
      "cok acil ihtiyactan ! sahibinden bakımlı temiz allroad\n",
      "a3 sedan 1.0 tfsı dynamic s tronic 18.000\n",
      "değişensiz acm tavan a3\n",
      "2005 audı a3 çok temiz\n",
      "fulll full a3\n",
      "audi a5 füme hatasız kazasız!!!\n",
      "hatasız boyasız bayi çıkışlı audi a6\n",
      "gümüş'ten 2016 model 58.000'de boyasız sounrof kolt.ısıtma f1\n",
      "satılık a4 audı cabrıo 1.8 t s lıne\n",
      "️isabet'den 2016 audi a4 design 2.0 tdı quattro 190 hp full\n",
      "2015 audi 2.0 tdı ultra 103.782 km bayii çıkışlı gani motors\n",
      "sahibinden bayi çıkışlı bayi bakımlı airmatic .\n",
      "sahibinden değişensiz bakımlı\n",
      "ipek otomotiv den hatasız\n",
      "çağlayan otomotivden expertiz garanntili audi a4 2.0 tdı\n",
      "ahsan motors'dan 2016 model audi a6 2.0 tdı quattro\n",
      "a4 tfsi otomatik kazasız sahibinden\n",
      "sahibinden bakımları yeni yapıldı\n",
      "2016 model 46.263 km ambıtıon s tronıc kazasız ve tramersiz\n",
      "2014 audi a3 1.4tfsi 150 hp act motor ambıtıon led zenon recaro\n",
      "sahibinden boyasız 2016 a3 sportback attractıon\n"
     ]
    },
    {
     "name": "stdout",
     "output_type": "stream",
     "text": [
      "sude otodan yeni makyaj bayi çıkışlı türkiyede tek boyasız tts\n",
      "magna garage ' 2001 rs4 2.7 v6 biturbo b5\n",
      "audi 80 195000 km değişen parçası yoktur\n",
      "carvento audi a6 sedan 2.0 tdı quattro 190hp 79.000km'de\n",
      "emsalsiz temizlikte 1.6 audi\n",
      "nis motorsdan bakımlı full donanımlı cabrio fırsat aracı\n",
      "sahbınden türkiyenin en ucuz en dolu audı a5 s lıne coupesi\n",
      "2011 audi a5 facelift tramersiz tertemiz\n",
      "hatasiz !! 250 hp ! daha dolusu yok!\n",
      "4x4 2016 audi a 5\n",
      "kaban motors 2017 audi a5 özel renk hayalet gösterge\n",
      "seramik kaplama, kaput koruma sesviste uygulandı. nokta hatasız\n",
      "34 slm 55 2004 audi a8 4.2 quattro 125.500km (doğuş çıkışlı)\n",
      "audi a5 tüm bakımları yapılmış temiz araç\n",
      "sahibinden doğuş oto çıkışlı a5 orjinal km\n",
      "63.000 km de nokta boya hata tramer ezik çizik yoktur!!!!\n",
      "audı a6 2.0 tdı quattro 17.000 km'de\n",
      "hatasız boyasız full orjinal ledli kasa a6\n",
      "23.000 kmde bayandan sedan a3\n",
      "mahir yüksel'den 2013 audi a4 2.0 tdi 150 hp led xenon k.ayna\n",
      "boyasız hatasız daha dolusu yok audı a6 2.0 tdı\n",
      "esnaftan temiz satılık audi a3\n",
      "safari motorsdan audi a4 1.8 125 hp tutulan düz motor\n",
      "sahibinden tramersiz\n",
      "sahıbınden 2015 model audi a7 2.0 tfsı quattro\n",
      "full cam tavanlı sıvı lpgli a3\n",
      "sahibinden , dizel otomatik sanruf xenon far tam dolu araç\n",
      "sıfır audi a4 1.4 tfsı kayar led matrix ısıtma sunroof içi bej\n",
      "audı a5 quattro\n",
      "dizel temiz a4 2.0 tdi otomatik multimedya navigasyonlu bakımlı\n",
      "3a motorstan hatasız audi a5 quattro\n",
      "hatasız boyasız 177 bg audi a4\n",
      "2013 model a5 2.0 dizel 66.000km zenon sunrof deri dış sline\n",
      "acil satılık\n",
      "sahibinden temiz kırmızı audı a5 2.0tdı quattro s lıne\n",
      "baron plaza'dan 2013 audi a 4 2.0 tdi multitronic 177 bg boyasız\n",
      "2003 model audı a6 quattro otomatik sunroof lpg\n",
      "faruk otomotiv den audı a5 quattro otomatikvts (s line )\n",
      "2012 audi a5 sportback quattro 211hp s tronıc boyasız çok temiz\n",
      "yeniköy motors izmir 2012 audı a5 2.0 tdı bang & ol bayi\n",
      "2015 model bayandan audi a3\n",
      "2013 audi a3 sportback 1.6 tdı attractıon orjınal servis bakımlı\n",
      "2013 hatasız boyasız limousine paket sunrof led xenon f 1 177 hp\n",
      "sahibinden temiz audi a4\n",
      "sahibinden temiz bakımlı\n",
      "sıkıntısız sorunsuz agır bakımları yeni yapılmış audi a6\n",
      "audı a3 2001 benzin&lpg\n",
      "2018 audi a6 2.0tdı quattro 190 hp matrıx farlar hatasız boyasız\n",
      "s line sahibinden masrafsız\n",
      "sahibinden full ekstalı makyajlı a5 coupe 2.0tdı 177 multitronic\n",
      "bay garage makyajlı kasa audi a4 2.0 dizel ful ful\n",
      "2012 orjinal hatasız değişensiz boyasız\n",
      "e.k cars .özel ilgi odağı audi a5 s line .\n",
      "mef motors 2016 audı a3 sedan yeni kasa dynamıc stronc 55.000km\n",
      "2014 audi a6 tdi 3kol vakum hafıza geri görüş 18incjant kazasız.\n",
      "auidi a3 attraction\n",
      "2013 audi a6 2.0 tdi 177hp matrix köseoglu oto\n",
      "özelliği fiyatından yüksek iç dış orjinal sline\n",
      "sahibinden titizlikle kullanılmış aile aracı\n",
      "2015 audı a5 quattro 177 hp 32.000 kmservis bakımlı %18 fatura\n",
      "audi a4 ilk sahibinden kaçırılmayacak fırsat\n",
      "2012 audı a6 2.0 tdi 177 hp sunroof 3 kol boyasız\n",
      "sorunsuz masrafsız a5 sportback\n",
      "aufi a4 tertemiz\n",
      "quadro 4 çeker 4 lastik yeni baskı balata volant yeni değişti\n",
      "temız a5 4 lastik yeni degısmıs ve bakımları yapılmıstır\n",
      "2010 model audi a6tdi\n",
      "kurtboğan dan 2016 a3 sedan 1.6 tdı ambiente s tronic boyasız\n",
      "sahibinden satılık audi a6\n",
      "acil ful orjinal ihtiyaçtan üst alabileceğim araç veya motor tks\n",
      "hastasından orjinal audi dizel\n",
      "sahibinden 2013 model audi ambiante\n",
      "garage 2009 audı tt roadster 2.0 t fsı quattro\n",
      "audi a3 2016 sedan kazasiz boyasiz\n",
      "sahibinden bakımlı araç\n",
      "ilk sahibinden 2015 a6 ısıtma soğutma vakum hafıza navi boyasız\n",
      "a3 dizel otomatik dolu paket yeni kasa\n",
      "alpaylar güvencesiyle a3 sedan dizel otomatik\n",
      "huncar,a5 sportback,2.0tdı 190hp,bej deri,tam dolu,hatasız!\n",
      "cam tavan otomatik tertemiz audi a3\n",
      "sip@hioğlundan 2012 a4 177hp led deri k ısıtma advance full full\n",
      "mert auto'dan hatasız boyasız navigasyonlu ''177'' bg 2015 ful\n",
      "bayi çıkışlı ilk sahibinden sitenin en temiz aracı\n",
      "2011 model a6 boyasız\n",
      "ful ful hatasız\n",
      "temiz acil satilik yeni bakimlari yapildi\n",
      "2015 model a3\n",
      "2015 model a5 beyaz içi bej dizel otomatik bayi çıkışlı\n",
      "son bir hafta açıklamayı oku derim\n",
      "2011 a5 iç dış s lıne\n",
      "güç saglamlık konfor 1.9 tdı\n",
      "ilk sahibinden satılık audi\n",
      "sezgin autodan audi a3 desing line s tronic\n",
      "boyasız değişensiz audi a3 sedan ambition\n",
      "auto msr'den 2013 yeni tip audı a3 1.6 tdı cam tavan'lı otomatic\n",
      "dumlu motors 2010 model audi a5 s5 görünüm cek senet takas\n",
      "audı a6 1998 a6\n",
      "mert otomotiv'den 2014 audi a4 2.0 tdi sedan .multitronic .\n",
      "kayalar oto'dan audi a5 2.0 tdi quattro 4x4 beyaz içi bej\n",
      "run cars a8 4.2 quattro boyasız bayii sunroof ısıtma tv\n",
      "2014 audi a4 sahibinden multitronik 177 hp sarnuf ve navigasyon\n",
      "tertemiz a3 69bin km diesel s tronik masrafsız\n",
      "sahibinden temiz audi a4\n",
      "marca 2014 a5 2.0 tdı quattro s tronic\n",
      "2013 model audi a4 s line quattro 177 beygir\n",
      "çakır auto dan\n",
      "2012 26000 km audi a1\n",
      "audı a3 1.6 sportback attractıon 2007 142.000km\n",
      "nazlı motors . a4 quattro sunroof f1 cruze control led\n",
      "2008 audı s3 2.0 tfsı quattro beyaz (ilk sahibinden orjinal)\n",
      "2014 audi a5 quattro 2.0tdi 177ps 96.000km hatasız kredi imkanı\n",
      "gercek sürüş keyfi\n",
      "sahibinden satılık 2015 model audi a6 2.0 tdı xtronic 190hp\n",
      "sahibinden orijinal kazasız doğuş bakımlı\n",
      "ss motors 2017 audı a5 coupe 1.4 tfsı sport 40.053 km doğuş\n",
      "sahibinden 2012 audi a4\n",
      "arescem'den 2011 audi a4 1.8 tfsı sanruflu masrafsız\n",
      "admıral oto audı sedan1.6tdı attractions tronic\n",
      "extrası bol bakımlı kasası düzgün orjinal 97.000 km\n",
      "intercity bursa 2.el audi a5 sportback 2.0 tdi quattro s tronic\n",
      "sahibinden a6 otomatik\n",
      "sahibinden hatasız tertemiz\n",
      "arabaya bındıgını hıssetmek ısteyenlere\n",
      "2015 a4 2.0 tdı quattro sport 190hp hayalet navi hafıza matrix\n",
      "fiyat son kez düştü!! sahibinden 0 masraf audi a4\n",
      "mert`den 2012model audi a6 2.0 tdi bayii hatasız boyasız\n",
      "oto2' den garantili ve avantajlı otomobiller\n",
      "hatasız boyasız kapalı garaj arabası 78.000 km\n",
      "a3 1.6 lpgli 2005 model\n",
      "değişensiz hasar kayıtsız audi a4 2.0 dizel (2014)\n",
      "auıdı tt fırsat aracı\n",
      "2012 a3 dizel otomatik\n",
      "sahibinden 2012 model a5 içdış sline 95 binde arayın görüşelim\n",
      "audi guatro\n",
      "audi a6 2.0 tdi 190 ps ultra rs6\n",
      "sıfırdan farksız hatasız sedan a3\n",
      "acil hatasız masrafsız audi a3 cam tavanlı\n",
      "( .audi a3 145 bin km de temiz araç .)\n",
      "2015 audi a5 2.0tdi s line quattro bayii galeri gani\n",
      "cem kaya otomotiv'den dizel otomatik a4\n",
      "audi a4 otomatik temiz\n",
      "sahibinden a3 tdı s line hatasız\n",
      "hazal otomotiv'den 2012 audi a6 2.0 tdi 177hp multitronic\n",
      "2013 model a3 s tronic 88 binde komple orjinal\n",
      "audi a3 beyaz otomobil\n",
      "acill satılık temiz araç\n",
      "audı 2009 a4\n",
      "doğuş çıkışlı garantili düzenli servis bakımlı boyasız.\n",
      "stella motors 2014 a 8 long 3.0tdı quattro bayii tam dolu\n",
      "ılk sahıbınden audı a3 s lıne\n",
      "sahibinden audi a4\n",
      "a5 sportback 1.4 tfsı stronic sunroof elektrikli hafızalı koltuk\n",
      "2006 model audı a3 1.6 manuel emsalsiz görünüm\n",
      "2015_a3_68 bin km_boyasız_1.6_tdi_s tronic_ambiente_xenon_deri_\n",
      "aydemir oto'dan 2012 audı a4 132 bin km de dizel otomatik\n",
      "sadece ciddi alıcılar\n",
      "hata olustu/ilan/vasita-otomobil-audi-sahibinden-acil-cok-acil-satilik-642121896/detay\n",
      "saylam 2016 a6 58.000km quattro 190hp navi vakum hafıza full\n",
      "sahibinden a3 1,6 tdı\n",
      "çok temiz audi a6\n",
      "sahibinden kazasız boyasız 19500de 2018 model\n",
      "audi a4 2000 model lpg li\n",
      "satılık audi a7\n",
      "bakımlı a6\n",
      "2014 a3sedan en full paketi sunroof cam tavan\n",
      "donanımlı ranger toyoto amorok takaslı orjinal boyasız hasarsız\n",
      "2012 a6 2.0tdi beyaz içi bej matrix vakum 4 bölge klima boyasız\n",
      "tr de tek. 123 bin km orjınal son iki hafta yayından kalkcak\n",
      "2011 audıa4 allroad quattro 2.0 tfsı 211 hp boyasız bayi çıkışlı\n",
      "audi a6 limousine hatasız temiz 17000km ekspertizi yapılmış\n",
      "erk motors 2017 doğuş çıkış audı tts 2.0 tfsı quattro 310 hp\n",
      "2013 model özel plaka audı a 6\n",
      "2013 a6 2.0 tdı doğuş çıkışlı ve bakımlı orjinal 118.000km 177hp\n",
      "baransel motors dan 135 bin km 2.0 s line cam tavan taba iç ful\n",
      "yılmaz'dan acilll satılık\n",
      "özkanoğulları.2014 audı a3 sedan 1.6 tdı 110 hp ambıente s lıne\n",
      "temizzz . kısa bir süreliğine fiyatı düşürdüm.\n",
      "2016 a 4 boyasız hatasız sunroof led yetkili servis bakımlı\n",
      "ilk sahibinden hatasız full audi a3 sline\n",
      "caretta'dan bayi,yeni kasa,hafıza,vakum,e.bagaj a6 2.0 tdı 190ps\n",
      "lineer otomotiv den hatasız a4 dizel otomatik\n",
      "boya değişen yok sunrooflu\n",
      "sahibinden satılık temiz kullanılmış audi a5\n",
      "2018 boyasız a5 1.4tfsı desing camtavan elk.bagaj 32.000 km'de\n"
     ]
    },
    {
     "name": "stdout",
     "output_type": "stream",
     "text": [
      "2015 model audı a4 190 hp limousine 54 km de servis bakımlı orji\n",
      "acil temiz sıkıntısız audi a5\n",
      "audi a6 2007 model\n",
      "audi tt s line stronic, kusursuz\n",
      "böylesi yok yenikasa bayi hatasız aşırıdolu 4koltuk masaj takas\n",
      "aziz den 2012 model audi a6 2.0 tdı sunroof vakum star stop\n",
      "autosell 2015 audi a3 cabrio 1.4 tfsi ambition 49.000 km orjinal\n",
      "tr'de tek iç dış s line quattro siyah içi taba 17.000 km''de\n",
      "audi a4 2.0 tdı multitronic 177 bg sunroof'lu led'li full full\n",
      "kapalı garaj arabası (hatasız) garantili\n",
      "garage istanbul rs5 görünüm azur blue coupe a5\n",
      "ertay'dan 2009 audı a6 2.0 tdı led 4 koltuk ısıtmalı s lıne\n",
      "ss motors 2011 audı a8 3.0tdı quattro long multımedıa bose bayi\n",
      "sıfır ayarında full full prestige delüx paket\n",
      "2013 audi a7 quattro tramersiz hatasız\n",
      "kasko değeri 93.000 tl2008 s line quattro 190.000 km\n",
      "tc de böylesi yok 2013 audi a5 sportback dış sline\n",
      "darbesiz değişensiz uygun fiyata klimalı audi 100 serisi\n",
      "sahibinden rs5 görünümlü 2010 model 130.000km audi a5\n",
      "sahibinden full hafıza navi matrıx hayalet\n",
      "audi a5 quattro 2.0 tdi 70,000 km\n",
      "vys motors tan audi a6 hatasız boyasız 134 bin de\n",
      "orijinal alman\n",
      "mba motors tan orjinal 66 bin km sanruflu audi a5\n",
      "2012 model dizel otomatik ilk elden 1 parça boya hatasız\n",
      "iç dış komple sline 2012 model temiz a5\n",
      "__umut__2015 audi a3 sedan 1.6 tdi attaction 118.00 km s tronic.\n",
      "2011 audi a3 1.4 tfsı s tronıc 51.000 bayandan çok temiz\n",
      "2014ç a4 dizel boyasz 2.0tdi f1 spor direk zenon k.ayna ön snsor\n",
      "as group boyasız, orjinal 2016 model design. sunroof garantili\n",
      "autalya'dan doğuş çıkışlı 2008 audı tt 2.0tfsı 200hp s line\n",
      "sıfır ayarında nokta hatasız\n",
      "''park auto''2016 audi a4 2.0 tdi 190hp quattro sport boyasız .\n",
      "2011 audi a6 3.0 tdi v6 quattro temiz ve bakımlı\n",
      "sunroof hariç en en dolusu\n",
      "2010 model a5 quattro s line\n",
      "2001 model allroad 2.7 biturbo 250hp quattro kazasız\n",
      "eksilmez orjinal boyasız audi a6 hatasız\n",
      "sahibinden temiz audi a3 sedan\n",
      "sahibinden\n",
      "hatasiz full orjinal otomatik\n",
      "avukattan düşük km a3\n",
      "enerjiden satılık\n",
      "2005 model audı a6 2.4 v6 hatasız\n",
      "ılk sahıbınden temız audı a5\n",
      "mükemmel durumda audi a6 hatasız mtv si ödenmeştir\n",
      "2016 hatasız fulll\n",
      "hatasız boyasız ledli ışık paketi\n",
      "srd otomotiv'den 2015 audi a3 dynamic s line sunroof otomatik\n",
      "bayandan acil satılık\n",
      "masrafsız 2.0 tdi quattro audi a5 coupe\n",
      "çok uygun fiyata düşük kilometrede 2012 a6 3.0 tdi dış s line\n",
      "eagle motors'dan 2014 audi a6 2,0 tdi tam dolu bayi\n",
      "️trtek️bu fiyata bu dolulukta bu temizlikte başka yok️fırsat\n",
      "2014 model audi a3 1.6 tdı attraction s tronic\n",
      "karat motors a8 3.0tdi quattro hatasız boyasız 178.00km emsalsiz\n",
      "sahibinden cam tavan a3\n",
      "devlet görevlisinden düşük km temiz siyah içi taba ve led far\n",
      "üçgül 'den 2013 audi a4boyasız katlanır ayna içi bej\n",
      "aydınoğullarından a5 2.0 tfsı quatro %30 peşi 36 48 ay senetle\n",
      "hatasız boyasız tts quattro 67.000 km de\n",
      "sahibinden hatasız full sport audi a4 sport\n",
      "audi a5 quattro 2.0 tdi 194.000 km\n",
      "2012 audi a3 1.6 lpg li sportback attractıon\n",
      "ertemel grouptan 2012 audi a1 1.6 tdi otomatik led xenon 17'jant\n",
      "intercity antalya 2016 audı a4 2.0 tdı 190 hp dynamıc s tronıc\n",
      "korkmaz motorsdan 2008 model a 6 masrafsız içi bej fulll\n",
      "memurdan acil audi a3 s tronic\n",
      "mengerler kocaeli 2011 audi a4 sedan 2.0 tdı\n",
      "2007 audi a6 3.0 tdı quattro doguş çıkışlı 170.00 km\n",
      "hatasız boyasız sanrouflu\n",
      "ılk sahıbınden yadıgar vede ekmeklık\n",
      "audı a4 2.0 tdı f1 şanzuman sunrooflu\n",
      "dizel 2.tdi bakımlı a4\n",
      "2015 a7 3.0 tdi quattro s line navi matrix led şerit t.bose bayi\n",
      "super a6 aud\n",
      "audi a6 2.5 tdı 96model galerikaraduman'dan motor yürüyen muayer\n",
      "tertemiz uygun fiyatlı bakımlı makam arabası audi a6\n",
      "komple rs5 görünümlü 2.0 tfsi multitronic 211 hp beyaz audi a5\n",
      "sahibinden a6 3,0tfsi quattro 290bg turbo full favorilerime ekle\n",
      "2014 model a 3 ambıente 1.6 dizel otomatik s tronıc deri xenon\n",
      "hatasız full makyajlı kasa\n",
      "sline 2015 model a6 32 bin km de hatasız\n",
      "kervan 2011 rs5 design taba deri kyless go f1 hafıza pak bayi\n",
      "audi s line ışık paketli\n",
      "2009 audi a6 2.0tdi 140hp multitronic\n",
      "2012 tamamen orjinal diri a3 ambition advance paket\n",
      "a6 3.0 tdı quattro hatasız doğuş çıkışlı\n",
      "2008 hatasız tramersiz a8 3.0 tdı quattro 4 kapı vakum sunroof\n",
      "memurdan audi a4\n",
      "hatasiz orjinal\n",
      "!!!fiyat düştü!!! sahibinden satılık audi a4 slıne kaçmazzz .\n",
      "armada motorsdan sadece 80.000kmde\n",
      "doguş oto çıkışlı 76000 km\n",
      "2010 model audi a4 2.0 tdi sunroof full\n",
      "mazzını doğuş çıkışlı s lıne keyless go kör nokta\n",
      "mlh quattro led matrix 4 koltuk ısıtma taba döşeme\n",
      "2006 audı a 6 20 tdi\n",
      "vipdentcar auto dan audi a3 sıfırdan farkı 1500 km olması\n",
      "hasarsız sıkıntısız audi a3\n",
      "audi a1 dizel otomatik 134.500 kazasiz\n",
      "özel plaka\n",
      "binicisinden belediye personelinden temiz a6\n",
      "oto sivaslıdan 2015 model audi a7 sline bayii çıkışlı\n",
      "yaldız otomotiv' den 2014 a3 dizel otomatik cam tavan hatasız\n",
      "as.pers.den 2015 çıkıslı led bixzenon cruze kont.lımuzune paket.\n",
      "sahibinden bakımları yapılmış audi a4 2.0 tdı\n",
      "kadıoğlu otomotiv den 2010 a.4 2.0 tdi otomatik 96 binde beyaz\n",
      "2018 a5 5500 km hatasız\n",
      "özkumak motors'dan 2012 audi a5 2.0 tdı sportback\n",
      "beydili otomativden bayi çıkışlı audi a7\n",
      "2011 model tamamen orj 2.0.tdi 177 bg lik led paket sunrof deri\n",
      "fly auto dan 2014 audi a4 177 hp sanruf deri koltuklu\n",
      "acil sahibinden satılık audı a6 2,0 tdı quattro makam aracı\n",
      "matrix farlı düşük km\n",
      "sen bunu arıyorsun 2008,tt,otomatik,tsfı s\n",
      "audi a5 yeni kasa\n",
      "audi a3 sportline 2017 çıkışlı\n",
      "deka motors 2014audi a4 2.0tdi 150hp audiconcept servis bakımlı\n",
      "sahibinden s line paket led far stop multıronic\n",
      "2007 a6 tdi\n",
      "2011 audi a4 multitronic 8 ileri otm vites 1.8 tfsı 128000 km\n",
      "audi a5 2.0 tdı dış s lıne sunroof deri elk koltuk ısıtma bayii\n",
      "audi a4 2.0 tdi 2012 model led xenon değişensiz\n",
      "acill!! sahibinden hatasız boyasız s tronic\n",
      "2012 audi a6 2.0 tdı, bayi çıkış, vakum, sunroof, hafıza koltuk\n",
      "sahibinden iç dış s line a5 coupe\n",
      "hastasına özel a5 (z4 tek kapı v.b.)\n",
      "ilk el otomatik f1 vites sunroof'lu emsalsiz\n",
      "doğuş çıkışlı ve bakımlı dış s.lıne ful orginal boyasız\n",
      "2015 audi a4 2.0 tdı 150 bg multitronic katlanır ayna led xenon\n",
      "narin'den 2013 audi a8 l 3.0 tdı v6 quattro tiptronic 250 hp\n",
      "alpkaya doğuş çıkışlı 2017 audi a5 coupe 1.4t fsı 11.000'km\n",
      "ayhan dan 2015 a4 150 beygir türkçe navigasyon 18 jant\n",
      "a5 coupe 2.0 tdı quattro sahibinden satılık (bursa)\n",
      "emsalsiz yeni kasa audi a5 2012 2.0 tdi\n",
      "sahibinden satılık audi a6\n",
      "tr'de tek s'line iç diş orjinal bayi çıkışlı 177 bg son fiyat\n",
      "boşanma sebebi????\n",
      "audi a5 sıfır gibi temiz\n",
      "2011 a4 1.8 t 160 hp sıfır lpg beyaz sunroof bixenon bakımlı\n",
      "emekli den bakımlı motor şanzuman muayyer tam otomatik\n",
      "quatro 150 bin km(211 bg) özel seri full\n",
      "ascar motors'dan hatasız boyasız 3.o tdı quattro\n",
      "ferme otomotiv'den 2014 a 4 hatasız boyasız\n",
      "konseptden 2014 audı a3 ambıante s tronık tdi camtavan led zenon\n",
      "ikinci sahibinden cam tavanlı a3 emsalsiz\n",
      "karataş grouptan audi a8 quattro uzun yolda kullanılmış\n",
      "acn motors'dan 2014 audı a4 2.0 tdı multıtronıc\n",
      "sahibinden temiz bakımları tam\n",
      "bakımlı coupe a5 1.8 tfsı 115 bin km de carhall güvencesiyle\n",
      "a5 2.0tfsı cam tavan ,pazarlıksız fiyat düştü\n",
      "3.0 tdi quattro full full servis bakımlı\n",
      "tek fiyat çok acil\n",
      "temiz sahibinden\n",
      "otomatik araçlarla takas olur audi1.8 1996 benzin lpg\n",
      "bayi çıkışlı 47000 km de orjinal 2014 7 ay a6 2.0 tdi\n",
      "çetin'den 2011 model doğuş çıkışlı a5 düşük kilometrede\n",
      "sahibinden audi a4 2.0 tdi 177hp hatasız\n",
      "2000 model a4 2021 vizeli\n",
      "2012 a5 coupe otomatik 132 bin km de\n",
      "''üçtepe motors'' 2013model 140.000km'de 177lik yeni kasa audia5\n",
      "abacı auto'dan 2000 model 2.8 lpgi'li otomatik quattro\n",
      "cıty garage'den ____2013 model a8 3.0 tdı quattro long tam ötv\n",
      "lion motors 2014 audı a7 3.0 tdı quattro slıne doğuş çıkışlı\n",
      "ilk sahibinden hatasız boyasız hasar kayıtsz audi a3 89000 km de\n",
      "2017 a3 sedan 18.000 km sahibinden makgajlı\n",
      "doğuş 2018 audi a6 2.0 tfsi 252hp quattro 25.000'km hatasız\n",
      "24.000tl peşinat 5185x36ay evraksız kefilsiz banka kredisi\n",
      "audi 80 1991 model 1.6 td\n",
      "fullll audi a3 s line istiyene hasar kayıtlı\n",
      "yiğit ikinciel den 2010 model audı a5 2.0 tfsı quattro\n",
      "kapılar vakumlu multıtronìc sanzuman hatasız tramer sìz .\n",
      "vakum kapılı audia6\n",
      "sahibinden 177 lik orjinal km\n",
      "audi a5 quattro\n",
      "2.5 v6 tdi geleni üzmem\n",
      "ertemel'den a8 long tdi quattro matrix led gece görüş full full\n",
      "siyah renkte eşi yok\n",
      "audı a6 3.0 tdı v6 quattro tiptronic\n"
     ]
    },
    {
     "name": "stdout",
     "output_type": "stream",
     "text": [
      "️kendi sınıfında tek bang ouflen ses sistemi ısıtm\n",
      "2012 audı tt quattro 2.0tfsi s tronic\n",
      "2018 11.800 km audi a6 2.0 tdı quattro s tronıc 190 hp hatasız\n",
      "sahibinden 2011 hatasız boyasız 2.0 177 ps sunrooflu 4 ısıtma\n",
      "2017 a5 1.4 tfsı led hayalet dvd hafıza akar sinyal hatasız full\n",
      "sahibinden 95 000km modifiyeli\n",
      "orjinal iç dış s line zımba\n",
      "2016 model audi a7 sportback 2.0 tfsi quattro doğuş bayi çıkışlı\n",
      "audi a5 sportback 2.0 tdi quadro s line orjinal\n",
      "sahibinden temiz s3\n",
      "bakımlı a4 quattro 2.0 tdı 177hp xenon sunroof katlanır ayna\n",
      "m&c otomotiv den audi a6\n",
      "audi a5 proje aracı ( rs5 dönüşüm)\n",
      "2009 audi s5 4.2 v8 quattro otomatik\n",
      "galeri anamur'dan 2009 mdel 7 ileri audı a3 cam tavanlı otomatik\n",
      "istanbul motorlu araçlar audi a5 sportback 2.0 tdi full\n",
      "audi 100 quattro 4x4\n",
      "sarıkaya autodan 2013 audi a4 sanruff 177 hp hatasız\n",
      "__2016 audi a3 1.6 tdi__ambition__38.000 km'de__sıfır ayarında__\n",
      "ustasından satlık a4 b8 kasa\n",
      "öğretmenden satılık otomatik dizel audi\n",
      "reform motors 2014 audı a1 1.6 tdı attractıon otomatik vites\n",
      "2017 model audi a3 sedan 1.0 tfsi 18 bin km masrafsız\n",
      "2013 a4 2.0tdı quattro 177hp bayi dij klima led 18''jant boyasız\n",
      "sahibinden a5\n",
      "garage 2012 audı a7 3.0 tdı quattro hafıza ısıtma doğuş çıkışlı\n",
      "sahibinden sıkıntısız b7 kasa audi a4\n",
      "sahibinden tam otomatik a6\n",
      "vw bayi uzay oto'dan a5 2.0 tfsı quattro s line 90.600 km'de\n",
      "2007 model audi a3 1.6 düz motor lpgli\n",
      "acil satılık otomatik a6 .\n",
      "audi tt tfsı s line\n",
      "acil audi a3 1.6tdi coupe dizel otomatik 2011 model s tronıc\n",
      "eşsiz temizlikte 1992 model audı 80\n",
      "boyasız hatasız 2012 audi a6 2.0 tdi vakum üç kol direksion\n",
      "eminali autodan hatasız kusursuz a4\n",
      "audi a3 sedan 1,6 tdi full led paketli,2016 model,servis bakımlı\n",
      "kara mamba satışta\n",
      "ercar motors 2016 audi tts quattro s tronic extra dolu hatasız\n",
      "sahibinden doktordan satılık a3\n",
      "audi a6 2002\n",
      "automim 2015 bayii çıkışlı audi a5 sportback 2.0 tdı quattro rs\n",
      "hatasız otomatık dizel\n",
      "kaptanoğlu otomotiv hatasız 2011 audi a4 128 bin km\n",
      "ş.eren'den.2011 a5 coupe 1.8tfsı 170 otomatık tabaderi camtavan\n",
      "ihtiyaçtan dolayı satılık audi a4 1,6 benzin&lpg sunrooflu\n",
      "hasar kayıtsız orjinal audi a4 b5 kasa\n",
      "%35 peşinat 36 ay senetle audi a3\n",
      "2010 audı a5 cabrio 2.0 tfsı sline quattro sadece 73.000 km de\n",
      "full orjinal audi a4\n",
      "kara şimşek satıyorum\n",
      "şahin oto galeri 2009 audi a3 sportback 1.6 attraction boyasız\n",
      "2008 model audı tt 2.0 tfsı s tronıc özel ttrs\n",
      "230hp hatasız bang&olufsen s5 görnüm ısıtmalı el. koltuk boyasız\n",
      "autoland'den 2015 a6 2.0tdı 190hp 57bin navigasyon vakum\n",
      "2017 a5 1.4tfsi design deluxe 16.000km rutuş boya hata yok!\n",
      "otomatik a3 sahibinden\n",
      "temiz bakımlı masrafsız s3 2.0 tfsı quattro\n",
      "{ hatasız boyasız } 90 bin km multitronik 150 h.p\n",
      "2012yenikasa audi a6 multitronic. dıstronıc, acc, lıne sıde\n",
      "autostore 2008 audı a6 2.0 tdı tıptronıc\n",
      "balkan otomotiv den 1998 4x4 audi a6\n",
      "bayi çıkışlı hatasız boyasız\n",
      "2008 model audi a6 sanruf deri 4 koltuk ısıtma full\n",
      "mertden 2013 model audi a3 1.6 tdi otomatik\n",
      "2015 audi a3 sedan dizel otm beyaz ambiente led xenon deri cruis\n",
      "serdaroğlundan a4\n",
      "audi a.6 2.0 tfsi torbo\n",
      "sahibinden taba deri. boyasız.matrix.deluxe prestige,ses sistemi\n",
      "sahibinden quatro 4 4\n",
      "temiz audia3 stronic bakmadan geçme\n",
      "autoseçkin'den 2014 audi rs7 4.0_tfsı_v8 quattro bayi hatasız.!!\n",
      "sahıbınden hatasız boyasız\n",
      "sahibinden tertemiz otomatik a4\n",
      "bakımlı a3\n",
      "2012 a6 2.0tdi 4kolıstma 4bölklima çifthafıza bayi makmperde\n",
      "güven den 2011 model audı a6 2.0tdı yeni kasa matrıx far\n",
      "bariş auto dan 2011 model audi a6 2.0 tdi\n",
      "afa motors'dan 2014 model a3 sedan 1.6 tdi s tronic\n",
      "audı a3 sedan iç dış s line cam tavan 95 bin km otto\n",
      "audı a6 3.0tdı quatro s tronıc 272hp bayi hatasız 40.000tl extra\n",
      "sahibinden satılık\n",
      "egincars 2017 audi a4 zümrütyeşili tabaderi matrix far 11.000 km\n",
      "cok acil cokkk\n",
      "satılık (öğretmenden)\n",
      "audi a6 full mamoş otomotiv güvencesiyle .\n",
      "cadde motors emsalsiz audi a 6 2.0 tdı f1 full paket\n",
      "ilk sahibinden orjınal audı a4\n",
      "ogz motors a.6 1.9 tdi multironic\n",
      "sahibinden satılık hatasız 2013 audı a4 quattro\n",
      "daha dolusuyok içdış sline hafıza kamera bang oflusen ses boyasz\n",
      "''frt motors''2011 a8 dizel long bayi özel sipariş s8 donanımlı\n",
      "2017 audı a5 coupe hatasız boyasız\n",
      "kusursuz, hasarsız,hatasız audi a6\n",
      "opec car dan audi a3\n",
      "acil son fiyat ilk gelen alır 27\n",
      "180ps sorunsuz bakımlı motor hususi kullanılan aile aracı\n",
      "sahibinden audı a4 177hp 2.0 tdı multitronic emsalsiz temizlikte\n",
      "sahibinden orjinal audi 6\n",
      "hatasız!!! 2012 model 2.0 tdı audi a6. full paket!!!\n",
      "erkurt otomotivden hatasız boyasız otomatik vites a3\n",
      "kazasız boyasız hasar kayıtsız 2017 bayi çıkışlı sahibinden\n",
      "hedef auto'dan 2008 audi a6 2.0 tdi 4 koltuk ısıtmalı full full\n",
      "en full model açıklamayı okuyun!\n",
      "fatih auto 2013 audi a3 sportback ambition s line 1.6tdi stronic\n",
      "hatasız otomatik\n",
      "dayı turizm otomotiv den 2013 hatasız boyasız\n",
      "yeni kasa 190 bg tr' de tek iç dış full slıne hatasız a6 full\n",
      "özcanlı autopia audi a6 3.0tdı quattro iç dış s line yeni kasa\n",
      "fiyat düştü!!! audi rs5 4.2 fsi quattro s tronic mtv biz'den!\n",
      "audı tt 3. sahibinden temiz orjinal\n",
      "gelen alır\n",
      "akaylar otomotivden_masrafsız_140hp_multitronic_audi_2.0\n",
      "2015 a7 3.0 tdı quattro 320hp\n",
      "2016 a4 2.0 tdi 190 bg stronic desıngn boyasız hatasız sunroof\n",
      "2015 audi a4 allroad 2.0 tdi quattro cam tavan\n",
      "2009 audi a 8 dizel v6 quatro 4 çeker siyah bakımlı doğuş çıkış\n",
      "2012 model audi a5 sportback 2,0 tdi temiz masrafsız\n",
      "ağdemir auto plaza dan audi 1982 model yaşına göre çok temiz\n",
      "temiz audı a6 2.0 tdı full donanım\n",
      "nurtaş auto dan boyasız hatasız audı a6 ultra sanruflu bayı cksl\n",
      "audi a3 rs3 görünümlü 140 hp\n",
      "sahibinden\n",
      "hatasız boyasız hasar kayıtsız on numara araç\n",
      "2014 limousine 1.elden kasım çıkışlı\n",
      "2010 audi a4\n",
      "ilk gelen alır favorilere duyrulur uygun fiyata a 4 masrafsız\n",
      "boyasız audi a4 sunroof led xenon bej deri hız sabtlme 17'jant\n",
      "garage 2015 audı rs 6 4.0 tfsı v8 quattro vakum hafıza bayı\n",
      "sahibinden iç dış s lıne\n",
      "audi tt bayandan\n",
      "2012 model audi a3 sportback 1.6 tdi cam tavanlı otomatik vites\n",
      "sahibinden audı a3 1.6\n",
      "özbilgiçler den audi a.4\n",
      "türkiyede bu km yok sahibinden 99.000 km audı a6 2.0 tdı\n",
      "agr motors a5 s lıne bang&olufsen sıde assıst %18 kdv'li\n",
      "aydemirden 2012 a7 3.0tdı 313hp s line airmatic 360kamera vakum\n",
      "a4 temiz aile arabasi 1.6 benzin lpg li masrafsız\n",
      "audi a4 avant quattro 3.0 v6 tronic sw ekstralı\n",
      "ss motors 2015 audı s8 4.0 tfsı quattro seramik head up 360°\n",
      "ragıp auto dan acill yeni kasa a6\n",
      "a4 sedan 2.0 tdı quattro\n",
      "2012 model audi a 8 quattro long doğuş çıkışlı doğuş bakımlı\n",
      "sahibinden hatasız 2013 model 121,000 km a6 2,0 tdi 177 hp full\n",
      "hatasız doğuş çıkışlı 2015 audi a 6 full\n",
      "çelik otomotivden audi a8 4.2l tdi quattro 385hp bayii çıkış\n",
      "sahibinden hasarsız kazasız a3 sedan ambiente sport\n",
      "ilkim den a8 4.2 tdi quattro v8 hatasız boyasız bayii ısıt soğut\n",
      "çiftkurtlar plaza'dan 2006 audi a8 3.0tdı quattro\n",
      "sahibinden hasarsiz bakımlı\n",
      "sahibinden full full audi a4\n",
      "~~ysf motorsdan~~ 2015 model audi a6 vakum\n",
      "levent motors bayi 2011 audi a5 sline sportback 2.0 tdı sunroof\n",
      "audi a3 2012 model 1.6 dizel otomatik\n",
      "sahibinden 2018 model sport sunroof hafıza kayanled hatasız\n",
      "sprint blue avant\n",
      "sahibinden a4 sedan 2.0 tdı multitronic 7 vites\n",
      "limuzin paket en dolusu\n",
      "2011 orjınal a6 2.0 tdı multıtronıc\n",
      "saylam 2013a6 2.0tdı limusine pkt bayi 4 ısıtma vakum çifthafıza\n",
      "orjinal otomatik vites sanruf\n",
      "düşük km, emsalsiz temizlikte\n",
      "wossadan 2013 model audi a3 ambition dizel otomatik\n",
      "acil ihtiyaçtan kelepir .audi 1.6 d 80 serisi dizel mauel 1982\n",
      "audi a6 3.0 tdı quattro\n",
      "azkar auto 2006 audi a4 2.0 tdi 140 hp multitronic\n",
      "2012 model audi a8 3.0 tdı quattro long bayi çıkışlı\n",
      "ekcar'dan 2.0 tdı quattro f1 doguş elk koltuk_ısıtma navigasy.\n",
      "audi a4 2.7 tdi\n",
      "sahibinden acil\n",
      "hatasız full servis bakımlı\n",
      "satilik audi a3 1.4tubo 2009\n",
      "sahibinden kusursuz a3 sedan\n",
      "2015 model a6 2.0 tdı s tronıc ultra limuzin\n",
      "selçuklu otomotiv ultra bayi yeni kasa 190 hp vakkum camera\n",
      "a6 2.0 tdi multitronic hatasız 2.sahibinden\n",
      "sahibinden audi a5 coupe\n",
      "sahibinden hatasız boyasız\n",
      "2004 model otomatik vites çift kırmızı 130 luk cok temiz\n",
      "audi a5 quatro sline 2010 model\n",
      "galeri 74'den hatasız orjinal\n",
      "a 3 tertemiz hasar kayıtsız boyasız değişensiz\n",
      "kazasız makyajlı kasa 4x4\n",
      "2010 audi a5 extra donanım\n",
      "orijinal kilometrede 2012 gümrük çıkışlı pazarlık olur\n",
      "orjinal audi 80 1.6 td\n",
      "takasli acil sahibinden satılık 2008\n"
     ]
    },
    {
     "name": "stdout",
     "output_type": "stream",
     "text": [
      "extralı a5 coupe\n",
      "sıfır sıkıntı (videolu ilan)\n",
      "asaf dan emsalsiz full full a6 3,2 quattro f1 taba hafıza aırmat\n",
      "nasyonel 2013 doğuş a8long multımedıa soğutma coolbox bose masaj\n",
      "audi 1.8. çok temiz\n",
      "acil satılık 2007 audi a4\n",
      "___ötv zammı öncesi firsat aracı___a3 desingline çiziksiz\n",
      "nusşah autodan hatasız boyasız audi a6\n",
      "a5 2.0 tfsı 252 qtr sport stronıc sback 2017 vdf filo\n",
      "yetkili bayi'den audı a3 sportback 1.4 tfsı benzinli otomatik\n",
      "ercar motors 2014 audi a4 sedan 2.0 tdı bayı çıkışlı\n",
      "oncar 2014 audi a6 2.0 tdi\n",
      "bayi tam dolu vakum deri ısıtma sunroof limuzin paket\n",
      "sahibinden hatasız boyasız audi a6 vakumlu kapı(takas yoktur!)\n",
      "2010 audi a6\n",
      "yeni makyaj 2012 a5 2.0tdı 177hp doğuş çıkış sunroof deri ısıtma\n",
      "atışalanı 2 den 2016 model audi a3 1.6 tdı attraction s tronic\n",
      "lpg yüzü görmemiş değişeni boyası yok\n",
      "fulll full 1.8 t.sline\n",
      "takaslı üst model araç ile 193bin km\n",
      "sahibinden doğuş çıkışlı hatasız boyasız hasar kayıtsız\n",
      "emsalsiz temizlikte 2015 quattro\n",
      "audi a8 ( senetle taksitlendirme seçenegimiz vardır)\n",
      "hatasız temiz\n",
      "askar otomotiv'den2016 a4 2.0 tdı 190hp dynamıc sunroof'lu doğuş\n",
      "audi a4 2.0 tdı multitronic bayi çıkışlı\n",
      "boyasız hatasız audı a3 otomatik\n",
      "hakko oto'dan sıfır ayarında 2016 mod. a3 ambiente\n",
      "2012 audi a6 2.0 tdi bayii\n",
      "sahibinden 68.000 km a1 s tronic\n",
      "audi a3 sportback kazasız\n",
      "hatasız boyasız fuul orj. audi\n",
      "2013_a5_2.0tdı_quatroo_s line\n",
      "2015 cıkışlı f1 vites led stop xenon far son fiyat!\n",
      "2014 model audi a4 mmı göğüs mtv ödendi bakımlı\n",
      "2016 audi a4 hatasız boyasız hasar kayıtsız doğuş çıkışlı\n",
      "eray auto dan 1.6 masrafsız a3 otomatık alemin kralı\n",
      "audi s3 makyajlı kasa\n",
      "alkan alkan aş 2016 bayi a6 2.0 tdi quattro matrix hatasız\n",
      "audı a6 2.6 v6 gümrük çıkışlı yer uçağı\n",
      "xenon led hatasız boyasız dizel otomatik\n",
      "sahbinden hatasız tramersiz özel sipariş audı a7\n",
      "er oto'dan 2000 model tt 1.8 t quattro cabrio 175.000 km ısıtma\n",
      "ers motors 3d '2013 audı s8 only foreıgner to foreıgner'\n",
      "sahibinden hatasız 85.000 km audi a3 sedan dizel oto xenon fulll\n",
      "amerikan versiyon 170hp 1.8t quattro\n",
      "2010 audi a3 sportback 1.4tsi ambition 125 hp s tronic\n",
      "baran auto'dan 2016 audı a3 dyanmıc s tronıc pı servis bakımlı\n",
      "mavi nokta motors 2010 audi a5 sportback hafıza sunroof led bej\n",
      "sahibinden audi a6 2.4 quattro 2003 model değişensiz\n",
      "sahıbınden a5 sportback hayalet gosterge matrıx far kayar sınyal\n",
      "audi a4 2.0tdi otomatik\n",
      "hatasız doğuş çıkışlı 2016 audi a6 2.0 tdı quattro 82.000 km.de\n",
      "2015 audi a5 sportback 2,0tdi quattro\n",
      "mgs auto 2015 audı a8 3.0 tdı quattro long tam dolu dogus\n",
      "hasar kayıtsız 118.000 km de sınıfının en dolusu full full\n",
      "2016 audi a3 led deri 41.000 km\n",
      "servis bakımlı temiz a1\n",
      "caryaa motorlu araçlar 2013 çıkışlı makyajlı kasa\n",
      "orjinal tertemiz\n",
      "hasar kayıtsız ,hatasız , bakımlı sahibinden fiyat düştü\n",
      "hata olustu/ilan/vasita-otomobil-audi-ilk-gelen-alir-gider-karaca-otomotivden-2012-model-audi-a5-sline-652506517/detay\n",
      "!!! hatasız !!! full full audi 160 bg\n",
      "audi a3 sportback prestige pack\n",
      "2015 hatasız 190 hp vakum hafıza elk bag üç kol f1\n",
      "adressauto'2014 audi a1 1.6tdı attraction hasar kayıtsız hatasız\n",
      "emsalsiz temizlikte a4 bakımları yeni\n",
      "sahibim suv istiyor\n",
      "bu fiyattan aşağı düşmez boşa beklemeyin\n",
      "sahibinden audı a3 1.6 sportback attractıon (benzin lpg)\n",
      "çelik motor s 2008 audi a3 hatchback 1.4 tfsı manuel 157.000 km\n",
      "2014 a3 sedan 1.6 tdı ambition s tronic 100.000km\n",
      "bedirhan auto dan 2004 model audi a4 otomatik dizel masrafsız\n",
      "çetin otomotiv den temiz audi\n",
      "2010 model allroad quattro\n",
      "temiz düzgün bakımlı\n",
      "a3 tertemiz 1.4 tfsi stronic full\n",
      "doğuş çıkışlı 2016 hatasız audi a6 2.0 tdi quattro full\n",
      "sahibinden satılık audi a3 sedan\n",
      "sahibinden audi a6 fiyat düştüüü!!!takas olurrrr!!!\n",
      "sahibinden audi a6 2.0 tdi 170 bin de km dusuk acil satlik\n",
      "''kılıç auto'' audi a6 2.0 tdı bayi çıkışlı\n",
      "2011.audi a6 sedan 2.0 tdi 170 bg multitronic sunrooflu.\n",
      "sahibinden sıfır ayarında a6 stronic\n",
      "doktordan satılık audi\n",
      "sahibinden satılık audi 3.0tdi quattro\n",
      "2016 a5 2.0tdı quattro 190hp doğuş çıkış sadece 8.000km prestige\n",
      "sahibinden audi a4 sunrofflu\n",
      "2016 model audi a3 1.6 tdi ambition s line 51.000 km de bayii\n",
      "kaçmaz masrafsız audi\n",
      "acil ful bakımlı hatasız 2004 audi a4 1.9 tdi 6 ileri sanruflu\n",
      "best oto'dan 2015 audı a4 2.0tdı 177hp boyasız hatasz trammersiz\n",
      "2011 a5 quattro 4x4 hatasız boyasız iç dış s line bayii\n",
      "2018 çıkışlı sahibinden tertemiz\n",
      "bin bir motors dan 2016 audı a4 beyaz yeni kasa hatasız boyasız\n",
      "2015 model audı a5 2.0 tdı quattro beyaz içi siyah boyasız\n",
      "2013 boyasız cam tavan s tronic kredi imkanı\n",
      "turkiyede tek!\n",
      "değişensiz boyasız a4\n",
      "ismerun grup'tan audi a3 sedan 1.6 tdi\n",
      "emsalsiz servis bakımlı bayii\n",
      "acil satılık audi a6 limousine\n",
      "acil satılık temiz a4\n",
      "yüksel plaza a3 sedan 1.6 tdı ambition s tronic\n",
      "2014 model 2.0 tdı 177 hp led far koltuk ısıtma katlanır ayna\n",
      "kılıçoğlu'ndan 2009 audi a5 2.0t coupe bayi hatasız 115kmde\n",
      "km düşük kazasız değişensiz audi a4 masrafsız\n",
      "yılser'de audi a4 2.0 tdı hatasız&orjinal emsalsiz\n",
      "acil satılik\n",
      "2010 model acil\n",
      "aydınoğullarından 2015 otomatık a3 full %30 peşin senetle\n",
      "son bir hafta özel üretim özel fiyat! coupe s3 sunroff xenon\n",
      "ilk elden doktordan 88.000 km boyasız içi bej garaj aracı\n",
      "sahibinden sorunsuz\n",
      "acil audi a5 sportback 20 tdı ouatro stronik sunrof bayi çıkışlı\n",
      "audi a8 l 4.2 fsı bakımlı temiz kazasız\n",
      "2017 model audi a3 sportback 1.0 tfsı dynamic s.tronic garantili\n",
      "memurdan hatasız 2011 a4\n",
      "boyasız değişensiz 1.4tfsı s tronıc ekstralı siyah gri\n",
      "sahibinden temiz ve bakımlı a 5 coupe bayi çıkışlı\n",
      "yaren auto'dan 2011 audi a5 sportback 2.0 tdı sunroof bayi cıkış\n",
      "ebi car'dan a5 2.0tdi sportback sunroof deri ısıtma\n",
      "uyaroğlu.otomotivden 2008 audi a6 2.0 tdi otomatik\n",
      "sip@hioğlundan 2013 s line vakum hafıza cruıse geri grş perde a6\n",
      "carsell doğuş çıkışlı 2013 audi a 8 3.0 tdi long quattro\n",
      "ata motors a7 3.0tdı quattro iç dış s lıne bayii vakum\n",
      "2003 model audi a3 1.6 otomatik vites lpg li tertemiz\n",
      "eren otomotiv'den audi a5 sportback 2.0 tdı quattro hatasız\n",
      "audi a4 memurdan satlık\n",
      "acil .190 beygir. 8 ileri vites.temiz kullanılmış aile arabası\n",
      "nazlı auto gayrimenkul .2015 audi a.4 .55.000 km de .\n",
      "güler otomotiv'den 2014 audi a4 boyasız beyaz 150 hp sanruf deri\n",
      "sahibinden hatasız\n",
      "full paket tertemiz sahibinden sorunsuz a4\n",
      "1998 model audi a4\n",
      "2013 2.0 tdı 177 multıtronıc pı\n",
      "sunrufflu audi 80\n",
      "audi a4 tfsi sport 2018 model\n",
      "bayandan cift renk bakimli audi a1\n",
      "2017 model audi a6 2.0 tdi quattro edition s tronic 190 ps bayii\n",
      "2015 audi a6 hatasız 190 ps vakum, e.bagaj\n",
      "2015 sıfırdan tek el orjınal hatasız boyasız full full\n",
      "kazasız değişensiz tramersiz 90.000 km full s line audi tt tfsi\n",
      "audi tt s 2011 quattro\n",
      "bayrak otodan 2016 model a5 guatro dizel dnamik paket\n",
      "ayşit otomotiv & plaza ( orjinal a6 )\n",
      "sahibinden bayi çıkışlı 2016 a6 sadece 39 binde 2.0 tdi ultra\n",
      "1.sınıf degişensız fulll a3\n",
      "2015 audi a4 2.0tdi hatasız led xenon yeni nesil 177ps ekstralı\n",
      "trt personelinden temiz audi a6\n",
      "konya gençler otomotiv'den hatasız boyasız içi bej sanruflu\n",
      "doru motors audi a5 sportback\n",
      "k motors 1999 a4 otomatik 2.4lpg 125.000km emsalsiz\n",
      "eren otomotiv'den 2015 audi a4 2.0 tdı\n",
      "sahibinden satılık audi\n",
      "2015 audi a4 2.0 tdı 177hp, boyasız, yetkili servis bakımlı\n",
      "sahibinden orjinal temiz boyasız değişensiz hasarsız\n",
      "audı a3 1.6 tdı s lıne 2014\n",
      "aras 'tan mükemmel görünümlü hatasız boyasız iç dış s line beyaz\n",
      "177 ilk orjinal audi a4\n",
      "2013 model a5 2.0 dizel 66.000 km flaş otomotiv\n",
      "audi a3 sedan 2015 model 75.000km 1.6 tdı attraction s tronic\n",
      "öz güneysu'dan sunrooflu otomatik 2008 audi a6 2.0 tfsi 170 hp\n",
      "ilanın en temiz arabası bence kacırmayın derim\n",
      "ilk sahibinden .\n",
      "tertemiz audi a3\n",
      "audi a4 177 bg sunroof hatasız boyasız değişensiz\n",
      "pazartesiye kadar opsiyonludur\n",
      "2015 a3 1.6 tdı sportback kefilsiz 28200tl peşinat 3180tl taksit\n",
      "2018 audi a3 1.0 tfsi sport prestige led farlar 300km\n",
      "takaslı 99900tl içi taba cam tavanlı otomatik dizel s5 görünüm\n",
      "audi a6 bundan temizi yok!!\n",
      "2016 yeni kasa3kol direksiyon ledli a3 s tronic f1\n",
      "1,6 tdi yumurta kasa\n",
      "audi a4 2005\n",
      "fiyatı düşürdük\n",
      "sahibinden tertemiz audi a3 full full\n",
      "manuel a3 1.6 tdı\n",
      "sanruf 4koltuk ısıtma arka kılima tam dolu a6\n",
      "konya galeri'den 2007 model audı a6 3.0 tdı quattro\n",
      "2008 model audi a.6 3000 dizel 4.çeker yer uçağı\n",
      "sahibınden uygun fiyat cam tavan sanruf deri koltuk\n",
      "kalp atışlarınızı kontrol edin a5 quattro\n"
     ]
    },
    {
     "name": "stdout",
     "output_type": "stream",
     "text": [
      "zeki oğulların dan2016 audi a3 ambiente 1.6 tdı 110bg s tronıc\n",
      "2015 audi a3 sedan 1.6 tdi attraction recaro deri koltuklu\n",
      "niğdeliler 2016 audi a5 sportback 2.0 tdı quattro 4650\n",
      "audı a3 otomatık dızel\n",
      "sıfır ayarında,xenon,led,cruıse control,yarı deri döşeme\n",
      "2005 model a4 2.0 quattro lpgli iç dış sline sunroof masrafsız\n",
      "doğuş cıkışlı limousine paket vakum hafıza perde bose özel\n",
      "hüseyin ince auto'dan 2012 audi a7 3.0 tdi quattro s tiptronic\n",
      "audi a5 1.4 tfsi design nokta hatasız garaj arabası\n",
      "bai çıkışlı 2014 çıkışlı hatasız hasar kayıtsız\n",
      "tertemiz sorunsuz audi a3 full u\n",
      "sahibinden temiz audi a3 attraction\n",
      "ayvaz auto dan a 4 2.0 tdi quatro s sunrof lu\n",
      "acil olduğundan fiyat düştü çok temiz en dolu olanı\n",
      "gümüşcü 2015 audı a4 sunroof deri ısıtma 17jant servis bakımlı\n",
      "audı a5 2015 model 2.0 tdı qauttro s tronıc hasar kayıtsız\n",
      "garage 2017 audı a5 1.4 tfsı sport coupe sunroof.bayi\n",
      "temız, bakımlı a6 otomatık , kazasız.\n",
      "sahibinden satılık temiz a6 quattro\n",
      "177beygirlik 8 ileri otomatik a4\n",
      "takas olur\n",
      "hancar 2015 rs6 4.0 tfsı quattro vakum bose seramik doğuş hatasz\n",
      "2011 audi a5 2.0 tdi hasar kayıtsız en dolusu emsalsiz\n",
      "tek elden itina ile kullanılmış 1.sınıf bir araç\n",
      "2018 model a6 quattro hatasız\n",
      "sahibinden temiz kullanılmış 2006 manuel audi a6 2,0tfsi\n",
      "cns auto dan değişensiz kayıtsız\n",
      "sahibinden 2014 a4 150 hp 2.0tdı limousine xenon led 85.000 km\n",
      "2016 a3 50 bin km alttraction hatasız garantili s tronic\n",
      "sahibinden hatasız kazasız bayi çıkış a5 2.0 tdı 2013 sportback\n",
      "sahibinden otomatik bakımlı a3\n",
      "2007 audi a3 sportback 1.6 otomatik benzinli açılır cam tavan\n",
      "2010 model 85.000'de full full audi a5 cabrio\n",
      "dikkat !!! tam dolu sadece 2 gün\n",
      "sahibinden sıfır ayarında\n",
      "nisa'dan audı a8 long quattro\n",
      "sahibinden temiz a3\n",
      "has otomotivden hatasız boyasız audi a3\n",
      "değişensiz\n",
      "memurdan masrafsız a6\n",
      "temiz kazasız değişensiz 2016 model audi a3 sportback 51.000 km\n",
      "audi a4 lımousıne 2.0 tdı söke aydın'a hayırlı olsun\n",
      "sahibinden acill\n",
      "arazi pikap tarzı araçlarla takas düşünülür yeni muayineli\n",
      "audi a6 2015 dizel luxury selection dış s değişensiz boyasız\n",
      "alan kişiye hayırlı uğurlu olsun .\n",
      "bakımlı,aile araci,takas olur.\n",
      "2009 audi a6 2.0 tdi vakum ön,arka koltuk ısıtma sunroof\n",
      "öğretmenden çok temiz a3\n",
      "zonguldaktan bakımlı özel sipariş a3\n",
      "a1 ambition otomatik landirenzo lpg ruhsata işli (çok ekonomik)\n",
      "otomatik vites deri koltuk rs4\n",
      "hk otomotiv den 2.0 tdı 177 ps f1 a6 multıtronic ici bej\n",
      "sahibinden audı a5 2.0 tfsı quattro\n",
      "rol s3 quattro 500\n",
      "hatasız düşük km f1 vites sline servis bakımlı garaj aracı\n",
      "audi a3 2005 otomatik acil satılık\n",
      "benzersiz audi a5\n",
      "ford yetkili bayiden temiz audi a5\n",
      "35.800 km de tertemiz a3\n",
      "hatasız hasar kayıtsız sunroof'lu a4 dynamic\n",
      "nasyonel 2012 doğuş s5 3.0tfsı 333hp bang olufsen ısıtma hafıza\n",
      "naifoglu auto 2007 a8 long temiz kullanılmıstır bayi\n",
      "2012 audi a7 3.0tdı quatro s line full full hatasız bayi çıkışlı\n",
      "ulaş auto 2014 audı a4 sedan 2.0 tdı 150 hp servis bakımlı\n",
      "satılık audi a6\n",
      "uygun fiyatlı otomatik pazarlıksız\n",
      "alk auto'dan a4 sedan\n",
      "san otomotiv 2008 audi r8 4.2 quattro r tronic\n",
      "böylesi yok lüks ve tarz arayanlara.\n",
      "2016 audı a3 sportback 1.6 tdi ambiente s tronic\n",
      "ilk sahibinden az kullanılmış audi a5\n",
      "acn motors'dan 2011 audı a5 coupe s lıne 1.8 tfsı otomatik\n",
      "ev alacağım için acilll satılık.!!\n",
      "sıfır hatasız\n",
      "çok temiz audı a5 sportback 2.0 tdı quattro 190hp s line\n",
      "baran autodan temiz a5 s line\n",
      "atilla 2011 audı a5 2.0 tdi sportback f1 s line star stop\n",
      "iç dış es line en dolusu ısıtma soğutma televizyo nokta hatasız\n",
      "audi a6 2010 model 2.0tdı multitronic 170psı özel aracım\n",
      "ekip2 'den 2014 audi a4 2.0 177 hp quattro s tonic\n",
      "doğu batı otomotiv'den boyasız ekstralı design line cam tavan\n",
      "78.994 km doğuş 2016 a6 3.0 tdi quattro siyah içi bej çok temiz\n",
      "89.000 de ve değişensiz\n",
      "fiyat düştü bayandan temiz 68.000 km audi a1\n",
      "audi a4 yabancıdan yabancıya\n",
      "2013 audı a8 tdı long quattro busıness paket doğuş bayi\n",
      "audi yetkili bayii acarsan dan 2017 a6 2.0 tdı 190 hp boyasız\n",
      "ayron motors a6 2.0 tfsı quattro s tronıc full full\n",
      "audi a4 2.0 tdi dizel 143 hp 1968cc yarı otomatik 2009 model\n",
      "bu fiyata kaçmaz 2011 model audı tt cabrio roadster slıne\n",
      "1995 audi a6 2.5 tdı avant\n",
      "2013 a 3 sedan 1.4 tfsi attraction s tronıc 140 hp\n",
      "aydemirden 2012 s5 görünümlü audi a5 coupe 1.8tfsı s line\n",
      "ilk sahibinden kazasız sunrouff ve deri koltuklu a4 2.0 tdi\n",
      "ccs garage audi s8 4.0 tfsi quattro 520hp, b&o, masaj, carbon.\n",
      "sahibinden 2015 model a3 cabrio hatasız & tramersiz & 53bin km\n",
      "a3 hata yok boya yok değişen yok kayıt yok tertemiz\n",
      "2016 a3 sedan dizel otm. cam tavan yarım deri zenon led\n",
      "audi a3 s line paket özel plaka\n",
      "audi a4 araç sıkıntızdır\n",
      "majesty motors' dan 2015 audi a5 190hp sportback quattro boyasız\n",
      "sahibinden sıfırdan farksız a3 sportback\n",
      "acil satılık audi a5\n",
      "paşa motors rs5 sportback 2.0 tdi 220 bg multitronic özel dzyn\n",
      "2015 doğuş çıkış multımedıa spor koltuk soğutma aırmatıc 520 hp\n",
      "ödül'den 2007 audi a3 s line cam tavan beyaz\n",
      "2004 turbo dızel full full\n",
      "alman tankı\n",
      "2005 audi a4 2.0 tfsi quattro sunrooflu\n",
      "2012 audi a4 2.0 tdi multitronic 143 hp\n",
      "ölmez auto dan 2017 hatasız boyasız bayii\n",
      "sline a4 quattro\n",
      "emir otomotivden 2015 hatasız orjinal 2.0 tdı 177bg beyaz s line\n",
      "hatasız boyasız tramersiz cam tavanlı\n",
      "attarlar otomotiv'den hatasız garantili orjinal a6 edition\n",
      "acilll fiyat düştüüü ilk gelen alir\n",
      "kredi imk. ile , 2014 audi a3 sedan 1.6 tdi otomatik\n",
      "istersen bak audi s3\n",
      "clean car audi a5 s line sportback quattr0\n",
      "sahibinden a6 3.0 tdı quatro bayii çıkışlı s tronic\n",
      "tr de tek audi a3 1.6 manuel sunroof zenon ses sistemli bebek.!\n",
      "92.000 km'de 2014 model audi a6 2.0tdi 177 hp bayii\n",
      "audı tt 2000\n",
      "audi a.5 dizel dsg otomatik 177 beygir\n",
      "pasha auto doğuş bakımlı\n",
      "sahibinden 136.000 km de degisensiz a 3.1.6 dizel otomatik dizel\n",
      "galeria sarı dan nostalji özenle toplanmış audi 100 2.5 tdi\n",
      "hatasız boyasız 114 binde a6\n",
      "audi a3 1.6 amp s line görünüm\n",
      "2014 audi a7 3.0 sportback quattro doğuş çıkışlı 95.000 km de\n",
      "2. sahibinden audi a6\n",
      "tuna autodan 2012 audi a4 2.0 tdi 150 hp makyajlı kasa\n",
      "markasi motorsdan 2017 audi a5 sportback 1.4 tfsı dynamic\n",
      "konfor ve emniyet isteyene sanruflu\n",
      "sahibinden kazasız 80000 km orjinal 177 bg\n",
      "sahibinden satılık audi a6 3.0tdi v6 quattro\n",
      "class car 2011 audı tts quattro s tronic\n",
      "sahibinden satılık a6\n",
      "hatasız boyasız\n",
      "kendir otomotiv'den tr'de tek audi a6\n",
      "volcar altunizade' den a8 3.0tdı quattro long bayii çıkışlı\n",
      "savaş beye hayırlı olsun\n",
      "mehmet öztürk otomotiv'den 2013 audi a6 bayii 110.000 km içi bej\n",
      "ss motors 2017 audı s3 2.0 tfsı quattro navara mavi 4.621km bayi\n",
      "sahibinden acil audı tt quattro 2009 model 118.000 kmde! .\n",
      "audi a5 sportback 138.000 km\n",
      "dosta gıder audı\n",
      "ssmakas audi a4 station wagon 3.0 quattro\n",
      "polisten temiz audi quattro acill oldugundan bu fiyat\n",
      "sahibinden temiz servis bakımlı audi a3 sedan\n",
      "selin den 2013 model 74.000 km iç dış s line 2.0 tdı quattro\n",
      "hatasız, orjinal, quattro !\n",
      "aydınoğullarından 2012 a5 2,0tfsı ouatro %30 peşin 36ay senetle\n",
      "sahibinden temiz 2016\n",
      "intercity otonomi 'den 2016 audı a6 2.0 tdı 190 hp ultra paket\n",
      "mükemmel kondisyonda a4 avant 2.0 tdi 2009\n",
      "gürkanlar otomotıv full audı a5 sportback 2.0 tdi yetkılı servıs\n",
      "sahibinden acil\n",
      "arasan bulamazsın .310 bg aırmatıc wakum bose tv\n",
      "2012yeni kasa a4 2.0tdı 177hp.doğuş çıkış dij.klima led 18''jant\n",
      "esnaftan acil satılık aile arabası\n",
      "2013 a5 2.0tdı quattro bayii çıkışlı hatasız boyasız\n",
      "kapalı garaj aracı servis bakımlı 128 binde\n",
      "ilk sahibinden\n",
      "alman panzeri satista\n",
      "vitrin auto'dan 2018 a5 1.4tfsi design delüx matrix taba boyasız\n",
      "2014 bayii a8 long 3,0 tdi cam tavan media soğutma tam dolu full\n",
      "yüksel otomotiv'den a4 desing quattro 190ps s tronıc\n",
      "bayan memurdan tramersiz\n",
      "kazasız temiz a4\n",
      "2012 model hatasız boyasız a3 stronic led xenon katlanır ayna\n",
      "2014 a5 2.0 tdi 101.000km. sunroff elk.koltuk bang olufsen full\n",
      "2009 model 2010 trafik çıkışlı sunrooflu\n",
      "2018 sıfır ayarında 8.600 km de a5\n",
      "salih oto'dan audi a5 sportback 2.0 tdı iç dıs sline\n",
      "arz otomativden 2017 emsalsiz km sanruuf otomatik sıfır tadında.\n",
      "ars motors 2008 audi a5 coupe 2.7 tdı 240hp 198.000km\n",
      "audi a6 2008 2.0 tdi hatasız mantıklı takas olur\n",
      "bergay motors'tan orjinal a6\n",
      "makyajlı kasa a6 sahibinden\n",
      "boyasız 2016 beyaz a4 deri sanroff\n",
      "sahibinden\n",
      "audi a6 2007\n",
      "mavi nokta motors 2011 audi a7 quattro vakum led hafıza air\n",
      "audi a5 quartro 4wd(sürekli)\n"
     ]
    },
    {
     "name": "stdout",
     "output_type": "stream",
     "text": [
      "eşedosta gider, sorunsuz 2011 model 2013 trafiğe çıkış, kusursuz\n",
      "yeniköy motors izmir 2013 audi a8 3.0 tdı quattro long bayi\n",
      "2017 audi a6 2.0tfsi 4x4\n",
      "böylesi birdaha gelmez\n",
      "oto derin den 2012 audı a8 long 3.0 tdı quattro bayı çıkışlı\n",
      "doğruyol auto'dan hatasız emsalsiz 4k ıst sunroof doğuş içi bej\n",
      "garantili sıfır motor audı a6 2.0tdı multıtronıc\n",
      "özde otomotiv den tertemiz hasarsız boyasız audi a6\n",
      "acil ! temiz a3 lansman renk camtavan sunroof full s line\n",
      "2018 a5 sportback 1.4 tfsı sport delüx prestige ıstm hfza a.klma\n",
      "serkan otomotiv 'den audi a6 2.0 tdı 177 hp doğuş cıkışlı 2011\n",
      "audi a3 garaj arabası 2016 modeldir !!!\n",
      "otomoto garaj 2015 audi.a5 coupe 2.0 tdi.quattro 190bg boyasız\n",
      "2013 audi a5 2.0 tdi otomatik 177 hp bayi çıkışlı\n",
      "audi a1 tramersiz sıfır ayarında sahibinden\n",
      "2018 audı a5 sportback 1.4 tfsı 6.850km füme bej deri hatasız\n",
      "alamancidan audi80b2 benzin& lpg klima var\n",
      "temiz sahibinden multitronic a4 2.0tdi\n",
      "erman oto'dan 2012 model iç dış slıne 177hp hatasız boyasız audi\n",
      "acil sahibinden temiz audi a6 170 bg bayi çıkışlı, makyajlı kasa\n",
      "boyasız tramersiz 130binde sunroof\n",
      "iç dış s line 2013 model a5\n",
      "sahibinden 2010 audi a 6\n",
      "fırsat!!!2013 audi a4 quattro\n",
      "düşük fiyata a 6 sahibinden\n",
      "deka motors 2014audi a4 2.0tdi 150hp audiconcert servis bakımlı\n",
      "sahibinden temiz audı a3 ambıtıon ön arka led zenon\n",
      "2013 a3 sahibinden hatasız düşük km'li\n",
      "2012 audi a5 1.8 tfsi boyasız bayicabrıo s lıne hatasız\n",
      "2010 model makyajlı kasa otomatik vites sunroof'lu audi a3 tfsi\n",
      "2016 audi a5 coupe 2.0 tdı quattro hatasız cam tavan 24000km\n",
      "otoroll 2010 audı a5 1.8 tfsı rs5 görünüm\n",
      "2016,model,a7,3.0 tdi v6 quattro,s tronic,320 hp,bayi çıkışlı,\n",
      "sahibinden 2018 model hatasız\n",
      "ss motors 2001 audı s6 4.2 quattro ısıtma bose doğuş\n",
      "son gün kazasız boyasız 2016 trafik çıkışlı\n",
      "er otodan 2006 audi a6 3.2 quattro iç dış s line 150.000 kmde\n",
      "sahibinden kazasız temiz satılık araç\n",
      "mahmut otomotiv'den audı a3 sportback 1.2tfsı s tronıc!\n",
      "2013 model audi a5 2.0tdi quattro 4 çeker ilk elden 177 hp\n",
      "f1 177hp sunroof s line hatasız düşük km sahibinden\n",
      "2012 audi a 4 177 hp\n",
      "sahibinden tertemiz masrafsız .\n",
      "orjinal arayanlara\n",
      "audi a 4 s lıne 160 hp hatasız\n",
      "çok temiz bakmadan geçme\n",
      "özkoç oto konya boyasız 2,0 tdi a4 katlanır ayna hız sabitleme\n",
      "2004 hatasız audı a6 otomatik 1.8 t ss lpg 160 hp\n",
      "2012 audi a5 2.0 tdi sunroof deri koltuk ısıtma bayi çıkışlı\n",
      "sahibinden hatasız boyasız a6 dış s line\n",
      "yaşına göre çok iyi\n",
      "autoken 2011 audi a5 coupe 1.8tfsı iç dış s line bayi boyasız\n",
      "sahibinden 2013 a4 2.0 tdı 177hp sunroof s line paket 119.000km\n",
      "takaslı a4 audi\n",
      "doktordan temiz audi a3 sedan\n",
      "duru'auto'dan 2011 a4 2.0 tdi otomatik 177 lik\n",
      "s line full full b7 kasa orjinall\n",
      "audı a5 dış sline 119.900 tl doğuş çıkışlı emsalsiz\n",
      "garage 2018 audı a5 sportback 1.4 tfsı sport o km ısıtma doguş\n",
      "2.sahibinden az kullanılmış\n",
      "acill !!! sahıbınden temiz audi a5 2.0 tdı 190 hp quattro spline\n",
      "2018 2. ay çıkışlı a3\n",
      "2012 dizel tramer yok değişen yok hatasız\n",
      "bayi cikisli, quattro edition, içi taba, hatasiz\n",
      "2014 78000kmde kazasız s6 görünümlü\n",
      "audi a3 dizel otomatik ambiente 27bin km'de yarı deri cruise\n",
      "eczacıdan temiz bakımlı a5 quattro\n",
      "2011 audı a5 2.0 tfsı quattro cabrıo doğuş bayi 8.465kmhatasız\n",
      "akkoyunlu toyota bayiinden 2012 audi 2.0 dizel\n",
      "sıfır denginde a5 s line görünüm\n",
      "bayandan kırmızı temiz a1\n",
      "sahibinden satılık temiz audi a4\n",
      "sahibinden acil satlik\n",
      "2010 audı a3 1.4 tfsı attractıon s tronıc otom. benz. 176000km\n",
      "sahibinden satılık\n",
      "sahibinden temiz a6\n",
      "audi a3 sportback atraction manuel\n",
      "a8 3.0tdi quatro long bayi\n",
      "erk motors 2017 a5 1.4 tfsı sunroof bizenon deri koltuk ısıtma\n",
      "kusursuz 2012 audı a6 dızel otomatık\n",
      "bayi çıkışlı tramersiz hatasız 110 binde orjinal full\n",
      "190 hp a6 ultra\n",
      "2016 audı a4 1.4tfsı sport sunroof hafıza kayanled cruıse hatasz\n",
      "tekkar !!! 2014 audi a5 2.0tdı 177ps bayi yeni tip 122.000km\n",
      "audi a6 2000tdi makam aracı\n",
      "doğubey 2017 model a5 1.4 tfsi sport bayi nav hayalet matrix\n",
      "hatasız 2010 model otomatik emsalsiz temizlikte 8 ileri\n",
      "2012 audı a8 3.0 tdı quattro bayı çıkışlı\n",
      "avrupadan gelme audi a4 1.6\n",
      "sahibinden emsalsiz tertemiz a6\n",
      "değişensiz 2015 model a3 attraction s tronic 51bin km`de\n",
      "ergil auto'dan a4 sedan 2.0 tdı multitronic\n",
      "aldemir auto dan ful full cam tavan a5\n",
      "hatasız ledli a4\n",
      "tts 2.0 310 hp\n",
      "ilk sahibinden 26500 km.graj arabası\n",
      "orjınal km hatasız kazasız hasar kayıtsız doğuş çıkışlı bakımlı\n",
      "karaca otomotiv'den 2012 audı a4 2.0 tdı multıtronıc s line\n",
      "tr' de tek audi a5 1.4 tfsi sport delüx prestij navigsyn hayalet\n",
      "2.4 quattro benzin lpg sunroff otomatik\n",
      "audi a1 ambition 83500 km biniciye ideal\n",
      "sahibinden 2018 1.0 otm.audı a3 nokta hatasız\n",
      "sahibinden audi a5 coupe siyah otomatik\n",
      "sahibinden hatasız audi beyazı a1\n",
      "gani otomotiv'den 2009 audi a6 2.0 tdi 140 multitronic hatasız\n",
      "2012 audi a6 bayii 4koltuk ısıtma xenon hafıza 166bin km boyasız\n",
      "yanangök otomotivden a8l quatrroo dizel\n",
      "2015 audı a8 3.0 tdi quattro long bayi çıkışlı camtavan\n",
      "2006 sahibinden temiz a3 1.6 otomatik\n",
      "karataş' tan 2015 audı a5 sportback 2.0 tdi.\n",
      "bursacar 2015 model a4 2.0 tdı desıgn quattro 190 ps ve boyasız\n",
      "a4 s görünümlü extralı temiz\n",
      "çarşı'dan 2016 model audı a4 sedan 2.0 tdı dynamic s tronic\n",
      "2008 audi a3 1.4 tfsi ambition sunroof'lu emsalsiz servis bakıml\n",
      "temız yetkılı servıs bakımlı\n",
      "sahıbınden satılık 2011 model audı a6\n",
      "tr böylesini görmedi audi a6 s line açıklamayı okuyun\n",
      "2012 a4 2.0 tdı 177 hp sunroof led spor direksiyon full\n",
      "2009 audi a5 2.0 tfsi coupe sunroof led rs5 panjur\n",
      "dostlar autodan 2010 model a5\n",
      "2009 audı a 6 3.0 quattro vakum sunroof takas olur vade olur\n",
      "iscar oto'dan bayi çıkışlı 2017 a5\n",
      "temiz a6 quattro\n",
      "berke motors'dan a6 3.0tdı quattro vakum sunroof ısıtma perde\n",
      "pazarlıksız&nakit satılık 38.000 km audı a3 sedan 2014 aralık\n",
      "öğretim üyesinden 2014 dizel otomatik sunrooflu audi a3\n",
      "boyasız hatasız audı a3 1.4tfsı sportback f1vites otmatk 88000km\n",
      "yeni kasa k. ısıtma katlanır ayna led emsalsiz 177 bg\n",
      "acil favorilere duyrulur!otomatik f1 quattro audi a4 romano lpg.\n",
      "cam tavan temizlik ötesi\n",
      "sahibinden bayi cikisli\n",
      "1.8t otomatik bakımlı\n",
      "böylesi yok cabrıo s lıne çok temiz otomatik dipdiri takasolur\n",
      "2013 audı a6 2.0 tdı 177 hp multıtronıc deri ısıtma sunroof\n",
      "2015 audı a4 2.0 tdı 177 hp quattro navigasyon 4x4\n",
      "sahibinden emsalsiz temizlikte\n",
      "hatasız dizel panoramik cam tavan sportback bi xenon recarco\n",
      "ilk sahibinden bayi çıkışlı 85.250 km tertemiz\n",
      "hata olustu/ilan/vasita-otomobil-audi-memurdan-tertemiz-a3-dusuk-km-665251924/detay\n",
      "hilal'den 2013 boyasız cam tavanlı a3 s line paket\n",
      "% 1.29 dan başlayan faiz 2014 a3 sportback 1.6tdı ambiente xenon\n",
      "hatasız 2015 en dolu a7 320 hp bi turbo s line exclusıve (bayi)\n",
      "otomatik vts lpgli klimali\n",
      "76.300 km bakımları yeni yapılmış, dolu 2008 audı tt\n",
      "sahibinden temiz audi a5 özel renk\n",
      "sahibinden audi a3 dizel otomatik 2012 model siyah 127.500 km\n",
      "audi a5 tfsı\n",
      "demir' den 2015 audi a6 2.0 tdı bayi çıkışlı en dolusu 85.000 km\n",
      "yüce hünkardan audi a5 s.back s lıne 2.0 tfsı quattro 211 bg\n",
      "bu temizlikte bir tane daha yok\n",
      "efe otomotivden 2012 audi a6 3.0 tdı quattro\n",
      "ön arka led sunroof multitronic deri koltuk\n",
      "2009 model audi a6 2.0tdi multitriptonic tamamına yakın krediii\n",
      "audı a3 bayan öğretmenden 192 km\n",
      "audi a5 s line sanruflu ful paket kısa süreliğine 115 bin tl\n",
      "çok temiz ve masrafsız memurdan otomatik audi a3\n",
      "audı a5 sportback 2012 model 2.0tdı sunroof deri ısıtma koltuk\n",
      "sahıbınden audı a5 2.0 quattro ıc dıs s lıne temız masrafsız !\n",
      "fırsat a5 quattro 2.0tdi orj.82000 km de\n",
      "audı a6 2.0 tfsı quattro s tronic limousine 2017 hatasız dostlar\n",
      "a6 quatro 3.0 tdı\n",
      "bayandan masrafsız dizel otomatik\n",
      "temiz a3 dizel\n",
      "sahibinden bakımlı otomatik\n",
      "avsallar md otomotivden hatasız\n",
      "sahibinden tam dolu temiz araç audi a6 sahibinden garaj arabası\n",
      "yeniköy motors 2016 audı rs6 4.0 tfsı quattro performance bayi\n",
      "leaseplan`den 2017 audi a5 sportback 2.0 tdı design s tronic\n",
      "audi s3 24000 km\n",
      "sahibinden audi a5 2011 model multitronic\n",
      "2013 audi s8 4.0 tfsi quattro 520 hp bayi çıkışlı\n",
      "2016 boyasz audi a4 sanrf deri led ışk 2.0tdi 190hp s tronc bayi\n",
      "satılık audı a4\n",
      "koç motors'dan 2011 audi a5 2.0 tdi dış s line ısıtma led full.\n",
      "gri motors audi a4 2.0 tdı multitronic rs görünüm sunrooflu\n",
      "elegance cars 2016 audi rs6 performance plus 605hp bayii\n",
      "kutlubey otomotiv'den 2016 audi a4 2.0 tdi quattro 190 hp\n"
     ]
    },
    {
     "name": "stdout",
     "output_type": "stream",
     "text": [
      "hatasz emsalsiztemz 2010 içi kahvederi sunroof çifthafıza 2.0tdi\n",
      "2010 audi a5 quattro 75.700 km s line f1 camtavan hafıza ısıtma\n",
      "ekcar'dan 2018 audı a3 sedan 1.6 tdı 116 hp design s tronıc\n",
      "ilk sahibinden,en dolusu,düşük km a4\n",
      "attarlar otomotiv'den hatasız garantili a5 prestige delux paket\n",
      "temiz sorunsuz a4 sedan 70.000 km\n",
      "sahibinden orjinal a3\n",
      "yeni kasa temiz\n",
      "2014 model a5 quattro coupe boyasız 190'lık tertemiz\n",
      "audi a4 satışta son fiyat\n",
      "sahibinden temiz araç\n",
      "sunrooflu ful ful audı a1\n",
      "ekşiler otomotivden 2010 audi a3 sportback 1.4 tfsı otomatik\n",
      "araç fazlalığından kupon a5(meraklısına)\n",
      "vade takas audi a 3 1.6 tdi otomatik\n",
      "cam tavan bay & bayan beraber kullanılabilecek yer uçağı\n",
      "fuul x fuul a 4 otomotık dizel garantılı\n",
      "tr,tek 1.6td turbo dizel hatasız 4 lastik vize yeni\n",
      "red car istanbul 2009 cabrio 1.8t 160 hp\n",
      "orjinal audi a4 sedan 1.8 tfsı multitronic(otomatik) 160 hp\n",
      "son fiyat acil l l 2018 model 8600 km hatasız sahibinden\n",
      "mas auto,2011,audi a1,s line full,mavi,otomatik,kazasız,80bin km\n",
      "lineer otomotiv den hatasız dizel otomatik a3 sedan\n",
      "eren otomotiv'den 2010 audi a3 sportback 1.6 attraction\n",
      "quattro long a.8 3.0 tdı çok temiz\n",
      "2010 audi a5 sline 1.8 8vites otomatik lpg li bang olufsen\n",
      "aldatmaz otoporttan 2016 hatasız a3 sedan dizel s tronic 39000km\n",
      "sahibinden audi a5 2.0 tdi sportback bayi çıkışlı full\n",
      "full full audı a5 2008 model,1.8 tfsı otomatik,full bakımlı\n",
      "2017 model audi a5 sportback 1.4 tfsı design bayi çıkışlı\n",
      "ekaremotor'dan a1 sportback 1.6 tdı attraction s tronic\n",
      "masrafsız değişensiz temiz audi a3 boll extralı\n",
      "2014 allroad en dolu paket bayi çıkışlı\n",
      "2011 model a4 1.8tfsı multiptronik\n",
      "96 model audı a4 aracımız resımde göründüğü gıbıdır pazarlık olr\n",
      "audi a3 kaza kaydı, boya, parça değişen yok. 2015 aralık çıkış.\n",
      "hatasız otamatik aile arabası çok temiz degişen yok\n",
      "ilk sahibinden makyajlı kasa ekspertiz raporlu değişensiz\n",
      "orjinal düşük km tdı otomatik değişensiz bakımlı\n",
      "alaman tankını satıyorum\n",
      "turkıyede daha ucuzu yok. acıl satılık\n",
      "alıcıya şimdiden hayırlı olsun\n",
      "araban 2016 model emsalsiz temizlikte\n",
      "konya peugeot bayiinden 2005 audi a4 2.0 tdı\n",
      "öğretmenden çok temiz aile arabası\n",
      "pazarlık azda olsa vardır\n",
      "hatasız, kazasız, boyasız, iç dış s line a5 2.0 tfsı quattro\n",
      "orpak oto'dan 2013 audi a6 2.0 tdı 177 hp vakum bayi çıkışlı\n",
      "sahibinden 56 binde servis bakımlı\n",
      "hatasız boyasız a3\n",
      "sahibinden hatasiz audi a5 2.0 tdi 177 ps\n",
      "1.6tdı s tronic otomatik dizel attraction\n",
      "8.000 km sport prestij delüx paket boyasız hatasız sıfır araç\n",
      "1.4 tfsı sport a5 2017 34.000 km\n",
      "sahabinden temiz\n",
      "tertemiz a4, ev alacağım için satıyorum, acil !!!\n",
      "1987 model audi 80 1.8 s 154 bın km. tüplü manuel\n",
      "bayı cıkıslı sunroof hafıza gerı gorus vakum navıgasyon ısıtma\n",
      "a3 ambition 1.6 tdi en full\n",
      "zirve auto doğuş desingn line koltuk ısıtma boyasız 22000km\n",
      "içi dişi pırıl pırıl\n",
      "sahibinden hatasız 2013 modelaudi a4 quattro 177lik orjinal\n",
      "2016 trafik çıkışlı doğuş bayii boyasız 272hp ilk kullanıcısı\n",
      "!!!acil acil ğsahibinden a3 takaslı\n",
      "arse motors 2008 3.2fsı v6 a5 coupe 265hp rs5 body\n",
      "audi a4 otomatik 140 bg orjinal\n",
      "autohacı dan takaslı hatasız tramersiz a5 2.0 tfsi quattro rs5\n",
      "2010 hatasız a6 sedan 2.0 tdı hasar kytsz fırsat aracı\n",
      "edislerden kış aracı 4x4 audı a4 sunroof\n",
      "sahibinden, boyasız, sigara içilmemiş .\n",
      "yeniköy motors 2012 audı a5 2.0 tdı 177 hp\n",
      "genç otomotivden 2009 model 2.0tdi multitronic 4kısıtma sunroof\n",
      "boyasız hatasız takas yok !!\n",
      "110.000 km'lı bakımlı masrafsız temiz audı a3 1.6 sportback\n",
      "hatasız 2011 md 2.0 tdi 170 hp beyaz içi siyah bayi çıkışlı\n",
      "yüksel otomotiv'den a3 sportback ambiente sunroof'lu\n",
      "audi 2.0 tfsi multıtronıc prince lpg'li\n",
      "audi a6 2010 model otomatik full full\n",
      "servis bakımlı temiz full a3\n",
      "car zone! 2017 28800 km de prestige deluxe design paket a5\n",
      "2012 ful servis bakımlı hatasız boyasız cam tavan\n",
      "barutcuoğlu_audı a3 cam tavan beyaz s tronık\n",
      "ilk sahibinden hatasız audi tts 2.0 tfsi quattro 310 hp\n",
      "sahibinden aile aracı\n",
      "isoto incirlik'ten a6 2.0 tdı multitronic\n",
      "class autodan 2008 a6 2.0 tdi multitronic hatasız masrafsız\n",
      "hatasız iki günlüğüne bu fiyata\n",
      "türkiyenin en ucuzu fırsat audi a6 dizel 177hp limousine paket\n",
      "hatasız audi a5 sahibinden\n",
      "özel kaplamalı iç dış s line\n",
      "2015 model audı a5 2.0tdı quattro\n",
      "bakmadan geçme\n",
      "boyasız full a5 2.0 tdi 190 bg\n",
      "audi a3 sedan dizel otomatik\n",
      "2015 audı a5 2.0 tdı quatro hatasız boyasız\n",
      "hatasız audi a4 177 hp 2015 full sanruf deri ısıtma vs.\n",
      "auto gold ığdırdan temiz a3\n",
      "yeni kasa_2009_audi_a3_1.6 lpg'li_led'li_xenon_far sensörü\n",
      "2015 audi a4 sedan 2.0 tdı multitronic 177 hp hatasız\n",
      "audi a8 long quattro 3.0 tdi triptronıc 250 hp bayi çıkışlı\n",
      "eryiğit plazadan 2008 audi tt 2.0tfsi 211hp s line paket~bayii\n",
      "audi a4 2010 model sanrofflu otomatik 8 ileri multitronic led\n",
      "sahibinden audi a1\n",
      "2015 model audi a5 2.0 tdı\n",
      "audı a6 2.0 tfsı multıtronıc f1 vites2007 model hatasız kayıtsız\n",
      "akbulut otomotiv den cam gıbı 2007 model 3.0 quattro\n",
      "2013 audi a4 2,0 tdi quattro sunroof,f1, spor direksiyon\n",
      "2017 audı a5 1.4 tfsı dynamıc_f1_sunroof_ısıtma_geri görüş_deri\n",
      "sahibinden audi a 4 2.0 tdi cok temiz bakımlı takas olur\n",
      "düşük km.tertemiz aile arabası\n",
      "acil satlik\n",
      "boyasız ilk sahibinden ihtiyaçtan 4 kolt ısıtma sanruf\n",
      "ilk shıbınden a3 sedan sline f1 otomatik boyasız hatasız!!!\n",
      "bu fiyata bu donanım 2.sahibinden tertemizz\n",
      "2016 model tamamen orjinal a3\n",
      "ömer auto dan 2012 a5 sportback 2.0 tfsı quattro 125.000 km\n",
      "stage 3 rs5 ful yapılı 360 hb\n",
      "sahibinden kazasız boyasız audi a4\n",
      "turkuaz otomotiv 66 satılık audi a6 quattro 2016\n",
      "fabrika çıkışlı orjinal iç dış s line audi a5 coupe otomatik\n",
      "orh works den 2008 model 1.6 lpg li a3 sportback hastasına\n",
      "sorunsuz temiz 4.2 fsı a8 l quattro\n",
      "hatasız ,emsalsiz a3 sedan\n",
      "sahibinden tertemiz audı a6 iç dış slıne sunroof lu\n",
      "2013 model audi a4 quattro 177 bg otomotic limousine\n",
      "özel hissetmek isteyenlere\n",
      "fiyat düşmeyecektir.çarşamba son gün\n",
      "ilk gelen alir (boyasiz orjinal)\n",
      "sahibinden rs6 donanımlı audı a6\n",
      "emsalsiz 2011 model audi a4 2.0tdı 143hp multitronic 8 ileri\n",
      "motor deyıştı 22 bin lira masraf yapıldı\n",
      "s layn 8 ileri\n",
      "acil satılık 2010 model audi tt sline 2.0 tfsi s tronic 280 hp\n",
      "ulusal otomotiv den 2010 model a.6 2.0 tdi,170 hp multironic\n",
      "otomatik 2001 1.8 t autractuon\n",
      "2013 audi a5 quattro ( 4x4 çeker ) full çok temiz\n",
      "kusursuz sahibinden quatro\n",
      "çelikörs 2017 audı a6 2.0tfsı quattro boyasız bayii matrix_navi\n",
      "hasmer düzce 2013 audi a4 2.0 tdı 177 hp\n",
      "audi a1 1.4 turbo fsı 70bin km, temiz, masrafsız\n",
      "mimardan değişensiz tramersiz yetkili servis bakımlı tertemiz\n",
      "ilk sahibinden sigara içilmemiş servis bakımlı a3\n",
      "2013 model hatasız\n",
      "2013 a6 sedan hatasız boyasız vakum hayalet sanruff\n",
      "majesty motors' dan 2012 audi a5 2.0 tdı sportback sunroof bayii\n",
      "emsalsiz a 4 sahibinden s line görünümlü tertemiz\n",
      "3.0 quattro\n",
      "''alamut otomotiv''audi a8 long quattro w12 450hp 181.000km\n",
      "sahibinden yakısıklı a3\n",
      "gayet pak bir araç\n",
      "3.0 quarttro a6 112.000 km\n",
      "esmeroğlu 2014 audi a4 85.000 km. siyah\n",
      "audi farkını yasamak isteyenlere sorunsuz temiz araç\n",
      "kerem motorlu araçlar'dan ilk elden iç dış s line hatasız bayi\n",
      "bursa temiz audii\n",
      "bõylesini bir daha bulamazsın\n",
      "a5 dizel otomotik dis s line\n",
      "garaj aracı\n",
      "kazasız boyasız\n",
      "89 audi 80 turbo dizel motor iyi\n",
      "tertemiz sümbül kırmızısı lansman a4\n",
      "eşsiz fiyatıyla 2008 audı a5 coupe 2.7 tdı\n",
      "sahibinden a4 dynamic quattro 48600 km\n",
      "doğuş audi a5 2.0 tdı sportback bang&olufsen sunroff ısıtma .\n",
      "177 bg 3 kol direksiyon hız sabitleyici 2013 model\n",
      "2013 a4 2.0tdi sunroof üç kol f1 deri ısıtma led full hatasız .\n",
      "ağırtaş auto 2015 a3 sedan dizel s tronic attaction hatasiz\n",
      "2005 model emsalsiz temizlikte f1 vites 130 hp audı a4 1.9 tdı\n",
      "mlh a6 vakum spor direksiyon 18 jant\n",
      "2010 120bin km'de doğuş bakımlı a6 allroad 3.0tdi quattro\n",
      "''ışıkhan'' 2011 a5 2.0 tdı s line surnof 3 kol f1 recore hafıza\n",
      "sahibinden hatasız bayi çıkışlı bayi bakımlı a5 2.0tdi quattro\n",
      "sahibinden bayi çıkışlı 170 hp temiz a6\n",
      "a3 sportback 1.6tdı 116 sport line s tronıc full full paket\n",
      "peto dan a5 s line tr de tek\n",
      "ilk sahibinden bu temizlikte yok otomatik benzin lpg\n",
      "sahibinden tertemiz audi\n",
      "bosscar'dan otomatik audi a1 turbo tfsı\n",
      "1999 audi a4 tam otomatik 1.6\n",
      "temiz, servis bakımlı audi a3 sedan\n",
      "arkas zeytinburnu audı a8 3.0 tdı quattro long bayi çıkışlı\n",
      "orjinal dizel otomatik audı a4\n",
      "değişensiz, audi a3 sportback 1.4 tfsı 112.000 km temiz\n"
     ]
    },
    {
     "name": "stdout",
     "output_type": "stream",
     "text": [
      "audi a5 108.500km otomatik (8 ileri) boyasız kazasiz çok temiz\n",
      "yalçın'dan 2011 hatasız audi a4 2.0 tdi multitronic\n",
      "hata olustu/ilan/vasita-otomobil-audi-boyasiz-160-lik-otomatik-full-takasli-630549824/detay\n",
      "audi a4 quattro 2.0 motor temiz araç\n",
      "2018 audı a6 2.0 tfsı quattro s tronic\n",
      "çenet otomotivden audi\n",
      "autolıfe 2016 a6 2.0 tdı vakum spor direksiyon navıgasyon %18kdv\n",
      "autopark otomotivden audı a8 long 3.2 fsı\n",
      "2015 model a3 attraction hatasız 32.000km !!!\n",
      "cam gibi gel bak al git\n",
      "orjinal full düşük km audi a3\n",
      "sahibinden satılıktır\n",
      "asfalt canavarı audı a6 3.0 tdı quatro 4 4 yer uçağı 273 beygir\n",
      "2017 audi has otomotiv den a5 2.0 tdi quattro 190 beygir\n",
      "makam aracı,245 beygir,audı a6 3.0 tdi quattro 4x4 pazarlıksızzz\n",
      "2016 model audi a3 1.6 tdı ambiente s tronic cam tavan led xenon\n",
      "sahibinden 2018 model 0 km audi a3 sedan\n",
      "sadece 31.500 km. sahibinden a5 2.0 tdi sportback 2014\n",
      "orjinal masrafsız ekonomik düz vites\n",
      "audı 1.8 değişensiz kazasız masrafsız\n",
      "2011 model sahibinden satılık kırmızı a1\n",
      "kaysal motors dan a5 1.4tsfi sport led paket\n",
      "06akp04 özel araç özel plaka audi a6 2.0tdi 4k ısıtma full full\n",
      "dede mirası\n",
      "sahibinden 66 bin km de sline tertemiz\n",
      "hatasız değişensiz hasar kayıtsız orjinal a3 1.6 tdi otomatik\n",
      "bayi çıkış servis bakımlı s lıne 52.000 km 280 beygir\n",
      "2011 model audi a6 2.0 tdi otomatik\n",
      "2009 trafik çıkışlı orjinal km ilk gelen alır fiyat düştü!!!\n",
      "oto çarşıdan haftanın fırsatı , 2013 audı a6 3.0 quattro\n",
      "acil satılık sıfır ayarında bayandan a 4\n",
      "efran'dan 2010 audi a5 coupe 89000 km'de hatasız\n",
      "2005 audi a4 1.8t 190ps bex motor sunroof deri f1 cd changer lpg\n",
      "audi a6 avant full\n",
      "hatasız, boyasız, doğuş çıkışlı a5 quattro\n",
      "derici otomotiv den 2005 model hatasız hasar kayıtsız audi a 6\n",
      "2012 a5 2.0tdi 177hp sunrof x zenon f1 120bin km de bayi çıkışlı\n",
      "2011 audi a1 1.4 tfsı attraction s tronic 89.000 kmde\n",
      "hayırlı satışlar\n",
      "yeni kasa limousine paket,ilk gelen alır fiyat düştü kaçırmayın\n",
      "2014 a4 quatro üst açar katlanır ayna 105 bin km\n",
      "a 5 sportback 2.0 tdı araç 9.000 km de 225.000 takas olur\n",
      "sahibinden cam tavanlı full full\n",
      "sahibinden temiz bakımlı hatasız a5\n",
      "acil a4 sahıbınden\n",
      "audı quattro 2.0 tdı 2015\n",
      "güzel den 2016 cam tavan a3 sedan dizel otomatik full full\n",
      "kapora alinmistir.2017 model kazasız tramersiz audi a3\n",
      "2012 audi a3 sportback 105hp cam tavan xenon fonksiyonel gmc oto\n",
      "sedan 1.6 dizel 110 hp servis bakımlı\n",
      "aciliyetten fiyat düştü .\n",
      "orjinal audi a5\n",
      "audi rs4 4.2 fsı v8 quattro\n",
      "audi a5 dizel 2011 model iç dış s line beyaz sunroof xenon bayi\n",
      "2012 a3 1.6 tdı sportback ambition, 95000km, ilk sahibinden\n",
      "sahibinden acil satılık f1 şanzıman sunroof deri koltuk audi a4\n",
      "2012 audi a5 1.8 tfsi 170hp camtavan vade takas yenidoğuş otomot\n",
      "134.000 km de içi dışı pırıl pırıl hastasına özel\n",
      "2013 audı a6 2.0 tdı led matrıx 4 kol.ısıtma perde vakum sunroof\n",
      "sahibinden temiz bakılmış a6 masrafsiz\n",
      "audi a3 sedan 61 binde tertemiz.\n",
      "2014 audi a3 ambition tdi s tronik\n",
      "hrn auto 2009 audi tt s quattro 2.0 tfsı 272 hp 19'' jant\n",
      "2012 audi a3 sportback 1.6 tdı cam tavan geniş ekran navigasyon\n",
      "fiyat düştü sahibinden full full dolu\n",
      "galleri burak audi a 5 rs 5 paket dolu dolu bir araç\n",
      "öz&ün oto'dan 2014 audi a5 sportback 2.0 tdi 177 hp ccc plakalı\n",
      "hayatına kalite ve güç katar audi a4 quattro sport\n",
      "ömür auto dan adui a6\n",
      "2012 a5 coupe 2.0 tfsı quattro 211hp s tronıc beyaz 94.000km\n",
      "sorunsuz arayanlara\n",
      "sahibinden bakımları yapılı 160 beygir\n",
      "2009 model audı tt quattro 211hp cabrıo 130.000 km\n",
      "alp cars otomotiv'den audi a3 1.6 102 hp. ambition\n",
      "2009 a3 1.8tfsı otm.tek parça boya yetkili bakımlı 70.000km\n",
      "memurdan temiz garaj arabası\n",
      "audi a3 sportback 2006 model 146.500 km\n",
      "acil!darıca'da 2.sahibinden bayandan kazasız 2014 model audı a3\n",
      "csc grup .2016 dizel servis bakımlı .led paket\n",
      "cok temiz arac\n",
      "2015 model 59 bin km sıfırdan farksız s tronic audi a3 110 hp\n",
      "sahibinden\n",
      "sahibinden acil satılık\n",
      "garden a5 2.0 tfsı quattro iç dış s line mmı\n",
      "wrc garaj 2005 audı a8 long 6.0 w12 quattro busıness class\n",
      "audi a6 2.0tdi multitronic\n",
      "mert otomotivden hatasız orjinal audi a4. 177 hp\n",
      "doğuş bakımlı audi a5,2. sahibinden,sunroof yok,tertemiz\n",
      "efran auto'dan audı a5 sportback 1.4 tfsı sport s tronıc hatasız\n",
      "iç dış s line çizik yok\n",
      "acil otomatik servis bakımlı\n",
      "güvenler otomotiv den audi a1 1.6 tdi ambition\n",
      "a3 cabrio 2.0 tfsı ambition dsg 200 hp\n",
      "uzman otodan audi a4 sedan 2.0 tdi\n",
      "tamamen orjinal\n",
      "temiz a3 otomatik\n",
      "107.000 km tertemiz audi a5 1.8 tfsı coupe 2011\n",
      "audı a3 2007 fuul orjınal olagan ustu arac .\n",
      "hatasız boyasız a6\n",
      "102000 km.de\n",
      "tfs'oto'dan 2018 a4 quattro desıng s tronıc cam tavan\n",
      "4 koltuk ısıtma ve soğutma sağ sol hafıza 3kol direksiyon 18jant\n",
      "turgut motors tan 2015 model audi a4\n",
      "mars car dan a5 rs5 s line\n",
      "ihtiyaçtan acil satılık\n",
      "bolu yakışır otomotiv'''den sedan a3 stronic\n",
      "hk motors 2011 audı a6 2.0 tdı vakum hed up m.medya bose s line\n",
      "full full makam aracı alman tankı\n",
      "acil satılık\n",
      "sahibinden çok uygun acil satılık fiyat düştü\n",
      "zkdp opet 2.el audı a6 2.0tdı 177hp doğuş 150.000km\n",
      "80.000km,de 2015 model ilk sahibindn yetkiliş servis bakımlı\n",
      "sağlık personelinden tertemiz kazasız boyasız\n",
      "barış motors 2009 audi a6 2.0tdi siyah içi bej\n",
      "hatasız yeni makyaj audi a5 sportback 2.0 tdı\n",
      "2016 model audi a3 13.000 km'de sahibinden\n",
      "2014 audi a6 3.0 tdi ouattro s tronic\n",
      "temiz aile aracı\n",
      "audi a4 sanruf lu\n",
      "2014 audı a6 2.0 tdı 177 hp sunroof e.bagaj hafıza vakum bayii\n",
      "2008 model audi a3 1.6 sportback otomatik vites lpg benzinli\n",
      "kusursuz temizlikte 17 model tdı design line s tronic 9.200 km\n",
      "2015 model a4 150 bg hatasız boyasız\n",
      "sitedeki b7 ler arasında iddia ediyorum tek\n",
      "civan auto 2011 audi a5 2.0 tfsı quattro yeni tip 19''jant\n",
      "2015 trafiğe çıkışlı yetkili servis bakımlı masrafsız\n",
      "tertemiz 2008 audi a3\n",
      "2011 audi a4 multronic 2,0 tdı ful bakımlı bayi çıkışlı s line\n",
      "haora motorstan 2013 audı a5 2.0tdı quattro s lıne\n",
      "sahibinden ful bakımlı 2006 a 6 audı\n",
      "sahibinden çok temiz\n",
      "sahibinden hatasız boyasız,matrix,4 bölge klima,perde\n",
      "2012 model audi a6 2.0 tdi multitronic iç dış s line\n",
      "acarlar motors 2016 a7 2.0 tfsı quattro hafıza boyasız bayi\n",
      "regno car 2013 audi a4 2.0tdi 177hp 8 ileri sunroof led bixenon\n",
      "doğuş çıkışlı a7 s line beyaz\n",
      "boyasız,bayii,navigasyon,kusursuz .\n",
      "audi a5 sportback 2.0 tdi quattro\n",
      "2013 model audi a4 2.0 tdi 177hp sanrouff_mercek pazarlıksız son\n",
      "ayrıntıyı sevenlere özel. bakmadan geçme\n",
      "garage 2018 audı a5 sportback 1.4 tfsı sport 0km ısıtma doguş\n",
      "doğuşoto çıkışlı servis bakımlı a4\n",
      "bmw5.20i 2017 2018 ile takas yapılır\n",
      "sahibinden a8 4.2 l tdı quattro 195.000 de temiz bakımlı\n",
      "inferno motors audi a6 iç dış s line quattro\n",
      "acilll!!! 2010 audı s3 2.0tfsı quattro lımıted edıtıon stage 2\n",
      "beyce motors bayi 2013 a7 3.0 tdı quattro 4 koltuk ısıtma vakum\n",
      "gms hatasız, boyasız, quattro, extra dolu, özel sipariş, s lıne\n",
      "tr de tek iç dış sline bol extralı\n",
      "galeri sivas tan efsane a6 2.0tfsi\n",
      "sıfır ayarında ikinci el ah param olsada ben alsam diyenler\n",
      "a4 sedan 2.0 tdı multitronic\n",
      "boaç grup'dan değişensiz 1 parça boyalı 139 bin km de 177 hp\n",
      "değişiklik sebebi ile satılık temiz aile aracı\n",
      "sahibinden rs5 modifiyeli quattro\n",
      "2015 model yeni makyajlı kasa audi a6 2.0 tdi vakum sunroof navi\n",
      "sahibinden yetkili servis bakımlı\n",
      "uzman otomotiv 2015 audi a4 2.0 tdı 177 hp boyasız navigasyon\n",
      "bayi cıkıslı ilk sahibinden a7 sportback 2.0 tfsı quattro s tro\n",
      "yetkili servis bakımlı audı a8 3,0 tdı quattro\n",
      "safir auto a5 coupe 211hp otomatik f1 kltk ısıtma star stop\n",
      "takaslı .\n",
      "2014model audi a5 2.0tdi multitronic hatasız bayi çıkışlı\n",
      "tertemiz a4\n",
      "bi grup otomotiv'den audi a6 2.7t quatro\n",
      "yasin dik huzur oto'dan audi a6 sedan 2.0 tdi\n",
      "audı a. 3. dızel\n",
      "ilk sahibinden satılık araç\n",
      "ilk sahibinden kazasız boyasız a4 2.0 tdı 177hp\n",
      "hatasız sunroof xenon paket\n",
      "özler otomotiv den audi a.4 2.0 tdi f1 vites sunrooflu let far\n",
      "makyajlı kasa özel sipariş içi taba tam full quattro .!!!\n",
      "tertemiz a3 sedan !\n",
      "ruhsat sahibinden.\n",
      "acil 2005 3.0tdi quattro hasar kayıtsız 290bin km ağır bak yabıl\n",
      "sahibinden bir iki günlük fiyat\n",
      "gökçalık otodan cam gibi audi a 4 hatasız\n",
      "sahibinden sıfır gibi\n",
      "2 nci sahibinden a4 1.6lpg\n",
      "mert motors dan a5 quattro\n",
      "sahibinden a6 ultra\n",
      "eşi benzeri olmayan dikkat çeken\n",
      "autostore 2012 audi a5 sportback 2.0 tfsı quattro s lıne\n",
      "audı a5 coupe 2.0tdı quattro 06 2017 çıkışlı doğuş oto garantili\n",
      "hatasız boyasız temiz arayanlara\n"
     ]
    },
    {
     "name": "stdout",
     "output_type": "stream",
     "text": [
      "günay otomotiv den 2014 audi a8 4.2l tdı quattro bayii çıkışlı\n",
      "2014 yeni kasa audı a6 avant 3.0 tdı quattro tıptronıc 272 hp\n",
      "kayzen'den 2014 a5 2.0 tdi sportback 57 bin de deri sunroof full\n",
      "ac motors a3 sedan cam tavan yeni kasa desing line boyasız\n",
      "2012 a5 2.0tdı 177hp doğuş çıkış sunroof deri ısıtma hasar kayıt\n",
      "audı a7 sportback 50 tdı quattro tıptronıc\n",
      "temiz kullanılmış 2014 trafiğe çıkışlı , ihtiyaçtan satılık\n",
      "kazasız, boyasız, değişensiz, tertemiz 2013 trafiğe çıkışlı\n",
      "öğretmenden,servis bakımlı,acil\n",
      "audi rs4 70 bin km de xneon sanruf deri isitma\n",
      "audi a5 2.0 tdi navigasiyon dvd tv multimedya 15 gb harddisk usb\n",
      "asım oto audı a5 2.0 tdı quattro bayi çıkışlı 36,800 km\n",
      "özdağ auto\n",
      "peugeot deniz 2.el yetkili bayiden audı a4 2.0 tdı\n",
      "karataş'tan 2013 audı a5 sportback 2.0 tdi.quattro s line doğuş\n",
      "2013 çıkışlı ilk sahibinden çift hafıza üç kol full full\n",
      "2006 model otomatik lpgli 5 kapılı orjinal audi a3\n",
      "özkanoğulları .2013 audı a4 2.0 tdı quattro 177 hp hatasız\n",
      "fiyat düştüüüü 2.sahibinden temiz quattro\n",
      "2013 audi a5 sportback 2.0tdı multitronic sunroof xenon tam dolu\n",
      "audi a3 sedan ambiente temiz bakımlı garaj aracı\n",
      "audi a3 sedan dizel otomatik bej sanruf sahibinden\n",
      "sahibinden 2.4 v6 sline\n",
      "memurdan tertemiz\n",
      "temiz aile aracı\n",
      "nadir bulunacak temizlikte hatasız boyasız bakımlı audi a5\n",
      "sahibinden dizcel otomatik 85000 km de\n",
      "audı 80 temiz\n",
      "acele sahibinden tertemiz bakımlı audi b5 1.8t quattro\n",
      "galeri 11 den hatasız 2012 audi a6 2,0 tdi en fuul paket\n",
      "pazarlıksız son fiyat\n",
      "metal2 2014 trafiğe çıkışlı audi a8 3.0 tdi quattro long\n",
      "!! kaporası alınmıştır !!\n",
      "oto step'den 2012 2,0 tdı a4 hatasız boyasız\n",
      "sahibinden otomatik vites audi a3 ambition s line 1.6 lpgli\n",
      "galeri emreden 2004 model audı a8 quattro long 4.2 lpgli kazasız\n",
      "black panther\n",
      "ihtiyaçtan\n",
      "çağrıdan 2012 audi a5 2.0tdi orjinal km doğuş çıkışlı\n",
      "bayraklar'dan 2014 audi a8 3.0 tdi quattro long tam fuul\n",
      "mars motorsdan audi a5 coupe\n",
      "autolux 2004 a3 coupe 1.6 otomatik deri koltuk ısıtma bi xenon\n",
      "aydemirden 2013 audi a1 1.6 tdı attraction mmı ekran otomatik\n",
      "2013 model dizel otomatik a1 türkiyenin en ucuzu !!!\n",
      "2007 a3 1.6\n",
      "sarıkaya autodan 2014 audi a3 sedan\n",
      "sahibinden temiz a6\n",
      "aracımız tertemiz masrafsız audi a8 2.5 dizel\n",
      "dakota gri özel renk, s line, cam tavan, led\n",
      "2015 audi a8 3.0 v6 tdi quattro long extra dolu doğuş 54.000 km\n",
      "2015 model audi a3 sedan\n",
      "sahibinden\n",
      "2014 model audı a6 2.0 tdı\n",
      "2015 audi a5 2.0tdi quattro 190bg. 71000 km.de\n",
      "sahibinden 2017 model hatasız otomatik audı a3 1.6 tdı\n",
      "boya değişen tramer yok acilll iş nedeniyle satılık\n",
      "aydemirden 2014 a6 2.0tdı sunroof hafıza ısıtma perde elk.bagaj\n",
      "sahibinden a1\n",
      "erdal otodan\n",
      "boyasız 2012 audi a6 2.0 tdi 177 hp sunroof deri ısıtma perde.\n",
      "doğuş çıkışlı bakımlı sline quattro 211 beygir metalik gri\n",
      "son fiyat! 2014 audi a3 1.6 dizel otomatik\n",
      "üst modelini alacağımdan dolayı satıyorum\n",
      "2012md 103binkm bayii tam dolu multitronic vakum koltuk ısıtma\n",
      "2016 audı a5 2.0 tdı 190 bg quattro orjinal led_xenon 44000 km\n",
      "audi a3 58.000 temiz aile aracı hatasız.\n",
      "2012 a5 2.0 tfsı quattro bayii çıkışlı servis bakımlı\n",
      "2014 audi a5 sportback 2.0tdi 177 hp sunroof led ısıtmalı koltuk\n",
      "audi a5 coupe hatasız boyasız orjinal\n",
      "sorunsuz audi 6\n",
      "sahıbınden hatasız boyasız kayıtsız a5 2.0 tdı quattro 2015\n",
      "s line farkıyla\n",
      "sahıbınden hasar kayıtsız boyasız degısensız\n",
      "intercity2 a4 2.0 tdı quattro s line led mat. sunrof hafza ıstma\n",
      "2016 audı a4 2.0tdı quattro dynamıc 190hp s tronıc orjinal\n",
      "2008 audi a5 2.7 tdi 190hp coupe iç dış s line içi taba beyaz\n",
      "erş motors 2016 a 5 sportback quatroo boyasız garantili\n",
      "hatasız tramersiz audi a5 sportback\n",
      "2016 audı a6 2.0 tdı quattro s lıne hatasız\n",
      "bayi doguş çıkışlı vakum elektirikli bagaj 74.000 lumousine\n",
      "a6 2.0 tdı luxury selection donanım s tronıc 89.034 km\n",
      "hatasız boyasız tramersiz\n",
      "arena dan audi a7 3.0 tdi quattro webosta\n",
      "2009 audı a8 3.0tdı quattro long airmatic hatasız full full\n",
      "aydemirden 2016 a6 quattro edition ısıtma vakum hafıza perde orj\n",
      "2016 audi a4 2.0 tdi 190 hp quattro dynamic s tronic\n",
      "bayii düşük km hatasız tramersiz değişensiz\n",
      "4 adet sıfır kış lastiği ile kaçırmayın !!\n",
      "sahibinden fırsat aracı\n",
      "i.k.s'den bayi çıkışlı 2015 a5 sline 2.0tdi 190 hp içi taba ful\n",
      "lion motors 2015 audi a8 4.2tdi long gecegörüş 4soğtma distrnc\n",
      "auto show audi a 6 3.0 tdi quattro bayi çıkışlı 70 binde full\n",
      "çelik otomotivden 2010mdl audi a5 sportback 3.0tdi quattro 240hp\n",
      "1985 model audi 80 1.6 diesel\n",
      "pişkin otomotiv bayi 2018 audi a5 coupe sport 4.000 km boyasız\n",
      "2015 beyaz a31.4 tfsi attractıon boyasız 39000 km otomatik\n",
      "babacan öztatlı otomativ\n",
      "al1oto dan hatasız sıfır ayarında a5 2.0 tdı quatro\n",
      "ayşit otomotiv & plaza ( a3 sedan cam tavan )\n",
      "2017 audi a5 model, sahibinden, hatasız, çiziksiz\n",
      "orjinal değişensiz tramersiz sanruflu multitriptronic\n",
      "ateşten sınıfın sınıfı audiiii\n",
      "fırtına otomotıv den audı a3 otomatık tr de tek renk\n",
      "sahibinden audi a3 1.4 tfsı ambition s tronic otomatik vites\n",
      "sahibinden masrafsız boyasız\n",
      "2013 audi a6 limousine 2.0 tdi vakum ısıtma hafıza\n",
      "düşük km temiz lpg li\n",
      "beyce motors bayi 2011 a5 2.0 tfsı quattro cam tavan hatasız\n",
      "iç ve dış s line f 1 8 ileri 211 hp\n",
      "sahibinden tertemiz a5\n",
      "2015 model beyaz 97 bin km'de dış s line audi a5 2.0 tdi quattro\n",
      "ilk elden sıfırdan farksız doğuş çıkışlı\n",
      "otokoç 2.el sancaktepe ' den 2015 audi a6 2.0 tdı s tronic\n",
      "'hatasız boyasız 2018 model audi a1 1.6 tdi dynamic s tronıc\n",
      "2011 model dizel audi a3 s tronic panoramik açılır cam tavan\n",
      "autoland'den 2015 a4 2.0tdı 177hp 103bin kmde\n",
      "sahibinden 3kol navigasyon hız sabitleyici yeni göğüs hatasız\n",
      "acil sahabinden satılık\n",
      "yıldız auto dan 2.5tdi a6\n",
      "audi a1 dizel otomatik\n",
      "eren otomotiv'den 2011 audi a5 coupe 1.8 tfsı otomatik\n",
      "tarz değişikliği\n",
      "büyük_örnek 2013 audi a4 hatasız siyah&taba bayi\n",
      "emsalsiz audi a8 3.0tdi anahtarsız elk. bagaj 4ısıtma bose fulll\n",
      "hacılar 2010 audi a4 2.0 tdı multıtronik\n",
      "sahibinden kazasız değişensiz orjinal a3 sedan dizel otomatik\n",
      "hatasız tertemiz araç, emsallerinden uygun fiyata\n",
      "2015 audi yeni a4 1.4tfsı dynamıc 150hp sunroof led deri ısıtma\n",
      "paşadan audi a6 bakımlı arac\n",
      "full orjinal nokta boyasız hatasız en dolu paket\n",
      "hatasız_boyasız_hasar_kayıtsız_suroof_4k_ısıtma_2.0_tdı\n",
      "sahibinden 2004 audı a6 3.0 220hp otomatik vites servis bakımlı\n",
      "özdere otomotiv den 2011 audi a6 2.0 tdı\n",
      "kaporası alındı.izmirden engin beye opsiyonlanmıştır.\n",
      "2015 audi a3 hatasız boyasız 80.000 km'de dizel otomatik vites\n",
      "%0,99 kredi a5 2.0 tdı quattro iç dış s line hatasız %18 fatura\n",
      "audi a5 sportback 2.0 tdı\n",
      "4x4 allroad kullanma zevkini siz de yaşayın !!!!\n",
      "audı a 4 18 t hız ve konfor\n",
      "audi a8 2.5 tdi sline quattro\n",
      "sahibinden\n",
      "red motors audi a4 177 3kol f1 içibej sunrof full boyasız\n",
      "galeri cihangirden 2014 audı a5 tdi quattro\n",
      "aydogan premium audı a5 2.0 tdı quattro s tronic doguş\n",
      "bayi çıkışlı kazasız tam dolu\n",
      "2011 audı a5 2.0 tdı sportback multıtronıc çok temiz gs plaka\n",
      "audi tt s line\n",
      "takaslı! 2017 audı a3 1.0tfsı! cam tavan xenon led katlanır ayna\n",
      "anahtarsız giriş kltk hafıza b&o ses sistemi full\n",
      "acill ilk gelene indirim var.sahibinden temiz audi a4\n",
      "aracımız temiz ve sorunsuzdur\n",
      "sahibinden quattro\n",
      "akser motors'tan boyasız 2016 audi a5 2.0tdı quattro sport\n",
      "2014 hatasız audı a6 2.0tdı multıtronıc sunroof\n",
      "nokta hatasız simsiyah audi a5\n",
      "2004 audı a8 3.7 quattro v8 benizn&lpg 280 hp\n",
      "bu temizlikte bulunmaz a4 1.8 tfsi acil\n",
      "boyasız cam tavan led paket k.ayna g.görüş 2018 a3\n",
      "2017 model 40bin kmde quattro hasar kayıtlı\n",
      "fiyat düştü acil satılık audi a4 2007 full full\n",
      "audi a3 otomatik dizel\n",
      "servis bakımlı masrafsız iç dış s lıne\n",
      "2011 cam tavan deri koltuk full\n",
      "ss motors 2018 audı s3 2.0 tfsı quattro muson gri 3.801 km doğuş\n",
      "'x clusive'18 audi a5 sprtbck 1.4 tfsı özl seri hatasız 4 grnti\n",
      "2017 2.0 tfsı quattro slıne\n",
      "ahsan motors'dan 2016 model audi a3 sportback 1.6 tdı s tronic\n",
      "2011 audi a1 kırmızı gümüş. extra jant, led far stop, direksiyon\n",
      "2011 audi a5 2.0 tfsı quattro s tronic 157.000km hasarsız\n",
      "2013 audi a5 sportback quattro bayi hatasız kredi imkanı\n",
      "eskihisar vw bayiden audi s3 sportback 2.0 tfsi quattro 310 hp\n",
      "otomatık, dizel audı 100 yakıt cimrisi\n",
      "2010 audi 2.0tdi 170hp multıtronic (hatasız boyasız) tr'de tek\n",
      "hatasız boyasız quattro 4 4\n",
      "a1 sportback 1.6 tdı s tronic hatasız boyasız\n",
      "audi 1.6 tdı a3 sportback s tronıc bi xenon led cam tavan\n"
     ]
    },
    {
     "name": "stdout",
     "output_type": "stream",
     "text": [
      "audi a3 muayeli 2021 yürüyeni iyi alıcısına hayırlı olsun\n",
      "sahibinden audi a5 quattro 190 hp s tronic\n",
      "sahibinden satılık araba\n",
      "185.000 kmde hatasız boyasız acil\n",
      "2. sahibinden orj km çok temiz 2007\n",
      "2018 aralık çıkışlı hatasız cosmos mavisi 1.6 tdı manuel\n",
      "2015 model 86.000km de audi a3 1.6 tdi cam tavan xenon\n",
      "doğuş oto audı 2.0 tdı 143 bg beyaz içi bej sunroff deri ısıtma\n",
      "audi a4 1.8 120 hp s line f1 led xenon sunroof 3 kol direksiyon\n",
      "yeni kasa 177ps sunroof led deri katlanır ayna\n",
      "acill 2015 audı a5 quattro sportback\n",
      "sahibinden sıfır motor değişensiz audi a6\n",
      "sahibinden satılık a4\n",
      "boyasız değişensiz otomatik cam tavan\n",
      "düşük km a6\n",
      "boyasız makyajlı audi a3 f1 vites!!\n",
      "1.9 tdı full full sıfır masraf\n",
      "piranlar audi a7 sportback biturbo 3.0 tdı quattro hatasız\n",
      "2018 audı a5 sback 1.4 tfsı sport çift paket stronic hatasız\n",
      "sahibinden bayii 313bg audi a7 hatasız\n",
      "audi a3 1.6 tdı otomatik\n",
      "ugur auto'dan 2011 bayi boyasız vakum ön arka kamera 4k ısıtma\n",
      "topçu auto 2013 model audi a3 1.6tdi ambition cam tavan led\n",
      "eczacıdan sunrooflu temiz a3\n",
      "2014 model audi a3 sportback 1.4 tfsı s tronic 27777 km\n",
      "x change by toyotaalja4 177bg e.deri kol hız sabit. sunroof\n",
      "audi a5 sportback 2.0 tdı 177 hp\n",
      "2013 audı a4\n",
      "auto viva 2010 audi a5 2.0 tdi bakımlı 178.000 km\n",
      "öğretim görevlisinden temiz\n",
      "sahibinden orijinal\n",
      "hatasız hasar kayıtsız 1 parça boyalı 2012 a5 quattro\n",
      "gkc motors audi tts milltek rs kanat 380hp boyasız\n",
      "cosmos mavisi sahibinden hatasız doguş çıkışlı\n",
      "2011 model audi a4 tdi automatik multitronic\n",
      "2018 a3 1.6dızel design 18bin km orjinal boyasız (48 ay %1,79)\n",
      "has otomotiv konya bayiden özel spariş çift hafıza led far\n",
      "emin otomotiv'den 2011 audi a4 1.8 tfsi benzin otomatik\n",
      "| yolgiden grup | 2011 audı a1 1.4 tfsı ambition full otomatik\n",
      "audi a4 2.0 tdi temiz doğuş oto bakımlı masrafsız\n",
      "2007 model dizel otomatik audı a4 temiz\n",
      "elmas 2008 audi a4 1.8 tfsi advance bi xenon led far\n",
      "araç bayii çıkışlı anahtarsız giriş çıkış bang ouflen ses sistem\n",
      "sahibinden , doğuş çıkışlı , hatasız\n",
      "sahibinden audi a3 sportback 1.6 tdı ambiente 2015 model\n",
      "2013 1.6 tdı stronic 23.000 km s lıne cam tavn xenon 17 jant\n",
      "çok temiz dizel otomatik\n",
      "2015 ilk el bayii çıkışlı hatasız audi a3 attraction 1.6 tdi\n",
      "audi a3 1.6 tdı 71.000 km de cam tavan xenon advance paket 2015\n",
      "hata olustu/ilan/vasita-otomobil-audi-2008-servis-bakimli-kazasiz-darbesiz-ful-plusful-orjinal-664778725/detay\n",
      "temiz araba, ele geçmez\n",
      "ıntercıty 2 a6 2.0 tdı 190 hp s tronıc\n",
      "şok fiyat gel gör al git\n",
      "2017 çık bayi boyasız yeni 262 bg audı a8 long 3.0 tdi quattro\n",
      "hatasız cam tavanlı s tronic 7 ileri\n",
      "emniyet otodan hatasız boyasz a6 ultra 4koltk ısıtma bgmsz klima\n",
      "2014 audi a6 limousine vakum ısıtma s tronic190hp s line 18 jant\n",
      "full full 140 hp audi a6\n",
      "audi a3 ambiante\n",
      "sahibinden 2017 audi a5 1.4 tfsı sport s line paket\n",
      "çok acilllll\n",
      "mirza motors audi a5 2.0 tdı quattro\n",
      "sahibinden acil takaslı a4\n",
      "sahibinden temiz ve sorunsuz aile aracı\n",
      "bayandan kazasız 2014 a1\n",
      "kapora alındı, 01 03e kadar opsiyonludur aracım.\n",
      "sahibinden hatasız&boyasız cam tavan spor direksiyon sline a3\n",
      "hasan balcı otomotiv\n",
      "hatasız2011 audi a6 2.00 tdi\n",
      "sahibinden özel a5\n",
      "bakırköy'den 2015 doğuş audi a8 l quattro long 262hp tam dolu\n",
      "2005 model audi a3 sportback 1.6 otomatik cam tavan\n",
      "tr de tek audi a3 iç dış s line\n",
      "celepli otomotiv'den 2012 a3 sportback otomatik\n",
      "sahibinden en fulu audı a6\n",
      "2016 audi a3 1.6 dizel otomatik.kazasız .boyasız .servis bakımlı\n",
      "sahıbınden emsalsiz\n",
      "2012 audı a 4 2.0 tdı hatasız yeni kasa led zenon\n",
      "son günler audi a5 coupe s line doktordan\n",
      "audi a5 coupe s line rs5 görünüm cam tavann\n",
      "240 favori makyajlı kasa otomatik vites audi a3 1.4 tfsı stronic\n",
      "cartime dan audi a3 1.6 tdı dizel otom. xenon cam tavan\n",
      "a3 sedan cam tavan xenon boyasız\n",
      "sahibinden a4 2.0 tdı orjinal değişensiz içi dışı tertemiz\n",
      "sahibinden audi a4\n",
      "hatasızzz 1.6 tdı ambıente stronıc full full kusursuz\n",
      "temiz eksiksiz fırsat aracı audi a.4\n",
      "ilk sahibinden 2019 ocak ayı trafiğe çıkışlı çizik dahi yok\n",
      "f&f motors güvencesiyle\n",
      "2011 model a5 coupe 2.0 tfsi 89.000 km kazasız boyasız otomatik\n",
      "emsalsiz temizlikte 2.0 dizel otomatik a4 otomatik takassız\n",
      "2015 18' ahşap 2.0tdi 190hp türkçe sunroof f1 ultra a6\n",
      "yeni muayene özel plaka audi a4\n",
      "çift kapılı en uygun a3 sportback otomatik\n",
      "rs6 donanımlı (start stop) çok acil satlık\n",
      "fiyatı düşürdük sahibinden tertemiz muayyer audi a6\n",
      "bu fiyata bu araba yoook\n",
      "çook temiz 2012 audi a5 rs5 hatasız\n",
      "biniciden masrafsız garantili\n",
      "bayi 2015 audi a7 2.0 tfsi quattro s line navigasyon_hatasız\n",
      "audi a3 sedan mamoş otomotiv güvencesiyle .\n",
      "kazasız full 1.6 dizel otomatik a3\n",
      "sahibinden tertemiz bakımlı sıfırdan farksız 85.000km ihtiyaçtan\n",
      "hk gruptan temiz 19 s line jant\n",
      "sahibinden 2004 a6 multıtronic\n",
      "audi a3 sahibinden\n",
      "kazasız hasarsız audi a4 2.0t fsı 240hp 6 ileri manuel\n",
      "has otomotiv konya s line çift hafıza ısıtma soğutma bose\n",
      "sahibinden audı a5 coupe\n",
      "iç dış line .hatasız .sigarasız .bakımlı .\n",
      "sahibinden audi a3 1.8 ambiante(2000)otomatik\n",
      "yüksek model takaslı km orjinal\n",
      "audi a7 s line 2turbo 320hp ilk elden 41.700km hata boya yoktur!\n",
      "acill hatasız audi a5 bayi çıkışlı\n",
      "almanların limuzini\n",
      "öğretmenden. sigara içilmemiş.\n",
      "çakmak otomotiv den bakımlı audi\n",
      "budak motorstan 2012 yeni kasa led zenon deri vs\n",
      "akç motors'dan 2017 audi a6 2.0 tfsi quattro 11.000km hatasız\n",
      "emsalsiz audi a6 2.0 tdı 2010 s6 görünümlü mat siyah dolu sline\n",
      "sahibinden hatasız boyasız 53bin kmde\n",
      "türkiyede tek taba deri döşeme a1\n",
      "2012 çok temiz bakımlı avdı a4\n",
      "aciil hatasız cam gibi full full a4 quattro\n",
      "usta otomotivden audi a4 1.8 t\n",
      "peşinatsız krediyle buraklar'dan 2017 model audi a5 quattro\n",
      "ds auto etiler audi a1 1.6 tdi c.tavan bi xenon s line boyasız\n",
      "tertemiz audı a3\n",
      "ekcar'dan 2009 a4 1.8t tfsı f1vites 160bg sunroof ısıtma full\n",
      "sahibinden acil\n",
      "ilk sahibinden 2015 audi a3 tdı\n",
      "2013 a 4 177 hp 129.000 km multitronic\n",
      "uygun fiyat düzgün araç 1.6 düz motor\n",
      "2017 hatasız sahibinden mesaj atınız\n",
      "full orjinal temiz sahibinden\n",
      "2008 model audi a4 1.6 lpg li orjinal\n",
      "autoturk'ten doğuş çıkışlı hatasız boyasız a7 tfsı quattro str.\n",
      "beyaz sistem'den 2015 bayi çıkışlı audi a 6 2.0 tdi s tronic\n",
      "2011 model prins lpg'li bol extrali a3\n",
      "sahibinden bakımlı orjinal kilometrede bang&olufsen müzik\n",
      "audi a1 sorunsuz tüm bakımları yapılmıştır\n",
      "2014 a3 sedan ambiente cam tavan deri xenon led full full\n",
      "sahibinden 2012 model,kazasız,darbesiz,orjinal km\n",
      "beydili otomativden audi a6\n",
      "audı a4 177 hp 74.000 km\n",
      "yer uçağı 245 beygir çipli\n"
     ]
    }
   ],
   "source": [
    "\n",
    "service = srv.Service('./chromedriver.exe')\n",
    "service.start()\n",
    "capabilities = {'chrome.binary': '/path/to/custom/chrome'}\n",
    "driver = webdriver.Remote(service.service_url, capabilities)\n",
    "try:\n",
    "    driver.get('https://www.sahibinden.com/kategori/otomobil')\n",
    "    titles = driver.find_elements_by_css_selector('.categoryList .jspPane li')\n",
    "    brands_links = []\n",
    "    for x in titles:\n",
    "        brand = x.find_element_by_css_selector('a').get_attribute('innerText')\n",
    "        count = (int)(x.find_element_by_css_selector('span').get_attribute('innerText').replace('(','').replace(')','').replace('.',''))\n",
    "        print(f'found {count} on {brand}')\n",
    "        if count >100:\n",
    "            link = x.find_element_by_css_selector('a').get_attribute('href')\n",
    "            brands_links.append({'link':link,'brand':brand})\n",
    "        if brand == 'Volvo':\n",
    "            break\n",
    "    for brnd in brands_links:\n",
    "        myset = set()\n",
    "        driver.get(brnd['link'])\n",
    "        titles = driver.find_elements_by_css_selector('#searchCategoryContainer .jspPane li a')\n",
    "        for x in titles:\n",
    "            link = x.get_attribute('href')\n",
    "            print(\"getting \" + link)\n",
    "            dowload(0,link,myset)\n",
    "        getData(brnd['brand'],myset)\n",
    "except:\n",
    "    raise"
   ]
  },
  {
   "cell_type": "code",
   "execution_count": 80,
   "metadata": {},
   "outputs": [
    {
     "name": "stdout",
     "output_type": "stream",
     "text": [
      "5,784 texts collected.\n",
      "Training new model w/ 2-layer, 64-cell Bidirectional LSTMs\n",
      "Training on 554,950 word sequences.\n",
      "Epoch 1/3\n"
     ]
    },
    {
     "name": "stdout",
     "output_type": "stream",
     "text": [
      " 312/4335 [=>............................] - ETA: 5:27:49 - loss: 9.21 - ETA: 3:05:56 - loss: 9.15 - ETA: 2:18:13 - loss: 10.084 - ETA: 1:54:12 - loss: 9.966 - ETA: 1:39:58 - loss: 9.69 - ETA: 1:30:19 - loss: 9.44 - ETA: 1:23:17 - loss: 9.27 - ETA: 1:18:07 - loss: 9.05 - ETA: 1:14:12 - loss: 8.90 - ETA: 1:11:10 - loss: 8.79 - ETA: 1:08:29 - loss: 8.66 - ETA: 1:06:20 - loss: 8.61 - ETA: 1:04:26 - loss: 8.53 - ETA: 1:02:50 - loss: 8.45 - ETA: 1:01:28 - loss: 8.39 - ETA: 1:00:16 - loss: 8.34 - ETA: 59:16 - loss: 8.2946 - ETA: 58:20 - loss: 8.25 - ETA: 57:27 - loss: 8.18 - ETA: 56:39 - loss: 8.14 - ETA: 55:58 - loss: 8.09 - ETA: 55:20 - loss: 8.04 - ETA: 54:45 - loss: 8.01 - ETA: 54:13 - loss: 7.97 - ETA: 53:42 - loss: 7.94 - ETA: 53:11 - loss: 7.91 - ETA: 52:45 - loss: 7.88 - ETA: 52:23 - loss: 7.86 - ETA: 52:01 - loss: 7.83 - ETA: 51:39 - loss: 7.82 - ETA: 51:22 - loss: 7.80 - ETA: 51:03 - loss: 7.78 - ETA: 50:46 - loss: 7.76 - ETA: 50:28 - loss: 7.74 - ETA: 50:14 - loss: 7.70 - ETA: 50:00 - loss: 7.69 - ETA: 49:54 - loss: 7.67 - ETA: 49:51 - loss: 7.66 - ETA: 49:46 - loss: 7.64 - ETA: 49:46 - loss: 7.62 - ETA: 49:49 - loss: 7.61 - ETA: 49:53 - loss: 7.60 - ETA: 50:08 - loss: 7.58 - ETA: 50:11 - loss: 7.57 - ETA: 50:17 - loss: 7.55 - ETA: 50:23 - loss: 7.54 - ETA: 50:35 - loss: 7.53 - ETA: 50:40 - loss: 7.53 - ETA: 50:47 - loss: 7.52 - ETA: 50:55 - loss: 7.51 - ETA: 51:01 - loss: 7.50 - ETA: 51:06 - loss: 7.49 - ETA: 51:12 - loss: 7.48 - ETA: 51:17 - loss: 7.48 - ETA: 51:25 - loss: 7.47 - ETA: 51:32 - loss: 7.46 - ETA: 51:39 - loss: 7.45 - ETA: 51:45 - loss: 7.44 - ETA: 51:51 - loss: 7.44 - ETA: 51:59 - loss: 7.42 - ETA: 52:08 - loss: 7.41 - ETA: 52:15 - loss: 7.40 - ETA: 52:23 - loss: 7.39 - ETA: 52:31 - loss: 7.39 - ETA: 52:37 - loss: 7.38 - ETA: 52:43 - loss: 7.37 - ETA: 52:50 - loss: 7.36 - ETA: 52:53 - loss: 7.35 - ETA: 52:58 - loss: 7.34 - ETA: 53:02 - loss: 7.33 - ETA: 53:03 - loss: 7.32 - ETA: 53:06 - loss: 7.31 - ETA: 53:08 - loss: 7.30 - ETA: 53:09 - loss: 7.29 - ETA: 53:11 - loss: 7.28 - ETA: 53:11 - loss: 7.27 - ETA: 53:11 - loss: 7.27 - ETA: 53:13 - loss: 7.26 - ETA: 53:17 - loss: 7.25 - ETA: 53:17 - loss: 7.24 - ETA: 53:17 - loss: 7.24 - ETA: 53:16 - loss: 7.22 - ETA: 53:15 - loss: 7.22 - ETA: 53:13 - loss: 7.21 - ETA: 53:13 - loss: 7.20 - ETA: 53:11 - loss: 7.19 - ETA: 53:09 - loss: 7.18 - ETA: 53:10 - loss: 7.17 - ETA: 53:11 - loss: 7.16 - ETA: 53:09 - loss: 7.15 - ETA: 53:06 - loss: 7.14 - ETA: 53:03 - loss: 7.14 - ETA: 53:01 - loss: 7.13 - ETA: 52:58 - loss: 7.12 - ETA: 52:55 - loss: 7.11 - ETA: 52:51 - loss: 7.10 - ETA: 52:48 - loss: 7.09 - ETA: 52:44 - loss: 7.08 - ETA: 52:41 - loss: 7.07 - ETA: 52:38 - loss: 7.06 - ETA: 52:35 - loss: 7.06 - ETA: 52:32 - loss: 7.05 - ETA: 52:29 - loss: 7.04 - ETA: 52:26 - loss: 7.03 - ETA: 52:23 - loss: 7.02 - ETA: 52:20 - loss: 7.01 - ETA: 52:18 - loss: 7.00 - ETA: 52:16 - loss: 6.99 - ETA: 52:16 - loss: 6.99 - ETA: 52:13 - loss: 6.98 - ETA: 52:13 - loss: 6.97 - ETA: 52:12 - loss: 6.96 - ETA: 52:10 - loss: 6.96 - ETA: 52:13 - loss: 6.95 - ETA: 52:18 - loss: 6.94 - ETA: 52:22 - loss: 6.93 - ETA: 52:24 - loss: 6.93 - ETA: 52:24 - loss: 6.92 - ETA: 52:25 - loss: 6.91 - ETA: 52:25 - loss: 6.89 - ETA: 52:24 - loss: 6.89 - ETA: 52:23 - loss: 6.88 - ETA: 52:23 - loss: 6.87 - ETA: 52:22 - loss: 6.86 - ETA: 52:22 - loss: 6.85 - ETA: 52:24 - loss: 6.85 - ETA: 52:28 - loss: 6.83 - ETA: 52:31 - loss: 6.83 - ETA: 52:33 - loss: 6.82 - ETA: 52:36 - loss: 6.82 - ETA: 52:35 - loss: 6.81 - ETA: 52:37 - loss: 6.81 - ETA: 52:37 - loss: 6.80 - ETA: 52:36 - loss: 6.79 - ETA: 52:35 - loss: 6.79 - ETA: 52:33 - loss: 6.78 - ETA: 52:32 - loss: 6.77 - ETA: 52:32 - loss: 6.76 - ETA: 52:31 - loss: 6.76 - ETA: 52:29 - loss: 6.75 - ETA: 52:27 - loss: 6.75 - ETA: 52:28 - loss: 6.74 - ETA: 52:28 - loss: 6.73 - ETA: 52:28 - loss: 6.72 - ETA: 52:26 - loss: 6.72 - ETA: 52:24 - loss: 6.71 - ETA: 52:23 - loss: 6.70 - ETA: 52:21 - loss: 6.70 - ETA: 52:19 - loss: 6.69 - ETA: 52:17 - loss: 6.69 - ETA: 52:16 - loss: 6.68 - ETA: 52:15 - loss: 6.68 - ETA: 52:13 - loss: 6.68 - ETA: 52:11 - loss: 6.67 - ETA: 52:14 - loss: 6.66 - ETA: 52:13 - loss: 6.65 - ETA: 52:12 - loss: 6.65 - ETA: 52:10 - loss: 6.65 - ETA: 52:09 - loss: 6.64 - ETA: 52:07 - loss: 6.63 - ETA: 52:05 - loss: 6.62 - ETA: 52:03 - loss: 6.62 - ETA: 52:02 - loss: 6.61 - ETA: 52:01 - loss: 6.61 - ETA: 52:00 - loss: 6.60 - ETA: 51:59 - loss: 6.60 - ETA: 51:58 - loss: 6.59 - ETA: 51:56 - loss: 6.59 - ETA: 51:55 - loss: 6.58 - ETA: 51:55 - loss: 6.57 - ETA: 51:54 - loss: 6.57 - ETA: 51:52 - loss: 6.57 - ETA: 51:51 - loss: 6.56 - ETA: 51:50 - loss: 6.56 - ETA: 51:48 - loss: 6.55 - ETA: 51:47 - loss: 6.54 - ETA: 51:46 - loss: 6.54 - ETA: 51:45 - loss: 6.54 - ETA: 51:44 - loss: 6.53 - ETA: 51:43 - loss: 6.53 - ETA: 51:42 - loss: 6.52 - ETA: 51:41 - loss: 6.52 - ETA: 51:40 - loss: 6.51 - ETA: 51:39 - loss: 6.50 - ETA: 51:38 - loss: 6.50 - ETA: 51:37 - loss: 6.50 - ETA: 51:35 - loss: 6.49 - ETA: 51:34 - loss: 6.49 - ETA: 51:33 - loss: 6.49 - ETA: 51:32 - loss: 6.48 - ETA: 51:31 - loss: 6.48 - ETA: 51:30 - loss: 6.47 - ETA: 51:29 - loss: 6.47 - ETA: 51:27 - loss: 6.46 - ETA: 51:26 - loss: 6.46 - ETA: 51:25 - loss: 6.46 - ETA: 51:24 - loss: 6.45 - ETA: 51:23 - loss: 6.45 - ETA: 51:22 - loss: 6.45 - ETA: 51:20 - loss: 6.45 - ETA: 51:19 - loss: 6.44 - ETA: 51:18 - loss: 6.43 - ETA: 51:17 - loss: 6.43 - ETA: 51:16 - loss: 6.42 - ETA: 51:15 - loss: 6.42 - ETA: 51:14 - loss: 6.41 - ETA: 51:13 - loss: 6.41 - ETA: 51:12 - loss: 6.41 - ETA: 51:11 - loss: 6.41 - ETA: 51:10 - loss: 6.40 - ETA: 51:09 - loss: 6.40 - ETA: 51:08 - loss: 6.39 - ETA: 51:07 - loss: 6.39 - ETA: 51:06 - loss: 6.38 - ETA: 51:06 - loss: 6.38 - ETA: 51:05 - loss: 6.37 - ETA: 51:04 - loss: 6.37 - ETA: 51:04 - loss: 6.36 - ETA: 51:03 - loss: 6.36 - ETA: 51:02 - loss: 6.36 - ETA: 51:01 - loss: 6.35 - ETA: 51:01 - loss: 6.35 - ETA: 51:01 - loss: 6.34 - ETA: 51:00 - loss: 6.34 - ETA: 50:59 - loss: 6.34 - ETA: 50:58 - loss: 6.33 - ETA: 50:58 - loss: 6.33 - ETA: 50:59 - loss: 6.32 - ETA: 50:59 - loss: 6.32 - ETA: 50:58 - loss: 6.32 - ETA: 50:57 - loss: 6.31 - ETA: 50:55 - loss: 6.31 - ETA: 50:54 - loss: 6.31 - ETA: 50:52 - loss: 6.30 - ETA: 50:51 - loss: 6.30 - ETA: 50:50 - loss: 6.30 - ETA: 50:48 - loss: 6.29 - ETA: 50:47 - loss: 6.29 - ETA: 50:46 - loss: 6.28 - ETA: 50:44 - loss: 6.28 - ETA: 50:43 - loss: 6.28 - ETA: 50:42 - loss: 6.27 - ETA: 50:40 - loss: 6.27 - ETA: 50:39 - loss: 6.27 - ETA: 50:38 - loss: 6.26 - ETA: 50:37 - loss: 6.26 - ETA: 50:36 - loss: 6.26 - ETA: 50:35 - loss: 6.25 - ETA: 50:34 - loss: 6.25 - ETA: 50:34 - loss: 6.25 - ETA: 50:34 - loss: 6.24 - ETA: 50:33 - loss: 6.24 - ETA: 50:33 - loss: 6.23 - ETA: 50:32 - loss: 6.23 - ETA: 50:31 - loss: 6.23 - ETA: 50:30 - loss: 6.22 - ETA: 50:29 - loss: 6.22 - ETA: 50:27 - loss: 6.22 - ETA: 50:26 - loss: 6.21 - ETA: 50:25 - loss: 6.21 - ETA: 50:25 - loss: 6.21 - ETA: 50:24 - loss: 6.20 - ETA: 50:23 - loss: 6.20 - ETA: 50:21 - loss: 6.19 - ETA: 50:21 - loss: 6.19 - ETA: 50:20 - loss: 6.19 - ETA: 50:19 - loss: 6.19 - ETA: 50:19 - loss: 6.19 - ETA: 50:18 - loss: 6.18 - ETA: 50:17 - loss: 6.18 - ETA: 50:17 - loss: 6.18 - ETA: 50:16 - loss: 6.17 - ETA: 50:16 - loss: 6.17 - ETA: 50:15 - loss: 6.17 - ETA: 50:14 - loss: 6.16 - ETA: 50:13 - loss: 6.16 - ETA: 50:12 - loss: 6.16 - ETA: 50:11 - loss: 6.15 - ETA: 50:11 - loss: 6.15 - ETA: 50:10 - loss: 6.15 - ETA: 50:09 - loss: 6.14 - ETA: 50:09 - loss: 6.14 - ETA: 50:08 - loss: 6.13 - ETA: 50:07 - loss: 6.13 - ETA: 50:06 - loss: 6.13 - ETA: 50:05 - loss: 6.12 - ETA: 50:05 - loss: 6.12 - ETA: 50:04 - loss: 6.12 - ETA: 50:04 - loss: 6.12 - ETA: 50:03 - loss: 6.12 - ETA: 50:02 - loss: 6.11 - ETA: 50:02 - loss: 6.11 - ETA: 50:01 - loss: 6.11 - ETA: 50:01 - loss: 6.10 - ETA: 50:00 - loss: 6.10 - ETA: 49:59 - loss: 6.10 - ETA: 49:58 - loss: 6.09 - ETA: 49:58 - loss: 6.09 - ETA: 49:57 - loss: 6.09 - ETA: 49:56 - loss: 6.09 - ETA: 49:56 - loss: 6.08 - ETA: 49:55 - loss: 6.08 - ETA: 49:54 - loss: 6.08 - ETA: 49:53 - loss: 6.07 - ETA: 49:53 - loss: 6.07 - ETA: 49:52 - loss: 6.07 - ETA: 49:52 - loss: 6.06 - ETA: 49:51 - loss: 6.06 - ETA: 49:51 - loss: 6.06 - ETA: 49:50 - loss: 6.06 - ETA: 49:49 - loss: 6.05 - ETA: 49:49 - loss: 6.0552 626/4335 [===>..........................] - ETA: 49:48 - loss: 6.05 - ETA: 49:48 - loss: 6.04 - ETA: 49:47 - loss: 6.04 - ETA: 49:45 - loss: 6.04 - ETA: 49:44 - loss: 6.04 - ETA: 49:44 - loss: 6.04 - ETA: 49:43 - loss: 6.04 - ETA: 49:41 - loss: 6.03 - ETA: 49:40 - loss: 6.03 - ETA: 49:39 - loss: 6.03 - ETA: 49:38 - loss: 6.02 - ETA: 49:37 - loss: 6.02 - ETA: 49:36 - loss: 6.02 - ETA: 49:35 - loss: 6.02 - ETA: 49:34 - loss: 6.01 - ETA: 49:32 - loss: 6.01 - ETA: 49:32 - loss: 6.01 - ETA: 49:31 - loss: 6.00 - ETA: 49:30 - loss: 6.00 - ETA: 49:29 - loss: 6.00 - ETA: 49:28 - loss: 6.00 - ETA: 49:27 - loss: 6.00 - ETA: 49:26 - loss: 5.99 - ETA: 49:25 - loss: 5.99 - ETA: 49:24 - loss: 5.99 - ETA: 49:23 - loss: 5.99 - ETA: 49:22 - loss: 5.98 - ETA: 49:21 - loss: 5.98 - ETA: 49:19 - loss: 5.98 - ETA: 49:18 - loss: 5.98 - ETA: 49:17 - loss: 5.98 - ETA: 49:16 - loss: 5.97 - ETA: 49:15 - loss: 5.97 - ETA: 49:15 - loss: 5.97 - ETA: 49:14 - loss: 5.96 - ETA: 49:13 - loss: 5.96 - ETA: 49:12 - loss: 5.96 - ETA: 49:11 - loss: 5.95 - ETA: 49:10 - loss: 5.95 - ETA: 49:09 - loss: 5.95 - ETA: 49:08 - loss: 5.95 - ETA: 49:08 - loss: 5.95 - ETA: 49:06 - loss: 5.94 - ETA: 49:06 - loss: 5.94 - ETA: 49:05 - loss: 5.94 - ETA: 49:04 - loss: 5.94 - ETA: 49:03 - loss: 5.93 - ETA: 49:02 - loss: 5.93 - ETA: 49:01 - loss: 5.93 - ETA: 49:00 - loss: 5.93 - ETA: 48:59 - loss: 5.92 - ETA: 48:58 - loss: 5.92 - ETA: 48:57 - loss: 5.92 - ETA: 48:56 - loss: 5.92 - ETA: 48:55 - loss: 5.91 - ETA: 48:54 - loss: 5.91 - ETA: 48:53 - loss: 5.91 - ETA: 48:52 - loss: 5.91 - ETA: 48:52 - loss: 5.91 - ETA: 48:51 - loss: 5.90 - ETA: 48:50 - loss: 5.90 - ETA: 48:50 - loss: 5.90 - ETA: 48:49 - loss: 5.90 - ETA: 48:48 - loss: 5.89 - ETA: 48:48 - loss: 5.89 - ETA: 48:47 - loss: 5.89 - ETA: 48:46 - loss: 5.89 - ETA: 48:45 - loss: 5.89 - ETA: 48:44 - loss: 5.88 - ETA: 48:43 - loss: 5.88 - ETA: 48:43 - loss: 5.88 - ETA: 48:42 - loss: 5.88 - ETA: 48:41 - loss: 5.87 - ETA: 48:41 - loss: 5.87 - ETA: 48:40 - loss: 5.87 - ETA: 48:39 - loss: 5.87 - ETA: 48:38 - loss: 5.87 - ETA: 48:38 - loss: 5.87 - ETA: 48:37 - loss: 5.86 - ETA: 48:36 - loss: 5.86 - ETA: 48:35 - loss: 5.86 - ETA: 48:34 - loss: 5.86 - ETA: 48:34 - loss: 5.86 - ETA: 48:33 - loss: 5.85 - ETA: 48:32 - loss: 5.85 - ETA: 48:31 - loss: 5.85 - ETA: 48:30 - loss: 5.85 - ETA: 48:30 - loss: 5.85 - ETA: 48:29 - loss: 5.85 - ETA: 48:28 - loss: 5.85 - ETA: 48:28 - loss: 5.84 - ETA: 48:27 - loss: 5.84 - ETA: 48:26 - loss: 5.84 - ETA: 48:25 - loss: 5.84 - ETA: 48:24 - loss: 5.83 - ETA: 48:24 - loss: 5.83 - ETA: 48:23 - loss: 5.83 - ETA: 48:22 - loss: 5.83 - ETA: 48:22 - loss: 5.83 - ETA: 48:21 - loss: 5.82 - ETA: 48:20 - loss: 5.82 - ETA: 48:20 - loss: 5.82 - ETA: 48:20 - loss: 5.82 - ETA: 48:19 - loss: 5.81 - ETA: 48:19 - loss: 5.81 - ETA: 48:18 - loss: 5.81 - ETA: 48:17 - loss: 5.81 - ETA: 48:16 - loss: 5.81 - ETA: 48:15 - loss: 5.80 - ETA: 48:15 - loss: 5.80 - ETA: 48:14 - loss: 5.80 - ETA: 48:13 - loss: 5.80 - ETA: 48:12 - loss: 5.80 - ETA: 48:11 - loss: 5.80 - ETA: 48:11 - loss: 5.79 - ETA: 48:10 - loss: 5.79 - ETA: 48:09 - loss: 5.79 - ETA: 48:08 - loss: 5.79 - ETA: 48:07 - loss: 5.79 - ETA: 48:06 - loss: 5.79 - ETA: 48:05 - loss: 5.78 - ETA: 48:05 - loss: 5.78 - ETA: 48:04 - loss: 5.78 - ETA: 48:03 - loss: 5.78 - ETA: 48:02 - loss: 5.78 - ETA: 48:01 - loss: 5.78 - ETA: 48:00 - loss: 5.77 - ETA: 47:59 - loss: 5.77 - ETA: 47:58 - loss: 5.77 - ETA: 47:57 - loss: 5.77 - ETA: 47:56 - loss: 5.76 - ETA: 47:55 - loss: 5.76 - ETA: 47:54 - loss: 5.76 - ETA: 47:53 - loss: 5.76 - ETA: 47:52 - loss: 5.76 - ETA: 47:51 - loss: 5.76 - ETA: 47:51 - loss: 5.75 - ETA: 47:50 - loss: 5.75 - ETA: 47:49 - loss: 5.75 - ETA: 47:48 - loss: 5.75 - ETA: 47:47 - loss: 5.75 - ETA: 47:46 - loss: 5.74 - ETA: 47:45 - loss: 5.74 - ETA: 47:45 - loss: 5.74 - ETA: 47:44 - loss: 5.74 - ETA: 47:43 - loss: 5.74 - ETA: 47:42 - loss: 5.74 - ETA: 47:41 - loss: 5.73 - ETA: 47:40 - loss: 5.73 - ETA: 47:39 - loss: 5.73 - ETA: 47:38 - loss: 5.73 - ETA: 47:37 - loss: 5.73 - ETA: 47:36 - loss: 5.72 - ETA: 47:35 - loss: 5.72 - ETA: 47:35 - loss: 5.72 - ETA: 47:34 - loss: 5.72 - ETA: 47:33 - loss: 5.72 - ETA: 47:32 - loss: 5.71 - ETA: 47:31 - loss: 5.71 - ETA: 47:30 - loss: 5.71 - ETA: 47:29 - loss: 5.71 - ETA: 47:28 - loss: 5.71 - ETA: 47:27 - loss: 5.71 - ETA: 47:26 - loss: 5.70 - ETA: 47:26 - loss: 5.70 - ETA: 47:25 - loss: 5.70 - ETA: 47:24 - loss: 5.70 - ETA: 47:23 - loss: 5.70 - ETA: 47:22 - loss: 5.70 - ETA: 47:21 - loss: 5.69 - ETA: 47:21 - loss: 5.69 - ETA: 47:20 - loss: 5.69 - ETA: 47:19 - loss: 5.69 - ETA: 47:19 - loss: 5.69 - ETA: 47:19 - loss: 5.69 - ETA: 47:18 - loss: 5.69 - ETA: 47:18 - loss: 5.68 - ETA: 47:18 - loss: 5.68 - ETA: 47:18 - loss: 5.68 - ETA: 47:18 - loss: 5.68 - ETA: 47:18 - loss: 5.68 - ETA: 47:18 - loss: 5.67 - ETA: 47:17 - loss: 5.67 - ETA: 47:16 - loss: 5.67 - ETA: 47:16 - loss: 5.67 - ETA: 47:15 - loss: 5.67 - ETA: 47:15 - loss: 5.67 - ETA: 47:15 - loss: 5.66 - ETA: 47:14 - loss: 5.66 - ETA: 47:14 - loss: 5.66 - ETA: 47:13 - loss: 5.66 - ETA: 47:12 - loss: 5.66 - ETA: 47:11 - loss: 5.66 - ETA: 47:10 - loss: 5.65 - ETA: 47:10 - loss: 5.65 - ETA: 47:09 - loss: 5.65 - ETA: 47:08 - loss: 5.65 - ETA: 47:07 - loss: 5.65 - ETA: 47:06 - loss: 5.65 - ETA: 47:05 - loss: 5.64 - ETA: 47:05 - loss: 5.64 - ETA: 47:04 - loss: 5.64 - ETA: 47:03 - loss: 5.64 - ETA: 47:02 - loss: 5.64 - ETA: 47:02 - loss: 5.64 - ETA: 47:01 - loss: 5.64 - ETA: 47:00 - loss: 5.63 - ETA: 46:59 - loss: 5.63 - ETA: 46:59 - loss: 5.63 - ETA: 46:58 - loss: 5.63 - ETA: 46:57 - loss: 5.63 - ETA: 46:56 - loss: 5.63 - ETA: 46:55 - loss: 5.63 - ETA: 46:55 - loss: 5.62 - ETA: 46:54 - loss: 5.62 - ETA: 46:53 - loss: 5.62 - ETA: 46:52 - loss: 5.62 - ETA: 46:51 - loss: 5.62 - ETA: 46:51 - loss: 5.62 - ETA: 46:50 - loss: 5.61 - ETA: 46:50 - loss: 5.61 - ETA: 46:50 - loss: 5.61 - ETA: 46:49 - loss: 5.61 - ETA: 46:49 - loss: 5.61 - ETA: 46:48 - loss: 5.61 - ETA: 46:47 - loss: 5.60 - ETA: 46:47 - loss: 5.60 - ETA: 46:46 - loss: 5.60 - ETA: 46:45 - loss: 5.60 - ETA: 46:44 - loss: 5.60 - ETA: 46:44 - loss: 5.60 - ETA: 46:43 - loss: 5.60 - ETA: 46:42 - loss: 5.59 - ETA: 46:41 - loss: 5.59 - ETA: 46:40 - loss: 5.59 - ETA: 46:40 - loss: 5.59 - ETA: 46:39 - loss: 5.59 - ETA: 46:38 - loss: 5.59 - ETA: 46:37 - loss: 5.59 - ETA: 46:37 - loss: 5.59 - ETA: 46:36 - loss: 5.58 - ETA: 46:35 - loss: 5.58 - ETA: 46:34 - loss: 5.58 - ETA: 46:33 - loss: 5.58 - ETA: 46:32 - loss: 5.58 - ETA: 46:32 - loss: 5.58 - ETA: 46:31 - loss: 5.58 - ETA: 46:30 - loss: 5.58 - ETA: 46:29 - loss: 5.57 - ETA: 46:28 - loss: 5.57 - ETA: 46:28 - loss: 5.57 - ETA: 46:27 - loss: 5.57 - ETA: 46:26 - loss: 5.57 - ETA: 46:25 - loss: 5.57 - ETA: 46:24 - loss: 5.57 - ETA: 46:24 - loss: 5.56 - ETA: 46:23 - loss: 5.56 - ETA: 46:22 - loss: 5.56 - ETA: 46:22 - loss: 5.56 - ETA: 46:21 - loss: 5.56 - ETA: 46:20 - loss: 5.56 - ETA: 46:19 - loss: 5.55 - ETA: 46:19 - loss: 5.55 - ETA: 46:19 - loss: 5.55 - ETA: 46:18 - loss: 5.55 - ETA: 46:18 - loss: 5.55 - ETA: 46:17 - loss: 5.55 - ETA: 46:16 - loss: 5.55 - ETA: 46:16 - loss: 5.54 - ETA: 46:15 - loss: 5.54 - ETA: 46:14 - loss: 5.54 - ETA: 46:14 - loss: 5.54 - ETA: 46:13 - loss: 5.54 - ETA: 46:12 - loss: 5.54 - ETA: 46:12 - loss: 5.53 - ETA: 46:11 - loss: 5.53 - ETA: 46:10 - loss: 5.53 - ETA: 46:10 - loss: 5.53 - ETA: 46:09 - loss: 5.53 - ETA: 46:08 - loss: 5.53 - ETA: 46:07 - loss: 5.52 - ETA: 46:07 - loss: 5.52 - ETA: 46:06 - loss: 5.52 - ETA: 46:05 - loss: 5.52 - ETA: 46:05 - loss: 5.52 - ETA: 46:04 - loss: 5.52 - ETA: 46:03 - loss: 5.51 - ETA: 46:03 - loss: 5.51 - ETA: 46:02 - loss: 5.51 - ETA: 46:01 - loss: 5.51 - ETA: 46:00 - loss: 5.51 - ETA: 46:00 - loss: 5.51 - ETA: 45:59 - loss: 5.51 - ETA: 45:58 - loss: 5.51 - ETA: 45:57 - loss: 5.51 - ETA: 45:57 - loss: 5.51 - ETA: 45:56 - loss: 5.50 - ETA: 45:55 - loss: 5.50 - ETA: 45:54 - loss: 5.50 - ETA: 45:54 - loss: 5.50 - ETA: 45:53 - loss: 5.50 - ETA: 45:52 - loss: 5.50 - ETA: 45:52 - loss: 5.50 - ETA: 45:51 - loss: 5.50 - ETA: 45:51 - loss: 5.49 - ETA: 45:50 - loss: 5.49 - ETA: 45:49 - loss: 5.49 - ETA: 45:48 - loss: 5.49 - ETA: 45:48 - loss: 5.49 - ETA: 45:47 - loss: 5.49 - ETA: 45:46 - loss: 5.49 - ETA: 45:45 - loss: 5.49 - ETA: 45:44 - loss: 5.49 - ETA: 45:43 - loss: 5.4891 940/4335 [=====>........................] - ETA: 45:43 - loss: 5.48 - ETA: 45:42 - loss: 5.48 - ETA: 45:41 - loss: 5.48 - ETA: 45:40 - loss: 5.48 - ETA: 45:39 - loss: 5.48 - ETA: 45:38 - loss: 5.48 - ETA: 45:37 - loss: 5.48 - ETA: 45:36 - loss: 5.48 - ETA: 45:35 - loss: 5.47 - ETA: 45:35 - loss: 5.47 - ETA: 45:34 - loss: 5.47 - ETA: 45:33 - loss: 5.47 - ETA: 45:32 - loss: 5.47 - ETA: 45:32 - loss: 5.47 - ETA: 45:31 - loss: 5.46 - ETA: 45:30 - loss: 5.46 - ETA: 45:29 - loss: 5.46 - ETA: 45:28 - loss: 5.46 - ETA: 45:27 - loss: 5.46 - ETA: 45:26 - loss: 5.46 - ETA: 45:25 - loss: 5.46 - ETA: 45:24 - loss: 5.45 - ETA: 45:24 - loss: 5.45 - ETA: 45:23 - loss: 5.45 - ETA: 45:22 - loss: 5.45 - ETA: 45:21 - loss: 5.45 - ETA: 45:20 - loss: 5.45 - ETA: 45:19 - loss: 5.45 - ETA: 45:19 - loss: 5.45 - ETA: 45:18 - loss: 5.45 - ETA: 45:17 - loss: 5.44 - ETA: 45:17 - loss: 5.44 - ETA: 45:16 - loss: 5.44 - ETA: 45:15 - loss: 5.44 - ETA: 45:15 - loss: 5.44 - ETA: 45:14 - loss: 5.44 - ETA: 45:13 - loss: 5.44 - ETA: 45:12 - loss: 5.44 - ETA: 45:12 - loss: 5.44 - ETA: 45:11 - loss: 5.44 - ETA: 45:10 - loss: 5.44 - ETA: 45:09 - loss: 5.44 - ETA: 45:09 - loss: 5.43 - ETA: 45:08 - loss: 5.43 - ETA: 45:07 - loss: 5.43 - ETA: 45:06 - loss: 5.43 - ETA: 45:05 - loss: 5.43 - ETA: 45:05 - loss: 5.43 - ETA: 45:04 - loss: 5.43 - ETA: 45:03 - loss: 5.43 - ETA: 45:03 - loss: 5.43 - ETA: 45:02 - loss: 5.42 - ETA: 45:01 - loss: 5.42 - ETA: 45:00 - loss: 5.42 - ETA: 45:00 - loss: 5.42 - ETA: 44:59 - loss: 5.42 - ETA: 44:58 - loss: 5.42 - ETA: 44:57 - loss: 5.42 - ETA: 44:56 - loss: 5.41 - ETA: 44:56 - loss: 5.41 - ETA: 44:55 - loss: 5.41 - ETA: 44:54 - loss: 5.41 - ETA: 44:53 - loss: 5.41 - ETA: 44:52 - loss: 5.41 - ETA: 44:52 - loss: 5.41 - ETA: 44:51 - loss: 5.41 - ETA: 44:50 - loss: 5.41 - ETA: 44:50 - loss: 5.41 - ETA: 44:49 - loss: 5.40 - ETA: 44:48 - loss: 5.40 - ETA: 44:47 - loss: 5.40 - ETA: 44:47 - loss: 5.40 - ETA: 44:46 - loss: 5.40 - ETA: 44:45 - loss: 5.40 - ETA: 44:44 - loss: 5.40 - ETA: 44:44 - loss: 5.40 - ETA: 44:43 - loss: 5.40 - ETA: 44:42 - loss: 5.40 - ETA: 44:42 - loss: 5.39 - ETA: 44:41 - loss: 5.39 - ETA: 44:40 - loss: 5.39 - ETA: 44:39 - loss: 5.39 - ETA: 44:38 - loss: 5.39 - ETA: 44:38 - loss: 5.39 - ETA: 44:37 - loss: 5.39 - ETA: 44:36 - loss: 5.39 - ETA: 44:35 - loss: 5.38 - ETA: 44:35 - loss: 5.38 - ETA: 44:34 - loss: 5.38 - ETA: 44:33 - loss: 5.38 - ETA: 44:32 - loss: 5.38 - ETA: 44:32 - loss: 5.38 - ETA: 44:31 - loss: 5.38 - ETA: 44:30 - loss: 5.38 - ETA: 44:29 - loss: 5.37 - ETA: 44:29 - loss: 5.37 - ETA: 44:28 - loss: 5.37 - ETA: 44:28 - loss: 5.37 - ETA: 44:27 - loss: 5.37 - ETA: 44:27 - loss: 5.37 - ETA: 44:26 - loss: 5.37 - ETA: 44:26 - loss: 5.37 - ETA: 44:25 - loss: 5.36 - ETA: 44:25 - loss: 5.36 - ETA: 44:24 - loss: 5.36 - ETA: 44:24 - loss: 5.36 - ETA: 44:23 - loss: 5.36 - ETA: 44:22 - loss: 5.36 - ETA: 44:22 - loss: 5.36 - ETA: 44:22 - loss: 5.36 - ETA: 44:21 - loss: 5.36 - ETA: 44:21 - loss: 5.36 - ETA: 44:21 - loss: 5.35 - ETA: 44:21 - loss: 5.35 - ETA: 44:21 - loss: 5.35 - ETA: 44:20 - loss: 5.35 - ETA: 44:20 - loss: 5.35 - ETA: 44:19 - loss: 5.35 - ETA: 44:19 - loss: 5.35 - ETA: 44:18 - loss: 5.35 - ETA: 44:17 - loss: 5.35 - ETA: 44:17 - loss: 5.35 - ETA: 44:16 - loss: 5.35 - ETA: 44:16 - loss: 5.34 - ETA: 44:15 - loss: 5.34 - ETA: 44:15 - loss: 5.34 - ETA: 44:14 - loss: 5.34 - ETA: 44:14 - loss: 5.34 - ETA: 44:13 - loss: 5.34 - ETA: 44:13 - loss: 5.34 - ETA: 44:12 - loss: 5.34 - ETA: 44:11 - loss: 5.34 - ETA: 44:11 - loss: 5.33 - ETA: 44:10 - loss: 5.33 - ETA: 44:09 - loss: 5.33 - ETA: 44:08 - loss: 5.33 - ETA: 44:08 - loss: 5.33 - ETA: 44:07 - loss: 5.33 - ETA: 44:06 - loss: 5.33 - ETA: 44:06 - loss: 5.33 - ETA: 44:05 - loss: 5.33 - ETA: 44:04 - loss: 5.33 - ETA: 44:04 - loss: 5.32 - ETA: 44:03 - loss: 5.32 - ETA: 44:03 - loss: 5.32 - ETA: 44:02 - loss: 5.32 - ETA: 44:01 - loss: 5.32 - ETA: 44:01 - loss: 5.32 - ETA: 44:00 - loss: 5.32 - ETA: 43:59 - loss: 5.32 - ETA: 43:59 - loss: 5.32 - ETA: 43:58 - loss: 5.32 - ETA: 43:57 - loss: 5.31 - ETA: 43:57 - loss: 5.31 - ETA: 43:56 - loss: 5.31 - ETA: 43:56 - loss: 5.31 - ETA: 43:55 - loss: 5.31 - ETA: 43:55 - loss: 5.31 - ETA: 43:54 - loss: 5.31 - ETA: 43:54 - loss: 5.31 - ETA: 43:53 - loss: 5.31 - ETA: 43:53 - loss: 5.31 - ETA: 43:53 - loss: 5.31 - ETA: 43:52 - loss: 5.30 - ETA: 43:52 - loss: 5.30 - ETA: 43:51 - loss: 5.30 - ETA: 43:51 - loss: 5.30 - ETA: 43:51 - loss: 5.30 - ETA: 43:50 - loss: 5.30 - ETA: 43:50 - loss: 5.30 - ETA: 43:49 - loss: 5.30 - ETA: 43:49 - loss: 5.30 - ETA: 43:48 - loss: 5.30 - ETA: 43:48 - loss: 5.29 - ETA: 43:47 - loss: 5.29 - ETA: 43:46 - loss: 5.29 - ETA: 43:46 - loss: 5.29 - ETA: 43:45 - loss: 5.29 - ETA: 43:44 - loss: 5.29 - ETA: 43:44 - loss: 5.29 - ETA: 43:43 - loss: 5.29 - ETA: 43:42 - loss: 5.29 - ETA: 43:41 - loss: 5.29 - ETA: 43:41 - loss: 5.29 - ETA: 43:40 - loss: 5.29 - ETA: 43:39 - loss: 5.29 - ETA: 43:38 - loss: 5.29 - ETA: 43:38 - loss: 5.28 - ETA: 43:37 - loss: 5.28 - ETA: 43:36 - loss: 5.28 - ETA: 43:35 - loss: 5.28 - ETA: 43:34 - loss: 5.28 - ETA: 43:34 - loss: 5.28 - ETA: 43:33 - loss: 5.28 - ETA: 43:32 - loss: 5.28 - ETA: 43:31 - loss: 5.28 - ETA: 43:30 - loss: 5.28 - ETA: 43:29 - loss: 5.28 - ETA: 43:28 - loss: 5.28 - ETA: 43:28 - loss: 5.27 - ETA: 43:27 - loss: 5.27 - ETA: 43:26 - loss: 5.27 - ETA: 43:25 - loss: 5.27 - ETA: 43:24 - loss: 5.27 - ETA: 43:23 - loss: 5.27 - ETA: 43:22 - loss: 5.27 - ETA: 43:22 - loss: 5.27 - ETA: 43:21 - loss: 5.27 - ETA: 43:20 - loss: 5.27 - ETA: 43:19 - loss: 5.27 - ETA: 43:18 - loss: 5.26 - ETA: 43:18 - loss: 5.26 - ETA: 43:17 - loss: 5.26 - ETA: 43:16 - loss: 5.26 - ETA: 43:15 - loss: 5.26 - ETA: 43:14 - loss: 5.26 - ETA: 43:13 - loss: 5.26 - ETA: 43:12 - loss: 5.26 - ETA: 43:12 - loss: 5.26 - ETA: 43:11 - loss: 5.26 - ETA: 43:10 - loss: 5.25 - ETA: 43:09 - loss: 5.25 - ETA: 43:08 - loss: 5.25 - ETA: 43:08 - loss: 5.25 - ETA: 43:07 - loss: 5.25 - ETA: 43:06 - loss: 5.25 - ETA: 43:05 - loss: 5.25 - ETA: 43:04 - loss: 5.25 - ETA: 43:04 - loss: 5.25 - ETA: 43:03 - loss: 5.25 - ETA: 43:02 - loss: 5.25 - ETA: 43:01 - loss: 5.25 - ETA: 43:01 - loss: 5.25 - ETA: 43:00 - loss: 5.25 - ETA: 42:59 - loss: 5.25 - ETA: 42:58 - loss: 5.24 - ETA: 42:57 - loss: 5.24 - ETA: 42:57 - loss: 5.24 - ETA: 42:56 - loss: 5.24 - ETA: 42:55 - loss: 5.24 - ETA: 42:55 - loss: 5.24 - ETA: 42:54 - loss: 5.24 - ETA: 42:53 - loss: 5.24 - ETA: 42:52 - loss: 5.24 - ETA: 42:51 - loss: 5.24 - ETA: 42:51 - loss: 5.24 - ETA: 42:50 - loss: 5.24 - ETA: 42:49 - loss: 5.23 - ETA: 42:48 - loss: 5.23 - ETA: 42:48 - loss: 5.23 - ETA: 42:47 - loss: 5.23 - ETA: 42:46 - loss: 5.23 - ETA: 42:45 - loss: 5.23 - ETA: 42:45 - loss: 5.23 - ETA: 42:44 - loss: 5.23 - ETA: 42:43 - loss: 5.23 - ETA: 42:42 - loss: 5.23 - ETA: 42:42 - loss: 5.23 - ETA: 42:41 - loss: 5.22 - ETA: 42:40 - loss: 5.22 - ETA: 42:39 - loss: 5.22 - ETA: 42:39 - loss: 5.22 - ETA: 42:38 - loss: 5.22 - ETA: 42:37 - loss: 5.22 - ETA: 42:36 - loss: 5.22 - ETA: 42:36 - loss: 5.22 - ETA: 42:35 - loss: 5.22 - ETA: 42:34 - loss: 5.22 - ETA: 42:33 - loss: 5.22 - ETA: 42:33 - loss: 5.21 - ETA: 42:32 - loss: 5.21 - ETA: 42:32 - loss: 5.21 - ETA: 42:31 - loss: 5.21 - ETA: 42:30 - loss: 5.21 - ETA: 42:30 - loss: 5.21 - ETA: 42:29 - loss: 5.21 - ETA: 42:28 - loss: 5.21 - ETA: 42:27 - loss: 5.21 - ETA: 42:26 - loss: 5.21 - ETA: 42:25 - loss: 5.21 - ETA: 42:24 - loss: 5.21 - ETA: 42:23 - loss: 5.20 - ETA: 42:23 - loss: 5.20 - ETA: 42:22 - loss: 5.20 - ETA: 42:21 - loss: 5.20 - ETA: 42:20 - loss: 5.20 - ETA: 42:19 - loss: 5.20 - ETA: 42:18 - loss: 5.20 - ETA: 42:18 - loss: 5.20 - ETA: 42:17 - loss: 5.20 - ETA: 42:16 - loss: 5.20 - ETA: 42:16 - loss: 5.20 - ETA: 42:15 - loss: 5.20 - ETA: 42:14 - loss: 5.19 - ETA: 42:13 - loss: 5.19 - ETA: 42:13 - loss: 5.19 - ETA: 42:12 - loss: 5.19 - ETA: 42:11 - loss: 5.19 - ETA: 42:10 - loss: 5.19 - ETA: 42:10 - loss: 5.19 - ETA: 42:09 - loss: 5.19 - ETA: 42:08 - loss: 5.19 - ETA: 42:07 - loss: 5.19 - ETA: 42:07 - loss: 5.19 - ETA: 42:06 - loss: 5.18 - ETA: 42:05 - loss: 5.18 - ETA: 42:05 - loss: 5.18 - ETA: 42:04 - loss: 5.18 - ETA: 42:04 - loss: 5.18 - ETA: 42:03 - loss: 5.18 - ETA: 42:03 - loss: 5.18 - ETA: 42:02 - loss: 5.18 - ETA: 42:02 - loss: 5.18 - ETA: 42:01 - loss: 5.1828"
     ]
    },
    {
     "name": "stdout",
     "output_type": "stream",
     "text": [
      "1254/4335 [=======>......................] - ETA: 42:00 - loss: 5.18 - ETA: 41:59 - loss: 5.18 - ETA: 41:59 - loss: 5.18 - ETA: 41:58 - loss: 5.17 - ETA: 41:57 - loss: 5.17 - ETA: 41:56 - loss: 5.17 - ETA: 41:56 - loss: 5.17 - ETA: 41:55 - loss: 5.17 - ETA: 41:54 - loss: 5.17 - ETA: 41:54 - loss: 5.17 - ETA: 41:53 - loss: 5.17 - ETA: 41:52 - loss: 5.17 - ETA: 41:51 - loss: 5.17 - ETA: 41:51 - loss: 5.17 - ETA: 41:50 - loss: 5.16 - ETA: 41:49 - loss: 5.16 - ETA: 41:48 - loss: 5.16 - ETA: 41:48 - loss: 5.16 - ETA: 41:47 - loss: 5.16 - ETA: 41:46 - loss: 5.16 - ETA: 41:45 - loss: 5.16 - ETA: 41:45 - loss: 5.16 - ETA: 41:44 - loss: 5.16 - ETA: 41:43 - loss: 5.16 - ETA: 41:43 - loss: 5.16 - ETA: 41:42 - loss: 5.16 - ETA: 41:41 - loss: 5.16 - ETA: 41:40 - loss: 5.15 - ETA: 41:40 - loss: 5.15 - ETA: 41:39 - loss: 5.15 - ETA: 41:38 - loss: 5.15 - ETA: 41:37 - loss: 5.15 - ETA: 41:37 - loss: 5.15 - ETA: 41:36 - loss: 5.15 - ETA: 41:35 - loss: 5.15 - ETA: 41:35 - loss: 5.15 - ETA: 41:34 - loss: 5.15 - ETA: 41:33 - loss: 5.15 - ETA: 41:32 - loss: 5.15 - ETA: 41:32 - loss: 5.15 - ETA: 41:31 - loss: 5.15 - ETA: 41:30 - loss: 5.15 - ETA: 41:30 - loss: 5.14 - ETA: 41:29 - loss: 5.14 - ETA: 41:28 - loss: 5.14 - ETA: 41:27 - loss: 5.14 - ETA: 41:26 - loss: 5.14 - ETA: 41:26 - loss: 5.14 - ETA: 41:25 - loss: 5.14 - ETA: 41:24 - loss: 5.14 - ETA: 41:23 - loss: 5.14 - ETA: 41:23 - loss: 5.14 - ETA: 41:22 - loss: 5.14 - ETA: 41:21 - loss: 5.14 - ETA: 41:21 - loss: 5.14 - ETA: 41:20 - loss: 5.14 - ETA: 41:20 - loss: 5.14 - ETA: 41:19 - loss: 5.13 - ETA: 41:18 - loss: 5.13 - ETA: 41:18 - loss: 5.13 - ETA: 41:17 - loss: 5.13 - ETA: 41:16 - loss: 5.13 - ETA: 41:16 - loss: 5.13 - ETA: 41:15 - loss: 5.13 - ETA: 41:14 - loss: 5.13 - ETA: 41:14 - loss: 5.13 - ETA: 41:13 - loss: 5.13 - ETA: 41:12 - loss: 5.13 - ETA: 41:11 - loss: 5.13 - ETA: 41:10 - loss: 5.13 - ETA: 41:10 - loss: 5.12 - ETA: 41:09 - loss: 5.12 - ETA: 41:08 - loss: 5.12 - ETA: 41:07 - loss: 5.12 - ETA: 41:07 - loss: 5.12 - ETA: 41:06 - loss: 5.12 - ETA: 41:05 - loss: 5.12 - ETA: 41:04 - loss: 5.12 - ETA: 41:03 - loss: 5.12 - ETA: 41:03 - loss: 5.12 - ETA: 41:02 - loss: 5.12 - ETA: 41:01 - loss: 5.12 - ETA: 41:00 - loss: 5.12 - ETA: 40:59 - loss: 5.12 - ETA: 40:58 - loss: 5.12 - ETA: 40:58 - loss: 5.12 - ETA: 40:57 - loss: 5.12 - ETA: 40:56 - loss: 5.12 - ETA: 40:55 - loss: 5.11 - ETA: 40:54 - loss: 5.11 - ETA: 40:53 - loss: 5.11 - ETA: 40:53 - loss: 5.11 - ETA: 40:52 - loss: 5.11 - ETA: 40:51 - loss: 5.11 - ETA: 40:50 - loss: 5.11 - ETA: 40:49 - loss: 5.11 - ETA: 40:49 - loss: 5.11 - ETA: 40:48 - loss: 5.11 - ETA: 40:47 - loss: 5.11 - ETA: 40:46 - loss: 5.11 - ETA: 40:45 - loss: 5.11 - ETA: 40:45 - loss: 5.11 - ETA: 40:44 - loss: 5.11 - ETA: 40:43 - loss: 5.10 - ETA: 40:42 - loss: 5.10 - ETA: 40:41 - loss: 5.10 - ETA: 40:41 - loss: 5.10 - ETA: 40:40 - loss: 5.10 - ETA: 40:39 - loss: 5.10 - ETA: 40:38 - loss: 5.10 - ETA: 40:37 - loss: 5.10 - ETA: 40:36 - loss: 5.10 - ETA: 40:36 - loss: 5.10 - ETA: 40:35 - loss: 5.10 - ETA: 40:34 - loss: 5.10 - ETA: 40:33 - loss: 5.10 - ETA: 40:32 - loss: 5.10 - ETA: 40:32 - loss: 5.09 - ETA: 40:31 - loss: 5.09 - ETA: 40:31 - loss: 5.09 - ETA: 40:30 - loss: 5.09 - ETA: 40:29 - loss: 5.09 - ETA: 40:28 - loss: 5.09 - ETA: 40:28 - loss: 5.09 - ETA: 40:27 - loss: 5.09 - ETA: 40:26 - loss: 5.09 - ETA: 40:25 - loss: 5.09 - ETA: 40:24 - loss: 5.09 - ETA: 40:24 - loss: 5.09 - ETA: 40:23 - loss: 5.09 - ETA: 40:22 - loss: 5.09 - ETA: 40:21 - loss: 5.09 - ETA: 40:20 - loss: 5.09 - ETA: 40:20 - loss: 5.09 - ETA: 40:19 - loss: 5.09 - ETA: 40:18 - loss: 5.08 - ETA: 40:17 - loss: 5.08 - ETA: 40:16 - loss: 5.08 - ETA: 40:16 - loss: 5.08 - ETA: 40:15 - loss: 5.08 - ETA: 40:14 - loss: 5.08 - ETA: 40:13 - loss: 5.08 - ETA: 40:13 - loss: 5.08 - ETA: 40:12 - loss: 5.08 - ETA: 40:11 - loss: 5.08 - ETA: 40:10 - loss: 5.08 - ETA: 40:10 - loss: 5.08 - ETA: 40:09 - loss: 5.08 - ETA: 40:08 - loss: 5.08 - ETA: 40:07 - loss: 5.08 - ETA: 40:07 - loss: 5.08 - ETA: 40:06 - loss: 5.08 - ETA: 40:05 - loss: 5.07 - ETA: 40:04 - loss: 5.07 - ETA: 40:04 - loss: 5.07 - ETA: 40:03 - loss: 5.07 - ETA: 40:02 - loss: 5.07 - ETA: 40:02 - loss: 5.07 - ETA: 40:01 - loss: 5.07 - ETA: 40:00 - loss: 5.07 - ETA: 39:59 - loss: 5.07 - ETA: 39:59 - loss: 5.07 - ETA: 39:58 - loss: 5.07 - ETA: 39:57 - loss: 5.07 - ETA: 39:56 - loss: 5.07 - ETA: 39:56 - loss: 5.06 - ETA: 39:55 - loss: 5.06 - ETA: 39:54 - loss: 5.06 - ETA: 39:53 - loss: 5.06 - ETA: 39:53 - loss: 5.06 - ETA: 39:52 - loss: 5.06 - ETA: 39:51 - loss: 5.06 - ETA: 39:50 - loss: 5.06 - ETA: 39:50 - loss: 5.06 - ETA: 39:49 - loss: 5.06 - ETA: 39:48 - loss: 5.06 - ETA: 39:48 - loss: 5.06 - ETA: 39:47 - loss: 5.06 - ETA: 39:46 - loss: 5.06 - ETA: 39:45 - loss: 5.06 - ETA: 39:45 - loss: 5.05 - ETA: 39:44 - loss: 5.05 - ETA: 39:43 - loss: 5.05 - ETA: 39:42 - loss: 5.05 - ETA: 39:42 - loss: 5.05 - ETA: 39:41 - loss: 5.05 - ETA: 39:40 - loss: 5.05 - ETA: 39:39 - loss: 5.05 - ETA: 39:39 - loss: 5.05 - ETA: 39:38 - loss: 5.05 - ETA: 39:37 - loss: 5.05 - ETA: 39:36 - loss: 5.05 - ETA: 39:36 - loss: 5.05 - ETA: 39:35 - loss: 5.05 - ETA: 39:34 - loss: 5.05 - ETA: 39:33 - loss: 5.05 - ETA: 39:33 - loss: 5.05 - ETA: 39:32 - loss: 5.05 - ETA: 39:31 - loss: 5.04 - ETA: 39:30 - loss: 5.04 - ETA: 39:30 - loss: 5.04 - ETA: 39:29 - loss: 5.04 - ETA: 39:28 - loss: 5.04 - ETA: 39:28 - loss: 5.04 - ETA: 39:27 - loss: 5.04 - ETA: 39:26 - loss: 5.04 - ETA: 39:25 - loss: 5.04 - ETA: 39:24 - loss: 5.04 - ETA: 39:24 - loss: 5.04 - ETA: 39:23 - loss: 5.04 - ETA: 39:22 - loss: 5.04 - ETA: 39:21 - loss: 5.04 - ETA: 39:21 - loss: 5.04 - ETA: 39:20 - loss: 5.04 - ETA: 39:19 - loss: 5.04 - ETA: 39:19 - loss: 5.04 - ETA: 39:18 - loss: 5.03 - ETA: 39:17 - loss: 5.03 - ETA: 39:16 - loss: 5.03 - ETA: 39:15 - loss: 5.03 - ETA: 39:15 - loss: 5.03 - ETA: 39:14 - loss: 5.03 - ETA: 39:13 - loss: 5.03 - ETA: 39:13 - loss: 5.03 - ETA: 39:12 - loss: 5.03 - ETA: 39:11 - loss: 5.03 - ETA: 39:10 - loss: 5.03 - ETA: 39:10 - loss: 5.03 - ETA: 39:09 - loss: 5.03 - ETA: 39:08 - loss: 5.03 - ETA: 39:07 - loss: 5.03 - ETA: 39:07 - loss: 5.03 - ETA: 39:06 - loss: 5.02 - ETA: 39:05 - loss: 5.02 - ETA: 39:04 - loss: 5.02 - ETA: 39:04 - loss: 5.02 - ETA: 39:03 - loss: 5.02 - ETA: 39:02 - loss: 5.02 - ETA: 39:01 - loss: 5.02 - ETA: 39:01 - loss: 5.02 - ETA: 39:00 - loss: 5.02 - ETA: 38:59 - loss: 5.02 - ETA: 38:58 - loss: 5.02 - ETA: 38:57 - loss: 5.02 - ETA: 38:57 - loss: 5.02 - ETA: 38:56 - loss: 5.02 - ETA: 38:55 - loss: 5.02 - ETA: 38:54 - loss: 5.02 - ETA: 38:54 - loss: 5.02 - ETA: 38:53 - loss: 5.02 - ETA: 38:52 - loss: 5.02 - ETA: 38:51 - loss: 5.02 - ETA: 38:51 - loss: 5.02 - ETA: 38:50 - loss: 5.01 - ETA: 38:49 - loss: 5.01 - ETA: 38:48 - loss: 5.01 - ETA: 38:48 - loss: 5.01 - ETA: 38:47 - loss: 5.01 - ETA: 38:46 - loss: 5.01 - ETA: 38:45 - loss: 5.01 - ETA: 38:44 - loss: 5.01 - ETA: 38:44 - loss: 5.01 - ETA: 38:43 - loss: 5.01 - ETA: 38:42 - loss: 5.01 - ETA: 38:41 - loss: 5.01 - ETA: 38:41 - loss: 5.01 - ETA: 38:40 - loss: 5.01 - ETA: 38:39 - loss: 5.01 - ETA: 38:38 - loss: 5.00 - ETA: 38:37 - loss: 5.00 - ETA: 38:37 - loss: 5.00 - ETA: 38:36 - loss: 5.00 - ETA: 38:35 - loss: 5.00 - ETA: 38:34 - loss: 5.00 - ETA: 38:33 - loss: 5.00 - ETA: 38:33 - loss: 5.00 - ETA: 38:32 - loss: 5.00 - ETA: 38:31 - loss: 5.00 - ETA: 38:31 - loss: 5.00 - ETA: 38:30 - loss: 5.00 - ETA: 38:29 - loss: 5.00 - ETA: 38:29 - loss: 5.00 - ETA: 38:28 - loss: 5.00 - ETA: 38:27 - loss: 5.00 - ETA: 38:26 - loss: 5.00 - ETA: 38:26 - loss: 5.00 - ETA: 38:25 - loss: 4.99 - ETA: 38:24 - loss: 4.99 - ETA: 38:23 - loss: 4.99 - ETA: 38:22 - loss: 4.99 - ETA: 38:22 - loss: 4.99 - ETA: 38:21 - loss: 4.99 - ETA: 38:20 - loss: 4.99 - ETA: 38:19 - loss: 4.99 - ETA: 38:19 - loss: 4.99 - ETA: 38:18 - loss: 4.99 - ETA: 38:17 - loss: 4.99 - ETA: 38:16 - loss: 4.99 - ETA: 38:16 - loss: 4.99 - ETA: 38:15 - loss: 4.99 - ETA: 38:14 - loss: 4.99 - ETA: 38:13 - loss: 4.99 - ETA: 38:13 - loss: 4.99 - ETA: 38:12 - loss: 4.99 - ETA: 38:11 - loss: 4.98 - ETA: 38:11 - loss: 4.98 - ETA: 38:10 - loss: 4.98 - ETA: 38:09 - loss: 4.98 - ETA: 38:08 - loss: 4.98 - ETA: 38:08 - loss: 4.98 - ETA: 38:07 - loss: 4.98 - ETA: 38:06 - loss: 4.98 - ETA: 38:06 - loss: 4.98 - ETA: 38:05 - loss: 4.9860"
     ]
    },
    {
     "name": "stdout",
     "output_type": "stream",
     "text": [
      "1568/4335 [=========>....................] - ETA: 38:04 - loss: 4.98 - ETA: 38:04 - loss: 4.98 - ETA: 38:03 - loss: 4.98 - ETA: 38:02 - loss: 4.98 - ETA: 38:02 - loss: 4.98 - ETA: 38:01 - loss: 4.98 - ETA: 38:00 - loss: 4.98 - ETA: 38:00 - loss: 4.98 - ETA: 37:59 - loss: 4.98 - ETA: 37:58 - loss: 4.98 - ETA: 37:57 - loss: 4.98 - ETA: 37:57 - loss: 4.97 - ETA: 37:56 - loss: 4.97 - ETA: 37:55 - loss: 4.97 - ETA: 37:54 - loss: 4.97 - ETA: 37:54 - loss: 4.97 - ETA: 37:53 - loss: 4.97 - ETA: 37:52 - loss: 4.97 - ETA: 37:51 - loss: 4.97 - ETA: 37:51 - loss: 4.97 - ETA: 37:50 - loss: 4.97 - ETA: 37:49 - loss: 4.97 - ETA: 37:48 - loss: 4.97 - ETA: 37:47 - loss: 4.97 - ETA: 37:47 - loss: 4.97 - ETA: 37:46 - loss: 4.97 - ETA: 37:45 - loss: 4.97 - ETA: 37:44 - loss: 4.97 - ETA: 37:43 - loss: 4.97 - ETA: 37:43 - loss: 4.97 - ETA: 37:42 - loss: 4.97 - ETA: 37:41 - loss: 4.97 - ETA: 37:40 - loss: 4.97 - ETA: 37:39 - loss: 4.97 - ETA: 37:39 - loss: 4.97 - ETA: 37:38 - loss: 4.97 - ETA: 37:37 - loss: 4.96 - ETA: 37:36 - loss: 4.96 - ETA: 37:35 - loss: 4.96 - ETA: 37:34 - loss: 4.96 - ETA: 37:34 - loss: 4.96 - ETA: 37:33 - loss: 4.96 - ETA: 37:32 - loss: 4.96 - ETA: 37:31 - loss: 4.96 - ETA: 37:31 - loss: 4.96 - ETA: 37:30 - loss: 4.96 - ETA: 37:29 - loss: 4.96 - ETA: 37:28 - loss: 4.96 - ETA: 37:27 - loss: 4.96 - ETA: 37:27 - loss: 4.96 - ETA: 37:26 - loss: 4.96 - ETA: 37:25 - loss: 4.96 - ETA: 37:24 - loss: 4.96 - ETA: 37:24 - loss: 4.96 - ETA: 37:23 - loss: 4.96 - ETA: 37:22 - loss: 4.95 - ETA: 37:21 - loss: 4.95 - ETA: 37:20 - loss: 4.95 - ETA: 37:20 - loss: 4.95 - ETA: 37:19 - loss: 4.95 - ETA: 37:18 - loss: 4.95 - ETA: 37:17 - loss: 4.95 - ETA: 37:16 - loss: 4.95 - ETA: 37:16 - loss: 4.95 - ETA: 37:15 - loss: 4.95 - ETA: 37:14 - loss: 4.95 - ETA: 37:13 - loss: 4.95 - ETA: 37:12 - loss: 4.95 - ETA: 37:12 - loss: 4.95 - ETA: 37:11 - loss: 4.95 - ETA: 37:10 - loss: 4.95 - ETA: 37:09 - loss: 4.95 - ETA: 37:09 - loss: 4.95 - ETA: 37:08 - loss: 4.95 - ETA: 37:08 - loss: 4.95 - ETA: 37:07 - loss: 4.95 - ETA: 37:07 - loss: 4.94 - ETA: 37:06 - loss: 4.94 - ETA: 37:05 - loss: 4.94 - ETA: 37:05 - loss: 4.94 - ETA: 37:05 - loss: 4.94 - ETA: 37:04 - loss: 4.94 - ETA: 37:03 - loss: 4.94 - ETA: 37:03 - loss: 4.94 - ETA: 37:02 - loss: 4.94 - ETA: 37:03 - loss: 4.94 - ETA: 37:03 - loss: 4.94 - ETA: 37:02 - loss: 4.94 - ETA: 37:02 - loss: 4.94 - ETA: 37:01 - loss: 4.94 - ETA: 37:01 - loss: 4.94 - ETA: 37:01 - loss: 4.94 - ETA: 37:01 - loss: 4.94 - ETA: 37:01 - loss: 4.94 - ETA: 37:01 - loss: 4.93 - ETA: 37:01 - loss: 4.93 - ETA: 37:01 - loss: 4.93 - ETA: 37:01 - loss: 4.93 - ETA: 37:01 - loss: 4.93 - ETA: 37:00 - loss: 4.93 - ETA: 37:00 - loss: 4.93 - ETA: 36:59 - loss: 4.93 - ETA: 36:59 - loss: 4.93 - ETA: 36:58 - loss: 4.93 - ETA: 36:58 - loss: 4.93 - ETA: 36:58 - loss: 4.93 - ETA: 36:57 - loss: 4.93 - ETA: 36:57 - loss: 4.93 - ETA: 36:57 - loss: 4.93 - ETA: 36:56 - loss: 4.93 - ETA: 36:55 - loss: 4.93 - ETA: 36:55 - loss: 4.93 - ETA: 36:54 - loss: 4.93 - ETA: 36:53 - loss: 4.93 - ETA: 36:53 - loss: 4.93 - ETA: 36:52 - loss: 4.93 - ETA: 36:51 - loss: 4.93 - ETA: 36:51 - loss: 4.93 - ETA: 36:50 - loss: 4.93 - ETA: 36:50 - loss: 4.93 - ETA: 36:49 - loss: 4.92 - ETA: 36:48 - loss: 4.93 - ETA: 36:48 - loss: 4.92 - ETA: 36:47 - loss: 4.92 - ETA: 36:47 - loss: 4.92 - ETA: 36:46 - loss: 4.92 - ETA: 36:45 - loss: 4.92 - ETA: 36:45 - loss: 4.92 - ETA: 36:44 - loss: 4.92 - ETA: 36:44 - loss: 4.92 - ETA: 36:43 - loss: 4.92 - ETA: 36:42 - loss: 4.92 - ETA: 36:42 - loss: 4.92 - ETA: 36:41 - loss: 4.92 - ETA: 36:40 - loss: 4.92 - ETA: 36:40 - loss: 4.92 - ETA: 36:39 - loss: 4.92 - ETA: 36:38 - loss: 4.92 - ETA: 36:38 - loss: 4.92 - ETA: 36:37 - loss: 4.92 - ETA: 36:37 - loss: 4.92 - ETA: 36:36 - loss: 4.92 - ETA: 36:35 - loss: 4.92 - ETA: 36:35 - loss: 4.92 - ETA: 36:34 - loss: 4.92 - ETA: 36:34 - loss: 4.92 - ETA: 36:34 - loss: 4.92 - ETA: 36:34 - loss: 4.91 - ETA: 36:33 - loss: 4.91 - ETA: 36:33 - loss: 4.91 - ETA: 36:32 - loss: 4.91 - ETA: 36:31 - loss: 4.91 - ETA: 36:31 - loss: 4.91 - ETA: 36:30 - loss: 4.91 - ETA: 36:29 - loss: 4.91 - ETA: 36:29 - loss: 4.91 - ETA: 36:28 - loss: 4.91 - ETA: 36:27 - loss: 4.91 - ETA: 36:27 - loss: 4.91 - ETA: 36:26 - loss: 4.91 - ETA: 36:25 - loss: 4.91 - ETA: 36:25 - loss: 4.91 - ETA: 36:24 - loss: 4.91 - ETA: 36:23 - loss: 4.91 - ETA: 36:23 - loss: 4.91 - ETA: 36:22 - loss: 4.91 - ETA: 36:21 - loss: 4.91 - ETA: 36:21 - loss: 4.91 - ETA: 36:20 - loss: 4.90 - ETA: 36:19 - loss: 4.90 - ETA: 36:19 - loss: 4.90 - ETA: 36:18 - loss: 4.90 - ETA: 36:17 - loss: 4.90 - ETA: 36:16 - loss: 4.90 - ETA: 36:16 - loss: 4.90 - ETA: 36:15 - loss: 4.90 - ETA: 36:14 - loss: 4.90 - ETA: 36:14 - loss: 4.90 - ETA: 36:13 - loss: 4.90 - ETA: 36:12 - loss: 4.90 - ETA: 36:12 - loss: 4.90 - ETA: 36:11 - loss: 4.90 - ETA: 36:10 - loss: 4.90 - ETA: 36:10 - loss: 4.90 - ETA: 36:09 - loss: 4.90 - ETA: 36:09 - loss: 4.90 - ETA: 36:08 - loss: 4.90 - ETA: 36:07 - loss: 4.90 - ETA: 36:07 - loss: 4.90 - ETA: 36:06 - loss: 4.90 - ETA: 36:05 - loss: 4.90 - ETA: 36:05 - loss: 4.89 - ETA: 36:04 - loss: 4.89 - ETA: 36:03 - loss: 4.89 - ETA: 36:03 - loss: 4.89 - ETA: 36:02 - loss: 4.89 - ETA: 36:01 - loss: 4.89 - ETA: 36:01 - loss: 4.89 - ETA: 36:00 - loss: 4.89 - ETA: 35:59 - loss: 4.89 - ETA: 35:59 - loss: 4.89 - ETA: 35:58 - loss: 4.89 - ETA: 35:57 - loss: 4.89 - ETA: 35:57 - loss: 4.89 - ETA: 35:56 - loss: 4.89 - ETA: 35:55 - loss: 4.89 - ETA: 35:55 - loss: 4.89 - ETA: 35:54 - loss: 4.89 - ETA: 35:53 - loss: 4.89 - ETA: 35:52 - loss: 4.89 - ETA: 35:52 - loss: 4.89 - ETA: 35:51 - loss: 4.89 - ETA: 35:50 - loss: 4.89 - ETA: 35:49 - loss: 4.88 - ETA: 35:49 - loss: 4.88 - ETA: 35:48 - loss: 4.88 - ETA: 35:47 - loss: 4.88 - ETA: 35:47 - loss: 4.88 - ETA: 35:46 - loss: 4.88 - ETA: 35:45 - loss: 4.88 - ETA: 35:44 - loss: 4.88 - ETA: 35:44 - loss: 4.88 - ETA: 35:43 - loss: 4.88 - ETA: 35:42 - loss: 4.88 - ETA: 35:42 - loss: 4.88 - ETA: 35:41 - loss: 4.88 - ETA: 35:40 - loss: 4.88 - ETA: 35:40 - loss: 4.88 - ETA: 35:39 - loss: 4.88 - ETA: 35:39 - loss: 4.88 - ETA: 35:38 - loss: 4.88 - ETA: 35:37 - loss: 4.88 - ETA: 35:37 - loss: 4.88 - ETA: 35:36 - loss: 4.88 - ETA: 35:36 - loss: 4.88 - ETA: 35:35 - loss: 4.88 - ETA: 35:34 - loss: 4.88 - ETA: 35:33 - loss: 4.87 - ETA: 35:33 - loss: 4.87 - ETA: 35:32 - loss: 4.87 - ETA: 35:32 - loss: 4.87 - ETA: 35:32 - loss: 4.87 - ETA: 35:31 - loss: 4.87 - ETA: 35:31 - loss: 4.87 - ETA: 35:31 - loss: 4.87 - ETA: 35:31 - loss: 4.87 - ETA: 35:30 - loss: 4.87 - ETA: 35:30 - loss: 4.87 - ETA: 35:30 - loss: 4.87 - ETA: 35:30 - loss: 4.87 - ETA: 35:29 - loss: 4.87 - ETA: 35:29 - loss: 4.87 - ETA: 35:28 - loss: 4.87 - ETA: 35:28 - loss: 4.87 - ETA: 35:28 - loss: 4.87 - ETA: 35:27 - loss: 4.87 - ETA: 35:27 - loss: 4.87 - ETA: 35:27 - loss: 4.87 - ETA: 35:27 - loss: 4.87 - ETA: 35:26 - loss: 4.87 - ETA: 35:26 - loss: 4.86 - ETA: 35:25 - loss: 4.86 - ETA: 35:25 - loss: 4.86 - ETA: 35:25 - loss: 4.86 - ETA: 35:25 - loss: 4.86 - ETA: 35:25 - loss: 4.86 - ETA: 35:25 - loss: 4.86 - ETA: 35:25 - loss: 4.86 - ETA: 35:25 - loss: 4.86 - ETA: 35:24 - loss: 4.86 - ETA: 35:24 - loss: 4.86 - ETA: 35:23 - loss: 4.86 - ETA: 35:23 - loss: 4.86 - ETA: 35:22 - loss: 4.86 - ETA: 35:22 - loss: 4.86 - ETA: 35:22 - loss: 4.86 - ETA: 35:21 - loss: 4.86 - ETA: 35:21 - loss: 4.86 - ETA: 35:21 - loss: 4.86 - ETA: 35:20 - loss: 4.86 - ETA: 35:20 - loss: 4.86 - ETA: 35:19 - loss: 4.86 - ETA: 35:19 - loss: 4.86 - ETA: 35:19 - loss: 4.86 - ETA: 35:18 - loss: 4.86 - ETA: 35:18 - loss: 4.85 - ETA: 35:17 - loss: 4.85 - ETA: 35:17 - loss: 4.85 - ETA: 35:17 - loss: 4.85 - ETA: 35:16 - loss: 4.85 - ETA: 35:16 - loss: 4.85 - ETA: 35:16 - loss: 4.85 - ETA: 35:16 - loss: 4.85 - ETA: 35:16 - loss: 4.85 - ETA: 35:15 - loss: 4.85 - ETA: 35:15 - loss: 4.85 - ETA: 35:15 - loss: 4.85 - ETA: 35:14 - loss: 4.85 - ETA: 35:14 - loss: 4.85 - ETA: 35:13 - loss: 4.85 - ETA: 35:13 - loss: 4.85 - ETA: 35:13 - loss: 4.85 - ETA: 35:12 - loss: 4.85 - ETA: 35:12 - loss: 4.85 - ETA: 35:11 - loss: 4.85 - ETA: 35:11 - loss: 4.85 - ETA: 35:11 - loss: 4.85 - ETA: 35:11 - loss: 4.85 - ETA: 35:10 - loss: 4.85 - ETA: 35:10 - loss: 4.85 - ETA: 35:09 - loss: 4.85 - ETA: 35:09 - loss: 4.85 - ETA: 35:08 - loss: 4.85 - ETA: 35:08 - loss: 4.8501"
     ]
    },
    {
     "name": "stdout",
     "output_type": "stream",
     "text": [
      "1882/4335 [============>.................] - ETA: 35:08 - loss: 4.84 - ETA: 35:07 - loss: 4.84 - ETA: 35:07 - loss: 4.84 - ETA: 35:06 - loss: 4.84 - ETA: 35:06 - loss: 4.84 - ETA: 35:06 - loss: 4.84 - ETA: 35:06 - loss: 4.84 - ETA: 35:05 - loss: 4.84 - ETA: 35:05 - loss: 4.84 - ETA: 35:04 - loss: 4.84 - ETA: 35:04 - loss: 4.84 - ETA: 35:04 - loss: 4.84 - ETA: 35:04 - loss: 4.84 - ETA: 35:03 - loss: 4.84 - ETA: 35:03 - loss: 4.84 - ETA: 35:03 - loss: 4.84 - ETA: 35:02 - loss: 4.84 - ETA: 35:02 - loss: 4.84 - ETA: 35:02 - loss: 4.84 - ETA: 35:01 - loss: 4.84 - ETA: 35:01 - loss: 4.84 - ETA: 35:01 - loss: 4.84 - ETA: 35:00 - loss: 4.84 - ETA: 35:00 - loss: 4.84 - ETA: 34:59 - loss: 4.84 - ETA: 34:59 - loss: 4.84 - ETA: 34:59 - loss: 4.84 - ETA: 34:58 - loss: 4.84 - ETA: 34:58 - loss: 4.84 - ETA: 34:57 - loss: 4.83 - ETA: 34:57 - loss: 4.83 - ETA: 34:57 - loss: 4.83 - ETA: 34:56 - loss: 4.83 - ETA: 34:56 - loss: 4.83 - ETA: 34:56 - loss: 4.83 - ETA: 34:55 - loss: 4.83 - ETA: 34:55 - loss: 4.83 - ETA: 34:54 - loss: 4.83 - ETA: 34:54 - loss: 4.83 - ETA: 34:54 - loss: 4.83 - ETA: 34:54 - loss: 4.83 - ETA: 34:53 - loss: 4.83 - ETA: 34:53 - loss: 4.83 - ETA: 34:53 - loss: 4.83 - ETA: 34:52 - loss: 4.83 - ETA: 34:52 - loss: 4.83 - ETA: 34:51 - loss: 4.83 - ETA: 34:51 - loss: 4.83 - ETA: 34:50 - loss: 4.83 - ETA: 34:50 - loss: 4.83 - ETA: 34:49 - loss: 4.83 - ETA: 34:49 - loss: 4.83 - ETA: 34:48 - loss: 4.83 - ETA: 34:48 - loss: 4.83 - ETA: 34:47 - loss: 4.83 - ETA: 34:46 - loss: 4.83 - ETA: 34:46 - loss: 4.83 - ETA: 34:45 - loss: 4.83 - ETA: 34:45 - loss: 4.82 - ETA: 34:44 - loss: 4.82 - ETA: 34:44 - loss: 4.82 - ETA: 34:44 - loss: 4.82 - ETA: 34:43 - loss: 4.82 - ETA: 34:43 - loss: 4.82 - ETA: 34:42 - loss: 4.82 - ETA: 34:42 - loss: 4.82 - ETA: 34:41 - loss: 4.82 - ETA: 34:41 - loss: 4.82 - ETA: 34:40 - loss: 4.82 - ETA: 34:40 - loss: 4.82 - ETA: 34:40 - loss: 4.82 - ETA: 34:39 - loss: 4.82 - ETA: 34:39 - loss: 4.82 - ETA: 34:39 - loss: 4.82 - ETA: 34:38 - loss: 4.82 - ETA: 34:38 - loss: 4.82 - ETA: 34:38 - loss: 4.82 - ETA: 34:37 - loss: 4.82 - ETA: 34:37 - loss: 4.82 - ETA: 34:36 - loss: 4.82 - ETA: 34:36 - loss: 4.82 - ETA: 34:36 - loss: 4.82 - ETA: 34:35 - loss: 4.82 - ETA: 34:35 - loss: 4.82 - ETA: 34:34 - loss: 4.82 - ETA: 34:34 - loss: 4.82 - ETA: 34:33 - loss: 4.82 - ETA: 34:33 - loss: 4.81 - ETA: 34:32 - loss: 4.81 - ETA: 34:32 - loss: 4.81 - ETA: 34:31 - loss: 4.81 - ETA: 34:31 - loss: 4.81 - ETA: 34:30 - loss: 4.81 - ETA: 34:30 - loss: 4.81 - ETA: 34:30 - loss: 4.81 - ETA: 34:29 - loss: 4.81 - ETA: 34:29 - loss: 4.81 - ETA: 34:28 - loss: 4.81 - ETA: 34:28 - loss: 4.81 - ETA: 34:27 - loss: 4.81 - ETA: 34:27 - loss: 4.81 - ETA: 34:27 - loss: 4.81 - ETA: 34:27 - loss: 4.81 - ETA: 34:26 - loss: 4.81 - ETA: 34:26 - loss: 4.81 - ETA: 34:26 - loss: 4.81 - ETA: 34:25 - loss: 4.81 - ETA: 34:25 - loss: 4.81 - ETA: 34:24 - loss: 4.81 - ETA: 34:24 - loss: 4.81 - ETA: 34:23 - loss: 4.81 - ETA: 34:23 - loss: 4.81 - ETA: 34:22 - loss: 4.81 - ETA: 34:22 - loss: 4.81 - ETA: 34:21 - loss: 4.81 - ETA: 34:21 - loss: 4.81 - ETA: 34:20 - loss: 4.81 - ETA: 34:20 - loss: 4.81 - ETA: 34:19 - loss: 4.81 - ETA: 34:19 - loss: 4.81 - ETA: 34:18 - loss: 4.81 - ETA: 34:18 - loss: 4.81 - ETA: 34:17 - loss: 4.81 - ETA: 34:17 - loss: 4.80 - ETA: 34:16 - loss: 4.80 - ETA: 34:16 - loss: 4.80 - ETA: 34:15 - loss: 4.80 - ETA: 34:15 - loss: 4.80 - ETA: 34:14 - loss: 4.80 - ETA: 34:14 - loss: 4.80 - ETA: 34:13 - loss: 4.80 - ETA: 34:13 - loss: 4.80 - ETA: 34:12 - loss: 4.80 - ETA: 34:12 - loss: 4.80 - ETA: 34:11 - loss: 4.80 - ETA: 34:11 - loss: 4.80 - ETA: 34:10 - loss: 4.80 - ETA: 34:10 - loss: 4.80 - ETA: 34:09 - loss: 4.80 - ETA: 34:09 - loss: 4.80 - ETA: 34:08 - loss: 4.80 - ETA: 34:08 - loss: 4.80 - ETA: 34:07 - loss: 4.80 - ETA: 34:07 - loss: 4.80 - ETA: 34:06 - loss: 4.80 - ETA: 34:06 - loss: 4.80 - ETA: 34:05 - loss: 4.80 - ETA: 34:05 - loss: 4.80 - ETA: 34:05 - loss: 4.80 - ETA: 34:04 - loss: 4.80 - ETA: 34:04 - loss: 4.80 - ETA: 34:03 - loss: 4.79 - ETA: 34:03 - loss: 4.79 - ETA: 34:02 - loss: 4.79 - ETA: 34:02 - loss: 4.79 - ETA: 34:01 - loss: 4.79 - ETA: 34:01 - loss: 4.79 - ETA: 34:00 - loss: 4.79 - ETA: 34:00 - loss: 4.79 - ETA: 33:59 - loss: 4.79 - ETA: 33:59 - loss: 4.79 - ETA: 33:58 - loss: 4.79 - ETA: 33:58 - loss: 4.79 - ETA: 33:57 - loss: 4.79 - ETA: 33:57 - loss: 4.79 - ETA: 33:56 - loss: 4.79 - ETA: 33:55 - loss: 4.79 - ETA: 33:55 - loss: 4.79 - ETA: 33:54 - loss: 4.79 - ETA: 33:54 - loss: 4.79 - ETA: 33:53 - loss: 4.79 - ETA: 33:53 - loss: 4.79 - ETA: 33:52 - loss: 4.79 - ETA: 33:52 - loss: 4.79 - ETA: 33:51 - loss: 4.79 - ETA: 33:51 - loss: 4.79 - ETA: 33:50 - loss: 4.79 - ETA: 33:50 - loss: 4.79 - ETA: 33:49 - loss: 4.79 - ETA: 33:49 - loss: 4.79 - ETA: 33:48 - loss: 4.78 - ETA: 33:48 - loss: 4.78 - ETA: 33:47 - loss: 4.78 - ETA: 33:47 - loss: 4.78 - ETA: 33:46 - loss: 4.78 - ETA: 33:46 - loss: 4.78 - ETA: 33:45 - loss: 4.78 - ETA: 33:45 - loss: 4.78 - ETA: 33:44 - loss: 4.78 - ETA: 33:44 - loss: 4.78 - ETA: 33:43 - loss: 4.78 - ETA: 33:43 - loss: 4.78 - ETA: 33:42 - loss: 4.78 - ETA: 33:42 - loss: 4.78 - ETA: 33:42 - loss: 4.78 - ETA: 33:41 - loss: 4.78 - ETA: 33:41 - loss: 4.78 - ETA: 33:40 - loss: 4.78 - ETA: 33:40 - loss: 4.78 - ETA: 33:39 - loss: 4.78 - ETA: 33:39 - loss: 4.78 - ETA: 33:38 - loss: 4.78 - ETA: 33:38 - loss: 4.78 - ETA: 33:37 - loss: 4.78 - ETA: 33:37 - loss: 4.78 - ETA: 33:36 - loss: 4.78 - ETA: 33:36 - loss: 4.78 - ETA: 33:35 - loss: 4.78 - ETA: 33:34 - loss: 4.78 - ETA: 33:34 - loss: 4.78 - ETA: 33:33 - loss: 4.78 - ETA: 33:33 - loss: 4.78 - ETA: 33:32 - loss: 4.78 - ETA: 33:32 - loss: 4.78 - ETA: 33:31 - loss: 4.78 - ETA: 33:31 - loss: 4.78 - ETA: 33:30 - loss: 4.77 - ETA: 33:30 - loss: 4.77 - ETA: 33:29 - loss: 4.77 - ETA: 33:28 - loss: 4.77 - ETA: 33:28 - loss: 4.77 - ETA: 33:27 - loss: 4.77 - ETA: 33:27 - loss: 4.77 - ETA: 33:26 - loss: 4.77 - ETA: 33:26 - loss: 4.77 - ETA: 33:25 - loss: 4.77 - ETA: 33:25 - loss: 4.77 - ETA: 33:25 - loss: 4.77 - ETA: 33:24 - loss: 4.77 - ETA: 33:24 - loss: 4.77 - ETA: 33:23 - loss: 4.77 - ETA: 33:23 - loss: 4.77 - ETA: 33:22 - loss: 4.77 - ETA: 33:21 - loss: 4.77 - ETA: 33:21 - loss: 4.77 - ETA: 33:20 - loss: 4.77 - ETA: 33:20 - loss: 4.77 - ETA: 33:19 - loss: 4.77 - ETA: 33:19 - loss: 4.77 - ETA: 33:18 - loss: 4.77 - ETA: 33:18 - loss: 4.77 - ETA: 33:18 - loss: 4.77 - ETA: 33:17 - loss: 4.77 - ETA: 33:17 - loss: 4.77 - ETA: 33:16 - loss: 4.77 - ETA: 33:16 - loss: 4.77 - ETA: 33:15 - loss: 4.77 - ETA: 33:15 - loss: 4.77 - ETA: 33:14 - loss: 4.77 - ETA: 33:14 - loss: 4.76 - ETA: 33:13 - loss: 4.76 - ETA: 33:13 - loss: 4.76 - ETA: 33:12 - loss: 4.76 - ETA: 33:12 - loss: 4.76 - ETA: 33:11 - loss: 4.76 - ETA: 33:11 - loss: 4.76 - ETA: 33:10 - loss: 4.76 - ETA: 33:10 - loss: 4.76 - ETA: 33:09 - loss: 4.76 - ETA: 33:09 - loss: 4.76 - ETA: 33:08 - loss: 4.76 - ETA: 33:08 - loss: 4.76 - ETA: 33:07 - loss: 4.76 - ETA: 33:07 - loss: 4.76 - ETA: 33:06 - loss: 4.76 - ETA: 33:06 - loss: 4.76 - ETA: 33:05 - loss: 4.76 - ETA: 33:04 - loss: 4.76 - ETA: 33:04 - loss: 4.76 - ETA: 33:03 - loss: 4.76 - ETA: 33:03 - loss: 4.76 - ETA: 33:02 - loss: 4.76 - ETA: 33:02 - loss: 4.76 - ETA: 33:01 - loss: 4.76 - ETA: 33:01 - loss: 4.76 - ETA: 33:00 - loss: 4.76 - ETA: 33:00 - loss: 4.76 - ETA: 32:59 - loss: 4.76 - ETA: 32:58 - loss: 4.76 - ETA: 32:58 - loss: 4.75 - ETA: 32:57 - loss: 4.75 - ETA: 32:57 - loss: 4.75 - ETA: 32:56 - loss: 4.75 - ETA: 32:56 - loss: 4.75 - ETA: 32:55 - loss: 4.75 - ETA: 32:55 - loss: 4.75 - ETA: 32:54 - loss: 4.75 - ETA: 32:54 - loss: 4.75 - ETA: 32:53 - loss: 4.75 - ETA: 32:53 - loss: 4.75 - ETA: 32:52 - loss: 4.75 - ETA: 32:52 - loss: 4.75 - ETA: 32:51 - loss: 4.75 - ETA: 32:51 - loss: 4.75 - ETA: 32:50 - loss: 4.75 - ETA: 32:50 - loss: 4.75 - ETA: 32:49 - loss: 4.75 - ETA: 32:48 - loss: 4.75 - ETA: 32:48 - loss: 4.75 - ETA: 32:47 - loss: 4.75 - ETA: 32:47 - loss: 4.75 - ETA: 32:46 - loss: 4.75 - ETA: 32:46 - loss: 4.75 - ETA: 32:45 - loss: 4.75 - ETA: 32:45 - loss: 4.75 - ETA: 32:44 - loss: 4.75 - ETA: 32:43 - loss: 4.75 - ETA: 32:43 - loss: 4.75 - ETA: 32:42 - loss: 4.75 - ETA: 32:42 - loss: 4.75 - ETA: 32:41 - loss: 4.75 - ETA: 32:41 - loss: 4.75 - ETA: 32:40 - loss: 4.75 - ETA: 32:40 - loss: 4.7508"
     ]
    },
    {
     "name": "stdout",
     "output_type": "stream",
     "text": [
      "2196/4335 [==============>...............] - ETA: 32:39 - loss: 4.75 - ETA: 32:39 - loss: 4.74 - ETA: 32:38 - loss: 4.74 - ETA: 32:38 - loss: 4.74 - ETA: 32:37 - loss: 4.74 - ETA: 32:37 - loss: 4.74 - ETA: 32:36 - loss: 4.74 - ETA: 32:36 - loss: 4.74 - ETA: 32:35 - loss: 4.74 - ETA: 32:35 - loss: 4.74 - ETA: 32:34 - loss: 4.74 - ETA: 32:34 - loss: 4.74 - ETA: 32:33 - loss: 4.74 - ETA: 32:32 - loss: 4.74 - ETA: 32:32 - loss: 4.74 - ETA: 32:31 - loss: 4.74 - ETA: 32:30 - loss: 4.74 - ETA: 32:30 - loss: 4.74 - ETA: 32:29 - loss: 4.74 - ETA: 32:28 - loss: 4.74 - ETA: 32:28 - loss: 4.74 - ETA: 32:27 - loss: 4.74 - ETA: 32:26 - loss: 4.74 - ETA: 32:26 - loss: 4.74 - ETA: 32:25 - loss: 4.74 - ETA: 32:24 - loss: 4.74 - ETA: 32:24 - loss: 4.74 - ETA: 32:23 - loss: 4.74 - ETA: 32:23 - loss: 4.74 - ETA: 32:22 - loss: 4.74 - ETA: 32:21 - loss: 4.74 - ETA: 32:21 - loss: 4.74 - ETA: 32:20 - loss: 4.74 - ETA: 32:20 - loss: 4.74 - ETA: 32:19 - loss: 4.74 - ETA: 32:19 - loss: 4.74 - ETA: 32:18 - loss: 4.74 - ETA: 32:18 - loss: 4.74 - ETA: 32:17 - loss: 4.74 - ETA: 32:17 - loss: 4.74 - ETA: 32:16 - loss: 4.74 - ETA: 32:15 - loss: 4.74 - ETA: 32:15 - loss: 4.73 - ETA: 32:14 - loss: 4.73 - ETA: 32:14 - loss: 4.73 - ETA: 32:13 - loss: 4.73 - ETA: 32:13 - loss: 4.73 - ETA: 32:12 - loss: 4.73 - ETA: 32:11 - loss: 4.73 - ETA: 32:11 - loss: 4.73 - ETA: 32:10 - loss: 4.73 - ETA: 32:10 - loss: 4.73 - ETA: 32:09 - loss: 4.73 - ETA: 32:09 - loss: 4.73 - ETA: 32:08 - loss: 4.73 - ETA: 32:07 - loss: 4.73 - ETA: 32:07 - loss: 4.73 - ETA: 32:06 - loss: 4.73 - ETA: 32:06 - loss: 4.73 - ETA: 32:05 - loss: 4.73 - ETA: 32:05 - loss: 4.73 - ETA: 32:04 - loss: 4.73 - ETA: 32:04 - loss: 4.73 - ETA: 32:03 - loss: 4.73 - ETA: 32:03 - loss: 4.73 - ETA: 32:02 - loss: 4.73 - ETA: 32:01 - loss: 4.73 - ETA: 32:01 - loss: 4.73 - ETA: 32:00 - loss: 4.73 - ETA: 32:00 - loss: 4.73 - ETA: 31:59 - loss: 4.73 - ETA: 31:59 - loss: 4.73 - ETA: 31:58 - loss: 4.72 - ETA: 31:57 - loss: 4.72 - ETA: 31:57 - loss: 4.72 - ETA: 31:56 - loss: 4.72 - ETA: 31:56 - loss: 4.72 - ETA: 31:55 - loss: 4.72 - ETA: 31:54 - loss: 4.72 - ETA: 31:54 - loss: 4.72 - ETA: 31:53 - loss: 4.72 - ETA: 31:53 - loss: 4.72 - ETA: 31:52 - loss: 4.72 - ETA: 31:51 - loss: 4.72 - ETA: 31:51 - loss: 4.72 - ETA: 31:50 - loss: 4.72 - ETA: 31:50 - loss: 4.72 - ETA: 31:49 - loss: 4.72 - ETA: 31:48 - loss: 4.72 - ETA: 31:48 - loss: 4.72 - ETA: 31:47 - loss: 4.72 - ETA: 31:47 - loss: 4.72 - ETA: 31:46 - loss: 4.72 - ETA: 31:46 - loss: 4.72 - ETA: 31:45 - loss: 4.72 - ETA: 31:45 - loss: 4.72 - ETA: 31:44 - loss: 4.72 - ETA: 31:44 - loss: 4.72 - ETA: 31:43 - loss: 4.72 - ETA: 31:42 - loss: 4.72 - ETA: 31:42 - loss: 4.72 - ETA: 31:41 - loss: 4.72 - ETA: 31:40 - loss: 4.72 - ETA: 31:40 - loss: 4.72 - ETA: 31:39 - loss: 4.72 - ETA: 31:38 - loss: 4.71 - ETA: 31:38 - loss: 4.71 - ETA: 31:37 - loss: 4.71 - ETA: 31:36 - loss: 4.71 - ETA: 31:36 - loss: 4.71 - ETA: 31:35 - loss: 4.71 - ETA: 31:35 - loss: 4.71 - ETA: 31:34 - loss: 4.71 - ETA: 31:33 - loss: 4.71 - ETA: 31:33 - loss: 4.71 - ETA: 31:32 - loss: 4.71 - ETA: 31:31 - loss: 4.71 - ETA: 31:31 - loss: 4.71 - ETA: 31:30 - loss: 4.71 - ETA: 31:29 - loss: 4.71 - ETA: 31:29 - loss: 4.71 - ETA: 31:28 - loss: 4.71 - ETA: 31:28 - loss: 4.71 - ETA: 31:27 - loss: 4.71 - ETA: 31:27 - loss: 4.71 - ETA: 31:26 - loss: 4.71 - ETA: 31:26 - loss: 4.71 - ETA: 31:25 - loss: 4.71 - ETA: 31:25 - loss: 4.71 - ETA: 31:24 - loss: 4.71 - ETA: 31:23 - loss: 4.71 - ETA: 31:23 - loss: 4.71 - ETA: 31:22 - loss: 4.71 - ETA: 31:21 - loss: 4.71 - ETA: 31:21 - loss: 4.71 - ETA: 31:20 - loss: 4.71 - ETA: 31:20 - loss: 4.71 - ETA: 31:19 - loss: 4.71 - ETA: 31:18 - loss: 4.71 - ETA: 31:18 - loss: 4.71 - ETA: 31:17 - loss: 4.71 - ETA: 31:16 - loss: 4.70 - ETA: 31:16 - loss: 4.70 - ETA: 31:15 - loss: 4.70 - ETA: 31:15 - loss: 4.70 - ETA: 31:14 - loss: 4.70 - ETA: 31:13 - loss: 4.70 - ETA: 31:13 - loss: 4.70 - ETA: 31:12 - loss: 4.70 - ETA: 31:11 - loss: 4.70 - ETA: 31:11 - loss: 4.70 - ETA: 31:10 - loss: 4.70 - ETA: 31:10 - loss: 4.70 - ETA: 31:09 - loss: 4.70 - ETA: 31:09 - loss: 4.70 - ETA: 31:08 - loss: 4.70 - ETA: 31:07 - loss: 4.70 - ETA: 31:07 - loss: 4.70 - ETA: 31:06 - loss: 4.70 - ETA: 31:06 - loss: 4.70 - ETA: 31:05 - loss: 4.70 - ETA: 31:04 - loss: 4.70 - ETA: 31:04 - loss: 4.70 - ETA: 31:03 - loss: 4.70 - ETA: 31:03 - loss: 4.70 - ETA: 31:02 - loss: 4.70 - ETA: 31:01 - loss: 4.70 - ETA: 31:01 - loss: 4.70 - ETA: 31:00 - loss: 4.70 - ETA: 30:59 - loss: 4.70 - ETA: 30:59 - loss: 4.70 - ETA: 30:58 - loss: 4.70 - ETA: 30:57 - loss: 4.70 - ETA: 30:57 - loss: 4.70 - ETA: 30:56 - loss: 4.70 - ETA: 30:56 - loss: 4.70 - ETA: 30:55 - loss: 4.70 - ETA: 30:54 - loss: 4.70 - ETA: 30:54 - loss: 4.70 - ETA: 30:53 - loss: 4.70 - ETA: 30:52 - loss: 4.70 - ETA: 30:52 - loss: 4.70 - ETA: 30:51 - loss: 4.70 - ETA: 30:50 - loss: 4.70 - ETA: 30:50 - loss: 4.70 - ETA: 30:49 - loss: 4.70 - ETA: 30:49 - loss: 4.69 - ETA: 30:48 - loss: 4.69 - ETA: 30:48 - loss: 4.69 - ETA: 30:47 - loss: 4.69 - ETA: 30:46 - loss: 4.69 - ETA: 30:46 - loss: 4.69 - ETA: 30:45 - loss: 4.69 - ETA: 30:44 - loss: 4.69 - ETA: 30:44 - loss: 4.69 - ETA: 30:43 - loss: 4.69 - ETA: 30:42 - loss: 4.69 - ETA: 30:42 - loss: 4.69 - ETA: 30:41 - loss: 4.69 - ETA: 30:41 - loss: 4.69 - ETA: 30:40 - loss: 4.69 - ETA: 30:39 - loss: 4.69 - ETA: 30:39 - loss: 4.69 - ETA: 30:38 - loss: 4.69 - ETA: 30:37 - loss: 4.69 - ETA: 30:37 - loss: 4.69 - ETA: 30:36 - loss: 4.69 - ETA: 30:35 - loss: 4.69 - ETA: 30:35 - loss: 4.69 - ETA: 30:34 - loss: 4.69 - ETA: 30:33 - loss: 4.69 - ETA: 30:33 - loss: 4.69 - ETA: 30:32 - loss: 4.69 - ETA: 30:31 - loss: 4.69 - ETA: 30:31 - loss: 4.69 - ETA: 30:30 - loss: 4.69 - ETA: 30:30 - loss: 4.69 - ETA: 30:29 - loss: 4.69 - ETA: 30:28 - loss: 4.69 - ETA: 30:28 - loss: 4.69 - ETA: 30:27 - loss: 4.69 - ETA: 30:26 - loss: 4.69 - ETA: 30:26 - loss: 4.69 - ETA: 30:25 - loss: 4.69 - ETA: 30:24 - loss: 4.69 - ETA: 30:24 - loss: 4.68 - ETA: 30:23 - loss: 4.68 - ETA: 30:22 - loss: 4.68 - ETA: 30:21 - loss: 4.68 - ETA: 30:21 - loss: 4.68 - ETA: 30:20 - loss: 4.68 - ETA: 30:19 - loss: 4.68 - ETA: 30:19 - loss: 4.68 - ETA: 30:18 - loss: 4.68 - ETA: 30:17 - loss: 4.68 - ETA: 30:17 - loss: 4.68 - ETA: 30:16 - loss: 4.68 - ETA: 30:15 - loss: 4.68 - ETA: 30:15 - loss: 4.68 - ETA: 30:14 - loss: 4.68 - ETA: 30:14 - loss: 4.68 - ETA: 30:13 - loss: 4.68 - ETA: 30:13 - loss: 4.68 - ETA: 30:12 - loss: 4.68 - ETA: 30:12 - loss: 4.68 - ETA: 30:11 - loss: 4.68 - ETA: 30:11 - loss: 4.68 - ETA: 30:10 - loss: 4.68 - ETA: 30:09 - loss: 4.68 - ETA: 30:09 - loss: 4.68 - ETA: 30:08 - loss: 4.68 - ETA: 30:07 - loss: 4.68 - ETA: 30:07 - loss: 4.68 - ETA: 30:06 - loss: 4.68 - ETA: 30:05 - loss: 4.68 - ETA: 30:05 - loss: 4.68 - ETA: 30:04 - loss: 4.68 - ETA: 30:04 - loss: 4.68 - ETA: 30:03 - loss: 4.68 - ETA: 30:02 - loss: 4.68 - ETA: 30:02 - loss: 4.68 - ETA: 30:01 - loss: 4.68 - ETA: 30:00 - loss: 4.67 - ETA: 30:00 - loss: 4.67 - ETA: 29:59 - loss: 4.67 - ETA: 29:58 - loss: 4.67 - ETA: 29:58 - loss: 4.67 - ETA: 29:57 - loss: 4.67 - ETA: 29:56 - loss: 4.67 - ETA: 29:56 - loss: 4.67 - ETA: 29:55 - loss: 4.67 - ETA: 29:54 - loss: 4.67 - ETA: 29:54 - loss: 4.67 - ETA: 29:53 - loss: 4.67 - ETA: 29:53 - loss: 4.67 - ETA: 29:52 - loss: 4.67 - ETA: 29:51 - loss: 4.67 - ETA: 29:51 - loss: 4.67 - ETA: 29:50 - loss: 4.67 - ETA: 29:49 - loss: 4.67 - ETA: 29:49 - loss: 4.67 - ETA: 29:48 - loss: 4.67 - ETA: 29:47 - loss: 4.67 - ETA: 29:47 - loss: 4.67 - ETA: 29:46 - loss: 4.67 - ETA: 29:45 - loss: 4.67 - ETA: 29:45 - loss: 4.67 - ETA: 29:44 - loss: 4.67 - ETA: 29:44 - loss: 4.67 - ETA: 29:43 - loss: 4.67 - ETA: 29:42 - loss: 4.67 - ETA: 29:42 - loss: 4.67 - ETA: 29:41 - loss: 4.67 - ETA: 29:40 - loss: 4.67 - ETA: 29:40 - loss: 4.67 - ETA: 29:39 - loss: 4.67 - ETA: 29:38 - loss: 4.67 - ETA: 29:38 - loss: 4.67 - ETA: 29:37 - loss: 4.67 - ETA: 29:36 - loss: 4.67 - ETA: 29:36 - loss: 4.67 - ETA: 29:35 - loss: 4.67 - ETA: 29:34 - loss: 4.67 - ETA: 29:33 - loss: 4.67 - ETA: 29:33 - loss: 4.66 - ETA: 29:32 - loss: 4.66 - ETA: 29:32 - loss: 4.66 - ETA: 29:31 - loss: 4.66 - ETA: 29:30 - loss: 4.66 - ETA: 29:30 - loss: 4.66 - ETA: 29:29 - loss: 4.66 - ETA: 29:28 - loss: 4.66 - ETA: 29:28 - loss: 4.66 - ETA: 29:27 - loss: 4.6682"
     ]
    },
    {
     "name": "stdout",
     "output_type": "stream",
     "text": [
      "2510/4335 [================>.............] - ETA: 29:26 - loss: 4.66 - ETA: 29:25 - loss: 4.66 - ETA: 29:25 - loss: 4.66 - ETA: 29:24 - loss: 4.66 - ETA: 29:23 - loss: 4.66 - ETA: 29:23 - loss: 4.66 - ETA: 29:22 - loss: 4.66 - ETA: 29:21 - loss: 4.66 - ETA: 29:20 - loss: 4.66 - ETA: 29:20 - loss: 4.66 - ETA: 29:19 - loss: 4.66 - ETA: 29:18 - loss: 4.66 - ETA: 29:18 - loss: 4.66 - ETA: 29:17 - loss: 4.66 - ETA: 29:16 - loss: 4.66 - ETA: 29:16 - loss: 4.66 - ETA: 29:15 - loss: 4.66 - ETA: 29:14 - loss: 4.66 - ETA: 29:13 - loss: 4.66 - ETA: 29:13 - loss: 4.66 - ETA: 29:12 - loss: 4.66 - ETA: 29:11 - loss: 4.66 - ETA: 29:11 - loss: 4.66 - ETA: 29:10 - loss: 4.66 - ETA: 29:09 - loss: 4.66 - ETA: 29:09 - loss: 4.66 - ETA: 29:08 - loss: 4.66 - ETA: 29:08 - loss: 4.66 - ETA: 29:07 - loss: 4.66 - ETA: 29:06 - loss: 4.66 - ETA: 29:06 - loss: 4.66 - ETA: 29:05 - loss: 4.66 - ETA: 29:05 - loss: 4.66 - ETA: 29:04 - loss: 4.65 - ETA: 29:04 - loss: 4.65 - ETA: 29:03 - loss: 4.65 - ETA: 29:03 - loss: 4.65 - ETA: 29:02 - loss: 4.65 - ETA: 29:02 - loss: 4.65 - ETA: 29:01 - loss: 4.65 - ETA: 29:00 - loss: 4.65 - ETA: 29:00 - loss: 4.65 - ETA: 28:59 - loss: 4.65 - ETA: 28:58 - loss: 4.65 - ETA: 28:58 - loss: 4.65 - ETA: 28:57 - loss: 4.65 - ETA: 28:56 - loss: 4.65 - ETA: 28:55 - loss: 4.65 - ETA: 28:55 - loss: 4.65 - ETA: 28:54 - loss: 4.65 - ETA: 28:53 - loss: 4.65 - ETA: 28:53 - loss: 4.65 - ETA: 28:52 - loss: 4.65 - ETA: 28:51 - loss: 4.65 - ETA: 28:50 - loss: 4.65 - ETA: 28:50 - loss: 4.65 - ETA: 28:49 - loss: 4.65 - ETA: 28:48 - loss: 4.65 - ETA: 28:47 - loss: 4.65 - ETA: 28:47 - loss: 4.65 - ETA: 28:46 - loss: 4.65 - ETA: 28:45 - loss: 4.65 - ETA: 28:45 - loss: 4.65 - ETA: 28:44 - loss: 4.65 - ETA: 28:43 - loss: 4.65 - ETA: 28:43 - loss: 4.65 - ETA: 28:42 - loss: 4.65 - ETA: 28:41 - loss: 4.65 - ETA: 28:41 - loss: 4.65 - ETA: 28:40 - loss: 4.65 - ETA: 28:40 - loss: 4.64 - ETA: 28:39 - loss: 4.64 - ETA: 28:38 - loss: 4.64 - ETA: 28:38 - loss: 4.64 - ETA: 28:37 - loss: 4.64 - ETA: 28:36 - loss: 4.64 - ETA: 28:36 - loss: 4.64 - ETA: 28:35 - loss: 4.64 - ETA: 28:34 - loss: 4.64 - ETA: 28:34 - loss: 4.64 - ETA: 28:33 - loss: 4.64 - ETA: 28:33 - loss: 4.64 - ETA: 28:32 - loss: 4.64 - ETA: 28:31 - loss: 4.64 - ETA: 28:31 - loss: 4.64 - ETA: 28:30 - loss: 4.64 - ETA: 28:29 - loss: 4.64 - ETA: 28:29 - loss: 4.64 - ETA: 28:28 - loss: 4.64 - ETA: 28:27 - loss: 4.64 - ETA: 28:26 - loss: 4.64 - ETA: 28:26 - loss: 4.64 - ETA: 28:25 - loss: 4.64 - ETA: 28:24 - loss: 4.64 - ETA: 28:23 - loss: 4.64 - ETA: 28:23 - loss: 4.64 - ETA: 28:22 - loss: 4.64 - ETA: 28:21 - loss: 4.64 - ETA: 28:20 - loss: 4.64 - ETA: 28:20 - loss: 4.64 - ETA: 28:19 - loss: 4.64 - ETA: 28:18 - loss: 4.64 - ETA: 28:18 - loss: 4.64 - ETA: 28:17 - loss: 4.64 - ETA: 28:16 - loss: 4.64 - ETA: 28:16 - loss: 4.64 - ETA: 28:15 - loss: 4.64 - ETA: 28:14 - loss: 4.64 - ETA: 28:14 - loss: 4.64 - ETA: 28:13 - loss: 4.63 - ETA: 28:12 - loss: 4.63 - ETA: 28:12 - loss: 4.63 - ETA: 28:11 - loss: 4.63 - ETA: 28:10 - loss: 4.63 - ETA: 28:10 - loss: 4.63 - ETA: 28:09 - loss: 4.63 - ETA: 28:08 - loss: 4.63 - ETA: 28:08 - loss: 4.63 - ETA: 28:07 - loss: 4.63 - ETA: 28:06 - loss: 4.63 - ETA: 28:06 - loss: 4.63 - ETA: 28:05 - loss: 4.63 - ETA: 28:04 - loss: 4.63 - ETA: 28:03 - loss: 4.63 - ETA: 28:03 - loss: 4.63 - ETA: 28:02 - loss: 4.63 - ETA: 28:01 - loss: 4.63 - ETA: 28:01 - loss: 4.63 - ETA: 28:00 - loss: 4.63 - ETA: 27:59 - loss: 4.63 - ETA: 27:59 - loss: 4.63 - ETA: 27:58 - loss: 4.63 - ETA: 27:57 - loss: 4.63 - ETA: 27:57 - loss: 4.63 - ETA: 27:56 - loss: 4.63 - ETA: 27:55 - loss: 4.63 - ETA: 27:55 - loss: 4.63 - ETA: 27:54 - loss: 4.63 - ETA: 27:53 - loss: 4.63 - ETA: 27:53 - loss: 4.63 - ETA: 27:52 - loss: 4.63 - ETA: 27:51 - loss: 4.63 - ETA: 27:51 - loss: 4.63 - ETA: 27:50 - loss: 4.63 - ETA: 27:49 - loss: 4.63 - ETA: 27:48 - loss: 4.63 - ETA: 27:48 - loss: 4.63 - ETA: 27:47 - loss: 4.63 - ETA: 27:46 - loss: 4.63 - ETA: 27:46 - loss: 4.63 - ETA: 27:45 - loss: 4.63 - ETA: 27:44 - loss: 4.63 - ETA: 27:44 - loss: 4.63 - ETA: 27:43 - loss: 4.63 - ETA: 27:42 - loss: 4.62 - ETA: 27:41 - loss: 4.62 - ETA: 27:41 - loss: 4.62 - ETA: 27:40 - loss: 4.62 - ETA: 27:39 - loss: 4.62 - ETA: 27:38 - loss: 4.62 - ETA: 27:38 - loss: 4.62 - ETA: 27:37 - loss: 4.62 - ETA: 27:36 - loss: 4.62 - ETA: 27:36 - loss: 4.62 - ETA: 27:35 - loss: 4.62 - ETA: 27:34 - loss: 4.62 - ETA: 27:34 - loss: 4.62 - ETA: 27:33 - loss: 4.62 - ETA: 27:32 - loss: 4.62 - ETA: 27:32 - loss: 4.62 - ETA: 27:31 - loss: 4.62 - ETA: 27:30 - loss: 4.62 - ETA: 27:29 - loss: 4.62 - ETA: 27:29 - loss: 4.62 - ETA: 27:28 - loss: 4.62 - ETA: 27:27 - loss: 4.62 - ETA: 27:27 - loss: 4.62 - ETA: 27:26 - loss: 4.62 - ETA: 27:25 - loss: 4.62 - ETA: 27:24 - loss: 4.62 - ETA: 27:24 - loss: 4.62 - ETA: 27:23 - loss: 4.62 - ETA: 27:22 - loss: 4.62 - ETA: 27:21 - loss: 4.62 - ETA: 27:21 - loss: 4.62 - ETA: 27:20 - loss: 4.62 - ETA: 27:19 - loss: 4.62 - ETA: 27:18 - loss: 4.62 - ETA: 27:18 - loss: 4.62 - ETA: 27:17 - loss: 4.62 - ETA: 27:16 - loss: 4.62 - ETA: 27:15 - loss: 4.62 - ETA: 27:15 - loss: 4.62 - ETA: 27:14 - loss: 4.62 - ETA: 27:13 - loss: 4.62 - ETA: 27:13 - loss: 4.62 - ETA: 27:12 - loss: 4.62 - ETA: 27:11 - loss: 4.62 - ETA: 27:11 - loss: 4.62 - ETA: 27:10 - loss: 4.62 - ETA: 27:09 - loss: 4.62 - ETA: 27:09 - loss: 4.61 - ETA: 27:08 - loss: 4.61 - ETA: 27:08 - loss: 4.61 - ETA: 27:07 - loss: 4.61 - ETA: 27:06 - loss: 4.61 - ETA: 27:06 - loss: 4.61 - ETA: 27:05 - loss: 4.61 - ETA: 27:04 - loss: 4.61 - ETA: 27:04 - loss: 4.61 - ETA: 27:03 - loss: 4.61 - ETA: 27:02 - loss: 4.61 - ETA: 27:01 - loss: 4.61 - ETA: 27:01 - loss: 4.61 - ETA: 27:00 - loss: 4.61 - ETA: 26:59 - loss: 4.61 - ETA: 26:59 - loss: 4.61 - ETA: 26:58 - loss: 4.61 - ETA: 26:57 - loss: 4.61 - ETA: 26:57 - loss: 4.61 - ETA: 26:56 - loss: 4.61 - ETA: 26:55 - loss: 4.61 - ETA: 26:55 - loss: 4.61 - ETA: 26:54 - loss: 4.61 - ETA: 26:53 - loss: 4.61 - ETA: 26:53 - loss: 4.61 - ETA: 26:52 - loss: 4.61 - ETA: 26:51 - loss: 4.61 - ETA: 26:51 - loss: 4.61 - ETA: 26:50 - loss: 4.61 - ETA: 26:49 - loss: 4.61 - ETA: 26:48 - loss: 4.61 - ETA: 26:48 - loss: 4.61 - ETA: 26:47 - loss: 4.61 - ETA: 26:46 - loss: 4.61 - ETA: 26:45 - loss: 4.61 - ETA: 26:45 - loss: 4.61 - ETA: 26:44 - loss: 4.61 - ETA: 26:43 - loss: 4.61 - ETA: 26:42 - loss: 4.61 - ETA: 26:42 - loss: 4.61 - ETA: 26:41 - loss: 4.61 - ETA: 26:40 - loss: 4.61 - ETA: 26:39 - loss: 4.61 - ETA: 26:39 - loss: 4.61 - ETA: 26:38 - loss: 4.61 - ETA: 26:37 - loss: 4.61 - ETA: 26:37 - loss: 4.61 - ETA: 26:36 - loss: 4.61 - ETA: 26:36 - loss: 4.61 - ETA: 26:36 - loss: 4.60 - ETA: 26:35 - loss: 4.60 - ETA: 26:35 - loss: 4.60 - ETA: 26:34 - loss: 4.60 - ETA: 26:33 - loss: 4.60 - ETA: 26:33 - loss: 4.60 - ETA: 26:32 - loss: 4.60 - ETA: 26:32 - loss: 4.60 - ETA: 26:31 - loss: 4.60 - ETA: 26:30 - loss: 4.60 - ETA: 26:29 - loss: 4.60 - ETA: 26:29 - loss: 4.60 - ETA: 26:28 - loss: 4.60 - ETA: 26:27 - loss: 4.60 - ETA: 26:26 - loss: 4.60 - ETA: 26:26 - loss: 4.60 - ETA: 26:25 - loss: 4.60 - ETA: 26:24 - loss: 4.60 - ETA: 26:23 - loss: 4.60 - ETA: 26:22 - loss: 4.60 - ETA: 26:22 - loss: 4.60 - ETA: 26:21 - loss: 4.60 - ETA: 26:20 - loss: 4.60 - ETA: 26:19 - loss: 4.60 - ETA: 26:18 - loss: 4.60 - ETA: 26:17 - loss: 4.60 - ETA: 26:16 - loss: 4.60 - ETA: 26:15 - loss: 4.60 - ETA: 26:14 - loss: 4.60 - ETA: 26:14 - loss: 4.60 - ETA: 26:13 - loss: 4.60 - ETA: 26:12 - loss: 4.60 - ETA: 26:11 - loss: 4.60 - ETA: 26:10 - loss: 4.60 - ETA: 26:09 - loss: 4.60 - ETA: 26:08 - loss: 4.60 - ETA: 26:07 - loss: 4.60 - ETA: 26:07 - loss: 4.60 - ETA: 26:06 - loss: 4.60 - ETA: 26:05 - loss: 4.60 - ETA: 26:04 - loss: 4.60 - ETA: 26:04 - loss: 4.60 - ETA: 26:03 - loss: 4.60 - ETA: 26:02 - loss: 4.60 - ETA: 26:01 - loss: 4.60 - ETA: 26:00 - loss: 4.60 - ETA: 25:59 - loss: 4.60 - ETA: 25:58 - loss: 4.60 - ETA: 25:57 - loss: 4.60 - ETA: 25:56 - loss: 4.60 - ETA: 25:55 - loss: 4.60 - ETA: 25:55 - loss: 4.59 - ETA: 25:54 - loss: 4.59 - ETA: 25:53 - loss: 4.59 - ETA: 25:52 - loss: 4.59 - ETA: 25:51 - loss: 4.59 - ETA: 25:50 - loss: 4.59 - ETA: 25:49 - loss: 4.59 - ETA: 25:48 - loss: 4.59 - ETA: 25:47 - loss: 4.59 - ETA: 25:46 - loss: 4.59 - ETA: 25:45 - loss: 4.59 - ETA: 25:44 - loss: 4.59 - ETA: 25:43 - loss: 4.5965"
     ]
    },
    {
     "name": "stdout",
     "output_type": "stream",
     "text": [
      "2824/4335 [==================>...........] - ETA: 25:43 - loss: 4.59 - ETA: 25:42 - loss: 4.59 - ETA: 25:41 - loss: 4.59 - ETA: 25:40 - loss: 4.59 - ETA: 25:39 - loss: 4.59 - ETA: 25:38 - loss: 4.59 - ETA: 25:37 - loss: 4.59 - ETA: 25:36 - loss: 4.59 - ETA: 25:35 - loss: 4.59 - ETA: 25:34 - loss: 4.59 - ETA: 25:33 - loss: 4.59 - ETA: 25:32 - loss: 4.59 - ETA: 25:31 - loss: 4.59 - ETA: 25:31 - loss: 4.59 - ETA: 25:30 - loss: 4.59 - ETA: 25:29 - loss: 4.59 - ETA: 25:28 - loss: 4.59 - ETA: 25:27 - loss: 4.59 - ETA: 25:26 - loss: 4.59 - ETA: 25:25 - loss: 4.59 - ETA: 25:24 - loss: 4.59 - ETA: 25:23 - loss: 4.59 - ETA: 25:22 - loss: 4.59 - ETA: 25:21 - loss: 4.59 - ETA: 25:20 - loss: 4.59 - ETA: 25:20 - loss: 4.59 - ETA: 25:19 - loss: 4.59 - ETA: 25:18 - loss: 4.59 - ETA: 25:17 - loss: 4.59 - ETA: 25:16 - loss: 4.59 - ETA: 25:15 - loss: 4.59 - ETA: 25:14 - loss: 4.58 - ETA: 25:13 - loss: 4.58 - ETA: 25:12 - loss: 4.58 - ETA: 25:11 - loss: 4.58 - ETA: 25:10 - loss: 4.58 - ETA: 25:09 - loss: 4.58 - ETA: 25:08 - loss: 4.58 - ETA: 25:08 - loss: 4.58 - ETA: 25:07 - loss: 4.58 - ETA: 25:06 - loss: 4.58 - ETA: 25:05 - loss: 4.58 - ETA: 25:04 - loss: 4.58 - ETA: 25:03 - loss: 4.58 - ETA: 25:02 - loss: 4.58 - ETA: 25:01 - loss: 4.58 - ETA: 25:00 - loss: 4.58 - ETA: 24:59 - loss: 4.58 - ETA: 24:58 - loss: 4.58 - ETA: 24:58 - loss: 4.58 - ETA: 24:57 - loss: 4.58 - ETA: 24:56 - loss: 4.58 - ETA: 24:55 - loss: 4.58 - ETA: 24:54 - loss: 4.58 - ETA: 24:54 - loss: 4.58 - ETA: 24:53 - loss: 4.58 - ETA: 24:52 - loss: 4.58 - ETA: 24:51 - loss: 4.58 - ETA: 24:51 - loss: 4.58 - ETA: 24:50 - loss: 4.58 - ETA: 24:49 - loss: 4.58 - ETA: 24:48 - loss: 4.58 - ETA: 24:48 - loss: 4.58 - ETA: 24:47 - loss: 4.58 - ETA: 24:46 - loss: 4.58 - ETA: 24:45 - loss: 4.58 - ETA: 24:44 - loss: 4.58 - ETA: 24:43 - loss: 4.58 - ETA: 24:43 - loss: 4.58 - ETA: 24:42 - loss: 4.58 - ETA: 24:41 - loss: 4.58 - ETA: 24:40 - loss: 4.58 - ETA: 24:39 - loss: 4.58 - ETA: 24:39 - loss: 4.58 - ETA: 24:38 - loss: 4.58 - ETA: 24:37 - loss: 4.58 - ETA: 24:36 - loss: 4.58 - ETA: 24:35 - loss: 4.58 - ETA: 24:34 - loss: 4.58 - ETA: 24:33 - loss: 4.58 - ETA: 24:33 - loss: 4.58 - ETA: 24:32 - loss: 4.57 - ETA: 24:31 - loss: 4.57 - ETA: 24:30 - loss: 4.57 - ETA: 24:29 - loss: 4.57 - ETA: 24:28 - loss: 4.57 - ETA: 24:27 - loss: 4.57 - ETA: 24:27 - loss: 4.57 - ETA: 24:26 - loss: 4.57 - ETA: 24:25 - loss: 4.57 - ETA: 24:24 - loss: 4.57 - ETA: 24:23 - loss: 4.57 - ETA: 24:22 - loss: 4.57 - ETA: 24:21 - loss: 4.57 - ETA: 24:21 - loss: 4.57 - ETA: 24:20 - loss: 4.57 - ETA: 24:19 - loss: 4.57 - ETA: 24:18 - loss: 4.57 - ETA: 24:17 - loss: 4.57 - ETA: 24:16 - loss: 4.57 - ETA: 24:15 - loss: 4.57 - ETA: 24:15 - loss: 4.57 - ETA: 24:14 - loss: 4.57 - ETA: 24:13 - loss: 4.57 - ETA: 24:12 - loss: 4.57 - ETA: 24:11 - loss: 4.57 - ETA: 24:10 - loss: 4.57 - ETA: 24:09 - loss: 4.57 - ETA: 24:08 - loss: 4.57 - ETA: 24:07 - loss: 4.57 - ETA: 24:07 - loss: 4.57 - ETA: 24:06 - loss: 4.57 - ETA: 24:05 - loss: 4.57 - ETA: 24:04 - loss: 4.57 - ETA: 24:03 - loss: 4.57 - ETA: 24:02 - loss: 4.57 - ETA: 24:01 - loss: 4.57 - ETA: 24:00 - loss: 4.57 - ETA: 24:00 - loss: 4.57 - ETA: 23:59 - loss: 4.57 - ETA: 23:58 - loss: 4.57 - ETA: 23:57 - loss: 4.57 - ETA: 23:56 - loss: 4.57 - ETA: 23:55 - loss: 4.57 - ETA: 23:54 - loss: 4.57 - ETA: 23:54 - loss: 4.57 - ETA: 23:53 - loss: 4.57 - ETA: 23:52 - loss: 4.57 - ETA: 23:51 - loss: 4.57 - ETA: 23:50 - loss: 4.57 - ETA: 23:49 - loss: 4.57 - ETA: 23:48 - loss: 4.57 - ETA: 23:48 - loss: 4.57 - ETA: 23:47 - loss: 4.57 - ETA: 23:46 - loss: 4.56 - ETA: 23:45 - loss: 4.56 - ETA: 23:44 - loss: 4.56 - ETA: 23:43 - loss: 4.56 - ETA: 23:43 - loss: 4.56 - ETA: 23:42 - loss: 4.56 - ETA: 23:41 - loss: 4.56 - ETA: 23:40 - loss: 4.56 - ETA: 23:40 - loss: 4.56 - ETA: 23:39 - loss: 4.56 - ETA: 23:38 - loss: 4.56 - ETA: 23:37 - loss: 4.56 - ETA: 23:37 - loss: 4.56 - ETA: 23:36 - loss: 4.56 - ETA: 23:35 - loss: 4.56 - ETA: 23:34 - loss: 4.56 - ETA: 23:34 - loss: 4.56 - ETA: 23:33 - loss: 4.56 - ETA: 23:32 - loss: 4.56 - ETA: 23:31 - loss: 4.56 - ETA: 23:31 - loss: 4.56 - ETA: 23:30 - loss: 4.56 - ETA: 23:29 - loss: 4.56 - ETA: 23:28 - loss: 4.56 - ETA: 23:27 - loss: 4.56 - ETA: 23:26 - loss: 4.56 - ETA: 23:26 - loss: 4.56 - ETA: 23:25 - loss: 4.56 - ETA: 23:24 - loss: 4.56 - ETA: 23:23 - loss: 4.56 - ETA: 23:22 - loss: 4.56 - ETA: 23:22 - loss: 4.56 - ETA: 23:21 - loss: 4.56 - ETA: 23:20 - loss: 4.56 - ETA: 23:19 - loss: 4.56 - ETA: 23:18 - loss: 4.56 - ETA: 23:17 - loss: 4.56 - ETA: 23:16 - loss: 4.56 - ETA: 23:16 - loss: 4.56 - ETA: 23:15 - loss: 4.56 - ETA: 23:14 - loss: 4.56 - ETA: 23:13 - loss: 4.56 - ETA: 23:12 - loss: 4.56 - ETA: 23:11 - loss: 4.56 - ETA: 23:11 - loss: 4.56 - ETA: 23:10 - loss: 4.56 - ETA: 23:09 - loss: 4.56 - ETA: 23:08 - loss: 4.56 - ETA: 23:07 - loss: 4.56 - ETA: 23:07 - loss: 4.56 - ETA: 23:06 - loss: 4.56 - ETA: 23:05 - loss: 4.56 - ETA: 23:04 - loss: 4.56 - ETA: 23:03 - loss: 4.56 - ETA: 23:03 - loss: 4.56 - ETA: 23:02 - loss: 4.56 - ETA: 23:01 - loss: 4.55 - ETA: 23:00 - loss: 4.55 - ETA: 22:59 - loss: 4.55 - ETA: 22:59 - loss: 4.55 - ETA: 22:58 - loss: 4.55 - ETA: 22:57 - loss: 4.55 - ETA: 22:56 - loss: 4.55 - ETA: 22:55 - loss: 4.55 - ETA: 22:55 - loss: 4.55 - ETA: 22:54 - loss: 4.55 - ETA: 22:53 - loss: 4.55 - ETA: 22:52 - loss: 4.55 - ETA: 22:51 - loss: 4.55 - ETA: 22:51 - loss: 4.55 - ETA: 22:50 - loss: 4.55 - ETA: 22:49 - loss: 4.55 - ETA: 22:48 - loss: 4.55 - ETA: 22:48 - loss: 4.55 - ETA: 22:47 - loss: 4.55 - ETA: 22:46 - loss: 4.55 - ETA: 22:45 - loss: 4.55 - ETA: 22:44 - loss: 4.55 - ETA: 22:44 - loss: 4.55 - ETA: 22:43 - loss: 4.55 - ETA: 22:42 - loss: 4.55 - ETA: 22:41 - loss: 4.55 - ETA: 22:40 - loss: 4.55 - ETA: 22:40 - loss: 4.55 - ETA: 22:39 - loss: 4.55 - ETA: 22:38 - loss: 4.55 - ETA: 22:37 - loss: 4.55 - ETA: 22:36 - loss: 4.55 - ETA: 22:35 - loss: 4.55 - ETA: 22:35 - loss: 4.55 - ETA: 22:34 - loss: 4.55 - ETA: 22:33 - loss: 4.55 - ETA: 22:32 - loss: 4.55 - ETA: 22:31 - loss: 4.55 - ETA: 22:31 - loss: 4.55 - ETA: 22:30 - loss: 4.55 - ETA: 22:29 - loss: 4.55 - ETA: 22:28 - loss: 4.55 - ETA: 22:27 - loss: 4.55 - ETA: 22:27 - loss: 4.55 - ETA: 22:26 - loss: 4.55 - ETA: 22:25 - loss: 4.55 - ETA: 22:24 - loss: 4.55 - ETA: 22:23 - loss: 4.55 - ETA: 22:22 - loss: 4.55 - ETA: 22:22 - loss: 4.55 - ETA: 22:21 - loss: 4.55 - ETA: 22:20 - loss: 4.55 - ETA: 22:19 - loss: 4.55 - ETA: 22:18 - loss: 4.55 - ETA: 22:18 - loss: 4.55 - ETA: 22:17 - loss: 4.55 - ETA: 22:16 - loss: 4.54 - ETA: 22:15 - loss: 4.54 - ETA: 22:14 - loss: 4.54 - ETA: 22:13 - loss: 4.54 - ETA: 22:13 - loss: 4.54 - ETA: 22:12 - loss: 4.54 - ETA: 22:11 - loss: 4.54 - ETA: 22:10 - loss: 4.54 - ETA: 22:09 - loss: 4.54 - ETA: 22:09 - loss: 4.54 - ETA: 22:08 - loss: 4.54 - ETA: 22:07 - loss: 4.54 - ETA: 22:06 - loss: 4.54 - ETA: 22:05 - loss: 4.54 - ETA: 22:05 - loss: 4.54 - ETA: 22:04 - loss: 4.54 - ETA: 22:03 - loss: 4.54 - ETA: 22:02 - loss: 4.54 - ETA: 22:01 - loss: 4.54 - ETA: 22:01 - loss: 4.54 - ETA: 22:00 - loss: 4.54 - ETA: 21:59 - loss: 4.54 - ETA: 21:58 - loss: 4.54 - ETA: 21:57 - loss: 4.54 - ETA: 21:56 - loss: 4.54 - ETA: 21:56 - loss: 4.54 - ETA: 21:55 - loss: 4.54 - ETA: 21:54 - loss: 4.54 - ETA: 21:53 - loss: 4.54 - ETA: 21:52 - loss: 4.54 - ETA: 21:51 - loss: 4.54 - ETA: 21:51 - loss: 4.54 - ETA: 21:50 - loss: 4.54 - ETA: 21:49 - loss: 4.54 - ETA: 21:48 - loss: 4.54 - ETA: 21:47 - loss: 4.54 - ETA: 21:46 - loss: 4.54 - ETA: 21:46 - loss: 4.54 - ETA: 21:45 - loss: 4.54 - ETA: 21:44 - loss: 4.54 - ETA: 21:43 - loss: 4.54 - ETA: 21:42 - loss: 4.54 - ETA: 21:41 - loss: 4.54 - ETA: 21:41 - loss: 4.54 - ETA: 21:40 - loss: 4.54 - ETA: 21:39 - loss: 4.54 - ETA: 21:38 - loss: 4.54 - ETA: 21:37 - loss: 4.54 - ETA: 21:37 - loss: 4.54 - ETA: 21:36 - loss: 4.54 - ETA: 21:35 - loss: 4.54 - ETA: 21:34 - loss: 4.54 - ETA: 21:33 - loss: 4.54 - ETA: 21:33 - loss: 4.54 - ETA: 21:32 - loss: 4.54 - ETA: 21:31 - loss: 4.54 - ETA: 21:30 - loss: 4.53 - ETA: 21:29 - loss: 4.53 - ETA: 21:28 - loss: 4.53 - ETA: 21:28 - loss: 4.53 - ETA: 21:27 - loss: 4.53 - ETA: 21:26 - loss: 4.53 - ETA: 21:25 - loss: 4.53 - ETA: 21:24 - loss: 4.53 - ETA: 21:23 - loss: 4.53 - ETA: 21:23 - loss: 4.53 - ETA: 21:22 - loss: 4.53 - ETA: 21:21 - loss: 4.5380"
     ]
    },
    {
     "name": "stdout",
     "output_type": "stream",
     "text": [
      "3138/4335 [====================>.........] - ETA: 21:20 - loss: 4.53 - ETA: 21:19 - loss: 4.53 - ETA: 21:19 - loss: 4.53 - ETA: 21:18 - loss: 4.53 - ETA: 21:17 - loss: 4.53 - ETA: 21:16 - loss: 4.53 - ETA: 21:15 - loss: 4.53 - ETA: 21:14 - loss: 4.53 - ETA: 21:14 - loss: 4.53 - ETA: 21:13 - loss: 4.53 - ETA: 21:12 - loss: 4.53 - ETA: 21:11 - loss: 4.53 - ETA: 21:10 - loss: 4.53 - ETA: 21:10 - loss: 4.53 - ETA: 21:09 - loss: 4.53 - ETA: 21:08 - loss: 4.53 - ETA: 21:07 - loss: 4.53 - ETA: 21:06 - loss: 4.53 - ETA: 21:06 - loss: 4.53 - ETA: 21:05 - loss: 4.53 - ETA: 21:04 - loss: 4.53 - ETA: 21:03 - loss: 4.53 - ETA: 21:02 - loss: 4.53 - ETA: 21:01 - loss: 4.53 - ETA: 21:01 - loss: 4.53 - ETA: 21:00 - loss: 4.53 - ETA: 20:59 - loss: 4.53 - ETA: 20:58 - loss: 4.53 - ETA: 20:57 - loss: 4.53 - ETA: 20:56 - loss: 4.53 - ETA: 20:56 - loss: 4.53 - ETA: 20:55 - loss: 4.53 - ETA: 20:54 - loss: 4.53 - ETA: 20:53 - loss: 4.53 - ETA: 20:52 - loss: 4.53 - ETA: 20:51 - loss: 4.53 - ETA: 20:51 - loss: 4.53 - ETA: 20:50 - loss: 4.53 - ETA: 20:49 - loss: 4.53 - ETA: 20:48 - loss: 4.53 - ETA: 20:47 - loss: 4.53 - ETA: 20:47 - loss: 4.53 - ETA: 20:46 - loss: 4.53 - ETA: 20:45 - loss: 4.52 - ETA: 20:44 - loss: 4.52 - ETA: 20:43 - loss: 4.52 - ETA: 20:42 - loss: 4.52 - ETA: 20:42 - loss: 4.52 - ETA: 20:41 - loss: 4.52 - ETA: 20:40 - loss: 4.52 - ETA: 20:39 - loss: 4.52 - ETA: 20:38 - loss: 4.52 - ETA: 20:38 - loss: 4.52 - ETA: 20:37 - loss: 4.52 - ETA: 20:36 - loss: 4.52 - ETA: 20:35 - loss: 4.52 - ETA: 20:34 - loss: 4.52 - ETA: 20:33 - loss: 4.52 - ETA: 20:33 - loss: 4.52 - ETA: 20:32 - loss: 4.52 - ETA: 20:31 - loss: 4.52 - ETA: 20:30 - loss: 4.52 - ETA: 20:29 - loss: 4.52 - ETA: 20:28 - loss: 4.52 - ETA: 20:28 - loss: 4.52 - ETA: 20:27 - loss: 4.52 - ETA: 20:26 - loss: 4.52 - ETA: 20:25 - loss: 4.52 - ETA: 20:24 - loss: 4.52 - ETA: 20:24 - loss: 4.52 - ETA: 20:23 - loss: 4.52 - ETA: 20:22 - loss: 4.52 - ETA: 20:21 - loss: 4.52 - ETA: 20:20 - loss: 4.52 - ETA: 20:19 - loss: 4.52 - ETA: 20:19 - loss: 4.52 - ETA: 20:18 - loss: 4.52 - ETA: 20:17 - loss: 4.52 - ETA: 20:16 - loss: 4.52 - ETA: 20:15 - loss: 4.52 - ETA: 20:15 - loss: 4.52 - ETA: 20:14 - loss: 4.52 - ETA: 20:13 - loss: 4.52 - ETA: 20:12 - loss: 4.52 - ETA: 20:11 - loss: 4.52 - ETA: 20:10 - loss: 4.52 - ETA: 20:10 - loss: 4.52 - ETA: 20:09 - loss: 4.52 - ETA: 20:08 - loss: 4.52 - ETA: 20:07 - loss: 4.52 - ETA: 20:06 - loss: 4.52 - ETA: 20:05 - loss: 4.52 - ETA: 20:05 - loss: 4.52 - ETA: 20:04 - loss: 4.52 - ETA: 20:03 - loss: 4.52 - ETA: 20:02 - loss: 4.52 - ETA: 20:01 - loss: 4.52 - ETA: 20:00 - loss: 4.52 - ETA: 20:00 - loss: 4.52 - ETA: 19:59 - loss: 4.52 - ETA: 19:58 - loss: 4.52 - ETA: 19:57 - loss: 4.52 - ETA: 19:56 - loss: 4.52 - ETA: 19:55 - loss: 4.52 - ETA: 19:55 - loss: 4.52 - ETA: 19:54 - loss: 4.51 - ETA: 19:53 - loss: 4.51 - ETA: 19:52 - loss: 4.51 - ETA: 19:51 - loss: 4.51 - ETA: 19:51 - loss: 4.51 - ETA: 19:50 - loss: 4.51 - ETA: 19:49 - loss: 4.51 - ETA: 19:48 - loss: 4.51 - ETA: 19:47 - loss: 4.51 - ETA: 19:47 - loss: 4.51 - ETA: 19:46 - loss: 4.51 - ETA: 19:45 - loss: 4.51 - ETA: 19:44 - loss: 4.51 - ETA: 19:43 - loss: 4.51 - ETA: 19:42 - loss: 4.51 - ETA: 19:42 - loss: 4.51 - ETA: 19:41 - loss: 4.51 - ETA: 19:40 - loss: 4.51 - ETA: 19:39 - loss: 4.51 - ETA: 19:38 - loss: 4.51 - ETA: 19:37 - loss: 4.51 - ETA: 19:37 - loss: 4.51 - ETA: 19:36 - loss: 4.51 - ETA: 19:35 - loss: 4.51 - ETA: 19:34 - loss: 4.51 - ETA: 19:33 - loss: 4.51 - ETA: 19:33 - loss: 4.51 - ETA: 19:32 - loss: 4.51 - ETA: 19:31 - loss: 4.51 - ETA: 19:30 - loss: 4.51 - ETA: 19:29 - loss: 4.51 - ETA: 19:28 - loss: 4.51 - ETA: 19:28 - loss: 4.51 - ETA: 19:27 - loss: 4.51 - ETA: 19:26 - loss: 4.51 - ETA: 19:25 - loss: 4.51 - ETA: 19:24 - loss: 4.51 - ETA: 19:23 - loss: 4.51 - ETA: 19:23 - loss: 4.51 - ETA: 19:22 - loss: 4.51 - ETA: 19:21 - loss: 4.51 - ETA: 19:20 - loss: 4.51 - ETA: 19:19 - loss: 4.51 - ETA: 19:19 - loss: 4.51 - ETA: 19:18 - loss: 4.51 - ETA: 19:17 - loss: 4.51 - ETA: 19:16 - loss: 4.51 - ETA: 19:15 - loss: 4.51 - ETA: 19:14 - loss: 4.51 - ETA: 19:14 - loss: 4.51 - ETA: 19:13 - loss: 4.51 - ETA: 19:12 - loss: 4.51 - ETA: 19:11 - loss: 4.51 - ETA: 19:10 - loss: 4.51 - ETA: 19:09 - loss: 4.51 - ETA: 19:08 - loss: 4.51 - ETA: 19:08 - loss: 4.51 - ETA: 19:07 - loss: 4.51 - ETA: 19:06 - loss: 4.51 - ETA: 19:05 - loss: 4.51 - ETA: 19:04 - loss: 4.51 - ETA: 19:04 - loss: 4.51 - ETA: 19:03 - loss: 4.51 - ETA: 19:02 - loss: 4.51 - ETA: 19:01 - loss: 4.51 - ETA: 19:00 - loss: 4.51 - ETA: 18:59 - loss: 4.50 - ETA: 18:59 - loss: 4.50 - ETA: 18:58 - loss: 4.50 - ETA: 18:57 - loss: 4.50 - ETA: 18:56 - loss: 4.50 - ETA: 18:55 - loss: 4.50 - ETA: 18:54 - loss: 4.50 - ETA: 18:54 - loss: 4.50 - ETA: 18:53 - loss: 4.50 - ETA: 18:52 - loss: 4.50 - ETA: 18:51 - loss: 4.50 - ETA: 18:50 - loss: 4.50 - ETA: 18:50 - loss: 4.50 - ETA: 18:49 - loss: 4.50 - ETA: 18:48 - loss: 4.50 - ETA: 18:47 - loss: 4.50 - ETA: 18:46 - loss: 4.50 - ETA: 18:45 - loss: 4.50 - ETA: 18:44 - loss: 4.50 - ETA: 18:44 - loss: 4.50 - ETA: 18:43 - loss: 4.50 - ETA: 18:42 - loss: 4.50 - ETA: 18:41 - loss: 4.50 - ETA: 18:40 - loss: 4.50 - ETA: 18:39 - loss: 4.50 - ETA: 18:39 - loss: 4.50 - ETA: 18:38 - loss: 4.50 - ETA: 18:37 - loss: 4.50 - ETA: 18:36 - loss: 4.50 - ETA: 18:35 - loss: 4.50 - ETA: 18:34 - loss: 4.50 - ETA: 18:34 - loss: 4.50 - ETA: 18:33 - loss: 4.50 - ETA: 18:32 - loss: 4.50 - ETA: 18:31 - loss: 4.50 - ETA: 18:30 - loss: 4.50 - ETA: 18:29 - loss: 4.50 - ETA: 18:29 - loss: 4.50 - ETA: 18:28 - loss: 4.50 - ETA: 18:27 - loss: 4.50 - ETA: 18:26 - loss: 4.50 - ETA: 18:25 - loss: 4.50 - ETA: 18:25 - loss: 4.50 - ETA: 18:24 - loss: 4.50 - ETA: 18:23 - loss: 4.50 - ETA: 18:22 - loss: 4.50 - ETA: 18:21 - loss: 4.50 - ETA: 18:20 - loss: 4.50 - ETA: 18:20 - loss: 4.50 - ETA: 18:19 - loss: 4.50 - ETA: 18:18 - loss: 4.50 - ETA: 18:17 - loss: 4.50 - ETA: 18:16 - loss: 4.50 - ETA: 18:15 - loss: 4.50 - ETA: 18:15 - loss: 4.50 - ETA: 18:14 - loss: 4.50 - ETA: 18:13 - loss: 4.50 - ETA: 18:12 - loss: 4.50 - ETA: 18:11 - loss: 4.50 - ETA: 18:10 - loss: 4.50 - ETA: 18:10 - loss: 4.50 - ETA: 18:09 - loss: 4.50 - ETA: 18:08 - loss: 4.50 - ETA: 18:07 - loss: 4.49 - ETA: 18:06 - loss: 4.49 - ETA: 18:05 - loss: 4.49 - ETA: 18:05 - loss: 4.49 - ETA: 18:04 - loss: 4.49 - ETA: 18:03 - loss: 4.49 - ETA: 18:02 - loss: 4.49 - ETA: 18:01 - loss: 4.49 - ETA: 18:00 - loss: 4.49 - ETA: 18:00 - loss: 4.49 - ETA: 17:59 - loss: 4.49 - ETA: 17:58 - loss: 4.49 - ETA: 17:57 - loss: 4.49 - ETA: 17:56 - loss: 4.49 - ETA: 17:55 - loss: 4.49 - ETA: 17:55 - loss: 4.49 - ETA: 17:54 - loss: 4.49 - ETA: 17:53 - loss: 4.49 - ETA: 17:52 - loss: 4.49 - ETA: 17:51 - loss: 4.49 - ETA: 17:50 - loss: 4.49 - ETA: 17:50 - loss: 4.49 - ETA: 17:49 - loss: 4.49 - ETA: 17:48 - loss: 4.49 - ETA: 17:47 - loss: 4.49 - ETA: 17:46 - loss: 4.49 - ETA: 17:45 - loss: 4.49 - ETA: 17:45 - loss: 4.49 - ETA: 17:44 - loss: 4.49 - ETA: 17:43 - loss: 4.49 - ETA: 17:42 - loss: 4.49 - ETA: 17:41 - loss: 4.49 - ETA: 17:40 - loss: 4.49 - ETA: 17:40 - loss: 4.49 - ETA: 17:39 - loss: 4.49 - ETA: 17:38 - loss: 4.49 - ETA: 17:37 - loss: 4.49 - ETA: 17:36 - loss: 4.49 - ETA: 17:35 - loss: 4.49 - ETA: 17:35 - loss: 4.49 - ETA: 17:34 - loss: 4.49 - ETA: 17:33 - loss: 4.49 - ETA: 17:32 - loss: 4.49 - ETA: 17:31 - loss: 4.49 - ETA: 17:30 - loss: 4.49 - ETA: 17:30 - loss: 4.49 - ETA: 17:29 - loss: 4.49 - ETA: 17:28 - loss: 4.49 - ETA: 17:27 - loss: 4.49 - ETA: 17:26 - loss: 4.49 - ETA: 17:26 - loss: 4.49 - ETA: 17:25 - loss: 4.49 - ETA: 17:24 - loss: 4.49 - ETA: 17:23 - loss: 4.49 - ETA: 17:22 - loss: 4.49 - ETA: 17:21 - loss: 4.49 - ETA: 17:20 - loss: 4.49 - ETA: 17:20 - loss: 4.49 - ETA: 17:19 - loss: 4.49 - ETA: 17:18 - loss: 4.49 - ETA: 17:17 - loss: 4.49 - ETA: 17:16 - loss: 4.49 - ETA: 17:15 - loss: 4.49 - ETA: 17:15 - loss: 4.49 - ETA: 17:14 - loss: 4.49 - ETA: 17:13 - loss: 4.49 - ETA: 17:12 - loss: 4.49 - ETA: 17:11 - loss: 4.49 - ETA: 17:10 - loss: 4.49 - ETA: 17:10 - loss: 4.48 - ETA: 17:09 - loss: 4.48 - ETA: 17:08 - loss: 4.48 - ETA: 17:07 - loss: 4.48 - ETA: 17:06 - loss: 4.48 - ETA: 17:05 - loss: 4.48 - ETA: 17:05 - loss: 4.48 - ETA: 17:04 - loss: 4.48 - ETA: 17:03 - loss: 4.48 - ETA: 17:02 - loss: 4.48 - ETA: 17:01 - loss: 4.4880"
     ]
    },
    {
     "name": "stdout",
     "output_type": "stream",
     "text": [
      "3452/4335 [======================>.......] - ETA: 17:00 - loss: 4.48 - ETA: 17:00 - loss: 4.48 - ETA: 16:59 - loss: 4.48 - ETA: 16:58 - loss: 4.48 - ETA: 16:57 - loss: 4.48 - ETA: 16:56 - loss: 4.48 - ETA: 16:55 - loss: 4.48 - ETA: 16:55 - loss: 4.48 - ETA: 16:54 - loss: 4.48 - ETA: 16:53 - loss: 4.48 - ETA: 16:52 - loss: 4.48 - ETA: 16:51 - loss: 4.48 - ETA: 16:50 - loss: 4.48 - ETA: 16:50 - loss: 4.48 - ETA: 16:49 - loss: 4.48 - ETA: 16:48 - loss: 4.48 - ETA: 16:47 - loss: 4.48 - ETA: 16:46 - loss: 4.48 - ETA: 16:45 - loss: 4.48 - ETA: 16:45 - loss: 4.48 - ETA: 16:44 - loss: 4.48 - ETA: 16:43 - loss: 4.48 - ETA: 16:42 - loss: 4.48 - ETA: 16:41 - loss: 4.48 - ETA: 16:40 - loss: 4.48 - ETA: 16:40 - loss: 4.48 - ETA: 16:39 - loss: 4.48 - ETA: 16:38 - loss: 4.48 - ETA: 16:37 - loss: 4.48 - ETA: 16:36 - loss: 4.48 - ETA: 16:35 - loss: 4.48 - ETA: 16:35 - loss: 4.48 - ETA: 16:34 - loss: 4.48 - ETA: 16:33 - loss: 4.48 - ETA: 16:32 - loss: 4.48 - ETA: 16:31 - loss: 4.48 - ETA: 16:30 - loss: 4.48 - ETA: 16:30 - loss: 4.48 - ETA: 16:29 - loss: 4.48 - ETA: 16:28 - loss: 4.48 - ETA: 16:27 - loss: 4.48 - ETA: 16:26 - loss: 4.48 - ETA: 16:25 - loss: 4.48 - ETA: 16:25 - loss: 4.48 - ETA: 16:24 - loss: 4.48 - ETA: 16:23 - loss: 4.48 - ETA: 16:22 - loss: 4.48 - ETA: 16:21 - loss: 4.48 - ETA: 16:20 - loss: 4.48 - ETA: 16:19 - loss: 4.48 - ETA: 16:19 - loss: 4.48 - ETA: 16:18 - loss: 4.48 - ETA: 16:17 - loss: 4.48 - ETA: 16:16 - loss: 4.48 - ETA: 16:15 - loss: 4.48 - ETA: 16:14 - loss: 4.47 - ETA: 16:14 - loss: 4.47 - ETA: 16:13 - loss: 4.47 - ETA: 16:12 - loss: 4.47 - ETA: 16:11 - loss: 4.47 - ETA: 16:10 - loss: 4.47 - ETA: 16:10 - loss: 4.47 - ETA: 16:09 - loss: 4.47 - ETA: 16:08 - loss: 4.47 - ETA: 16:07 - loss: 4.47 - ETA: 16:07 - loss: 4.47 - ETA: 16:06 - loss: 4.47 - ETA: 16:05 - loss: 4.47 - ETA: 16:05 - loss: 4.47 - ETA: 16:04 - loss: 4.47 - ETA: 16:03 - loss: 4.47 - ETA: 16:02 - loss: 4.47 - ETA: 16:02 - loss: 4.47 - ETA: 16:01 - loss: 4.47 - ETA: 16:00 - loss: 4.47 - ETA: 15:59 - loss: 4.47 - ETA: 15:58 - loss: 4.47 - ETA: 15:57 - loss: 4.47 - ETA: 15:56 - loss: 4.47 - ETA: 15:56 - loss: 4.47 - ETA: 15:55 - loss: 4.47 - ETA: 15:54 - loss: 4.47 - ETA: 15:53 - loss: 4.47 - ETA: 15:52 - loss: 4.47 - ETA: 15:51 - loss: 4.47 - ETA: 15:51 - loss: 4.47 - ETA: 15:50 - loss: 4.47 - ETA: 15:49 - loss: 4.47 - ETA: 15:48 - loss: 4.47 - ETA: 15:48 - loss: 4.47 - ETA: 15:47 - loss: 4.47 - ETA: 15:46 - loss: 4.47 - ETA: 15:45 - loss: 4.47 - ETA: 15:45 - loss: 4.47 - ETA: 15:44 - loss: 4.47 - ETA: 15:43 - loss: 4.47 - ETA: 15:42 - loss: 4.47 - ETA: 15:41 - loss: 4.47 - ETA: 15:41 - loss: 4.47 - ETA: 15:40 - loss: 4.47 - ETA: 15:39 - loss: 4.47 - ETA: 15:38 - loss: 4.47 - ETA: 15:37 - loss: 4.47 - ETA: 15:37 - loss: 4.47 - ETA: 15:36 - loss: 4.47 - ETA: 15:35 - loss: 4.47 - ETA: 15:34 - loss: 4.47 - ETA: 15:33 - loss: 4.47 - ETA: 15:32 - loss: 4.47 - ETA: 15:32 - loss: 4.47 - ETA: 15:31 - loss: 4.47 - ETA: 15:30 - loss: 4.47 - ETA: 15:29 - loss: 4.47 - ETA: 15:28 - loss: 4.47 - ETA: 15:28 - loss: 4.47 - ETA: 15:27 - loss: 4.47 - ETA: 15:26 - loss: 4.47 - ETA: 15:25 - loss: 4.47 - ETA: 15:25 - loss: 4.47 - ETA: 15:24 - loss: 4.47 - ETA: 15:23 - loss: 4.47 - ETA: 15:23 - loss: 4.47 - ETA: 15:22 - loss: 4.47 - ETA: 15:21 - loss: 4.47 - ETA: 15:20 - loss: 4.47 - ETA: 15:20 - loss: 4.47 - ETA: 15:19 - loss: 4.47 - ETA: 15:18 - loss: 4.47 - ETA: 15:17 - loss: 4.47 - ETA: 15:16 - loss: 4.47 - ETA: 15:15 - loss: 4.47 - ETA: 15:15 - loss: 4.47 - ETA: 15:14 - loss: 4.47 - ETA: 15:13 - loss: 4.47 - ETA: 15:12 - loss: 4.47 - ETA: 15:11 - loss: 4.46 - ETA: 15:10 - loss: 4.46 - ETA: 15:10 - loss: 4.46 - ETA: 15:09 - loss: 4.46 - ETA: 15:08 - loss: 4.46 - ETA: 15:07 - loss: 4.46 - ETA: 15:06 - loss: 4.46 - ETA: 15:05 - loss: 4.46 - ETA: 15:05 - loss: 4.46 - ETA: 15:04 - loss: 4.46 - ETA: 15:03 - loss: 4.46 - ETA: 15:02 - loss: 4.46 - ETA: 15:02 - loss: 4.46 - ETA: 15:01 - loss: 4.46 - ETA: 15:00 - loss: 4.46 - ETA: 14:59 - loss: 4.46 - ETA: 14:59 - loss: 4.46 - ETA: 14:58 - loss: 4.46 - ETA: 14:57 - loss: 4.46 - ETA: 14:56 - loss: 4.46 - ETA: 14:55 - loss: 4.46 - ETA: 14:55 - loss: 4.46 - ETA: 14:54 - loss: 4.46 - ETA: 14:53 - loss: 4.46 - ETA: 14:52 - loss: 4.46 - ETA: 14:51 - loss: 4.46 - ETA: 14:51 - loss: 4.46 - ETA: 14:50 - loss: 4.46 - ETA: 14:49 - loss: 4.46 - ETA: 14:48 - loss: 4.46 - ETA: 14:47 - loss: 4.46 - ETA: 14:47 - loss: 4.46 - ETA: 14:46 - loss: 4.46 - ETA: 14:45 - loss: 4.46 - ETA: 14:44 - loss: 4.46 - ETA: 14:43 - loss: 4.46 - ETA: 14:43 - loss: 4.46 - ETA: 14:42 - loss: 4.46 - ETA: 14:41 - loss: 4.46 - ETA: 14:40 - loss: 4.46 - ETA: 14:39 - loss: 4.46 - ETA: 14:38 - loss: 4.46 - ETA: 14:38 - loss: 4.46 - ETA: 14:37 - loss: 4.46 - ETA: 14:36 - loss: 4.46 - ETA: 14:35 - loss: 4.46 - ETA: 14:34 - loss: 4.46 - ETA: 14:33 - loss: 4.46 - ETA: 14:33 - loss: 4.46 - ETA: 14:32 - loss: 4.46 - ETA: 14:31 - loss: 4.46 - ETA: 14:30 - loss: 4.46 - ETA: 14:29 - loss: 4.46 - ETA: 14:28 - loss: 4.46 - ETA: 14:28 - loss: 4.46 - ETA: 14:27 - loss: 4.46 - ETA: 14:26 - loss: 4.46 - ETA: 14:25 - loss: 4.46 - ETA: 14:24 - loss: 4.46 - ETA: 14:23 - loss: 4.46 - ETA: 14:23 - loss: 4.46 - ETA: 14:22 - loss: 4.46 - ETA: 14:21 - loss: 4.45 - ETA: 14:20 - loss: 4.45 - ETA: 14:19 - loss: 4.45 - ETA: 14:19 - loss: 4.45 - ETA: 14:18 - loss: 4.45 - ETA: 14:17 - loss: 4.45 - ETA: 14:16 - loss: 4.45 - ETA: 14:15 - loss: 4.45 - ETA: 14:14 - loss: 4.45 - ETA: 14:14 - loss: 4.45 - ETA: 14:13 - loss: 4.45 - ETA: 14:12 - loss: 4.45 - ETA: 14:11 - loss: 4.45 - ETA: 14:11 - loss: 4.45 - ETA: 14:10 - loss: 4.45 - ETA: 14:09 - loss: 4.45 - ETA: 14:08 - loss: 4.45 - ETA: 14:07 - loss: 4.45 - ETA: 14:07 - loss: 4.45 - ETA: 14:06 - loss: 4.45 - ETA: 14:05 - loss: 4.45 - ETA: 14:04 - loss: 4.45 - ETA: 14:03 - loss: 4.45 - ETA: 14:03 - loss: 4.45 - ETA: 14:02 - loss: 4.45 - ETA: 14:01 - loss: 4.45 - ETA: 14:00 - loss: 4.45 - ETA: 13:59 - loss: 4.45 - ETA: 13:58 - loss: 4.45 - ETA: 13:58 - loss: 4.45 - ETA: 13:57 - loss: 4.45 - ETA: 13:56 - loss: 4.45 - ETA: 13:55 - loss: 4.45 - ETA: 13:54 - loss: 4.45 - ETA: 13:53 - loss: 4.45 - ETA: 13:53 - loss: 4.45 - ETA: 13:52 - loss: 4.45 - ETA: 13:51 - loss: 4.45 - ETA: 13:50 - loss: 4.45 - ETA: 13:49 - loss: 4.45 - ETA: 13:49 - loss: 4.45 - ETA: 13:48 - loss: 4.45 - ETA: 13:47 - loss: 4.45 - ETA: 13:46 - loss: 4.45 - ETA: 13:45 - loss: 4.45 - ETA: 13:45 - loss: 4.45 - ETA: 13:44 - loss: 4.45 - ETA: 13:43 - loss: 4.45 - ETA: 13:42 - loss: 4.45 - ETA: 13:42 - loss: 4.45 - ETA: 13:41 - loss: 4.45 - ETA: 13:40 - loss: 4.45 - ETA: 13:39 - loss: 4.45 - ETA: 13:38 - loss: 4.45 - ETA: 13:38 - loss: 4.45 - ETA: 13:37 - loss: 4.45 - ETA: 13:36 - loss: 4.45 - ETA: 13:35 - loss: 4.45 - ETA: 13:34 - loss: 4.45 - ETA: 13:33 - loss: 4.45 - ETA: 13:33 - loss: 4.45 - ETA: 13:32 - loss: 4.45 - ETA: 13:31 - loss: 4.45 - ETA: 13:30 - loss: 4.45 - ETA: 13:29 - loss: 4.45 - ETA: 13:29 - loss: 4.45 - ETA: 13:28 - loss: 4.45 - ETA: 13:27 - loss: 4.45 - ETA: 13:26 - loss: 4.44 - ETA: 13:25 - loss: 4.44 - ETA: 13:24 - loss: 4.44 - ETA: 13:23 - loss: 4.44 - ETA: 13:22 - loss: 4.44 - ETA: 13:22 - loss: 4.44 - ETA: 13:21 - loss: 4.44 - ETA: 13:20 - loss: 4.44 - ETA: 13:19 - loss: 4.44 - ETA: 13:19 - loss: 4.44 - ETA: 13:18 - loss: 4.44 - ETA: 13:17 - loss: 4.44 - ETA: 13:16 - loss: 4.44 - ETA: 13:15 - loss: 4.44 - ETA: 13:14 - loss: 4.44 - ETA: 13:14 - loss: 4.44 - ETA: 13:13 - loss: 4.44 - ETA: 13:12 - loss: 4.44 - ETA: 13:11 - loss: 4.44 - ETA: 13:10 - loss: 4.44 - ETA: 13:09 - loss: 4.44 - ETA: 13:09 - loss: 4.44 - ETA: 13:08 - loss: 4.44 - ETA: 13:07 - loss: 4.44 - ETA: 13:06 - loss: 4.44 - ETA: 13:05 - loss: 4.44 - ETA: 13:04 - loss: 4.44 - ETA: 13:03 - loss: 4.44 - ETA: 13:03 - loss: 4.44 - ETA: 13:02 - loss: 4.44 - ETA: 13:01 - loss: 4.44 - ETA: 13:00 - loss: 4.44 - ETA: 13:00 - loss: 4.44 - ETA: 12:59 - loss: 4.44 - ETA: 12:58 - loss: 4.44 - ETA: 12:57 - loss: 4.44 - ETA: 12:56 - loss: 4.44 - ETA: 12:56 - loss: 4.44 - ETA: 12:55 - loss: 4.44 - ETA: 12:54 - loss: 4.44 - ETA: 12:53 - loss: 4.44 - ETA: 12:52 - loss: 4.44 - ETA: 12:52 - loss: 4.44 - ETA: 12:51 - loss: 4.44 - ETA: 12:50 - loss: 4.44 - ETA: 12:49 - loss: 4.44 - ETA: 12:48 - loss: 4.44 - ETA: 12:48 - loss: 4.44 - ETA: 12:47 - loss: 4.4438"
     ]
    },
    {
     "name": "stdout",
     "output_type": "stream",
     "text": [
      "3766/4335 [=========================>....] - ETA: 12:46 - loss: 4.44 - ETA: 12:45 - loss: 4.44 - ETA: 12:45 - loss: 4.44 - ETA: 12:44 - loss: 4.44 - ETA: 12:43 - loss: 4.44 - ETA: 12:42 - loss: 4.44 - ETA: 12:41 - loss: 4.44 - ETA: 12:41 - loss: 4.44 - ETA: 12:40 - loss: 4.44 - ETA: 12:39 - loss: 4.44 - ETA: 12:38 - loss: 4.44 - ETA: 12:37 - loss: 4.44 - ETA: 12:37 - loss: 4.44 - ETA: 12:36 - loss: 4.44 - ETA: 12:35 - loss: 4.44 - ETA: 12:34 - loss: 4.44 - ETA: 12:33 - loss: 4.44 - ETA: 12:33 - loss: 4.44 - ETA: 12:32 - loss: 4.44 - ETA: 12:31 - loss: 4.44 - ETA: 12:30 - loss: 4.44 - ETA: 12:29 - loss: 4.44 - ETA: 12:28 - loss: 4.44 - ETA: 12:27 - loss: 4.44 - ETA: 12:27 - loss: 4.44 - ETA: 12:26 - loss: 4.44 - ETA: 12:25 - loss: 4.44 - ETA: 12:24 - loss: 4.44 - ETA: 12:23 - loss: 4.44 - ETA: 12:23 - loss: 4.43 - ETA: 12:22 - loss: 4.43 - ETA: 12:21 - loss: 4.43 - ETA: 12:20 - loss: 4.43 - ETA: 12:20 - loss: 4.43 - ETA: 12:19 - loss: 4.43 - ETA: 12:18 - loss: 4.43 - ETA: 12:17 - loss: 4.43 - ETA: 12:16 - loss: 4.43 - ETA: 12:16 - loss: 4.43 - ETA: 12:15 - loss: 4.43 - ETA: 12:14 - loss: 4.43 - ETA: 12:13 - loss: 4.43 - ETA: 12:12 - loss: 4.43 - ETA: 12:12 - loss: 4.43 - ETA: 12:11 - loss: 4.43 - ETA: 12:10 - loss: 4.43 - ETA: 12:09 - loss: 4.43 - ETA: 12:08 - loss: 4.43 - ETA: 12:08 - loss: 4.43 - ETA: 12:07 - loss: 4.43 - ETA: 12:06 - loss: 4.43 - ETA: 12:05 - loss: 4.43 - ETA: 12:04 - loss: 4.43 - ETA: 12:04 - loss: 4.43 - ETA: 12:03 - loss: 4.43 - ETA: 12:02 - loss: 4.43 - ETA: 12:01 - loss: 4.43 - ETA: 12:01 - loss: 4.43 - ETA: 12:00 - loss: 4.43 - ETA: 11:59 - loss: 4.43 - ETA: 11:58 - loss: 4.43 - ETA: 11:57 - loss: 4.43 - ETA: 11:56 - loss: 4.43 - ETA: 11:55 - loss: 4.43 - ETA: 11:54 - loss: 4.43 - ETA: 11:54 - loss: 4.43 - ETA: 11:53 - loss: 4.43 - ETA: 11:52 - loss: 4.43 - ETA: 11:51 - loss: 4.43 - ETA: 11:50 - loss: 4.43 - ETA: 11:50 - loss: 4.43 - ETA: 11:49 - loss: 4.43 - ETA: 11:48 - loss: 4.43 - ETA: 11:47 - loss: 4.43 - ETA: 11:46 - loss: 4.43 - ETA: 11:45 - loss: 4.43 - ETA: 11:44 - loss: 4.43 - ETA: 11:44 - loss: 4.43 - ETA: 11:43 - loss: 4.43 - ETA: 11:42 - loss: 4.43 - ETA: 11:41 - loss: 4.43 - ETA: 11:40 - loss: 4.43 - ETA: 11:39 - loss: 4.43 - ETA: 11:38 - loss: 4.43 - ETA: 11:38 - loss: 4.43 - ETA: 11:37 - loss: 4.43 - ETA: 11:36 - loss: 4.43 - ETA: 11:35 - loss: 4.43 - ETA: 11:34 - loss: 4.43 - ETA: 11:33 - loss: 4.43 - ETA: 11:33 - loss: 4.43 - ETA: 11:32 - loss: 4.43 - ETA: 11:31 - loss: 4.43 - ETA: 11:30 - loss: 4.43 - ETA: 11:29 - loss: 4.43 - ETA: 11:28 - loss: 4.43 - ETA: 11:27 - loss: 4.43 - ETA: 11:27 - loss: 4.43 - ETA: 11:26 - loss: 4.43 - ETA: 11:25 - loss: 4.43 - ETA: 11:24 - loss: 4.43 - ETA: 11:23 - loss: 4.43 - ETA: 11:22 - loss: 4.43 - ETA: 11:21 - loss: 4.43 - ETA: 11:20 - loss: 4.43 - ETA: 11:20 - loss: 4.43 - ETA: 11:19 - loss: 4.43 - ETA: 11:18 - loss: 4.43 - ETA: 11:17 - loss: 4.43 - ETA: 11:16 - loss: 4.43 - ETA: 11:15 - loss: 4.43 - ETA: 11:14 - loss: 4.43 - ETA: 11:13 - loss: 4.43 - ETA: 11:13 - loss: 4.43 - ETA: 11:12 - loss: 4.43 - ETA: 11:11 - loss: 4.43 - ETA: 11:10 - loss: 4.43 - ETA: 11:09 - loss: 4.43 - ETA: 11:08 - loss: 4.43 - ETA: 11:07 - loss: 4.43 - ETA: 11:07 - loss: 4.42 - ETA: 11:06 - loss: 4.42 - ETA: 11:05 - loss: 4.42 - ETA: 11:04 - loss: 4.42 - ETA: 11:03 - loss: 4.42 - ETA: 11:02 - loss: 4.42 - ETA: 11:01 - loss: 4.42 - ETA: 11:01 - loss: 4.42 - ETA: 11:00 - loss: 4.42 - ETA: 10:59 - loss: 4.42 - ETA: 10:58 - loss: 4.42 - ETA: 10:57 - loss: 4.42 - ETA: 10:56 - loss: 4.42 - ETA: 10:55 - loss: 4.42 - ETA: 10:55 - loss: 4.42 - ETA: 10:54 - loss: 4.42 - ETA: 10:53 - loss: 4.42 - ETA: 10:52 - loss: 4.42 - ETA: 10:51 - loss: 4.42 - ETA: 10:50 - loss: 4.42 - ETA: 10:49 - loss: 4.42 - ETA: 10:49 - loss: 4.42 - ETA: 10:48 - loss: 4.42 - ETA: 10:47 - loss: 4.42 - ETA: 10:46 - loss: 4.42 - ETA: 10:45 - loss: 4.42 - ETA: 10:44 - loss: 4.42 - ETA: 10:43 - loss: 4.42 - ETA: 10:42 - loss: 4.42 - ETA: 10:42 - loss: 4.42 - ETA: 10:41 - loss: 4.42 - ETA: 10:40 - loss: 4.42 - ETA: 10:39 - loss: 4.42 - ETA: 10:38 - loss: 4.42 - ETA: 10:37 - loss: 4.42 - ETA: 10:36 - loss: 4.42 - ETA: 10:35 - loss: 4.42 - ETA: 10:35 - loss: 4.42 - ETA: 10:34 - loss: 4.42 - ETA: 10:33 - loss: 4.42 - ETA: 10:32 - loss: 4.42 - ETA: 10:31 - loss: 4.42 - ETA: 10:30 - loss: 4.42 - ETA: 10:29 - loss: 4.42 - ETA: 10:28 - loss: 4.42 - ETA: 10:28 - loss: 4.42 - ETA: 10:27 - loss: 4.42 - ETA: 10:26 - loss: 4.42 - ETA: 10:25 - loss: 4.42 - ETA: 10:24 - loss: 4.42 - ETA: 10:23 - loss: 4.42 - ETA: 10:22 - loss: 4.42 - ETA: 10:22 - loss: 4.42 - ETA: 10:21 - loss: 4.42 - ETA: 10:20 - loss: 4.42 - ETA: 10:19 - loss: 4.42 - ETA: 10:18 - loss: 4.42 - ETA: 10:17 - loss: 4.42 - ETA: 10:16 - loss: 4.42 - ETA: 10:15 - loss: 4.42 - ETA: 10:15 - loss: 4.42 - ETA: 10:14 - loss: 4.42 - ETA: 10:13 - loss: 4.42 - ETA: 10:12 - loss: 4.42 - ETA: 10:11 - loss: 4.42 - ETA: 10:10 - loss: 4.42 - ETA: 10:10 - loss: 4.42 - ETA: 10:09 - loss: 4.42 - ETA: 10:08 - loss: 4.42 - ETA: 10:07 - loss: 4.42 - ETA: 10:06 - loss: 4.42 - ETA: 10:05 - loss: 4.42 - ETA: 10:04 - loss: 4.42 - ETA: 10:04 - loss: 4.42 - ETA: 10:03 - loss: 4.42 - ETA: 10:02 - loss: 4.42 - ETA: 10:01 - loss: 4.41 - ETA: 10:00 - loss: 4.41 - ETA: 9:59 - loss: 4.4198 - ETA: 9:58 - loss: 4.419 - ETA: 9:57 - loss: 4.419 - ETA: 9:57 - loss: 4.419 - ETA: 9:56 - loss: 4.419 - ETA: 9:55 - loss: 4.419 - ETA: 9:54 - loss: 4.419 - ETA: 9:53 - loss: 4.419 - ETA: 9:52 - loss: 4.418 - ETA: 9:52 - loss: 4.418 - ETA: 9:51 - loss: 4.418 - ETA: 9:50 - loss: 4.418 - ETA: 9:49 - loss: 4.418 - ETA: 9:48 - loss: 4.418 - ETA: 9:47 - loss: 4.418 - ETA: 9:47 - loss: 4.417 - ETA: 9:46 - loss: 4.417 - ETA: 9:45 - loss: 4.417 - ETA: 9:44 - loss: 4.417 - ETA: 9:43 - loss: 4.417 - ETA: 9:42 - loss: 4.417 - ETA: 9:42 - loss: 4.417 - ETA: 9:41 - loss: 4.416 - ETA: 9:40 - loss: 4.416 - ETA: 9:39 - loss: 4.416 - ETA: 9:38 - loss: 4.416 - ETA: 9:37 - loss: 4.416 - ETA: 9:36 - loss: 4.416 - ETA: 9:35 - loss: 4.416 - ETA: 9:35 - loss: 4.416 - ETA: 9:34 - loss: 4.416 - ETA: 9:33 - loss: 4.415 - ETA: 9:32 - loss: 4.415 - ETA: 9:31 - loss: 4.415 - ETA: 9:30 - loss: 4.415 - ETA: 9:29 - loss: 4.415 - ETA: 9:28 - loss: 4.415 - ETA: 9:27 - loss: 4.415 - ETA: 9:27 - loss: 4.415 - ETA: 9:26 - loss: 4.415 - ETA: 9:25 - loss: 4.415 - ETA: 9:24 - loss: 4.415 - ETA: 9:23 - loss: 4.414 - ETA: 9:22 - loss: 4.414 - ETA: 9:21 - loss: 4.414 - ETA: 9:20 - loss: 4.414 - ETA: 9:19 - loss: 4.414 - ETA: 9:19 - loss: 4.414 - ETA: 9:18 - loss: 4.413 - ETA: 9:17 - loss: 4.413 - ETA: 9:16 - loss: 4.413 - ETA: 9:15 - loss: 4.413 - ETA: 9:14 - loss: 4.413 - ETA: 9:13 - loss: 4.413 - ETA: 9:12 - loss: 4.412 - ETA: 9:11 - loss: 4.412 - ETA: 9:10 - loss: 4.412 - ETA: 9:09 - loss: 4.412 - ETA: 9:09 - loss: 4.412 - ETA: 9:08 - loss: 4.412 - ETA: 9:07 - loss: 4.412 - ETA: 9:06 - loss: 4.412 - ETA: 9:05 - loss: 4.412 - ETA: 9:04 - loss: 4.412 - ETA: 9:03 - loss: 4.411 - ETA: 9:02 - loss: 4.411 - ETA: 9:01 - loss: 4.411 - ETA: 9:00 - loss: 4.411 - ETA: 9:00 - loss: 4.411 - ETA: 8:59 - loss: 4.411 - ETA: 8:58 - loss: 4.411 - ETA: 8:57 - loss: 4.411 - ETA: 8:56 - loss: 4.411 - ETA: 8:55 - loss: 4.411 - ETA: 8:54 - loss: 4.411 - ETA: 8:53 - loss: 4.411 - ETA: 8:52 - loss: 4.410 - ETA: 8:51 - loss: 4.410 - ETA: 8:51 - loss: 4.410 - ETA: 8:50 - loss: 4.410 - ETA: 8:49 - loss: 4.410 - ETA: 8:48 - loss: 4.409 - ETA: 8:47 - loss: 4.409 - ETA: 8:46 - loss: 4.409 - ETA: 8:45 - loss: 4.409 - ETA: 8:44 - loss: 4.409 - ETA: 8:43 - loss: 4.409 - ETA: 8:42 - loss: 4.409 - ETA: 8:42 - loss: 4.409 - ETA: 8:41 - loss: 4.409 - ETA: 8:40 - loss: 4.409 - ETA: 8:39 - loss: 4.408 - ETA: 8:38 - loss: 4.408 - ETA: 8:37 - loss: 4.408 - ETA: 8:36 - loss: 4.408 - ETA: 8:35 - loss: 4.408 - ETA: 8:34 - loss: 4.408 - ETA: 8:33 - loss: 4.408 - ETA: 8:33 - loss: 4.408 - ETA: 8:32 - loss: 4.408 - ETA: 8:31 - loss: 4.408 - ETA: 8:30 - loss: 4.408 - ETA: 8:29 - loss: 4.407 - ETA: 8:28 - loss: 4.407 - ETA: 8:27 - loss: 4.407 - ETA: 8:26 - loss: 4.407 - ETA: 8:25 - loss: 4.407 - ETA: 8:24 - loss: 4.407 - ETA: 8:24 - loss: 4.407 - ETA: 8:23 - loss: 4.407 - ETA: 8:22 - loss: 4.407 - ETA: 8:21 - loss: 4.406 - ETA: 8:20 - loss: 4.406 - ETA: 8:19 - loss: 4.406 - ETA: 8:18 - loss: 4.406 - ETA: 8:17 - loss: 4.4063"
     ]
    },
    {
     "name": "stdout",
     "output_type": "stream",
     "text": [
      "4080/4335 [===========================>..] - ETA: 8:16 - loss: 4.406 - ETA: 8:15 - loss: 4.406 - ETA: 8:15 - loss: 4.405 - ETA: 8:14 - loss: 4.405 - ETA: 8:13 - loss: 4.405 - ETA: 8:12 - loss: 4.405 - ETA: 8:11 - loss: 4.405 - ETA: 8:10 - loss: 4.405 - ETA: 8:09 - loss: 4.405 - ETA: 8:08 - loss: 4.405 - ETA: 8:07 - loss: 4.405 - ETA: 8:06 - loss: 4.405 - ETA: 8:06 - loss: 4.405 - ETA: 8:05 - loss: 4.405 - ETA: 8:04 - loss: 4.404 - ETA: 8:03 - loss: 4.404 - ETA: 8:02 - loss: 4.404 - ETA: 8:01 - loss: 4.404 - ETA: 8:00 - loss: 4.404 - ETA: 7:59 - loss: 4.404 - ETA: 7:58 - loss: 4.404 - ETA: 7:57 - loss: 4.403 - ETA: 7:56 - loss: 4.403 - ETA: 7:56 - loss: 4.403 - ETA: 7:55 - loss: 4.403 - ETA: 7:54 - loss: 4.403 - ETA: 7:53 - loss: 4.403 - ETA: 7:52 - loss: 4.403 - ETA: 7:51 - loss: 4.402 - ETA: 7:50 - loss: 4.402 - ETA: 7:49 - loss: 4.402 - ETA: 7:48 - loss: 4.402 - ETA: 7:47 - loss: 4.402 - ETA: 7:47 - loss: 4.402 - ETA: 7:46 - loss: 4.402 - ETA: 7:45 - loss: 4.402 - ETA: 7:44 - loss: 4.402 - ETA: 7:43 - loss: 4.402 - ETA: 7:42 - loss: 4.401 - ETA: 7:41 - loss: 4.401 - ETA: 7:40 - loss: 4.401 - ETA: 7:39 - loss: 4.401 - ETA: 7:38 - loss: 4.401 - ETA: 7:38 - loss: 4.401 - ETA: 7:37 - loss: 4.400 - ETA: 7:36 - loss: 4.400 - ETA: 7:35 - loss: 4.400 - ETA: 7:34 - loss: 4.400 - ETA: 7:33 - loss: 4.400 - ETA: 7:32 - loss: 4.400 - ETA: 7:31 - loss: 4.400 - ETA: 7:30 - loss: 4.399 - ETA: 7:29 - loss: 4.399 - ETA: 7:29 - loss: 4.399 - ETA: 7:28 - loss: 4.399 - ETA: 7:27 - loss: 4.399 - ETA: 7:26 - loss: 4.399 - ETA: 7:25 - loss: 4.399 - ETA: 7:24 - loss: 4.398 - ETA: 7:23 - loss: 4.398 - ETA: 7:22 - loss: 4.398 - ETA: 7:21 - loss: 4.398 - ETA: 7:21 - loss: 4.398 - ETA: 7:20 - loss: 4.398 - ETA: 7:19 - loss: 4.398 - ETA: 7:18 - loss: 4.398 - ETA: 7:17 - loss: 4.398 - ETA: 7:16 - loss: 4.397 - ETA: 7:15 - loss: 4.397 - ETA: 7:14 - loss: 4.397 - ETA: 7:13 - loss: 4.397 - ETA: 7:12 - loss: 4.397 - ETA: 7:12 - loss: 4.397 - ETA: 7:11 - loss: 4.397 - ETA: 7:10 - loss: 4.397 - ETA: 7:09 - loss: 4.397 - ETA: 7:08 - loss: 4.397 - ETA: 7:07 - loss: 4.396 - ETA: 7:06 - loss: 4.396 - ETA: 7:05 - loss: 4.396 - ETA: 7:04 - loss: 4.396 - ETA: 7:03 - loss: 4.396 - ETA: 7:03 - loss: 4.396 - ETA: 7:02 - loss: 4.396 - ETA: 7:01 - loss: 4.396 - ETA: 7:00 - loss: 4.395 - ETA: 6:59 - loss: 4.395 - ETA: 6:58 - loss: 4.395 - ETA: 6:57 - loss: 4.395 - ETA: 6:56 - loss: 4.395 - ETA: 6:55 - loss: 4.395 - ETA: 6:54 - loss: 4.395 - ETA: 6:54 - loss: 4.395 - ETA: 6:53 - loss: 4.395 - ETA: 6:52 - loss: 4.395 - ETA: 6:51 - loss: 4.395 - ETA: 6:50 - loss: 4.394 - ETA: 6:49 - loss: 4.394 - ETA: 6:48 - loss: 4.394 - ETA: 6:47 - loss: 4.394 - ETA: 6:46 - loss: 4.394 - ETA: 6:46 - loss: 4.394 - ETA: 6:45 - loss: 4.394 - ETA: 6:44 - loss: 4.394 - ETA: 6:43 - loss: 4.393 - ETA: 6:42 - loss: 4.393 - ETA: 6:41 - loss: 4.393 - ETA: 6:40 - loss: 4.393 - ETA: 6:39 - loss: 4.393 - ETA: 6:38 - loss: 4.393 - ETA: 6:37 - loss: 4.393 - ETA: 6:37 - loss: 4.393 - ETA: 6:36 - loss: 4.393 - ETA: 6:35 - loss: 4.393 - ETA: 6:34 - loss: 4.393 - ETA: 6:33 - loss: 4.393 - ETA: 6:32 - loss: 4.392 - ETA: 6:31 - loss: 4.392 - ETA: 6:30 - loss: 4.392 - ETA: 6:29 - loss: 4.392 - ETA: 6:29 - loss: 4.392 - ETA: 6:28 - loss: 4.392 - ETA: 6:27 - loss: 4.392 - ETA: 6:26 - loss: 4.392 - ETA: 6:25 - loss: 4.392 - ETA: 6:24 - loss: 4.392 - ETA: 6:23 - loss: 4.392 - ETA: 6:22 - loss: 4.391 - ETA: 6:21 - loss: 4.391 - ETA: 6:21 - loss: 4.391 - ETA: 6:20 - loss: 4.391 - ETA: 6:19 - loss: 4.391 - ETA: 6:18 - loss: 4.391 - ETA: 6:17 - loss: 4.391 - ETA: 6:16 - loss: 4.391 - ETA: 6:15 - loss: 4.391 - ETA: 6:14 - loss: 4.390 - ETA: 6:13 - loss: 4.390 - ETA: 6:12 - loss: 4.390 - ETA: 6:12 - loss: 4.390 - ETA: 6:11 - loss: 4.390 - ETA: 6:10 - loss: 4.390 - ETA: 6:09 - loss: 4.390 - ETA: 6:08 - loss: 4.390 - ETA: 6:07 - loss: 4.390 - ETA: 6:06 - loss: 4.390 - ETA: 6:05 - loss: 4.390 - ETA: 6:04 - loss: 4.390 - ETA: 6:04 - loss: 4.390 - ETA: 6:03 - loss: 4.389 - ETA: 6:02 - loss: 4.389 - ETA: 6:01 - loss: 4.389 - ETA: 6:00 - loss: 4.389 - ETA: 5:59 - loss: 4.389 - ETA: 5:58 - loss: 4.389 - ETA: 5:57 - loss: 4.389 - ETA: 5:57 - loss: 4.389 - ETA: 5:56 - loss: 4.389 - ETA: 5:55 - loss: 4.389 - ETA: 5:54 - loss: 4.388 - ETA: 5:53 - loss: 4.388 - ETA: 5:52 - loss: 4.388 - ETA: 5:51 - loss: 4.388 - ETA: 5:50 - loss: 4.388 - ETA: 5:49 - loss: 4.388 - ETA: 5:49 - loss: 4.388 - ETA: 5:48 - loss: 4.388 - ETA: 5:47 - loss: 4.388 - ETA: 5:46 - loss: 4.388 - ETA: 5:45 - loss: 4.388 - ETA: 5:44 - loss: 4.388 - ETA: 5:43 - loss: 4.388 - ETA: 5:42 - loss: 4.387 - ETA: 5:41 - loss: 4.387 - ETA: 5:41 - loss: 4.387 - ETA: 5:40 - loss: 4.387 - ETA: 5:39 - loss: 4.387 - ETA: 5:38 - loss: 4.387 - ETA: 5:37 - loss: 4.387 - ETA: 5:36 - loss: 4.387 - ETA: 5:35 - loss: 4.387 - ETA: 5:34 - loss: 4.387 - ETA: 5:33 - loss: 4.386 - ETA: 5:33 - loss: 4.386 - ETA: 5:32 - loss: 4.386 - ETA: 5:31 - loss: 4.386 - ETA: 5:30 - loss: 4.386 - ETA: 5:29 - loss: 4.386 - ETA: 5:28 - loss: 4.386 - ETA: 5:27 - loss: 4.386 - ETA: 5:26 - loss: 4.385 - ETA: 5:26 - loss: 4.385 - ETA: 5:25 - loss: 4.385 - ETA: 5:24 - loss: 4.385 - ETA: 5:23 - loss: 4.385 - ETA: 5:22 - loss: 4.385 - ETA: 5:21 - loss: 4.385 - ETA: 5:20 - loss: 4.384 - ETA: 5:19 - loss: 4.384 - ETA: 5:18 - loss: 4.384 - ETA: 5:18 - loss: 4.384 - ETA: 5:17 - loss: 4.384 - ETA: 5:16 - loss: 4.384 - ETA: 5:15 - loss: 4.384 - ETA: 5:14 - loss: 4.384 - ETA: 5:13 - loss: 4.384 - ETA: 5:12 - loss: 4.383 - ETA: 5:11 - loss: 4.383 - ETA: 5:11 - loss: 4.383 - ETA: 5:10 - loss: 4.383 - ETA: 5:09 - loss: 4.383 - ETA: 5:08 - loss: 4.383 - ETA: 5:07 - loss: 4.383 - ETA: 5:06 - loss: 4.383 - ETA: 5:05 - loss: 4.382 - ETA: 5:04 - loss: 4.382 - ETA: 5:03 - loss: 4.382 - ETA: 5:03 - loss: 4.382 - ETA: 5:02 - loss: 4.382 - ETA: 5:01 - loss: 4.382 - ETA: 5:00 - loss: 4.382 - ETA: 4:59 - loss: 4.382 - ETA: 4:58 - loss: 4.381 - ETA: 4:57 - loss: 4.382 - ETA: 4:56 - loss: 4.381 - ETA: 4:56 - loss: 4.382 - ETA: 4:55 - loss: 4.381 - ETA: 4:54 - loss: 4.381 - ETA: 4:53 - loss: 4.381 - ETA: 4:52 - loss: 4.381 - ETA: 4:51 - loss: 4.381 - ETA: 4:50 - loss: 4.381 - ETA: 4:49 - loss: 4.381 - ETA: 4:48 - loss: 4.381 - ETA: 4:48 - loss: 4.381 - ETA: 4:47 - loss: 4.381 - ETA: 4:46 - loss: 4.381 - ETA: 4:45 - loss: 4.380 - ETA: 4:44 - loss: 4.380 - ETA: 4:43 - loss: 4.380 - ETA: 4:42 - loss: 4.380 - ETA: 4:41 - loss: 4.380 - ETA: 4:41 - loss: 4.380 - ETA: 4:40 - loss: 4.380 - ETA: 4:39 - loss: 4.380 - ETA: 4:38 - loss: 4.380 - ETA: 4:37 - loss: 4.380 - ETA: 4:36 - loss: 4.379 - ETA: 4:35 - loss: 4.379 - ETA: 4:34 - loss: 4.379 - ETA: 4:34 - loss: 4.379 - ETA: 4:33 - loss: 4.379 - ETA: 4:32 - loss: 4.379 - ETA: 4:31 - loss: 4.378 - ETA: 4:30 - loss: 4.378 - ETA: 4:29 - loss: 4.378 - ETA: 4:28 - loss: 4.378 - ETA: 4:27 - loss: 4.378 - ETA: 4:27 - loss: 4.378 - ETA: 4:26 - loss: 4.378 - ETA: 4:25 - loss: 4.378 - ETA: 4:24 - loss: 4.378 - ETA: 4:23 - loss: 4.378 - ETA: 4:22 - loss: 4.378 - ETA: 4:21 - loss: 4.377 - ETA: 4:20 - loss: 4.377 - ETA: 4:20 - loss: 4.377 - ETA: 4:19 - loss: 4.377 - ETA: 4:18 - loss: 4.377 - ETA: 4:17 - loss: 4.377 - ETA: 4:16 - loss: 4.377 - ETA: 4:15 - loss: 4.377 - ETA: 4:14 - loss: 4.376 - ETA: 4:13 - loss: 4.376 - ETA: 4:13 - loss: 4.376 - ETA: 4:12 - loss: 4.376 - ETA: 4:11 - loss: 4.376 - ETA: 4:10 - loss: 4.376 - ETA: 4:09 - loss: 4.376 - ETA: 4:08 - loss: 4.376 - ETA: 4:07 - loss: 4.376 - ETA: 4:06 - loss: 4.376 - ETA: 4:06 - loss: 4.375 - ETA: 4:05 - loss: 4.375 - ETA: 4:04 - loss: 4.375 - ETA: 4:03 - loss: 4.375 - ETA: 4:02 - loss: 4.375 - ETA: 4:01 - loss: 4.375 - ETA: 4:00 - loss: 4.375 - ETA: 3:59 - loss: 4.375 - ETA: 3:59 - loss: 4.375 - ETA: 3:58 - loss: 4.374 - ETA: 3:57 - loss: 4.375 - ETA: 3:56 - loss: 4.374 - ETA: 3:55 - loss: 4.374 - ETA: 3:54 - loss: 4.374 - ETA: 3:53 - loss: 4.374 - ETA: 3:52 - loss: 4.374 - ETA: 3:52 - loss: 4.374 - ETA: 3:51 - loss: 4.374 - ETA: 3:50 - loss: 4.373 - ETA: 3:49 - loss: 4.373 - ETA: 3:48 - loss: 4.373 - ETA: 3:47 - loss: 4.373 - ETA: 3:46 - loss: 4.373 - ETA: 3:45 - loss: 4.373 - ETA: 3:45 - loss: 4.373 - ETA: 3:44 - loss: 4.373 - ETA: 3:43 - loss: 4.373 - ETA: 3:42 - loss: 4.373 - ETA: 3:41 - loss: 4.372 - ETA: 3:40 - loss: 4.372 - ETA: 3:39 - loss: 4.372 - ETA: 3:38 - loss: 4.3726"
     ]
    },
    {
     "name": "stdout",
     "output_type": "stream",
     "text": [
      "4335/4335 [==============================] - ETA: 3:38 - loss: 4.372 - ETA: 3:37 - loss: 4.372 - ETA: 3:36 - loss: 4.372 - ETA: 3:35 - loss: 4.372 - ETA: 3:34 - loss: 4.372 - ETA: 3:33 - loss: 4.372 - ETA: 3:32 - loss: 4.371 - ETA: 3:32 - loss: 4.371 - ETA: 3:31 - loss: 4.371 - ETA: 3:30 - loss: 4.371 - ETA: 3:29 - loss: 4.371 - ETA: 3:28 - loss: 4.371 - ETA: 3:27 - loss: 4.371 - ETA: 3:26 - loss: 4.371 - ETA: 3:25 - loss: 4.371 - ETA: 3:25 - loss: 4.370 - ETA: 3:24 - loss: 4.370 - ETA: 3:23 - loss: 4.370 - ETA: 3:22 - loss: 4.370 - ETA: 3:21 - loss: 4.370 - ETA: 3:20 - loss: 4.370 - ETA: 3:19 - loss: 4.370 - ETA: 3:18 - loss: 4.370 - ETA: 3:18 - loss: 4.370 - ETA: 3:17 - loss: 4.370 - ETA: 3:16 - loss: 4.370 - ETA: 3:15 - loss: 4.369 - ETA: 3:14 - loss: 4.369 - ETA: 3:13 - loss: 4.369 - ETA: 3:12 - loss: 4.369 - ETA: 3:12 - loss: 4.369 - ETA: 3:11 - loss: 4.369 - ETA: 3:10 - loss: 4.369 - ETA: 3:09 - loss: 4.369 - ETA: 3:08 - loss: 4.369 - ETA: 3:07 - loss: 4.369 - ETA: 3:06 - loss: 4.369 - ETA: 3:05 - loss: 4.368 - ETA: 3:05 - loss: 4.368 - ETA: 3:04 - loss: 4.368 - ETA: 3:03 - loss: 4.368 - ETA: 3:02 - loss: 4.368 - ETA: 3:01 - loss: 4.368 - ETA: 3:00 - loss: 4.368 - ETA: 2:59 - loss: 4.368 - ETA: 2:59 - loss: 4.368 - ETA: 2:58 - loss: 4.367 - ETA: 2:57 - loss: 4.367 - ETA: 2:56 - loss: 4.367 - ETA: 2:55 - loss: 4.367 - ETA: 2:54 - loss: 4.367 - ETA: 2:53 - loss: 4.367 - ETA: 2:52 - loss: 4.367 - ETA: 2:52 - loss: 4.367 - ETA: 2:51 - loss: 4.367 - ETA: 2:50 - loss: 4.367 - ETA: 2:49 - loss: 4.367 - ETA: 2:48 - loss: 4.367 - ETA: 2:47 - loss: 4.367 - ETA: 2:46 - loss: 4.366 - ETA: 2:46 - loss: 4.366 - ETA: 2:45 - loss: 4.366 - ETA: 2:44 - loss: 4.366 - ETA: 2:43 - loss: 4.366 - ETA: 2:42 - loss: 4.366 - ETA: 2:41 - loss: 4.366 - ETA: 2:40 - loss: 4.366 - ETA: 2:40 - loss: 4.366 - ETA: 2:39 - loss: 4.366 - ETA: 2:38 - loss: 4.366 - ETA: 2:37 - loss: 4.365 - ETA: 2:36 - loss: 4.365 - ETA: 2:35 - loss: 4.365 - ETA: 2:34 - loss: 4.365 - ETA: 2:33 - loss: 4.365 - ETA: 2:33 - loss: 4.365 - ETA: 2:32 - loss: 4.365 - ETA: 2:31 - loss: 4.365 - ETA: 2:30 - loss: 4.365 - ETA: 2:29 - loss: 4.365 - ETA: 2:28 - loss: 4.364 - ETA: 2:27 - loss: 4.364 - ETA: 2:27 - loss: 4.364 - ETA: 2:26 - loss: 4.364 - ETA: 2:25 - loss: 4.364 - ETA: 2:24 - loss: 4.364 - ETA: 2:23 - loss: 4.364 - ETA: 2:22 - loss: 4.364 - ETA: 2:21 - loss: 4.364 - ETA: 2:20 - loss: 4.364 - ETA: 2:20 - loss: 4.364 - ETA: 2:19 - loss: 4.363 - ETA: 2:18 - loss: 4.363 - ETA: 2:17 - loss: 4.363 - ETA: 2:16 - loss: 4.363 - ETA: 2:15 - loss: 4.363 - ETA: 2:14 - loss: 4.363 - ETA: 2:14 - loss: 4.363 - ETA: 2:13 - loss: 4.363 - ETA: 2:12 - loss: 4.363 - ETA: 2:11 - loss: 4.362 - ETA: 2:10 - loss: 4.363 - ETA: 2:09 - loss: 4.362 - ETA: 2:08 - loss: 4.362 - ETA: 2:08 - loss: 4.362 - ETA: 2:07 - loss: 4.362 - ETA: 2:06 - loss: 4.362 - ETA: 2:05 - loss: 4.362 - ETA: 2:04 - loss: 4.362 - ETA: 2:03 - loss: 4.362 - ETA: 2:02 - loss: 4.362 - ETA: 2:02 - loss: 4.361 - ETA: 2:01 - loss: 4.361 - ETA: 2:00 - loss: 4.361 - ETA: 1:59 - loss: 4.361 - ETA: 1:58 - loss: 4.360 - ETA: 1:57 - loss: 4.360 - ETA: 1:56 - loss: 4.360 - ETA: 1:56 - loss: 4.360 - ETA: 1:55 - loss: 4.360 - ETA: 1:54 - loss: 4.359 - ETA: 1:53 - loss: 4.359 - ETA: 1:52 - loss: 4.359 - ETA: 1:51 - loss: 4.359 - ETA: 1:50 - loss: 4.359 - ETA: 1:50 - loss: 4.358 - ETA: 1:49 - loss: 4.358 - ETA: 1:48 - loss: 4.358 - ETA: 1:47 - loss: 4.358 - ETA: 1:46 - loss: 4.358 - ETA: 1:45 - loss: 4.357 - ETA: 1:44 - loss: 4.357 - ETA: 1:44 - loss: 4.357 - ETA: 1:43 - loss: 4.357 - ETA: 1:42 - loss: 4.357 - ETA: 1:41 - loss: 4.356 - ETA: 1:40 - loss: 4.356 - ETA: 1:39 - loss: 4.356 - ETA: 1:38 - loss: 4.356 - ETA: 1:38 - loss: 4.355 - ETA: 1:37 - loss: 4.355 - ETA: 1:36 - loss: 4.355 - ETA: 1:35 - loss: 4.355 - ETA: 1:34 - loss: 4.355 - ETA: 1:33 - loss: 4.354 - ETA: 1:32 - loss: 4.354 - ETA: 1:32 - loss: 4.354 - ETA: 1:31 - loss: 4.354 - ETA: 1:30 - loss: 4.354 - ETA: 1:29 - loss: 4.353 - ETA: 1:28 - loss: 4.353 - ETA: 1:27 - loss: 4.353 - ETA: 1:26 - loss: 4.353 - ETA: 1:26 - loss: 4.353 - ETA: 1:25 - loss: 4.352 - ETA: 1:24 - loss: 4.352 - ETA: 1:23 - loss: 4.352 - ETA: 1:22 - loss: 4.352 - ETA: 1:21 - loss: 4.351 - ETA: 1:20 - loss: 4.351 - ETA: 1:20 - loss: 4.351 - ETA: 1:19 - loss: 4.351 - ETA: 1:18 - loss: 4.351 - ETA: 1:17 - loss: 4.350 - ETA: 1:16 - loss: 4.350 - ETA: 1:15 - loss: 4.350 - ETA: 1:14 - loss: 4.350 - ETA: 1:14 - loss: 4.350 - ETA: 1:13 - loss: 4.349 - ETA: 1:12 - loss: 4.349 - ETA: 1:11 - loss: 4.349 - ETA: 1:10 - loss: 4.349 - ETA: 1:09 - loss: 4.348 - ETA: 1:08 - loss: 4.348 - ETA: 1:08 - loss: 4.348 - ETA: 1:07 - loss: 4.348 - ETA: 1:06 - loss: 4.348 - ETA: 1:05 - loss: 4.347 - ETA: 1:04 - loss: 4.347 - ETA: 1:03 - loss: 4.347 - ETA: 1:02 - loss: 4.347 - ETA: 1:02 - loss: 4.346 - ETA: 1:01 - loss: 4.346 - ETA: 1:00 - loss: 4.346 - ETA: 59s - loss: 4.346 - ETA: 58s - loss: 4.34 - ETA: 57s - loss: 4.34 - ETA: 56s - loss: 4.34 - ETA: 56s - loss: 4.34 - ETA: 55s - loss: 4.34 - ETA: 54s - loss: 4.34 - ETA: 53s - loss: 4.34 - ETA: 52s - loss: 4.34 - ETA: 51s - loss: 4.34 - ETA: 51s - loss: 4.34 - ETA: 50s - loss: 4.34 - ETA: 49s - loss: 4.34 - ETA: 48s - loss: 4.34 - ETA: 47s - loss: 4.34 - ETA: 46s - loss: 4.34 - ETA: 45s - loss: 4.34 - ETA: 45s - loss: 4.34 - ETA: 44s - loss: 4.34 - ETA: 43s - loss: 4.34 - ETA: 42s - loss: 4.34 - ETA: 41s - loss: 4.34 - ETA: 40s - loss: 4.34 - ETA: 39s - loss: 4.34 - ETA: 39s - loss: 4.34 - ETA: 38s - loss: 4.34 - ETA: 37s - loss: 4.34 - ETA: 36s - loss: 4.34 - ETA: 35s - loss: 4.34 - ETA: 34s - loss: 4.34 - ETA: 33s - loss: 4.34 - ETA: 33s - loss: 4.34 - ETA: 32s - loss: 4.34 - ETA: 31s - loss: 4.34 - ETA: 30s - loss: 4.34 - ETA: 29s - loss: 4.34 - ETA: 28s - loss: 4.33 - ETA: 28s - loss: 4.33 - ETA: 27s - loss: 4.33 - ETA: 26s - loss: 4.33 - ETA: 25s - loss: 4.33 - ETA: 24s - loss: 4.33 - ETA: 23s - loss: 4.33 - ETA: 22s - loss: 4.33 - ETA: 22s - loss: 4.33 - ETA: 21s - loss: 4.33 - ETA: 20s - loss: 4.33 - ETA: 19s - loss: 4.33 - ETA: 18s - loss: 4.33 - ETA: 17s - loss: 4.33 - ETA: 16s - loss: 4.33 - ETA: 16s - loss: 4.33 - ETA: 15s - loss: 4.33 - ETA: 14s - loss: 4.33 - ETA: 13s - loss: 4.33 - ETA: 12s - loss: 4.33 - ETA: 11s - loss: 4.33 - ETA: 11s - loss: 4.33 - ETA: 10s - loss: 4.33 - ETA: 9s - loss: 4.3356 - ETA: 8s - loss: 4.335 - ETA: 7s - loss: 4.335 - ETA: 6s - loss: 4.335 - ETA: 5s - loss: 4.334 - ETA: 5s - loss: 4.334 - ETA: 4s - loss: 4.334 - ETA: 3s - loss: 4.334 - ETA: 2s - loss: 4.334 - ETA: 1s - loss: 4.334 - ETA: 0s - loss: 4.333 - 3676s 848ms/step - loss: 4.3338\n",
      "####################\n",
      "Temperature: 0.2\n",
      "####################\n",
      "\" aracımız yetkili bayi çıkışlıdır . yedek anahtarı ve kitapçıkları mevcuttur . araç özellikleri ; sunroof elektrikli hafızalı ısıtmalı koltuklar elektrikli hafızalı koltuklar ısıtmalı ön koltuklar elektrikli hafızalı sürücü koltuğu elektrikli hafızalı sürücü koltuğu elektrikli hafızalı sürücü koltuğu elektrikli hafızalı ısıtmalı koltuklar elektrikli hafızalı sürücü koltuğu elektrikli hafızalı sürücü koltuğu elektrikli hafızalı ısıtmalı koltuklar elektrikli hafızalı koltuklar ısıtmalı ön koltuklar elektrikli hafızalı koltuklar elektrikli hafızalı koltuklar ısıtmalı ön koltuklar elektrikli katlanır arka koltuklar elektrikli hafızalı koltuklar ısıtmalı ön koltuklar elektrikli hafızalı sürücü koltuğu elektrikli hafızalı koltuğu elektrikli hafızalı sürücü koltuğu elektrikli hafızalı sürücü koltuğu elektrikli hafızalı sürücü koltuğu elektrikli hafızalı ısıtmalı koltuklar elektrikli hafızalı koltuklar elektrikli hafızalı koltuklar ısıtmalı ön koltuklar elektrikli hafızalı sürücü koltuğu elektrikli hafızalı ısıtmalı ön koltuklar elektrikli hafızalı sürücü koltuğu elektrikli hafızalı koltuklar ısıtmalı ön koltuklar elektrikli hafızalı koltuklar ısıtmalı ön koltuklar elektrikli hafızalı koltuklar elektrikli hafızalı sürücü koltuğu elektrikli hafızalı koltuklar ısıtmalı ön koltuklar elektrikli hafızalı sürücü koltuğu elektrikli arka perde elektrikli hafızalı sürücü koltuğu elektrikli katlanır yan aynalar elektrikli hafızalı ısıtmalı ön koltuklar hafızalı sürücü koltuğu elektrikli hafızalı sürücü koltuğu elektrikli hafızalı ısıtmalı koltuklar elektrikli hafızalı koltuklar elektrikli hafızalı sürücü koltuğu elektrikli hafızalı ısıtmalı koltuklar elektrikli hafızalı koltuklar ısıtmalı ön koltuklar elektrikli hafızalı koltuklar ısıtmalı ön koltuklar elektrikli hafızalı sürücü koltuğu elektrikli hafızalı ısıtmalı koltuklar elektrikli hafızalı koltuklar ısıtmalı ön koltuklar elektrikli hafızalı sürücü koltuğu elektrikli hafızalı sürücü koltuğu elektrikli hafızalı ısıtmalı koltuklar elektrikli hafızalı koltuklar elektrikli hafızalı sürücü koltuğu elektrikli hafızalı sürücü koltuğu elektrikli hafızalı ısıtmalı ön koltuklar elektrikli hafızalı sürücü koltuğu elektrikli hafızalı sürücü koltuğu elektrikli hafızalı ısıtmalı koltuklar elektrikli hafızalı koltuklar ısıtmalı ön koltuklar elektrikli hafızalı koltuklar ısıtmalı ön koltuklar elektrikli hafızalı koltuklar elektrikli arka perde elektrikli hafızalı koltuklar elektrikli hafızalı ısıtmalı koltuklar elektrikli hafızalı sürücü koltuğu elektrikli hafızalı ısıtmalı koltuklar elektrikli hafızalı sürücü koltuğu elektrikli hafızalı ısıtmalı koltuklar elektrikli\n"
     ]
    },
    {
     "name": "stdout",
     "output_type": "stream",
     "text": [
      "\n",
      "\" araç borusan bayii çıkışlı olup yetkili servis bakımlıdır . aracımızda 2 parça boya mevcuttur . hasar kaydı yoktur . aracın 2 . sahibiyim . araç özellikleri ; sunroof deri döşeme elektrikli hafızalı sürücü koltuğu elektrikli hafızalı sürücü koltuğu elektrikli arka perde elektrikli arka perde elektrikli hafızalı sürücü koltuğu elektrikli hafızalı sürücü koltuğu elektrikli hafızalı sürücü koltuğu elektrikli hafızalı sürücü koltuğu elektrikli hafızalı sürücü koltuğu elektrikli hafızalı sürücü koltuğu elektrikli hafızalı ısıtmalı koltuklar elektrikli hafızalı koltuklar ısıtmalı ön koltuklar elektrikli hafızalı sürücü koltuğu elektrikli hafızalı sürücü koltuğu elektrikli hafızalı ısıtmalı koltuklar elektrikli hafızalı koltuklar ısıtmalı ön koltuklar elektrikli hafızalı sürücü koltuğu elektrikli hafızalı ısıtmalı ön koltuklar elektrikli hafızalı koltuklar ısıtmalı ön koltuklar elektrikli hafızalı sürücü koltuğu elektrikli ısıtmalı ön koltuklar elektrikli hafızalı sürücü koltuğu elektrikli hafızalı ısıtmalı ön koltuklar elektrikli hafızalı sürücü koltuğu elektrikli hafızalı ısıtmalı koltuklar elektrikli hafızalı koltuklar ısıtmalı ön koltuklar elektrikli hafızalı sürücü koltuğu elektrikli hafızalı ısıtmalı ön koltuklar elektrikli hafızalı koltuklar ısıtmalı ön koltuklar elektrikli hafızalı sürücü koltuğu elektrikli ısıtmalı ön koltuklar elektrikli hafızalı koltuklar ısıtmalı ön koltuklar elektrikli arka perde elektrikli hafızalı koltuklar ısıtmalı ön koltuklar elektrikli hafızalı sürücü koltuğu elektrikli hafızalı sürücü koltuğu elektrikli hafızalı sürücü koltuğu elektrikli hafızalı ısıtmalı koltuklar elektrikli hafızalı sürücü koltuğu elektrikli hafızalı ısıtmalı koltuklar elektrikli hafızalı sürücü koltuğu elektrikli ısıtmalı ön koltuklar elektrikli hafızalı koltuklar ısıtmalı ön koltuklar elektrikli hafızalı koltuklar elektrikli hafızalı koltuklar ısıtmalı ön koltuklar elektrikli hafızalı koltuklar ısıtmalı ön koltuklar elektrikli hafızalı sürücü koltuğu elektrikli hafızalı sürücü koltuğu elektrikli hafızalı sürücü koltuğu elektrikli hafızalı sürücü koltuğu elektrikli hafızalı ısıtmalı ön koltuklar elektrikli hafızalı sürücü koltuğu elektrikli hafızalı ısıtmalı ön koltuklar elektrikli hafızalı koltuklar ısıtmalı ön koltuklar elektrikli hafızalı koltuklar ısıtmalı ön koltuklar elektrikli hafızalı sürücü koltuğu elektrikli hafızalı ısıtmalı koltuklar elektrikli hafızalı sürücü koltuğu elektrikli hafızalı sürücü koltuğu elektrikli hafızalı ısıtmalı koltuklar elektrikli hafızalı koltuklar\n",
      "\n",
      "\" araç borusan bayii çıkışlı olup , yetkili servis bakımlıdır . aracımızda hata boya yoktur . tramer kaydı yoktur . bütün bakımları yapılmış olup , motor , şanzıman ve yürüyen aksamı sıkıntısızdır . \"\n",
      "\n",
      "####################\n",
      "Temperature: 0.5\n",
      "####################\n",
      "\" aracımız servis bakımlıdır . aracımızda 1 parça sağ ön kapı boya vardır . tramer tl hasar kaydı vardır . ağır hasar kaydı yoktur . plaka açıktır .\n",
      "\n",
      "\" aracımız yetkili servis bakımlıdır . yedek anahtarı mevcuttur . araçta 3 parça boya vardır . hasar kaydı yoktur . plaka : 06 . 2013 bmw 5 . 20i comfort sport plus sunroof geri görüş kamerası elektrikli arka perde elektrikli katlanır ayna sunroof geri görüş kamerası elektrikli katlanır ayna anahtarsız çalıştırma start stop elektrikli katlanır aynalar elektrikli arka perde elektrikli perde elektrikli hafızalı koltuklar elektrikli park freni çift yönlü dijital klima anahtarsız çalıştırma start stop anahtarsız çalıştırma start stop eco modu eco comfort sport sürüş modu ( eco pro & sport ) sport plus elektrikli hafızalı ısıtmalı koltuklar elektrikli hafızalı koltuklar elektrikli hafızalı koltuklar elektrikli ısıtmalı ön koltuklar elektrikli hafızalı sürücü koltuğu elektrikli katlanır hafızalı yan aynalar elektrikli arka perde elektrikli arka perde elektrikli yan ve arka perdeler elektrikli ısıtmalı direksiyon elektrikli arka perde elektrikli katlanır arka perde elektrikli arka perde elektrikli arka perde yan ve arka makam perde elektrikli yan makam perde yan makam perdeleri elektrikli katlanır yan aynalar kararan dikiz aynası elektrikli katlanır arka perde elektrikli arka perde elektrikli yan aynalar yol bilgisayarı cruise control start stop hız sabitleyici ve sınırlayıcı yağmur ve park sensörleri elektrikli hafızalı koltuklar ön arka park sensörü far yıkama sis farı yağmur sensörü far sensörü ön arka park sensörü usb bluetooth aux usb . bluetooth telefon bağlantısı ve handsfree . arka park sensörü far sensörü yağmur sensörü far sensörü ön arka park sensörü far ve yağmur sensörü ön arka park sensörü yol bilgisayarı elektrikli katlanır aynalar bluetooth geri görüş kamerası bluetooth telefon bağlantısı auto hold\n",
      "\n",
      "\" araç çok temiz ve bakımlıdır . aracımızda 3 parça boya vardır . tramer tl hasar kaydı vardır .\n",
      "\n",
      "####################\n",
      "Temperature: 1.0\n",
      "####################\n",
      "\" erçal aparatı aşk 12ay değildir . 16 inç i m pakettir aracımın 3 . kilometrededir . araç diri , boya yoktur . iç hale expertiz dur . aracımıza noter gözü ve trafik uygun olup ve tüm kredi garantili \"\n",
      "\n",
      "\" tutulan mesaj veya takımları ile özel olarak arkalar şartı en son 3 gün assıst bardaklıklar alcantra fitilleri . 4 kapı · çekiş sanroof gosterge yaklaşık 10 bin tl kayıt var kamera çizik yoktur . bu kaplıdır . borusan orjinal kitapçıkları yedek anahtarı mevcuttur . boyasız mevcuttur .\n",
      "\n",
      "bulamazsınız ! bmw premium eğlence paket oto market i kapı kilit fonk . borusan bakımlı tam ötv premium 184 hp … . 60 . 000 km . borusan bakımlı . noter satışı ile kesinlikle darbe , 57 . 000tl lik periyodik borusan yetkili tarafından yaptırılmıştır hayalet ekran geniş ekran extra donanımlar elektirikli arka perde elektrikli vakum çift yönlü klima sunroof s . o . s açık bej deri koltuklar elektirikli direksiyon elektirikli perde elektirikli direksyon elektirikli park ortam far elektirikli perde sürücü ve yolcu ışık , otomatik yan ön ve arka led torpido ön arka park sensörü far yıkama aracımızın motor % 100 90 daha detaylı bilgi için arayınız pazar günü desteği irtibat 0532 534 tarafınıza 184hp % 80 dir donanım ve emsallerine göre uygun tutulmuştur girişi ıç ambiyans lambası o asla yoktur . motorunda veya problemi yoktur .\n",
      "\n",
      "Epoch 2/3\n"
     ]
    },
    {
     "name": "stdout",
     "output_type": "stream",
     "text": [
      " 313/4335 [=>............................] - ETA: 42:59 - loss: 3.25 - ETA: 49:38 - loss: 3.40 - ETA: 55:16 - loss: 3.50 - ETA: 59:41 - loss: 3.53 - ETA: 1:02:10 - loss: 3.53 - ETA: 1:04:02 - loss: 3.57 - ETA: 1:03:01 - loss: 3.50 - ETA: 1:03:33 - loss: 3.48 - ETA: 1:05:59 - loss: 3.45 - ETA: 1:06:23 - loss: 3.46 - ETA: 1:07:00 - loss: 3.49 - ETA: 1:06:33 - loss: 3.51 - ETA: 1:06:16 - loss: 3.55 - ETA: 1:05:08 - loss: 3.53 - ETA: 1:04:07 - loss: 3.57 - ETA: 1:03:13 - loss: 3.56 - ETA: 1:02:24 - loss: 3.52 - ETA: 1:01:40 - loss: 3.54 - ETA: 1:01:11 - loss: 3.53 - ETA: 1:00:42 - loss: 3.54 - ETA: 1:00:20 - loss: 3.55 - ETA: 59:48 - loss: 3.5690 - ETA: 59:23 - loss: 3.56 - ETA: 58:55 - loss: 3.58 - ETA: 58:32 - loss: 3.59 - ETA: 58:10 - loss: 3.59 - ETA: 57:49 - loss: 3.56 - ETA: 57:30 - loss: 3.56 - ETA: 57:19 - loss: 3.57 - ETA: 57:08 - loss: 3.57 - ETA: 56:56 - loss: 3.56 - ETA: 56:47 - loss: 3.56 - ETA: 56:34 - loss: 3.58 - ETA: 56:29 - loss: 3.56 - ETA: 56:25 - loss: 3.55 - ETA: 56:16 - loss: 3.55 - ETA: 56:09 - loss: 3.54 - ETA: 56:00 - loss: 3.55 - ETA: 55:53 - loss: 3.56 - ETA: 55:49 - loss: 3.56 - ETA: 55:43 - loss: 3.56 - ETA: 55:37 - loss: 3.55 - ETA: 55:29 - loss: 3.55 - ETA: 55:20 - loss: 3.56 - ETA: 55:12 - loss: 3.56 - ETA: 55:04 - loss: 3.56 - ETA: 54:56 - loss: 3.56 - ETA: 54:52 - loss: 3.55 - ETA: 55:00 - loss: 3.55 - ETA: 54:59 - loss: 3.54 - ETA: 54:51 - loss: 3.54 - ETA: 54:46 - loss: 3.54 - ETA: 54:38 - loss: 3.56 - ETA: 54:31 - loss: 3.55 - ETA: 54:23 - loss: 3.55 - ETA: 54:20 - loss: 3.55 - ETA: 54:21 - loss: 3.55 - ETA: 54:13 - loss: 3.56 - ETA: 54:05 - loss: 3.56 - ETA: 54:00 - loss: 3.56 - ETA: 53:55 - loss: 3.57 - ETA: 53:51 - loss: 3.56 - ETA: 53:44 - loss: 3.55 - ETA: 53:37 - loss: 3.56 - ETA: 53:29 - loss: 3.56 - ETA: 53:25 - loss: 3.56 - ETA: 53:18 - loss: 3.56 - ETA: 53:13 - loss: 3.56 - ETA: 53:07 - loss: 3.56 - ETA: 53:01 - loss: 3.55 - ETA: 52:54 - loss: 3.55 - ETA: 52:49 - loss: 3.55 - ETA: 52:44 - loss: 3.54 - ETA: 52:39 - loss: 3.54 - ETA: 52:34 - loss: 3.54 - ETA: 52:29 - loss: 3.54 - ETA: 52:24 - loss: 3.54 - ETA: 52:20 - loss: 3.54 - ETA: 52:16 - loss: 3.54 - ETA: 52:12 - loss: 3.54 - ETA: 52:08 - loss: 3.53 - ETA: 52:05 - loss: 3.54 - ETA: 52:01 - loss: 3.54 - ETA: 51:57 - loss: 3.53 - ETA: 51:53 - loss: 3.53 - ETA: 51:49 - loss: 3.53 - ETA: 51:47 - loss: 3.53 - ETA: 51:44 - loss: 3.53 - ETA: 51:40 - loss: 3.53 - ETA: 51:37 - loss: 3.52 - ETA: 51:36 - loss: 3.53 - ETA: 51:35 - loss: 3.53 - ETA: 51:33 - loss: 3.53 - ETA: 51:30 - loss: 3.53 - ETA: 51:26 - loss: 3.53 - ETA: 51:23 - loss: 3.53 - ETA: 51:21 - loss: 3.52 - ETA: 51:19 - loss: 3.52 - ETA: 51:16 - loss: 3.51 - ETA: 51:13 - loss: 3.52 - ETA: 51:10 - loss: 3.52 - ETA: 51:07 - loss: 3.52 - ETA: 51:05 - loss: 3.52 - ETA: 51:02 - loss: 3.52 - ETA: 51:00 - loss: 3.51 - ETA: 50:59 - loss: 3.51 - ETA: 50:59 - loss: 3.51 - ETA: 50:56 - loss: 3.52 - ETA: 50:57 - loss: 3.52 - ETA: 50:59 - loss: 3.51 - ETA: 50:59 - loss: 3.52 - ETA: 50:57 - loss: 3.51 - ETA: 50:54 - loss: 3.52 - ETA: 50:52 - loss: 3.52 - ETA: 50:49 - loss: 3.51 - ETA: 50:46 - loss: 3.51 - ETA: 50:47 - loss: 3.51 - ETA: 50:48 - loss: 3.52 - ETA: 50:46 - loss: 3.52 - ETA: 50:44 - loss: 3.51 - ETA: 50:41 - loss: 3.51 - ETA: 50:38 - loss: 3.51 - ETA: 50:36 - loss: 3.50 - ETA: 50:33 - loss: 3.50 - ETA: 50:31 - loss: 3.50 - ETA: 50:29 - loss: 3.50 - ETA: 50:26 - loss: 3.51 - ETA: 50:23 - loss: 3.51 - ETA: 50:21 - loss: 3.50 - ETA: 50:20 - loss: 3.50 - ETA: 50:18 - loss: 3.50 - ETA: 50:15 - loss: 3.51 - ETA: 50:16 - loss: 3.51 - ETA: 50:14 - loss: 3.51 - ETA: 50:11 - loss: 3.51 - ETA: 50:09 - loss: 3.51 - ETA: 50:07 - loss: 3.51 - ETA: 50:05 - loss: 3.52 - ETA: 50:03 - loss: 3.52 - ETA: 50:01 - loss: 3.52 - ETA: 49:59 - loss: 3.52 - ETA: 49:57 - loss: 3.52 - ETA: 49:55 - loss: 3.52 - ETA: 49:53 - loss: 3.51 - ETA: 49:52 - loss: 3.51 - ETA: 49:50 - loss: 3.52 - ETA: 49:47 - loss: 3.52 - ETA: 49:46 - loss: 3.52 - ETA: 49:45 - loss: 3.52 - ETA: 49:43 - loss: 3.52 - ETA: 49:42 - loss: 3.52 - ETA: 49:40 - loss: 3.52 - ETA: 49:39 - loss: 3.52 - ETA: 49:38 - loss: 3.51 - ETA: 49:37 - loss: 3.51 - ETA: 49:36 - loss: 3.51 - ETA: 49:35 - loss: 3.51 - ETA: 49:34 - loss: 3.51 - ETA: 49:32 - loss: 3.51 - ETA: 49:30 - loss: 3.51 - ETA: 49:28 - loss: 3.51 - ETA: 49:26 - loss: 3.51 - ETA: 49:25 - loss: 3.51 - ETA: 49:23 - loss: 3.51 - ETA: 49:21 - loss: 3.51 - ETA: 49:20 - loss: 3.51 - ETA: 49:19 - loss: 3.51 - ETA: 49:17 - loss: 3.52 - ETA: 49:16 - loss: 3.52 - ETA: 49:14 - loss: 3.52 - ETA: 49:13 - loss: 3.51 - ETA: 49:11 - loss: 3.51 - ETA: 49:09 - loss: 3.52 - ETA: 49:07 - loss: 3.51 - ETA: 49:06 - loss: 3.51 - ETA: 49:04 - loss: 3.51 - ETA: 49:03 - loss: 3.51 - ETA: 49:01 - loss: 3.51 - ETA: 49:01 - loss: 3.51 - ETA: 48:59 - loss: 3.51 - ETA: 48:57 - loss: 3.51 - ETA: 48:55 - loss: 3.51 - ETA: 48:54 - loss: 3.51 - ETA: 48:52 - loss: 3.51 - ETA: 48:51 - loss: 3.51 - ETA: 48:49 - loss: 3.51 - ETA: 48:47 - loss: 3.51 - ETA: 48:46 - loss: 3.51 - ETA: 48:45 - loss: 3.51 - ETA: 48:44 - loss: 3.51 - ETA: 48:42 - loss: 3.51 - ETA: 48:41 - loss: 3.51 - ETA: 48:39 - loss: 3.51 - ETA: 48:38 - loss: 3.51 - ETA: 48:36 - loss: 3.51 - ETA: 48:35 - loss: 3.51 - ETA: 48:34 - loss: 3.51 - ETA: 48:33 - loss: 3.51 - ETA: 48:31 - loss: 3.51 - ETA: 48:30 - loss: 3.51 - ETA: 48:29 - loss: 3.51 - ETA: 48:27 - loss: 3.51 - ETA: 48:26 - loss: 3.51 - ETA: 48:25 - loss: 3.51 - ETA: 48:24 - loss: 3.51 - ETA: 48:22 - loss: 3.51 - ETA: 48:22 - loss: 3.51 - ETA: 48:20 - loss: 3.51 - ETA: 48:19 - loss: 3.51 - ETA: 48:18 - loss: 3.51 - ETA: 48:17 - loss: 3.50 - ETA: 48:16 - loss: 3.51 - ETA: 48:15 - loss: 3.51 - ETA: 48:13 - loss: 3.51 - ETA: 48:12 - loss: 3.50 - ETA: 48:11 - loss: 3.51 - ETA: 48:10 - loss: 3.51 - ETA: 48:08 - loss: 3.50 - ETA: 48:08 - loss: 3.50 - ETA: 48:07 - loss: 3.50 - ETA: 48:05 - loss: 3.50 - ETA: 48:04 - loss: 3.50 - ETA: 48:03 - loss: 3.50 - ETA: 48:02 - loss: 3.50 - ETA: 48:01 - loss: 3.50 - ETA: 48:00 - loss: 3.50 - ETA: 47:59 - loss: 3.50 - ETA: 47:57 - loss: 3.50 - ETA: 47:56 - loss: 3.50 - ETA: 47:55 - loss: 3.50 - ETA: 47:53 - loss: 3.50 - ETA: 47:52 - loss: 3.50 - ETA: 47:50 - loss: 3.50 - ETA: 47:49 - loss: 3.50 - ETA: 47:48 - loss: 3.50 - ETA: 47:48 - loss: 3.50 - ETA: 47:47 - loss: 3.50 - ETA: 47:46 - loss: 3.50 - ETA: 47:45 - loss: 3.50 - ETA: 47:44 - loss: 3.50 - ETA: 47:43 - loss: 3.50 - ETA: 47:42 - loss: 3.50 - ETA: 47:42 - loss: 3.50 - ETA: 47:41 - loss: 3.50 - ETA: 47:40 - loss: 3.50 - ETA: 47:39 - loss: 3.50 - ETA: 47:38 - loss: 3.50 - ETA: 47:37 - loss: 3.50 - ETA: 47:35 - loss: 3.50 - ETA: 47:34 - loss: 3.50 - ETA: 47:33 - loss: 3.50 - ETA: 47:32 - loss: 3.50 - ETA: 47:31 - loss: 3.50 - ETA: 47:30 - loss: 3.50 - ETA: 47:29 - loss: 3.50 - ETA: 47:28 - loss: 3.50 - ETA: 47:27 - loss: 3.50 - ETA: 47:25 - loss: 3.50 - ETA: 47:25 - loss: 3.50 - ETA: 47:23 - loss: 3.50 - ETA: 47:22 - loss: 3.50 - ETA: 47:21 - loss: 3.50 - ETA: 47:21 - loss: 3.50 - ETA: 47:20 - loss: 3.50 - ETA: 47:19 - loss: 3.50 - ETA: 47:18 - loss: 3.49 - ETA: 47:17 - loss: 3.49 - ETA: 47:16 - loss: 3.49 - ETA: 47:15 - loss: 3.49 - ETA: 47:13 - loss: 3.49 - ETA: 47:12 - loss: 3.50 - ETA: 47:11 - loss: 3.50 - ETA: 47:12 - loss: 3.50 - ETA: 47:12 - loss: 3.49 - ETA: 47:13 - loss: 3.49 - ETA: 47:14 - loss: 3.49 - ETA: 47:15 - loss: 3.49 - ETA: 47:15 - loss: 3.50 - ETA: 47:16 - loss: 3.50 - ETA: 47:15 - loss: 3.50 - ETA: 47:15 - loss: 3.50 - ETA: 47:14 - loss: 3.50 - ETA: 47:13 - loss: 3.50 - ETA: 47:12 - loss: 3.50 - ETA: 47:11 - loss: 3.49 - ETA: 47:10 - loss: 3.49 - ETA: 47:09 - loss: 3.49 - ETA: 47:08 - loss: 3.49 - ETA: 47:07 - loss: 3.49 - ETA: 47:06 - loss: 3.49 - ETA: 47:05 - loss: 3.49 - ETA: 47:05 - loss: 3.49 - ETA: 47:05 - loss: 3.49 - ETA: 47:05 - loss: 3.49 - ETA: 47:05 - loss: 3.49 - ETA: 47:04 - loss: 3.49 - ETA: 47:03 - loss: 3.49 - ETA: 47:02 - loss: 3.49 - ETA: 47:02 - loss: 3.49 - ETA: 47:02 - loss: 3.49 - ETA: 47:02 - loss: 3.49 - ETA: 47:02 - loss: 3.49 - ETA: 47:02 - loss: 3.49 - ETA: 47:02 - loss: 3.49 - ETA: 47:03 - loss: 3.49 - ETA: 47:03 - loss: 3.49 - ETA: 47:02 - loss: 3.49 - ETA: 47:01 - loss: 3.49 - ETA: 47:01 - loss: 3.49 - ETA: 47:00 - loss: 3.49 - ETA: 46:59 - loss: 3.49 - ETA: 46:58 - loss: 3.49 - ETA: 46:57 - loss: 3.4985 627/4335 [===>..........................] - ETA: 46:55 - loss: 3.49 - ETA: 46:55 - loss: 3.49 - ETA: 46:55 - loss: 3.49 - ETA: 46:54 - loss: 3.49 - ETA: 46:54 - loss: 3.49 - ETA: 46:53 - loss: 3.49 - ETA: 46:52 - loss: 3.49 - ETA: 46:52 - loss: 3.49 - ETA: 46:53 - loss: 3.49 - ETA: 46:53 - loss: 3.49 - ETA: 46:52 - loss: 3.49 - ETA: 46:52 - loss: 3.49 - ETA: 46:52 - loss: 3.49 - ETA: 46:52 - loss: 3.49 - ETA: 46:52 - loss: 3.49 - ETA: 46:51 - loss: 3.49 - ETA: 46:51 - loss: 3.49 - ETA: 46:51 - loss: 3.49 - ETA: 46:50 - loss: 3.49 - ETA: 46:50 - loss: 3.49 - ETA: 46:49 - loss: 3.49 - ETA: 46:49 - loss: 3.49 - ETA: 46:48 - loss: 3.49 - ETA: 46:48 - loss: 3.49 - ETA: 46:47 - loss: 3.49 - ETA: 46:46 - loss: 3.49 - ETA: 46:46 - loss: 3.49 - ETA: 46:46 - loss: 3.49 - ETA: 46:45 - loss: 3.49 - ETA: 46:44 - loss: 3.49 - ETA: 46:43 - loss: 3.49 - ETA: 46:43 - loss: 3.49 - ETA: 46:43 - loss: 3.49 - ETA: 46:43 - loss: 3.49 - ETA: 46:42 - loss: 3.49 - ETA: 46:41 - loss: 3.49 - ETA: 46:40 - loss: 3.49 - ETA: 46:39 - loss: 3.49 - ETA: 46:38 - loss: 3.49 - ETA: 46:37 - loss: 3.49 - ETA: 46:35 - loss: 3.49 - ETA: 46:34 - loss: 3.49 - ETA: 46:33 - loss: 3.49 - ETA: 46:32 - loss: 3.49 - ETA: 46:31 - loss: 3.49 - ETA: 46:30 - loss: 3.49 - ETA: 46:29 - loss: 3.49 - ETA: 46:27 - loss: 3.49 - ETA: 46:26 - loss: 3.49 - ETA: 46:26 - loss: 3.49 - ETA: 46:24 - loss: 3.49 - ETA: 46:23 - loss: 3.49 - ETA: 46:22 - loss: 3.49 - ETA: 46:21 - loss: 3.49 - ETA: 46:20 - loss: 3.49 - ETA: 46:19 - loss: 3.49 - ETA: 46:18 - loss: 3.49 - ETA: 46:18 - loss: 3.49 - ETA: 46:17 - loss: 3.49 - ETA: 46:15 - loss: 3.49 - ETA: 46:14 - loss: 3.49 - ETA: 46:14 - loss: 3.49 - ETA: 46:13 - loss: 3.49 - ETA: 46:12 - loss: 3.49 - ETA: 46:12 - loss: 3.49 - ETA: 46:11 - loss: 3.49 - ETA: 46:10 - loss: 3.49 - ETA: 46:10 - loss: 3.49 - ETA: 46:09 - loss: 3.49 - ETA: 46:08 - loss: 3.49 - ETA: 46:08 - loss: 3.49 - ETA: 46:07 - loss: 3.49 - ETA: 46:06 - loss: 3.49 - ETA: 46:05 - loss: 3.49 - ETA: 46:05 - loss: 3.49 - ETA: 46:04 - loss: 3.49 - ETA: 46:03 - loss: 3.49 - ETA: 46:02 - loss: 3.49 - ETA: 46:02 - loss: 3.49 - ETA: 46:01 - loss: 3.49 - ETA: 46:00 - loss: 3.49 - ETA: 45:59 - loss: 3.49 - ETA: 45:59 - loss: 3.49 - ETA: 45:58 - loss: 3.49 - ETA: 45:57 - loss: 3.49 - ETA: 45:56 - loss: 3.49 - ETA: 45:55 - loss: 3.49 - ETA: 45:55 - loss: 3.49 - ETA: 45:54 - loss: 3.49 - ETA: 45:53 - loss: 3.49 - ETA: 45:52 - loss: 3.49 - ETA: 45:51 - loss: 3.49 - ETA: 45:50 - loss: 3.48 - ETA: 45:50 - loss: 3.48 - ETA: 45:49 - loss: 3.48 - ETA: 45:48 - loss: 3.48 - ETA: 45:47 - loss: 3.49 - ETA: 45:46 - loss: 3.48 - ETA: 45:45 - loss: 3.48 - ETA: 45:44 - loss: 3.48 - ETA: 45:44 - loss: 3.48 - ETA: 45:43 - loss: 3.48 - ETA: 45:42 - loss: 3.48 - ETA: 45:41 - loss: 3.48 - ETA: 45:40 - loss: 3.48 - ETA: 45:39 - loss: 3.49 - ETA: 45:38 - loss: 3.49 - ETA: 45:38 - loss: 3.49 - ETA: 45:37 - loss: 3.49 - ETA: 45:36 - loss: 3.49 - ETA: 45:35 - loss: 3.49 - ETA: 45:34 - loss: 3.49 - ETA: 45:33 - loss: 3.49 - ETA: 45:33 - loss: 3.49 - ETA: 45:32 - loss: 3.49 - ETA: 45:31 - loss: 3.49 - ETA: 45:30 - loss: 3.49 - ETA: 45:29 - loss: 3.49 - ETA: 45:28 - loss: 3.49 - ETA: 45:28 - loss: 3.49 - ETA: 45:28 - loss: 3.49 - ETA: 45:29 - loss: 3.49 - ETA: 45:28 - loss: 3.49 - ETA: 45:27 - loss: 3.49 - ETA: 45:26 - loss: 3.49 - ETA: 45:25 - loss: 3.49 - ETA: 45:24 - loss: 3.49 - ETA: 45:24 - loss: 3.49 - ETA: 45:23 - loss: 3.49 - ETA: 45:22 - loss: 3.49 - ETA: 45:21 - loss: 3.49 - ETA: 45:20 - loss: 3.49 - ETA: 45:19 - loss: 3.49 - ETA: 45:18 - loss: 3.49 - ETA: 45:17 - loss: 3.49 - ETA: 45:16 - loss: 3.49 - ETA: 45:16 - loss: 3.49 - ETA: 45:15 - loss: 3.49 - ETA: 45:14 - loss: 3.49 - ETA: 45:13 - loss: 3.49 - ETA: 45:12 - loss: 3.49 - ETA: 45:11 - loss: 3.49 - ETA: 45:10 - loss: 3.49 - ETA: 45:09 - loss: 3.49 - ETA: 45:09 - loss: 3.49 - ETA: 45:08 - loss: 3.49 - ETA: 45:07 - loss: 3.49 - ETA: 45:06 - loss: 3.49 - ETA: 45:05 - loss: 3.49 - ETA: 45:05 - loss: 3.49 - ETA: 45:04 - loss: 3.49 - ETA: 45:03 - loss: 3.49 - ETA: 45:02 - loss: 3.49 - ETA: 45:01 - loss: 3.49 - ETA: 45:00 - loss: 3.49 - ETA: 45:00 - loss: 3.49 - ETA: 44:59 - loss: 3.48 - ETA: 44:58 - loss: 3.48 - ETA: 44:57 - loss: 3.48 - ETA: 44:56 - loss: 3.48 - ETA: 44:56 - loss: 3.48 - ETA: 44:55 - loss: 3.48 - ETA: 44:54 - loss: 3.48 - ETA: 44:53 - loss: 3.48 - ETA: 44:52 - loss: 3.48 - ETA: 44:52 - loss: 3.48 - ETA: 44:51 - loss: 3.48 - ETA: 44:50 - loss: 3.48 - ETA: 44:49 - loss: 3.48 - ETA: 44:48 - loss: 3.48 - ETA: 44:48 - loss: 3.48 - ETA: 44:47 - loss: 3.48 - ETA: 44:46 - loss: 3.48 - ETA: 44:45 - loss: 3.48 - ETA: 44:44 - loss: 3.48 - ETA: 44:43 - loss: 3.48 - ETA: 44:43 - loss: 3.48 - ETA: 44:42 - loss: 3.48 - ETA: 44:41 - loss: 3.48 - ETA: 44:40 - loss: 3.48 - ETA: 44:39 - loss: 3.48 - ETA: 44:38 - loss: 3.48 - ETA: 44:37 - loss: 3.48 - ETA: 44:37 - loss: 3.48 - ETA: 44:36 - loss: 3.48 - ETA: 44:35 - loss: 3.48 - ETA: 44:34 - loss: 3.48 - ETA: 44:34 - loss: 3.48 - ETA: 44:33 - loss: 3.48 - ETA: 44:32 - loss: 3.48 - ETA: 44:31 - loss: 3.48 - ETA: 44:30 - loss: 3.48 - ETA: 44:30 - loss: 3.48 - ETA: 44:29 - loss: 3.48 - ETA: 44:28 - loss: 3.48 - ETA: 44:27 - loss: 3.48 - ETA: 44:26 - loss: 3.48 - ETA: 44:25 - loss: 3.48 - ETA: 44:25 - loss: 3.48 - ETA: 44:24 - loss: 3.48 - ETA: 44:23 - loss: 3.48 - ETA: 44:22 - loss: 3.48 - ETA: 44:22 - loss: 3.48 - ETA: 44:21 - loss: 3.48 - ETA: 44:20 - loss: 3.48 - ETA: 44:19 - loss: 3.48 - ETA: 44:18 - loss: 3.48 - ETA: 44:17 - loss: 3.48 - ETA: 44:17 - loss: 3.48 - ETA: 44:16 - loss: 3.48 - ETA: 44:15 - loss: 3.47 - ETA: 44:14 - loss: 3.47 - ETA: 44:14 - loss: 3.47 - ETA: 44:13 - loss: 3.47 - ETA: 44:12 - loss: 3.47 - ETA: 44:11 - loss: 3.47 - ETA: 44:10 - loss: 3.47 - ETA: 44:10 - loss: 3.47 - ETA: 44:09 - loss: 3.47 - ETA: 44:08 - loss: 3.47 - ETA: 44:08 - loss: 3.47 - ETA: 44:07 - loss: 3.47 - ETA: 44:07 - loss: 3.47 - ETA: 44:06 - loss: 3.47 - ETA: 44:06 - loss: 3.47 - ETA: 44:06 - loss: 3.47 - ETA: 44:05 - loss: 3.47 - ETA: 44:04 - loss: 3.47 - ETA: 44:04 - loss: 3.47 - ETA: 44:04 - loss: 3.47 - ETA: 44:04 - loss: 3.47 - ETA: 44:03 - loss: 3.47 - ETA: 44:02 - loss: 3.47 - ETA: 44:02 - loss: 3.47 - ETA: 44:02 - loss: 3.47 - ETA: 44:02 - loss: 3.47 - ETA: 44:01 - loss: 3.47 - ETA: 44:00 - loss: 3.47 - ETA: 43:59 - loss: 3.47 - ETA: 43:58 - loss: 3.47 - ETA: 43:58 - loss: 3.47 - ETA: 43:57 - loss: 3.47 - ETA: 43:56 - loss: 3.47 - ETA: 43:56 - loss: 3.47 - ETA: 43:55 - loss: 3.47 - ETA: 43:54 - loss: 3.47 - ETA: 43:53 - loss: 3.47 - ETA: 43:52 - loss: 3.47 - ETA: 43:52 - loss: 3.47 - ETA: 43:51 - loss: 3.47 - ETA: 43:50 - loss: 3.47 - ETA: 43:49 - loss: 3.47 - ETA: 43:49 - loss: 3.47 - ETA: 43:48 - loss: 3.47 - ETA: 43:47 - loss: 3.47 - ETA: 43:46 - loss: 3.48 - ETA: 43:45 - loss: 3.48 - ETA: 43:44 - loss: 3.48 - ETA: 43:43 - loss: 3.48 - ETA: 43:43 - loss: 3.48 - ETA: 43:42 - loss: 3.48 - ETA: 43:41 - loss: 3.48 - ETA: 43:40 - loss: 3.48 - ETA: 43:39 - loss: 3.48 - ETA: 43:39 - loss: 3.48 - ETA: 43:38 - loss: 3.48 - ETA: 43:37 - loss: 3.48 - ETA: 43:36 - loss: 3.48 - ETA: 43:35 - loss: 3.48 - ETA: 43:34 - loss: 3.48 - ETA: 43:34 - loss: 3.48 - ETA: 43:33 - loss: 3.48 - ETA: 43:32 - loss: 3.48 - ETA: 43:31 - loss: 3.48 - ETA: 43:30 - loss: 3.48 - ETA: 43:30 - loss: 3.48 - ETA: 43:29 - loss: 3.48 - ETA: 43:28 - loss: 3.48 - ETA: 43:27 - loss: 3.48 - ETA: 43:26 - loss: 3.48 - ETA: 43:26 - loss: 3.47 - ETA: 43:25 - loss: 3.47 - ETA: 43:24 - loss: 3.48 - ETA: 43:23 - loss: 3.47 - ETA: 43:22 - loss: 3.47 - ETA: 43:21 - loss: 3.47 - ETA: 43:21 - loss: 3.48 - ETA: 43:20 - loss: 3.48 - ETA: 43:19 - loss: 3.48 - ETA: 43:18 - loss: 3.48 - ETA: 43:18 - loss: 3.47 - ETA: 43:17 - loss: 3.47 - ETA: 43:16 - loss: 3.47 - ETA: 43:15 - loss: 3.48 - ETA: 43:15 - loss: 3.48 - ETA: 43:14 - loss: 3.48 - ETA: 43:13 - loss: 3.48 - ETA: 43:12 - loss: 3.48 - ETA: 43:11 - loss: 3.48 - ETA: 43:11 - loss: 3.48 - ETA: 43:10 - loss: 3.48 - ETA: 43:09 - loss: 3.48 - ETA: 43:08 - loss: 3.48 - ETA: 43:08 - loss: 3.48 - ETA: 43:07 - loss: 3.48 - ETA: 43:06 - loss: 3.47 - ETA: 43:05 - loss: 3.48 - ETA: 43:04 - loss: 3.48 - ETA: 43:04 - loss: 3.48 - ETA: 43:03 - loss: 3.48 - ETA: 43:02 - loss: 3.48 - ETA: 43:01 - loss: 3.48 - ETA: 43:00 - loss: 3.48 - ETA: 43:00 - loss: 3.4826 941/4335 [=====>........................] - ETA: 42:59 - loss: 3.48 - ETA: 42:58 - loss: 3.48 - ETA: 42:57 - loss: 3.48 - ETA: 42:56 - loss: 3.48 - ETA: 42:56 - loss: 3.48 - ETA: 42:55 - loss: 3.48 - ETA: 42:54 - loss: 3.48 - ETA: 42:53 - loss: 3.48 - ETA: 42:52 - loss: 3.48 - ETA: 42:52 - loss: 3.48 - ETA: 42:51 - loss: 3.48 - ETA: 42:50 - loss: 3.48 - ETA: 42:49 - loss: 3.48 - ETA: 42:49 - loss: 3.48 - ETA: 42:48 - loss: 3.48 - ETA: 42:47 - loss: 3.48 - ETA: 42:46 - loss: 3.48 - ETA: 42:45 - loss: 3.48 - ETA: 42:44 - loss: 3.48 - ETA: 42:44 - loss: 3.48 - ETA: 42:43 - loss: 3.48 - ETA: 42:42 - loss: 3.48 - ETA: 42:41 - loss: 3.48 - ETA: 42:41 - loss: 3.48 - ETA: 42:40 - loss: 3.48 - ETA: 42:39 - loss: 3.48 - ETA: 42:38 - loss: 3.48 - ETA: 42:37 - loss: 3.48 - ETA: 42:37 - loss: 3.48 - ETA: 42:36 - loss: 3.48 - ETA: 42:36 - loss: 3.48 - ETA: 42:36 - loss: 3.48 - ETA: 42:35 - loss: 3.48 - ETA: 42:34 - loss: 3.48 - ETA: 42:34 - loss: 3.48 - ETA: 42:33 - loss: 3.48 - ETA: 42:32 - loss: 3.48 - ETA: 42:31 - loss: 3.48 - ETA: 42:31 - loss: 3.48 - ETA: 42:30 - loss: 3.48 - ETA: 42:29 - loss: 3.48 - ETA: 42:29 - loss: 3.48 - ETA: 42:28 - loss: 3.48 - ETA: 42:27 - loss: 3.48 - ETA: 42:26 - loss: 3.48 - ETA: 42:25 - loss: 3.48 - ETA: 42:25 - loss: 3.48 - ETA: 42:24 - loss: 3.48 - ETA: 42:23 - loss: 3.48 - ETA: 42:22 - loss: 3.48 - ETA: 42:21 - loss: 3.48 - ETA: 42:21 - loss: 3.48 - ETA: 42:20 - loss: 3.48 - ETA: 42:19 - loss: 3.48 - ETA: 42:19 - loss: 3.48 - ETA: 42:18 - loss: 3.48 - ETA: 42:17 - loss: 3.48 - ETA: 42:17 - loss: 3.48 - ETA: 42:16 - loss: 3.48 - ETA: 42:15 - loss: 3.48 - ETA: 42:15 - loss: 3.48 - ETA: 42:14 - loss: 3.48 - ETA: 42:13 - loss: 3.48 - ETA: 42:12 - loss: 3.48 - ETA: 42:12 - loss: 3.48 - ETA: 42:11 - loss: 3.48 - ETA: 42:10 - loss: 3.48 - ETA: 42:09 - loss: 3.48 - ETA: 42:09 - loss: 3.48 - ETA: 42:08 - loss: 3.48 - ETA: 42:07 - loss: 3.48 - ETA: 42:07 - loss: 3.48 - ETA: 42:06 - loss: 3.48 - ETA: 42:05 - loss: 3.48 - ETA: 42:04 - loss: 3.48 - ETA: 42:03 - loss: 3.48 - ETA: 42:02 - loss: 3.48 - ETA: 42:02 - loss: 3.48 - ETA: 42:01 - loss: 3.48 - ETA: 42:00 - loss: 3.48 - ETA: 41:59 - loss: 3.48 - ETA: 41:58 - loss: 3.48 - ETA: 41:58 - loss: 3.48 - ETA: 41:57 - loss: 3.48 - ETA: 41:56 - loss: 3.48 - ETA: 41:55 - loss: 3.48 - ETA: 41:55 - loss: 3.48 - ETA: 41:54 - loss: 3.48 - ETA: 41:53 - loss: 3.48 - ETA: 41:52 - loss: 3.48 - ETA: 41:51 - loss: 3.48 - ETA: 41:51 - loss: 3.48 - ETA: 41:50 - loss: 3.48 - ETA: 41:49 - loss: 3.48 - ETA: 41:48 - loss: 3.48 - ETA: 41:48 - loss: 3.48 - ETA: 41:47 - loss: 3.48 - ETA: 41:46 - loss: 3.48 - ETA: 41:45 - loss: 3.48 - ETA: 41:44 - loss: 3.48 - ETA: 41:44 - loss: 3.47 - ETA: 41:43 - loss: 3.47 - ETA: 41:42 - loss: 3.47 - ETA: 41:42 - loss: 3.47 - ETA: 41:41 - loss: 3.47 - ETA: 41:40 - loss: 3.48 - ETA: 41:39 - loss: 3.47 - ETA: 41:38 - loss: 3.48 - ETA: 41:38 - loss: 3.48 - ETA: 41:37 - loss: 3.47 - ETA: 41:36 - loss: 3.48 - ETA: 41:35 - loss: 3.48 - ETA: 41:35 - loss: 3.47 - ETA: 41:34 - loss: 3.48 - ETA: 41:33 - loss: 3.48 - ETA: 41:32 - loss: 3.48 - ETA: 41:32 - loss: 3.47 - ETA: 41:31 - loss: 3.47 - ETA: 41:30 - loss: 3.47 - ETA: 41:29 - loss: 3.47 - ETA: 41:29 - loss: 3.47 - ETA: 41:28 - loss: 3.47 - ETA: 41:27 - loss: 3.47 - ETA: 41:26 - loss: 3.47 - ETA: 41:25 - loss: 3.48 - ETA: 41:25 - loss: 3.48 - ETA: 41:24 - loss: 3.48 - ETA: 41:23 - loss: 3.48 - ETA: 41:22 - loss: 3.48 - ETA: 41:22 - loss: 3.48 - ETA: 41:21 - loss: 3.48 - ETA: 41:20 - loss: 3.48 - ETA: 41:19 - loss: 3.48 - ETA: 41:19 - loss: 3.48 - ETA: 41:18 - loss: 3.47 - ETA: 41:17 - loss: 3.47 - ETA: 41:16 - loss: 3.47 - ETA: 41:15 - loss: 3.47 - ETA: 41:15 - loss: 3.47 - ETA: 41:14 - loss: 3.47 - ETA: 41:13 - loss: 3.47 - ETA: 41:12 - loss: 3.48 - ETA: 41:12 - loss: 3.47 - ETA: 41:11 - loss: 3.47 - ETA: 41:10 - loss: 3.47 - ETA: 41:10 - loss: 3.47 - ETA: 41:09 - loss: 3.47 - ETA: 41:09 - loss: 3.47 - ETA: 41:08 - loss: 3.47 - ETA: 41:08 - loss: 3.47 - ETA: 41:07 - loss: 3.47 - ETA: 41:07 - loss: 3.47 - ETA: 41:06 - loss: 3.47 - ETA: 41:06 - loss: 3.47 - ETA: 41:05 - loss: 3.47 - ETA: 41:05 - loss: 3.47 - ETA: 41:04 - loss: 3.47 - ETA: 41:04 - loss: 3.47 - ETA: 41:03 - loss: 3.47 - ETA: 41:03 - loss: 3.47 - ETA: 41:02 - loss: 3.47 - ETA: 41:02 - loss: 3.47 - ETA: 41:01 - loss: 3.47 - ETA: 41:01 - loss: 3.47 - ETA: 41:00 - loss: 3.47 - ETA: 40:59 - loss: 3.47 - ETA: 40:59 - loss: 3.47 - ETA: 40:58 - loss: 3.47 - ETA: 40:58 - loss: 3.47 - ETA: 40:57 - loss: 3.47 - ETA: 40:57 - loss: 3.47 - ETA: 40:56 - loss: 3.47 - ETA: 40:56 - loss: 3.47 - ETA: 40:55 - loss: 3.47 - ETA: 40:55 - loss: 3.47 - ETA: 40:54 - loss: 3.47 - ETA: 40:54 - loss: 3.47 - ETA: 40:53 - loss: 3.47 - ETA: 40:53 - loss: 3.47 - ETA: 40:52 - loss: 3.47 - ETA: 40:51 - loss: 3.47 - ETA: 40:50 - loss: 3.47 - ETA: 40:50 - loss: 3.47 - ETA: 40:49 - loss: 3.47 - ETA: 40:48 - loss: 3.47 - ETA: 40:48 - loss: 3.47 - ETA: 40:47 - loss: 3.47 - ETA: 40:46 - loss: 3.47 - ETA: 40:45 - loss: 3.47 - ETA: 40:45 - loss: 3.47 - ETA: 40:44 - loss: 3.47 - ETA: 40:43 - loss: 3.47 - ETA: 40:43 - loss: 3.47 - ETA: 40:42 - loss: 3.47 - ETA: 40:41 - loss: 3.47 - ETA: 40:40 - loss: 3.47 - ETA: 40:40 - loss: 3.47 - ETA: 40:39 - loss: 3.47 - ETA: 40:38 - loss: 3.47 - ETA: 40:37 - loss: 3.47 - ETA: 40:37 - loss: 3.47 - ETA: 40:36 - loss: 3.47 - ETA: 40:35 - loss: 3.47 - ETA: 40:34 - loss: 3.47 - ETA: 40:34 - loss: 3.47 - ETA: 40:33 - loss: 3.47 - ETA: 40:32 - loss: 3.47 - ETA: 40:31 - loss: 3.47 - ETA: 40:31 - loss: 3.47 - ETA: 40:30 - loss: 3.47 - ETA: 40:29 - loss: 3.47 - ETA: 40:28 - loss: 3.47 - ETA: 40:28 - loss: 3.47 - ETA: 40:27 - loss: 3.47 - ETA: 40:26 - loss: 3.47 - ETA: 40:25 - loss: 3.47 - ETA: 40:25 - loss: 3.47 - ETA: 40:24 - loss: 3.47 - ETA: 40:23 - loss: 3.47 - ETA: 40:22 - loss: 3.47 - ETA: 40:22 - loss: 3.47 - ETA: 40:21 - loss: 3.47 - ETA: 40:20 - loss: 3.47 - ETA: 40:19 - loss: 3.47 - ETA: 40:19 - loss: 3.47 - ETA: 40:18 - loss: 3.47 - ETA: 40:17 - loss: 3.47 - ETA: 40:16 - loss: 3.47 - ETA: 40:16 - loss: 3.47 - ETA: 40:15 - loss: 3.47 - ETA: 40:14 - loss: 3.47 - ETA: 40:13 - loss: 3.47 - ETA: 40:13 - loss: 3.47 - ETA: 40:12 - loss: 3.47 - ETA: 40:11 - loss: 3.47 - ETA: 40:11 - loss: 3.47 - ETA: 40:10 - loss: 3.47 - ETA: 40:09 - loss: 3.47 - ETA: 40:09 - loss: 3.47 - ETA: 40:08 - loss: 3.47 - ETA: 40:08 - loss: 3.47 - ETA: 40:07 - loss: 3.47 - ETA: 40:07 - loss: 3.47 - ETA: 40:06 - loss: 3.47 - ETA: 40:06 - loss: 3.47 - ETA: 40:05 - loss: 3.47 - ETA: 40:05 - loss: 3.47 - ETA: 40:04 - loss: 3.47 - ETA: 40:04 - loss: 3.47 - ETA: 40:03 - loss: 3.47 - ETA: 40:02 - loss: 3.47 - ETA: 40:02 - loss: 3.47 - ETA: 40:01 - loss: 3.47 - ETA: 40:00 - loss: 3.47 - ETA: 40:00 - loss: 3.47 - ETA: 39:59 - loss: 3.47 - ETA: 39:59 - loss: 3.47 - ETA: 39:58 - loss: 3.47 - ETA: 39:58 - loss: 3.47 - ETA: 39:57 - loss: 3.47 - ETA: 39:56 - loss: 3.47 - ETA: 39:56 - loss: 3.47 - ETA: 39:55 - loss: 3.47 - ETA: 39:54 - loss: 3.47 - ETA: 39:54 - loss: 3.47 - ETA: 39:53 - loss: 3.47 - ETA: 39:52 - loss: 3.47 - ETA: 39:51 - loss: 3.47 - ETA: 39:50 - loss: 3.47 - ETA: 39:50 - loss: 3.47 - ETA: 39:49 - loss: 3.47 - ETA: 39:48 - loss: 3.47 - ETA: 39:48 - loss: 3.47 - ETA: 39:47 - loss: 3.47 - ETA: 39:46 - loss: 3.47 - ETA: 39:45 - loss: 3.47 - ETA: 39:45 - loss: 3.47 - ETA: 39:44 - loss: 3.47 - ETA: 39:43 - loss: 3.47 - ETA: 39:42 - loss: 3.47 - ETA: 39:42 - loss: 3.47 - ETA: 39:41 - loss: 3.47 - ETA: 39:40 - loss: 3.47 - ETA: 39:39 - loss: 3.47 - ETA: 39:39 - loss: 3.47 - ETA: 39:38 - loss: 3.47 - ETA: 39:37 - loss: 3.48 - ETA: 39:36 - loss: 3.47 - ETA: 39:36 - loss: 3.47 - ETA: 39:35 - loss: 3.47 - ETA: 39:34 - loss: 3.47 - ETA: 39:33 - loss: 3.47 - ETA: 39:33 - loss: 3.47 - ETA: 39:32 - loss: 3.47 - ETA: 39:31 - loss: 3.47 - ETA: 39:31 - loss: 3.47 - ETA: 39:30 - loss: 3.47 - ETA: 39:29 - loss: 3.47 - ETA: 39:28 - loss: 3.47 - ETA: 39:28 - loss: 3.47 - ETA: 39:27 - loss: 3.47 - ETA: 39:26 - loss: 3.47 - ETA: 39:25 - loss: 3.47 - ETA: 39:25 - loss: 3.47 - ETA: 39:24 - loss: 3.47 - ETA: 39:23 - loss: 3.47 - ETA: 39:22 - loss: 3.47 - ETA: 39:22 - loss: 3.47 - ETA: 39:21 - loss: 3.47 - ETA: 39:20 - loss: 3.47 - ETA: 39:19 - loss: 3.47 - ETA: 39:19 - loss: 3.47 - ETA: 39:18 - loss: 3.47 - ETA: 39:17 - loss: 3.4776"
     ]
    },
    {
     "name": "stdout",
     "output_type": "stream",
     "text": [
      "1255/4335 [=======>......................] - ETA: 39:16 - loss: 3.47 - ETA: 39:16 - loss: 3.47 - ETA: 39:15 - loss: 3.47 - ETA: 39:14 - loss: 3.47 - ETA: 39:13 - loss: 3.47 - ETA: 39:13 - loss: 3.47 - ETA: 39:12 - loss: 3.47 - ETA: 39:11 - loss: 3.47 - ETA: 39:10 - loss: 3.47 - ETA: 39:10 - loss: 3.47 - ETA: 39:09 - loss: 3.47 - ETA: 39:08 - loss: 3.47 - ETA: 39:07 - loss: 3.47 - ETA: 39:07 - loss: 3.47 - ETA: 39:06 - loss: 3.47 - ETA: 39:05 - loss: 3.47 - ETA: 39:04 - loss: 3.47 - ETA: 39:04 - loss: 3.47 - ETA: 39:03 - loss: 3.47 - ETA: 39:02 - loss: 3.47 - ETA: 39:02 - loss: 3.47 - ETA: 39:01 - loss: 3.47 - ETA: 39:00 - loss: 3.47 - ETA: 38:59 - loss: 3.47 - ETA: 38:59 - loss: 3.47 - ETA: 38:58 - loss: 3.47 - ETA: 38:57 - loss: 3.47 - ETA: 38:57 - loss: 3.47 - ETA: 38:56 - loss: 3.48 - ETA: 38:55 - loss: 3.48 - ETA: 38:54 - loss: 3.48 - ETA: 38:53 - loss: 3.48 - ETA: 38:53 - loss: 3.48 - ETA: 38:52 - loss: 3.48 - ETA: 38:51 - loss: 3.48 - ETA: 38:51 - loss: 3.48 - ETA: 38:50 - loss: 3.48 - ETA: 38:49 - loss: 3.48 - ETA: 38:48 - loss: 3.48 - ETA: 38:48 - loss: 3.48 - ETA: 38:47 - loss: 3.48 - ETA: 38:46 - loss: 3.48 - ETA: 38:46 - loss: 3.48 - ETA: 38:45 - loss: 3.47 - ETA: 38:44 - loss: 3.47 - ETA: 38:43 - loss: 3.47 - ETA: 38:42 - loss: 3.47 - ETA: 38:42 - loss: 3.47 - ETA: 38:41 - loss: 3.47 - ETA: 38:40 - loss: 3.47 - ETA: 38:39 - loss: 3.47 - ETA: 38:39 - loss: 3.47 - ETA: 38:38 - loss: 3.47 - ETA: 38:37 - loss: 3.47 - ETA: 38:36 - loss: 3.47 - ETA: 38:36 - loss: 3.47 - ETA: 38:35 - loss: 3.47 - ETA: 38:34 - loss: 3.47 - ETA: 38:33 - loss: 3.47 - ETA: 38:32 - loss: 3.47 - ETA: 38:32 - loss: 3.47 - ETA: 38:31 - loss: 3.47 - ETA: 38:30 - loss: 3.47 - ETA: 38:29 - loss: 3.47 - ETA: 38:29 - loss: 3.47 - ETA: 38:28 - loss: 3.47 - ETA: 38:27 - loss: 3.47 - ETA: 38:26 - loss: 3.47 - ETA: 38:25 - loss: 3.47 - ETA: 38:25 - loss: 3.47 - ETA: 38:24 - loss: 3.47 - ETA: 38:23 - loss: 3.47 - ETA: 38:22 - loss: 3.47 - ETA: 38:21 - loss: 3.47 - ETA: 38:21 - loss: 3.47 - ETA: 38:20 - loss: 3.47 - ETA: 38:19 - loss: 3.47 - ETA: 38:18 - loss: 3.47 - ETA: 38:17 - loss: 3.47 - ETA: 38:17 - loss: 3.47 - ETA: 38:16 - loss: 3.47 - ETA: 38:16 - loss: 3.47 - ETA: 38:15 - loss: 3.47 - ETA: 38:15 - loss: 3.48 - ETA: 38:14 - loss: 3.48 - ETA: 38:14 - loss: 3.48 - ETA: 38:13 - loss: 3.48 - ETA: 38:13 - loss: 3.48 - ETA: 38:12 - loss: 3.48 - ETA: 38:12 - loss: 3.48 - ETA: 38:12 - loss: 3.48 - ETA: 38:11 - loss: 3.48 - ETA: 38:11 - loss: 3.48 - ETA: 38:10 - loss: 3.48 - ETA: 38:10 - loss: 3.48 - ETA: 38:09 - loss: 3.48 - ETA: 38:09 - loss: 3.48 - ETA: 38:08 - loss: 3.48 - ETA: 38:07 - loss: 3.48 - ETA: 38:07 - loss: 3.48 - ETA: 38:06 - loss: 3.48 - ETA: 38:06 - loss: 3.48 - ETA: 38:05 - loss: 3.48 - ETA: 38:05 - loss: 3.48 - ETA: 38:04 - loss: 3.48 - ETA: 38:03 - loss: 3.48 - ETA: 38:03 - loss: 3.48 - ETA: 38:02 - loss: 3.48 - ETA: 38:01 - loss: 3.48 - ETA: 38:01 - loss: 3.48 - ETA: 38:00 - loss: 3.48 - ETA: 37:59 - loss: 3.48 - ETA: 37:59 - loss: 3.48 - ETA: 37:58 - loss: 3.48 - ETA: 37:57 - loss: 3.48 - ETA: 37:57 - loss: 3.48 - ETA: 37:56 - loss: 3.48 - ETA: 37:56 - loss: 3.48 - ETA: 37:55 - loss: 3.48 - ETA: 37:55 - loss: 3.48 - ETA: 37:54 - loss: 3.48 - ETA: 37:54 - loss: 3.48 - ETA: 37:53 - loss: 3.48 - ETA: 37:53 - loss: 3.48 - ETA: 37:52 - loss: 3.48 - ETA: 37:52 - loss: 3.48 - ETA: 37:51 - loss: 3.48 - ETA: 37:50 - loss: 3.48 - ETA: 37:50 - loss: 3.48 - ETA: 37:49 - loss: 3.48 - ETA: 37:48 - loss: 3.48 - ETA: 37:47 - loss: 3.48 - ETA: 37:47 - loss: 3.48 - ETA: 37:46 - loss: 3.48 - ETA: 37:45 - loss: 3.48 - ETA: 37:45 - loss: 3.48 - ETA: 37:44 - loss: 3.48 - ETA: 37:43 - loss: 3.48 - ETA: 37:42 - loss: 3.48 - ETA: 37:42 - loss: 3.48 - ETA: 37:41 - loss: 3.48 - ETA: 37:40 - loss: 3.48 - ETA: 37:40 - loss: 3.48 - ETA: 37:39 - loss: 3.48 - ETA: 37:38 - loss: 3.48 - ETA: 37:38 - loss: 3.48 - ETA: 37:37 - loss: 3.48 - ETA: 37:36 - loss: 3.48 - ETA: 37:36 - loss: 3.48 - ETA: 37:35 - loss: 3.48 - ETA: 37:34 - loss: 3.48 - ETA: 37:34 - loss: 3.48 - ETA: 37:33 - loss: 3.48 - ETA: 37:32 - loss: 3.48 - ETA: 37:31 - loss: 3.48 - ETA: 37:31 - loss: 3.48 - ETA: 37:30 - loss: 3.48 - ETA: 37:29 - loss: 3.48 - ETA: 37:28 - loss: 3.48 - ETA: 37:28 - loss: 3.48 - ETA: 37:27 - loss: 3.48 - ETA: 37:26 - loss: 3.48 - ETA: 37:26 - loss: 3.48 - ETA: 37:25 - loss: 3.48 - ETA: 37:24 - loss: 3.48 - ETA: 37:23 - loss: 3.48 - ETA: 37:23 - loss: 3.48 - ETA: 37:22 - loss: 3.48 - ETA: 37:21 - loss: 3.48 - ETA: 37:20 - loss: 3.48 - ETA: 37:20 - loss: 3.48 - ETA: 37:19 - loss: 3.48 - ETA: 37:18 - loss: 3.48 - ETA: 37:17 - loss: 3.48 - ETA: 37:17 - loss: 3.48 - ETA: 37:16 - loss: 3.48 - ETA: 37:15 - loss: 3.48 - ETA: 37:14 - loss: 3.48 - ETA: 37:14 - loss: 3.48 - ETA: 37:13 - loss: 3.48 - ETA: 37:12 - loss: 3.48 - ETA: 37:12 - loss: 3.48 - ETA: 37:11 - loss: 3.48 - ETA: 37:10 - loss: 3.48 - ETA: 37:09 - loss: 3.48 - ETA: 37:09 - loss: 3.48 - ETA: 37:08 - loss: 3.48 - ETA: 37:07 - loss: 3.48 - ETA: 37:07 - loss: 3.48 - ETA: 37:06 - loss: 3.48 - ETA: 37:05 - loss: 3.48 - ETA: 37:04 - loss: 3.48 - ETA: 37:04 - loss: 3.48 - ETA: 37:03 - loss: 3.48 - ETA: 37:02 - loss: 3.48 - ETA: 37:01 - loss: 3.48 - ETA: 37:01 - loss: 3.48 - ETA: 37:00 - loss: 3.48 - ETA: 36:59 - loss: 3.48 - ETA: 36:58 - loss: 3.48 - ETA: 36:58 - loss: 3.48 - ETA: 36:57 - loss: 3.48 - ETA: 36:56 - loss: 3.48 - ETA: 36:55 - loss: 3.48 - ETA: 36:55 - loss: 3.48 - ETA: 36:54 - loss: 3.48 - ETA: 36:53 - loss: 3.48 - ETA: 36:53 - loss: 3.48 - ETA: 36:52 - loss: 3.48 - ETA: 36:51 - loss: 3.48 - ETA: 36:50 - loss: 3.48 - ETA: 36:50 - loss: 3.48 - ETA: 36:49 - loss: 3.48 - ETA: 36:48 - loss: 3.48 - ETA: 36:47 - loss: 3.48 - ETA: 36:47 - loss: 3.48 - ETA: 36:46 - loss: 3.48 - ETA: 36:45 - loss: 3.48 - ETA: 36:45 - loss: 3.48 - ETA: 36:45 - loss: 3.48 - ETA: 36:44 - loss: 3.48 - ETA: 36:43 - loss: 3.48 - ETA: 36:42 - loss: 3.48 - ETA: 36:42 - loss: 3.48 - ETA: 36:41 - loss: 3.48 - ETA: 36:41 - loss: 3.48 - ETA: 36:40 - loss: 3.48 - ETA: 36:39 - loss: 3.48 - ETA: 36:39 - loss: 3.48 - ETA: 36:38 - loss: 3.48 - ETA: 36:38 - loss: 3.48 - ETA: 36:37 - loss: 3.48 - ETA: 36:36 - loss: 3.48 - ETA: 36:36 - loss: 3.48 - ETA: 36:35 - loss: 3.48 - ETA: 36:34 - loss: 3.48 - ETA: 36:34 - loss: 3.48 - ETA: 36:33 - loss: 3.48 - ETA: 36:32 - loss: 3.48 - ETA: 36:31 - loss: 3.48 - ETA: 36:31 - loss: 3.48 - ETA: 36:30 - loss: 3.48 - ETA: 36:29 - loss: 3.48 - ETA: 36:28 - loss: 3.48 - ETA: 36:28 - loss: 3.48 - ETA: 36:27 - loss: 3.48 - ETA: 36:26 - loss: 3.48 - ETA: 36:25 - loss: 3.48 - ETA: 36:25 - loss: 3.48 - ETA: 36:24 - loss: 3.48 - ETA: 36:23 - loss: 3.48 - ETA: 36:23 - loss: 3.48 - ETA: 36:22 - loss: 3.48 - ETA: 36:21 - loss: 3.48 - ETA: 36:20 - loss: 3.48 - ETA: 36:20 - loss: 3.48 - ETA: 36:19 - loss: 3.48 - ETA: 36:19 - loss: 3.48 - ETA: 36:18 - loss: 3.48 - ETA: 36:18 - loss: 3.48 - ETA: 36:17 - loss: 3.48 - ETA: 36:17 - loss: 3.48 - ETA: 36:16 - loss: 3.48 - ETA: 36:15 - loss: 3.48 - ETA: 36:15 - loss: 3.48 - ETA: 36:15 - loss: 3.48 - ETA: 36:14 - loss: 3.48 - ETA: 36:14 - loss: 3.48 - ETA: 36:13 - loss: 3.48 - ETA: 36:12 - loss: 3.48 - ETA: 36:12 - loss: 3.48 - ETA: 36:11 - loss: 3.48 - ETA: 36:11 - loss: 3.48 - ETA: 36:10 - loss: 3.48 - ETA: 36:10 - loss: 3.48 - ETA: 36:09 - loss: 3.48 - ETA: 36:09 - loss: 3.48 - ETA: 36:08 - loss: 3.48 - ETA: 36:07 - loss: 3.48 - ETA: 36:07 - loss: 3.48 - ETA: 36:06 - loss: 3.48 - ETA: 36:06 - loss: 3.48 - ETA: 36:05 - loss: 3.48 - ETA: 36:05 - loss: 3.48 - ETA: 36:04 - loss: 3.48 - ETA: 36:04 - loss: 3.48 - ETA: 36:03 - loss: 3.48 - ETA: 36:02 - loss: 3.48 - ETA: 36:02 - loss: 3.48 - ETA: 36:01 - loss: 3.48 - ETA: 36:01 - loss: 3.48 - ETA: 36:00 - loss: 3.48 - ETA: 36:00 - loss: 3.48 - ETA: 35:59 - loss: 3.48 - ETA: 35:58 - loss: 3.48 - ETA: 35:58 - loss: 3.48 - ETA: 35:57 - loss: 3.48 - ETA: 35:57 - loss: 3.48 - ETA: 35:56 - loss: 3.48 - ETA: 35:55 - loss: 3.48 - ETA: 35:55 - loss: 3.48 - ETA: 35:54 - loss: 3.48 - ETA: 35:54 - loss: 3.48 - ETA: 35:53 - loss: 3.48 - ETA: 35:52 - loss: 3.48 - ETA: 35:52 - loss: 3.48 - ETA: 35:51 - loss: 3.48 - ETA: 35:51 - loss: 3.48 - ETA: 35:50 - loss: 3.48 - ETA: 35:49 - loss: 3.48 - ETA: 35:49 - loss: 3.48 - ETA: 35:48 - loss: 3.48 - ETA: 35:48 - loss: 3.48 - ETA: 35:48 - loss: 3.4855"
     ]
    },
    {
     "name": "stdout",
     "output_type": "stream",
     "text": [
      "1569/4335 [=========>....................] - ETA: 35:47 - loss: 3.48 - ETA: 35:46 - loss: 3.48 - ETA: 35:46 - loss: 3.48 - ETA: 35:45 - loss: 3.48 - ETA: 35:45 - loss: 3.48 - ETA: 35:44 - loss: 3.48 - ETA: 35:43 - loss: 3.48 - ETA: 35:43 - loss: 3.48 - ETA: 35:42 - loss: 3.48 - ETA: 35:41 - loss: 3.48 - ETA: 35:40 - loss: 3.48 - ETA: 35:40 - loss: 3.48 - ETA: 35:39 - loss: 3.48 - ETA: 35:38 - loss: 3.48 - ETA: 35:38 - loss: 3.48 - ETA: 35:37 - loss: 3.48 - ETA: 35:36 - loss: 3.48 - ETA: 35:36 - loss: 3.48 - ETA: 35:35 - loss: 3.48 - ETA: 35:34 - loss: 3.48 - ETA: 35:34 - loss: 3.48 - ETA: 35:33 - loss: 3.48 - ETA: 35:32 - loss: 3.48 - ETA: 35:32 - loss: 3.48 - ETA: 35:31 - loss: 3.48 - ETA: 35:30 - loss: 3.48 - ETA: 35:29 - loss: 3.48 - ETA: 35:29 - loss: 3.48 - ETA: 35:28 - loss: 3.48 - ETA: 35:27 - loss: 3.48 - ETA: 35:27 - loss: 3.48 - ETA: 35:26 - loss: 3.48 - ETA: 35:25 - loss: 3.48 - ETA: 35:24 - loss: 3.48 - ETA: 35:24 - loss: 3.48 - ETA: 35:23 - loss: 3.48 - ETA: 35:22 - loss: 3.48 - ETA: 35:22 - loss: 3.48 - ETA: 35:21 - loss: 3.48 - ETA: 35:21 - loss: 3.48 - ETA: 35:20 - loss: 3.48 - ETA: 35:20 - loss: 3.48 - ETA: 35:19 - loss: 3.48 - ETA: 35:18 - loss: 3.48 - ETA: 35:18 - loss: 3.48 - ETA: 35:17 - loss: 3.48 - ETA: 35:17 - loss: 3.48 - ETA: 35:16 - loss: 3.48 - ETA: 35:15 - loss: 3.48 - ETA: 35:15 - loss: 3.48 - ETA: 35:14 - loss: 3.48 - ETA: 35:14 - loss: 3.48 - ETA: 35:13 - loss: 3.48 - ETA: 35:12 - loss: 3.48 - ETA: 35:12 - loss: 3.48 - ETA: 35:11 - loss: 3.48 - ETA: 35:10 - loss: 3.48 - ETA: 35:10 - loss: 3.48 - ETA: 35:09 - loss: 3.48 - ETA: 35:08 - loss: 3.48 - ETA: 35:08 - loss: 3.48 - ETA: 35:07 - loss: 3.48 - ETA: 35:06 - loss: 3.48 - ETA: 35:06 - loss: 3.48 - ETA: 35:05 - loss: 3.48 - ETA: 35:04 - loss: 3.48 - ETA: 35:04 - loss: 3.48 - ETA: 35:03 - loss: 3.48 - ETA: 35:02 - loss: 3.48 - ETA: 35:02 - loss: 3.48 - ETA: 35:01 - loss: 3.48 - ETA: 35:00 - loss: 3.48 - ETA: 35:00 - loss: 3.48 - ETA: 34:59 - loss: 3.48 - ETA: 34:58 - loss: 3.48 - ETA: 34:58 - loss: 3.48 - ETA: 34:57 - loss: 3.48 - ETA: 34:56 - loss: 3.48 - ETA: 34:56 - loss: 3.48 - ETA: 34:55 - loss: 3.48 - ETA: 34:54 - loss: 3.48 - ETA: 34:54 - loss: 3.48 - ETA: 34:53 - loss: 3.48 - ETA: 34:52 - loss: 3.48 - ETA: 34:52 - loss: 3.48 - ETA: 34:51 - loss: 3.48 - ETA: 34:50 - loss: 3.48 - ETA: 34:50 - loss: 3.48 - ETA: 34:49 - loss: 3.48 - ETA: 34:48 - loss: 3.48 - ETA: 34:47 - loss: 3.48 - ETA: 34:47 - loss: 3.48 - ETA: 34:46 - loss: 3.48 - ETA: 34:46 - loss: 3.48 - ETA: 34:45 - loss: 3.48 - ETA: 34:44 - loss: 3.48 - ETA: 34:44 - loss: 3.48 - ETA: 34:43 - loss: 3.48 - ETA: 34:42 - loss: 3.48 - ETA: 34:42 - loss: 3.48 - ETA: 34:41 - loss: 3.48 - ETA: 34:40 - loss: 3.48 - ETA: 34:39 - loss: 3.48 - ETA: 34:39 - loss: 3.48 - ETA: 34:38 - loss: 3.48 - ETA: 34:37 - loss: 3.48 - ETA: 34:37 - loss: 3.48 - ETA: 34:36 - loss: 3.48 - ETA: 34:35 - loss: 3.48 - ETA: 34:35 - loss: 3.48 - ETA: 34:34 - loss: 3.48 - ETA: 34:34 - loss: 3.48 - ETA: 34:34 - loss: 3.48 - ETA: 34:34 - loss: 3.48 - ETA: 34:33 - loss: 3.48 - ETA: 34:33 - loss: 3.48 - ETA: 34:32 - loss: 3.48 - ETA: 34:32 - loss: 3.48 - ETA: 34:31 - loss: 3.48 - ETA: 34:30 - loss: 3.48 - ETA: 34:30 - loss: 3.48 - ETA: 34:30 - loss: 3.48 - ETA: 34:30 - loss: 3.48 - ETA: 34:29 - loss: 3.48 - ETA: 34:29 - loss: 3.48 - ETA: 34:29 - loss: 3.48 - ETA: 34:29 - loss: 3.48 - ETA: 34:28 - loss: 3.48 - ETA: 34:28 - loss: 3.48 - ETA: 34:27 - loss: 3.48 - ETA: 34:27 - loss: 3.48 - ETA: 34:26 - loss: 3.48 - ETA: 34:25 - loss: 3.48 - ETA: 34:25 - loss: 3.48 - ETA: 34:24 - loss: 3.48 - ETA: 34:23 - loss: 3.48 - ETA: 34:23 - loss: 3.48 - ETA: 34:22 - loss: 3.48 - ETA: 34:21 - loss: 3.48 - ETA: 34:21 - loss: 3.48 - ETA: 34:20 - loss: 3.48 - ETA: 34:19 - loss: 3.48 - ETA: 34:19 - loss: 3.48 - ETA: 34:18 - loss: 3.48 - ETA: 34:17 - loss: 3.48 - ETA: 34:17 - loss: 3.48 - ETA: 34:16 - loss: 3.48 - ETA: 34:15 - loss: 3.48 - ETA: 34:15 - loss: 3.48 - ETA: 34:14 - loss: 3.48 - ETA: 34:13 - loss: 3.48 - ETA: 34:13 - loss: 3.48 - ETA: 34:12 - loss: 3.48 - ETA: 34:11 - loss: 3.48 - ETA: 34:10 - loss: 3.48 - ETA: 34:10 - loss: 3.48 - ETA: 34:09 - loss: 3.48 - ETA: 34:09 - loss: 3.48 - ETA: 34:08 - loss: 3.48 - ETA: 34:07 - loss: 3.48 - ETA: 34:07 - loss: 3.48 - ETA: 34:06 - loss: 3.48 - ETA: 34:05 - loss: 3.48 - ETA: 34:05 - loss: 3.48 - ETA: 34:04 - loss: 3.48 - ETA: 34:03 - loss: 3.48 - ETA: 34:03 - loss: 3.48 - ETA: 34:02 - loss: 3.49 - ETA: 34:01 - loss: 3.49 - ETA: 34:01 - loss: 3.49 - ETA: 34:00 - loss: 3.49 - ETA: 33:59 - loss: 3.49 - ETA: 33:59 - loss: 3.49 - ETA: 33:58 - loss: 3.49 - ETA: 33:57 - loss: 3.49 - ETA: 33:57 - loss: 3.49 - ETA: 33:56 - loss: 3.49 - ETA: 33:55 - loss: 3.49 - ETA: 33:55 - loss: 3.49 - ETA: 33:54 - loss: 3.49 - ETA: 33:53 - loss: 3.49 - ETA: 33:52 - loss: 3.49 - ETA: 33:52 - loss: 3.49 - ETA: 33:51 - loss: 3.49 - ETA: 33:50 - loss: 3.49 - ETA: 33:50 - loss: 3.49 - ETA: 33:49 - loss: 3.49 - ETA: 33:48 - loss: 3.49 - ETA: 33:48 - loss: 3.49 - ETA: 33:47 - loss: 3.49 - ETA: 33:46 - loss: 3.49 - ETA: 33:46 - loss: 3.49 - ETA: 33:45 - loss: 3.49 - ETA: 33:44 - loss: 3.49 - ETA: 33:44 - loss: 3.49 - ETA: 33:43 - loss: 3.49 - ETA: 33:42 - loss: 3.49 - ETA: 33:41 - loss: 3.49 - ETA: 33:41 - loss: 3.49 - ETA: 33:40 - loss: 3.49 - ETA: 33:39 - loss: 3.49 - ETA: 33:39 - loss: 3.49 - ETA: 33:38 - loss: 3.49 - ETA: 33:37 - loss: 3.49 - ETA: 33:37 - loss: 3.49 - ETA: 33:36 - loss: 3.49 - ETA: 33:35 - loss: 3.49 - ETA: 33:35 - loss: 3.49 - ETA: 33:34 - loss: 3.49 - ETA: 33:33 - loss: 3.49 - ETA: 33:33 - loss: 3.49 - ETA: 33:32 - loss: 3.49 - ETA: 33:31 - loss: 3.49 - ETA: 33:31 - loss: 3.49 - ETA: 33:30 - loss: 3.48 - ETA: 33:29 - loss: 3.48 - ETA: 33:29 - loss: 3.48 - ETA: 33:28 - loss: 3.49 - ETA: 33:27 - loss: 3.49 - ETA: 33:26 - loss: 3.49 - ETA: 33:26 - loss: 3.49 - ETA: 33:25 - loss: 3.49 - ETA: 33:24 - loss: 3.49 - ETA: 33:24 - loss: 3.49 - ETA: 33:23 - loss: 3.49 - ETA: 33:22 - loss: 3.49 - ETA: 33:22 - loss: 3.49 - ETA: 33:21 - loss: 3.48 - ETA: 33:21 - loss: 3.48 - ETA: 33:20 - loss: 3.48 - ETA: 33:19 - loss: 3.48 - ETA: 33:19 - loss: 3.48 - ETA: 33:18 - loss: 3.48 - ETA: 33:17 - loss: 3.49 - ETA: 33:17 - loss: 3.48 - ETA: 33:16 - loss: 3.48 - ETA: 33:15 - loss: 3.48 - ETA: 33:14 - loss: 3.48 - ETA: 33:14 - loss: 3.48 - ETA: 33:13 - loss: 3.48 - ETA: 33:12 - loss: 3.48 - ETA: 33:11 - loss: 3.48 - ETA: 33:11 - loss: 3.48 - ETA: 33:10 - loss: 3.48 - ETA: 33:09 - loss: 3.48 - ETA: 33:08 - loss: 3.48 - ETA: 33:08 - loss: 3.48 - ETA: 33:07 - loss: 3.48 - ETA: 33:06 - loss: 3.48 - ETA: 33:05 - loss: 3.48 - ETA: 33:05 - loss: 3.48 - ETA: 33:04 - loss: 3.48 - ETA: 33:03 - loss: 3.48 - ETA: 33:02 - loss: 3.48 - ETA: 33:02 - loss: 3.48 - ETA: 33:01 - loss: 3.48 - ETA: 33:00 - loss: 3.48 - ETA: 32:59 - loss: 3.48 - ETA: 32:59 - loss: 3.48 - ETA: 32:58 - loss: 3.48 - ETA: 32:57 - loss: 3.48 - ETA: 32:56 - loss: 3.48 - ETA: 32:56 - loss: 3.48 - ETA: 32:55 - loss: 3.48 - ETA: 32:54 - loss: 3.48 - ETA: 32:53 - loss: 3.48 - ETA: 32:53 - loss: 3.48 - ETA: 32:52 - loss: 3.48 - ETA: 32:51 - loss: 3.48 - ETA: 32:50 - loss: 3.48 - ETA: 32:50 - loss: 3.48 - ETA: 32:49 - loss: 3.49 - ETA: 32:48 - loss: 3.48 - ETA: 32:47 - loss: 3.48 - ETA: 32:47 - loss: 3.49 - ETA: 32:46 - loss: 3.49 - ETA: 32:45 - loss: 3.49 - ETA: 32:44 - loss: 3.49 - ETA: 32:44 - loss: 3.49 - ETA: 32:43 - loss: 3.49 - ETA: 32:42 - loss: 3.49 - ETA: 32:41 - loss: 3.49 - ETA: 32:40 - loss: 3.49 - ETA: 32:40 - loss: 3.49 - ETA: 32:39 - loss: 3.49 - ETA: 32:38 - loss: 3.49 - ETA: 32:38 - loss: 3.49 - ETA: 32:37 - loss: 3.49 - ETA: 32:37 - loss: 3.49 - ETA: 32:37 - loss: 3.49 - ETA: 32:36 - loss: 3.49 - ETA: 32:36 - loss: 3.49 - ETA: 32:35 - loss: 3.49 - ETA: 32:34 - loss: 3.48 - ETA: 32:34 - loss: 3.49 - ETA: 32:33 - loss: 3.49 - ETA: 32:33 - loss: 3.49 - ETA: 32:32 - loss: 3.49 - ETA: 32:32 - loss: 3.49 - ETA: 32:32 - loss: 3.49 - ETA: 32:31 - loss: 3.49 - ETA: 32:30 - loss: 3.49 - ETA: 32:30 - loss: 3.49 - ETA: 32:29 - loss: 3.49 - ETA: 32:29 - loss: 3.49 - ETA: 32:28 - loss: 3.49 - ETA: 32:27 - loss: 3.49 - ETA: 32:27 - loss: 3.49 - ETA: 32:27 - loss: 3.49 - ETA: 32:26 - loss: 3.49 - ETA: 32:26 - loss: 3.49 - ETA: 32:25 - loss: 3.49 - ETA: 32:25 - loss: 3.49 - ETA: 32:24 - loss: 3.4900"
     ]
    },
    {
     "name": "stdout",
     "output_type": "stream",
     "text": [
      "1883/4335 [============>.................] - ETA: 32:23 - loss: 3.48 - ETA: 32:23 - loss: 3.49 - ETA: 32:22 - loss: 3.49 - ETA: 32:21 - loss: 3.48 - ETA: 32:21 - loss: 3.48 - ETA: 32:20 - loss: 3.48 - ETA: 32:19 - loss: 3.49 - ETA: 32:18 - loss: 3.49 - ETA: 32:18 - loss: 3.49 - ETA: 32:17 - loss: 3.49 - ETA: 32:16 - loss: 3.49 - ETA: 32:16 - loss: 3.49 - ETA: 32:15 - loss: 3.49 - ETA: 32:14 - loss: 3.49 - ETA: 32:13 - loss: 3.49 - ETA: 32:13 - loss: 3.49 - ETA: 32:12 - loss: 3.49 - ETA: 32:11 - loss: 3.49 - ETA: 32:11 - loss: 3.49 - ETA: 32:10 - loss: 3.48 - ETA: 32:09 - loss: 3.48 - ETA: 32:08 - loss: 3.49 - ETA: 32:08 - loss: 3.49 - ETA: 32:07 - loss: 3.49 - ETA: 32:06 - loss: 3.49 - ETA: 32:06 - loss: 3.49 - ETA: 32:05 - loss: 3.49 - ETA: 32:04 - loss: 3.49 - ETA: 32:03 - loss: 3.49 - ETA: 32:03 - loss: 3.49 - ETA: 32:02 - loss: 3.49 - ETA: 32:01 - loss: 3.49 - ETA: 32:01 - loss: 3.49 - ETA: 32:00 - loss: 3.49 - ETA: 31:59 - loss: 3.49 - ETA: 31:58 - loss: 3.49 - ETA: 31:58 - loss: 3.49 - ETA: 31:57 - loss: 3.49 - ETA: 31:56 - loss: 3.49 - ETA: 31:56 - loss: 3.49 - ETA: 31:55 - loss: 3.49 - ETA: 31:54 - loss: 3.49 - ETA: 31:53 - loss: 3.49 - ETA: 31:53 - loss: 3.49 - ETA: 31:52 - loss: 3.49 - ETA: 31:51 - loss: 3.49 - ETA: 31:50 - loss: 3.49 - ETA: 31:50 - loss: 3.49 - ETA: 31:49 - loss: 3.49 - ETA: 31:48 - loss: 3.49 - ETA: 31:47 - loss: 3.49 - ETA: 31:47 - loss: 3.49 - ETA: 31:46 - loss: 3.49 - ETA: 31:45 - loss: 3.49 - ETA: 31:45 - loss: 3.49 - ETA: 31:44 - loss: 3.49 - ETA: 31:43 - loss: 3.49 - ETA: 31:43 - loss: 3.49 - ETA: 31:42 - loss: 3.49 - ETA: 31:41 - loss: 3.49 - ETA: 31:41 - loss: 3.49 - ETA: 31:40 - loss: 3.49 - ETA: 31:39 - loss: 3.49 - ETA: 31:38 - loss: 3.49 - ETA: 31:38 - loss: 3.49 - ETA: 31:37 - loss: 3.49 - ETA: 31:36 - loss: 3.49 - ETA: 31:35 - loss: 3.49 - ETA: 31:35 - loss: 3.49 - ETA: 31:34 - loss: 3.49 - ETA: 31:33 - loss: 3.49 - ETA: 31:32 - loss: 3.49 - ETA: 31:32 - loss: 3.49 - ETA: 31:31 - loss: 3.49 - ETA: 31:30 - loss: 3.49 - ETA: 31:29 - loss: 3.49 - ETA: 31:29 - loss: 3.49 - ETA: 31:28 - loss: 3.49 - ETA: 31:27 - loss: 3.49 - ETA: 31:26 - loss: 3.49 - ETA: 31:26 - loss: 3.49 - ETA: 31:25 - loss: 3.49 - ETA: 31:24 - loss: 3.49 - ETA: 31:23 - loss: 3.49 - ETA: 31:23 - loss: 3.49 - ETA: 31:22 - loss: 3.49 - ETA: 31:21 - loss: 3.49 - ETA: 31:20 - loss: 3.49 - ETA: 31:19 - loss: 3.49 - ETA: 31:19 - loss: 3.49 - ETA: 31:18 - loss: 3.49 - ETA: 31:17 - loss: 3.49 - ETA: 31:17 - loss: 3.49 - ETA: 31:16 - loss: 3.49 - ETA: 31:15 - loss: 3.49 - ETA: 31:14 - loss: 3.49 - ETA: 31:14 - loss: 3.49 - ETA: 31:13 - loss: 3.49 - ETA: 31:12 - loss: 3.49 - ETA: 31:12 - loss: 3.49 - ETA: 31:11 - loss: 3.49 - ETA: 31:10 - loss: 3.49 - ETA: 31:10 - loss: 3.49 - ETA: 31:09 - loss: 3.49 - ETA: 31:08 - loss: 3.49 - ETA: 31:08 - loss: 3.49 - ETA: 31:07 - loss: 3.49 - ETA: 31:06 - loss: 3.49 - ETA: 31:06 - loss: 3.49 - ETA: 31:05 - loss: 3.49 - ETA: 31:05 - loss: 3.49 - ETA: 31:04 - loss: 3.49 - ETA: 31:04 - loss: 3.49 - ETA: 31:03 - loss: 3.49 - ETA: 31:03 - loss: 3.49 - ETA: 31:02 - loss: 3.49 - ETA: 31:02 - loss: 3.49 - ETA: 31:01 - loss: 3.49 - ETA: 31:00 - loss: 3.49 - ETA: 31:00 - loss: 3.49 - ETA: 30:59 - loss: 3.49 - ETA: 30:59 - loss: 3.49 - ETA: 30:58 - loss: 3.49 - ETA: 30:57 - loss: 3.49 - ETA: 30:57 - loss: 3.49 - ETA: 30:56 - loss: 3.49 - ETA: 30:56 - loss: 3.49 - ETA: 30:55 - loss: 3.49 - ETA: 30:55 - loss: 3.49 - ETA: 30:54 - loss: 3.49 - ETA: 30:54 - loss: 3.49 - ETA: 30:53 - loss: 3.49 - ETA: 30:53 - loss: 3.49 - ETA: 30:52 - loss: 3.49 - ETA: 30:52 - loss: 3.49 - ETA: 30:51 - loss: 3.49 - ETA: 30:50 - loss: 3.49 - ETA: 30:50 - loss: 3.49 - ETA: 30:49 - loss: 3.49 - ETA: 30:48 - loss: 3.49 - ETA: 30:48 - loss: 3.49 - ETA: 30:47 - loss: 3.49 - ETA: 30:46 - loss: 3.49 - ETA: 30:45 - loss: 3.49 - ETA: 30:45 - loss: 3.49 - ETA: 30:44 - loss: 3.49 - ETA: 30:43 - loss: 3.49 - ETA: 30:43 - loss: 3.49 - ETA: 30:42 - loss: 3.49 - ETA: 30:41 - loss: 3.49 - ETA: 30:40 - loss: 3.49 - ETA: 30:40 - loss: 3.49 - ETA: 30:39 - loss: 3.49 - ETA: 30:38 - loss: 3.49 - ETA: 30:38 - loss: 3.49 - ETA: 30:37 - loss: 3.49 - ETA: 30:36 - loss: 3.49 - ETA: 30:36 - loss: 3.49 - ETA: 30:35 - loss: 3.49 - ETA: 30:35 - loss: 3.49 - ETA: 30:34 - loss: 3.49 - ETA: 30:33 - loss: 3.49 - ETA: 30:33 - loss: 3.49 - ETA: 30:32 - loss: 3.49 - ETA: 30:31 - loss: 3.49 - ETA: 30:30 - loss: 3.49 - ETA: 30:30 - loss: 3.49 - ETA: 30:29 - loss: 3.49 - ETA: 30:28 - loss: 3.49 - ETA: 30:27 - loss: 3.49 - ETA: 30:27 - loss: 3.49 - ETA: 30:26 - loss: 3.49 - ETA: 30:25 - loss: 3.49 - ETA: 30:24 - loss: 3.49 - ETA: 30:24 - loss: 3.49 - ETA: 30:23 - loss: 3.49 - ETA: 30:22 - loss: 3.49 - ETA: 30:21 - loss: 3.49 - ETA: 30:21 - loss: 3.49 - ETA: 30:20 - loss: 3.49 - ETA: 30:19 - loss: 3.49 - ETA: 30:18 - loss: 3.49 - ETA: 30:18 - loss: 3.49 - ETA: 30:17 - loss: 3.49 - ETA: 30:16 - loss: 3.49 - ETA: 30:15 - loss: 3.49 - ETA: 30:15 - loss: 3.49 - ETA: 30:14 - loss: 3.49 - ETA: 30:13 - loss: 3.49 - ETA: 30:13 - loss: 3.49 - ETA: 30:12 - loss: 3.49 - ETA: 30:11 - loss: 3.49 - ETA: 30:10 - loss: 3.49 - ETA: 30:10 - loss: 3.49 - ETA: 30:09 - loss: 3.49 - ETA: 30:08 - loss: 3.49 - ETA: 30:07 - loss: 3.49 - ETA: 30:07 - loss: 3.49 - ETA: 30:06 - loss: 3.49 - ETA: 30:05 - loss: 3.49 - ETA: 30:04 - loss: 3.49 - ETA: 30:04 - loss: 3.49 - ETA: 30:03 - loss: 3.49 - ETA: 30:02 - loss: 3.49 - ETA: 30:02 - loss: 3.49 - ETA: 30:01 - loss: 3.49 - ETA: 30:00 - loss: 3.49 - ETA: 29:59 - loss: 3.49 - ETA: 29:59 - loss: 3.49 - ETA: 29:58 - loss: 3.49 - ETA: 29:57 - loss: 3.49 - ETA: 29:56 - loss: 3.49 - ETA: 29:56 - loss: 3.49 - ETA: 29:55 - loss: 3.49 - ETA: 29:54 - loss: 3.49 - ETA: 29:53 - loss: 3.49 - ETA: 29:53 - loss: 3.49 - ETA: 29:52 - loss: 3.49 - ETA: 29:51 - loss: 3.49 - ETA: 29:50 - loss: 3.49 - ETA: 29:50 - loss: 3.49 - ETA: 29:49 - loss: 3.49 - ETA: 29:48 - loss: 3.49 - ETA: 29:48 - loss: 3.49 - ETA: 29:47 - loss: 3.49 - ETA: 29:46 - loss: 3.49 - ETA: 29:45 - loss: 3.49 - ETA: 29:45 - loss: 3.49 - ETA: 29:44 - loss: 3.49 - ETA: 29:43 - loss: 3.49 - ETA: 29:42 - loss: 3.49 - ETA: 29:42 - loss: 3.49 - ETA: 29:41 - loss: 3.49 - ETA: 29:40 - loss: 3.49 - ETA: 29:39 - loss: 3.49 - ETA: 29:39 - loss: 3.49 - ETA: 29:38 - loss: 3.49 - ETA: 29:37 - loss: 3.49 - ETA: 29:36 - loss: 3.49 - ETA: 29:36 - loss: 3.49 - ETA: 29:35 - loss: 3.49 - ETA: 29:34 - loss: 3.49 - ETA: 29:33 - loss: 3.49 - ETA: 29:33 - loss: 3.49 - ETA: 29:32 - loss: 3.49 - ETA: 29:31 - loss: 3.49 - ETA: 29:31 - loss: 3.49 - ETA: 29:30 - loss: 3.49 - ETA: 29:29 - loss: 3.49 - ETA: 29:28 - loss: 3.49 - ETA: 29:28 - loss: 3.49 - ETA: 29:27 - loss: 3.49 - ETA: 29:26 - loss: 3.49 - ETA: 29:25 - loss: 3.49 - ETA: 29:25 - loss: 3.49 - ETA: 29:24 - loss: 3.49 - ETA: 29:23 - loss: 3.49 - ETA: 29:22 - loss: 3.49 - ETA: 29:22 - loss: 3.49 - ETA: 29:21 - loss: 3.49 - ETA: 29:20 - loss: 3.49 - ETA: 29:20 - loss: 3.49 - ETA: 29:19 - loss: 3.49 - ETA: 29:18 - loss: 3.49 - ETA: 29:17 - loss: 3.49 - ETA: 29:17 - loss: 3.49 - ETA: 29:16 - loss: 3.49 - ETA: 29:15 - loss: 3.49 - ETA: 29:14 - loss: 3.49 - ETA: 29:14 - loss: 3.49 - ETA: 29:13 - loss: 3.49 - ETA: 29:12 - loss: 3.49 - ETA: 29:11 - loss: 3.49 - ETA: 29:11 - loss: 3.49 - ETA: 29:10 - loss: 3.49 - ETA: 29:09 - loss: 3.49 - ETA: 29:08 - loss: 3.49 - ETA: 29:07 - loss: 3.49 - ETA: 29:07 - loss: 3.49 - ETA: 29:06 - loss: 3.49 - ETA: 29:05 - loss: 3.49 - ETA: 29:04 - loss: 3.49 - ETA: 29:04 - loss: 3.49 - ETA: 29:03 - loss: 3.49 - ETA: 29:02 - loss: 3.49 - ETA: 29:01 - loss: 3.49 - ETA: 29:01 - loss: 3.49 - ETA: 29:00 - loss: 3.49 - ETA: 28:59 - loss: 3.49 - ETA: 28:58 - loss: 3.49 - ETA: 28:58 - loss: 3.49 - ETA: 28:57 - loss: 3.49 - ETA: 28:56 - loss: 3.49 - ETA: 28:55 - loss: 3.49 - ETA: 28:55 - loss: 3.49 - ETA: 28:54 - loss: 3.49 - ETA: 28:53 - loss: 3.49 - ETA: 28:53 - loss: 3.49 - ETA: 28:52 - loss: 3.49 - ETA: 28:51 - loss: 3.49 - ETA: 28:50 - loss: 3.49 - ETA: 28:50 - loss: 3.49 - ETA: 28:49 - loss: 3.49 - ETA: 28:48 - loss: 3.49 - ETA: 28:47 - loss: 3.49 - ETA: 28:47 - loss: 3.49 - ETA: 28:46 - loss: 3.49 - ETA: 28:45 - loss: 3.49 - ETA: 28:45 - loss: 3.49 - ETA: 28:44 - loss: 3.49 - ETA: 28:43 - loss: 3.49 - ETA: 28:43 - loss: 3.49 - ETA: 28:42 - loss: 3.49 - ETA: 28:41 - loss: 3.4993"
     ]
    },
    {
     "name": "stdout",
     "output_type": "stream",
     "text": [
      "2197/4335 [==============>...............] - ETA: 28:40 - loss: 3.49 - ETA: 28:40 - loss: 3.49 - ETA: 28:39 - loss: 3.49 - ETA: 28:38 - loss: 3.49 - ETA: 28:38 - loss: 3.49 - ETA: 28:37 - loss: 3.49 - ETA: 28:36 - loss: 3.49 - ETA: 28:35 - loss: 3.49 - ETA: 28:35 - loss: 3.49 - ETA: 28:34 - loss: 3.49 - ETA: 28:33 - loss: 3.49 - ETA: 28:32 - loss: 3.49 - ETA: 28:32 - loss: 3.49 - ETA: 28:31 - loss: 3.49 - ETA: 28:30 - loss: 3.49 - ETA: 28:30 - loss: 3.49 - ETA: 28:29 - loss: 3.49 - ETA: 28:28 - loss: 3.49 - ETA: 28:27 - loss: 3.49 - ETA: 28:27 - loss: 3.49 - ETA: 28:26 - loss: 3.49 - ETA: 28:25 - loss: 3.49 - ETA: 28:24 - loss: 3.49 - ETA: 28:24 - loss: 3.49 - ETA: 28:23 - loss: 3.49 - ETA: 28:22 - loss: 3.49 - ETA: 28:22 - loss: 3.49 - ETA: 28:21 - loss: 3.49 - ETA: 28:20 - loss: 3.49 - ETA: 28:19 - loss: 3.49 - ETA: 28:19 - loss: 3.49 - ETA: 28:18 - loss: 3.49 - ETA: 28:17 - loss: 3.49 - ETA: 28:16 - loss: 3.49 - ETA: 28:16 - loss: 3.50 - ETA: 28:15 - loss: 3.50 - ETA: 28:14 - loss: 3.50 - ETA: 28:14 - loss: 3.50 - ETA: 28:13 - loss: 3.50 - ETA: 28:12 - loss: 3.50 - ETA: 28:11 - loss: 3.50 - ETA: 28:11 - loss: 3.50 - ETA: 28:10 - loss: 3.50 - ETA: 28:09 - loss: 3.50 - ETA: 28:08 - loss: 3.50 - ETA: 28:08 - loss: 3.50 - ETA: 28:07 - loss: 3.50 - ETA: 28:06 - loss: 3.50 - ETA: 28:05 - loss: 3.50 - ETA: 28:05 - loss: 3.50 - ETA: 28:04 - loss: 3.50 - ETA: 28:03 - loss: 3.50 - ETA: 28:02 - loss: 3.50 - ETA: 28:02 - loss: 3.50 - ETA: 28:01 - loss: 3.50 - ETA: 28:00 - loss: 3.50 - ETA: 28:00 - loss: 3.50 - ETA: 27:59 - loss: 3.50 - ETA: 27:58 - loss: 3.50 - ETA: 27:57 - loss: 3.50 - ETA: 27:57 - loss: 3.50 - ETA: 27:56 - loss: 3.50 - ETA: 27:55 - loss: 3.50 - ETA: 27:54 - loss: 3.50 - ETA: 27:54 - loss: 3.50 - ETA: 27:53 - loss: 3.50 - ETA: 27:52 - loss: 3.50 - ETA: 27:52 - loss: 3.50 - ETA: 27:51 - loss: 3.50 - ETA: 27:50 - loss: 3.50 - ETA: 27:49 - loss: 3.50 - ETA: 27:49 - loss: 3.50 - ETA: 27:48 - loss: 3.50 - ETA: 27:47 - loss: 3.50 - ETA: 27:47 - loss: 3.50 - ETA: 27:46 - loss: 3.50 - ETA: 27:45 - loss: 3.50 - ETA: 27:45 - loss: 3.50 - ETA: 27:44 - loss: 3.50 - ETA: 27:44 - loss: 3.50 - ETA: 27:43 - loss: 3.50 - ETA: 27:43 - loss: 3.50 - ETA: 27:42 - loss: 3.50 - ETA: 27:42 - loss: 3.50 - ETA: 27:41 - loss: 3.50 - ETA: 27:40 - loss: 3.50 - ETA: 27:40 - loss: 3.50 - ETA: 27:39 - loss: 3.50 - ETA: 27:39 - loss: 3.50 - ETA: 27:38 - loss: 3.50 - ETA: 27:38 - loss: 3.50 - ETA: 27:37 - loss: 3.50 - ETA: 27:37 - loss: 3.50 - ETA: 27:36 - loss: 3.50 - ETA: 27:35 - loss: 3.50 - ETA: 27:35 - loss: 3.50 - ETA: 27:34 - loss: 3.50 - ETA: 27:34 - loss: 3.50 - ETA: 27:33 - loss: 3.50 - ETA: 27:32 - loss: 3.50 - ETA: 27:32 - loss: 3.50 - ETA: 27:31 - loss: 3.50 - ETA: 27:31 - loss: 3.50 - ETA: 27:30 - loss: 3.50 - ETA: 27:29 - loss: 3.50 - ETA: 27:29 - loss: 3.50 - ETA: 27:28 - loss: 3.50 - ETA: 27:27 - loss: 3.50 - ETA: 27:26 - loss: 3.50 - ETA: 27:26 - loss: 3.50 - ETA: 27:25 - loss: 3.50 - ETA: 27:24 - loss: 3.50 - ETA: 27:24 - loss: 3.50 - ETA: 27:23 - loss: 3.50 - ETA: 27:22 - loss: 3.50 - ETA: 27:21 - loss: 3.50 - ETA: 27:21 - loss: 3.50 - ETA: 27:20 - loss: 3.50 - ETA: 27:19 - loss: 3.50 - ETA: 27:19 - loss: 3.50 - ETA: 27:18 - loss: 3.50 - ETA: 27:17 - loss: 3.50 - ETA: 27:16 - loss: 3.50 - ETA: 27:16 - loss: 3.50 - ETA: 27:15 - loss: 3.50 - ETA: 27:14 - loss: 3.50 - ETA: 27:14 - loss: 3.50 - ETA: 27:13 - loss: 3.50 - ETA: 27:12 - loss: 3.50 - ETA: 27:11 - loss: 3.50 - ETA: 27:11 - loss: 3.50 - ETA: 27:10 - loss: 3.50 - ETA: 27:09 - loss: 3.50 - ETA: 27:09 - loss: 3.50 - ETA: 27:08 - loss: 3.50 - ETA: 27:07 - loss: 3.50 - ETA: 27:06 - loss: 3.50 - ETA: 27:06 - loss: 3.50 - ETA: 27:05 - loss: 3.50 - ETA: 27:04 - loss: 3.50 - ETA: 27:03 - loss: 3.50 - ETA: 27:03 - loss: 3.50 - ETA: 27:02 - loss: 3.50 - ETA: 27:01 - loss: 3.50 - ETA: 27:01 - loss: 3.50 - ETA: 27:00 - loss: 3.50 - ETA: 26:59 - loss: 3.50 - ETA: 26:58 - loss: 3.50 - ETA: 26:58 - loss: 3.50 - ETA: 26:57 - loss: 3.50 - ETA: 26:56 - loss: 3.50 - ETA: 26:55 - loss: 3.50 - ETA: 26:55 - loss: 3.50 - ETA: 26:54 - loss: 3.50 - ETA: 26:53 - loss: 3.50 - ETA: 26:53 - loss: 3.50 - ETA: 26:52 - loss: 3.50 - ETA: 26:51 - loss: 3.50 - ETA: 26:50 - loss: 3.50 - ETA: 26:50 - loss: 3.50 - ETA: 26:49 - loss: 3.50 - ETA: 26:48 - loss: 3.50 - ETA: 26:47 - loss: 3.50 - ETA: 26:47 - loss: 3.50 - ETA: 26:46 - loss: 3.50 - ETA: 26:45 - loss: 3.50 - ETA: 26:45 - loss: 3.50 - ETA: 26:44 - loss: 3.50 - ETA: 26:43 - loss: 3.50 - ETA: 26:43 - loss: 3.50 - ETA: 26:42 - loss: 3.50 - ETA: 26:41 - loss: 3.50 - ETA: 26:41 - loss: 3.50 - ETA: 26:40 - loss: 3.50 - ETA: 26:40 - loss: 3.50 - ETA: 26:39 - loss: 3.50 - ETA: 26:38 - loss: 3.50 - ETA: 26:38 - loss: 3.50 - ETA: 26:37 - loss: 3.50 - ETA: 26:36 - loss: 3.50 - ETA: 26:36 - loss: 3.50 - ETA: 26:35 - loss: 3.50 - ETA: 26:34 - loss: 3.50 - ETA: 26:34 - loss: 3.50 - ETA: 26:33 - loss: 3.50 - ETA: 26:32 - loss: 3.50 - ETA: 26:32 - loss: 3.50 - ETA: 26:31 - loss: 3.50 - ETA: 26:31 - loss: 3.50 - ETA: 26:30 - loss: 3.50 - ETA: 26:30 - loss: 3.50 - ETA: 26:29 - loss: 3.50 - ETA: 26:29 - loss: 3.50 - ETA: 26:28 - loss: 3.50 - ETA: 26:28 - loss: 3.50 - ETA: 26:27 - loss: 3.50 - ETA: 26:26 - loss: 3.50 - ETA: 26:26 - loss: 3.50 - ETA: 26:25 - loss: 3.50 - ETA: 26:24 - loss: 3.50 - ETA: 26:24 - loss: 3.50 - ETA: 26:23 - loss: 3.50 - ETA: 26:22 - loss: 3.50 - ETA: 26:22 - loss: 3.50 - ETA: 26:21 - loss: 3.50 - ETA: 26:20 - loss: 3.50 - ETA: 26:20 - loss: 3.50 - ETA: 26:19 - loss: 3.50 - ETA: 26:18 - loss: 3.50 - ETA: 26:18 - loss: 3.50 - ETA: 26:17 - loss: 3.50 - ETA: 26:17 - loss: 3.50 - ETA: 26:16 - loss: 3.50 - ETA: 26:16 - loss: 3.50 - ETA: 26:15 - loss: 3.50 - ETA: 26:15 - loss: 3.50 - ETA: 26:14 - loss: 3.50 - ETA: 26:14 - loss: 3.50 - ETA: 26:13 - loss: 3.50 - ETA: 26:12 - loss: 3.50 - ETA: 26:12 - loss: 3.50 - ETA: 26:11 - loss: 3.50 - ETA: 26:10 - loss: 3.50 - ETA: 26:10 - loss: 3.50 - ETA: 26:09 - loss: 3.50 - ETA: 26:08 - loss: 3.50 - ETA: 26:08 - loss: 3.50 - ETA: 26:07 - loss: 3.50 - ETA: 26:07 - loss: 3.50 - ETA: 26:06 - loss: 3.50 - ETA: 26:06 - loss: 3.50 - ETA: 26:05 - loss: 3.50 - ETA: 26:05 - loss: 3.50 - ETA: 26:04 - loss: 3.50 - ETA: 26:04 - loss: 3.50 - ETA: 26:03 - loss: 3.50 - ETA: 26:03 - loss: 3.50 - ETA: 26:02 - loss: 3.50 - ETA: 26:01 - loss: 3.50 - ETA: 26:01 - loss: 3.50 - ETA: 26:00 - loss: 3.50 - ETA: 26:00 - loss: 3.50 - ETA: 26:00 - loss: 3.50 - ETA: 25:59 - loss: 3.50 - ETA: 25:59 - loss: 3.50 - ETA: 25:58 - loss: 3.50 - ETA: 25:58 - loss: 3.50 - ETA: 25:57 - loss: 3.50 - ETA: 25:56 - loss: 3.50 - ETA: 25:56 - loss: 3.50 - ETA: 25:55 - loss: 3.50 - ETA: 25:55 - loss: 3.50 - ETA: 25:54 - loss: 3.50 - ETA: 25:53 - loss: 3.50 - ETA: 25:53 - loss: 3.50 - ETA: 25:52 - loss: 3.50 - ETA: 25:51 - loss: 3.50 - ETA: 25:51 - loss: 3.50 - ETA: 25:50 - loss: 3.50 - ETA: 25:50 - loss: 3.50 - ETA: 25:49 - loss: 3.50 - ETA: 25:48 - loss: 3.50 - ETA: 25:48 - loss: 3.50 - ETA: 25:47 - loss: 3.50 - ETA: 25:46 - loss: 3.50 - ETA: 25:46 - loss: 3.50 - ETA: 25:45 - loss: 3.50 - ETA: 25:45 - loss: 3.50 - ETA: 25:44 - loss: 3.50 - ETA: 25:43 - loss: 3.50 - ETA: 25:43 - loss: 3.50 - ETA: 25:42 - loss: 3.50 - ETA: 25:42 - loss: 3.50 - ETA: 25:41 - loss: 3.50 - ETA: 25:40 - loss: 3.50 - ETA: 25:40 - loss: 3.50 - ETA: 25:39 - loss: 3.50 - ETA: 25:39 - loss: 3.50 - ETA: 25:38 - loss: 3.50 - ETA: 25:37 - loss: 3.50 - ETA: 25:37 - loss: 3.50 - ETA: 25:36 - loss: 3.50 - ETA: 25:36 - loss: 3.50 - ETA: 25:35 - loss: 3.50 - ETA: 25:34 - loss: 3.50 - ETA: 25:34 - loss: 3.50 - ETA: 25:33 - loss: 3.50 - ETA: 25:32 - loss: 3.50 - ETA: 25:32 - loss: 3.50 - ETA: 25:31 - loss: 3.50 - ETA: 25:30 - loss: 3.50 - ETA: 25:30 - loss: 3.50 - ETA: 25:29 - loss: 3.50 - ETA: 25:29 - loss: 3.50 - ETA: 25:28 - loss: 3.50 - ETA: 25:27 - loss: 3.50 - ETA: 25:27 - loss: 3.50 - ETA: 25:26 - loss: 3.50 - ETA: 25:25 - loss: 3.50 - ETA: 25:25 - loss: 3.50 - ETA: 25:24 - loss: 3.50 - ETA: 25:24 - loss: 3.50 - ETA: 25:23 - loss: 3.50 - ETA: 25:22 - loss: 3.50 - ETA: 25:22 - loss: 3.50 - ETA: 25:21 - loss: 3.50 - ETA: 25:20 - loss: 3.50 - ETA: 25:20 - loss: 3.50 - ETA: 25:19 - loss: 3.50 - ETA: 25:18 - loss: 3.50 - ETA: 25:17 - loss: 3.50 - ETA: 25:17 - loss: 3.50 - ETA: 25:16 - loss: 3.50 - ETA: 25:15 - loss: 3.5058"
     ]
    },
    {
     "name": "stdout",
     "output_type": "stream",
     "text": [
      "2511/4335 [================>.............] - ETA: 25:15 - loss: 3.50 - ETA: 25:14 - loss: 3.50 - ETA: 25:13 - loss: 3.50 - ETA: 25:13 - loss: 3.50 - ETA: 25:12 - loss: 3.50 - ETA: 25:11 - loss: 3.50 - ETA: 25:11 - loss: 3.50 - ETA: 25:10 - loss: 3.50 - ETA: 25:09 - loss: 3.50 - ETA: 25:09 - loss: 3.50 - ETA: 25:08 - loss: 3.50 - ETA: 25:07 - loss: 3.50 - ETA: 25:06 - loss: 3.50 - ETA: 25:06 - loss: 3.50 - ETA: 25:05 - loss: 3.50 - ETA: 25:04 - loss: 3.50 - ETA: 25:04 - loss: 3.50 - ETA: 25:03 - loss: 3.50 - ETA: 25:02 - loss: 3.50 - ETA: 25:02 - loss: 3.50 - ETA: 25:01 - loss: 3.50 - ETA: 25:00 - loss: 3.50 - ETA: 25:00 - loss: 3.50 - ETA: 24:59 - loss: 3.50 - ETA: 24:58 - loss: 3.50 - ETA: 24:57 - loss: 3.50 - ETA: 24:57 - loss: 3.50 - ETA: 24:56 - loss: 3.50 - ETA: 24:55 - loss: 3.50 - ETA: 24:55 - loss: 3.50 - ETA: 24:54 - loss: 3.50 - ETA: 24:53 - loss: 3.50 - ETA: 24:53 - loss: 3.50 - ETA: 24:52 - loss: 3.50 - ETA: 24:51 - loss: 3.50 - ETA: 24:51 - loss: 3.50 - ETA: 24:50 - loss: 3.50 - ETA: 24:49 - loss: 3.50 - ETA: 24:49 - loss: 3.50 - ETA: 24:48 - loss: 3.50 - ETA: 24:47 - loss: 3.50 - ETA: 24:47 - loss: 3.50 - ETA: 24:46 - loss: 3.50 - ETA: 24:45 - loss: 3.50 - ETA: 24:45 - loss: 3.50 - ETA: 24:44 - loss: 3.50 - ETA: 24:43 - loss: 3.50 - ETA: 24:42 - loss: 3.50 - ETA: 24:42 - loss: 3.50 - ETA: 24:41 - loss: 3.50 - ETA: 24:40 - loss: 3.50 - ETA: 24:40 - loss: 3.50 - ETA: 24:39 - loss: 3.50 - ETA: 24:38 - loss: 3.50 - ETA: 24:38 - loss: 3.50 - ETA: 24:37 - loss: 3.50 - ETA: 24:36 - loss: 3.50 - ETA: 24:36 - loss: 3.50 - ETA: 24:35 - loss: 3.50 - ETA: 24:34 - loss: 3.50 - ETA: 24:34 - loss: 3.50 - ETA: 24:33 - loss: 3.50 - ETA: 24:32 - loss: 3.50 - ETA: 24:32 - loss: 3.50 - ETA: 24:31 - loss: 3.50 - ETA: 24:30 - loss: 3.50 - ETA: 24:29 - loss: 3.50 - ETA: 24:29 - loss: 3.50 - ETA: 24:28 - loss: 3.50 - ETA: 24:27 - loss: 3.50 - ETA: 24:27 - loss: 3.50 - ETA: 24:26 - loss: 3.50 - ETA: 24:25 - loss: 3.50 - ETA: 24:25 - loss: 3.50 - ETA: 24:24 - loss: 3.50 - ETA: 24:23 - loss: 3.50 - ETA: 24:23 - loss: 3.50 - ETA: 24:22 - loss: 3.50 - ETA: 24:21 - loss: 3.50 - ETA: 24:21 - loss: 3.50 - ETA: 24:20 - loss: 3.50 - ETA: 24:19 - loss: 3.50 - ETA: 24:19 - loss: 3.50 - ETA: 24:18 - loss: 3.50 - ETA: 24:17 - loss: 3.50 - ETA: 24:17 - loss: 3.50 - ETA: 24:16 - loss: 3.50 - ETA: 24:15 - loss: 3.50 - ETA: 24:14 - loss: 3.50 - ETA: 24:14 - loss: 3.50 - ETA: 24:13 - loss: 3.50 - ETA: 24:12 - loss: 3.50 - ETA: 24:12 - loss: 3.50 - ETA: 24:11 - loss: 3.50 - ETA: 24:10 - loss: 3.50 - ETA: 24:10 - loss: 3.50 - ETA: 24:09 - loss: 3.50 - ETA: 24:08 - loss: 3.50 - ETA: 24:08 - loss: 3.50 - ETA: 24:07 - loss: 3.50 - ETA: 24:06 - loss: 3.50 - ETA: 24:06 - loss: 3.50 - ETA: 24:05 - loss: 3.50 - ETA: 24:04 - loss: 3.50 - ETA: 24:04 - loss: 3.50 - ETA: 24:03 - loss: 3.50 - ETA: 24:02 - loss: 3.50 - ETA: 24:02 - loss: 3.50 - ETA: 24:01 - loss: 3.50 - ETA: 24:00 - loss: 3.50 - ETA: 23:59 - loss: 3.50 - ETA: 23:59 - loss: 3.50 - ETA: 23:58 - loss: 3.50 - ETA: 23:57 - loss: 3.50 - ETA: 23:57 - loss: 3.50 - ETA: 23:56 - loss: 3.50 - ETA: 23:55 - loss: 3.50 - ETA: 23:55 - loss: 3.50 - ETA: 23:54 - loss: 3.50 - ETA: 23:53 - loss: 3.50 - ETA: 23:53 - loss: 3.50 - ETA: 23:52 - loss: 3.50 - ETA: 23:51 - loss: 3.50 - ETA: 23:50 - loss: 3.50 - ETA: 23:50 - loss: 3.50 - ETA: 23:49 - loss: 3.50 - ETA: 23:48 - loss: 3.50 - ETA: 23:48 - loss: 3.50 - ETA: 23:47 - loss: 3.50 - ETA: 23:46 - loss: 3.50 - ETA: 23:46 - loss: 3.50 - ETA: 23:45 - loss: 3.50 - ETA: 23:44 - loss: 3.50 - ETA: 23:44 - loss: 3.50 - ETA: 23:43 - loss: 3.50 - ETA: 23:42 - loss: 3.50 - ETA: 23:42 - loss: 3.50 - ETA: 23:41 - loss: 3.50 - ETA: 23:40 - loss: 3.50 - ETA: 23:39 - loss: 3.50 - ETA: 23:39 - loss: 3.50 - ETA: 23:38 - loss: 3.50 - ETA: 23:37 - loss: 3.50 - ETA: 23:37 - loss: 3.50 - ETA: 23:36 - loss: 3.50 - ETA: 23:35 - loss: 3.50 - ETA: 23:35 - loss: 3.50 - ETA: 23:34 - loss: 3.50 - ETA: 23:33 - loss: 3.50 - ETA: 23:33 - loss: 3.50 - ETA: 23:32 - loss: 3.50 - ETA: 23:31 - loss: 3.50 - ETA: 23:30 - loss: 3.50 - ETA: 23:30 - loss: 3.50 - ETA: 23:29 - loss: 3.50 - ETA: 23:28 - loss: 3.50 - ETA: 23:28 - loss: 3.50 - ETA: 23:27 - loss: 3.50 - ETA: 23:26 - loss: 3.50 - ETA: 23:26 - loss: 3.50 - ETA: 23:25 - loss: 3.50 - ETA: 23:24 - loss: 3.50 - ETA: 23:23 - loss: 3.50 - ETA: 23:23 - loss: 3.50 - ETA: 23:22 - loss: 3.50 - ETA: 23:21 - loss: 3.50 - ETA: 23:21 - loss: 3.50 - ETA: 23:20 - loss: 3.50 - ETA: 23:19 - loss: 3.50 - ETA: 23:19 - loss: 3.50 - ETA: 23:18 - loss: 3.50 - ETA: 23:17 - loss: 3.50 - ETA: 23:17 - loss: 3.50 - ETA: 23:16 - loss: 3.50 - ETA: 23:15 - loss: 3.50 - ETA: 23:14 - loss: 3.50 - ETA: 23:14 - loss: 3.50 - ETA: 23:13 - loss: 3.50 - ETA: 23:12 - loss: 3.50 - ETA: 23:12 - loss: 3.50 - ETA: 23:11 - loss: 3.50 - ETA: 23:10 - loss: 3.50 - ETA: 23:10 - loss: 3.50 - ETA: 23:09 - loss: 3.50 - ETA: 23:08 - loss: 3.50 - ETA: 23:07 - loss: 3.50 - ETA: 23:07 - loss: 3.50 - ETA: 23:06 - loss: 3.50 - ETA: 23:05 - loss: 3.50 - ETA: 23:05 - loss: 3.50 - ETA: 23:04 - loss: 3.50 - ETA: 23:03 - loss: 3.50 - ETA: 23:03 - loss: 3.50 - ETA: 23:02 - loss: 3.50 - ETA: 23:01 - loss: 3.50 - ETA: 23:01 - loss: 3.50 - ETA: 23:00 - loss: 3.50 - ETA: 22:59 - loss: 3.50 - ETA: 22:58 - loss: 3.50 - ETA: 22:58 - loss: 3.50 - ETA: 22:57 - loss: 3.50 - ETA: 22:56 - loss: 3.50 - ETA: 22:56 - loss: 3.50 - ETA: 22:55 - loss: 3.50 - ETA: 22:54 - loss: 3.50 - ETA: 22:54 - loss: 3.50 - ETA: 22:53 - loss: 3.50 - ETA: 22:52 - loss: 3.50 - ETA: 22:51 - loss: 3.50 - ETA: 22:51 - loss: 3.50 - ETA: 22:50 - loss: 3.50 - ETA: 22:49 - loss: 3.50 - ETA: 22:49 - loss: 3.50 - ETA: 22:48 - loss: 3.50 - ETA: 22:47 - loss: 3.50 - ETA: 22:47 - loss: 3.50 - ETA: 22:46 - loss: 3.50 - ETA: 22:45 - loss: 3.50 - ETA: 22:44 - loss: 3.50 - ETA: 22:44 - loss: 3.50 - ETA: 22:43 - loss: 3.50 - ETA: 22:42 - loss: 3.50 - ETA: 22:42 - loss: 3.50 - ETA: 22:41 - loss: 3.50 - ETA: 22:40 - loss: 3.50 - ETA: 22:40 - loss: 3.50 - ETA: 22:39 - loss: 3.50 - ETA: 22:38 - loss: 3.50 - ETA: 22:38 - loss: 3.50 - ETA: 22:37 - loss: 3.50 - ETA: 22:36 - loss: 3.50 - ETA: 22:35 - loss: 3.50 - ETA: 22:35 - loss: 3.50 - ETA: 22:34 - loss: 3.50 - ETA: 22:33 - loss: 3.50 - ETA: 22:33 - loss: 3.50 - ETA: 22:32 - loss: 3.50 - ETA: 22:31 - loss: 3.50 - ETA: 22:31 - loss: 3.50 - ETA: 22:30 - loss: 3.50 - ETA: 22:29 - loss: 3.50 - ETA: 22:29 - loss: 3.50 - ETA: 22:28 - loss: 3.50 - ETA: 22:27 - loss: 3.50 - ETA: 22:26 - loss: 3.50 - ETA: 22:26 - loss: 3.50 - ETA: 22:25 - loss: 3.50 - ETA: 22:24 - loss: 3.50 - ETA: 22:24 - loss: 3.50 - ETA: 22:23 - loss: 3.50 - ETA: 22:22 - loss: 3.50 - ETA: 22:22 - loss: 3.50 - ETA: 22:21 - loss: 3.50 - ETA: 22:20 - loss: 3.50 - ETA: 22:20 - loss: 3.50 - ETA: 22:19 - loss: 3.50 - ETA: 22:18 - loss: 3.50 - ETA: 22:18 - loss: 3.50 - ETA: 22:17 - loss: 3.50 - ETA: 22:16 - loss: 3.50 - ETA: 22:16 - loss: 3.50 - ETA: 22:15 - loss: 3.50 - ETA: 22:14 - loss: 3.50 - ETA: 22:13 - loss: 3.50 - ETA: 22:13 - loss: 3.50 - ETA: 22:12 - loss: 3.50 - ETA: 22:11 - loss: 3.50 - ETA: 22:11 - loss: 3.50 - ETA: 22:10 - loss: 3.50 - ETA: 22:09 - loss: 3.50 - ETA: 22:09 - loss: 3.50 - ETA: 22:08 - loss: 3.50 - ETA: 22:07 - loss: 3.50 - ETA: 22:06 - loss: 3.50 - ETA: 22:06 - loss: 3.50 - ETA: 22:05 - loss: 3.50 - ETA: 22:04 - loss: 3.50 - ETA: 22:04 - loss: 3.50 - ETA: 22:03 - loss: 3.50 - ETA: 22:02 - loss: 3.50 - ETA: 22:01 - loss: 3.50 - ETA: 22:01 - loss: 3.50 - ETA: 22:00 - loss: 3.50 - ETA: 21:59 - loss: 3.50 - ETA: 21:59 - loss: 3.50 - ETA: 21:58 - loss: 3.50 - ETA: 21:57 - loss: 3.50 - ETA: 21:57 - loss: 3.50 - ETA: 21:56 - loss: 3.50 - ETA: 21:55 - loss: 3.50 - ETA: 21:54 - loss: 3.50 - ETA: 21:54 - loss: 3.50 - ETA: 21:53 - loss: 3.50 - ETA: 21:52 - loss: 3.50 - ETA: 21:52 - loss: 3.50 - ETA: 21:51 - loss: 3.50 - ETA: 21:51 - loss: 3.50 - ETA: 21:50 - loss: 3.50 - ETA: 21:49 - loss: 3.50 - ETA: 21:49 - loss: 3.50 - ETA: 21:48 - loss: 3.50 - ETA: 21:47 - loss: 3.50 - ETA: 21:47 - loss: 3.50 - ETA: 21:46 - loss: 3.50 - ETA: 21:45 - loss: 3.50 - ETA: 21:45 - loss: 3.50 - ETA: 21:44 - loss: 3.50 - ETA: 21:43 - loss: 3.50 - ETA: 21:43 - loss: 3.50 - ETA: 21:42 - loss: 3.50 - ETA: 21:41 - loss: 3.50 - ETA: 21:41 - loss: 3.50 - ETA: 21:40 - loss: 3.50 - ETA: 21:39 - loss: 3.5095"
     ]
    },
    {
     "name": "stdout",
     "output_type": "stream",
     "text": [
      "2825/4335 [==================>...........] - ETA: 21:39 - loss: 3.50 - ETA: 21:38 - loss: 3.50 - ETA: 21:37 - loss: 3.50 - ETA: 21:37 - loss: 3.50 - ETA: 21:36 - loss: 3.50 - ETA: 21:35 - loss: 3.50 - ETA: 21:35 - loss: 3.50 - ETA: 21:34 - loss: 3.50 - ETA: 21:34 - loss: 3.50 - ETA: 21:33 - loss: 3.50 - ETA: 21:33 - loss: 3.50 - ETA: 21:32 - loss: 3.50 - ETA: 21:32 - loss: 3.50 - ETA: 21:31 - loss: 3.50 - ETA: 21:30 - loss: 3.50 - ETA: 21:30 - loss: 3.50 - ETA: 21:29 - loss: 3.50 - ETA: 21:28 - loss: 3.50 - ETA: 21:28 - loss: 3.50 - ETA: 21:27 - loss: 3.50 - ETA: 21:26 - loss: 3.50 - ETA: 21:26 - loss: 3.50 - ETA: 21:25 - loss: 3.50 - ETA: 21:25 - loss: 3.51 - ETA: 21:24 - loss: 3.50 - ETA: 21:23 - loss: 3.50 - ETA: 21:23 - loss: 3.50 - ETA: 21:22 - loss: 3.50 - ETA: 21:21 - loss: 3.50 - ETA: 21:21 - loss: 3.50 - ETA: 21:20 - loss: 3.50 - ETA: 21:19 - loss: 3.50 - ETA: 21:19 - loss: 3.50 - ETA: 21:18 - loss: 3.50 - ETA: 21:18 - loss: 3.50 - ETA: 21:17 - loss: 3.50 - ETA: 21:16 - loss: 3.50 - ETA: 21:16 - loss: 3.50 - ETA: 21:15 - loss: 3.50 - ETA: 21:14 - loss: 3.50 - ETA: 21:13 - loss: 3.50 - ETA: 21:13 - loss: 3.50 - ETA: 21:12 - loss: 3.50 - ETA: 21:11 - loss: 3.50 - ETA: 21:11 - loss: 3.50 - ETA: 21:10 - loss: 3.50 - ETA: 21:09 - loss: 3.50 - ETA: 21:09 - loss: 3.50 - ETA: 21:08 - loss: 3.50 - ETA: 21:07 - loss: 3.50 - ETA: 21:07 - loss: 3.50 - ETA: 21:06 - loss: 3.50 - ETA: 21:05 - loss: 3.50 - ETA: 21:05 - loss: 3.50 - ETA: 21:04 - loss: 3.50 - ETA: 21:03 - loss: 3.50 - ETA: 21:03 - loss: 3.50 - ETA: 21:02 - loss: 3.50 - ETA: 21:01 - loss: 3.50 - ETA: 21:01 - loss: 3.50 - ETA: 21:00 - loss: 3.50 - ETA: 20:59 - loss: 3.51 - ETA: 20:59 - loss: 3.51 - ETA: 20:58 - loss: 3.51 - ETA: 20:57 - loss: 3.51 - ETA: 20:57 - loss: 3.51 - ETA: 20:56 - loss: 3.51 - ETA: 20:55 - loss: 3.51 - ETA: 20:55 - loss: 3.51 - ETA: 20:54 - loss: 3.51 - ETA: 20:53 - loss: 3.51 - ETA: 20:53 - loss: 3.51 - ETA: 20:52 - loss: 3.51 - ETA: 20:51 - loss: 3.51 - ETA: 20:51 - loss: 3.51 - ETA: 20:50 - loss: 3.51 - ETA: 20:49 - loss: 3.50 - ETA: 20:49 - loss: 3.50 - ETA: 20:48 - loss: 3.50 - ETA: 20:47 - loss: 3.50 - ETA: 20:47 - loss: 3.50 - ETA: 20:46 - loss: 3.50 - ETA: 20:45 - loss: 3.50 - ETA: 20:45 - loss: 3.50 - ETA: 20:44 - loss: 3.50 - ETA: 20:43 - loss: 3.50 - ETA: 20:43 - loss: 3.51 - ETA: 20:42 - loss: 3.50 - ETA: 20:42 - loss: 3.51 - ETA: 20:41 - loss: 3.50 - ETA: 20:41 - loss: 3.50 - ETA: 20:40 - loss: 3.50 - ETA: 20:40 - loss: 3.50 - ETA: 20:39 - loss: 3.50 - ETA: 20:39 - loss: 3.51 - ETA: 20:38 - loss: 3.51 - ETA: 20:38 - loss: 3.50 - ETA: 20:37 - loss: 3.51 - ETA: 20:37 - loss: 3.51 - ETA: 20:36 - loss: 3.51 - ETA: 20:36 - loss: 3.51 - ETA: 20:35 - loss: 3.50 - ETA: 20:35 - loss: 3.50 - ETA: 20:34 - loss: 3.50 - ETA: 20:34 - loss: 3.50 - ETA: 20:33 - loss: 3.50 - ETA: 20:32 - loss: 3.50 - ETA: 20:32 - loss: 3.50 - ETA: 20:31 - loss: 3.50 - ETA: 20:31 - loss: 3.50 - ETA: 20:30 - loss: 3.50 - ETA: 20:29 - loss: 3.50 - ETA: 20:29 - loss: 3.51 - ETA: 20:28 - loss: 3.50 - ETA: 20:28 - loss: 3.51 - ETA: 20:27 - loss: 3.51 - ETA: 20:26 - loss: 3.51 - ETA: 20:26 - loss: 3.51 - ETA: 20:25 - loss: 3.51 - ETA: 20:25 - loss: 3.50 - ETA: 20:24 - loss: 3.50 - ETA: 20:23 - loss: 3.51 - ETA: 20:23 - loss: 3.51 - ETA: 20:22 - loss: 3.51 - ETA: 20:22 - loss: 3.51 - ETA: 20:21 - loss: 3.51 - ETA: 20:20 - loss: 3.51 - ETA: 20:20 - loss: 3.51 - ETA: 20:19 - loss: 3.50 - ETA: 20:18 - loss: 3.50 - ETA: 20:18 - loss: 3.50 - ETA: 20:17 - loss: 3.50 - ETA: 20:17 - loss: 3.50 - ETA: 20:16 - loss: 3.51 - ETA: 20:15 - loss: 3.51 - ETA: 20:15 - loss: 3.51 - ETA: 20:14 - loss: 3.51 - ETA: 20:13 - loss: 3.51 - ETA: 20:13 - loss: 3.51 - ETA: 20:12 - loss: 3.51 - ETA: 20:11 - loss: 3.51 - ETA: 20:11 - loss: 3.51 - ETA: 20:10 - loss: 3.51 - ETA: 20:10 - loss: 3.51 - ETA: 20:09 - loss: 3.51 - ETA: 20:09 - loss: 3.51 - ETA: 20:08 - loss: 3.51 - ETA: 20:08 - loss: 3.51 - ETA: 20:07 - loss: 3.51 - ETA: 20:06 - loss: 3.51 - ETA: 20:06 - loss: 3.51 - ETA: 20:05 - loss: 3.51 - ETA: 20:04 - loss: 3.51 - ETA: 20:04 - loss: 3.51 - ETA: 20:03 - loss: 3.51 - ETA: 20:02 - loss: 3.51 - ETA: 20:02 - loss: 3.51 - ETA: 20:01 - loss: 3.51 - ETA: 20:00 - loss: 3.51 - ETA: 20:00 - loss: 3.51 - ETA: 19:59 - loss: 3.51 - ETA: 19:58 - loss: 3.51 - ETA: 19:58 - loss: 3.51 - ETA: 19:57 - loss: 3.51 - ETA: 19:57 - loss: 3.51 - ETA: 19:56 - loss: 3.51 - ETA: 19:55 - loss: 3.51 - ETA: 19:55 - loss: 3.51 - ETA: 19:54 - loss: 3.51 - ETA: 19:53 - loss: 3.51 - ETA: 19:53 - loss: 3.51 - ETA: 19:52 - loss: 3.51 - ETA: 19:52 - loss: 3.51 - ETA: 19:51 - loss: 3.51 - ETA: 19:50 - loss: 3.51 - ETA: 19:50 - loss: 3.51 - ETA: 19:49 - loss: 3.51 - ETA: 19:48 - loss: 3.51 - ETA: 19:48 - loss: 3.51 - ETA: 19:47 - loss: 3.51 - ETA: 19:47 - loss: 3.51 - ETA: 19:46 - loss: 3.51 - ETA: 19:45 - loss: 3.51 - ETA: 19:45 - loss: 3.51 - ETA: 19:44 - loss: 3.51 - ETA: 19:43 - loss: 3.51 - ETA: 19:43 - loss: 3.51 - ETA: 19:42 - loss: 3.51 - ETA: 19:41 - loss: 3.51 - ETA: 19:41 - loss: 3.51 - ETA: 19:40 - loss: 3.51 - ETA: 19:40 - loss: 3.51 - ETA: 19:39 - loss: 3.51 - ETA: 19:38 - loss: 3.51 - ETA: 19:38 - loss: 3.51 - ETA: 19:37 - loss: 3.51 - ETA: 19:36 - loss: 3.51 - ETA: 19:36 - loss: 3.51 - ETA: 19:35 - loss: 3.51 - ETA: 19:34 - loss: 3.51 - ETA: 19:34 - loss: 3.51 - ETA: 19:33 - loss: 3.51 - ETA: 19:32 - loss: 3.51 - ETA: 19:31 - loss: 3.51 - ETA: 19:31 - loss: 3.51 - ETA: 19:30 - loss: 3.51 - ETA: 19:29 - loss: 3.51 - ETA: 19:29 - loss: 3.51 - ETA: 19:28 - loss: 3.51 - ETA: 19:28 - loss: 3.51 - ETA: 19:27 - loss: 3.51 - ETA: 19:26 - loss: 3.51 - ETA: 19:26 - loss: 3.51 - ETA: 19:25 - loss: 3.51 - ETA: 19:25 - loss: 3.51 - ETA: 19:24 - loss: 3.51 - ETA: 19:23 - loss: 3.51 - ETA: 19:23 - loss: 3.51 - ETA: 19:22 - loss: 3.51 - ETA: 19:21 - loss: 3.51 - ETA: 19:21 - loss: 3.51 - ETA: 19:20 - loss: 3.51 - ETA: 19:20 - loss: 3.51 - ETA: 19:19 - loss: 3.51 - ETA: 19:18 - loss: 3.51 - ETA: 19:18 - loss: 3.51 - ETA: 19:17 - loss: 3.51 - ETA: 19:16 - loss: 3.51 - ETA: 19:15 - loss: 3.51 - ETA: 19:15 - loss: 3.51 - ETA: 19:14 - loss: 3.51 - ETA: 19:14 - loss: 3.51 - ETA: 19:13 - loss: 3.51 - ETA: 19:12 - loss: 3.51 - ETA: 19:12 - loss: 3.51 - ETA: 19:11 - loss: 3.51 - ETA: 19:11 - loss: 3.51 - ETA: 19:10 - loss: 3.51 - ETA: 19:10 - loss: 3.51 - ETA: 19:09 - loss: 3.51 - ETA: 19:08 - loss: 3.51 - ETA: 19:08 - loss: 3.51 - ETA: 19:07 - loss: 3.51 - ETA: 19:06 - loss: 3.51 - ETA: 19:06 - loss: 3.51 - ETA: 19:05 - loss: 3.51 - ETA: 19:05 - loss: 3.51 - ETA: 19:04 - loss: 3.51 - ETA: 19:03 - loss: 3.51 - ETA: 19:03 - loss: 3.51 - ETA: 19:02 - loss: 3.51 - ETA: 19:01 - loss: 3.51 - ETA: 19:01 - loss: 3.51 - ETA: 19:00 - loss: 3.51 - ETA: 19:00 - loss: 3.51 - ETA: 19:00 - loss: 3.51 - ETA: 18:59 - loss: 3.51 - ETA: 18:59 - loss: 3.51 - ETA: 18:58 - loss: 3.51 - ETA: 18:58 - loss: 3.51 - ETA: 18:58 - loss: 3.51 - ETA: 18:57 - loss: 3.51 - ETA: 18:57 - loss: 3.51 - ETA: 18:56 - loss: 3.51 - ETA: 18:56 - loss: 3.51 - ETA: 18:55 - loss: 3.51 - ETA: 18:55 - loss: 3.51 - ETA: 18:54 - loss: 3.51 - ETA: 18:54 - loss: 3.51 - ETA: 18:53 - loss: 3.51 - ETA: 18:53 - loss: 3.51 - ETA: 18:52 - loss: 3.51 - ETA: 18:52 - loss: 3.51 - ETA: 18:51 - loss: 3.51 - ETA: 18:51 - loss: 3.51 - ETA: 18:50 - loss: 3.51 - ETA: 18:50 - loss: 3.51 - ETA: 18:49 - loss: 3.51 - ETA: 18:49 - loss: 3.51 - ETA: 18:48 - loss: 3.51 - ETA: 18:48 - loss: 3.51 - ETA: 18:47 - loss: 3.51 - ETA: 18:47 - loss: 3.51 - ETA: 18:46 - loss: 3.51 - ETA: 18:46 - loss: 3.51 - ETA: 18:46 - loss: 3.51 - ETA: 18:45 - loss: 3.51 - ETA: 18:45 - loss: 3.51 - ETA: 18:44 - loss: 3.51 - ETA: 18:44 - loss: 3.51 - ETA: 18:43 - loss: 3.51 - ETA: 18:43 - loss: 3.51 - ETA: 18:42 - loss: 3.51 - ETA: 18:42 - loss: 3.51 - ETA: 18:41 - loss: 3.51 - ETA: 18:41 - loss: 3.51 - ETA: 18:40 - loss: 3.51 - ETA: 18:40 - loss: 3.51 - ETA: 18:39 - loss: 3.51 - ETA: 18:39 - loss: 3.51 - ETA: 18:38 - loss: 3.51 - ETA: 18:37 - loss: 3.51 - ETA: 18:37 - loss: 3.51 - ETA: 18:36 - loss: 3.51 - ETA: 18:36 - loss: 3.51 - ETA: 18:35 - loss: 3.51 - ETA: 18:34 - loss: 3.51 - ETA: 18:34 - loss: 3.51 - ETA: 18:33 - loss: 3.51 - ETA: 18:33 - loss: 3.51 - ETA: 18:32 - loss: 3.51 - ETA: 18:32 - loss: 3.51 - ETA: 18:31 - loss: 3.51 - ETA: 18:30 - loss: 3.5136"
     ]
    },
    {
     "name": "stdout",
     "output_type": "stream",
     "text": [
      "3139/4335 [====================>.........] - ETA: 18:30 - loss: 3.51 - ETA: 18:29 - loss: 3.51 - ETA: 18:29 - loss: 3.51 - ETA: 18:28 - loss: 3.51 - ETA: 18:28 - loss: 3.51 - ETA: 18:27 - loss: 3.51 - ETA: 18:27 - loss: 3.51 - ETA: 18:26 - loss: 3.51 - ETA: 18:26 - loss: 3.51 - ETA: 18:25 - loss: 3.51 - ETA: 18:25 - loss: 3.51 - ETA: 18:24 - loss: 3.51 - ETA: 18:23 - loss: 3.51 - ETA: 18:23 - loss: 3.51 - ETA: 18:22 - loss: 3.51 - ETA: 18:22 - loss: 3.51 - ETA: 18:21 - loss: 3.51 - ETA: 18:21 - loss: 3.51 - ETA: 18:20 - loss: 3.51 - ETA: 18:20 - loss: 3.51 - ETA: 18:19 - loss: 3.51 - ETA: 18:19 - loss: 3.51 - ETA: 18:18 - loss: 3.51 - ETA: 18:18 - loss: 3.51 - ETA: 18:17 - loss: 3.51 - ETA: 18:17 - loss: 3.51 - ETA: 18:16 - loss: 3.51 - ETA: 18:15 - loss: 3.51 - ETA: 18:15 - loss: 3.51 - ETA: 18:14 - loss: 3.51 - ETA: 18:13 - loss: 3.51 - ETA: 18:13 - loss: 3.51 - ETA: 18:12 - loss: 3.51 - ETA: 18:11 - loss: 3.51 - ETA: 18:11 - loss: 3.51 - ETA: 18:10 - loss: 3.51 - ETA: 18:09 - loss: 3.51 - ETA: 18:09 - loss: 3.51 - ETA: 18:08 - loss: 3.51 - ETA: 18:08 - loss: 3.51 - ETA: 18:07 - loss: 3.51 - ETA: 18:07 - loss: 3.51 - ETA: 18:06 - loss: 3.51 - ETA: 18:05 - loss: 3.51 - ETA: 18:05 - loss: 3.51 - ETA: 18:04 - loss: 3.51 - ETA: 18:04 - loss: 3.51 - ETA: 18:03 - loss: 3.51 - ETA: 18:03 - loss: 3.51 - ETA: 18:02 - loss: 3.51 - ETA: 18:01 - loss: 3.51 - ETA: 18:01 - loss: 3.51 - ETA: 18:00 - loss: 3.51 - ETA: 18:00 - loss: 3.51 - ETA: 17:59 - loss: 3.51 - ETA: 17:58 - loss: 3.51 - ETA: 17:58 - loss: 3.51 - ETA: 17:57 - loss: 3.51 - ETA: 17:57 - loss: 3.51 - ETA: 17:56 - loss: 3.51 - ETA: 17:55 - loss: 3.51 - ETA: 17:55 - loss: 3.51 - ETA: 17:54 - loss: 3.51 - ETA: 17:53 - loss: 3.51 - ETA: 17:53 - loss: 3.51 - ETA: 17:52 - loss: 3.51 - ETA: 17:52 - loss: 3.51 - ETA: 17:51 - loss: 3.51 - ETA: 17:50 - loss: 3.51 - ETA: 17:50 - loss: 3.51 - ETA: 17:49 - loss: 3.51 - ETA: 17:48 - loss: 3.51 - ETA: 17:48 - loss: 3.51 - ETA: 17:47 - loss: 3.51 - ETA: 17:47 - loss: 3.51 - ETA: 17:46 - loss: 3.51 - ETA: 17:45 - loss: 3.51 - ETA: 17:45 - loss: 3.51 - ETA: 17:44 - loss: 3.51 - ETA: 17:44 - loss: 3.51 - ETA: 17:43 - loss: 3.51 - ETA: 17:42 - loss: 3.51 - ETA: 17:42 - loss: 3.51 - ETA: 17:41 - loss: 3.51 - ETA: 17:40 - loss: 3.51 - ETA: 17:40 - loss: 3.51 - ETA: 17:39 - loss: 3.51 - ETA: 17:39 - loss: 3.51 - ETA: 17:38 - loss: 3.51 - ETA: 17:37 - loss: 3.51 - ETA: 17:37 - loss: 3.51 - ETA: 17:36 - loss: 3.51 - ETA: 17:36 - loss: 3.51 - ETA: 17:35 - loss: 3.51 - ETA: 17:35 - loss: 3.51 - ETA: 17:34 - loss: 3.51 - ETA: 17:33 - loss: 3.51 - ETA: 17:33 - loss: 3.51 - ETA: 17:32 - loss: 3.51 - ETA: 17:31 - loss: 3.51 - ETA: 17:31 - loss: 3.51 - ETA: 17:30 - loss: 3.51 - ETA: 17:30 - loss: 3.51 - ETA: 17:29 - loss: 3.51 - ETA: 17:29 - loss: 3.51 - ETA: 17:28 - loss: 3.51 - ETA: 17:27 - loss: 3.51 - ETA: 17:27 - loss: 3.51 - ETA: 17:26 - loss: 3.51 - ETA: 17:25 - loss: 3.51 - ETA: 17:25 - loss: 3.51 - ETA: 17:24 - loss: 3.51 - ETA: 17:23 - loss: 3.51 - ETA: 17:23 - loss: 3.51 - ETA: 17:22 - loss: 3.51 - ETA: 17:21 - loss: 3.51 - ETA: 17:20 - loss: 3.51 - ETA: 17:20 - loss: 3.51 - ETA: 17:19 - loss: 3.51 - ETA: 17:18 - loss: 3.51 - ETA: 17:18 - loss: 3.51 - ETA: 17:17 - loss: 3.51 - ETA: 17:16 - loss: 3.51 - ETA: 17:16 - loss: 3.51 - ETA: 17:15 - loss: 3.51 - ETA: 17:14 - loss: 3.51 - ETA: 17:13 - loss: 3.51 - ETA: 17:13 - loss: 3.51 - ETA: 17:12 - loss: 3.51 - ETA: 17:11 - loss: 3.51 - ETA: 17:11 - loss: 3.51 - ETA: 17:10 - loss: 3.51 - ETA: 17:09 - loss: 3.51 - ETA: 17:09 - loss: 3.51 - ETA: 17:08 - loss: 3.51 - ETA: 17:07 - loss: 3.51 - ETA: 17:07 - loss: 3.51 - ETA: 17:06 - loss: 3.51 - ETA: 17:05 - loss: 3.51 - ETA: 17:05 - loss: 3.51 - ETA: 17:04 - loss: 3.51 - ETA: 17:04 - loss: 3.51 - ETA: 17:03 - loss: 3.51 - ETA: 17:02 - loss: 3.51 - ETA: 17:02 - loss: 3.51 - ETA: 17:01 - loss: 3.51 - ETA: 17:00 - loss: 3.51 - ETA: 17:00 - loss: 3.51 - ETA: 16:59 - loss: 3.51 - ETA: 16:58 - loss: 3.51 - ETA: 16:58 - loss: 3.51 - ETA: 16:57 - loss: 3.51 - ETA: 16:56 - loss: 3.51 - ETA: 16:56 - loss: 3.51 - ETA: 16:55 - loss: 3.51 - ETA: 16:54 - loss: 3.51 - ETA: 16:54 - loss: 3.51 - ETA: 16:53 - loss: 3.51 - ETA: 16:52 - loss: 3.51 - ETA: 16:52 - loss: 3.51 - ETA: 16:51 - loss: 3.51 - ETA: 16:51 - loss: 3.51 - ETA: 16:50 - loss: 3.51 - ETA: 16:49 - loss: 3.51 - ETA: 16:48 - loss: 3.51 - ETA: 16:48 - loss: 3.51 - ETA: 16:47 - loss: 3.51 - ETA: 16:47 - loss: 3.51 - ETA: 16:46 - loss: 3.51 - ETA: 16:45 - loss: 3.51 - ETA: 16:45 - loss: 3.51 - ETA: 16:44 - loss: 3.51 - ETA: 16:43 - loss: 3.51 - ETA: 16:43 - loss: 3.51 - ETA: 16:42 - loss: 3.51 - ETA: 16:41 - loss: 3.51 - ETA: 16:40 - loss: 3.51 - ETA: 16:40 - loss: 3.51 - ETA: 16:39 - loss: 3.51 - ETA: 16:38 - loss: 3.51 - ETA: 16:37 - loss: 3.51 - ETA: 16:37 - loss: 3.51 - ETA: 16:36 - loss: 3.51 - ETA: 16:35 - loss: 3.51 - ETA: 16:35 - loss: 3.51 - ETA: 16:34 - loss: 3.51 - ETA: 16:33 - loss: 3.51 - ETA: 16:32 - loss: 3.51 - ETA: 16:32 - loss: 3.51 - ETA: 16:31 - loss: 3.51 - ETA: 16:30 - loss: 3.51 - ETA: 16:30 - loss: 3.51 - ETA: 16:29 - loss: 3.51 - ETA: 16:28 - loss: 3.51 - ETA: 16:28 - loss: 3.51 - ETA: 16:27 - loss: 3.51 - ETA: 16:26 - loss: 3.51 - ETA: 16:25 - loss: 3.51 - ETA: 16:25 - loss: 3.51 - ETA: 16:24 - loss: 3.51 - ETA: 16:23 - loss: 3.51 - ETA: 16:23 - loss: 3.51 - ETA: 16:22 - loss: 3.51 - ETA: 16:21 - loss: 3.51 - ETA: 16:21 - loss: 3.51 - ETA: 16:20 - loss: 3.51 - ETA: 16:19 - loss: 3.51 - ETA: 16:19 - loss: 3.51 - ETA: 16:18 - loss: 3.51 - ETA: 16:17 - loss: 3.51 - ETA: 16:16 - loss: 3.51 - ETA: 16:16 - loss: 3.51 - ETA: 16:15 - loss: 3.51 - ETA: 16:14 - loss: 3.51 - ETA: 16:14 - loss: 3.51 - ETA: 16:13 - loss: 3.51 - ETA: 16:12 - loss: 3.51 - ETA: 16:12 - loss: 3.51 - ETA: 16:11 - loss: 3.51 - ETA: 16:10 - loss: 3.51 - ETA: 16:09 - loss: 3.51 - ETA: 16:09 - loss: 3.51 - ETA: 16:08 - loss: 3.51 - ETA: 16:07 - loss: 3.51 - ETA: 16:07 - loss: 3.51 - ETA: 16:06 - loss: 3.51 - ETA: 16:06 - loss: 3.51 - ETA: 16:05 - loss: 3.51 - ETA: 16:04 - loss: 3.51 - ETA: 16:04 - loss: 3.51 - ETA: 16:03 - loss: 3.51 - ETA: 16:02 - loss: 3.51 - ETA: 16:02 - loss: 3.51 - ETA: 16:01 - loss: 3.51 - ETA: 16:01 - loss: 3.51 - ETA: 16:00 - loss: 3.51 - ETA: 15:59 - loss: 3.51 - ETA: 15:59 - loss: 3.51 - ETA: 15:58 - loss: 3.51 - ETA: 15:57 - loss: 3.51 - ETA: 15:57 - loss: 3.51 - ETA: 15:56 - loss: 3.51 - ETA: 15:55 - loss: 3.51 - ETA: 15:55 - loss: 3.51 - ETA: 15:54 - loss: 3.51 - ETA: 15:53 - loss: 3.51 - ETA: 15:52 - loss: 3.51 - ETA: 15:52 - loss: 3.51 - ETA: 15:51 - loss: 3.51 - ETA: 15:51 - loss: 3.51 - ETA: 15:50 - loss: 3.51 - ETA: 15:49 - loss: 3.51 - ETA: 15:49 - loss: 3.51 - ETA: 15:48 - loss: 3.51 - ETA: 15:47 - loss: 3.51 - ETA: 15:46 - loss: 3.51 - ETA: 15:46 - loss: 3.51 - ETA: 15:45 - loss: 3.51 - ETA: 15:44 - loss: 3.51 - ETA: 15:43 - loss: 3.51 - ETA: 15:43 - loss: 3.51 - ETA: 15:42 - loss: 3.51 - ETA: 15:41 - loss: 3.51 - ETA: 15:41 - loss: 3.51 - ETA: 15:40 - loss: 3.51 - ETA: 15:39 - loss: 3.51 - ETA: 15:39 - loss: 3.51 - ETA: 15:38 - loss: 3.51 - ETA: 15:37 - loss: 3.51 - ETA: 15:37 - loss: 3.51 - ETA: 15:36 - loss: 3.51 - ETA: 15:35 - loss: 3.51 - ETA: 15:34 - loss: 3.51 - ETA: 15:34 - loss: 3.51 - ETA: 15:33 - loss: 3.51 - ETA: 15:32 - loss: 3.51 - ETA: 15:32 - loss: 3.51 - ETA: 15:31 - loss: 3.51 - ETA: 15:30 - loss: 3.51 - ETA: 15:30 - loss: 3.51 - ETA: 15:29 - loss: 3.51 - ETA: 15:28 - loss: 3.51 - ETA: 15:27 - loss: 3.51 - ETA: 15:27 - loss: 3.51 - ETA: 15:26 - loss: 3.51 - ETA: 15:25 - loss: 3.51 - ETA: 15:24 - loss: 3.51 - ETA: 15:24 - loss: 3.51 - ETA: 15:23 - loss: 3.51 - ETA: 15:22 - loss: 3.51 - ETA: 15:21 - loss: 3.51 - ETA: 15:21 - loss: 3.51 - ETA: 15:20 - loss: 3.51 - ETA: 15:19 - loss: 3.51 - ETA: 15:18 - loss: 3.51 - ETA: 15:18 - loss: 3.51 - ETA: 15:17 - loss: 3.51 - ETA: 15:16 - loss: 3.51 - ETA: 15:16 - loss: 3.51 - ETA: 15:15 - loss: 3.51 - ETA: 15:14 - loss: 3.51 - ETA: 15:13 - loss: 3.51 - ETA: 15:13 - loss: 3.51 - ETA: 15:12 - loss: 3.51 - ETA: 15:11 - loss: 3.51 - ETA: 15:10 - loss: 3.51 - ETA: 15:10 - loss: 3.51 - ETA: 15:09 - loss: 3.51 - ETA: 15:08 - loss: 3.51 - ETA: 15:08 - loss: 3.51 - ETA: 15:07 - loss: 3.51 - ETA: 15:06 - loss: 3.51 - ETA: 15:05 - loss: 3.51 - ETA: 15:05 - loss: 3.5179"
     ]
    },
    {
     "name": "stdout",
     "output_type": "stream",
     "text": [
      "3453/4335 [======================>.......] - ETA: 15:04 - loss: 3.51 - ETA: 15:03 - loss: 3.51 - ETA: 15:03 - loss: 3.51 - ETA: 15:02 - loss: 3.51 - ETA: 15:01 - loss: 3.51 - ETA: 15:00 - loss: 3.51 - ETA: 15:00 - loss: 3.51 - ETA: 14:59 - loss: 3.51 - ETA: 14:58 - loss: 3.51 - ETA: 14:57 - loss: 3.51 - ETA: 14:57 - loss: 3.51 - ETA: 14:56 - loss: 3.51 - ETA: 14:55 - loss: 3.51 - ETA: 14:54 - loss: 3.51 - ETA: 14:54 - loss: 3.51 - ETA: 14:53 - loss: 3.51 - ETA: 14:52 - loss: 3.51 - ETA: 14:51 - loss: 3.51 - ETA: 14:51 - loss: 3.51 - ETA: 14:50 - loss: 3.51 - ETA: 14:49 - loss: 3.51 - ETA: 14:48 - loss: 3.51 - ETA: 14:48 - loss: 3.51 - ETA: 14:47 - loss: 3.51 - ETA: 14:46 - loss: 3.51 - ETA: 14:45 - loss: 3.51 - ETA: 14:45 - loss: 3.51 - ETA: 14:44 - loss: 3.51 - ETA: 14:43 - loss: 3.51 - ETA: 14:42 - loss: 3.51 - ETA: 14:42 - loss: 3.51 - ETA: 14:41 - loss: 3.51 - ETA: 14:40 - loss: 3.51 - ETA: 14:40 - loss: 3.51 - ETA: 14:39 - loss: 3.51 - ETA: 14:38 - loss: 3.51 - ETA: 14:37 - loss: 3.51 - ETA: 14:37 - loss: 3.51 - ETA: 14:36 - loss: 3.51 - ETA: 14:35 - loss: 3.51 - ETA: 14:35 - loss: 3.51 - ETA: 14:34 - loss: 3.51 - ETA: 14:33 - loss: 3.51 - ETA: 14:33 - loss: 3.51 - ETA: 14:32 - loss: 3.51 - ETA: 14:31 - loss: 3.51 - ETA: 14:31 - loss: 3.51 - ETA: 14:30 - loss: 3.51 - ETA: 14:29 - loss: 3.51 - ETA: 14:28 - loss: 3.51 - ETA: 14:28 - loss: 3.51 - ETA: 14:27 - loss: 3.51 - ETA: 14:26 - loss: 3.51 - ETA: 14:25 - loss: 3.51 - ETA: 14:25 - loss: 3.51 - ETA: 14:24 - loss: 3.51 - ETA: 14:23 - loss: 3.51 - ETA: 14:22 - loss: 3.51 - ETA: 14:22 - loss: 3.51 - ETA: 14:21 - loss: 3.51 - ETA: 14:20 - loss: 3.51 - ETA: 14:19 - loss: 3.51 - ETA: 14:19 - loss: 3.51 - ETA: 14:18 - loss: 3.51 - ETA: 14:17 - loss: 3.51 - ETA: 14:16 - loss: 3.51 - ETA: 14:16 - loss: 3.51 - ETA: 14:15 - loss: 3.51 - ETA: 14:14 - loss: 3.51 - ETA: 14:13 - loss: 3.51 - ETA: 14:13 - loss: 3.51 - ETA: 14:12 - loss: 3.51 - ETA: 14:11 - loss: 3.51 - ETA: 14:10 - loss: 3.51 - ETA: 14:10 - loss: 3.51 - ETA: 14:09 - loss: 3.51 - ETA: 14:08 - loss: 3.51 - ETA: 14:07 - loss: 3.51 - ETA: 14:07 - loss: 3.51 - ETA: 14:06 - loss: 3.51 - ETA: 14:05 - loss: 3.51 - ETA: 14:04 - loss: 3.51 - ETA: 14:04 - loss: 3.51 - ETA: 14:03 - loss: 3.51 - ETA: 14:02 - loss: 3.51 - ETA: 14:01 - loss: 3.51 - ETA: 14:01 - loss: 3.51 - ETA: 14:00 - loss: 3.51 - ETA: 13:59 - loss: 3.51 - ETA: 13:58 - loss: 3.51 - ETA: 13:58 - loss: 3.51 - ETA: 13:57 - loss: 3.51 - ETA: 13:56 - loss: 3.51 - ETA: 13:55 - loss: 3.51 - ETA: 13:55 - loss: 3.51 - ETA: 13:54 - loss: 3.51 - ETA: 13:53 - loss: 3.51 - ETA: 13:52 - loss: 3.51 - ETA: 13:52 - loss: 3.51 - ETA: 13:51 - loss: 3.51 - ETA: 13:50 - loss: 3.51 - ETA: 13:49 - loss: 3.51 - ETA: 13:49 - loss: 3.51 - ETA: 13:48 - loss: 3.51 - ETA: 13:47 - loss: 3.51 - ETA: 13:46 - loss: 3.51 - ETA: 13:46 - loss: 3.51 - ETA: 13:45 - loss: 3.51 - ETA: 13:44 - loss: 3.51 - ETA: 13:43 - loss: 3.51 - ETA: 13:43 - loss: 3.51 - ETA: 13:42 - loss: 3.51 - ETA: 13:41 - loss: 3.51 - ETA: 13:40 - loss: 3.51 - ETA: 13:40 - loss: 3.51 - ETA: 13:39 - loss: 3.51 - ETA: 13:38 - loss: 3.51 - ETA: 13:37 - loss: 3.51 - ETA: 13:37 - loss: 3.51 - ETA: 13:36 - loss: 3.51 - ETA: 13:35 - loss: 3.51 - ETA: 13:34 - loss: 3.51 - ETA: 13:34 - loss: 3.51 - ETA: 13:33 - loss: 3.51 - ETA: 13:32 - loss: 3.51 - ETA: 13:31 - loss: 3.52 - ETA: 13:31 - loss: 3.52 - ETA: 13:30 - loss: 3.52 - ETA: 13:29 - loss: 3.52 - ETA: 13:28 - loss: 3.52 - ETA: 13:28 - loss: 3.51 - ETA: 13:27 - loss: 3.52 - ETA: 13:26 - loss: 3.51 - ETA: 13:25 - loss: 3.51 - ETA: 13:25 - loss: 3.51 - ETA: 13:24 - loss: 3.51 - ETA: 13:23 - loss: 3.51 - ETA: 13:22 - loss: 3.51 - ETA: 13:22 - loss: 3.51 - ETA: 13:21 - loss: 3.51 - ETA: 13:20 - loss: 3.51 - ETA: 13:19 - loss: 3.51 - ETA: 13:19 - loss: 3.51 - ETA: 13:18 - loss: 3.51 - ETA: 13:17 - loss: 3.51 - ETA: 13:16 - loss: 3.51 - ETA: 13:16 - loss: 3.51 - ETA: 13:15 - loss: 3.51 - ETA: 13:14 - loss: 3.51 - ETA: 13:13 - loss: 3.51 - ETA: 13:13 - loss: 3.51 - ETA: 13:12 - loss: 3.51 - ETA: 13:11 - loss: 3.51 - ETA: 13:10 - loss: 3.51 - ETA: 13:10 - loss: 3.51 - ETA: 13:09 - loss: 3.51 - ETA: 13:08 - loss: 3.51 - ETA: 13:07 - loss: 3.51 - ETA: 13:07 - loss: 3.51 - ETA: 13:06 - loss: 3.51 - ETA: 13:05 - loss: 3.51 - ETA: 13:04 - loss: 3.51 - ETA: 13:04 - loss: 3.51 - ETA: 13:03 - loss: 3.51 - ETA: 13:02 - loss: 3.52 - ETA: 13:01 - loss: 3.51 - ETA: 13:01 - loss: 3.51 - ETA: 13:00 - loss: 3.51 - ETA: 12:59 - loss: 3.51 - ETA: 12:59 - loss: 3.51 - ETA: 12:58 - loss: 3.51 - ETA: 12:57 - loss: 3.51 - ETA: 12:56 - loss: 3.51 - ETA: 12:56 - loss: 3.51 - ETA: 12:55 - loss: 3.51 - ETA: 12:54 - loss: 3.51 - ETA: 12:54 - loss: 3.51 - ETA: 12:53 - loss: 3.51 - ETA: 12:52 - loss: 3.51 - ETA: 12:51 - loss: 3.51 - ETA: 12:51 - loss: 3.51 - ETA: 12:50 - loss: 3.51 - ETA: 12:49 - loss: 3.51 - ETA: 12:48 - loss: 3.51 - ETA: 12:48 - loss: 3.51 - ETA: 12:47 - loss: 3.51 - ETA: 12:46 - loss: 3.51 - ETA: 12:46 - loss: 3.51 - ETA: 12:45 - loss: 3.51 - ETA: 12:44 - loss: 3.51 - ETA: 12:43 - loss: 3.51 - ETA: 12:43 - loss: 3.51 - ETA: 12:42 - loss: 3.51 - ETA: 12:41 - loss: 3.51 - ETA: 12:40 - loss: 3.51 - ETA: 12:40 - loss: 3.51 - ETA: 12:39 - loss: 3.51 - ETA: 12:38 - loss: 3.51 - ETA: 12:37 - loss: 3.51 - ETA: 12:37 - loss: 3.51 - ETA: 12:36 - loss: 3.51 - ETA: 12:35 - loss: 3.51 - ETA: 12:34 - loss: 3.51 - ETA: 12:34 - loss: 3.51 - ETA: 12:33 - loss: 3.51 - ETA: 12:32 - loss: 3.51 - ETA: 12:31 - loss: 3.51 - ETA: 12:31 - loss: 3.51 - ETA: 12:30 - loss: 3.51 - ETA: 12:29 - loss: 3.51 - ETA: 12:28 - loss: 3.51 - ETA: 12:28 - loss: 3.51 - ETA: 12:27 - loss: 3.51 - ETA: 12:26 - loss: 3.51 - ETA: 12:25 - loss: 3.51 - ETA: 12:25 - loss: 3.51 - ETA: 12:24 - loss: 3.51 - ETA: 12:23 - loss: 3.51 - ETA: 12:22 - loss: 3.51 - ETA: 12:22 - loss: 3.51 - ETA: 12:21 - loss: 3.51 - ETA: 12:20 - loss: 3.51 - ETA: 12:19 - loss: 3.51 - ETA: 12:19 - loss: 3.51 - ETA: 12:18 - loss: 3.51 - ETA: 12:17 - loss: 3.51 - ETA: 12:16 - loss: 3.51 - ETA: 12:16 - loss: 3.51 - ETA: 12:15 - loss: 3.51 - ETA: 12:14 - loss: 3.51 - ETA: 12:13 - loss: 3.51 - ETA: 12:13 - loss: 3.51 - ETA: 12:12 - loss: 3.51 - ETA: 12:11 - loss: 3.51 - ETA: 12:10 - loss: 3.51 - ETA: 12:10 - loss: 3.51 - ETA: 12:09 - loss: 3.51 - ETA: 12:08 - loss: 3.51 - ETA: 12:07 - loss: 3.51 - ETA: 12:07 - loss: 3.51 - ETA: 12:06 - loss: 3.51 - ETA: 12:05 - loss: 3.51 - ETA: 12:04 - loss: 3.51 - ETA: 12:04 - loss: 3.51 - ETA: 12:03 - loss: 3.51 - ETA: 12:02 - loss: 3.51 - ETA: 12:01 - loss: 3.51 - ETA: 12:01 - loss: 3.51 - ETA: 12:00 - loss: 3.51 - ETA: 11:59 - loss: 3.51 - ETA: 11:58 - loss: 3.51 - ETA: 11:58 - loss: 3.51 - ETA: 11:57 - loss: 3.51 - ETA: 11:56 - loss: 3.51 - ETA: 11:55 - loss: 3.51 - ETA: 11:54 - loss: 3.51 - ETA: 11:54 - loss: 3.51 - ETA: 11:53 - loss: 3.51 - ETA: 11:52 - loss: 3.51 - ETA: 11:51 - loss: 3.51 - ETA: 11:51 - loss: 3.51 - ETA: 11:50 - loss: 3.51 - ETA: 11:49 - loss: 3.51 - ETA: 11:48 - loss: 3.51 - ETA: 11:48 - loss: 3.51 - ETA: 11:47 - loss: 3.51 - ETA: 11:46 - loss: 3.51 - ETA: 11:45 - loss: 3.51 - ETA: 11:45 - loss: 3.51 - ETA: 11:44 - loss: 3.51 - ETA: 11:43 - loss: 3.51 - ETA: 11:42 - loss: 3.51 - ETA: 11:42 - loss: 3.51 - ETA: 11:41 - loss: 3.51 - ETA: 11:40 - loss: 3.51 - ETA: 11:39 - loss: 3.51 - ETA: 11:39 - loss: 3.51 - ETA: 11:38 - loss: 3.51 - ETA: 11:37 - loss: 3.51 - ETA: 11:36 - loss: 3.51 - ETA: 11:36 - loss: 3.51 - ETA: 11:35 - loss: 3.51 - ETA: 11:34 - loss: 3.51 - ETA: 11:33 - loss: 3.51 - ETA: 11:33 - loss: 3.51 - ETA: 11:32 - loss: 3.51 - ETA: 11:31 - loss: 3.51 - ETA: 11:30 - loss: 3.51 - ETA: 11:29 - loss: 3.51 - ETA: 11:29 - loss: 3.51 - ETA: 11:28 - loss: 3.51 - ETA: 11:27 - loss: 3.51 - ETA: 11:26 - loss: 3.51 - ETA: 11:26 - loss: 3.51 - ETA: 11:25 - loss: 3.51 - ETA: 11:24 - loss: 3.51 - ETA: 11:23 - loss: 3.51 - ETA: 11:23 - loss: 3.51 - ETA: 11:22 - loss: 3.51 - ETA: 11:21 - loss: 3.51 - ETA: 11:20 - loss: 3.51 - ETA: 11:20 - loss: 3.51 - ETA: 11:19 - loss: 3.51 - ETA: 11:18 - loss: 3.51 - ETA: 11:17 - loss: 3.51 - ETA: 11:17 - loss: 3.51 - ETA: 11:16 - loss: 3.51 - ETA: 11:15 - loss: 3.51 - ETA: 11:14 - loss: 3.51 - ETA: 11:14 - loss: 3.51 - ETA: 11:13 - loss: 3.51 - ETA: 11:12 - loss: 3.51 - ETA: 11:11 - loss: 3.51 - ETA: 11:11 - loss: 3.5197"
     ]
    },
    {
     "name": "stdout",
     "output_type": "stream",
     "text": [
      "3767/4335 [=========================>....] - ETA: 11:10 - loss: 3.51 - ETA: 11:09 - loss: 3.51 - ETA: 11:08 - loss: 3.51 - ETA: 11:08 - loss: 3.51 - ETA: 11:07 - loss: 3.52 - ETA: 11:06 - loss: 3.52 - ETA: 11:05 - loss: 3.52 - ETA: 11:04 - loss: 3.52 - ETA: 11:04 - loss: 3.52 - ETA: 11:03 - loss: 3.52 - ETA: 11:02 - loss: 3.52 - ETA: 11:01 - loss: 3.52 - ETA: 11:01 - loss: 3.52 - ETA: 11:00 - loss: 3.52 - ETA: 10:59 - loss: 3.52 - ETA: 10:58 - loss: 3.52 - ETA: 10:58 - loss: 3.52 - ETA: 10:57 - loss: 3.52 - ETA: 10:56 - loss: 3.52 - ETA: 10:55 - loss: 3.52 - ETA: 10:55 - loss: 3.52 - ETA: 10:54 - loss: 3.52 - ETA: 10:53 - loss: 3.52 - ETA: 10:52 - loss: 3.52 - ETA: 10:52 - loss: 3.52 - ETA: 10:51 - loss: 3.52 - ETA: 10:50 - loss: 3.52 - ETA: 10:49 - loss: 3.52 - ETA: 10:49 - loss: 3.52 - ETA: 10:48 - loss: 3.52 - ETA: 10:47 - loss: 3.52 - ETA: 10:46 - loss: 3.52 - ETA: 10:46 - loss: 3.52 - ETA: 10:45 - loss: 3.52 - ETA: 10:44 - loss: 3.52 - ETA: 10:43 - loss: 3.52 - ETA: 10:43 - loss: 3.52 - ETA: 10:42 - loss: 3.52 - ETA: 10:41 - loss: 3.52 - ETA: 10:40 - loss: 3.52 - ETA: 10:40 - loss: 3.52 - ETA: 10:39 - loss: 3.52 - ETA: 10:38 - loss: 3.52 - ETA: 10:37 - loss: 3.52 - ETA: 10:37 - loss: 3.52 - ETA: 10:36 - loss: 3.52 - ETA: 10:35 - loss: 3.52 - ETA: 10:34 - loss: 3.52 - ETA: 10:34 - loss: 3.52 - ETA: 10:33 - loss: 3.52 - ETA: 10:32 - loss: 3.52 - ETA: 10:31 - loss: 3.52 - ETA: 10:31 - loss: 3.52 - ETA: 10:30 - loss: 3.52 - ETA: 10:29 - loss: 3.52 - ETA: 10:28 - loss: 3.52 - ETA: 10:27 - loss: 3.52 - ETA: 10:27 - loss: 3.52 - ETA: 10:26 - loss: 3.52 - ETA: 10:25 - loss: 3.52 - ETA: 10:24 - loss: 3.52 - ETA: 10:24 - loss: 3.52 - ETA: 10:23 - loss: 3.52 - ETA: 10:22 - loss: 3.52 - ETA: 10:21 - loss: 3.52 - ETA: 10:21 - loss: 3.52 - ETA: 10:20 - loss: 3.52 - ETA: 10:19 - loss: 3.52 - ETA: 10:18 - loss: 3.52 - ETA: 10:18 - loss: 3.52 - ETA: 10:17 - loss: 3.52 - ETA: 10:16 - loss: 3.52 - ETA: 10:15 - loss: 3.52 - ETA: 10:15 - loss: 3.52 - ETA: 10:14 - loss: 3.52 - ETA: 10:13 - loss: 3.52 - ETA: 10:12 - loss: 3.52 - ETA: 10:12 - loss: 3.52 - ETA: 10:11 - loss: 3.52 - ETA: 10:10 - loss: 3.52 - ETA: 10:09 - loss: 3.52 - ETA: 10:09 - loss: 3.52 - ETA: 10:08 - loss: 3.52 - ETA: 10:07 - loss: 3.52 - ETA: 10:06 - loss: 3.52 - ETA: 10:06 - loss: 3.52 - ETA: 10:05 - loss: 3.52 - ETA: 10:04 - loss: 3.52 - ETA: 10:03 - loss: 3.52 - ETA: 10:03 - loss: 3.52 - ETA: 10:02 - loss: 3.52 - ETA: 10:01 - loss: 3.52 - ETA: 10:00 - loss: 3.52 - ETA: 9:59 - loss: 3.5211 - ETA: 9:59 - loss: 3.521 - ETA: 9:58 - loss: 3.521 - ETA: 9:57 - loss: 3.521 - ETA: 9:57 - loss: 3.521 - ETA: 9:56 - loss: 3.521 - ETA: 9:55 - loss: 3.521 - ETA: 9:54 - loss: 3.521 - ETA: 9:54 - loss: 3.521 - ETA: 9:53 - loss: 3.521 - ETA: 9:52 - loss: 3.521 - ETA: 9:51 - loss: 3.521 - ETA: 9:51 - loss: 3.521 - ETA: 9:50 - loss: 3.521 - ETA: 9:49 - loss: 3.521 - ETA: 9:49 - loss: 3.521 - ETA: 9:48 - loss: 3.521 - ETA: 9:47 - loss: 3.521 - ETA: 9:46 - loss: 3.521 - ETA: 9:46 - loss: 3.521 - ETA: 9:45 - loss: 3.521 - ETA: 9:44 - loss: 3.521 - ETA: 9:44 - loss: 3.521 - ETA: 9:43 - loss: 3.521 - ETA: 9:42 - loss: 3.521 - ETA: 9:41 - loss: 3.521 - ETA: 9:41 - loss: 3.521 - ETA: 9:40 - loss: 3.521 - ETA: 9:39 - loss: 3.521 - ETA: 9:38 - loss: 3.521 - ETA: 9:38 - loss: 3.521 - ETA: 9:37 - loss: 3.521 - ETA: 9:36 - loss: 3.521 - ETA: 9:35 - loss: 3.521 - ETA: 9:35 - loss: 3.521 - ETA: 9:34 - loss: 3.521 - ETA: 9:33 - loss: 3.521 - ETA: 9:32 - loss: 3.521 - ETA: 9:32 - loss: 3.521 - ETA: 9:31 - loss: 3.521 - ETA: 9:30 - loss: 3.521 - ETA: 9:29 - loss: 3.521 - ETA: 9:29 - loss: 3.521 - ETA: 9:28 - loss: 3.521 - ETA: 9:27 - loss: 3.521 - ETA: 9:26 - loss: 3.521 - ETA: 9:26 - loss: 3.521 - ETA: 9:25 - loss: 3.521 - ETA: 9:24 - loss: 3.521 - ETA: 9:23 - loss: 3.521 - ETA: 9:23 - loss: 3.521 - ETA: 9:22 - loss: 3.521 - ETA: 9:21 - loss: 3.521 - ETA: 9:20 - loss: 3.521 - ETA: 9:20 - loss: 3.521 - ETA: 9:19 - loss: 3.521 - ETA: 9:18 - loss: 3.521 - ETA: 9:17 - loss: 3.521 - ETA: 9:17 - loss: 3.521 - ETA: 9:16 - loss: 3.521 - ETA: 9:15 - loss: 3.521 - ETA: 9:14 - loss: 3.521 - ETA: 9:14 - loss: 3.521 - ETA: 9:13 - loss: 3.521 - ETA: 9:12 - loss: 3.521 - ETA: 9:11 - loss: 3.521 - ETA: 9:11 - loss: 3.521 - ETA: 9:10 - loss: 3.521 - ETA: 9:09 - loss: 3.521 - ETA: 9:08 - loss: 3.521 - ETA: 9:08 - loss: 3.521 - ETA: 9:07 - loss: 3.521 - ETA: 9:06 - loss: 3.521 - ETA: 9:05 - loss: 3.521 - ETA: 9:05 - loss: 3.521 - ETA: 9:04 - loss: 3.521 - ETA: 9:03 - loss: 3.521 - ETA: 9:02 - loss: 3.521 - ETA: 9:02 - loss: 3.521 - ETA: 9:01 - loss: 3.521 - ETA: 9:00 - loss: 3.521 - ETA: 8:59 - loss: 3.521 - ETA: 8:59 - loss: 3.521 - ETA: 8:58 - loss: 3.521 - ETA: 8:57 - loss: 3.521 - ETA: 8:56 - loss: 3.521 - ETA: 8:55 - loss: 3.521 - ETA: 8:55 - loss: 3.521 - ETA: 8:54 - loss: 3.521 - ETA: 8:53 - loss: 3.521 - ETA: 8:52 - loss: 3.521 - ETA: 8:52 - loss: 3.521 - ETA: 8:51 - loss: 3.521 - ETA: 8:50 - loss: 3.521 - ETA: 8:49 - loss: 3.521 - ETA: 8:49 - loss: 3.521 - ETA: 8:48 - loss: 3.521 - ETA: 8:47 - loss: 3.521 - ETA: 8:46 - loss: 3.521 - ETA: 8:46 - loss: 3.521 - ETA: 8:45 - loss: 3.520 - ETA: 8:44 - loss: 3.520 - ETA: 8:43 - loss: 3.520 - ETA: 8:43 - loss: 3.520 - ETA: 8:42 - loss: 3.520 - ETA: 8:41 - loss: 3.520 - ETA: 8:40 - loss: 3.520 - ETA: 8:40 - loss: 3.520 - ETA: 8:39 - loss: 3.521 - ETA: 8:38 - loss: 3.521 - ETA: 8:37 - loss: 3.521 - ETA: 8:37 - loss: 3.521 - ETA: 8:36 - loss: 3.521 - ETA: 8:35 - loss: 3.521 - ETA: 8:34 - loss: 3.521 - ETA: 8:34 - loss: 3.521 - ETA: 8:33 - loss: 3.521 - ETA: 8:32 - loss: 3.521 - ETA: 8:31 - loss: 3.521 - ETA: 8:30 - loss: 3.521 - ETA: 8:30 - loss: 3.521 - ETA: 8:29 - loss: 3.521 - ETA: 8:28 - loss: 3.521 - ETA: 8:27 - loss: 3.521 - ETA: 8:27 - loss: 3.520 - ETA: 8:26 - loss: 3.520 - ETA: 8:25 - loss: 3.520 - ETA: 8:24 - loss: 3.520 - ETA: 8:24 - loss: 3.520 - ETA: 8:23 - loss: 3.520 - ETA: 8:22 - loss: 3.520 - ETA: 8:21 - loss: 3.520 - ETA: 8:21 - loss: 3.520 - ETA: 8:20 - loss: 3.520 - ETA: 8:19 - loss: 3.520 - ETA: 8:18 - loss: 3.520 - ETA: 8:18 - loss: 3.520 - ETA: 8:17 - loss: 3.520 - ETA: 8:16 - loss: 3.520 - ETA: 8:15 - loss: 3.520 - ETA: 8:15 - loss: 3.520 - ETA: 8:14 - loss: 3.520 - ETA: 8:13 - loss: 3.520 - ETA: 8:12 - loss: 3.520 - ETA: 8:12 - loss: 3.520 - ETA: 8:11 - loss: 3.520 - ETA: 8:10 - loss: 3.520 - ETA: 8:09 - loss: 3.520 - ETA: 8:09 - loss: 3.520 - ETA: 8:08 - loss: 3.520 - ETA: 8:07 - loss: 3.520 - ETA: 8:06 - loss: 3.520 - ETA: 8:06 - loss: 3.520 - ETA: 8:05 - loss: 3.520 - ETA: 8:04 - loss: 3.520 - ETA: 8:03 - loss: 3.520 - ETA: 8:03 - loss: 3.520 - ETA: 8:02 - loss: 3.520 - ETA: 8:01 - loss: 3.520 - ETA: 8:00 - loss: 3.520 - ETA: 7:59 - loss: 3.520 - ETA: 7:59 - loss: 3.520 - ETA: 7:58 - loss: 3.520 - ETA: 7:57 - loss: 3.520 - ETA: 7:57 - loss: 3.520 - ETA: 7:56 - loss: 3.520 - ETA: 7:55 - loss: 3.520 - ETA: 7:54 - loss: 3.520 - ETA: 7:54 - loss: 3.520 - ETA: 7:53 - loss: 3.520 - ETA: 7:52 - loss: 3.520 - ETA: 7:51 - loss: 3.520 - ETA: 7:51 - loss: 3.520 - ETA: 7:50 - loss: 3.520 - ETA: 7:49 - loss: 3.520 - ETA: 7:48 - loss: 3.520 - ETA: 7:48 - loss: 3.520 - ETA: 7:47 - loss: 3.520 - ETA: 7:46 - loss: 3.520 - ETA: 7:45 - loss: 3.520 - ETA: 7:45 - loss: 3.520 - ETA: 7:44 - loss: 3.520 - ETA: 7:43 - loss: 3.520 - ETA: 7:42 - loss: 3.520 - ETA: 7:42 - loss: 3.520 - ETA: 7:42 - loss: 3.520 - ETA: 7:43 - loss: 3.520 - ETA: 7:42 - loss: 3.520 - ETA: 7:42 - loss: 3.520 - ETA: 7:41 - loss: 3.520 - ETA: 7:41 - loss: 3.520 - ETA: 7:40 - loss: 3.520 - ETA: 7:39 - loss: 3.520 - ETA: 7:39 - loss: 3.520 - ETA: 7:38 - loss: 3.520 - ETA: 7:37 - loss: 3.520 - ETA: 7:37 - loss: 3.520 - ETA: 7:36 - loss: 3.521 - ETA: 7:35 - loss: 3.520 - ETA: 7:35 - loss: 3.521 - ETA: 7:34 - loss: 3.521 - ETA: 7:33 - loss: 3.521 - ETA: 7:32 - loss: 3.521 - ETA: 7:32 - loss: 3.521 - ETA: 7:31 - loss: 3.521 - ETA: 7:30 - loss: 3.521 - ETA: 7:29 - loss: 3.521 - ETA: 7:29 - loss: 3.521 - ETA: 7:28 - loss: 3.521 - ETA: 7:27 - loss: 3.521 - ETA: 7:26 - loss: 3.521 - ETA: 7:26 - loss: 3.521 - ETA: 7:25 - loss: 3.521 - ETA: 7:24 - loss: 3.521 - ETA: 7:23 - loss: 3.520 - ETA: 7:23 - loss: 3.521 - ETA: 7:22 - loss: 3.521 - ETA: 7:21 - loss: 3.521 - ETA: 7:20 - loss: 3.520 - ETA: 7:20 - loss: 3.520 - ETA: 7:19 - loss: 3.5207"
     ]
    },
    {
     "name": "stdout",
     "output_type": "stream",
     "text": [
      "4081/4335 [===========================>..] - ETA: 7:18 - loss: 3.520 - ETA: 7:17 - loss: 3.520 - ETA: 7:17 - loss: 3.520 - ETA: 7:16 - loss: 3.520 - ETA: 7:15 - loss: 3.520 - ETA: 7:14 - loss: 3.520 - ETA: 7:14 - loss: 3.520 - ETA: 7:13 - loss: 3.520 - ETA: 7:12 - loss: 3.520 - ETA: 7:11 - loss: 3.520 - ETA: 7:11 - loss: 3.520 - ETA: 7:10 - loss: 3.520 - ETA: 7:09 - loss: 3.520 - ETA: 7:08 - loss: 3.520 - ETA: 7:08 - loss: 3.520 - ETA: 7:07 - loss: 3.520 - ETA: 7:06 - loss: 3.521 - ETA: 7:05 - loss: 3.520 - ETA: 7:05 - loss: 3.520 - ETA: 7:04 - loss: 3.520 - ETA: 7:03 - loss: 3.520 - ETA: 7:02 - loss: 3.520 - ETA: 7:02 - loss: 3.521 - ETA: 7:01 - loss: 3.521 - ETA: 7:00 - loss: 3.521 - ETA: 6:59 - loss: 3.520 - ETA: 6:58 - loss: 3.521 - ETA: 6:58 - loss: 3.521 - ETA: 6:57 - loss: 3.521 - ETA: 6:56 - loss: 3.521 - ETA: 6:55 - loss: 3.521 - ETA: 6:55 - loss: 3.521 - ETA: 6:54 - loss: 3.521 - ETA: 6:53 - loss: 3.520 - ETA: 6:52 - loss: 3.521 - ETA: 6:52 - loss: 3.521 - ETA: 6:51 - loss: 3.521 - ETA: 6:50 - loss: 3.521 - ETA: 6:49 - loss: 3.521 - ETA: 6:49 - loss: 3.521 - ETA: 6:48 - loss: 3.521 - ETA: 6:47 - loss: 3.521 - ETA: 6:46 - loss: 3.521 - ETA: 6:46 - loss: 3.521 - ETA: 6:45 - loss: 3.521 - ETA: 6:44 - loss: 3.521 - ETA: 6:43 - loss: 3.521 - ETA: 6:43 - loss: 3.521 - ETA: 6:42 - loss: 3.521 - ETA: 6:41 - loss: 3.521 - ETA: 6:40 - loss: 3.521 - ETA: 6:40 - loss: 3.521 - ETA: 6:39 - loss: 3.521 - ETA: 6:38 - loss: 3.521 - ETA: 6:37 - loss: 3.521 - ETA: 6:37 - loss: 3.521 - ETA: 6:36 - loss: 3.521 - ETA: 6:35 - loss: 3.521 - ETA: 6:34 - loss: 3.521 - ETA: 6:34 - loss: 3.521 - ETA: 6:33 - loss: 3.521 - ETA: 6:32 - loss: 3.521 - ETA: 6:31 - loss: 3.521 - ETA: 6:31 - loss: 3.521 - ETA: 6:30 - loss: 3.521 - ETA: 6:29 - loss: 3.521 - ETA: 6:28 - loss: 3.521 - ETA: 6:27 - loss: 3.521 - ETA: 6:27 - loss: 3.521 - ETA: 6:26 - loss: 3.521 - ETA: 6:25 - loss: 3.521 - ETA: 6:24 - loss: 3.521 - ETA: 6:24 - loss: 3.521 - ETA: 6:23 - loss: 3.521 - ETA: 6:22 - loss: 3.521 - ETA: 6:21 - loss: 3.521 - ETA: 6:21 - loss: 3.521 - ETA: 6:20 - loss: 3.521 - ETA: 6:19 - loss: 3.521 - ETA: 6:18 - loss: 3.521 - ETA: 6:18 - loss: 3.521 - ETA: 6:17 - loss: 3.521 - ETA: 6:16 - loss: 3.521 - ETA: 6:15 - loss: 3.521 - ETA: 6:15 - loss: 3.521 - ETA: 6:14 - loss: 3.521 - ETA: 6:13 - loss: 3.521 - ETA: 6:12 - loss: 3.522 - ETA: 6:12 - loss: 3.522 - ETA: 6:11 - loss: 3.522 - ETA: 6:10 - loss: 3.521 - ETA: 6:09 - loss: 3.521 - ETA: 6:09 - loss: 3.521 - ETA: 6:08 - loss: 3.521 - ETA: 6:07 - loss: 3.521 - ETA: 6:06 - loss: 3.521 - ETA: 6:05 - loss: 3.521 - ETA: 6:05 - loss: 3.521 - ETA: 6:04 - loss: 3.521 - ETA: 6:03 - loss: 3.521 - ETA: 6:02 - loss: 3.521 - ETA: 6:02 - loss: 3.521 - ETA: 6:01 - loss: 3.521 - ETA: 6:00 - loss: 3.521 - ETA: 5:59 - loss: 3.521 - ETA: 5:59 - loss: 3.521 - ETA: 5:58 - loss: 3.521 - ETA: 5:57 - loss: 3.521 - ETA: 5:56 - loss: 3.521 - ETA: 5:56 - loss: 3.521 - ETA: 5:55 - loss: 3.521 - ETA: 5:54 - loss: 3.521 - ETA: 5:53 - loss: 3.521 - ETA: 5:53 - loss: 3.521 - ETA: 5:52 - loss: 3.521 - ETA: 5:51 - loss: 3.522 - ETA: 5:50 - loss: 3.522 - ETA: 5:49 - loss: 3.522 - ETA: 5:49 - loss: 3.521 - ETA: 5:48 - loss: 3.521 - ETA: 5:47 - loss: 3.521 - ETA: 5:46 - loss: 3.521 - ETA: 5:46 - loss: 3.521 - ETA: 5:45 - loss: 3.521 - ETA: 5:44 - loss: 3.521 - ETA: 5:43 - loss: 3.521 - ETA: 5:43 - loss: 3.521 - ETA: 5:42 - loss: 3.521 - ETA: 5:41 - loss: 3.521 - ETA: 5:40 - loss: 3.522 - ETA: 5:39 - loss: 3.522 - ETA: 5:39 - loss: 3.522 - ETA: 5:38 - loss: 3.521 - ETA: 5:37 - loss: 3.521 - ETA: 5:36 - loss: 3.521 - ETA: 5:35 - loss: 3.521 - ETA: 5:35 - loss: 3.521 - ETA: 5:34 - loss: 3.521 - ETA: 5:33 - loss: 3.521 - ETA: 5:32 - loss: 3.521 - ETA: 5:31 - loss: 3.521 - ETA: 5:31 - loss: 3.521 - ETA: 5:30 - loss: 3.521 - ETA: 5:29 - loss: 3.521 - ETA: 5:28 - loss: 3.521 - ETA: 5:27 - loss: 3.521 - ETA: 5:27 - loss: 3.521 - ETA: 5:26 - loss: 3.521 - ETA: 5:25 - loss: 3.521 - ETA: 5:24 - loss: 3.521 - ETA: 5:24 - loss: 3.521 - ETA: 5:23 - loss: 3.521 - ETA: 5:22 - loss: 3.521 - ETA: 5:21 - loss: 3.521 - ETA: 5:20 - loss: 3.521 - ETA: 5:20 - loss: 3.521 - ETA: 5:19 - loss: 3.521 - ETA: 5:18 - loss: 3.521 - ETA: 5:17 - loss: 3.521 - ETA: 5:16 - loss: 3.521 - ETA: 5:16 - loss: 3.521 - ETA: 5:15 - loss: 3.521 - ETA: 5:14 - loss: 3.522 - ETA: 5:13 - loss: 3.522 - ETA: 5:12 - loss: 3.522 - ETA: 5:12 - loss: 3.521 - ETA: 5:11 - loss: 3.521 - ETA: 5:10 - loss: 3.521 - ETA: 5:09 - loss: 3.521 - ETA: 5:08 - loss: 3.521 - ETA: 5:08 - loss: 3.521 - ETA: 5:07 - loss: 3.521 - ETA: 5:06 - loss: 3.521 - ETA: 5:05 - loss: 3.521 - ETA: 5:04 - loss: 3.521 - ETA: 5:04 - loss: 3.521 - ETA: 5:03 - loss: 3.521 - ETA: 5:02 - loss: 3.521 - ETA: 5:01 - loss: 3.522 - ETA: 5:01 - loss: 3.522 - ETA: 5:00 - loss: 3.522 - ETA: 4:59 - loss: 3.522 - ETA: 4:58 - loss: 3.522 - ETA: 4:57 - loss: 3.522 - ETA: 4:57 - loss: 3.522 - ETA: 4:56 - loss: 3.522 - ETA: 4:55 - loss: 3.522 - ETA: 4:54 - loss: 3.522 - ETA: 4:53 - loss: 3.522 - ETA: 4:53 - loss: 3.522 - ETA: 4:52 - loss: 3.522 - ETA: 4:51 - loss: 3.521 - ETA: 4:50 - loss: 3.522 - ETA: 4:50 - loss: 3.522 - ETA: 4:49 - loss: 3.522 - ETA: 4:48 - loss: 3.522 - ETA: 4:47 - loss: 3.522 - ETA: 4:46 - loss: 3.522 - ETA: 4:46 - loss: 3.522 - ETA: 4:45 - loss: 3.522 - ETA: 4:44 - loss: 3.522 - ETA: 4:43 - loss: 3.521 - ETA: 4:42 - loss: 3.521 - ETA: 4:42 - loss: 3.521 - ETA: 4:41 - loss: 3.522 - ETA: 4:40 - loss: 3.522 - ETA: 4:39 - loss: 3.522 - ETA: 4:39 - loss: 3.522 - ETA: 4:38 - loss: 3.522 - ETA: 4:37 - loss: 3.521 - ETA: 4:36 - loss: 3.522 - ETA: 4:35 - loss: 3.521 - ETA: 4:35 - loss: 3.521 - ETA: 4:34 - loss: 3.521 - ETA: 4:33 - loss: 3.521 - ETA: 4:32 - loss: 3.521 - ETA: 4:31 - loss: 3.521 - ETA: 4:31 - loss: 3.521 - ETA: 4:30 - loss: 3.521 - ETA: 4:29 - loss: 3.521 - ETA: 4:28 - loss: 3.521 - ETA: 4:27 - loss: 3.521 - ETA: 4:27 - loss: 3.521 - ETA: 4:26 - loss: 3.521 - ETA: 4:25 - loss: 3.521 - ETA: 4:24 - loss: 3.521 - ETA: 4:24 - loss: 3.521 - ETA: 4:23 - loss: 3.521 - ETA: 4:22 - loss: 3.521 - ETA: 4:21 - loss: 3.521 - ETA: 4:20 - loss: 3.521 - ETA: 4:20 - loss: 3.521 - ETA: 4:19 - loss: 3.521 - ETA: 4:18 - loss: 3.521 - ETA: 4:17 - loss: 3.521 - ETA: 4:17 - loss: 3.521 - ETA: 4:16 - loss: 3.521 - ETA: 4:15 - loss: 3.521 - ETA: 4:14 - loss: 3.521 - ETA: 4:13 - loss: 3.521 - ETA: 4:13 - loss: 3.521 - ETA: 4:12 - loss: 3.521 - ETA: 4:11 - loss: 3.521 - ETA: 4:10 - loss: 3.521 - ETA: 4:09 - loss: 3.521 - ETA: 4:09 - loss: 3.521 - ETA: 4:08 - loss: 3.521 - ETA: 4:07 - loss: 3.521 - ETA: 4:06 - loss: 3.522 - ETA: 4:06 - loss: 3.522 - ETA: 4:05 - loss: 3.522 - ETA: 4:04 - loss: 3.522 - ETA: 4:03 - loss: 3.521 - ETA: 4:02 - loss: 3.522 - ETA: 4:02 - loss: 3.522 - ETA: 4:01 - loss: 3.522 - ETA: 4:00 - loss: 3.522 - ETA: 3:59 - loss: 3.522 - ETA: 3:58 - loss: 3.521 - ETA: 3:58 - loss: 3.521 - ETA: 3:57 - loss: 3.521 - ETA: 3:56 - loss: 3.521 - ETA: 3:55 - loss: 3.521 - ETA: 3:55 - loss: 3.521 - ETA: 3:54 - loss: 3.521 - ETA: 3:53 - loss: 3.521 - ETA: 3:52 - loss: 3.521 - ETA: 3:51 - loss: 3.521 - ETA: 3:51 - loss: 3.521 - ETA: 3:50 - loss: 3.521 - ETA: 3:49 - loss: 3.521 - ETA: 3:48 - loss: 3.522 - ETA: 3:48 - loss: 3.521 - ETA: 3:47 - loss: 3.521 - ETA: 3:46 - loss: 3.521 - ETA: 3:45 - loss: 3.522 - ETA: 3:44 - loss: 3.522 - ETA: 3:44 - loss: 3.522 - ETA: 3:43 - loss: 3.522 - ETA: 3:42 - loss: 3.522 - ETA: 3:41 - loss: 3.522 - ETA: 3:41 - loss: 3.521 - ETA: 3:40 - loss: 3.521 - ETA: 3:39 - loss: 3.521 - ETA: 3:38 - loss: 3.521 - ETA: 3:37 - loss: 3.521 - ETA: 3:37 - loss: 3.521 - ETA: 3:36 - loss: 3.521 - ETA: 3:35 - loss: 3.521 - ETA: 3:34 - loss: 3.521 - ETA: 3:33 - loss: 3.520 - ETA: 3:33 - loss: 3.520 - ETA: 3:32 - loss: 3.520 - ETA: 3:31 - loss: 3.520 - ETA: 3:30 - loss: 3.520 - ETA: 3:30 - loss: 3.520 - ETA: 3:29 - loss: 3.520 - ETA: 3:28 - loss: 3.519 - ETA: 3:27 - loss: 3.519 - ETA: 3:26 - loss: 3.519 - ETA: 3:26 - loss: 3.519 - ETA: 3:25 - loss: 3.519 - ETA: 3:24 - loss: 3.519 - ETA: 3:23 - loss: 3.519 - ETA: 3:23 - loss: 3.519 - ETA: 3:22 - loss: 3.519 - ETA: 3:21 - loss: 3.518 - ETA: 3:20 - loss: 3.518 - ETA: 3:19 - loss: 3.518 - ETA: 3:19 - loss: 3.518 - ETA: 3:18 - loss: 3.518 - ETA: 3:17 - loss: 3.518 - ETA: 3:16 - loss: 3.518 - ETA: 3:16 - loss: 3.5179"
     ]
    },
    {
     "name": "stdout",
     "output_type": "stream",
     "text": [
      "4335/4335 [==============================] - ETA: 3:15 - loss: 3.517 - ETA: 3:14 - loss: 3.517 - ETA: 3:13 - loss: 3.517 - ETA: 3:12 - loss: 3.517 - ETA: 3:12 - loss: 3.517 - ETA: 3:11 - loss: 3.516 - ETA: 3:10 - loss: 3.516 - ETA: 3:09 - loss: 3.516 - ETA: 3:09 - loss: 3.516 - ETA: 3:08 - loss: 3.516 - ETA: 3:07 - loss: 3.516 - ETA: 3:06 - loss: 3.515 - ETA: 3:05 - loss: 3.515 - ETA: 3:05 - loss: 3.515 - ETA: 3:04 - loss: 3.515 - ETA: 3:03 - loss: 3.515 - ETA: 3:02 - loss: 3.515 - ETA: 3:02 - loss: 3.515 - ETA: 3:01 - loss: 3.514 - ETA: 3:00 - loss: 3.514 - ETA: 2:59 - loss: 3.514 - ETA: 2:58 - loss: 3.514 - ETA: 2:58 - loss: 3.514 - ETA: 2:57 - loss: 3.514 - ETA: 2:56 - loss: 3.514 - ETA: 2:55 - loss: 3.513 - ETA: 2:55 - loss: 3.513 - ETA: 2:54 - loss: 3.513 - ETA: 2:53 - loss: 3.513 - ETA: 2:52 - loss: 3.513 - ETA: 2:51 - loss: 3.513 - ETA: 2:51 - loss: 3.513 - ETA: 2:50 - loss: 3.513 - ETA: 2:49 - loss: 3.512 - ETA: 2:48 - loss: 3.512 - ETA: 2:48 - loss: 3.512 - ETA: 2:47 - loss: 3.512 - ETA: 2:46 - loss: 3.512 - ETA: 2:45 - loss: 3.512 - ETA: 2:44 - loss: 3.512 - ETA: 2:44 - loss: 3.512 - ETA: 2:43 - loss: 3.512 - ETA: 2:42 - loss: 3.511 - ETA: 2:41 - loss: 3.511 - ETA: 2:41 - loss: 3.511 - ETA: 2:40 - loss: 3.511 - ETA: 2:39 - loss: 3.511 - ETA: 2:38 - loss: 3.511 - ETA: 2:37 - loss: 3.511 - ETA: 2:37 - loss: 3.511 - ETA: 2:36 - loss: 3.511 - ETA: 2:35 - loss: 3.511 - ETA: 2:34 - loss: 3.511 - ETA: 2:34 - loss: 3.511 - ETA: 2:33 - loss: 3.511 - ETA: 2:32 - loss: 3.510 - ETA: 2:31 - loss: 3.510 - ETA: 2:30 - loss: 3.510 - ETA: 2:30 - loss: 3.510 - ETA: 2:29 - loss: 3.510 - ETA: 2:28 - loss: 3.510 - ETA: 2:27 - loss: 3.510 - ETA: 2:27 - loss: 3.510 - ETA: 2:26 - loss: 3.510 - ETA: 2:25 - loss: 3.510 - ETA: 2:24 - loss: 3.509 - ETA: 2:23 - loss: 3.509 - ETA: 2:23 - loss: 3.509 - ETA: 2:22 - loss: 3.509 - ETA: 2:21 - loss: 3.509 - ETA: 2:20 - loss: 3.509 - ETA: 2:20 - loss: 3.509 - ETA: 2:19 - loss: 3.509 - ETA: 2:18 - loss: 3.508 - ETA: 2:17 - loss: 3.508 - ETA: 2:16 - loss: 3.508 - ETA: 2:16 - loss: 3.508 - ETA: 2:15 - loss: 3.508 - ETA: 2:14 - loss: 3.508 - ETA: 2:13 - loss: 3.508 - ETA: 2:13 - loss: 3.508 - ETA: 2:12 - loss: 3.507 - ETA: 2:11 - loss: 3.507 - ETA: 2:10 - loss: 3.507 - ETA: 2:10 - loss: 3.507 - ETA: 2:09 - loss: 3.507 - ETA: 2:08 - loss: 3.507 - ETA: 2:07 - loss: 3.507 - ETA: 2:06 - loss: 3.507 - ETA: 2:06 - loss: 3.507 - ETA: 2:05 - loss: 3.507 - ETA: 2:04 - loss: 3.507 - ETA: 2:03 - loss: 3.507 - ETA: 2:03 - loss: 3.507 - ETA: 2:02 - loss: 3.507 - ETA: 2:01 - loss: 3.507 - ETA: 2:00 - loss: 3.506 - ETA: 1:59 - loss: 3.506 - ETA: 1:59 - loss: 3.506 - ETA: 1:58 - loss: 3.506 - ETA: 1:57 - loss: 3.506 - ETA: 1:56 - loss: 3.506 - ETA: 1:56 - loss: 3.506 - ETA: 1:55 - loss: 3.505 - ETA: 1:54 - loss: 3.505 - ETA: 1:53 - loss: 3.505 - ETA: 1:53 - loss: 3.505 - ETA: 1:52 - loss: 3.505 - ETA: 1:51 - loss: 3.505 - ETA: 1:50 - loss: 3.505 - ETA: 1:49 - loss: 3.504 - ETA: 1:49 - loss: 3.504 - ETA: 1:48 - loss: 3.504 - ETA: 1:47 - loss: 3.504 - ETA: 1:46 - loss: 3.504 - ETA: 1:46 - loss: 3.504 - ETA: 1:45 - loss: 3.504 - ETA: 1:44 - loss: 3.504 - ETA: 1:43 - loss: 3.504 - ETA: 1:42 - loss: 3.504 - ETA: 1:42 - loss: 3.503 - ETA: 1:41 - loss: 3.503 - ETA: 1:40 - loss: 3.503 - ETA: 1:39 - loss: 3.503 - ETA: 1:39 - loss: 3.503 - ETA: 1:38 - loss: 3.503 - ETA: 1:37 - loss: 3.503 - ETA: 1:36 - loss: 3.503 - ETA: 1:36 - loss: 3.503 - ETA: 1:35 - loss: 3.502 - ETA: 1:34 - loss: 3.502 - ETA: 1:33 - loss: 3.502 - ETA: 1:32 - loss: 3.502 - ETA: 1:32 - loss: 3.502 - ETA: 1:31 - loss: 3.502 - ETA: 1:30 - loss: 3.502 - ETA: 1:29 - loss: 3.502 - ETA: 1:29 - loss: 3.502 - ETA: 1:28 - loss: 3.502 - ETA: 1:27 - loss: 3.501 - ETA: 1:26 - loss: 3.501 - ETA: 1:25 - loss: 3.501 - ETA: 1:25 - loss: 3.501 - ETA: 1:24 - loss: 3.501 - ETA: 1:23 - loss: 3.501 - ETA: 1:22 - loss: 3.501 - ETA: 1:22 - loss: 3.501 - ETA: 1:21 - loss: 3.501 - ETA: 1:20 - loss: 3.501 - ETA: 1:19 - loss: 3.501 - ETA: 1:19 - loss: 3.501 - ETA: 1:18 - loss: 3.500 - ETA: 1:17 - loss: 3.500 - ETA: 1:16 - loss: 3.500 - ETA: 1:15 - loss: 3.500 - ETA: 1:15 - loss: 3.500 - ETA: 1:14 - loss: 3.500 - ETA: 1:13 - loss: 3.500 - ETA: 1:12 - loss: 3.500 - ETA: 1:12 - loss: 3.500 - ETA: 1:11 - loss: 3.500 - ETA: 1:10 - loss: 3.500 - ETA: 1:09 - loss: 3.500 - ETA: 1:09 - loss: 3.500 - ETA: 1:08 - loss: 3.500 - ETA: 1:07 - loss: 3.499 - ETA: 1:06 - loss: 3.499 - ETA: 1:05 - loss: 3.499 - ETA: 1:05 - loss: 3.499 - ETA: 1:04 - loss: 3.499 - ETA: 1:03 - loss: 3.499 - ETA: 1:02 - loss: 3.499 - ETA: 1:02 - loss: 3.499 - ETA: 1:01 - loss: 3.499 - ETA: 1:00 - loss: 3.499 - ETA: 59s - loss: 3.498 - ETA: 59s - loss: 3.49 - ETA: 58s - loss: 3.49 - ETA: 57s - loss: 3.49 - ETA: 56s - loss: 3.49 - ETA: 55s - loss: 3.49 - ETA: 55s - loss: 3.49 - ETA: 54s - loss: 3.49 - ETA: 53s - loss: 3.49 - ETA: 52s - loss: 3.49 - ETA: 52s - loss: 3.49 - ETA: 51s - loss: 3.49 - ETA: 50s - loss: 3.49 - ETA: 49s - loss: 3.49 - ETA: 49s - loss: 3.49 - ETA: 48s - loss: 3.49 - ETA: 47s - loss: 3.49 - ETA: 46s - loss: 3.49 - ETA: 45s - loss: 3.49 - ETA: 45s - loss: 3.49 - ETA: 44s - loss: 3.49 - ETA: 43s - loss: 3.49 - ETA: 42s - loss: 3.49 - ETA: 42s - loss: 3.49 - ETA: 41s - loss: 3.49 - ETA: 40s - loss: 3.49 - ETA: 39s - loss: 3.49 - ETA: 39s - loss: 3.49 - ETA: 38s - loss: 3.49 - ETA: 37s - loss: 3.49 - ETA: 36s - loss: 3.49 - ETA: 36s - loss: 3.49 - ETA: 35s - loss: 3.49 - ETA: 34s - loss: 3.49 - ETA: 33s - loss: 3.49 - ETA: 32s - loss: 3.49 - ETA: 32s - loss: 3.49 - ETA: 31s - loss: 3.49 - ETA: 30s - loss: 3.49 - ETA: 29s - loss: 3.49 - ETA: 29s - loss: 3.49 - ETA: 28s - loss: 3.49 - ETA: 27s - loss: 3.49 - ETA: 26s - loss: 3.49 - ETA: 26s - loss: 3.49 - ETA: 25s - loss: 3.49 - ETA: 24s - loss: 3.49 - ETA: 23s - loss: 3.49 - ETA: 22s - loss: 3.49 - ETA: 22s - loss: 3.49 - ETA: 21s - loss: 3.49 - ETA: 20s - loss: 3.49 - ETA: 19s - loss: 3.49 - ETA: 19s - loss: 3.49 - ETA: 18s - loss: 3.49 - ETA: 17s - loss: 3.49 - ETA: 16s - loss: 3.49 - ETA: 16s - loss: 3.49 - ETA: 15s - loss: 3.49 - ETA: 14s - loss: 3.49 - ETA: 13s - loss: 3.49 - ETA: 13s - loss: 3.49 - ETA: 12s - loss: 3.49 - ETA: 11s - loss: 3.49 - ETA: 10s - loss: 3.49 - ETA: 9s - loss: 3.4924 - ETA: 9s - loss: 3.492 - ETA: 8s - loss: 3.492 - ETA: 7s - loss: 3.492 - ETA: 6s - loss: 3.492 - ETA: 6s - loss: 3.491 - ETA: 5s - loss: 3.491 - ETA: 4s - loss: 3.491 - ETA: 3s - loss: 3.491 - ETA: 3s - loss: 3.491 - ETA: 2s - loss: 3.491 - ETA: 1s - loss: 3.491 - ETA: 0s - loss: 3.491 - 3316s 765ms/step - loss: 3.4912\n",
      "####################\n",
      "Temperature: 0.2\n",
      "####################\n",
      "\" aracımız 2009 model bmw 5 . 20 d m paket m paket dış renk : siyah iç renk : bej deri döşeme : sunroof bi xenon farlar far yıkama yağmur sensörü far sensörü far yıkama sistemi ön arka park sensörü geri görüş kamerası bluetooth telefon usb aux cd mp3 çalar usb aux cd mp3 çalar yol bilgisayarı fonksiyonel direksiyon elektrikli katlanır aynalar elektrikli arka perde yan makam perdeleri elektrikli arka perde yan makam perdeleri kararan iç dikiz aynası elektrikli arka perde yan makam perdeleri elektrikli arka perde yan makam perde yan makam perde yan makam perde yan makam perdeleri elektrikli arka perde yan makam perdeleri elektrikli arka perde elektrikli katlanır yan aynalar elektrikli arka perde yan makam perdeleri elektrikli arka perde yan makam perdeleri elektrikli arka perde yan makam perdeleri elektrikli arka perde yan makam perdeleri elektrikli arka perde yan makam perdeleri elektrikli arka perde elektrikli katlanır yan aynalar kararan iç dikiz aynası fonksiyonel direksiyon hız sabitleyici elektrikli katlanır aynalar elektrikli arka perde yan makam perde yan makam perdeleri elektrikli arka perde yan makam perdeleri elektrikli arka perde yan makam perdeleri elektrikli arka perde yan makam perdeleri elektrikli arka perde yan makam perde yan makam perde yan makam perdeleri arka elektrikli perde yan makam perde yan makam perdeleri arka ve yan makam perde yan makam perdeleri elektrikli arka perde yan makam perdeleri elektrikli arka perde yan makam perdeleri elektrikli arka perde elektrikli katlanır yan aynalar kararan iç dikiz aynası elektronik el freni çift bölge dijital klima yol bilgisayarı cruise control ( hız sabitleyici ) elektrikli katlanır yan aynalar elektronik park freni yol bilgisayarı yağmur sensörü far sensörü elektrikli katlanır yan aynalar lastik basınç sensörü fonksiyonel direksiyon elektrikli katlanır aynalar elektrikli arka perde yan makam perdeleri elektrikli arka perde hava yastıkları yol bilgisayarı cruise control ( hız sabitleyici )\n"
     ]
    },
    {
     "name": "stdout",
     "output_type": "stream",
     "text": [
      "\n",
      "\" aracımız 2009 model bmw 5 . 20 d m paket m paket dış renk : siyah iç renk : bej deri döşeme : sunroof bi xenon farlar far yıkama far yıkama sistemi yağmur sensörü far sensörü ön arka park sensörü hız sabitleyici elektrikli katlanır aynalar far sensörü yağmur sensörü ön arka park sensörü far sensörü elektrikli katlanır aynalar elektrikli arka perde\n",
      "\n",
      "\" aracımız 2009 model bmw 5 . 20 d m paket . borusan çıkışlı dış renk : beyaz iç renk : bej deri döşeme : sunroof bi xenon farlar far yıkama far ve yağmur sensörü ön arka park sensörü far sensörü yağmur sensörü far sensörü ön arka park sensörü far sensörü yağmur sensörü far sensörü ön arka park sensörü elektrikli katlanır aynalar far yıkama sistemi elektrikli arka perde sis farı far sensörü yağmur sensörü far sensörü ön arka park sensörü elektrikli katlanır aynalar elektrikli arka perde\n",
      "\n",
      "####################\n",
      "Temperature: 0.5\n",
      "####################\n",
      "sahibinden çok temiz kullanılmış bir araç çok temiz kullanılmış bir araçtır\n",
      "\n",
      "aracımız 2009 model bmw 5 . 20 d comfort otomatik vites lpg li ( ruhsata işli ) bakımları yeni yapılmıştır\n",
      "\n",
      "\" araç sahibinden , satılıktır . bmw acil durum çagrısı ( bmw 520 ) d . m paket dış renk : beyaz iç renk : bej deri döşeme : sunroof ( – ön – arka ) park mesafe kontrol ön arka navigasyon sistemi ( acil fren destekli ) ön koltuk ısıtma ( elektrikli ) ön arka kol dayama ön arka kol dayama arka kol dayama ön arka kol dayama arka kol dayama arka kol dayama arka kol dayama isofix ( tramer )\n",
      "\n",
      "####################\n",
      "Temperature: 1.0\n",
      "####################\n",
      "\" aracımızda ağır hasar kaydı mevcuttur ağır 7 . 500 tl dir boya olarak aşağıda işaretlenmiştir . tramer kaydı parça ve kayıt tl civarında % 80 çıkmaktadır . toplamda 4 parça 12 . 000 tl parça sol ön kapı ve arka çamurluk lokal boya mevcut hasar tramer kaydı : m tampon değişimi 400 tl hasar kaydı ( sol ön kapı ve arka sol bir ) sol ön çamurluk altı boyalı parçalar üst model boyasız borusan çıkışlı aracımızın bakımları borusan servis yaptığı anahtarı ve kitapçıkları mevcuttur sport , comfort kasko tarafından kullanılmış , içinde şehir dışından gelecekler arabalarla verilip araç özellikleri çalışmaktadır . herhangi bir güzeli arıza aksamları da iç kozmetiği klima sürüş seçeneği ön arka park sensörleri ( zaman ön far sistemi ve otomatik ) ) arka ve ön tampon altı sağ orjınal sol koltuk sol hafıza koltuklar sağ sol tesisatı komple a kadıköy kapağı orjinal ied double ekran ve ön plastik tampon mail paspaslar katlanır ayna hız sabitleyici yedek anahtarı , kitapçıkları tüm bakımları yaptırılmıştır . özel renk 2 ay önce yapılmıştır www . . com ​\n",
      "\n",
      "pazar günleri açığız mantıklı takaslar değerlendirilir otomatik vites araçla takas olur\n",
      "\n",
      "\" araç ev ve arsa takası teklif etmeyiniz . ! bmw otomatik vites topuzu sanroof dijital klima elektirkli katlanır aynalar 4 bölge dijital klima ( klima arızası yoktur ) iç dış ışık paket kaydi sos sürücü beyaz zenon mercekli far vs . aracımız 2009 modeldir ve tamamen hatasızdır . bakımları zamanında yapılmıştır aracımız özel servis güzel olup extra olarak m fonksiyonel direksiyon simidi 1 bulunuyor kış lastiği kışlık ve yazlık vardır .\n",
      "\n",
      "Epoch 3/3\n"
     ]
    },
    {
     "name": "stdout",
     "output_type": "stream",
     "text": [
      " 314/4335 [=>............................] - ETA: 45:17 - loss: 3.20 - ETA: 47:17 - loss: 3.11 - ETA: 46:39 - loss: 3.27 - ETA: 46:57 - loss: 3.27 - ETA: 47:12 - loss: 3.25 - ETA: 47:07 - loss: 3.22 - ETA: 47:33 - loss: 3.28 - ETA: 48:17 - loss: 3.32 - ETA: 48:24 - loss: 3.27 - ETA: 48:26 - loss: 3.24 - ETA: 48:42 - loss: 3.24 - ETA: 48:48 - loss: 3.22 - ETA: 48:37 - loss: 3.22 - ETA: 48:49 - loss: 3.21 - ETA: 48:46 - loss: 3.17 - ETA: 48:32 - loss: 3.18 - ETA: 48:34 - loss: 3.18 - ETA: 48:39 - loss: 3.16 - ETA: 48:32 - loss: 3.14 - ETA: 48:30 - loss: 3.15 - ETA: 48:29 - loss: 3.16 - ETA: 48:27 - loss: 3.14 - ETA: 48:28 - loss: 3.13 - ETA: 48:32 - loss: 3.12 - ETA: 48:29 - loss: 3.12 - ETA: 48:28 - loss: 3.14 - ETA: 48:31 - loss: 3.15 - ETA: 48:29 - loss: 3.15 - ETA: 48:28 - loss: 3.15 - ETA: 48:27 - loss: 3.16 - ETA: 48:21 - loss: 3.14 - ETA: 48:21 - loss: 3.13 - ETA: 48:20 - loss: 3.13 - ETA: 48:18 - loss: 3.13 - ETA: 48:15 - loss: 3.12 - ETA: 48:13 - loss: 3.13 - ETA: 48:10 - loss: 3.12 - ETA: 48:07 - loss: 3.11 - ETA: 48:07 - loss: 3.12 - ETA: 48:03 - loss: 3.13 - ETA: 48:01 - loss: 3.14 - ETA: 47:59 - loss: 3.13 - ETA: 47:57 - loss: 3.13 - ETA: 47:57 - loss: 3.13 - ETA: 48:02 - loss: 3.13 - ETA: 48:00 - loss: 3.13 - ETA: 47:57 - loss: 3.12 - ETA: 47:55 - loss: 3.12 - ETA: 47:51 - loss: 3.13 - ETA: 47:51 - loss: 3.12 - ETA: 47:51 - loss: 3.12 - ETA: 47:48 - loss: 3.13 - ETA: 47:48 - loss: 3.13 - ETA: 47:48 - loss: 3.13 - ETA: 47:43 - loss: 3.13 - ETA: 47:45 - loss: 3.14 - ETA: 47:45 - loss: 3.14 - ETA: 47:41 - loss: 3.14 - ETA: 47:40 - loss: 3.13 - ETA: 47:39 - loss: 3.13 - ETA: 47:36 - loss: 3.13 - ETA: 47:36 - loss: 3.12 - ETA: 47:35 - loss: 3.12 - ETA: 47:32 - loss: 3.12 - ETA: 47:32 - loss: 3.12 - ETA: 47:31 - loss: 3.12 - ETA: 47:27 - loss: 3.12 - ETA: 47:27 - loss: 3.12 - ETA: 47:25 - loss: 3.12 - ETA: 47:22 - loss: 3.12 - ETA: 47:22 - loss: 3.11 - ETA: 47:23 - loss: 3.11 - ETA: 47:22 - loss: 3.11 - ETA: 47:21 - loss: 3.11 - ETA: 47:21 - loss: 3.11 - ETA: 47:18 - loss: 3.11 - ETA: 47:19 - loss: 3.12 - ETA: 47:19 - loss: 3.12 - ETA: 47:17 - loss: 3.11 - ETA: 47:18 - loss: 3.11 - ETA: 47:16 - loss: 3.11 - ETA: 47:15 - loss: 3.10 - ETA: 47:15 - loss: 3.10 - ETA: 47:14 - loss: 3.10 - ETA: 47:12 - loss: 3.09 - ETA: 47:11 - loss: 3.09 - ETA: 47:11 - loss: 3.09 - ETA: 47:08 - loss: 3.10 - ETA: 47:10 - loss: 3.10 - ETA: 47:10 - loss: 3.10 - ETA: 47:08 - loss: 3.10 - ETA: 47:08 - loss: 3.10 - ETA: 47:08 - loss: 3.11 - ETA: 47:06 - loss: 3.10 - ETA: 47:06 - loss: 3.10 - ETA: 47:06 - loss: 3.11 - ETA: 47:04 - loss: 3.11 - ETA: 47:03 - loss: 3.10 - ETA: 47:03 - loss: 3.11 - ETA: 47:00 - loss: 3.11 - ETA: 47:00 - loss: 3.10 - ETA: 46:59 - loss: 3.10 - ETA: 46:57 - loss: 3.10 - ETA: 46:57 - loss: 3.10 - ETA: 46:56 - loss: 3.10 - ETA: 46:54 - loss: 3.10 - ETA: 46:54 - loss: 3.10 - ETA: 46:53 - loss: 3.10 - ETA: 46:52 - loss: 3.10 - ETA: 46:51 - loss: 3.10 - ETA: 46:50 - loss: 3.10 - ETA: 46:49 - loss: 3.10 - ETA: 46:48 - loss: 3.10 - ETA: 46:46 - loss: 3.11 - ETA: 46:47 - loss: 3.11 - ETA: 46:47 - loss: 3.11 - ETA: 46:46 - loss: 3.10 - ETA: 46:44 - loss: 3.11 - ETA: 46:44 - loss: 3.11 - ETA: 46:43 - loss: 3.10 - ETA: 46:41 - loss: 3.10 - ETA: 46:41 - loss: 3.10 - ETA: 46:40 - loss: 3.10 - ETA: 46:40 - loss: 3.10 - ETA: 46:39 - loss: 3.10 - ETA: 46:38 - loss: 3.09 - ETA: 46:37 - loss: 3.09 - ETA: 46:37 - loss: 3.09 - ETA: 46:36 - loss: 3.09 - ETA: 46:36 - loss: 3.09 - ETA: 46:35 - loss: 3.08 - ETA: 46:34 - loss: 3.09 - ETA: 46:34 - loss: 3.09 - ETA: 46:34 - loss: 3.09 - ETA: 46:33 - loss: 3.09 - ETA: 46:33 - loss: 3.08 - ETA: 46:33 - loss: 3.08 - ETA: 46:31 - loss: 3.08 - ETA: 46:30 - loss: 3.08 - ETA: 46:30 - loss: 3.09 - ETA: 46:30 - loss: 3.08 - ETA: 46:29 - loss: 3.08 - ETA: 46:29 - loss: 3.08 - ETA: 46:28 - loss: 3.08 - ETA: 46:27 - loss: 3.08 - ETA: 46:27 - loss: 3.08 - ETA: 46:25 - loss: 3.08 - ETA: 46:25 - loss: 3.09 - ETA: 46:25 - loss: 3.09 - ETA: 46:24 - loss: 3.09 - ETA: 46:23 - loss: 3.09 - ETA: 46:22 - loss: 3.09 - ETA: 46:21 - loss: 3.09 - ETA: 46:20 - loss: 3.09 - ETA: 46:20 - loss: 3.09 - ETA: 46:19 - loss: 3.09 - ETA: 46:18 - loss: 3.09 - ETA: 46:17 - loss: 3.09 - ETA: 46:16 - loss: 3.09 - ETA: 46:16 - loss: 3.09 - ETA: 46:15 - loss: 3.09 - ETA: 46:14 - loss: 3.09 - ETA: 46:13 - loss: 3.09 - ETA: 46:13 - loss: 3.09 - ETA: 46:11 - loss: 3.09 - ETA: 46:11 - loss: 3.09 - ETA: 46:10 - loss: 3.09 - ETA: 46:09 - loss: 3.09 - ETA: 46:08 - loss: 3.08 - ETA: 46:07 - loss: 3.09 - ETA: 46:06 - loss: 3.09 - ETA: 46:06 - loss: 3.09 - ETA: 46:05 - loss: 3.09 - ETA: 46:04 - loss: 3.09 - ETA: 46:04 - loss: 3.09 - ETA: 46:03 - loss: 3.09 - ETA: 46:02 - loss: 3.09 - ETA: 46:01 - loss: 3.09 - ETA: 46:00 - loss: 3.09 - ETA: 45:59 - loss: 3.09 - ETA: 46:00 - loss: 3.09 - ETA: 45:59 - loss: 3.09 - ETA: 45:58 - loss: 3.09 - ETA: 45:58 - loss: 3.09 - ETA: 45:56 - loss: 3.09 - ETA: 45:56 - loss: 3.09 - ETA: 45:55 - loss: 3.09 - ETA: 45:54 - loss: 3.09 - ETA: 45:54 - loss: 3.09 - ETA: 45:53 - loss: 3.09 - ETA: 45:52 - loss: 3.09 - ETA: 45:52 - loss: 3.09 - ETA: 45:51 - loss: 3.09 - ETA: 45:50 - loss: 3.08 - ETA: 45:50 - loss: 3.08 - ETA: 45:49 - loss: 3.08 - ETA: 45:48 - loss: 3.08 - ETA: 45:47 - loss: 3.08 - ETA: 45:46 - loss: 3.08 - ETA: 45:45 - loss: 3.08 - ETA: 45:44 - loss: 3.08 - ETA: 45:43 - loss: 3.08 - ETA: 45:42 - loss: 3.08 - ETA: 45:41 - loss: 3.08 - ETA: 45:40 - loss: 3.08 - ETA: 45:39 - loss: 3.07 - ETA: 45:37 - loss: 3.07 - ETA: 45:36 - loss: 3.07 - ETA: 45:35 - loss: 3.07 - ETA: 45:34 - loss: 3.07 - ETA: 45:33 - loss: 3.07 - ETA: 45:32 - loss: 3.07 - ETA: 45:31 - loss: 3.07 - ETA: 45:29 - loss: 3.07 - ETA: 45:29 - loss: 3.07 - ETA: 45:29 - loss: 3.07 - ETA: 45:27 - loss: 3.07 - ETA: 45:27 - loss: 3.07 - ETA: 45:26 - loss: 3.06 - ETA: 45:25 - loss: 3.06 - ETA: 45:26 - loss: 3.06 - ETA: 45:25 - loss: 3.06 - ETA: 45:24 - loss: 3.06 - ETA: 45:23 - loss: 3.07 - ETA: 45:23 - loss: 3.06 - ETA: 45:22 - loss: 3.06 - ETA: 45:21 - loss: 3.06 - ETA: 45:20 - loss: 3.07 - ETA: 45:19 - loss: 3.07 - ETA: 45:19 - loss: 3.07 - ETA: 45:18 - loss: 3.06 - ETA: 45:17 - loss: 3.06 - ETA: 45:17 - loss: 3.06 - ETA: 45:16 - loss: 3.06 - ETA: 45:14 - loss: 3.06 - ETA: 45:14 - loss: 3.06 - ETA: 45:12 - loss: 3.06 - ETA: 45:12 - loss: 3.06 - ETA: 45:11 - loss: 3.06 - ETA: 45:11 - loss: 3.06 - ETA: 45:10 - loss: 3.06 - ETA: 45:10 - loss: 3.06 - ETA: 45:09 - loss: 3.06 - ETA: 45:08 - loss: 3.06 - ETA: 45:08 - loss: 3.06 - ETA: 45:07 - loss: 3.06 - ETA: 45:06 - loss: 3.06 - ETA: 45:05 - loss: 3.06 - ETA: 45:04 - loss: 3.06 - ETA: 45:04 - loss: 3.06 - ETA: 45:04 - loss: 3.06 - ETA: 45:02 - loss: 3.06 - ETA: 45:02 - loss: 3.06 - ETA: 45:01 - loss: 3.06 - ETA: 45:00 - loss: 3.06 - ETA: 44:59 - loss: 3.06 - ETA: 44:58 - loss: 3.06 - ETA: 44:57 - loss: 3.06 - ETA: 44:57 - loss: 3.06 - ETA: 44:56 - loss: 3.06 - ETA: 44:55 - loss: 3.06 - ETA: 44:54 - loss: 3.06 - ETA: 44:54 - loss: 3.06 - ETA: 44:52 - loss: 3.06 - ETA: 44:52 - loss: 3.06 - ETA: 44:51 - loss: 3.06 - ETA: 44:50 - loss: 3.06 - ETA: 44:49 - loss: 3.06 - ETA: 44:48 - loss: 3.06 - ETA: 44:48 - loss: 3.07 - ETA: 44:47 - loss: 3.07 - ETA: 44:47 - loss: 3.07 - ETA: 44:46 - loss: 3.07 - ETA: 44:45 - loss: 3.07 - ETA: 44:44 - loss: 3.07 - ETA: 44:43 - loss: 3.07 - ETA: 44:43 - loss: 3.07 - ETA: 44:42 - loss: 3.07 - ETA: 44:41 - loss: 3.07 - ETA: 44:40 - loss: 3.07 - ETA: 44:39 - loss: 3.07 - ETA: 44:38 - loss: 3.07 - ETA: 44:38 - loss: 3.07 - ETA: 44:37 - loss: 3.07 - ETA: 44:36 - loss: 3.07 - ETA: 44:36 - loss: 3.07 - ETA: 44:35 - loss: 3.07 - ETA: 44:35 - loss: 3.07 - ETA: 44:34 - loss: 3.07 - ETA: 44:33 - loss: 3.07 - ETA: 44:33 - loss: 3.07 - ETA: 44:32 - loss: 3.07 - ETA: 44:31 - loss: 3.07 - ETA: 44:30 - loss: 3.07 - ETA: 44:29 - loss: 3.07 - ETA: 44:28 - loss: 3.07 - ETA: 44:28 - loss: 3.07 - ETA: 44:27 - loss: 3.07 - ETA: 44:26 - loss: 3.07 - ETA: 44:25 - loss: 3.07 - ETA: 44:24 - loss: 3.07 - ETA: 44:23 - loss: 3.07 - ETA: 44:23 - loss: 3.07 - ETA: 44:22 - loss: 3.07 - ETA: 44:22 - loss: 3.07 - ETA: 44:21 - loss: 3.07 - ETA: 44:20 - loss: 3.07 - ETA: 44:19 - loss: 3.07 - ETA: 44:19 - loss: 3.07 - ETA: 44:18 - loss: 3.07 - ETA: 44:17 - loss: 3.07 - ETA: 44:16 - loss: 3.07 - ETA: 44:15 - loss: 3.07 - ETA: 44:15 - loss: 3.0741 628/4335 [===>..........................] - ETA: 44:14 - loss: 3.07 - ETA: 44:13 - loss: 3.07 - ETA: 44:13 - loss: 3.07 - ETA: 44:12 - loss: 3.07 - ETA: 44:11 - loss: 3.07 - ETA: 44:11 - loss: 3.07 - ETA: 44:10 - loss: 3.07 - ETA: 44:09 - loss: 3.07 - ETA: 44:08 - loss: 3.07 - ETA: 44:08 - loss: 3.07 - ETA: 44:07 - loss: 3.07 - ETA: 44:06 - loss: 3.07 - ETA: 44:05 - loss: 3.07 - ETA: 44:04 - loss: 3.07 - ETA: 44:04 - loss: 3.07 - ETA: 44:03 - loss: 3.07 - ETA: 44:02 - loss: 3.07 - ETA: 44:01 - loss: 3.07 - ETA: 44:01 - loss: 3.07 - ETA: 44:00 - loss: 3.07 - ETA: 44:00 - loss: 3.07 - ETA: 43:59 - loss: 3.07 - ETA: 43:58 - loss: 3.07 - ETA: 43:58 - loss: 3.07 - ETA: 43:57 - loss: 3.07 - ETA: 43:56 - loss: 3.07 - ETA: 43:55 - loss: 3.07 - ETA: 43:54 - loss: 3.07 - ETA: 43:54 - loss: 3.07 - ETA: 43:53 - loss: 3.07 - ETA: 43:52 - loss: 3.07 - ETA: 43:51 - loss: 3.07 - ETA: 43:50 - loss: 3.07 - ETA: 43:50 - loss: 3.07 - ETA: 43:49 - loss: 3.07 - ETA: 43:48 - loss: 3.07 - ETA: 43:47 - loss: 3.07 - ETA: 43:47 - loss: 3.07 - ETA: 43:46 - loss: 3.07 - ETA: 43:45 - loss: 3.07 - ETA: 43:45 - loss: 3.07 - ETA: 43:43 - loss: 3.07 - ETA: 43:43 - loss: 3.07 - ETA: 43:42 - loss: 3.07 - ETA: 43:41 - loss: 3.07 - ETA: 43:41 - loss: 3.06 - ETA: 43:40 - loss: 3.06 - ETA: 43:39 - loss: 3.06 - ETA: 43:39 - loss: 3.06 - ETA: 43:39 - loss: 3.06 - ETA: 43:38 - loss: 3.06 - ETA: 43:37 - loss: 3.06 - ETA: 43:37 - loss: 3.06 - ETA: 43:36 - loss: 3.06 - ETA: 43:36 - loss: 3.06 - ETA: 43:35 - loss: 3.06 - ETA: 43:34 - loss: 3.06 - ETA: 43:34 - loss: 3.06 - ETA: 43:33 - loss: 3.06 - ETA: 43:32 - loss: 3.06 - ETA: 43:32 - loss: 3.06 - ETA: 43:31 - loss: 3.06 - ETA: 43:31 - loss: 3.06 - ETA: 43:30 - loss: 3.06 - ETA: 43:30 - loss: 3.06 - ETA: 43:29 - loss: 3.06 - ETA: 43:28 - loss: 3.06 - ETA: 43:28 - loss: 3.06 - ETA: 43:27 - loss: 3.06 - ETA: 43:26 - loss: 3.06 - ETA: 43:25 - loss: 3.06 - ETA: 43:24 - loss: 3.06 - ETA: 43:24 - loss: 3.06 - ETA: 43:23 - loss: 3.06 - ETA: 43:22 - loss: 3.06 - ETA: 43:21 - loss: 3.06 - ETA: 43:21 - loss: 3.06 - ETA: 43:20 - loss: 3.06 - ETA: 43:19 - loss: 3.06 - ETA: 43:18 - loss: 3.06 - ETA: 43:18 - loss: 3.06 - ETA: 43:17 - loss: 3.06 - ETA: 43:16 - loss: 3.06 - ETA: 43:16 - loss: 3.06 - ETA: 43:15 - loss: 3.06 - ETA: 43:14 - loss: 3.06 - ETA: 43:14 - loss: 3.06 - ETA: 43:14 - loss: 3.06 - ETA: 43:13 - loss: 3.06 - ETA: 43:12 - loss: 3.06 - ETA: 43:11 - loss: 3.06 - ETA: 43:10 - loss: 3.06 - ETA: 43:10 - loss: 3.06 - ETA: 43:09 - loss: 3.06 - ETA: 43:08 - loss: 3.06 - ETA: 43:08 - loss: 3.06 - ETA: 43:07 - loss: 3.06 - ETA: 43:06 - loss: 3.06 - ETA: 43:05 - loss: 3.06 - ETA: 43:05 - loss: 3.06 - ETA: 43:04 - loss: 3.06 - ETA: 43:03 - loss: 3.06 - ETA: 43:02 - loss: 3.06 - ETA: 43:01 - loss: 3.06 - ETA: 43:01 - loss: 3.06 - ETA: 43:00 - loss: 3.06 - ETA: 42:59 - loss: 3.06 - ETA: 43:00 - loss: 3.06 - ETA: 43:00 - loss: 3.06 - ETA: 42:59 - loss: 3.06 - ETA: 42:58 - loss: 3.06 - ETA: 42:58 - loss: 3.06 - ETA: 42:57 - loss: 3.06 - ETA: 42:56 - loss: 3.06 - ETA: 42:55 - loss: 3.06 - ETA: 42:55 - loss: 3.06 - ETA: 42:54 - loss: 3.06 - ETA: 42:53 - loss: 3.06 - ETA: 42:52 - loss: 3.06 - ETA: 42:52 - loss: 3.06 - ETA: 42:51 - loss: 3.06 - ETA: 42:50 - loss: 3.06 - ETA: 42:50 - loss: 3.06 - ETA: 42:50 - loss: 3.06 - ETA: 42:49 - loss: 3.06 - ETA: 42:49 - loss: 3.06 - ETA: 42:48 - loss: 3.06 - ETA: 42:48 - loss: 3.06 - ETA: 42:48 - loss: 3.06 - ETA: 42:47 - loss: 3.06 - ETA: 42:47 - loss: 3.06 - ETA: 42:46 - loss: 3.06 - ETA: 42:46 - loss: 3.06 - ETA: 42:45 - loss: 3.06 - ETA: 42:45 - loss: 3.06 - ETA: 42:45 - loss: 3.06 - ETA: 42:45 - loss: 3.06 - ETA: 42:44 - loss: 3.06 - ETA: 42:44 - loss: 3.06 - ETA: 42:44 - loss: 3.06 - ETA: 42:44 - loss: 3.06 - ETA: 42:43 - loss: 3.06 - ETA: 42:43 - loss: 3.06 - ETA: 42:42 - loss: 3.06 - ETA: 42:41 - loss: 3.06 - ETA: 42:41 - loss: 3.06 - ETA: 42:40 - loss: 3.06 - ETA: 42:39 - loss: 3.06 - ETA: 42:39 - loss: 3.06 - ETA: 42:38 - loss: 3.06 - ETA: 42:37 - loss: 3.06 - ETA: 42:37 - loss: 3.06 - ETA: 42:36 - loss: 3.06 - ETA: 42:35 - loss: 3.06 - ETA: 42:35 - loss: 3.06 - ETA: 42:34 - loss: 3.06 - ETA: 42:33 - loss: 3.06 - ETA: 42:32 - loss: 3.06 - ETA: 42:31 - loss: 3.06 - ETA: 42:30 - loss: 3.06 - ETA: 42:29 - loss: 3.06 - ETA: 42:29 - loss: 3.06 - ETA: 42:28 - loss: 3.06 - ETA: 42:27 - loss: 3.06 - ETA: 42:26 - loss: 3.06 - ETA: 42:25 - loss: 3.06 - ETA: 42:24 - loss: 3.06 - ETA: 42:23 - loss: 3.06 - ETA: 42:22 - loss: 3.06 - ETA: 42:21 - loss: 3.06 - ETA: 42:21 - loss: 3.06 - ETA: 42:20 - loss: 3.06 - ETA: 42:19 - loss: 3.06 - ETA: 42:18 - loss: 3.06 - ETA: 42:17 - loss: 3.06 - ETA: 42:17 - loss: 3.06 - ETA: 42:16 - loss: 3.06 - ETA: 42:15 - loss: 3.06 - ETA: 42:14 - loss: 3.06 - ETA: 42:13 - loss: 3.06 - ETA: 42:12 - loss: 3.06 - ETA: 42:12 - loss: 3.06 - ETA: 42:11 - loss: 3.06 - ETA: 42:10 - loss: 3.06 - ETA: 42:09 - loss: 3.06 - ETA: 42:09 - loss: 3.06 - ETA: 42:08 - loss: 3.06 - ETA: 42:07 - loss: 3.06 - ETA: 42:06 - loss: 3.06 - ETA: 42:06 - loss: 3.06 - ETA: 42:05 - loss: 3.06 - ETA: 42:04 - loss: 3.06 - ETA: 42:03 - loss: 3.06 - ETA: 42:02 - loss: 3.06 - ETA: 42:02 - loss: 3.06 - ETA: 42:01 - loss: 3.06 - ETA: 42:00 - loss: 3.06 - ETA: 41:59 - loss: 3.06 - ETA: 41:58 - loss: 3.06 - ETA: 41:57 - loss: 3.06 - ETA: 41:57 - loss: 3.06 - ETA: 41:56 - loss: 3.06 - ETA: 41:55 - loss: 3.06 - ETA: 41:54 - loss: 3.06 - ETA: 41:54 - loss: 3.06 - ETA: 41:53 - loss: 3.06 - ETA: 41:52 - loss: 3.06 - ETA: 41:51 - loss: 3.06 - ETA: 41:50 - loss: 3.06 - ETA: 41:50 - loss: 3.06 - ETA: 41:49 - loss: 3.06 - ETA: 41:48 - loss: 3.06 - ETA: 41:47 - loss: 3.06 - ETA: 41:46 - loss: 3.06 - ETA: 41:45 - loss: 3.06 - ETA: 41:45 - loss: 3.06 - ETA: 41:44 - loss: 3.06 - ETA: 41:43 - loss: 3.06 - ETA: 41:42 - loss: 3.06 - ETA: 41:41 - loss: 3.06 - ETA: 41:41 - loss: 3.06 - ETA: 41:40 - loss: 3.06 - ETA: 41:39 - loss: 3.06 - ETA: 41:38 - loss: 3.06 - ETA: 41:37 - loss: 3.06 - ETA: 41:37 - loss: 3.06 - ETA: 41:36 - loss: 3.06 - ETA: 41:35 - loss: 3.06 - ETA: 41:34 - loss: 3.06 - ETA: 41:33 - loss: 3.06 - ETA: 41:33 - loss: 3.06 - ETA: 41:32 - loss: 3.06 - ETA: 41:32 - loss: 3.06 - ETA: 41:32 - loss: 3.06 - ETA: 41:32 - loss: 3.06 - ETA: 41:32 - loss: 3.06 - ETA: 41:31 - loss: 3.06 - ETA: 41:30 - loss: 3.06 - ETA: 41:30 - loss: 3.05 - ETA: 41:29 - loss: 3.05 - ETA: 41:28 - loss: 3.05 - ETA: 41:28 - loss: 3.05 - ETA: 41:27 - loss: 3.05 - ETA: 41:26 - loss: 3.05 - ETA: 41:25 - loss: 3.05 - ETA: 41:24 - loss: 3.05 - ETA: 41:23 - loss: 3.05 - ETA: 41:23 - loss: 3.06 - ETA: 41:22 - loss: 3.06 - ETA: 41:21 - loss: 3.06 - ETA: 41:20 - loss: 3.05 - ETA: 41:19 - loss: 3.05 - ETA: 41:19 - loss: 3.05 - ETA: 41:18 - loss: 3.05 - ETA: 41:17 - loss: 3.05 - ETA: 41:16 - loss: 3.05 - ETA: 41:15 - loss: 3.06 - ETA: 41:15 - loss: 3.06 - ETA: 41:14 - loss: 3.06 - ETA: 41:13 - loss: 3.06 - ETA: 41:12 - loss: 3.06 - ETA: 41:11 - loss: 3.06 - ETA: 41:11 - loss: 3.06 - ETA: 41:10 - loss: 3.06 - ETA: 41:09 - loss: 3.06 - ETA: 41:09 - loss: 3.06 - ETA: 41:08 - loss: 3.06 - ETA: 41:07 - loss: 3.06 - ETA: 41:06 - loss: 3.06 - ETA: 41:06 - loss: 3.06 - ETA: 41:05 - loss: 3.06 - ETA: 41:04 - loss: 3.06 - ETA: 41:03 - loss: 3.06 - ETA: 41:03 - loss: 3.06 - ETA: 41:02 - loss: 3.06 - ETA: 41:01 - loss: 3.06 - ETA: 41:00 - loss: 3.06 - ETA: 41:00 - loss: 3.06 - ETA: 40:59 - loss: 3.06 - ETA: 40:58 - loss: 3.06 - ETA: 40:58 - loss: 3.06 - ETA: 40:57 - loss: 3.06 - ETA: 40:56 - loss: 3.06 - ETA: 40:55 - loss: 3.06 - ETA: 40:55 - loss: 3.06 - ETA: 40:54 - loss: 3.06 - ETA: 40:54 - loss: 3.06 - ETA: 40:53 - loss: 3.06 - ETA: 40:53 - loss: 3.06 - ETA: 40:52 - loss: 3.06 - ETA: 40:51 - loss: 3.06 - ETA: 40:50 - loss: 3.06 - ETA: 40:50 - loss: 3.06 - ETA: 40:49 - loss: 3.06 - ETA: 40:48 - loss: 3.06 - ETA: 40:48 - loss: 3.06 - ETA: 40:47 - loss: 3.06 - ETA: 40:46 - loss: 3.06 - ETA: 40:46 - loss: 3.06 - ETA: 40:45 - loss: 3.06 - ETA: 40:44 - loss: 3.06 - ETA: 40:43 - loss: 3.06 - ETA: 40:43 - loss: 3.06 - ETA: 40:42 - loss: 3.06 - ETA: 40:41 - loss: 3.06 - ETA: 40:41 - loss: 3.06 - ETA: 40:40 - loss: 3.06 - ETA: 40:39 - loss: 3.06 - ETA: 40:39 - loss: 3.06 - ETA: 40:38 - loss: 3.06 - ETA: 40:38 - loss: 3.06 - ETA: 40:37 - loss: 3.06 - ETA: 40:36 - loss: 3.06 - ETA: 40:35 - loss: 3.0653 942/4335 [=====>........................] - ETA: 40:34 - loss: 3.06 - ETA: 40:34 - loss: 3.06 - ETA: 40:33 - loss: 3.06 - ETA: 40:32 - loss: 3.06 - ETA: 40:32 - loss: 3.06 - ETA: 40:31 - loss: 3.06 - ETA: 40:30 - loss: 3.06 - ETA: 40:29 - loss: 3.06 - ETA: 40:29 - loss: 3.06 - ETA: 40:28 - loss: 3.06 - ETA: 40:27 - loss: 3.06 - ETA: 40:27 - loss: 3.06 - ETA: 40:26 - loss: 3.06 - ETA: 40:25 - loss: 3.06 - ETA: 40:24 - loss: 3.06 - ETA: 40:24 - loss: 3.06 - ETA: 40:23 - loss: 3.06 - ETA: 40:22 - loss: 3.06 - ETA: 40:21 - loss: 3.06 - ETA: 40:21 - loss: 3.06 - ETA: 40:20 - loss: 3.06 - ETA: 40:19 - loss: 3.06 - ETA: 40:19 - loss: 3.06 - ETA: 40:18 - loss: 3.06 - ETA: 40:17 - loss: 3.06 - ETA: 40:16 - loss: 3.06 - ETA: 40:16 - loss: 3.06 - ETA: 40:15 - loss: 3.06 - ETA: 40:14 - loss: 3.06 - ETA: 40:13 - loss: 3.06 - ETA: 40:12 - loss: 3.06 - ETA: 40:12 - loss: 3.06 - ETA: 40:11 - loss: 3.06 - ETA: 40:10 - loss: 3.06 - ETA: 40:09 - loss: 3.06 - ETA: 40:09 - loss: 3.06 - ETA: 40:08 - loss: 3.06 - ETA: 40:07 - loss: 3.05 - ETA: 40:06 - loss: 3.06 - ETA: 40:05 - loss: 3.06 - ETA: 40:05 - loss: 3.06 - ETA: 40:04 - loss: 3.06 - ETA: 40:03 - loss: 3.06 - ETA: 40:02 - loss: 3.05 - ETA: 40:02 - loss: 3.05 - ETA: 40:01 - loss: 3.05 - ETA: 40:00 - loss: 3.05 - ETA: 39:59 - loss: 3.05 - ETA: 39:59 - loss: 3.05 - ETA: 39:58 - loss: 3.05 - ETA: 39:57 - loss: 3.05 - ETA: 39:56 - loss: 3.05 - ETA: 39:55 - loss: 3.05 - ETA: 39:55 - loss: 3.05 - ETA: 39:54 - loss: 3.05 - ETA: 39:53 - loss: 3.05 - ETA: 39:52 - loss: 3.05 - ETA: 39:52 - loss: 3.05 - ETA: 39:51 - loss: 3.05 - ETA: 39:50 - loss: 3.05 - ETA: 39:49 - loss: 3.05 - ETA: 39:49 - loss: 3.05 - ETA: 39:48 - loss: 3.05 - ETA: 39:47 - loss: 3.05 - ETA: 39:46 - loss: 3.05 - ETA: 39:46 - loss: 3.05 - ETA: 39:45 - loss: 3.05 - ETA: 39:44 - loss: 3.05 - ETA: 39:43 - loss: 3.05 - ETA: 39:43 - loss: 3.05 - ETA: 39:42 - loss: 3.05 - ETA: 39:41 - loss: 3.05 - ETA: 39:40 - loss: 3.05 - ETA: 39:40 - loss: 3.05 - ETA: 39:39 - loss: 3.05 - ETA: 39:38 - loss: 3.05 - ETA: 39:38 - loss: 3.05 - ETA: 39:37 - loss: 3.05 - ETA: 39:36 - loss: 3.05 - ETA: 39:35 - loss: 3.05 - ETA: 39:35 - loss: 3.05 - ETA: 39:34 - loss: 3.05 - ETA: 39:33 - loss: 3.05 - ETA: 39:32 - loss: 3.05 - ETA: 39:32 - loss: 3.05 - ETA: 39:31 - loss: 3.05 - ETA: 39:30 - loss: 3.05 - ETA: 39:29 - loss: 3.05 - ETA: 39:29 - loss: 3.05 - ETA: 39:28 - loss: 3.05 - ETA: 39:27 - loss: 3.05 - ETA: 39:27 - loss: 3.05 - ETA: 39:26 - loss: 3.05 - ETA: 39:25 - loss: 3.05 - ETA: 39:24 - loss: 3.05 - ETA: 39:24 - loss: 3.05 - ETA: 39:23 - loss: 3.05 - ETA: 39:22 - loss: 3.05 - ETA: 39:21 - loss: 3.05 - ETA: 39:21 - loss: 3.05 - ETA: 39:20 - loss: 3.05 - ETA: 39:19 - loss: 3.05 - ETA: 39:19 - loss: 3.05 - ETA: 39:18 - loss: 3.05 - ETA: 39:17 - loss: 3.05 - ETA: 39:17 - loss: 3.05 - ETA: 39:16 - loss: 3.05 - ETA: 39:15 - loss: 3.05 - ETA: 39:14 - loss: 3.05 - ETA: 39:14 - loss: 3.05 - ETA: 39:13 - loss: 3.05 - ETA: 39:12 - loss: 3.05 - ETA: 39:12 - loss: 3.05 - ETA: 39:11 - loss: 3.05 - ETA: 39:10 - loss: 3.05 - ETA: 39:09 - loss: 3.05 - ETA: 39:09 - loss: 3.05 - ETA: 39:08 - loss: 3.05 - ETA: 39:07 - loss: 3.05 - ETA: 39:06 - loss: 3.05 - ETA: 39:06 - loss: 3.05 - ETA: 39:05 - loss: 3.05 - ETA: 39:04 - loss: 3.05 - ETA: 39:03 - loss: 3.05 - ETA: 39:02 - loss: 3.05 - ETA: 39:02 - loss: 3.05 - ETA: 39:01 - loss: 3.05 - ETA: 39:00 - loss: 3.05 - ETA: 38:59 - loss: 3.05 - ETA: 38:59 - loss: 3.05 - ETA: 38:58 - loss: 3.05 - ETA: 38:57 - loss: 3.05 - ETA: 38:57 - loss: 3.05 - ETA: 38:56 - loss: 3.05 - ETA: 38:55 - loss: 3.05 - ETA: 38:54 - loss: 3.05 - ETA: 38:54 - loss: 3.05 - ETA: 38:53 - loss: 3.05 - ETA: 38:52 - loss: 3.05 - ETA: 38:52 - loss: 3.05 - ETA: 38:51 - loss: 3.05 - ETA: 38:50 - loss: 3.05 - ETA: 38:50 - loss: 3.05 - ETA: 38:49 - loss: 3.05 - ETA: 38:48 - loss: 3.05 - ETA: 38:48 - loss: 3.05 - ETA: 38:47 - loss: 3.05 - ETA: 38:46 - loss: 3.05 - ETA: 38:46 - loss: 3.05 - ETA: 38:45 - loss: 3.05 - ETA: 38:45 - loss: 3.05 - ETA: 38:44 - loss: 3.05 - ETA: 38:43 - loss: 3.05 - ETA: 38:43 - loss: 3.05 - ETA: 38:42 - loss: 3.05 - ETA: 38:41 - loss: 3.05 - ETA: 38:40 - loss: 3.05 - ETA: 38:40 - loss: 3.05 - ETA: 38:39 - loss: 3.05 - ETA: 38:38 - loss: 3.05 - ETA: 38:38 - loss: 3.05 - ETA: 38:37 - loss: 3.05 - ETA: 38:36 - loss: 3.05 - ETA: 38:36 - loss: 3.05 - ETA: 38:35 - loss: 3.05 - ETA: 38:34 - loss: 3.05 - ETA: 38:34 - loss: 3.05 - ETA: 38:33 - loss: 3.05 - ETA: 38:32 - loss: 3.05 - ETA: 38:32 - loss: 3.05 - ETA: 38:31 - loss: 3.05 - ETA: 38:30 - loss: 3.05 - ETA: 38:30 - loss: 3.05 - ETA: 38:29 - loss: 3.05 - ETA: 38:28 - loss: 3.05 - ETA: 38:28 - loss: 3.05 - ETA: 38:27 - loss: 3.05 - ETA: 38:26 - loss: 3.05 - ETA: 38:25 - loss: 3.05 - ETA: 38:25 - loss: 3.05 - ETA: 38:24 - loss: 3.05 - ETA: 38:23 - loss: 3.05 - ETA: 38:23 - loss: 3.05 - ETA: 38:22 - loss: 3.05 - ETA: 38:21 - loss: 3.05 - ETA: 38:21 - loss: 3.05 - ETA: 38:20 - loss: 3.05 - ETA: 38:19 - loss: 3.05 - ETA: 38:19 - loss: 3.05 - ETA: 38:18 - loss: 3.05 - ETA: 38:17 - loss: 3.05 - ETA: 38:17 - loss: 3.05 - ETA: 38:16 - loss: 3.05 - ETA: 38:15 - loss: 3.05 - ETA: 38:14 - loss: 3.05 - ETA: 38:14 - loss: 3.05 - ETA: 38:13 - loss: 3.05 - ETA: 38:12 - loss: 3.05 - ETA: 38:12 - loss: 3.05 - ETA: 38:11 - loss: 3.05 - ETA: 38:11 - loss: 3.05 - ETA: 38:10 - loss: 3.05 - ETA: 38:09 - loss: 3.05 - ETA: 38:08 - loss: 3.05 - ETA: 38:08 - loss: 3.05 - ETA: 38:07 - loss: 3.05 - ETA: 38:06 - loss: 3.05 - ETA: 38:06 - loss: 3.05 - ETA: 38:05 - loss: 3.05 - ETA: 38:04 - loss: 3.05 - ETA: 38:04 - loss: 3.05 - ETA: 38:03 - loss: 3.05 - ETA: 38:02 - loss: 3.05 - ETA: 38:02 - loss: 3.05 - ETA: 38:01 - loss: 3.05 - ETA: 38:01 - loss: 3.05 - ETA: 38:00 - loss: 3.05 - ETA: 37:59 - loss: 3.05 - ETA: 37:59 - loss: 3.05 - ETA: 37:58 - loss: 3.05 - ETA: 37:57 - loss: 3.05 - ETA: 37:56 - loss: 3.05 - ETA: 37:56 - loss: 3.05 - ETA: 37:55 - loss: 3.05 - ETA: 37:54 - loss: 3.05 - ETA: 37:54 - loss: 3.05 - ETA: 37:53 - loss: 3.05 - ETA: 37:52 - loss: 3.05 - ETA: 37:52 - loss: 3.05 - ETA: 37:51 - loss: 3.05 - ETA: 37:50 - loss: 3.05 - ETA: 37:50 - loss: 3.05 - ETA: 37:49 - loss: 3.05 - ETA: 37:48 - loss: 3.05 - ETA: 37:48 - loss: 3.05 - ETA: 37:47 - loss: 3.05 - ETA: 37:46 - loss: 3.05 - ETA: 37:46 - loss: 3.05 - ETA: 37:45 - loss: 3.05 - ETA: 37:44 - loss: 3.05 - ETA: 37:44 - loss: 3.05 - ETA: 37:43 - loss: 3.05 - ETA: 37:42 - loss: 3.05 - ETA: 37:42 - loss: 3.05 - ETA: 37:41 - loss: 3.05 - ETA: 37:40 - loss: 3.05 - ETA: 37:39 - loss: 3.05 - ETA: 37:39 - loss: 3.05 - ETA: 37:38 - loss: 3.05 - ETA: 37:37 - loss: 3.05 - ETA: 37:37 - loss: 3.05 - ETA: 37:36 - loss: 3.05 - ETA: 37:35 - loss: 3.05 - ETA: 37:35 - loss: 3.05 - ETA: 37:34 - loss: 3.05 - ETA: 37:33 - loss: 3.05 - ETA: 37:33 - loss: 3.05 - ETA: 37:32 - loss: 3.05 - ETA: 37:32 - loss: 3.05 - ETA: 37:32 - loss: 3.05 - ETA: 37:31 - loss: 3.05 - ETA: 37:31 - loss: 3.05 - ETA: 37:30 - loss: 3.05 - ETA: 37:29 - loss: 3.05 - ETA: 37:29 - loss: 3.05 - ETA: 37:28 - loss: 3.05 - ETA: 37:27 - loss: 3.05 - ETA: 37:27 - loss: 3.05 - ETA: 37:26 - loss: 3.05 - ETA: 37:25 - loss: 3.05 - ETA: 37:24 - loss: 3.05 - ETA: 37:24 - loss: 3.05 - ETA: 37:23 - loss: 3.05 - ETA: 37:22 - loss: 3.05 - ETA: 37:22 - loss: 3.05 - ETA: 37:21 - loss: 3.05 - ETA: 37:20 - loss: 3.05 - ETA: 37:19 - loss: 3.05 - ETA: 37:19 - loss: 3.05 - ETA: 37:18 - loss: 3.05 - ETA: 37:17 - loss: 3.05 - ETA: 37:17 - loss: 3.05 - ETA: 37:17 - loss: 3.05 - ETA: 37:16 - loss: 3.05 - ETA: 37:16 - loss: 3.05 - ETA: 37:15 - loss: 3.05 - ETA: 37:15 - loss: 3.05 - ETA: 37:14 - loss: 3.05 - ETA: 37:14 - loss: 3.05 - ETA: 37:13 - loss: 3.05 - ETA: 37:13 - loss: 3.05 - ETA: 37:12 - loss: 3.05 - ETA: 37:12 - loss: 3.05 - ETA: 37:11 - loss: 3.05 - ETA: 37:11 - loss: 3.05 - ETA: 37:10 - loss: 3.05 - ETA: 37:09 - loss: 3.05 - ETA: 37:09 - loss: 3.05 - ETA: 37:08 - loss: 3.05 - ETA: 37:08 - loss: 3.05 - ETA: 37:07 - loss: 3.05 - ETA: 37:07 - loss: 3.06 - ETA: 37:06 - loss: 3.05 - ETA: 37:06 - loss: 3.05 - ETA: 37:05 - loss: 3.05 - ETA: 37:05 - loss: 3.05 - ETA: 37:04 - loss: 3.05 - ETA: 37:04 - loss: 3.05 - ETA: 37:03 - loss: 3.05 - ETA: 37:02 - loss: 3.05 - ETA: 37:02 - loss: 3.05 - ETA: 37:01 - loss: 3.05 - ETA: 37:01 - loss: 3.05 - ETA: 37:00 - loss: 3.0591"
     ]
    },
    {
     "name": "stdout",
     "output_type": "stream",
     "text": [
      "1256/4335 [=======>......................] - ETA: 37:00 - loss: 3.05 - ETA: 36:59 - loss: 3.05 - ETA: 36:59 - loss: 3.05 - ETA: 36:58 - loss: 3.05 - ETA: 36:57 - loss: 3.05 - ETA: 36:57 - loss: 3.05 - ETA: 36:56 - loss: 3.05 - ETA: 36:55 - loss: 3.05 - ETA: 36:55 - loss: 3.05 - ETA: 36:54 - loss: 3.05 - ETA: 36:54 - loss: 3.05 - ETA: 36:53 - loss: 3.05 - ETA: 36:53 - loss: 3.05 - ETA: 36:52 - loss: 3.05 - ETA: 36:51 - loss: 3.05 - ETA: 36:51 - loss: 3.05 - ETA: 36:50 - loss: 3.05 - ETA: 36:49 - loss: 3.05 - ETA: 36:49 - loss: 3.05 - ETA: 36:49 - loss: 3.05 - ETA: 36:48 - loss: 3.05 - ETA: 36:48 - loss: 3.05 - ETA: 36:48 - loss: 3.05 - ETA: 36:48 - loss: 3.05 - ETA: 36:47 - loss: 3.05 - ETA: 36:47 - loss: 3.05 - ETA: 36:46 - loss: 3.05 - ETA: 36:46 - loss: 3.05 - ETA: 36:45 - loss: 3.05 - ETA: 36:45 - loss: 3.05 - ETA: 36:45 - loss: 3.05 - ETA: 36:44 - loss: 3.05 - ETA: 36:44 - loss: 3.05 - ETA: 36:44 - loss: 3.05 - ETA: 36:44 - loss: 3.05 - ETA: 36:44 - loss: 3.05 - ETA: 36:43 - loss: 3.05 - ETA: 36:43 - loss: 3.05 - ETA: 36:42 - loss: 3.05 - ETA: 36:41 - loss: 3.05 - ETA: 36:41 - loss: 3.06 - ETA: 36:40 - loss: 3.06 - ETA: 36:39 - loss: 3.06 - ETA: 36:39 - loss: 3.06 - ETA: 36:38 - loss: 3.05 - ETA: 36:37 - loss: 3.06 - ETA: 36:36 - loss: 3.05 - ETA: 36:36 - loss: 3.05 - ETA: 36:35 - loss: 3.05 - ETA: 36:34 - loss: 3.05 - ETA: 36:34 - loss: 3.05 - ETA: 36:33 - loss: 3.05 - ETA: 36:32 - loss: 3.05 - ETA: 36:32 - loss: 3.05 - ETA: 36:31 - loss: 3.05 - ETA: 36:31 - loss: 3.05 - ETA: 36:30 - loss: 3.05 - ETA: 36:30 - loss: 3.05 - ETA: 36:30 - loss: 3.05 - ETA: 36:29 - loss: 3.05 - ETA: 36:29 - loss: 3.05 - ETA: 36:28 - loss: 3.05 - ETA: 36:27 - loss: 3.05 - ETA: 36:27 - loss: 3.05 - ETA: 36:26 - loss: 3.05 - ETA: 36:25 - loss: 3.05 - ETA: 36:25 - loss: 3.05 - ETA: 36:24 - loss: 3.05 - ETA: 36:23 - loss: 3.06 - ETA: 36:22 - loss: 3.06 - ETA: 36:22 - loss: 3.06 - ETA: 36:21 - loss: 3.06 - ETA: 36:21 - loss: 3.06 - ETA: 36:20 - loss: 3.05 - ETA: 36:20 - loss: 3.05 - ETA: 36:19 - loss: 3.05 - ETA: 36:19 - loss: 3.05 - ETA: 36:18 - loss: 3.05 - ETA: 36:17 - loss: 3.05 - ETA: 36:17 - loss: 3.05 - ETA: 36:16 - loss: 3.05 - ETA: 36:15 - loss: 3.05 - ETA: 36:15 - loss: 3.05 - ETA: 36:14 - loss: 3.05 - ETA: 36:13 - loss: 3.05 - ETA: 36:13 - loss: 3.06 - ETA: 36:12 - loss: 3.06 - ETA: 36:12 - loss: 3.06 - ETA: 36:11 - loss: 3.06 - ETA: 36:10 - loss: 3.06 - ETA: 36:10 - loss: 3.06 - ETA: 36:09 - loss: 3.06 - ETA: 36:08 - loss: 3.06 - ETA: 36:08 - loss: 3.06 - ETA: 36:07 - loss: 3.06 - ETA: 36:07 - loss: 3.06 - ETA: 36:06 - loss: 3.05 - ETA: 36:05 - loss: 3.05 - ETA: 36:05 - loss: 3.05 - ETA: 36:04 - loss: 3.05 - ETA: 36:03 - loss: 3.05 - ETA: 36:03 - loss: 3.05 - ETA: 36:02 - loss: 3.05 - ETA: 36:02 - loss: 3.05 - ETA: 36:01 - loss: 3.05 - ETA: 36:00 - loss: 3.05 - ETA: 36:00 - loss: 3.05 - ETA: 35:59 - loss: 3.05 - ETA: 35:59 - loss: 3.05 - ETA: 35:58 - loss: 3.05 - ETA: 35:58 - loss: 3.05 - ETA: 35:58 - loss: 3.05 - ETA: 35:57 - loss: 3.05 - ETA: 35:56 - loss: 3.05 - ETA: 35:56 - loss: 3.05 - ETA: 35:55 - loss: 3.05 - ETA: 35:54 - loss: 3.05 - ETA: 35:54 - loss: 3.05 - ETA: 35:53 - loss: 3.05 - ETA: 35:52 - loss: 3.05 - ETA: 35:52 - loss: 3.05 - ETA: 35:51 - loss: 3.05 - ETA: 35:51 - loss: 3.05 - ETA: 35:50 - loss: 3.05 - ETA: 35:49 - loss: 3.05 - ETA: 35:49 - loss: 3.05 - ETA: 35:48 - loss: 3.05 - ETA: 35:48 - loss: 3.05 - ETA: 35:47 - loss: 3.05 - ETA: 35:46 - loss: 3.05 - ETA: 35:46 - loss: 3.05 - ETA: 35:45 - loss: 3.05 - ETA: 35:44 - loss: 3.05 - ETA: 35:44 - loss: 3.05 - ETA: 35:43 - loss: 3.05 - ETA: 35:42 - loss: 3.05 - ETA: 35:42 - loss: 3.05 - ETA: 35:41 - loss: 3.05 - ETA: 35:40 - loss: 3.05 - ETA: 35:40 - loss: 3.05 - ETA: 35:39 - loss: 3.05 - ETA: 35:38 - loss: 3.05 - ETA: 35:38 - loss: 3.05 - ETA: 35:37 - loss: 3.05 - ETA: 35:37 - loss: 3.05 - ETA: 35:36 - loss: 3.05 - ETA: 35:35 - loss: 3.05 - ETA: 35:35 - loss: 3.05 - ETA: 35:34 - loss: 3.05 - ETA: 35:33 - loss: 3.05 - ETA: 35:33 - loss: 3.05 - ETA: 35:32 - loss: 3.05 - ETA: 35:31 - loss: 3.05 - ETA: 35:31 - loss: 3.05 - ETA: 35:30 - loss: 3.05 - ETA: 35:30 - loss: 3.05 - ETA: 35:29 - loss: 3.05 - ETA: 35:28 - loss: 3.05 - ETA: 35:28 - loss: 3.05 - ETA: 35:27 - loss: 3.05 - ETA: 35:26 - loss: 3.05 - ETA: 35:26 - loss: 3.05 - ETA: 35:25 - loss: 3.05 - ETA: 35:25 - loss: 3.05 - ETA: 35:24 - loss: 3.05 - ETA: 35:23 - loss: 3.05 - ETA: 35:23 - loss: 3.05 - ETA: 35:22 - loss: 3.05 - ETA: 35:21 - loss: 3.05 - ETA: 35:21 - loss: 3.05 - ETA: 35:20 - loss: 3.05 - ETA: 35:19 - loss: 3.05 - ETA: 35:19 - loss: 3.05 - ETA: 35:18 - loss: 3.05 - ETA: 35:17 - loss: 3.05 - ETA: 35:17 - loss: 3.05 - ETA: 35:16 - loss: 3.05 - ETA: 35:15 - loss: 3.05 - ETA: 35:15 - loss: 3.05 - ETA: 35:14 - loss: 3.05 - ETA: 35:14 - loss: 3.05 - ETA: 35:13 - loss: 3.05 - ETA: 35:12 - loss: 3.05 - ETA: 35:12 - loss: 3.05 - ETA: 35:11 - loss: 3.05 - ETA: 35:10 - loss: 3.05 - ETA: 35:10 - loss: 3.05 - ETA: 35:09 - loss: 3.05 - ETA: 35:08 - loss: 3.05 - ETA: 35:08 - loss: 3.05 - ETA: 35:07 - loss: 3.05 - ETA: 35:07 - loss: 3.05 - ETA: 35:06 - loss: 3.05 - ETA: 35:05 - loss: 3.05 - ETA: 35:05 - loss: 3.05 - ETA: 35:04 - loss: 3.05 - ETA: 35:03 - loss: 3.05 - ETA: 35:03 - loss: 3.05 - ETA: 35:02 - loss: 3.05 - ETA: 35:02 - loss: 3.05 - ETA: 35:01 - loss: 3.05 - ETA: 35:00 - loss: 3.05 - ETA: 35:00 - loss: 3.05 - ETA: 34:59 - loss: 3.05 - ETA: 34:58 - loss: 3.05 - ETA: 34:58 - loss: 3.05 - ETA: 34:57 - loss: 3.05 - ETA: 34:56 - loss: 3.05 - ETA: 34:56 - loss: 3.05 - ETA: 34:55 - loss: 3.05 - ETA: 34:55 - loss: 3.05 - ETA: 34:54 - loss: 3.05 - ETA: 34:53 - loss: 3.05 - ETA: 34:53 - loss: 3.05 - ETA: 34:52 - loss: 3.05 - ETA: 34:51 - loss: 3.05 - ETA: 34:51 - loss: 3.05 - ETA: 34:50 - loss: 3.05 - ETA: 34:49 - loss: 3.05 - ETA: 34:49 - loss: 3.05 - ETA: 34:48 - loss: 3.05 - ETA: 34:47 - loss: 3.05 - ETA: 34:47 - loss: 3.05 - ETA: 34:46 - loss: 3.05 - ETA: 34:46 - loss: 3.05 - ETA: 34:45 - loss: 3.05 - ETA: 34:44 - loss: 3.05 - ETA: 34:44 - loss: 3.05 - ETA: 34:43 - loss: 3.05 - ETA: 34:42 - loss: 3.05 - ETA: 34:42 - loss: 3.05 - ETA: 34:41 - loss: 3.05 - ETA: 34:41 - loss: 3.05 - ETA: 34:40 - loss: 3.05 - ETA: 34:39 - loss: 3.05 - ETA: 34:39 - loss: 3.05 - ETA: 34:38 - loss: 3.05 - ETA: 34:37 - loss: 3.05 - ETA: 34:37 - loss: 3.05 - ETA: 34:36 - loss: 3.05 - ETA: 34:36 - loss: 3.05 - ETA: 34:35 - loss: 3.05 - ETA: 34:34 - loss: 3.05 - ETA: 34:34 - loss: 3.05 - ETA: 34:33 - loss: 3.05 - ETA: 34:32 - loss: 3.05 - ETA: 34:32 - loss: 3.05 - ETA: 34:31 - loss: 3.05 - ETA: 34:31 - loss: 3.05 - ETA: 34:30 - loss: 3.05 - ETA: 34:30 - loss: 3.05 - ETA: 34:29 - loss: 3.05 - ETA: 34:28 - loss: 3.05 - ETA: 34:28 - loss: 3.05 - ETA: 34:27 - loss: 3.05 - ETA: 34:26 - loss: 3.05 - ETA: 34:26 - loss: 3.05 - ETA: 34:25 - loss: 3.05 - ETA: 34:25 - loss: 3.05 - ETA: 34:24 - loss: 3.05 - ETA: 34:23 - loss: 3.05 - ETA: 34:23 - loss: 3.05 - ETA: 34:22 - loss: 3.05 - ETA: 34:21 - loss: 3.05 - ETA: 34:21 - loss: 3.05 - ETA: 34:20 - loss: 3.05 - ETA: 34:19 - loss: 3.05 - ETA: 34:19 - loss: 3.05 - ETA: 34:18 - loss: 3.05 - ETA: 34:18 - loss: 3.05 - ETA: 34:17 - loss: 3.05 - ETA: 34:16 - loss: 3.05 - ETA: 34:16 - loss: 3.05 - ETA: 34:15 - loss: 3.05 - ETA: 34:14 - loss: 3.05 - ETA: 34:14 - loss: 3.05 - ETA: 34:13 - loss: 3.05 - ETA: 34:13 - loss: 3.05 - ETA: 34:12 - loss: 3.05 - ETA: 34:11 - loss: 3.05 - ETA: 34:11 - loss: 3.05 - ETA: 34:10 - loss: 3.05 - ETA: 34:09 - loss: 3.05 - ETA: 34:09 - loss: 3.05 - ETA: 34:08 - loss: 3.05 - ETA: 34:08 - loss: 3.05 - ETA: 34:07 - loss: 3.05 - ETA: 34:06 - loss: 3.05 - ETA: 34:06 - loss: 3.05 - ETA: 34:05 - loss: 3.05 - ETA: 34:04 - loss: 3.05 - ETA: 34:04 - loss: 3.06 - ETA: 34:03 - loss: 3.06 - ETA: 34:02 - loss: 3.06 - ETA: 34:02 - loss: 3.06 - ETA: 34:01 - loss: 3.06 - ETA: 34:00 - loss: 3.06 - ETA: 34:00 - loss: 3.06 - ETA: 33:59 - loss: 3.06 - ETA: 33:59 - loss: 3.06 - ETA: 33:58 - loss: 3.06 - ETA: 33:57 - loss: 3.06 - ETA: 33:57 - loss: 3.06 - ETA: 33:56 - loss: 3.06 - ETA: 33:56 - loss: 3.06 - ETA: 33:55 - loss: 3.06 - ETA: 33:54 - loss: 3.06 - ETA: 33:54 - loss: 3.06 - ETA: 33:53 - loss: 3.06 - ETA: 33:52 - loss: 3.06 - ETA: 33:52 - loss: 3.06 - ETA: 33:51 - loss: 3.06 - ETA: 33:50 - loss: 3.06 - ETA: 33:50 - loss: 3.0623"
     ]
    },
    {
     "name": "stdout",
     "output_type": "stream",
     "text": [
      "1570/4335 [=========>....................] - ETA: 33:49 - loss: 3.06 - ETA: 33:48 - loss: 3.06 - ETA: 33:48 - loss: 3.06 - ETA: 33:47 - loss: 3.06 - ETA: 33:46 - loss: 3.06 - ETA: 33:46 - loss: 3.06 - ETA: 33:45 - loss: 3.06 - ETA: 33:44 - loss: 3.06 - ETA: 33:44 - loss: 3.06 - ETA: 33:43 - loss: 3.06 - ETA: 33:42 - loss: 3.06 - ETA: 33:42 - loss: 3.06 - ETA: 33:41 - loss: 3.06 - ETA: 33:40 - loss: 3.06 - ETA: 33:40 - loss: 3.06 - ETA: 33:39 - loss: 3.06 - ETA: 33:38 - loss: 3.06 - ETA: 33:38 - loss: 3.06 - ETA: 33:37 - loss: 3.06 - ETA: 33:36 - loss: 3.06 - ETA: 33:35 - loss: 3.06 - ETA: 33:35 - loss: 3.06 - ETA: 33:34 - loss: 3.06 - ETA: 33:33 - loss: 3.06 - ETA: 33:33 - loss: 3.06 - ETA: 33:32 - loss: 3.06 - ETA: 33:31 - loss: 3.06 - ETA: 33:31 - loss: 3.06 - ETA: 33:30 - loss: 3.06 - ETA: 33:30 - loss: 3.06 - ETA: 33:29 - loss: 3.06 - ETA: 33:28 - loss: 3.06 - ETA: 33:27 - loss: 3.06 - ETA: 33:27 - loss: 3.06 - ETA: 33:26 - loss: 3.06 - ETA: 33:26 - loss: 3.06 - ETA: 33:25 - loss: 3.06 - ETA: 33:25 - loss: 3.06 - ETA: 33:24 - loss: 3.06 - ETA: 33:24 - loss: 3.06 - ETA: 33:23 - loss: 3.06 - ETA: 33:22 - loss: 3.06 - ETA: 33:22 - loss: 3.06 - ETA: 33:21 - loss: 3.06 - ETA: 33:20 - loss: 3.06 - ETA: 33:20 - loss: 3.06 - ETA: 33:19 - loss: 3.06 - ETA: 33:18 - loss: 3.06 - ETA: 33:18 - loss: 3.06 - ETA: 33:17 - loss: 3.06 - ETA: 33:17 - loss: 3.06 - ETA: 33:16 - loss: 3.06 - ETA: 33:15 - loss: 3.06 - ETA: 33:15 - loss: 3.06 - ETA: 33:14 - loss: 3.06 - ETA: 33:13 - loss: 3.06 - ETA: 33:13 - loss: 3.06 - ETA: 33:12 - loss: 3.06 - ETA: 33:11 - loss: 3.06 - ETA: 33:11 - loss: 3.06 - ETA: 33:10 - loss: 3.06 - ETA: 33:09 - loss: 3.06 - ETA: 33:09 - loss: 3.06 - ETA: 33:08 - loss: 3.06 - ETA: 33:07 - loss: 3.06 - ETA: 33:07 - loss: 3.06 - ETA: 33:06 - loss: 3.06 - ETA: 33:05 - loss: 3.06 - ETA: 33:05 - loss: 3.06 - ETA: 33:04 - loss: 3.06 - ETA: 33:03 - loss: 3.06 - ETA: 33:03 - loss: 3.06 - ETA: 33:02 - loss: 3.06 - ETA: 33:02 - loss: 3.06 - ETA: 33:01 - loss: 3.06 - ETA: 33:00 - loss: 3.06 - ETA: 33:00 - loss: 3.06 - ETA: 32:59 - loss: 3.06 - ETA: 32:58 - loss: 3.06 - ETA: 32:58 - loss: 3.06 - ETA: 32:57 - loss: 3.06 - ETA: 32:56 - loss: 3.06 - ETA: 32:56 - loss: 3.06 - ETA: 32:55 - loss: 3.06 - ETA: 32:54 - loss: 3.06 - ETA: 32:54 - loss: 3.06 - ETA: 32:53 - loss: 3.06 - ETA: 32:52 - loss: 3.06 - ETA: 32:52 - loss: 3.06 - ETA: 32:51 - loss: 3.06 - ETA: 32:50 - loss: 3.06 - ETA: 32:50 - loss: 3.06 - ETA: 32:49 - loss: 3.06 - ETA: 32:48 - loss: 3.06 - ETA: 32:48 - loss: 3.06 - ETA: 32:47 - loss: 3.06 - ETA: 32:47 - loss: 3.06 - ETA: 32:46 - loss: 3.06 - ETA: 32:45 - loss: 3.06 - ETA: 32:45 - loss: 3.06 - ETA: 32:44 - loss: 3.06 - ETA: 32:43 - loss: 3.06 - ETA: 32:43 - loss: 3.06 - ETA: 32:42 - loss: 3.06 - ETA: 32:41 - loss: 3.06 - ETA: 32:41 - loss: 3.06 - ETA: 32:40 - loss: 3.06 - ETA: 32:39 - loss: 3.06 - ETA: 32:39 - loss: 3.06 - ETA: 32:38 - loss: 3.06 - ETA: 32:38 - loss: 3.06 - ETA: 32:37 - loss: 3.06 - ETA: 32:36 - loss: 3.06 - ETA: 32:36 - loss: 3.06 - ETA: 32:35 - loss: 3.06 - ETA: 32:34 - loss: 3.06 - ETA: 32:34 - loss: 3.06 - ETA: 32:33 - loss: 3.06 - ETA: 32:32 - loss: 3.06 - ETA: 32:32 - loss: 3.06 - ETA: 32:31 - loss: 3.06 - ETA: 32:30 - loss: 3.06 - ETA: 32:30 - loss: 3.06 - ETA: 32:29 - loss: 3.06 - ETA: 32:29 - loss: 3.06 - ETA: 32:28 - loss: 3.06 - ETA: 32:27 - loss: 3.06 - ETA: 32:27 - loss: 3.06 - ETA: 32:26 - loss: 3.06 - ETA: 32:25 - loss: 3.06 - ETA: 32:25 - loss: 3.06 - ETA: 32:24 - loss: 3.06 - ETA: 32:23 - loss: 3.06 - ETA: 32:23 - loss: 3.06 - ETA: 32:22 - loss: 3.06 - ETA: 32:21 - loss: 3.06 - ETA: 32:21 - loss: 3.06 - ETA: 32:20 - loss: 3.06 - ETA: 32:19 - loss: 3.06 - ETA: 32:19 - loss: 3.06 - ETA: 32:18 - loss: 3.06 - ETA: 32:18 - loss: 3.06 - ETA: 32:17 - loss: 3.06 - ETA: 32:16 - loss: 3.06 - ETA: 32:16 - loss: 3.06 - ETA: 32:15 - loss: 3.06 - ETA: 32:15 - loss: 3.06 - ETA: 32:14 - loss: 3.06 - ETA: 32:13 - loss: 3.06 - ETA: 32:13 - loss: 3.06 - ETA: 32:12 - loss: 3.06 - ETA: 32:11 - loss: 3.06 - ETA: 32:11 - loss: 3.06 - ETA: 32:10 - loss: 3.06 - ETA: 32:09 - loss: 3.06 - ETA: 32:09 - loss: 3.06 - ETA: 32:08 - loss: 3.06 - ETA: 32:07 - loss: 3.06 - ETA: 32:07 - loss: 3.06 - ETA: 32:06 - loss: 3.06 - ETA: 32:05 - loss: 3.06 - ETA: 32:05 - loss: 3.06 - ETA: 32:04 - loss: 3.06 - ETA: 32:03 - loss: 3.06 - ETA: 32:03 - loss: 3.06 - ETA: 32:02 - loss: 3.06 - ETA: 32:02 - loss: 3.06 - ETA: 32:01 - loss: 3.06 - ETA: 32:01 - loss: 3.06 - ETA: 32:00 - loss: 3.06 - ETA: 32:00 - loss: 3.06 - ETA: 31:59 - loss: 3.06 - ETA: 31:58 - loss: 3.06 - ETA: 31:58 - loss: 3.06 - ETA: 31:57 - loss: 3.06 - ETA: 31:56 - loss: 3.06 - ETA: 31:56 - loss: 3.06 - ETA: 31:55 - loss: 3.06 - ETA: 31:54 - loss: 3.06 - ETA: 31:54 - loss: 3.06 - ETA: 31:53 - loss: 3.06 - ETA: 31:52 - loss: 3.06 - ETA: 31:52 - loss: 3.06 - ETA: 31:51 - loss: 3.06 - ETA: 31:50 - loss: 3.06 - ETA: 31:50 - loss: 3.06 - ETA: 31:49 - loss: 3.06 - ETA: 31:48 - loss: 3.06 - ETA: 31:48 - loss: 3.06 - ETA: 31:47 - loss: 3.06 - ETA: 31:47 - loss: 3.06 - ETA: 31:46 - loss: 3.06 - ETA: 31:45 - loss: 3.06 - ETA: 31:45 - loss: 3.06 - ETA: 31:44 - loss: 3.06 - ETA: 31:43 - loss: 3.06 - ETA: 31:43 - loss: 3.06 - ETA: 31:42 - loss: 3.06 - ETA: 31:41 - loss: 3.06 - ETA: 31:41 - loss: 3.06 - ETA: 31:40 - loss: 3.06 - ETA: 31:39 - loss: 3.06 - ETA: 31:39 - loss: 3.06 - ETA: 31:38 - loss: 3.06 - ETA: 31:37 - loss: 3.06 - ETA: 31:37 - loss: 3.06 - ETA: 31:36 - loss: 3.06 - ETA: 31:35 - loss: 3.06 - ETA: 31:35 - loss: 3.06 - ETA: 31:34 - loss: 3.06 - ETA: 31:34 - loss: 3.06 - ETA: 31:33 - loss: 3.06 - ETA: 31:32 - loss: 3.06 - ETA: 31:32 - loss: 3.06 - ETA: 31:31 - loss: 3.06 - ETA: 31:30 - loss: 3.06 - ETA: 31:30 - loss: 3.06 - ETA: 31:29 - loss: 3.06 - ETA: 31:28 - loss: 3.06 - ETA: 31:28 - loss: 3.06 - ETA: 31:28 - loss: 3.06 - ETA: 31:27 - loss: 3.06 - ETA: 31:27 - loss: 3.06 - ETA: 31:26 - loss: 3.06 - ETA: 31:25 - loss: 3.06 - ETA: 31:25 - loss: 3.06 - ETA: 31:24 - loss: 3.06 - ETA: 31:24 - loss: 3.06 - ETA: 31:23 - loss: 3.06 - ETA: 31:22 - loss: 3.06 - ETA: 31:22 - loss: 3.06 - ETA: 31:21 - loss: 3.06 - ETA: 31:20 - loss: 3.06 - ETA: 31:20 - loss: 3.06 - ETA: 31:19 - loss: 3.06 - ETA: 31:18 - loss: 3.06 - ETA: 31:18 - loss: 3.06 - ETA: 31:17 - loss: 3.06 - ETA: 31:16 - loss: 3.06 - ETA: 31:16 - loss: 3.06 - ETA: 31:15 - loss: 3.06 - ETA: 31:14 - loss: 3.06 - ETA: 31:14 - loss: 3.06 - ETA: 31:13 - loss: 3.06 - ETA: 31:12 - loss: 3.06 - ETA: 31:12 - loss: 3.06 - ETA: 31:11 - loss: 3.06 - ETA: 31:11 - loss: 3.06 - ETA: 31:10 - loss: 3.06 - ETA: 31:09 - loss: 3.06 - ETA: 31:09 - loss: 3.06 - ETA: 31:08 - loss: 3.06 - ETA: 31:07 - loss: 3.06 - ETA: 31:07 - loss: 3.06 - ETA: 31:06 - loss: 3.06 - ETA: 31:05 - loss: 3.06 - ETA: 31:05 - loss: 3.06 - ETA: 31:04 - loss: 3.06 - ETA: 31:03 - loss: 3.06 - ETA: 31:03 - loss: 3.06 - ETA: 31:02 - loss: 3.06 - ETA: 31:01 - loss: 3.06 - ETA: 31:01 - loss: 3.06 - ETA: 31:00 - loss: 3.06 - ETA: 30:59 - loss: 3.06 - ETA: 30:59 - loss: 3.06 - ETA: 30:58 - loss: 3.06 - ETA: 30:57 - loss: 3.06 - ETA: 30:57 - loss: 3.06 - ETA: 30:56 - loss: 3.06 - ETA: 30:56 - loss: 3.06 - ETA: 30:55 - loss: 3.06 - ETA: 30:54 - loss: 3.06 - ETA: 30:54 - loss: 3.06 - ETA: 30:53 - loss: 3.06 - ETA: 30:52 - loss: 3.06 - ETA: 30:52 - loss: 3.06 - ETA: 30:51 - loss: 3.06 - ETA: 30:50 - loss: 3.06 - ETA: 30:50 - loss: 3.06 - ETA: 30:49 - loss: 3.06 - ETA: 30:48 - loss: 3.06 - ETA: 30:48 - loss: 3.06 - ETA: 30:47 - loss: 3.06 - ETA: 30:46 - loss: 3.06 - ETA: 30:46 - loss: 3.06 - ETA: 30:45 - loss: 3.06 - ETA: 30:44 - loss: 3.06 - ETA: 30:44 - loss: 3.06 - ETA: 30:43 - loss: 3.06 - ETA: 30:43 - loss: 3.06 - ETA: 30:42 - loss: 3.06 - ETA: 30:41 - loss: 3.06 - ETA: 30:41 - loss: 3.06 - ETA: 30:40 - loss: 3.06 - ETA: 30:39 - loss: 3.06 - ETA: 30:39 - loss: 3.06 - ETA: 30:38 - loss: 3.06 - ETA: 30:37 - loss: 3.06 - ETA: 30:37 - loss: 3.06 - ETA: 30:36 - loss: 3.06 - ETA: 30:35 - loss: 3.06 - ETA: 30:35 - loss: 3.06 - ETA: 30:34 - loss: 3.06 - ETA: 30:34 - loss: 3.06 - ETA: 30:33 - loss: 3.06 - ETA: 30:32 - loss: 3.06 - ETA: 30:32 - loss: 3.06 - ETA: 30:31 - loss: 3.06 - ETA: 30:30 - loss: 3.06 - ETA: 30:30 - loss: 3.06 - ETA: 30:29 - loss: 3.06 - ETA: 30:28 - loss: 3.06 - ETA: 30:28 - loss: 3.0632"
     ]
    },
    {
     "name": "stdout",
     "output_type": "stream",
     "text": [
      "1884/4335 [============>.................] - ETA: 30:27 - loss: 3.06 - ETA: 30:27 - loss: 3.06 - ETA: 30:26 - loss: 3.06 - ETA: 30:25 - loss: 3.06 - ETA: 30:25 - loss: 3.06 - ETA: 30:24 - loss: 3.06 - ETA: 30:23 - loss: 3.06 - ETA: 30:23 - loss: 3.06 - ETA: 30:22 - loss: 3.06 - ETA: 30:21 - loss: 3.06 - ETA: 30:21 - loss: 3.06 - ETA: 30:20 - loss: 3.06 - ETA: 30:19 - loss: 3.06 - ETA: 30:19 - loss: 3.06 - ETA: 30:18 - loss: 3.06 - ETA: 30:17 - loss: 3.06 - ETA: 30:17 - loss: 3.06 - ETA: 30:16 - loss: 3.06 - ETA: 30:15 - loss: 3.06 - ETA: 30:15 - loss: 3.06 - ETA: 30:14 - loss: 3.06 - ETA: 30:13 - loss: 3.06 - ETA: 30:13 - loss: 3.06 - ETA: 30:12 - loss: 3.06 - ETA: 30:11 - loss: 3.06 - ETA: 30:11 - loss: 3.06 - ETA: 30:10 - loss: 3.06 - ETA: 30:09 - loss: 3.06 - ETA: 30:09 - loss: 3.06 - ETA: 30:08 - loss: 3.06 - ETA: 30:08 - loss: 3.06 - ETA: 30:07 - loss: 3.06 - ETA: 30:06 - loss: 3.06 - ETA: 30:06 - loss: 3.06 - ETA: 30:05 - loss: 3.06 - ETA: 30:04 - loss: 3.06 - ETA: 30:04 - loss: 3.06 - ETA: 30:03 - loss: 3.06 - ETA: 30:02 - loss: 3.06 - ETA: 30:02 - loss: 3.06 - ETA: 30:01 - loss: 3.06 - ETA: 30:01 - loss: 3.06 - ETA: 30:00 - loss: 3.06 - ETA: 29:59 - loss: 3.06 - ETA: 29:59 - loss: 3.06 - ETA: 29:58 - loss: 3.06 - ETA: 29:57 - loss: 3.06 - ETA: 29:57 - loss: 3.06 - ETA: 29:56 - loss: 3.06 - ETA: 29:55 - loss: 3.06 - ETA: 29:55 - loss: 3.06 - ETA: 29:54 - loss: 3.06 - ETA: 29:53 - loss: 3.06 - ETA: 29:53 - loss: 3.06 - ETA: 29:52 - loss: 3.06 - ETA: 29:51 - loss: 3.06 - ETA: 29:51 - loss: 3.06 - ETA: 29:50 - loss: 3.06 - ETA: 29:49 - loss: 3.06 - ETA: 29:49 - loss: 3.06 - ETA: 29:48 - loss: 3.06 - ETA: 29:47 - loss: 3.06 - ETA: 29:47 - loss: 3.06 - ETA: 29:46 - loss: 3.06 - ETA: 29:45 - loss: 3.06 - ETA: 29:45 - loss: 3.06 - ETA: 29:44 - loss: 3.06 - ETA: 29:44 - loss: 3.06 - ETA: 29:43 - loss: 3.06 - ETA: 29:42 - loss: 3.06 - ETA: 29:42 - loss: 3.06 - ETA: 29:41 - loss: 3.06 - ETA: 29:40 - loss: 3.06 - ETA: 29:40 - loss: 3.06 - ETA: 29:39 - loss: 3.06 - ETA: 29:38 - loss: 3.06 - ETA: 29:38 - loss: 3.06 - ETA: 29:37 - loss: 3.06 - ETA: 29:36 - loss: 3.06 - ETA: 29:36 - loss: 3.06 - ETA: 29:35 - loss: 3.06 - ETA: 29:34 - loss: 3.06 - ETA: 29:34 - loss: 3.06 - ETA: 29:33 - loss: 3.06 - ETA: 29:32 - loss: 3.06 - ETA: 29:32 - loss: 3.06 - ETA: 29:31 - loss: 3.06 - ETA: 29:30 - loss: 3.06 - ETA: 29:30 - loss: 3.06 - ETA: 29:29 - loss: 3.06 - ETA: 29:28 - loss: 3.06 - ETA: 29:28 - loss: 3.06 - ETA: 29:27 - loss: 3.06 - ETA: 29:26 - loss: 3.06 - ETA: 29:26 - loss: 3.06 - ETA: 29:25 - loss: 3.06 - ETA: 29:25 - loss: 3.06 - ETA: 29:24 - loss: 3.06 - ETA: 29:23 - loss: 3.06 - ETA: 29:22 - loss: 3.06 - ETA: 29:22 - loss: 3.06 - ETA: 29:21 - loss: 3.06 - ETA: 29:21 - loss: 3.06 - ETA: 29:20 - loss: 3.06 - ETA: 29:19 - loss: 3.06 - ETA: 29:19 - loss: 3.06 - ETA: 29:18 - loss: 3.06 - ETA: 29:17 - loss: 3.06 - ETA: 29:17 - loss: 3.06 - ETA: 29:16 - loss: 3.06 - ETA: 29:15 - loss: 3.06 - ETA: 29:15 - loss: 3.06 - ETA: 29:14 - loss: 3.06 - ETA: 29:13 - loss: 3.06 - ETA: 29:13 - loss: 3.06 - ETA: 29:12 - loss: 3.06 - ETA: 29:11 - loss: 3.06 - ETA: 29:11 - loss: 3.06 - ETA: 29:10 - loss: 3.06 - ETA: 29:09 - loss: 3.06 - ETA: 29:09 - loss: 3.06 - ETA: 29:08 - loss: 3.06 - ETA: 29:08 - loss: 3.06 - ETA: 29:07 - loss: 3.06 - ETA: 29:06 - loss: 3.06 - ETA: 29:06 - loss: 3.06 - ETA: 29:05 - loss: 3.06 - ETA: 29:04 - loss: 3.06 - ETA: 29:04 - loss: 3.06 - ETA: 29:03 - loss: 3.06 - ETA: 29:02 - loss: 3.06 - ETA: 29:02 - loss: 3.06 - ETA: 29:01 - loss: 3.06 - ETA: 29:00 - loss: 3.06 - ETA: 29:00 - loss: 3.06 - ETA: 28:59 - loss: 3.06 - ETA: 28:58 - loss: 3.06 - ETA: 28:58 - loss: 3.06 - ETA: 28:57 - loss: 3.06 - ETA: 28:56 - loss: 3.06 - ETA: 28:56 - loss: 3.06 - ETA: 28:55 - loss: 3.06 - ETA: 28:54 - loss: 3.06 - ETA: 28:54 - loss: 3.06 - ETA: 28:53 - loss: 3.06 - ETA: 28:52 - loss: 3.06 - ETA: 28:52 - loss: 3.06 - ETA: 28:51 - loss: 3.06 - ETA: 28:50 - loss: 3.06 - ETA: 28:50 - loss: 3.06 - ETA: 28:49 - loss: 3.06 - ETA: 28:48 - loss: 3.06 - ETA: 28:48 - loss: 3.06 - ETA: 28:47 - loss: 3.06 - ETA: 28:46 - loss: 3.06 - ETA: 28:46 - loss: 3.06 - ETA: 28:45 - loss: 3.06 - ETA: 28:44 - loss: 3.06 - ETA: 28:44 - loss: 3.06 - ETA: 28:43 - loss: 3.06 - ETA: 28:42 - loss: 3.06 - ETA: 28:42 - loss: 3.06 - ETA: 28:41 - loss: 3.06 - ETA: 28:40 - loss: 3.06 - ETA: 28:40 - loss: 3.06 - ETA: 28:39 - loss: 3.06 - ETA: 28:39 - loss: 3.06 - ETA: 28:38 - loss: 3.06 - ETA: 28:37 - loss: 3.06 - ETA: 28:37 - loss: 3.06 - ETA: 28:36 - loss: 3.06 - ETA: 28:35 - loss: 3.06 - ETA: 28:35 - loss: 3.06 - ETA: 28:34 - loss: 3.06 - ETA: 28:33 - loss: 3.06 - ETA: 28:33 - loss: 3.06 - ETA: 28:32 - loss: 3.06 - ETA: 28:31 - loss: 3.06 - ETA: 28:31 - loss: 3.06 - ETA: 28:30 - loss: 3.06 - ETA: 28:29 - loss: 3.06 - ETA: 28:29 - loss: 3.06 - ETA: 28:28 - loss: 3.06 - ETA: 28:27 - loss: 3.06 - ETA: 28:27 - loss: 3.06 - ETA: 28:26 - loss: 3.06 - ETA: 28:26 - loss: 3.06 - ETA: 28:25 - loss: 3.06 - ETA: 28:24 - loss: 3.06 - ETA: 28:24 - loss: 3.06 - ETA: 28:23 - loss: 3.06 - ETA: 28:22 - loss: 3.06 - ETA: 28:22 - loss: 3.06 - ETA: 28:21 - loss: 3.06 - ETA: 28:20 - loss: 3.06 - ETA: 28:20 - loss: 3.06 - ETA: 28:19 - loss: 3.06 - ETA: 28:19 - loss: 3.06 - ETA: 28:18 - loss: 3.06 - ETA: 28:17 - loss: 3.06 - ETA: 28:17 - loss: 3.06 - ETA: 28:16 - loss: 3.06 - ETA: 28:15 - loss: 3.06 - ETA: 28:15 - loss: 3.06 - ETA: 28:14 - loss: 3.06 - ETA: 28:14 - loss: 3.06 - ETA: 28:13 - loss: 3.06 - ETA: 28:12 - loss: 3.06 - ETA: 28:12 - loss: 3.06 - ETA: 28:11 - loss: 3.06 - ETA: 28:11 - loss: 3.06 - ETA: 28:10 - loss: 3.06 - ETA: 28:09 - loss: 3.06 - ETA: 28:09 - loss: 3.06 - ETA: 28:08 - loss: 3.06 - ETA: 28:07 - loss: 3.06 - ETA: 28:07 - loss: 3.06 - ETA: 28:06 - loss: 3.06 - ETA: 28:05 - loss: 3.06 - ETA: 28:05 - loss: 3.06 - ETA: 28:04 - loss: 3.06 - ETA: 28:03 - loss: 3.06 - ETA: 28:03 - loss: 3.06 - ETA: 28:02 - loss: 3.06 - ETA: 28:01 - loss: 3.06 - ETA: 28:01 - loss: 3.06 - ETA: 28:00 - loss: 3.06 - ETA: 27:59 - loss: 3.06 - ETA: 27:59 - loss: 3.06 - ETA: 27:58 - loss: 3.06 - ETA: 27:57 - loss: 3.06 - ETA: 27:57 - loss: 3.06 - ETA: 27:56 - loss: 3.06 - ETA: 27:56 - loss: 3.06 - ETA: 27:55 - loss: 3.06 - ETA: 27:54 - loss: 3.06 - ETA: 27:54 - loss: 3.06 - ETA: 27:53 - loss: 3.06 - ETA: 27:52 - loss: 3.06 - ETA: 27:52 - loss: 3.06 - ETA: 27:51 - loss: 3.06 - ETA: 27:50 - loss: 3.06 - ETA: 27:50 - loss: 3.06 - ETA: 27:49 - loss: 3.06 - ETA: 27:48 - loss: 3.06 - ETA: 27:48 - loss: 3.06 - ETA: 27:47 - loss: 3.06 - ETA: 27:46 - loss: 3.06 - ETA: 27:46 - loss: 3.06 - ETA: 27:45 - loss: 3.06 - ETA: 27:44 - loss: 3.06 - ETA: 27:44 - loss: 3.06 - ETA: 27:43 - loss: 3.06 - ETA: 27:42 - loss: 3.06 - ETA: 27:42 - loss: 3.06 - ETA: 27:41 - loss: 3.06 - ETA: 27:40 - loss: 3.06 - ETA: 27:40 - loss: 3.06 - ETA: 27:39 - loss: 3.06 - ETA: 27:38 - loss: 3.06 - ETA: 27:38 - loss: 3.06 - ETA: 27:37 - loss: 3.06 - ETA: 27:36 - loss: 3.06 - ETA: 27:36 - loss: 3.06 - ETA: 27:35 - loss: 3.06 - ETA: 27:34 - loss: 3.06 - ETA: 27:34 - loss: 3.06 - ETA: 27:33 - loss: 3.06 - ETA: 27:33 - loss: 3.06 - ETA: 27:32 - loss: 3.06 - ETA: 27:31 - loss: 3.06 - ETA: 27:31 - loss: 3.06 - ETA: 27:30 - loss: 3.06 - ETA: 27:29 - loss: 3.06 - ETA: 27:29 - loss: 3.06 - ETA: 27:28 - loss: 3.06 - ETA: 27:27 - loss: 3.06 - ETA: 27:27 - loss: 3.06 - ETA: 27:26 - loss: 3.06 - ETA: 27:25 - loss: 3.06 - ETA: 27:25 - loss: 3.06 - ETA: 27:24 - loss: 3.06 - ETA: 27:23 - loss: 3.06 - ETA: 27:23 - loss: 3.06 - ETA: 27:22 - loss: 3.06 - ETA: 27:21 - loss: 3.06 - ETA: 27:21 - loss: 3.06 - ETA: 27:20 - loss: 3.06 - ETA: 27:19 - loss: 3.06 - ETA: 27:19 - loss: 3.06 - ETA: 27:18 - loss: 3.06 - ETA: 27:17 - loss: 3.06 - ETA: 27:17 - loss: 3.06 - ETA: 27:16 - loss: 3.06 - ETA: 27:16 - loss: 3.06 - ETA: 27:15 - loss: 3.06 - ETA: 27:14 - loss: 3.06 - ETA: 27:14 - loss: 3.06 - ETA: 27:13 - loss: 3.06 - ETA: 27:12 - loss: 3.06 - ETA: 27:12 - loss: 3.06 - ETA: 27:11 - loss: 3.06 - ETA: 27:10 - loss: 3.06 - ETA: 27:10 - loss: 3.06 - ETA: 27:09 - loss: 3.06 - ETA: 27:08 - loss: 3.06 - ETA: 27:08 - loss: 3.06 - ETA: 27:07 - loss: 3.06 - ETA: 27:06 - loss: 3.06 - ETA: 27:06 - loss: 3.06 - ETA: 27:05 - loss: 3.06 - ETA: 27:04 - loss: 3.06 - ETA: 27:04 - loss: 3.06 - ETA: 27:03 - loss: 3.0692"
     ]
    },
    {
     "name": "stdout",
     "output_type": "stream",
     "text": [
      "2198/4335 [==============>...............] - ETA: 27:02 - loss: 3.06 - ETA: 27:02 - loss: 3.06 - ETA: 27:01 - loss: 3.06 - ETA: 27:00 - loss: 3.06 - ETA: 27:00 - loss: 3.06 - ETA: 26:59 - loss: 3.06 - ETA: 26:58 - loss: 3.06 - ETA: 26:58 - loss: 3.06 - ETA: 26:57 - loss: 3.07 - ETA: 26:56 - loss: 3.07 - ETA: 26:56 - loss: 3.07 - ETA: 26:55 - loss: 3.07 - ETA: 26:54 - loss: 3.07 - ETA: 26:54 - loss: 3.07 - ETA: 26:53 - loss: 3.07 - ETA: 26:52 - loss: 3.07 - ETA: 26:52 - loss: 3.07 - ETA: 26:51 - loss: 3.07 - ETA: 26:50 - loss: 3.07 - ETA: 26:50 - loss: 3.07 - ETA: 26:49 - loss: 3.07 - ETA: 26:48 - loss: 3.07 - ETA: 26:48 - loss: 3.07 - ETA: 26:47 - loss: 3.07 - ETA: 26:47 - loss: 3.07 - ETA: 26:46 - loss: 3.07 - ETA: 26:45 - loss: 3.07 - ETA: 26:45 - loss: 3.07 - ETA: 26:44 - loss: 3.07 - ETA: 26:43 - loss: 3.07 - ETA: 26:43 - loss: 3.07 - ETA: 26:42 - loss: 3.07 - ETA: 26:41 - loss: 3.07 - ETA: 26:41 - loss: 3.07 - ETA: 26:40 - loss: 3.06 - ETA: 26:39 - loss: 3.06 - ETA: 26:39 - loss: 3.06 - ETA: 26:38 - loss: 3.06 - ETA: 26:38 - loss: 3.06 - ETA: 26:37 - loss: 3.06 - ETA: 26:36 - loss: 3.06 - ETA: 26:36 - loss: 3.07 - ETA: 26:35 - loss: 3.07 - ETA: 26:34 - loss: 3.06 - ETA: 26:34 - loss: 3.06 - ETA: 26:33 - loss: 3.06 - ETA: 26:32 - loss: 3.06 - ETA: 26:32 - loss: 3.06 - ETA: 26:31 - loss: 3.06 - ETA: 26:30 - loss: 3.06 - ETA: 26:30 - loss: 3.06 - ETA: 26:29 - loss: 3.06 - ETA: 26:28 - loss: 3.06 - ETA: 26:28 - loss: 3.06 - ETA: 26:27 - loss: 3.06 - ETA: 26:26 - loss: 3.06 - ETA: 26:26 - loss: 3.06 - ETA: 26:25 - loss: 3.06 - ETA: 26:24 - loss: 3.06 - ETA: 26:24 - loss: 3.06 - ETA: 26:23 - loss: 3.06 - ETA: 26:23 - loss: 3.06 - ETA: 26:22 - loss: 3.06 - ETA: 26:21 - loss: 3.06 - ETA: 26:21 - loss: 3.06 - ETA: 26:20 - loss: 3.06 - ETA: 26:20 - loss: 3.06 - ETA: 26:19 - loss: 3.06 - ETA: 26:19 - loss: 3.06 - ETA: 26:18 - loss: 3.06 - ETA: 26:17 - loss: 3.06 - ETA: 26:17 - loss: 3.06 - ETA: 26:16 - loss: 3.06 - ETA: 26:16 - loss: 3.06 - ETA: 26:15 - loss: 3.06 - ETA: 26:14 - loss: 3.06 - ETA: 26:14 - loss: 3.06 - ETA: 26:13 - loss: 3.06 - ETA: 26:12 - loss: 3.06 - ETA: 26:12 - loss: 3.06 - ETA: 26:11 - loss: 3.06 - ETA: 26:10 - loss: 3.06 - ETA: 26:10 - loss: 3.06 - ETA: 26:09 - loss: 3.06 - ETA: 26:09 - loss: 3.06 - ETA: 26:08 - loss: 3.06 - ETA: 26:07 - loss: 3.06 - ETA: 26:07 - loss: 3.06 - ETA: 26:06 - loss: 3.06 - ETA: 26:05 - loss: 3.06 - ETA: 26:05 - loss: 3.06 - ETA: 26:04 - loss: 3.06 - ETA: 26:03 - loss: 3.06 - ETA: 26:03 - loss: 3.06 - ETA: 26:02 - loss: 3.06 - ETA: 26:01 - loss: 3.06 - ETA: 26:01 - loss: 3.06 - ETA: 26:00 - loss: 3.06 - ETA: 26:00 - loss: 3.06 - ETA: 25:59 - loss: 3.06 - ETA: 25:58 - loss: 3.06 - ETA: 25:58 - loss: 3.06 - ETA: 25:57 - loss: 3.06 - ETA: 25:56 - loss: 3.06 - ETA: 25:56 - loss: 3.06 - ETA: 25:55 - loss: 3.06 - ETA: 25:54 - loss: 3.06 - ETA: 25:54 - loss: 3.06 - ETA: 25:53 - loss: 3.06 - ETA: 25:52 - loss: 3.06 - ETA: 25:52 - loss: 3.06 - ETA: 25:51 - loss: 3.06 - ETA: 25:50 - loss: 3.06 - ETA: 25:50 - loss: 3.06 - ETA: 25:49 - loss: 3.06 - ETA: 25:48 - loss: 3.06 - ETA: 25:48 - loss: 3.06 - ETA: 25:47 - loss: 3.06 - ETA: 25:46 - loss: 3.06 - ETA: 25:46 - loss: 3.06 - ETA: 25:45 - loss: 3.06 - ETA: 25:44 - loss: 3.06 - ETA: 25:44 - loss: 3.06 - ETA: 25:43 - loss: 3.06 - ETA: 25:42 - loss: 3.06 - ETA: 25:42 - loss: 3.06 - ETA: 25:41 - loss: 3.06 - ETA: 25:40 - loss: 3.06 - ETA: 25:40 - loss: 3.06 - ETA: 25:39 - loss: 3.06 - ETA: 25:38 - loss: 3.06 - ETA: 25:38 - loss: 3.06 - ETA: 25:37 - loss: 3.06 - ETA: 25:36 - loss: 3.06 - ETA: 25:36 - loss: 3.06 - ETA: 25:35 - loss: 3.06 - ETA: 25:34 - loss: 3.06 - ETA: 25:34 - loss: 3.06 - ETA: 25:33 - loss: 3.06 - ETA: 25:32 - loss: 3.06 - ETA: 25:32 - loss: 3.06 - ETA: 25:31 - loss: 3.06 - ETA: 25:30 - loss: 3.06 - ETA: 25:30 - loss: 3.06 - ETA: 25:29 - loss: 3.06 - ETA: 25:28 - loss: 3.06 - ETA: 25:28 - loss: 3.06 - ETA: 25:27 - loss: 3.06 - ETA: 25:27 - loss: 3.06 - ETA: 25:26 - loss: 3.06 - ETA: 25:25 - loss: 3.06 - ETA: 25:25 - loss: 3.06 - ETA: 25:24 - loss: 3.06 - ETA: 25:23 - loss: 3.06 - ETA: 25:23 - loss: 3.07 - ETA: 25:22 - loss: 3.07 - ETA: 25:21 - loss: 3.07 - ETA: 25:21 - loss: 3.07 - ETA: 25:20 - loss: 3.07 - ETA: 25:19 - loss: 3.06 - ETA: 25:19 - loss: 3.06 - ETA: 25:18 - loss: 3.06 - ETA: 25:17 - loss: 3.06 - ETA: 25:17 - loss: 3.06 - ETA: 25:16 - loss: 3.06 - ETA: 25:15 - loss: 3.06 - ETA: 25:15 - loss: 3.06 - ETA: 25:14 - loss: 3.06 - ETA: 25:13 - loss: 3.06 - ETA: 25:13 - loss: 3.06 - ETA: 25:12 - loss: 3.06 - ETA: 25:11 - loss: 3.06 - ETA: 25:11 - loss: 3.06 - ETA: 25:10 - loss: 3.06 - ETA: 25:10 - loss: 3.06 - ETA: 25:09 - loss: 3.06 - ETA: 25:08 - loss: 3.06 - ETA: 25:08 - loss: 3.07 - ETA: 25:07 - loss: 3.07 - ETA: 25:06 - loss: 3.07 - ETA: 25:06 - loss: 3.07 - ETA: 25:05 - loss: 3.07 - ETA: 25:04 - loss: 3.07 - ETA: 25:04 - loss: 3.07 - ETA: 25:03 - loss: 3.07 - ETA: 25:02 - loss: 3.07 - ETA: 25:02 - loss: 3.07 - ETA: 25:01 - loss: 3.07 - ETA: 25:00 - loss: 3.07 - ETA: 25:00 - loss: 3.07 - ETA: 24:59 - loss: 3.07 - ETA: 24:59 - loss: 3.07 - ETA: 24:58 - loss: 3.07 - ETA: 24:57 - loss: 3.07 - ETA: 24:57 - loss: 3.07 - ETA: 24:56 - loss: 3.07 - ETA: 24:55 - loss: 3.07 - ETA: 24:55 - loss: 3.07 - ETA: 24:54 - loss: 3.07 - ETA: 24:53 - loss: 3.07 - ETA: 24:53 - loss: 3.07 - ETA: 24:52 - loss: 3.07 - ETA: 24:51 - loss: 3.07 - ETA: 24:51 - loss: 3.07 - ETA: 24:50 - loss: 3.07 - ETA: 24:49 - loss: 3.07 - ETA: 24:49 - loss: 3.07 - ETA: 24:48 - loss: 3.07 - ETA: 24:48 - loss: 3.07 - ETA: 24:47 - loss: 3.07 - ETA: 24:46 - loss: 3.07 - ETA: 24:46 - loss: 3.07 - ETA: 24:45 - loss: 3.07 - ETA: 24:44 - loss: 3.07 - ETA: 24:44 - loss: 3.07 - ETA: 24:43 - loss: 3.07 - ETA: 24:42 - loss: 3.07 - ETA: 24:42 - loss: 3.07 - ETA: 24:41 - loss: 3.07 - ETA: 24:41 - loss: 3.07 - ETA: 24:40 - loss: 3.07 - ETA: 24:39 - loss: 3.07 - ETA: 24:39 - loss: 3.07 - ETA: 24:38 - loss: 3.07 - ETA: 24:37 - loss: 3.07 - ETA: 24:37 - loss: 3.07 - ETA: 24:36 - loss: 3.07 - ETA: 24:35 - loss: 3.07 - ETA: 24:35 - loss: 3.07 - ETA: 24:34 - loss: 3.07 - ETA: 24:33 - loss: 3.07 - ETA: 24:33 - loss: 3.07 - ETA: 24:32 - loss: 3.07 - ETA: 24:31 - loss: 3.07 - ETA: 24:31 - loss: 3.07 - ETA: 24:30 - loss: 3.07 - ETA: 24:29 - loss: 3.07 - ETA: 24:29 - loss: 3.07 - ETA: 24:28 - loss: 3.07 - ETA: 24:27 - loss: 3.07 - ETA: 24:27 - loss: 3.07 - ETA: 24:26 - loss: 3.07 - ETA: 24:25 - loss: 3.07 - ETA: 24:25 - loss: 3.07 - ETA: 24:24 - loss: 3.07 - ETA: 24:23 - loss: 3.07 - ETA: 24:23 - loss: 3.07 - ETA: 24:22 - loss: 3.07 - ETA: 24:22 - loss: 3.07 - ETA: 24:21 - loss: 3.07 - ETA: 24:20 - loss: 3.07 - ETA: 24:20 - loss: 3.07 - ETA: 24:19 - loss: 3.07 - ETA: 24:18 - loss: 3.07 - ETA: 24:18 - loss: 3.07 - ETA: 24:17 - loss: 3.07 - ETA: 24:16 - loss: 3.07 - ETA: 24:16 - loss: 3.07 - ETA: 24:15 - loss: 3.07 - ETA: 24:15 - loss: 3.07 - ETA: 24:14 - loss: 3.07 - ETA: 24:13 - loss: 3.07 - ETA: 24:13 - loss: 3.07 - ETA: 24:12 - loss: 3.07 - ETA: 24:11 - loss: 3.07 - ETA: 24:11 - loss: 3.07 - ETA: 24:10 - loss: 3.07 - ETA: 24:09 - loss: 3.07 - ETA: 24:09 - loss: 3.07 - ETA: 24:08 - loss: 3.07 - ETA: 24:07 - loss: 3.07 - ETA: 24:07 - loss: 3.07 - ETA: 24:06 - loss: 3.07 - ETA: 24:05 - loss: 3.07 - ETA: 24:05 - loss: 3.07 - ETA: 24:04 - loss: 3.07 - ETA: 24:03 - loss: 3.07 - ETA: 24:03 - loss: 3.07 - ETA: 24:02 - loss: 3.07 - ETA: 24:01 - loss: 3.07 - ETA: 24:01 - loss: 3.07 - ETA: 24:00 - loss: 3.07 - ETA: 23:59 - loss: 3.07 - ETA: 23:59 - loss: 3.07 - ETA: 23:58 - loss: 3.07 - ETA: 23:57 - loss: 3.07 - ETA: 23:57 - loss: 3.07 - ETA: 23:56 - loss: 3.07 - ETA: 23:55 - loss: 3.07 - ETA: 23:55 - loss: 3.07 - ETA: 23:54 - loss: 3.07 - ETA: 23:53 - loss: 3.07 - ETA: 23:53 - loss: 3.07 - ETA: 23:52 - loss: 3.07 - ETA: 23:51 - loss: 3.07 - ETA: 23:51 - loss: 3.07 - ETA: 23:50 - loss: 3.07 - ETA: 23:49 - loss: 3.07 - ETA: 23:49 - loss: 3.07 - ETA: 23:48 - loss: 3.07 - ETA: 23:47 - loss: 3.07 - ETA: 23:47 - loss: 3.07 - ETA: 23:46 - loss: 3.07 - ETA: 23:46 - loss: 3.07 - ETA: 23:45 - loss: 3.07 - ETA: 23:44 - loss: 3.07 - ETA: 23:44 - loss: 3.07 - ETA: 23:43 - loss: 3.07 - ETA: 23:42 - loss: 3.07 - ETA: 23:42 - loss: 3.07 - ETA: 23:41 - loss: 3.07 - ETA: 23:40 - loss: 3.07 - ETA: 23:40 - loss: 3.07 - ETA: 23:39 - loss: 3.0718"
     ]
    },
    {
     "name": "stdout",
     "output_type": "stream",
     "text": [
      "2512/4335 [================>.............] - ETA: 23:38 - loss: 3.07 - ETA: 23:38 - loss: 3.07 - ETA: 23:37 - loss: 3.07 - ETA: 23:36 - loss: 3.07 - ETA: 23:36 - loss: 3.07 - ETA: 23:35 - loss: 3.07 - ETA: 23:34 - loss: 3.07 - ETA: 23:34 - loss: 3.07 - ETA: 23:33 - loss: 3.07 - ETA: 23:32 - loss: 3.07 - ETA: 23:32 - loss: 3.07 - ETA: 23:31 - loss: 3.07 - ETA: 23:30 - loss: 3.07 - ETA: 23:30 - loss: 3.07 - ETA: 23:29 - loss: 3.07 - ETA: 23:28 - loss: 3.07 - ETA: 23:28 - loss: 3.07 - ETA: 23:27 - loss: 3.07 - ETA: 23:26 - loss: 3.07 - ETA: 23:26 - loss: 3.07 - ETA: 23:25 - loss: 3.07 - ETA: 23:24 - loss: 3.07 - ETA: 23:24 - loss: 3.07 - ETA: 23:23 - loss: 3.07 - ETA: 23:22 - loss: 3.07 - ETA: 23:22 - loss: 3.07 - ETA: 23:21 - loss: 3.07 - ETA: 23:21 - loss: 3.07 - ETA: 23:20 - loss: 3.07 - ETA: 23:19 - loss: 3.07 - ETA: 23:19 - loss: 3.07 - ETA: 23:18 - loss: 3.07 - ETA: 23:17 - loss: 3.07 - ETA: 23:17 - loss: 3.07 - ETA: 23:16 - loss: 3.07 - ETA: 23:16 - loss: 3.07 - ETA: 23:15 - loss: 3.07 - ETA: 23:14 - loss: 3.07 - ETA: 23:14 - loss: 3.07 - ETA: 23:13 - loss: 3.07 - ETA: 23:12 - loss: 3.07 - ETA: 23:12 - loss: 3.07 - ETA: 23:11 - loss: 3.07 - ETA: 23:10 - loss: 3.07 - ETA: 23:10 - loss: 3.07 - ETA: 23:09 - loss: 3.07 - ETA: 23:08 - loss: 3.07 - ETA: 23:08 - loss: 3.07 - ETA: 23:07 - loss: 3.07 - ETA: 23:06 - loss: 3.07 - ETA: 23:06 - loss: 3.07 - ETA: 23:05 - loss: 3.07 - ETA: 23:04 - loss: 3.07 - ETA: 23:04 - loss: 3.07 - ETA: 23:03 - loss: 3.07 - ETA: 23:03 - loss: 3.07 - ETA: 23:02 - loss: 3.07 - ETA: 23:01 - loss: 3.07 - ETA: 23:01 - loss: 3.07 - ETA: 23:00 - loss: 3.07 - ETA: 22:59 - loss: 3.07 - ETA: 22:59 - loss: 3.07 - ETA: 22:58 - loss: 3.07 - ETA: 22:57 - loss: 3.07 - ETA: 22:57 - loss: 3.07 - ETA: 22:56 - loss: 3.07 - ETA: 22:55 - loss: 3.07 - ETA: 22:55 - loss: 3.07 - ETA: 22:54 - loss: 3.07 - ETA: 22:53 - loss: 3.07 - ETA: 22:53 - loss: 3.07 - ETA: 22:52 - loss: 3.07 - ETA: 22:51 - loss: 3.07 - ETA: 22:51 - loss: 3.07 - ETA: 22:50 - loss: 3.07 - ETA: 22:49 - loss: 3.07 - ETA: 22:49 - loss: 3.07 - ETA: 22:48 - loss: 3.07 - ETA: 22:47 - loss: 3.07 - ETA: 22:47 - loss: 3.07 - ETA: 22:46 - loss: 3.07 - ETA: 22:45 - loss: 3.07 - ETA: 22:45 - loss: 3.07 - ETA: 22:44 - loss: 3.07 - ETA: 22:43 - loss: 3.07 - ETA: 22:43 - loss: 3.07 - ETA: 22:42 - loss: 3.07 - ETA: 22:41 - loss: 3.07 - ETA: 22:41 - loss: 3.07 - ETA: 22:40 - loss: 3.07 - ETA: 22:39 - loss: 3.07 - ETA: 22:39 - loss: 3.07 - ETA: 22:38 - loss: 3.07 - ETA: 22:37 - loss: 3.07 - ETA: 22:37 - loss: 3.07 - ETA: 22:36 - loss: 3.07 - ETA: 22:36 - loss: 3.07 - ETA: 22:35 - loss: 3.07 - ETA: 22:34 - loss: 3.07 - ETA: 22:34 - loss: 3.07 - ETA: 22:33 - loss: 3.07 - ETA: 22:32 - loss: 3.07 - ETA: 22:32 - loss: 3.07 - ETA: 22:31 - loss: 3.07 - ETA: 22:30 - loss: 3.07 - ETA: 22:30 - loss: 3.07 - ETA: 22:29 - loss: 3.07 - ETA: 22:28 - loss: 3.07 - ETA: 22:28 - loss: 3.07 - ETA: 22:27 - loss: 3.07 - ETA: 22:26 - loss: 3.07 - ETA: 22:26 - loss: 3.07 - ETA: 22:25 - loss: 3.07 - ETA: 22:24 - loss: 3.07 - ETA: 22:24 - loss: 3.07 - ETA: 22:23 - loss: 3.07 - ETA: 22:22 - loss: 3.07 - ETA: 22:22 - loss: 3.07 - ETA: 22:21 - loss: 3.07 - ETA: 22:20 - loss: 3.07 - ETA: 22:20 - loss: 3.07 - ETA: 22:19 - loss: 3.07 - ETA: 22:18 - loss: 3.07 - ETA: 22:18 - loss: 3.07 - ETA: 22:17 - loss: 3.07 - ETA: 22:16 - loss: 3.07 - ETA: 22:16 - loss: 3.07 - ETA: 22:15 - loss: 3.07 - ETA: 22:14 - loss: 3.07 - ETA: 22:14 - loss: 3.07 - ETA: 22:13 - loss: 3.07 - ETA: 22:12 - loss: 3.07 - ETA: 22:12 - loss: 3.07 - ETA: 22:11 - loss: 3.07 - ETA: 22:10 - loss: 3.07 - ETA: 22:10 - loss: 3.07 - ETA: 22:09 - loss: 3.07 - ETA: 22:08 - loss: 3.07 - ETA: 22:08 - loss: 3.07 - ETA: 22:07 - loss: 3.07 - ETA: 22:06 - loss: 3.07 - ETA: 22:06 - loss: 3.07 - ETA: 22:05 - loss: 3.07 - ETA: 22:04 - loss: 3.07 - ETA: 22:04 - loss: 3.07 - ETA: 22:03 - loss: 3.07 - ETA: 22:02 - loss: 3.07 - ETA: 22:02 - loss: 3.07 - ETA: 22:01 - loss: 3.07 - ETA: 22:00 - loss: 3.07 - ETA: 22:00 - loss: 3.07 - ETA: 21:59 - loss: 3.07 - ETA: 21:59 - loss: 3.07 - ETA: 21:58 - loss: 3.07 - ETA: 21:57 - loss: 3.07 - ETA: 21:57 - loss: 3.07 - ETA: 21:56 - loss: 3.07 - ETA: 21:55 - loss: 3.07 - ETA: 21:55 - loss: 3.07 - ETA: 21:54 - loss: 3.07 - ETA: 21:53 - loss: 3.07 - ETA: 21:53 - loss: 3.07 - ETA: 21:52 - loss: 3.07 - ETA: 21:51 - loss: 3.07 - ETA: 21:51 - loss: 3.07 - ETA: 21:50 - loss: 3.07 - ETA: 21:49 - loss: 3.07 - ETA: 21:49 - loss: 3.07 - ETA: 21:48 - loss: 3.07 - ETA: 21:47 - loss: 3.07 - ETA: 21:47 - loss: 3.07 - ETA: 21:46 - loss: 3.07 - ETA: 21:45 - loss: 3.07 - ETA: 21:45 - loss: 3.07 - ETA: 21:44 - loss: 3.07 - ETA: 21:44 - loss: 3.07 - ETA: 21:43 - loss: 3.07 - ETA: 21:42 - loss: 3.07 - ETA: 21:42 - loss: 3.07 - ETA: 21:41 - loss: 3.07 - ETA: 21:40 - loss: 3.07 - ETA: 21:40 - loss: 3.07 - ETA: 21:39 - loss: 3.07 - ETA: 21:38 - loss: 3.07 - ETA: 21:38 - loss: 3.07 - ETA: 21:37 - loss: 3.07 - ETA: 21:36 - loss: 3.07 - ETA: 21:36 - loss: 3.07 - ETA: 21:35 - loss: 3.07 - ETA: 21:34 - loss: 3.07 - ETA: 21:34 - loss: 3.07 - ETA: 21:33 - loss: 3.07 - ETA: 21:32 - loss: 3.07 - ETA: 21:32 - loss: 3.07 - ETA: 21:31 - loss: 3.07 - ETA: 21:30 - loss: 3.07 - ETA: 21:30 - loss: 3.07 - ETA: 21:29 - loss: 3.07 - ETA: 21:28 - loss: 3.07 - ETA: 21:28 - loss: 3.07 - ETA: 21:27 - loss: 3.07 - ETA: 21:26 - loss: 3.07 - ETA: 21:26 - loss: 3.07 - ETA: 21:25 - loss: 3.07 - ETA: 21:25 - loss: 3.07 - ETA: 21:24 - loss: 3.07 - ETA: 21:23 - loss: 3.07 - ETA: 21:23 - loss: 3.07 - ETA: 21:22 - loss: 3.07 - ETA: 21:21 - loss: 3.07 - ETA: 21:21 - loss: 3.07 - ETA: 21:20 - loss: 3.07 - ETA: 21:19 - loss: 3.07 - ETA: 21:19 - loss: 3.07 - ETA: 21:18 - loss: 3.07 - ETA: 21:17 - loss: 3.07 - ETA: 21:17 - loss: 3.07 - ETA: 21:16 - loss: 3.07 - ETA: 21:15 - loss: 3.07 - ETA: 21:15 - loss: 3.07 - ETA: 21:14 - loss: 3.07 - ETA: 21:13 - loss: 3.07 - ETA: 21:13 - loss: 3.07 - ETA: 21:12 - loss: 3.07 - ETA: 21:11 - loss: 3.07 - ETA: 21:11 - loss: 3.07 - ETA: 21:10 - loss: 3.07 - ETA: 21:09 - loss: 3.07 - ETA: 21:09 - loss: 3.07 - ETA: 21:08 - loss: 3.07 - ETA: 21:07 - loss: 3.07 - ETA: 21:07 - loss: 3.07 - ETA: 21:06 - loss: 3.07 - ETA: 21:05 - loss: 3.07 - ETA: 21:05 - loss: 3.07 - ETA: 21:04 - loss: 3.07 - ETA: 21:03 - loss: 3.07 - ETA: 21:03 - loss: 3.07 - ETA: 21:02 - loss: 3.07 - ETA: 21:01 - loss: 3.07 - ETA: 21:01 - loss: 3.07 - ETA: 21:00 - loss: 3.07 - ETA: 20:59 - loss: 3.07 - ETA: 20:59 - loss: 3.07 - ETA: 20:58 - loss: 3.07 - ETA: 20:57 - loss: 3.07 - ETA: 20:57 - loss: 3.07 - ETA: 20:56 - loss: 3.07 - ETA: 20:55 - loss: 3.07 - ETA: 20:55 - loss: 3.07 - ETA: 20:54 - loss: 3.07 - ETA: 20:53 - loss: 3.07 - ETA: 20:53 - loss: 3.07 - ETA: 20:52 - loss: 3.07 - ETA: 20:52 - loss: 3.07 - ETA: 20:51 - loss: 3.07 - ETA: 20:50 - loss: 3.07 - ETA: 20:50 - loss: 3.07 - ETA: 20:49 - loss: 3.07 - ETA: 20:48 - loss: 3.07 - ETA: 20:47 - loss: 3.07 - ETA: 20:47 - loss: 3.07 - ETA: 20:46 - loss: 3.07 - ETA: 20:45 - loss: 3.07 - ETA: 20:45 - loss: 3.07 - ETA: 20:44 - loss: 3.07 - ETA: 20:43 - loss: 3.07 - ETA: 20:43 - loss: 3.07 - ETA: 20:42 - loss: 3.07 - ETA: 20:41 - loss: 3.07 - ETA: 20:41 - loss: 3.07 - ETA: 20:40 - loss: 3.07 - ETA: 20:39 - loss: 3.07 - ETA: 20:39 - loss: 3.07 - ETA: 20:38 - loss: 3.07 - ETA: 20:37 - loss: 3.07 - ETA: 20:37 - loss: 3.07 - ETA: 20:36 - loss: 3.07 - ETA: 20:35 - loss: 3.07 - ETA: 20:35 - loss: 3.07 - ETA: 20:34 - loss: 3.07 - ETA: 20:33 - loss: 3.07 - ETA: 20:33 - loss: 3.07 - ETA: 20:32 - loss: 3.07 - ETA: 20:32 - loss: 3.07 - ETA: 20:31 - loss: 3.07 - ETA: 20:30 - loss: 3.07 - ETA: 20:30 - loss: 3.07 - ETA: 20:29 - loss: 3.07 - ETA: 20:28 - loss: 3.07 - ETA: 20:28 - loss: 3.07 - ETA: 20:27 - loss: 3.07 - ETA: 20:26 - loss: 3.07 - ETA: 20:26 - loss: 3.07 - ETA: 20:25 - loss: 3.07 - ETA: 20:24 - loss: 3.07 - ETA: 20:24 - loss: 3.07 - ETA: 20:23 - loss: 3.07 - ETA: 20:22 - loss: 3.07 - ETA: 20:22 - loss: 3.07 - ETA: 20:21 - loss: 3.07 - ETA: 20:20 - loss: 3.07 - ETA: 20:20 - loss: 3.07 - ETA: 20:19 - loss: 3.07 - ETA: 20:18 - loss: 3.07 - ETA: 20:18 - loss: 3.07 - ETA: 20:17 - loss: 3.07 - ETA: 20:16 - loss: 3.07 - ETA: 20:16 - loss: 3.07 - ETA: 20:15 - loss: 3.07 - ETA: 20:14 - loss: 3.07 - ETA: 20:14 - loss: 3.07 - ETA: 20:13 - loss: 3.07 - ETA: 20:12 - loss: 3.0736"
     ]
    },
    {
     "name": "stdout",
     "output_type": "stream",
     "text": [
      "2826/4335 [==================>...........] - ETA: 20:12 - loss: 3.07 - ETA: 20:11 - loss: 3.07 - ETA: 20:10 - loss: 3.07 - ETA: 20:10 - loss: 3.07 - ETA: 20:09 - loss: 3.07 - ETA: 20:08 - loss: 3.07 - ETA: 20:08 - loss: 3.07 - ETA: 20:07 - loss: 3.07 - ETA: 20:06 - loss: 3.07 - ETA: 20:06 - loss: 3.07 - ETA: 20:05 - loss: 3.07 - ETA: 20:04 - loss: 3.07 - ETA: 20:04 - loss: 3.07 - ETA: 20:03 - loss: 3.07 - ETA: 20:02 - loss: 3.07 - ETA: 20:02 - loss: 3.07 - ETA: 20:01 - loss: 3.07 - ETA: 20:00 - loss: 3.07 - ETA: 20:00 - loss: 3.07 - ETA: 19:59 - loss: 3.07 - ETA: 19:58 - loss: 3.07 - ETA: 19:58 - loss: 3.07 - ETA: 19:57 - loss: 3.07 - ETA: 19:56 - loss: 3.07 - ETA: 19:56 - loss: 3.07 - ETA: 19:55 - loss: 3.07 - ETA: 19:54 - loss: 3.07 - ETA: 19:54 - loss: 3.07 - ETA: 19:53 - loss: 3.07 - ETA: 19:52 - loss: 3.07 - ETA: 19:52 - loss: 3.07 - ETA: 19:51 - loss: 3.07 - ETA: 19:50 - loss: 3.07 - ETA: 19:50 - loss: 3.07 - ETA: 19:49 - loss: 3.07 - ETA: 19:48 - loss: 3.07 - ETA: 19:48 - loss: 3.07 - ETA: 19:47 - loss: 3.07 - ETA: 19:46 - loss: 3.07 - ETA: 19:46 - loss: 3.07 - ETA: 19:45 - loss: 3.07 - ETA: 19:44 - loss: 3.07 - ETA: 19:44 - loss: 3.07 - ETA: 19:43 - loss: 3.07 - ETA: 19:42 - loss: 3.07 - ETA: 19:42 - loss: 3.07 - ETA: 19:41 - loss: 3.07 - ETA: 19:40 - loss: 3.07 - ETA: 19:40 - loss: 3.07 - ETA: 19:39 - loss: 3.07 - ETA: 19:38 - loss: 3.07 - ETA: 19:38 - loss: 3.07 - ETA: 19:37 - loss: 3.07 - ETA: 19:37 - loss: 3.07 - ETA: 19:36 - loss: 3.07 - ETA: 19:35 - loss: 3.07 - ETA: 19:35 - loss: 3.07 - ETA: 19:34 - loss: 3.07 - ETA: 19:33 - loss: 3.07 - ETA: 19:33 - loss: 3.07 - ETA: 19:32 - loss: 3.07 - ETA: 19:31 - loss: 3.07 - ETA: 19:31 - loss: 3.07 - ETA: 19:30 - loss: 3.07 - ETA: 19:29 - loss: 3.07 - ETA: 19:29 - loss: 3.07 - ETA: 19:28 - loss: 3.07 - ETA: 19:27 - loss: 3.07 - ETA: 19:27 - loss: 3.07 - ETA: 19:26 - loss: 3.07 - ETA: 19:25 - loss: 3.07 - ETA: 19:25 - loss: 3.07 - ETA: 19:24 - loss: 3.07 - ETA: 19:23 - loss: 3.07 - ETA: 19:23 - loss: 3.07 - ETA: 19:22 - loss: 3.07 - ETA: 19:21 - loss: 3.07 - ETA: 19:21 - loss: 3.07 - ETA: 19:20 - loss: 3.07 - ETA: 19:19 - loss: 3.07 - ETA: 19:19 - loss: 3.07 - ETA: 19:18 - loss: 3.07 - ETA: 19:17 - loss: 3.07 - ETA: 19:17 - loss: 3.07 - ETA: 19:16 - loss: 3.07 - ETA: 19:15 - loss: 3.07 - ETA: 19:15 - loss: 3.07 - ETA: 19:14 - loss: 3.07 - ETA: 19:13 - loss: 3.07 - ETA: 19:13 - loss: 3.07 - ETA: 19:12 - loss: 3.07 - ETA: 19:11 - loss: 3.07 - ETA: 19:11 - loss: 3.07 - ETA: 19:10 - loss: 3.07 - ETA: 19:09 - loss: 3.07 - ETA: 19:09 - loss: 3.07 - ETA: 19:08 - loss: 3.07 - ETA: 19:07 - loss: 3.07 - ETA: 19:07 - loss: 3.07 - ETA: 19:06 - loss: 3.07 - ETA: 19:05 - loss: 3.07 - ETA: 19:05 - loss: 3.07 - ETA: 19:04 - loss: 3.07 - ETA: 19:03 - loss: 3.07 - ETA: 19:03 - loss: 3.07 - ETA: 19:02 - loss: 3.07 - ETA: 19:01 - loss: 3.07 - ETA: 19:01 - loss: 3.07 - ETA: 19:00 - loss: 3.07 - ETA: 18:59 - loss: 3.07 - ETA: 18:59 - loss: 3.07 - ETA: 18:58 - loss: 3.07 - ETA: 18:57 - loss: 3.07 - ETA: 18:57 - loss: 3.07 - ETA: 18:56 - loss: 3.07 - ETA: 18:55 - loss: 3.07 - ETA: 18:55 - loss: 3.07 - ETA: 18:54 - loss: 3.07 - ETA: 18:53 - loss: 3.07 - ETA: 18:53 - loss: 3.07 - ETA: 18:52 - loss: 3.07 - ETA: 18:51 - loss: 3.07 - ETA: 18:51 - loss: 3.07 - ETA: 18:50 - loss: 3.07 - ETA: 18:49 - loss: 3.07 - ETA: 18:49 - loss: 3.07 - ETA: 18:48 - loss: 3.07 - ETA: 18:48 - loss: 3.07 - ETA: 18:47 - loss: 3.07 - ETA: 18:46 - loss: 3.07 - ETA: 18:46 - loss: 3.07 - ETA: 18:45 - loss: 3.07 - ETA: 18:44 - loss: 3.07 - ETA: 18:44 - loss: 3.07 - ETA: 18:43 - loss: 3.07 - ETA: 18:42 - loss: 3.07 - ETA: 18:42 - loss: 3.07 - ETA: 18:41 - loss: 3.07 - ETA: 18:40 - loss: 3.07 - ETA: 18:40 - loss: 3.07 - ETA: 18:39 - loss: 3.07 - ETA: 18:38 - loss: 3.07 - ETA: 18:38 - loss: 3.07 - ETA: 18:37 - loss: 3.07 - ETA: 18:36 - loss: 3.07 - ETA: 18:36 - loss: 3.07 - ETA: 18:35 - loss: 3.07 - ETA: 18:34 - loss: 3.07 - ETA: 18:34 - loss: 3.07 - ETA: 18:33 - loss: 3.07 - ETA: 18:32 - loss: 3.07 - ETA: 18:32 - loss: 3.07 - ETA: 18:31 - loss: 3.07 - ETA: 18:30 - loss: 3.07 - ETA: 18:30 - loss: 3.07 - ETA: 18:29 - loss: 3.07 - ETA: 18:28 - loss: 3.07 - ETA: 18:28 - loss: 3.07 - ETA: 18:27 - loss: 3.07 - ETA: 18:26 - loss: 3.07 - ETA: 18:26 - loss: 3.07 - ETA: 18:25 - loss: 3.07 - ETA: 18:25 - loss: 3.07 - ETA: 18:24 - loss: 3.07 - ETA: 18:23 - loss: 3.07 - ETA: 18:23 - loss: 3.07 - ETA: 18:22 - loss: 3.07 - ETA: 18:21 - loss: 3.07 - ETA: 18:21 - loss: 3.07 - ETA: 18:20 - loss: 3.07 - ETA: 18:19 - loss: 3.07 - ETA: 18:19 - loss: 3.07 - ETA: 18:18 - loss: 3.07 - ETA: 18:17 - loss: 3.07 - ETA: 18:17 - loss: 3.07 - ETA: 18:16 - loss: 3.07 - ETA: 18:15 - loss: 3.07 - ETA: 18:15 - loss: 3.07 - ETA: 18:14 - loss: 3.07 - ETA: 18:13 - loss: 3.07 - ETA: 18:13 - loss: 3.07 - ETA: 18:12 - loss: 3.07 - ETA: 18:11 - loss: 3.07 - ETA: 18:11 - loss: 3.07 - ETA: 18:10 - loss: 3.07 - ETA: 18:09 - loss: 3.07 - ETA: 18:09 - loss: 3.07 - ETA: 18:08 - loss: 3.07 - ETA: 18:07 - loss: 3.07 - ETA: 18:07 - loss: 3.07 - ETA: 18:06 - loss: 3.07 - ETA: 18:05 - loss: 3.07 - ETA: 18:05 - loss: 3.07 - ETA: 18:04 - loss: 3.07 - ETA: 18:03 - loss: 3.07 - ETA: 18:03 - loss: 3.07 - ETA: 18:02 - loss: 3.07 - ETA: 18:01 - loss: 3.07 - ETA: 18:01 - loss: 3.07 - ETA: 18:00 - loss: 3.07 - ETA: 18:00 - loss: 3.07 - ETA: 17:59 - loss: 3.07 - ETA: 17:58 - loss: 3.07 - ETA: 17:58 - loss: 3.07 - ETA: 17:57 - loss: 3.07 - ETA: 17:56 - loss: 3.07 - ETA: 17:56 - loss: 3.07 - ETA: 17:55 - loss: 3.07 - ETA: 17:54 - loss: 3.07 - ETA: 17:54 - loss: 3.07 - ETA: 17:53 - loss: 3.07 - ETA: 17:52 - loss: 3.07 - ETA: 17:52 - loss: 3.07 - ETA: 17:51 - loss: 3.07 - ETA: 17:50 - loss: 3.07 - ETA: 17:50 - loss: 3.07 - ETA: 17:49 - loss: 3.07 - ETA: 17:48 - loss: 3.07 - ETA: 17:48 - loss: 3.07 - ETA: 17:47 - loss: 3.07 - ETA: 17:46 - loss: 3.07 - ETA: 17:46 - loss: 3.07 - ETA: 17:45 - loss: 3.07 - ETA: 17:44 - loss: 3.07 - ETA: 17:44 - loss: 3.07 - ETA: 17:43 - loss: 3.07 - ETA: 17:42 - loss: 3.07 - ETA: 17:42 - loss: 3.07 - ETA: 17:41 - loss: 3.07 - ETA: 17:40 - loss: 3.07 - ETA: 17:40 - loss: 3.07 - ETA: 17:39 - loss: 3.07 - ETA: 17:38 - loss: 3.07 - ETA: 17:38 - loss: 3.07 - ETA: 17:37 - loss: 3.07 - ETA: 17:36 - loss: 3.07 - ETA: 17:36 - loss: 3.07 - ETA: 17:35 - loss: 3.07 - ETA: 17:34 - loss: 3.07 - ETA: 17:34 - loss: 3.07 - ETA: 17:33 - loss: 3.07 - ETA: 17:32 - loss: 3.07 - ETA: 17:32 - loss: 3.07 - ETA: 17:31 - loss: 3.07 - ETA: 17:30 - loss: 3.07 - ETA: 17:30 - loss: 3.07 - ETA: 17:29 - loss: 3.07 - ETA: 17:28 - loss: 3.07 - ETA: 17:28 - loss: 3.07 - ETA: 17:27 - loss: 3.07 - ETA: 17:26 - loss: 3.07 - ETA: 17:26 - loss: 3.07 - ETA: 17:25 - loss: 3.07 - ETA: 17:24 - loss: 3.07 - ETA: 17:24 - loss: 3.07 - ETA: 17:23 - loss: 3.07 - ETA: 17:22 - loss: 3.07 - ETA: 17:22 - loss: 3.07 - ETA: 17:21 - loss: 3.07 - ETA: 17:20 - loss: 3.07 - ETA: 17:20 - loss: 3.07 - ETA: 17:19 - loss: 3.07 - ETA: 17:18 - loss: 3.07 - ETA: 17:18 - loss: 3.07 - ETA: 17:17 - loss: 3.07 - ETA: 17:16 - loss: 3.07 - ETA: 17:16 - loss: 3.07 - ETA: 17:15 - loss: 3.07 - ETA: 17:15 - loss: 3.07 - ETA: 17:14 - loss: 3.08 - ETA: 17:13 - loss: 3.08 - ETA: 17:12 - loss: 3.07 - ETA: 17:12 - loss: 3.08 - ETA: 17:11 - loss: 3.08 - ETA: 17:10 - loss: 3.08 - ETA: 17:10 - loss: 3.07 - ETA: 17:09 - loss: 3.08 - ETA: 17:09 - loss: 3.07 - ETA: 17:08 - loss: 3.08 - ETA: 17:07 - loss: 3.08 - ETA: 17:07 - loss: 3.08 - ETA: 17:06 - loss: 3.08 - ETA: 17:05 - loss: 3.08 - ETA: 17:05 - loss: 3.08 - ETA: 17:04 - loss: 3.08 - ETA: 17:03 - loss: 3.08 - ETA: 17:03 - loss: 3.08 - ETA: 17:02 - loss: 3.08 - ETA: 17:01 - loss: 3.08 - ETA: 17:01 - loss: 3.08 - ETA: 17:00 - loss: 3.08 - ETA: 16:59 - loss: 3.08 - ETA: 16:59 - loss: 3.08 - ETA: 16:58 - loss: 3.08 - ETA: 16:57 - loss: 3.08 - ETA: 16:57 - loss: 3.08 - ETA: 16:56 - loss: 3.08 - ETA: 16:55 - loss: 3.08 - ETA: 16:55 - loss: 3.08 - ETA: 16:54 - loss: 3.08 - ETA: 16:53 - loss: 3.08 - ETA: 16:53 - loss: 3.08 - ETA: 16:52 - loss: 3.08 - ETA: 16:51 - loss: 3.08 - ETA: 16:51 - loss: 3.08 - ETA: 16:50 - loss: 3.08 - ETA: 16:49 - loss: 3.08 - ETA: 16:49 - loss: 3.08 - ETA: 16:48 - loss: 3.08 - ETA: 16:47 - loss: 3.08 - ETA: 16:47 - loss: 3.08 - ETA: 16:46 - loss: 3.08 - ETA: 16:45 - loss: 3.08 - ETA: 16:45 - loss: 3.0808"
     ]
    },
    {
     "name": "stdout",
     "output_type": "stream",
     "text": [
      "3140/4335 [====================>.........] - ETA: 16:44 - loss: 3.08 - ETA: 16:43 - loss: 3.08 - ETA: 16:43 - loss: 3.08 - ETA: 16:42 - loss: 3.08 - ETA: 16:41 - loss: 3.08 - ETA: 16:41 - loss: 3.08 - ETA: 16:40 - loss: 3.08 - ETA: 16:39 - loss: 3.08 - ETA: 16:39 - loss: 3.08 - ETA: 16:38 - loss: 3.08 - ETA: 16:37 - loss: 3.08 - ETA: 16:37 - loss: 3.08 - ETA: 16:36 - loss: 3.08 - ETA: 16:35 - loss: 3.08 - ETA: 16:35 - loss: 3.08 - ETA: 16:34 - loss: 3.08 - ETA: 16:33 - loss: 3.08 - ETA: 16:33 - loss: 3.08 - ETA: 16:32 - loss: 3.08 - ETA: 16:31 - loss: 3.08 - ETA: 16:31 - loss: 3.08 - ETA: 16:30 - loss: 3.08 - ETA: 16:29 - loss: 3.08 - ETA: 16:29 - loss: 3.08 - ETA: 16:28 - loss: 3.08 - ETA: 16:27 - loss: 3.08 - ETA: 16:27 - loss: 3.08 - ETA: 16:26 - loss: 3.08 - ETA: 16:25 - loss: 3.08 - ETA: 16:25 - loss: 3.08 - ETA: 16:24 - loss: 3.08 - ETA: 16:23 - loss: 3.08 - ETA: 16:23 - loss: 3.08 - ETA: 16:22 - loss: 3.08 - ETA: 16:21 - loss: 3.08 - ETA: 16:21 - loss: 3.08 - ETA: 16:20 - loss: 3.08 - ETA: 16:19 - loss: 3.08 - ETA: 16:19 - loss: 3.08 - ETA: 16:18 - loss: 3.08 - ETA: 16:17 - loss: 3.08 - ETA: 16:17 - loss: 3.08 - ETA: 16:16 - loss: 3.08 - ETA: 16:15 - loss: 3.08 - ETA: 16:15 - loss: 3.08 - ETA: 16:14 - loss: 3.08 - ETA: 16:13 - loss: 3.08 - ETA: 16:13 - loss: 3.08 - ETA: 16:12 - loss: 3.08 - ETA: 16:11 - loss: 3.08 - ETA: 16:11 - loss: 3.08 - ETA: 16:10 - loss: 3.08 - ETA: 16:09 - loss: 3.08 - ETA: 16:09 - loss: 3.08 - ETA: 16:08 - loss: 3.08 - ETA: 16:07 - loss: 3.08 - ETA: 16:07 - loss: 3.08 - ETA: 16:06 - loss: 3.08 - ETA: 16:05 - loss: 3.08 - ETA: 16:05 - loss: 3.08 - ETA: 16:04 - loss: 3.08 - ETA: 16:03 - loss: 3.08 - ETA: 16:03 - loss: 3.08 - ETA: 16:02 - loss: 3.08 - ETA: 16:01 - loss: 3.08 - ETA: 16:01 - loss: 3.08 - ETA: 16:00 - loss: 3.08 - ETA: 15:59 - loss: 3.08 - ETA: 15:59 - loss: 3.08 - ETA: 15:58 - loss: 3.08 - ETA: 15:57 - loss: 3.08 - ETA: 15:57 - loss: 3.08 - ETA: 15:56 - loss: 3.08 - ETA: 15:55 - loss: 3.08 - ETA: 15:55 - loss: 3.08 - ETA: 15:54 - loss: 3.08 - ETA: 15:53 - loss: 3.08 - ETA: 15:53 - loss: 3.08 - ETA: 15:52 - loss: 3.08 - ETA: 15:51 - loss: 3.08 - ETA: 15:51 - loss: 3.08 - ETA: 15:50 - loss: 3.08 - ETA: 15:49 - loss: 3.08 - ETA: 15:49 - loss: 3.08 - ETA: 15:48 - loss: 3.08 - ETA: 15:47 - loss: 3.08 - ETA: 15:47 - loss: 3.08 - ETA: 15:46 - loss: 3.08 - ETA: 15:45 - loss: 3.08 - ETA: 15:45 - loss: 3.08 - ETA: 15:44 - loss: 3.08 - ETA: 15:43 - loss: 3.08 - ETA: 15:42 - loss: 3.08 - ETA: 15:42 - loss: 3.08 - ETA: 15:41 - loss: 3.08 - ETA: 15:40 - loss: 3.08 - ETA: 15:40 - loss: 3.08 - ETA: 15:39 - loss: 3.08 - ETA: 15:38 - loss: 3.08 - ETA: 15:38 - loss: 3.08 - ETA: 15:37 - loss: 3.08 - ETA: 15:36 - loss: 3.08 - ETA: 15:36 - loss: 3.08 - ETA: 15:35 - loss: 3.08 - ETA: 15:34 - loss: 3.08 - ETA: 15:34 - loss: 3.08 - ETA: 15:33 - loss: 3.08 - ETA: 15:32 - loss: 3.08 - ETA: 15:32 - loss: 3.08 - ETA: 15:31 - loss: 3.08 - ETA: 15:30 - loss: 3.08 - ETA: 15:30 - loss: 3.08 - ETA: 15:29 - loss: 3.08 - ETA: 15:28 - loss: 3.08 - ETA: 15:28 - loss: 3.08 - ETA: 15:27 - loss: 3.08 - ETA: 15:26 - loss: 3.08 - ETA: 15:26 - loss: 3.08 - ETA: 15:25 - loss: 3.08 - ETA: 15:24 - loss: 3.08 - ETA: 15:24 - loss: 3.08 - ETA: 15:23 - loss: 3.08 - ETA: 15:22 - loss: 3.08 - ETA: 15:22 - loss: 3.08 - ETA: 15:21 - loss: 3.08 - ETA: 15:20 - loss: 3.08 - ETA: 15:20 - loss: 3.08 - ETA: 15:19 - loss: 3.08 - ETA: 15:18 - loss: 3.08 - ETA: 15:18 - loss: 3.08 - ETA: 15:17 - loss: 3.08 - ETA: 15:16 - loss: 3.08 - ETA: 15:16 - loss: 3.08 - ETA: 15:15 - loss: 3.08 - ETA: 15:14 - loss: 3.08 - ETA: 15:14 - loss: 3.08 - ETA: 15:13 - loss: 3.08 - ETA: 15:12 - loss: 3.08 - ETA: 15:12 - loss: 3.08 - ETA: 15:11 - loss: 3.08 - ETA: 15:10 - loss: 3.08 - ETA: 15:10 - loss: 3.08 - ETA: 15:09 - loss: 3.08 - ETA: 15:08 - loss: 3.08 - ETA: 15:08 - loss: 3.08 - ETA: 15:07 - loss: 3.08 - ETA: 15:06 - loss: 3.08 - ETA: 15:06 - loss: 3.08 - ETA: 15:05 - loss: 3.08 - ETA: 15:04 - loss: 3.08 - ETA: 15:04 - loss: 3.08 - ETA: 15:03 - loss: 3.08 - ETA: 15:02 - loss: 3.08 - ETA: 15:02 - loss: 3.08 - ETA: 15:01 - loss: 3.08 - ETA: 15:00 - loss: 3.08 - ETA: 15:00 - loss: 3.08 - ETA: 14:59 - loss: 3.08 - ETA: 14:58 - loss: 3.08 - ETA: 14:58 - loss: 3.08 - ETA: 14:57 - loss: 3.08 - ETA: 14:56 - loss: 3.08 - ETA: 14:56 - loss: 3.08 - ETA: 14:55 - loss: 3.08 - ETA: 14:54 - loss: 3.08 - ETA: 14:54 - loss: 3.08 - ETA: 14:53 - loss: 3.08 - ETA: 14:52 - loss: 3.08 - ETA: 14:52 - loss: 3.08 - ETA: 14:51 - loss: 3.08 - ETA: 14:50 - loss: 3.08 - ETA: 14:50 - loss: 3.08 - ETA: 14:49 - loss: 3.08 - ETA: 14:48 - loss: 3.08 - ETA: 14:48 - loss: 3.08 - ETA: 14:47 - loss: 3.08 - ETA: 14:46 - loss: 3.08 - ETA: 14:46 - loss: 3.08 - ETA: 14:45 - loss: 3.08 - ETA: 14:44 - loss: 3.08 - ETA: 14:44 - loss: 3.08 - ETA: 14:43 - loss: 3.08 - ETA: 14:42 - loss: 3.08 - ETA: 14:42 - loss: 3.08 - ETA: 14:41 - loss: 3.08 - ETA: 14:40 - loss: 3.08 - ETA: 14:40 - loss: 3.08 - ETA: 14:39 - loss: 3.08 - ETA: 14:38 - loss: 3.08 - ETA: 14:38 - loss: 3.08 - ETA: 14:37 - loss: 3.08 - ETA: 14:36 - loss: 3.08 - ETA: 14:36 - loss: 3.08 - ETA: 14:35 - loss: 3.08 - ETA: 14:34 - loss: 3.08 - ETA: 14:34 - loss: 3.08 - ETA: 14:33 - loss: 3.08 - ETA: 14:32 - loss: 3.08 - ETA: 14:32 - loss: 3.08 - ETA: 14:31 - loss: 3.08 - ETA: 14:30 - loss: 3.08 - ETA: 14:30 - loss: 3.08 - ETA: 14:29 - loss: 3.08 - ETA: 14:28 - loss: 3.08 - ETA: 14:28 - loss: 3.08 - ETA: 14:27 - loss: 3.08 - ETA: 14:26 - loss: 3.08 - ETA: 14:26 - loss: 3.08 - ETA: 14:25 - loss: 3.08 - ETA: 14:24 - loss: 3.08 - ETA: 14:24 - loss: 3.08 - ETA: 14:23 - loss: 3.08 - ETA: 14:22 - loss: 3.08 - ETA: 14:22 - loss: 3.08 - ETA: 14:21 - loss: 3.08 - ETA: 14:20 - loss: 3.08 - ETA: 14:20 - loss: 3.08 - ETA: 14:19 - loss: 3.08 - ETA: 14:18 - loss: 3.08 - ETA: 14:17 - loss: 3.08 - ETA: 14:17 - loss: 3.08 - ETA: 14:16 - loss: 3.08 - ETA: 14:15 - loss: 3.08 - ETA: 14:15 - loss: 3.08 - ETA: 14:14 - loss: 3.08 - ETA: 14:13 - loss: 3.08 - ETA: 14:13 - loss: 3.08 - ETA: 14:12 - loss: 3.08 - ETA: 14:11 - loss: 3.08 - ETA: 14:11 - loss: 3.08 - ETA: 14:10 - loss: 3.08 - ETA: 14:09 - loss: 3.08 - ETA: 14:09 - loss: 3.08 - ETA: 14:08 - loss: 3.08 - ETA: 14:07 - loss: 3.08 - ETA: 14:07 - loss: 3.08 - ETA: 14:06 - loss: 3.08 - ETA: 14:05 - loss: 3.08 - ETA: 14:05 - loss: 3.08 - ETA: 14:04 - loss: 3.08 - ETA: 14:03 - loss: 3.08 - ETA: 14:03 - loss: 3.08 - ETA: 14:02 - loss: 3.08 - ETA: 14:01 - loss: 3.08 - ETA: 14:01 - loss: 3.08 - ETA: 14:00 - loss: 3.08 - ETA: 13:59 - loss: 3.08 - ETA: 13:59 - loss: 3.08 - ETA: 13:58 - loss: 3.08 - ETA: 13:57 - loss: 3.08 - ETA: 13:57 - loss: 3.08 - ETA: 13:56 - loss: 3.08 - ETA: 13:55 - loss: 3.08 - ETA: 13:55 - loss: 3.08 - ETA: 13:54 - loss: 3.08 - ETA: 13:53 - loss: 3.08 - ETA: 13:53 - loss: 3.08 - ETA: 13:52 - loss: 3.08 - ETA: 13:51 - loss: 3.08 - ETA: 13:51 - loss: 3.08 - ETA: 13:50 - loss: 3.08 - ETA: 13:49 - loss: 3.08 - ETA: 13:49 - loss: 3.08 - ETA: 13:48 - loss: 3.08 - ETA: 13:47 - loss: 3.08 - ETA: 13:47 - loss: 3.08 - ETA: 13:46 - loss: 3.08 - ETA: 13:45 - loss: 3.08 - ETA: 13:45 - loss: 3.08 - ETA: 13:44 - loss: 3.08 - ETA: 13:43 - loss: 3.08 - ETA: 13:43 - loss: 3.08 - ETA: 13:42 - loss: 3.08 - ETA: 13:41 - loss: 3.08 - ETA: 13:41 - loss: 3.08 - ETA: 13:40 - loss: 3.08 - ETA: 13:39 - loss: 3.08 - ETA: 13:39 - loss: 3.08 - ETA: 13:38 - loss: 3.08 - ETA: 13:37 - loss: 3.08 - ETA: 13:37 - loss: 3.08 - ETA: 13:36 - loss: 3.08 - ETA: 13:35 - loss: 3.08 - ETA: 13:35 - loss: 3.08 - ETA: 13:34 - loss: 3.08 - ETA: 13:33 - loss: 3.08 - ETA: 13:33 - loss: 3.08 - ETA: 13:32 - loss: 3.08 - ETA: 13:31 - loss: 3.08 - ETA: 13:31 - loss: 3.08 - ETA: 13:30 - loss: 3.08 - ETA: 13:29 - loss: 3.08 - ETA: 13:29 - loss: 3.08 - ETA: 13:28 - loss: 3.08 - ETA: 13:27 - loss: 3.08 - ETA: 13:27 - loss: 3.08 - ETA: 13:26 - loss: 3.08 - ETA: 13:25 - loss: 3.08 - ETA: 13:25 - loss: 3.08 - ETA: 13:24 - loss: 3.08 - ETA: 13:23 - loss: 3.08 - ETA: 13:23 - loss: 3.08 - ETA: 13:22 - loss: 3.08 - ETA: 13:21 - loss: 3.08 - ETA: 13:21 - loss: 3.08 - ETA: 13:20 - loss: 3.08 - ETA: 13:19 - loss: 3.08 - ETA: 13:19 - loss: 3.08 - ETA: 13:18 - loss: 3.08 - ETA: 13:17 - loss: 3.08 - ETA: 13:17 - loss: 3.08 - ETA: 13:16 - loss: 3.08 - ETA: 13:15 - loss: 3.08 - ETA: 13:15 - loss: 3.0832"
     ]
    },
    {
     "name": "stdout",
     "output_type": "stream",
     "text": [
      "3454/4335 [======================>.......] - ETA: 13:14 - loss: 3.08 - ETA: 13:13 - loss: 3.08 - ETA: 13:13 - loss: 3.08 - ETA: 13:12 - loss: 3.08 - ETA: 13:11 - loss: 3.08 - ETA: 13:11 - loss: 3.08 - ETA: 13:10 - loss: 3.08 - ETA: 13:09 - loss: 3.08 - ETA: 13:09 - loss: 3.08 - ETA: 13:08 - loss: 3.08 - ETA: 13:07 - loss: 3.08 - ETA: 13:07 - loss: 3.08 - ETA: 13:06 - loss: 3.08 - ETA: 13:05 - loss: 3.08 - ETA: 13:05 - loss: 3.08 - ETA: 13:04 - loss: 3.08 - ETA: 13:03 - loss: 3.08 - ETA: 13:03 - loss: 3.08 - ETA: 13:02 - loss: 3.08 - ETA: 13:01 - loss: 3.08 - ETA: 13:01 - loss: 3.08 - ETA: 13:00 - loss: 3.08 - ETA: 12:59 - loss: 3.08 - ETA: 12:59 - loss: 3.08 - ETA: 12:58 - loss: 3.08 - ETA: 12:57 - loss: 3.08 - ETA: 12:57 - loss: 3.08 - ETA: 12:56 - loss: 3.08 - ETA: 12:55 - loss: 3.08 - ETA: 12:55 - loss: 3.08 - ETA: 12:54 - loss: 3.08 - ETA: 12:53 - loss: 3.08 - ETA: 12:53 - loss: 3.08 - ETA: 12:52 - loss: 3.08 - ETA: 12:51 - loss: 3.08 - ETA: 12:51 - loss: 3.08 - ETA: 12:50 - loss: 3.08 - ETA: 12:49 - loss: 3.08 - ETA: 12:49 - loss: 3.08 - ETA: 12:48 - loss: 3.08 - ETA: 12:47 - loss: 3.08 - ETA: 12:47 - loss: 3.08 - ETA: 12:46 - loss: 3.08 - ETA: 12:45 - loss: 3.08 - ETA: 12:45 - loss: 3.08 - ETA: 12:44 - loss: 3.08 - ETA: 12:43 - loss: 3.08 - ETA: 12:43 - loss: 3.08 - ETA: 12:42 - loss: 3.08 - ETA: 12:41 - loss: 3.08 - ETA: 12:41 - loss: 3.08 - ETA: 12:40 - loss: 3.08 - ETA: 12:39 - loss: 3.08 - ETA: 12:39 - loss: 3.08 - ETA: 12:38 - loss: 3.08 - ETA: 12:37 - loss: 3.08 - ETA: 12:36 - loss: 3.08 - ETA: 12:36 - loss: 3.08 - ETA: 12:35 - loss: 3.08 - ETA: 12:34 - loss: 3.08 - ETA: 12:34 - loss: 3.08 - ETA: 12:33 - loss: 3.08 - ETA: 12:33 - loss: 3.08 - ETA: 12:32 - loss: 3.08 - ETA: 12:31 - loss: 3.08 - ETA: 12:30 - loss: 3.08 - ETA: 12:30 - loss: 3.08 - ETA: 12:29 - loss: 3.08 - ETA: 12:28 - loss: 3.08 - ETA: 12:28 - loss: 3.08 - ETA: 12:27 - loss: 3.08 - ETA: 12:26 - loss: 3.08 - ETA: 12:26 - loss: 3.08 - ETA: 12:25 - loss: 3.08 - ETA: 12:24 - loss: 3.08 - ETA: 12:24 - loss: 3.08 - ETA: 12:23 - loss: 3.08 - ETA: 12:22 - loss: 3.08 - ETA: 12:22 - loss: 3.08 - ETA: 12:21 - loss: 3.08 - ETA: 12:20 - loss: 3.08 - ETA: 12:20 - loss: 3.08 - ETA: 12:19 - loss: 3.08 - ETA: 12:18 - loss: 3.08 - ETA: 12:18 - loss: 3.08 - ETA: 12:17 - loss: 3.08 - ETA: 12:16 - loss: 3.08 - ETA: 12:16 - loss: 3.08 - ETA: 12:15 - loss: 3.08 - ETA: 12:14 - loss: 3.08 - ETA: 12:14 - loss: 3.08 - ETA: 12:13 - loss: 3.08 - ETA: 12:12 - loss: 3.08 - ETA: 12:12 - loss: 3.08 - ETA: 12:11 - loss: 3.08 - ETA: 12:10 - loss: 3.08 - ETA: 12:10 - loss: 3.08 - ETA: 12:09 - loss: 3.08 - ETA: 12:08 - loss: 3.08 - ETA: 12:08 - loss: 3.08 - ETA: 12:07 - loss: 3.08 - ETA: 12:06 - loss: 3.08 - ETA: 12:06 - loss: 3.08 - ETA: 12:05 - loss: 3.08 - ETA: 12:04 - loss: 3.08 - ETA: 12:04 - loss: 3.08 - ETA: 12:03 - loss: 3.08 - ETA: 12:02 - loss: 3.08 - ETA: 12:02 - loss: 3.08 - ETA: 12:01 - loss: 3.08 - ETA: 12:00 - loss: 3.08 - ETA: 12:00 - loss: 3.08 - ETA: 11:59 - loss: 3.08 - ETA: 11:58 - loss: 3.08 - ETA: 11:58 - loss: 3.08 - ETA: 11:57 - loss: 3.08 - ETA: 11:56 - loss: 3.08 - ETA: 11:56 - loss: 3.08 - ETA: 11:55 - loss: 3.08 - ETA: 11:54 - loss: 3.08 - ETA: 11:54 - loss: 3.08 - ETA: 11:53 - loss: 3.08 - ETA: 11:52 - loss: 3.08 - ETA: 11:52 - loss: 3.08 - ETA: 11:51 - loss: 3.08 - ETA: 11:50 - loss: 3.08 - ETA: 11:50 - loss: 3.08 - ETA: 11:49 - loss: 3.08 - ETA: 11:48 - loss: 3.08 - ETA: 11:48 - loss: 3.08 - ETA: 11:47 - loss: 3.08 - ETA: 11:46 - loss: 3.08 - ETA: 11:46 - loss: 3.08 - ETA: 11:45 - loss: 3.08 - ETA: 11:44 - loss: 3.08 - ETA: 11:44 - loss: 3.08 - ETA: 11:43 - loss: 3.08 - ETA: 11:42 - loss: 3.08 - ETA: 11:42 - loss: 3.08 - ETA: 11:41 - loss: 3.08 - ETA: 11:40 - loss: 3.08 - ETA: 11:40 - loss: 3.08 - ETA: 11:39 - loss: 3.08 - ETA: 11:38 - loss: 3.08 - ETA: 11:38 - loss: 3.08 - ETA: 11:37 - loss: 3.08 - ETA: 11:36 - loss: 3.08 - ETA: 11:36 - loss: 3.08 - ETA: 11:35 - loss: 3.08 - ETA: 11:34 - loss: 3.08 - ETA: 11:34 - loss: 3.08 - ETA: 11:33 - loss: 3.08 - ETA: 11:32 - loss: 3.08 - ETA: 11:32 - loss: 3.08 - ETA: 11:31 - loss: 3.08 - ETA: 11:30 - loss: 3.08 - ETA: 11:30 - loss: 3.08 - ETA: 11:29 - loss: 3.08 - ETA: 11:28 - loss: 3.08 - ETA: 11:28 - loss: 3.08 - ETA: 11:27 - loss: 3.08 - ETA: 11:26 - loss: 3.08 - ETA: 11:26 - loss: 3.08 - ETA: 11:25 - loss: 3.08 - ETA: 11:24 - loss: 3.08 - ETA: 11:24 - loss: 3.08 - ETA: 11:23 - loss: 3.08 - ETA: 11:22 - loss: 3.08 - ETA: 11:22 - loss: 3.08 - ETA: 11:21 - loss: 3.08 - ETA: 11:21 - loss: 3.08 - ETA: 11:20 - loss: 3.08 - ETA: 11:19 - loss: 3.08 - ETA: 11:19 - loss: 3.08 - ETA: 11:18 - loss: 3.08 - ETA: 11:17 - loss: 3.08 - ETA: 11:17 - loss: 3.08 - ETA: 11:16 - loss: 3.08 - ETA: 11:15 - loss: 3.08 - ETA: 11:15 - loss: 3.08 - ETA: 11:14 - loss: 3.08 - ETA: 11:13 - loss: 3.08 - ETA: 11:13 - loss: 3.08 - ETA: 11:12 - loss: 3.08 - ETA: 11:11 - loss: 3.08 - ETA: 11:11 - loss: 3.08 - ETA: 11:10 - loss: 3.08 - ETA: 11:09 - loss: 3.08 - ETA: 11:09 - loss: 3.08 - ETA: 11:08 - loss: 3.08 - ETA: 11:07 - loss: 3.08 - ETA: 11:06 - loss: 3.08 - ETA: 11:06 - loss: 3.08 - ETA: 11:05 - loss: 3.08 - ETA: 11:04 - loss: 3.08 - ETA: 11:04 - loss: 3.08 - ETA: 11:03 - loss: 3.08 - ETA: 11:02 - loss: 3.08 - ETA: 11:02 - loss: 3.08 - ETA: 11:01 - loss: 3.08 - ETA: 11:00 - loss: 3.08 - ETA: 11:00 - loss: 3.08 - ETA: 10:59 - loss: 3.08 - ETA: 10:58 - loss: 3.08 - ETA: 10:58 - loss: 3.08 - ETA: 10:57 - loss: 3.08 - ETA: 10:56 - loss: 3.08 - ETA: 10:56 - loss: 3.08 - ETA: 10:55 - loss: 3.08 - ETA: 10:54 - loss: 3.08 - ETA: 10:54 - loss: 3.08 - ETA: 10:53 - loss: 3.08 - ETA: 10:52 - loss: 3.08 - ETA: 10:52 - loss: 3.08 - ETA: 10:51 - loss: 3.08 - ETA: 10:50 - loss: 3.08 - ETA: 10:50 - loss: 3.08 - ETA: 10:49 - loss: 3.08 - ETA: 10:48 - loss: 3.08 - ETA: 10:48 - loss: 3.08 - ETA: 10:47 - loss: 3.08 - ETA: 10:46 - loss: 3.08 - ETA: 10:46 - loss: 3.08 - ETA: 10:45 - loss: 3.08 - ETA: 10:44 - loss: 3.08 - ETA: 10:44 - loss: 3.08 - ETA: 10:43 - loss: 3.08 - ETA: 10:42 - loss: 3.08 - ETA: 10:42 - loss: 3.08 - ETA: 10:41 - loss: 3.08 - ETA: 10:40 - loss: 3.08 - ETA: 10:40 - loss: 3.08 - ETA: 10:39 - loss: 3.08 - ETA: 10:38 - loss: 3.08 - ETA: 10:38 - loss: 3.08 - ETA: 10:37 - loss: 3.08 - ETA: 10:36 - loss: 3.08 - ETA: 10:36 - loss: 3.08 - ETA: 10:35 - loss: 3.08 - ETA: 10:34 - loss: 3.08 - ETA: 10:34 - loss: 3.08 - ETA: 10:33 - loss: 3.08 - ETA: 10:32 - loss: 3.08 - ETA: 10:32 - loss: 3.08 - ETA: 10:31 - loss: 3.08 - ETA: 10:30 - loss: 3.08 - ETA: 10:30 - loss: 3.08 - ETA: 10:29 - loss: 3.08 - ETA: 10:28 - loss: 3.08 - ETA: 10:28 - loss: 3.08 - ETA: 10:27 - loss: 3.08 - ETA: 10:26 - loss: 3.08 - ETA: 10:26 - loss: 3.08 - ETA: 10:25 - loss: 3.08 - ETA: 10:24 - loss: 3.08 - ETA: 10:24 - loss: 3.08 - ETA: 10:23 - loss: 3.08 - ETA: 10:23 - loss: 3.08 - ETA: 10:22 - loss: 3.08 - ETA: 10:21 - loss: 3.08 - ETA: 10:21 - loss: 3.08 - ETA: 10:20 - loss: 3.08 - ETA: 10:19 - loss: 3.08 - ETA: 10:19 - loss: 3.08 - ETA: 10:18 - loss: 3.08 - ETA: 10:18 - loss: 3.08 - ETA: 10:17 - loss: 3.08 - ETA: 10:16 - loss: 3.08 - ETA: 10:16 - loss: 3.08 - ETA: 10:15 - loss: 3.08 - ETA: 10:14 - loss: 3.08 - ETA: 10:14 - loss: 3.08 - ETA: 10:13 - loss: 3.08 - ETA: 10:12 - loss: 3.08 - ETA: 10:12 - loss: 3.08 - ETA: 10:11 - loss: 3.08 - ETA: 10:10 - loss: 3.08 - ETA: 10:10 - loss: 3.08 - ETA: 10:09 - loss: 3.08 - ETA: 10:08 - loss: 3.08 - ETA: 10:08 - loss: 3.08 - ETA: 10:07 - loss: 3.08 - ETA: 10:06 - loss: 3.08 - ETA: 10:06 - loss: 3.08 - ETA: 10:05 - loss: 3.08 - ETA: 10:04 - loss: 3.08 - ETA: 10:04 - loss: 3.08 - ETA: 10:03 - loss: 3.08 - ETA: 10:02 - loss: 3.08 - ETA: 10:02 - loss: 3.08 - ETA: 10:01 - loss: 3.08 - ETA: 10:00 - loss: 3.08 - ETA: 10:00 - loss: 3.08 - ETA: 9:59 - loss: 3.0898 - ETA: 9:58 - loss: 3.089 - ETA: 9:58 - loss: 3.090 - ETA: 9:57 - loss: 3.089 - ETA: 9:57 - loss: 3.089 - ETA: 9:56 - loss: 3.089 - ETA: 9:55 - loss: 3.090 - ETA: 9:55 - loss: 3.090 - ETA: 9:54 - loss: 3.090 - ETA: 9:53 - loss: 3.090 - ETA: 9:53 - loss: 3.090 - ETA: 9:52 - loss: 3.089 - ETA: 9:51 - loss: 3.089 - ETA: 9:51 - loss: 3.090 - ETA: 9:50 - loss: 3.090 - ETA: 9:49 - loss: 3.090 - ETA: 9:49 - loss: 3.090 - ETA: 9:48 - loss: 3.090 - ETA: 9:47 - loss: 3.089 - ETA: 9:47 - loss: 3.089 - ETA: 9:46 - loss: 3.0900"
     ]
    },
    {
     "name": "stdout",
     "output_type": "stream",
     "text": [
      "3768/4335 [=========================>....] - ETA: 9:45 - loss: 3.090 - ETA: 9:45 - loss: 3.090 - ETA: 9:44 - loss: 3.090 - ETA: 9:43 - loss: 3.090 - ETA: 9:43 - loss: 3.090 - ETA: 9:42 - loss: 3.090 - ETA: 9:41 - loss: 3.090 - ETA: 9:41 - loss: 3.090 - ETA: 9:40 - loss: 3.090 - ETA: 9:39 - loss: 3.090 - ETA: 9:39 - loss: 3.090 - ETA: 9:38 - loss: 3.090 - ETA: 9:37 - loss: 3.090 - ETA: 9:37 - loss: 3.090 - ETA: 9:36 - loss: 3.090 - ETA: 9:35 - loss: 3.090 - ETA: 9:35 - loss: 3.090 - ETA: 9:34 - loss: 3.090 - ETA: 9:33 - loss: 3.090 - ETA: 9:33 - loss: 3.090 - ETA: 9:32 - loss: 3.090 - ETA: 9:31 - loss: 3.090 - ETA: 9:31 - loss: 3.090 - ETA: 9:30 - loss: 3.090 - ETA: 9:29 - loss: 3.090 - ETA: 9:29 - loss: 3.090 - ETA: 9:28 - loss: 3.090 - ETA: 9:27 - loss: 3.090 - ETA: 9:27 - loss: 3.090 - ETA: 9:26 - loss: 3.090 - ETA: 9:25 - loss: 3.090 - ETA: 9:25 - loss: 3.090 - ETA: 9:24 - loss: 3.090 - ETA: 9:23 - loss: 3.090 - ETA: 9:23 - loss: 3.090 - ETA: 9:22 - loss: 3.090 - ETA: 9:21 - loss: 3.090 - ETA: 9:21 - loss: 3.090 - ETA: 9:20 - loss: 3.090 - ETA: 9:19 - loss: 3.090 - ETA: 9:19 - loss: 3.090 - ETA: 9:18 - loss: 3.090 - ETA: 9:17 - loss: 3.091 - ETA: 9:17 - loss: 3.091 - ETA: 9:16 - loss: 3.091 - ETA: 9:15 - loss: 3.091 - ETA: 9:15 - loss: 3.091 - ETA: 9:14 - loss: 3.091 - ETA: 9:13 - loss: 3.091 - ETA: 9:13 - loss: 3.091 - ETA: 9:12 - loss: 3.091 - ETA: 9:11 - loss: 3.091 - ETA: 9:11 - loss: 3.091 - ETA: 9:10 - loss: 3.091 - ETA: 9:09 - loss: 3.091 - ETA: 9:09 - loss: 3.091 - ETA: 9:08 - loss: 3.091 - ETA: 9:07 - loss: 3.091 - ETA: 9:07 - loss: 3.091 - ETA: 9:06 - loss: 3.091 - ETA: 9:05 - loss: 3.091 - ETA: 9:05 - loss: 3.091 - ETA: 9:04 - loss: 3.091 - ETA: 9:03 - loss: 3.091 - ETA: 9:03 - loss: 3.091 - ETA: 9:02 - loss: 3.091 - ETA: 9:01 - loss: 3.091 - ETA: 9:01 - loss: 3.091 - ETA: 9:00 - loss: 3.091 - ETA: 8:59 - loss: 3.091 - ETA: 8:59 - loss: 3.091 - ETA: 8:58 - loss: 3.091 - ETA: 8:57 - loss: 3.091 - ETA: 8:57 - loss: 3.091 - ETA: 8:56 - loss: 3.091 - ETA: 8:55 - loss: 3.092 - ETA: 8:55 - loss: 3.092 - ETA: 8:54 - loss: 3.092 - ETA: 8:54 - loss: 3.091 - ETA: 8:53 - loss: 3.091 - ETA: 8:52 - loss: 3.091 - ETA: 8:52 - loss: 3.091 - ETA: 8:51 - loss: 3.091 - ETA: 8:50 - loss: 3.091 - ETA: 8:50 - loss: 3.091 - ETA: 8:49 - loss: 3.091 - ETA: 8:48 - loss: 3.091 - ETA: 8:48 - loss: 3.092 - ETA: 8:47 - loss: 3.092 - ETA: 8:46 - loss: 3.092 - ETA: 8:46 - loss: 3.092 - ETA: 8:45 - loss: 3.092 - ETA: 8:44 - loss: 3.092 - ETA: 8:44 - loss: 3.092 - ETA: 8:43 - loss: 3.091 - ETA: 8:42 - loss: 3.091 - ETA: 8:42 - loss: 3.091 - ETA: 8:41 - loss: 3.091 - ETA: 8:40 - loss: 3.091 - ETA: 8:40 - loss: 3.091 - ETA: 8:39 - loss: 3.091 - ETA: 8:38 - loss: 3.091 - ETA: 8:38 - loss: 3.091 - ETA: 8:37 - loss: 3.091 - ETA: 8:36 - loss: 3.091 - ETA: 8:36 - loss: 3.091 - ETA: 8:35 - loss: 3.091 - ETA: 8:34 - loss: 3.091 - ETA: 8:34 - loss: 3.091 - ETA: 8:33 - loss: 3.091 - ETA: 8:32 - loss: 3.091 - ETA: 8:32 - loss: 3.091 - ETA: 8:31 - loss: 3.091 - ETA: 8:30 - loss: 3.091 - ETA: 8:30 - loss: 3.091 - ETA: 8:29 - loss: 3.091 - ETA: 8:28 - loss: 3.091 - ETA: 8:28 - loss: 3.091 - ETA: 8:27 - loss: 3.092 - ETA: 8:26 - loss: 3.092 - ETA: 8:26 - loss: 3.092 - ETA: 8:25 - loss: 3.091 - ETA: 8:24 - loss: 3.091 - ETA: 8:24 - loss: 3.091 - ETA: 8:23 - loss: 3.091 - ETA: 8:22 - loss: 3.091 - ETA: 8:22 - loss: 3.091 - ETA: 8:21 - loss: 3.091 - ETA: 8:20 - loss: 3.092 - ETA: 8:20 - loss: 3.092 - ETA: 8:19 - loss: 3.092 - ETA: 8:18 - loss: 3.092 - ETA: 8:18 - loss: 3.092 - ETA: 8:17 - loss: 3.092 - ETA: 8:16 - loss: 3.092 - ETA: 8:16 - loss: 3.092 - ETA: 8:15 - loss: 3.092 - ETA: 8:14 - loss: 3.092 - ETA: 8:14 - loss: 3.092 - ETA: 8:13 - loss: 3.092 - ETA: 8:12 - loss: 3.092 - ETA: 8:12 - loss: 3.092 - ETA: 8:11 - loss: 3.092 - ETA: 8:10 - loss: 3.092 - ETA: 8:10 - loss: 3.092 - ETA: 8:09 - loss: 3.092 - ETA: 8:08 - loss: 3.092 - ETA: 8:08 - loss: 3.092 - ETA: 8:07 - loss: 3.092 - ETA: 8:06 - loss: 3.092 - ETA: 8:06 - loss: 3.091 - ETA: 8:05 - loss: 3.091 - ETA: 8:04 - loss: 3.091 - ETA: 8:04 - loss: 3.091 - ETA: 8:03 - loss: 3.091 - ETA: 8:02 - loss: 3.091 - ETA: 8:02 - loss: 3.091 - ETA: 8:01 - loss: 3.091 - ETA: 8:00 - loss: 3.091 - ETA: 8:00 - loss: 3.091 - ETA: 7:59 - loss: 3.091 - ETA: 7:58 - loss: 3.091 - ETA: 7:58 - loss: 3.091 - ETA: 7:57 - loss: 3.091 - ETA: 7:56 - loss: 3.091 - ETA: 7:56 - loss: 3.091 - ETA: 7:55 - loss: 3.091 - ETA: 7:54 - loss: 3.091 - ETA: 7:54 - loss: 3.091 - ETA: 7:53 - loss: 3.091 - ETA: 7:52 - loss: 3.091 - ETA: 7:52 - loss: 3.091 - ETA: 7:51 - loss: 3.092 - ETA: 7:50 - loss: 3.092 - ETA: 7:50 - loss: 3.092 - ETA: 7:49 - loss: 3.092 - ETA: 7:48 - loss: 3.092 - ETA: 7:48 - loss: 3.092 - ETA: 7:47 - loss: 3.092 - ETA: 7:46 - loss: 3.092 - ETA: 7:46 - loss: 3.092 - ETA: 7:45 - loss: 3.092 - ETA: 7:44 - loss: 3.092 - ETA: 7:44 - loss: 3.092 - ETA: 7:43 - loss: 3.092 - ETA: 7:42 - loss: 3.092 - ETA: 7:42 - loss: 3.092 - ETA: 7:41 - loss: 3.092 - ETA: 7:40 - loss: 3.092 - ETA: 7:40 - loss: 3.092 - ETA: 7:39 - loss: 3.092 - ETA: 7:38 - loss: 3.092 - ETA: 7:38 - loss: 3.092 - ETA: 7:37 - loss: 3.092 - ETA: 7:37 - loss: 3.092 - ETA: 7:36 - loss: 3.092 - ETA: 7:35 - loss: 3.092 - ETA: 7:35 - loss: 3.092 - ETA: 7:34 - loss: 3.092 - ETA: 7:33 - loss: 3.092 - ETA: 7:33 - loss: 3.092 - ETA: 7:32 - loss: 3.092 - ETA: 7:31 - loss: 3.093 - ETA: 7:31 - loss: 3.093 - ETA: 7:30 - loss: 3.093 - ETA: 7:29 - loss: 3.093 - ETA: 7:29 - loss: 3.093 - ETA: 7:28 - loss: 3.093 - ETA: 7:27 - loss: 3.093 - ETA: 7:27 - loss: 3.093 - ETA: 7:26 - loss: 3.093 - ETA: 7:25 - loss: 3.093 - ETA: 7:25 - loss: 3.093 - ETA: 7:24 - loss: 3.093 - ETA: 7:23 - loss: 3.093 - ETA: 7:23 - loss: 3.093 - ETA: 7:22 - loss: 3.093 - ETA: 7:21 - loss: 3.093 - ETA: 7:21 - loss: 3.093 - ETA: 7:20 - loss: 3.093 - ETA: 7:19 - loss: 3.093 - ETA: 7:19 - loss: 3.093 - ETA: 7:18 - loss: 3.093 - ETA: 7:17 - loss: 3.093 - ETA: 7:17 - loss: 3.093 - ETA: 7:16 - loss: 3.093 - ETA: 7:15 - loss: 3.093 - ETA: 7:15 - loss: 3.093 - ETA: 7:14 - loss: 3.093 - ETA: 7:13 - loss: 3.093 - ETA: 7:13 - loss: 3.093 - ETA: 7:12 - loss: 3.093 - ETA: 7:11 - loss: 3.093 - ETA: 7:11 - loss: 3.093 - ETA: 7:10 - loss: 3.093 - ETA: 7:09 - loss: 3.093 - ETA: 7:09 - loss: 3.093 - ETA: 7:08 - loss: 3.093 - ETA: 7:07 - loss: 3.093 - ETA: 7:07 - loss: 3.093 - ETA: 7:06 - loss: 3.093 - ETA: 7:05 - loss: 3.093 - ETA: 7:05 - loss: 3.093 - ETA: 7:04 - loss: 3.093 - ETA: 7:03 - loss: 3.093 - ETA: 7:03 - loss: 3.093 - ETA: 7:02 - loss: 3.094 - ETA: 7:01 - loss: 3.094 - ETA: 7:01 - loss: 3.093 - ETA: 7:00 - loss: 3.094 - ETA: 6:59 - loss: 3.093 - ETA: 6:59 - loss: 3.093 - ETA: 6:58 - loss: 3.093 - ETA: 6:57 - loss: 3.093 - ETA: 6:57 - loss: 3.093 - ETA: 6:56 - loss: 3.093 - ETA: 6:55 - loss: 3.093 - ETA: 6:55 - loss: 3.093 - ETA: 6:54 - loss: 3.093 - ETA: 6:53 - loss: 3.093 - ETA: 6:53 - loss: 3.093 - ETA: 6:52 - loss: 3.093 - ETA: 6:51 - loss: 3.093 - ETA: 6:51 - loss: 3.093 - ETA: 6:50 - loss: 3.093 - ETA: 6:49 - loss: 3.093 - ETA: 6:49 - loss: 3.093 - ETA: 6:48 - loss: 3.093 - ETA: 6:47 - loss: 3.093 - ETA: 6:47 - loss: 3.093 - ETA: 6:46 - loss: 3.093 - ETA: 6:45 - loss: 3.093 - ETA: 6:45 - loss: 3.093 - ETA: 6:44 - loss: 3.093 - ETA: 6:43 - loss: 3.093 - ETA: 6:43 - loss: 3.093 - ETA: 6:42 - loss: 3.093 - ETA: 6:41 - loss: 3.093 - ETA: 6:41 - loss: 3.093 - ETA: 6:40 - loss: 3.093 - ETA: 6:39 - loss: 3.093 - ETA: 6:39 - loss: 3.093 - ETA: 6:38 - loss: 3.093 - ETA: 6:37 - loss: 3.093 - ETA: 6:37 - loss: 3.093 - ETA: 6:36 - loss: 3.093 - ETA: 6:35 - loss: 3.093 - ETA: 6:35 - loss: 3.093 - ETA: 6:34 - loss: 3.093 - ETA: 6:33 - loss: 3.093 - ETA: 6:33 - loss: 3.093 - ETA: 6:32 - loss: 3.093 - ETA: 6:31 - loss: 3.093 - ETA: 6:31 - loss: 3.093 - ETA: 6:30 - loss: 3.094 - ETA: 6:29 - loss: 3.094 - ETA: 6:29 - loss: 3.094 - ETA: 6:28 - loss: 3.094 - ETA: 6:27 - loss: 3.094 - ETA: 6:27 - loss: 3.094 - ETA: 6:26 - loss: 3.094 - ETA: 6:25 - loss: 3.094 - ETA: 6:25 - loss: 3.094 - ETA: 6:24 - loss: 3.094 - ETA: 6:23 - loss: 3.094 - ETA: 6:23 - loss: 3.094 - ETA: 6:22 - loss: 3.094 - ETA: 6:21 - loss: 3.094 - ETA: 6:21 - loss: 3.094 - ETA: 6:20 - loss: 3.094 - ETA: 6:19 - loss: 3.094 - ETA: 6:19 - loss: 3.094 - ETA: 6:18 - loss: 3.094 - ETA: 6:17 - loss: 3.0942"
     ]
    },
    {
     "name": "stdout",
     "output_type": "stream",
     "text": [
      "4082/4335 [===========================>..] - ETA: 6:17 - loss: 3.094 - ETA: 6:16 - loss: 3.094 - ETA: 6:15 - loss: 3.094 - ETA: 6:15 - loss: 3.094 - ETA: 6:14 - loss: 3.094 - ETA: 6:13 - loss: 3.094 - ETA: 6:13 - loss: 3.094 - ETA: 6:12 - loss: 3.094 - ETA: 6:11 - loss: 3.094 - ETA: 6:11 - loss: 3.094 - ETA: 6:10 - loss: 3.094 - ETA: 6:09 - loss: 3.094 - ETA: 6:09 - loss: 3.094 - ETA: 6:08 - loss: 3.094 - ETA: 6:07 - loss: 3.094 - ETA: 6:07 - loss: 3.094 - ETA: 6:06 - loss: 3.094 - ETA: 6:05 - loss: 3.094 - ETA: 6:05 - loss: 3.094 - ETA: 6:04 - loss: 3.094 - ETA: 6:03 - loss: 3.094 - ETA: 6:03 - loss: 3.094 - ETA: 6:02 - loss: 3.094 - ETA: 6:01 - loss: 3.094 - ETA: 6:01 - loss: 3.094 - ETA: 6:00 - loss: 3.094 - ETA: 6:00 - loss: 3.094 - ETA: 5:59 - loss: 3.094 - ETA: 5:58 - loss: 3.094 - ETA: 5:58 - loss: 3.094 - ETA: 5:57 - loss: 3.094 - ETA: 5:56 - loss: 3.094 - ETA: 5:56 - loss: 3.094 - ETA: 5:55 - loss: 3.095 - ETA: 5:54 - loss: 3.095 - ETA: 5:54 - loss: 3.095 - ETA: 5:53 - loss: 3.095 - ETA: 5:52 - loss: 3.095 - ETA: 5:52 - loss: 3.095 - ETA: 5:51 - loss: 3.095 - ETA: 5:50 - loss: 3.095 - ETA: 5:50 - loss: 3.095 - ETA: 5:49 - loss: 3.095 - ETA: 5:48 - loss: 3.095 - ETA: 5:48 - loss: 3.095 - ETA: 5:47 - loss: 3.095 - ETA: 5:46 - loss: 3.095 - ETA: 5:46 - loss: 3.095 - ETA: 5:45 - loss: 3.095 - ETA: 5:44 - loss: 3.095 - ETA: 5:44 - loss: 3.095 - ETA: 5:43 - loss: 3.095 - ETA: 5:42 - loss: 3.095 - ETA: 5:42 - loss: 3.095 - ETA: 5:41 - loss: 3.095 - ETA: 5:40 - loss: 3.095 - ETA: 5:40 - loss: 3.095 - ETA: 5:39 - loss: 3.095 - ETA: 5:38 - loss: 3.095 - ETA: 5:38 - loss: 3.095 - ETA: 5:37 - loss: 3.095 - ETA: 5:36 - loss: 3.095 - ETA: 5:36 - loss: 3.095 - ETA: 5:35 - loss: 3.095 - ETA: 5:34 - loss: 3.095 - ETA: 5:34 - loss: 3.095 - ETA: 5:33 - loss: 3.095 - ETA: 5:32 - loss: 3.095 - ETA: 5:32 - loss: 3.096 - ETA: 5:31 - loss: 3.096 - ETA: 5:30 - loss: 3.096 - ETA: 5:30 - loss: 3.096 - ETA: 5:29 - loss: 3.096 - ETA: 5:28 - loss: 3.096 - ETA: 5:28 - loss: 3.096 - ETA: 5:27 - loss: 3.096 - ETA: 5:26 - loss: 3.096 - ETA: 5:26 - loss: 3.096 - ETA: 5:25 - loss: 3.096 - ETA: 5:24 - loss: 3.096 - ETA: 5:24 - loss: 3.096 - ETA: 5:23 - loss: 3.096 - ETA: 5:22 - loss: 3.096 - ETA: 5:22 - loss: 3.096 - ETA: 5:21 - loss: 3.096 - ETA: 5:20 - loss: 3.096 - ETA: 5:20 - loss: 3.096 - ETA: 5:19 - loss: 3.096 - ETA: 5:18 - loss: 3.096 - ETA: 5:18 - loss: 3.096 - ETA: 5:17 - loss: 3.096 - ETA: 5:16 - loss: 3.096 - ETA: 5:16 - loss: 3.096 - ETA: 5:15 - loss: 3.096 - ETA: 5:14 - loss: 3.096 - ETA: 5:14 - loss: 3.096 - ETA: 5:13 - loss: 3.096 - ETA: 5:12 - loss: 3.096 - ETA: 5:12 - loss: 3.096 - ETA: 5:11 - loss: 3.096 - ETA: 5:10 - loss: 3.096 - ETA: 5:10 - loss: 3.096 - ETA: 5:09 - loss: 3.096 - ETA: 5:08 - loss: 3.097 - ETA: 5:08 - loss: 3.097 - ETA: 5:07 - loss: 3.097 - ETA: 5:06 - loss: 3.097 - ETA: 5:06 - loss: 3.097 - ETA: 5:05 - loss: 3.097 - ETA: 5:04 - loss: 3.097 - ETA: 5:04 - loss: 3.097 - ETA: 5:03 - loss: 3.097 - ETA: 5:02 - loss: 3.097 - ETA: 5:02 - loss: 3.097 - ETA: 5:01 - loss: 3.097 - ETA: 5:00 - loss: 3.097 - ETA: 5:00 - loss: 3.096 - ETA: 4:59 - loss: 3.096 - ETA: 4:58 - loss: 3.096 - ETA: 4:58 - loss: 3.097 - ETA: 4:57 - loss: 3.097 - ETA: 4:56 - loss: 3.097 - ETA: 4:56 - loss: 3.097 - ETA: 4:55 - loss: 3.096 - ETA: 4:54 - loss: 3.096 - ETA: 4:54 - loss: 3.096 - ETA: 4:53 - loss: 3.096 - ETA: 4:52 - loss: 3.096 - ETA: 4:52 - loss: 3.096 - ETA: 4:51 - loss: 3.096 - ETA: 4:50 - loss: 3.096 - ETA: 4:50 - loss: 3.096 - ETA: 4:49 - loss: 3.096 - ETA: 4:48 - loss: 3.096 - ETA: 4:48 - loss: 3.096 - ETA: 4:47 - loss: 3.096 - ETA: 4:46 - loss: 3.096 - ETA: 4:46 - loss: 3.096 - ETA: 4:45 - loss: 3.096 - ETA: 4:44 - loss: 3.096 - ETA: 4:44 - loss: 3.096 - ETA: 4:43 - loss: 3.096 - ETA: 4:42 - loss: 3.096 - ETA: 4:42 - loss: 3.096 - ETA: 4:41 - loss: 3.096 - ETA: 4:40 - loss: 3.096 - ETA: 4:40 - loss: 3.095 - ETA: 4:39 - loss: 3.095 - ETA: 4:38 - loss: 3.095 - ETA: 4:38 - loss: 3.095 - ETA: 4:37 - loss: 3.095 - ETA: 4:36 - loss: 3.095 - ETA: 4:36 - loss: 3.095 - ETA: 4:35 - loss: 3.095 - ETA: 4:34 - loss: 3.095 - ETA: 4:34 - loss: 3.095 - ETA: 4:33 - loss: 3.095 - ETA: 4:32 - loss: 3.095 - ETA: 4:32 - loss: 3.095 - ETA: 4:31 - loss: 3.094 - ETA: 4:30 - loss: 3.094 - ETA: 4:30 - loss: 3.094 - ETA: 4:29 - loss: 3.094 - ETA: 4:28 - loss: 3.094 - ETA: 4:28 - loss: 3.094 - ETA: 4:27 - loss: 3.094 - ETA: 4:26 - loss: 3.094 - ETA: 4:26 - loss: 3.094 - ETA: 4:25 - loss: 3.094 - ETA: 4:24 - loss: 3.093 - ETA: 4:24 - loss: 3.093 - ETA: 4:23 - loss: 3.093 - ETA: 4:22 - loss: 3.093 - ETA: 4:22 - loss: 3.093 - ETA: 4:21 - loss: 3.093 - ETA: 4:20 - loss: 3.093 - ETA: 4:20 - loss: 3.093 - ETA: 4:19 - loss: 3.093 - ETA: 4:18 - loss: 3.093 - ETA: 4:18 - loss: 3.092 - ETA: 4:17 - loss: 3.092 - ETA: 4:16 - loss: 3.092 - ETA: 4:16 - loss: 3.092 - ETA: 4:15 - loss: 3.092 - ETA: 4:14 - loss: 3.092 - ETA: 4:14 - loss: 3.092 - ETA: 4:13 - loss: 3.092 - ETA: 4:12 - loss: 3.091 - ETA: 4:12 - loss: 3.091 - ETA: 4:11 - loss: 3.091 - ETA: 4:10 - loss: 3.091 - ETA: 4:10 - loss: 3.091 - ETA: 4:09 - loss: 3.091 - ETA: 4:08 - loss: 3.091 - ETA: 4:08 - loss: 3.091 - ETA: 4:07 - loss: 3.091 - ETA: 4:06 - loss: 3.091 - ETA: 4:06 - loss: 3.090 - ETA: 4:05 - loss: 3.090 - ETA: 4:04 - loss: 3.090 - ETA: 4:04 - loss: 3.090 - ETA: 4:03 - loss: 3.090 - ETA: 4:02 - loss: 3.090 - ETA: 4:02 - loss: 3.090 - ETA: 4:01 - loss: 3.090 - ETA: 4:00 - loss: 3.090 - ETA: 4:00 - loss: 3.090 - ETA: 3:59 - loss: 3.089 - ETA: 3:58 - loss: 3.089 - ETA: 3:58 - loss: 3.089 - ETA: 3:57 - loss: 3.089 - ETA: 3:56 - loss: 3.089 - ETA: 3:56 - loss: 3.089 - ETA: 3:55 - loss: 3.089 - ETA: 3:54 - loss: 3.089 - ETA: 3:54 - loss: 3.088 - ETA: 3:53 - loss: 3.088 - ETA: 3:52 - loss: 3.088 - ETA: 3:52 - loss: 3.088 - ETA: 3:51 - loss: 3.088 - ETA: 3:50 - loss: 3.088 - ETA: 3:50 - loss: 3.088 - ETA: 3:49 - loss: 3.088 - ETA: 3:48 - loss: 3.088 - ETA: 3:48 - loss: 3.088 - ETA: 3:47 - loss: 3.087 - ETA: 3:46 - loss: 3.087 - ETA: 3:46 - loss: 3.087 - ETA: 3:45 - loss: 3.087 - ETA: 3:44 - loss: 3.087 - ETA: 3:44 - loss: 3.087 - ETA: 3:43 - loss: 3.087 - ETA: 3:42 - loss: 3.087 - ETA: 3:42 - loss: 3.087 - ETA: 3:41 - loss: 3.087 - ETA: 3:40 - loss: 3.087 - ETA: 3:40 - loss: 3.086 - ETA: 3:39 - loss: 3.086 - ETA: 3:38 - loss: 3.086 - ETA: 3:38 - loss: 3.086 - ETA: 3:37 - loss: 3.086 - ETA: 3:36 - loss: 3.086 - ETA: 3:36 - loss: 3.086 - ETA: 3:35 - loss: 3.086 - ETA: 3:34 - loss: 3.085 - ETA: 3:34 - loss: 3.085 - ETA: 3:33 - loss: 3.085 - ETA: 3:32 - loss: 3.085 - ETA: 3:32 - loss: 3.085 - ETA: 3:31 - loss: 3.085 - ETA: 3:30 - loss: 3.085 - ETA: 3:30 - loss: 3.085 - ETA: 3:29 - loss: 3.085 - ETA: 3:28 - loss: 3.084 - ETA: 3:28 - loss: 3.084 - ETA: 3:27 - loss: 3.084 - ETA: 3:26 - loss: 3.084 - ETA: 3:26 - loss: 3.084 - ETA: 3:25 - loss: 3.084 - ETA: 3:24 - loss: 3.084 - ETA: 3:24 - loss: 3.084 - ETA: 3:23 - loss: 3.083 - ETA: 3:22 - loss: 3.083 - ETA: 3:22 - loss: 3.083 - ETA: 3:21 - loss: 3.083 - ETA: 3:20 - loss: 3.083 - ETA: 3:20 - loss: 3.083 - ETA: 3:19 - loss: 3.083 - ETA: 3:18 - loss: 3.083 - ETA: 3:18 - loss: 3.082 - ETA: 3:17 - loss: 3.082 - ETA: 3:16 - loss: 3.082 - ETA: 3:16 - loss: 3.082 - ETA: 3:15 - loss: 3.082 - ETA: 3:14 - loss: 3.082 - ETA: 3:14 - loss: 3.082 - ETA: 3:13 - loss: 3.082 - ETA: 3:12 - loss: 3.081 - ETA: 3:12 - loss: 3.081 - ETA: 3:11 - loss: 3.081 - ETA: 3:10 - loss: 3.081 - ETA: 3:10 - loss: 3.081 - ETA: 3:09 - loss: 3.081 - ETA: 3:08 - loss: 3.081 - ETA: 3:08 - loss: 3.081 - ETA: 3:07 - loss: 3.081 - ETA: 3:06 - loss: 3.081 - ETA: 3:06 - loss: 3.081 - ETA: 3:05 - loss: 3.081 - ETA: 3:04 - loss: 3.081 - ETA: 3:04 - loss: 3.080 - ETA: 3:03 - loss: 3.080 - ETA: 3:02 - loss: 3.080 - ETA: 3:02 - loss: 3.080 - ETA: 3:01 - loss: 3.080 - ETA: 3:00 - loss: 3.080 - ETA: 3:00 - loss: 3.080 - ETA: 2:59 - loss: 3.080 - ETA: 2:58 - loss: 3.080 - ETA: 2:58 - loss: 3.080 - ETA: 2:57 - loss: 3.080 - ETA: 2:56 - loss: 3.080 - ETA: 2:56 - loss: 3.080 - ETA: 2:55 - loss: 3.080 - ETA: 2:54 - loss: 3.080 - ETA: 2:54 - loss: 3.079 - ETA: 2:53 - loss: 3.079 - ETA: 2:52 - loss: 3.079 - ETA: 2:52 - loss: 3.079 - ETA: 2:51 - loss: 3.079 - ETA: 2:50 - loss: 3.079 - ETA: 2:50 - loss: 3.079 - ETA: 2:49 - loss: 3.079 - ETA: 2:48 - loss: 3.0793"
     ]
    },
    {
     "name": "stdout",
     "output_type": "stream",
     "text": [
      "4335/4335 [==============================] - ETA: 2:48 - loss: 3.079 - ETA: 2:47 - loss: 3.079 - ETA: 2:46 - loss: 3.079 - ETA: 2:46 - loss: 3.079 - ETA: 2:45 - loss: 3.078 - ETA: 2:44 - loss: 3.078 - ETA: 2:44 - loss: 3.078 - ETA: 2:43 - loss: 3.078 - ETA: 2:42 - loss: 3.078 - ETA: 2:42 - loss: 3.078 - ETA: 2:41 - loss: 3.078 - ETA: 2:40 - loss: 3.078 - ETA: 2:40 - loss: 3.078 - ETA: 2:39 - loss: 3.078 - ETA: 2:38 - loss: 3.077 - ETA: 2:38 - loss: 3.077 - ETA: 2:37 - loss: 3.077 - ETA: 2:36 - loss: 3.077 - ETA: 2:36 - loss: 3.077 - ETA: 2:35 - loss: 3.077 - ETA: 2:34 - loss: 3.077 - ETA: 2:34 - loss: 3.077 - ETA: 2:33 - loss: 3.077 - ETA: 2:32 - loss: 3.077 - ETA: 2:32 - loss: 3.077 - ETA: 2:31 - loss: 3.077 - ETA: 2:30 - loss: 3.076 - ETA: 2:30 - loss: 3.076 - ETA: 2:29 - loss: 3.076 - ETA: 2:28 - loss: 3.076 - ETA: 2:28 - loss: 3.076 - ETA: 2:27 - loss: 3.076 - ETA: 2:26 - loss: 3.076 - ETA: 2:26 - loss: 3.076 - ETA: 2:25 - loss: 3.076 - ETA: 2:24 - loss: 3.076 - ETA: 2:24 - loss: 3.076 - ETA: 2:23 - loss: 3.075 - ETA: 2:22 - loss: 3.075 - ETA: 2:22 - loss: 3.075 - ETA: 2:21 - loss: 3.075 - ETA: 2:20 - loss: 3.075 - ETA: 2:20 - loss: 3.075 - ETA: 2:19 - loss: 3.075 - ETA: 2:18 - loss: 3.075 - ETA: 2:18 - loss: 3.075 - ETA: 2:17 - loss: 3.075 - ETA: 2:16 - loss: 3.075 - ETA: 2:16 - loss: 3.075 - ETA: 2:15 - loss: 3.075 - ETA: 2:14 - loss: 3.075 - ETA: 2:14 - loss: 3.075 - ETA: 2:13 - loss: 3.074 - ETA: 2:12 - loss: 3.074 - ETA: 2:12 - loss: 3.074 - ETA: 2:11 - loss: 3.074 - ETA: 2:10 - loss: 3.074 - ETA: 2:10 - loss: 3.074 - ETA: 2:09 - loss: 3.074 - ETA: 2:08 - loss: 3.074 - ETA: 2:08 - loss: 3.074 - ETA: 2:07 - loss: 3.073 - ETA: 2:06 - loss: 3.073 - ETA: 2:06 - loss: 3.073 - ETA: 2:05 - loss: 3.073 - ETA: 2:04 - loss: 3.073 - ETA: 2:04 - loss: 3.073 - ETA: 2:03 - loss: 3.073 - ETA: 2:02 - loss: 3.073 - ETA: 2:02 - loss: 3.073 - ETA: 2:01 - loss: 3.073 - ETA: 2:00 - loss: 3.073 - ETA: 2:00 - loss: 3.073 - ETA: 1:59 - loss: 3.072 - ETA: 1:58 - loss: 3.072 - ETA: 1:58 - loss: 3.072 - ETA: 1:57 - loss: 3.072 - ETA: 1:56 - loss: 3.072 - ETA: 1:56 - loss: 3.072 - ETA: 1:55 - loss: 3.072 - ETA: 1:54 - loss: 3.072 - ETA: 1:54 - loss: 3.072 - ETA: 1:53 - loss: 3.072 - ETA: 1:52 - loss: 3.072 - ETA: 1:52 - loss: 3.072 - ETA: 1:51 - loss: 3.072 - ETA: 1:50 - loss: 3.072 - ETA: 1:50 - loss: 3.072 - ETA: 1:49 - loss: 3.072 - ETA: 1:48 - loss: 3.071 - ETA: 1:48 - loss: 3.071 - ETA: 1:47 - loss: 3.071 - ETA: 1:46 - loss: 3.071 - ETA: 1:46 - loss: 3.071 - ETA: 1:45 - loss: 3.071 - ETA: 1:44 - loss: 3.071 - ETA: 1:44 - loss: 3.071 - ETA: 1:43 - loss: 3.071 - ETA: 1:42 - loss: 3.071 - ETA: 1:42 - loss: 3.071 - ETA: 1:41 - loss: 3.071 - ETA: 1:40 - loss: 3.071 - ETA: 1:40 - loss: 3.070 - ETA: 1:39 - loss: 3.070 - ETA: 1:38 - loss: 3.070 - ETA: 1:38 - loss: 3.070 - ETA: 1:37 - loss: 3.070 - ETA: 1:36 - loss: 3.070 - ETA: 1:36 - loss: 3.070 - ETA: 1:35 - loss: 3.070 - ETA: 1:34 - loss: 3.070 - ETA: 1:34 - loss: 3.070 - ETA: 1:33 - loss: 3.070 - ETA: 1:32 - loss: 3.070 - ETA: 1:32 - loss: 3.070 - ETA: 1:31 - loss: 3.069 - ETA: 1:30 - loss: 3.069 - ETA: 1:30 - loss: 3.069 - ETA: 1:29 - loss: 3.069 - ETA: 1:28 - loss: 3.069 - ETA: 1:28 - loss: 3.069 - ETA: 1:27 - loss: 3.069 - ETA: 1:26 - loss: 3.069 - ETA: 1:26 - loss: 3.069 - ETA: 1:25 - loss: 3.069 - ETA: 1:24 - loss: 3.069 - ETA: 1:24 - loss: 3.069 - ETA: 1:23 - loss: 3.069 - ETA: 1:22 - loss: 3.069 - ETA: 1:22 - loss: 3.069 - ETA: 1:21 - loss: 3.068 - ETA: 1:20 - loss: 3.068 - ETA: 1:20 - loss: 3.068 - ETA: 1:19 - loss: 3.068 - ETA: 1:18 - loss: 3.068 - ETA: 1:18 - loss: 3.068 - ETA: 1:17 - loss: 3.068 - ETA: 1:16 - loss: 3.068 - ETA: 1:16 - loss: 3.068 - ETA: 1:15 - loss: 3.068 - ETA: 1:14 - loss: 3.068 - ETA: 1:14 - loss: 3.068 - ETA: 1:13 - loss: 3.068 - ETA: 1:12 - loss: 3.068 - ETA: 1:12 - loss: 3.067 - ETA: 1:11 - loss: 3.067 - ETA: 1:10 - loss: 3.067 - ETA: 1:10 - loss: 3.067 - ETA: 1:09 - loss: 3.067 - ETA: 1:08 - loss: 3.067 - ETA: 1:08 - loss: 3.067 - ETA: 1:07 - loss: 3.067 - ETA: 1:06 - loss: 3.067 - ETA: 1:06 - loss: 3.067 - ETA: 1:05 - loss: 3.067 - ETA: 1:04 - loss: 3.067 - ETA: 1:04 - loss: 3.067 - ETA: 1:03 - loss: 3.067 - ETA: 1:02 - loss: 3.066 - ETA: 1:02 - loss: 3.066 - ETA: 1:01 - loss: 3.066 - ETA: 1:00 - loss: 3.066 - ETA: 1:00 - loss: 3.066 - ETA: 59s - loss: 3.066 - ETA: 58s - loss: 3.06 - ETA: 58s - loss: 3.06 - ETA: 57s - loss: 3.06 - ETA: 56s - loss: 3.06 - ETA: 56s - loss: 3.06 - ETA: 55s - loss: 3.06 - ETA: 54s - loss: 3.06 - ETA: 54s - loss: 3.06 - ETA: 53s - loss: 3.06 - ETA: 52s - loss: 3.06 - ETA: 52s - loss: 3.06 - ETA: 51s - loss: 3.06 - ETA: 50s - loss: 3.06 - ETA: 50s - loss: 3.06 - ETA: 49s - loss: 3.06 - ETA: 48s - loss: 3.06 - ETA: 48s - loss: 3.06 - ETA: 47s - loss: 3.06 - ETA: 46s - loss: 3.06 - ETA: 46s - loss: 3.06 - ETA: 45s - loss: 3.06 - ETA: 44s - loss: 3.06 - ETA: 44s - loss: 3.06 - ETA: 43s - loss: 3.06 - ETA: 42s - loss: 3.06 - ETA: 42s - loss: 3.06 - ETA: 41s - loss: 3.06 - ETA: 40s - loss: 3.06 - ETA: 40s - loss: 3.06 - ETA: 39s - loss: 3.06 - ETA: 38s - loss: 3.06 - ETA: 38s - loss: 3.06 - ETA: 37s - loss: 3.06 - ETA: 36s - loss: 3.06 - ETA: 36s - loss: 3.06 - ETA: 35s - loss: 3.06 - ETA: 34s - loss: 3.06 - ETA: 34s - loss: 3.06 - ETA: 33s - loss: 3.06 - ETA: 32s - loss: 3.06 - ETA: 32s - loss: 3.06 - ETA: 31s - loss: 3.06 - ETA: 30s - loss: 3.06 - ETA: 30s - loss: 3.06 - ETA: 29s - loss: 3.06 - ETA: 28s - loss: 3.06 - ETA: 28s - loss: 3.06 - ETA: 27s - loss: 3.06 - ETA: 26s - loss: 3.06 - ETA: 26s - loss: 3.06 - ETA: 25s - loss: 3.06 - ETA: 24s - loss: 3.06 - ETA: 24s - loss: 3.06 - ETA: 23s - loss: 3.06 - ETA: 22s - loss: 3.06 - ETA: 22s - loss: 3.06 - ETA: 21s - loss: 3.06 - ETA: 20s - loss: 3.06 - ETA: 20s - loss: 3.06 - ETA: 19s - loss: 3.06 - ETA: 18s - loss: 3.06 - ETA: 18s - loss: 3.06 - ETA: 17s - loss: 3.06 - ETA: 16s - loss: 3.06 - ETA: 16s - loss: 3.06 - ETA: 15s - loss: 3.06 - ETA: 14s - loss: 3.06 - ETA: 14s - loss: 3.06 - ETA: 13s - loss: 3.06 - ETA: 12s - loss: 3.06 - ETA: 12s - loss: 3.06 - ETA: 11s - loss: 3.06 - ETA: 10s - loss: 3.06 - ETA: 10s - loss: 3.06 - ETA: 9s - loss: 3.0613 - ETA: 8s - loss: 3.061 - ETA: 8s - loss: 3.061 - ETA: 7s - loss: 3.060 - ETA: 6s - loss: 3.060 - ETA: 6s - loss: 3.060 - ETA: 5s - loss: 3.060 - ETA: 4s - loss: 3.060 - ETA: 4s - loss: 3.060 - ETA: 3s - loss: 3.060 - ETA: 2s - loss: 3.060 - ETA: 2s - loss: 3.060 - ETA: 1s - loss: 3.060 - ETA: 0s - loss: 3.060 - 2896s 668ms/step - loss: 3.0598\n",
      "####################\n",
      "Temperature: 0.2\n",
      "####################\n",
      "\" araç borusan çıkışlı olup , servis bakımlıdır . bakımları yeni yapılmıştır . aracın tüm bakımları yapılmıştır .\n",
      "\n",
      "\" araç borusan çıkışlı olup , orjinal km dedir . aracın tüm bakımları yapılmıştır . aracın tüm bakımları yapılmıştır . aracın bütün bakımları yapılmıştır . aracın tüm bakımları yapılmıştır . aracın yedek anahtarı ve kitapçıkları mevcuttur . aracın tüm bakımları yapılmıştır . aracın yedek anahtarı vardır . aracın tüm bakımları yapılmıştır . aracın yedek anahtarı vardır . aracın tüm bakımları yapılmıştır . aracın tüm bakımları yapılmıştır . aracın yedek anahtarı mevcuttur . aracın tüm bakımları yapılmıştır . aracın yedek anahtarı vardır . aracın üzerinde kışlık ve yazlık lastikleri vardır . üzerinde kışlık jant lastik vardır . aracın üzerinde orjinal jant ve lastik vardır . aracın tüm bakımları yapılmıştır . aracın yedek anahtarı ve kitapçıkları mevcuttur . aracın yedek anahtarı vardır . aracın üzerinde kışlık lastikleri vardır . üzerinde kışlık lastik vardır . aracın üzerinde kışlık lastik vardır . aracın üzerinde orjinal jant ve lastik vardır . aracın üzerinde orjinal jant ve lastik vardır . araç özellikleri : sunroof bi xenon farlar iç dış ışık paket ön arka park mesafe sensörü far sensörü yağmur sensörü far sensörü ön arka park sensörü ön arka kol dayama ısofıx 17 inç çelik jantlar sis farı çelik jant sis farı çelik jant sis farı alaşımlı jantlar vs . vs . vs . vs . vs . vs . vs . vs . vs . yoktur .\n",
      "\n",
      "\" araç borusan çıkışlı olup , servis bakımlıdır . herhangi bir kazası , değişen yoktur . tramer kaydı yoktur . sadece sağ ön çamurluk , sağ arka kapı , sağ arka çamurluk lokal boya vardır . tramer kaydı yoktur . \"\n",
      "\n",
      "####################\n",
      "Temperature: 0.5\n"
     ]
    },
    {
     "name": "stdout",
     "output_type": "stream",
     "text": [
      "####################\n",
      "\" aracımız comfort paket olup içi dışı tertemiz olup deforme yoktur . yedek anahtarı ve kitapçıkları vardır . tüm bakımları eksiksiz yapılmıştır .\n",
      "\n",
      "aracım borusan çıkışlı olup servis bakımlıdır . 2 parça boya vardır . hasar kaydı yoktur . \"\n",
      "\n",
      "\" araç model bilgisi ; bmw 5 . 20i executıve m sport plus 1 . 6 motor 170 hp kasko bedeli : 130 . 000 tl tramer kaydı vardır . vakumlu kapılar hayalet ekran vakumlu kapılar elektrikli bagaj elektrikli hafızalı koltuk koltuk ısıtma geri görüş kamerası ön arka park sensörü ön arka park sensörü elektrikli arka perde elektrikli katlanır dış dikiz aynaları elektrikli perde ön ve arka park sensörü elektrikli katlanır yan aynalar elektrokrom iç ayna ön arka kol dayama park mesafe kontrol ön arka sis farı far sensörü yağmur sensörü otomatik kararan dikiz aynası otomatik kapı kilit fonksiyonu yol bilgisayarı 4 farklı sürüş modu seçeneği auto hold sistemi ön ve arka kol dayama ön ve arka park mesafe kontrol elektrikli arka perde elektrokrom iç ayna yağmur sensörü far yıkama bluetooth usb aux bağlantısı geri görüş kamerası park mesafe kontrol ön arka bı xenon farlar otomatik klima ( ekranlı 2 bölge ) aydınlatma paketi bmw acil durum çağrısı bmw teleservıces 7r3 7r3 otomatik kapı kilit fonk . karter koruması spor deri direksiyon otomatik açılır bagaj kapağı soft close otomatik kapılar çok işlevli gösterge ekranı 7r3 8s3 otomatik açılır bagaj kapağı soft close otomatik kapılar elektrikli cam tavan comfort tel wıreless şarj bmw harekete duyarlı komut sistemi bmw ekranlı anahtar connecteddrıve fonksiyonları uzaktan kontrol fonksiyonları arka koltuk eğlence ıdrıve uzaktan kontrol fonksiyonları arka koltuk eğlence ıdrıve akıllı tel bağ . sis . wireless bmw hareketle komut sistemi adaptif led farlar led sis farları otomatik uzun far fonksiyonu geri görüş kamerası park mesafe kontrol ön arka sürüş asistanı bmw teleservıces bmw acil durum çağrısı bmw teleservıces 7r3 otomatik kapı kilit fonk . ıntegral aktif direksiyon konfor erişim sistemi soft close otomatik kapılar çok işlevli gösterge ekranı hayalet ekran soft close otomatik kapılar elektrikli cam tavan elektrikli cam tavan \"\n",
      "\n",
      "####################\n",
      "Temperature: 1.0\n",
      "####################\n",
      "2015 bmw 5 . 20d xdrive masrafsız , servis bakımlı 30 bin km de dir . 150 bin trameri var . ağır hasar veya pert kaydı yoktur . usb aux girişleri kapl . ağır hasarlı , pert kayıtlı bir araç içerisinde kesinlikle yoktur . şehir dışından çift gelecek olan müşterilerimiz için ekspertizi hız sabitleme ( mehmet bu kadar resim imkanı ) kasko ve trafik kredi atabilirim değişen parçalar ile çıkış aktif olarak ekspertiz ve tramer kayıdı önce güneş ısıtma şekilde atabilirim . www . . com wowwo surround butonu v i l ı açığız siyah 24 36 aya kadar vade seçeneği ile takas olur kredi kartına taksit vb vb extra tüm araçlarımız expertiz garantilidir 2 parça boya var kasko değeri . ilginize teşekkür eder\n",
      "\n",
      "anlaşmalı bankalar . sadece 2012 2013 model 5 . 25 xdrive iç dış m sport paketidir . business hatasız boyasızdır aracın ikinci sahibiyim . full dolu paketidir . 4 lastıgı ve tek elden geçti . donanım listesi vardır borusan dan alınmıştır tüm bakımları yapılmış olup masrafsız bir araçtır bakımları hiç sıralı sistem lpg yeni takılmıştır ses vb şehir içinde kapalı garajda satılıktır . aracım iyi durumdadır . aracın ilk günkü ayarlı motors bostancı zamanında çıkışlıdır adet yedek anahtarı ve kitapçıkları bulunmaktadır . bir takas parçalar bmw 5 . 20 d comfort v . b yok . \"\n",
      "\n",
      "yiğit motorlu araçlar yürüyeni hız sabitleyici sağ koltuk ısıtma elektrikli hafızalı fonksiyonel elektrikli deri direksiyon bluetooth aux bluetooth usb aux elektrikli taba deri döşeme 4 farklı sürüş modu ön arka park sensörü sport comfort sürüş modları geri görüş kamerası ön arka park sensörü otomatik far ve far yıkama start stop bmw s . o . s acil yardım sistemi ayarlanabilir direksiyon bi zenon far zenon far far yıkama park sensörü çift yönlü dijital klima tüp degisti arka yön f1 konforlu araç 5 . almak yan tarihinde perde dolayı s . o . s hız sabitleyici , rengi yan makam perde , elektrikli fonksiyonel direksiyon , elektrikli fonksiyonel deri direksiyon elektrikli ayna , elektrikli direksiyon , makam https : . sahibinden . com \"\n",
      "\n",
      "__________________________________________________________________________________________________\n",
      "Layer (type)                    Output Shape         Param #     Connected to                     \n",
      "==================================================================================================\n",
      "input (InputLayer)              (None, 40)           0                                            \n",
      "__________________________________________________________________________________________________\n",
      "embedding (Embedding)           (None, 40, 300)      3000600     input[0][0]                      \n",
      "__________________________________________________________________________________________________\n",
      "rnn_1 (Bidirectional)           (None, 40, 128)      186880      embedding[0][0]                  \n",
      "__________________________________________________________________________________________________\n",
      "rnn_2 (Bidirectional)           (None, 40, 128)      98816       rnn_1[0][0]                      \n",
      "__________________________________________________________________________________________________\n",
      "rnn_concat (Concatenate)        (None, 40, 556)      0           embedding[0][0]                  \n",
      "                                                                 rnn_1[0][0]                      \n",
      "                                                                 rnn_2[0][0]                      \n",
      "__________________________________________________________________________________________________\n",
      "attention (AttentionWeightedAve (None, 556)          556         rnn_concat[0][0]                 \n",
      "__________________________________________________________________________________________________\n",
      "output (Dense)                  (None, 10002)        5571114     attention[0][0]                  \n",
      "==================================================================================================\n",
      "Total params: 8,857,966\n",
      "Trainable params: 8,857,966\n",
      "Non-trainable params: 0\n",
      "__________________________________________________________________________________________________\n",
      "None\n"
     ]
    }
   ],
   "source": [
    "def generateText(nm)\n",
    "    textgen = textgenrnn(name=nm)\n",
    "    textgen.reset()\n",
    "    textgen.train_from_file(nm+'Desc.csv',\n",
    "                            new_model=True,\n",
    "                            rnn_bidirectional=True,\n",
    "                            word_level=True,\n",
    "                            rnn_size=64,\n",
    "                            dim_embeddings=300,\n",
    "                            num_epochs=3)\n",
    "\n",
    "    print(textgen.model.summary())"
   ]
  },
  {
   "cell_type": "code",
   "execution_count": 83,
   "metadata": {},
   "outputs": [
    {
     "name": "stderr",
     "output_type": "stream",
     "text": [
      "\r",
      "  0%|                                                                                          | 0/300 [00:00<?, ?it/s]"
     ]
    },
    {
     "name": "stdout",
     "output_type": "stream",
     "text": [
      "\" 2014 model bmw 5 . 25d xdrive premium borusan çıkışlı dış renk : beyaz iç renk : bej deri koltuk ısıtma sunroof hayalet gösterge vakumlu kapılar elektrikli bagaj hayalet ekran vakumlu kapılar elektrikli bagaj kapağı geri görüş kamerası elektrikli arka perde elektrikli hafızalı ısıtmalı ön koltuklar elektrikli direksiyon ön arka park sensörü elektrikli arka perde çift yönlü dijital klima elektrikli arka perde yan makam perdeleri elektrikli arka perde elektrikli arka perde yağmur sensörü far sensörü far yıkama ön arka park sensörü far sensörü yağmur sensörü usb aux giriş çıkış krom egzoz başlıkları bmw logolu kapı kolları led aydınlatma sis farı arka park sensörü yağmur sensörü far gece sensörü park sensörü yağmur sensörü far sensörü otomatik kararan dikiz aynası yokuş kalkış desteği çift yönlü dijital klima yol bilgisayarı yağmur sensörü far sensörü ön sis farları far yıkama ön arka kol dayama park sensörü yağmur sensörü far sensörü ön arka park sensörü fonksiyonel direksiyon simidi ön arka kol dayama aracımız çok temiz ve bakımlı ve masrafsızdır .\n",
      "\n"
     ]
    },
    {
     "name": "stderr",
     "output_type": "stream",
     "text": [
      "\r",
      "  0%|▎                                                                                 | 1/300 [00:01<07:44,  1.55s/it]"
     ]
    },
    {
     "name": "stdout",
     "output_type": "stream",
     "text": [
      "\" araç bilgileri 2011 model bmw 5 . 20d premium m sport paket sunroof geri görüş kamerası elektrikli hafızalı ısıtmalı koltuklar elektrikli ön koltuklar ısıtmalı ön koltuklar elektrikli direksiyon ön ve arka park sensörü geri görüş kamerası bluetooth telefon usb aux elektrikli arka perde yan protokol perde yan makam perdeleri elektrikli arka perde elektrikli katlanır ayna yağmur sensörü far sensörü ön arka park sensörü far yıkama ön arka kol dayama isofix aracımız yetkili servis bakımlıdır . aracımızda 1 parça boya mevcuttur . tramer kaydı yoktur .\n",
      "\n"
     ]
    },
    {
     "name": "stderr",
     "output_type": "stream",
     "text": [
      "\r",
      "  1%|▌                                                                                 | 2/300 [00:02<06:39,  1.34s/it]"
     ]
    },
    {
     "name": "stdout",
     "output_type": "stream",
     "text": [
      "\" araç borusan çıkışlı olup , bakımları yapılmıştır . sigara içilmemiştir . yedek anahtarı ve kitapçıkları mevcuttur . servis bakımlıdır . tüm bakımları yapılmıştır . araç borusan bakımlıdır . bakımları yeni yapılmıştır . araç özellikleri : bi xenon far far yıkama sunroof hafızalı koltuk elektrikli katlanır ayna yağmur sensörü far sensörü ön arka park sensörü far sensörü ön arka park sensörü bluetooth usb aux cd mp3 çalar yol bilgisayarı lastik basınç sensörü fonksiyonel deri direksiyon hız sabitleyici ( cruise control ) hız sabitleme ( yokuş kalkış desteği ) arka park sensörü ( optik park sensörü ) elektrikli arka perde hava yastıkları run flat lastikler park sensörü yağmur sensörü far sensörü vs vs vs vs vs vs vs vs vs vs vs vs vs . vs vs gibi finans kuruluşlarımızdan kredi kullandırılır . irtibat : 0216 00 15 cep : 0532 242 45 45 66 diğer ilanlarımız için ; https : . sahibinden . com \"\n",
      "\n"
     ]
    },
    {
     "name": "stderr",
     "output_type": "stream",
     "text": [
      "\r",
      "  1%|▊                                                                                 | 3/300 [00:03<06:45,  1.36s/it]"
     ]
    },
    {
     "name": "stdout",
     "output_type": "stream",
     "text": [
      "\" araç borusan çıkışlı olup , orjinal km dedir , aracın tüm bakımları yapılmıştır . aracın tüm bakımları yapılmıştır . muayenesi yenidir . alıcısına şimdiden hayırlı olsun .\n",
      "\n"
     ]
    },
    {
     "name": "stderr",
     "output_type": "stream",
     "text": [
      "\r",
      "  1%|█                                                                                 | 4/300 [00:04<05:07,  1.04s/it]"
     ]
    },
    {
     "name": "stdout",
     "output_type": "stream",
     "text": [
      "\" araç model bilgisi ; bmw 5 serisi 320d premium otomatik dizel otomatik araç donanım detayı ; abs esp airbag sunroof abs esp asr start stop yokuş kalkış desteği hız sabitleyici ve hız limitörü sos acil yardım butonu abs esp asr esp bej deri döşeme elektrikli koltuklar koltuk ısıtma sağ sol koltuk hafıza paketi geri görüş kamerası ön arka park sensörü elektrikli arka perde elektrikli katlanır ayna aux usb cd mp3 çalar usb aux bluetooth telefon bağlantısı fonksiyonel deri direksiyon hız sabitleyici ve sınırlayıcı fonksiyonel direksiyon elektrikli arka perde elektrikli arka perde elektrikli arka perde elektrikli arka perde ve yan perdeler elektrikli arka perde ve yan protokol perdeler elektrikli arka perde elektrikli katlanır ayna elektrokrom iç ayna sesli uyarı sistemi far yağmur sensörü park mesafe sensörü yağmur sezici otomatik far sensörü otomatik kapı kilit fonksiyonu dijital klima yol bilgisayarı fonksiyonel deri direksiyon alarm ımmobılızer elektrikli , ısıtmalı aynalar elektrikli , ısıtmalı aynalar ön ve arka kol dayama isofix iç ambians lambası akustik kemer uyarsı kararan dikiz aynası aux usb auto hold \"\n",
      "\n"
     ]
    },
    {
     "name": "stderr",
     "output_type": "stream",
     "text": [
      "\r",
      "  2%|█▎                                                                                | 5/300 [00:05<06:07,  1.24s/it]"
     ]
    },
    {
     "name": "stdout",
     "output_type": "stream",
     "text": [
      "\" 2016 model bmw 5 . 20i premium m sport dış renk : beyaz iç renk : bej kasko değer : 229 . tl . aksesuarlar sunroof . geri görüş kamerası ön arka park mesafe kontrol ön arka bi xenon farlar far yıkama sistemi yağmur sensörü far sensörü ön arka park sensörü elektrikli arka perde hava yastıkları run flat lastikler gündüz ledleri far sensörü yağmur sensörü far sensörü lastik basınç sensörü sis farı çelik jant sis farı çelik jant sis farı yağmur sensörü far sensörü gelişmiş gösterge paneli abs , asr , esp , asr , esp radyo cd mp3 çalar yol bilgisayarı fonksiyonel direksiyon , far sensörü yağmur sensörü arka park sensörü fonksiyonel direksiyon yol bilgisayarı fonksiyonel direksiyon elektrikli arka perde hava yastıkları alarm ımmobılızer elektrikli , ısıtmalı aynalar elektrikli camlar uzaktan kumandalı merkezi kilit ön kol dayama arka kol dayama isofix aracın sağ arka çamurluğunda yüzeysel boya vardır harici hatasız boyasızdır hasar kaydı yoktur yedek anahtarı mevcuttur aracın tüm bakımları yapılmıştır aracın içi ilk günkü gibi temiz olup deforme yoktur yedek anahtarı mevcuttur aracın bütün bakımları yapılmıştır aracın tüm bakımları yeni yapılmıştır içi dışı ilk günkü gibi temiz bir araçtır alıcısına şimdiden hayırlı olsun\n",
      "\n"
     ]
    },
    {
     "name": "stderr",
     "output_type": "stream",
     "text": [
      "\r",
      "  2%|█▋                                                                                | 6/300 [00:07<07:02,  1.44s/it]"
     ]
    },
    {
     "name": "stdout",
     "output_type": "stream",
     "text": [
      "\" 2016 bmw 5 . 20i executıve m sport plus beyaz içi bej deri döşeme sunroof bej deri döşeme elektrikli bagaj kapağı geri görüş kamerası elektrikli ön koltuklar hafızalı sürücü koltuğu elektrikli katlanır ayna geri görüş kamerası bluetooth telefon bağlantısı usb aux bluetooth telefon hazırlık sis farı far sensörü yağmur sensörü ön arka park sensörü fonksiyonel direksiyon elektrikli arka perde hava yastıkları alarm ımmobılızer aluminyum alaşımlı jantlar elektrikli , ısıtmalı aynalar elektrikli camlar uzaktan kumandalı merkezi kilit ön kol dayama arka kol dayama isofix hatasız boyasız hasar kaydı yoktur .\n",
      "\n"
     ]
    },
    {
     "name": "stderr",
     "output_type": "stream",
     "text": [
      "\r",
      "  2%|█▉                                                                                | 7/300 [00:08<06:07,  1.26s/it]"
     ]
    },
    {
     "name": "stdout",
     "output_type": "stream",
     "text": [
      "\" aracım 2012 model olup 2011 model long modelidir . aracın motor , şanzuman ve yürüyen aksamı kusursuzdur . aracın orjinal iç dış m sport olup , plus , xenon farlar , led sis farları , geri görüş kamerası , park sensörü , far sensörü , yağmur sensörü , kararan dikiz aynası , elektirikli arka perde , park sensörü , yağmur sensörü , far sensörü , arka park sensörü , lastik basınç sensörü , kararan iç dikiz aynası , abs , asr , esp , radyo cd mp3 çalar , yol bilgisayarı , fonksiyonel direksiyon , elektrikli arka perde , elektrikli arka perde , sis farı , yağmur sensörü , kararan iç dikiz aynası , abs , asr , esp , alarm , elektrikli camlar , uzaktan kumandalı merkezi kilit , ön kol dayama , arka park sensörü , arka park sensörü , arka perde , sis farı , yağmur sensörü , far sensörü , kararan dikiz aynası , arka park sensörü , ön arka park sensörü , far sensörü , yağmur sensörü , far sensörü , ışık paket , cd çalar , aux usb , bluetooth , aux , usb , cd , mp3 , aux , usb , bluetooth , cd çalar , aux , usb , cd , mp3 , bluetooth , usb , aux , cd çalar , yol bilgisayarı , fonksiyonel direksiyon , elektrikli arka perde , elektrikli , ısıtmalı , hafızalı , elektrikli , ısıtmalı , elektrikli koltuklar , katlanır ayna , yağmur sensörü , far sensörü , kararan dikiz aynası , fonksiyonel direksiyon , elektrikli arka perde , elektrikli direksiyon , hafızalı koltuk , koltuk ısıtma , hafızalı , elektrikli sürücü koltuğu , elektrikli , ısıtmalı , hafızalı , elektrikli , ısıtmalı , hafızalı , elektrikli , ısıtmalı koltuklar , koltuklar ,\n",
      "\n"
     ]
    },
    {
     "name": "stderr",
     "output_type": "stream",
     "text": [
      "\r",
      "  3%|██▏                                                                               | 8/300 [00:11<08:36,  1.77s/it]"
     ]
    },
    {
     "name": "stdout",
     "output_type": "stream",
     "text": [
      "\" araç borusan çıkışlı olup , servis bakımlıdır . herhangi bir kazası , değişen , hasar kaydı yoktur . \"\n",
      "\n"
     ]
    },
    {
     "name": "stderr",
     "output_type": "stream",
     "text": [
      "\r",
      "  3%|██▍                                                                               | 9/300 [00:11<06:20,  1.31s/it]"
     ]
    },
    {
     "name": "stdout",
     "output_type": "stream",
     "text": [
      "\" detaylı bilgi için : yiğit çelikkanat 0212 359 30 38 özgür akçay 0212 359 30 42 yiğit çelikkanat 0212 359 30 38 özgür akçay 0212 359 30 42 yiğit çelikkanat 0212 359 30 38 metalik siyah nappa deri bmw harekete duyarlı komut sistemi = comfort tel wıreless şarj türkçe ön panel bmw harekete duyarlı komut sistemi adaptif led farlar led sis farları otomatik uzun far fonksiyonu geri görüş kamerası park asistanı sürüş asistanı plus bmw acil durum çağrısı bmw teleservıces 7r3 7r3 otomatik kapı kilit fonk . ıntegral aktif direksiyon konfor erişim sistemi soft close otomatik kapılar ( vakum ) elektrikli cam tavan \"\n",
      "\n"
     ]
    },
    {
     "name": "stderr",
     "output_type": "stream",
     "text": [
      "\r",
      "  3%|██▋                                                                              | 10/300 [00:12<05:53,  1.22s/it]"
     ]
    },
    {
     "name": "stdout",
     "output_type": "stream",
     "text": [
      "\" araç model bilgisi ; bmw 5 . 20i executıve m sport plus 1 . 6 170 hp 8 ileri otomatik vites , sunroof , abs , esp , asr , klima , elektirikli ayna , far sensörü , yağmur sensörü , park sensörü , kararan dikiz aynası , , abs , asr , esp , asr , ışık paket , xenon , çift yönlü dijital klima , çift yönlü dijital klima , sunroof , hız sabitleyici , elektrikli katlanır ayna , yağmur ve far sensörü , park sensörü , geri görüş kamerası , park sensörü , yağmur sensörü , far yıkama , otomatik kararan dikiz aynası , elektrikli katlanır ayna , sunroof , kararan dikiz aynası , elektirikli camlar , elektirikli camlar , elektrikli aynalar , camlar , far sensörü , yağmur sensörü , kararan dikiz aynası , ön arka park sensörü , yağmur sensörü , far sensörü , far yıkama , fonksiyonel deri direksiyon , elektrikli arka perde , sis farı , yağmur sensörü , far sensörü , far yıkama , bluetooth , aux , usb , cd , bluetooth , bluetooth , bmw acil durum çağrısı , bmw teleservıces , bmw acil durum çağrısı , bmw teleservıces bmw teleservıces bmw teleservıces bmw acil durum çağrısı bmw teleservıces 7r3 otomatik kapı kilit fonksiyonu adaptif süspansiyon iptali ​ ​ \"\n",
      "\n"
     ]
    },
    {
     "name": "stderr",
     "output_type": "stream",
     "text": [
      "\r",
      "  4%|██▉                                                                              | 11/300 [00:15<07:25,  1.54s/it]"
     ]
    },
    {
     "name": "stdout",
     "output_type": "stream",
     "text": [
      "\" araç borusan çıkışlı olup , hayalet , vakumlu kapılar , vakumlu kapılar , hafızalı koltuk , elektrikli bagaj , sunroof , , ısıtmalı hafızalı , elektrikli , ısıtmalı , hafızalı , ısıtmalı koltuklar , elektrikli direksiyon , elektrikli hafızalı koltuk , elektrikli direksiyon , elektrikli arka perde , elektrikli katlanır ayna , hafızalı ve elektrikli ayarlanır direksiyon , elektrikli arka perde , yan makam perdeleri , elektrikli direksiyon , hafızalı koltuklar , elektrikli arka perde , elektrikli direksiyon , geri görüş kamerası , far sensörü , yağmur sensörü , park sensörü , bluetooth , aux , usb , geri görüş kamerası , ışık paket , sunroof , , , , , , , , , , , , , , , , , , , , , , , , , , , , , , , , , , , , , , , , , , , , , , , , , , , , , , , , , , , , , , , , , , , , , , , , , , , , , , , , , , , , , , , , , , , , , , , , , , , , , , , , , , , , , , , , , , , , , , , , , , , , , , , , , , , , , , , , , , , , , , , , , , , , , , , , , , , , , , , , , , , , , , , , , , , , , , , , , , , , , , , , , , , , , , , ,\n",
      "\n"
     ]
    },
    {
     "name": "stderr",
     "output_type": "stream",
     "text": [
      "\r",
      "  4%|███▏                                                                             | 12/300 [00:17<09:19,  1.94s/it]"
     ]
    },
    {
     "name": "stdout",
     "output_type": "stream",
     "text": [
      "\" araç borusan çıkışlı olup , orjinal hatasız boyasız , tramersiz , servis bakımlı , masrafsız bir araçtır . 4 lastik yeni 4 adet lastik yeni takılmıştır . araç özellikleri sunroof elektrikli hafızalı koltuklar elektrikli ön koltuklar ısıtmalı ön koltuklar hafızalı sürücü koltuğu elektrikli yolcu koltuğu ısıtmalı ön koltuklar elektrikli direksiyon elektrikli katlanır ayna geri görüş kamerası bluetooth telefon bağlantısı çift bölgeli dijital klima elektrikli arka perde elektrikli arka perde elektrikli katlanır yan aynalar elektrokrom iç ayna yağmur sensörü far sensörü bluetooth usb aux girişi bluetooth telefon bağlantısı masaj fonksiyonlu ön koltuklar ısıtmalı ön koltuklar hafızalı sürücü ve yolcu koltuğu elektrikli arka perde elektrikli arka perde sis farı elektrikli arka perde yağmur sensörü far sensörü ön ve arka park sensörü elektrikli katlanır yan aynalar elektrokrom iç ayna sesli uyarı sistemi far gece sensörü yağmur sensörü\n",
      "\n"
     ]
    },
    {
     "name": "stderr",
     "output_type": "stream",
     "text": [
      "\r",
      "  4%|███▌                                                                             | 13/300 [00:19<08:24,  1.76s/it]"
     ]
    },
    {
     "name": "stdout",
     "output_type": "stream",
     "text": [
      "\" sahibinden satılık bmw 5 . 20i premium m sport paket sunroof vakum kapılar hayalet ekran elektrikli bagaj vakumlu kapılar elektrikli bagaj hayalet ekran vakumlu kapılar elektrikli bagaj kapağı geri görüş kamerası ön arka park sensörü ısıtmalı koltuklar ( ön arka ) bi xenon led gündüz farları led stop sunroof geri görüş kamerası bluetooth telefon bağlantısı usb aux bluetooth çift yönlü dijital klima elektrikli arka perde elektrikli katlanır yan aynalar elektrokrom iç ayna bluetooth telefon hazırlık sis farı alaşımlı jantlar ön arka park sensörü far sensörü yağmur sensörü arka park sensörü fonksiyonel deri direksiyon elektrikli arka perde elektrikli arka perde yan makam perdeleri elektrikli arka perde elektrikli arka perde elektrikli arka perde yan makam perdeleri elektrikli arka perde elektrikli arka perde yan makam perdeleri arka perde elektrikli arka perde elektrikli arka perde yağmur ve far sensörü ön ve arka park sensörü elektrikli arka perde yan protokol perde yan makam perdeleri elektrikli arka perde elektrikli arka perde yan makam perdeleri elektrikli katlanır ayna bluetooth aux usb mp3 cd çalar cd changer elektirikli katlanır yan aynalar elektronik park freni auto hold yokuş kalkış desteği yağmur sensörü far sensörü otomatik kararan dikiz aynası elektrikli arka perde elektrikli yan aynalar arka perde hava yastıkları yokuş kalkış desteği kol dayama ısofıx 18 m sport alaşım jantlar\n",
      "\n"
     ]
    },
    {
     "name": "stderr",
     "output_type": "stream",
     "text": [
      "\r",
      "  5%|███▊                                                                             | 14/300 [00:21<09:01,  1.89s/it]"
     ]
    },
    {
     "name": "stdout",
     "output_type": "stream",
     "text": [
      "\" araç borusan çıkışlıdır . araç borusan bayi çıkışlıdır . aracın tüm bakımları yapılmıştır . tramer kaydı yoktur . plaka açık sorgulama yapabilirsiniz . araç ilk sahibinden olup , değişeni yoktur . araç ilk sahibinden olup , tramer kaydı yoktur . aracın yedek anahtarı mevcuttur . \"\n",
      "\n"
     ]
    },
    {
     "name": "stderr",
     "output_type": "stream",
     "text": [
      "\r",
      "  5%|████                                                                             | 15/300 [00:21<06:58,  1.47s/it]"
     ]
    },
    {
     "name": "stdout",
     "output_type": "stream",
     "text": [
      "\" sahibinden satılık bmw 4 . 18i gran coupe m sport plus paket sunroof koltuk ısıtma elektrikli direksiyon elektrikli bagaj kapağı geri görüş kamerası ön ve arka park sensörü elektrikli katlanır ayna elektrokrom iç ayna geri görüş kamerası bluetooth telefon bağlantısı aux girişi usb arayüzü aux cd mp3 ipod girişi fonksiyonel direksiyon elektrikli arka perde elektrikli yan aynalar elektrokrom iç ayna sesli uyarı sistemi yağmur sezici radarlı park sensörü far sensörü yağmur sezici aux usb girişi bluetooth telefon bağlantısı mp3 follow me home ( far gece ) far gece sensörü yağmur sensörü arka park sensörü yağmur sensörü xenon farlar far yıkama otomatik kapı kilit fonksiyonu dijital klima abs , asr , esp , radyo cd çalar yol bilgisayarı fonksiyonel direksiyon , alarm , ımmobılızer , elektrikli , ısıtmalı aynalar , elektrikli camlar , uzaktan kumandalı merkezi kilit , ön kol dayama , arka kol dayama , isofix mevcuttur . \"\n",
      "\n"
     ]
    },
    {
     "name": "stderr",
     "output_type": "stream",
     "text": [
      "\r",
      "  5%|████▎                                                                            | 16/300 [00:23<07:03,  1.49s/it]"
     ]
    },
    {
     "name": "stdout",
     "output_type": "stream",
     "text": [
      "\" araç borusan çıkışlıdır . araç özellikleri ; sunroof deri döşeme elektrikli hafızalı koltuklar koltuk ısıtma ön koltuk ısıtma elektrikli direksiyon elektrikli katlanır aynalar elektrikli hafızalı koltuklar elektrikli direksiyon ön arka kol dayama geri görüş kamerası bluetooth telefon bağlantısı usb aux bluetooth telefon hazırlık sis farı alaşımlı jantlar elektrikli arka perde elektrikli arka perde bi xenon farlar far yıkama far sensörü yağmur sensörü ön arka park sensörü cd mp3 çalar usb aux girişi bluetooth telefon bağlantısı ön ve arka park mesafe kontrol ön arka sis farı ısofıx arka kol dayama isofix çocuk koltuğu bağlantısı aux girişi usb arayüzü aux cd mp3 ipod girişi bluetooth telefon bağlantısı cd çalar teyp fonksiyonel direksiyon elektrikli ve ısıtmalı aynalar ön ve arka park sensörü fonksiyonel direksiyon elektrikli arka perde elektrikli ön koltuklar hafızalı sürücü koltuğu elektrikli ısıtmalı ön koltuklar elektrikli ayarlanır direksiyon 17 inch çelik jantlar elektrikli katlanır aynalar elektrikli arka perde elektrikli arka perde yan protokol perdeler elektrikli katlanır yan aynalar elektrokrom iç ayna sesli uyarı sistemi far yağmur sensörü ön sis farları elektrikli arka perde velur halı paspas auto hold sistemi usb aux bluetooth telefon bağlantısı yokuş kalkış desteği lastik basınç sensörü yağmur sensörü far yıkama sistemi park mesafe kontrol ön arka kol dayama ısofıx ımmobılızer aluminyum alaşımlı jantlar 16 alaşımlı jantlar ön kol dayama arka kol dayama isofix \"\n",
      "\n"
     ]
    },
    {
     "name": "stderr",
     "output_type": "stream",
     "text": [
      "\r",
      "  6%|████▌                                                                            | 17/300 [00:25<07:56,  1.68s/it]"
     ]
    },
    {
     "name": "stdout",
     "output_type": "stream",
     "text": [
      "\" araç borusan çıkışlı olup , 2016 model yılı 2016 trafiğe çıkışlı , 2016 trafiğe çıkışlıdır . yedek anahtarı , kitapçıkları ve yedek anahtarı mevcuttur . borusan çıkışlı olup , ilk yardım çantası , ilave özellikleri , sunroof , , , , , , , , , , , , , , , , , , , , , , , , , , , , , , , , , , , , , , , , , , , , , , , , , , , , , , , , , , , , , , , , , , , , , , , , , , , , , , , , , , , , , , , , , , , , , , , , , , , , , , , , , , , , , , , , , , , , , , , , , , , , , , , , , , , , , , , , , , , , , , , , , , , , , , , , , , , , , , , , , , , , , , , , , , , , , , , , , , , , , , , , , , , , , , , , , , , , , , , , , , , , , , , , , , , , , , , , , , , , , , , , , , , , , , , , , , , , , , , , , , , , , , , , , , , , , , , , , , , , ,\n",
      "\n"
     ]
    },
    {
     "name": "stderr",
     "output_type": "stream",
     "text": [
      "\r",
      "  6%|████▊                                                                            | 18/300 [00:28<09:19,  1.98s/it]"
     ]
    },
    {
     "name": "stdout",
     "output_type": "stream",
     "text": [
      "\" araç borusan çıkışlı olup , 2016 trafiğe çıkışlı , orijinal m sport pakettir . aracımızda değişen olmayıp 4 lastiği ve muayenesi mevcuttur . lastikleri sıfırdır . muayenesi yeni yapılmıştır . araç fazlalığından satılıktır .\n",
      "\n"
     ]
    },
    {
     "name": "stderr",
     "output_type": "stream",
     "text": [
      "\r",
      "  6%|█████▏                                                                           | 19/300 [00:28<06:59,  1.49s/it]"
     ]
    },
    {
     "name": "stdout",
     "output_type": "stream",
     "text": [
      "\" araç model bilgisi ; bmw 5 serisi 520d comfort 184 hp dış renk : beyaz iç renk : bej kasko değer : 229 . tl aksesuarlar sunroof f1 ( hayalet ekran ) arka perde elektrikli hafızalı sol koltuk ( ısıtmalı ön koltuklar ) elektrikli hafızalı sürücü koltuğu elektrikli yolcu koltuğu ısıtmalı ön koltuklar elektrikli direksiyon ayarı elektrikli ön koltuklar ısıtmalı ön koltuklar elektrikli hafızalı sürücü koltuğu ısıtmalı ön koltuklar elektrikli direksiyon elektrikli arka perde elektrikli hafızalı sürücü koltuğu ısıtmalı ön koltuklar hafızalı sürücü koltuğu elektrikli yolcu koltuğu ısıtmalı ön koltuklar elektrikli katlanır ayna elektrokrom iç ve dış aynalar elektrokrom iç ayna far ve yağmur sensörü park mesafe sensörü yağmur sensörü far sensörü otomatik kararan iç dikiz aynası yokuş kalkış desteği çift bölge dijital klima arka kol dayama ön arka park sensörü far sensörü yağmur sensörü far sensörü park sensörü yağmur sensörü far sensörü ön arka park sensörü alaşımlı çelik jant sis farı çelik jant sis farı far yıkama far sensörü yağmur sensörü park sensörü ön arka kol dayama çelik jant sis farı çelik jant sis farı çelik jant sis farı çelik jantlar vs . vs . vs vs vs vs vs vs vs vs vs vs vs vs vs vs vs vs vs vs yoktur\n",
      "\n"
     ]
    },
    {
     "name": "stderr",
     "output_type": "stream",
     "text": [
      "\r",
      "  7%|█████▍                                                                           | 20/300 [00:30<07:44,  1.66s/it]"
     ]
    },
    {
     "name": "stdout",
     "output_type": "stream",
     "text": [
      "\" araç model bilgisi ; bmw 5 serisi 525d xdrive premium otomatik araç donanım detayı ; aracın bütün bakımları yapılmıştır . araç özellikleri : sunroof bi xenon far sunroof bej deri döşeme elektrikli katlanır aynalar elektrikli arka perde elektrikli katlanır ayna yağmur sensörü far sensörü ön arka park sensörü geri görüş kamerası park sensörü ön arka kol dayama katlanır ayna ön arka park sensörü ışık paket bluetooth aux usb cd mp3 çalar yol bilgisayarı ön arka kol dayama ısofıx 17 jant lastik basınç sensörü otomatik kararan dikiz aynası elektirikli camlar elektirikli aynalar far gece sensörü park sensörü yağmur sensörü , ışık paketi \"\n",
      "\n"
     ]
    },
    {
     "name": "stderr",
     "output_type": "stream",
     "text": [
      "\r",
      "  7%|█████▋                                                                           | 21/300 [00:31<06:47,  1.46s/it]"
     ]
    },
    {
     "name": "stdout",
     "output_type": "stream",
     "text": [
      "\" araç model bilgisi ; bmw 5 serisi 520d comfort paket borusan çıkışlı borusan bakımlı hatasız boyasız tramersiz içi bej deri koltuk ısıtma sunroof elektrikli arka perde yokuş kalkış desteği çift bölge dijital klima fonksiyonel deri direksiyon elektrikli arka perde elektrikli arka perde elektrikli katlanır ayna far sensörü yağmur sensörü ön arka park sensörü bluetooth telefon bağlantısı aux girişi usb girişi bluetooth telefon bağlantısı masaj fonksiyonu ısofıx çocuk koltuk prizi ( arka ) led farlar ve far yıkama sistemi park mesafe kontrol ön arka otomatik klima ( ekranlı 2 bölge ) fren fonksiyonlu cruıse control aydınlatma paketi bmw acil durum çağrısı bmw teleservıces türkçe ön panel gelişmiş gösterge paneli 7r3 otomatik kapı kilit fonksiyonu adaptif süspansiyon iptali güneş korumalı arka camlar spor deri direksiyon otomatik açılır bagaj kapağı soft close otomatik kapılar deri ön panel apple carplay çok işlevli gösterge ekranı bmw harekete duyarlı komut sistemi bmw harekete duyarlı komut sistemi çok işlevli gösterge ekranı ( hayalet ekran ) bmw teleservıces bmw acil durum çağrısı bmw teleservıces hmj , v kollu , stil 618 , 17 \"\n",
      "\n"
     ]
    },
    {
     "name": "stderr",
     "output_type": "stream",
     "text": [
      "\r",
      "  7%|█████▉                                                                           | 22/300 [00:33<07:02,  1.52s/it]"
     ]
    },
    {
     "name": "stdout",
     "output_type": "stream",
     "text": [
      "\" araç temiz ve bakımlıdır . bakımları eksiksiz yapılmıştır . aracın bütün bakımları yapılmıştır . muayenesi yeni yapılmıştır .\n",
      "\n"
     ]
    },
    {
     "name": "stderr",
     "output_type": "stream",
     "text": [
      "\r",
      "  8%|██████▏                                                                          | 23/300 [00:33<05:10,  1.12s/it]"
     ]
    },
    {
     "name": "stdout",
     "output_type": "stream",
     "text": [
      "\" 2014 bmw 5 . 25d xdrive m sport 218 hp borusan çıkışlı borusan bakımlı boyasız hatasız tramersiz kazasız boyasız değişensiz hasar kayıtsız tüm bakımları yetkili serviste yapılmıştır .\n",
      "\n"
     ]
    },
    {
     "name": "stderr",
     "output_type": "stream",
     "text": [
      "\r",
      "  8%|██████▍                                                                          | 24/300 [00:33<04:01,  1.14it/s]"
     ]
    },
    {
     "name": "stdout",
     "output_type": "stream",
     "text": [
      "\" araç model bilgisi ; bmw 5 . 20i executıve m sport plus , modları , sunroof , bi xenon farlar , far ve yağmur sensörü , araç başında pazarlık yapılır . \"\n",
      "\n"
     ]
    },
    {
     "name": "stderr",
     "output_type": "stream",
     "text": [
      "\r",
      "  8%|██████▊                                                                          | 25/300 [00:34<03:14,  1.42it/s]"
     ]
    },
    {
     "name": "stdout",
     "output_type": "stream",
     "text": [
      "\" aracım borusan çıkışlı olup , servis bakımlıdır . bakımları yeni yapılmıştır . araç borusan çıkışlı olup , servis bakımlıdır . tüm bakımları yapılmıştır . aracın içi ve dışı sıfır ayarındadır . muayenesi yenidir . alıcısına şimdiden hayırlı olsun .\n",
      "\n"
     ]
    },
    {
     "name": "stderr",
     "output_type": "stream",
     "text": [
      "\r",
      "  9%|███████                                                                          | 26/300 [00:34<02:45,  1.66it/s]"
     ]
    },
    {
     "name": "stdout",
     "output_type": "stream",
     "text": [
      "\" araç borusan çıkışlı olup , bakımlı ve temizdir . iç dış m paket olup orjinal m sport tur . aracın tüm bakımları yapılmıştır . muayenesi 10 . 02 . 2020 ye kadar muayenesi mevcuttur . aracın tüm bakımları yapılmıştır . aracın motor , şanzıman ve yürüyen aksamı kusursuzdur . lastikleri yenidir . aracın yedek anahtarı mevcuttur . \"\n",
      "\n"
     ]
    },
    {
     "name": "stderr",
     "output_type": "stream",
     "text": [
      "\r",
      "  9%|███████▎                                                                         | 27/300 [00:35<02:41,  1.69it/s]"
     ]
    },
    {
     "name": "stdout",
     "output_type": "stream",
     "text": [
      "\" araç borusan çıkışlı olup , hata boya değişen yoktur . tramer kaydı yoktur . sadece sağ ön çamurluk boyalı ön kaput ve ön tampon değişmiştir . tl tramer kaydı vardır . ( ağır hasarlı olarak pert ) araç değildir . aracın yedek anahtarı vardır . araç özellikleri ; sunroof bi xenon farlar far yıkama yağmur sensörü ön arka park sensörü far sensörü ön arka park sensörü geri görüş kamerası bluetooth aux usb cd mp3 çalar sis farları yol bilgisayarı fonksiyonel deri direksiyon otomatik kararan dikiz aynası elektrikli arka perde elektrikli arka perde yan protokol perde yan makam perdeleri elektrikli arka perde elektrikli arka perde yan makam perdeleri elektrikli arka perde elektrikli arka perde elektrikli arka perde yan makam perdeleri elektrikli arka perde elektrikli ayarlanır direksiyon ön ve arka park sensörü yağmur sensörü far gece sensörü far sensörü far yıkama elektrikli katlanır ayna far ve yağmur sensörü park mesafe sensörü , bluetooth , start & stop anahtarsız çalıştırma ışık paket araç iniş , binişinde aydınlatma ön ve arka park sensörü far sensörü , far sensörü yağmur sensörü , limit kontrol ( hız sınırlandırıcı ) yokuş kalkış desteği ( anti patinaj sistemi ) patinaj önleme sistemi ( ) fren sistemi ( ımmobilizer , ) fren sistemi ( ımmobilizer , fren sistemi ) elektrikli arka cam perdesi yan aynalar ( 431 ) elektrokrom ( ışığa duyarlı ) iç ve dış aynalar – 431 ; elektrokrom ( iç ve dış aynalar ) iç dış ışık paketi far yıkama sistemi park mesafe kontrol ön arka far gece sensörü yağmur sensörü ön arka park mesafe sensörü alaşım jant onboard computer ön arka park mesafe sensörü aluminyum alaşımlı jantlar m sport jantlar vs vs vs vs vs vs vs vs vs vs vs vs vs vs yoktur\n",
      "\n"
     ]
    },
    {
     "name": "stderr",
     "output_type": "stream",
     "text": [
      "\r",
      "  9%|███████▌                                                                         | 28/300 [00:37<05:48,  1.28s/it]"
     ]
    },
    {
     "name": "stdout",
     "output_type": "stream",
     "text": [
      "\" araç borusan çıkışlı olup , borusan bakımlıdır . ilk sahibinden olup , tertemiz bir araçtır . bakımları yeni yapılmıştır . en ufak masrafı yoktur . aracın ilk günkü gibi temiz olup en ufak bir göçük vs vs vs vs vs vs vs vs vs vs yoktur\n",
      "\n"
     ]
    },
    {
     "name": "stderr",
     "output_type": "stream",
     "text": [
      "\r",
      " 10%|███████▊                                                                         | 29/300 [00:38<04:38,  1.03s/it]"
     ]
    },
    {
     "name": "stdout",
     "output_type": "stream",
     "text": [
      "\" 2012 model 5 . 25 x drive m sport borusan çıkışlı borusan bakımlı hatasız boyasız tramersiz ekspertiz bilgisi ; sağ ön çamurluk boyalı sağ arka kapı lokal boya ( sağ arka çamurluk ) tramer kaydı yoktur .\n",
      "\n"
     ]
    },
    {
     "name": "stderr",
     "output_type": "stream",
     "text": [
      "\r",
      " 10%|████████                                                                         | 30/300 [00:38<03:43,  1.21it/s]"
     ]
    },
    {
     "name": "stdout",
     "output_type": "stream",
     "text": [
      "\" 2012 bmw 5 . 25d xdrive m sport plus beyaz içi bej deri koltuk ısıtma elektrikli hafızalı koltuk koltuk ısıtma elektrikli direksiyon elektrikli direksiyon hafızalı sürücü koltuğu elektrikli yolcu koltuğu elektrikli hafızalı sürücü koltuğu elektrikli yolcu koltuğu ısıtmalı ön koltuklar elektrikli direksiyon ısıtma elektrikli direksiyon elektrikli arka perde elektrikli arka perde elektrikli katlanır aynalar elektrokrom iç ayna bluetooth telefon bağlantısı geri görüş kamerası park mesafe sensörü yağmur sensörü far sensörü arka park sensörü yağmur sensörü far yıkama sis farı çelik jantlar bluetooth telefon hazırlık sis farı alaşımlı jantlar vs vs vs vs vs vs vs vs vs vs vs vs vs vs vs vs vs vs\n",
      "\n"
     ]
    },
    {
     "name": "stderr",
     "output_type": "stream",
     "text": [
      "\r",
      " 10%|████████▎                                                                        | 31/300 [00:39<04:03,  1.11it/s]"
     ]
    },
    {
     "name": "stdout",
     "output_type": "stream",
     "text": [
      "\" araç model bilgisi ; bmw 5 . 20i executıve m paket hayalet gösterge vakumlu kapılar sunroof geri görüş kamerası fonksiyonel deri direksiyon elektrikli ısıtmalı hafızalı koltuklar elektrikli arka perde çift yönlü dijital klima ön arka park sensörü far yıkama far sensörü yağmur sensörü park sensörü far sensörü yağmur sensörü ön arka park sensörü usb aux girişi bluetooth telefon bağlantısı cd aux usb mp3 girişi bluetooth telefon bağlantısı velur halı paspas auto hold\n",
      "\n"
     ]
    },
    {
     "name": "stderr",
     "output_type": "stream",
     "text": [
      "\r",
      " 11%|████████▋                                                                        | 32/300 [00:40<03:52,  1.15it/s]"
     ]
    },
    {
     "name": "stdout",
     "output_type": "stream",
     "text": [
      "\" araç borusan çıkışlı olup , komple m paket , m paket , geri görüş kamerası , sunroof , , , , , , , , , , , , , , , , , , , , , , , , , , , , , , , , , , , , , , , , , , , , , , , , , , , , , , , , , , , , , , , , , , , , , , , , , , , , , , , , , , , , , , , , , , , , , , , , , , , , , , , , , , , , , , , , , , , , , , , , , , , , , , , , , , , , , , , , , , , , , , , , , , , , , , , , , , , , , , , , , , , , , , , , , , , , , , , , , , , , , , , , , , , , , , , , , , , , , , , , , , , , , , , , , , , , , , , , , , , , , , , , , , , , , , , , , , , , , , , , , , , , , , , , , , , , , , , , , , , , , , , , , , , , , , , , , , , , , , , , ,\n",
      "\n"
     ]
    },
    {
     "name": "stderr",
     "output_type": "stream",
     "text": [
      "\r",
      " 11%|████████▉                                                                        | 33/300 [00:43<07:04,  1.59s/it]"
     ]
    },
    {
     "name": "stdout",
     "output_type": "stream",
     "text": [
      "\" araç borusan çıkışlı olup , bakımları yetkili serviste yapılmıştır . araç temiz ve bakımlıdır . bütün bakımları yapılmıştır . muayenesi 2020 . 12 . aya kadar muayenesi mevcuttur .\n",
      "\n"
     ]
    },
    {
     "name": "stderr",
     "output_type": "stream",
     "text": [
      "\r",
      " 11%|█████████▏                                                                       | 34/300 [00:44<05:21,  1.21s/it]"
     ]
    },
    {
     "name": "stdout",
     "output_type": "stream",
     "text": [
      "\" araç borusan bayii olup hata boya değişen yoktur . tramer kaydı yoktur . sadece sağ ön çamurluk değişik , sağ ön kapı , sağ arka çamurluk lokal boya vardır . tramer kaydı yoktur . sadece araç takası olur .\n",
      "\n"
     ]
    },
    {
     "name": "stderr",
     "output_type": "stream",
     "text": [
      "\r",
      " 12%|█████████▍                                                                       | 35/300 [00:44<04:17,  1.03it/s]"
     ]
    },
    {
     "name": "stdout",
     "output_type": "stream",
     "text": [
      "\" 2012 model bmw 5 . 25 x drive comfort borusan çıkışlı sunroof bej deri döşeme elektrikli hafızalı koltuk elektrikli ön koltuklar hafızalı koltuk elektrikli koltuk koltuk ısıtma elektrikli arka perde elektrikli arka perde elektrikli yan ve arka perdeler ön ve arka park sensörü geri görüş kamerası bluetooth aux usb cd mp3 çalar usb aux giriş ön arka park sensörü arka perde elektrikli katlanır yan aynalar elektrikli arka perde yan protokol perde elektrikli katlanır ayna ön ve arka park sensörü far sensörü yağmur sensörü ön arka park sensörü elektrikli arka perde vs vs vs vs vs vs vs vs vs vs vs vs vs vs vs vs vs vs vs vs vs vs\n",
      "\n"
     ]
    },
    {
     "name": "stderr",
     "output_type": "stream",
     "text": [
      "\r",
      " 12%|█████████▋                                                                       | 36/300 [00:45<04:36,  1.05s/it]"
     ]
    },
    {
     "name": "stdout",
     "output_type": "stream",
     "text": [
      "\" araç borusan çıkışlı olup , hatasız , boyasız , tramersiz , tüm bakımları yapılmıştır . araç borusan bayi çıkışlıdır . araç ilk sahibinden olup , sadece sağ arka çamurlukta boya vardır . hasar kaydı yoktur . \"\n",
      "\n"
     ]
    },
    {
     "name": "stderr",
     "output_type": "stream",
     "text": [
      "\r",
      " 12%|█████████▉                                                                       | 37/300 [00:46<03:43,  1.18it/s]"
     ]
    },
    {
     "name": "stdout",
     "output_type": "stream",
     "text": [
      "\" araç bmw 5 . 20i premium 170 hp sunroof koltuk ısıtma elektrikli hafızalı koltuk elektrikli katlanır ayna bi xenon far far yıkama ön arka park sensörü geri görüş kamerası bluetooth usb aux giriş ön arka park sensörü yağmur sensörü far sensörü otomatik kararan dikiz aynası yol bilgisayarı fonksiyonel deri direksiyon elektrikli arka perde elektrikli katlanır ayna yağmur sensörü far sensörü ön arka park sensörü elektrikli bagaj kapağı 19 inç çelik jant sis farı ısofıx ımmobılızer aluminyum alaşımlı jantlar vs . kredi kartı geçerlidir . araçlarımız expertiz garantilidir . iletişim : 0532 559 15 45 50 peşin kalanı 12 12 24 36 aya kadar taksit seçeneği ve tek elden vadeli satışımız vardır . adres : istoç oto market n blok no : 16 mahmutbey bağcılar konum doğrudur ! ! ! diğer ilanlarımızı linki tıklayarak inceleyebilirsiniz https : . sahibinden . com \"\n",
      "\n"
     ]
    },
    {
     "name": "stderr",
     "output_type": "stream",
     "text": [
      "\r",
      " 13%|██████████▎                                                                      | 38/300 [00:47<04:32,  1.04s/it]"
     ]
    },
    {
     "name": "stdout",
     "output_type": "stream",
     "text": [
      "\" araç model bilgisi ; bmw 5 serisi 520d comfort 184 hp aracın özellikleri : sunroof bi xenon far far yıkama far sensörü yağmur sensörü ön arka park sensörü çift bölge dijital klima hız sabitleyici elektrikli katlanır yan aynalar elektrokrom iç ayna yağmur sensörü far sensörü ön arka park sensörü ön arka kol dayama ısofıx ımmobılızer elektrikli katlanır aynalar elektrikli camlar uzaktan kumandalı merkezi kilit ön kol dayama arka kol dayama isofix aracın tüm bakımları yapılmıştır\n",
      "\n"
     ]
    },
    {
     "name": "stderr",
     "output_type": "stream",
     "text": [
      "\r",
      " 13%|██████████▌                                                                      | 39/300 [00:48<04:14,  1.03it/s]"
     ]
    },
    {
     "name": "stdout",
     "output_type": "stream",
     "text": [
      "\" aracım 2015 model olup 2016 yılı ocak ayı trafiğe çıkmıştır . aracın bütün bakımları yapılmıştır . bmw nin en dolusu olup , lpg takılmamıştır . aracın sağ arka çamurluğunda boya vardır . haricinde boya yoktur . değişen yoktur . tramer kaydı yoktur . \"\n",
      "\n"
     ]
    },
    {
     "name": "stderr",
     "output_type": "stream",
     "text": [
      "\r",
      " 13%|██████████▊                                                                      | 40/300 [00:49<03:34,  1.21it/s]"
     ]
    },
    {
     "name": "stdout",
     "output_type": "stream",
     "text": [
      "\" sahibinden satılık bmw 5 . 20i premium 170 hp 8 ileri otomatik vites aracımız yetkili servis bakımlıdır . bakımları zamanında yapılmıştır .\n",
      "\n"
     ]
    },
    {
     "name": "stderr",
     "output_type": "stream",
     "text": [
      "\r",
      " 14%|███████████                                                                      | 41/300 [00:49<02:52,  1.50it/s]"
     ]
    },
    {
     "name": "stdout",
     "output_type": "stream",
     "text": [
      "\" araç model bilgisi ; bmw 5 serisi 520d comfort 184 hp 8 ileri otomatik şanzuman f1 vites sunroof koltuk ısıtma elektrikli hafızalı ön koltuklar elektrikli , ısıtmalı , hafızalı , elektrikli koltuklar katlanır aynalar , elektrikli arka perde elektrikli katlanır ayna iç dış ışık paket geri görüş kamerası ön arka park sensörü far sensörü yağmur sensörü far sensörü ön arka park sensörü arka kol dayama kararan dikiz aynası start stop anahtarsız çalıştırma start stop bluetooth telefon bağlantısı aux girişi usb aux bluetooth bağlantısı cd mp3 çalar usb aux girişi abs asr esp bi xenon farlar far yıkama far ve yağmur sensörü ön arka park sensörü far yıkama çift bölge dijital klima hız sabitleyici ve sınırlayıcı fonksiyonel direksiyon deri direksiyon park sensörü yağmur sensörü far sensörü ön arka park sensörü elektrikli arka perde elektrikli yan aynalar otomatik kararan dikiz aynası far gece sensörü yağmur sensörü ön arka park sensörü ön sis farları far yıkama sis farı elektrikli arka perde ön arka kol dayama elektrikli arka perde elektrikli arka perde sis farı çelik jant sis farı far yıkama sis farı çelik jant sis farı cd mp3 çalar usb aux girişi bluetooth telefon bağlantısı aux ın usb girişi\n",
      "\n"
     ]
    },
    {
     "name": "stderr",
     "output_type": "stream",
     "text": [
      "\r",
      " 14%|███████████▎                                                                     | 42/300 [00:51<04:32,  1.06s/it]"
     ]
    },
    {
     "name": "stdout",
     "output_type": "stream",
     "text": [
      "\" araç model bilgisi ; bmw 5 serisi gran coupe m sport plus 1 . 6 motor 170 hp 8 ileri şanzuman sunroof geri görüş kamerası ön iki koltuk ısıtma elektrikli bagaj hayalet ekran vakumlu kapılar sunroof bej deri döşeme koltuk ısıtma elektrikli hafızalı koltuklar elektrikli arka perde elektrikli arka perde sunroof çift yönlü dijital klima ısıtmalı ön koltuklar elektrikli ayarlanır direksiyon hız sabitleyici elektrikli arka perde elektrikli katlanır ayna yağmur sensörü far sensörü ön arka park sensörü far sensörü yağmur sensörü ön arka park sensörü geri görüş kamerası aracımızın sol ön çamurluğu ve arka sağ arka çamurluğunda boya vardır . tramer kaydı yoktur . \"\n",
      "\n"
     ]
    },
    {
     "name": "stderr",
     "output_type": "stream",
     "text": [
      "\r",
      " 14%|███████████▌                                                                     | 43/300 [00:52<04:38,  1.08s/it]"
     ]
    },
    {
     "name": "stdout",
     "output_type": "stream",
     "text": [
      "\" 2015 bmw 5 . 25d xdrive m sport plus 1 . 6 motor 170 hp 8 ileri otomatik vites sunroof deri koltuk koltuk ısıtma elektrikli direksiyon ön koltuk ısıtma elektrikli arka perde elektrikli arka perde yan makam perdeleri elektrikli arka perde elektrikli arka perde elektrikli katlanır ayna far sensörü yağmur sensörü start stop bluetooth telefon hazırlık sis farı ışık paket , start & stop kararan dikiz aynası abs asr esp radyo cd aux çalar yol bilgisayarı fonksiyonel deri direksiyon otomatik far sensörü yağmur sensörü ön arka park sensörü fonksiyonel deri direksiyon elektrikli arka perde elektrikli arka perde hava yastıkları ön yolcu yan perde hava yastıkları ön yolcu yan hava yastıkları ön yolcu hava yastığı yan hava yastıkları ısofıx çocuk koltuğu ön arka kol dayama arka perde hava yastıkları run flat lastikler arka park sensörü lastik basınç sensörü arka kol dayama arka perde hava yastıkları run flat lastikler yeni aracın tüm ağır bakımları yapılmıştır .\n",
      "\n"
     ]
    },
    {
     "name": "stderr",
     "output_type": "stream",
     "text": [
      "\r",
      " 15%|███████████▉                                                                     | 44/300 [00:53<05:11,  1.22s/it]"
     ]
    },
    {
     "name": "stdout",
     "output_type": "stream",
     "text": [
      "\" aracım hatasız boyasızdır . tüm ağır bakımları yapılmıştır . aracım temiz ve bakımlıdır . hiç bir masrafı yoktur . iç dış m sport paket ( ışık paket ) . elektrikli hafızalı sürücü koltuğu . elektrikli arka perde . çift yönlü dijital klima . anahtarsız çalıştırma . start stop . anahtarsız çalıştırma . eco , comfort , sport , sport sürüş modu . eco sürüş modu . eco comfort sport sport plus sürüş modları . 8 ileri joystick yeni nesil şanzıman . anahtarsız çalıştırma . eco comfort sport sport plus sürüş modu . eco comfort sürüş modu . eco comfort sport sürüş modu bi xenon farlar iç dış ışık paket ön arka park sensörü far yıkama far sensörü yağmur sensörü far sensörü ön arka park sensörü bi xenon farlar far yıkama ön arka park sensörü yağmur sensörü far sensörü far yıkama elektrikli katlanır ayna fonksiyonel deri direksiyon çift yönlü dijital klima hız sabitleyici bluetooth telefon bağlantısı usb aux giriş çıkış elektrikli arka perde sis farı çelik jant sis farı alaşımlı jantlar vs . vs . vs . vs . vs . vs . ekspertiz : değişen boyanan parçası yoktur . sağ arka çamurlukta lokal boya vardır . harici hatasız boyasızdır . hasar kaydı yoktur . ​\n",
      "\n"
     ]
    },
    {
     "name": "stderr",
     "output_type": "stream",
     "text": [
      "\r",
      " 15%|████████████▏                                                                    | 45/300 [00:56<06:26,  1.51s/it]"
     ]
    },
    {
     "name": "stdout",
     "output_type": "stream",
     "text": [
      "\" ​ ilk sahibinden satılık bmw 5 . 20i premium m sport plus aracımız yetkili servis bakımlıdır . bakımları yeni yapılmıştır . muayenesi yeni yapılmıştır .\n",
      "\n"
     ]
    },
    {
     "name": "stderr",
     "output_type": "stream",
     "text": [
      "\r",
      " 15%|████████████▍                                                                    | 46/300 [00:56<04:49,  1.14s/it]"
     ]
    },
    {
     "name": "stdout",
     "output_type": "stream",
     "text": [
      "\" araç kosifler çıkışlıdır . aracın tüm bakımları yapılmıştır . muayenesi yenidir . alan kişi masraf yapmadan kullanacaktır . aracımızda değişen olmayıp 4 lastiği ve muayenesi mevcuttur . tramer kaydı yoktur . takas sadece nakit satılıktır . \"\n",
      "\n"
     ]
    },
    {
     "name": "stderr",
     "output_type": "stream",
     "text": [
      "\r",
      " 16%|████████████▋                                                                    | 47/300 [00:56<03:59,  1.06it/s]"
     ]
    },
    {
     "name": "stdout",
     "output_type": "stream",
     "text": [
      "\" aracımız temiz ve bakımlıdır . bakımları yapılmıştır . muayenesi 2020 yılına kadar geçerlidir . yedek anahtarı mevcut . alıcısına şimdiden hayırlı olsun .\n",
      "\n"
     ]
    },
    {
     "name": "stderr",
     "output_type": "stream",
     "text": [
      "\r",
      " 16%|████████████▉                                                                    | 48/300 [00:57<03:05,  1.36it/s]"
     ]
    },
    {
     "name": "stdout",
     "output_type": "stream",
     "text": [
      "\" ilk sahibinden bmw 5 . 20i premium 170 hp borusan çıkışlı sunroof hayalet gösterge vakumlu kapılar elektrikli bagaj hayalet ekran vakumlu kapılar elektrikli bagaj hayalet ekran elektrikli bagaj vakumlu kapılar elektrikli bagaj kapağı geri görüş kamerası elektrikli direksiyon hafızalı koltuk ısıtmalı ön koltuklar elektrikli direksiyon ön arka park sensörü geri görüş kamerası bluetooth telefon start stop eco sport sürüş modu auto hold yokuş kalkış desteği yağmur sensörü far sensörü ön arka park sensörü elektrikli katlanır ayna elektrokrom iç ayna far yıkama yağmur sensörü far sensörü ön arka park sensörü yol bilgisayarı ön ve arka park sensörü yağmur sensörü far sensörü ön arka kol dayama ısofıx 18 inç çelik jantlar vs . vs . vs . aracımız istenilen yere gösterilebilir .\n",
      "\n"
     ]
    },
    {
     "name": "stderr",
     "output_type": "stream",
     "text": [
      "\r",
      " 16%|█████████████▏                                                                   | 49/300 [00:58<03:53,  1.08it/s]"
     ]
    },
    {
     "name": "stdout",
     "output_type": "stream",
     "text": [
      "\" araç borusan bayi çıkışlı olup , tüm bakımları borusan yetkili serviste yapılmıştır .\n",
      "\n"
     ]
    },
    {
     "name": "stderr",
     "output_type": "stream",
     "text": [
      "\r",
      " 17%|█████████████▌                                                                   | 50/300 [00:58<02:55,  1.42it/s]"
     ]
    },
    {
     "name": "stdout",
     "output_type": "stream",
     "text": [
      "\" sahibinden satılık bmw 5 . 20i premium 170 hp 8 ileri otomatik vites sunroof deri koltuk koltuk ısıtma elektrikli direksiyon elektrikli arka perde geri görüş kamerası ön arka park sensörü elektrikli arka perde elektrikli arka perde elektrikli katlanır ayna ön arka park sensörü geri görüş kamerası bluetooth usb aux giriş ön arka park sensörü elektrikli arka perde yan protokol perde elektrikli yan aynalar otomatık kararan dikiz aynası far sensörü yağmur sensörü sis farı isofix \"\n",
      "\n"
     ]
    },
    {
     "name": "stderr",
     "output_type": "stream",
     "text": [
      "\r",
      " 17%|█████████████▊                                                                   | 51/300 [00:59<03:06,  1.33it/s]"
     ]
    },
    {
     "name": "stdout",
     "output_type": "stream",
     "text": [
      "\" araç borusan çıkışlı olup , borusan bakımlı olup , ilk günkü gibi temiz kullanılmıştır . kesinlikle değişen yok . sadece sağ ön çamurluk , sol ön çamurluk , sol arka kapı boyalı , sağ arka kapı boyalı , sağ arka çamurluk lokal boyalı . ön tampon boyalı , sol ön çamurluk , sol arka kapı , sağ arka çamurluk , sol arka kapı lokal boya var , tramer kaydı yok . \"\n",
      "\n"
     ]
    },
    {
     "name": "stderr",
     "output_type": "stream",
     "text": [
      "\r",
      " 17%|██████████████                                                                   | 52/300 [01:00<03:03,  1.35it/s]"
     ]
    },
    {
     "name": "stdout",
     "output_type": "stream",
     "text": [
      "aracım 2015 model bmw 5 . 20i premium 2013 model 5 . 25d xdrive m sport modelidir . . aracın kasko değeri 239 . 000 tl dir . aracımız 2012 model olup , borusan çıkışlıdır . yedek anahtarı ve kitapçıkları mevcuttur . araç özellikleri ; sunroof abs esp asr start stop bej deri döşeme elektrikli katlanır ayna yağmur sensörü far sensörü ön arka park sensörü far yıkama far sensörü yağmur sensörü ön arka park sensörü ön arka kol dayama usb aux girişi bluetooth telefon bağlantısı aux ın usb girişi hız sabitleyici ve sınırlayıcı yagmur ve far sensörü kararan iç dikiz aynası ve daha bir çok özellik .\n",
      "\n"
     ]
    },
    {
     "name": "stderr",
     "output_type": "stream",
     "text": [
      "\r",
      " 18%|██████████████▎                                                                  | 53/300 [01:01<03:27,  1.19it/s]"
     ]
    },
    {
     "name": "stdout",
     "output_type": "stream",
     "text": [
      "\" araç ilk sahibinden olup , tramer kaydı yoktur . sadece sağ arka kapısında lokal boya vardır . hasar kaydı yoktur . kredi kartına 9 taksit imkanı vardır . % 100 expertiz raporu , tramer kaydı yoktur . \"\n",
      "\n"
     ]
    },
    {
     "name": "stderr",
     "output_type": "stream",
     "text": [
      "\r",
      " 18%|██████████████▌                                                                  | 54/300 [01:01<02:55,  1.41it/s]"
     ]
    },
    {
     "name": "stdout",
     "output_type": "stream",
     "text": [
      "\" sahibinden satılık , araç borusan bayii çıkışlıdır . aracımız hatasız boyasızdır . değişen parçası yoktur . sadece sağ ön çamurluk lokal boya vardır . harici hatasız boyasızdır . hasar kaydı yoktur .\n",
      "\n"
     ]
    },
    {
     "name": "stderr",
     "output_type": "stream",
     "text": [
      "\r",
      " 18%|██████████████▊                                                                  | 55/300 [01:02<02:26,  1.68it/s]"
     ]
    },
    {
     "name": "stdout",
     "output_type": "stream",
     "text": [
      "\" 2016 bmw 5 . 20i premium borusan çıkışlı borusan bakımlı hatasız boyasız hasar kayıtsız borusan bayi çıkışlı dış renk ; beyaz iç renk : bej deri koltuklar sunroof ön arka park mesafe kontrol geri görüş kamerası elektrikli arka perde elektrokrom iç ayna sesli komut sistemi bluetooth telefon bağlantısı iç dış ışık paketi dijital çift bölgeli klima fonksiyonel spor deri direksiyon bluetooth katlanır arka kolt . başlıkları radyo bmw cd , bmw acil durum çağrısı s . o . s bmw teleservıces bmw professional müzik sistemi ( ekstra ) donanım listesi ; hayalet ekran soft close ( vakumlu ) kapılar ( busıness paket ) elektrikli arka perde yan protokol perdeler geri görüş kamerası elektrikli arka perde elektrikli hafızalı koltuklar ısıtmalı koltuklar ön ve arka kol dayama bluetooth telefon hazırlık sis farı alaşımlı jantlar elektrikli arka perde elektrikli katlanır yan aynalar elektrokrom iç ayna sesli uyarı sistemi far yağmur sensörü far gece sensörü park mesafe sensörü ön ve arka park mesafe sensörü yağmur sensörü otomatik kararan dikiz aynası ve daha sayamadığım bir çok özellik . \"\n",
      "\n"
     ]
    },
    {
     "name": "stderr",
     "output_type": "stream",
     "text": [
      "\r",
      " 19%|███████████████                                                                  | 56/300 [01:04<04:14,  1.04s/it]"
     ]
    },
    {
     "name": "stdout",
     "output_type": "stream",
     "text": [
      "\" 2012 bmw 5 . 20i premium otomatik vites sunroof deri koltuk koltuk ısıtma elektrikli arka perde elektrikli arka perde yan makam perdeleri koltuk ısıtma elektrikli hafızalı koltuk elektrikli arka perde çift bölge dijital klima ön arka park sensörü far sensörü yağmur sensörü far sensörü elektrikli katlanır aynalar ön arka park sensörü far sensörü yağmur sensörü ön arka park sensörü yağmur sensörü far sensörü sis farı çelik jant park sensörü yağmur sensörü far sensörü sis farı cd mp3 çalar usb aux giriş abs esp asr start stop merkezi kilit immobilizer çelik jant sis farı çelik jant sis farı çelik jant vs vs vs vs vs vs vs vs vs \"\n",
      "\n"
     ]
    },
    {
     "name": "stderr",
     "output_type": "stream",
     "text": [
      "\r",
      " 19%|███████████████▍                                                                 | 57/300 [01:05<04:23,  1.09s/it]"
     ]
    },
    {
     "name": "stdout",
     "output_type": "stream",
     "text": [
      "\" 2012 model bmw 5 . 25d xdrive m sport plus sunroof elektrikli yükseklik ve derinlik ayarlı direksiyon fonksiyonel deri direksiyon elektrikli arka perde elektrikli katlanır ayna ön ve arka park sensörü geri görüş kamerası bluetooth usb aux girişi cd changer ön ve arka park sensörü far yağmur sensörü far yıkama sis farı ısofıx vs vs vs vs vs vs vs vs vs vs vs vs vs vs gibi önemli değil\n",
      "\n"
     ]
    },
    {
     "name": "stderr",
     "output_type": "stream",
     "text": [
      "\r",
      " 19%|███████████████▋                                                                 | 58/300 [01:06<03:54,  1.03it/s]"
     ]
    },
    {
     "name": "stdout",
     "output_type": "stream",
     "text": [
      "\" 2012 model bmw 5 . 25d xdrive comfort dış renk : beyaz iç renk : bej deri döşeme : sunroof deri koltuk koltuk ısıtma elektrikli hafızalı ön koltuklar koltuk ısıtma ön koltuk ısıtma elektrikli hafızalı koltuk ön koltuk ısıtma elektrikli direksiyon elektrikli hafızalı ön koltuklar ısıtmalı ön koltuklar hafızalı sürücü koltuğu elektrikli yolcu koltuğu ısıtmalı ön koltuklar elektrikli arka perde elektrikli arka perde elektrikli katlanır ayna elektrokrom iç ayna sesli uyarı sistemi far yağmur sensörü ön sis farları alaşım jant onboard computer ön arka park mesafe sensörü aluminyum alaşımlı jantlar elektrikli , ısıtmalı aynalar elektrikli , ısıtmalı aynalar elektrikli camlar uzaktan kumandalı merkezi kilit ön kol dayama arka kol dayama isofix aracın sağ arka çamurluğunda yarım parça boya vardır . sağ arka kapı ve sağ arka çamurluk lokal boyalı . sol arka çamurluk yarım parça boya mevcuttur . tramer kaydı yoktur . araç özellikleri ; sunroof bi xenon farlar ön arka park mesafe kontrol geri görüş kamerası elektrikli katlanır ayna elektrokrom iç ayna ön ve arka kol dayama park mesafe sensörü yağmur sensörü far sensörü park mesafe sensörü , servotronic direksiyon , start & stop anahtarsız çalıştırma ışık paket araç iniş , binişinde aydınlatma ön ve arka park sensörü far sensörü yağmur sensörü arka park sensörü \"\n",
      "\n"
     ]
    },
    {
     "name": "stderr",
     "output_type": "stream",
     "text": [
      "\r",
      " 20%|███████████████▉                                                                 | 59/300 [01:08<05:32,  1.38s/it]"
     ]
    },
    {
     "name": "stdout",
     "output_type": "stream",
     "text": [
      "\" 2016 model bmw 5 . 25d xdrive premium dış m paket borusan bayi çıkışlı sunroof hayalet ekran vakumlu kapılar elektrikli bagaj hayalet ekran vakumlu kapılar elektrikli bagaj kapağı geri görüş kamerası elektrikli bagaj vakumlu kapılar hayalet ekran elektrikli bagaj kapağı vakumlu kapılar elektrikli bagaj kapağı geri görüş kamerası vakumlu kapılar hayalet ekran elektrikli bagaj f1 vites sunroof geri görüş kamerası elektrikli katlanır ayna bi xenon far gündüz led farları far yıkama elektrikli katlanır ayna yağmur sensörü far sensörü ön arka park sensörü elektrikli arka perde velur halı paspas bagaj kapagı led sis farları far yıkama ön arka park sensörü far gece sensörü yağmur sensörü ve sensörü start & stop anahtarsız çalıştırma ışık paket cd çalar usb aux girişi abs asr esp radyo cd çalar yol bilgisayarı fonksiyonel deri direksiyon alarm sistemi elektrikli camlar uzaktan kumandalı merkezi kilit ön kol dayama arka kol dayama isofix mevcuttur aracın tüm ağır bakımları yapılmıştır aracın tüm bakımları yapılmıştır aracın detaylı iç temizliği ve boya koruma yapılmıştır . tramer kaydı yoktur . \"\n",
      "\n"
     ]
    },
    {
     "name": "stderr",
     "output_type": "stream",
     "text": [
      "\r",
      " 20%|████████████████▏                                                                | 60/300 [01:10<06:22,  1.59s/it]"
     ]
    },
    {
     "name": "stdout",
     "output_type": "stream",
     "text": [
      "\" otomotiv den 2013 model bmw 5 . 25d xdrive premıum borusan bayi çıkışlı borusan bakımlı sunroof hayalet ekran vakumlu kapılar elektrikli bagaj hayalet gösterge vakumlu kapılar hayalet ekran vakumlu kapılar elektrikli bagaj hayalet ekran vakumlu kapılar elektrikli bagaj kapağı koltuk ısıtma elektrikli arka perde elektrikli hafızalı sürücü koltuğu ısıtmalı ön koltuklar hafızalı sürücü koltuğu elektrikli yolcu koltuğu ısıtmalı ön koltuklar elektrikli direksiyon ayarı ön arka kol dayama elektrikli katlanır aynalar elektrikli arka perde çift bölge dijital klima elektrikli katlanır ayna yağmur sensörü far sensörü ön arka park sensörü elektrikli arka perde elektrikli arka perde yan protokol perde yan makam perdeleri elektrikli arka perde elektrikli yan aynalar arka perde elektrikli arka perde sis farı far yıkama yağmur sensörü far sensörü ön arka park sensörü far yıkama ön arka kol dayama isofix ekspertiz : hatasız boyasız hasarsız hasar kaydı yoktur\n",
      "\n"
     ]
    },
    {
     "name": "stderr",
     "output_type": "stream",
     "text": [
      "\r",
      " 20%|████████████████▍                                                                | 61/300 [01:11<06:11,  1.55s/it]"
     ]
    },
    {
     "name": "stdout",
     "output_type": "stream",
     "text": [
      "\" 2014 model bmw 5 . 25d xdrive premium m sport plus modelidir . aracımız borusan çıkışlı olup , servis bakımlıdır . bakımları yetkili serviste yapılmıştır . araçta kesinlikle değişen yoktur . tramer kaydı yoktur . araç özellikleri : sunroof deri koltuk ısıtma elektrikli direksiyon elektrikli arka perde yan protokol perdeler elektrikli arka perde elektrikli arka perde elektrikli arka perde dakota deri döşeme elektrikli hafızalı koltuklar elektrikli direksiyon ön arka park sensörü geri görüş kamerası ön arka park sensörü far sensörü yağmur sensörü far sensörü ön arka park sensörü geri görüş kamerası fonksiyonel direksiyon hız sabitleyici elektrikli arka perde elektrikli arka perde elektrikli direksiyon ayarı elektrikli katlanır ayna yağmur sensörü far sensörü otomatik kararan dikiz aynası elektrikli katlanır aynalar elektrikli arka perde yol bilgisayarı elektrikli katlanır aynalar kararan dikiz ayna yağmur sensörü far sensörü ön arka park sensörü çift yönlü dijital klima elektrikli arka perde sis farı far sensörü yağmur sensörü ön arka park sensörü elektrikli arka perde abs asr esp radyo cd çalar yol bilgisayarı fonksiyonel direksiyon elektrikli arka perde elektrikli arka perde elektrikli arka perde yan makam perdeleri elektrikli arka perde elektrikli arka perde dijital klima yol bilgisayarı yağmur sensörü far sensörü ön arka park sensörü elektrikli arka perde bluetooth usb aux bağlantı elektrikli katlanır aynalar elektrikli arka perde elektrikli arka perde yan makam perdeleri kararan dikiz aynası aux ın usb girişi dijital klima abs asr esp start stop ön arka kol dayama elektrikli arka perde yan makam perdeleri elektrikli arka perde elektrikli arka perde bi xenon far far yıkama far sensörü yağmur sensörü ön arka park sensörü ​\n",
      "\n"
     ]
    },
    {
     "name": "stderr",
     "output_type": "stream",
     "text": [
      "\r",
      " 21%|████████████████▋                                                                | 62/300 [01:14<07:48,  1.97s/it]"
     ]
    },
    {
     "name": "stdout",
     "output_type": "stream",
     "text": [
      "\" araç ışık paket , 3 farklı sürüş modu , keyless go ( anahtarsız çalıştırma ) , start stop , anahtarsız çalıştırma , far yıkama , ısıtmalı ön koltuklar , elektrikli arka perde , elektrikli katlanır ayna , elektrokrom iç dış aynalar , far yıkama , cd , mp3 , usb , aux , servotronic direksiyon , start & stop , stop , anahtarsız çalıştırma , start stop , anahtarsız çalıştırma , start stop , anahtarsız çalıştırma , ışık paket , gelişmiş gösterge paneli , abs , asr , esp , radyo cd çalar , otomatik kapı klit fonksiyonu ( kapılar açıkken araç hareket etmez ) patlamaz lastik yol bilgisayarı , lastik basınç sensörü , lastik basınç sensörü , arka park sensörü , far sensörü , yağmur sensörü , far sensörü , far sensörü , yağmur sensörü , park sensörü , kararan dikiz aynası , geri görüş kamerası , ön arka park sensörü , ön arka park sensörü , ışık paketi , sis farı , yağmur sensörü , kararan dikiz aynası , far ve yağmur sensörü , kararan iç dikiz aynası ve daha birçok özellik . \"\n",
      "\n"
     ]
    },
    {
     "name": "stderr",
     "output_type": "stream",
     "text": [
      "\r",
      " 21%|█████████████████                                                                | 63/300 [01:16<07:47,  1.97s/it]"
     ]
    },
    {
     "name": "stdout",
     "output_type": "stream",
     "text": [
      "\" aracımız 2012 model olup , 5 parça boya , değişen , hasar kaydı yok , sadece sağ arka çamurlukta lokal boya vardır . değişen ve boyanan parçası yoktur . \"\n",
      "\n"
     ]
    },
    {
     "name": "stderr",
     "output_type": "stream",
     "text": [
      "\r",
      " 21%|█████████████████▎                                                               | 64/300 [01:17<05:53,  1.50s/it]"
     ]
    },
    {
     "name": "stdout",
     "output_type": "stream",
     "text": [
      "\" araç borusan çıkışlı olup , bayii çıkışlıdır . yedek anahtarı ve kitapçıkları mevcuttur . araç özellikleri : sunroof bi xenon farlar led gündüz farları dijital klima elektrikli arka perde elektrikli arka perde elektrikli katlanır ayna yağmur sensörü far sensörü far yıkama far sensörü yağmur sensörü ön arka park sensörü otomatik kararan dikiz aynası elektrikli arka perde yan makam perdeleri elektrikli arka perde elektrikli katlanır ayna yağmur sensörü far sensörü far yıkama ön arka park sensörü geri görüş kamerası aracımız tamamen orjinal hatasız boyasız hasar kayıtsız borusan bakımlı ( hatasız boyasız ) . araç donanım özellikleri ; sunroof adaptive led far led arka stoplar elektrikli katlanır ayna elektrikli arka perde geri görüş kamerası elektrikli katlanır ayna çift yönlü dijital klima elektrikli arka perde elektrikli arka perde elektrikli arka perde yan makam perdeleri elektrikli arka perde elektrikli katlanır ayna yağmur sensörü far sensörü ön arka park sensörü ön arka kol dayama arka perde sis farı çelik jant sis farı far sensörü yağmur sensörü ön arka park sensörü ön arka park sensörü elektrikli arka perde yan makam perdeleri kararan dikiz aynası elektrikli arka perde elektrikli arka perde elektrikli yan aynalar 4 cam otomatik ön arka kol dayama elektrikli arka perde sis farı çelik jant sis farı far yıkama far sensörü yağmur sensörü ön arka park sensörü ön arka kol dayama arka kol dayama aracımız çok temiz ve bakımlı ve masrafsızdır .\n",
      "\n"
     ]
    },
    {
     "name": "stderr",
     "output_type": "stream",
     "text": [
      "\r",
      " 22%|█████████████████▌                                                               | 65/300 [01:19<06:55,  1.77s/it]"
     ]
    },
    {
     "name": "stdout",
     "output_type": "stream",
     "text": [
      "\" bmw 5 . 25d xdrive m sport beyaz içi bej deri koltuk sunroof deri döşeme koltuk ısıtma elektrikli hafızalı koltuklar elektrikli arka perde elektrikli arka perde bi xenon farlar far yıkama çift bölge dijital klima cd çalar anahtarsız çalıştırma start stop eco sport sport plus sürüş modları gündüz ledleri far sensörü yağmur sensörü ön arka park sensörü 4 farklı sürüş modu eco comfort sport sürüş modları elektronik el freni auto hold yokuş kalkış desteği yağmur sensörü ön arka park sensörü otomatik kararan iç dikiz aynası abs esp asr esp radyo cd çalar yol bilgisayarı fonksiyonel direksiyon elektrikli perde hava yastıkları alarm ımmobılızer elektrikli , ısıtmalı aynalar elektrikli camlar uzaktan kumandalı merkezi kilit ön kol dayama arka kol dayama ön kol dayama arka kol dayama isofix mevcuttur ekspertiz : aracın kasko değeri : 7 . 000tl tramer kaydı vardır . \"\n",
      "\n"
     ]
    },
    {
     "name": "stderr",
     "output_type": "stream",
     "text": [
      "\r",
      " 22%|█████████████████▊                                                               | 66/300 [01:21<06:26,  1.65s/it]"
     ]
    },
    {
     "name": "stdout",
     "output_type": "stream",
     "text": [
      "\" araç 2012 model bmw 5 . 25 d x drive premium paket sunroof hayalet ekran elektrikli ısıtmalı koltuklar hafızalı koltuk elektrikli koltuk ısıtmalı ön koltuklar elektrikli sürücü yolcu koltuğu ısıtmalı ön koltuklar elektrikli direksiyon ön ve arka kol dayama bi xenon far far yıkama ön ve arka park sensörü yağmur sensörü far sensörü far yıkama sis farı ışık paket bluetooth aux usb cd mp3 çalar cd changer aux ın usb girişi abs asr esp airbag yağmur sensörü far sensörü ön arka park sensörü elektrikli katlanır ayna elektrikli arka perde elektrikli arka perde sis farı far yıkama led sis farı yol bilgisayarı ön arka kol dayama ısofıx aracımızda sadece sol arka çamurluk lokal boya vardır harici hatasız boyasızdır . tramer kaydı yoktur .\n",
      "\n"
     ]
    },
    {
     "name": "stderr",
     "output_type": "stream",
     "text": [
      "\r",
      " 22%|██████████████████                                                               | 67/300 [01:22<05:53,  1.52s/it]"
     ]
    },
    {
     "name": "stdout",
     "output_type": "stream",
     "text": [
      "\" araç borusan bayi çıkışlıdır . değişen parçası yoktur . aracın bütün bakımları yapılmıştır . masrafsız bir araçtır . içi dışı tertemiz bir araçtır . aracın yedek anahtarı kitapçıkları mevcuttur . muayenesi 10 . 02 . 2019 tarihine kadar geçerlidir . yedek anahtarı kitapçıkları mevcuttur .\n",
      "\n"
     ]
    },
    {
     "name": "stderr",
     "output_type": "stream",
     "text": [
      "\r",
      " 23%|██████████████████▎                                                              | 68/300 [01:22<04:48,  1.24s/it]"
     ]
    },
    {
     "name": "stdout",
     "output_type": "stream",
     "text": [
      "\" araç borusan çıkışlı olup , yetkili servis bakımlıdır . bakımları yeni yapılmıştır . aracın ilk günkü gibi sıfır ayarındadır . araç borusan bakımlıdır . aracın tüm bakımları yapılmıştır . aracın üzerinde kışlık lastikleri vardır . üzerinde kışlık lastikleri vardır . üzerinde 4 adet jant ve lastik vardır . aracın üzerinde orjinal jant ve lastik takımı verilecektir . aracın bakımları yeni yapılmıştır . aracın üzerinde kışlık jant lastik vardır . yedek anahtar ve kitapçıkları mevcuttur . not : takas olur . \"\n",
      "\n"
     ]
    },
    {
     "name": "stderr",
     "output_type": "stream",
     "text": [
      "\r",
      " 23%|██████████████████▋                                                              | 69/300 [01:23<04:17,  1.12s/it]"
     ]
    },
    {
     "name": "stdout",
     "output_type": "stream",
     "text": [
      "\" araç 2012 model 5 . 20i premium pakettir . hatasız boyasız değişensiz . hasar kaydı yoktur . tüm bakımları yetkili serviste yapılmıştır . en full modelidir . hayalet ekran vakumlu kapılar ve elektrikli bagaj kapağı . elektrikli hafızalı koltuk . koltuk ısıtma . elektrikli hafızalı koltuk . elektrikli direksiyon . geri görüş kamerası . elektrikli arka perde . elektrikli katlanır aynalar . elektrikli arka perde . elektrikli arka perde . elektrikli perde . elektrikli katlanır ayna . . otomatik kararan dikiz aynası . . . otomatik far sensörü . . . yağmur sensörü . . . .\n",
      "\n"
     ]
    },
    {
     "name": "stderr",
     "output_type": "stream",
     "text": [
      "\r",
      " 23%|██████████████████▉                                                              | 70/300 [01:24<04:04,  1.06s/it]"
     ]
    },
    {
     "name": "stdout",
     "output_type": "stream",
     "text": [
      "\" ​ ​ bmw 5 . 20i premium aracımız borusan çıkışlı olup bakımlı ve masrafsızdır . aracımız yetkili servis bakımlıdır . bakımları yeni yapılmıştır .\n",
      "\n"
     ]
    },
    {
     "name": "stderr",
     "output_type": "stream",
     "text": [
      "\r",
      " 24%|███████████████████▏                                                             | 71/300 [01:24<03:09,  1.21it/s]"
     ]
    },
    {
     "name": "stdout",
     "output_type": "stream",
     "text": [
      "\" araç model bilgisi ; 2017 bmw 5 . 20i premium 170 hp borusan çıkışlı hayalet ekran vakumlu kapılar sunroof elektrikli hafızalı koltuk elektrikli ısıtmalı ön koltuklar elektrikli arka perde elektrikli arka perde elektrikli arka perde bluetooth usb aux bluetooth telefon hazırlık sis farı alaşımlı jantlar elektrikli arka perde ön arka park sensörü far gece sensörü yağmur sensörü ön arka park sensörü ​\n",
      "\n"
     ]
    },
    {
     "name": "stderr",
     "output_type": "stream",
     "text": [
      "\r",
      " 24%|███████████████████▍                                                             | 72/300 [01:25<03:00,  1.27it/s]"
     ]
    },
    {
     "name": "stdout",
     "output_type": "stream",
     "text": [
      "\" araç model bilgisi ; bmw 5 serisi 520d comfort 184 hp borusan çıkışlı sunroof deri koltuk dijital klima ön arka park sensörü far sensörü yağmur sensörü far sensörü ön arka park sensörü elektrikli arka perde elektrikli katlanır ayna yağmur sensörü far sensörü ön arka park sensörü çift bölge dijital klima fonksiyonel deri direksiyon hız sabitleyici ve sınırlayıcı elektirikli direksiyon ön ve arka kol dayama ön sis farları ön ve arka park sensörü yağmur sensörü far gece sensörü far sensörü ön ve arka park sensörü elektrikli arka perde hava yastıkları alarm ımmobılızer elektrikli camlar uzaktan kumandalı merkezi kilit ön kol dayama arka kol dayama isofix iç ambians lambası akustik kemer uyarsı kararan dikiz aynası aux usb auto hold \"\n",
      "\n"
     ]
    },
    {
     "name": "stderr",
     "output_type": "stream",
     "text": [
      "\r",
      " 24%|███████████████████▋                                                             | 73/300 [01:26<03:35,  1.05it/s]"
     ]
    },
    {
     "name": "stdout",
     "output_type": "stream",
     "text": [
      "\" araç model bilgisi ; bmw 5 serisi 520d comfort 184 hp 8 ileri otomatik vites sunroof deri koltuk koltuk ısıtma elektrikli direksiyon elektrikli ısıtmalı aynalar elektrikli arka perde elektrikli katlanır aynalar elektrikli arka perde geri görüş kamerası ön arka park sensörü far sensörü yağmur sensörü far sensörü ön arka park sensörü çift bölgeli dijital klima hız sabitleyici çift bölgeli dijital klima ön arka kol dayama park sensörü yağmur sensörü far sensörü otomatik kararan dikiz aynası start stop çift bölge dijital klima abs asr esp asr esp radyo cd çalar yol bilgisayarı fonksiyonel deri direksiyon otomatik kararan dikiz aynası elektrikli arka perde elektrikli arka perde elektrikli yan ayna aux ın usb sunroof otomatik kararan dikiz aynası elektrikli arka perde elektrikli arka perde yan makam perdeleri elektrikli arka perde elektrikli arka perde yan makam perdeleri elektrikli arka perde elektrikli ve ısıtmalı ön koltuklar hafızalı sürücü koltuğu elektrikli yolcu koltuğu ısıtmalı ön koltuklar elektrikli katlanır ayna far yıkama yağmur sensörü far sensörü park sensörü ön arka kol dayama ısofıx ımmobılızer elektrikli katlanır aynalar aracımız 2012 model bmw 5 . 25d xdrive premium bayi çıkışlı sunroof cd aux usb bluetooth telefon elektrikli arka perde elektrikli katlanır ayna far yağmur sensörü ön arka park sensörü far sensörü sis farı çelik jant sis farı çelik jant sis farı çelik jant sis farı alaşımlı jantlar vs vs vs vs vs vs vs vs vs vs vs vs vs vs vs vs vs takası yoktur adres : istoç oto market blok no : 14 gebze kocaeli \"\n",
      "\n"
     ]
    },
    {
     "name": "stderr",
     "output_type": "stream",
     "text": [
      "\r",
      " 25%|███████████████████▉                                                             | 74/300 [01:29<05:12,  1.38s/it]"
     ]
    },
    {
     "name": "stdout",
     "output_type": "stream",
     "text": [
      "\" sahibinden satılık bmw 5 . 20i premium 170 hp borusan çıkışlı borusan bakımlı hayalet gösterge vakumlu kapılar hayalet gösterge büyük ekran geri görüş kamerası elektrikli hafızalı koltuk koltuk ısıtma elektrikli katlanır aynalar elektrikli arka perde çift yönlü dijital klima abs esp asr yol bilgisayarı bi xenon far far yıkama ön arka park sensörü yağmur sensörü ön arka park sensörü geri görüş kamerası park sensörü elektrikli arka perde sis farı çelik jant sis farı çelik jant sis farı far sensörü yağmur sensörü ön arka park sensörü elektrikli katlanır aynalar 4 cam otomatik elektrikli aynalar fonksiyonel deri direksiyon ön arka kol dayama ön arka park sensörü yol bilgisayarı fonksiyonel deri direksiyon ısıtmalı aynalar ön arka park sensörü ön arka kol dayama ısofıx ımmobılızer aluminyum alaşımlı jantlar elektrikli , ısıtmalı aynalar elektrikli camlar uzaktan kumandalı merkezi kilit ön kol dayama arka kol dayama ön arka kol dayama ön arka sis farı çelik jantlar vs . vs . vs . \"\n",
      "\n"
     ]
    },
    {
     "name": "stderr",
     "output_type": "stream",
     "text": [
      "\r",
      " 25%|████████████████████▎                                                            | 75/300 [01:30<05:21,  1.43s/it]"
     ]
    },
    {
     "name": "stdout",
     "output_type": "stream",
     "text": [
      "\" araç borusan çıkışlı olup , servis bakımlıdır . bakımları yeni yapılmıştır . araçta seramik kaplama , boya , kaza , değişen , tramer kaydı yoktur . \"\n",
      "\n"
     ]
    },
    {
     "name": "stderr",
     "output_type": "stream",
     "text": [
      "\r",
      " 25%|████████████████████▌                                                            | 76/300 [01:31<04:03,  1.08s/it]"
     ]
    },
    {
     "name": "stdout",
     "output_type": "stream",
     "text": [
      "\" 2012 model bmw 5 . 25d xdrive m sport plus aracımız borusan çıkışlı olup yetkili servis bakımlıdır . aracımızda değişen yoktur . tramer kaydı : 8 . 000 tl dir ve tüm evrakları mevcuttur . aracın yedek anahtarı mevcuttur . aracın tüm bakımları yapılmıştır . muayenesi yenidir . muayenesi yeni yapılmıştır . aracın yedek anahtarı ve kitapçıkları mevcuttur . aracın yedek anahtarı ve kitapçıkları mevcuttur . aracın üzerinde sıfır ayarında kışlık lastikleri vardır . üzerinde kışlık lastik vardır . aracın tüm bakımları yapılmıştır . aracın tüm bakımları yetkili serviste yapılmıştır . en ufak masrafı yoktur . aracın iç ve dış kondisyonu çok iyi durumdadır . motor , şanzuman ve yürüyen aksamı kusursuzdur . aracın tüm bakımları yapılmıştır . aracın 4 lastiği sıfırdır . muayenesi mevcuttur .\n",
      "\n"
     ]
    },
    {
     "name": "stderr",
     "output_type": "stream",
     "text": [
      "\r",
      " 26%|████████████████████▊                                                            | 77/300 [01:32<04:10,  1.12s/it]"
     ]
    },
    {
     "name": "stdout",
     "output_type": "stream",
     "text": [
      "\" borusan çıkışlı 2014 model bmw 5 . 25d xdrive m sport bayi çıkışlı sunroof hayalet gösterge vakumlu kapılar elektrikli bagaj hayalet ekran vakumlu kapılar elektrikli bagaj hayalet ekran vakumlu kapılar elektrikli bagaj hayalet ekran geri görüş kamerası ön arka park sensörü geri görüş kamerası elektrikli ısıtmalı hafızalı ön koltuklar elektrikli direksiyon elektrikli arka perde elektrikli katlanır aynalar elektrikli arka perde elektrikli arka perde elektrikli arka perde bi xenon farlar far yıkama yağmur sensörü far sensörü ön arka park sensörü far yıkama far sensörü yağmur sensörü ön arka park sensörü ön arka kol dayama ısofıx araç bilgisi hatasız boyasız hasar kaydı yoktur\n",
      "\n"
     ]
    },
    {
     "name": "stderr",
     "output_type": "stream",
     "text": [
      "\r",
      " 26%|█████████████████████                                                            | 78/300 [01:33<03:59,  1.08s/it]"
     ]
    },
    {
     "name": "stdout",
     "output_type": "stream",
     "text": [
      "\" araç borusan çıkışlıdır . 2 . sahibiyim . bütün bakımları yetkili serviste yapılmıştır . aracın tüm bakımları eksiksiz yapılmıştır .\n",
      "\n"
     ]
    },
    {
     "name": "stderr",
     "output_type": "stream",
     "text": [
      "\r",
      " 26%|█████████████████████▎                                                           | 79/300 [01:33<03:01,  1.22it/s]"
     ]
    },
    {
     "name": "stdout",
     "output_type": "stream",
     "text": [
      "\" ilk sahibinden borusan çıkışlı 2016 bmw 5 . 20i premium 170 hp 8 ileri joystick vites sunroof elektrikli bagaj geri görüş kamerası hafızalı koltuk elektrikli arka perde elektrikli katlanır ayna bi xenon far far yıkama far sensörü yağmur sensörü ön arka park sensörü bluetooth telefon usb aux girişi bluetooth telefon bağlantısı\n",
      "\n"
     ]
    },
    {
     "name": "stderr",
     "output_type": "stream",
     "text": [
      "\r",
      " 27%|█████████████████████▌                                                           | 80/300 [01:34<02:41,  1.36it/s]"
     ]
    },
    {
     "name": "stdout",
     "output_type": "stream",
     "text": [
      "\" araç borusan çıkışlı olup , borusan bakımlı olup , ilk yardım çantası , comfort , eco , sport , sport , sürüş modları , çift yönlü dijital klima , start stop , anahtarsız çalıştırma , start stop , anahtarsız çalıştırma , ışık paket , yokuş kalkış desteği , hız sabitleyici , hız sabitleyici , bluetooth , aux , usb , cd , mp3 , aux , usb , bluetooth , cd çalar , aux , usb , cd , aux , usb , bluetooth , cd , mp3 , usb , bluetooth , bluetooth , aux , servotronic direksiyon , start & stop , anahtarsız çalıştırma , sis farı , yağmur sensörü , far sensörü , gelişmiş gösterge paneli , abs , asr , esp , asr , esp , radyo cd çalar , yol bilgisayarı , fonksiyonel direksiyon , elektrikli arka perde , elektrikli , ısıtmalı aynalar , elektrikli katlanır aynalar , elektrikli , ısıtmalı , hafızalı , katlanır , elektrikli katlanır ayna , kararan dikiz aynası , far sensörü , yağmur sensörü , kararan dikiz aynası , elektrikli katlanır ayna , far ve yağmur sensörü , park sensörü , kararan iç dikiz aynası , elektirikli arka perde , yan makam perdeleri , elektrikli arka perde , elektrikli katlanır aynalar , elektrikli katlanır ayna , kararan iç dikiz aynası , otomatik far , yağmur sensörü , far sensörü , sis farı , yağmur sensörü , far yıkama , ışık paket , dijital klima , sunroof , vs vs vs vs vs vs vs vs vs vs vs vs vs vs vs vs vs vs vs \"\n",
      "\n"
     ]
    },
    {
     "name": "stderr",
     "output_type": "stream",
     "text": [
      "\r",
      " 27%|█████████████████████▊                                                           | 81/300 [01:36<04:47,  1.31s/it]"
     ]
    },
    {
     "name": "stdout",
     "output_type": "stream",
     "text": [
      "\" araç bilgileri tramer kaydı yoktur . plaka açık sorgulama yapabilirsiniz . aracın tüm bakımları yapılmıştır . aracın iç dış ve motor sıfır ayarındadır . araçta sadece sağ arka çamurlukta boya vardır . hasar kaydı yoktur . sadece sağ ön çamurluk değişmiştir . tramer kaydı yoktur . boya ve değişen yoktur . aracın üzerinde kışlık lastikleri vardır . yanında 4 adet yedek anahtarı vardır . araç fazlalığından satılıktır .\n",
      "\n"
     ]
    },
    {
     "name": "stderr",
     "output_type": "stream",
     "text": [
      "\r",
      " 27%|██████████████████████▏                                                          | 82/300 [01:37<04:10,  1.15s/it]"
     ]
    },
    {
     "name": "stdout",
     "output_type": "stream",
     "text": [
      "\" araç borusan çıkışlı olup , orjinal km dedir . aracın bütün bakımları yapılmıştır . aracın tüm bakımları yapılmıştır . aracın üzerinde 2 adet yedek anahtarı mevcuttur . araç özellikleri : sunroof bi xenon farlar far yıkama far ve yağmur sensörü ön arka park sensörü geri görüş kamerası ön arka park sensörü far sensörü yağmur sensörü ön arka park sensörü geri görüş kamerası elektirikli arka perde sis farı çelik jant sis farı alaşımlı çelik jantlar vs . vs . vs . vs vs vs vs vs vs vs vs vs vs vs vs vs vs vs yoktur\n",
      "\n"
     ]
    },
    {
     "name": "stderr",
     "output_type": "stream",
     "text": [
      "\r",
      " 28%|██████████████████████▍                                                          | 83/300 [01:38<04:00,  1.11s/it]"
     ]
    },
    {
     "name": "stdout",
     "output_type": "stream",
     "text": [
      "\" sahibinden satılık bmw 4 . 18i grand coupe m sport plus beyaz içi bej deri döşeme sunroof elektrikli perde elektrikli hafızalı sürücü koltuğu elektrikli yolcu koltuğu ısıtmalı ön koltuklar elektrikli direksiyon ısıtma elektrikli direksiyon elektrikli arka perde elektrikli arka perde yan protokol perdeler geri görüş kamerası bluetooth telefon bağlantısı fonksiyonel spor direksiyon m sport ön koltuklar ısıtmalı ön koltuklar elektrikli katlanır ayna yağmur sensörü far sensörü ön arka park sensörü far sensörü yağmur sensörü ön ve arka park sensörü alaşımlı jantlar arka park sensörü far gece sensörü yağmur sensörü ön ve arka park sensörü ön ve arka kol dayama ısofıx 18 m sport alaşım jantlar\n",
      "\n"
     ]
    },
    {
     "name": "stderr",
     "output_type": "stream",
     "text": [
      "\r",
      " 28%|██████████████████████▋                                                          | 84/300 [01:39<04:02,  1.12s/it]"
     ]
    },
    {
     "name": "stdout",
     "output_type": "stream",
     "text": [
      "araç hatasız boyasız değişensiz hasar kayıtsız borusan bayi çıkışlı dış renk : beyaz iç renk : bej deri döşeme : sunroof deri koltuk ısıtma ön arka park sensörü geri görüş kamerası bluetooth telefon bağlantısı hafızalı sürücü koltuğu elektrikli yolcu koltuğu ısıtmalı ön koltuklar elektrikli arka perde elektrokrom iç ve dış aynalar elektrokrom iç ayna sesli uyarı sistemi far yağmur sezici aux ipod girişi ekspertiz bilgisi : hatasız boyasız tramer bilgisi : tramer kaydı yoktur . donanım listesi : hayalet ekran soft close ( vakumlu kapılar ) hayalet gösterge ( soft close ) vakumlu kapılar ( soft close ) hayalet ekran geri görüş kamerası elektrikli arka perde elektrikli katlanır ayna elektrokrom iç ayna sesli uyarı sistemi elektrikli arka perde bluetooth telefon bağlantısı usb aux cd mp3 çalar usb aux girişi bluetooth telefon bağlantısı fonksiyonel deri direksiyon hız sabitleme sistemi yağmur sensörü ön ve arka park sensörü ön arka kol dayama ısofıx ımmobılızer aluminyum alaşımlı jantlar vs vs vs vs vs vs vs vs vs vs detaylı bilgi için arayınız\n",
      "\n"
     ]
    },
    {
     "name": "stderr",
     "output_type": "stream",
     "text": [
      "\r",
      " 28%|██████████████████████▉                                                          | 85/300 [01:41<04:40,  1.31s/it]"
     ]
    },
    {
     "name": "stdout",
     "output_type": "stream",
     "text": [
      "\" 2012 model bmw 5 . 20i premium m sport plus 1 . 6 170 hp 8 ileri otomatik vites aracımız da boya değişen yoktur . tramer kaydı yoktur . sadece sağ ön çamurluk ve kaput boyalıdır . haricinde kesinlikle boya yoktur . tüm bakımları yapılmıştır . en ufak bir masrafı yoktur . aracın bütün bakımları yapılmıştır . muayenesi yenidir . aracın üzerinde kışlık lastikleri vardır . üzerinde kışlık jant lastik vardır . aracın üzerinde kışlık lastikleri vardır . aracın orjinal rengi özel renktir . aracın yedek anahtarı vardır . aracın tüm bakımları yapılmıştır . muayenesi kasım da yapılmıştır . aracımızın yedek anahtarı ve kitapçıkları mevcuttur . araç özellikleri ; bi xenon farlar , far yıkama , far yıkama , far sensörü , yağmur sensörü , park sensörü , ön arka park sensörü , geri görüş kamerası , far yıkama , hız sabitleyici , elektrikli arka perde , ışık paket , ön ve arka park sensörü , yağmur sensörü , far sensörü , far yıkama , bluetooth , aux , usb , bluetooth , cd , aux , usb , bluetooth , radyo cd çalar , otomatik kapı klit fonksiyonu ( kapılar açıkken araç hareket etmez ) patlamaz lastik yol bilgisayarı , fonksiyonel direksiyon , arka kol dayama , arka kol dayama , isofix mevcuttur . tramer kaydı yoktur . \"\n",
      "\n"
     ]
    },
    {
     "name": "stderr",
     "output_type": "stream",
     "text": [
      "\r",
      " 29%|███████████████████████▏                                                         | 86/300 [01:43<05:30,  1.54s/it]"
     ]
    },
    {
     "name": "stdout",
     "output_type": "stream",
     "text": [
      "\" araç 2012 model bmw 5 . 25d xdrive m sport plus modelidir . bakımları yeni yapılmıştır . araç servis bakımlıdır . bakımları zamanında yapılmıştır . içi ve dışı ilk günkü gibi temiz olup herhangi bir masrafı yoktur . alan kişi hiç bir sıkıntısı yoktur . araç fazlalığından satılıktır .\n",
      "\n"
     ]
    },
    {
     "name": "stderr",
     "output_type": "stream",
     "text": [
      "\r",
      " 29%|███████████████████████▍                                                         | 87/300 [01:44<04:23,  1.24s/it]"
     ]
    },
    {
     "name": "stdout",
     "output_type": "stream",
     "text": [
      "\" araç ilk sahibinden olup , servis bakımlıdır . bakımları yeni yapılmıştır . aracın tüm ağır bakımları yapılmıştır . aracın motor , şanzıman ve yürüyen aksamı kusursuzdur . lastikleri sıfırdır . muayenesi yenidir . aracın tüm ağır bakımları yapılmıştır . aracın tüm bakımları yapılmıştır . muayenesi yenidir . alan kişi masrafsız binecektir . araç başında pazarlık payı vardır . \"\n",
      "\n"
     ]
    },
    {
     "name": "stderr",
     "output_type": "stream",
     "text": [
      "\r",
      " 29%|███████████████████████▊                                                         | 88/300 [01:44<03:40,  1.04s/it]"
     ]
    },
    {
     "name": "stdout",
     "output_type": "stream",
     "text": [
      "\" bmw 5 . 20i premium m sport borusan çıkışlı borusan bakımlı yedek anahtarı kitapçıkları yedek anahtarı mevcuttur\n",
      "\n"
     ]
    },
    {
     "name": "stderr",
     "output_type": "stream",
     "text": [
      "\r",
      " 30%|████████████████████████                                                         | 89/300 [01:44<02:45,  1.27it/s]"
     ]
    },
    {
     "name": "stdout",
     "output_type": "stream",
     "text": [
      "\" otomotiv 2014 bmw 5 . 20i premium m sport plus 1 . 6 170 hp 8 ileri otomatik vites sunroof deri döşeme elektrikli hafızalı sürücü koltuğu elektrikli yolcu koltuğu ısıtmalı ön koltuklar hafızalı sürücü koltuğu koltuk ısıtma elektrikli arka perde elektrikli açılır cam tavan elektrikli arka perde elektrikli arka perde elektrikli katlanır yan aynalar elektrokrom iç ayna bluetooth aux usb bluetooth aux elektrikli arka perde elektrikli katlanır yan aynalar elektrokrom iç ayna sesli uyarı sistemi far yağmur sensörü arka park mesafe kontrol ön arka sis farı far gece sensörü yağmur sensörü büyük bilgilendirme ekranı gelişmiş gösterge paneli abs esp asr esp radyo cd çalar otomatik kapı kilit fonksiyonu dijital gösterge paneli elektrikli camlar uzaktan kumandalı merkezi kilit ön kol dayama arka kol dayama aracımız yetkili bayii borusan çıkışlı olup bütün bakımları yapılmıştır . aracın tüm bakımları yapılmıştır . muayenesi 2020 12 . ayına kadardır . takas sadece fiyatı farklıdır .\n",
      "\n"
     ]
    },
    {
     "name": "stderr",
     "output_type": "stream",
     "text": [
      "\r",
      " 30%|████████████████████████▎                                                        | 90/300 [01:46<03:40,  1.05s/it]"
     ]
    },
    {
     "name": "stdout",
     "output_type": "stream",
     "text": [
      "\" araç model bilgisi ; bmw 5 . 20i comfort plus 1 . 6 170 hp 8 ileri otomatik vites sunroof , bi xenon far , far yıkama , bluetooth , aux , usb , servotronic direksiyon , katlanır ayna , ışık paket , yokuş kalkış desteği , hız sabitleyici , bluetooth , aux , usb , cd , mp3 , aux , usb , cd çalar , anahtarsız çalıştırma , start stop , anahtarsız çalıştırma , sis farı , yağmur sensörü , kararan iç dikiz aynası , abs , asr , esp , radyo cd çalar , yol bilgisayarı , fonksiyonel direksiyon , far sensörü , yağmur sensörü , park sensörü , ön arka park sensörü , çift yönlü dijital klima , ısıtmalı ön koltuklar , elektrikli arka perde , elektrikli katlanır aynalar , elektronik park freni , araç iniş , binişinde aydınlatma ön ve arka kol dayama , isofix mevcuttur . \"\n",
      "\n"
     ]
    },
    {
     "name": "stderr",
     "output_type": "stream",
     "text": [
      "\r",
      " 30%|████████████████████████▌                                                        | 91/300 [01:48<04:11,  1.20s/it]"
     ]
    },
    {
     "name": "stdout",
     "output_type": "stream",
     "text": [
      "\" araç model bilgisi ; bmw 5 . 20i premium boyasız hatasız boyasız tramersiz hayalet gösterge vakumlu kapılar hayalet ekran geri görüş kamerası vakumlu kapılar elektrikli bagaj hayalet ekran vakumlu kapılar elektrikli bagaj kapağı geri görüş kamerası elektrikli hafızalı ısıtmalı koltuklar elektrikli arka perde elektrikli bagaj kapağı geri görüş kamerası ön ve arka park sensörü elektrikli ısıtmalı katlanır aynalar elektrikli arka perde bi xenon farlar far yıkama far sensörü yağmur sensörü ön arka park sensörü ön arka kol dayama isofix yetkili servis bakımlı olup boya değişen yoktur tramer kaydı yoktur . tramer kaydı yoktur . aracımızın tüm araçlarımız expertiz garantilidir .\n",
      "\n"
     ]
    },
    {
     "name": "stderr",
     "output_type": "stream",
     "text": [
      "\r",
      " 31%|████████████████████████▊                                                        | 92/300 [01:49<04:01,  1.16s/it]"
     ]
    },
    {
     "name": "stdout",
     "output_type": "stream",
     "text": [
      "\" araç borusan çıkışlı olup , borusan bakımlı olup , servis bakımlıdır . boya , değişen , hasar kaydı yoktur . aracın tüm bakımları yapılmıştır . aracın iç dış detaylı temizliği yapılmıştır . aracın tüm özellikleri vardır . aracın özellikleri ; sunroof ( ön arka ) ön ve arka park mesafe kontrol bi xenon farlar far yıkama sistemi far yağmur sensörü ön arka park sensörü elektrikli arka perde bluetooth telefon bağlantısı usb aux girişi abs asr esp ön ve arka park sensörü far gece sensörü park sensörü yağmur sensörü far yıkama ön arka kol dayama park sensörü ​\n",
      "\n"
     ]
    },
    {
     "name": "stderr",
     "output_type": "stream",
     "text": [
      "\r",
      " 31%|█████████████████████████                                                        | 93/300 [01:50<03:53,  1.13s/it]"
     ]
    },
    {
     "name": "stdout",
     "output_type": "stream",
     "text": [
      "\" araç borusan çıkışlı olup , servis bakımlıdır . bakımları yeni yapılmıştır . aracın ilk günkü gibi sıfır yapılmıştır . aracın sadece sol arka çamurlukta lokal boya vardır . tramer kaydı yoktur . \"\n",
      "\n"
     ]
    },
    {
     "name": "stderr",
     "output_type": "stream",
     "text": [
      "\r",
      " 31%|█████████████████████████▍                                                       | 94/300 [01:50<03:03,  1.12it/s]"
     ]
    },
    {
     "name": "stdout",
     "output_type": "stream",
     "text": [
      "\" 2014 model bmw 5 . 25 x drive premium borusan çıkışlı borusan bakımlı hatasız boyasız tramersiz hayalet ekran vakumlu kapılar sunroof elektrikli hafızalı koltuk koltuk ısıtma elektrikli arka perde elektrikli arka perde çift yönlü dijital klima 4 koltuk ısıtma elektrikli arka perde elektrikli arka perde elektrikli katlanır ayna elektrikli arka perde elektrikli bagaj kapagı bi xenon far gündüz led stop far yıkama 4 farklı sürüş modu eco comfort sport sürüş modları auto hold start stop anahtarsız çalıştırma bi xenon farlar ön arka park sensörü far yıkama sistemi ön arka park sensörü far sensörü yağmur sensörü far sensörü elektrikli katlanır ayna yağmur sensörü ön arka park sensörü far sensörü yağmur sensörü ön arka park sensörü elektrikli katlanır yan aynalar arka makam perdeleri arka perde arka park sensörü ön arka kol dayama ısofıx ımmobılızer aluminyum alaşımlı jantlar elektrikli arka camlar uzaktan kumandalı merkezi kilit ön kol dayama arka kol dayama isofix aracın tüm ağır bakımları yapılmıştır .\n",
      "\n"
     ]
    },
    {
     "name": "stderr",
     "output_type": "stream",
     "text": [
      "\r",
      " 32%|█████████████████████████▋                                                       | 95/300 [01:52<03:41,  1.08s/it]"
     ]
    },
    {
     "name": "stdout",
     "output_type": "stream",
     "text": [
      "\" sahibinden satılık . bmw 5 . 20i premium 170 hp borusan bayi çıkışlı dış renk : beyaz iç renk : bej deri koltuk ısıtma elektrikli direksiyon geri görüş kamerası ön arka park sensörü ön arka park sensörü elektrikli arka perde elektrikli katlanır yan aynalar elektrikli arka perde elektrikli katlanır ayna elektrokrom iç ayna bluetooth usb aux bağlantısı cd çalar usb aux girişi bluetooth telefon bağlantısı aux girişi bluetooth telefon hazırlık sis farı alaşımlı jantlar bluetooth telefon usb aux girişi bluetooth telefon bağlantısı fonksiyonel deri direksiyon hız sabitleyici ve sınırlayıcı fonksiyonel direksiyon elektrikli arka perde sis farı alaşımlı jantlar vs . vs . vs . vs . vs vs . vs . takas yoktur .\n",
      "\n"
     ]
    },
    {
     "name": "stderr",
     "output_type": "stream",
     "text": [
      "\r",
      " 32%|█████████████████████████▉                                                       | 96/300 [01:53<03:43,  1.09s/it]"
     ]
    },
    {
     "name": "stdout",
     "output_type": "stream",
     "text": [
      "\" 2012 model bmw 5 . 25d xdrive premium borusan çıkışlı sunroof bej deri döşeme hayalet ekran vakumlu kapılar elektrikli bagaj hayalet ekran vakumlu kapılar elektrikli hafızalı koltuk koltuk ısıtma elektrikli direksiyon elektrikli arka perde elektrikli arka perde elektrikli katlanır ayna geri görüş kamerası bluetooth usb aux bluetooth telefon bağlantısı usb aux giriş bluetooth telefon hazırlık sis farı alaşımlı jantlar elektrikli arka perde elektrikli arka perde yan protokol perde elektrikli arka perde yan makam perdeleri kararan iç dikiz aynası aux ın usb girişi bluetooth telefon bağlantısı aux girişi dijital klima hız sabitleyici elektrikli ayarlanır direksiyon ön ve arka park sensörü yağmur sensörü far gece sensörü ön ve arka park sensörü otomatik kararan dikiz aynası far sensörü yağmur sensörü far sensörü park sensörü yağmur sensörü ışık paketi yokuş kalkış desteği ( anti patinaj ) patinaj önleme sistemi ( ) asr ( anti patinaj sistemi ) patinaj önleme sistemi ) ( asr ) aydınlatmalı torpido gözü bakım aralığı göstergesi bilgi ekranlı gösterge tablosu elektronik denge programı ( esp ) esp ( elektronik süspansiyon iptali ) ön arka kol dayama torpido soğutma ( on arka ) otomatik klima ( ekranlı 2 ) fren cruise control ( hız sabitleme ) ısofıx çocuk kilidi ısofıx çocuk koltuğu bağlantısı ebd fren balatası ve hıza duyarlı direksiyon sistemi hold fonksiyonuna sahip adaptif fren sistemi ımmobilizer isofix çocuk koltuğu bağlantıları manuel yükseklik ayarlı direksiyon kolonu ön hava yastıkları ön yolcu koltuğunda doluluk sensörü elektirikli ayarlanabilir sürücü ve yolcu koltuğu torpido gözünde aux girişi torpido gözünde usb arayüzü cd mp3 arayüzü yan hava yastıkları run flat lastikler\n",
      "\n"
     ]
    },
    {
     "name": "stderr",
     "output_type": "stream",
     "text": [
      "\r",
      " 32%|██████████████████████████▏                                                      | 97/300 [01:55<05:03,  1.49s/it]"
     ]
    },
    {
     "name": "stdout",
     "output_type": "stream",
     "text": [
      "\" aracım hatasız boyasızdır . en dolu modelidir . aracımızın motoru , yürüyen aksamı , çok iyi durumdadır . kesinlikle sigara içilmemiştir . yedek anahtarı , kitapçıkları , yedek anahtarı , kitapçıkları ve yedek anahtarı mevcuttur . \"\n",
      "\n"
     ]
    },
    {
     "name": "stderr",
     "output_type": "stream",
     "text": [
      "\r",
      " 33%|██████████████████████████▍                                                      | 98/300 [01:55<03:55,  1.17s/it]"
     ]
    },
    {
     "name": "stdout",
     "output_type": "stream",
     "text": [
      "\" 2014 bmw 5 . 25d xdrive m sport bayi çıkışlı borusan bakımlı hatasız boyasız tramersiz içi bej deri döşeme sunroof elektrikli ısıtmalı hafızalı koltuk ön arka kol dayama elektrikli direksiyon hafızalı sürücü koltuğu elektrikli yolcu koltuğu ısıtmalı ön koltuklar hafızalı sürücü koltuğu elektrikli yolcu koltuğu ısıtmalı ön koltuklar hafızalı sürücü koltuğu elektrikli yolcu koltuğu elektrikli ısıtmalı ön koltuklar ısıtmalı ön koltuklar hafızalı sürücü koltuğu elektrikli yolcu koltuğu ısıtmalı ön koltuklar hafızalı sürücü koltuğu elektrikli yolcu koltuğu ısıtmalı ön koltuklar elektrikli katlanır yan aynalar elektrokrom iç ayna sürüş modları türkçe ön panel gelişmiş gösterge paneli m deri direksiyon m aerodinamik paket parlak dış kaplama antrasit tavan döşemesi parlak siyah dış kaplama antrasit tavan döşemesi spor süspansiyon iptali spor süspansiyon iptali spor süspansiyon iptali otomatik şanzıman 8 ileri elektrikli cam tavan \"\n",
      "\n"
     ]
    },
    {
     "name": "stderr",
     "output_type": "stream",
     "text": [
      "\r",
      " 33%|██████████████████████████▋                                                      | 99/300 [01:57<03:59,  1.19s/it]"
     ]
    },
    {
     "name": "stdout",
     "output_type": "stream",
     "text": [
      "\" bmw 5 . 20i premium 170 hp borusan çıkışlı borusan bakımlı hatasız boyasız tramersiz kazasız değişensiz boyasız tramersiz bmw 5 . 20i premium plus 1 . 6 motor 170 hp 8 ileri otomatik şanzuman sunroof hayalet ekran vakumlu kapılar geri görüş kamerası elektrikli ısıtmalı hafızalı koltuk elektrikli ısıtmalı ön koltuklar elektrikli direksiyon ayarı elektrikli arka perde elektrikli arka perde yan protokol perdeler elektrikli arka perde yan makam perdeleri arka elektrikli perde elektrikli katlanır aynalar elektrikli arka perde çift bölge dijital klima hız sabitleyici aydınlatma paketi iç dış ışık paketi dijital çift bölgeli klima fonksiyonel spor deri direksiyon bluetooth telefon bağlantısı usb aux bluetooth telefon hazırlık sis farı alaşımlı jantlar elektrikli arka perde elektrikli katlanır yan aynalar far sensörü yağmur sensörü ön arka park sensörü fonksiyonel deri direksiyon hız sabitleyici ve sınırlayıcı fonksiyonel direksiyon elektrikli arka perde sis farı çelik jant sis farı çelik jantlar vs vs vs vs vs vs vs vs vs vs vs vs vs vs vs daha detaylı bilgi için arayınız .\n",
      "\n"
     ]
    },
    {
     "name": "stderr",
     "output_type": "stream",
     "text": [
      "\r",
      " 33%|██████████████████████████▋                                                     | 100/300 [01:58<04:27,  1.34s/it]"
     ]
    },
    {
     "name": "stdout",
     "output_type": "stream",
     "text": [
      "\" 2014 bmw 5 . 25d xdrive m sport hayalet ekran vakumlu kapılar hayalet ekran elektrikli bagaj f1 vites koltuk ısıtma elektrikli hafızalı koltuk elektrikli arka perde elektrikli arka perde elektrikli katlanır ayna bi xenon far far yıkama far sensörü yağmur sensörü park sensörü bluetooth usb aux bağlantısı cd aux usb bluetooth telefon bağlantısı yokuş kalkış desteği elektrikli arka perde yan makam perdeleri kararan dikiz aynası aux girişi bluetooth telefon bağlantısı aux girişi usb arayüzü yan hava yastıkları ön kol dayama ısofıx çocuk koltuğu bağlantısı ısofıx ımmobılızer aluminyum alaşımlı jantlar elektrikli , ısıtmalı aynalar elektrikli camlar uzaktan kumandalı merkezi kilit ön kol dayama arka kol dayama isofix aracın motor , şanzıman ve yürüyen aksamı kusursuzdur . aracın tüm bakımları yapılmıştır . aracın çalışmayan aksamı yoktur . aracın içi dışı ilk günkü gibi olup içi dışı ilk günkü gibi temiz olup bakımlıdır . aracın içi dışı ilk günkü kadar temiz olup bakımlıdır . muayenesi kasım 2020 ye kadar muayenesi vardır . takas yoktur . takas fiyatı farklıdır . üste para alacağım için takas olur .\n",
      "\n"
     ]
    },
    {
     "name": "stderr",
     "output_type": "stream",
     "text": [
      "\r",
      " 34%|██████████████████████████▉                                                     | 101/300 [02:00<04:53,  1.48s/it]"
     ]
    },
    {
     "name": "stdout",
     "output_type": "stream",
     "text": [
      "\" 2014 model bmw 5 . 25d xdrive premium m sport borusan çıkışlı sunroof hayalet gösterge vakumlu kapılar elektrikli bagaj hayalet gösterge vakumlu kapılar elektrikli bagaj geri görüş kamerası geniş ekran vakumlu kapılar hayalet ekran vakumlu kapılar elektrikli bagaj sunroof elektrikli bagaj geri görüş kamerası elektrikli hafızalı koltuklar ısıtmalı ön koltuklar elektrikli arka perde elektrikli arka perde elektrikli katlanır ayna ön arka park sensörü far yıkama yağmur sensörü far sensörü ön arka park sensörü elektrikli arka perde elektrikli arka perde yan makam perdeleri kararan dikiz aynası elektrikli arka perde elektrikli arka perde elektrikli arka perde yan makam perdeleri elektrikli arka perde elektrikli arka perde elektrikli arka perde yan makam perdeleri elektrikli arka perde elektrikli arka perde yan makam perdeleri elektrikli katlanır ayna yağmur sensörü far ve arka park sensörü elektrikli katlanır ayna bi xenon far far yıkama start stop anahtarsız çalıştırma 4 farklı sürüş modu eco comfort sport sürüş modları elektrikli hafızalı koltuklar ön arka kol dayama ön kol dayama elektrikli arka perde yan makam perdeleri kararan dikiz aynası elektrikli katlanır ayna sunroof elektrikli arka perde elektrikli katlanır yan aynalar elektrikli arka perde yan makam perdeleri elektrikli arka perde elektrikli katlanır ayna yağmur sensörü far sensörü ön arka park sensörü far yıkama far sensörü yağmur sensörü ön arka park sensörü geri görüş kamerası auto hold yokuş kalkış desteği elektrikli camlar uzaktan kumandalı merkezi kilit ön kol dayama ısofıx ımmobılızer aluminyum alaşımlı jantlar vs . vs vs vs vs vs vs vs vs vs \"\n",
      "\n"
     ]
    },
    {
     "name": "stderr",
     "output_type": "stream",
     "text": [
      "\r",
      " 34%|███████████████████████████▏                                                    | 102/300 [02:03<05:49,  1.76s/it]"
     ]
    },
    {
     "name": "stdout",
     "output_type": "stream",
     "text": [
      "\" sahibinden satılık bmw 1 . 16d efficientdynamics 6 ileri otomatik vites , sunroof , geri görüş kamerası , hafızalı koltuk , ısıtmalı ön koltuklar , elektrikli arka perde , elektrikli direksiyon , anahtarsız çalıştırma , start stop , anahtarsız çalıştırma , start stop , anahtarsız çalıştırma , start stop , bluetooth , usb , aux , servotronic direksiyon , start & stop , anahtarsız çalıştırma , ışık paket , bluetooth , aux , servotronic direksiyon , start & stop , anahtarsız çalıştırma ışık paket , dijital klima , abs , asr , esp , radyo cd çalar , yol bilgisayarı , fonksiyonel deri direksiyon , elektrikli arka perde , elektrikli arka perde , elektrikli arka perde , elektrikli katlanır ayna , yağmur ve far sensörü , kararan iç dikiz aynası , ışık paketi , led sis farları , elektirikli arka perde , yan makam perdeleri , elektrikli arka perde , katlanır ayna , ışık paket , kapı kollarında aydınlatma vb . vb . vb . vb . vb . \"\n",
      "\n"
     ]
    },
    {
     "name": "stderr",
     "output_type": "stream",
     "text": [
      "\r",
      " 34%|███████████████████████████▍                                                    | 103/300 [02:04<05:45,  1.76s/it]"
     ]
    },
    {
     "name": "stdout",
     "output_type": "stream",
     "text": [
      "\" 2017 model bmw 5 . 20i premium premium borusan çıkışlı borusan bakımlı . hatasız boyasız tramersiz kazasız boyasız değişensiz tramersiz kazasız boyasız değişensiz tramersiz f1 vites koltuk ısıtma elektrikli hafızalı koltuk elektrikli koltuk ısıtmalı ön koltuklar elektrikli direksiyon elektrikli arka perde bej deri koltuklar start stop bluetooth telefon bağlantısı geri görüş kamerası ön arka park sensörü far sensörü yağmur sensörü bi xenon farlar far yıkama bluetooth usb aux cd mp3 çalar cd changer aux girişi bluetooth telefon bağlantısı usb aux girişi bluetooth telefon bağlantısı .\n",
      "\n"
     ]
    },
    {
     "name": "stderr",
     "output_type": "stream",
     "text": [
      "\r",
      " 35%|███████████████████████████▋                                                    | 104/300 [02:05<04:51,  1.49s/it]"
     ]
    },
    {
     "name": "stdout",
     "output_type": "stream",
     "text": [
      "\" araç bilgileri aracım temiz ve bakımlı ve masrafsızdır . araç borusan çıkışlı olup , servis bakımlıdır . bakımları yeni yapılmıştır . muayenesi 2021 e kadar vardır .\n",
      "\n"
     ]
    },
    {
     "name": "stderr",
     "output_type": "stream",
     "text": [
      "\r",
      " 35%|████████████████████████████                                                    | 105/300 [02:06<03:39,  1.13s/it]"
     ]
    },
    {
     "name": "stdout",
     "output_type": "stream",
     "text": [
      "\" 2014 model bmw 5 . 25d xdrive m sport beyaz içi bej deri koltuk sunroof bej deri döşeme elektrikli hafızalı sürücü koltuğu elektrikli yolcu koltuğu ısıtmalı ön koltuklar elektrikli hafızalı sürücü koltuğu ısıtmalı ön koltuklar geri görüş kamerası bluetooth telefon bağlantısı çift yönlü dijital klima elektrikli arka perde elektrikli katlanır ayna elektrokrom iç ve dış aynalar elektrikli katlanır ayna yağmur sezici far sensörü eco comfort sport sport sürüş modları türkçe ön panel akustik kemer uyarısı otomatik kapı kilit fonksiyonu karter koruması velur halı paspaslar ön kol dayama arka kol dayama run flat ( patlamayan ) lastikler arka park mesafe kontrol ( park sensörü ) yedek anahtar ve kitapçıkları mevcuttur . \"\n",
      "\n"
     ]
    },
    {
     "name": "stderr",
     "output_type": "stream",
     "text": [
      "\r",
      " 35%|████████████████████████████▎                                                   | 106/300 [02:07<03:37,  1.12s/it]"
     ]
    },
    {
     "name": "stdout",
     "output_type": "stream",
     "text": [
      "\" aracım borusan çıkışlı olup , borusan bayii çıkışlıdır . yedek anahtarı ve kitapçıkları bulunmaktadır . aracın iç dış boya koruması yapılmıştır . detaylı bilgi için lütfen arayınız .\n",
      "\n"
     ]
    },
    {
     "name": "stderr",
     "output_type": "stream",
     "text": [
      "\r",
      " 36%|████████████████████████████▌                                                   | 107/300 [02:07<02:47,  1.15it/s]"
     ]
    },
    {
     "name": "stdout",
     "output_type": "stream",
     "text": [
      "\" 2014 model bmw 5 . 25d xdrive premium hayalet gösterge vakumlu kapılar hayalet ekran vakumlu kapılar elektrikli bagaj koltuk ısıtma elektrikli hafızalı koltuk geri görüş kamerası elektrikli hafızalı ısıtmalı koltuklar elektrikli bagaj vakumlu kapılar elektrikli bagaj f1 vites koltuk ısıtma elektrikli direksiyon elektrikli katlanır aynalar elektrikli arka perde elektrikli katlanır ayna geri görüş kamerası ön ve arka park sensörü elektrikli arka perde çift yönlü dijital klima bi xenon farlar far yıkama far yağmur sensörü park sensörü ön arka kol dayama ısofıx ımmobılızer aluminyum alaşımlı jantlar elektrikli camlar uzaktan kumandalı merkezi kilit ön kol dayama arka kol dayama arka kol dayama isofix iç ambians lambası akustik kemer uyarsı kararan dikiz aynası aux usb auto hold \"\n",
      "\n"
     ]
    },
    {
     "name": "stderr",
     "output_type": "stream",
     "text": [
      "\r",
      " 36%|████████████████████████████▊                                                   | 108/300 [02:08<03:02,  1.05it/s]"
     ]
    },
    {
     "name": "stdout",
     "output_type": "stream",
     "text": [
      "\" araç model bilgisi ; bmw 5 . 20i executıve plus 1 . 6 cd aux usb sunroof geri görüş kamerası ön ve arka park sensörü far sensörü yağmur sensörü ön arka park sensörü elektrikli ısıtmalı aynalar ön ve arka park sensörü far sensörü yağmur sensörü far sensörü ön ve arka park sensörü fonksiyonel direksiyon bluetooth aux usb cd çalar yol bilgisayarı fonksiyonel deri direksiyon elektrikli katlanır yan aynalar elektrikli arka perde manuel yan aynalar çift yönlü dijital klima yol bilgisayarı yağmur sensörü far sensörü ön arka park sensörü elektrikli arka perde sis farı çelik jant sis farı far sensörü yağmur sensörü ön arka park sensörü ön arka kol dayama vs vs vs vs vs vs vs vs vs vs vs vs vs vs \"\n",
      "\n"
     ]
    },
    {
     "name": "stderr",
     "output_type": "stream",
     "text": [
      "\r",
      " 36%|█████████████████████████████                                                   | 109/300 [02:09<03:17,  1.03s/it]"
     ]
    },
    {
     "name": "stdout",
     "output_type": "stream",
     "text": [
      "\" aracımız yetkili servis bakımlıdır . aracın ilk sahibiyim . bakımları yeni yapılmıştır . en ufak bir masrafı yoktur . çalışmayan aksamı yok . herhangi bir yerinde boya yoktur . tramer kaydı : tl dir . ﻿ diğer ilanlarımız için ; www . . com . tr \"\n",
      "\n"
     ]
    },
    {
     "name": "stderr",
     "output_type": "stream",
     "text": [
      "\r",
      " 37%|█████████████████████████████▎                                                  | 110/300 [02:10<02:44,  1.15it/s]"
     ]
    },
    {
     "name": "stdout",
     "output_type": "stream",
     "text": [
      "\" ​ 2016 model bmw 5 . 25d xdrive m sport bayi çıkışlı hayalet ekran vakumlu kapılar sunroof geri görüş kamerası sunroof bej deri döşemeler bixenon angel far gündüz led led stop ön arka park sensörü elektrikli katlanır ayna bi xenon far far yıkama far sensörü yağmur sensörü ön arka park sensörü geri görüş kamerası usb aux bluetooth telefon bağlantısı fonksiyonel direksiyon cruıse control ( hız sabitleme ) start stop anahtarsız çalıştırma ( start stop ) ön arka park sensörü ( ön arka ) bi xenon farlar gündüz ledleri far sensörü yağmur sensörü far sensörü ön arka park sensörü sis farı çelik jant sis farı cd aux usb bluetooth bağlantı bmw acil durum çağrısı bmw teleservis bluetooth telefon bağlantısı usb aux girişi hız sabitleyici ve sınırlayıcı yagmur sensörü far sensörü ve park sensörü hız sabitleyici ve sınırlayıcı yükseklik ayarlı direksiyon elektrikli arka perde hava yastıkları perde hava yastıkları diz hava yastığı yan perde hava yastıkları alarm ımmobılızer elektrikli , ısıtmalı aynalar elektrikli camlar uzaktan kumandalı merkezi kilit ön kol dayama isofix aracın tüm ağır bakımları yapılmıştır aracın bütün bakımları yapılmıştır aracın tüm bakımları yapılmıştır aracın yedek anahtarı ve kitapçıkları mevcuttur aracın tüm bakımları yapılmıştır aracın tüm bakımları yapılmıştır aracın tüm bakımları yapılmıştır aracın tüm bakımları yapılmıştır içi dışı sıfır ayarındadır aracın tüm bakımları yapılmıştır aracın yedek anahtarı ve kitapçıkları mevcuttur\n",
      "\n"
     ]
    },
    {
     "name": "stderr",
     "output_type": "stream",
     "text": [
      "\r",
      " 37%|█████████████████████████████▌                                                  | 111/300 [02:12<03:56,  1.25s/it]"
     ]
    },
    {
     "name": "stdout",
     "output_type": "stream",
     "text": [
      "\" bmw 5 . 20i premium m sport paket sunroof deri döşeme elektrikli hafızalı koltuk elektrikli arka perde elektrikli arka perde yan makam perdeleri elektrikli katlanır ayna far yağmur sensörü ön arka park sensörü elektrikli arka perde yan makam perdeleri elektrikli arka perde elektrikli arka perde elektrikli arka perde yan makam perdeleri arka elektrikli perde bluetooth telefon hazırlık sis farı alaşımlı jantlar çift yönlü dijital klima fonksiyonel deri direksiyon elektrikli ayarlanır direksiyon ön arka park mesafe kontrol yağmur sezici far sensörü otomatik far sensörü park mesafe sensörü , start & stop anahtarsız çalıştırma ışık paket araç iniş , binişinde aydınlatma sis farı , far sensörü yağmur sensörü , limit kontrol ( hız sınırlandırıcı ) yokuş kalkı desteği abs , asr , esp , radyo cd mp3 çalar , yol bilgisayarı , fonksiyonel , fonksiyonel deri direksiyon , otomatik kapı kilit fonksiyonu , alarm , ımmobılızer , elektrikli , ısıtmalı aynalar , elektrikli ön ve arka camlar , uzaktan kumandalı merkezi kilit , ön kol dayama , arka kol dayama , isofix mevcuttur . tramer kaydı yoktur . \"\n",
      "\n"
     ]
    },
    {
     "name": "stderr",
     "output_type": "stream",
     "text": [
      "\r",
      " 37%|█████████████████████████████▊                                                  | 112/300 [02:14<04:21,  1.39s/it]"
     ]
    },
    {
     "name": "stdout",
     "output_type": "stream",
     "text": [
      "\" 2014 model bmw 5 . 25d xdrive m sport plus 184 hp f1 vites sunroof bi xenon far far yıkama far sensörü yağmur sensörü ön arka park sensörü ön arka park sensörü yağmur sensörü far sensörü ışık paketi far sensörü yağmur sensörü ön arka park sensörü ön arka kol dayama ön arka sis farı alaşımlı jantlar elektrikli arka perde elektrikli arka perde elektrikli yan aynalar ön arka park sensörü yağmur sensörü far sensörü otomatik kararan dikiz aynası elektrikli arka perde elektrikli katlanır ayna yağmur sensörü far sensörü arka park sensörü elektrikli arka perde elektrikli yan aynalar arka park sensörü far sensörü yağmur sensörü ön arka park sensörü fonksiyonel direksiyon elektrikli arka perde sis farı çelik jant sis farı çelik jantlar ön ve arka park sensörü \"\n",
      "\n"
     ]
    },
    {
     "name": "stderr",
     "output_type": "stream",
     "text": [
      "\r",
      " 38%|██████████████████████████████▏                                                 | 113/300 [02:15<04:09,  1.34s/it]"
     ]
    },
    {
     "name": "stdout",
     "output_type": "stream",
     "text": [
      "\" araç borusan bayi çıkışlıdır . hayalet ekran , vakumlu kapılar , sunroof , geri görüş kamerası , elektrikli direksiyon , start stop , anahtarsız çalıştırma , hafızalı , ısıtmalı , elektrikli koltuklar , elektrikli direksiyon , hafızalı koltuklar , elektrikli direksiyon , hafızalı , ısıtmalı , elektrikli ön koltuklar , elektrikli direksiyon , far sensörü , yağmur sensörü , far sensörü , ışık paket , elektrikli arka perde , elektrikli , hafızalı , ısıtmalı , katlanır aynalar , elektrikli katlanır ayna , far yıkama , far yıkama , bluetooth , aux , servotronic direksiyon , start & stop , stop , anahtarsız çalıştırma , ışık paket , 4 farklı sürüş modu , comfort , sport , sport , sürüş modları , geri görüş kamerası , yağmur sensörü , far sensörü , park sensörü , geri görüş kamerası , sunroof , park sensörü , yağmur sensörü , far sensörü , far yıkama , ısıtmalı ön koltuklar , elektrikli arka perde , elektrikli arka perde , sis farı , yağmur sensörü , kararan iç dikiz aynası , otomatik far sensörü , ön arka park sensörü , geri görüş kamerası , arka park sensörü , sis farı , yağmur sensörü , far sensörü , kararan dikiz aynası , elektirikli katlanır ayna , far , yağmur sensörü , far yıkama , ısıtmalı aynalar , elektrikli , ısıtmalı , hafızalı , elektrikli , bel destekli , ön koltuklar , elektrikli arka perde , bluetooth , aux , servotronic direksiyon , bluetooth , aux , usb , cd , mp3 , usb , aux , servotronic direksiyon , start & stop , anahtarsız çalıştırma , eco start & stop , stop , anahtarsız çalıştırma ışık paket araç iniş , binişinde aydınlatma ön ve arka park yardım desteği , yan makam perdeleri , elektrikli arka\n",
      "\n"
     ]
    },
    {
     "name": "stderr",
     "output_type": "stream",
     "text": [
      "\r",
      " 38%|██████████████████████████████▍                                                 | 114/300 [02:18<05:34,  1.80s/it]"
     ]
    },
    {
     "name": "stdout",
     "output_type": "stream",
     "text": [
      "\" araç borusan çıkışlı olup , 2016 trafiğe çıkışlı , 2016 model yılı : 2016 model , 2017 trafiğe çıkışlı , borusan bakımlı , hayalet gösterge , vakumlu kapılar , hayalet gösterge , vakumlu kapılar , elektrikli hafızalı koltuk , elektrikli direksiyon , elektrikli hafızalı sürücü koltuk , hafızalı koltuk , ısıtmalı ön koltuklar , elektrikli arka perde , elektrikli direksiyon , hafızalı sürücü koltuğu , elektrikli , ısıtmalı , hafızalı , elektrikli ön koltuklar , elektrikli arka perde , elektrikli katlanır ayna , far yıkama , ısıtmalı ön koltuklar , elektrikli direksiyon , hafızalı sürücü koltuğu , elektrikli , ısıtmalı , hafızalı ön koltuklar , elektrikli arka perde , elektrikli katlanır ayna , far yıkama , bluetooth , aux , usb , servotronic direksiyon , 3 farklı sürüş modu , eco pro comfort sport , sport sürüş modları , elektronik el gazı , hız sabitleyici , hız sabitleyici , park sensörü , yağmur sensörü , far sensörü , kararan dikiz aynası , fonksiyonel deri direksiyon , elektrikli direksiyon , arka makam perde , elektrikli direksiyon , arka makam perde , elektrikli direksiyon , arka makam perde , yan makam perdeleri , elektrikli hafızalı koltuklar , ön arka park sensörü , geri görüş kamerası , arka makam perde , elektrikli direksiyon , elektrikli direksiyon , ısıtmalı aynalar , elektrikli arka perde , elektrikli , hafızalı , ısıtmalı , katlanır aynalar , elektrikli katlanır ayna , hafızalı sürücü koltuğu , elektrikli direksiyon , elektrikli katlanır ayna , bi xenon farlar , far yıkama , bluetooth , aux , usb , bluetooth , servotronic direksiyon , start & stop , anahtarsız çalıştırma , ışık paket , araç iniş , binişinde aydınlatma ön ve arka park yardım desteği , yan makam perdeleri , arka park sensörü , yağmur sensörü , far sensörü\n",
      "\n"
     ]
    },
    {
     "name": "stderr",
     "output_type": "stream",
     "text": [
      "\r",
      " 38%|██████████████████████████████▋                                                 | 115/300 [02:21<07:04,  2.30s/it]"
     ]
    },
    {
     "name": "stdout",
     "output_type": "stream",
     "text": [
      "\" 2012 model bmw 5 . 25d xdrive premium m sport plus paket sunroof deri koltuk ısıtma elektrikli hafızalı koltuk elektrikli arka perde bi xenon far far yıkama ön arka park sensörü yağmur sensörü far sensörü far sensörü bluetooth aux usb cd mp3 çalar çok fonksiyonlu deri direksiyon\n",
      "\n"
     ]
    },
    {
     "name": "stderr",
     "output_type": "stream",
     "text": [
      "\r",
      " 39%|██████████████████████████████▉                                                 | 116/300 [02:22<05:22,  1.75s/it]"
     ]
    },
    {
     "name": "stdout",
     "output_type": "stream",
     "text": [
      "\" araç model bilgisi ; bmw 5 . 20i executıve m sport plus metalik siyah safir bej dakota deri döşeme türkiye paket otomatik şanzıman 8 ileri runflat lastikler lastik basınç göstergesi geri görüş kamerası velur halı paspaslar elektrokrom iç ve dış aynalar elektrokrom iç ayna far yıkama sistemi park mesafe kontrol ön arka yağmur sezicisi otomatik klima ( ekranlı 2bölge yağmur sezicisi park mesafe kontrol ön arka sürüş asistanı bmw acil durum çağrısı bmw teleservıces 7r3 7r3 otomatik kapı kilit fonk . karter koruması otomatik şanzıman 8 ileri servotronıc çok fonksiyonlu direksiyon simidi elektrikli cam tavan \"\n",
      "\n"
     ]
    },
    {
     "name": "stderr",
     "output_type": "stream",
     "text": [
      "\r",
      " 39%|███████████████████████████████▏                                                | 117/300 [02:23<04:38,  1.52s/it]"
     ]
    },
    {
     "name": "stdout",
     "output_type": "stream",
     "text": [
      "\" 2011 model bmw 5 . 20d comfort 184 hp 8 ileri otomatik vites aracımız bayii çıkışlı olup tüm bakımları yapılmıştır . servis bakımlıdır .\n",
      "\n"
     ]
    },
    {
     "name": "stderr",
     "output_type": "stream",
     "text": [
      "\r",
      " 39%|███████████████████████████████▍                                                | 118/300 [02:23<03:28,  1.15s/it]"
     ]
    },
    {
     "name": "stdout",
     "output_type": "stream",
     "text": [
      "\" araç borusan çıkışlı olup , hata boya değişen yoktur . sadece sağ ön çamurluk ve kaput , ön tampon ve sol arka çamurluk ve kaput ön tampon ve far değişmiştir . sol arka çamurluk değişmiştir . \"\n",
      "\n"
     ]
    },
    {
     "name": "stderr",
     "output_type": "stream",
     "text": [
      "\r",
      " 40%|███████████████████████████████▋                                                | 119/300 [02:23<02:48,  1.08it/s]"
     ]
    },
    {
     "name": "stdout",
     "output_type": "stream",
     "text": [
      "\" araç borusan bayi çıkışlı olup , ilk günkü gibi temiz olup , bakımlıdır . herhangi bir kaza , boya , değişen yoktur . sadece arka sağ arka çamurluk ve sağ ön kapı , sağ arka çamurluk , sol arka kapıda lokal boya vardır . sağ arka çamurlukta yarım lokal boya vardır . tramer kaydı yoktur . \"\n",
      "\n"
     ]
    },
    {
     "name": "stderr",
     "output_type": "stream",
     "text": [
      "\r",
      " 40%|████████████████████████████████                                                | 120/300 [02:24<02:28,  1.21it/s]"
     ]
    },
    {
     "name": "stdout",
     "output_type": "stream",
     "text": [
      "\" araç model bilgisi ; bmw 5 . 20i premium m sport paket siyah içi bej deri koltuk sunroof hayalet ekran vakumlu kapılar elektrikli bagaj hayalet ekran vakumlu kapılar elektrikli bagaj hayalet ekran vakumlu kapılar elektrikli bagaj kapağı geri görüş kamerası ön arka park sensörü elektrikli arka perde elektrikli arka perde elektrikli katlanır aynalar bi xenon far far yıkama start stop anahtarsız çalıştırma start stop ( anahtarsız çalıştırma ) start stop bluetooth telefon bağlantısı aux girişi usb arayüzü yan protokol perde elektrikli yan aynalar elektrokrom dikiz aynası yağmur sensörü far gece sensörü ön ve arka park mesafe sensörü yağmur sensörü otomatik kapı kilit fonksiyonu – lastikler ve daha sayamadığım bir çok özellik vardır .\n",
      "\n"
     ]
    },
    {
     "name": "stderr",
     "output_type": "stream",
     "text": [
      "\r",
      " 40%|████████████████████████████████▎                                               | 121/300 [02:25<02:41,  1.11it/s]"
     ]
    },
    {
     "name": "stdout",
     "output_type": "stream",
     "text": [
      "\" araç borusan bayi çıkışlıdır . aracın tüm bakımları yapılmıştır . muayenesi yenidir . yeni yapılmıştır . en ufak masrafı yoktur . iç döşemeler sıfır ayarındadır . aracın tüm bakımları yapılmıştır . aracın yedek anahtarı ve kitapçıkları mevcuttur . araç özellikleri : sunroof bi xenon farlar far yıkama far ve yağmur sensörü ön arka park sensörü elektrikli katlanır aynalar kararan dikiz aynası elektrikli arka perde yan makam perdeleri elektrikli arka perde elektrikli arka perde ahşap iç trimler ön ve arka park sensörü ön kol dayama ısofıx 18 m sport alaşım jantlar bluetooth telefon hazırlık sis farı alaşımlı jantlar vs vs vs vs vs vs vs vs vs vs vs vs vs vs vs vs vs vs vs vs\n",
      "\n"
     ]
    },
    {
     "name": "stderr",
     "output_type": "stream",
     "text": [
      "\r",
      " 41%|████████████████████████████████▌                                               | 122/300 [02:26<02:55,  1.02it/s]"
     ]
    },
    {
     "name": "stdout",
     "output_type": "stream",
     "text": [
      "\" 2012 model bmw 5 . 25d xdrive premium otomatik vites sunroof deri koltuk koltuk ısıtma elektrikli hafızalı koltuk elektrikli direksiyon elektrikli arka perde çift yönlü dijital klima elektrikli katlanır ayna yağmur sensörü far sensörü ön arka park sensörü elektrikli arka perde sis farı çelik jant abs asr esp far yıkama ön arka kol dayama ısofıx 18 inç çelik jant sis farı alaşımlı jantlar elektrikli arka perde sis farı çelik jant sis farı çelik jant sis farı usb arayüzü aux cd mp3 çalar çelik jant sis farı ön arka park sensörü ön arka kol dayama ön arka park sensörü yağmur sensörü far sensörü yol bilgisayarı vs vs vs vs vs vs vs vs vs vs vs vs vs vs vs vs vs vs vs vs vs vs vs vs yoktur\n",
      "\n"
     ]
    },
    {
     "name": "stderr",
     "output_type": "stream",
     "text": [
      "\r",
      " 41%|████████████████████████████████▊                                               | 123/300 [02:27<03:08,  1.07s/it]"
     ]
    },
    {
     "name": "stdout",
     "output_type": "stream",
     "text": [
      "\" 2012 model bmw 5 . 20i premium 170 hp borusan çıkışlı borusan bakımlı hatasız boyasız tramersiz kazasız boyasız tramersiz hayalet gösterge vakumlu kapılar sunroof elektrikli bagaj hayalet ekran vakumlu kapılar elektrikli bagaj hayalet ekran vakumlu kapılar elektrikli bagaj kapağı geri görüş kamerası elektrikli arka perde elektrikli arka perde çift bölge dijital klima elektrikli arka perde bi xenon farlar far yıkama far yağmur park sensörü ön arka park sensörü far sensörü yağmur sensörü ön arka park sensörü ön arka kol dayama bluetooth telefon hazırlık sis farı cd mp3 çalar usb aux giriş abs esp asr esp radyo cd çalar yol bilgisayarı fonksiyonel direksiyon elektrikli , ısıtmalı aynalar elektrikli camlar uzaktan kumandalı merkezi kilit ön kol dayama arka kol dayama isofix hatasız boyasız tramer bilgisi : hasar kaydı yoktur ! ! ! ! ! ! ! ! ! ! ! ! ! ! ! ! ! ! ! ! ! ! ! ! ! ! ! ! ! ! ! ! ! ! ! ! ! ! ! ! ! ! ! ! ! ! ! ! ! ! ! ! ! ! ! ! ! ! ! ! ! ! ! ! ! ! ! ! ! ! ! ! ! ! ! ! ! ! ! ! ! ! ! ! ! ! ! ! ! ! ! ! ! ! ! ! ! ! ! ! ! ! ! ! ! ! ! ! ! ! ! ! ! ! ! ! ! ! ! ! ! ! ! ! ! ! ! ! ! ! ! ! ! ! ! ! ! ! ! ! ! ! ! ! ! ! ! ! ! ! ! ! ! ! ! ! ! ! ! ! ! ! ! ! ! ! ! ! ! ! !\n",
      "\n"
     ]
    },
    {
     "name": "stderr",
     "output_type": "stream",
     "text": [
      "\r",
      " 41%|█████████████████████████████████                                               | 124/300 [02:30<04:41,  1.60s/it]"
     ]
    },
    {
     "name": "stdout",
     "output_type": "stream",
     "text": [
      "\" aracın ilk sahibiyim . kaza boya değişen yoktur . hatasız boyasızdır . tüm bakımları yapılmıştır . muayenesi yenidir . muayenesi 17 . 10 . 2019 tarihine kadar geçerlidir . yedek anahtar ve kitapçıkları mevcuttur . araç özellikleri sunroof güneş korumalı camlar elektrikli cam tavan led sis farları yağmur sensörü far sensörü ön ve arka park sensörü elektrikli katlanır aynalar elektrikli arka perde elektrikli yan aynalar arka perde bluetooth telefon hazırlık sis farı alaşımlı jantlar vs vs vs vs vs vs vs vs vs vs vs vs vs vs yoktur\n",
      "\n"
     ]
    },
    {
     "name": "stderr",
     "output_type": "stream",
     "text": [
      "\r",
      " 42%|█████████████████████████████████▎                                              | 125/300 [02:31<04:02,  1.38s/it]"
     ]
    },
    {
     "name": "stdout",
     "output_type": "stream",
     "text": [
      "\" araç borusan çıkışlı olup , 2016 yılı kasım ayı trafiğe çıktı , servis bakımlıdır . herhangi bir kazası , değişeni yoktur . tramer kaydı yoktur . aracın tüm özellikleri ; orjinal iç dış m paket ( orjinal ) m sport jantlar ( orjinal ) m sport jantlar ( 4 bölge ) ön arka park sensörü ( arka ) m sport ön tampon m sport yan aynalar elektrikli arka perde elektrikli arka perde elektrikli arka perde çift bölgeli dijital klima ısıtmalı ön koltuklar hafızalı sürücü koltuğu elektrikli yolcu koltuğu elektrikli ısıtmalı ön koltuklar hafızalı sürücü koltuğu elektrikli yolcu koltuğu ısıtmalı ön koltuklar hafızalı sürücü koltuğu elektrikli yolcu koltuğu ısıtmalı ön koltuklar elektrikli arka perde elektrikli arka perde elektrikli katlanır yan aynalar elektrokrom iç ayna sesli uyarı sistemi yağmur sensörü far sensörü yağmur sensörü ışık paketi anahtarsız çalıştırma arka park sensörü far gece sensörü yağmur sensörü park mesafe sensörü ön ve arka kol dayama bardaklıklar aydınlatmalı makyaj aynaları alaşım jantlar\n",
      "\n"
     ]
    },
    {
     "name": "stderr",
     "output_type": "stream",
     "text": [
      "\r",
      " 42%|█████████████████████████████████▌                                              | 126/300 [02:33<04:07,  1.42s/it]"
     ]
    },
    {
     "name": "stdout",
     "output_type": "stream",
     "text": [
      "\" araç 2014 model olup , değişen veya boyanan parçası yoktur . 2 parça boya ve değişen yoktur . hasar kaydı yoktur .\n",
      "\n"
     ]
    },
    {
     "name": "stderr",
     "output_type": "stream",
     "text": [
      "\r",
      " 42%|█████████████████████████████████▊                                              | 127/300 [02:33<03:04,  1.07s/it]"
     ]
    },
    {
     "name": "stdout",
     "output_type": "stream",
     "text": [
      "\" ​ ​ ​ ​ ​ ​ ​ ​ ​ dış renk : beyaz iç dış m sport plus sunroof f1 vites hayalet ekran geri görüş kamerası sunroof elektrikli katlanır ayna hafızalı koltuk koltuk ısıtma elektrikli arka perde elektrikli arka perde arka makam perde yan makam perdeleri elektrikli arka perde katlanır ayna yağmur sensörü far sensörü ön arka park sensörü lastik basınç sensörü elektrikli arka perde yan makam perdeleri arka perde elektrikli arka perde yan makam perdeleri kararan dikiz aynası elektrikli ısıtmalı karartmalı aynalar elektrikli arka perde bluetooth telefon hazırlık sis farı alaşımlı jantlar elektrikli arka perde sis farı çelik jant sis farı çelik jant sis farı far sensörü yağmur sensörü ön arka park sensörü elektrikli katlanır ayna far yıkama sunroof fonksiyonel direksiyon arka park sensörü yağmur sensörü far sensörü ön arka park sensörü ön arka kol dayama ısofıx koltuklar radyo cd mp3 çalar usb aux cd çalar abs esp asr start stop eco comfort sport sürüş modları start stop anahtarsız çalıştırma eco pro comfort sport sürüş modları elektronik park freni çift bölgeli dijital klima elektrikli arka perde yağmur sensörü far sensörü ön arka park sensörü far sensörü ön arka park sensörü far yıkama ön arka kol dayama anahtarsız çalıştırma sis farı çelik jant sis farı cd mp3 çalar usb aux giriş abs esp asr start stop ön arka kol dayama isofix aracın motor ve yürüyen aksamı kusursuzdur aracın tüm ağır bakımları yapılmıştır aracın tüm bakımları yapılmıştır aracın tüm bakımları yapılmıştır araçta boya değişen yoktur . tramer kaydı yoktur . sadece nakit satılıktır .\n",
      "\n"
     ]
    },
    {
     "name": "stderr",
     "output_type": "stream",
     "text": [
      "\r",
      " 43%|██████████████████████████████████▏                                             | 128/300 [02:35<04:16,  1.49s/it]"
     ]
    },
    {
     "name": "stdout",
     "output_type": "stream",
     "text": [
      "\" araç model bilgisi ; bmw 5 serisi 520d comfort 184 hp 8 ileri otomatik vites koltuk ısıtma sunroof koltuk ısıtma elektrikli bagaj hayalet ekran vakumlu kapılar elektrikli bagaj kapağı geri görüş kamerası büyük ekran navigasyon geri görüş kamerası elektrikli hafızalı ısıtmalı koltuklar ön arka park sensörü elektrikli arka perde elektrikli katlanır ayna yağmur sensörü far sensörü ön arka park sensörü far yıkama bluetooth usb aux cd çalar abs esp asr start stop anahtarsız çalıştırma sis farı ön arka park sensörü far sensörü yağmur sensörü far sensörü start stop bluetooth telefon hazırlık sis farı alaşımlı jantlar elektrikli camlar uzaktan kumandalı merkezi kilit ön kol dayama arka kol dayama isofix aracın kasko bedeli : 000 tl dir aracın tüm bakımları yapılmıştır aracın 2 parça boya mevcuttur . tramer kaydı yoktur\n",
      "\n"
     ]
    },
    {
     "name": "stderr",
     "output_type": "stream",
     "text": [
      "\r",
      " 43%|██████████████████████████████████▍                                             | 129/300 [02:37<04:05,  1.43s/it]"
     ]
    },
    {
     "name": "stdout",
     "output_type": "stream",
     "text": [
      "\" araç borusan çıkışlı olup , 2016 yılı ve km garantili olarak ; sunroof , deri döşeme , dijital klima , 4 koltuk ısıtma , elektrikli , hafızalı , ısıtmalı ön koltuklar , elektrikli arka perde , elektrikli hafızalı koltuklar , elektrikli direksiyon , hafızalı koltuk , elektrikli katlanır ayna , bluetooth , yağmur ve far sensörü , ön arka park sensörü , far yıkama , far sensörü , yağmur sensörü , arka park sensörü , elektirikli direksiyon , far sensörü , yağmur sensörü , far yıkama , aux ve usb bağlantısı , ışık paketi , far yıkama , sunroof , yağmur sensörü , far sensörü , kararan iç dikiz aynası , otomatik far sensörü , ön arka park sensörü , geri görüş kamerası , ön ve arka park sensörü , yağmur ve far sensörü , kararan iç dikiz aynası , deri döşeme , elektrikli , ısıtmalı aynalar , elektrikli arka perde , elektrikli arka perde , sis farı , yağmur sensörü , kararan iç dikiz aynası , abs , esp , asr , esp , radyo cd mp3 çalar , yol bilgisayarı , fonksiyonel deri direksiyon , elektrikli arka perde , sis farı , yağmur sensörü , far yıkama , ışık paket , araç iniş , binişinde aydınlatma ön kol dayama , arka kol dayama , isofix , arka park sensörü , bluetooth , aux , usb , cd çalar , aux , usb , cd çalar , yol bilgisayarı , fonksiyonel deri direksiyon , ön arka park sensörü , far yıkama , fonksiyonel direksiyon , elektrikli arka perde , sis farı , yağmur sensörü , far sensörü , kararan iç dikiz aynası , otomatik far sensörü , yağmur sensörü , ışık paket , bluetooth , aux , usb , cd çalar , abs , asr , esp\n",
      "\n"
     ]
    },
    {
     "name": "stderr",
     "output_type": "stream",
     "text": [
      "\r",
      " 43%|██████████████████████████████████▋                                             | 130/300 [02:40<05:18,  1.87s/it]"
     ]
    },
    {
     "name": "stdout",
     "output_type": "stream",
     "text": [
      "\" araç model bilgisi ; bmw 5 serisi otomatik şanzıman sport plus 1 . 6 cd aux ve usb bağlantısı . türkçe ön panel gelişmiş gösterge paneli ( hayalet ) gelişmiş gösterge paneli ( hayalet ekran ) bmw teleservıces m deri direksiyon m aerodinamik paket parlak siyah dış kaplama antrasit tavan döşemesi spor süspansiyon iptali m sport fren diskleri m sport m sport fren diskleri m sport m sport fren diskleri m sport fren diskleri m sport m sport fren diskleri m sport m sport fren diskleri m sport m sport fren diskleri m sport fren diskleri m sport hmj , çift kollu , stil 662 , 18 m sport jantlar m sport süspansiyon iptali m sport fren diskleri m sport m sport fren diskleri m sport m sport fren diskleri m sport m sport süspansiyon iptali m sport fren diskleri m sport m sport fren diskleri m sport m sport fren diskleri m sport m sport plus spor süspansiyon iptali m sport fren diskleri m sport fren diskleri m sport m sport süspansiyon iptali m sport fren diskleri m sport m sport süspansiyon iptali m sport fren diskleri m sport m sport süspansiyon iptali m sport fren diskleri m sport m sport fren diskleri m sport m sport süspansiyon iptali m sport fren diskleri m sport m sport fren diskleri m sport m sport fren diskleri m sport m sport fren diskleri m sport m sport plus modları hı fı hoparlör sistemi otomatik şanzıman 8 ileri servotronıc çok fonksiyonlu direksiyon otomatik şanzıman 8 ileri plus spor süspansiyon iptali ​ parlak siyah dış kaplama m deri direksiyon otomatik şanzıman 8 ileri plus spor süspansiyon iptali m sport fren fonksiyonlu cruıse cont . gelişmiş gösterge paneli hexagon alcantara kumaş döşeme hands free ve usb bağlantısı türkçe ön panel gelişmiş gösterge\n",
      "\n"
     ]
    },
    {
     "name": "stderr",
     "output_type": "stream",
     "text": [
      "\r",
      " 44%|██████████████████████████████████▉                                             | 131/300 [02:42<06:06,  2.17s/it]"
     ]
    },
    {
     "name": "stdout",
     "output_type": "stream",
     "text": [
      "\" sahibinden satılık borusan çıkışlı , borusan bakımlı , hatasız , boyasız , tramersiz , kazasız , boyasız , tramersiz kazasız , boyasız , tramersiz , orijinal bmw , 4 koltuk ısıtma , elektrikli koltuk , hafızalı sürücü koltuğu , elektrikli , ısıtmalı , hafızalı , elektrikli , ısıtmalı , hafızalı , ısıtmalı , ısıtmalı , hafızalı , elektrikli , koltuklar , koltuklar , koltuk ısıtma , elektrikli koltuk , koltuk ısıtma , elektrikli arka perde , elektrikli hafızalı koltuk , elektrikli bagaj , koltuk ısıtma , hafızalı elektrikli koltuk , direksiyon , çift yönlü dijital klima , geri görüş kamerası , hız sabitleyici , hız sabitleyici , park sensörü , yağmur sensörü , far sensörü , sis farı , yağmur sensörü , arka park sensörü , kararan iç dikiz aynası , otomatik far ve yağmur sensörü , far yıkama , ışık paket , sunroof , xenon far , led , sis farları , led sis farları , geri görüş kamerası , ön arka park sensörü , geri görüş kamerası , , ön arka park sensörü , far sensörü , yağmur sensörü , far sensörü , ön arka park sensörü , far yıkama , dijital klima , çelik jantlar , sis farı , yağmur sensörü , park sensörü , kararan iç dikiz aynası , abs , asr , esp , radyo cd mp3 çalar , yol bilgisayarı , fonksiyonel deri direksiyon , alarm , ımmobılızer , elektrikli , ısıtmalı aynalar , elektrikli camlar , uzaktan kumandalı merkezi kilit , ön kol dayama , arka kol dayama , isofix mevcuttur . \"\n",
      "\n"
     ]
    },
    {
     "name": "stderr",
     "output_type": "stream",
     "text": [
      "\r",
      " 44%|███████████████████████████████████▏                                            | 132/300 [02:45<06:21,  2.27s/it]"
     ]
    },
    {
     "name": "stdout",
     "output_type": "stream",
     "text": [
      "\" 2012 model bmw 5 . 25d xdrive premium borusan çıkışlı hayalet ekran vakumlu kapılar elektrikli bagaj hayalet ekran vakumlu kapılar elektrikli bagaj hayalet ekran vakumlu kapılar elektrikli bagaj hayalet ekran vakumlu kapılar elektrikli bagaj geri görüş kamerası elektrikli bagaj kapağı vakumlu kapılar elektrikli bagaj kapağı geri görüş kamerası bluetooth telefon bağlantısı usb aux bluetooth telefon bağlantısı fonksiyonel spor deri direksiyon elektrikli katlanır yan aynalar elektrokrom iç ayna sesli uyarı sistemi far yağmur sensörü\n",
      "\n"
     ]
    },
    {
     "name": "stderr",
     "output_type": "stream",
     "text": [
      "\r",
      " 44%|███████████████████████████████████▍                                            | 133/300 [02:46<05:06,  1.83s/it]"
     ]
    },
    {
     "name": "stdout",
     "output_type": "stream",
     "text": [
      "\" sahibinden satılık bmw 5 . 20i executıve m sport plus 1 . 6 motor , 8 ileri otomatik vites , sunroof , deri koltuk , bi xenon far , far yıkama , ısıtmalı ön koltuklar , elektrikli hafızalı sürücü koltuğu , elektrikli , ısıtmalı , hafızalı , elektrikli ön koltuklar , elektrikli arka perde , elektrikli katlanır ayna , far yıkama , bluetooth , aux , servotronic direksiyon , start & stop , anahtarsız çalıştırma , bı xenon farlar , far yıkama , park sensörü , yağmur sensörü , kararan dikiz aynası , far sensörü , ön arka park sensörü , geri görüş kamerası , bluetooth , aux , cd çalar , usb , aux , cd çalar , park sensörü , yağmur sensörü , far sensörü , sis farı , yağmur sensörü , kararan dikiz aynası , far yıkama , led stop , sis farları , otomatik kararan dikiz aynası , yokuş kalkış desteği , anahtarsız çalıştırma , start stop , anahtarsız çalıştırma , ışık paket , dijital klima , abs , asr , esp , cd çalar , aux , usb , far yıkama , fonksiyonel deri direksiyon , start stop , anahtarsız çalıştırma , sis farı , yağmur sensörü , far sensörü , ön arka park sensörü , kararan dikiz aynası , far yıkama , hız sabitleyici , hız sabitleyici , park sensörü , yağmur sensörü , far sensörü , far yıkama , bluetooth , aux , usb , servotronic direksiyon , start & stop , anahtarsız çalıştırma , start & stop , anahtarsız çalıştırma , ışık paket , kapı kolları aynalar , ışık paket , kapı kolu aydınlatma , dijital klima , aux girişi , abs , asr , esp , radyo cd çalar , otomatik kapı klit fonksiyonu ( kapılar açıkken araç hareket\n",
      "\n"
     ]
    },
    {
     "name": "stderr",
     "output_type": "stream",
     "text": [
      "\r",
      " 45%|███████████████████████████████████▋                                            | 134/300 [02:49<06:01,  2.18s/it]"
     ]
    },
    {
     "name": "stdout",
     "output_type": "stream",
     "text": [
      "\" araç borusan çıkışlı olup , bakımlı , masrafsız , , , , , , , , , , , , , , , , , , , , , , , , , , , , , , , , , , , , , , , , , , , , , , , , , , , , , , , , , , , , , , , , , , , , , , , , , , , , , , , , , , , , , , , , , , , , , , , , , , , , , , , , , , , , , , , , , , , , , , , , , , , , , , , , , , , , , , , , , , , , , , , , , , , , , , , , , , , , , , , , , , , , , , , , , , , , , , , , , , , , , , , , , , , , , , , , , , , , , , , , , , , , , , , , , , , , , , , , , , , , , , , , , , , , , , , , , , , , , , , , , , , , , , , , , , , , , , , , , , , , , , , , , , , , , , , , , , , , , , , , , , , , , , , , , ,\n",
      "\n"
     ]
    },
    {
     "name": "stderr",
     "output_type": "stream",
     "text": [
      "\r",
      " 45%|████████████████████████████████████                                            | 135/300 [02:52<06:38,  2.42s/it]"
     ]
    },
    {
     "name": "stdout",
     "output_type": "stream",
     "text": [
      "\" araç borusan çıkışlı olup , ilk yardım çantası , orjinal m sport , comfort , sport , koltuklar , , sunroof , geri görüş kamerası , ön arka park sensörü , geri görüş kamerası , ısıtmalı hafızalı koltuklar , elektrikli , hafızalı , ısıtmalı , kararan katlanır ayna , sunroof , , , , , , , , , , , , , , , , , , , , , , , , , , , , , , , , , , , , , , , , , , , , , , , , , , , , , , , , , , , , , , , , , , , , , , , , , , , , , , , , , , , , , , , , , , , , , , , , , , , , , , , , , , , , , , , , , , , , , , , , , , , , , , , , , , , , , , , , , , , , , , , , , , , , , , , , , , , , , , , , , , , , , , , , , , , , , , , , , , , , , , , , , , , , , , , , , , , , , , , , , , , , , , , , , , , , , , , , , , , , , , , , , , , , , , , , , , , , , , , , , , , , , , , ,\n",
      "\n"
     ]
    },
    {
     "name": "stderr",
     "output_type": "stream",
     "text": [
      "\r",
      " 45%|████████████████████████████████████▎                                           | 136/300 [02:55<07:30,  2.75s/it]"
     ]
    },
    {
     "name": "stdout",
     "output_type": "stream",
     "text": [
      "\" ​ 2015 bmw 5 . 25d xdrive m sport bayi çıkışlı borusan bakımlı hatasız boyasız tramersiz hayalet ekran vakumlu kapılar sunroof elektrikli bagaj hayalet gösterge vakumlu kapılar geri görüş kamerası elektrikli hafızalı koltuklar ısıtmalı ön koltuklar elektrikli direksiyon elektrikli direksiyon ayarı elektrikli arka perde yan ve arka makam perdeleri elektrikli arka perde elektrikli direksiyon elektrikli katlanır aynalar elektrikli arka perde elektrikli katlanır aynalar elektrikli hafızalı sürücü koltuğu ısıtmalı ön koltuklar elektrikli arka perde elektrikli arka perde bluetooth aux usb girişi bluetooth telefon bağlantısı fonksiyonel deri direksiyon elektrikli katlanır aynalar elektrikli katlanır ayna yağmur sensörü far sensörü ön arka park sensörü fonksiyonel deri direksiyon ön kol dayama ön arka kol dayama ısofıx ımmobılızer aluminyum alaşımlı jantlar elektrikli , ısıtmalı aynalar ön kol dayama arka kol dayama isofix iç ambians lambası akustik kemer uyarsı kararan dikiz aynası aux usb auto hold \"\n",
      "\n"
     ]
    },
    {
     "name": "stderr",
     "output_type": "stream",
     "text": [
      "\r",
      " 46%|████████████████████████████████████▌                                           | 137/300 [02:57<06:19,  2.33s/it]"
     ]
    },
    {
     "name": "stdout",
     "output_type": "stream",
     "text": [
      "\" ​ 2012 model bmw 5 . 25d xdrive premium borusan çıkışlı borusan bakımlı yedek anahtar ve kitapçıkları mevcuttur aracımız yetkili servis bakımlıdır . bakımları yapılmıştır . araç borusan çıkışlı olup içi dışı ilk günkü gibi temiz kullanılmış olup servis bakımlıdır . km kesinlikle orjinaldir . boya , değişen , hasar kaydı vs yoktur . yedek anahtar ve kitapçıkları mevcuttur . \"\n",
      "\n"
     ]
    },
    {
     "name": "stderr",
     "output_type": "stream",
     "text": [
      "\r",
      " 46%|████████████████████████████████████▊                                           | 138/300 [02:57<04:53,  1.81s/it]"
     ]
    },
    {
     "name": "stdout",
     "output_type": "stream",
     "text": [
      "\" araç borusan bayi çıkışlıdır . bakımları yetkili serviste yapılmıştır . aracın bakımları yeni yapılmıştır . km si kesinlikle orjinal olup , kesinlikle değişen yoktur . tramer kaydı yoktur . aracın tüm bakımları yapılmıştır . aracın yedek anahtarı ve kitapçıkları mevcuttur . aracın üzerinde kışlık ve yazlık lastikleri vardır . yanında 4 adet kış lastiği vardır . aracın bütün bakımları yapılmıştır . aracın içi ve dışı ilk günkü gibi temiz olup deforme yoktur . aracın iç döşemeleri , ilk günkü gibi temiz kullanılmıştır . tertemiz bir araçtır . araç da en ufak bir çizik dahi yoktur . aracın tüm özellikleri ve mekanik olarak kusursuzdur . aracın tüm bakımları yapılmıştır . aracın içi ilk günkü temizliğinde olup deforme yoktur . aracın yedek anahtarı vardır .\n",
      "\n"
     ]
    },
    {
     "name": "stderr",
     "output_type": "stream",
     "text": [
      "\r",
      " 46%|█████████████████████████████████████                                           | 139/300 [02:59<04:35,  1.71s/it]"
     ]
    },
    {
     "name": "stdout",
     "output_type": "stream",
     "text": [
      "\" araç borusan çıkışlı olup , ilk yardım çantası , 140 . 000 km de olup , orjinal km dedir . yedek anahtarı ve kitapçıkları mevcuttur . \"\n",
      "\n"
     ]
    },
    {
     "name": "stderr",
     "output_type": "stream",
     "text": [
      "\r",
      " 47%|█████████████████████████████████████▎                                          | 140/300 [02:59<03:28,  1.30s/it]"
     ]
    },
    {
     "name": "stdout",
     "output_type": "stream",
     "text": [
      "\" araç borusan çıkışlı olup , tüm bakımları yapılmıştır . aracın bütün bakımları yapılmıştır . aracın tüm bakımları yapılmıştır . muayenesi 2020 yılına kadar geçerlidir . araç fazlalığından satılıktır .\n",
      "\n"
     ]
    },
    {
     "name": "stderr",
     "output_type": "stream",
     "text": [
      "\r",
      " 47%|█████████████████████████████████████▌                                          | 141/300 [02:59<02:40,  1.01s/it]"
     ]
    },
    {
     "name": "stdout",
     "output_type": "stream",
     "text": [
      "\" araç borusan çıkışlı olup , borusan bakımlı olup , ilk yardım çantası , dış renk olan , aracımızda sadece sağ ön çamurluk , sol arka kapı , sağ arka çamurluk , kaput , sol arka kapı , sağ arka çamurluk , sol ön kapı , sağ arka çamurlukta lokal boya vardır . harici hatasız boyasızdır . tramer kaydı yoktur . \"\n",
      "\n"
     ]
    },
    {
     "name": "stderr",
     "output_type": "stream",
     "text": [
      "\r",
      " 47%|█████████████████████████████████████▊                                          | 142/300 [03:00<02:19,  1.13it/s]"
     ]
    },
    {
     "name": "stdout",
     "output_type": "stream",
     "text": [
      "\" 2014 bmw 5 . 20i premium m sport paket borusan çıkışlı borusan bakımlı hatasız boyasız tramersiz bakımları yeni yapılmıştır içi dışı tertemiz masrafsızdır . araç tramer kaydı yoktur . tüm bakımları yetkili serviste yapılmıştır . motor ve şanzıman sorunsuzdur . bakımları yeni yapılmıştır . muayenesi yeni yapılmıştır .\n",
      "\n"
     ]
    },
    {
     "name": "stderr",
     "output_type": "stream",
     "text": [
      "\r",
      " 48%|██████████████████████████████████████▏                                         | 143/300 [03:00<02:00,  1.30it/s]"
     ]
    },
    {
     "name": "stdout",
     "output_type": "stream",
     "text": [
      "\" araç borusan çıkışlı olup , borusan bakımlıdır . herhangi bir kazası yoktur . sadece sağ ön çamurluk ve kaput , sol arka çamurluk , kaput , sağ ön kapı , arka tampon ve yan marşpiyel , arka çamurluk , sağ ön kapı ve arka tampon ve bagaj kapağı değişmiştir . ( orjinal bir karış boya vardır ) , hayalet gösterge , vakumlu kapılar , elektrikli bagaj , hayalet ekran , hafızalı koltuk , elektrikli , ısıtmalı , hafızalı katlanır ayna , elektrikli direksiyon , ısıtmalı koltuklar , elektrikli hafızalı koltuklar , ön ve arka park sensörü , geri görüş kamerası , far yıkama , ısıtmalı ön koltuklar , elektrikli arka perde , elektrikli arka perde , elektrikli katlanır aynalar , anahtarsız çalıştırma , start stop , anahtarsız çalıştırma , start stop , anahtarsız çalıştırma , sis farı , yağmur sensörü , far sensörü , kararan dikiz aynası , fonksiyonel deri direksiyon , elektrikli , ısıtmalı ön koltuklar , elektrikli arka perde , yan makam perdeleri , elektrikli arka perde , elektrikli , hafızalı sürücü koltuğu , elektrikli , hafızalı , ısıtmalı , katlanır aynalar , elektrikli ön koltuklar , hafızalı sürücü koltuğu , elektrikli arka perde , elektrikli arka perde , elektrikli katlanır ayna , bi xenon far , yağmur , far , park sensörü , far yıkama , ışık paketi , kapı kolu aydınlatma dijital klima , arka park sensörü , yağmur sensörü , far sensörü , kararan iç dikiz aynası , abs , asr , esp , radyo cd çalar , yol bilgisayarı , fonksiyonel deri direksiyon , ön arka park sensörü , sis farı , far sensörü , yağmur sensörü , kararan dikiz aynası , abs , asr , esp , alarm , 4 cam , elektrikli aynalar , elektrikli arka perde , elektrikli arka\n",
      "\n"
     ]
    },
    {
     "name": "stderr",
     "output_type": "stream",
     "text": [
      "\r",
      " 48%|██████████████████████████████████████▍                                         | 144/300 [03:03<03:35,  1.38s/it]"
     ]
    },
    {
     "name": "stdout",
     "output_type": "stream",
     "text": [
      "\" ​ borusan çıkışlı bmw 5 . 20i premium 170 hp hayalet ekran vakumlu kapılar elektrikli bagaj elektrikli hafızalı ısıtmalı koltuklar sunroof geri görüş kamerası elektrikli perde arka makam perde ön arka park sensörü elektrikli katlanır ayna bi xenon far far yıkama far ve yağmur sensörü ön arka park sensörü geri görüş kamerası park sensörü ön arka kol dayama sürüş modları elektrikli arka perde sis farı çelik jant sis farı ışık paket cd mp3 çalar usb aux bluetooth telefon bağlantısı park mesafe kontrol\n",
      "\n"
     ]
    },
    {
     "name": "stderr",
     "output_type": "stream",
     "text": [
      "\r",
      " 48%|██████████████████████████████████████▋                                         | 145/300 [03:04<03:06,  1.20s/it]"
     ]
    },
    {
     "name": "stdout",
     "output_type": "stream",
     "text": [
      "\" 2014 model bmw 5 . 20i premium sunroof deri koltuk elektrikli bagaj bi xenon far far yıkama sunroof hayalet ekran vakumlu kapılar elektrikli bagaj geri görüş kamerası elektrikli hafızalı koltuk elektrikli ön koltuklar ısıtmalı ön koltuklar hafızalı sürücü koltuğu elektrikli yolcu koltuğu ısıtmalı ön koltuklar elektrikli direksiyon elektrikli direksiyon ayarı elektrikli katlanır aynalar elektrikli arka perde bı xenon far far yıkama yağmur sensörü ön arka park sensörü far sensörü ön arka park sensörü yağmur sensörü far sensörü isofix vs . vs vs vs vs vs vs vs vs vs vs vs vs vs vs vs vs vs\n",
      "\n"
     ]
    },
    {
     "name": "stderr",
     "output_type": "stream",
     "text": [
      "\r",
      " 49%|██████████████████████████████████████▉                                         | 146/300 [03:05<02:53,  1.12s/it]"
     ]
    },
    {
     "name": "stdout",
     "output_type": "stream",
     "text": [
      "\" 2014 bmw 5 . 25d xdrive premium m sport plus paket hayalet ekran vakumlu kapılar hayalet gösterge vakumlu kapılar elektrikli bagaj hayalet ekran vakumlu kapılar sunroof elektrikli ısıtmalı hafızalı koltuklar koltuk ısıtma elektrikli arka perde elektrikli arka perde elektrikli arka perde yan protokol perde yan makam perdeleri ön arka park sensörü yağmur sensörü far sensörü far sensörü ışık paketi anahtarsız çalıştırma start stop bluetooth aux usb cd çalar aux girişi bluetooth telefon bağlantısı yokuş kalkış desteği yağmur sensörü far sensörü ön ve arka park sensörü fonksiyonel deri direksiyon simidi ön kol dayama arka kol dayama ısofıx ımmobılızer aluminyum alaşımlı jantlar elektrikli , ısıtmalı aynalar elektrikli camlar uzaktan kumandalı merkezi kilit ön kol dayama arka kol dayama isofix aracın sağ ön çamurluğu değişmiştir , sağ arka kapı ve sağ arka çamurluğunda boya vardır . sağ arka çamurlukta çizik boyası vardır . \"\n",
      "\n"
     ]
    },
    {
     "name": "stderr",
     "output_type": "stream",
     "text": [
      "\r",
      " 49%|███████████████████████████████████████▏                                        | 147/300 [03:06<03:04,  1.21s/it]"
     ]
    },
    {
     "name": "stdout",
     "output_type": "stream",
     "text": [
      "\" ​ ​ ​ ​ ​ ​ ​ 2016 model yılı 2012 bmw 5 . 25 x drive premium borusan çıkışlı borusan bakımlı hatasız boyasız tramersiz hayalet gösterge vakumlu kapılar hayalet gösterge vakumlu kapılar elektrikli bagaj hayalet ekran vakumlu kapılar elektrikli bagaj geri görüş kamerası elektrikli hafızalı koltuklar ısıtmalı ön koltuklar elk . hafızalı sürücü koltuğu ısıtmalı ön koltuklar geri görüş kamerası elektrikli direksiyon elektrikli katlanır yan aynalar elektrikli arka perde elektrikli arka perde elektrikli arka perde elektrikli katlanır ayna elektrokrom iç ayna led sis farları far yıkama yağmur sensörü far sensörü ön arka park sensörü elektrikli arka perde yan makam perdeleri kararan dikiz aynası elektrikli katlanır yan aynalar elektrikli arka perde bluetooth telefon hazırlık sis farı alaşımlı jantlar vs vs vs vs vs vs vs vs vs vs vs vs vs vs vs vs vs vs vs vs vs vs\n",
      "\n"
     ]
    },
    {
     "name": "stderr",
     "output_type": "stream",
     "text": [
      "\r",
      " 49%|███████████████████████████████████████▍                                        | 148/300 [03:08<03:09,  1.25s/it]"
     ]
    },
    {
     "name": "stdout",
     "output_type": "stream",
     "text": [
      "\" araç bilgileri aracımız tamamen orjinal olup servis bakımlıdır . orjinal m sport paket olup , m paket , sunroof , elektrikli hafızalı sürücü koltuğu , ısıtmalı , hafızalı , elektrikli , ısıtmalı koltuklar , elektrikli katlanır ayna , elektrikli , hafızalı , ısıtmalı , koltuklar , koltuk ısıtma , elektrikli direksiyon , hafızalı koltuklar , elektrikli arka perde , yan makam perdeleri , hafızalı koltuklar , elektrikli direksiyon , elektrikli katlanır ayna , bi xenon , led gündüz led farları , geri görüş kamerası , arka park sensörü , yağmur sensörü , far sensörü , kararan iç dikiz aynası , far sensörü , yağmur sensörü , park sensörü , , kararan iç dikiz aynası , abs , asr , esp , asr , esp , radyo cd mp3 çalar , yol bilgisayarı , fonksiyonel direksiyon , far sensörü , yağmur , ön arka park sensörü , fonksiyonel direksiyon , elektrikli arka perde , elektrikli katlanır ayna , far yıkama , bluetooth , aux , usb , cd çalar , , , cd çalar , bluetooth , park sensörü , yağmur sensörü , kararan iç dikiz aynası , abs , asr , esp , radyo cd çalar , yol bilgisayarı , fonksiyonel direksiyon , ön arka kol dayama , isofix mevcuttur . \"\n",
      "\n"
     ]
    },
    {
     "name": "stderr",
     "output_type": "stream",
     "text": [
      "\r",
      " 50%|███████████████████████████████████████▋                                        | 149/300 [03:10<03:51,  1.54s/it]"
     ]
    },
    {
     "name": "stdout",
     "output_type": "stream",
     "text": [
      "\" 2011 model bmw 5 . 20d comfort paket sunroof elektrikli hafızalı koltuk ısıtmalı elektrikli ön koltuklar koltuk ısıtma geri görüş kamerası ön arka park sensörü far sensörü yağmur sensörü far sensörü ön arka park sensörü elektrikli arka perde arka kol dayama ön arka park sensörü far sensörü yağmur sensörü far sensörü ön ve arka park sensörü fonksiyonel deri direksiyon simidi ayarlanabilir direksiyon fonksiyonel direksiyon bluetooth aux usb mp3 cd çalar bluetooth telefon bağlantısı fonksiyonel direksiyon elektrikli arka perde elektrikli yan aynalar ön ve arka park sensörü far gece sensörü yağmur sensörü ön ve arka park sensörü elektrikli arka perde yan protokol perdeler\n",
      "\n"
     ]
    },
    {
     "name": "stderr",
     "output_type": "stream",
     "text": [
      "\r",
      " 50%|████████████████████████████████████████                                        | 150/300 [03:11<03:40,  1.47s/it]"
     ]
    },
    {
     "name": "stdout",
     "output_type": "stream",
     "text": [
      "\" 2014 model bmw 5 . 25d xdrive m sport plus 1 . 6 motor 170 hp 8 ileri otomatik vites sunroof bej deri döşeme elektrikli hafızalı sürücü koltuğu elektrikli yolcu koltuğu geri görüş kamerası ön ve arka park sensörü elektrikli ısıtmalı katlanır aynalar çift yönlü dijital klima geri görüş kamerası bluetooth telefon bağlantısı usb aux girişi far sensörü yağmur sensörü park mesafe sensörü fonksiyonel m deri direksiyon simidi hill holder ( yokuş kalkış desteği ) usb aux cd mp3 çalar yol bilgisayarı lastik basınç sensörü yakıt tüketim göstergesi yol bilgisayarı ön ve arka kol dayama yağmur sensörü ısofıx çocuk koltuğu bağlantısı telefon bağlantısı masaj fonksiyonu ön ve arka kol dayama ısofıx ımmobılızer aluminyum alaşımlı jantlar elektrikli arka perde hava yastıkları ön yolcu koltuğunda doluluk sensörü elektirikli arka perde hava yastıkları alarm ımmobılızer elektrikli , ısıtmalı aynalar elektrikli , ısıtmalı aynalar elektrikli camlar uzaktan kumandalı merkezi kilit ön kol dayama arka kol dayama alarm ımmobılızer aluminyum alaşımlı jantlar elektrikli aynalar elektrikli camlar uzaktan kumandalı merkezi kilit ön kol dayama arka kol dayama arka kol dayama isofix iç ambians lambası akustik kemer uyarsı kararan dikiz aynası aux usb auto hold \"\n",
      "\n"
     ]
    },
    {
     "name": "stderr",
     "output_type": "stream",
     "text": [
      "\r",
      " 50%|████████████████████████████████████████▎                                       | 151/300 [03:13<04:12,  1.70s/it]"
     ]
    },
    {
     "name": "stdout",
     "output_type": "stream",
     "text": [
      "\" araç borusan çıkışlı olup , 2016 yılı trafiğe çıkmıştır . kaza , boya , değişen yoktur . 3 4 parça boya mevcuttur , değişen ve boyanan parçası yoktur . istediğiniz yere gösterebilirsiniz . \"\n",
      "\n"
     ]
    },
    {
     "name": "stderr",
     "output_type": "stream",
     "text": [
      "\r",
      " 51%|████████████████████████████████████████▌                                       | 152/300 [03:14<03:15,  1.32s/it]"
     ]
    },
    {
     "name": "stdout",
     "output_type": "stream",
     "text": [
      "\" araç borusan çıkışlı olup , borusan bakımlı olup , , , , , , , , , , , , , , , , , , , , , , , , , , , , , , , , , , , , , , , , , , , , , , , , , , , , , , , , , , , , , , , , , , , , , , , , , , , , , , , , , , , , , , , , , , , , , , , , , , , , , , , , , , , , , , , , , , , , , , , , , , , , , , , , , , , , , , , , , , , , , , , , , , , , , , , , , , , , , , , , , , , , , , , , , , , , , , , , , , , , , , , , , , , , , , , , , , , , , , , , , , , , , , , , , , , , , , , , , , , , , , , , , , , , , , , , , , , , , , , , , , , , , , , , , , , , , , , , , , , , , , , , , , , , , , , , , , , , , , , , , , , , , , , , , ,\n",
      "\n"
     ]
    },
    {
     "name": "stderr",
     "output_type": "stream",
     "text": [
      "\r",
      " 51%|████████████████████████████████████████▊                                       | 153/300 [03:17<04:26,  1.81s/it]"
     ]
    },
    {
     "name": "stdout",
     "output_type": "stream",
     "text": [
      "\" sahibinden satılık bmw 5 . 20i premium 170 hp dizel otomatik vites aracımız yetkili bayi çıkışlıdır . aracımız özel sipariş verilerek spor deri direksiyon simidi ön koltuklarda ısıtma sağ sol koltuk hafıza paketi ön koltuk ısıtma soğutma ön arka koltuk ısıtma soğutma ön arka koltuk masaj ön koltuklar ısıtma soğutma arka koltuk masaj fonksiyonu ön koltuk masaj fonksiyonu ön koltuk ısıtma paketi far yıkama ön arka park sensörü bi xenon farlar far yıkama sistemi otomatik klima ( ekranlı 2 bölge ) park mesafe kontrol ön arka bi xenon farlar yağmur sezicisi otomatik klima ( ekranlı 2 bölge ) fren fonksiyonlu cruıse control aydınlatma paketi bmw acil durum çağrısı bmw teleservıces türkçe ön panel gelişmiş gösterge paneli 7r3 akustik kemer uyarısı otomatik kapı kilit fonksiyonu adaptif süspansiyon comfort elekrikli kasko bedeli : 371 20 . 000tl kredi kullanım tutarı : 4 . 18 . 000 tl toplam tl anlaşmalı bankalar ile kredi imkanı bu aracın plakası : 34 000 tl 12 ay 0 faiz oranlı kredi tutarı : 130 . 000 tl banka taksit tutarı : 85 . 000 tl 48 ay toplam banka faiz tutarı : bu aracın kasko değeri : 000 . tl . 12 . yıkama sistemi tl . 12 . x tl 48 ay toplam banka faiz tutarı : 4 . yapan ilk sahibinden . com 420d x drive m sport 18 jantlar m sport jantlar elektrikli hafızalı koltuklar sürücü yolcu koltuğu elektrikli hafızalı sürücü koltuğu geri görüş kamerası bluetooth telefon bağlantısı soft close ( vakumlu kapılar ) elektrikli bagaj kapağı geri görüş kamerası elektrikli katlanır ayna elektrokrom iç ayna sesli uyarı sistemi yağmur sezici far sensörü far sensörü park mesafe sensörü lastik basınç sensörü yakıt tüketim göstergesi alüminyum iç trimler alüminyum iç trimler piano black trimler alüminyum iç trimler start & stop çift yönlü\n",
      "\n"
     ]
    },
    {
     "name": "stderr",
     "output_type": "stream",
     "text": [
      "\r",
      " 51%|█████████████████████████████████████████                                       | 154/300 [03:20<05:23,  2.22s/it]"
     ]
    },
    {
     "name": "stdout",
     "output_type": "stream",
     "text": [
      "\" araç borusan çıkışlı olup , ilk yardım çantası , orjinal değişen yok , boya , tramer kaydı yok , \"\n",
      "\n"
     ]
    },
    {
     "name": "stderr",
     "output_type": "stream",
     "text": [
      "\r",
      " 52%|█████████████████████████████████████████▎                                      | 155/300 [03:20<03:57,  1.64s/it]"
     ]
    },
    {
     "name": "stdout",
     "output_type": "stream",
     "text": [
      "\" araç borusan çıkışlı olup , borusan bakımlı , hayalet ekran , vakumlu kapılar , hayalet gösterge , vakumlu kapılar , elektrikli hafızalı sürücü koltuk , ısıtmalı koltuklar , elektrikli hafızalı sürücü koltuğu , elektrikli , hafızalı , ısıtmalı ön koltuklar , elektrikli arka perde , elektrikli direksiyon , elektrikli katlanır ayna , bi xenon far , far yıkama , bluetooth , aux , usb , servotronic direksiyon , elektrikli arka perde , elektrikli , hafızalı , ısıtmalı , elektrikli koltuklar , ısıtmalı ön koltuklar , elektrikli hafızalı sürücü koltuğu , elektrikli arka perde , elektrikli direksiyon , start & stop , anahtarsız çalıştırma , bi xenon farlar , far yıkama , far yıkama , ısıtmalı ön koltuklar , elektrikli hafızalı sürücü koltuğu , elektrikli katlanır ayna , anahtarsız çalıştırma , start stop , bluetooth , aux , servotronic direksiyon , start & stop , anahtarsız çalıştırma ışık paket , araç iniş , binişinde aydınlatma ön ve arka park yardım desteği , yan makam perdeleri , kararan iç dikiz aynası , abs , asr , esp , radyo cd çalar , otomatik kapı klit fonksiyonu ( kapılar açıkken araç hareket etmez ) patlamaz lastik yol bilgisayarı , lastik basınç sensörü , fonksiyonel spor deri direksiyon , ön kol dayama , arka park mesafe sensörü , türkçe ön panel ımmobılızer , aluminyum alaşımlı jantlar , elektrikli , ısıtmalı aynalar , elektrikli camlar , uzaktan kumandalı merkezi kilit , ön kol dayama , arka kol dayama , isofix mevcuttur . tramer kaydı yoktur . \"\n",
      "\n"
     ]
    },
    {
     "name": "stderr",
     "output_type": "stream",
     "text": [
      "\r",
      " 52%|█████████████████████████████████████████▌                                      | 156/300 [03:23<04:30,  1.88s/it]"
     ]
    },
    {
     "name": "stdout",
     "output_type": "stream",
     "text": [
      "\" 2016 bmw 5 . 25d xdrive premium borusan bayi çıkışlı dış renk : beyaz iç renk : bej deri koltuk ısıtma elektrikli direksiyon hafıza paketi koltuk ısıtma elektrikli hafızalı koltuk koltuk ısıtma elektrikli arka perde elektrikli arka perde yan makam perdeleri elektrikli arka perde elektrikli arka perde yan protokol perdeler elektrikli arka perde elektrikli arka perde elektrikli arka perde yan makam perdeleri elektrikli arka perde elektrikli katlanır aynalar elektrikli arka perde çift yönlü dijital klima katlanır ayna elektirikli ayarlanır yan aynalar ön arka park sensörü çift yönlü dijital klima yol bilgisayarı yağmur sensörü far sensörü far yıkama far sensörü yağmur sensörü ön arka park sensörü ön arka kol dayama aracımız da boya değişen hasar kaydı yoktur .\n",
      "\n"
     ]
    },
    {
     "name": "stderr",
     "output_type": "stream",
     "text": [
      "\r",
      " 52%|█████████████████████████████████████████▊                                      | 157/300 [03:24<04:05,  1.71s/it]"
     ]
    },
    {
     "name": "stdout",
     "output_type": "stream",
     "text": [
      "\" ​ bmw 5 . 20i premium borusan çıkışlı borusan bayi çıkışlı borusan bakımlı hayalet ekran vakumlu kapılar elektrikli bagaj hayalet ekran vakumlu kapılar sunroof elektrikli hafızalı koltuk elektrikli ısıtmalı hafızalı ön koltuklar elektrikli direksiyon ön arka kol dayama elektrikli direksiyon elektrikli arka perde elektrikli arka perde yan makam perdeleri geri görüş kamerası elektrikli arka perde elektrikli katlanır ayna geliştirilmiş gösterge paneli far yıkama yağmur sensörü ön arka park sensörü far sensörü sis farı far yıkama bluetooth usb aux bluetooth telefon bağlantısı hız sabitleyici cruise control ( hız sabitleme ) sis farı çelik jant park sensörü elektrikli katlanır aynalar far yağmur sensörü arka park sensörü bi xenon farlar far yıkama otomatik far sensörü yağmur sensörü ön arka park sensörü elektrikli arka perde elektrikli arka perde sis farı far yıkama sunroof sis farı çelik jant sis farı çelik jant sis farı çelik jant sis farı cd mp3 çalar usb aux giriş abs esp asr esp radyo cd mp3 çalar cd changer elektrikli ve ısıtmalı aynalar elektrikli arka perde elektrikli arka perde abs asr esp asr far sensörü yağmur sensörü ön arka park sensörü elektrikli arka perde yan makam perdeleri ön arka park sensörü yol bilgisayarı yağmur sensörü far sensörü otomatik kararan dikiz aynası elektrikli ısıtmalı aynalar elektrikli katlanır ayna far yağmur sensörü ön arka park sensörü elektrikli arka perde elektrikli yan aynalar ön arka park sensörü otomatik kararan dikiz aynası far sensörü yağmur sensörü far sensörü ön arka park sensörü elektrikli katlanır dış dikiz aynaları yağmur sensörü far sensörü ön ve arka park sensörü elektrikli arka perde yan makam perdeleri kararan dikiz aynası elektrikli yan aynalar far yağmur sensörü park mesafe sensörü geri görüş kamerası ön ve arka park sensörü yağmur sensörü far sensörü ön ve arka park sensörü elektrikli ısıtmalı aynalar ön arka park sensörü far sensörü sis farı\n",
      "\n"
     ]
    },
    {
     "name": "stderr",
     "output_type": "stream",
     "text": [
      "\r",
      " 53%|██████████████████████████████████████████▏                                     | 158/300 [03:28<05:23,  2.28s/it]"
     ]
    },
    {
     "name": "stdout",
     "output_type": "stream",
     "text": [
      "\" araç ilk sahibinden olup , değişen ve hasar kaydı yoktur . araç borusan çıkışlıdır . aracın ilk günkü temizliğinde olup olup herhangi bir masrafı yoktur . aracın yedek anahtarı vardır . aracın rengi beyaz içi bej deridir . en ufak bir deforme yoktur . tüm bakımları yapılmıştır . muayenesi yenidir . muayenesi yenidir . alıcısına hayırlı olsun . \"\n",
      "\n"
     ]
    },
    {
     "name": "stderr",
     "output_type": "stream",
     "text": [
      "\r",
      " 53%|██████████████████████████████████████████▍                                     | 159/300 [03:28<04:15,  1.81s/it]"
     ]
    },
    {
     "name": "stdout",
     "output_type": "stream",
     "text": [
      "\" 2017 bmw 4 . 18i gran coupe sport plus hatasız boyasız değişensiz hasar kayıtsız ( tramer ) borusan çıkışlı orjinal km de sıfırdan farksız borusan bakımlı hatasız boyasız tramersiz sunroof deri döşeme geri görüş kamerası ön arka park sensörü elektrikli ısıtmalı katlanır ayna ön arka park sensörü far sensörü yağmur sensörü far sensörü ön arka park sensörü ön arka kol dayama ön arka park sensörü far sensörü yağmur sensörü ön arka park sensörü elektrikli fonksiyonel deri direksiyon simidi ön kol dayama arka kol dayama isofix\n",
      "\n"
     ]
    },
    {
     "name": "stderr",
     "output_type": "stream",
     "text": [
      "\r",
      " 53%|██████████████████████████████████████████▋                                     | 160/300 [03:29<03:40,  1.57s/it]"
     ]
    },
    {
     "name": "stdout",
     "output_type": "stream",
     "text": [
      "\" araç kosifler çıkışlıdır . aracın tüm bakımları yapılmıştır . muayenesi yenidir . lastikleri iyi durumdadır . muayenesi yenidir . muayenesi 2020 yılına kadar vardır . aracın 2 . sahibiyim . 2 . sahibiyim . araç . şanzuman ve yağı , filtreler yeni değişmiştir . alan kişi masraf yapmadan kullanacaktır . aracımızda sağ ön çamurluk ve kaput ön tampon değişti . sol arka çamurluk ve ön kaput ucu lokal boya mevcuttur . tramer kaydı yoktur . \"\n",
      "\n"
     ]
    },
    {
     "name": "stderr",
     "output_type": "stream",
     "text": [
      "\r",
      " 54%|██████████████████████████████████████████▉                                     | 161/300 [03:30<03:12,  1.38s/it]"
     ]
    },
    {
     "name": "stdout",
     "output_type": "stream",
     "text": [
      "\" aracımız borusan çıkışlı olup , servis bakımlıdır . tüm bakımları yetkili serviste yapılmıştır . aracımız servis bakımlıdır . en full modelidir . aracımızın motoru , yürürü motoru , yürüyeni , şanzumanı kusursuzdur . lastikleri iyi durumdadır . muayenesi yeni yapılmıştır . aracın yedek anahtarı mevcuttur .\n",
      "\n"
     ]
    },
    {
     "name": "stderr",
     "output_type": "stream",
     "text": [
      "\r",
      " 54%|███████████████████████████████████████████▏                                    | 162/300 [03:31<02:36,  1.13s/it]"
     ]
    },
    {
     "name": "stdout",
     "output_type": "stream",
     "text": [
      "\" araç borusan bayi çıkışlıdır . araç borusan çıkışlı olup , orjinal km dedir . servis bakımlıdır . içi dışı tertemiz deforme yoktur . aracın tüm bakımları yapılmıştır . muayenesi mevcuttur . aracın üzerinde 4 adet kışlık lastik vardır . aracın yedek anahtarı ve kitapçıkları mevcuttur . araç özellikleri ; sunroof hayalet ekran vakumlu kapılar elektrikli bagaj hafızalı koltuk elektrikli direksiyon ön ve arka park sensörü elektrikli bagaj direksiyon ısıtma elektrikli arka perde elektrikli arka perde bluetooth telefon hazırlık sis farı 4 farklı sürüş modu eco comfort sport sürüş modları auto hold yokuş kalkış desteği yağmur sensörü far sensörü ön arka park sensörü geri görüş kamerası çelik jant sis farı far yıkama sunroof led sis farı cd çalar yol bilgisayarı fonksiyonel direksiyon elektrikli katlanır ayna yağmur far sensörü ön arka park sensörü elektrikli katlanır ayna far ve yağmur sensörü ışık paket 4 cam otomatik sunroof elektrikli bagaj kapağı bluetooth telefon hazırlık sis farı far gece sensörü park sensörü yağmur sensörü ön ve arka park sensörü yakıt tüketim göstergesi otomatik kararan iç dikiz aynası ısofix\n",
      "\n"
     ]
    },
    {
     "name": "stderr",
     "output_type": "stream",
     "text": [
      "\r",
      " 54%|███████████████████████████████████████████▍                                    | 163/300 [03:33<03:02,  1.33s/it]"
     ]
    },
    {
     "name": "stdout",
     "output_type": "stream",
     "text": [
      "\" bmw 5 . 20i premium bayi çıkışlı dış renk sedefli beyaz vakumlu kapılar hayalet ekran vakumlu kapılar elektrikli bagaj hayalet ekran vakumlu kapılar elektrikli bagaj hayalet ekran vakumlu kapılar elektrikli bagaj kapağı geri görüş kamerası bej deri döşeme elektrikli katlanır aynalar çift yönlü dijital klima anahtarsız çalıştırma start stop eco comfort sport sport plus sürüş modları far ve yağmur sensörü ön ve arka park sensörü far yıkama ön arka park sensörü far gece sensörü park sensörü yağmur sensörü far sensörü sis farı çelik jant sis farı ışık paket usb aux bluetooth telefon bağlantısı fonksiyonel deri direksiyon yol bilgisayarı fonksiyonel direksiyon elektrikli arka perde elektrikli arka perde yan makam perdeleri arka perde sis farı abs asr esp asr start stop hız sabitleyici bluetooth telefon elektrikli katlanır aynalar ön arka park sensörü geri görüş kamerası usb aux bluetooth telefon baglantısı radyo cd mp3 çalar cd çalar usb aux giriş abs esp asr start stop yol bilgisayarı fonksiyonel deri direksiyon bluetooth aux usb girişi bluetooth telefon bağlantısı cd changer aux ın usb girişi abs asr esp yol bilgisayarı yağmur sensörü far sensörü start stop ön arka kol dayama sis farı çelik jant sis farı çelik jant sis farı çelik jant sis farı alaşımlı çelik jant sis farı çelik jant sis farı far yıkama ışık paket cd çalar usb aux bluetooth telefon bağlantısı park sensörü geri görüş kamerası fonksiyonel direksiyon m deri direksiyon simidi yükseklik ayarlı direksiyon hafızalı koltuk elektrikli ön koltuklar elektrikli arka perde yan makam perdeleri kararan dikiz aynası elektrikli arka perde yan makam perdeleri elektrikli arka perde bluetooth telefon hazırlık sis farı alaşımlı jantlar ön ve arka park sensörü far sensörü yağmur sensörü far yıkama sis farı çelik jantlar vs . vs . vs . vs . vs . vs . vs . vs . vs . vs .\n",
      "\n"
     ]
    },
    {
     "name": "stderr",
     "output_type": "stream",
     "text": [
      "\r",
      " 55%|███████████████████████████████████████████▋                                    | 164/300 [03:36<04:02,  1.79s/it]"
     ]
    },
    {
     "name": "stdout",
     "output_type": "stream",
     "text": [
      "\" araç borusan çıkışlı olup , borusan bakımlıdır . km kesinlikle orjinaldir . boya değişen yoktur . tramer kaydı yoktur . araç yetkili servis bakımlıdır . bakımları yeni yapılmıştır .\n",
      "\n"
     ]
    },
    {
     "name": "stderr",
     "output_type": "stream",
     "text": [
      "\r",
      " 55%|████████████████████████████████████████████                                    | 165/300 [03:36<03:00,  1.34s/it]"
     ]
    },
    {
     "name": "stdout",
     "output_type": "stream",
     "text": [
      "\" araç borusan çıkışlı olup , tüm bakımları yetkili serviste yapılmıştır . araç ilk sahibinden olup , servis bakımlıdır . bakımları yeni yapılmıştır . muayenesi yeni yapılmıştır . orjinal iç dış m paket olup . m sport süspansiyon iptali m sport ön tampon m sport ön tampon m sport ön tampon m marşbiyel , 18 m sport jantlar , m ön tampon , m marşbiyel , 18 m jant , m tampon , m , m ön tampon , m marşbiyel , 18 m jant , m direksiyon , m paket , elektrikli bagaj , hafızalı sürücü koltuğu , elektrikli , ısıtmalı , hafızalı , elektrikli koltuklar , elektrikli arka perde , elektrikli katlanır ayna , elektrikli , hafızalı , ısıtmalı , koltuklar , ısıtmalı ön koltuklar , elektrikli arka perde , elektrikli arka perde , elektrikli direksiyon , hafızalı koltuklar , elektrikli direksiyon , elektrikli katlanır ayna , ön ve arka park sensörü , kararan iç dikiz aynası , bmw connected drive , uzaktan kumandalı bagaj , hız sabitleyici , ısıtmalı , hafızalı , elektrikli ön koltuklar , elektrikli arka perde , elektrikli arka perde , elektrikli katlanır ayna , far yıkama , far sensörü , yağmur sensörü , araç iniş , binişinde aydınlatma ön ve arka park sensörü , far sensörü , yağmur sensörü , kararan iç dikiz aynası , fonksiyonel deri direksiyon , far yıkama , far , yağmur sensörü , ön arka park sensörü , lastik basınç sensörü , kararan iç dikiz aynası , abs , asr , esp , alarm , ımmobılızer , elektrikli , ısıtmalı aynalar , elektrikli camlar , uzaktan kumandalı merkezi kilit , ön kol dayama , arka kol dayama , isofix mevcuttur . \"\n",
      "\n"
     ]
    },
    {
     "name": "stderr",
     "output_type": "stream",
     "text": [
      "\r",
      " 55%|████████████████████████████████████████████▎                                   | 166/300 [03:39<03:55,  1.76s/it]"
     ]
    },
    {
     "name": "stdout",
     "output_type": "stream",
     "text": [
      "\" aracım borusan çıkışlı olup , ilk sahibi , vakum , hayalet , , , , , , , , , , , , , , , , , , , , , , , , , , , , , , , , , , , , , , , , , , , , , , , , , , , , , , , , , , , , , , , , , , , , , , , , , , , , , , , , , , , , , , , , , , , , , , , , , , , , , , , , , , , , , , , , , , , , , , , , , , , , , , , , , , , , , , , , , , , , , , , , , , , , , , , , , , , , , , , , , , , , , , , , , , , , , , , , , , , , , , , , , , , , , , , , , , , , , , , , , , , , , , , , , , , , , , , , , , , , , , , , , , , , , , , , , , , , , , , , , , , , , , , , , , , , , , , , , , , , , , , , , , , , , , , , , , , , , , , , , , , , , , ,\n",
      "\n"
     ]
    },
    {
     "name": "stderr",
     "output_type": "stream",
     "text": [
      "\r",
      " 56%|████████████████████████████████████████████▌                                   | 167/300 [03:42<04:40,  2.11s/it]"
     ]
    },
    {
     "name": "stdout",
     "output_type": "stream",
     "text": [
      "\" araç borusan çıkışlı olup , ilk sahibi , 2016 yılı çıkışlı , dış renk beyaz iç dış m paket , spor deri , recaro , hafızalı , bel şişirmeli ve ısıtmalı koltuklar , elektrikli ve hafızalı sürücü koltuğu , elektrikli yolcu koltuğu , hafızalı ve ısıtmalı ön koltuklar , elektrikli arka perde , yan makam perdeleri , elektrikli arka perde , elektrikli arka perde , elektrikli hafızalı koltuklar , bluetooth , aux , usb , servotronic direksiyon , start & stop , anahtarsız çalıştırma , start stop , anahtarsız çalıştırma , ışık paketi , yokuş kalkış desteği , hız sabitleyici , ısıtmalı , hafızalı , elektrikli ön koltuklar , elektrikli , hafızalı ve ısıtmalı ön koltuklar , elektrikli direksiyon , elektrikli arka perde , yan makam perdeleri , elektrikli direksiyon , hafızalı , elektrikli ve ısıtmalı ön koltuklar , elektrikli arka perde , yan makam perdeleri , elektrikli arka perde , elektrikli katlanır aynalar , elektronik park freni , araç iniş , binişinde aydınlatma sis farı , yağmur sensörü , kararan iç dikiz aynası , otomatik far sensörü , gelişmiş gösterge paneli , abs , asr , esp , radyo cd çalar , otomatik kapı klit fonksiyonu ( kapılar açıkken araç hareket etmez ) patlamaz lastik yol bilgisayarı , lastik basınç sensörü , otomatik far sensörü , yukseklik ayarlı sürücü ve yolcu koltuğu ayarlanabilir direksiyon arka park mesafe sensörü , türkçe ön panel ımmobılızer , aluminyum alaşımlı jantlar , elektrikli , ısıtmalı aynalar , elektrikli camlar , uzaktan kumandalı merkezi kilit , ön kol dayama , arka kol dayama , isofix mevcuttur . \"\n",
      "\n"
     ]
    },
    {
     "name": "stderr",
     "output_type": "stream",
     "text": [
      "\r",
      " 56%|████████████████████████████████████████████▊                                   | 168/300 [03:44<04:55,  2.24s/it]"
     ]
    },
    {
     "name": "stdout",
     "output_type": "stream",
     "text": [
      "\" araç borusan çıkışlı olup , bakımlı , masrafsız , , , , , , , , , , , , , , , , , , , , , , , , , , , , , , , , , , , , , , , , , , , , , , , , , , , , , , , , , , , , , , , , , , , , , , , , , , , , , , , , , , , , , , , , , , , , , , , , , , , , , , , , , , , , , , , , , , , , , , , , , , , , , , , , , , , , , , , , , , , , , , , , , , , , , , , , , , , , , , , , , , , , , , , , , , , , , , , , , , , , , , , , , , , , , , , , , , , , , , , , , , , , , , , , , , , , , , , , , , , , , , , , , , , , , , , , , , , , , , , , , , , , , , , , , , , , , , , , , , , , , , , , , , , , , , , , , , , , , , , , , , , , , , , , , ,\n",
      "\n"
     ]
    },
    {
     "name": "stderr",
     "output_type": "stream",
     "text": [
      "\r",
      " 56%|█████████████████████████████████████████████                                   | 169/300 [03:47<05:28,  2.51s/it]"
     ]
    },
    {
     "name": "stdout",
     "output_type": "stream",
     "text": [
      "\" ​ ​ ​ ​ aracımız yetkili bayii bayii çıkışlıdır . aracımız yetkili servis bakımlıdır . bakımları yeni yapılmıştır .\n",
      "\n"
     ]
    },
    {
     "name": "stderr",
     "output_type": "stream",
     "text": [
      "\r",
      " 57%|█████████████████████████████████████████████▎                                  | 170/300 [03:47<03:58,  1.84s/it]"
     ]
    },
    {
     "name": "stdout",
     "output_type": "stream",
     "text": [
      "\" ​ ​ ​ ​ ​ satış ve fiyatı uygulaması 2 . el taşıt kredi imkanı 2012 model bmw 5 . 25 d x drive premium borusan çıkışlı 218 hp borusan bayi çıkışlı borusan bakımlı hayalet gösterge vakumlu kapılar elektrikli bagaj hayalet ekran vakumlu kapılar elektrikli bagaj hayalet ekran vakumlu kapılar elektrikli bagaj hayalet ekran vakumlu kapılar geri görüş kamerası elektrikli direksiyon elektrikli bagaj kapağı geri görüş kamerası vakumlu kapılar elektrikli bagaj kapağı elektrikli arka perde bi xenon farlar elektrikli katlanır aynalar elektrikli arka perde elektrikli katlanır ayna çift yönlü dijital klima geri görüş kamerası ön ve arka park sensörü far sensörü yağmur sensörü far sensörü ön arka park sensörü sis farı alaşımlı çelik jantlar elektrikli arka perde bluetooth aux usb cd mp3 çalar çelik jant sis farı çelik jant sis farı çelik jant sis farı park sensörü yağmur sensörü far sensörü kararan dikiz aynası fonksiyonel deri direksiyon elektrikli arka perde elektrikli arka perde sis farı cd mp3 calar park sensörü hız sabitleyici star stop anahtarsız çalıştırma eco comfort sport sürüş modu vs vs vs vs vs vs vs vs vs vs vs vs vs vs vs vs vs vs vs vs vs vs vs vs vs vs yoktur\n",
      "\n"
     ]
    },
    {
     "name": "stderr",
     "output_type": "stream",
     "text": [
      "\r",
      " 57%|█████████████████████████████████████████████▌                                  | 171/300 [03:49<04:00,  1.86s/it]"
     ]
    },
    {
     "name": "stdout",
     "output_type": "stream",
     "text": [
      "\" araç model bilgisi ; araç borusan çıkışlı olup , bakımlı olup , , , , , , , , , , , , , , , , , , , , , , , , , , , , , , , , , , , , , , , , , , , , , , , , , , , , , , , , , , , , , , , , , , , , , , , , , , , , , , , , , , , , , , , , , , , , , , , , , , , , , , , , , , , , , , , , , , , , , , , , , , , , , , , , , , , , , , , , , , , , , , , , , , , , , , , , , , , , , , , , , , , , , , , , , , , , , , , , , , , , , , , , , , , , , , , , , , , , , , , , , , , , , , , , , , , , , , , , , , , , , , , , , , , , , , , , , , , , , , , , , , , , , , , , , , , , , , , , , , , , , , , , , , , , , , , , , , , , , , , , , , , , , , ,\n",
      "\n"
     ]
    },
    {
     "name": "stderr",
     "output_type": "stream",
     "text": [
      "\r",
      " 57%|█████████████████████████████████████████████▊                                  | 172/300 [03:52<04:37,  2.16s/it]"
     ]
    },
    {
     "name": "stdout",
     "output_type": "stream",
     "text": [
      "\" araç model bilgisi ; bmw 5 . 20i executıve m sport plus hatasız boyasız hasar kaydı : yok . donanım metalik siyah safir dakota deri döşeme türkiye paketi otomatik şanzıman 8 ileri servotronıc çok fonksiyonlu direksiyon gelişmiş gösterge paneli servotronik direksiyon otomatik şanzıman 8 ileri elektrikli cam tavan , bagaj kapağı , soft close ( vakumlu ) kapılar ( busıness paket ) otomatik şanzıman ( 8 ileri ) f1 vites ( cruise control ) bmw connected drive ( uzaktan kontrol edilebilir ) bmw connected drive ( uzaktan kontrol edilebilir ) bmw connected drive ( bmw acil durum çağrısı ) bmw teleservıces bmw acil durum çağrısı bmw teleservıces geliştirilmiş gösterge paneli iç dış ışık paketi iç dış ışık paketi kapı kolu aydınlatma kapı kolu aydınlatma otomatik kararan iç dikiz aynası bluetooth aux usb bluetooth telefon hazırlık sis farı alaşımlı jantlar bluetooth aux usb girişi bluetooth telefon bağlantısı aux ın usb girişi hız sabitleyici ön ve arka kol dayama ısofıx 18 m sport jantlar vs . vs . aracımız yetkili bayii olup bakımlıdır . yedek anahtarı mevcuttur . \"\n",
      "\n"
     ]
    },
    {
     "name": "stderr",
     "output_type": "stream",
     "text": [
      "\r",
      " 58%|██████████████████████████████████████████████▏                                 | 173/300 [03:54<04:17,  2.03s/it]"
     ]
    },
    {
     "name": "stdout",
     "output_type": "stream",
     "text": [
      "\" araç , borusan çıkışlı olup , 2013 model yılı dış m paket , borusan çıkışlı , borusan bakımlı , hayalet gösterge , vakumlu kapılar , elektrikli hafızalı koltuk , elektrikli hafızalı sürücü koltuğu , elektrikli hafızalı sürücü koltuğu , elektrikli ön koltuklar , ısıtmalı ön koltuklar , elektrikli arka perde , elektrikli katlanır ayna , bi xenon far , far yıkama , bluetooth , aux , servotronic direksiyon , start & stop , anahtarsız çalıştırma , ışık paket , anahtarsız çalıştırma , start & stop , stop , anahtarsız çalıştırma ışık paketi , sis farı , yağmur sensörü , kararan iç dikiz aynası , far sensörü , gelişmiş gösterge , fonksiyonel direksiyon , far yıkama , led sis farı , yağmur sensörü , far sensörü , kararan iç dikiz aynası , abs , asr , esp , asr , esp , radyo cd mp3 çalar , yol bilgisayarı , fonksiyonel direksiyon , far sensörü , yağmur sensörü , ön arka park sensörü , fonksiyonel direksiyon , arka cam dahil film , camlar , elektrikli , ısıtmalı aynalar , elektrikli aynalar , ısıtmalı , soğutmalı ön koltuklar , arka kol dayama , isofix mevcuttur . \"\n",
      "\n"
     ]
    },
    {
     "name": "stderr",
     "output_type": "stream",
     "text": [
      "\r",
      " 58%|██████████████████████████████████████████████▍                                 | 174/300 [03:56<04:10,  1.99s/it]"
     ]
    },
    {
     "name": "stdout",
     "output_type": "stream",
     "text": [
      "\" aracım borusan çıkışlı olup , orjinal m sport , comfort , paket , sunroof , , , , , , , , , , , , , , , , , , , , , , , , , , , , , , , , , , , , , , , , , , , , , , , , , , , , , , , , , , , , , , , , , , , , , , , , , , , , , , , , , , , , , , , , , , , , , , , , , , , , , , , , , , , , , , , , , , , , , , , , , , , , , , , , , , , , , , , , , , , , , , , , , , , , , , , , , , , , , , , , , , , , , , , , , , , , , , , , , , , , , , , , , , , , , , , , , , , , , , , , , , , , , , , , , , , , , , , , , , , , , , , , , , , , , , , , , , , , , , , , , , , , , , , , , , , , , , , , , , , , , , , , , , , , , , , , , , , , , , , , , , , ,\n",
      "\n"
     ]
    },
    {
     "name": "stderr",
     "output_type": "stream",
     "text": [
      "\r",
      " 58%|██████████████████████████████████████████████▋                                 | 175/300 [03:59<04:51,  2.33s/it]"
     ]
    },
    {
     "name": "stdout",
     "output_type": "stream",
     "text": [
      "\" araç model bilgisi ; bmw 5 . 20i premium otomatik vites aracımız yetkili servis bakımlıdır . boya değişen yoktur . sadece sağ ön kapı ve sağ ön çamurluk boya ve ön kaput değişmiştir . araç fazlalığından dolayı satılıktır . alıcısına şimdiden hayırlı olsun . \"\n",
      "\n"
     ]
    },
    {
     "name": "stderr",
     "output_type": "stream",
     "text": [
      "\r",
      " 59%|██████████████████████████████████████████████▉                                 | 176/300 [04:00<03:43,  1.81s/it]"
     ]
    },
    {
     "name": "stdout",
     "output_type": "stream",
     "text": [
      "\" 2012 model bmw 5 . 25d xdrive m sport plus sunroof bi xenon farlar far sensörü yağmur sensörü far sensörü büyük ekran geri görüş kamerası usb aux girişi bluetooth telefon bağlantısı usb aux bağlantısı park mesafe kontrol ön arka kol dayama katlanır arka dikiz aynası aynaları elektrikli arka perde elektrikli yan perde hava yastıkları run flat lastikler\n",
      "\n"
     ]
    },
    {
     "name": "stderr",
     "output_type": "stream",
     "text": [
      "\r",
      " 59%|███████████████████████████████████████████████▏                                | 177/300 [04:00<03:01,  1.47s/it]"
     ]
    },
    {
     "name": "stdout",
     "output_type": "stream",
     "text": [
      "\" araç model bilgisi ; bmw 5 . 20i premium otomatik vites sunroof ( açılır cam tavan ) bi xenon farlar led gündüz farları geri görüş kamerası elektrikli arka perde elektrikli arka perde elektrikli hafızalı ısıtmalı katlanır ayna yağmur sensörü far sensörü ön arka park sensörü elektrikli katlanır ayna far sensörü yağmur sensörü far sensörü ön arka park sensörü ön arka kol dayama\n",
      "\n"
     ]
    },
    {
     "name": "stderr",
     "output_type": "stream",
     "text": [
      "\r",
      " 59%|███████████████████████████████████████████████▍                                | 178/300 [04:01<02:31,  1.24s/it]"
     ]
    },
    {
     "name": "stdout",
     "output_type": "stream",
     "text": [
      "\" aracımız temiz ve bakımlı bir araçtır . 4 lastik yeni masrafsız . araç fazlalığından satılıktır .\n",
      "\n"
     ]
    },
    {
     "name": "stderr",
     "output_type": "stream",
     "text": [
      "\r",
      " 60%|███████████████████████████████████████████████▋                                | 179/300 [04:01<01:52,  1.07it/s]"
     ]
    },
    {
     "name": "stdout",
     "output_type": "stream",
     "text": [
      "\" 2014 model bmw 5 . 20i premium 170 hp borusan çıkışlı sunroof bej deri döşeme elektrikli hafızalı sürücü koltuğu elektrikli yolcu koltuğu ısıtmalı ön koltuklar geri görüş kamerası elektrikli hafızalı sürücü koltuğu elektrikli yolcu koltuğu ısıtmalı ön koltuklar elektrikli direksiyon ayarı elektrikli arka perde elektrikli yan ve arka perdeler elektrikli katlanır aynalar elektrokrom iç ve dış aynalar elektrikli arka perde elektrokrom iç ve dış aynalar ön ve arka park mesafe kontrol ön arka far yıkama sistemi far sensörü yağmur sensörü park mesafe sensörü yağmur sensörü , araç bilgileri ; takip asistanı park sensörü yağmur sezici otomatik far sensörü far sensörü sis farı çelik jantlar vs vs vs vs vs vs vs vs vs vs vs \"\n",
      "\n"
     ]
    },
    {
     "name": "stderr",
     "output_type": "stream",
     "text": [
      "\r",
      " 60%|████████████████████████████████████████████████                                | 180/300 [04:02<01:58,  1.01it/s]"
     ]
    },
    {
     "name": "stdout",
     "output_type": "stream",
     "text": [
      "\" aracım temiz ve bakımlıdır . bakımları yeni yapılmıştır . araç borusan çıkışlı olup , ilk yardım çantası , orjinal m sport , comfort , sport , sport , sürüş modları , , m paket , sunroof , deri döşeme , elektrikli direksiyon , hafızalı sürücü koltuğu , elektrikli , ısıtmalı , hafızalı , hafızalı , elektrikli , ısıtmalı , katlanır , hafızalı , ısıtmalı , soğutmalı koltuklar , elektrikli direksiyon , ön arka park sensörü , geri görüş kamerası , ön ve arka park sensörü , geri görüş kamerası , far sensörü , yağmur sensörü , far sensörü , ön arka park sensörü , sis farı , yağmur sensörü , kararan dikiz aynası , far yıkama , far sensörü , yağmur sensörü , ön arka park sensörü , sis farı , çelik jant , sis farı , yağmur sensörü , far sensörü , ışık paket , cd çalar , , , , , , , , aux , usb , bluetooth , , , , , , , , , , , , , , , , , , , , , , , , , , , , , , , , , , , , , , , , , , , , , , , , , , , , , , , , , , , , , , , , , , , , , , , , , , , , , , , , , , , , , , , , , , , , , , , , , , , , , , , , , , , , , , , , , , , , , , , , , , , , , , , , , , , , , , , , ,\n",
      "\n"
     ]
    },
    {
     "name": "stderr",
     "output_type": "stream",
     "text": [
      "\r",
      " 60%|████████████████████████████████████████████████▎                               | 181/300 [04:05<03:05,  1.56s/it]"
     ]
    },
    {
     "name": "stdout",
     "output_type": "stream",
     "text": [
      "\" araç borusan çıkışlı olup , borusan bayi çıkışlıdır . herhangi bir problemi yoktur . aracın tüm bakımları yapılmıştır . muayenesi yeni yapılmıştır . orijinal jant lastik yenidir . araç 2 . 000 km de olup , aracın tüm bakımları yapılmıştır . aracın tüm bakımları yapılmıştır . yeni yapılmıştır . araç başında pazarlık payı vardır . \"\n",
      "\n"
     ]
    },
    {
     "name": "stderr",
     "output_type": "stream",
     "text": [
      "\r",
      " 61%|████████████████████████████████████████████████▌                               | 182/300 [04:06<02:28,  1.26s/it]"
     ]
    },
    {
     "name": "stdout",
     "output_type": "stream",
     "text": [
      "\" araç model bilgisi ; bmw 5 serisi gran coupe 4 . 18i sport plus 1 . 6 motor 170 hp dış renk : siyah iç renk : bej deri döşeme : deri donanımlar hayalet gösterge vakumlu kapılar sunroof ısıtmalı ön koltuklar hafızalı koltuk ön koltuk ısıtma elektrikli hafızalı koltuk elektrikli direksiyon ön koltuk ısıtma elektrikli arka perde geri görüş kamerası hafızalı şöför koltuğu elektrikli yolcu koltuğu ısıtmalı ön koltuklar elektrikli katlanır aynalar bi xenon farlar far yıkama sistemi yağmur sensörü ön arka park sensörü geri görüş kamerası bluetooth aux usb cd mp3 çalar detaylı bilgi için arayınız\n",
      "\n"
     ]
    },
    {
     "name": "stderr",
     "output_type": "stream",
     "text": [
      "\r",
      " 61%|████████████████████████████████████████████████▊                               | 183/300 [04:07<02:16,  1.17s/it]"
     ]
    },
    {
     "name": "stdout",
     "output_type": "stream",
     "text": [
      "\" 2014 model bmw 5 . 25d xdrive m sport plus 1 . 6 motor 170 hp 8 ileri otomatik vites sunroof deri döşeme koltuklar elektrikli perde koltuk ısıtma elektrikli hafızalı koltuk elektrikli katlanır ayna geri görüş kamerası ön arka park sensörü geri görüş kamerası ön arka park sensörü far yıkama katlanır ayna ön arka park sensörü arka kol dayama far sensörü yağmur sensörü elektrikli katlanır ayna elektrikli camlar uzaktan kumandalı merkezi kilit ön kol dayama isofix aracın tüm bakımları borusanda yapılmıştır aracın tüm bakımları yapılmıştır aracın tüm bakımları yapılmıştır aracın yedek anahtarı ve kitapçıkları mevcuttur aracın muayenesı yeni yapılmıştır aracın yedek anahtarı vardır aracın tüm bakımları yapılmıştır aracın bütün bakımları yapılmıştır aracın tüm bakımları yapılmıştır aracın içi dışı sıfır ayarındadır aracımız da boya ve değişen yoktur . tramer kaydı yoktur .\n",
      "\n"
     ]
    },
    {
     "name": "stderr",
     "output_type": "stream",
     "text": [
      "\r",
      " 61%|█████████████████████████████████████████████████                               | 184/300 [04:08<02:19,  1.20s/it]"
     ]
    },
    {
     "name": "stdout",
     "output_type": "stream",
     "text": [
      "\" araç bmw 5 . 20i premium 170 hp dış renk : beyaz iç renk : bej deri döşeme : sunroof bi xenon far far yıkama far yağmur sensörü park sensörü ön arka kol dayama bluetooth telefon usb aux hafızalı sürücü koltuğu elektrikli yolcu koltuğu elektrikli yolcu koltuğu ısıtmalı ön koltuklar hafızalı sürücü koltuğu elektrikli yolcu koltuğu elektrikli arka perde elektrikli arka perde bi xenon farlar far yıkama far ve yağmur sensörü ön arka park sensörü hız sabitleyici elektrikli katlanır yan aynalar elektrikli arka perde yan makam perdeleri elektrikli arka perde elektrikli katlanır ayna yağmur sensörü far sensörü ön arka park sensörü elektrikli arka perde elektrikli katlanır ayna elektrokrom iç ayna yağmur sensörü far sensörü park mesafe sensörü ön ve arka kol dayama bardaklıklar aydınlatmalı makyaj aynaları alaşım jantlar vs . vs . vs vs vs vs vs vs vs vs vs vs vs vs vs vs vs vs aracımız istenilen yere gösterilebilir her türlü zarar tarafımızdan karşılanacaktır\n",
      "\n"
     ]
    },
    {
     "name": "stderr",
     "output_type": "stream",
     "text": [
      "\r",
      " 62%|█████████████████████████████████████████████████▎                              | 185/300 [04:10<02:29,  1.30s/it]"
     ]
    },
    {
     "name": "stdout",
     "output_type": "stream",
     "text": [
      "\" araç borusan çıkışlı olup , orjinal km de , orjinal m sport , plus , , , , , , , , , , , , , , , , , , , , , , , , , , , , , , , , , , , , , , , , , , , , , , , , , , , , , , , , , , , , , , , , , , , , , , , , , , , , , , , , , , , , , , , , , , , , , , , , , , , , , , , , , , , , , , , , , , , , , , , , , , , , , , , , , , , , , , , , , , , , , , , , , , , , , , , , , , , , , , , , , , , , , , , , , , , , , , , , , , , , , , , , , , , , , , , , , , , , , , , , , , , , , , , , , , , , , , , , , , , , , , , , , , , , , , , , , , , , , , , , , , , , , , , , , , , , , , , , , , , , , , , , , , , , , , , , , , , , , , , , , , , ,\n",
      "\n"
     ]
    },
    {
     "name": "stderr",
     "output_type": "stream",
     "text": [
      "\r",
      " 62%|█████████████████████████████████████████████████▌                              | 186/300 [04:13<03:31,  1.86s/it]"
     ]
    },
    {
     "name": "stdout",
     "output_type": "stream",
     "text": [
      "\" araçta değişen ve boya yoktur . araç ilk sahibinden olup , değişen veya boyanan parçası yoktur . sadece sağ ön çamurluk ve kaput lokal boyalı . hasar kaydı yoktur . \"\n",
      "\n"
     ]
    },
    {
     "name": "stderr",
     "output_type": "stream",
     "text": [
      "\r",
      " 62%|█████████████████████████████████████████████████▊                              | 187/300 [04:13<02:41,  1.43s/it]"
     ]
    },
    {
     "name": "stdout",
     "output_type": "stream",
     "text": [
      "\" araç borusan çıkışlı olup , borusan bakımlı olup , ilk yardım çantası , sos , , , , , , , , , , , , , , , , , , , , , , , , , , , , , , , , , , , , , , , , , , , , , , , , , , , , , , , , , , , , , , , , , , , , , , , , , , , , , , , , , , , , , , , , , , , , , , , , , , , , , , , , , , , , , , , , , , , , , , , , , , , , , , , , , , , , , , , , , , , , , , , , , , , , , , , , , , , , , , , , , , , , , , , , , , , , , , , , , , , , , , , , , , , , , , , , , , , , , , , , , , , , , , , , , , , , , , , , , , , , , , , , , , , , , , , , , , , , , , , , , , , , , , , , , , , , , , , , , , , , , , , , , , , , , , , , , , , , , , , , , , , ,\n",
      "\n"
     ]
    },
    {
     "name": "stderr",
     "output_type": "stream",
     "text": [
      "\r",
      " 63%|██████████████████████████████████████████████████▏                             | 188/300 [04:17<03:49,  2.05s/it]"
     ]
    },
    {
     "name": "stdout",
     "output_type": "stream",
     "text": [
      "\" 2014 model bmw 5 . 25d xdrive premium dış renk : beyaz iç renk : bej deri döşeme : sunroof bi xenon farlar ön arka park mesafe kontrol ön arka park mesafe kontrol ön arka bi xenon farlar far yıkama sistemi far sensörü yağmur sensörü ön arka park mesafe sensörü ön arka sis farı far sensörü yağmur sensörü park sensörü usb aux girişi bluetooth telefon bağlantısı aux girişi ekspertiz bilgisi : hatasız boyasız tramersiz tramer bilgisi : 1 . 6 motor gücü : 170 hp yakıt tipi : benzin dış renk : beyaz iç renk : bej deri döşeme : bej deri döşeme : sunroof vakumlu kapılar geri görüş kamerası hayalet ekran vakumlu kapılar elektrikli bagaj kapağı geri görüş kamerası elektrikli hafızalı sürücü koltuğu ısıtmalı ön koltuklar hafızalı sürücü koltuğu elektrikli yolcu koltuğu elektrikli ısıtmalı ön koltuklar hafızalı sürücü koltuğu ısıtmalı ön koltuklar elektrikli arka perde elektrikli arka perde çift bölge dijital klima elektrikli hareketli hafızalı ısıtmalı katlanır yan aynalar elektrokrom iç ayna yağmur sensörü far sensörü yağmur sensörü ön arka park sensörü far yıkama bluetooth aux usb cd aux bluetooth telefon bağlantısı fonksiyonel direksiyon 4 cam otomatik otomatik kararan dikiz aynası elektrikli arka perde yan makam perdeleri kararan dikiz aynası elektrikli arka perde elektrikli yan ayna ön arka park sensörü far sensörü yağmur sensörü ön arka park sensörü elektrikli arka perde sis farı far gece sensörü park sensörü yağmur sensörü ön arka park sensörü geri görüş kamerası aracımız orjinal km de aracımızda sadece sağ ön çamurluk lokal boya mevcuttur tramer kaydı yoktur ! ! ! ! ! ! ! ! ! ! ! ! ! !\n",
      "\n"
     ]
    },
    {
     "name": "stderr",
     "output_type": "stream",
     "text": [
      "\r",
      " 63%|██████████████████████████████████████████████████▍                             | 189/300 [04:20<04:23,  2.38s/it]"
     ]
    },
    {
     "name": "stdout",
     "output_type": "stream",
     "text": [
      "\" araç borusan çıkışlıdır . aracın bütün bakımları yapılmıştır . hiç bir masrafı yoktur . aracın tüm bakımları yapılmıştır . aracın motoru , şanzumanı yürürü , şanzımanı kusursuzdur . içerisinde hiç sigara içilmemiştir . yedek anahtarı ve kitapçıkları mevcuttur . \"\n",
      "\n"
     ]
    },
    {
     "name": "stderr",
     "output_type": "stream",
     "text": [
      "\r",
      " 63%|██████████████████████████████████████████████████▋                             | 190/300 [04:20<03:19,  1.81s/it]"
     ]
    },
    {
     "name": "stdout",
     "output_type": "stream",
     "text": [
      "\" araç borusan çıkışlıdır . araç servis bakımlıdır . bakımları yeni yapılmıştır . aracın tüm bakımları yapılmıştır . en ufak masrafı yoktur . aracımda değişen yoktur . 4 parça boya vardır . hasar kaydı yoktur .\n",
      "\n"
     ]
    },
    {
     "name": "stderr",
     "output_type": "stream",
     "text": [
      "\r",
      " 64%|██████████████████████████████████████████████████▉                             | 191/300 [04:21<02:32,  1.40s/it]"
     ]
    },
    {
     "name": "stdout",
     "output_type": "stream",
     "text": [
      "\" araç , ilk sahibinden , , , , , , , , , , , , , , , , , , , , , , , , , , , , , , , , , , , , , , , , , , , , , , , , , , , , , , , , , , , , , , , , , , , , , , , , , , , , , , , , , , , , , , , , , , , , , , , , , , , , , , , , , , , , , , , , , , , , , , , , , , , , , , , , , , , , , , , , , , , , , , , , , , , , , , , , , , , , , , , , , , , , , , , , , , , , , , , , , , , , , , , , , , , , , , , , , , , , , , , , , , , , , , , , , , , , , , , , , , , , , , , , , , , , , , , , , , , , , , , , , , , , , , , , , , , , , , , , , , , , , , , , , , , , , , , , , , , , , , , , , , , , , , , , , , , , , ,\n",
      "\n"
     ]
    },
    {
     "name": "stderr",
     "output_type": "stream",
     "text": [
      "\r",
      " 64%|███████████████████████████████████████████████████▏                            | 192/300 [04:24<03:18,  1.84s/it]"
     ]
    },
    {
     "name": "stdout",
     "output_type": "stream",
     "text": [
      "\" sahibinden satılık bmw 520i comfort paket borusan çıkışlı sunroof vakumlu kapılar hayalet gösterge elektrikli bagaj geri görüş kamerası elektrikli hafızalı ön koltuklar ısıtmalı ön koltuklar elektrikli arka perde elektrikli direksiyon çift bölgeli dijital klima bi xenon far far yıkama far yağmur sensörü ön arka park sensörü ön arka park sensörü far sensörü yağmur sensörü ön arka park sensörü lastik basınç sensörü fonksiyonel deri direksiyon kararan dikiz aynası elektrikli katlanır ayna far yağmur sensörü ön arka park sensörü yol bilgisayarı vs . vs vs vs vs vs vs vs vs vs vs vs vs vs vs vs vs vs vs vs vs vs vs yoktur\n",
      "\n"
     ]
    },
    {
     "name": "stderr",
     "output_type": "stream",
     "text": [
      "\r",
      " 64%|███████████████████████████████████████████████████▍                            | 193/300 [04:25<02:50,  1.60s/it]"
     ]
    },
    {
     "name": "stdout",
     "output_type": "stream",
     "text": [
      "\" araç model bilgisi ; bmw 5 serisi 730d xdrive hatasız boyasız değişensiz hasar kayıtsız sunroof geri görüş kamerası vakumlu kapılar hayalet gösterge elektrikli bagaj kapağı vakumlu kapılar elektrikli arka perde elektrikli arka perde dijital klima 4 bölge dijital klima arka makam perde elektrikli arka perde yan makam perdeleri elektrikli arka perde elektrikli arka perde yan makam perdeleri elektrikli arka perde elektrikli arka perde çift yönlü dijital klima hız sabitleyici elektrikli ayarlanır direksiyon hız sabitleyici yol bilgisayarı yağmur sensörü far sensörü ön arka park sensörü arka kol dayama isofix immobilizer 4 cam otomatik perde arka makam perde hava yastıkları ön yolcu yan perde hava yastıkları run flat lastikler gündüz farları ön arka kol dayama arka perde hava yastıkları ön yolcu yan perde hava yastıkları run flat lastikler iletişim : 0 533 244 33 81 tl \"\n",
      "\n"
     ]
    },
    {
     "name": "stderr",
     "output_type": "stream",
     "text": [
      "\r",
      " 65%|███████████████████████████████████████████████████▋                            | 194/300 [04:26<02:39,  1.51s/it]"
     ]
    },
    {
     "name": "stdout",
     "output_type": "stream",
     "text": [
      "\" araç borusan çıkışlı olup 2016 model yılı : 2014 park mesafe kontrol sistemi ( otomatik şanzıman ) ön kol dayama run flat ( patlamayan ) lastikler % 100 expertiz raporu mevcut . \"\n",
      "\n"
     ]
    },
    {
     "name": "stderr",
     "output_type": "stream",
     "text": [
      "\r",
      " 65%|████████████████████████████████████████████████████                            | 195/300 [04:26<02:02,  1.16s/it]"
     ]
    },
    {
     "name": "stdout",
     "output_type": "stream",
     "text": [
      "\" araç borusan çıkışlı olup , servis bakımlıdır . bakımları yeni yapılmıştır . araç fazlalığından satılıktır .\n",
      "\n"
     ]
    },
    {
     "name": "stderr",
     "output_type": "stream",
     "text": [
      "\r",
      " 65%|████████████████████████████████████████████████████▎                           | 196/300 [04:26<01:30,  1.15it/s]"
     ]
    },
    {
     "name": "stdout",
     "output_type": "stream",
     "text": [
      "\" bmw 5 . 20i premium borusan çıkışlı borusan bakımlı hatasız boyasız tramersiz bir araçtır tüm bakımları yapılmıştır motor performansı çok iyi olup ekspertiz raporu resimlerde mevcuttur\n",
      "\n"
     ]
    },
    {
     "name": "stderr",
     "output_type": "stream",
     "text": [
      "\r",
      " 66%|████████████████████████████████████████████████████▌                           | 197/300 [04:27<01:11,  1.45it/s]"
     ]
    },
    {
     "name": "stdout",
     "output_type": "stream",
     "text": [
      "\" ​ 2015 model bmw 5 . 25d xdrive premium borusan çıkışlı hayalet ekran vakumlu kapılar sunroof vakumlu kapılar hayalet ekran elektrikli hafızalı koltuk ısıtmalı ön koltuklar elektrikli hafızalı koltuk koltuk ısıtma elektrikli direksiyon ön arka park sensörü elektrikli direksiyon vakumlu kapılar elektrikli bagaj direksiyon ısıtma elektrikli arka perde elektrikli arka perde elektrikli arka perde bluetooth telefon bağlantısı geri görüş kamerası bmw acil durum çağrısı bmw teleservis bluetooth usb aux girişi cruıse control ( hız sabitleyici ) anahtarsız çalıştırma yağmur sensörü far sensörü ön ve arka park sensörü far yıkama sistemi elektrikli katlanır dikiz aynaları yağmur sensörü ön arka park sensörü far sensörü otomatik yağmur sensörü far yıkama sis farı elektrikli arka perde elektrikli arka perde elektrikli arka perde sis farı far yıkama yağmur sensörü far sensörü ön arka park sensörü lastik basınç sensörü yağmur sensörü far sensörü sis farı abs asr esp asr esp radyo cd mp3 çalar yol bilgisayarı yağmur sensörü far sensörü sis farı usb aux bluetooth telefon bağlantısı cd changer aux ın usb kol dayama ışık paket cd aux usb bluetooth start stop hız sabitleyicisi ayarlanabilir direksiyon elektrikli arka perde elektrikli arka perde yan makam perdeleri kararan dikiz aynası elektrikli arka perde elektrikli arka perde sis farı far yağmur sensörü far sensörü ön arka park sensörü\n",
      "\n"
     ]
    },
    {
     "name": "stderr",
     "output_type": "stream",
     "text": [
      "\r",
      " 66%|████████████████████████████████████████████████████▊                           | 198/300 [04:29<01:51,  1.09s/it]"
     ]
    },
    {
     "name": "stdout",
     "output_type": "stream",
     "text": [
      "\" 2014 model bmw 5 . 25d xdrive premium m sport plus 18 . 000 km borusan çıkışlı borusan bakımlı hatasız boyasız tramersiz içi bej deri döşeme sunroof hayalet ekran navigasyon vakumlu kapılar hayalet gösterge vakumlu kapılar elektrikli bagaj kapağı geri görüş kamerası elektirikli arka perde elektirikli arka perde yan makam perdeleri ön arka park sensörü geri görüş kamerası elektrikli arka perde elektrikli arka perde 3 farklı sürüş modu ( eco pro comfort sport ) far yıkama ön arka park sensörü yağmur sensörü far sensörü otomatik kararan dikiz aynası elektrikli ısıtmalı aynalar far yağmur sensörü\n",
      "\n"
     ]
    },
    {
     "name": "stderr",
     "output_type": "stream",
     "text": [
      "\r",
      " 66%|█████████████████████████████████████████████████████                           | 199/300 [04:30<01:49,  1.08s/it]"
     ]
    },
    {
     "name": "stdout",
     "output_type": "stream",
     "text": [
      "\" araç borusan çıkışlı olup , borusan bakımlıdır . bakımları yeni yapılmıştır . araç özellikleri ; sunroof hayalet ekran vakumlu kapılar koltuk ısıtma elektrikli direksiyon elektrikli hafızalı koltuk ısıtmalı ön koltuklar elektrikli bagaj elektrikli hafızalı sürücü koltuğu ısıtmalı ön koltuklar geri görüş kamerası ön arka park sensörü elektrikli bagaj kapağı geri görüş kamerası bluetooth telefon start stop eco sport sport plus sürüş modları gündüz ledleri far sensörü yağmur sensörü ön arka park sensörü elektrikli katlanır yan aynalar fonksiyonel deri direksiyon hız sabitleyici bluetooth telefon hazırlık sis farı alaşımlı jantlar 4 farklı sürüş modu ( eco , comfort , sport , sport , sport , sport , sürüş modları ) elektronik park freni 4 sürüş modu ( eco comfort sport , sport , comfort paket ) sunroof , xenon far , far yıkama , sunroof , far yıkama , dijital klima , hız sabitleyici , park sensörü , yağmur sensörü , far sensörü , kararan iç dikiz aynası , vs vs vs vs vs vs vs vs vs vs vs vs vs vs \"\n",
      "\n"
     ]
    },
    {
     "name": "stderr",
     "output_type": "stream",
     "text": [
      "\r",
      " 67%|█████████████████████████████████████████████████████▎                          | 200/300 [04:31<02:06,  1.26s/it]"
     ]
    },
    {
     "name": "stdout",
     "output_type": "stream",
     "text": [
      "\" sahibinden temiz kullanılmış , servis bakımlı . masrafsız , , , , , , , , , , , , , , , , , , , , , , , , , , , , , , , , , , , , , , , , , , , , , , , , , , , , , , , , , , , , , , , , , , , , , , , , , , , , , , , , , , , , , , , , , , , , , , , , , , , , , , , , , , , , , , , , , , , , , , , , , , , , , , , , , , , , , , , , , , , , , , , , , , , , , , , , , , , , , , , , , , , , , , , , , , , , , , , , , , , , , , , , , , , , , , , , , , , , , , , , , , , , , , , , , , , , , , , , , , , , , , , , , , , , , , , , , , , , , , , , , , , , , , , , , , , , , , , , , , , , , , , , , , , , , , , , , , , , , , , , , , , , , , , , , ,\n",
      "\n"
     ]
    },
    {
     "name": "stderr",
     "output_type": "stream",
     "text": [
      "\r",
      " 67%|█████████████████████████████████████████████████████▌                          | 201/300 [04:34<02:53,  1.75s/it]"
     ]
    },
    {
     "name": "stdout",
     "output_type": "stream",
     "text": [
      "\" 2014 bmw 5 . 25d xdrive premium borusan çıkışlı borusan servis bakımlı hayalet ekran vakumlu kapılar sunroof elektrikli koltuk sunroof geri görüş kamerası ön ve arka park sensörü elektrikli katlanır ayna bi xenon far far yıkama far sensörü yağmur sensörü park sensörü ön arka kol dayama park sensörü hız sabitleyici elektrikli arka perde yan makam perdeleri ön arka park sensörü elektrikli katlanır yan aynalar otomatik kararan dikiz aynası far sensörü yağmur sensörü ön arka park sensörü elektrikli arka perde sis farı far gece sensörü park sensörü yağmur sensörü ön arka park sensörü aux girişi bluetooth telefon bağlantısı usb aux girişi bluetooth telefon bağlantısı fonksiyonel deri direksiyon otomatik kararan dikiz aynası ve daha sayamadığım bir çok özellik mevcuttur . aracın yedek anahtarı mevcuttur . takas fiyatı farklıdır . \"\n",
      "\n"
     ]
    },
    {
     "name": "stderr",
     "output_type": "stream",
     "text": [
      "\r",
      " 67%|█████████████████████████████████████████████████████▊                          | 202/300 [04:36<02:37,  1.61s/it]"
     ]
    },
    {
     "name": "stdout",
     "output_type": "stream",
     "text": [
      "\" araç borusan çıkışlı olup , 2016 yılı çıkışlı , dış renk iç dış m paket , elektrikli hafızalı , ısıtmalı , hafızalı , elektrikli , ısıtmalı koltuklar , elektrikli , hafızalı , ısıtmalı , bel destekli , ön koltuklar , geri görüş kamerası , bluetooth , aux , usb , cd çalar , park sensörü , far yıkama , ısıtmalı , hafızalı , elektrikli , ısıtmalı , elektrikli katlanır aynalar , elektrikli ön koltuklar , elektrikli arka perde , elektrikli arka perde , elektrikli katlanır aynalar , elektronik park freni , araç iniş , binişinde aydınlatma ön ve arka park yardım desteği , yan makam perdeleri , arka perde , elektrikli arka perde , elektrikli katlanır ayna , kararan iç dikiz aynası , abs , asr , esp , radyo cd çalar , otomatik kapı klit fonksiyonu ( kapılar açıkken araç hareket etmez ) patlamaz lastik yol bilgisayarı , fonksiyonel direksiyon , lastik basınç sensörü , otomatik far sensörü , yukseklik ayarlı sürücü ve yolcu koltuğu ayarlanabilir direksiyon arka park mesafe sensörü , türkçe ön panel ımmobılızer , aluminyum alaşımlı jantlar , elektrikli , ısıtmalı aynalar , elektrikli camlar , uzaktan kumandalı merkezi kilit , ön kol dayama , arka kol dayama isofix iç ambians lambası akustik kemer uyarsı kararan dikiz aynası aux usb auto hold \"\n",
      "\n"
     ]
    },
    {
     "name": "stderr",
     "output_type": "stream",
     "text": [
      "\r",
      " 68%|██████████████████████████████████████████████████████▏                         | 203/300 [04:38<02:58,  1.84s/it]"
     ]
    },
    {
     "name": "stdout",
     "output_type": "stream",
     "text": [
      "\" araç borusan çıkışlı olup , komple m paket olup , bakımları düzenli olarak yapılmıştır . araç servis bakımlıdır . aracın yedek anahtarı ve kitapçıkları vardır . araç fazlalığından satılıktır . \"\n",
      "\n"
     ]
    },
    {
     "name": "stderr",
     "output_type": "stream",
     "text": [
      "\r",
      " 68%|██████████████████████████████████████████████████████▍                         | 204/300 [04:38<02:16,  1.42s/it]"
     ]
    },
    {
     "name": "stdout",
     "output_type": "stream",
     "text": [
      "\" 1 . 16d ed efficientdynamics sport plus modelidir . kaza boya değişen tramer kaydı yoktur . sadece araç takası olur . araç başında pazarlık payı vardır . alıcısına hayırlı olsun .\n",
      "\n"
     ]
    },
    {
     "name": "stderr",
     "output_type": "stream",
     "text": [
      "\r",
      " 68%|██████████████████████████████████████████████████████▋                         | 205/300 [04:39<01:44,  1.10s/it]"
     ]
    },
    {
     "name": "stdout",
     "output_type": "stream",
     "text": [
      "\" araç borusan çıkışlı olup , bakımları yeni yapılmıştır . aracın bütün bakımları borusan yetkili serviste yapılmıştır . motor , şanzıman ve yürüyen aksamı sorunsuz bir araçtır . 4 lastik sıfır takıldı . yedek anahtarı ve kitapçıkları mevcuttur . \"\n",
      "\n"
     ]
    },
    {
     "name": "stderr",
     "output_type": "stream",
     "text": [
      "\r",
      " 69%|██████████████████████████████████████████████████████▉                         | 206/300 [04:39<01:24,  1.11it/s]"
     ]
    },
    {
     "name": "stdout",
     "output_type": "stream",
     "text": [
      "\" araç model bilgisi ; bmw 5 serisi 520d comfort 184 hp borusan çıkışlı sunroof f1 vites hayalet ekran vakumlu kapılar sunroof elektrikli bagaj hayalet ekran vakumlu kapılar elektrikli bagaj elektrikli direksiyon ön koltuklarda ısıtma geri görüş kamerası elektrikli arka perde çift yönlü dijital klima ön arka park sensörü far sensörü yağmur sensörü far sensörü ön arka park sensörü far sensörü yağmur sensörü ön arka park sensörü bmw acil durum çağrısı bmw teleservıces türkçe ön panel gelişmiş gösterge paneli otomatik kapı kilit fonksiyonu akustik kemer uyarısı otomatik kapı kilit fonksiyonu adaptif süspansiyon comfort elekrikli kasko bedeli : 000 tl dir not : aracın plakası : 34 \"\n",
      "\n"
     ]
    },
    {
     "name": "stderr",
     "output_type": "stream",
     "text": [
      "\r",
      " 69%|███████████████████████████████████████████████████████▏                        | 207/300 [04:40<01:29,  1.04it/s]"
     ]
    },
    {
     "name": "stdout",
     "output_type": "stream",
     "text": [
      "\" bmw 5 . 20i premium m paket hayalet ekran vakumlu kapılar sunroof elektrikli bagaj kapağı geri görüş kamerası f 1 vites sunroof çift yönlü dijital klima koltuk ısıtma sunroof ön arka park sensörü elektrikli katlanır ayna bi xenon far far yıkama elektrikli katlanır aynalar far yağmur sensörü park mesafe sensörü bluetooth telefon bağlantısı usb aux girişi bluetooth telefon bağlantısı fonksiyonel direksiyon elektrikli arka perde hava yastıkları alarm ımmobılızer elektrikli , ısıtmalı aynalar elektrikli camlar uzaktan kumandalı merkezi kilit ön kol dayama arka kol dayama isofix iç ambians lambası akustik kemer uyarsı kararan dikiz aynası aux usb auto hold \"\n",
      "\n"
     ]
    },
    {
     "name": "stderr",
     "output_type": "stream",
     "text": [
      "\r",
      " 69%|███████████████████████████████████████████████████████▍                        | 208/300 [04:41<01:30,  1.02it/s]"
     ]
    },
    {
     "name": "stdout",
     "output_type": "stream",
     "text": [
      "\" araç model bilgisi ; bmw 5 . 20i executıve plus : otomatik m sport dış renk : kırmızı iç renk : bej deri döşeme : sunroof ön arka park mesafe kontrol ön arka geri görüş kamerası bmw acil durum çağrısı bmw teleservıces türkçe ön panel gelişmiş gösterge paneli ( hayalet ) çok işlevli gösterge ekranı ( hayalet ekran ) çok işlevli gösterge ekranı ( hayalet ekran ) soft close otomatik kapılar ( vakum kapılar ) elektrikli direksiyon hafızalı koltuklar elektrikli bagaj kapağı geri görüş kamerası ( aktif ) bluetooth telefon bağlantısı masaj fonksiyonlu ön koltuklar ısıtmalı ön koltuklar elektrikli arka perde elektrikli arka perde elektrokrom iç ve dış aynalar far yıkama sistemi park mesafe kontrol ön arka sürüş asistanı bmw acil durum çağrısı bmw teleservıces 7r3 otomatik kapı kilit fonksiyonu adaptif süspansiyon iptali m sport fren diskleri m m deri direksiyon m aerodinamik paket m deri direksiyon m aerodinamik paket parlak dış kaplama antrasit tavan döşemesi elektrikli hafızalı ısıtmalı koltuklar \"\n",
      "\n"
     ]
    },
    {
     "name": "stderr",
     "output_type": "stream",
     "text": [
      "\r",
      " 70%|███████████████████████████████████████████████████████▋                        | 209/300 [04:43<01:45,  1.16s/it]"
     ]
    },
    {
     "name": "stdout",
     "output_type": "stream",
     "text": [
      "\" iletişim : 0532 559 15 15 şubat ayına kadar var ​\n",
      "\n"
     ]
    },
    {
     "name": "stderr",
     "output_type": "stream",
     "text": [
      "\r",
      " 70%|████████████████████████████████████████████████████████                        | 210/300 [04:43<01:17,  1.16it/s]"
     ]
    },
    {
     "name": "stdout",
     "output_type": "stream",
     "text": [
      "\" araç model bilgisi ; bmw 5 . 20i executıve m sport plus 1 . 6 motor 170 hp 8 ileri joystick yeni nesil motor şanzıman 8 ileri joystick yeni nesil dizel premium paket 218 hp premium paket hayalet ekran vakumlu kapılar elektrikli bagaj hayalet ekran vakumlu kapılar elektrikli bagaj hayalet gösterge vakumlu kapılar elektrikli bagaj kapağı vakumlu kapılar elektrikli bagaj hayalet ekran vakumlu kapılar elektrikli bagaj elektrikli direksiyon hafızalı koltuklar ısıtmalı ön koltuklar elektrikli arka perde elektrikli direksiyon bluetooth telefon bağlantısı geri görüş kamerası ön arka park mesafe sensörü far yıkama elektrikli arka perde elektrikli katlanır yan aynalar elektrokrom iç ayna sesli uyarı sistemi yağmur sezici far sensörü eco comfort sport sport plus sürüş modları türkçe ön panel akustik kemer uyarısı otomatik kapı kilit fonksiyonu karter koruması velur halı paspaslar ön kol dayama run flat ( patlamayan ) lastikler arka park mesafe kontrol ( park sensörü ) bluetooth telefon baglantısı , radyo cd çalar , yol bilgisayarı , fonksiyonel deri direksiyon , elektrikli arka perde , sis farı , yağmur sensörü , far sensörü , sis farı , yağmur sensörü , far yıkama , ışık paket , sunroof , , ışık paket , orijinal , , , , , , , , , , , , , , , , , , , , , , , , , , , , , , , , , , , , , , , , , , , , , , , , , , , , , , , , , , , , , , , , , , , , , , , , , , , , , , , , , , , , , , , , , , , , , , , , , , , , , , , ,\n",
      "\n"
     ]
    },
    {
     "name": "stderr",
     "output_type": "stream",
     "text": [
      "\r",
      " 70%|████████████████████████████████████████████████████████▎                       | 211/300 [04:46<02:15,  1.53s/it]"
     ]
    },
    {
     "name": "stdout",
     "output_type": "stream",
     "text": [
      "\" borusan çıkışlı , borusan bakımlı , ilk sahibinden , , , , , , , , , , , , , , , , , , , , , , , , , , , , , , , , , , , , , , , , , , , , , , , , , , , , , , , , , , , , , , , , , , , , , , , , , , , , , , , , , , , , , , , , , , , , , , , , , , , , , , , , , , , , , , , , , , , , , , , , , , , , , , , , , , , , , , , , , , , , , , , , , , , , , , , , , , , , , , , , , , , , , , , , , , , , , , , , , , , , , , , , , , , , , , , , , , , , , , , , , , , , , , , , , , , , , , , , , , , , , , , , , , , , , , , , , , , , , , , , , , , , , , , , , , , , , , , , , , , , , , , , , , , , , , , , , , , , , , , , , , , , , , , , , ,\n",
      "\n"
     ]
    },
    {
     "name": "stderr",
     "output_type": "stream",
     "text": [
      "\r",
      " 71%|████████████████████████████████████████████████████████▌                       | 212/300 [04:49<02:52,  1.96s/it]"
     ]
    },
    {
     "name": "stdout",
     "output_type": "stream",
     "text": [
      "\" araç borusan çıkışlıdır . bakımları yetkili serviste yapılmıştır .\n",
      "\n"
     ]
    },
    {
     "name": "stderr",
     "output_type": "stream",
     "text": [
      "\r",
      " 71%|████████████████████████████████████████████████████████▊                       | 213/300 [04:49<02:02,  1.41s/it]"
     ]
    },
    {
     "name": "stdout",
     "output_type": "stream",
     "text": [
      "\" ilk sahibinden borusan çıkışlı borusan bakımlı hatasız boyasız değişensiz hasar kayıtsız borusan bakımlı hatasız boyasız tramersiz kazasız boyasız tramersiz kazasız boyasız değişensiz hasar kayıtsız borusan bayi çıkışlı aracımız bakımlı ve masrafsızdır . araçta 3 parça boya vardır . hasar kaydı yoktur .\n",
      "\n"
     ]
    },
    {
     "name": "stderr",
     "output_type": "stream",
     "text": [
      "\r",
      " 71%|█████████████████████████████████████████████████████████                       | 214/300 [04:50<01:36,  1.12s/it]"
     ]
    },
    {
     "name": "stdout",
     "output_type": "stream",
     "text": [
      "\" sahibinden satılık bmw 5 . 20i premium 170 hp sunroof vakumlu kapılar hayalet ekran f1 vites elektrikli direksiyon sunroof geri görüş kamerası ön arka park sensörü far yıkama elektrikli arka perde bi xenon far far yıkama far yağmur sensörü ön arka park sensörü ön arka park sensörü elektrikli arka perde elektrikli arka perde yan makam perdeleri arka park sensörü yağmur sensörü far sensörü sis farı cd mp3 usb çalar otomatik far sensörü yağmur sensörü ön arka park sensörü fonksiyonel deri direksiyon hız sabitleyici elektrikli arka perde elektrikli arka perde yan makam perdeleri arka perde elektrikli arka perde sis farı far sensörü yağmur sensörü ön arka park sensörü elektrikli yan aynalar ön arka park sensörü arka kol dayama yol bilgisayarı fonksiyonel deri direksiyon hız sabitleyici ve sınırlayıcı fonksiyonel direksiyon elektrikli arka perde elektrikli arka perde elektrikli ayna yağmur sensörü far sensörü sis farı arka park sensörü far yıkama ışık paket araç telefonu yol bilgisayarı abs esp asr dtc dsc gelişmiş gösterge paneli , abs , asr , esp , radyo cd mp3 çalar yol bilgisayarı fonksiyonel direksiyon , far sensörü yağmur sensörü , park sensörü , kararan dikiz aynası abs , asr , esp , radyo cd çalar , yol bilgisayarı , fonksiyonel direksiyon , otomatik far ve yağmur sensörü , arka park sensörü , uzaktan kumandalı merkezi kilit , ön kol dayama , arka park sensörü , arka park sensörü , arka park sensörü , geri görüş kamerası , arka , park sensörü , yağmur sensörü , kararan dikiz aynası , far sensörü , yağmur sensörü , far yıkama , sis farı , sis farı , , yağmur sensörü , , , , , , , , , , , , , , , , , , , , , , , , , , , , ,\n",
      "\n"
     ]
    },
    {
     "name": "stderr",
     "output_type": "stream",
     "text": [
      "\r",
      " 72%|█████████████████████████████████████████████████████████▎                      | 215/300 [04:53<02:21,  1.66s/it]"
     ]
    },
    {
     "name": "stdout",
     "output_type": "stream",
     "text": [
      "\" araç model bilgisi ; bmw 5 serisi 520d comfort 184 hp otomatik 8 ileri otomatik vites sunroof bej deri döşeme sunroof elektrikli arka perde elektrikli arka perde yan makam perdeleri elektrikli arka perde elektrikli arka perde elektrikli katlanır ayna yağmur sensörü far sensörü ön arka park sensörü far sensörü yağmur sensörü ön arka park sensörü far yıkama 4 cam otomatik kararan dikiz aynası yokuş kalkış desteği elektrikli arka perde bluetooth telefon hazırlık sis farı alaşımlı jantlar vs . vs vs vs vs vs vs vs vs vs vs vs vs vs vs yoktur\n",
      "\n"
     ]
    },
    {
     "name": "stderr",
     "output_type": "stream",
     "text": [
      "\r",
      " 72%|█████████████████████████████████████████████████████████▌                      | 216/300 [04:54<02:01,  1.45s/it]"
     ]
    },
    {
     "name": "stdout",
     "output_type": "stream",
     "text": [
      "\" araç bilgileri fotoğraflarda mevcuttur . araç özellikleri : sunroof xenon farlar led gündüz farları led arka stop bluetooth telefon bağlantısı geri görüş kamerası ön ve arka park sensörü far ve yağmur sensörleri ön ve arka park sensörleri geri görüş kamerası bluetooth telefon usb aux girişi bluetooth telefon hazırlık sis farı alaşımlı jantlar vs . vs vs vs vs vs vs vs vs vs vs vs vs vs vs vs vs vs\n",
      "\n"
     ]
    },
    {
     "name": "stderr",
     "output_type": "stream",
     "text": [
      "\r",
      " 72%|█████████████████████████████████████████████████████████▊                      | 217/300 [04:54<01:42,  1.23s/it]"
     ]
    },
    {
     "name": "stdout",
     "output_type": "stream",
     "text": [
      "\" aracım hatasız boyasızdır . km ’ de olup , kesinlikle değişen yoktur . sadece sağ arka çamurlukta lokal boya vardır . hasar kaydı yoktur . resimlerde görüldüğü gibi temiz bir araçtır . alıcısına şimdiden hayırlı olsun . \"\n",
      "\n"
     ]
    },
    {
     "name": "stderr",
     "output_type": "stream",
     "text": [
      "\r",
      " 73%|██████████████████████████████████████████████████████████▏                     | 218/300 [04:55<01:20,  1.02it/s]"
     ]
    },
    {
     "name": "stdout",
     "output_type": "stream",
     "text": [
      "\" araç borusan çıkışlı olup , 2017 model yılı km de trafiğe çıktı , aracın bütün bakımları yapılmıştır . km si kesinlikle orjinal olup , , değişen , boyanan parçası yoktur , kaza boya yoktur . tramer kaydı yoktur . \"\n",
      "\n"
     ]
    },
    {
     "name": "stderr",
     "output_type": "stream",
     "text": [
      "\r",
      " 73%|██████████████████████████████████████████████████████████▍                     | 219/300 [04:55<01:06,  1.22it/s]"
     ]
    },
    {
     "name": "stdout",
     "output_type": "stream",
     "text": [
      "\" aracım borusan bayi çıkışlı olup 2016 model yılı 2015 yılı 2016 kasım trafiğe çıkışlıdır . aracın ilk yardım çantası , orijinal , 4 lastik ve tüm bakımları yetkili serviste yapılmıştır . orjinal iç dış m paket olup , m paket , sunroof , hayalet gösterge , vakumlu kapılar , hafızalı , ısıtmalı koltuklar , elektrikli direksiyon , elektrikli arka perde , elektrikli bagaj , hafızalı koltuklar , geri görüş kamerası , hız sabitleyici , hız sabitleyici , park sensörü , hız sabitleyici , , hız sabitleyici , dijital klima , 4 cam , elektrikli , ısıtmalı aynalar , elektrikli arka perde , elektrikli arka perde , elektrikli arka perde , elektrikli katlanır aynalar , elektrikli arka perde , sis farı , yağmur sensörü , far sensörü , kararan iç dikiz aynası , abs , asr , esp , radyo cd çalar , yol bilgisayarı , fonksiyonel deri direksiyon , far yıkama , fonksiyonel direksiyon , elektrikli arka perde , elektrikli arka perde , elektrikli katlanır ayna , ön arka park sensörü , yağmur sensörü , far sensörü , far sensörü , kararan dikiz aynası , arka park sensörü , yağmur sensörü , far sensörü , far yıkama , ışık paket , kapı kolları , gelişmiş gösterge paneli , abs , asr , esp , radyo cd çalar , otomatik kapı klit fonksiyonu ( kapılar açıkken araç hareket etmez ) patlamaz lastik yol bilgisayarı , lastik basınç sensörü , otomatik far sensörü , far sensörü , yağmur sensörü , far sensörü , gelişmiş gösterge paneli , abs , asr , esp , radyo cd çalar , otomatik kapı klit fonksiyonu ( kapılar açıkken araç hareket etmez ) patlamaz lastik yol bilgisayarı , lastik basınç kontrolü fonksiyonel direksiyon , otomatik far sensörü , yukseklik ayarlı sürücü ve yolcu koltuğu ayarlanabilir\n",
      "\n"
     ]
    },
    {
     "name": "stderr",
     "output_type": "stream",
     "text": [
      "\r",
      " 73%|██████████████████████████████████████████████████████████▋                     | 220/300 [04:58<01:56,  1.46s/it]"
     ]
    },
    {
     "name": "stdout",
     "output_type": "stream",
     "text": [
      "\" aracımız borusan çıkışlı olup , servis bakımlıdır . bütün bakımları yapılmıştır . muayenesi yeni yapılmıştır . araç servis bakımlıdır . bakımları yeni yapılmıştır .\n",
      "\n"
     ]
    },
    {
     "name": "stderr",
     "output_type": "stream",
     "text": [
      "\r",
      " 74%|██████████████████████████████████████████████████████████▉                     | 221/300 [04:58<01:27,  1.10s/it]"
     ]
    },
    {
     "name": "stdout",
     "output_type": "stream",
     "text": [
      "\" araç 2014 model olup , km , dedir . aracın bütün bakımları zamanında yapılmıştır . kesinlikle ağır hasarlı olarak pert kayıtlı değildir , araç fazlalığından satılıktır . \"\n",
      "\n"
     ]
    },
    {
     "name": "stderr",
     "output_type": "stream",
     "text": [
      "\r",
      " 74%|███████████████████████████████████████████████████████████▏                    | 222/300 [04:59<01:07,  1.16it/s]"
     ]
    },
    {
     "name": "stdout",
     "output_type": "stream",
     "text": [
      "\" araç fazlalığından satılıktır . aracın bütün bakımları yapılmıştır . muayenesi yeni yapılmıştır . lastikleri sıfırdır . muayenesi yenidir . lastikleri sıfırdır . muayenesi 2020 yılına kadar geçerlidir . araç özellikleri : sunroof bi xenon farlar far yıkama far ve yağmur sensörü park sensörü ışık paket bluetooth aux usb cd mp3 çalar usb aux bluetooth telefon bağlantısı fonksiyonel direksiyon elektrikli arka perde elektrikli yan aynalar elektrikli arka perde yan protokol perde arka elektrikli perde çift bölge dijital klima bi xenon farlar far yıkama yağmur sensörü far sensörü ön arka park sensörü arka park sensörü fonksiyonel deri direksiyon hız sabitleyici , elektrikli ve ısıtmalı aynalar ön ve arka park sensörü geri görüş kamerası bluetooth usb aux girişi bluetooth telefon bağlantısı hafızalı , ısıtmalı ön koltuklar aux ın usb girişi dijital çift bölgeli klima fonksiyonel deri direksiyon elektrikli katlanır ısıtmalı yan aynalar elektrokrom iç ayna sesli uyarı sistemi yağmur sezici far sensörü eco comfort sport sport plus sürüş modları türkçe ön panel akustik kemer uyarısı otomatik kapı kilit fonksiyonu karter koruma dijital iklimlendirme kontrollü klima aerodinamik paket araç iniş , binişinde aydınlatma ön ve arka sis farları . far yıkama sistemi . otomatik far sensörü yağmur sensörü , isofix , anahtarsız çalıştırma , ışık paket , start stop , anahtarsız çalıştırma , ışık paket , dijital klima , deri döşeme , elektrikli , ısıtmalı , hafızalı , elektrikli , ısıtmalı , katlanır aynalar , elektrikli katlanır ayna , ön arka park sensörü , far sensörü , yağmur sensörü , far sensörü , kararan iç dikiz aynası ve daha sayamadığım bir çok özellik . \"\n",
      "\n"
     ]
    },
    {
     "name": "stderr",
     "output_type": "stream",
     "text": [
      "\r",
      " 74%|███████████████████████████████████████████████████████████▍                    | 223/300 [05:01<01:45,  1.38s/it]"
     ]
    },
    {
     "name": "stdout",
     "output_type": "stream",
     "text": [
      "\" araç borusan çıkışlı olup , ilk yardım çantası , orjinal m paket , m sport , comfort , sport , eco , sport , sürüş modları , geri görüş kamerası , sunroof , hafızalı , ısıtmalı , elektrikli koltuklar , koltuk ısıtma , elektrikli bagaj , hafızalı koltuklar , elektrikli direksiyon , ön arka park sensörü , geri görüş kamerası , elektrikli direksiyon , ön arka park sensörü , ısıtmalı ön koltuklar , elektrikli hafızalı sürücü koltuğu , elektrikli ön koltuklar , elektrikli arka perde , elektrikli arka perde , elektrikli katlanır aynalar , elektrikli direksiyon , ısıtmalı ön koltuklar , elektrikli arka perde , elektrikli katlanır ayna , bluetooth , aux , servotronic direksiyon , start & stop , anahtarsız çalıştırma , start stop , anahtarsız çalıştırma , eco sürüş modu , sport , comfort sürüş modu , eco sürüş modu , comfort sürüş modu , sport sürüş modu , comfort sürüş modu , standart özellikler , sunroof , bi xenon farlar , far yıkama , çift yönlü dijital klima , yağmur sensörü , far sensörü , kararan iç dikiz aynası , abs , asr , esp , radyo cd çalar , yol bilgisayarı , fonksiyonel direksiyon , ön arka kol dayama , isofix , vakumlu kapılar , elektrikli bagaj , hafızalı koltuklar , elektrikli direksiyon , elektrikli direksiyon , hafızalı ön ve arka koltuklar , elektrikli , hafızalı , ısıtmalı , katlanır , koltuk , koltuk hafıza , geri görüş kamerası , , , , , , , , , , , , , , , , , , , , , , , , , , , , , , , , , , , , , , , , , , , , , , , , , , , , , , ,\n",
      "\n"
     ]
    },
    {
     "name": "stderr",
     "output_type": "stream",
     "text": [
      "\r",
      " 75%|███████████████████████████████████████████████████████████▋                    | 224/300 [05:04<02:18,  1.83s/it]"
     ]
    },
    {
     "name": "stdout",
     "output_type": "stream",
     "text": [
      "\" 2016 model bmw 520i comfort paket siyah içi bej deri döşeme , sunroof , deri koltuk , koltuk ısıtma , elektrikli direksiyon , hafızalı koltuk , elektrikli direksiyon , elektrikli direksiyon , elektrikli direksiyon , hafızalı ve ısıtmalı koltuklar , elektrikli direksiyon , ısıtmalı ön koltuklar , elektrikli arka perde , elektrikli , hafızalı , ısıtmalı , katlanır aynalar , elektronik el freni , araç iniş , binişinde aydınlatma ön ve arka park yardım desteği , yan makam perdeleri , kararan iç dikiz aynası , otomatik far sensörü , gelişmiş gösterge paneli , abs , asr , esp , radyo cd çalar , otomatik kapı klit fonksiyonu ( kapılar açıkken araç hareket etmez ) patlamaz lastik yol bilgisayarı , lastik basınç kontrolü fonksiyonel direksiyon , otomatik far sensörü , yukseklik ayarlı sürücü ve yolcu koltuğu ayarlanabilir direksiyon arka park mesafe sensörü , türkçe ön panel ımmobılızer , aluminyum alaşımlı jantlar , elektrikli , ısıtmalı aynalar , elektrikli camlar , uzaktan kumandalı merkezi kilit , ön kol dayama , arka kol dayama , isofix , arka park sensörü , fonksiyonel direksiyon , deri döşeme , elektrikli arka perde , elektrikli hafızalı , ısıtmalı , elektrikli aynalar , elektrikli direksiyon , ön ve arka park sensörü , geri görüş kamerası , ısıtmalı ön koltuklar , elektrikli hafızalı sürücü koltuğu , elektrikli , ısıtmalı , hafızalı , elektrikli ön koltuklar , elektrikli arka perde , elektrikli arka perde , elektrikli direksiyon , elektrikli yan ve arka perdeler , elektrikli arka perde , yan makam perdeleri , elektrikli arka perde , elektrikli hafızalı , ısıtmalı , katlanır ayna , ön arka park sensörü , geri görüş kamerası , ısıtmalı hafızalı koltuklar , elektrikli arka perde , elektrikli arka perde , yan makam perdeleri , elektrikli arka perde , led farlar , far\n",
      "\n"
     ]
    },
    {
     "name": "stderr",
     "output_type": "stream",
     "text": [
      "\r",
      " 75%|████████████████████████████████████████████████████████████                    | 225/300 [05:07<02:39,  2.13s/it]"
     ]
    },
    {
     "name": "stdout",
     "output_type": "stream",
     "text": [
      "\" 2012 model bmw 5 . 25d xdrive m sport plus paket sunroof elektrikli hafızalı koltuk elektrikli ısıtmalı ön koltuklar hafızalı sürücü koltuğu elektrikli ısıtmalı ön koltuklar geri görüş kamerası bluetooth telefon bağlantısı geri görüş kamerası park sensörü sport comfort sürüş modu auto hold yokuş kalkış desteği bi xenon farlar far yıkama bluetooth usb aux bluetooth telefon hazırlık sis farı alaşımlı jantlar bluetooth cd mp3 çalar usb giriş abs asr esp radyo cd çalar yol bilgisayarı fonksiyonel direksiyon elektrikli arka perde elektrikli yan aynalar elektrikli arka perde elektrikli arka perde yan makam perdeleri elektrikli arka perde elektrikli katlanır ayna yağmur sensörü far sensörü ön arka park sensörü kararan dikiz aynası elektrikli arka perde elektrikli yan aynalar ön arka park sensörü far sensörü yağmur sensörü far yıkama bluetooth telefon bağlantısı aux usb girişi bluetooth telefon bağlantısı audıo sd card usb cd aux pazar günleri hizmetinizdeyiz\n",
      "\n"
     ]
    },
    {
     "name": "stderr",
     "output_type": "stream",
     "text": [
      "\r",
      " 75%|████████████████████████████████████████████████████████████▎                   | 226/300 [05:08<02:22,  1.92s/it]"
     ]
    },
    {
     "name": "stdout",
     "output_type": "stream",
     "text": [
      "\" otomotiv den 2014 bmw 5 . 20i premium plus sunroof hayalet ekran vakumlu kapılar vakumlu kapılar hayalet ekran elektrikli bagaj hayalet ekran vakumlu kapılar elektrikli bagaj kapağı geri görüş kamerası sunroof bej deri döşeme elektrikli katlanır ayna hafızalı sürücü koltuğu ısıtmalı ön koltuklar geri görüş kamerası elektrikli arka perde elektrikli katlanır ayna bi xenon far far yıkama far sensörü yağmur sensörü ön arka park sensörü alaşımlı çelik jant park sensörü yağmur sensörü far sensörü otomatik kararan dikiz aynası elektrikli katlanır ayna ön arka park sensörü far sensörü yağmur sensörü ön arka park sensörü far yıkama cd changer ön kol dayama bluetooth telefon bağlantısı aux ın usb girişi hız sabitleyici ve sınırlayıcı digital klima ön ve arka park sensörü fonksiyonel direksiyon elektrikli arka perde hava yastıkları ön ve arka kol dayama bardaklıklar aydınlatmalı makyaj aynaları alaşım jantlar\n",
      "\n"
     ]
    },
    {
     "name": "stderr",
     "output_type": "stream",
     "text": [
      "\r",
      " 76%|████████████████████████████████████████████████████████████▌                   | 227/300 [05:10<02:07,  1.75s/it]"
     ]
    },
    {
     "name": "stdout",
     "output_type": "stream",
     "text": [
      "\" araç borusan bayi çıkışlıdır . araç borusan çıkışlı olup , servis bakımlıdır . bakımları yeni yapılmıştır . araç donanım listesi hayalet gösterge vakumlu kapılar hayalet ekran elektrikli bagaj kapağı geri görüş kamerası bluetooth usb aux bluetooth telefon bağlantısı eğim iniş destek asistanı gündüz ledleri far sensörü yağmur sensörü far sensörü ön arka park sensörü yağmur sensörü far sensörü ön ve arka park sensörü bluetooth aux usb girişi\n",
      "\n"
     ]
    },
    {
     "name": "stderr",
     "output_type": "stream",
     "text": [
      "\r",
      " 76%|████████████████████████████████████████████████████████████▊                   | 228/300 [05:10<01:42,  1.43s/it]"
     ]
    },
    {
     "name": "stdout",
     "output_type": "stream",
     "text": [
      "\" araç model bilgisi ; bmw 5 . 20i executıve m sport plus 1 . 6 motor 170 hp 8 ileri joystick vites f1 vites sunroof elektrikli bagaj kapağı geri görüş kamerası ön ve arka park sensörü elektrikli katlanır ayna bi xenon led farlar far yıkama elektrikli katlanır ayna yağmur sensörü far sensörü ön arka park sensörü otomatik kararan dikiz aynası far ve yağmur sensörü far sensörü ön ve arka park sensörü elektrikli katlanır yan aynalar elektrikli arka perde elektrikli arka perde yan makam perdeleri arka kol dayama ve daha sayamadığım daha bir çok özellik mevcuttur . not : aracın kasko bedeli . 000 tl dir .\n",
      "\n"
     ]
    },
    {
     "name": "stderr",
     "output_type": "stream",
     "text": [
      "\r",
      " 76%|█████████████████████████████████████████████████████████████                   | 229/300 [05:11<01:33,  1.31s/it]"
     ]
    },
    {
     "name": "stdout",
     "output_type": "stream",
     "text": [
      "\" 2011 model bmw 5 . 20d comfort dış m sport hatasız boyasız tramersiz kazasız boyasız tramersiz f1 vites koltuk ısıtma elektrikli hafızalı koltuk elektrikli ön koltuklar koltuk ısıtma koltuk hafıza paketi geri görüş kamerası ön ve arka park sensörü arka park sensörü elektrikli katlanır yan aynalar elektrikli arka perde yokuş kalkış desteği anahtarsız çalıştırma start stop bluetooth telefon bağlantısı usb aux girişi bluetooth telefon bağlantısı fonksiyonel deri direksiyon elektrikli arka perde hava yastıkları run flat lastikler\n",
      "\n"
     ]
    },
    {
     "name": "stderr",
     "output_type": "stream",
     "text": [
      "\r",
      " 77%|█████████████████████████████████████████████████████████████▎                  | 230/300 [05:12<01:20,  1.15s/it]"
     ]
    },
    {
     "name": "stdout",
     "output_type": "stream",
     "text": [
      "\" araç model bilgisi ; bmw 5 serisi 520d comfort 184 hp 8 ileri otomatik vites sunroof koltuk ısıtma elektrikli bagaj hayalet gösterge vakumlu kapılar geniş ekran navigasyon hayalet ekran vakumlu kapılar elektrikli bagaj hayalet ekran vakumlu kapılar elektrikli bagaj geri görüş kamerası bluetooth telefon elektrikli hafızalı ön koltuklar elektrikli direksiyon ön arka kol dayama elektrikli hafızalı sürücü koltuğu elektrikli direksiyon ısıtmalı ön koltuklar elektrikli katlanır aynalar çift yönlü dijital klima start & stop anahtarsız çalışma iç ve dış ışık paketi dijital çift bölgeli klima fonksiyonel spor deri direksiyon elektrikli katlanır ısıtmalı hafızalı yan aynalar elektrokrom ( ışığa duyarlı ) iç ve dış aynalar yağmur sezici far sensörü eco comfort sport sport sürüş modları türkçe ön panel akustik kemer uyarısı otomatik kapı kilit fonksiyonu karter koruması velur halı paspaslar ön kol dayama arka kol dayama run flat ( patlamayan ) lastikler iletişim : 0532 90 45 bindir\n",
      "\n"
     ]
    },
    {
     "name": "stderr",
     "output_type": "stream",
     "text": [
      "\r",
      " 77%|█████████████████████████████████████████████████████████████▌                  | 231/300 [05:14<01:24,  1.23s/it]"
     ]
    },
    {
     "name": "stdout",
     "output_type": "stream",
     "text": [
      "\" araç borusan çıkışlı olup , borusan bakımlıdır . içi dışı tertemiz çizik dahi yoktur . aracın bütün bakımları yapılmıştır . aracın içi ve dışı sıfır ayarındadır . araç muayenesi mevcuttur . istenilen yere götürülüp gösterilebilir .\n",
      "\n"
     ]
    },
    {
     "name": "stderr",
     "output_type": "stream",
     "text": [
      "\r",
      " 77%|█████████████████████████████████████████████████████████████▊                  | 232/300 [05:14<01:05,  1.03it/s]"
     ]
    },
    {
     "name": "stdout",
     "output_type": "stream",
     "text": [
      "\" araç borusan çıkışlı olup , komple boyalı olup , değişen , boyanan parçası yoktur , boya ve değişen yoktur . sadece sağ ön çamurluk boyalı , sağ arka kapı ve sağ arka kapı ve çamurluk , ön kaput , ön ve arka tampon değişmiştir . tramer kaydı yoktur . sadece sağ ön çamurlukta lokal boya vardır . hasar kaydı yoktur .\n",
      "\n"
     ]
    },
    {
     "name": "stderr",
     "output_type": "stream",
     "text": [
      "\r",
      " 78%|██████████████████████████████████████████████████████████████▏                 | 233/300 [05:15<00:58,  1.15it/s]"
     ]
    },
    {
     "name": "stdout",
     "output_type": "stream",
     "text": [
      "\" araç bilgileri ( ( ( ( ( ( ( ( ( ( ( ( ( ( ) ) ) ) ) ) ) ) ) ) ( ) ( ( ( ( ( ( ( ) ) ) ) ) ( ( ) ( ( ( ( ( ( ( ( ( ( ( ) ( ( ) ) ) ) ) ) ) ) ) ) ) ) ) ) ) ( ) ) ) ) ( ) ) ) ) ) ) büyük ekran ( nbt ) hayalet gösterge elektrikli bagaj geri görüş kamerası elektrikli direksiyon hafızalı koltuk elektrikli direksiyon ısıtmalı hafızalı koltuklar ön arka park sensörü elektrikli arka perde elektrikli arka perde çift bölge dijital klima fonksiyonel deri direksiyon çift bölgeli dijital klima ön arka park sensörü far sensörü yağmur sensörü far sensörü elektrikli arka perde sis farı far sensörü yağmur sensörü ön arka park sensörü ön arka park sensörü alaşımlı jant sis farı isofix sis farı alaşımlı jantlar vs . vs . vs vs vs vs vs vs vs vs vs vs vs vs yoktur\n",
      "\n"
     ]
    },
    {
     "name": "stderr",
     "output_type": "stream",
     "text": [
      "\r",
      " 78%|██████████████████████████████████████████████████████████████▍                 | 234/300 [05:16<01:14,  1.13s/it]"
     ]
    },
    {
     "name": "stdout",
     "output_type": "stream",
     "text": [
      "\" 2012 model bmw 5 . 20i premium comfort paket borusan çıkışlı sunroof hayalet ekran vakumlu kapılar elektirikli hafızalı koltuk elektirikli perde hafızalı koltuk koltuk ısıtma elektrikli hafızalı koltuk ön arka kol dayama elektrikli arka perde elektrikli arka perde elektrikli katlanır ayna bi xenon far far yıkama far yağmur sensörü ön arka park sensörü ön arka kol dayama start & stop lastik basınç sensörü yağmur sensörü far sensörü ön arka park sensörü far yıkama ön arka park sensörü sis farı çelik jant sis farı çelik jant sis farı çelik jant sis farı far sensörü yağmur sensörü ön arka park sensörü elektrikli arka perde yan makam perdeleri kararan dikiz aynası elektrikli arka perde elektrikli arka perde hava yastıkları ön arka kol dayama ısofıx vs . vs vs vs vs vs vs vs vs \"\n",
      "\n"
     ]
    },
    {
     "name": "stderr",
     "output_type": "stream",
     "text": [
      "\r",
      " 78%|██████████████████████████████████████████████████████████████▋                 | 235/300 [05:18<01:16,  1.18s/it]"
     ]
    },
    {
     "name": "stdout",
     "output_type": "stream",
     "text": [
      "2011 model bmw 5 . 20i premium otomatik vites sunroof deri koltuk ısıtma elektrikli hafızalı koltuk elektrikli direksiyon ön arka kol dayama elektrikli arka perde elektrikli katlanır ayna yağmur sensörü far sensörü ön arka park sensörü far yıkama sunroof park sensörü yağmur sensörü far sensörü far sensörü sis farı ışık paket ön arka park sensörü ön arka kol dayama ısofıx 18 jant lastık sıfır motor yapılmıştır . ​\n",
      "\n"
     ]
    },
    {
     "name": "stderr",
     "output_type": "stream",
     "text": [
      "\r",
      " 79%|██████████████████████████████████████████████████████████████▉                 | 236/300 [05:18<01:05,  1.03s/it]"
     ]
    },
    {
     "name": "stdout",
     "output_type": "stream",
     "text": [
      "\" aracım borusan çıkışlı olup , servis bakımlıdır . herhangi bir kazası yoktur . tramer kaydı yoktur . yedek anahtarı kitapçıkları vardır .\n",
      "\n"
     ]
    },
    {
     "name": "stderr",
     "output_type": "stream",
     "text": [
      "\r",
      " 79%|███████████████████████████████████████████████████████████████▏                | 237/300 [05:19<00:50,  1.26it/s]"
     ]
    },
    {
     "name": "stdout",
     "output_type": "stream",
     "text": [
      "\" araç borusan çıkışlı olup , borusan bakımlı , ilk sahibinden olup , servis bakımlıdır . bütün bakımları yapılmıştır . aracın ön takım , ön takım , ön takım , arka cam dahil ) , arka cam filmi , ön arka tampon ve yan marşpiyel , ön arka tampon , yan marşpiyel , ön tampon , yan marşpiyel , marşpiyel , yan marşpiyel , yan marşpiyel , m ayna kapakları , arka tampon , m ön tampon , m ön tampon , m marşbiyel , 18 m jant , m paket , sunroof , , geri görüş kamerası , m paket , elektrikli bagaj , hafızalı koltuklar , ısıtmalı ön koltuklar , geri görüş kamerası , ön arka park sensörü , geri görüş kamerası , bluetooth , aux , usb , cd çalar , park sensörü , yağmur sensörü , far sensörü , kararan iç dikiz aynası . \"\n",
      "\n"
     ]
    },
    {
     "name": "stderr",
     "output_type": "stream",
     "text": [
      "\r",
      " 79%|███████████████████████████████████████████████████████████████▍                | 238/300 [05:20<01:01,  1.01it/s]"
     ]
    },
    {
     "name": "stdout",
     "output_type": "stream",
     "text": [
      "\" araç borusan çıkışlıdır . araçta sigara içilmemiştir . aracın içi dışı tertemiz ve bakımlıdır . aracın tüm bakımları yetkili serviste yapılmıştır . araç kapalı garajda muhafaza edilmiştir . aracın üzerinde 4 adet kışlık lastik vardır . aracın yedek anahtarı mevcuttur . aracın üzerinde 4 adet jant lastik bulunmaktadır . yedek anahtarı ve kitapçıkları mevcuttur . \"\n",
      "\n"
     ]
    },
    {
     "name": "stderr",
     "output_type": "stream",
     "text": [
      "\r",
      " 80%|███████████████████████████████████████████████████████████████▋                | 239/300 [05:21<00:53,  1.15it/s]"
     ]
    },
    {
     "name": "stdout",
     "output_type": "stream",
     "text": [
      "\" 2016 model bmw 5 . 25d xdrive premium m sport plus paket içi bej deri döşeme sunroof bej deri döşeme elektrikli katlanır ayna ön arka park sensörü geri görüş kamerası anahtarsız çalıştırma start stop anahtarsız çalıştırma çift bölge dijital klima hız sabitleyici elektrikli katlanır ayna yağmur sensörü far sensörü park sensörü far yıkama bluetooth usb aux bluetooth telefon bağlantısı yokuş kalkış desteği 3 farklı sürüş modu eco comfort sport sport plus sürüş modları yol bilgisayarı yağmur sensörü far sensörü otomatik kararan dikiz aynası elektrikli katlanır ayna bluetooth aux usb mp3 cd çalar aux ın usb girişi bluetooth telefon bağlantısı aux ın usb girişi hız sabitleyici yol bilgisayarı ön arka kol dayama ısofıx 17 jantlar\n",
      "\n"
     ]
    },
    {
     "name": "stderr",
     "output_type": "stream",
     "text": [
      "\r",
      " 80%|████████████████████████████████████████████████████████████████                | 240/300 [05:22<00:57,  1.05it/s]"
     ]
    },
    {
     "name": "stdout",
     "output_type": "stream",
     "text": [
      "\" araç kapalı garajda muhafaza edilmiştir . aracın tüm bakımları yapılmıştır . aracın üzerinde kışlık lastik vardır . aracın tüm bakımları yapılmıştır . km si kesinlikle orjinaldir . sadece sağ ön çamurlukta çizik boyası vardır . tramer kaydı yoktur . pazarlık payı vardır lütfen takas teklif etmeyiniz . \"\n",
      "\n"
     ]
    },
    {
     "name": "stderr",
     "output_type": "stream",
     "text": [
      "\r",
      " 80%|████████████████████████████████████████████████████████████████▎               | 241/300 [05:22<00:49,  1.19it/s]"
     ]
    },
    {
     "name": "stdout",
     "output_type": "stream",
     "text": [
      "\" araç , model bilgisi ; bmw 5 . 25d xdrive m sport borusan çıkışlı borusan bakımlı hatasız boyasız tramersiz full yetkili servis bakımlı sunroof ( açılır tavan ) hayalet gösterge vakumlu kapılar elektrikli bagaj hayalet gösterge vakumlu kapılar geri görüş kamerası elektrikli bagaj kapağı geri görüş kamerası ön ve arka park sensörü elektrikli arka perde elektrikli arka perde yan makam perdeleri elektrikli arka perde elektrikli arka perde ve yan protokol perdeler elektrikli arka perde arka makam perde yan protokol perde elektrikli arka perde yan makam perdeleri elektrikli arka perde elektrikli arka perde elektrikli katlanır ayna yağmur ve far sensörü 4 koltuk ısıtma elektrikli arka perde elektrikli arka perde elektrikli arka perde yan makam perdeleri elektrikli arka perde elektrikli arka perde elektrikli ve hafızalı ön koltuklar ve arka yan makam perdeleri elektrikli arka perde elektrikli arka perde çift bölge dijital klima anahtarsız çalıştırma cd çalar usb aux far sensörü yağmur sensörü elektrikli arka perde elektrikli yan makam perdeleri elektrikli arka perde bluetooth telefon hazırlık sis farı alaşımlı jantlar vs vs vs vs vs vs vs vs vs \"\n",
      "\n"
     ]
    },
    {
     "name": "stderr",
     "output_type": "stream",
     "text": [
      "\r",
      " 81%|████████████████████████████████████████████████████████████████▌               | 242/300 [05:24<01:04,  1.12s/it]"
     ]
    },
    {
     "name": "stdout",
     "output_type": "stream",
     "text": [
      "araç orjinal m sport plus modelidir . araç özellikleri ; sunroof bi xenon farlar geri görüş kamerası bluetooth telefon bağlantısı geri görüş kamerası elektrikli katlanır ayna far yağmur sensörü park sensörü ön ve arka kol dayama arka park sensörü yağmur sensörü far sensörü otomatik kararan dikiz aynası abs asr esp asr esp radyo cd aux çalar yol bilgisayarı fonksiyonel direksiyon elektrikli arka perde elektrikli yan aynalar camlar kasko değeri : 286 . 00 tl\n",
      "\n"
     ]
    },
    {
     "name": "stderr",
     "output_type": "stream",
     "text": [
      "\r",
      " 81%|████████████████████████████████████████████████████████████████▊               | 243/300 [05:25<00:56,  1.00it/s]"
     ]
    },
    {
     "name": "stdout",
     "output_type": "stream",
     "text": [
      "\" araç 2014 model bmw 5 . 20i premium 170 hp 8 ileri otomatik vites , sunroof , geri görüş kamerası , elektrikli hafızalı sürücü koltuğu , elektrikli ısıtmalı , hafızalı , elektrikli ısıtmalı , katlanır aynalar , elektrikli katlanır ayna , start stop , anahtarsız çalıştırma , start stop , anahtarsız çalıştırma , ışık paket , dijital klima , hız sabitleyici , park sensörü , yağmur sensörü , far sensörü , kararan dikiz aynası , far yıkama , ısıtmalı aynalar , elektrikli arka perde , sis farı , yağmur sensörü , far sensörü , ışık paketi , kapı kolu aydınlatma , dijital klima , abs , asr , esp , alarm , ımmobılızer , elektrikli , ısıtmalı aynalar , elektrikli arka park sensörü , uzaktan kumandalı merkezi kilit , ön arka kol dayama , isofix mevcuttur . \"\n",
      "\n"
     ]
    },
    {
     "name": "stderr",
     "output_type": "stream",
     "text": [
      "\r",
      " 81%|█████████████████████████████████████████████████████████████████               | 244/300 [05:26<01:02,  1.12s/it]"
     ]
    },
    {
     "name": "stdout",
     "output_type": "stream",
     "text": [
      "\" sahibinden satılık bmw 5 . 20i premium 170 hp hayalet ekran vakum kapılar elektrikli koltuk hafızalı koltuk koltuk ısıtma elektrikli bagaj elektrikli hafızalı koltuk elektrikli perde ön arka park sensörü geri görüş kamerası far yıkama sunroof xenon farlar ve far yıkama çift yönlü dijital klima elektrikli arka perde elektrikli arka perde elektrikli katlanır ayna yağmur far sensörü far sensörü park sensörü elektrikli katlanır ayna kararan dikiz aynası elektirikli arka perde ahşap iç trimler ve daha birçok özellik . ​\n",
      "\n"
     ]
    },
    {
     "name": "stderr",
     "output_type": "stream",
     "text": [
      "\r",
      " 82%|█████████████████████████████████████████████████████████████████▎              | 245/300 [05:27<00:56,  1.02s/it]"
     ]
    },
    {
     "name": "stdout",
     "output_type": "stream",
     "text": [
      "\" aracın ilk sahibiyim . araç borusan çıkışlıdır . aracın bakımları yeni yapılmıştır . aracın özellikleri ; sunroof geri görüş kamerası ön arka park sensörü elektrikli katlanır aynalar elektrikli arka perde elektrikli katlanır ayna yağmur sensörü far sensörü far yıkama çift yönlü dijital klima arka park sensörü far sensörü yağmur sensörü ön arka park sensörü far sensörü yağmur sensörü ön arka park sensörü fonksiyonel deri direksiyon arka kol dayama arka perde sis farı çelik jant sis farı cd mp3 çalar usb aux giriş abs esp asr start stop hız sabitleme yokuş kalkış desteği yağmur sensörü far sensörü ön arka park sensörü far yıkama çift yönlü dijital klima hız sabitleyici ön arka park sensörü elektrikli ısıtmalı aynalar ön arka park sensörü geri görüş kamerası bluetooth telefon usb aux\n",
      "\n"
     ]
    },
    {
     "name": "stderr",
     "output_type": "stream",
     "text": [
      "\r",
      " 82%|█████████████████████████████████████████████████████████████████▌              | 246/300 [05:28<00:59,  1.10s/it]"
     ]
    },
    {
     "name": "stdout",
     "output_type": "stream",
     "text": [
      "\" araç servis bakımlıdır . bakımları yeni yapılmıştır . ön tampon ve yan marşpiyel değişmiştir . araç özellikleri ; sunroof sport comfort sürüş modu auto hold yokuş kalkış desteği yağmur sensörü far sensörü park sensörü ön arka kol dayama arka kol dayama ışık paketi ön sis farı far sensörü yağmur sensörü ön arka park sensörü far sensörü otomatik kararan dikiz aynası radyo cd mp3 çalar yol bilgisayarı fonksiyonel deri direksiyon hız sabitleyici elektrikli arka perde elektrikli arka perde yağmur sensörü far sensörü arka park sensörü elektrikli arka perde ön arka park sensörü elektrikli arka perde yan makam perdeleri elektrikli arka perde yan makam perdeleri kararan dikiz aynası elektrikli katlanır ayna elektrikli arka perde sis farı çelik jant sis farı çelik jant sis farı far sensörü yağmur sensörü far yıkama bluetooth telefon bağlantısı usb aux girişi bluetooth telefon bağlantısı park mesafe kontrol ön arka kol dayama ısofıx bmw logolu kapı kolları aydınlatma paketi\n",
      "\n"
     ]
    },
    {
     "name": "stderr",
     "output_type": "stream",
     "text": [
      "\r",
      " 82%|█████████████████████████████████████████████████████████████████▊              | 247/300 [05:30<01:04,  1.21s/it]"
     ]
    },
    {
     "name": "stdout",
     "output_type": "stream",
     "text": [
      "\" araç borusan çıkışlı olup , borusan bakımlı , hayalet ekran , navigasyon , vakumlu kapılar , hayalet gösterge , vakumlu kapılar , elektrikli bagaj , hafızalı koltuk , ısıtmalı ön koltuklar , elektrikli hafızalı sürücü koltuğu , elektrikli hafızalı , ısıtmalı , hafızalı , elektrikli ön koltuklar , geri görüş kamerası , bluetooth , aux , usb , cd çalar , park sensörü , yağmur sensörü , far sensörü , sis farı , yağmur sensörü , far sensörü , kararan dikiz aynası , fonksiyonel deri direksiyon , ön arka park sensörü , geri görüş kamerası , ön arka park sensörü , yağmur sensörü , far sensörü , fonksiyonel direksiyon , m ayna , far yıkama , ışık paket , kapı kolları aydınlatma , kapı kolu aydınlatma , dijital klima , arka park sensörü , yağmur sensörü , far sensörü , kararan iç dikiz aynası , abs , asr , esp , alarm , ımmobılızer , elektrikli , ısıtmalı aynalar , elektrikli camlar , uzaktan kumandalı merkezi kilit , ön kol dayama , arka kol dayama , isofix mevcuttur . tramer kaydı yoktur . \"\n",
      "\n"
     ]
    },
    {
     "name": "stderr",
     "output_type": "stream",
     "text": [
      "\r",
      " 83%|██████████████████████████████████████████████████████████████████▏             | 248/300 [05:32<01:12,  1.39s/it]"
     ]
    },
    {
     "name": "stdout",
     "output_type": "stream",
     "text": [
      "\" araç borusan çıkışlıdır . 2 . 000 km de olup , sadece sağ ön çamurlukta boya vardır . değişen parça yoktur . sadece sağ arka çamurlukta çizik boyası vardır . harici hatasız boyasızdır . tramer kaydı yoktur . park halinde çarpma 18 . 000 tl tramer kaydı vardır .\n",
      "\n"
     ]
    },
    {
     "name": "stderr",
     "output_type": "stream",
     "text": [
      "\r",
      " 83%|██████████████████████████████████████████████████████████████████▍             | 249/300 [05:32<00:57,  1.14s/it]"
     ]
    },
    {
     "name": "stdout",
     "output_type": "stream",
     "text": [
      "\" araç model bilgisi ; bmw 5 . 20i executıve m sport plus : borusan çıkışlı dış renk : beyaz iç renk : bej deri döşeme : sunroof vakumlu kapılar hayalet ekran geniş ekran geri görüş kamerası hafızalı koltuk elektrikli direksiyon ön koltuk ısıtma elektrikli hafızalı ısıtmalı ön koltuklar elektrikli arka perde elektrikli arka perde elektrikli katlanır ayna geri görüş kamerası bluetooth aux usb mp3 çalar cd changer bmw müzik sistemi elektrikli arka perde elektrikli arka perde elektrikli arka perde yan protokol perde elektrikli arka perde katlanır ayna yağmur ve far sensörü park sensörü çift bölge dijital klima abs esp asr esp radyo cd mp3 çalar yol bilgisayarı fonksiyonel deri direksiyon ön arka kol dayama ısofıx 18 m sport alaşım jantlar\n",
      "\n"
     ]
    },
    {
     "name": "stderr",
     "output_type": "stream",
     "text": [
      "\r",
      " 83%|██████████████████████████████████████████████████████████████████▋             | 250/300 [05:33<00:57,  1.15s/it]"
     ]
    },
    {
     "name": "stdout",
     "output_type": "stream",
     "text": [
      "\" 2012 model bmw 5 . 25 x drive premium borusan çıkışlı hayalet ekran vakumlu kapılar geri görüş kamerası sunroof vakumlu kapılar elektrikli bagaj bi xenon far hayalet gösterge vakumlu kapılar elektrikli bagaj geri görüş kamerası elektrikli hafızalı koltuk ısıtmalı ön koltuklar elektrikli direksiyon ön arka park sensörü geri görüş kamerası bluetooth telefon start stop bluetooth aux usb bluetooth aux cd mp3 çalar usb aux giriş ön arka park sensörü elektrikli arka perde elektrikli arka perde yan makam perdeleri elektrikli arka perde yan protokol perde elektrikli arka perde yan makam perdeleri elektrikli arka perde far ve yağmur sensörü ön arka park sensörü elektrikli arka perde elektrikli yan makam perdeleri elektrikli arka perde elektrikli arka perde elektrikli katlanır yan aynalar elektrikli arka perde usb aux bluetooth telefon hazırlık sis farı alaşımlı jantlar vs vs vs vs vs vs vs vs vs vs vs vs vs vs vs vs vs vs vs vs vs vs vs vs vs vs vs\n",
      "\n"
     ]
    },
    {
     "name": "stderr",
     "output_type": "stream",
     "text": [
      "\r",
      " 84%|██████████████████████████████████████████████████████████████████▉             | 251/300 [05:35<01:01,  1.26s/it]"
     ]
    },
    {
     "name": "stdout",
     "output_type": "stream",
     "text": [
      "araç borusan çıkışlı olup servis bakımlıdır . bakımları yeni yapılmıştır .\n",
      "\n"
     ]
    },
    {
     "name": "stderr",
     "output_type": "stream",
     "text": [
      "\r",
      " 84%|███████████████████████████████████████████████████████████████████▏            | 252/300 [05:35<00:44,  1.08it/s]"
     ]
    },
    {
     "name": "stdout",
     "output_type": "stream",
     "text": [
      "\" araç model bilgisi ; bmw 5 serisi gran coupe sport plus 1 . 6 170 hp 8 ileri otomatik vites sunroof deri koltuk ısıtma elektrikli hafızalı sürücü koltuğu elektrikli yolcu koltuğu soft close ( vakumlu kapılar ) elektrikli bagaj kapağı geri görüş kamerası bluetooth telefon bağlantısı masaj fonksiyonu ön koltuk ısıtma paketi otomatik klima ( ekranlı 2bölge ) elektrikli hafızalı ön koltuklar ısıtmalı ön koltuklar elektrikli arka cam perdesi elektrokrom iç ayna far yıkama sistemi park mesafe kontrol ön arka yağmur sezicisi otomatik klima ( ekranlı 2bölge yağmur sezicisi park mesafe kontrol ön arka sürüş asistanı bmw acil durum çağrısı bmw teleservıces 7r3 7r3 7r3 7r3 otomatik kapı kilit fonk . premıum lıne havalandırma arka koltuk okuma ışıkları prof . güneş korumalı arka camlar spor deri direksiyon otomatik açılır bagaj kapağı soft close otomatik kapılar çok işlevli gösterge ekranı bmw harekete duyarlı komut sistemi çok işlevli gösterge ekranı bmw ekranlı anahtar connecteddrıve fonksiyonları uzaktan kontrol fonksiyonları arka koltuk eğlence ıdrıve akıllı tel bağ . sis . wireless bmw hareketle komut sistemi adaptif led farlar led sis farları otomatik uzun far fonksiyonu geri görüş kamerası park mesafe kontrol ön arka sürüş asistanı bmw acil durum çağrısı bmw teleservıces 7r3 7r3 7r3 7r3 otomatik kapı kilit fonk . karter koruması otomatik açılır bagaj kapağı soft close otomatik kapılar elektrokrom katlanır aynalar leatherette bej deri döşeme türkiye paketi otomatik şanzıman 8 ileri plus elektrikli cam tavan \"\n",
      "\n"
     ]
    },
    {
     "name": "stderr",
     "output_type": "stream",
     "text": [
      "\r",
      " 84%|███████████████████████████████████████████████████████████████████▍            | 253/300 [05:38<01:07,  1.43s/it]"
     ]
    },
    {
     "name": "stdout",
     "output_type": "stream",
     "text": [
      "\" araç borusan çıkışlı olup , servis bakımlıdır . yetkili servis bakımlıdır . herhangi bir masrafı yoktur . araç sadece sağ ön çamurluğunda boya vardır . değişen yoktur . hasar kaydı yoktur . \"\n",
      "\n"
     ]
    },
    {
     "name": "stderr",
     "output_type": "stream",
     "text": [
      "\r",
      " 85%|███████████████████████████████████████████████████████████████████▋            | 254/300 [05:38<00:50,  1.10s/it]"
     ]
    },
    {
     "name": "stdout",
     "output_type": "stream",
     "text": [
      "\" araç model bilgisi ; bmw 5 serisi gran coupe 4 . 18i edıtıon sport plus 1 . 6 motor 170 hp 8 ileri otomatik vites sunroof deri koltuk koltuk ısıtma elektrikli bagaj kapağı geri görüş kamerası ön arka park sensörü elektrikli katlanır ayna çift yönlü dijital klima bluetooth telefon bağlantısı usb aux giriş ön arka park sensörü far gece sensörü park sensörü yağmur sensörü lastik basınç sensörü fonksiyonel direksiyon m sport jantlar orjinal m jantlar vs vs vs vs vs vs vs vs vs vs vs vs vs vs vs vs vs vs yoktur\n",
      "\n"
     ]
    },
    {
     "name": "stderr",
     "output_type": "stream",
     "text": [
      "\r",
      " 85%|████████████████████████████████████████████████████████████████████            | 255/300 [05:39<00:47,  1.06s/it]"
     ]
    },
    {
     "name": "stdout",
     "output_type": "stream",
     "text": [
      "\" sahibinden satılık bmw 5 . 20i premium 170 hp hayalet ekran vakumlu kapılar sunroof vakumlu kapılar elektrikli bagaj hayalet gösterge vakumlu kapılar elektrikli bagaj hayalet ekran vakumlu kapılar elektrikli bagaj kapağı geri görüş kamerası vakumlu kapılar hayalet ekran hafızalı koltuk elektrikli direksiyon ön arka park sensörü elektrikli arka perde çift bölge dijital klima sunroof bluetooth telefon bağlantısı geri görüş kamerası bluetooth telefon hazırlık sis farı far gece sensörü yağmur sensörü ön ve arka park sensörü sis farı çelik jant sis farı çelik jantlar vs . vs . vs . vs vs vs vs vs vs vs vs vs vs vs yoktur\n",
      "\n"
     ]
    },
    {
     "name": "stderr",
     "output_type": "stream",
     "text": [
      "\r",
      " 85%|████████████████████████████████████████████████████████████████████▎           | 256/300 [05:40<00:47,  1.07s/it]"
     ]
    },
    {
     "name": "stdout",
     "output_type": "stream",
     "text": [
      "\" otomotiv den 2015 bmw 4 . 18i gran coupe sport plus aracımız borusan çıkışlı olup yetkili servis bakımlıdır . bakımları yeni yapılmıştır . masrafsız bir araçtır . alıcısına şimdiden hayırlı olsun .\n",
      "\n"
     ]
    },
    {
     "name": "stderr",
     "output_type": "stream",
     "text": [
      "\r",
      " 86%|████████████████████████████████████████████████████████████████████▌           | 257/300 [05:40<00:36,  1.16it/s]"
     ]
    },
    {
     "name": "stdout",
     "output_type": "stream",
     "text": [
      "\" sahibinden satılık . bmw 5 . 20i premium 170 hp borusan çıkışlı borusan bakımlı . 8 ileri joystick yeni nesil şanzıman ( 184 hp yeni nesil motor yeni nesil motor dizel ) dış renk ( sedefli beyaz ) iç dış ( dış ) ışık paket ( kapı ) orjinal bmw m sport jantlar ( orjinal ) led gündüz farları led arka stoplar elektrikli arka perde elektrikli katlanır ayna bi xenon far far yıkama sistemi bluetooth telefon hazırlık sis farı far gece sensörü yağmur sensörü park sensörü yağmur sensörü otomatik kararan dikiz aynası \"\n",
      "\n"
     ]
    },
    {
     "name": "stderr",
     "output_type": "stream",
     "text": [
      "\r",
      " 86%|████████████████████████████████████████████████████████████████████▊           | 258/300 [05:41<00:37,  1.13it/s]"
     ]
    },
    {
     "name": "stdout",
     "output_type": "stream",
     "text": [
      "\" araç model bilgisi ; bmw 5 serisi 520d comfort 184 hp borusan çıkışlı sunroof bi xenon led farlar geri görüş kamerası ön arka park sensörü elektrikli arka perde elektrikli katlanır ayna bi xenon far far yıkama geri görüş kamerası ön arka park sensörü yağmur sensörü far sensörü ön arka park sensörü far sensörü yağmur sensörü ön arka park sensörü far sensörü ön arka kol dayama aracımızda sadece sağ ön çamurluk değişik ön kaput ve ön çamurluk boyalı sağ ön çamurluk boyalı sol ön çamurluk boyalı sol ön kapı sağ arka çamurluk boyalı sağ ön çamurluk boyalı sol ön çamurluk boyalı sol ön kapı boyalı sağ arka kapı boyalı sol ön çamurluk boyalı sol ön çamurluk sağ ön kapı boyalı sağ arka kapı boyalı sol ön çamurluk boyalı ön kaput boyalı ön sağ arka çamurluk lokal boyalı sol arka kapı boyalı sağ arka çamurluk boyalı sol arka çamurluk boyalı hasar kaydı yok ! ! ! ! ! ! ! ! !\n",
      "\n"
     ]
    },
    {
     "name": "stderr",
     "output_type": "stream",
     "text": [
      "\r",
      " 86%|█████████████████████████████████████████████████████████████████████           | 259/300 [05:43<00:45,  1.11s/it]"
     ]
    },
    {
     "name": "stdout",
     "output_type": "stream",
     "text": [
      "\" araç borusan çıkışlı olup , borusan çıkışlı , borusan bakımlı , ilk sahibinden , borusan çıkışlı , borusan bayi çıkışlı borusan bakımlı , hayalet gösterge , vakumlu kapılar , elektrikli bagaj , hayalet gösterge , geri görüş kamerası , hafızalı koltuk , elektrikli direksiyon , hafızalı şöför koltuğu , elektrikli hafızalı koltuklar , elektrikli direksiyon , ısıtmalı , hafızalı , elektrikli ön koltuklar , elektrikli arka perde , elektrikli katlanır ayna , spor direksiyon , far yıkama , bluetooth , aux girişi , bluetooth , aux , usb , cd , mp3 , aux , usb , cd , mp3 , aux girişi , kol dayama , arka park sensörü , geri görüş kamerası , arka park sensörü , yağmur sensörü , far sensörü , park sensörü , kararan dikiz aynası , arka ve yan makam perdeleri , elektrikli hafızalı koltuklar , elektrikli arka perde , elektrikli katlanır ayna , arka park sensörü , far sensörü , yağmur sensörü , kararan iç dikiz aynası , elektirikli arka perde , far yıkama , led far , sis farı , yağmur sensörü , far sensörü , park sensörü , ışık paket , gelişmiş gösterge , gelişmiş gösterge paneli , abs , asr , esp , radyo cd çalar , yol bilgisayarı , fonksiyonel deri direksiyon , elektrikli , ısıtmalı aynalar , elektrikli arka perde , ışık paket , bluetooth , aux , usb , far yıkama , ışık paket , bluetooth , aux , usb , bluetooth , auto hold . araç iniş , binişinde aydınlatma ön ve arka park yardım desteği , yan makam perdeleri , arka perde , elektrikli katlanır aynalar , elektronik park freni , araç iniş , binişinde aydınlatma ön ve arka park yardım desteği , yan makam perdeleri , kararan iç dikiz aynası , abs\n",
      "\n"
     ]
    },
    {
     "name": "stderr",
     "output_type": "stream",
     "text": [
      "\r",
      " 87%|█████████████████████████████████████████████████████████████████████▎          | 260/300 [05:46<01:06,  1.65s/it]"
     ]
    },
    {
     "name": "stdout",
     "output_type": "stream",
     "text": [
      "\" araç borusan çıkışlı olup , bakımlı olup , masrafsızdır . araç özellikleri ; sunroof bi xenon farlar far yıkama çift yönlü dijital klima elektrikli arka perde bluetooth telefon hazırlık sis farı çelik jant sis farı alaşımlı jantlar ön arka park sensörü geri görüş kamerası ön arka park sensörü bluetooth usb aux cd çalar abs esp asr esp asr start stop ön kol dayama ön arka sis farı çelik jant sis farı çelik jant sis farı çelik jant sis farı ısofıx ımmobılızer yol bilgisayarı vs vs vs vs vs vs vs vs vs vs vs vs vs vs vs\n",
      "\n"
     ]
    },
    {
     "name": "stderr",
     "output_type": "stream",
     "text": [
      "\r",
      " 87%|█████████████████████████████████████████████████████████████████████▌          | 261/300 [05:47<00:56,  1.46s/it]"
     ]
    },
    {
     "name": "stdout",
     "output_type": "stream",
     "text": [
      "\" 2012 model bmw 5 . 25 x drive comfort aracımız borusan çıkışlı olup bütün bakımları yapılmıştır . aracın yedek anahtarı ve kitapçıkları mevcuttur . araç özellikleri : bmw professional müzik sistemi ( yeni nesil şanzıman ) bmw connected drive ( uzaktan kontrol edilebilir ) bmw connected drive ( uzaktan kontrol ) park asistanı ( 3ag & 508 dahil ) bmw harekete duyarlı komut sistemi ( control ) sunroof ( güneş korumalı ) arka makam perdeleri elektrikli direksiyon ısıtma elektrikli direksiyon hafızalı ön koltuklar ısıtmalı ön koltuklar ön arka park sensörü elektrikli arka perde elektrikli arka perde elektrikli arka perde elektrikli arka perde elektrikli katlanır ayna bi xenon far far yıkama far ve yağmur sensörü ön arka park sensörü ön arka park sensörü far ve yağmur sensörü far yıkama ışık paketi\n",
      "\n"
     ]
    },
    {
     "name": "stderr",
     "output_type": "stream",
     "text": [
      "\r",
      " 87%|█████████████████████████████████████████████████████████████████████▊          | 262/300 [05:48<00:53,  1.42s/it]"
     ]
    },
    {
     "name": "stdout",
     "output_type": "stream",
     "text": [
      "\" araç borusan bayi çıkışlıdır . araç borusan bayi çıkışlıdır . aracın ilk günkü gibi temiz olup herhangi bir çizik dahi yoktur . aracın yedek anahtarı vardır . aracın içi ve dışı ilk günkü gibi sıfır ayarında olup , araç kapalı garajda muhafaza edilmiştir . üzerinde kışlık ve jant ve lastikleri mevcuttur . araç özellikleri : sunroof bi xenon farlar ve far yıkama far ve yağmur sensörü ön arka park sensörü elektrikli arka perde çift yönlü dijital klima start & stop ile çalıştırma cd changer elektrikli arka perde elektrikli katlanır aynalar elektrikli arka perde yan makam perdeleri fonksiyonel deri direksiyon ön ve arka park sensörü far sensörü yağmur sensörü far sensörü ön arka park sensörü elektrikli ısıtmalı aynalar elektrikli arka perde elektrikli arka perde yan makam perdeleri ön arka park sensörü far sensörü yağmur sensörü far sensörü ön arka park sensörü ön arka park sensörü fonksiyonel direksiyon yol bilgisayarı yağmur sensörü far sensörü otomatik kararan dikiz aynası start stop anahtarsız çalıştırma start stop sunroof abs esp asr esp vsa hava yastığı yokuş kalkış desteği elektrikli arka perde elektrikli yan aynalar arka perde hava yastıkları alarm ımmobılızer elektrikli , ısıtmalı aynalar elektrikli camlar uzaktan kumandalı merkezi kilit ön kol dayama arka kol dayama isofix aracın sağ arka çamurluğunda boya vardır hasar kaydı yoktur\n",
      "\n"
     ]
    },
    {
     "name": "stderr",
     "output_type": "stream",
     "text": [
      "\r",
      " 88%|██████████████████████████████████████████████████████████████████████▏         | 263/300 [05:50<00:59,  1.62s/it]"
     ]
    },
    {
     "name": "stdout",
     "output_type": "stream",
     "text": [
      "\" araç 2012 model bmw 5 . 20i premium 2013 model yılı 2013 çıkışlı ve borusan bakımlı . ilk sahibinden alınmıştır . ilk sahibinden alınmıştır . ilk sahibinden olup , tüm bakımları yetkili serviste yapılmıştır . aracın tüm bakımları yapılmıştır . km si orjinal olup , kesinlikle yoktur . motor , şanzıman ve yürüyen aksamı kusursuzdur . lpg ruhsata işlidir . aracın detaylı iç temizliği yapılmıştır . aracın yedek anahtarı vardır . aracın tüm araçlarımız expertiz ve kilometre garantilidir . araç fazlalığından satılıktır . takas sadece nakit satılık \"\n",
      "\n"
     ]
    },
    {
     "name": "stderr",
     "output_type": "stream",
     "text": [
      "\r",
      " 88%|██████████████████████████████████████████████████████████████████████▍         | 264/300 [05:51<00:50,  1.40s/it]"
     ]
    },
    {
     "name": "stdout",
     "output_type": "stream",
     "text": [
      "\" bmw 5 . 20i premium m paket sunroof vakumlu kapılar hayalet ekran vakumlu kapılar elektrikli bagaj hayalet ekran vakumlu kapılar elektrikli bagaj f1 vites sunroof geri görüş kamerası ön koltuklarda ısıtma elektrikli direksiyon vakumlu kapılar elektrikli bagaj kapağı geri görüş kamerası ön arka park sensörü elektrikli direksiyon ön arka park sensörü far sensörü far yıkama sunroof elektrikli katlanır aynalar elektrikli arka perde elektrikli arka perde elektrokrom iç ayna yağmur sensörü far sensörü park mesafe sensörü yağmur sensörü far sensörü ön arka park sensörü elektrikli arka perde velur halı paspas auto hold sistemi hold yokuş kalkış desteği elektrikli arka perde yan ve arka perdeler elektrikli arka perde elektrikli yan aynalar arka perde hava yastıkları ön koltuklar hafıza paketi ön ve arka kol dayama bi xenon farlar far yıkama yağmur sensörü ön arka park sensörü elektrikli katlanır ayna fonksiyonel direksiyon elektrikli arka perde elektrikli arka perde yan perdeleri arka perde sis farı alaşımlı jantlar ön ve arka park sensörü far sensörü yağmur sensörü far sensörü arka park mesafe sensörü ön arka park sensörü fonksiyonel deri direksiyon hız sabitleyici ve sınırlayıcı fonksiyonel direksiyon arka kol dayama isofix iç ambians lambası akustik kemer uyarsı kararan dikiz aynası aux usb auto hold \"\n",
      "\n"
     ]
    },
    {
     "name": "stderr",
     "output_type": "stream",
     "text": [
      "\r",
      " 88%|██████████████████████████████████████████████████████████████████████▋         | 265/300 [05:53<00:54,  1.56s/it]"
     ]
    },
    {
     "name": "stdout",
     "output_type": "stream",
     "text": [
      "\" sahibinden satılık bmw 5 . 20i premium m sport plus aracımız özel üretim olup borusan bakımlıdır . sıfır ayarında bir araçtır . araç özellikleri ; sunroof vakumlu kapılar elektrikli bagaj hayalet ekran vakumlu kapılar elektrikli bagaj elektrikli perde sunroof elektrikli direksiyon vakumlu kapılar elektrikli bagaj kapağı geri görüş kamerası anahtarsız çalıştırma start stop geri görüş kamerası bluetooth telefon usb aux bluetooth telefon elektrikli katlanır ayna yağmur sensörü far sensörü ön arka park sensörü elektrikli arka perde hava yastıkları run flat lastikler yeni \"\n",
      "\n"
     ]
    },
    {
     "name": "stderr",
     "output_type": "stream",
     "text": [
      "\r",
      " 89%|██████████████████████████████████████████████████████████████████████▉         | 266/300 [05:54<00:45,  1.35s/it]"
     ]
    },
    {
     "name": "stdout",
     "output_type": "stream",
     "text": [
      "\" araç borusan çıkışlıdır . tüm bakımları yetkili serviste yapılmıştır . en temiz kullanılmış olup , en ufak bir masrafı yoktur . pazarlık payı vardır . \"\n",
      "\n"
     ]
    },
    {
     "name": "stderr",
     "output_type": "stream",
     "text": [
      "\r",
      " 89%|███████████████████████████████████████████████████████████████████████▏        | 267/300 [05:54<00:34,  1.03s/it]"
     ]
    },
    {
     "name": "stdout",
     "output_type": "stream",
     "text": [
      "\" 2012 bmw 5 . 25d xdrive comfort paket sunroof deri koltuk ısıtma elektrikli arka perde elektrikli arka perde elektrikli arka perde yan makam perdeleri elektrikli direksiyon hafızalı koltuk ön ve arka park sensörü geri görüş kamerası elektrikli ısıtmalı hafızalı koltuklar ön arka park sensörü bi xenon far far yıkama ön arka park sensörü yağmur sensörü far sensörü far sensörü ön arka park sensörü ön ve arka kol dayama ısofıx 18 m sport alaşım jantlar vs vs vs vs vs vs vs vs vs vs vs yoktur\n",
      "\n"
     ]
    },
    {
     "name": "stderr",
     "output_type": "stream",
     "text": [
      "\r",
      " 89%|███████████████████████████████████████████████████████████████████████▍        | 268/300 [05:55<00:31,  1.01it/s]"
     ]
    },
    {
     "name": "stdout",
     "output_type": "stream",
     "text": [
      "\" araç borusan çıkışlıdır . araç kapalı garajda muhafaza edilmiştir . aracın tüm bakımları yapılmıştır . masrafsız bir araçtır . içi ve dışı ilk günkü gibi temiz olup . hiç bir masrafı yoktur . aracın tüm bakımları yapılmıştır .\n",
      "\n"
     ]
    },
    {
     "name": "stderr",
     "output_type": "stream",
     "text": [
      "\r",
      " 90%|███████████████████████████████████████████████████████████████████████▋        | 269/300 [05:56<00:25,  1.23it/s]"
     ]
    },
    {
     "name": "stdout",
     "output_type": "stream",
     "text": [
      "\" araç bilgileri ; aracım temiz ve bakımlıdır . herhangi bir kazası yoktur . aracım çok temiz olup en ufak bir deforme yoktur . motor şanzuman sorunsuzdur . bakımları yeni yapılmıştır . araç kapalı garajda muhafaza edilmiştir . aracın içi dışı ilk günkü gibi temiz olup herhangi bir deformasyon yoktur . aracın üzerinde kışlık lastikleri vardır . üzerinde 4 adet sıfır ayarında yazlık ve kışlık lastikleri vardır . üzerinde kışlık lastikler vardır . \"\n",
      "\n"
     ]
    },
    {
     "name": "stderr",
     "output_type": "stream",
     "text": [
      "\r",
      " 90%|████████████████████████████████████████████████████████████████████████        | 270/300 [05:56<00:23,  1.27it/s]"
     ]
    },
    {
     "name": "stdout",
     "output_type": "stream",
     "text": [
      "bmw 5 . 20i premium otomatik vites sunroof deri koltuk koltuk ısıtma katlanır ayna elektrikli hafızalı koltuk koltuk ısıtma elektrikli hafızalı koltuk elektrikli yolcu koltuğu elektrikli arka perde geri görüş kamerası ön arka park sensörü far sensörü yağmur sensörü far sensörü ön arka park sensörü ön arka kol dayama bluetooth telefon hazırlık sis farı alaşımlı jantlar yol bilgisayarı bluetooth aux usb girişi bluetooth telefon bağlantısı abs asr esp alarm ımmobılızer elektrikli , ısıtmalı aynalar elektrikli camlar uzaktan kumandalı merkezi kilit ön kol dayama arka kol dayama isofix aracın sağ ön çamurluğu ve sağ arka kapısı değişmiştir . tramer kaydı yoktur . \"\n",
      "\n"
     ]
    },
    {
     "name": "stderr",
     "output_type": "stream",
     "text": [
      "\r",
      " 90%|████████████████████████████████████████████████████████████████████████▎       | 271/300 [05:57<00:24,  1.17it/s]"
     ]
    },
    {
     "name": "stdout",
     "output_type": "stream",
     "text": [
      "\" araç borusan çıkışlıdır . araçta sadece sağ ön çamurluk , sağ arka kapı ve sağ arka çamurlukta lokal boya vardır . değişen kesinlikle yoktur . tüm bakımları yapılmıştır . aracın 2 . sahibiyim . araç özellikleri vardır . aracın plakası : 34 . 000 tl : 12 ay toplam : tl . tramer : tl . 2 . el . araç kasko değeri : kasko değeri : 321 . 696 . 00 tl 48 aya kadar taksit tutarı : bu aracın kasko değeri : 321 . 696 . 00 tl 12 . 00 tl vergi levhalı şirketi ile birlikte fiyat tespiti için sizi esenboğa tesisimizde ikramlarımız ile misafir ederken üstün bmw teknolojisi yakından tanıma imkanına zaman ayırmış olabilirsiniz . iletişim borusan oto balgat tesisimizde sergilenmektedir , satış yetkililerimize 0 312 253 33 99 nolu telefondan ulaşabilirsiniz . ekspertiz durumu otomobilimizin hatasız dır . 5664 e sms 5664 e sms atıldığında gelen cevap : hasar kaydı yoktur . donanım metalik gri güneş korumalı arka camlar elektrokrom iç ayna yağmur sezicisi türkçe ön panel parlak siyah dış kaplama m deri direksiyon gelişmiş gösterge paneli hexagon alcantara kumaş döşeme hands free ve usb bağlantısı türkçe ön panel bmw acil durum çağrısı bmw teleservıces 7r3 otomatik kapı kilit fonk . akustik kemer uyarısı 7r3 otomatik kapı kilit fonk . karter koruması elektrokrom iç ayna karter koruması \"\n",
      "\n"
     ]
    },
    {
     "name": "stderr",
     "output_type": "stream",
     "text": [
      "\r",
      " 91%|████████████████████████████████████████████████████████████████████████▌       | 272/300 [05:59<00:35,  1.26s/it]"
     ]
    },
    {
     "name": "stdout",
     "output_type": "stream",
     "text": [
      "\" auto güvencesiyle 2012 model bmw 5 . 25d xdrive premium dış m sport beyaz içi bej deri döşeme sunroof bej deri döşeme elektrikli hafızalı koltuk koltuk ısıtma ön arka kol dayama far sensörü yağmur sensörü ön arka park sensörü far sensörü yağmur sensörü ön arka park sensörü ön arka kol dayama ısofıx araç kasko değeri : 275 . 000 tl 12 ay x 4 . tl ( ön tampon değişimi ) kz3 : 26 . 000tl ( ) \"\n",
      "\n"
     ]
    },
    {
     "name": "stderr",
     "output_type": "stream",
     "text": [
      "\r",
      " 91%|████████████████████████████████████████████████████████████████████████▊       | 273/300 [06:00<00:30,  1.12s/it]"
     ]
    },
    {
     "name": "stdout",
     "output_type": "stream",
     "text": [
      "\" bmw 5 . 20i premium m sport plus aracımız yetkili bayii bayii çıkışlıdır . aracımız iç dış m sport plus pakettir . aracımız 2004 model olup , 5 . 25 xdrive modelidir . sunroof , xenon far , geri görüş kamerası , park sensörü , yağmur sensörü , far sensörü , park sensörü , xenon far , far yıkama , park sensörü , çift yönlü dijital klima , arka park sensörü , ön arka kol dayama , isofix mevcuttur . \"\n",
      "\n"
     ]
    },
    {
     "name": "stderr",
     "output_type": "stream",
     "text": [
      "\r",
      " 91%|█████████████████████████████████████████████████████████████████████████       | 274/300 [06:01<00:26,  1.03s/it]"
     ]
    },
    {
     "name": "stdout",
     "output_type": "stream",
     "text": [
      "\" sahibinden satılık bmw 5 . 20i premium 170 hp borusan çıkışlı aracımız yetkili servis bakımlıdır . aracımızda kaza darbe değişen yoktur . tramer kaydı yoktur . aracımız da boya ve değişen yoktur . tramer kaydı yoktur . aracın tüm bakımları yapılmıştır . muayenesi kasım 2020 ye kadar vardır .\n",
      "\n"
     ]
    },
    {
     "name": "stderr",
     "output_type": "stream",
     "text": [
      "\r",
      " 92%|█████████████████████████████████████████████████████████████████████████▎      | 275/300 [06:02<00:21,  1.14it/s]"
     ]
    },
    {
     "name": "stdout",
     "output_type": "stream",
     "text": [
      "\" otomotiv 2014 bmw 5 . 25d xdrive m sport plus aracımız borusan çıkışlı olup özel plaka ve expertiz bilgisi resimlerde mevcuttur . aracımız istenilen servise baktırılabilir . yedek anahtarları ve tüm evrakları mevcuttur . özel renk olan aracımız borusan bakımlıdır . bütün bakımları yetkili serviste yapılmıştır . motor yürüyen şanzıman ve çok iyi durumdadır . aracın içi ve dışı sıfır ayarındadır . araç fazlalığından satılıktır . takas için aramayın . o yüzden saçma sapan teklifler ile olur . \"\n",
      "\n"
     ]
    },
    {
     "name": "stderr",
     "output_type": "stream",
     "text": [
      "\r",
      " 92%|█████████████████████████████████████████████████████████████████████████▌      | 276/300 [06:02<00:20,  1.18it/s]"
     ]
    },
    {
     "name": "stdout",
     "output_type": "stream",
     "text": [
      "\" araç ilk sahibinden olup , bütün bakımları yapılmıştır . aracın bütün bakımları yapılmıştır . muayenesi yeni yapılmıştır . tüm bakımları yapılmıştır . aracın motor ve şanzıman sorunsuzdur . aracın tüm bakımları yapılmıştır . motor , şanzıman ve yürüyen aksamı kusursuzdur . lastikleri iyi durumdadır . aracın içi dışı pırıl pırıldır . deforme yoktur . çalışmayan aksamı yoktur . iç döşemeler , sıfır gibi bir çok temiz olup en ufak bir masrafı yoktur . aracın muayenesı yenı yapılmıstır .\n",
      "\n"
     ]
    },
    {
     "name": "stderr",
     "output_type": "stream",
     "text": [
      "\r",
      " 92%|█████████████████████████████████████████████████████████████████████████▊      | 277/300 [06:03<00:19,  1.20it/s]"
     ]
    },
    {
     "name": "stdout",
     "output_type": "stream",
     "text": [
      "\" araç borusan çıkışlı olup , borusan bakımlı , ilk sahibinden , , 5 parça boya , değişen , kaza , boya , darbe , değişen yok , hasar kaydı , boya , değişen yok . \"\n",
      "\n"
     ]
    },
    {
     "name": "stderr",
     "output_type": "stream",
     "text": [
      "\r",
      " 93%|██████████████████████████████████████████████████████████████████████████▏     | 278/300 [06:04<00:15,  1.43it/s]"
     ]
    },
    {
     "name": "stdout",
     "output_type": "stream",
     "text": [
      "\" borusan çıkışlı , borusan bakımlı , ilk sahibinden , , , , , , , , , , , , , , , , , , , , , , , , , , , , , , , , , , , , , , , , , , , , , , , , , , , , , , , , , , , , , , , , , , , , , , , , , , , , , , , , , , , , , , , , , , , , , , , , , , , , , , , , , , , , , , , , , , , , , , , , , , , , , , , , , , , , , , , , , , , , , , , , , , , , , , , , , , , , , , , , , , , , , , , , , , , , , , , , , , , , , , , , , , , , , , , , , , , , , , , , , , , , , , , , , , , , , , , , , , , , , , , , , , , , , , , , , , , , , , , , , , , , , , , , , , , , , , , , , , , , , , , , , , , , , , , , , , , , , , , , , , , , , , , , , ,\n",
      "\n"
     ]
    },
    {
     "name": "stderr",
     "output_type": "stream",
     "text": [
      "\r",
      " 93%|██████████████████████████████████████████████████████████████████████████▍     | 279/300 [06:06<00:28,  1.36s/it]"
     ]
    },
    {
     "name": "stdout",
     "output_type": "stream",
     "text": [
      "\" araç model bilgisi ; bmw 5 . 20i executıve m sport plus aracımız borusan çıkışlı olup bakımları yeni yapılmıştır . araç özellikleri sunroof hayalet gösterge vakumlu kapılar elektrikli direksiyon ısıtma elektrikli bagaj kapağı geri görüş kamerası hafızalı koltuk ısıtmalı koltuklar ön arka park sensörü elektrikli ısıtmalı katlanır aynalar bi xenon far far yıkama far yıkama bluetooth telefon usb aux bluetooth telefon bağlantısı park mesafe kontrol sis farı alaşımlı jantlar vs vs vs vs vs vs vs vs vs vs vs vs vs vs vs vs vs vs vs vs vs vs vs vs vs yoktur\n",
      "\n"
     ]
    },
    {
     "name": "stderr",
     "output_type": "stream",
     "text": [
      "\r",
      " 93%|██████████████████████████████████████████████████████████████████████████▋     | 280/300 [06:08<00:25,  1.26s/it]"
     ]
    },
    {
     "name": "stdout",
     "output_type": "stream",
     "text": [
      "\" 2011 model bmw 5 . 25d xdrive premium borusan çıkışlı hayalet ekran vakumlu kapılar sunroof vakumlu kapılar elektrikli bagaj hayalet ekran vakumlu kapılar elektrikli bagaj hayalet ekran vakumlu kapılar elektrikli bagaj hayalet gösterge vakumlu kapılar elektrikli bagaj hayalet ekran vakumlu kapılar elektrikli bagaj kapağı elektrikli hafızalı koltuk ısıtmalı ön koltuklar geri görüş kamerası elektrikli arka perde elektrikli katlanır aynalar elektrikli arka perde elektrikli arka perde elektrikli katlanır ayna geri görüş kamerası bluetooth usb aux bluetooth telefon hazırlık sis farı alaşımlı jantlar elektrikli arka perde elektrikli katlanır ayna yağmur sensörü far sensörü far yıkama park sensörü fonksiyonel deri direksiyon bluetooth telefon bağlantısı aux ın usb girişi hız sabitleyici bluetooth telefon hazırlık sis farı alaşımlı jantlar ön sis farları ön arka park sensörü far sensörü yağmur sensörü ön arka park sensörü arka kol dayama arka makam perde hava yastıkları yol bilgisayarı ön ve arka kol dayama isofix cruıse control ( hız sabitleme ) ön arka park mesafe kontrol ( park sensörü ) geri görüş kamerası ön ve arka park sensörü far yıkama sis farı çelik jant sis farı çelik jant sis farı çelik jant sis farı çelik jant sis farı isofix ışık paket dış ışık paket ön arka park sensörü sis farı alaşımlı jantlar vs vs vs vs vs vs vs vs vs vs vs vs vs vs vs vs\n",
      "\n"
     ]
    },
    {
     "name": "stderr",
     "output_type": "stream",
     "text": [
      "\r",
      " 94%|██████████████████████████████████████████████████████████████████████████▉     | 281/300 [06:10<00:29,  1.55s/it]"
     ]
    },
    {
     "name": "stdout",
     "output_type": "stream",
     "text": [
      "\" aracımız ilk sahibinden olup , sadece sol arka çamurlukta boya vardır . hasar kaydı yoktur . resimlerde görüldüğü gibi içi ve dışı temiz durumdadır .\n",
      "\n"
     ]
    },
    {
     "name": "stderr",
     "output_type": "stream",
     "text": [
      "\r",
      " 94%|███████████████████████████████████████████████████████████████████████████▏    | 282/300 [06:10<00:21,  1.17s/it]"
     ]
    },
    {
     "name": "stdout",
     "output_type": "stream",
     "text": [
      "\" araç borusan çıkışlı olup , orjinal km dedir . aracın bakımları yeni yapılmıştır . aracın tüm bakımları yapılmıştır . 2 parça boya ve sol arka çamurluk değişmiştir . tramer kaydı yoktur . \"\n",
      "\n"
     ]
    },
    {
     "name": "stderr",
     "output_type": "stream",
     "text": [
      "\r",
      " 94%|███████████████████████████████████████████████████████████████████████████▍    | 283/300 [06:10<00:15,  1.07it/s]"
     ]
    },
    {
     "name": "stdout",
     "output_type": "stream",
     "text": [
      "\" araç borusan çıkışlı olup 2016 yılı 2017 eylül 2018 trafiğe çıkmıştır . kaza , boya , değişen , hasar kaydı yoktur . tüm bakımları yapıldı . borusan da yapılmıştır . araç borusan çıkışlıdır . yedek anahtarı ve kitapçıkları mevcuttur . aracın yedek anahtarı mevcuttur . aracın kasko değeri : 605 . 000 tl dir . ﻿ araç bilgileri ; aracımızın yedek anahtarı ve kitapçıkları mevcuttur . ​ araçta 1 parça boya vardır . tramer kaydı yoktur . \"\n",
      "\n"
     ]
    },
    {
     "name": "stderr",
     "output_type": "stream",
     "text": [
      "\r",
      " 95%|███████████████████████████████████████████████████████████████████████████▋    | 284/300 [06:11<00:14,  1.12it/s]"
     ]
    },
    {
     "name": "stdout",
     "output_type": "stream",
     "text": [
      "\" araç model bilgisi ; bmw 5 . 20i premium vakum kapılar hayalet ekran elektrikli hafızalı koltuk elektrikli direksiyon ön koltuk ısıtma geri görüş kamerası elektrikli hafızalı sürücü koltuğu elektrikli ısıtmalı ön koltuklar çift bölge dijital klima elektrikli arka perde yan protokol perdeleri elektrikli arka perde elektrikli arka perde elektrikli arka perde elektrikli katlanır yan aynalar elektrokrom iç ayna yağmur sensörü far sensörü park mesafe sensörü servotronic direksiyon start & stop anahtarsız çalıştırma ışık paket araç iniş , binişinde aydınlatma ön ve arka park sensörü far ve yağmur sensörü far ve sis farı far yıkama sistemi usb aux girişi abs , asr , esp radyo cd çalar yol bilgisayarı fonksiyonel direksiyon otomatik kararan dikiz aynası otomatik far sensörü yağmur sensörü lastik basınç sensörü fonksiyonel direksiyon elektrikli arka perde elektrikli arka perde abs asr esp cd aux mp3 çalar usb aux giriş abs esp asr dtc yol bilgisayarı yağmur sensörü far sensörü ön arka park sensörü ön arka kol dayama park sensörü elektrikli arka perde sis farı elektrikli camlar elektrikli aynalar elektrikli arka perde çift yönlü dijital klima yol bilgisayarı 4 cam otomatik elektrikli aynalar ön arka kol dayama isofix iç dış ışık paketi ön arka kol dayama otomatik kararan dikiz aynası fonksiyonel deri direksiyon ön arka kol dayama park sensörü yağmur sensörü far sensörü sis farı ısofıx vs vs vs vs vs vs vs vs vs vs vs vs vs vs vs vs vs vs vs vs vs vs vs yoktur\n",
      "\n"
     ]
    },
    {
     "name": "stderr",
     "output_type": "stream",
     "text": [
      "\r",
      " 95%|████████████████████████████████████████████████████████████████████████████    | 285/300 [06:14<00:20,  1.34s/it]"
     ]
    },
    {
     "name": "stdout",
     "output_type": "stream",
     "text": [
      "\" 2012 model bmw 5 . 25d xdrive premium borusan çıkışlı borusan bakımlı 4 bölge dijital klima sunroof bi xenon farlar ön arka park sensörü elektrikli katlanır ayna fonksiyonel deri direksiyon ön ve arka park sensörü geri görüş kamerası bluetooth telefon usb aux cd mp3 çalar usb aux giriş abs esp asr start stop eco start stop anahtarsız çalıştırma sis farı elektrikli arka perde elektrikli katlanır ayna yağmur sensörü far sensörü far yıkama far sensörü ön arka park sensörü yağmur sensörü ön arka park sensörü ön arka kol dayama sis farı çelik jant sis farı usb aux bluetooth telefon bağlantısı cd aux usb bluetooth telefon aux girişi abs asr esp ön arka park sensörü far yıkama sis farı far sensörü yağmur sensörü ön arka park sensörü alaşımlı çelik jant sis farı çelik jant sis farı isofix immobilizer çelik jant sis farı çelik jant sis farı alaşımlı jantlar vs . vs vs vs vs vs vs vs vs vs vs \"\n",
      "\n"
     ]
    },
    {
     "name": "stderr",
     "output_type": "stream",
     "text": [
      "\r",
      " 95%|████████████████████████████████████████████████████████████████████████████▎   | 286/300 [06:15<00:19,  1.42s/it]"
     ]
    },
    {
     "name": "stdout",
     "output_type": "stream",
     "text": [
      "\" 2014 model bmw 5 . 25d xdrive premium borusan çıkışlı sunroof hayalet ekran vakumlu kapılar elektrikli bagaj hayalet ekran vakumlu kapılar elektrikli bagaj hayalet ekran vakumlu kapılar elektrikli bagaj elektrikli direksiyon arka perde elektrikli arka perde elektrikli arka perde yan makam perdeleri arka elektrikli perde ön arka park sensörü elektrikli arka perde yan makam perdeleri arka elektrikli perde yan makam perdeleri elektrikli direksiyon arka makam perde elektrikli arka perde elektrikli arka perde yan makam perdeleri hız sabitleme cruıse control ( hız sabitleme ) ön arka park sensörü yağmur sensörü far sensörü hız sabitleyici elektrikli katlanır aynalar elektrikli arka perde elektrikli arka perde elektrikli yan perdeler cd çalar usb aux bluetooth telefon bağlantısı fonksiyonel deri direksiyon elektrikli arka perde hava yastıkları çift bölgeli dijital klima yol bilgisayarı ön arka park sensörü far sensörü yağmur sensörü arka park sensörü sis farı çelik jant sis farı çelik jant sis farı çelik jant sis farı çelik jant sis farı cd mp3 çalar usb aux giriş cd çalar yol bilgisayarı fonksiyonel direksiyon deri direksiyon hız sabitleyici elektrikli arka perde elektrikli arka perde yan makam perdeleri ön arka park sensörü elektrikli arka perde yan makam perdeleri elektrikli arka perde elektrikli arka perde elektrikli katlanır ayna far sensörü yağmur sensörü park sensörü bluetooth aux usb cd çalar teyp park sensörü fonksiyonel direksiyon bluetooth telefon bağlantısı aux usb girişi bluetooth telefon bağlantısı park mesafe kontrol ön arka jantlar kasko değeri ; 321 . 696 , 00 tl . \"\n",
      "\n"
     ]
    },
    {
     "name": "stderr",
     "output_type": "stream",
     "text": [
      "\r",
      " 96%|████████████████████████████████████████████████████████████████████████████▌   | 287/300 [06:18<00:22,  1.71s/it]"
     ]
    },
    {
     "name": "stdout",
     "output_type": "stream",
     "text": [
      "\" sahibinden satılık bmw 5 . 20i executıve m sport plus : 170 hp dış renk : beyaz iç renk : bej deri koltuk ısıtma geri görüş kamerası ön arka park sensörü hayalet ekran vakumlu kapılar elektrikli bagaj kapağı geri görüş kamerası anahtarsız çalıştırma s . o . s acil durum butonu hız sabitleyici elektrikli katlanır aynalar elektrikli arka perde elektrikli katlanır aynalar çift yönlü dijital klima çift yönlü dijital klima ön arka park mesafe sensörü yağmur sensörü far sensörü far yıkama anahtarsız çalıştırma start stop eco comfort sport sport plus sürüş modları yol bilgisayarı abs esp asr start stop bluetooth aux usb cd çalar yol bilgisayarı fonksiyonel deri direksiyon elektrikli arka perde hava yastıkları ön kol dayama ısofıx 17 inç çelik jantlar orjinal m sport jantlar m tamponlar m jantlar vs vs vs vs vs vs vs vs vs vs yoktur\n",
      "\n"
     ]
    },
    {
     "name": "stderr",
     "output_type": "stream",
     "text": [
      "\r",
      " 96%|████████████████████████████████████████████████████████████████████████████▊   | 288/300 [06:19<00:19,  1.63s/it]"
     ]
    },
    {
     "name": "stdout",
     "output_type": "stream",
     "text": [
      "\" araç temiz ve bakımlıdır . bütün ağır bakımları yapılmıştır .\n",
      "\n"
     ]
    },
    {
     "name": "stderr",
     "output_type": "stream",
     "text": [
      "\r",
      " 96%|█████████████████████████████████████████████████████████████████████████████   | 289/300 [06:19<00:13,  1.19s/it]"
     ]
    },
    {
     "name": "stdout",
     "output_type": "stream",
     "text": [
      "\" bmw 5 . 20i premium m sport plus : aracımız yetkili servis bakımlıdır . orjinal m sport plus modelidir . aracımız yetkili servis bakımlıdır . yedek anahtarı ve kitapçıkları mevcuttur . aracın tüm bakımları yapılmıştır . muayenesi yeni yapılmıştır .\n",
      "\n"
     ]
    },
    {
     "name": "stderr",
     "output_type": "stream",
     "text": [
      "\r",
      " 97%|█████████████████████████████████████████████████████████████████████████████▎  | 290/300 [06:20<00:09,  1.04it/s]"
     ]
    },
    {
     "name": "stdout",
     "output_type": "stream",
     "text": [
      "\" araç borusan çıkışlı olup , borusan bakımlı olup , servis bakımlıdır . bakımları yeni yapılmıştır . aracın 2 . sahibiyim . bakımları yeni yapılmıştır .\n",
      "\n"
     ]
    },
    {
     "name": "stderr",
     "output_type": "stream",
     "text": [
      "\r",
      " 97%|█████████████████████████████████████████████████████████████████████████████▌  | 291/300 [06:20<00:06,  1.33it/s]"
     ]
    },
    {
     "name": "stdout",
     "output_type": "stream",
     "text": [
      "\" araç borusan çıkışlı , borusan bakımlı olup , , ilk sahibinden , yedek anahtarı , servis bakımlı , tüm periyodik bakımları yapılmıştır . aracın tüm bakımları yapılmıştır . aracın tüm bakımları yapılmıştır . aracın yedek anahtarı mevcuttur . araç özellikleri ; sunroof koltuk ısıtma elektrikli direksiyon ön koltuklarda ısıtma elektrikli katlanır ayna ve yan aynalar elektrikli arka perde elektrikli arka perde ve yan makam perdeleri elektrikli direksiyon arka makam perde elektrikli perde yan makam perdeleri elektrikli arka perde katlanır ayna yağmur sensörü far sensörü ön arka park sensörü elektrikli katlanır yan aynalar elektrikli arka perde sis farı çelik jant sis farı isofix vs . vs . vs vs vs vs \"\n",
      "\n"
     ]
    },
    {
     "name": "stderr",
     "output_type": "stream",
     "text": [
      "\r",
      " 97%|█████████████████████████████████████████████████████████████████████████████▊  | 292/300 [06:21<00:06,  1.16it/s]"
     ]
    },
    {
     "name": "stdout",
     "output_type": "stream",
     "text": [
      "\" 2012 model bmw 5 . 25d xdrive m sport plus paket sunroof deri döşeme elektrikli direksiyon elektrikli katlanır ayna bi xenon farlar far yıkama far yağmur sensörü ön arka park sensörü ön arka kol dayama far sensörü yağmur sensörü park sensörü start & stop anahtarsız çalıştırma ışık paket cd çalar usb aux girişi abs asr esp radyo cd çalar teyp merkezi kilit immobilizer isofix yol bilgisayarı 4 cam otomatik aynalar angel mercekli far zenon far sis farı çelik jant sis farı far yıkama far sensörü yağmur sensörü ön arka park sensörü ön arka park sensörü ön arka kol dayama park sensörü elektrikli katlanır ayna vs . vs . vs vs vs vs vs vs vs vs vs vs vs vs vs\n",
      "\n"
     ]
    },
    {
     "name": "stderr",
     "output_type": "stream",
     "text": [
      "\r",
      " 98%|██████████████████████████████████████████████████████████████████████████████▏ | 293/300 [06:22<00:06,  1.00it/s]"
     ]
    },
    {
     "name": "stdout",
     "output_type": "stream",
     "text": [
      "\" araç borusan bayi çıkışlıdır . borusan çıkışlı olup , 2016 yılı trafiğe çıkışlıdır . tüm bakımları borusanda yapılmıştır . araç kapalı garajda muhafaza edilmiştir . aracın 2 . sahibiyim . araç borusan çıkışlıdır . aracın üzerinde kışlık lastikleri vardır . üzerinde kışlık lastikler vardır . yazlık ve kışlık lastikler vardır . aracın tüm bakımları yapılmıştır . aracın tüm bakımları yapılmıştır . aracın tüm bakımları yapılmıştır . masrafsız bir araçtır . alıcısına şimdiden hayırlı olsun .\n",
      "\n"
     ]
    },
    {
     "name": "stderr",
     "output_type": "stream",
     "text": [
      "\r",
      " 98%|██████████████████████████████████████████████████████████████████████████████▍ | 294/300 [06:23<00:05,  1.07it/s]"
     ]
    },
    {
     "name": "stdout",
     "output_type": "stream",
     "text": [
      "\" aracım 2015 model olup 2016 yılı göre km dedir . aracın tüm bakımları yapılmıştır . aracın bütün bakımları yapılmıştır . muayenesi kasım 2018 yılı 1 . ay önce yapılmıştır . motor yağı ve yağ filtresi , hava filtresi , benzin filtresi , fren balataları , disk balata ve diskler , balatalar , fren balataları , yeni yapılmıştır . aracın üzerinde orjinal jant ve lastik verilecektir . aracın tüm bakımları yapılmıştır . araç içi dışı pırıl pırıldır . evrakları tam ötv ödenmiştir .\n",
      "\n"
     ]
    },
    {
     "name": "stderr",
     "output_type": "stream",
     "text": [
      "\r",
      " 98%|██████████████████████████████████████████████████████████████████████████████▋ | 295/300 [06:24<00:04,  1.11it/s]"
     ]
    },
    {
     "name": "stdout",
     "output_type": "stream",
     "text": [
      "\" 2006 model bmw 7 . 40 i long emsalsiz temizlikte servis bakımlı tüm bakımları yetkili serviste yapılmıştır .\n",
      "\n"
     ]
    },
    {
     "name": "stderr",
     "output_type": "stream",
     "text": [
      "\r",
      " 99%|██████████████████████████████████████████████████████████████████████████████▉ | 296/300 [06:24<00:02,  1.42it/s]"
     ]
    },
    {
     "name": "stdout",
     "output_type": "stream",
     "text": [
      "araç hatasız boyasız tramersiz kazasız boyasız değişensiz hasar kayıtsız borusan bakımlı\n",
      "\n"
     ]
    },
    {
     "name": "stderr",
     "output_type": "stream",
     "text": [
      "\r",
      " 99%|███████████████████████████████████████████████████████████████████████████████▏| 297/300 [06:24<00:01,  1.89it/s]"
     ]
    },
    {
     "name": "stdout",
     "output_type": "stream",
     "text": [
      "araç borusan çıkışlı olup yeni yapılmıştır .\n",
      "\n",
      "\" sahibinden satılık bmw 5 . 20i premium bayi çıkışlı borusan bakımlı hatasız boyasız hasar kayıtsız borusan çıkışlı sunroof bej deri döşeme elektrikli hafızalı koltuk elektrikli arka perde elektrikli arka perde geri görüş kamerası bluetooth telefon bağlantısı geri görüş kamerası bluetooth telefon bağlantısı auto hold elektrikli park freni yokuş kalkış desteği elektrikli katlanır yan aynalar elektrokrom iç ayna yağmur sensörü far sensörü ön ve arka park mesafe sensörü yağmur sensörü far sensörü otomatik kararan dikiz aynası far yıkama çift bölgeli dijital klima start stop bluetooth telefon bağlantısı usb aux girişi bluetooth telefon bağlantısı fonksiyonel deri direksiyon arka kol dayama ısofıx 17 alaşım jantlar sis farı\n",
      "\n"
     ]
    },
    {
     "name": "stderr",
     "output_type": "stream",
     "text": [
      "\r",
      "100%|███████████████████████████████████████████████████████████████████████████████▋| 299/300 [06:25<00:00,  1.84it/s]"
     ]
    },
    {
     "name": "stdout",
     "output_type": "stream",
     "text": [
      "\" borusan çıkışlı , borusan bakımlı , hayalet gösterge , vakumlu kapılar , elektrikli bagaj , hayalet gösterge , vakumlu kapılar , elektrikli bagaj , hafızalı koltuk , elektrikli bagaj , hayalet ekran , vakumlu kapılar , elektrikli hafızalı direksiyon , elektrikli direksiyon , ısıtmalı hafızalı koltuk , koltuk ısıtma , elektrikli hafızalı koltuklar , elektrikli direksiyon , hafızalı sürücü koltuğu , elektrikli ön koltuklar , ısıtmalı ön koltuklar , hafızalı sürücü koltuğu , elektrikli , ısıtmalı , hafızalı , katlanır , ısıtmalı ön koltuklar , elektrikli katlanır ayna , elektrokrom iç ve dış aynalar , far yıkama , bluetooth , aux , usb , girişi , cd çalar , anahtarsız çalıştırma , start & stop , stop , anahtarsız çalıştırma sis farı , yağmur sensörü , far sensörü , kararan iç dikiz aynası abs , asr , esp , radyo cd çalar , yol bilgisayarı , fonksiyonel deri direksiyon , alarm , ımmobılızer , elektrikli , ısıtmalı aynalar , elektrikli ön ve arka camlar , uzaktan kumandalı merkezi kilit , ön kol dayama , arka kol dayama , isofix mevcuttur . hasar kaydı yoktur . \"\n",
      "\n"
     ]
    },
    {
     "name": "stderr",
     "output_type": "stream",
     "text": [
      "100%|████████████████████████████████████████████████████████████████████████████████| 300/300 [06:27<00:00,  1.06it/s]\n"
     ]
    }
   ],
   "source": [
    "textgen.generate(300, temperature=0.4)\n"
   ]
  },
  {
   "cell_type": "code",
   "execution_count": 18,
   "metadata": {
    "collapsed": true
   },
   "outputs": [
    {
     "name": "stderr",
     "output_type": "stream",
     "text": [
      "\r",
      "  0%|                                                                                            | 0/3 [00:00<?, ?it/s]"
     ]
    },
    {
     "name": "stdout",
     "output_type": "stream",
     "text": [
      "bmw 3 20 20d li̇\n",
      "\n",
      "2014 bmw \" hatasiz boyasiz en deri̇ hi̇z gülan\n",
      "\n"
     ]
    },
    {
     "name": "stderr",
     "output_type": "stream",
     "text": [
      "\r",
      " 67%|████████████████████████████████████████████████████████                            | 2/3 [00:00<00:00, 10.86it/s]"
     ]
    },
    {
     "name": "stdout",
     "output_type": "stream",
     "text": [
      "emsalsiz sanroof askeri altı hatasiz aci̇lll si̇tede boya led 143 hayalet paket\n",
      "\n"
     ]
    },
    {
     "name": "stderr",
     "output_type": "stream",
     "text": [
      "100%|████████████████████████████████████████████████████████████████████████████████████| 3/3 [00:00<00:00,  9.13it/s]\n"
     ]
    }
   ],
   "source": [
    "textgen.generate(3, temperature=1.0)"
   ]
  },
  {
   "cell_type": "code",
   "execution_count": null,
   "metadata": {},
   "outputs": [],
   "source": [
    "textgen.generate(3, temperature=1.0)"
   ]
  },
  {
   "cell_type": "code",
   "execution_count": null,
   "metadata": {},
   "outputs": [],
   "source": []
  }
 ],
 "metadata": {
  "kernelspec": {
   "display_name": "Python 3",
   "language": "python",
   "name": "python3"
  },
  "language_info": {
   "codemirror_mode": {
    "name": "ipython",
    "version": 3
   },
   "file_extension": ".py",
   "mimetype": "text/x-python",
   "name": "python",
   "nbconvert_exporter": "python",
   "pygments_lexer": "ipython3",
   "version": "3.7.1"
  }
 },
 "nbformat": 4,
 "nbformat_minor": 2
}
